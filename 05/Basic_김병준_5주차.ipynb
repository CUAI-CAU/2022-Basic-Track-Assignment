{
 "cells": [
  {
   "cell_type": "markdown",
   "id": "6383d344",
   "metadata": {},
   "source": [
    "## Chapter 5과제"
   ]
  },
  {
   "cell_type": "code",
   "execution_count": 2,
   "id": "c179ddf0",
   "metadata": {},
   "outputs": [],
   "source": [
    "import numpy as np\n",
    "from sklearn import datasets\n",
    "from sklearn.pipeline import Pipeline\n",
    "from sklearn.preprocessing import StandardScaler\n",
    "from sklearn.svm import LinearSVC"
   ]
  },
  {
   "cell_type": "markdown",
   "id": "dc747ecb",
   "metadata": {},
   "source": [
    "Iris Virginia 품종을 분류하기 위한 선형 SVM 모델을 훈련시킨다."
   ]
  },
  {
   "cell_type": "code",
   "execution_count": 7,
   "id": "041a24d3",
   "metadata": {},
   "outputs": [],
   "source": [
    "iris = datasets.load_iris()\n",
    "X = iris[\"data\"][:, (2,3)]\n",
    "y = (iris[\"target\"] == 2).astype(np.float64)\n",
    "\n",
    "svm_clf = Pipeline([\n",
    "    (\"scalaer\", StandardScaler()),\n",
    "    (\"linear_svc\", LinearSVC(C=1, loss=\"hinge\")),\n",
    "])"
   ]
  },
  {
   "cell_type": "code",
   "execution_count": 8,
   "id": "e6a7f762",
   "metadata": {},
   "outputs": [
    {
     "data": {
      "text/plain": [
       "Pipeline(steps=[('scalaer', StandardScaler()),\n",
       "                ('linear_svc', LinearSVC(C=1, loss='hinge'))])"
      ]
     },
     "execution_count": 8,
     "metadata": {},
     "output_type": "execute_result"
    }
   ],
   "source": [
    "svm_clf.fit(X,y)"
   ]
  },
  {
   "cell_type": "code",
   "execution_count": 10,
   "id": "937f4575",
   "metadata": {},
   "outputs": [
    {
     "data": {
      "text/plain": [
       "array([1.])"
      ]
     },
     "execution_count": 10,
     "metadata": {},
     "output_type": "execute_result"
    }
   ],
   "source": [
    "svm_clf.predict([[5.5,1.7]])"
   ]
  },
  {
   "cell_type": "markdown",
   "id": "bf39f885",
   "metadata": {},
   "source": [
    "StandardScaler를 사용해 스케일링을 진행하고 LinearSVC를 적용한 파이프라인을 svm_clf로 정의한 후 데이터를 하나 넣어 테스트해본 상태"
   ]
  },
  {
   "cell_type": "markdown",
   "id": "51b27498",
   "metadata": {},
   "source": [
    "### 비선형 SVM 분류\n",
    "위의 코드는 선형으로 데이터가 속하는지 아닌지 확인하는 것이었고 4장 다항회귀에서 사용한 PolynomialFeatures 변환기와 StandardScaler, LinearSVC를 연결한 Pipeline을 만들어 moons 데이터셋에 적용해본다"
   ]
  },
  {
   "cell_type": "code",
   "execution_count": 11,
   "id": "8452054d",
   "metadata": {},
   "outputs": [],
   "source": [
    "from sklearn.datasets import make_moons\n",
    "from sklearn.pipeline import Pipeline\n",
    "from sklearn.preprocessing import PolynomialFeatures"
   ]
  },
  {
   "cell_type": "code",
   "execution_count": 14,
   "id": "4c632093",
   "metadata": {},
   "outputs": [],
   "source": [
    "X,y = make_moons(n_samples=100, noise=0.15)\n",
    "polynomial_svm_clf = Pipeline([\n",
    "    (\"poly_features\", PolynomialFeatures(degree=3)),\n",
    "    (\"scaler\", StandardScaler()),\n",
    "    (\"svm_clf\", LinearSVC(C=10, loss=\"hinge\"))\n",
    "])"
   ]
  },
  {
   "cell_type": "code",
   "execution_count": 15,
   "id": "d309b3a3",
   "metadata": {},
   "outputs": [
    {
     "name": "stderr",
     "output_type": "stream",
     "text": [
      "/Users/byungjunkim/miniforge3/envs/tf_py3.9/lib/python3.9/site-packages/sklearn/svm/_base.py:1206: ConvergenceWarning: Liblinear failed to converge, increase the number of iterations.\n",
      "  warnings.warn(\n"
     ]
    },
    {
     "data": {
      "text/plain": [
       "Pipeline(steps=[('poly_features', PolynomialFeatures(degree=3)),\n",
       "                ('scaler', StandardScaler()),\n",
       "                ('svm_clf', LinearSVC(C=10, loss='hinge'))])"
      ]
     },
     "execution_count": 15,
     "metadata": {},
     "output_type": "execute_result"
    }
   ],
   "source": [
    "polynomial_svm_clf.fit(X,y)"
   ]
  },
  {
   "cell_type": "markdown",
   "id": "8b4d7dca",
   "metadata": {},
   "source": [
    "### 다항식 커널\n",
    "어떤 한 특성을 가지고 분류를 하고 싶을 때 (한 특성이니까 한 축에 대해 점들이 쭉 일자로 나열돼있을 것) 선형 분류를 사용할 수 없을 것이다. 따라서 새로운 특성을 추가하는 등의 방법을 사용해 분류를 가능하게 할 수 있다. 꼭 한 특성만 있을 때만 사용하는 것은 아니다. 다만 특성의 수가 많거나 높은 차수의 다항식을 사용하면 모델의 연산이 복잡해진다. 단, SVM을 사용할땐 커널트릭을 사용하여 이를 해결할 수 있다."
   ]
  },
  {
   "cell_type": "code",
   "execution_count": 16,
   "id": "798ad5fc",
   "metadata": {},
   "outputs": [],
   "source": [
    "from sklearn.svm import SVC\n",
    "poly_kernel_svm_clf = Pipeline([\n",
    "    (\"scaler\", StandardScaler()),\n",
    "    (\"svm_clf\", SVC(kernel=\"poly\", degree=3, coef0=1, C=5))\n",
    "])"
   ]
  },
  {
   "cell_type": "code",
   "execution_count": 17,
   "id": "5139b97e",
   "metadata": {},
   "outputs": [
    {
     "data": {
      "text/plain": [
       "Pipeline(steps=[('scaler', StandardScaler()),\n",
       "                ('svm_clf', SVC(C=5, coef0=1, kernel='poly'))])"
      ]
     },
     "execution_count": 17,
     "metadata": {},
     "output_type": "execute_result"
    }
   ],
   "source": [
    "poly_kernel_svm_clf.fit(X,y)"
   ]
  },
  {
   "cell_type": "markdown",
   "id": "427a8a5c",
   "metadata": {},
   "source": [
    "### RBF커널을 사용한 SVC"
   ]
  },
  {
   "cell_type": "code",
   "execution_count": 18,
   "id": "6131999b",
   "metadata": {},
   "outputs": [],
   "source": [
    "rbf_kernel_svm_clf = Pipeline([\n",
    "    (\"scaler\", StandardScaler()),\n",
    "    (\"svm_clf\", SVC(kernel=\"rbf\", gamma=5, C=0.001))\n",
    "])"
   ]
  },
  {
   "cell_type": "code",
   "execution_count": 19,
   "id": "231e6849",
   "metadata": {},
   "outputs": [
    {
     "data": {
      "text/plain": [
       "Pipeline(steps=[('scaler', StandardScaler()),\n",
       "                ('svm_clf', SVC(C=0.001, gamma=5))])"
      ]
     },
     "execution_count": 19,
     "metadata": {},
     "output_type": "execute_result"
    }
   ],
   "source": [
    "rbf_kernel_svm_clf.fit(X,y)"
   ]
  },
  {
   "cell_type": "markdown",
   "id": "35afcd2d",
   "metadata": {},
   "source": [
    "### SVM 회귀\n",
    "SVM은 다양한 목적에 사용할 수 있다. 이 다양한 목적 중 회귀도 포함되어있고, 이를 사용해보려 한다. 회귀는 분류와 상반되게 제한된 마진 오류 내에서 가능한 많은 샘플이 도로(마진)내에 있도록 하는 것이다."
   ]
  },
  {
   "cell_type": "code",
   "execution_count": 20,
   "id": "c91d6a0f",
   "metadata": {},
   "outputs": [],
   "source": [
    "from sklearn.svm import LinearSVR\n",
    "svm_reg = LinearSVR(epsilon=1.5)"
   ]
  },
  {
   "cell_type": "code",
   "execution_count": 21,
   "id": "6fd028d9",
   "metadata": {},
   "outputs": [
    {
     "data": {
      "text/plain": [
       "LinearSVR(epsilon=1.5)"
      ]
     },
     "execution_count": 21,
     "metadata": {},
     "output_type": "execute_result"
    }
   ],
   "source": [
    "svm_reg.fit(X,y)"
   ]
  },
  {
   "cell_type": "markdown",
   "id": "f4b5f41a",
   "metadata": {},
   "source": [
    "위 코드는 선형SVR을 사용해 회귀를 한 것이고, 비선형 회귀 작업을 위해선 커널 SVM모델을 활용한다. SVR의 kernel = \"poly\"를 추가한다."
   ]
  },
  {
   "cell_type": "code",
   "execution_count": 22,
   "id": "09bb08b9",
   "metadata": {},
   "outputs": [],
   "source": [
    "from sklearn.svm import SVR\n",
    "svm_poly_reg = SVR(kernel=\"poly\", degree=2, C=100, epsilon=0.1)"
   ]
  },
  {
   "cell_type": "code",
   "execution_count": 23,
   "id": "0fb750eb",
   "metadata": {},
   "outputs": [
    {
     "data": {
      "text/plain": [
       "SVR(C=100, degree=2, kernel='poly')"
      ]
     },
     "execution_count": 23,
     "metadata": {},
     "output_type": "execute_result"
    }
   ],
   "source": [
    "svm_poly_reg.fit(X,y)"
   ]
  },
  {
   "cell_type": "code",
   "execution_count": null,
   "id": "bd8b9b0e",
   "metadata": {},
   "outputs": [],
   "source": []
  }
 ],
 "metadata": {
  "kernelspec": {
   "display_name": "tf_py3.9",
   "language": "python",
   "name": "tf_py3.9"
  },
  "language_info": {
   "codemirror_mode": {
    "name": "ipython",
    "version": 3
   },
   "file_extension": ".py",
   "mimetype": "text/x-python",
   "name": "python",
   "nbconvert_exporter": "python",
   "pygments_lexer": "ipython3",
   "version": "3.9.10"
  }
 },
 "nbformat": 4,
 "nbformat_minor": 5
}
