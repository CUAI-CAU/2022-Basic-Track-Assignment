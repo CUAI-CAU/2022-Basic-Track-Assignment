{
 "cells": [
  {
   "cell_type": "markdown",
   "id": "e9c6487f",
   "metadata": {},
   "source": [
    "# 3.1 MNIST\n"
   ]
  },
  {
   "cell_type": "code",
   "execution_count": 58,
   "id": "191aca2b",
   "metadata": {},
   "outputs": [],
   "source": [
    "# 숫자 그림을 위한 추가 함수\n",
    "def plot_digits(instances, images_per_row=10, **options):\n",
    "    size = 28\n",
    "    images_per_row = min(len(instances), images_per_row)\n",
    "    # n_rows = ceil(len(instances) / images_per_row) 와 동일합니다:\n",
    "    n_rows = (len(instances) - 1) // images_per_row + 1\n",
    "\n",
    "    # 필요하면 그리드 끝을 채우기 위해 빈 이미지를 추가합니다:\n",
    "    n_empty = n_rows * images_per_row - len(instances)\n",
    "    padded_instances = np.concatenate([instances, np.zeros((n_empty, size * size))], axis=0)\n",
    "\n",
    "    # 배열의 크기를 바꾸어 28×28 이미지를 담은 그리드로 구성합니다:\n",
    "    image_grid = padded_instances.reshape((n_rows, images_per_row, size, size))\n",
    "\n",
    "    # 축 0(이미지 그리드의 수직축)과 2(이미지의 수직축)를 합치고 축 1과 3(두 수평축)을 합칩니다. \n",
    "    # 먼저 transpose()를 사용해 결합하려는 축을 옆으로 이동한 다음 합칩니다:\n",
    "    big_image = image_grid.transpose(0, 2, 1, 3).reshape(n_rows * size,\n",
    "                                                         images_per_row * size)\n",
    "    # 하나의 큰 이미지를 얻었으므로 출력하면 됩니다:\n",
    "    plt.imshow(big_image, cmap = mpl.cm.binary, **options)\n",
    "    plt.axis(\"off\")"
   ]
  },
  {
   "cell_type": "code",
   "execution_count": 2,
   "id": "d5901fec",
   "metadata": {},
   "outputs": [
    {
     "data": {
      "text/plain": [
       "dict_keys(['data', 'target', 'frame', 'categories', 'feature_names', 'target_names', 'DESCR', 'details', 'url'])"
      ]
     },
     "execution_count": 2,
     "metadata": {},
     "output_type": "execute_result"
    }
   ],
   "source": [
    "from sklearn.datasets import fetch_openml\n",
    "mnist = fetch_openml('mnist_784', version=1, as_frame=False)\n",
    "mnist.keys()"
   ]
  },
  {
   "cell_type": "markdown",
   "id": "94ac53c6",
   "metadata": {},
   "source": [
    "* 사이킷런의 데이터셋의 딕셔너리 구조  \n",
    "    * 데이터 셋을 설명하는 DESCR키  \n",
    "    * 샘플이 하나의 행, 특성이 하나의 열로 구성된 배열을 가진 data키  \n",
    "    * 레이블 배열을 담은 target키  "
   ]
  },
  {
   "cell_type": "code",
   "execution_count": 3,
   "id": "8d9c1a83",
   "metadata": {},
   "outputs": [
    {
     "data": {
      "text/plain": [
       "(70000, 784)"
      ]
     },
     "execution_count": 3,
     "metadata": {},
     "output_type": "execute_result"
    }
   ],
   "source": [
    "X, y = mnist[\"data\"], mnist[\"target\"]\n",
    "X.shape"
   ]
  },
  {
   "cell_type": "code",
   "execution_count": 4,
   "id": "544f1ac0",
   "metadata": {},
   "outputs": [
    {
     "data": {
      "text/plain": [
       "(70000,)"
      ]
     },
     "execution_count": 4,
     "metadata": {},
     "output_type": "execute_result"
    }
   ],
   "source": [
    "y.shape"
   ]
  },
  {
   "cell_type": "code",
   "execution_count": 5,
   "id": "63c8bdaf",
   "metadata": {},
   "outputs": [
    {
     "data": {
      "image/png": "[encoded data removed]",
      "text/plain": [
       "<Figure size 432x288 with 1 Axes>"
      ]
     },
     "metadata": {
      "needs_background": "light"
     },
     "output_type": "display_data"
    }
   ],
   "source": [
    "import matplotlib as mpl\n",
    "import matplotlib.pyplot as plt\n",
    "\n",
    "some_digit = X[0] #X의 0행, 28*28이므로 784의 특성(열)\n",
    "some_digit_image = some_digit.reshape(28, 28) #784의 열을 28 x 28로 reshape한다\n",
    "\n",
    "plt.imshow(some_digit_image, cmap=mpl.cm.binary) #mlp라이브러리의 cm모듈의 binary\n",
    "plt.axis(\"off\") # axis를 제거한다\n",
    "\n",
    "plt.show()"
   ]
  },
  {
   "cell_type": "code",
   "execution_count": 6,
   "id": "c3beb960",
   "metadata": {},
   "outputs": [
    {
     "data": {
      "text/plain": [
       "'5'"
      ]
     },
     "execution_count": 6,
     "metadata": {},
     "output_type": "execute_result"
    }
   ],
   "source": [
    "y[0] #실제 레이블 확인하기"
   ]
  },
  {
   "cell_type": "markdown",
   "id": "4029ef0a",
   "metadata": {},
   "source": [
    "---  \n",
    "* 레이블은 문자열이다. 대부분의 레이블은 숫자를 기대하므로 y를 정수로 변환한다."
   ]
  },
  {
   "cell_type": "code",
   "execution_count": 7,
   "id": "f9ac0a51",
   "metadata": {},
   "outputs": [],
   "source": [
    "import numpy as np\n",
    "y = y.astype(np.uint8)"
   ]
  },
  {
   "cell_type": "markdown",
   "id": "885e0334",
   "metadata": {},
   "source": [
    "##### MNIST 데이터셋은 이미 훈련세트(앞쪽 60,000개)와 테스트세트(뒤쪽 10,000개)로 나누어져있다.  \n",
    "    * 이 데이터셋은 훈련세트를 섞어야 함. 많은 비슷한 샘플이 연이어 나타나면 성능이 나빠진다.  \n",
    "    * (MNIST훈련세트는 이미 섞여 있음)  \n",
    "#### 어떤 알고리즘은 훈련 샘플을 섞지 않아야 하는 경우도 있다  \n",
    "      * 시계열 데이터(주식, 날씨 등)"
   ]
  },
  {
   "cell_type": "code",
   "execution_count": 8,
   "id": "c6bd86fe",
   "metadata": {},
   "outputs": [],
   "source": [
    "X_train, X_test, y_train, y_test = X[:60000], X[60000:], y[:60000], y[60000:]"
   ]
  },
  {
   "cell_type": "markdown",
   "id": "a312742c",
   "metadata": {},
   "source": [
    "# 3.2 이진 분류기(binary classifier)  \n",
    "* 5인지 아닌지 분류하는 분류기를 만들어보자"
   ]
  },
  {
   "cell_type": "code",
   "execution_count": 9,
   "id": "cabee89d",
   "metadata": {},
   "outputs": [],
   "source": [
    "y_train_5 = (y_train == 5)\n",
    "y_test_5 = (y_test == 5)"
   ]
  },
  {
   "cell_type": "code",
   "execution_count": 10,
   "id": "575da7fd",
   "metadata": {},
   "outputs": [
    {
     "data": {
      "text/plain": [
       "SGDClassifier(random_state=42)"
      ]
     },
     "execution_count": 10,
     "metadata": {},
     "output_type": "execute_result"
    }
   ],
   "source": [
    "from sklearn.linear_model import SGDClassifier\n",
    "\n",
    "sgd_clf = SGDClassifier(max_iter=1000, tol=1e-3, random_state=42)\n",
    "#max_iter => 계산에 사용할 작업 수, default = 1000이다\n",
    "#tol => 정밀도\n",
    "#random_state => 난수 seed 지정\n",
    "#learning rate도 설정가능하다. \n",
    "sgd_clf.fit(X_train, y_train_5)"
   ]
  },
  {
   "cell_type": "code",
   "execution_count": 11,
   "id": "bc2e0562",
   "metadata": {},
   "outputs": [
    {
     "data": {
      "text/plain": [
       "array([ True])"
      ]
     },
     "execution_count": 11,
     "metadata": {},
     "output_type": "execute_result"
    }
   ],
   "source": [
    "sgd_clf.predict([some_digit])"
   ]
  },
  {
   "cell_type": "markdown",
   "id": "2d0fc4c8",
   "metadata": {},
   "source": [
    "# 3.3 성능 측정"
   ]
  },
  {
   "cell_type": "code",
   "execution_count": 12,
   "id": "c9812157",
   "metadata": {},
   "outputs": [
    {
     "data": {
      "text/plain": [
       "array([0.95035, 0.96035, 0.9604 ])"
      ]
     },
     "execution_count": 12,
     "metadata": {},
     "output_type": "execute_result"
    }
   ],
   "source": [
    "from sklearn.model_selection import cross_val_score\n",
    "cross_val_score(sgd_clf, X_train, y_train_5, cv=3, scoring=\"accuracy\")"
   ]
  },
  {
   "cell_type": "markdown",
   "id": "98baef9a",
   "metadata": {},
   "source": [
    "### cross_val_score()의 주요 파라미터들,,  \n",
    "    * estimator => 분류인지 회귀인지 알려줌(여기선 sgd_clf => 분류임을 알려줌)  \n",
    "    * X => 데이터 세트  \n",
    "    * y => 레이블 세트\n",
    "    * cv => 교차 검증 폴드 수  \n",
    "    * scoring => 예측 성능 평가 지표의 기준(여기선 accuracy)"
   ]
  },
  {
   "cell_type": "markdown",
   "id": "6b31f5e7",
   "metadata": {},
   "source": [
    "### 교차 검증을 사용한 정확도 측정"
   ]
  },
  {
   "cell_type": "code",
   "execution_count": 13,
   "id": "76840282",
   "metadata": {},
   "outputs": [
    {
     "name": "stdout",
     "output_type": "stream",
     "text": [
      "0.9669\n",
      "0.91625\n",
      "0.96785\n"
     ]
    }
   ],
   "source": [
    "from sklearn.model_selection import StratifiedKFold\n",
    "from sklearn.base import clone\n",
    "\n",
    "# shuffle=False가 기본값이기 때문에 random_state를 삭제하던지 shuffle=True로 지정하라는 경고가 발생합니다.\n",
    "# 0.24버전부터는 에러가 발생할 예정이므로 향후 버전을 위해 shuffle=True을 지정합니다.\n",
    "skfolds = StratifiedKFold(n_splits=3, random_state=42, shuffle=True)\n",
    "\n",
    "#StratifiedKFold는 class 비율을 고려해서 fold를 나눈다(계층적 샘플링을 수행)\n",
    "#\n",
    "\n",
    "for train_index, test_index in skfolds.split(X_train, y_train_5):\n",
    "    clone_clf = clone(sgd_clf) #(sgd_clf)를 복제한다 \n",
    "    X_train_folds = X_train[train_index]\n",
    "    y_train_folds = y_train_5[train_index]\n",
    "    X_test_fold = X_train[test_index]\n",
    "    y_test_fold = y_train_5[test_index]\n",
    "\n",
    "    clone_clf.fit(X_train_folds, y_train_folds)\n",
    "    y_pred = clone_clf.predict(X_test_fold)\n",
    "    n_correct = sum(y_pred == y_test_fold)\n",
    "    print(n_correct / len(y_pred))"
   ]
  },
  {
   "cell_type": "code",
   "execution_count": 14,
   "id": "ae62e44e",
   "metadata": {},
   "outputs": [],
   "source": [
    "#모든 이미지를 5아님 클래스로 분류\n",
    "from sklearn.base import BaseEstimator\n",
    "class Never5Classifier(BaseEstimator):\n",
    "    def fit(self, X, y=None):\n",
    "        pass\n",
    "    def predict(self, X):\n",
    "        return np.zeros((len(X), 1), dtype=bool) #X의 길이의 영벡터 생성(shape -> (len(x), 1))"
   ]
  },
  {
   "cell_type": "code",
   "execution_count": 15,
   "id": "c2741668",
   "metadata": {},
   "outputs": [
    {
     "data": {
      "text/plain": [
       "array([0.91125, 0.90855, 0.90915])"
      ]
     },
     "execution_count": 15,
     "metadata": {},
     "output_type": "execute_result"
    }
   ],
   "source": [
    "never_5_clf = Never5Classifier() #객체 생성\n",
    "cross_val_score(never_5_clf, X_train, y_train_5, cv=3, scoring=\"accuracy\")\n",
    "#estimator = never_5_clf --> 분류 \n",
    "#데이터셋(레이블X) -> X_train\n",
    "#레이블 -> y_train_5"
   ]
  },
  {
   "cell_type": "markdown",
   "id": "175567f0",
   "metadata": {},
   "source": [
    "## 3.3.2 오차행렬"
   ]
  },
  {
   "cell_type": "code",
   "execution_count": 16,
   "id": "f28442f1",
   "metadata": {},
   "outputs": [],
   "source": [
    "from sklearn.model_selection import cross_val_predict\n",
    "\n",
    "y_train_pred = cross_val_predict(sgd_clf, X_train, y_train_5, cv=3)\n",
    "\n",
    "#여기서도 test세트는 사용하면 안됨!! -> 테스트 셋은 프로젝트 맨 마지막에 사용!"
   ]
  },
  {
   "cell_type": "markdown",
   "id": "898501f8",
   "metadata": {},
   "source": [
    "- cross_val_predict 함수는 cross_val_score와 비슷한 인터페이스를 제공하지만  \n",
    "  훈련 데이터셋의 각 샘플이 테스트 폴드가 되었을 때 만들어진 예측을 반환합니다.<br><br> \n",
    "   \n",
    "- 따라서 cross_val_predict 함수의 결과를 사용하여 모델의 성능 (예를 들어 정확도)을 계산하면          cross_val_score 함수의 결과와 다르며 바람직한 일반화 성능 추정이 아닙니다. <br><br>   \n",
    "- cross_val_predict()는 메서드를 지정할 수 있다.\n",
    "     - method= 'predict_proba' => 예측 확률을 반환"
   ]
  },
  {
   "cell_type": "code",
   "execution_count": 17,
   "id": "c4474052",
   "metadata": {},
   "outputs": [
    {
     "data": {
      "text/plain": [
       "array([[53892,   687],\n",
       "       [ 1891,  3530]], dtype=int64)"
      ]
     },
     "execution_count": 17,
     "metadata": {},
     "output_type": "execute_result"
    }
   ],
   "source": [
    "from sklearn.metrics import confusion_matrix\n",
    "\n",
    "confusion_matrix(y_train_5, y_train_pred)"
   ]
  },
  {
   "cell_type": "markdown",
   "id": "d102101f",
   "metadata": {},
   "source": [
    "- 위 오차행렬의 <span style=\"color:red\">행</span>은 <span style=\"color:red\">실제 클래스</span>, <span style=\"color:blue\">열</span>은 <span style=\"color:blue\">예측 클래스</span>이다.  \n",
    "- (1, 1): <span style=\"color:green\">TN(True negative)</span>  \n",
    "    - 실제로 아닌걸 아니라고 한 경우<br><br>\n",
    "- (1, 2): <span style=\"color:green\">FP(Fasle positive)</span>  \n",
    "    - 실제로 아닌걸 맞다고 한 경우<br><br>\n",
    "- (2, 1): <span style=\"color:green\">FN(False negative)</span>  \n",
    "    - 실제로 맞는걸 아니라고 한 경우<br><br>  \n",
    "- (2, 2): <span style=\"color:green\">TP(True positive)</span>  \n",
    "    - 실제로 맞는걸 맞다고 한 경우<br><br>"
   ]
  },
  {
   "cell_type": "code",
   "execution_count": 18,
   "id": "6d7aff84",
   "metadata": {},
   "outputs": [
    {
     "data": {
      "text/plain": [
       "array([[54579,     0],\n",
       "       [    0,  5421]], dtype=int64)"
      ]
     },
     "execution_count": 18,
     "metadata": {},
     "output_type": "execute_result"
    }
   ],
   "source": [
    "y_train_perfect_predictions = y_train_5  # 완벽한 분류기일 경우\n",
    "\n",
    "confusion_matrix(y_train_5, y_train_perfect_predictions)"
   ]
  },
  {
   "cell_type": "markdown",
   "id": "c8294d6a",
   "metadata": {},
   "source": [
    "### 정밀도(precision)\n",
    "정밀도 = ${TP \\over TP + FP}$  \n",
    "- TP: 진짜 양성 수  \n",
    "-  FP: 거짓 양성 수<br><br>  \n",
    "\n",
    "\n",
    "### 재현율(recall)  \n",
    "재현율 = ${TP \\over TP + FN}$\n",
    "- FN: 거짓 음성 수  \n",
    "- 재현율(recall)은 민감도(sensitivity) 또는 진짜 양성 비율(true positive rate, TPR)이라고도 한다.  \n",
    "- 전체 양성을 고려한다."
   ]
  },
  {
   "cell_type": "markdown",
   "id": "f043f24f",
   "metadata": {},
   "source": [
    "## 3.3.3 정밀도와 재현율"
   ]
  },
  {
   "cell_type": "code",
   "execution_count": 19,
   "id": "efc4d5b2",
   "metadata": {},
   "outputs": [
    {
     "data": {
      "text/plain": [
       "0.8370879772350012"
      ]
     },
     "execution_count": 19,
     "metadata": {},
     "output_type": "execute_result"
    }
   ],
   "source": [
    "from sklearn.metrics import precision_score, recall_score\n",
    "\n",
    "precision_score(y_train_5, y_train_pred)"
   ]
  },
  {
   "cell_type": "code",
   "execution_count": 20,
   "id": "86ae4113",
   "metadata": {},
   "outputs": [
    {
     "data": {
      "text/plain": [
       "0.6511713705958311"
      ]
     },
     "execution_count": 20,
     "metadata": {},
     "output_type": "execute_result"
    }
   ],
   "source": [
    "recall_score(y_train_5, y_train_pred)"
   ]
  },
  {
   "cell_type": "markdown",
   "id": "6f8ce8a6",
   "metadata": {},
   "source": [
    "### $F_1$ score  \n",
    "- <p style=\"font-size:20px\"> $F_1$ score = ${2 \\over {1 \\over 정밀도} + {1 \\over 재현율}}  \n",
    "      = 2 x {정밀도 x 재현율 \\over 정밀도 + 재현율}  \n",
    "      = {TP \\over {TP +{FN + FP \\over 2}}}$ </p>  \n",
    "- 즉, <span style=\"color:blue\">$F_1$ 점수는 정밀도와 재현율의 조화평균이다.</span>"
   ]
  },
  {
   "cell_type": "code",
   "execution_count": 21,
   "id": "1bb9ecac",
   "metadata": {},
   "outputs": [
    {
     "data": {
      "text/plain": [
       "0.7325171197343846"
      ]
     },
     "execution_count": 21,
     "metadata": {},
     "output_type": "execute_result"
    }
   ],
   "source": [
    "from sklearn.metrics import f1_score\n",
    "\n",
    "f1_score(y_train_5, y_train_pred)\n",
    "#정밀도와 재현율은 트레이드오프 관계에 있다. 즉 둘다 높일 수는 없음."
   ]
  },
  {
   "cell_type": "markdown",
   "id": "14ad56cf",
   "metadata": {},
   "source": [
    "## 3.3.4 정밀도/재현율 트레이드오프"
   ]
  },
  {
   "cell_type": "code",
   "execution_count": 22,
   "id": "3f75bd4d",
   "metadata": {},
   "outputs": [
    {
     "data": {
      "text/plain": [
       "array([2164.22030239])"
      ]
     },
     "execution_count": 22,
     "metadata": {},
     "output_type": "execute_result"
    }
   ],
   "source": [
    "#decision_function() -> 각 샘플의 점수를 얻을 수 있다. 여기서는 sgd_clf의 점수를 알아볼 수 있다.\n",
    "y_scores = sgd_clf.decision_function([some_digit])\n",
    "#위에서 some_digit = X[0]이었음.\n",
    "y_scores"
   ]
  },
  {
   "attachments": {
    "image.png": {
     "image/png": "[encoded data removed]"
    }
   },
   "cell_type": "markdown",
   "id": "3edd8db7",
   "metadata": {},
   "source": [
    "[trade-off]![image.png](attachment:image.png)"
   ]
  },
  {
   "cell_type": "code",
   "execution_count": 23,
   "id": "b2037419",
   "metadata": {},
   "outputs": [
    {
     "data": {
      "text/plain": [
       "array([ True])"
      ]
     },
     "execution_count": 23,
     "metadata": {},
     "output_type": "execute_result"
    }
   ],
   "source": [
    "threshold = 0 #임계치가 0이면 predict()와 같은 결과가 나온다.\n",
    "y_some_digit_pred = (y_scores > threshold)\n",
    "y_some_digit_pred"
   ]
  },
  {
   "cell_type": "code",
   "execution_count": 24,
   "id": "25156fc1",
   "metadata": {},
   "outputs": [
    {
     "data": {
      "text/plain": [
       "array([False])"
      ]
     },
     "execution_count": 24,
     "metadata": {},
     "output_type": "execute_result"
    }
   ],
   "source": [
    "threshold = 8000 #임계치를 높여보자\n",
    "y_some_digit_pred = (y_scores > threshold)\n",
    "y_some_digit_pred\n",
    "#즉, 임계값을 높이면 재현율이 줄어든다."
   ]
  },
  {
   "cell_type": "code",
   "execution_count": 25,
   "id": "225399b6",
   "metadata": {},
   "outputs": [],
   "source": [
    "y_scores = cross_val_predict(sgd_clf, X_train, y_train_5, cv=3,\n",
    "                             method=\"decision_function\")\n",
    "#훈련 세트에 있는 모든 샘플의 점수를 구한다."
   ]
  },
  {
   "cell_type": "code",
   "execution_count": 26,
   "id": "d6646766",
   "metadata": {},
   "outputs": [],
   "source": [
    "from sklearn.metrics import precision_recall_curve\n",
    "\n",
    "precisions, recalls, thresholds = precision_recall_curve(y_train_5, y_scores)"
   ]
  },
  {
   "cell_type": "markdown",
   "id": "b96bb982",
   "metadata": {},
   "source": [
    "### 사이킷런 메트릭스의 precision_recall_curve()   \n",
    "- 더 알아보기 -> [precision_recall_curve(y_true, probas_pred, *, pos_label=None, sample_weight=None)](https://scikit-learn.org/stable/modules/generated/sklearn.metrics.precision_recall_curve.html)\n",
    "    - y_true: True binary labels. \n",
    "    - probas_pred: target scores\n",
    "    - pos_label: int or str로 설정. default = None. label of Positive class(양성 클래스의 레이블)  \n",
    "    - sample weight: ?, defualt = None  \n",
    "    - 여기선 pos_label과 sample weight가 둘 다 None으로 설정  <br><br>\n",
    "\n",
    "- 리턴값  \n",
    "    - precision, recall, threshold"
   ]
  },
  {
   "cell_type": "code",
   "execution_count": 27,
   "id": "a4153294",
   "metadata": {},
   "outputs": [
    {
     "data": {
      "image/png": "[encoded data removed]",
      "text/plain": [
       "<Figure size 576x288 with 1 Axes>"
      ]
     },
     "metadata": {
      "needs_background": "light"
     },
     "output_type": "display_data"
    }
   ],
   "source": [
    "def plot_precision_recall_vs_threshold(precisions, recalls, thresholds):\n",
    "    plt.plot(thresholds, precisions[:-1], \"b--\", label=\"Precision\", linewidth=2)\n",
    "    plt.plot(thresholds, recalls[:-1], \"g-\", label=\"Recall\", linewidth=2)\n",
    "    plt.legend(loc=\"center right\", fontsize=16) # Not shown in the book\n",
    "    plt.xlabel(\"Threshold\", fontsize=16)        # Not shown\n",
    "    plt.grid(True)                              # Not shown\n",
    "    plt.axis([-50000, 50000, 0, 1])             # Not shown\n",
    "\n",
    "\n",
    "\n",
    "recall_90_precision = recalls[np.argmax(precisions >= 0.90)]\n",
    "threshold_90_precision = thresholds[np.argmax(precisions >= 0.90)]\n",
    "\n",
    "\n",
    "plt.figure(figsize=(8, 4))                                                                  # Not shown\n",
    "plot_precision_recall_vs_threshold(precisions, recalls, thresholds)\n",
    "plt.plot([threshold_90_precision, threshold_90_precision], [0., 0.9], \"r:\")                 # Not shown\n",
    "plt.plot([-50000, threshold_90_precision], [0.9, 0.9], \"r:\")                                # Not shown\n",
    "plt.plot([-50000, threshold_90_precision], [recall_90_precision, recall_90_precision], \"r:\")# Not shown\n",
    "plt.plot([threshold_90_precision], [0.9], \"ro\")                                             # Not shown\n",
    "plt.plot([threshold_90_precision], [recall_90_precision], \"ro\")                             # Not shown\n",
    "plt.show()\n",
    "\n",
    "#정밀도와 재현율의 호출값은 각각 0~1사이 이며, 해당하는 임계값이 없다.\n",
    "#즉, 그래프가 Y축에서 시작될 수 밖에 없다는 뜻이다."
   ]
  },
  {
   "cell_type": "code",
   "execution_count": 28,
   "id": "3d6597b8",
   "metadata": {},
   "outputs": [
    {
     "data": {
      "image/png": "[encoded data removed]",
      "text/plain": [
       "<Figure size 576x432 with 1 Axes>"
      ]
     },
     "metadata": {
      "needs_background": "light"
     },
     "output_type": "display_data"
    }
   ],
   "source": [
    "def plot_precision_vs_recall(precisions, recalls):\n",
    "    plt.plot(recalls, precisions, \"b-\", linewidth=2)\n",
    "    plt.xlabel(\"Recall\", fontsize=16)\n",
    "    plt.ylabel(\"Precision\", fontsize=16)\n",
    "    plt.axis([0, 1, 0, 1])\n",
    "    plt.grid(True)\n",
    "\n",
    "plt.figure(figsize=(8, 6))\n",
    "plot_precision_vs_recall(precisions, recalls)\n",
    "plt.plot([recall_90_precision, recall_90_precision], [0., 0.9], \"r:\")\n",
    "plt.plot([0.0, recall_90_precision], [0.9, 0.9], \"r:\")\n",
    "plt.plot([recall_90_precision], [0.9], \"ro\")\n",
    "#save_fig(\"precision_vs_recall_plot\")\n",
    "plt.show()"
   ]
  },
  {
   "cell_type": "code",
   "execution_count": 29,
   "id": "6b5838ca",
   "metadata": {},
   "outputs": [
    {
     "data": {
      "text/plain": [
       "3370.0194991439594"
      ]
     },
     "execution_count": 29,
     "metadata": {},
     "output_type": "execute_result"
    }
   ],
   "source": [
    "threshold_90_precision = thresholds[np.argmax(precisions >= 0.90)]\n",
    "#정밀도 90%이상을 목표로\n",
    "#np.argmax -> 최댓값의 첫번째 인덱스 반환\n",
    "threshold_90_precision"
   ]
  },
  {
   "cell_type": "code",
   "execution_count": 30,
   "id": "6be371a1",
   "metadata": {},
   "outputs": [],
   "source": [
    "y_train_pred_90 = (y_scores >= threshold_90_precision)"
   ]
  },
  {
   "cell_type": "code",
   "execution_count": 31,
   "id": "83c557b7",
   "metadata": {},
   "outputs": [
    {
     "data": {
      "text/plain": [
       "0.9000345901072293"
      ]
     },
     "execution_count": 31,
     "metadata": {},
     "output_type": "execute_result"
    }
   ],
   "source": [
    "precision_score(y_train_5, y_train_pred_90)"
   ]
  },
  {
   "cell_type": "code",
   "execution_count": 32,
   "id": "fc2185dd",
   "metadata": {},
   "outputs": [
    {
     "data": {
      "text/plain": [
       "0.4799852425751706"
      ]
     },
     "execution_count": 32,
     "metadata": {},
     "output_type": "execute_result"
    }
   ],
   "source": [
    "recall_score(y_train_5, y_train_pred_90)"
   ]
  },
  {
   "cell_type": "markdown",
   "id": "78ccd3b0",
   "metadata": {},
   "source": [
    "## 3.3.5 ROC 곡선"
   ]
  },
  {
   "cell_type": "code",
   "execution_count": 33,
   "id": "58a3467d",
   "metadata": {},
   "outputs": [],
   "source": [
    "from sklearn.metrics import roc_curve\n",
    "\n",
    "fpr, tpr, thresholds = roc_curve(y_train_5, y_scores)"
   ]
  },
  {
   "cell_type": "markdown",
   "id": "2a607189",
   "metadata": {},
   "source": [
    "#### ROC곡선은 거짓 양성 비율에 대한 진짜 양성 비율이다<br><br>\n",
    "$FPR = {FP \\over FP+TN} = {FP + TN - TN \\over FP + TN} = 1 -{TN \\over FP + TN} = 1 - TNR$\n",
    "- FPR은 1에서 진짜 음성 비율(TNR)을 뺀 값이다.<br>\n",
    "- TNR은 특이도(specificity)라고도 한다.<br>\n",
    "- TPR은 재현율의 또 다른 이름이다.<br>\n",
    "- 즉, <span style=\"color:red\">ROC 곡선은 민감도(재현율)에 대한 1-특이도 그래프이다.</span>"
   ]
  },
  {
   "cell_type": "code",
   "execution_count": 34,
   "id": "ba0256c4",
   "metadata": {},
   "outputs": [
    {
     "data": {
      "image/png": "[encoded data removed]",
      "text/plain": [
       "<Figure size 576x432 with 1 Axes>"
      ]
     },
     "metadata": {
      "needs_background": "light"
     },
     "output_type": "display_data"
    }
   ],
   "source": [
    "def plot_roc_curve(fpr, tpr, label=None):\n",
    "    plt.plot(fpr, tpr, linewidth=2, label=label)\n",
    "    plt.plot([0, 1], [0, 1], 'k--') # 대각 점선\n",
    "    plt.axis([0, 1, 0, 1])                                    # Not shown in the book\n",
    "    plt.xlabel('False Positive Rate (Fall-Out)', fontsize=16) # Not shown\n",
    "    plt.ylabel('True Positive Rate (Recall)', fontsize=16)    # Not shown\n",
    "    plt.grid(True)                                            # Not shown\n",
    "\n",
    "plt.figure(figsize=(8, 6))                                    # Not shown\n",
    "plot_roc_curve(fpr, tpr)\n",
    "fpr_90 = fpr[np.argmax(tpr >= recall_90_precision)]           # Not shown\n",
    "plt.plot([fpr_90, fpr_90], [0., recall_90_precision], \"r:\")   # Not shown\n",
    "plt.plot([0.0, fpr_90], [recall_90_precision, recall_90_precision], \"r:\")  # Not shown\n",
    "plt.plot([fpr_90], [recall_90_precision], \"ro\")               # Not shown\n",
    "#save_fig(\"roc_curve_plot\")                                    # Not shown\n",
    "plt.show()"
   ]
  },
  {
   "cell_type": "markdown",
   "id": "25c01502",
   "metadata": {},
   "source": [
    "- 재현율(TPR)이 높을수록 분류기가 만드는 거짓 양성(FPR)이 늘어난다.<br>\n",
    "- 곡선 아래의 면적(area under the curve, AUC)을 측정하면 분류기들을 비교할 수 있다.<br>\n",
    "    - 완벽한 분류기는 ROC의 AUC가 1<br>  \n",
    "    - 완전 랜덤 분류기는 ROC의 AUC가 0.5<br>\n",
    "    - 랜덤 분류기?\n",
    "        - 훈련 데이터의 클래스 비율을 따라 무작위로 예측하는 것\n",
    "        - 즉 ROC 곡선이, $y=x$와 비슷해진다."
   ]
  },
  {
   "cell_type": "code",
   "execution_count": 35,
   "id": "696cd2c5",
   "metadata": {},
   "outputs": [
    {
     "data": {
      "text/plain": [
       "0.9604938554008616"
      ]
     },
     "execution_count": 35,
     "metadata": {},
     "output_type": "execute_result"
    }
   ],
   "source": [
    "#분류기의 AUC를 측정하는 사이킷런의 함수.\n",
    "from sklearn.metrics import roc_auc_score\n",
    "\n",
    "roc_auc_score(y_train_5, y_scores)"
   ]
  },
  {
   "cell_type": "markdown",
   "id": "44f0b48b",
   "metadata": {},
   "source": [
    "### 어느 경우에 PR곡선, 어느 경우에 ROC?<br>\n",
    "- 일반적인 법칙<br>\n",
    "    - 양성 클래스가 드물거나 거짓 음성보다 거짓 양성이 중요할 때 -> PR 곡선<br>\n",
    "    - 그 이외는 ROC곡선 사용."
   ]
  },
  {
   "cell_type": "code",
   "execution_count": 36,
   "id": "b574ab4e",
   "metadata": {},
   "outputs": [],
   "source": [
    "from sklearn.ensemble import RandomForestClassifier\n",
    "forest_clf = RandomForestClassifier(n_estimators=100, random_state=42)\n",
    "y_probas_forest = cross_val_predict(forest_clf, X_train, y_train_5, cv=3,\n",
    "                                    method=\"predict_proba\")\n",
    "#method -> predict_proba\n",
    "#predict_proba() 메서드는 샘플이 행, 클래스가 열이고 주어진 클래스에 속할 확률을 담은\n",
    "#배열을 반환한다."
   ]
  },
  {
   "cell_type": "code",
   "execution_count": 37,
   "id": "1c59c810",
   "metadata": {},
   "outputs": [],
   "source": [
    "y_scores_forest = y_probas_forest[:, 1] # 점수 = 양성 클래스의 확률\n",
    "fpr_forest, tpr_forest, thresholds_forest = roc_curve(y_train_5,y_scores_forest)"
   ]
  },
  {
   "cell_type": "code",
   "execution_count": 38,
   "id": "3fa134c6",
   "metadata": {},
   "outputs": [
    {
     "data": {
      "image/png": "[encoded data removed]",
      "text/plain": [
       "<Figure size 576x432 with 1 Axes>"
      ]
     },
     "metadata": {
      "needs_background": "light"
     },
     "output_type": "display_data"
    }
   ],
   "source": [
    "recall_for_forest = tpr_forest[np.argmax(fpr_forest >= fpr_90)]\n",
    "\n",
    "plt.figure(figsize=(8, 6))\n",
    "plt.plot(fpr, tpr, \"b:\", linewidth=2, label=\"SGD\")\n",
    "plot_roc_curve(fpr_forest, tpr_forest, \"Random Forest\")\n",
    "plt.plot([fpr_90, fpr_90], [0., recall_90_precision], \"r:\")\n",
    "plt.plot([0.0, fpr_90], [recall_90_precision, recall_90_precision], \"r:\")\n",
    "plt.plot([fpr_90], [recall_90_precision], \"ro\")\n",
    "plt.plot([fpr_90, fpr_90], [0., recall_for_forest], \"r:\")\n",
    "plt.plot([fpr_90], [recall_for_forest], \"ro\")\n",
    "plt.grid(True)\n",
    "plt.legend(loc=\"lower right\", fontsize=16)\n",
    "#save_fig(\"roc_curve_comparison_plot\")\n",
    "plt.show()"
   ]
  },
  {
   "cell_type": "code",
   "execution_count": 39,
   "id": "ffb0fbd0",
   "metadata": {},
   "outputs": [
    {
     "data": {
      "text/plain": [
       "0.9983436731328145"
      ]
     },
     "execution_count": 39,
     "metadata": {},
     "output_type": "execute_result"
    }
   ],
   "source": [
    "roc_auc_score(y_train_5, y_scores_forest)"
   ]
  },
  {
   "cell_type": "markdown",
   "id": "5a974d17",
   "metadata": {},
   "source": [
    "# 3.4 다중 분류"
   ]
  },
  {
   "cell_type": "markdown",
   "id": "d4b8e1d7",
   "metadata": {},
   "source": [
    "#### 다중 분류기(다항 분류기)는 둘 이상의 클래스를 구별할 수 있다.\n",
    "- SGD분류기, 랜덤 포레스트 분류기, 나이브 베이즈 분류기 등 -> 여러 개의 클래스 직접 처리 가능<br>\n",
    "- 로지스틱 회귀, SVM분류기 등 -> 이진 분류만 가능.<br>\n",
    "    - 하지만 이진 분류기를 여러개 사용해 다중 클래스 분류 가능\n",
    "--- \n",
    "### 이진 분류기를 이용한 다중 분류 방법\n",
    "#### OvR(One -versus-the-rest)\n",
    "- 특정 숫자 하나만 구분하는 숫자별 이진 분류기 10개(0~9)를 훈련 시켜 클래스 10개 분류\n",
    "- 분류기의 결정 점수중 가장 높은 것을 선택하여 분류.<br><br>\n",
    "\n",
    "#### OvO(One-versus-one)\n",
    "- 각 숫자의 조합마다 이진 분류기를 훈련.\n",
    "- 클래스가 N개라면 분류기는 $N x (N-1) \\over 2$개가 필요하다.\n",
    "- 장점 -> 각 분류기의 훈련에 전체 훈련 세트 중 구별할 두 클래스에 해당하는 샘플만 사용\n",
    "---\n",
    "- SVM -> 작은 훈련세트에서 많은 분류기 훈련시키는게 빠름. 따라서 OvO 선호\n",
    "- 대부분의 이진 분류 알고리즘 -> OvR선호"
   ]
  },
  {
   "cell_type": "code",
   "execution_count": 40,
   "id": "4560b064",
   "metadata": {},
   "outputs": [
    {
     "data": {
      "text/plain": [
       "array([5], dtype=uint8)"
      ]
     },
     "execution_count": 40,
     "metadata": {},
     "output_type": "execute_result"
    }
   ],
   "source": [
    "#SVM 분류기(SVC) 사용\n",
    "from sklearn.svm import SVC\n",
    "\n",
    "svm_clf = SVC(gamma=\"auto\", random_state=42)\n",
    "svm_clf.fit(X_train[:1000], y_train[:1000]) # y_train_5이 아니라 y_train입니다\n",
    "#0~9까지의 원래 타깃 클래스를 사용해 SVC를 훈련\n",
    "#X, y 전체 다 하려니 시간이 오래 걸림 -> 1000번째 까지,,,,\n",
    "svm_clf.predict([some_digit])"
   ]
  },
  {
   "cell_type": "code",
   "execution_count": 41,
   "id": "ef5ca3f6",
   "metadata": {},
   "outputs": [
    {
     "data": {
      "text/plain": [
       "array([[ 2.81585438,  7.09167958,  3.82972099,  0.79365551,  5.8885703 ,\n",
       "         9.29718395,  1.79862509,  8.10392157, -0.228207  ,  4.83753243]])"
      ]
     },
     "execution_count": 41,
     "metadata": {},
     "output_type": "execute_result"
    }
   ],
   "source": [
    "some_digit_scores = svm_clf.decision_function([some_digit])\n",
    "some_digit_scores\n",
    "#가장 높은 점수가 클래스 5에 해당한다."
   ]
  },
  {
   "cell_type": "code",
   "execution_count": 42,
   "id": "66838d50",
   "metadata": {},
   "outputs": [
    {
     "data": {
      "text/plain": [
       "5"
      ]
     },
     "execution_count": 42,
     "metadata": {},
     "output_type": "execute_result"
    }
   ],
   "source": [
    "np.argmax(some_digit_scores)\n",
    "#최댓값의 인덱스를 출력"
   ]
  },
  {
   "cell_type": "code",
   "execution_count": 45,
   "id": "ba9bfd3f",
   "metadata": {},
   "outputs": [
    {
     "data": {
      "text/plain": [
       "5"
      ]
     },
     "execution_count": 45,
     "metadata": {},
     "output_type": "execute_result"
    }
   ],
   "source": [
    "svm_clf.classes_\n",
    "svm_clf.classes_[5]"
   ]
  },
  {
   "cell_type": "code",
   "execution_count": 46,
   "id": "fec05e14",
   "metadata": {},
   "outputs": [
    {
     "data": {
      "text/plain": [
       "array([5], dtype=uint8)"
      ]
     },
     "execution_count": 46,
     "metadata": {},
     "output_type": "execute_result"
    }
   ],
   "source": [
    "#OvR을 사용\n",
    "from sklearn.multiclass import OneVsRestClassifier\n",
    "ovr_clf = OneVsRestClassifier(SVC(random_state=42))\n",
    "ovr_clf.fit(X_train[:1000], y_train[:1000])\n",
    "ovr_clf.predict([some_digit])"
   ]
  },
  {
   "cell_type": "code",
   "execution_count": 47,
   "id": "afdd7dcf",
   "metadata": {},
   "outputs": [
    {
     "data": {
      "text/plain": [
       "10"
      ]
     },
     "execution_count": 47,
     "metadata": {},
     "output_type": "execute_result"
    }
   ],
   "source": [
    "len(ovr_clf.estimators_)"
   ]
  },
  {
   "cell_type": "code",
   "execution_count": 48,
   "id": "baa831cf",
   "metadata": {},
   "outputs": [
    {
     "data": {
      "text/plain": [
       "array([3], dtype=uint8)"
      ]
     },
     "execution_count": 48,
     "metadata": {},
     "output_type": "execute_result"
    }
   ],
   "source": [
    "sgd_clf.fit(X_train, y_train)\n",
    "sgd_clf.predict([some_digit])\n",
    "#SGD분류기는 다중 클래스 분류가 가능하기 때문에, 별도의 OvR이나 OvO적용 필요 없음"
   ]
  },
  {
   "cell_type": "code",
   "execution_count": 49,
   "id": "d9baa051",
   "metadata": {},
   "outputs": [
    {
     "data": {
      "text/plain": [
       "array([[-31893.03095419, -34419.69069632,  -9530.63950739,\n",
       "          1823.73154031, -22320.14822878,  -1385.80478895,\n",
       "        -26188.91070951, -16147.51323997,  -4604.35491274,\n",
       "        -12050.767298  ]])"
      ]
     },
     "execution_count": 49,
     "metadata": {},
     "output_type": "execute_result"
    }
   ],
   "source": [
    "#점수 확인하기\n",
    "sgd_clf.decision_function([some_digit])\n",
    "#가장 큰 점수가 클래스 5에 해당한다."
   ]
  },
  {
   "cell_type": "code",
   "execution_count": 50,
   "id": "ebef268a",
   "metadata": {},
   "outputs": [
    {
     "data": {
      "text/plain": [
       "array([0.87365, 0.85835, 0.8689 ])"
      ]
     },
     "execution_count": 50,
     "metadata": {},
     "output_type": "execute_result"
    }
   ],
   "source": [
    "cross_val_score(sgd_clf, X_train, y_train, cv=3, scoring=\"accuracy\")"
   ]
  },
  {
   "cell_type": "code",
   "execution_count": 51,
   "id": "48e72516",
   "metadata": {},
   "outputs": [
    {
     "data": {
      "text/plain": [
       "array([0.8983, 0.891 , 0.9018])"
      ]
     },
     "execution_count": 51,
     "metadata": {},
     "output_type": "execute_result"
    }
   ],
   "source": [
    "#입력 스케일을 조정하여 정확도 높이기\n",
    "from sklearn.preprocessing import StandardScaler\n",
    "scaler = StandardScaler() #scaler객체 생성 \n",
    "#fit_transform으로 변환기 적용.\n",
    "X_train_scaled = scaler.fit_transform(X_train.astype(np.float64))\n",
    "cross_val_score(sgd_clf, X_train_scaled, y_train, cv=3, scoring=\"accuracy\")"
   ]
  },
  {
   "cell_type": "markdown",
   "id": "6fa3b961",
   "metadata": {},
   "source": [
    "# 3.5 에러분석"
   ]
  },
  {
   "cell_type": "markdown",
   "id": "93a15fa9",
   "metadata": {},
   "source": [
    "- 모델의 성능을 향상시키는 방법\n",
    "    1. 에러의 종류를 분석"
   ]
  },
  {
   "cell_type": "code",
   "execution_count": 52,
   "id": "886e063d",
   "metadata": {},
   "outputs": [
    {
     "data": {
      "text/plain": [
       "array([[5577,    0,   22,    5,    8,   43,   36,    6,  225,    1],\n",
       "       [   0, 6400,   37,   24,    4,   44,    4,    7,  212,   10],\n",
       "       [  27,   27, 5220,   92,   73,   27,   67,   36,  378,   11],\n",
       "       [  22,   17,  117, 5227,    2,  203,   27,   40,  403,   73],\n",
       "       [  12,   14,   41,    9, 5182,   12,   34,   27,  347,  164],\n",
       "       [  27,   15,   30,  168,   53, 4444,   75,   14,  535,   60],\n",
       "       [  30,   15,   42,    3,   44,   97, 5552,    3,  131,    1],\n",
       "       [  21,   10,   51,   30,   49,   12,    3, 5684,  195,  210],\n",
       "       [  17,   63,   48,   86,    3,  126,   25,   10, 5429,   44],\n",
       "       [  25,   18,   30,   64,  118,   36,    1,  179,  371, 5107]],\n",
       "      dtype=int64)"
      ]
     },
     "execution_count": 52,
     "metadata": {},
     "output_type": "execute_result"
    }
   ],
   "source": [
    "#예측 만들기\n",
    "y_train_pred = cross_val_predict(sgd_clf, X_train_scaled, y_train, cv=3)\n",
    "\n",
    "#오차 행렬 생성\n",
    "conf_mx = confusion_matrix(y_train, y_train_pred)\n",
    "conf_mx"
   ]
  },
  {
   "cell_type": "code",
   "execution_count": 53,
   "id": "85f0ad0d",
   "metadata": {},
   "outputs": [
    {
     "data": {
      "image/png": "[encoded data removed]",
      "text/plain": [
       "<Figure size 288x288 with 1 Axes>"
      ]
     },
     "metadata": {
      "needs_background": "light"
     },
     "output_type": "display_data"
    }
   ],
   "source": [
    "#오차행렬을 이미지화\n",
    "plt.matshow(conf_mx, cmap=plt.cm.gray)\n",
    "plt.show()"
   ]
  },
  {
   "cell_type": "markdown",
   "id": "58fcea44",
   "metadata": {},
   "source": [
    "- 에러의 비율을 비교\n",
    "    - 오차 행렬의 각 값을 대응되는 클래스의 이미지 개수로 나누어 준다.<br>\n",
    "    - 개수로 비교하면 이미지가 많은 클래스가 상대적으로 나쁘게 보임."
   ]
  },
  {
   "cell_type": "code",
   "execution_count": 55,
   "id": "9986108c",
   "metadata": {},
   "outputs": [
    {
     "data": {
      "image/png": "[encoded data removed]",
      "text/plain": [
       "<Figure size 288x288 with 1 Axes>"
      ]
     },
     "metadata": {
      "needs_background": "light"
     },
     "output_type": "display_data"
    }
   ],
   "source": [
    "row_sums = conf_mx.sum(axis=1, keepdims=True) #열방향대로 더해주기 = 이미지의 개수\n",
    "#차원은 유지\n",
    "#keepdims = True로 차원을 유지할 수 있음.\n",
    "\n",
    "norm_conf_mx = conf_mx / row_sums\n",
    "#오차행렬의 각 값을 각 클래스의 이미지 개수로 나누어준다\n",
    "\n",
    "np.fill_diagonal(norm_conf_mx, 0)\n",
    "plt.matshow(norm_conf_mx, cmap=plt.cm.gray)\n",
    "plt.show()"
   ]
  },
  {
   "cell_type": "markdown",
   "id": "6067f15e",
   "metadata": {},
   "source": [
    "### <span style=\"color:blue\">오차 행렬 분석을 통한 insight</span>  \n",
    "- 분류기의 성능 향상 방안에 대한 통찰  \n",
    "    1. 오류 분석을 통해 개선해야할 점을 바로 찾을 수 있음.\n",
    "    2. 각각의 에러를 분석하는 것보다 효율적이다."
   ]
  },
  {
   "cell_type": "code",
   "execution_count": 59,
   "id": "e1b3aed6",
   "metadata": {},
   "outputs": [
    {
     "data": {
      "image/png": "[encoded data removed]",
      "text/plain": [
       "<Figure size 576x576 with 3 Axes>"
      ]
     },
     "metadata": {
      "needs_background": "light"
     },
     "output_type": "display_data"
    }
   ],
   "source": [
    "\n",
    "cl_a, cl_b = 3, 5\n",
    "X_aa = X_train[(y_train == cl_a) & (y_train_pred == cl_a)]\n",
    "X_ab = X_train[(y_train == cl_a) & (y_train_pred == cl_b)]\n",
    "X_ba = X_train[(y_train == cl_b) & (y_train_pred == cl_a)]\n",
    "X_bb = X_train[(y_train == cl_b) & (y_train_pred == cl_b)]\n",
    "\n",
    "plt.figure(figsize=(8,8))\n",
    "plt.subplot(221); plot_digits(X_aa[:25], images_per_row=5)\n",
    "plt.subplot(222); plot_digits(X_ab[:25], images_per_row=5)\n",
    "plt.subplot(223); plot_digits(X_ba[:25], images_per_row=5)\n",
    "plt.show()"
   ]
  },
  {
   "cell_type": "markdown",
   "id": "7f16e5b7",
   "metadata": {},
   "source": [
    "- 우리 눈으로는 에러를 확인하기 쉽지만, 분류기가 실수한 이유를 이해하기는 어렵다.  \n",
    "- 여기서는 SGDClassifier을 사용한 것이 원인이다.  \n",
    "    - 선형 분류기는 클래스마다 픽셀에 가중치를 할당하고 새로운 이미지에 대해 단순히 픽셀 강도의 가중치 합을 클래스의 점수로 계산하기 때문이다."
   ]
  },
  {
   "cell_type": "markdown",
   "id": "9d2102c0",
   "metadata": {},
   "source": [
    "# 3.6 다중 레이블 분류"
   ]
  },
  {
   "cell_type": "markdown",
   "id": "cffd2980",
   "metadata": {},
   "source": [
    "#### 여러 개의 이진 꼬리표를 출력하는 분류 시스템을 <span style=\"color:blue\">다중 레이블 분류(multilabel classification) 시스템</span>이라고 한다."
   ]
  },
  {
   "cell_type": "code",
   "execution_count": 60,
   "id": "26ccec2a",
   "metadata": {},
   "outputs": [
    {
     "data": {
      "text/plain": [
       "KNeighborsClassifier()"
      ]
     },
     "execution_count": 60,
     "metadata": {},
     "output_type": "execute_result"
    }
   ],
   "source": [
    "from sklearn.neighbors import KNeighborsClassifier\n",
    "\n",
    "y_train_large = (y_train >= 7)\n",
    "y_train_odd = (y_train % 2 == 1)\n",
    "y_multilabel = np.c_[y_train_large, y_train_odd]\n",
    "\n",
    "knn_clf = KNeighborsClassifier()\n",
    "knn_clf.fit(X_train, y_multilabel)"
   ]
  },
  {
   "cell_type": "markdown",
   "id": "d27b9fb7",
   "metadata": {},
   "source": [
    "## K-neighbor Classifier(KNN) :추가\n",
    "- 지도학습 알고리즘 중 하나이다.<br><br>\n",
    "- 어떤 데이터가 주어지면 그 이웃의 데이터를 살펴본 뒤 더 많은 데이터가 포함되어 있는 범주로 분류하는 방식이다.<br><br>\n",
    "- 일반적으로 K는 홀수를 사용한다.(짝수면 동점이 될 수도 있음!)<br><br>\n",
    "- 훈련이 따로 필요 없고, 훈련 데이터를 저장하는게 훈련의 끝이다.<br><br>\n",
    "    - 따라서 SVM이나 선형회귀보다 빠른 분류가 가능하다.\n",
    "    \n",
    "### 사이킷런 KNeighborsClassifier의 파라미터들\n",
    "1. n_neighobrs(default=5): 분류 시 고려할 인접 샘플 수 -> kNN에서 k를 말한다.<br><br>\n",
    "2. weights(default='uniform') -> 가중치. ex) distance: 가까울수록 큰 가중치 부여<br><br>\n",
    "3. metric(defualt='minkowski'): 거리 계산 방법 ex)minkowski, 유클리드, 맨해튼 등)<br>  \n",
    "    - 민코프스키(minkowski)는 유클리드와 맨해튼거리를 일반화 한 것이다.  \n",
    "    - $D(X, Y) = (\\sum_{i=1}^n|x_i - y_i|^p)^{1 \\over p}$  \n",
    "        - P = 1 일때 맨해튼(L1), P = 2 일 때 유클리드(L2)"
   ]
  },
  {
   "cell_type": "code",
   "execution_count": 61,
   "id": "5ad118fc",
   "metadata": {},
   "outputs": [
    {
     "data": {
      "text/plain": [
       "array([[False,  True]])"
      ]
     },
     "execution_count": 61,
     "metadata": {},
     "output_type": "execute_result"
    }
   ],
   "source": [
    "knn_clf.predict([some_digit])"
   ]
  },
  {
   "cell_type": "code",
   "execution_count": 62,
   "id": "ac489ce5",
   "metadata": {},
   "outputs": [
    {
     "data": {
      "text/plain": [
       "0.976410265560605"
      ]
     },
     "execution_count": 62,
     "metadata": {},
     "output_type": "execute_result"
    }
   ],
   "source": [
    "y_train_knn_pred = cross_val_predict(knn_clf, X_train, y_multilabel, cv=3)\n",
    "f1_score(y_multilabel, y_train_knn_pred, average=\"macro\")"
   ]
  },
  {
   "cell_type": "markdown",
   "id": "c7b90ff4",
   "metadata": {},
   "source": [
    "- 위 코드는 모든 레이블의 가중치가 같다고 가정한 것이다.(객체생성시 weight 파라미터를 default로 설정)<br><br>\n",
    "- 지지도  \n",
    "    - 타겟 레이블에 속한 샘플 수를 의미  \n",
    "- 지지도를 가중치로 주는 방법이 있다  \n",
    "<br>\n",
    "- average=\"macro\" -> 모든 클래스의 FP, FN, TP 총합을 이용해 $F_1$점수를 계산."
   ]
  },
  {
   "cell_type": "markdown",
   "id": "5ddb39d8",
   "metadata": {},
   "source": [
    "# 3.7 다중 출력 분류"
   ]
  },
  {
   "cell_type": "markdown",
   "id": "320625bb",
   "metadata": {},
   "source": [
    "- 다중 출력 다중 클래스 분류(다중 출력 분류, multioutput classification)  \n",
    "- 다중 레이블 분류에서 한 레이블이 다중 클래스가 될 수 있도록 일반화  \n",
    "    - 즉, 한 레이블이 2개 이상의 값을 가질 수 있다."
   ]
  },
  {
   "cell_type": "code",
   "execution_count": 63,
   "id": "488471d9",
   "metadata": {},
   "outputs": [],
   "source": [
    "noise = np.random.randint(0, 100, (len(X_train), 784))\n",
    "X_train_mod = X_train + noise\n",
    "noise = np.random.randint(0, 100, (len(X_test), 784))\n",
    "X_test_mod = X_test + noise\n",
    "y_train_mod = X_train\n",
    "y_test_mod = X_test"
   ]
  },
  {
   "cell_type": "code",
   "execution_count": 66,
   "id": "4862ab7d",
   "metadata": {},
   "outputs": [
    {
     "data": {
      "image/png": "[encoded data removed]",
      "text/plain": [
       "<Figure size 432x288 with 1 Axes>"
      ]
     },
     "metadata": {
      "needs_background": "light"
     },
     "output_type": "display_data"
    }
   ],
   "source": [
    "some_index = 1\n",
    "knn_clf.fit(X_train_mod, y_train_mod)\n",
    "clean_digit = knn_clf.predict([X_test_mod[some_index]])\n",
    "plot_digit(clean_digit)"
   ]
  }
 ],
 "metadata": {
  "kernelspec": {
   "display_name": "Python 3 (ipykernel)",
   "language": "python",
   "name": "python3"
  },
  "language_info": {
   "codemirror_mode": {
    "name": "ipython",
    "version": 3
   },
   "file_extension": ".py",
   "mimetype": "text/x-python",
   "name": "python",
   "nbconvert_exporter": "python",
   "pygments_lexer": "ipython3",
   "version": "3.9.7"
  }
 },
 "nbformat": 4,
 "nbformat_minor": 5
}
