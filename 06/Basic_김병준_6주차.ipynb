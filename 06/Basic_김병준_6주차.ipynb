{
 "cells": [
  {
   "cell_type": "markdown",
   "id": "26fc702a",
   "metadata": {},
   "source": [
    "# Chapter 6 결정트리\n",
    "SVM처럼 결정트리(deicision ree)는 분류와 회귀, 다중출력 작업이 가능한 알고리즘이다. 또한 복잡한 데이터셋도 학습할 수 있는 강력한 알고리즘이다.\n",
    "랜덤포레스트의 기본요소가 결정트리이다."
   ]
  },
  {
   "cell_type": "markdown",
   "id": "5bee49ed",
   "metadata": {},
   "source": [
    "먼저 결정트리를 이해하기 위해 붓꽃 데이터를 예측하는 간단한 모델을 하나 만들어보겠다."
   ]
  },
  {
   "cell_type": "code",
   "execution_count": 1,
   "id": "8b3bc841",
   "metadata": {},
   "outputs": [
    {
     "data": {
      "text/plain": [
       "DecisionTreeClassifier(max_depth=2)"
      ]
     },
     "execution_count": 1,
     "metadata": {},
     "output_type": "execute_result"
    }
   ],
   "source": [
    "from sklearn.datasets import load_iris\n",
    "from sklearn.tree import DecisionTreeClassifier\n",
    "iris = load_iris()\n",
    "X = iris.data[:,2:] #꽃잎의 길이와 너비\n",
    "y = iris.target\n",
    "\n",
    "tree_clf = DecisionTreeClassifier(max_depth=2)\n",
    "tree_clf.fit(X, y)"
   ]
  },
  {
   "cell_type": "markdown",
   "id": "8f2e8598",
   "metadata": {},
   "source": [
    "export_graphviz() 함수를 사용해 그래프의 정의를 iris_tree.dot 파일로 출력하여 훈련된 결정트리를 시각화 할 수 있다."
   ]
  },
  {
   "cell_type": "code",
   "execution_count": 9,
   "id": "abfb2d5b",
   "metadata": {},
   "outputs": [
    {
     "data": {
      "text/plain": [
       "[Text(0.4, 0.8333333333333334, 'X[0] <= 2.45\\ngini = 0.667\\nsamples = 150\\nvalue = [50, 50, 50]'),\n",
       " Text(0.2, 0.5, 'gini = 0.0\\nsamples = 50\\nvalue = [50, 0, 0]'),\n",
       " Text(0.6, 0.5, 'X[1] <= 1.75\\ngini = 0.5\\nsamples = 100\\nvalue = [0, 50, 50]'),\n",
       " Text(0.4, 0.16666666666666666, 'gini = 0.168\\nsamples = 54\\nvalue = [0, 49, 5]'),\n",
       " Text(0.8, 0.16666666666666666, 'gini = 0.043\\nsamples = 46\\nvalue = [0, 1, 45]')]"
      ]
     },
     "execution_count": 9,
     "metadata": {},
     "output_type": "execute_result"
    },
    {
     "data": {
      "image/png": "[encoded data removed]",
      "text/plain": [
       "<Figure size 432x288 with 1 Axes>"
      ]
     },
     "metadata": {
      "needs_background": "light"
     },
     "output_type": "display_data"
    }
   ],
   "source": [
    "sklearn.tree.plot_tree(tree_clf)"
   ]
  },
  {
   "cell_type": "code",
   "execution_count": 4,
   "id": "40b11619",
   "metadata": {},
   "outputs": [],
   "source": [
    "from sklearn.tree import export_graphviz\n",
    "\n",
    "export_graphviz(\n",
    "    tree_clf,\n",
    "    out_file = \"iris_tree.dot\", #outfile 이름\n",
    "    feature_names = iris.feature_names[2:],\n",
    "    class_names = iris.target_names,\n",
    "    rounded=True, #이거 두개는 뭔지 잘 모르겠음\n",
    "    filled=True\n",
    ")"
   ]
  },
  {
   "cell_type": "markdown",
   "id": "87f9c46f",
   "metadata": {},
   "source": [
    "결정트리는 루트노트부터 조건을 확인하면서 자식으로 내려가며 leaf node에 도달하면 해당 데이터의 분류를 마친다. 결정트리의 장점 중 하나는 데이터의 전처리가 거의 필요하지 않다는 것이다. (특성의 스케일을 맞추거나 평균을 원점에 맞추는 작업)"
   ]
  },
  {
   "cell_type": "markdown",
   "id": "ccedd5fe",
   "metadata": {},
   "source": [
    "위 그림을 보면 꽃잎의 길이가 2.45보다 작다면 (깊이1, 왼쪽노드) setosa\n",
    "길이가 2.45보다 길다면 꽃잎의 너비가 1.75보다 작다면 (깊이2, 왼쪽노드) versicolor\n",
    "길이가 2.45보다 길고 꽃잎의 너비가 1.75보다 크다면 (깊이2, 오른쪽노드) virginica로 분류한다.\n",
    "트리의 sample 속성은 해당 클래스에 몇개의 훈련 샘플이 속하는지 알려준다.\n",
    "gini는 불순도(impurity)를 측정하는데 한 노드의 모든 샘플이 같은 클래스에 속한다면 이 노드를 순수(gini=0)이라 한다."
   ]
  },
  {
   "cell_type": "markdown",
   "id": "835e7d81",
   "metadata": {},
   "source": [
    "화이트박스와 블랙박스\n",
    "결정트리는 직관적이고 결정 방식을 이해하기가 쉬움(화이트박스)\n",
    "앞으로 볼 랜덤포레스트나 신경망은 블랙박스 모델임. 어떤 예측이 나왔을 때 왜 이런 예측을 했는지 그 기준을 알기가 어렵다."
   ]
  },
  {
   "cell_type": "markdown",
   "id": "3f5df9c8",
   "metadata": {},
   "source": [
    "## 클래스 확률 추정\n",
    "결정 트리는 한 샘플이 특정 클래스 k에 속할 확률을 추정할 수 있다. 이 한 샘플에 대해 맞는 리프노드를 탐색하고 그 클래스 k에 있는 훈련 샘플의 비율을 반환한다."
   ]
  },
  {
   "cell_type": "code",
   "execution_count": 10,
   "id": "f4a97eb8",
   "metadata": {},
   "outputs": [
    {
     "data": {
      "text/plain": [
       "array([[0.        , 0.90740741, 0.09259259]])"
      ]
     },
     "execution_count": 10,
     "metadata": {},
     "output_type": "execute_result"
    }
   ],
   "source": [
    "tree_clf.predict_proba([[5,1.5]])"
   ]
  },
  {
   "cell_type": "markdown",
   "id": "e7676457",
   "metadata": {},
   "source": [
    "이 결과는 클래스 1에 속할 확률이 가장 높다는걸 보여준다."
   ]
  },
  {
   "cell_type": "code",
   "execution_count": 11,
   "id": "4bcaa921",
   "metadata": {},
   "outputs": [
    {
     "data": {
      "text/plain": [
       "array([1])"
      ]
     },
     "execution_count": 11,
     "metadata": {},
     "output_type": "execute_result"
    }
   ],
   "source": [
    "tree_clf.predict([[5,1.5]])"
   ]
  },
  {
   "cell_type": "markdown",
   "id": "345b6a12",
   "metadata": {},
   "source": [
    "## CART 훈련 알고리즘\n",
    "사이킷런은 결정 트리의 훈련을 위해 (= 트리를 성장시키기 위해) CART(classification and regression tree)알고리즘을 사용한다.\n",
    "먼저 훈련 세트를 하나의 특성 k의 임곗값 $t_k$를 사용해 두개의 서브셋으로 나눈다. (예를 들어 꽃잎의 길이 <= 2.45)\n",
    "이 k와 t_k를 고르는 기준은 가장 순수한 서브셋으로 나눌 수 있는 (k, $t_k$)짝을 찾는 것이다."
   ]
  },
  {
   "cell_type": "markdown",
   "id": "1a32d763",
   "metadata": {},
   "source": [
    "위의 '순수하다'는 불순도가 낮은 것을 의미한다"
   ]
  },
  {
   "cell_type": "markdown",
   "id": "ffd6982e",
   "metadata": {},
   "source": [
    "위 알고리즘을 보면 Greedy 알고리즘이라는 것을 알 수 있다. 각 단계에서 가장 최적의 (비용함수가 가장 적은) 방법을 찾아 계속 진행하는 것이다.\n",
    "최적의 트리를 찾는것은 NP-완전 문제라서 어렵다. 그러므로' 어느정도 납득할만한 좋은 솔루션' 선에서 만족해야한다."
   ]
  },
  {
   "cell_type": "markdown",
   "id": "468dbfd3",
   "metadata": {},
   "source": [
    "## 계산복잡도\n",
    "예측을 하려면 한 데이터에 대해 트리의 leaf노드까지 도달해야하므로 일반적으로 $O(log_2(m))$의 복잡도가 요구된다.$m$은 데이터의 수\n",
    "각 노드는 하나의 특성값만 확인하기 때문에 예측에 필요한 전체 복잡도는 특성 수와 무관하다. 즉, 큰 훈련 세트를 다룰 때(특성의 수가 많은 데이터) 유리하다.\n",
    "훈련알고리즘은 각 노드에서 모든 훈련 샘플의 모든 특성을 비교하므로 훈련 복잡도는 $O(n \\text{x} m log_2(m))$이다. 훈련세트의 특성 수가 너무 많은 경우 사이킷런의 특정 옵션 (presort=True)를 통해 미리 데이터를 정렬하는 방법을 통해 훈련의 속도를 높일 수 있다."
   ]
  },
  {
   "cell_type": "markdown",
   "id": "6ecab5c4",
   "metadata": {},
   "source": [
    "# 회귀\n",
    "결정트리는 앞에서 말한대로 회귀에도 사용할 수 있다.\n",
    "사이킷런의 DecisionTreeRegressor를 사용해 잡음이 섞인 2차함수 형태의 데이터셋에 max_depth = 2설정으로 회귀 트리를 만들어본다."
   ]
  },
  {
   "cell_type": "code",
   "execution_count": 12,
   "id": "5d06c673",
   "metadata": {},
   "outputs": [
    {
     "data": {
      "text/plain": [
       "DecisionTreeRegressor(max_depth=2)"
      ]
     },
     "execution_count": 12,
     "metadata": {},
     "output_type": "execute_result"
    }
   ],
   "source": [
    "from sklearn.tree import DecisionTreeRegressor\n",
    "tree_reg = DecisionTreeRegressor(max_depth=2)\n",
    "tree_reg.fit(X,y)"
   ]
  },
  {
   "cell_type": "code",
   "execution_count": 13,
   "id": "e74c71ac",
   "metadata": {},
   "outputs": [
    {
     "data": {
      "text/plain": [
       "[Text(0.4, 0.8333333333333334, 'X[1] <= 0.8\\nsquared_error = 0.667\\nsamples = 150\\nvalue = 1.0'),\n",
       " Text(0.2, 0.5, 'squared_error = 0.0\\nsamples = 50\\nvalue = 0.0'),\n",
       " Text(0.6, 0.5, 'X[1] <= 1.75\\nsquared_error = 0.25\\nsamples = 100\\nvalue = 1.5'),\n",
       " Text(0.4, 0.16666666666666666, 'squared_error = 0.084\\nsamples = 54\\nvalue = 1.093'),\n",
       " Text(0.8, 0.16666666666666666, 'squared_error = 0.021\\nsamples = 46\\nvalue = 1.978')]"
      ]
     },
     "execution_count": 13,
     "metadata": {},
     "output_type": "execute_result"
    },
    {
     "data": {
      "image/png": "[encoded data removed]",
      "text/plain": [
       "<Figure size 432x288 with 1 Axes>"
      ]
     },
     "metadata": {
      "needs_background": "light"
     },
     "output_type": "display_data"
    }
   ],
   "source": [
    "sklearn.tree.plot_tree(tree_reg)"
   ]
  },
  {
   "cell_type": "markdown",
   "id": "a255298b",
   "metadata": {},
   "source": [
    "결과는 앞에서 만든 분류 트리와 매우 비슷하게 생겼는데 주요 차이는 각 노드에서 클래스를 예측하는 대신 어떤 값을 예측한다는 것이다."
   ]
  },
  {
   "cell_type": "code",
   "execution_count": 14,
   "id": "72e83d0c",
   "metadata": {},
   "outputs": [
    {
     "data": {
      "text/plain": [
       "DecisionTreeRegressor(max_depth=3)"
      ]
     },
     "execution_count": 14,
     "metadata": {},
     "output_type": "execute_result"
    }
   ],
   "source": [
    "tree_reg3 = DecisionTreeRegressor(max_depth=3)#depth=3으로 바꿔봤다.\n",
    "tree_reg3.fit(X,y)"
   ]
  },
  {
   "cell_type": "code",
   "execution_count": 15,
   "id": "2777ae1d",
   "metadata": {},
   "outputs": [
    {
     "data": {
      "text/plain": [
       "[Text(0.375, 0.875, 'X[1] <= 0.8\\nsquared_error = 0.667\\nsamples = 150\\nvalue = 1.0'),\n",
       " Text(0.25, 0.625, 'squared_error = 0.0\\nsamples = 50\\nvalue = 0.0'),\n",
       " Text(0.5, 0.625, 'X[1] <= 1.75\\nsquared_error = 0.25\\nsamples = 100\\nvalue = 1.5'),\n",
       " Text(0.25, 0.375, 'X[0] <= 4.95\\nsquared_error = 0.084\\nsamples = 54\\nvalue = 1.093'),\n",
       " Text(0.125, 0.125, 'squared_error = 0.02\\nsamples = 48\\nvalue = 1.021'),\n",
       " Text(0.375, 0.125, 'squared_error = 0.222\\nsamples = 6\\nvalue = 1.667'),\n",
       " Text(0.75, 0.375, 'X[0] <= 4.85\\nsquared_error = 0.021\\nsamples = 46\\nvalue = 1.978'),\n",
       " Text(0.625, 0.125, 'squared_error = 0.222\\nsamples = 3\\nvalue = 1.667'),\n",
       " Text(0.875, 0.125, 'squared_error = 0.0\\nsamples = 43\\nvalue = 2.0')]"
      ]
     },
     "execution_count": 15,
     "metadata": {},
     "output_type": "execute_result"
    },
    {
     "data": {
      "image/png": "[encoded data removed]",
      "text/plain": [
       "<Figure size 432x288 with 1 Axes>"
      ]
     },
     "metadata": {
      "needs_background": "light"
     },
     "output_type": "display_data"
    }
   ],
   "source": [
    "sklearn.tree.plot_tree(tree_reg3)"
   ]
  },
  {
   "cell_type": "markdown",
   "id": "a71a57da",
   "metadata": {},
   "source": [
    "## 불안정성\n",
    "결정트리의 장점이 많지만 훈련세트의 분포 모양에 따라 계단 모양의 결정 경계를 만든다. 이를 막기 위해 PCA를 사용한다면 1자로 예쁜 결정 경계를 만들 수 있다."
   ]
  },
  {
   "cell_type": "code",
   "execution_count": null,
   "id": "ccdf4899",
   "metadata": {},
   "outputs": [],
   "source": []
  }
 ],
 "metadata": {
  "kernelspec": {
   "display_name": "tf_py3.9",
   "language": "python",
   "name": "tf_py3.9"
  },
  "language_info": {
   "codemirror_mode": {
    "name": "ipython",
    "version": 3
   },
   "file_extension": ".py",
   "mimetype": "text/x-python",
   "name": "python",
   "nbconvert_exporter": "python",
   "pygments_lexer": "ipython3",
   "version": "3.9.10"
  }
 },
 "nbformat": 4,
 "nbformat_minor": 5
}
