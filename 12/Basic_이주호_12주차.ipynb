{
  "cells": [
    {
      "cell_type": "markdown",
      "metadata": {
        "id": "Qofg_NrDnFSH"
      },
      "source": [
        "**12장 – 텐서플로를 사용한 사용자 정의 모델과 훈련**"
      ]
    },
    {
      "cell_type": "markdown",
      "metadata": {
        "id": "oAgZdgLUnFSJ"
      },
      "source": [
        "_이 노트북은 12장에 있는 모든 샘플 코드와 연습문제 해답을 가지고 있습니다._"
      ]
    },
    {
      "cell_type": "markdown",
      "metadata": {
        "id": "i8anu_aEnFSJ"
      },
      "source": [
        "<table align=\"left\">\n",
        "  <td>\n",
        "    <a target=\"_blank\" href=\"https://colab.research.google.com/github/rickiepark/handson-ml2/blob/master/12_custom_models_and_training_with_tensorflow.ipynb\"><img src=\"https://www.tensorflow.org/images/colab_logo_32px.png\" />구글 코랩에서 실행하기</a>\n",
        "  </td>\n",
        "</table>"
      ]
    },
    {
      "cell_type": "markdown",
      "metadata": {
        "id": "_tnhYgkcnFSK"
      },
      "source": [
        "# 설정"
      ]
    },
    {
      "cell_type": "markdown",
      "metadata": {
        "id": "Z_MO6EFinFSL"
      },
      "source": [
        "먼저 몇 개의 모듈을 임포트합니다. 맷플롯립 그래프를 인라인으로 출력하도록 만들고 그림을 저장하는 함수를 준비합니다. 또한 파이썬 버전이 3.5 이상인지 확인합니다(파이썬 2.x에서도 동작하지만 곧 지원이 중단되므로 파이썬 3을 사용하는 것이 좋습니다). 사이킷런 버전이 0.20 이상인지와 텐서플로 버전이 2.0 이상인지 확인합니다."
      ]
    },
    {
      "cell_type": "code",
      "execution_count": 8,
      "metadata": {
        "execution": {
          "iopub.execute_input": "2021-07-04T08:14:30.231979Z",
          "iopub.status.busy": "2021-07-04T08:14:30.230153Z",
          "iopub.status.idle": "2021-07-04T08:14:34.245013Z",
          "shell.execute_reply": "2021-07-04T08:14:34.246445Z"
        },
        "id": "VBj7sKkwnFSM",
        "colab": {
          "base_uri": "https://localhost:8080/"
        },
        "outputId": "142f2342-9169-41f2-e698-1ca3bcacc2d6"
      },
      "outputs": [
        {
          "output_type": "stream",
          "name": "stdout",
          "text": [
            "Colab only includes TensorFlow 2.x; %tensorflow_version has no effect.\n"
          ]
        }
      ],
      "source": [
        "# 파이썬 ≥3.5 필수\n",
        "import sys\n",
        "assert sys.version_info >= (3, 5)\n",
        "\n",
        "# 사이킷런 ≥0.20 필수\n",
        "import sklearn\n",
        "assert sklearn.__version__ >= \"0.20\"\n",
        "\n",
        "try:\n",
        "    # %tensorflow_version은 코랩 명령입니다.\n",
        "    %tensorflow_version 2.x\n",
        "except Exception:\n",
        "    pass\n",
        "\n",
        "# 이 노트북은 텐서플로 ≥2.4이 필요합니다\n",
        "# 2.x 버전은 대부분 동일한 결과를 만들지만 몇 가지 버그가 있습니다.\n",
        "import tensorflow as tf\n",
        "from tensorflow import keras\n",
        "assert tf.__version__ >= \"2.4\"\n",
        "\n",
        "# 공통 모듈 임포트\n",
        "import numpy as np\n",
        "import os\n",
        "\n",
        "# 노트북 실행 결과를 동일하게 유지하기 위해\n",
        "np.random.seed(42)\n",
        "tf.random.set_seed(42)\n",
        "\n",
        "# 깔끔한 그래프 출력을 위해\n",
        "%matplotlib inline\n",
        "import matplotlib as mpl\n",
        "import matplotlib.pyplot as plt\n",
        "mpl.rc('axes', labelsize=14)\n",
        "mpl.rc('xtick', labelsize=12)\n",
        "mpl.rc('ytick', labelsize=12)\n",
        "\n",
        "# 그림을 저장할 위치\n",
        "PROJECT_ROOT_DIR = \".\"\n",
        "CHAPTER_ID = \"deep\"\n",
        "IMAGES_PATH = os.path.join(PROJECT_ROOT_DIR, \"images\", CHAPTER_ID)\n",
        "os.makedirs(IMAGES_PATH, exist_ok=True)\n",
        "\n",
        "def save_fig(fig_id, tight_layout=True, fig_extension=\"png\", resolution=300):\n",
        "    path = os.path.join(IMAGES_PATH, fig_id + \".\" + fig_extension)\n",
        "    print(\"그림 저장:\", fig_id)\n",
        "    if tight_layout:\n",
        "        plt.tight_layout()\n",
        "    plt.savefig(path, format=fig_extension, dpi=resolution)"
      ]
    },
    {
      "cell_type": "markdown",
      "source": [
        "#12 텐서플로를 이용한 사용자 정의 모델과 훈련"
      ],
      "metadata": {
        "id": "qRM_ZWDUrq9A"
      }
    },
    {
      "cell_type": "markdown",
      "source": [
        "##12.1 텐서플로 훑어보기"
      ],
      "metadata": {
        "id": "j1VeHNubr0p4"
      }
    },
    {
      "cell_type": "markdown",
      "source": [
        "###텐서플로는 어떤것을 지원할까?\n",
        "- 넘파이와 비슷하지만, __그래픽카드를 지원__한다.\n",
        "- __분산 컴퓨팅__을 지원한다\n",
        "- 속도를 높이고 메모리 사용량을 줄이기 위해 계산을 최적화 하는 __JIT 컴파일러__를 포함한다.\n",
        "- 플랫폼에 크게 얽매이지 않는다.\n",
        "- __자동 미분 기능__과 __고성능 옵티마이저__들을 제공한다.\n",
        "\n",
        "<br>저수준의 텐서플로 연산은 매우 효율적인 c++ 코드로 구현되어있다.\n",
        "<br>대부분의 구현은 __커널__ 이라고 부르는 여러가지 구현을 가지고 있으며, 이를 통해 __CPU, GPU, TPU__ 와 같은기기에 따라 맞는 구현 방식을 사용한다.\n",
        "<br>\n",
        "###텐서플로와 관계된 다른 생태계는 어떤것이 존재할까?\n",
        "- 텐서보드:\n",
        "- TFX: 텐서플로 제품화를 위한 __라이브러리 모음집__\n",
        "- 텐서플로 허브: __사전 훈련된 신경망__을 손쉽게 사용할 수 있도록 만든 __프로젝트 저장소__"
      ],
      "metadata": {
        "id": "wwkGm6Lqr0hs"
      }
    },
    {
      "cell_type": "markdown",
      "source": [
        "##12.2 넘파이처럼 텐서플로 사용하기\n",
        "\n",
        "텐서플로는 __텐서를 순환시키는 형태로 연산__해서 붙은 이름이다.\n",
        "<br>또한 넘파이의 ndarray와 매우 비슷한 __다차원 배열__이지만 스칼라 값도 가질 수 있다. \n",
        "\n",
        "텐서는 사용자 정의 기능을 만들 떄 매우 중요하므로, 조작하는 방법에 대해 알 필요가 있다."
      ],
      "metadata": {
        "id": "6r6FPweqrzrw"
      }
    },
    {
      "cell_type": "markdown",
      "metadata": {
        "id": "iHim5E7UnFSN"
      },
      "source": [
        "###12.2.1 텐서와 연산\n",
        "tf.constant()함수로 텐서를 만들 수 있으며,\n",
        "<br>행렬을 매개변수로 줄 경우 __행렬 형태__의 텐서\n",
        "<br>숫자만 매개변수로 줄 경우 __스칼라 형태__의 텐서가 생성된다.\n",
        "\n",
        "또한, ndarray와 마찬가지로 tf.Tensor는 __크기와 자료형__을 가진다."
      ]
    },
    {
      "cell_type": "markdown",
      "metadata": {
        "id": "RkZT7K1pnFSN"
      },
      "source": [
        "### 텐서"
      ]
    },
    {
      "cell_type": "code",
      "execution_count": 9,
      "metadata": {
        "colab": {
          "base_uri": "https://localhost:8080/"
        },
        "execution": {
          "iopub.execute_input": "2021-07-04T08:14:35.460590Z",
          "iopub.status.busy": "2021-07-04T08:14:35.458827Z",
          "iopub.status.idle": "2021-07-04T08:14:35.467218Z",
          "shell.execute_reply": "2021-07-04T08:14:35.468643Z"
        },
        "id": "Jqh1vBv7nFSO",
        "outputId": "fe2075e5-bec3-430f-ca17-2231daf88416"
      },
      "outputs": [
        {
          "output_type": "execute_result",
          "data": {
            "text/plain": [
              "<tf.Tensor: shape=(2, 3), dtype=float32, numpy=\n",
              "array([[1., 2., 3.],\n",
              "       [4., 5., 6.]], dtype=float32)>"
            ]
          },
          "metadata": {},
          "execution_count": 9
        }
      ],
      "source": [
        "tf.constant([[1., 2., 3.], [4., 5., 6.]]) # 행렬 형태"
      ]
    },
    {
      "cell_type": "code",
      "execution_count": 10,
      "metadata": {
        "colab": {
          "base_uri": "https://localhost:8080/"
        },
        "execution": {
          "iopub.execute_input": "2021-07-04T08:14:35.477378Z",
          "iopub.status.busy": "2021-07-04T08:14:35.476485Z",
          "iopub.status.idle": "2021-07-04T08:14:35.481997Z",
          "shell.execute_reply": "2021-07-04T08:14:35.482893Z"
        },
        "id": "zz58NEmvnFSP",
        "outputId": "1f06777d-edd6-4def-c899-56a96ce9edc6"
      },
      "outputs": [
        {
          "output_type": "execute_result",
          "data": {
            "text/plain": [
              "<tf.Tensor: shape=(), dtype=int32, numpy=42>"
            ]
          },
          "metadata": {},
          "execution_count": 10
        }
      ],
      "source": [
        "tf.constant(42) # 스칼라 형태"
      ]
    },
    {
      "cell_type": "code",
      "execution_count": 11,
      "metadata": {
        "colab": {
          "base_uri": "https://localhost:8080/"
        },
        "execution": {
          "iopub.execute_input": "2021-07-04T08:14:35.492311Z",
          "iopub.status.busy": "2021-07-04T08:14:35.491089Z",
          "iopub.status.idle": "2021-07-04T08:14:35.495539Z",
          "shell.execute_reply": "2021-07-04T08:14:35.496432Z"
        },
        "id": "cISdcS3mnFSP",
        "outputId": "3a7b6b40-59ef-4d8d-dff6-1d913728f468"
      },
      "outputs": [
        {
          "output_type": "execute_result",
          "data": {
            "text/plain": [
              "<tf.Tensor: shape=(2, 3), dtype=float32, numpy=\n",
              "array([[1., 2., 3.],\n",
              "       [4., 5., 6.]], dtype=float32)>"
            ]
          },
          "metadata": {},
          "execution_count": 11
        }
      ],
      "source": [
        "t = tf.constant([[1., 2., 3.], [4., 5., 6.]])\n",
        "t"
      ]
    },
    {
      "cell_type": "code",
      "execution_count": 12,
      "metadata": {
        "colab": {
          "base_uri": "https://localhost:8080/"
        },
        "execution": {
          "iopub.execute_input": "2021-07-04T08:14:35.503752Z",
          "iopub.status.busy": "2021-07-04T08:14:35.502688Z",
          "iopub.status.idle": "2021-07-04T08:14:35.506860Z",
          "shell.execute_reply": "2021-07-04T08:14:35.507697Z"
        },
        "id": "sCixixr5nFSP",
        "outputId": "613012e5-2c5f-40ea-c981-9ac374eddd46"
      },
      "outputs": [
        {
          "output_type": "execute_result",
          "data": {
            "text/plain": [
              "TensorShape([2, 3])"
            ]
          },
          "metadata": {},
          "execution_count": 12
        }
      ],
      "source": [
        "t.shape # 행렬의 크기 구하기"
      ]
    },
    {
      "cell_type": "code",
      "execution_count": 13,
      "metadata": {
        "colab": {
          "base_uri": "https://localhost:8080/"
        },
        "execution": {
          "iopub.execute_input": "2021-07-04T08:14:35.514996Z",
          "iopub.status.busy": "2021-07-04T08:14:35.513990Z",
          "iopub.status.idle": "2021-07-04T08:14:35.518551Z",
          "shell.execute_reply": "2021-07-04T08:14:35.519382Z"
        },
        "id": "uuds8EZnnFSQ",
        "outputId": "a1de2d15-6334-4e79-8e31-7a430df60602"
      },
      "outputs": [
        {
          "output_type": "execute_result",
          "data": {
            "text/plain": [
              "tf.float32"
            ]
          },
          "metadata": {},
          "execution_count": 13
        }
      ],
      "source": [
        "t.dtype # 텐서의 자료형 구하기"
      ]
    },
    {
      "cell_type": "markdown",
      "metadata": {
        "id": "5LcmbcOznFSQ"
      },
      "source": [
        "ndarray와 인덱스 참조가 __비슷하게 작동__하면서도, __모든 종류의 텐서 연산이 가능__한 것이 특징이다."
      ]
    },
    {
      "cell_type": "code",
      "execution_count": 14,
      "metadata": {
        "colab": {
          "base_uri": "https://localhost:8080/"
        },
        "execution": {
          "iopub.execute_input": "2021-07-04T08:14:35.527030Z",
          "iopub.status.busy": "2021-07-04T08:14:35.525947Z",
          "iopub.status.idle": "2021-07-04T08:14:36.017537Z",
          "shell.execute_reply": "2021-07-04T08:14:36.018983Z"
        },
        "id": "rQt1EHV-nFSQ",
        "outputId": "69dc2657-d1f1-4666-93bb-e648de5a79e6"
      },
      "outputs": [
        {
          "output_type": "execute_result",
          "data": {
            "text/plain": [
              "<tf.Tensor: shape=(2, 2), dtype=float32, numpy=\n",
              "array([[2., 3.],\n",
              "       [5., 6.]], dtype=float32)>"
            ]
          },
          "metadata": {},
          "execution_count": 14
        }
      ],
      "source": [
        "t[:, 1:]"
      ]
    },
    {
      "cell_type": "code",
      "execution_count": 15,
      "metadata": {
        "colab": {
          "base_uri": "https://localhost:8080/"
        },
        "execution": {
          "iopub.execute_input": "2021-07-04T08:14:36.027301Z",
          "iopub.status.busy": "2021-07-04T08:14:36.026287Z",
          "iopub.status.idle": "2021-07-04T08:14:36.032628Z",
          "shell.execute_reply": "2021-07-04T08:14:36.033409Z"
        },
        "id": "-8jI6UyZnFSR",
        "outputId": "f71a788a-d1f9-4960-995e-8399b739610b"
      },
      "outputs": [
        {
          "output_type": "execute_result",
          "data": {
            "text/plain": [
              "<tf.Tensor: shape=(2, 1), dtype=float32, numpy=\n",
              "array([[2.],\n",
              "       [5.]], dtype=float32)>"
            ]
          },
          "metadata": {},
          "execution_count": 15
        }
      ],
      "source": [
        "t[..., 1, tf.newaxis]"
      ]
    },
    {
      "cell_type": "code",
      "execution_count": 16,
      "metadata": {
        "colab": {
          "base_uri": "https://localhost:8080/"
        },
        "execution": {
          "iopub.execute_input": "2021-07-04T08:14:36.040360Z",
          "iopub.status.busy": "2021-07-04T08:14:36.039355Z",
          "iopub.status.idle": "2021-07-04T08:14:36.046051Z",
          "shell.execute_reply": "2021-07-04T08:14:36.046883Z"
        },
        "id": "k_S2puMnnFSR",
        "outputId": "937cb416-cdd4-4e5e-d054-7a25fb5f6c04"
      },
      "outputs": [
        {
          "output_type": "execute_result",
          "data": {
            "text/plain": [
              "<tf.Tensor: shape=(2, 3), dtype=float32, numpy=\n",
              "array([[11., 12., 13.],\n",
              "       [14., 15., 16.]], dtype=float32)>"
            ]
          },
          "metadata": {},
          "execution_count": 16
        }
      ],
      "source": [
        "t + 10\n",
        "# t+10 = tf.sum(t, 10)"
      ]
    },
    {
      "cell_type": "code",
      "execution_count": 17,
      "metadata": {
        "colab": {
          "base_uri": "https://localhost:8080/"
        },
        "execution": {
          "iopub.execute_input": "2021-07-04T08:14:36.053653Z",
          "iopub.status.busy": "2021-07-04T08:14:36.052594Z",
          "iopub.status.idle": "2021-07-04T08:14:36.059689Z",
          "shell.execute_reply": "2021-07-04T08:14:36.060521Z"
        },
        "id": "FQkXtyMFnFSR",
        "outputId": "bd7537f6-2f2f-4d94-f8bd-a534715e573d"
      },
      "outputs": [
        {
          "output_type": "execute_result",
          "data": {
            "text/plain": [
              "<tf.Tensor: shape=(2, 3), dtype=float32, numpy=\n",
              "array([[ 1.,  4.,  9.],\n",
              "       [16., 25., 36.]], dtype=float32)>"
            ]
          },
          "metadata": {},
          "execution_count": 17
        }
      ],
      "source": [
        "tf.square(t)\n",
        "#각 원소들을 제곱함"
      ]
    },
    {
      "cell_type": "code",
      "execution_count": 18,
      "metadata": {
        "colab": {
          "base_uri": "https://localhost:8080/"
        },
        "execution": {
          "iopub.execute_input": "2021-07-04T08:14:36.068783Z",
          "iopub.status.busy": "2021-07-04T08:14:36.067640Z",
          "iopub.status.idle": "2021-07-04T08:14:37.295123Z",
          "shell.execute_reply": "2021-07-04T08:14:37.296584Z"
        },
        "id": "9RgHRMwpnFSR",
        "outputId": "264a18e5-5a89-48a5-ef3d-ea5358d4b3f0"
      },
      "outputs": [
        {
          "output_type": "execute_result",
          "data": {
            "text/plain": [
              "<tf.Tensor: shape=(2, 2), dtype=float32, numpy=\n",
              "array([[14., 32.],\n",
              "       [32., 77.]], dtype=float32)>"
            ]
          },
          "metadata": {},
          "execution_count": 18
        }
      ],
      "source": [
        "t @ tf.transpose(t)\n",
        "#@는 행렬곱과 같음, t @ tf.transpose(t) == tf.matmul(t, tf.transpose(t))"
      ]
    },
    {
      "cell_type": "markdown",
      "metadata": {
        "id": "FepPlGrBnFSS"
      },
      "source": [
        "### `keras.backend` 사용하기"
      ]
    },
    {
      "cell_type": "code",
      "execution_count": 19,
      "metadata": {
        "colab": {
          "base_uri": "https://localhost:8080/"
        },
        "execution": {
          "iopub.execute_input": "2021-07-04T08:14:37.307817Z",
          "iopub.status.busy": "2021-07-04T08:14:37.306372Z",
          "iopub.status.idle": "2021-07-04T08:14:37.313260Z",
          "shell.execute_reply": "2021-07-04T08:14:37.314389Z"
        },
        "id": "ll9jO3G6nFSS",
        "outputId": "bc3b26ee-8095-4af1-93f6-1e2060ff5120"
      },
      "outputs": [
        {
          "output_type": "execute_result",
          "data": {
            "text/plain": [
              "<tf.Tensor: shape=(3, 2), dtype=float32, numpy=\n",
              "array([[11., 26.],\n",
              "       [14., 35.],\n",
              "       [19., 46.]], dtype=float32)>"
            ]
          },
          "metadata": {},
          "execution_count": 19
        }
      ],
      "source": [
        "from tensorflow import keras\n",
        "K = keras.backend\n",
        "K.square(K.transpose(t)) + 10"
      ]
    },
    {
      "cell_type": "markdown",
      "metadata": {
        "id": "QrqIuM0NnFSS"
      },
      "source": [
        "##12.2.2 텐서와 넘파이\n",
        "위에서 텐서가 넘파이와 비슷하다고 한 만큼 __함께 사용하기도 편리__하다.\n",
        "- __넘파이 배열로 텐서__를 만들 수 있고, __그 반대도 가능__하다.\n",
        "- 넘파이, 텐서 배열에 __각자의 연산을 적용__시킬 수도 있다."
      ]
    },
    {
      "cell_type": "code",
      "execution_count": 20,
      "metadata": {
        "colab": {
          "base_uri": "https://localhost:8080/"
        },
        "execution": {
          "iopub.execute_input": "2021-07-04T08:14:37.323539Z",
          "iopub.status.busy": "2021-07-04T08:14:37.322635Z",
          "iopub.status.idle": "2021-07-04T08:14:37.329008Z",
          "shell.execute_reply": "2021-07-04T08:14:37.328192Z"
        },
        "id": "_J3NWmTVnFSS",
        "outputId": "9c5cabba-4a05-4bc7-f6d0-d385c615d11e"
      },
      "outputs": [
        {
          "output_type": "execute_result",
          "data": {
            "text/plain": [
              "<tf.Tensor: shape=(3,), dtype=float64, numpy=array([2., 4., 5.])>"
            ]
          },
          "metadata": {},
          "execution_count": 20
        }
      ],
      "source": [
        "a = np.array([2., 4., 5.])\n",
        "tf.constant(a)\n",
        "#넘파이 배열로 텐서를 만들 수 있다."
      ]
    },
    {
      "cell_type": "code",
      "execution_count": 21,
      "metadata": {
        "colab": {
          "base_uri": "https://localhost:8080/"
        },
        "execution": {
          "iopub.execute_input": "2021-07-04T08:14:37.337928Z",
          "iopub.status.busy": "2021-07-04T08:14:37.336692Z",
          "iopub.status.idle": "2021-07-04T08:14:37.341174Z",
          "shell.execute_reply": "2021-07-04T08:14:37.342140Z"
        },
        "id": "LSnlGqM4nFSS",
        "outputId": "1e01e88d-f1ae-4f4e-fa68-90a32b0437aa"
      },
      "outputs": [
        {
          "output_type": "execute_result",
          "data": {
            "text/plain": [
              "array([[1., 2., 3.],\n",
              "       [4., 5., 6.]], dtype=float32)"
            ]
          },
          "metadata": {},
          "execution_count": 21
        }
      ],
      "source": [
        "t.numpy()\n",
        "#텐서로 넘파이 배열을 만들 수 있다."
      ]
    },
    {
      "cell_type": "code",
      "execution_count": 22,
      "metadata": {
        "colab": {
          "base_uri": "https://localhost:8080/"
        },
        "execution": {
          "iopub.execute_input": "2021-07-04T08:14:37.350290Z",
          "iopub.status.busy": "2021-07-04T08:14:37.349129Z",
          "iopub.status.idle": "2021-07-04T08:14:37.354304Z",
          "shell.execute_reply": "2021-07-04T08:14:37.355414Z"
        },
        "id": "IpmcaxRRnFSS",
        "outputId": "6c33b80e-1e09-477e-a21a-f6303fcb11d0"
      },
      "outputs": [
        {
          "output_type": "execute_result",
          "data": {
            "text/plain": [
              "array([[1., 2., 3.],\n",
              "       [4., 5., 6.]], dtype=float32)"
            ]
          },
          "metadata": {},
          "execution_count": 22
        }
      ],
      "source": [
        "np.array(t)\n",
        "#t.numpy() = np.array(t)"
      ]
    },
    {
      "cell_type": "code",
      "execution_count": 23,
      "metadata": {
        "colab": {
          "base_uri": "https://localhost:8080/"
        },
        "execution": {
          "iopub.execute_input": "2021-07-04T08:14:37.363283Z",
          "iopub.status.busy": "2021-07-04T08:14:37.361860Z",
          "iopub.status.idle": "2021-07-04T08:14:37.367717Z",
          "shell.execute_reply": "2021-07-04T08:14:37.368496Z"
        },
        "id": "xME7iW_VnFST",
        "outputId": "6e77b848-8c12-4c40-e5d6-f957fd2038cc"
      },
      "outputs": [
        {
          "output_type": "execute_result",
          "data": {
            "text/plain": [
              "<tf.Tensor: shape=(3,), dtype=float64, numpy=array([ 4., 16., 25.])>"
            ]
          },
          "metadata": {},
          "execution_count": 23
        }
      ],
      "source": [
        "tf.square(a)\n",
        "#각자의 연산을 적용할 수 있음을 보이고 있다."
      ]
    },
    {
      "cell_type": "code",
      "execution_count": 24,
      "metadata": {
        "colab": {
          "base_uri": "https://localhost:8080/"
        },
        "execution": {
          "iopub.execute_input": "2021-07-04T08:14:37.376267Z",
          "iopub.status.busy": "2021-07-04T08:14:37.375251Z",
          "iopub.status.idle": "2021-07-04T08:14:37.379815Z",
          "shell.execute_reply": "2021-07-04T08:14:37.380710Z"
        },
        "id": "GaHgPvyNnFST",
        "outputId": "99dcfcda-ff46-4adc-9ee0-fb79edfa3dca"
      },
      "outputs": [
        {
          "output_type": "execute_result",
          "data": {
            "text/plain": [
              "array([[ 1.,  4.,  9.],\n",
              "       [16., 25., 36.]], dtype=float32)"
            ]
          },
          "metadata": {},
          "execution_count": 24
        }
      ],
      "source": [
        "np.square(t)"
      ]
    },
    {
      "cell_type": "markdown",
      "metadata": {
        "id": "qEscuNeMnFST"
      },
      "source": [
        "##12.2.3 타입 변환\n",
        "타입변환은 __성능을 감소시키는 요인중 하나__로,\n",
        "<br>자동적으로 진행될 경우 __사용자가 알아채기 힘들기 때문__에 텐서플로에선 타입변환이 __자동적으로 수행되지 않는다__.\n",
        "\n",
        "타입변환이 필요하다면 tf.cast() 함수를 사용하면 된다."
      ]
    },
    {
      "cell_type": "code",
      "execution_count": 25,
      "metadata": {
        "colab": {
          "base_uri": "https://localhost:8080/"
        },
        "execution": {
          "iopub.execute_input": "2021-07-04T08:14:37.389192Z",
          "iopub.status.busy": "2021-07-04T08:14:37.387744Z",
          "iopub.status.idle": "2021-07-04T08:14:37.393285Z",
          "shell.execute_reply": "2021-07-04T08:14:37.394243Z"
        },
        "id": "zmBGBSFxnFSU",
        "outputId": "b7229787-403f-4196-a327-486114aaf633"
      },
      "outputs": [
        {
          "output_type": "stream",
          "name": "stdout",
          "text": [
            "cannot compute AddV2 as input #1(zero-based) was expected to be a float tensor but is a int32 tensor [Op:AddV2]\n"
          ]
        }
      ],
      "source": [
        "try:\n",
        "    tf.constant(2.0) + tf.constant(40)\n",
        "except tf.errors.InvalidArgumentError as ex:\n",
        "    print(ex)\n",
        "  #두 텐서의 자료형이 달라 예외가 발생하는 모습이다."
      ]
    },
    {
      "cell_type": "code",
      "execution_count": 26,
      "metadata": {
        "colab": {
          "base_uri": "https://localhost:8080/"
        },
        "execution": {
          "iopub.execute_input": "2021-07-04T08:14:37.403920Z",
          "iopub.status.busy": "2021-07-04T08:14:37.402792Z",
          "iopub.status.idle": "2021-07-04T08:14:37.407612Z",
          "shell.execute_reply": "2021-07-04T08:14:37.408498Z"
        },
        "id": "1dztSrtpnFSU",
        "outputId": "04db1dd8-7296-4b1d-ba3f-0f1c77a26545"
      },
      "outputs": [
        {
          "output_type": "stream",
          "name": "stdout",
          "text": [
            "cannot compute AddV2 as input #1(zero-based) was expected to be a float tensor but is a double tensor [Op:AddV2]\n"
          ]
        }
      ],
      "source": [
        "try:\n",
        "    tf.constant(2.0) + tf.constant(40., dtype=tf.float64)\n",
        "except tf.errors.InvalidArgumentError as ex:\n",
        "    print(ex)"
      ]
    },
    {
      "cell_type": "code",
      "execution_count": 27,
      "metadata": {
        "colab": {
          "base_uri": "https://localhost:8080/"
        },
        "execution": {
          "iopub.execute_input": "2021-07-04T08:14:37.417591Z",
          "iopub.status.busy": "2021-07-04T08:14:37.416454Z",
          "iopub.status.idle": "2021-07-04T08:14:37.423410Z",
          "shell.execute_reply": "2021-07-04T08:14:37.422467Z"
        },
        "id": "bml4toHdnFSU",
        "outputId": "3d6b4f08-4235-46e2-e196-5073e21bc5e0"
      },
      "outputs": [
        {
          "output_type": "execute_result",
          "data": {
            "text/plain": [
              "<tf.Tensor: shape=(), dtype=float32, numpy=42.0>"
            ]
          },
          "metadata": {},
          "execution_count": 27
        }
      ],
      "source": [
        "t2 = tf.constant(40., dtype=tf.float64)\n",
        "tf.constant(2.0) + tf.cast(t2, tf.float32)\n",
        "#tf.case() 함수를 사용하면 정상적으로 계산을 진행할 수 있다."
      ]
    },
    {
      "cell_type": "markdown",
      "metadata": {
        "id": "rUX0FqA2nFSU"
      },
      "source": [
        "### 문자열"
      ]
    },
    {
      "cell_type": "code",
      "execution_count": 28,
      "metadata": {
        "colab": {
          "base_uri": "https://localhost:8080/"
        },
        "execution": {
          "iopub.execute_input": "2021-07-04T08:14:37.431405Z",
          "iopub.status.busy": "2021-07-04T08:14:37.430323Z",
          "iopub.status.idle": "2021-07-04T08:14:37.435955Z",
          "shell.execute_reply": "2021-07-04T08:14:37.435068Z"
        },
        "id": "kmfyUUWDnFSU",
        "outputId": "33c94309-595f-4d25-8b5e-778778d450af"
      },
      "outputs": [
        {
          "output_type": "execute_result",
          "data": {
            "text/plain": [
              "<tf.Tensor: shape=(), dtype=string, numpy=b'hello world'>"
            ]
          },
          "metadata": {},
          "execution_count": 28
        }
      ],
      "source": [
        "tf.constant(b\"hello world\")"
      ]
    },
    {
      "cell_type": "code",
      "execution_count": 29,
      "metadata": {
        "colab": {
          "base_uri": "https://localhost:8080/"
        },
        "execution": {
          "iopub.execute_input": "2021-07-04T08:14:37.443720Z",
          "iopub.status.busy": "2021-07-04T08:14:37.442656Z",
          "iopub.status.idle": "2021-07-04T08:14:37.447589Z",
          "shell.execute_reply": "2021-07-04T08:14:37.448418Z"
        },
        "id": "S4eTX-ZvnFSU",
        "outputId": "490a7256-f73b-44c8-9716-95bd2a260ce3"
      },
      "outputs": [
        {
          "output_type": "execute_result",
          "data": {
            "text/plain": [
              "<tf.Tensor: shape=(), dtype=string, numpy=b'caf\\xc3\\xa9'>"
            ]
          },
          "metadata": {},
          "execution_count": 29
        }
      ],
      "source": [
        "tf.constant(\"café\")"
      ]
    },
    {
      "cell_type": "code",
      "execution_count": 30,
      "metadata": {
        "colab": {
          "base_uri": "https://localhost:8080/"
        },
        "execution": {
          "iopub.execute_input": "2021-07-04T08:14:37.457168Z",
          "iopub.status.busy": "2021-07-04T08:14:37.456101Z",
          "iopub.status.idle": "2021-07-04T08:14:37.461581Z",
          "shell.execute_reply": "2021-07-04T08:14:37.462492Z"
        },
        "id": "M3FuAE4gnFSV",
        "outputId": "60214fa5-560d-41e5-9f87-893a12531525"
      },
      "outputs": [
        {
          "output_type": "execute_result",
          "data": {
            "text/plain": [
              "<tf.Tensor: shape=(4,), dtype=int32, numpy=array([ 99,  97, 102, 233], dtype=int32)>"
            ]
          },
          "metadata": {},
          "execution_count": 30
        }
      ],
      "source": [
        "u = tf.constant([ord(c) for c in \"café\"])\n",
        "u"
      ]
    },
    {
      "cell_type": "code",
      "execution_count": 31,
      "metadata": {
        "colab": {
          "base_uri": "https://localhost:8080/"
        },
        "execution": {
          "iopub.execute_input": "2021-07-04T08:14:37.471695Z",
          "iopub.status.busy": "2021-07-04T08:14:37.470569Z",
          "iopub.status.idle": "2021-07-04T08:14:37.480015Z",
          "shell.execute_reply": "2021-07-04T08:14:37.479070Z"
        },
        "id": "tg50H0XNnFSV",
        "outputId": "57c609f0-07c6-4825-eccb-a1b7f030babb"
      },
      "outputs": [
        {
          "output_type": "execute_result",
          "data": {
            "text/plain": [
              "<tf.Tensor: shape=(), dtype=int32, numpy=4>"
            ]
          },
          "metadata": {},
          "execution_count": 31
        }
      ],
      "source": [
        "b = tf.strings.unicode_encode(u, \"UTF-8\")\n",
        "tf.strings.length(b, unit=\"UTF8_CHAR\")"
      ]
    },
    {
      "cell_type": "code",
      "execution_count": 32,
      "metadata": {
        "colab": {
          "base_uri": "https://localhost:8080/"
        },
        "execution": {
          "iopub.execute_input": "2021-07-04T08:14:37.487508Z",
          "iopub.status.busy": "2021-07-04T08:14:37.486374Z",
          "iopub.status.idle": "2021-07-04T08:14:37.492583Z",
          "shell.execute_reply": "2021-07-04T08:14:37.493464Z"
        },
        "id": "0gjS_MnenFSV",
        "outputId": "cfeda542-663b-4070-c30d-c322983a17dc"
      },
      "outputs": [
        {
          "output_type": "execute_result",
          "data": {
            "text/plain": [
              "<tf.Tensor: shape=(4,), dtype=int32, numpy=array([ 99,  97, 102, 233], dtype=int32)>"
            ]
          },
          "metadata": {},
          "execution_count": 32
        }
      ],
      "source": [
        "tf.strings.unicode_decode(b, \"UTF-8\")"
      ]
    },
    {
      "cell_type": "markdown",
      "metadata": {
        "id": "xIunxUy1nFSV"
      },
      "source": [
        "### 문자열 배열"
      ]
    },
    {
      "cell_type": "code",
      "execution_count": 33,
      "metadata": {
        "execution": {
          "iopub.execute_input": "2021-07-04T08:14:37.501430Z",
          "iopub.status.busy": "2021-07-04T08:14:37.500296Z",
          "iopub.status.idle": "2021-07-04T08:14:37.503764Z",
          "shell.execute_reply": "2021-07-04T08:14:37.504594Z"
        },
        "id": "huIxMcD8nFSV"
      },
      "outputs": [],
      "source": [
        "p = tf.constant([\"Café\", \"Coffee\", \"caffè\", \"咖啡\"])"
      ]
    },
    {
      "cell_type": "code",
      "execution_count": 34,
      "metadata": {
        "colab": {
          "base_uri": "https://localhost:8080/"
        },
        "execution": {
          "iopub.execute_input": "2021-07-04T08:14:37.512697Z",
          "iopub.status.busy": "2021-07-04T08:14:37.511629Z",
          "iopub.status.idle": "2021-07-04T08:14:37.516662Z",
          "shell.execute_reply": "2021-07-04T08:14:37.517486Z"
        },
        "id": "79sKVmlsnFSV",
        "outputId": "49033832-79e6-46ae-e417-818fd6b13e97"
      },
      "outputs": [
        {
          "output_type": "execute_result",
          "data": {
            "text/plain": [
              "<tf.Tensor: shape=(4,), dtype=int32, numpy=array([4, 6, 5, 2], dtype=int32)>"
            ]
          },
          "metadata": {},
          "execution_count": 34
        }
      ],
      "source": [
        "tf.strings.length(p, unit=\"UTF8_CHAR\")"
      ]
    },
    {
      "cell_type": "code",
      "execution_count": 35,
      "metadata": {
        "colab": {
          "base_uri": "https://localhost:8080/"
        },
        "execution": {
          "iopub.execute_input": "2021-07-04T08:14:37.524818Z",
          "iopub.status.busy": "2021-07-04T08:14:37.523764Z",
          "iopub.status.idle": "2021-07-04T08:14:37.529752Z",
          "shell.execute_reply": "2021-07-04T08:14:37.530586Z"
        },
        "id": "iZn8rFS3nFSV",
        "outputId": "3f784c7d-e475-47d0-ab3c-5cff1a4329df"
      },
      "outputs": [
        {
          "output_type": "execute_result",
          "data": {
            "text/plain": [
              "<tf.RaggedTensor [[67, 97, 102, 233], [67, 111, 102, 102, 101, 101],\n",
              " [99, 97, 102, 102, 232], [21654, 21857]]>"
            ]
          },
          "metadata": {},
          "execution_count": 35
        }
      ],
      "source": [
        "r = tf.strings.unicode_decode(p, \"UTF8\")\n",
        "r"
      ]
    },
    {
      "cell_type": "code",
      "execution_count": 36,
      "metadata": {
        "colab": {
          "base_uri": "https://localhost:8080/"
        },
        "execution": {
          "iopub.execute_input": "2021-07-04T08:14:37.537541Z",
          "iopub.status.busy": "2021-07-04T08:14:37.536487Z",
          "iopub.status.idle": "2021-07-04T08:14:37.541569Z",
          "shell.execute_reply": "2021-07-04T08:14:37.540647Z"
        },
        "id": "w_zPFyFCnFSV",
        "outputId": "5b708af9-aa79-4813-fc55-c92b9ca53a44"
      },
      "outputs": [
        {
          "output_type": "stream",
          "name": "stdout",
          "text": [
            "<tf.RaggedTensor [[67, 97, 102, 233], [67, 111, 102, 102, 101, 101],\n",
            " [99, 97, 102, 102, 232], [21654, 21857]]>\n"
          ]
        }
      ],
      "source": [
        "print(r)"
      ]
    },
    {
      "cell_type": "markdown",
      "metadata": {
        "id": "Vk6tGFd4nFSW"
      },
      "source": [
        "### 래그드 텐서"
      ]
    },
    {
      "cell_type": "code",
      "execution_count": 37,
      "metadata": {
        "colab": {
          "base_uri": "https://localhost:8080/"
        },
        "execution": {
          "iopub.execute_input": "2021-07-04T08:14:37.548915Z",
          "iopub.status.busy": "2021-07-04T08:14:37.547863Z",
          "iopub.status.idle": "2021-07-04T08:14:37.555844Z",
          "shell.execute_reply": "2021-07-04T08:14:37.556673Z"
        },
        "id": "kc0CcQ9-nFSW",
        "outputId": "905d68fa-4630-4371-a89b-9b62af4622cf"
      },
      "outputs": [
        {
          "output_type": "stream",
          "name": "stdout",
          "text": [
            "tf.Tensor([ 67 111 102 102 101 101], shape=(6,), dtype=int32)\n"
          ]
        }
      ],
      "source": [
        "print(r[1])"
      ]
    },
    {
      "cell_type": "code",
      "execution_count": 38,
      "metadata": {
        "colab": {
          "base_uri": "https://localhost:8080/"
        },
        "execution": {
          "iopub.execute_input": "2021-07-04T08:14:37.564019Z",
          "iopub.status.busy": "2021-07-04T08:14:37.562968Z",
          "iopub.status.idle": "2021-07-04T08:14:37.572286Z",
          "shell.execute_reply": "2021-07-04T08:14:37.573167Z"
        },
        "id": "RC13J_djnFSW",
        "outputId": "7c3f22d8-63d6-4750-f368-f805d27b8987"
      },
      "outputs": [
        {
          "output_type": "stream",
          "name": "stdout",
          "text": [
            "<tf.RaggedTensor [[67, 111, 102, 102, 101, 101], [99, 97, 102, 102, 232]]>\n"
          ]
        }
      ],
      "source": [
        "print(r[1:3])"
      ]
    },
    {
      "cell_type": "code",
      "execution_count": 39,
      "metadata": {
        "colab": {
          "base_uri": "https://localhost:8080/"
        },
        "execution": {
          "iopub.execute_input": "2021-07-04T08:14:37.582723Z",
          "iopub.status.busy": "2021-07-04T08:14:37.581478Z",
          "iopub.status.idle": "2021-07-04T08:14:37.589220Z",
          "shell.execute_reply": "2021-07-04T08:14:37.590190Z"
        },
        "id": "hGTY7YJunFSW",
        "outputId": "d67462b7-fd87-4357-c51a-5de29174f4dc"
      },
      "outputs": [
        {
          "output_type": "stream",
          "name": "stdout",
          "text": [
            "<tf.RaggedTensor [[67, 97, 102, 233], [67, 111, 102, 102, 101, 101],\n",
            " [99, 97, 102, 102, 232], [21654, 21857], [65, 66], [], [67]]>\n"
          ]
        }
      ],
      "source": [
        "r2 = tf.ragged.constant([[65, 66], [], [67]])\n",
        "print(tf.concat([r, r2], axis=0))"
      ]
    },
    {
      "cell_type": "code",
      "execution_count": 40,
      "metadata": {
        "colab": {
          "base_uri": "https://localhost:8080/"
        },
        "execution": {
          "iopub.execute_input": "2021-07-04T08:14:37.601046Z",
          "iopub.status.busy": "2021-07-04T08:14:37.599831Z",
          "iopub.status.idle": "2021-07-04T08:14:37.610876Z",
          "shell.execute_reply": "2021-07-04T08:14:37.611756Z"
        },
        "id": "jK9hMKkmnFSW",
        "outputId": "250ee875-21ea-428e-cc88-b26192d9575f"
      },
      "outputs": [
        {
          "output_type": "stream",
          "name": "stdout",
          "text": [
            "<tf.RaggedTensor [[67, 97, 102, 233, 68, 69, 70], [67, 111, 102, 102, 101, 101, 71],\n",
            " [99, 97, 102, 102, 232], [21654, 21857, 72, 73]]>\n"
          ]
        }
      ],
      "source": [
        "r3 = tf.ragged.constant([[68, 69, 70], [71], [], [72, 73]])\n",
        "print(tf.concat([r, r3], axis=1))"
      ]
    },
    {
      "cell_type": "code",
      "execution_count": 41,
      "metadata": {
        "colab": {
          "base_uri": "https://localhost:8080/"
        },
        "execution": {
          "iopub.execute_input": "2021-07-04T08:14:37.618402Z",
          "iopub.status.busy": "2021-07-04T08:14:37.617243Z",
          "iopub.status.idle": "2021-07-04T08:14:37.623622Z",
          "shell.execute_reply": "2021-07-04T08:14:37.624500Z"
        },
        "id": "twTle-bpnFSW",
        "outputId": "814313f9-a84c-4bef-c514-3d9ea45198e3"
      },
      "outputs": [
        {
          "output_type": "execute_result",
          "data": {
            "text/plain": [
              "<tf.Tensor: shape=(4,), dtype=string, numpy=array([b'DEF', b'G', b'', b'HI'], dtype=object)>"
            ]
          },
          "metadata": {},
          "execution_count": 41
        }
      ],
      "source": [
        "tf.strings.unicode_encode(r3, \"UTF-8\")"
      ]
    },
    {
      "cell_type": "code",
      "execution_count": 42,
      "metadata": {
        "colab": {
          "base_uri": "https://localhost:8080/"
        },
        "execution": {
          "iopub.execute_input": "2021-07-04T08:14:37.631450Z",
          "iopub.status.busy": "2021-07-04T08:14:37.630382Z",
          "iopub.status.idle": "2021-07-04T08:14:37.638374Z",
          "shell.execute_reply": "2021-07-04T08:14:37.639202Z"
        },
        "id": "qGBmIeoLnFSW",
        "outputId": "e440740f-c7e7-4c72-e022-43b6d1580210"
      },
      "outputs": [
        {
          "output_type": "execute_result",
          "data": {
            "text/plain": [
              "<tf.Tensor: shape=(4, 6), dtype=int32, numpy=\n",
              "array([[   67,    97,   102,   233,     0,     0],\n",
              "       [   67,   111,   102,   102,   101,   101],\n",
              "       [   99,    97,   102,   102,   232,     0],\n",
              "       [21654, 21857,     0,     0,     0,     0]], dtype=int32)>"
            ]
          },
          "metadata": {},
          "execution_count": 42
        }
      ],
      "source": [
        "r.to_tensor()"
      ]
    },
    {
      "cell_type": "markdown",
      "metadata": {
        "id": "tMc8-5sjnFSW"
      },
      "source": [
        "### 희소 텐서"
      ]
    },
    {
      "cell_type": "code",
      "execution_count": 43,
      "metadata": {
        "execution": {
          "iopub.execute_input": "2021-07-04T08:14:37.650301Z",
          "iopub.status.busy": "2021-07-04T08:14:37.649286Z",
          "iopub.status.idle": "2021-07-04T08:14:37.653371Z",
          "shell.execute_reply": "2021-07-04T08:14:37.654415Z"
        },
        "id": "71zD-IL-nFSW"
      },
      "outputs": [],
      "source": [
        "s = tf.SparseTensor(indices=[[0, 1], [1, 0], [2, 3]],\n",
        "                    values=[1., 2., 3.],\n",
        "                    dense_shape=[3, 4])"
      ]
    },
    {
      "cell_type": "code",
      "execution_count": 44,
      "metadata": {
        "colab": {
          "base_uri": "https://localhost:8080/"
        },
        "execution": {
          "iopub.execute_input": "2021-07-04T08:14:37.662711Z",
          "iopub.status.busy": "2021-07-04T08:14:37.661456Z",
          "iopub.status.idle": "2021-07-04T08:14:37.666556Z",
          "shell.execute_reply": "2021-07-04T08:14:37.665402Z"
        },
        "id": "gDXfjz0onFSW",
        "outputId": "0c4c0156-1d41-4cd8-955b-b3356b3ae6c2"
      },
      "outputs": [
        {
          "output_type": "stream",
          "name": "stdout",
          "text": [
            "SparseTensor(indices=tf.Tensor(\n",
            "[[0 1]\n",
            " [1 0]\n",
            " [2 3]], shape=(3, 2), dtype=int64), values=tf.Tensor([1. 2. 3.], shape=(3,), dtype=float32), dense_shape=tf.Tensor([3 4], shape=(2,), dtype=int64))\n"
          ]
        }
      ],
      "source": [
        "print(s)"
      ]
    },
    {
      "cell_type": "code",
      "execution_count": 45,
      "metadata": {
        "colab": {
          "base_uri": "https://localhost:8080/"
        },
        "execution": {
          "iopub.execute_input": "2021-07-04T08:14:37.673495Z",
          "iopub.status.busy": "2021-07-04T08:14:37.672384Z",
          "iopub.status.idle": "2021-07-04T08:14:37.679187Z",
          "shell.execute_reply": "2021-07-04T08:14:37.680028Z"
        },
        "id": "6EECeDVVnFSX",
        "outputId": "256c8a56-3fda-43b7-d31f-a3ad5ec339a8"
      },
      "outputs": [
        {
          "output_type": "execute_result",
          "data": {
            "text/plain": [
              "<tf.Tensor: shape=(3, 4), dtype=float32, numpy=\n",
              "array([[0., 1., 0., 0.],\n",
              "       [2., 0., 0., 0.],\n",
              "       [0., 0., 0., 3.]], dtype=float32)>"
            ]
          },
          "metadata": {},
          "execution_count": 45
        }
      ],
      "source": [
        "tf.sparse.to_dense(s)"
      ]
    },
    {
      "cell_type": "code",
      "execution_count": 46,
      "metadata": {
        "execution": {
          "iopub.execute_input": "2021-07-04T08:14:37.686416Z",
          "iopub.status.busy": "2021-07-04T08:14:37.685349Z",
          "iopub.status.idle": "2021-07-04T08:14:37.689468Z",
          "shell.execute_reply": "2021-07-04T08:14:37.690529Z"
        },
        "id": "R2glxW27nFSX"
      },
      "outputs": [],
      "source": [
        "s2 = s * 2.0"
      ]
    },
    {
      "cell_type": "code",
      "execution_count": 47,
      "metadata": {
        "colab": {
          "base_uri": "https://localhost:8080/"
        },
        "execution": {
          "iopub.execute_input": "2021-07-04T08:14:37.698394Z",
          "iopub.status.busy": "2021-07-04T08:14:37.697217Z",
          "iopub.status.idle": "2021-07-04T08:14:37.702468Z",
          "shell.execute_reply": "2021-07-04T08:14:37.701461Z"
        },
        "id": "NAYv7KbanFSX",
        "outputId": "34e1877f-6e46-4d1c-86fe-e9f4124d34e3"
      },
      "outputs": [
        {
          "output_type": "stream",
          "name": "stdout",
          "text": [
            "unsupported operand type(s) for +: 'SparseTensor' and 'float'\n"
          ]
        }
      ],
      "source": [
        "try:\n",
        "    s3 = s + 1.\n",
        "except TypeError as ex:\n",
        "    print(ex)"
      ]
    },
    {
      "cell_type": "code",
      "execution_count": 48,
      "metadata": {
        "colab": {
          "base_uri": "https://localhost:8080/"
        },
        "execution": {
          "iopub.execute_input": "2021-07-04T08:14:37.712098Z",
          "iopub.status.busy": "2021-07-04T08:14:37.710568Z",
          "iopub.status.idle": "2021-07-04T08:14:37.716915Z",
          "shell.execute_reply": "2021-07-04T08:14:37.717891Z"
        },
        "id": "KBvWo_EnnFSX",
        "outputId": "89b978ef-b220-42be-bf94-d00a39b936a8"
      },
      "outputs": [
        {
          "output_type": "execute_result",
          "data": {
            "text/plain": [
              "<tf.Tensor: shape=(3, 2), dtype=float32, numpy=\n",
              "array([[ 30.,  40.],\n",
              "       [ 20.,  40.],\n",
              "       [210., 240.]], dtype=float32)>"
            ]
          },
          "metadata": {},
          "execution_count": 48
        }
      ],
      "source": [
        "s4 = tf.constant([[10., 20.], [30., 40.], [50., 60.], [70., 80.]])\n",
        "tf.sparse.sparse_dense_matmul(s, s4)"
      ]
    },
    {
      "cell_type": "code",
      "execution_count": 49,
      "metadata": {
        "colab": {
          "base_uri": "https://localhost:8080/"
        },
        "execution": {
          "iopub.execute_input": "2021-07-04T08:14:37.728268Z",
          "iopub.status.busy": "2021-07-04T08:14:37.727064Z",
          "iopub.status.idle": "2021-07-04T08:14:37.731227Z",
          "shell.execute_reply": "2021-07-04T08:14:37.732106Z"
        },
        "id": "iVef5eaJnFSX",
        "outputId": "f5d1baba-5ef0-42fc-a840-ba9a0e405033"
      },
      "outputs": [
        {
          "output_type": "stream",
          "name": "stdout",
          "text": [
            "SparseTensor(indices=tf.Tensor(\n",
            "[[0 2]\n",
            " [0 1]], shape=(2, 2), dtype=int64), values=tf.Tensor([1. 2.], shape=(2,), dtype=float32), dense_shape=tf.Tensor([3 4], shape=(2,), dtype=int64))\n"
          ]
        }
      ],
      "source": [
        "s5 = tf.SparseTensor(indices=[[0, 2], [0, 1]],\n",
        "                     values=[1., 2.],\n",
        "                     dense_shape=[3, 4])\n",
        "print(s5)"
      ]
    },
    {
      "cell_type": "code",
      "execution_count": 50,
      "metadata": {
        "colab": {
          "base_uri": "https://localhost:8080/"
        },
        "execution": {
          "iopub.execute_input": "2021-07-04T08:14:37.739701Z",
          "iopub.status.busy": "2021-07-04T08:14:37.738641Z",
          "iopub.status.idle": "2021-07-04T08:14:37.743634Z",
          "shell.execute_reply": "2021-07-04T08:14:37.744482Z"
        },
        "id": "RvZ3zednnFSX",
        "outputId": "ffc248be-05c3-4fc7-8ae6-87e908cc906e"
      },
      "outputs": [
        {
          "output_type": "stream",
          "name": "stdout",
          "text": [
            "indices[1] is out of order. Many sparse ops require sorted indices.\n",
            "  Use `tf.sparse.reorder` to create a correctly ordered copy.\n",
            "\n",
            " [Op:SparseToDense]\n"
          ]
        }
      ],
      "source": [
        "try:\n",
        "    tf.sparse.to_dense(s5)\n",
        "except tf.errors.InvalidArgumentError as ex:\n",
        "    print(ex)"
      ]
    },
    {
      "cell_type": "code",
      "execution_count": 51,
      "metadata": {
        "colab": {
          "base_uri": "https://localhost:8080/"
        },
        "execution": {
          "iopub.execute_input": "2021-07-04T08:14:37.752642Z",
          "iopub.status.busy": "2021-07-04T08:14:37.751599Z",
          "iopub.status.idle": "2021-07-04T08:14:37.759282Z",
          "shell.execute_reply": "2021-07-04T08:14:37.760238Z"
        },
        "id": "049PReJ_nFSX",
        "outputId": "9aaa7248-e1db-482f-be15-41695e333c44"
      },
      "outputs": [
        {
          "output_type": "execute_result",
          "data": {
            "text/plain": [
              "<tf.Tensor: shape=(3, 4), dtype=float32, numpy=\n",
              "array([[0., 2., 1., 0.],\n",
              "       [0., 0., 0., 0.],\n",
              "       [0., 0., 0., 0.]], dtype=float32)>"
            ]
          },
          "metadata": {},
          "execution_count": 51
        }
      ],
      "source": [
        "s6 = tf.sparse.reorder(s5)\n",
        "tf.sparse.to_dense(s6)"
      ]
    },
    {
      "cell_type": "markdown",
      "metadata": {
        "id": "kwMI9FoNnFSX"
      },
      "source": [
        "### 집합"
      ]
    },
    {
      "cell_type": "code",
      "execution_count": 52,
      "metadata": {
        "colab": {
          "base_uri": "https://localhost:8080/"
        },
        "execution": {
          "iopub.execute_input": "2021-07-04T08:14:37.771543Z",
          "iopub.status.busy": "2021-07-04T08:14:37.770349Z",
          "iopub.status.idle": "2021-07-04T08:14:37.775886Z",
          "shell.execute_reply": "2021-07-04T08:14:37.776817Z"
        },
        "id": "gaYypzW3nFSX",
        "outputId": "c49e70cd-9b92-4bb9-a096-12e47ab5375e"
      },
      "outputs": [
        {
          "output_type": "execute_result",
          "data": {
            "text/plain": [
              "<tf.Tensor: shape=(2, 6), dtype=int32, numpy=\n",
              "array([[ 2,  3,  4,  5,  6,  7],\n",
              "       [ 0,  7,  9, 10,  0,  0]], dtype=int32)>"
            ]
          },
          "metadata": {},
          "execution_count": 52
        }
      ],
      "source": [
        "set1 = tf.constant([[2, 3, 5, 7], [7, 9, 0, 0]])\n",
        "set2 = tf.constant([[4, 5, 6], [9, 10, 0]])\n",
        "tf.sparse.to_dense(tf.sets.union(set1, set2))"
      ]
    },
    {
      "cell_type": "code",
      "execution_count": 53,
      "metadata": {
        "colab": {
          "base_uri": "https://localhost:8080/"
        },
        "execution": {
          "iopub.execute_input": "2021-07-04T08:14:37.784203Z",
          "iopub.status.busy": "2021-07-04T08:14:37.783011Z",
          "iopub.status.idle": "2021-07-04T08:14:37.789094Z",
          "shell.execute_reply": "2021-07-04T08:14:37.789950Z"
        },
        "id": "ywZU2OS-nFSY",
        "outputId": "49a45eff-ff65-4b8e-af4e-b56772e5b2cb"
      },
      "outputs": [
        {
          "output_type": "execute_result",
          "data": {
            "text/plain": [
              "<tf.Tensor: shape=(2, 3), dtype=int32, numpy=\n",
              "array([[2, 3, 7],\n",
              "       [7, 0, 0]], dtype=int32)>"
            ]
          },
          "metadata": {},
          "execution_count": 53
        }
      ],
      "source": [
        "tf.sparse.to_dense(tf.sets.difference(set1, set2))"
      ]
    },
    {
      "cell_type": "code",
      "execution_count": 54,
      "metadata": {
        "colab": {
          "base_uri": "https://localhost:8080/"
        },
        "execution": {
          "iopub.execute_input": "2021-07-04T08:14:37.797847Z",
          "iopub.status.busy": "2021-07-04T08:14:37.796714Z",
          "iopub.status.idle": "2021-07-04T08:14:37.802344Z",
          "shell.execute_reply": "2021-07-04T08:14:37.803228Z"
        },
        "id": "1C8SMyv-nFSY",
        "outputId": "c223dd85-db57-488d-f0f5-03ae886c2a11"
      },
      "outputs": [
        {
          "output_type": "execute_result",
          "data": {
            "text/plain": [
              "<tf.Tensor: shape=(2, 2), dtype=int32, numpy=\n",
              "array([[5, 0],\n",
              "       [0, 9]], dtype=int32)>"
            ]
          },
          "metadata": {},
          "execution_count": 54
        }
      ],
      "source": [
        "tf.sparse.to_dense(tf.sets.intersection(set1, set2))"
      ]
    },
    {
      "cell_type": "markdown",
      "metadata": {
        "id": "aHM1uuinnFSY"
      },
      "source": [
        "##12.2.4 변수\n",
        "지금까지 만들어온 tf.Tensor는 __변경이 불가능한 상수 객체__이다.\n",
        "상수객체만 사용하면 __가중치 구현이 불가능__하기 때문에, 변경이 가능한 객체가 필요한데 이를 __tf.Variable__로 만들 수 있다.\n",
        "\n",
        "tf.Variable은 tf.Tensor와 __매우 비슷하게 동작__하지만 assign()메소드를 통해 __변숫값을 변경__할 수 있다.\n",
        "\n",
        "각 원소들에 대한 변경은 메소드 __assign(), scatter_update(), scatter_nd_update()__ 등을 사용해 수행할 수 있다."
      ]
    },
    {
      "cell_type": "code",
      "execution_count": 55,
      "metadata": {
        "execution": {
          "iopub.execute_input": "2021-07-04T08:14:37.812882Z",
          "iopub.status.busy": "2021-07-04T08:14:37.811337Z",
          "iopub.status.idle": "2021-07-04T08:14:37.815257Z",
          "shell.execute_reply": "2021-07-04T08:14:37.816519Z"
        },
        "id": "qSn5cvBrnFSY"
      },
      "outputs": [],
      "source": [
        "v = tf.Variable([[1., 2., 3.], [4., 5., 6.]])"
      ]
    },
    {
      "cell_type": "code",
      "execution_count": 56,
      "metadata": {
        "colab": {
          "base_uri": "https://localhost:8080/"
        },
        "execution": {
          "iopub.execute_input": "2021-07-04T08:14:37.824588Z",
          "iopub.status.busy": "2021-07-04T08:14:37.823168Z",
          "iopub.status.idle": "2021-07-04T08:14:37.829715Z",
          "shell.execute_reply": "2021-07-04T08:14:37.830725Z"
        },
        "id": "OU0pq8XQnFSY",
        "outputId": "3af791ca-e34f-44ed-e220-39b5b9af1bf2"
      },
      "outputs": [
        {
          "output_type": "execute_result",
          "data": {
            "text/plain": [
              "<tf.Variable 'UnreadVariable' shape=(2, 3) dtype=float32, numpy=\n",
              "array([[ 2.,  4.,  6.],\n",
              "       [ 8., 10., 12.]], dtype=float32)>"
            ]
          },
          "metadata": {},
          "execution_count": 56
        }
      ],
      "source": [
        "v.assign(2 * v)"
      ]
    },
    {
      "cell_type": "code",
      "execution_count": 57,
      "metadata": {
        "colab": {
          "base_uri": "https://localhost:8080/"
        },
        "execution": {
          "iopub.execute_input": "2021-07-04T08:14:37.838313Z",
          "iopub.status.busy": "2021-07-04T08:14:37.836989Z",
          "iopub.status.idle": "2021-07-04T08:14:37.844777Z",
          "shell.execute_reply": "2021-07-04T08:14:37.846270Z"
        },
        "id": "sdy-xfQLnFSY",
        "outputId": "f499baad-6549-455a-9153-4be211d85189"
      },
      "outputs": [
        {
          "output_type": "execute_result",
          "data": {
            "text/plain": [
              "<tf.Variable 'UnreadVariable' shape=(2, 3) dtype=float32, numpy=\n",
              "array([[ 2., 42.,  6.],\n",
              "       [ 8., 10., 12.]], dtype=float32)>"
            ]
          },
          "metadata": {},
          "execution_count": 57
        }
      ],
      "source": [
        "v[0, 1].assign(42)"
      ]
    },
    {
      "cell_type": "code",
      "execution_count": 58,
      "metadata": {
        "colab": {
          "base_uri": "https://localhost:8080/"
        },
        "execution": {
          "iopub.execute_input": "2021-07-04T08:14:37.855848Z",
          "iopub.status.busy": "2021-07-04T08:14:37.854468Z",
          "iopub.status.idle": "2021-07-04T08:14:37.862352Z",
          "shell.execute_reply": "2021-07-04T08:14:37.863231Z"
        },
        "id": "p-o6a231nFSY",
        "outputId": "932883b5-ede9-4145-9772-f3eca8692532"
      },
      "outputs": [
        {
          "output_type": "execute_result",
          "data": {
            "text/plain": [
              "<tf.Variable 'UnreadVariable' shape=(2, 3) dtype=float32, numpy=\n",
              "array([[ 2., 42.,  0.],\n",
              "       [ 8., 10.,  1.]], dtype=float32)>"
            ]
          },
          "metadata": {},
          "execution_count": 58
        }
      ],
      "source": [
        "v[:, 2].assign([0., 1.])"
      ]
    },
    {
      "cell_type": "code",
      "execution_count": 59,
      "metadata": {
        "colab": {
          "base_uri": "https://localhost:8080/"
        },
        "execution": {
          "iopub.execute_input": "2021-07-04T08:14:37.872273Z",
          "iopub.status.busy": "2021-07-04T08:14:37.871171Z",
          "iopub.status.idle": "2021-07-04T08:14:37.876014Z",
          "shell.execute_reply": "2021-07-04T08:14:37.876881Z"
        },
        "id": "qdNmt8zPnFSY",
        "outputId": "0bfbc01c-947c-48c1-a8af-a089e6860dcc"
      },
      "outputs": [
        {
          "output_type": "stream",
          "name": "stdout",
          "text": [
            "'ResourceVariable' object does not support item assignment\n"
          ]
        }
      ],
      "source": [
        "try:\n",
        "    v[1] = [7., 8., 9.]\n",
        "except TypeError as ex:\n",
        "    print(ex)"
      ]
    },
    {
      "cell_type": "code",
      "execution_count": 60,
      "metadata": {
        "colab": {
          "base_uri": "https://localhost:8080/"
        },
        "execution": {
          "iopub.execute_input": "2021-07-04T08:14:37.884868Z",
          "iopub.status.busy": "2021-07-04T08:14:37.883764Z",
          "iopub.status.idle": "2021-07-04T08:14:37.890751Z",
          "shell.execute_reply": "2021-07-04T08:14:37.891615Z"
        },
        "id": "-Vne6RM8nFSZ",
        "outputId": "ea9ced31-ed0b-4e43-c1c5-90eaf3bc8064"
      },
      "outputs": [
        {
          "output_type": "execute_result",
          "data": {
            "text/plain": [
              "<tf.Variable 'UnreadVariable' shape=(2, 3) dtype=float32, numpy=\n",
              "array([[100.,  42.,   0.],\n",
              "       [  8.,  10., 200.]], dtype=float32)>"
            ]
          },
          "metadata": {},
          "execution_count": 60
        }
      ],
      "source": [
        "v.scatter_nd_update(indices=[[0, 0], [1, 2]],\n",
        "                    updates=[100., 200.])"
      ]
    },
    {
      "cell_type": "code",
      "execution_count": 61,
      "metadata": {
        "colab": {
          "base_uri": "https://localhost:8080/"
        },
        "execution": {
          "iopub.execute_input": "2021-07-04T08:14:37.900631Z",
          "iopub.status.busy": "2021-07-04T08:14:37.899531Z",
          "iopub.status.idle": "2021-07-04T08:14:37.906859Z",
          "shell.execute_reply": "2021-07-04T08:14:37.907721Z"
        },
        "id": "IO7z_1ZxnFSZ",
        "outputId": "f34ae953-afc6-4ab9-bbaa-c5495a07d6a3"
      },
      "outputs": [
        {
          "output_type": "execute_result",
          "data": {
            "text/plain": [
              "<tf.Variable 'UnreadVariable' shape=(2, 3) dtype=float32, numpy=\n",
              "array([[4., 5., 6.],\n",
              "       [1., 2., 3.]], dtype=float32)>"
            ]
          },
          "metadata": {},
          "execution_count": 61
        }
      ],
      "source": [
        "sparse_delta = tf.IndexedSlices(values=[[1., 2., 3.], [4., 5., 6.]],\n",
        "                                indices=[1, 0])\n",
        "v.scatter_update(sparse_delta)"
      ]
    },
    {
      "cell_type": "markdown",
      "metadata": {
        "id": "IG6tPHOxnFSZ"
      },
      "source": [
        "### 텐서 배열"
      ]
    },
    {
      "cell_type": "code",
      "execution_count": 62,
      "metadata": {
        "execution": {
          "iopub.execute_input": "2021-07-04T08:14:37.918915Z",
          "iopub.status.busy": "2021-07-04T08:14:37.917726Z",
          "iopub.status.idle": "2021-07-04T08:14:37.921144Z",
          "shell.execute_reply": "2021-07-04T08:14:37.922086Z"
        },
        "id": "4ePYHLefnFSZ"
      },
      "outputs": [],
      "source": [
        "array = tf.TensorArray(dtype=tf.float32, size=3)\n",
        "array = array.write(0, tf.constant([1., 2.]))\n",
        "array = array.write(1, tf.constant([3., 10.]))\n",
        "array = array.write(2, tf.constant([5., 7.]))"
      ]
    },
    {
      "cell_type": "code",
      "execution_count": 63,
      "metadata": {
        "colab": {
          "base_uri": "https://localhost:8080/"
        },
        "execution": {
          "iopub.execute_input": "2021-07-04T08:14:37.930696Z",
          "iopub.status.busy": "2021-07-04T08:14:37.928997Z",
          "iopub.status.idle": "2021-07-04T08:14:37.933286Z",
          "shell.execute_reply": "2021-07-04T08:14:37.934179Z"
        },
        "id": "ZWrJYjaNnFSZ",
        "outputId": "1f9ccbf0-69bc-4bfd-fa68-3098cd3edefb"
      },
      "outputs": [
        {
          "output_type": "execute_result",
          "data": {
            "text/plain": [
              "<tf.Tensor: shape=(2,), dtype=float32, numpy=array([ 3., 10.], dtype=float32)>"
            ]
          },
          "metadata": {},
          "execution_count": 63
        }
      ],
      "source": [
        "array.read(1)"
      ]
    },
    {
      "cell_type": "code",
      "execution_count": 64,
      "metadata": {
        "colab": {
          "base_uri": "https://localhost:8080/"
        },
        "execution": {
          "iopub.execute_input": "2021-07-04T08:14:37.940457Z",
          "iopub.status.busy": "2021-07-04T08:14:37.939418Z",
          "iopub.status.idle": "2021-07-04T08:14:37.945931Z",
          "shell.execute_reply": "2021-07-04T08:14:37.946707Z"
        },
        "id": "qqJJof_tnFSa",
        "outputId": "df2dad08-09c1-470a-e1d1-c65e1cd56700"
      },
      "outputs": [
        {
          "output_type": "execute_result",
          "data": {
            "text/plain": [
              "<tf.Tensor: shape=(3, 2), dtype=float32, numpy=\n",
              "array([[1., 2.],\n",
              "       [0., 0.],\n",
              "       [5., 7.]], dtype=float32)>"
            ]
          },
          "metadata": {},
          "execution_count": 64
        }
      ],
      "source": [
        "array.stack()"
      ]
    },
    {
      "cell_type": "code",
      "execution_count": 65,
      "metadata": {
        "colab": {
          "base_uri": "https://localhost:8080/"
        },
        "execution": {
          "iopub.execute_input": "2021-07-04T08:14:37.954033Z",
          "iopub.status.busy": "2021-07-04T08:14:37.953006Z",
          "iopub.status.idle": "2021-07-04T08:14:37.959558Z",
          "shell.execute_reply": "2021-07-04T08:14:37.960437Z"
        },
        "id": "Af5sF8MhnFSa",
        "outputId": "632e7d73-8c56-46db-fec9-c60a297ba1ce"
      },
      "outputs": [
        {
          "output_type": "execute_result",
          "data": {
            "text/plain": [
              "<tf.Tensor: shape=(2,), dtype=float32, numpy=array([2., 3.], dtype=float32)>"
            ]
          },
          "metadata": {},
          "execution_count": 65
        }
      ],
      "source": [
        "mean, variance = tf.nn.moments(array.stack(), axes=0)\n",
        "mean"
      ]
    },
    {
      "cell_type": "code",
      "execution_count": 66,
      "metadata": {
        "colab": {
          "base_uri": "https://localhost:8080/"
        },
        "execution": {
          "iopub.execute_input": "2021-07-04T08:14:37.966999Z",
          "iopub.status.busy": "2021-07-04T08:14:37.965953Z",
          "iopub.status.idle": "2021-07-04T08:14:37.971590Z",
          "shell.execute_reply": "2021-07-04T08:14:37.972416Z"
        },
        "id": "32DE6kdEnFSa",
        "outputId": "3d70f5a6-39bc-429f-9e9c-f861d71c16e5"
      },
      "outputs": [
        {
          "output_type": "execute_result",
          "data": {
            "text/plain": [
              "<tf.Tensor: shape=(2,), dtype=float32, numpy=array([4.6666665, 8.666667 ], dtype=float32)>"
            ]
          },
          "metadata": {},
          "execution_count": 66
        }
      ],
      "source": [
        "variance"
      ]
    },
    {
      "cell_type": "markdown",
      "metadata": {
        "id": "XPbiThrvnFSa"
      },
      "source": [
        "## 12.2.1 사용자 정의 손실 함수\n",
        "\n",
        "케라스에서 기본적으로 제공하는 함수 대신 다른 함수를 사용한다면 사용자가 직접 정의하여 사용할 수 있다.\n",
        "<br>이번 예시에 해당하는 함수는 __휴버 손실 함수__이다.\n",
        "\n"
      ]
    },
    {
      "cell_type": "markdown",
      "metadata": {
        "id": "g6PwQCm3nFSa"
      },
      "source": [
        "캘리포니아 주택 데이터셋을 로드하여 준비해 보겠습니다. 먼저 이 데이터셋을 로드한 다음 훈련 세트, 검증 세트, 테스트 세트로 나눕니다. 마지막으로 스케일을 변경합니다:"
      ]
    },
    {
      "cell_type": "code",
      "execution_count": 67,
      "metadata": {
        "execution": {
          "iopub.execute_input": "2021-07-04T08:14:37.984999Z",
          "iopub.status.busy": "2021-07-04T08:14:37.983928Z",
          "iopub.status.idle": "2021-07-04T08:14:38.072608Z",
          "shell.execute_reply": "2021-07-04T08:14:38.073492Z"
        },
        "id": "4Ze9UWvrnFSa"
      },
      "outputs": [],
      "source": [
        "from sklearn.datasets import fetch_california_housing\n",
        "from sklearn.model_selection import train_test_split\n",
        "from sklearn.preprocessing import StandardScaler\n",
        "\n",
        "housing = fetch_california_housing()\n",
        "X_train_full, X_test, y_train_full, y_test = train_test_split(\n",
        "    housing.data, housing.target.reshape(-1, 1), random_state=42)\n",
        "X_train, X_valid, y_train, y_valid = train_test_split(\n",
        "    X_train_full, y_train_full, random_state=42)\n",
        "\n",
        "scaler = StandardScaler()\n",
        "X_train_scaled = scaler.fit_transform(X_train)\n",
        "X_valid_scaled = scaler.transform(X_valid)\n",
        "X_test_scaled = scaler.transform(X_test)"
      ]
    },
    {
      "cell_type": "code",
      "execution_count": 68,
      "metadata": {
        "execution": {
          "iopub.execute_input": "2021-07-04T08:14:38.082413Z",
          "iopub.status.busy": "2021-07-04T08:14:38.081277Z",
          "iopub.status.idle": "2021-07-04T08:14:38.084633Z",
          "shell.execute_reply": "2021-07-04T08:14:38.085502Z"
        },
        "id": "SGVUuLCGnFSb"
      },
      "outputs": [],
      "source": [
        "def huber_fn(y_true, y_pred):\n",
        "    error = y_true - y_pred\n",
        "    is_small_error = tf.abs(error) < 1\n",
        "    squared_loss = tf.square(error) / 2\n",
        "    linear_loss  = tf.abs(error) - 0.5\n",
        "    return tf.where(is_small_error, squared_loss, linear_loss)\n",
        "\n",
        "    #1보다 오차가 작으면 작은 오차라고 취급한다."
      ]
    },
    {
      "cell_type": "code",
      "execution_count": 69,
      "metadata": {
        "colab": {
          "base_uri": "https://localhost:8080/",
          "height": 276
        },
        "execution": {
          "iopub.execute_input": "2021-07-04T08:14:38.104690Z",
          "iopub.status.busy": "2021-07-04T08:14:38.103561Z",
          "iopub.status.idle": "2021-07-04T08:14:38.706192Z",
          "shell.execute_reply": "2021-07-04T08:14:38.707483Z"
        },
        "id": "pr1qnz3_nFSb",
        "outputId": "a9f4f1cd-5f94-492e-ab92-22f23fc44e60"
      },
      "outputs": [
        {
          "output_type": "display_data",
          "data": {
            "text/plain": [
              "<Figure size 576x252 with 1 Axes>"
            ],
            "image/png": "[encoded data removed]"
          },
          "metadata": {
            "needs_background": "light"
          }
        }
      ],
      "source": [
        "plt.figure(figsize=(8, 3.5))\n",
        "z = np.linspace(-4, 4, 200)\n",
        "plt.plot(z, huber_fn(0, z), \"b-\", linewidth=2, label=\"huber($z$)\")\n",
        "plt.plot(z, z**2 / 2, \"b:\", linewidth=1, label=r\"$\\frac{1}{2}z^2$\")\n",
        "plt.plot([-1, -1], [0, huber_fn(0., -1.)], \"r--\")\n",
        "plt.plot([1, 1], [0, huber_fn(0., 1.)], \"r--\")\n",
        "plt.gca().axhline(y=0, color='k')\n",
        "plt.gca().axvline(x=0, color='k')\n",
        "plt.axis([-4, 4, 0, 4])\n",
        "plt.grid(True)\n",
        "plt.xlabel(\"$z$\")\n",
        "plt.legend(fontsize=14)\n",
        "plt.title(\"Huber loss\", fontsize=14)\n",
        "plt.show()"
      ]
    },
    {
      "cell_type": "code",
      "execution_count": 70,
      "metadata": {
        "execution": {
          "iopub.execute_input": "2021-07-04T08:14:38.725999Z",
          "iopub.status.busy": "2021-07-04T08:14:38.713775Z",
          "iopub.status.idle": "2021-07-04T08:14:38.743016Z",
          "shell.execute_reply": "2021-07-04T08:14:38.741652Z"
        },
        "id": "jaC8PoiYnFSb"
      },
      "outputs": [],
      "source": [
        "input_shape = X_train.shape[1:]\n",
        "\n",
        "model = keras.models.Sequential([\n",
        "    keras.layers.Dense(30, activation=\"selu\", kernel_initializer=\"lecun_normal\",\n",
        "                       input_shape=input_shape),\n",
        "    keras.layers.Dense(1),\n",
        "])"
      ]
    },
    {
      "cell_type": "code",
      "execution_count": 71,
      "metadata": {
        "execution": {
          "iopub.execute_input": "2021-07-04T08:14:38.762163Z",
          "iopub.status.busy": "2021-07-04T08:14:38.760591Z",
          "iopub.status.idle": "2021-07-04T08:14:38.764640Z",
          "shell.execute_reply": "2021-07-04T08:14:38.765729Z"
        },
        "id": "SiLyH6ncnFSc"
      },
      "outputs": [],
      "source": [
        "model.compile(loss=huber_fn, optimizer=\"nadam\", metrics=[\"mae\"])"
      ]
    },
    {
      "cell_type": "code",
      "execution_count": 72,
      "metadata": {
        "colab": {
          "base_uri": "https://localhost:8080/"
        },
        "execution": {
          "iopub.execute_input": "2021-07-04T08:14:38.772068Z",
          "iopub.status.busy": "2021-07-04T08:14:38.770797Z",
          "iopub.status.idle": "2021-07-04T08:14:43.521361Z",
          "shell.execute_reply": "2021-07-04T08:14:43.522572Z"
        },
        "id": "tMH11jIEnFSc",
        "outputId": "6a155492-ed06-47bd-b498-0735bc5ddfff",
        "scrolled": true
      },
      "outputs": [
        {
          "output_type": "stream",
          "name": "stdout",
          "text": [
            "Epoch 1/2\n",
            "363/363 [==============================] - 3s 4ms/step - loss: 0.6235 - mae: 0.9953 - val_loss: 0.2862 - val_mae: 0.5866\n",
            "Epoch 2/2\n",
            "363/363 [==============================] - 1s 3ms/step - loss: 0.2197 - mae: 0.5177 - val_loss: 0.2382 - val_mae: 0.5281\n"
          ]
        },
        {
          "output_type": "execute_result",
          "data": {
            "text/plain": [
              "<keras.callbacks.History at 0x7fde36616710>"
            ]
          },
          "metadata": {},
          "execution_count": 72
        }
      ],
      "source": [
        "model.fit(X_train_scaled, y_train, epochs=2,\n",
        "          validation_data=(X_valid_scaled, y_valid))"
      ]
    },
    {
      "cell_type": "markdown",
      "metadata": {
        "id": "GiDKxlo0nFSc"
      },
      "source": [
        "##12.3.2 사용자 정의 요소를 가진 모델을 저장하고 로드하기\n",
        "\n",
        "케라스가 함수 이름을 저장하기 떄문에 사용자 정의 손실 함수를 사용하는 모델은 아무 이상 없이 저장할 수 있다.\n",
        "\n",
        "기준값이 다른 휴버 손실 함수의 __기준값까지 저장__하기 위해선 휴버 손실 함수를 __클래스로 정의__해야한다."
      ]
    },
    {
      "cell_type": "code",
      "execution_count": 73,
      "metadata": {
        "execution": {
          "iopub.execute_input": "2021-07-04T08:14:43.554664Z",
          "iopub.status.busy": "2021-07-04T08:14:43.553745Z",
          "iopub.status.idle": "2021-07-04T08:14:43.583902Z",
          "shell.execute_reply": "2021-07-04T08:14:43.585209Z"
        },
        "id": "4vsC0bFSnFSc"
      },
      "outputs": [],
      "source": [
        "model.save(\"my_model_with_a_custom_loss.h5\")"
      ]
    },
    {
      "cell_type": "code",
      "execution_count": 74,
      "metadata": {
        "execution": {
          "iopub.execute_input": "2021-07-04T08:14:43.593971Z",
          "iopub.status.busy": "2021-07-04T08:14:43.592418Z",
          "iopub.status.idle": "2021-07-04T08:14:43.677265Z",
          "shell.execute_reply": "2021-07-04T08:14:43.678558Z"
        },
        "id": "DU0qVKUQnFSc"
      },
      "outputs": [],
      "source": [
        "model = keras.models.load_model(\"my_model_with_a_custom_loss.h5\",\n",
        "                                custom_objects={\"huber_fn\": huber_fn})\n",
        "#모델을 로드할 땐 사용자 정의 객체 이름- 사용자 정의 객체 를 매핑한 딕셔너리를 전달해야한다"
      ]
    },
    {
      "cell_type": "code",
      "execution_count": 75,
      "metadata": {
        "colab": {
          "base_uri": "https://localhost:8080/"
        },
        "execution": {
          "iopub.execute_input": "2021-07-04T08:14:43.686580Z",
          "iopub.status.busy": "2021-07-04T08:14:43.685128Z",
          "iopub.status.idle": "2021-07-04T08:14:47.493380Z",
          "shell.execute_reply": "2021-07-04T08:14:47.494505Z"
        },
        "id": "3D4RbreznFSc",
        "outputId": "7686cf44-c973-4bb8-a38c-acb0ad5c9257"
      },
      "outputs": [
        {
          "output_type": "stream",
          "name": "stdout",
          "text": [
            "Epoch 1/2\n",
            "363/363 [==============================] - 2s 4ms/step - loss: 0.2054 - mae: 0.4982 - val_loss: 0.2209 - val_mae: 0.5050\n",
            "Epoch 2/2\n",
            "363/363 [==============================] - 1s 4ms/step - loss: 0.1999 - mae: 0.4900 - val_loss: 0.2127 - val_mae: 0.4986\n"
          ]
        },
        {
          "output_type": "execute_result",
          "data": {
            "text/plain": [
              "<keras.callbacks.History at 0x7fde2fcdcf50>"
            ]
          },
          "metadata": {},
          "execution_count": 75
        }
      ],
      "source": [
        "model.fit(X_train_scaled, y_train, epochs=2,\n",
        "          validation_data=(X_valid_scaled, y_valid))"
      ]
    },
    {
      "cell_type": "code",
      "execution_count": 76,
      "metadata": {
        "execution": {
          "iopub.execute_input": "2021-07-04T08:14:47.505642Z",
          "iopub.status.busy": "2021-07-04T08:14:47.504658Z",
          "iopub.status.idle": "2021-07-04T08:14:47.508213Z",
          "shell.execute_reply": "2021-07-04T08:14:47.508984Z"
        },
        "id": "XU-KvpzJnFSc"
      },
      "outputs": [],
      "source": [
        "def create_huber(threshold=1.0):\n",
        "    def huber_fn(y_true, y_pred):\n",
        "        error = y_true - y_pred\n",
        "        is_small_error = tf.abs(error) < threshold\n",
        "        squared_loss = tf.square(error) / 2\n",
        "        linear_loss  = threshold * tf.abs(error) - threshold**2 / 2\n",
        "        return tf.where(is_small_error, squared_loss, linear_loss)\n",
        "    return huber_fn\n",
        "    #기준값을 전달받는 함수"
      ]
    },
    {
      "cell_type": "code",
      "execution_count": 77,
      "metadata": {
        "execution": {
          "iopub.execute_input": "2021-07-04T08:14:47.520740Z",
          "iopub.status.busy": "2021-07-04T08:14:47.516256Z",
          "iopub.status.idle": "2021-07-04T08:14:47.531481Z",
          "shell.execute_reply": "2021-07-04T08:14:47.532301Z"
        },
        "id": "pagOIVIvnFSd"
      },
      "outputs": [],
      "source": [
        "model.compile(loss=create_huber(2.0), optimizer=\"nadam\", metrics=[\"mae\"])"
      ]
    },
    {
      "cell_type": "code",
      "execution_count": 78,
      "metadata": {
        "colab": {
          "base_uri": "https://localhost:8080/"
        },
        "execution": {
          "iopub.execute_input": "2021-07-04T08:14:47.539616Z",
          "iopub.status.busy": "2021-07-04T08:14:47.538294Z",
          "iopub.status.idle": "2021-07-04T08:14:51.879755Z",
          "shell.execute_reply": "2021-07-04T08:14:51.880935Z"
        },
        "id": "VpXt3HOpnFSd",
        "outputId": "d61970a8-7653-4624-8bc9-002eb1b2cbbf",
        "scrolled": true
      },
      "outputs": [
        {
          "output_type": "stream",
          "name": "stdout",
          "text": [
            "Epoch 1/2\n",
            "363/363 [==============================] - 2s 4ms/step - loss: 0.2226 - mae: 0.4892 - val_loss: 0.2540 - val_mae: 0.4907\n",
            "Epoch 2/2\n",
            "363/363 [==============================] - 1s 3ms/step - loss: 0.2184 - mae: 0.4844 - val_loss: 0.2372 - val_mae: 0.4879\n"
          ]
        },
        {
          "output_type": "execute_result",
          "data": {
            "text/plain": [
              "<keras.callbacks.History at 0x7fde33c108d0>"
            ]
          },
          "metadata": {},
          "execution_count": 78
        }
      ],
      "source": [
        "model.fit(X_train_scaled, y_train, epochs=2,\n",
        "          validation_data=(X_valid_scaled, y_valid))"
      ]
    },
    {
      "cell_type": "code",
      "execution_count": 79,
      "metadata": {
        "execution": {
          "iopub.execute_input": "2021-07-04T08:14:51.914825Z",
          "iopub.status.busy": "2021-07-04T08:14:51.913722Z",
          "iopub.status.idle": "2021-07-04T08:14:51.946973Z",
          "shell.execute_reply": "2021-07-04T08:14:51.947805Z"
        },
        "id": "or-QRU9DnFSd"
      },
      "outputs": [],
      "source": [
        "model.save(\"my_model_with_a_custom_loss_threshold_2.h5\")"
      ]
    },
    {
      "cell_type": "code",
      "execution_count": 80,
      "metadata": {
        "execution": {
          "iopub.execute_input": "2021-07-04T08:14:51.956901Z",
          "iopub.status.busy": "2021-07-04T08:14:51.955368Z",
          "iopub.status.idle": "2021-07-04T08:14:52.037871Z",
          "shell.execute_reply": "2021-07-04T08:14:52.039072Z"
        },
        "id": "VRAUNTJxnFSd"
      },
      "outputs": [],
      "source": [
        "model = keras.models.load_model(\"my_model_with_a_custom_loss_threshold_2.h5\",\n",
        "                                custom_objects={\"huber_fn\": create_huber(2.0)})\n",
        "# 기준값을 저장할 수 없어 전달해주어야한다."
      ]
    },
    {
      "cell_type": "code",
      "execution_count": 81,
      "metadata": {
        "colab": {
          "base_uri": "https://localhost:8080/"
        },
        "execution": {
          "iopub.execute_input": "2021-07-04T08:14:52.047973Z",
          "iopub.status.busy": "2021-07-04T08:14:52.046462Z",
          "iopub.status.idle": "2021-07-04T08:14:55.927195Z",
          "shell.execute_reply": "2021-07-04T08:14:55.928267Z"
        },
        "id": "ZQIXRq1snFSd",
        "outputId": "7e3af51f-dfe2-4ce7-864d-3adccf892229"
      },
      "outputs": [
        {
          "output_type": "stream",
          "name": "stdout",
          "text": [
            "Epoch 1/2\n",
            "363/363 [==============================] - 2s 4ms/step - loss: 0.2147 - mae: 0.4800 - val_loss: 0.2133 - val_mae: 0.4654\n",
            "Epoch 2/2\n",
            "363/363 [==============================] - 1s 4ms/step - loss: 0.2119 - mae: 0.4762 - val_loss: 0.1992 - val_mae: 0.4643\n"
          ]
        },
        {
          "output_type": "execute_result",
          "data": {
            "text/plain": [
              "<keras.callbacks.History at 0x7fde33a875d0>"
            ]
          },
          "metadata": {},
          "execution_count": 81
        }
      ],
      "source": [
        "model.fit(X_train_scaled, y_train, epochs=2,\n",
        "          validation_data=(X_valid_scaled, y_valid))"
      ]
    },
    {
      "cell_type": "code",
      "execution_count": 82,
      "metadata": {
        "execution": {
          "iopub.execute_input": "2021-07-04T08:14:55.944343Z",
          "iopub.status.busy": "2021-07-04T08:14:55.943056Z",
          "iopub.status.idle": "2021-07-04T08:14:55.946321Z",
          "shell.execute_reply": "2021-07-04T08:14:55.947381Z"
        },
        "id": "3u4WR3alnFSd"
      },
      "outputs": [],
      "source": [
        "class HuberLoss(keras.losses.Loss):\n",
        "    def __init__(self, threshold=1.0, **kwargs):\n",
        "        self.threshold = threshold\n",
        "        super().__init__(**kwargs)\n",
        "    def call(self, y_true, y_pred):\n",
        "        error = y_true - y_pred\n",
        "        is_small_error = tf.abs(error) < self.threshold\n",
        "        squared_loss = tf.square(error) / 2\n",
        "        linear_loss  = self.threshold * tf.abs(error) - self.threshold**2 / 2\n",
        "        return tf.where(is_small_error, squared_loss, linear_loss)\n",
        "    def get_config(self):\n",
        "        base_config = super().get_config()\n",
        "        return {**base_config, \"threshold\": self.threshold}\n",
        "\n",
        "# keras.losses.Loss 클래스를 상속한 뒤 get_config() 메소드를 구현하면 해결된다."
      ]
    },
    {
      "cell_type": "code",
      "execution_count": 83,
      "metadata": {
        "execution": {
          "iopub.execute_input": "2021-07-04T08:14:55.961261Z",
          "iopub.status.busy": "2021-07-04T08:14:55.960228Z",
          "iopub.status.idle": "2021-07-04T08:14:55.981249Z",
          "shell.execute_reply": "2021-07-04T08:14:55.982560Z"
        },
        "id": "y1JdYpsKnFSd"
      },
      "outputs": [],
      "source": [
        "model = keras.models.Sequential([\n",
        "    keras.layers.Dense(30, activation=\"selu\", kernel_initializer=\"lecun_normal\",\n",
        "                       input_shape=input_shape),\n",
        "    keras.layers.Dense(1),\n",
        "])"
      ]
    },
    {
      "cell_type": "code",
      "execution_count": 84,
      "metadata": {
        "execution": {
          "iopub.execute_input": "2021-07-04T08:14:56.000735Z",
          "iopub.status.busy": "2021-07-04T08:14:55.999638Z",
          "iopub.status.idle": "2021-07-04T08:14:56.007356Z",
          "shell.execute_reply": "2021-07-04T08:14:56.008433Z"
        },
        "id": "MSvlez6KnFSd"
      },
      "outputs": [],
      "source": [
        "model.compile(loss=HuberLoss(2.), optimizer=\"nadam\", metrics=[\"mae\"])"
      ]
    },
    {
      "cell_type": "code",
      "execution_count": 85,
      "metadata": {
        "colab": {
          "base_uri": "https://localhost:8080/"
        },
        "execution": {
          "iopub.execute_input": "2021-07-04T08:14:56.016116Z",
          "iopub.status.busy": "2021-07-04T08:14:56.014749Z",
          "iopub.status.idle": "2021-07-04T08:15:00.300730Z",
          "shell.execute_reply": "2021-07-04T08:15:00.301680Z"
        },
        "id": "AgKhF3hKnFSd",
        "outputId": "b1cdd364-f860-4476-f507-af4b7176da26",
        "scrolled": false
      },
      "outputs": [
        {
          "output_type": "stream",
          "name": "stdout",
          "text": [
            "Epoch 1/2\n",
            "363/363 [==============================] - 3s 4ms/step - loss: 0.7095 - mae: 0.8863 - val_loss: 0.3378 - val_mae: 0.5485\n",
            "Epoch 2/2\n",
            "363/363 [==============================] - 1s 4ms/step - loss: 0.2416 - mae: 0.5083 - val_loss: 0.2660 - val_mae: 0.5089\n"
          ]
        },
        {
          "output_type": "execute_result",
          "data": {
            "text/plain": [
              "<keras.callbacks.History at 0x7fde33946650>"
            ]
          },
          "metadata": {},
          "execution_count": 85
        }
      ],
      "source": [
        "model.fit(X_train_scaled, y_train, epochs=2,\n",
        "          validation_data=(X_valid_scaled, y_valid))"
      ]
    },
    {
      "cell_type": "code",
      "execution_count": 86,
      "metadata": {
        "execution": {
          "iopub.execute_input": "2021-07-04T08:15:00.335267Z",
          "iopub.status.busy": "2021-07-04T08:15:00.333773Z",
          "iopub.status.idle": "2021-07-04T08:15:00.369221Z",
          "shell.execute_reply": "2021-07-04T08:15:00.370473Z"
        },
        "id": "uyTT256tnFSe"
      },
      "outputs": [],
      "source": [
        "model.save(\"my_model_with_a_custom_loss_class.h5\")"
      ]
    },
    {
      "cell_type": "code",
      "execution_count": 87,
      "metadata": {
        "execution": {
          "iopub.execute_input": "2021-07-04T08:15:00.379781Z",
          "iopub.status.busy": "2021-07-04T08:15:00.378195Z",
          "iopub.status.idle": "2021-07-04T08:15:00.460926Z",
          "shell.execute_reply": "2021-07-04T08:15:00.462302Z"
        },
        "id": "Ot6cK1oYnFSe"
      },
      "outputs": [],
      "source": [
        "model = keras.models.load_model(\"my_model_with_a_custom_loss_class.h5\",\n",
        "                                custom_objects={\"HuberLoss\": HuberLoss})"
      ]
    },
    {
      "cell_type": "code",
      "execution_count": 88,
      "metadata": {
        "colab": {
          "base_uri": "https://localhost:8080/"
        },
        "execution": {
          "iopub.execute_input": "2021-07-04T08:15:00.471143Z",
          "iopub.status.busy": "2021-07-04T08:15:00.469597Z",
          "iopub.status.idle": "2021-07-04T08:15:04.566644Z",
          "shell.execute_reply": "2021-07-04T08:15:04.567732Z"
        },
        "id": "M9OIPCgNnFSe",
        "outputId": "ab1774d1-2677-4cba-9958-9dcb13051e96"
      },
      "outputs": [
        {
          "output_type": "stream",
          "name": "stdout",
          "text": [
            "Epoch 1/2\n",
            "363/363 [==============================] - 2s 4ms/step - loss: 0.2286 - mae: 0.4970 - val_loss: 0.2120 - val_mae: 0.4723\n",
            "Epoch 2/2\n",
            "363/363 [==============================] - 1s 3ms/step - loss: 0.2216 - mae: 0.4904 - val_loss: 0.2045 - val_mae: 0.4725\n"
          ]
        },
        {
          "output_type": "execute_result",
          "data": {
            "text/plain": [
              "<keras.callbacks.History at 0x7fde3372c990>"
            ]
          },
          "metadata": {},
          "execution_count": 88
        }
      ],
      "source": [
        "model.fit(X_train_scaled, y_train, epochs=2,\n",
        "          validation_data=(X_valid_scaled, y_valid))"
      ]
    },
    {
      "cell_type": "code",
      "execution_count": 89,
      "metadata": {
        "colab": {
          "base_uri": "https://localhost:8080/"
        },
        "execution": {
          "iopub.execute_input": "2021-07-04T08:15:04.576492Z",
          "iopub.status.busy": "2021-07-04T08:15:04.575437Z",
          "iopub.status.idle": "2021-07-04T08:15:04.580464Z",
          "shell.execute_reply": "2021-07-04T08:15:04.581297Z"
        },
        "id": "jpZgLrW-nFSe",
        "outputId": "026d2571-37e4-4d4b-c528-111e60bdebd7"
      },
      "outputs": [
        {
          "output_type": "execute_result",
          "data": {
            "text/plain": [
              "2.0"
            ]
          },
          "metadata": {},
          "execution_count": 89
        }
      ],
      "source": [
        "model.loss.threshold"
      ]
    },
    {
      "cell_type": "markdown",
      "metadata": {
        "id": "truxJ-5enFSe"
      },
      "source": [
        "##12.3. 활성화 함수, 초기화, 규제, 제한을 커스터마이징 하기\n",
        "손실, 규제, 제한, 초기화, 지표, 활성화 함수, 층 , 모델 등 케라스 대부분의 기능은 위의 휴버 손실 함수와 같은 방법으로 __저장할 수 있다.__"
      ]
    },
    {
      "cell_type": "code",
      "execution_count": 90,
      "metadata": {
        "execution": {
          "iopub.execute_input": "2021-07-04T08:15:04.589988Z",
          "iopub.status.busy": "2021-07-04T08:15:04.588495Z",
          "iopub.status.idle": "2021-07-04T08:15:04.629460Z",
          "shell.execute_reply": "2021-07-04T08:15:04.627925Z"
        },
        "id": "o1ZGp6XNnFSe"
      },
      "outputs": [],
      "source": [
        "keras.backend.clear_session()\n",
        "np.random.seed(42)\n",
        "tf.random.set_seed(42)"
      ]
    },
    {
      "cell_type": "code",
      "execution_count": 91,
      "metadata": {
        "execution": {
          "iopub.execute_input": "2021-07-04T08:15:04.651373Z",
          "iopub.status.busy": "2021-07-04T08:15:04.649654Z",
          "iopub.status.idle": "2021-07-04T08:15:04.653191Z",
          "shell.execute_reply": "2021-07-04T08:15:04.654590Z"
        },
        "id": "yB3e_4JbnFSe"
      },
      "outputs": [],
      "source": [
        "def my_softplus(z): # tf.nn.softplus(z) 값을 반환합니다\n",
        "    return tf.math.log(tf.exp(z) + 1.0)\n",
        "\n",
        "def my_glorot_initializer(shape, dtype=tf.float32):\n",
        "    stddev = tf.sqrt(2. / (shape[0] + shape[1]))\n",
        "    return tf.random.normal(shape, stddev=stddev, dtype=dtype)\n",
        "\n",
        "def my_l1_regularizer(weights):\n",
        "    return tf.reduce_sum(tf.abs(0.01 * weights))\n",
        "\n",
        "def my_positive_weights(weights): # tf.nn.relu(weights) 값을 반환합니다\n",
        "    return tf.where(weights < 0., tf.zeros_like(weights), weights)"
      ]
    },
    {
      "cell_type": "code",
      "execution_count": 92,
      "metadata": {
        "execution": {
          "iopub.execute_input": "2021-07-04T08:15:04.665873Z",
          "iopub.status.busy": "2021-07-04T08:15:04.664915Z",
          "iopub.status.idle": "2021-07-04T08:15:04.668497Z",
          "shell.execute_reply": "2021-07-04T08:15:04.669224Z"
        },
        "id": "KoYamcfmnFSf"
      },
      "outputs": [],
      "source": [
        "layer = keras.layers.Dense(1, activation=my_softplus,\n",
        "                           kernel_initializer=my_glorot_initializer,\n",
        "                           kernel_regularizer=my_l1_regularizer,\n",
        "                           kernel_constraint=my_positive_weights)"
      ]
    },
    {
      "cell_type": "code",
      "execution_count": 93,
      "metadata": {
        "execution": {
          "iopub.execute_input": "2021-07-04T08:15:04.676960Z",
          "iopub.status.busy": "2021-07-04T08:15:04.675394Z",
          "iopub.status.idle": "2021-07-04T08:15:04.681627Z",
          "shell.execute_reply": "2021-07-04T08:15:04.682609Z"
        },
        "id": "OjTWCzNknFSf"
      },
      "outputs": [],
      "source": [
        "keras.backend.clear_session()\n",
        "np.random.seed(42)\n",
        "tf.random.set_seed(42)"
      ]
    },
    {
      "cell_type": "code",
      "execution_count": 94,
      "metadata": {
        "execution": {
          "iopub.execute_input": "2021-07-04T08:15:04.698955Z",
          "iopub.status.busy": "2021-07-04T08:15:04.697532Z",
          "iopub.status.idle": "2021-07-04T08:15:04.725625Z",
          "shell.execute_reply": "2021-07-04T08:15:04.726757Z"
        },
        "id": "eOl39GkynFSf"
      },
      "outputs": [],
      "source": [
        "model = keras.models.Sequential([\n",
        "    keras.layers.Dense(30, activation=\"selu\", kernel_initializer=\"lecun_normal\",\n",
        "                       input_shape=input_shape),\n",
        "    keras.layers.Dense(1, activation=my_softplus,\n",
        "                       kernel_regularizer=my_l1_regularizer,\n",
        "                       kernel_constraint=my_positive_weights,\n",
        "                       kernel_initializer=my_glorot_initializer),\n",
        "])"
      ]
    },
    {
      "cell_type": "code",
      "execution_count": 95,
      "metadata": {
        "execution": {
          "iopub.execute_input": "2021-07-04T08:15:04.744912Z",
          "iopub.status.busy": "2021-07-04T08:15:04.743523Z",
          "iopub.status.idle": "2021-07-04T08:15:04.751176Z",
          "shell.execute_reply": "2021-07-04T08:15:04.752176Z"
        },
        "id": "Pj0gQWgnnFSf"
      },
      "outputs": [],
      "source": [
        "model.compile(loss=\"mse\", optimizer=\"nadam\", metrics=[\"mae\"])"
      ]
    },
    {
      "cell_type": "code",
      "execution_count": 96,
      "metadata": {
        "colab": {
          "base_uri": "https://localhost:8080/"
        },
        "execution": {
          "iopub.execute_input": "2021-07-04T08:15:04.761800Z",
          "iopub.status.busy": "2021-07-04T08:15:04.760020Z",
          "iopub.status.idle": "2021-07-04T08:15:09.144757Z",
          "shell.execute_reply": "2021-07-04T08:15:09.145795Z"
        },
        "id": "c1nX7r3RnFSf",
        "outputId": "0ce073af-87f3-46b7-b19f-d849792e27ea",
        "scrolled": false
      },
      "outputs": [
        {
          "output_type": "stream",
          "name": "stdout",
          "text": [
            "Epoch 1/2\n",
            "363/363 [==============================] - 2s 4ms/step - loss: 1.5542 - mae: 0.8962 - val_loss: 1.4154 - val_mae: 0.5607\n",
            "Epoch 2/2\n",
            "363/363 [==============================] - 1s 4ms/step - loss: 0.5943 - mae: 0.5256 - val_loss: 1.4399 - val_mae: 0.5137\n"
          ]
        },
        {
          "output_type": "execute_result",
          "data": {
            "text/plain": [
              "<keras.callbacks.History at 0x7fde335d4650>"
            ]
          },
          "metadata": {},
          "execution_count": 96
        }
      ],
      "source": [
        "model.fit(X_train_scaled, y_train, epochs=2,\n",
        "          validation_data=(X_valid_scaled, y_valid))"
      ]
    },
    {
      "cell_type": "code",
      "execution_count": 97,
      "metadata": {
        "execution": {
          "iopub.execute_input": "2021-07-04T08:15:09.167536Z",
          "iopub.status.busy": "2021-07-04T08:15:09.166470Z",
          "iopub.status.idle": "2021-07-04T08:15:09.199791Z",
          "shell.execute_reply": "2021-07-04T08:15:09.201240Z"
        },
        "id": "--fx4XjEnFSf"
      },
      "outputs": [],
      "source": [
        "model.save(\"my_model_with_many_custom_parts.h5\")"
      ]
    },
    {
      "cell_type": "code",
      "execution_count": 98,
      "metadata": {
        "execution": {
          "iopub.execute_input": "2021-07-04T08:15:09.211908Z",
          "iopub.status.busy": "2021-07-04T08:15:09.210859Z",
          "iopub.status.idle": "2021-07-04T08:15:09.299636Z",
          "shell.execute_reply": "2021-07-04T08:15:09.298692Z"
        },
        "id": "mzao-J6hnFSf"
      },
      "outputs": [],
      "source": [
        "model = keras.models.load_model(\n",
        "    \"my_model_with_many_custom_parts.h5\",\n",
        "    custom_objects={\n",
        "       \"my_l1_regularizer\": my_l1_regularizer,\n",
        "       \"my_positive_weights\": my_positive_weights,\n",
        "       \"my_glorot_initializer\": my_glorot_initializer,\n",
        "       \"my_softplus\": my_softplus,\n",
        "    })"
      ]
    },
    {
      "cell_type": "markdown",
      "source": [
        "함수가 모델과 함께 저장해야할 파라미터가 있다면 알맞은 __부모클래스를 상속하여 구현__하면 된다."
      ],
      "metadata": {
        "id": "yGKoM2U9KO-3"
      }
    },
    {
      "cell_type": "code",
      "execution_count": 99,
      "metadata": {
        "execution": {
          "iopub.execute_input": "2021-07-04T08:15:09.311370Z",
          "iopub.status.busy": "2021-07-04T08:15:09.309901Z",
          "iopub.status.idle": "2021-07-04T08:15:09.313019Z",
          "shell.execute_reply": "2021-07-04T08:15:09.314231Z"
        },
        "id": "jCVaCcxwnFSf"
      },
      "outputs": [],
      "source": [
        "class MyL1Regularizer(keras.regularizers.Regularizer):\n",
        "    def __init__(self, factor):\n",
        "        self.factor = factor\n",
        "    def __call__(self, weights):\n",
        "        return tf.reduce_sum(tf.abs(self.factor * weights))\n",
        "    def get_config(self):\n",
        "        return {\"factor\": self.factor}\n",
        "    #위 사용자정의 regulizer를 keras.regulizers.Regularizer를 상속해 정의한 못습/"
      ]
    },
    {
      "cell_type": "code",
      "execution_count": 100,
      "metadata": {
        "execution": {
          "iopub.execute_input": "2021-07-04T08:15:09.323296Z",
          "iopub.status.busy": "2021-07-04T08:15:09.322226Z",
          "iopub.status.idle": "2021-07-04T08:15:09.331068Z",
          "shell.execute_reply": "2021-07-04T08:15:09.331982Z"
        },
        "id": "8B62Te2ZnFSf"
      },
      "outputs": [],
      "source": [
        "keras.backend.clear_session()\n",
        "np.random.seed(42)\n",
        "tf.random.set_seed(42)"
      ]
    },
    {
      "cell_type": "code",
      "execution_count": 101,
      "metadata": {
        "execution": {
          "iopub.execute_input": "2021-07-04T08:15:09.336986Z",
          "iopub.status.busy": "2021-07-04T08:15:09.335822Z",
          "iopub.status.idle": "2021-07-04T08:15:09.371820Z",
          "shell.execute_reply": "2021-07-04T08:15:09.372684Z"
        },
        "id": "D5zjm10KnFSg"
      },
      "outputs": [],
      "source": [
        "model = keras.models.Sequential([\n",
        "    keras.layers.Dense(30, activation=\"selu\", kernel_initializer=\"lecun_normal\",\n",
        "                       input_shape=input_shape),\n",
        "    keras.layers.Dense(1, activation=my_softplus,\n",
        "                       kernel_regularizer=MyL1Regularizer(0.01),\n",
        "                       kernel_constraint=my_positive_weights,\n",
        "                       kernel_initializer=my_glorot_initializer),\n",
        "])\n",
        "#사용자 정의 함수는 제공되는 함수와 같은 방식으로 사용할 수 있다."
      ]
    },
    {
      "cell_type": "code",
      "execution_count": 102,
      "metadata": {
        "execution": {
          "iopub.execute_input": "2021-07-04T08:15:09.376664Z",
          "iopub.status.busy": "2021-07-04T08:15:09.375792Z",
          "iopub.status.idle": "2021-07-04T08:15:09.394320Z",
          "shell.execute_reply": "2021-07-04T08:15:09.393397Z"
        },
        "id": "YffhdIG-nFSg"
      },
      "outputs": [],
      "source": [
        "model.compile(loss=\"mse\", optimizer=\"nadam\", metrics=[\"mae\"])"
      ]
    },
    {
      "cell_type": "code",
      "execution_count": 103,
      "metadata": {
        "colab": {
          "base_uri": "https://localhost:8080/"
        },
        "execution": {
          "iopub.execute_input": "2021-07-04T08:15:09.400219Z",
          "iopub.status.busy": "2021-07-04T08:15:09.397613Z",
          "iopub.status.idle": "2021-07-04T08:15:13.847502Z",
          "shell.execute_reply": "2021-07-04T08:15:13.848611Z"
        },
        "id": "KgQEiQR6nFSg",
        "outputId": "29a445dc-d6e5-4cb9-d56b-1cbb4e631973"
      },
      "outputs": [
        {
          "output_type": "stream",
          "name": "stdout",
          "text": [
            "Epoch 1/2\n",
            "363/363 [==============================] - 2s 4ms/step - loss: 1.5542 - mae: 0.8962 - val_loss: 1.4154 - val_mae: 0.5607\n",
            "Epoch 2/2\n",
            "363/363 [==============================] - 1s 4ms/step - loss: 0.5943 - mae: 0.5256 - val_loss: 1.4399 - val_mae: 0.5137\n"
          ]
        },
        {
          "output_type": "execute_result",
          "data": {
            "text/plain": [
              "<keras.callbacks.History at 0x7fde32bf5510>"
            ]
          },
          "metadata": {},
          "execution_count": 103
        }
      ],
      "source": [
        "model.fit(X_train_scaled, y_train, epochs=2,\n",
        "          validation_data=(X_valid_scaled, y_valid))"
      ]
    },
    {
      "cell_type": "code",
      "execution_count": 104,
      "metadata": {
        "execution": {
          "iopub.execute_input": "2021-07-04T08:15:13.868331Z",
          "iopub.status.busy": "2021-07-04T08:15:13.866654Z",
          "iopub.status.idle": "2021-07-04T08:15:13.896032Z",
          "shell.execute_reply": "2021-07-04T08:15:13.897428Z"
        },
        "id": "RfI--9P8nFSg"
      },
      "outputs": [],
      "source": [
        "model.save(\"my_model_with_many_custom_parts.h5\")"
      ]
    },
    {
      "cell_type": "code",
      "execution_count": 105,
      "metadata": {
        "execution": {
          "iopub.execute_input": "2021-07-04T08:15:13.907144Z",
          "iopub.status.busy": "2021-07-04T08:15:13.905960Z",
          "iopub.status.idle": "2021-07-04T08:15:13.987931Z",
          "shell.execute_reply": "2021-07-04T08:15:13.988742Z"
        },
        "id": "bKcPzkuGnFSh"
      },
      "outputs": [],
      "source": [
        "model = keras.models.load_model(\n",
        "    \"my_model_with_many_custom_parts.h5\",\n",
        "    custom_objects={\n",
        "       \"MyL1Regularizer\": MyL1Regularizer,\n",
        "       \"my_positive_weights\": my_positive_weights,\n",
        "       \"my_glorot_initializer\": my_glorot_initializer,\n",
        "       \"my_softplus\": my_softplus,\n",
        "    })\n",
        "\n",
        "#사용자 정의 객체들은 그 이름과 매핑된 딕셔너리를 통해 불러와야한다."
      ]
    },
    {
      "cell_type": "markdown",
      "metadata": {
        "id": "8i816JgTnFSh"
      },
      "source": [
        "## 12.3.4 사용자 정의 지표"
      ]
    },
    {
      "cell_type": "code",
      "execution_count": 106,
      "metadata": {
        "execution": {
          "iopub.execute_input": "2021-07-04T08:15:14.004630Z",
          "iopub.status.busy": "2021-07-04T08:15:13.996233Z",
          "iopub.status.idle": "2021-07-04T08:15:14.010998Z",
          "shell.execute_reply": "2021-07-04T08:15:14.009850Z"
        },
        "id": "EZWWawkinFSh"
      },
      "outputs": [],
      "source": [
        "keras.backend.clear_session()\n",
        "np.random.seed(42)\n",
        "tf.random.set_seed(42)"
      ]
    },
    {
      "cell_type": "code",
      "execution_count": 107,
      "metadata": {
        "execution": {
          "iopub.execute_input": "2021-07-04T08:15:14.025252Z",
          "iopub.status.busy": "2021-07-04T08:15:14.023888Z",
          "iopub.status.idle": "2021-07-04T08:15:14.047903Z",
          "shell.execute_reply": "2021-07-04T08:15:14.048881Z"
        },
        "id": "K1fe2oELnFSh"
      },
      "outputs": [],
      "source": [
        "model = keras.models.Sequential([\n",
        "    keras.layers.Dense(30, activation=\"selu\", kernel_initializer=\"lecun_normal\",\n",
        "                       input_shape=input_shape),\n",
        "    keras.layers.Dense(1),\n",
        "])"
      ]
    },
    {
      "cell_type": "code",
      "execution_count": 108,
      "metadata": {
        "execution": {
          "iopub.execute_input": "2021-07-04T08:15:14.065249Z",
          "iopub.status.busy": "2021-07-04T08:15:14.064079Z",
          "iopub.status.idle": "2021-07-04T08:15:14.070303Z",
          "shell.execute_reply": "2021-07-04T08:15:14.071380Z"
        },
        "id": "SIHTKaKNnFSh"
      },
      "outputs": [],
      "source": [
        "model.compile(loss=\"mse\", optimizer=\"nadam\", metrics=[create_huber(2.0)])"
      ]
    },
    {
      "cell_type": "code",
      "execution_count": 109,
      "metadata": {
        "colab": {
          "base_uri": "https://localhost:8080/"
        },
        "execution": {
          "iopub.execute_input": "2021-07-04T08:15:14.078905Z",
          "iopub.status.busy": "2021-07-04T08:15:14.077659Z",
          "iopub.status.idle": "2021-07-04T08:15:17.591938Z",
          "shell.execute_reply": "2021-07-04T08:15:17.592933Z"
        },
        "id": "g4l-_an2nFSh",
        "outputId": "ff86b74b-c7e4-46ff-ac37-6007567d7903"
      },
      "outputs": [
        {
          "output_type": "stream",
          "name": "stdout",
          "text": [
            "Epoch 1/2\n",
            "363/363 [==============================] - 2s 3ms/step - loss: 2.0982 - huber_fn: 0.9192\n",
            "Epoch 2/2\n",
            "363/363 [==============================] - 1s 3ms/step - loss: 0.6052 - huber_fn: 0.2733\n"
          ]
        },
        {
          "output_type": "execute_result",
          "data": {
            "text/plain": [
              "<keras.callbacks.History at 0x7fde32a02390>"
            ]
          },
          "metadata": {},
          "execution_count": 109
        }
      ],
      "source": [
        "model.fit(X_train_scaled, y_train, epochs=2)"
      ]
    },
    {
      "cell_type": "markdown",
      "metadata": {
        "id": "ZqeCDPtvnFSh"
      },
      "source": [
        "**노트**: 손실과 지표에 같은 함수를 사용하면 다른 결과가 나올 수 있습니다. 이는 일반적으로 __부동 소수점 정밀도 오차__ 때문입니다. 수학 식이 동일하더라도 연산은 동일한 순서대로 실행되지 않습니다. 이로 인해 작은 차이가 발생합니다. 또한 샘플 가중치를 사용하면 정밀도보다 더 큰 오차가 생깁니다:\n",
        "\n",
        "* 에포크에서 손실은 지금까지 본 모든 배치 손실의 평균입니다. 각 배치 손실은 가중치가 적용된 샘플 손실의 합을 _배치 크기_ 로 나눈 것입니다(샘플 가중치의 합으로 나눈 것이 아닙니다. 따라서 배치 손실은 손실의 가중 평균이 아닙니다).\n",
        "* 에포크에서 지표는 가중치가 적용된 샘플 손실의 합을 지금까지 본 모든 샘플 가중치의 합으로 나눈 것입니다. 다른 말로하면 모든 샘플 손실의 가중 평균입니다. 따라서 위와 같지 않습니다.\n",
        "\n",
        "수학적으로 말하면 손실 = 지표 * 샘플 가중치의 평균(더하기 약간의 부동 소수점 정밀도 오차)입니다."
      ]
    },
    {
      "cell_type": "code",
      "execution_count": 110,
      "metadata": {
        "execution": {
          "iopub.execute_input": "2021-07-04T08:15:17.602557Z",
          "iopub.status.busy": "2021-07-04T08:15:17.601483Z",
          "iopub.status.idle": "2021-07-04T08:15:17.618592Z",
          "shell.execute_reply": "2021-07-04T08:15:17.619398Z"
        },
        "id": "9DGQB6V3nFSh"
      },
      "outputs": [],
      "source": [
        "model.compile(loss=create_huber(2.0), optimizer=\"nadam\", metrics=[create_huber(2.0)])"
      ]
    },
    {
      "cell_type": "code",
      "execution_count": 111,
      "metadata": {
        "colab": {
          "base_uri": "https://localhost:8080/"
        },
        "execution": {
          "iopub.execute_input": "2021-07-04T08:15:17.626600Z",
          "iopub.status.busy": "2021-07-04T08:15:17.625547Z",
          "iopub.status.idle": "2021-07-04T08:15:22.357734Z",
          "shell.execute_reply": "2021-07-04T08:15:22.356536Z"
        },
        "id": "EjeISBIOnFSh",
        "outputId": "5e4205a7-cb79-4eb8-e33f-c00b49a3eee6"
      },
      "outputs": [
        {
          "output_type": "stream",
          "name": "stdout",
          "text": [
            "Epoch 1/2\n",
            "363/363 [==============================] - 2s 3ms/step - loss: 0.1175 - huber_fn: 0.2399\n",
            "Epoch 2/2\n",
            "363/363 [==============================] - 1s 3ms/step - loss: 0.1131 - huber_fn: 0.2297\n"
          ]
        }
      ],
      "source": [
        "sample_weight = np.random.rand(len(y_train))\n",
        "history = model.fit(X_train_scaled, y_train, epochs=2, sample_weight=sample_weight)"
      ]
    },
    {
      "cell_type": "code",
      "execution_count": 112,
      "metadata": {
        "colab": {
          "base_uri": "https://localhost:8080/"
        },
        "execution": {
          "iopub.execute_input": "2021-07-04T08:15:22.369800Z",
          "iopub.status.busy": "2021-07-04T08:15:22.368364Z",
          "iopub.status.idle": "2021-07-04T08:15:22.373044Z",
          "shell.execute_reply": "2021-07-04T08:15:22.374077Z"
        },
        "id": "eKbXc3FInFSi",
        "outputId": "64d96625-2840-4d0a-b0d7-26fe248103a3"
      },
      "outputs": [
        {
          "output_type": "execute_result",
          "data": {
            "text/plain": [
              "(0.11749907582998276, 0.11906625573138947)"
            ]
          },
          "metadata": {},
          "execution_count": 112
        }
      ],
      "source": [
        "history.history[\"loss\"][0], history.history[\"huber_fn\"][0] * sample_weight.mean()"
      ]
    },
    {
      "cell_type": "markdown",
      "metadata": {
        "id": "8_Df63lFnFSi"
      },
      "source": [
        "### 스트리밍 지표\n",
        "\n",
        "스트리밍 지표를 사용자 정의로 만들고 싶다면 keras.metrics.Metric을 상속한다."
      ]
    },
    {
      "cell_type": "code",
      "execution_count": 113,
      "metadata": {
        "colab": {
          "base_uri": "https://localhost:8080/"
        },
        "execution": {
          "iopub.execute_input": "2021-07-04T08:15:22.626671Z",
          "iopub.status.busy": "2021-07-04T08:15:22.624853Z",
          "iopub.status.idle": "2021-07-04T08:15:22.749065Z",
          "shell.execute_reply": "2021-07-04T08:15:22.750374Z"
        },
        "id": "7wW4uLd9nFSi",
        "outputId": "294875ff-2f89-4bbc-8b49-bf680b854b99"
      },
      "outputs": [
        {
          "output_type": "execute_result",
          "data": {
            "text/plain": [
              "<tf.Tensor: shape=(), dtype=float32, numpy=0.8>"
            ]
          },
          "metadata": {},
          "execution_count": 113
        }
      ],
      "source": [
        "precision = keras.metrics.Precision()\n",
        "precision([0, 1, 1, 1, 0, 1, 0, 1], [1, 1, 0, 1, 0, 1, 0, 1])"
      ]
    },
    {
      "cell_type": "code",
      "execution_count": 114,
      "metadata": {
        "colab": {
          "base_uri": "https://localhost:8080/"
        },
        "execution": {
          "iopub.execute_input": "2021-07-04T08:15:22.759945Z",
          "iopub.status.busy": "2021-07-04T08:15:22.759008Z",
          "iopub.status.idle": "2021-07-04T08:15:22.769857Z",
          "shell.execute_reply": "2021-07-04T08:15:22.770856Z"
        },
        "id": "zed4nGD3nFSi",
        "outputId": "6fcf39bd-1fea-4a60-8554-f0daa98d777e"
      },
      "outputs": [
        {
          "output_type": "execute_result",
          "data": {
            "text/plain": [
              "<tf.Tensor: shape=(), dtype=float32, numpy=0.5>"
            ]
          },
          "metadata": {},
          "execution_count": 114
        }
      ],
      "source": [
        "precision([0, 1, 0, 0, 1, 0, 1, 1], [1, 0, 1, 1, 0, 0, 0, 0])"
      ]
    },
    {
      "cell_type": "code",
      "execution_count": 115,
      "metadata": {
        "colab": {
          "base_uri": "https://localhost:8080/"
        },
        "execution": {
          "iopub.execute_input": "2021-07-04T08:15:22.777898Z",
          "iopub.status.busy": "2021-07-04T08:15:22.776585Z",
          "iopub.status.idle": "2021-07-04T08:15:22.783204Z",
          "shell.execute_reply": "2021-07-04T08:15:22.784016Z"
        },
        "id": "RqFgNHLPnFSi",
        "outputId": "9493d76a-cccf-4528-c731-c89a60331f38"
      },
      "outputs": [
        {
          "output_type": "execute_result",
          "data": {
            "text/plain": [
              "<tf.Tensor: shape=(), dtype=float32, numpy=0.5>"
            ]
          },
          "metadata": {},
          "execution_count": 115
        }
      ],
      "source": [
        "precision.result()"
      ]
    },
    {
      "cell_type": "code",
      "execution_count": 116,
      "metadata": {
        "colab": {
          "base_uri": "https://localhost:8080/"
        },
        "execution": {
          "iopub.execute_input": "2021-07-04T08:15:22.791061Z",
          "iopub.status.busy": "2021-07-04T08:15:22.789955Z",
          "iopub.status.idle": "2021-07-04T08:15:22.796509Z",
          "shell.execute_reply": "2021-07-04T08:15:22.797376Z"
        },
        "id": "DoCvoOt5nFSi",
        "outputId": "ac4d009c-e4f4-4416-f789-141b5b0ce94d"
      },
      "outputs": [
        {
          "output_type": "execute_result",
          "data": {
            "text/plain": [
              "[<tf.Variable 'true_positives:0' shape=(1,) dtype=float32, numpy=array([4.], dtype=float32)>,\n",
              " <tf.Variable 'false_positives:0' shape=(1,) dtype=float32, numpy=array([4.], dtype=float32)>]"
            ]
          },
          "metadata": {},
          "execution_count": 116
        }
      ],
      "source": [
        "precision.variables"
      ]
    },
    {
      "cell_type": "code",
      "execution_count": 117,
      "metadata": {
        "execution": {
          "iopub.execute_input": "2021-07-04T08:15:22.803983Z",
          "iopub.status.busy": "2021-07-04T08:15:22.802886Z",
          "iopub.status.idle": "2021-07-04T08:15:22.807339Z",
          "shell.execute_reply": "2021-07-04T08:15:22.808102Z"
        },
        "id": "Bb3EbnzGnFSi"
      },
      "outputs": [],
      "source": [
        "precision.reset_states()"
      ]
    },
    {
      "cell_type": "markdown",
      "metadata": {
        "id": "WuhZp4TEnFSi"
      },
      "source": [
        "스트리밍 지표 만들기:"
      ]
    },
    {
      "cell_type": "code",
      "execution_count": 118,
      "metadata": {
        "execution": {
          "iopub.execute_input": "2021-07-04T08:15:22.825852Z",
          "iopub.status.busy": "2021-07-04T08:15:22.824787Z",
          "iopub.status.idle": "2021-07-04T08:15:22.828894Z",
          "shell.execute_reply": "2021-07-04T08:15:22.829904Z"
        },
        "id": "PseG5pPUnFSi"
      },
      "outputs": [],
      "source": [
        "class HuberMetric(keras.metrics.Metric):\n",
        "    def __init__(self, threshold=1.0, **kwargs):\n",
        "        super().__init__(**kwargs) # 기본 매개변수 처리 (예를 들면, dtype)\n",
        "        self.threshold = threshold\n",
        "        self.huber_fn = create_huber(threshold)\n",
        "        self.total = self.add_weight(\"total\", initializer=\"zeros\")\n",
        "        self.count = self.add_weight(\"count\", initializer=\"zeros\")\n",
        "    def update_state(self, y_true, y_pred, sample_weight=None):\n",
        "        metric = self.huber_fn(y_true, y_pred)\n",
        "        self.total.assign_add(tf.reduce_sum(metric))\n",
        "        self.count.assign_add(tf.cast(tf.size(y_true), tf.float32))\n",
        "    def result(self):\n",
        "        return self.total / self.count\n",
        "    def get_config(self):\n",
        "        base_config = super().get_config()\n",
        "        return {**base_config, \"threshold\": self.threshold}"
      ]
    },
    {
      "cell_type": "code",
      "execution_count": 119,
      "metadata": {
        "colab": {
          "base_uri": "https://localhost:8080/"
        },
        "execution": {
          "iopub.execute_input": "2021-07-04T08:15:22.849379Z",
          "iopub.status.busy": "2021-07-04T08:15:22.842123Z",
          "iopub.status.idle": "2021-07-04T08:15:22.979409Z",
          "shell.execute_reply": "2021-07-04T08:15:22.980690Z"
        },
        "id": "N3oSW-yJnFSi",
        "outputId": "ae4d406d-fc06-4977-d622-a1810601e13d"
      },
      "outputs": [
        {
          "output_type": "execute_result",
          "data": {
            "text/plain": [
              "<tf.Tensor: shape=(), dtype=float32, numpy=14.0>"
            ]
          },
          "metadata": {},
          "execution_count": 119
        }
      ],
      "source": [
        "m = HuberMetric(2.)\n",
        "\n",
        "# total = 2 * |10 - 2| - 2²/2 = 14\n",
        "# count = 1\n",
        "# result = 14 / 1 = 14\n",
        "m(tf.constant([[2.]]), tf.constant([[10.]])) "
      ]
    },
    {
      "cell_type": "code",
      "execution_count": 120,
      "metadata": {
        "colab": {
          "base_uri": "https://localhost:8080/"
        },
        "execution": {
          "iopub.execute_input": "2021-07-04T08:15:22.992007Z",
          "iopub.status.busy": "2021-07-04T08:15:22.990814Z",
          "iopub.status.idle": "2021-07-04T08:15:23.000738Z",
          "shell.execute_reply": "2021-07-04T08:15:23.001656Z"
        },
        "id": "fZxdkhK_nFSi",
        "outputId": "3fbfd19b-7cc3-46f3-840a-f83dfb1b6d3d"
      },
      "outputs": [
        {
          "output_type": "execute_result",
          "data": {
            "text/plain": [
              "<tf.Tensor: shape=(), dtype=float32, numpy=7.0>"
            ]
          },
          "metadata": {},
          "execution_count": 120
        }
      ],
      "source": [
        "# total = total + (|1 - 0|² / 2) + (2 * |9.25 - 5| - 2² / 2) = 14 + 7 = 21\n",
        "# count = count + 2 = 3\n",
        "# result = total / count = 21 / 3 = 7\n",
        "m(tf.constant([[0.], [5.]]), tf.constant([[1.], [9.25]]))\n",
        "\n",
        "m.result()"
      ]
    },
    {
      "cell_type": "code",
      "execution_count": 121,
      "metadata": {
        "colab": {
          "base_uri": "https://localhost:8080/"
        },
        "execution": {
          "iopub.execute_input": "2021-07-04T08:15:23.007901Z",
          "iopub.status.busy": "2021-07-04T08:15:23.006876Z",
          "iopub.status.idle": "2021-07-04T08:15:23.012642Z",
          "shell.execute_reply": "2021-07-04T08:15:23.013453Z"
        },
        "id": "V4Yj14hCnFSj",
        "outputId": "d3210297-5122-4385-bfc4-b0fc8e204fef"
      },
      "outputs": [
        {
          "output_type": "execute_result",
          "data": {
            "text/plain": [
              "[<tf.Variable 'total:0' shape=() dtype=float32, numpy=21.0>,\n",
              " <tf.Variable 'count:0' shape=() dtype=float32, numpy=3.0>]"
            ]
          },
          "metadata": {},
          "execution_count": 121
        }
      ],
      "source": [
        "m.variables"
      ]
    },
    {
      "cell_type": "code",
      "execution_count": 122,
      "metadata": {
        "colab": {
          "base_uri": "https://localhost:8080/"
        },
        "execution": {
          "iopub.execute_input": "2021-07-04T08:15:23.020099Z",
          "iopub.status.busy": "2021-07-04T08:15:23.019059Z",
          "iopub.status.idle": "2021-07-04T08:15:23.025577Z",
          "shell.execute_reply": "2021-07-04T08:15:23.026477Z"
        },
        "id": "AR4lyDg4nFSj",
        "outputId": "812501b8-9983-49b8-e46c-7cd85525f7a6"
      },
      "outputs": [
        {
          "output_type": "execute_result",
          "data": {
            "text/plain": [
              "[<tf.Variable 'total:0' shape=() dtype=float32, numpy=0.0>,\n",
              " <tf.Variable 'count:0' shape=() dtype=float32, numpy=0.0>]"
            ]
          },
          "metadata": {},
          "execution_count": 122
        }
      ],
      "source": [
        "m.reset_states()\n",
        "m.variables"
      ]
    },
    {
      "cell_type": "markdown",
      "metadata": {
        "id": "NWT6cVPunFSj"
      },
      "source": [
        "`HuberMetric` 클래스가 잘 동작하는지 확인해 보죠:"
      ]
    },
    {
      "cell_type": "code",
      "execution_count": 123,
      "metadata": {
        "execution": {
          "iopub.execute_input": "2021-07-04T08:15:23.035392Z",
          "iopub.status.busy": "2021-07-04T08:15:23.034294Z",
          "iopub.status.idle": "2021-07-04T08:15:23.044938Z",
          "shell.execute_reply": "2021-07-04T08:15:23.045831Z"
        },
        "id": "o_JZayvonFSj"
      },
      "outputs": [],
      "source": [
        "keras.backend.clear_session()\n",
        "np.random.seed(42)\n",
        "tf.random.set_seed(42)"
      ]
    },
    {
      "cell_type": "code",
      "execution_count": 124,
      "metadata": {
        "execution": {
          "iopub.execute_input": "2021-07-04T08:15:23.059263Z",
          "iopub.status.busy": "2021-07-04T08:15:23.057895Z",
          "iopub.status.idle": "2021-07-04T08:15:23.080858Z",
          "shell.execute_reply": "2021-07-04T08:15:23.081963Z"
        },
        "id": "JI1L36IJnFSj"
      },
      "outputs": [],
      "source": [
        "model = keras.models.Sequential([\n",
        "    keras.layers.Dense(30, activation=\"selu\", kernel_initializer=\"lecun_normal\",\n",
        "                       input_shape=input_shape),\n",
        "    keras.layers.Dense(1),\n",
        "])"
      ]
    },
    {
      "cell_type": "code",
      "execution_count": 125,
      "metadata": {
        "execution": {
          "iopub.execute_input": "2021-07-04T08:15:23.096408Z",
          "iopub.status.busy": "2021-07-04T08:15:23.092739Z",
          "iopub.status.idle": "2021-07-04T08:15:23.109658Z",
          "shell.execute_reply": "2021-07-04T08:15:23.110862Z"
        },
        "id": "6sJSLY0HnFSj"
      },
      "outputs": [],
      "source": [
        "model.compile(loss=create_huber(2.0), optimizer=\"nadam\", metrics=[HuberMetric(2.0)])"
      ]
    },
    {
      "cell_type": "code",
      "execution_count": 126,
      "metadata": {
        "colab": {
          "base_uri": "https://localhost:8080/"
        },
        "execution": {
          "iopub.execute_input": "2021-07-04T08:15:23.120177Z",
          "iopub.status.busy": "2021-07-04T08:15:23.118905Z",
          "iopub.status.idle": "2021-07-04T08:15:26.468091Z",
          "shell.execute_reply": "2021-07-04T08:15:26.469262Z"
        },
        "id": "68uiyAcUnFSj",
        "outputId": "cf1cb756-057b-4d11-9301-fd64385817b6"
      },
      "outputs": [
        {
          "output_type": "stream",
          "name": "stdout",
          "text": [
            "Epoch 1/2\n",
            "363/363 [==============================] - 2s 3ms/step - loss: 0.8707 - huber_metric: 0.8707\n",
            "Epoch 2/2\n",
            "363/363 [==============================] - 1s 3ms/step - loss: 0.2595 - huber_metric: 0.2595\n"
          ]
        },
        {
          "output_type": "execute_result",
          "data": {
            "text/plain": [
              "<keras.callbacks.History at 0x7fde33282950>"
            ]
          },
          "metadata": {},
          "execution_count": 126
        }
      ],
      "source": [
        "model.fit(X_train_scaled.astype(np.float32), y_train.astype(np.float32), epochs=2)"
      ]
    },
    {
      "cell_type": "code",
      "execution_count": 127,
      "metadata": {
        "execution": {
          "iopub.execute_input": "2021-07-04T08:15:26.501237Z",
          "iopub.status.busy": "2021-07-04T08:15:26.499598Z",
          "iopub.status.idle": "2021-07-04T08:15:26.526806Z",
          "shell.execute_reply": "2021-07-04T08:15:26.527883Z"
        },
        "id": "bxInm5qnnFSj"
      },
      "outputs": [],
      "source": [
        "model.save(\"my_model_with_a_custom_metric.h5\")"
      ]
    },
    {
      "cell_type": "code",
      "execution_count": 128,
      "metadata": {
        "execution": {
          "iopub.execute_input": "2021-07-04T08:15:26.536250Z",
          "iopub.status.busy": "2021-07-04T08:15:26.534870Z",
          "iopub.status.idle": "2021-07-04T08:15:26.603542Z",
          "shell.execute_reply": "2021-07-04T08:15:26.604356Z"
        },
        "id": "7JTorko_nFSj"
      },
      "outputs": [],
      "source": [
        "model = keras.models.load_model(\"my_model_with_a_custom_metric.h5\",\n",
        "                                custom_objects={\"huber_fn\": create_huber(2.0),\n",
        "                                                \"HuberMetric\": HuberMetric})"
      ]
    },
    {
      "cell_type": "code",
      "execution_count": 129,
      "metadata": {
        "colab": {
          "base_uri": "https://localhost:8080/"
        },
        "execution": {
          "iopub.execute_input": "2021-07-04T08:15:26.612094Z",
          "iopub.status.busy": "2021-07-04T08:15:26.610601Z",
          "iopub.status.idle": "2021-07-04T08:15:29.811418Z",
          "shell.execute_reply": "2021-07-04T08:15:29.810056Z"
        },
        "id": "EO4pBgVxnFSj",
        "outputId": "20e8f27d-5702-45f8-f8c7-b8191cb136c4"
      },
      "outputs": [
        {
          "output_type": "stream",
          "name": "stdout",
          "text": [
            "Epoch 1/2\n",
            "363/363 [==============================] - 1s 3ms/step - loss: 0.2350 - huber_metric: 0.2350\n",
            "Epoch 2/2\n",
            "363/363 [==============================] - 1s 3ms/step - loss: 0.2278 - huber_metric: 0.2278\n"
          ]
        },
        {
          "output_type": "execute_result",
          "data": {
            "text/plain": [
              "<keras.callbacks.History at 0x7fde33052590>"
            ]
          },
          "metadata": {},
          "execution_count": 129
        }
      ],
      "source": [
        "model.fit(X_train_scaled.astype(np.float32), y_train.astype(np.float32), epochs=2)"
      ]
    },
    {
      "cell_type": "markdown",
      "metadata": {
        "id": "mH6-Xw2HnFSj"
      },
      "source": [
        "**경고**: 텐서플로 2.2에서 tf.keras가 `model.metrics`의 0번째 위치에 지표를 추가합니다([텐서플로 이슈 #38150](https://github.com/tensorflow/tensorflow/issues/38150) 참조). 따라서 `HuberMetric`에 접근하려면 `model.metrics[0]` 대신 `model.metrics[-1]`를 사용해야 합니다."
      ]
    },
    {
      "cell_type": "code",
      "execution_count": 130,
      "metadata": {
        "colab": {
          "base_uri": "https://localhost:8080/"
        },
        "execution": {
          "iopub.execute_input": "2021-07-04T08:15:29.820526Z",
          "iopub.status.busy": "2021-07-04T08:15:29.819586Z",
          "iopub.status.idle": "2021-07-04T08:15:29.825170Z",
          "shell.execute_reply": "2021-07-04T08:15:29.824379Z"
        },
        "id": "4KnXWivunFSk",
        "outputId": "fcd56f89-d456-4176-eb50-e24adb4cf436"
      },
      "outputs": [
        {
          "output_type": "execute_result",
          "data": {
            "text/plain": [
              "2.0"
            ]
          },
          "metadata": {},
          "execution_count": 130
        }
      ],
      "source": [
        "model.metrics[-1].threshold"
      ]
    },
    {
      "cell_type": "markdown",
      "metadata": {
        "id": "ViTVxzoBnFSk"
      },
      "source": [
        "잘 동작하는군요! 다음처럼 더 간단하게 클래스를 만들 수 있습니다:"
      ]
    },
    {
      "cell_type": "code",
      "execution_count": 131,
      "metadata": {
        "execution": {
          "iopub.execute_input": "2021-07-04T08:15:29.840294Z",
          "iopub.status.busy": "2021-07-04T08:15:29.838769Z",
          "iopub.status.idle": "2021-07-04T08:15:29.842340Z",
          "shell.execute_reply": "2021-07-04T08:15:29.843598Z"
        },
        "id": "f43iC6UWnFSk"
      },
      "outputs": [],
      "source": [
        "class HuberMetric(keras.metrics.Mean):\n",
        "    def __init__(self, threshold=1.0, name='HuberMetric', dtype=None):\n",
        "        self.threshold = threshold\n",
        "        self.huber_fn = create_huber(threshold)\n",
        "        super().__init__(name=name, dtype=dtype)\n",
        "    def update_state(self, y_true, y_pred, sample_weight=None):\n",
        "        metric = self.huber_fn(y_true, y_pred)\n",
        "        super(HuberMetric, self).update_state(metric, sample_weight)\n",
        "    def get_config(self):\n",
        "        base_config = super().get_config()\n",
        "        return {**base_config, \"threshold\": self.threshold}        "
      ]
    },
    {
      "cell_type": "markdown",
      "metadata": {
        "id": "FtBpUQKWnFSk"
      },
      "source": [
        "이 클래스는 크기를 잘 처리하고 샘플 가중치도 지원합니다."
      ]
    },
    {
      "cell_type": "code",
      "execution_count": 132,
      "metadata": {
        "execution": {
          "iopub.execute_input": "2021-07-04T08:15:29.852413Z",
          "iopub.status.busy": "2021-07-04T08:15:29.850905Z",
          "iopub.status.idle": "2021-07-04T08:15:29.863225Z",
          "shell.execute_reply": "2021-07-04T08:15:29.863996Z"
        },
        "id": "CFi9R0PsnFSk"
      },
      "outputs": [],
      "source": [
        "keras.backend.clear_session()\n",
        "np.random.seed(42)\n",
        "tf.random.set_seed(42)"
      ]
    },
    {
      "cell_type": "code",
      "execution_count": 133,
      "metadata": {
        "execution": {
          "iopub.execute_input": "2021-07-04T08:15:29.880400Z",
          "iopub.status.busy": "2021-07-04T08:15:29.878725Z",
          "iopub.status.idle": "2021-07-04T08:15:29.903763Z",
          "shell.execute_reply": "2021-07-04T08:15:29.905048Z"
        },
        "id": "YNuyOkfjnFSk"
      },
      "outputs": [],
      "source": [
        "model = keras.models.Sequential([\n",
        "    keras.layers.Dense(30, activation=\"selu\", kernel_initializer=\"lecun_normal\",\n",
        "                       input_shape=input_shape),\n",
        "    keras.layers.Dense(1),\n",
        "])"
      ]
    },
    {
      "cell_type": "code",
      "execution_count": 134,
      "metadata": {
        "execution": {
          "iopub.execute_input": "2021-07-04T08:15:29.923238Z",
          "iopub.status.busy": "2021-07-04T08:15:29.922379Z",
          "iopub.status.idle": "2021-07-04T08:15:29.948652Z",
          "shell.execute_reply": "2021-07-04T08:15:29.949313Z"
        },
        "id": "uLjhx8PCnFSk"
      },
      "outputs": [],
      "source": [
        "model.compile(loss=keras.losses.Huber(2.0), optimizer=\"nadam\", weighted_metrics=[HuberMetric(2.0)])"
      ]
    },
    {
      "cell_type": "code",
      "execution_count": 135,
      "metadata": {
        "colab": {
          "base_uri": "https://localhost:8080/"
        },
        "execution": {
          "iopub.execute_input": "2021-07-04T08:15:29.956912Z",
          "iopub.status.busy": "2021-07-04T08:15:29.956048Z",
          "iopub.status.idle": "2021-07-04T08:15:35.132118Z",
          "shell.execute_reply": "2021-07-04T08:15:35.131115Z"
        },
        "id": "09rxtKpanFSk",
        "outputId": "27363b00-339e-42c0-d872-a66b926b11db",
        "scrolled": true
      },
      "outputs": [
        {
          "output_type": "stream",
          "name": "stdout",
          "text": [
            "Epoch 1/2\n",
            "363/363 [==============================] - 2s 3ms/step - loss: 0.4455 - HuberMetric: 0.8978\n",
            "Epoch 2/2\n",
            "363/363 [==============================] - 1s 3ms/step - loss: 0.1305 - HuberMetric: 0.2631\n"
          ]
        }
      ],
      "source": [
        "sample_weight = np.random.rand(len(y_train))\n",
        "history = model.fit(X_train_scaled.astype(np.float32), y_train.astype(np.float32),\n",
        "                    epochs=2, sample_weight=sample_weight)"
      ]
    },
    {
      "cell_type": "code",
      "execution_count": 136,
      "metadata": {
        "colab": {
          "base_uri": "https://localhost:8080/"
        },
        "execution": {
          "iopub.execute_input": "2021-07-04T08:15:35.143922Z",
          "iopub.status.busy": "2021-07-04T08:15:35.142733Z",
          "iopub.status.idle": "2021-07-04T08:15:35.147546Z",
          "shell.execute_reply": "2021-07-04T08:15:35.148541Z"
        },
        "id": "mJ4-Y0E2nFSk",
        "outputId": "e360016b-b400-47ac-978f-023c2825fe9e"
      },
      "outputs": [
        {
          "output_type": "execute_result",
          "data": {
            "text/plain": [
              "(0.44554364681243896, 0.44554368685750223)"
            ]
          },
          "metadata": {},
          "execution_count": 136
        }
      ],
      "source": [
        "history.history[\"loss\"][0], history.history[\"HuberMetric\"][0] * sample_weight.mean()"
      ]
    },
    {
      "cell_type": "code",
      "execution_count": 137,
      "metadata": {
        "execution": {
          "iopub.execute_input": "2021-07-04T08:15:35.180715Z",
          "iopub.status.busy": "2021-07-04T08:15:35.179527Z",
          "iopub.status.idle": "2021-07-04T08:15:35.212988Z",
          "shell.execute_reply": "2021-07-04T08:15:35.213970Z"
        },
        "id": "adIdqEocnFSk"
      },
      "outputs": [],
      "source": [
        "model.save(\"my_model_with_a_custom_metric_v2.h5\")"
      ]
    },
    {
      "cell_type": "code",
      "execution_count": 138,
      "metadata": {
        "execution": {
          "iopub.execute_input": "2021-07-04T08:15:35.223140Z",
          "iopub.status.busy": "2021-07-04T08:15:35.221582Z",
          "iopub.status.idle": "2021-07-04T08:15:35.311024Z",
          "shell.execute_reply": "2021-07-04T08:15:35.312329Z"
        },
        "id": "F_niUjqDnFSk"
      },
      "outputs": [],
      "source": [
        "model = keras.models.load_model(\"my_model_with_a_custom_metric_v2.h5\",\n",
        "                                custom_objects={\"HuberMetric\": HuberMetric})"
      ]
    },
    {
      "cell_type": "code",
      "execution_count": 139,
      "metadata": {
        "colab": {
          "base_uri": "https://localhost:8080/"
        },
        "execution": {
          "iopub.execute_input": "2021-07-04T08:15:35.321452Z",
          "iopub.status.busy": "2021-07-04T08:15:35.319795Z",
          "iopub.status.idle": "2021-07-04T08:15:38.912190Z",
          "shell.execute_reply": "2021-07-04T08:15:38.913187Z"
        },
        "id": "7V2PkjHknFSl",
        "outputId": "99aa6836-10d8-478b-c6ba-433c0c27ff65"
      },
      "outputs": [
        {
          "output_type": "stream",
          "name": "stdout",
          "text": [
            "Epoch 1/2\n",
            "363/363 [==============================] - 1s 3ms/step - loss: 0.2377 - HuberMetric: 0.2377\n",
            "Epoch 2/2\n",
            "363/363 [==============================] - 1s 3ms/step - loss: 0.2279 - HuberMetric: 0.2279\n"
          ]
        },
        {
          "output_type": "execute_result",
          "data": {
            "text/plain": [
              "<keras.callbacks.History at 0x7fde32d2f410>"
            ]
          },
          "metadata": {},
          "execution_count": 139
        }
      ],
      "source": [
        "model.fit(X_train_scaled.astype(np.float32), y_train.astype(np.float32), epochs=2)"
      ]
    },
    {
      "cell_type": "code",
      "execution_count": 140,
      "metadata": {
        "colab": {
          "base_uri": "https://localhost:8080/"
        },
        "execution": {
          "iopub.execute_input": "2021-07-04T08:15:38.921614Z",
          "iopub.status.busy": "2021-07-04T08:15:38.920593Z",
          "iopub.status.idle": "2021-07-04T08:15:38.925260Z",
          "shell.execute_reply": "2021-07-04T08:15:38.926140Z"
        },
        "id": "LiY6tzrrnFSl",
        "outputId": "3f2a0103-dd3d-4a06-bfc9-aaaa15d606b4",
        "scrolled": true
      },
      "outputs": [
        {
          "output_type": "execute_result",
          "data": {
            "text/plain": [
              "2.0"
            ]
          },
          "metadata": {},
          "execution_count": 140
        }
      ],
      "source": [
        "model.metrics[-1].threshold"
      ]
    },
    {
      "cell_type": "markdown",
      "metadata": {
        "id": "wHvCg6OCnFSl"
      },
      "source": [
        "## 12.3.5사용자 정의 층\n",
        "사용자 정의 층은 __가중치가 없는__경우와 __가중치가 있는__ 경우가 있다."
      ]
    },
    {
      "cell_type": "code",
      "execution_count": 141,
      "metadata": {
        "execution": {
          "iopub.execute_input": "2021-07-04T08:15:38.934702Z",
          "iopub.status.busy": "2021-07-04T08:15:38.933594Z",
          "iopub.status.idle": "2021-07-04T08:15:38.937240Z",
          "shell.execute_reply": "2021-07-04T08:15:38.938128Z"
        },
        "id": "yaYQR8DxnFSm"
      },
      "outputs": [],
      "source": [
        "exponential_layer = keras.layers.Lambda(lambda x: tf.exp(x))\n",
        "#가중치가 없는 층을 가장 간단하게 만드는 방법은 keras.layers.Lambda로 감싸는 것이다."
      ]
    },
    {
      "cell_type": "code",
      "execution_count": 142,
      "metadata": {
        "colab": {
          "base_uri": "https://localhost:8080/"
        },
        "execution": {
          "iopub.execute_input": "2021-07-04T08:15:38.945934Z",
          "iopub.status.busy": "2021-07-04T08:15:38.944822Z",
          "iopub.status.idle": "2021-07-04T08:15:38.951723Z",
          "shell.execute_reply": "2021-07-04T08:15:38.952589Z"
        },
        "id": "JbXxzU34nFSm",
        "outputId": "7ad0818f-6f55-4491-dde8-6e5a5c0a233b"
      },
      "outputs": [
        {
          "output_type": "execute_result",
          "data": {
            "text/plain": [
              "<tf.Tensor: shape=(3,), dtype=float32, numpy=array([0.36787948, 1.        , 2.7182817 ], dtype=float32)>"
            ]
          },
          "metadata": {},
          "execution_count": 142
        }
      ],
      "source": [
        "exponential_layer([-1., 0., 1.])"
      ]
    },
    {
      "cell_type": "markdown",
      "metadata": {
        "id": "mM-jjL37nFSm"
      },
      "source": [
        "회귀 모델이 예측할 값이 양수이고 스케일이 매우 다른 경우 (예를 들어, 0.001, 10., 10000) 출력층에 지수 함수를 추가하면 유용할 수 있습니다:"
      ]
    },
    {
      "cell_type": "code",
      "execution_count": 143,
      "metadata": {
        "execution": {
          "iopub.execute_input": "2021-07-04T08:15:38.960487Z",
          "iopub.status.busy": "2021-07-04T08:15:38.959393Z",
          "iopub.status.idle": "2021-07-04T08:15:38.976960Z",
          "shell.execute_reply": "2021-07-04T08:15:38.976101Z"
        },
        "id": "H_fZsjonnFSm"
      },
      "outputs": [],
      "source": [
        "keras.backend.clear_session()\n",
        "np.random.seed(42)\n",
        "tf.random.set_seed(42)"
      ]
    },
    {
      "cell_type": "code",
      "execution_count": 144,
      "metadata": {
        "colab": {
          "base_uri": "https://localhost:8080/"
        },
        "execution": {
          "iopub.execute_input": "2021-07-04T08:15:38.997361Z",
          "iopub.status.busy": "2021-07-04T08:15:38.995721Z",
          "iopub.status.idle": "2021-07-04T08:15:45.243279Z",
          "shell.execute_reply": "2021-07-04T08:15:45.244491Z"
        },
        "id": "GVDT8nyxnFSm",
        "outputId": "97a3d7ed-78c2-438c-bd60-f3741fcc2933"
      },
      "outputs": [
        {
          "output_type": "stream",
          "name": "stdout",
          "text": [
            "Epoch 1/5\n",
            "363/363 [==============================] - 1s 3ms/step - loss: 1.0631 - val_loss: 0.4457\n",
            "Epoch 2/5\n",
            "363/363 [==============================] - 1s 3ms/step - loss: 0.4562 - val_loss: 0.3798\n",
            "Epoch 3/5\n",
            "363/363 [==============================] - 1s 3ms/step - loss: 0.4029 - val_loss: 0.3548\n",
            "Epoch 4/5\n",
            "363/363 [==============================] - 1s 3ms/step - loss: 0.3851 - val_loss: 0.3464\n",
            "Epoch 5/5\n",
            "363/363 [==============================] - 1s 3ms/step - loss: 0.3708 - val_loss: 0.3449\n",
            "162/162 [==============================] - 0s 2ms/step - loss: 0.3586\n"
          ]
        },
        {
          "output_type": "execute_result",
          "data": {
            "text/plain": [
              "0.3586340844631195"
            ]
          },
          "metadata": {},
          "execution_count": 144
        }
      ],
      "source": [
        "model = keras.models.Sequential([\n",
        "    keras.layers.Dense(30, activation=\"relu\", input_shape=input_shape),\n",
        "    keras.layers.Dense(1),\n",
        "    exponential_layer\n",
        "])\n",
        "model.compile(loss=\"mse\", optimizer=\"sgd\")\n",
        "model.fit(X_train_scaled, y_train, epochs=5,\n",
        "          validation_data=(X_valid_scaled, y_valid))\n",
        "model.evaluate(X_test_scaled, y_test)"
      ]
    },
    {
      "cell_type": "code",
      "execution_count": 145,
      "metadata": {
        "execution": {
          "iopub.execute_input": "2021-07-04T08:15:45.266884Z",
          "iopub.status.busy": "2021-07-04T08:15:45.265426Z",
          "iopub.status.idle": "2021-07-04T08:15:45.269058Z",
          "shell.execute_reply": "2021-07-04T08:15:45.270234Z"
        },
        "id": "BD9ygbq5nFSm"
      },
      "outputs": [],
      "source": [
        "class MyDense(keras.layers.Layer):\n",
        "    def __init__(self, units, activation=None, **kwargs):\n",
        "        super().__init__(**kwargs)\n",
        "        self.units = units\n",
        "        self.activation = keras.activations.get(activation)\n",
        "\n",
        "    def build(self, batch_input_shape):\n",
        "        self.kernel = self.add_weight(\n",
        "            name=\"kernel\", shape=[batch_input_shape[-1], self.units],\n",
        "            initializer=\"glorot_normal\")\n",
        "        self.bias = self.add_weight(\n",
        "            name=\"bias\", shape=[self.units], initializer=\"zeros\")\n",
        "        super().build(batch_input_shape) # must be at the end\n",
        "\n",
        "    def call(self, X):\n",
        "        return self.activation(X @ self.kernel + self.bias)\n",
        "\n",
        "    def compute_output_shape(self, batch_input_shape):\n",
        "        return tf.TensorShape(batch_input_shape.as_list()[:-1] + [self.units])\n",
        "\n",
        "    def get_config(self):\n",
        "        base_config = super().get_config()\n",
        "        return {**base_config, \"units\": self.units,\n",
        "                \"activation\": keras.activations.serialize(self.activation)}\n",
        "\n",
        "    #가중치가 있는 층은 이전처럼 keras.layers.Layer를 상솟하여 구현한다."
      ]
    },
    {
      "cell_type": "code",
      "execution_count": 146,
      "metadata": {
        "execution": {
          "iopub.execute_input": "2021-07-04T08:15:45.281847Z",
          "iopub.status.busy": "2021-07-04T08:15:45.278785Z",
          "iopub.status.idle": "2021-07-04T08:15:45.285433Z",
          "shell.execute_reply": "2021-07-04T08:15:45.286330Z"
        },
        "id": "PhAOl_-xnFSm"
      },
      "outputs": [],
      "source": [
        "keras.backend.clear_session()\n",
        "np.random.seed(42)\n",
        "tf.random.set_seed(42)"
      ]
    },
    {
      "cell_type": "code",
      "execution_count": 147,
      "metadata": {
        "execution": {
          "iopub.execute_input": "2021-07-04T08:15:45.298411Z",
          "iopub.status.busy": "2021-07-04T08:15:45.297225Z",
          "iopub.status.idle": "2021-07-04T08:15:45.381189Z",
          "shell.execute_reply": "2021-07-04T08:15:45.382152Z"
        },
        "id": "Ux2CIm0QnFSm"
      },
      "outputs": [],
      "source": [
        "model = keras.models.Sequential([\n",
        "    MyDense(30, activation=\"relu\", input_shape=input_shape),\n",
        "    MyDense(1)\n",
        "])"
      ]
    },
    {
      "cell_type": "code",
      "execution_count": 148,
      "metadata": {
        "colab": {
          "base_uri": "https://localhost:8080/"
        },
        "execution": {
          "iopub.execute_input": "2021-07-04T08:15:45.400162Z",
          "iopub.status.busy": "2021-07-04T08:15:45.398953Z",
          "iopub.status.idle": "2021-07-04T08:15:49.494875Z",
          "shell.execute_reply": "2021-07-04T08:15:49.495803Z"
        },
        "id": "ZzYKMKhfnFSm",
        "outputId": "748fba53-f2af-405f-fb9d-d0f35ab9ee22",
        "scrolled": false
      },
      "outputs": [
        {
          "output_type": "stream",
          "name": "stdout",
          "text": [
            "Epoch 1/2\n",
            "363/363 [==============================] - 2s 4ms/step - loss: 2.2563 - val_loss: 0.9472\n",
            "Epoch 2/2\n",
            "363/363 [==============================] - 1s 3ms/step - loss: 0.6485 - val_loss: 0.6219\n",
            "162/162 [==============================] - 0s 2ms/step - loss: 0.5474\n"
          ]
        },
        {
          "output_type": "execute_result",
          "data": {
            "text/plain": [
              "0.5473727583885193"
            ]
          },
          "metadata": {},
          "execution_count": 148
        }
      ],
      "source": [
        "model.compile(loss=\"mse\", optimizer=\"nadam\")\n",
        "model.fit(X_train_scaled, y_train, epochs=2,\n",
        "          validation_data=(X_valid_scaled, y_valid))\n",
        "model.evaluate(X_test_scaled, y_test)"
      ]
    },
    {
      "cell_type": "code",
      "execution_count": 149,
      "metadata": {
        "execution": {
          "iopub.execute_input": "2021-07-04T08:15:49.526507Z",
          "iopub.status.busy": "2021-07-04T08:15:49.525256Z",
          "iopub.status.idle": "2021-07-04T08:15:49.556131Z",
          "shell.execute_reply": "2021-07-04T08:15:49.557059Z"
        },
        "id": "D3dQrUgwnFSm"
      },
      "outputs": [],
      "source": [
        "model.save(\"my_model_with_a_custom_layer.h5\")"
      ]
    },
    {
      "cell_type": "code",
      "execution_count": 150,
      "metadata": {
        "execution": {
          "iopub.execute_input": "2021-07-04T08:15:49.565553Z",
          "iopub.status.busy": "2021-07-04T08:15:49.564073Z",
          "iopub.status.idle": "2021-07-04T08:15:49.637729Z",
          "shell.execute_reply": "2021-07-04T08:15:49.638951Z"
        },
        "id": "vqqfaYhpnFSn"
      },
      "outputs": [],
      "source": [
        "model = keras.models.load_model(\"my_model_with_a_custom_layer.h5\",\n",
        "                                custom_objects={\"MyDense\": MyDense})"
      ]
    },
    {
      "cell_type": "code",
      "execution_count": 151,
      "metadata": {
        "execution": {
          "iopub.execute_input": "2021-07-04T08:15:49.650052Z",
          "iopub.status.busy": "2021-07-04T08:15:49.648530Z",
          "iopub.status.idle": "2021-07-04T08:15:49.651608Z",
          "shell.execute_reply": "2021-07-04T08:15:49.652527Z"
        },
        "id": "XE8kj1ZCnFSn"
      },
      "outputs": [],
      "source": [
        "class MyMultiLayer(keras.layers.Layer):\n",
        "    def call(self, X):\n",
        "        X1, X2 = X\n",
        "        print(\"X1.shape: \", X1.shape ,\" X2.shape: \", X2.shape) # 사용자 정의 층 디버깅\n",
        "        return X1 + X2, X1 * X2\n",
        "\n",
        "    def compute_output_shape(self, batch_input_shape):\n",
        "        batch_input_shape1, batch_input_shape2 = batch_input_shape\n",
        "        return [batch_input_shape1, batch_input_shape2]"
      ]
    },
    {
      "cell_type": "markdown",
      "metadata": {
        "id": "ZRR1NXSpnFSn"
      },
      "source": [
        "사용자 정의 층은 다음처럼 함수형 API를 사용해 호출할 수 있습니다:"
      ]
    },
    {
      "cell_type": "code",
      "execution_count": 152,
      "metadata": {
        "colab": {
          "base_uri": "https://localhost:8080/"
        },
        "execution": {
          "iopub.execute_input": "2021-07-04T08:15:49.671914Z",
          "iopub.status.busy": "2021-07-04T08:15:49.670532Z",
          "iopub.status.idle": "2021-07-04T08:15:49.736314Z",
          "shell.execute_reply": "2021-07-04T08:15:49.737569Z"
        },
        "id": "qlHFFWy8nFSn",
        "outputId": "d0e110c2-3e90-434c-cb2e-39273baa8b33"
      },
      "outputs": [
        {
          "output_type": "stream",
          "name": "stdout",
          "text": [
            "X1.shape:  (None, 2)  X2.shape:  (None, 2)\n"
          ]
        }
      ],
      "source": [
        "inputs1 = keras.layers.Input(shape=[2])\n",
        "inputs2 = keras.layers.Input(shape=[2])\n",
        "outputs1, outputs2 = MyMultiLayer()((inputs1, inputs2))"
      ]
    },
    {
      "cell_type": "markdown",
      "metadata": {
        "id": "rnu1SI3pnFSn"
      },
      "source": [
        "`call()` 메서드는 심볼릭 입력을 받습니다. 이 입력의 크기는 부분적으로만 지정되어 있습니다(이 시점에서는 배치 크기를 모릅니다. 그래서 첫 번째 차원이 None입니다):\n",
        "\n",
        "사용자 층에 실제 데이터를 전달할 수도 있습니다. 이를 테스트하기 위해 각 데이터셋의 입력을 각각 네 개의 특성을 가진 두 부분으로 나누겠습니다:"
      ]
    },
    {
      "cell_type": "code",
      "execution_count": 153,
      "metadata": {
        "colab": {
          "base_uri": "https://localhost:8080/"
        },
        "execution": {
          "iopub.execute_input": "2021-07-04T08:15:49.750493Z",
          "iopub.status.busy": "2021-07-04T08:15:49.749103Z",
          "iopub.status.idle": "2021-07-04T08:15:49.753632Z",
          "shell.execute_reply": "2021-07-04T08:15:49.754572Z"
        },
        "id": "5eIOchaEnFSn",
        "outputId": "3095ddc9-2ed3-4cf6-e384-ed1793d14e1f"
      },
      "outputs": [
        {
          "output_type": "execute_result",
          "data": {
            "text/plain": [
              "((11610, 4), (11610, 4))"
            ]
          },
          "metadata": {},
          "execution_count": 153
        }
      ],
      "source": [
        "def split_data(data):\n",
        "    columns_count = data.shape[-1]\n",
        "    half = columns_count // 2\n",
        "    return data[:, :half], data[:, half:]\n",
        "\n",
        "X_train_scaled_A, X_train_scaled_B = split_data(X_train_scaled)\n",
        "X_valid_scaled_A, X_valid_scaled_B = split_data(X_valid_scaled)\n",
        "X_test_scaled_A, X_test_scaled_B = split_data(X_test_scaled)\n",
        "\n",
        "# 분할된 데이터 크기 출력\n",
        "X_train_scaled_A.shape, X_train_scaled_B.shape"
      ]
    },
    {
      "cell_type": "markdown",
      "metadata": {
        "id": "2Kjpmi_lnFSn"
      },
      "source": [
        "크기가 완전하게 지정된 것을 볼 수 있습니다:"
      ]
    },
    {
      "cell_type": "code",
      "execution_count": 154,
      "metadata": {
        "colab": {
          "base_uri": "https://localhost:8080/"
        },
        "execution": {
          "iopub.execute_input": "2021-07-04T08:15:49.762391Z",
          "iopub.status.busy": "2021-07-04T08:15:49.761275Z",
          "iopub.status.idle": "2021-07-04T08:15:49.769201Z",
          "shell.execute_reply": "2021-07-04T08:15:49.770026Z"
        },
        "id": "QUFlvjdNnFSn",
        "outputId": "0ec5e161-9d01-4cac-bc41-8a2c242b3c5f"
      },
      "outputs": [
        {
          "output_type": "stream",
          "name": "stdout",
          "text": [
            "X1.shape:  (11610, 4)  X2.shape:  (11610, 4)\n"
          ]
        }
      ],
      "source": [
        "outputs1, outputs2 = MyMultiLayer()((X_train_scaled_A, X_train_scaled_B))"
      ]
    },
    {
      "cell_type": "markdown",
      "metadata": {
        "id": "Gj0EYDB9nFSn"
      },
      "source": [
        "함수형 API를 사용해 완전한 모델을 만들어 보겠습니다(이 모델은 간단한 예제이므로 놀라운 성능을 기대하지 마세요):"
      ]
    },
    {
      "cell_type": "code",
      "execution_count": 155,
      "metadata": {
        "colab": {
          "base_uri": "https://localhost:8080/"
        },
        "execution": {
          "iopub.execute_input": "2021-07-04T08:15:49.784955Z",
          "iopub.status.busy": "2021-07-04T08:15:49.783919Z",
          "iopub.status.idle": "2021-07-04T08:15:49.838940Z",
          "shell.execute_reply": "2021-07-04T08:15:49.840327Z"
        },
        "id": "ITI2PrCbnFSn",
        "outputId": "dc92e561-80bd-476c-c79a-375137bb6507"
      },
      "outputs": [
        {
          "output_type": "stream",
          "name": "stdout",
          "text": [
            "X1.shape:  (None, 4)  X2.shape:  (None, 4)\n"
          ]
        }
      ],
      "source": [
        "keras.backend.clear_session()\n",
        "np.random.seed(42)\n",
        "tf.random.set_seed(42)\n",
        "\n",
        "input_A = keras.layers.Input(shape=X_train_scaled_A.shape[-1])\n",
        "input_B = keras.layers.Input(shape=X_train_scaled_B.shape[-1])\n",
        "hidden_A, hidden_B = MyMultiLayer()((input_A, input_B))\n",
        "hidden_A = keras.layers.Dense(30, activation='selu')(hidden_A)\n",
        "hidden_B = keras.layers.Dense(30, activation='selu')(hidden_B)\n",
        "concat = keras.layers.Concatenate()((hidden_A, hidden_B))\n",
        "output = keras.layers.Dense(1)(concat)\n",
        "model = keras.models.Model(inputs=[input_A, input_B], outputs=[output])"
      ]
    },
    {
      "cell_type": "code",
      "execution_count": 156,
      "metadata": {
        "execution": {
          "iopub.execute_input": "2021-07-04T08:15:49.858386Z",
          "iopub.status.busy": "2021-07-04T08:15:49.856892Z",
          "iopub.status.idle": "2021-07-04T08:15:49.862315Z",
          "shell.execute_reply": "2021-07-04T08:15:49.863304Z"
        },
        "id": "Hf5QYYp6nFSn"
      },
      "outputs": [],
      "source": [
        "model.compile(loss='mse', optimizer='nadam')"
      ]
    },
    {
      "cell_type": "code",
      "execution_count": 157,
      "metadata": {
        "colab": {
          "base_uri": "https://localhost:8080/"
        },
        "execution": {
          "iopub.execute_input": "2021-07-04T08:15:49.870419Z",
          "iopub.status.busy": "2021-07-04T08:15:49.869216Z",
          "iopub.status.idle": "2021-07-04T08:15:54.377789Z",
          "shell.execute_reply": "2021-07-04T08:15:54.378814Z"
        },
        "id": "TlnQRPmenFSo",
        "outputId": "a43d4ec8-b998-459d-9eeb-0332b1c20757"
      },
      "outputs": [
        {
          "output_type": "stream",
          "name": "stdout",
          "text": [
            "Epoch 1/2\n",
            "X1.shape:  (None, 4)  X2.shape:  (None, 4)\n",
            "X1.shape:  (None, 4)  X2.shape:  (None, 4)\n",
            "354/363 [============================>.] - ETA: 0s - loss: 2.1427X1.shape:  (None, 4)  X2.shape:  (None, 4)\n",
            "363/363 [==============================] - 2s 4ms/step - loss: 2.1142 - val_loss: 1.3630\n",
            "Epoch 2/2\n",
            "363/363 [==============================] - 1s 4ms/step - loss: 0.9684 - val_loss: 0.9773\n"
          ]
        },
        {
          "output_type": "execute_result",
          "data": {
            "text/plain": [
              "<keras.callbacks.History at 0x7fde3268b710>"
            ]
          },
          "metadata": {},
          "execution_count": 157
        }
      ],
      "source": [
        "model.fit((X_train_scaled_A, X_train_scaled_B), y_train, epochs=2,\n",
        "          validation_data=((X_valid_scaled_A, X_valid_scaled_B), y_valid))"
      ]
    },
    {
      "cell_type": "markdown",
      "metadata": {
        "id": "7wMgYJv8nFSo"
      },
      "source": [
        "훈련과 테스트에서 다르게 동작하는 층을 만들어 보죠:"
      ]
    },
    {
      "cell_type": "code",
      "execution_count": 158,
      "metadata": {
        "execution": {
          "iopub.execute_input": "2021-07-04T08:15:54.393887Z",
          "iopub.status.busy": "2021-07-04T08:15:54.392577Z",
          "iopub.status.idle": "2021-07-04T08:15:54.396213Z",
          "shell.execute_reply": "2021-07-04T08:15:54.397212Z"
        },
        "id": "NeKKkO32nFSo"
      },
      "outputs": [],
      "source": [
        "class AddGaussianNoise(keras.layers.Layer):\n",
        "    def __init__(self, stddev, **kwargs):\n",
        "        super().__init__(**kwargs)\n",
        "        self.stddev = stddev\n",
        "\n",
        "    def call(self, X, training=None):\n",
        "        if training:\n",
        "            noise = tf.random.normal(tf.shape(X), stddev=self.stddev)\n",
        "            return X + noise\n",
        "        else:\n",
        "            return X\n",
        "\n",
        "    def compute_output_shape(self, batch_input_shape):\n",
        "        return batch_input_shape"
      ]
    },
    {
      "cell_type": "markdown",
      "metadata": {
        "id": "Jh5WfjzunFSo"
      },
      "source": [
        "다음은 사용자 정의 층을 사용하는 간단한 모델입니다:"
      ]
    },
    {
      "cell_type": "code",
      "execution_count": 159,
      "metadata": {
        "execution": {
          "iopub.execute_input": "2021-07-04T08:15:54.420349Z",
          "iopub.status.busy": "2021-07-04T08:15:54.407706Z",
          "iopub.status.idle": "2021-07-04T08:15:54.426847Z",
          "shell.execute_reply": "2021-07-04T08:15:54.428025Z"
        },
        "id": "Ln23QcsdnFSo"
      },
      "outputs": [],
      "source": [
        "keras.backend.clear_session()\n",
        "np.random.seed(42)\n",
        "tf.random.set_seed(42)\n",
        "\n",
        "model = keras.models.Sequential([\n",
        "    AddGaussianNoise(stddev=1.0),\n",
        "    keras.layers.Dense(30, activation=\"selu\"),\n",
        "    keras.layers.Dense(1)\n",
        "])"
      ]
    },
    {
      "cell_type": "code",
      "execution_count": 160,
      "metadata": {
        "colab": {
          "base_uri": "https://localhost:8080/"
        },
        "execution": {
          "iopub.execute_input": "2021-07-04T08:15:54.446870Z",
          "iopub.status.busy": "2021-07-04T08:15:54.445458Z",
          "iopub.status.idle": "2021-07-04T08:15:58.590668Z",
          "shell.execute_reply": "2021-07-04T08:15:58.591605Z"
        },
        "id": "Gj0MuOcKnFSo",
        "outputId": "1e17fbbb-b7e7-4769-8977-d9295796b1b8"
      },
      "outputs": [
        {
          "output_type": "stream",
          "name": "stdout",
          "text": [
            "Epoch 1/2\n",
            "363/363 [==============================] - 2s 4ms/step - loss: 2.3857 - val_loss: 7.6082\n",
            "Epoch 2/2\n",
            "363/363 [==============================] - 1s 4ms/step - loss: 1.0571 - val_loss: 4.4597\n",
            "162/162 [==============================] - 0s 2ms/step - loss: 0.7560\n"
          ]
        },
        {
          "output_type": "execute_result",
          "data": {
            "text/plain": [
              "0.7559615969657898"
            ]
          },
          "metadata": {},
          "execution_count": 160
        }
      ],
      "source": [
        "model.compile(loss=\"mse\", optimizer=\"nadam\")\n",
        "model.fit(X_train_scaled, y_train, epochs=2,\n",
        "          validation_data=(X_valid_scaled, y_valid))\n",
        "model.evaluate(X_test_scaled, y_test)"
      ]
    },
    {
      "cell_type": "markdown",
      "metadata": {
        "id": "Bo5Aksa0nFSo"
      },
      "source": [
        "##12.3.6 사용자 정의 모델\n",
        "10장에서 다룬 것 처럼 클래스를 사용하여 사용자 정의 모델을 만들 수 있다."
      ]
    },
    {
      "cell_type": "code",
      "execution_count": 161,
      "metadata": {
        "execution": {
          "iopub.execute_input": "2021-07-04T08:15:58.599593Z",
          "iopub.status.busy": "2021-07-04T08:15:58.598425Z",
          "iopub.status.idle": "2021-07-04T08:15:58.601757Z",
          "shell.execute_reply": "2021-07-04T08:15:58.602628Z"
        },
        "id": "qZ9CBGORnFSo"
      },
      "outputs": [],
      "source": [
        "X_new_scaled = X_test_scaled"
      ]
    },
    {
      "cell_type": "code",
      "execution_count": 162,
      "metadata": {
        "execution": {
          "iopub.execute_input": "2021-07-04T08:15:58.616167Z",
          "iopub.status.busy": "2021-07-04T08:15:58.614894Z",
          "iopub.status.idle": "2021-07-04T08:15:58.618458Z",
          "shell.execute_reply": "2021-07-04T08:15:58.619457Z"
        },
        "id": "ScNXzm1GnFSo"
      },
      "outputs": [],
      "source": [
        "class ResidualBlock(keras.layers.Layer):\n",
        "    def __init__(self, n_layers, n_neurons, **kwargs):\n",
        "        super().__init__(**kwargs)\n",
        "        self.hidden = [keras.layers.Dense(n_neurons, activation=\"elu\",\n",
        "                                          kernel_initializer=\"he_normal\")\n",
        "                       for _ in range(n_layers)]\n",
        "\n",
        "    def call(self, inputs):\n",
        "        Z = inputs\n",
        "        for layer in self.hidden:\n",
        "            Z = layer(Z)\n",
        "        return inputs + Z"
      ]
    },
    {
      "cell_type": "code",
      "execution_count": 163,
      "metadata": {
        "execution": {
          "iopub.execute_input": "2021-07-04T08:15:58.635663Z",
          "iopub.status.busy": "2021-07-04T08:15:58.634461Z",
          "iopub.status.idle": "2021-07-04T08:15:58.637358Z",
          "shell.execute_reply": "2021-07-04T08:15:58.638363Z"
        },
        "id": "LjmHGRPOnFSo"
      },
      "outputs": [],
      "source": [
        "class ResidualRegressor(keras.models.Model):\n",
        "    def __init__(self, output_dim, **kwargs):\n",
        "        super().__init__(**kwargs)\n",
        "        self.hidden1 = keras.layers.Dense(30, activation=\"elu\",\n",
        "                                          kernel_initializer=\"he_normal\")\n",
        "        self.block1 = ResidualBlock(2, 30)\n",
        "        self.block2 = ResidualBlock(2, 30)\n",
        "        self.out = keras.layers.Dense(output_dim)\n",
        "\n",
        "    def call(self, inputs):\n",
        "        Z = self.hidden1(inputs)\n",
        "        for _ in range(1 + 3):\n",
        "            Z = self.block1(Z)\n",
        "        Z = self.block2(Z)\n",
        "        return self.out(Z)\n",
        "\n",
        "    #keras.models.Model 클래스를 상속하여 생성자에서 층을 만들어 구현한다."
      ]
    },
    {
      "cell_type": "code",
      "execution_count": 164,
      "metadata": {
        "execution": {
          "iopub.execute_input": "2021-07-04T08:15:58.645468Z",
          "iopub.status.busy": "2021-07-04T08:15:58.644301Z",
          "iopub.status.idle": "2021-07-04T08:15:58.653372Z",
          "shell.execute_reply": "2021-07-04T08:15:58.654158Z"
        },
        "id": "oP_n1Vf1nFSo"
      },
      "outputs": [],
      "source": [
        "keras.backend.clear_session()\n",
        "np.random.seed(42)\n",
        "tf.random.set_seed(42)"
      ]
    },
    {
      "cell_type": "code",
      "execution_count": 165,
      "metadata": {
        "colab": {
          "base_uri": "https://localhost:8080/"
        },
        "execution": {
          "iopub.execute_input": "2021-07-04T08:15:58.666308Z",
          "iopub.status.busy": "2021-07-04T08:15:58.665238Z",
          "iopub.status.idle": "2021-07-04T08:16:14.531553Z",
          "shell.execute_reply": "2021-07-04T08:16:14.532718Z"
        },
        "id": "FTnG6qh4nFSp",
        "outputId": "d4a3eec9-15da-4959-9b79-d430eaaf8d10"
      },
      "outputs": [
        {
          "output_type": "stream",
          "name": "stdout",
          "text": [
            "Epoch 1/5\n",
            "363/363 [==============================] - 3s 4ms/step - loss: 9.1325\n",
            "Epoch 2/5\n",
            "363/363 [==============================] - 2s 4ms/step - loss: 1.0578\n",
            "Epoch 3/5\n",
            "363/363 [==============================] - 2s 5ms/step - loss: 0.8869\n",
            "Epoch 4/5\n",
            "363/363 [==============================] - 2s 4ms/step - loss: 0.5831\n",
            "Epoch 5/5\n",
            "363/363 [==============================] - 2s 4ms/step - loss: 0.6463\n",
            "162/162 [==============================] - 0s 2ms/step - loss: 0.6513\n"
          ]
        }
      ],
      "source": [
        "model = ResidualRegressor(1)\n",
        "model.compile(loss=\"mse\", optimizer=\"nadam\")\n",
        "history = model.fit(X_train_scaled, y_train, epochs=5)\n",
        "score = model.evaluate(X_test_scaled, y_test)\n",
        "y_pred = model.predict(X_new_scaled)"
      ]
    },
    {
      "cell_type": "code",
      "execution_count": 166,
      "metadata": {
        "colab": {
          "base_uri": "https://localhost:8080/"
        },
        "execution": {
          "iopub.execute_input": "2021-07-04T08:16:14.544665Z",
          "iopub.status.busy": "2021-07-04T08:16:14.543467Z",
          "iopub.status.idle": "2021-07-04T08:16:15.547522Z",
          "shell.execute_reply": "2021-07-04T08:16:15.548926Z"
        },
        "id": "aqkYIQvOnFSp",
        "outputId": "e40fc7cc-5787-427f-d2bb-d7405539d7ff"
      },
      "outputs": [
        {
          "output_type": "stream",
          "name": "stderr",
          "text": [
            "WARNING:absl:Found untraced functions such as dense_1_layer_call_fn, dense_1_layer_call_and_return_conditional_losses, dense_2_layer_call_fn, dense_2_layer_call_and_return_conditional_losses, dense_3_layer_call_fn while saving (showing 5 of 8). These functions will not be directly callable after loading.\n"
          ]
        }
      ],
      "source": [
        "model.save(\"my_custom_model.ckpt\")"
      ]
    },
    {
      "cell_type": "code",
      "execution_count": 167,
      "metadata": {
        "execution": {
          "iopub.execute_input": "2021-07-04T08:16:15.556474Z",
          "iopub.status.busy": "2021-07-04T08:16:15.555185Z",
          "iopub.status.idle": "2021-07-04T08:16:16.173104Z",
          "shell.execute_reply": "2021-07-04T08:16:16.171956Z"
        },
        "id": "j2fgl5UknFSp"
      },
      "outputs": [],
      "source": [
        "model = keras.models.load_model(\"my_custom_model.ckpt\")"
      ]
    },
    {
      "cell_type": "code",
      "execution_count": 168,
      "metadata": {
        "colab": {
          "base_uri": "https://localhost:8080/"
        },
        "execution": {
          "iopub.execute_input": "2021-07-04T08:16:16.182435Z",
          "iopub.status.busy": "2021-07-04T08:16:16.180781Z",
          "iopub.status.idle": "2021-07-04T08:16:30.488212Z",
          "shell.execute_reply": "2021-07-04T08:16:30.487051Z"
        },
        "id": "yaRZkdOCnFSp",
        "outputId": "8cfdd073-1126-4f33-d083-0bcf7ba9f7c4"
      },
      "outputs": [
        {
          "output_type": "stream",
          "name": "stdout",
          "text": [
            "Epoch 1/5\n",
            "363/363 [==============================] - 3s 5ms/step - loss: 0.8017\n",
            "Epoch 2/5\n",
            "363/363 [==============================] - 2s 5ms/step - loss: 0.5028\n",
            "Epoch 3/5\n",
            "363/363 [==============================] - 2s 5ms/step - loss: 0.5362\n",
            "Epoch 4/5\n",
            "363/363 [==============================] - 2s 5ms/step - loss: 0.4120\n",
            "Epoch 5/5\n",
            "363/363 [==============================] - 2s 5ms/step - loss: 0.5718\n"
          ]
        }
      ],
      "source": [
        "history = model.fit(X_train_scaled, y_train, epochs=5)"
      ]
    },
    {
      "cell_type": "markdown",
      "metadata": {
        "id": "VoxJM__-nFSp"
      },
      "source": [
        "대신 시퀀셜 API를 사용하는 모델을 정의할 수 있습니다:"
      ]
    },
    {
      "cell_type": "code",
      "execution_count": 169,
      "metadata": {
        "execution": {
          "iopub.execute_input": "2021-07-04T08:16:30.499599Z",
          "iopub.status.busy": "2021-07-04T08:16:30.498333Z",
          "iopub.status.idle": "2021-07-04T08:16:30.521900Z",
          "shell.execute_reply": "2021-07-04T08:16:30.522906Z"
        },
        "id": "SNXYstMCnFSp"
      },
      "outputs": [],
      "source": [
        "keras.backend.clear_session()\n",
        "np.random.seed(42)\n",
        "tf.random.set_seed(42)"
      ]
    },
    {
      "cell_type": "code",
      "execution_count": 170,
      "metadata": {
        "execution": {
          "iopub.execute_input": "2021-07-04T08:16:30.547691Z",
          "iopub.status.busy": "2021-07-04T08:16:30.546181Z",
          "iopub.status.idle": "2021-07-04T08:16:30.554408Z",
          "shell.execute_reply": "2021-07-04T08:16:30.553132Z"
        },
        "id": "j0lwOBjenFSp"
      },
      "outputs": [],
      "source": [
        "block1 = ResidualBlock(2, 30)\n",
        "model = keras.models.Sequential([\n",
        "    keras.layers.Dense(30, activation=\"elu\", kernel_initializer=\"he_normal\"),\n",
        "    block1, block1, block1, block1,\n",
        "    ResidualBlock(2, 30),\n",
        "    keras.layers.Dense(1)\n",
        "])"
      ]
    },
    {
      "cell_type": "code",
      "execution_count": 171,
      "metadata": {
        "colab": {
          "base_uri": "https://localhost:8080/"
        },
        "execution": {
          "iopub.execute_input": "2021-07-04T08:16:30.573271Z",
          "iopub.status.busy": "2021-07-04T08:16:30.572301Z",
          "iopub.status.idle": "2021-07-04T08:16:44.015874Z",
          "shell.execute_reply": "2021-07-04T08:16:44.017074Z"
        },
        "id": "6Ol9WZK-nFSp",
        "outputId": "6745da2f-94cf-44ae-8c18-9e8697bcfea8"
      },
      "outputs": [
        {
          "output_type": "stream",
          "name": "stdout",
          "text": [
            "Epoch 1/5\n",
            "363/363 [==============================] - 3s 4ms/step - loss: 0.8695\n",
            "Epoch 2/5\n",
            "363/363 [==============================] - 1s 4ms/step - loss: 0.4720\n",
            "Epoch 3/5\n",
            "363/363 [==============================] - 1s 4ms/step - loss: 0.5537\n",
            "Epoch 4/5\n",
            "363/363 [==============================] - 1s 4ms/step - loss: 0.3809\n",
            "Epoch 5/5\n",
            "363/363 [==============================] - 1s 4ms/step - loss: 0.4012\n",
            "162/162 [==============================] - 0s 2ms/step - loss: 0.4852\n"
          ]
        }
      ],
      "source": [
        "model.compile(loss=\"mse\", optimizer=\"nadam\")\n",
        "history = model.fit(X_train_scaled, y_train, epochs=5)\n",
        "score = model.evaluate(X_test_scaled, y_test)\n",
        "y_pred = model.predict(X_new_scaled)"
      ]
    },
    {
      "cell_type": "markdown",
      "metadata": {
        "id": "0ivfG84mnFSp"
      },
      "source": [
        "##12.3.7 모델 구성 요소에 기반한 손실과 지표"
      ]
    },
    {
      "cell_type": "markdown",
      "metadata": {
        "id": "Jbr8J6n1nFSp"
      },
      "source": [
        "**노트**: 다음 코드는 책의 코드와 두 가지 다른 점이 있습니다:\n",
        "1. 생성자에서 `keras.metrics.Mean()` 측정 지표를 만들고 `call()` 메서드에서 사용하여 평균 재구성 손실을 추적합니다. 훈련에서만 사용해야 하기 때문에 `call()` 메서드에 `training` 매개변수를 추가합니다. `training`이 `True`이면 `reconstruction_mean`를 업데이트하고 `self.add_metric()`를 호출합니다.\n",
        "2. TF 2.2에 있는 이슈([#46858](https://github.com/tensorflow/tensorflow/issues/46858)) 때문에 `build()` 메서드 안에서 `super().build()`를 호출하면 안됩니다."
      ]
    },
    {
      "cell_type": "code",
      "execution_count": 172,
      "metadata": {
        "execution": {
          "iopub.execute_input": "2021-07-04T08:16:44.044268Z",
          "iopub.status.busy": "2021-07-04T08:16:44.042711Z",
          "iopub.status.idle": "2021-07-04T08:16:44.045933Z",
          "shell.execute_reply": "2021-07-04T08:16:44.047194Z"
        },
        "id": "YHTjLpT3nFSp"
      },
      "outputs": [],
      "source": [
        "class ReconstructingRegressor(keras.Model):\n",
        "    def __init__(self, output_dim, **kwargs):\n",
        "        super().__init__(**kwargs)\n",
        "        self.hidden = [keras.layers.Dense(30, activation=\"selu\",\n",
        "                                          kernel_initializer=\"lecun_normal\")\n",
        "                       for _ in range(5)]\n",
        "        self.out = keras.layers.Dense(output_dim)\n",
        "        self.reconstruction_mean = keras.metrics.Mean(name=\"reconstruction_error\")\n",
        "\n",
        "    def build(self, batch_input_shape):\n",
        "        n_inputs = batch_input_shape[-1]\n",
        "        self.reconstruct = keras.layers.Dense(n_inputs)\n",
        "        #super().build(batch_input_shape)\n",
        "\n",
        "    def call(self, inputs, training=None):\n",
        "        Z = inputs\n",
        "        for layer in self.hidden:\n",
        "            Z = layer(Z)\n",
        "        reconstruction = self.reconstruct(Z)\n",
        "        self.recon_loss = 0.05 * tf.reduce_mean(tf.square(reconstruction - inputs))\n",
        "        \n",
        "        if training:\n",
        "           result = self.reconstruction_mean(recon_loss)\n",
        "           self.add_metric(result)\n",
        "        return self.out(Z)\n",
        "    \n",
        "    def train_step(self, data):\n",
        "        x, y = data\n",
        "\n",
        "        with tf.GradientTape() as tape:\n",
        "            y_pred = self(x)\n",
        "            loss = self.compiled_loss(y, y_pred, regularization_losses=[self.recon_loss])\n",
        "\n",
        "        gradients = tape.gradient(loss, self.trainable_variables)\n",
        "        self.optimizer.apply_gradients(zip(gradients, self.trainable_variables))\n",
        "\n",
        "        return {m.name: m.result() for m in self.metrics}"
      ]
    },
    {
      "cell_type": "code",
      "execution_count": 173,
      "metadata": {
        "execution": {
          "iopub.execute_input": "2021-07-04T08:16:44.062713Z",
          "iopub.status.busy": "2021-07-04T08:16:44.055839Z",
          "iopub.status.idle": "2021-07-04T08:16:44.066069Z",
          "shell.execute_reply": "2021-07-04T08:16:44.066880Z"
        },
        "id": "XQah3_DFnFSq"
      },
      "outputs": [],
      "source": [
        "keras.backend.clear_session()\n",
        "np.random.seed(42)\n",
        "tf.random.set_seed(42)"
      ]
    },
    {
      "cell_type": "code",
      "execution_count": 174,
      "metadata": {
        "colab": {
          "base_uri": "https://localhost:8080/"
        },
        "execution": {
          "iopub.execute_input": "2021-07-04T08:16:44.079276Z",
          "iopub.status.busy": "2021-07-04T08:16:44.077540Z",
          "iopub.status.idle": "2021-07-04T08:16:51.038448Z",
          "shell.execute_reply": "2021-07-04T08:16:51.039594Z"
        },
        "id": "fIBmQGYanFSq",
        "outputId": "c4e0336c-8711-4ac1-8d49-87644885e44b"
      },
      "outputs": [
        {
          "output_type": "stream",
          "name": "stdout",
          "text": [
            "Epoch 1/2\n",
            "363/363 [==============================] - 3s 5ms/step - loss: 0.7886 - reconstruction_error: 0.0000e+00\n",
            "Epoch 2/2\n",
            "363/363 [==============================] - 2s 5ms/step - loss: 0.4134 - reconstruction_error: 0.0000e+00\n"
          ]
        }
      ],
      "source": [
        "model = ReconstructingRegressor(1)\n",
        "model.compile(loss=\"mse\", optimizer=\"nadam\")\n",
        "history = model.fit(X_train_scaled, y_train, epochs=2)\n",
        "y_pred = model.predict(X_test_scaled)"
      ]
    },
    {
      "cell_type": "markdown",
      "metadata": {
        "id": "rGDLWUXhnFSq"
      },
      "source": [
        "##12.3.8 자동 미분을 사용하여 그레이디언트 계산하기"
      ]
    },
    {
      "cell_type": "code",
      "execution_count": 175,
      "metadata": {
        "execution": {
          "iopub.execute_input": "2021-07-04T08:16:51.049280Z",
          "iopub.status.busy": "2021-07-04T08:16:51.047892Z",
          "iopub.status.idle": "2021-07-04T08:16:51.050911Z",
          "shell.execute_reply": "2021-07-04T08:16:51.051795Z"
        },
        "id": "NUl_neZpnFSr"
      },
      "outputs": [],
      "source": [
        "def f(w1, w2):\n",
        "    return 3 * w1 ** 2 + 2 * w1 * w2"
      ]
    },
    {
      "cell_type": "code",
      "execution_count": 176,
      "metadata": {
        "colab": {
          "base_uri": "https://localhost:8080/"
        },
        "execution": {
          "iopub.execute_input": "2021-07-04T08:16:51.060463Z",
          "iopub.status.busy": "2021-07-04T08:16:51.059412Z",
          "iopub.status.idle": "2021-07-04T08:16:51.064429Z",
          "shell.execute_reply": "2021-07-04T08:16:51.065316Z"
        },
        "id": "X1cstf8lnFSr",
        "outputId": "634bf89d-b7ac-4362-8d32-c691489afc7e"
      },
      "outputs": [
        {
          "output_type": "execute_result",
          "data": {
            "text/plain": [
              "36.000003007075065"
            ]
          },
          "metadata": {},
          "execution_count": 176
        }
      ],
      "source": [
        "w1, w2 = 5, 3\n",
        "eps = 1e-6\n",
        "(f(w1 + eps, w2) - f(w1, w2)) / eps"
      ]
    },
    {
      "cell_type": "code",
      "execution_count": 177,
      "metadata": {
        "colab": {
          "base_uri": "https://localhost:8080/"
        },
        "execution": {
          "iopub.execute_input": "2021-07-04T08:16:51.073140Z",
          "iopub.status.busy": "2021-07-04T08:16:51.072105Z",
          "iopub.status.idle": "2021-07-04T08:16:51.076959Z",
          "shell.execute_reply": "2021-07-04T08:16:51.077915Z"
        },
        "id": "bLBVUzu9nFSs",
        "outputId": "9e5425ad-0e45-4f3f-8591-5b8480ff39ff"
      },
      "outputs": [
        {
          "output_type": "execute_result",
          "data": {
            "text/plain": [
              "10.000000003174137"
            ]
          },
          "metadata": {},
          "execution_count": 177
        }
      ],
      "source": [
        "(f(w1, w2 + eps) - f(w1, w2)) / eps"
      ]
    },
    {
      "cell_type": "code",
      "execution_count": 178,
      "metadata": {
        "execution": {
          "iopub.execute_input": "2021-07-04T08:16:51.088035Z",
          "iopub.status.busy": "2021-07-04T08:16:51.086885Z",
          "iopub.status.idle": "2021-07-04T08:16:51.094155Z",
          "shell.execute_reply": "2021-07-04T08:16:51.095031Z"
        },
        "id": "wGGD9esynFSs"
      },
      "outputs": [],
      "source": [
        "w1, w2 = tf.Variable(5.), tf.Variable(3.)\n",
        "with tf.GradientTape() as tape:\n",
        "    z = f(w1, w2)\n",
        "\n",
        "gradients = tape.gradient(z, [w1, w2])"
      ]
    },
    {
      "cell_type": "code",
      "execution_count": 179,
      "metadata": {
        "colab": {
          "base_uri": "https://localhost:8080/"
        },
        "execution": {
          "iopub.execute_input": "2021-07-04T08:16:51.101660Z",
          "iopub.status.busy": "2021-07-04T08:16:51.100543Z",
          "iopub.status.idle": "2021-07-04T08:16:51.105890Z",
          "shell.execute_reply": "2021-07-04T08:16:51.106765Z"
        },
        "id": "WHexGsK7nFSs",
        "outputId": "cad22604-5bfd-41ee-e1f2-40ba9aba66ca"
      },
      "outputs": [
        {
          "output_type": "execute_result",
          "data": {
            "text/plain": [
              "[<tf.Tensor: shape=(), dtype=float32, numpy=36.0>,\n",
              " <tf.Tensor: shape=(), dtype=float32, numpy=10.0>]"
            ]
          },
          "metadata": {},
          "execution_count": 179
        }
      ],
      "source": [
        "gradients"
      ]
    },
    {
      "cell_type": "code",
      "execution_count": 180,
      "metadata": {
        "colab": {
          "base_uri": "https://localhost:8080/"
        },
        "execution": {
          "iopub.execute_input": "2021-07-04T08:16:51.116638Z",
          "iopub.status.busy": "2021-07-04T08:16:51.115509Z",
          "iopub.status.idle": "2021-07-04T08:16:51.122370Z",
          "shell.execute_reply": "2021-07-04T08:16:51.123249Z"
        },
        "id": "jDJYd-manFSs",
        "outputId": "080909d3-73c6-44d2-bc0d-4c0a90cd2769",
        "scrolled": true
      },
      "outputs": [
        {
          "output_type": "stream",
          "name": "stdout",
          "text": [
            "A non-persistent GradientTape can only be used to compute one set of gradients (or jacobians)\n"
          ]
        }
      ],
      "source": [
        "with tf.GradientTape() as tape:\n",
        "    z = f(w1, w2)\n",
        "\n",
        "dz_dw1 = tape.gradient(z, w1)\n",
        "try:\n",
        "    dz_dw2 = tape.gradient(z, w2)\n",
        "except RuntimeError as ex:\n",
        "    print(ex)"
      ]
    },
    {
      "cell_type": "code",
      "execution_count": 181,
      "metadata": {
        "execution": {
          "iopub.execute_input": "2021-07-04T08:16:51.132420Z",
          "iopub.status.busy": "2021-07-04T08:16:51.131290Z",
          "iopub.status.idle": "2021-07-04T08:16:51.138370Z",
          "shell.execute_reply": "2021-07-04T08:16:51.139248Z"
        },
        "id": "DXw2nnLcnFSs"
      },
      "outputs": [],
      "source": [
        "with tf.GradientTape(persistent=True) as tape:\n",
        "    z = f(w1, w2)\n",
        "\n",
        "dz_dw1 = tape.gradient(z, w1)\n",
        "dz_dw2 = tape.gradient(z, w2) # works now!\n",
        "del tape"
      ]
    },
    {
      "cell_type": "code",
      "execution_count": 182,
      "metadata": {
        "colab": {
          "base_uri": "https://localhost:8080/"
        },
        "execution": {
          "iopub.execute_input": "2021-07-04T08:16:51.146434Z",
          "iopub.status.busy": "2021-07-04T08:16:51.145227Z",
          "iopub.status.idle": "2021-07-04T08:16:51.151796Z",
          "shell.execute_reply": "2021-07-04T08:16:51.150789Z"
        },
        "id": "gJidVNB7nFSs",
        "outputId": "6d183c19-51e8-4aef-a94f-227652d6715d"
      },
      "outputs": [
        {
          "output_type": "execute_result",
          "data": {
            "text/plain": [
              "(<tf.Tensor: shape=(), dtype=float32, numpy=36.0>,\n",
              " <tf.Tensor: shape=(), dtype=float32, numpy=10.0>)"
            ]
          },
          "metadata": {},
          "execution_count": 182
        }
      ],
      "source": [
        "dz_dw1, dz_dw2"
      ]
    },
    {
      "cell_type": "code",
      "execution_count": 183,
      "metadata": {
        "execution": {
          "iopub.execute_input": "2021-07-04T08:16:51.161659Z",
          "iopub.status.busy": "2021-07-04T08:16:51.160458Z",
          "iopub.status.idle": "2021-07-04T08:16:51.164923Z",
          "shell.execute_reply": "2021-07-04T08:16:51.165762Z"
        },
        "id": "tyXHSb1SnFSs"
      },
      "outputs": [],
      "source": [
        "c1, c2 = tf.constant(5.), tf.constant(3.)\n",
        "with tf.GradientTape() as tape:\n",
        "    z = f(c1, c2)\n",
        "\n",
        "gradients = tape.gradient(z, [c1, c2])"
      ]
    },
    {
      "cell_type": "code",
      "execution_count": 184,
      "metadata": {
        "colab": {
          "base_uri": "https://localhost:8080/"
        },
        "execution": {
          "iopub.execute_input": "2021-07-04T08:16:51.172964Z",
          "iopub.status.busy": "2021-07-04T08:16:51.171909Z",
          "iopub.status.idle": "2021-07-04T08:16:51.176687Z",
          "shell.execute_reply": "2021-07-04T08:16:51.177570Z"
        },
        "id": "YrBr2oY_nFSs",
        "outputId": "d573d06f-356d-41cc-c849-f3a41e1cb7ce"
      },
      "outputs": [
        {
          "output_type": "execute_result",
          "data": {
            "text/plain": [
              "[None, None]"
            ]
          },
          "metadata": {},
          "execution_count": 184
        }
      ],
      "source": [
        "gradients"
      ]
    },
    {
      "cell_type": "code",
      "execution_count": 185,
      "metadata": {
        "execution": {
          "iopub.execute_input": "2021-07-04T08:16:51.186564Z",
          "iopub.status.busy": "2021-07-04T08:16:51.185398Z",
          "iopub.status.idle": "2021-07-04T08:16:51.191128Z",
          "shell.execute_reply": "2021-07-04T08:16:51.192003Z"
        },
        "id": "PxGzWYUbnFSt"
      },
      "outputs": [],
      "source": [
        "with tf.GradientTape() as tape:\n",
        "    tape.watch(c1)\n",
        "    tape.watch(c2)\n",
        "    z = f(c1, c2)\n",
        "\n",
        "gradients = tape.gradient(z, [c1, c2])"
      ]
    },
    {
      "cell_type": "code",
      "execution_count": 186,
      "metadata": {
        "colab": {
          "base_uri": "https://localhost:8080/"
        },
        "execution": {
          "iopub.execute_input": "2021-07-04T08:16:51.199435Z",
          "iopub.status.busy": "2021-07-04T08:16:51.198312Z",
          "iopub.status.idle": "2021-07-04T08:16:51.203980Z",
          "shell.execute_reply": "2021-07-04T08:16:51.204859Z"
        },
        "id": "sMfZRrDZnFSt",
        "outputId": "35ba7d35-1bff-4f4a-a15e-24eb6426bd5a"
      },
      "outputs": [
        {
          "output_type": "execute_result",
          "data": {
            "text/plain": [
              "[<tf.Tensor: shape=(), dtype=float32, numpy=36.0>,\n",
              " <tf.Tensor: shape=(), dtype=float32, numpy=10.0>]"
            ]
          },
          "metadata": {},
          "execution_count": 186
        }
      ],
      "source": [
        "gradients"
      ]
    },
    {
      "cell_type": "code",
      "execution_count": 187,
      "metadata": {
        "colab": {
          "base_uri": "https://localhost:8080/"
        },
        "execution": {
          "iopub.execute_input": "2021-07-04T08:16:51.214904Z",
          "iopub.status.busy": "2021-07-04T08:16:51.213767Z",
          "iopub.status.idle": "2021-07-04T08:16:51.224864Z",
          "shell.execute_reply": "2021-07-04T08:16:51.225789Z"
        },
        "id": "ICrkGqt9nFSt",
        "outputId": "6c007dda-ddb5-4d11-b772-ed16b6f6196b"
      },
      "outputs": [
        {
          "output_type": "execute_result",
          "data": {
            "text/plain": [
              "[<tf.Tensor: shape=(), dtype=float32, numpy=136.0>,\n",
              " <tf.Tensor: shape=(), dtype=float32, numpy=30.0>]"
            ]
          },
          "metadata": {},
          "execution_count": 187
        }
      ],
      "source": [
        "with tf.GradientTape() as tape:\n",
        "    z1 = f(w1, w2 + 2.)\n",
        "    z2 = f(w1, w2 + 5.)\n",
        "    z3 = f(w1, w2 + 7.)\n",
        "\n",
        "tape.gradient([z1, z2, z3], [w1, w2])"
      ]
    },
    {
      "cell_type": "code",
      "execution_count": 188,
      "metadata": {
        "execution": {
          "iopub.execute_input": "2021-07-04T08:16:51.235927Z",
          "iopub.status.busy": "2021-07-04T08:16:51.234807Z",
          "iopub.status.idle": "2021-07-04T08:16:51.244752Z",
          "shell.execute_reply": "2021-07-04T08:16:51.245705Z"
        },
        "id": "ZrZ77owOnFSt"
      },
      "outputs": [],
      "source": [
        "with tf.GradientTape(persistent=True) as tape:\n",
        "    z1 = f(w1, w2 + 2.)\n",
        "    z2 = f(w1, w2 + 5.)\n",
        "    z3 = f(w1, w2 + 7.)\n",
        "\n",
        "tf.reduce_sum(tf.stack([tape.gradient(z, [w1, w2]) for z in (z1, z2, z3)]), axis=0)\n",
        "del tape"
      ]
    },
    {
      "cell_type": "code",
      "execution_count": 189,
      "metadata": {
        "execution": {
          "iopub.execute_input": "2021-07-04T08:16:51.256243Z",
          "iopub.status.busy": "2021-07-04T08:16:51.255046Z",
          "iopub.status.idle": "2021-07-04T08:16:51.262017Z",
          "shell.execute_reply": "2021-07-04T08:16:51.263038Z"
        },
        "id": "5VDDlIkVnFSt"
      },
      "outputs": [],
      "source": [
        "with tf.GradientTape(persistent=True) as hessian_tape:\n",
        "    with tf.GradientTape() as jacobian_tape:\n",
        "        z = f(w1, w2)\n",
        "    jacobians = jacobian_tape.gradient(z, [w1, w2])\n",
        "hessians = [hessian_tape.gradient(jacobian, [w1, w2])\n",
        "            for jacobian in jacobians]\n",
        "del hessian_tape"
      ]
    },
    {
      "cell_type": "code",
      "execution_count": 190,
      "metadata": {
        "colab": {
          "base_uri": "https://localhost:8080/"
        },
        "execution": {
          "iopub.execute_input": "2021-07-04T08:16:51.270264Z",
          "iopub.status.busy": "2021-07-04T08:16:51.268958Z",
          "iopub.status.idle": "2021-07-04T08:16:51.273742Z",
          "shell.execute_reply": "2021-07-04T08:16:51.274587Z"
        },
        "id": "HFk0AReSnFSt",
        "outputId": "863e6f6f-d43d-4143-f038-c90ce81f578d"
      },
      "outputs": [
        {
          "output_type": "execute_result",
          "data": {
            "text/plain": [
              "[<tf.Tensor: shape=(), dtype=float32, numpy=36.0>,\n",
              " <tf.Tensor: shape=(), dtype=float32, numpy=10.0>]"
            ]
          },
          "metadata": {},
          "execution_count": 190
        }
      ],
      "source": [
        "jacobians"
      ]
    },
    {
      "cell_type": "code",
      "execution_count": 191,
      "metadata": {
        "colab": {
          "base_uri": "https://localhost:8080/"
        },
        "execution": {
          "iopub.execute_input": "2021-07-04T08:16:51.281023Z",
          "iopub.status.busy": "2021-07-04T08:16:51.279999Z",
          "iopub.status.idle": "2021-07-04T08:16:51.286261Z",
          "shell.execute_reply": "2021-07-04T08:16:51.287093Z"
        },
        "id": "yZVuaFulnFSt",
        "outputId": "a07317fe-7baa-458f-fdcb-db72e2e2b439"
      },
      "outputs": [
        {
          "output_type": "execute_result",
          "data": {
            "text/plain": [
              "[[<tf.Tensor: shape=(), dtype=float32, numpy=6.0>,\n",
              "  <tf.Tensor: shape=(), dtype=float32, numpy=2.0>],\n",
              " [<tf.Tensor: shape=(), dtype=float32, numpy=2.0>, None]]"
            ]
          },
          "metadata": {},
          "execution_count": 191
        }
      ],
      "source": [
        "hessians"
      ]
    },
    {
      "cell_type": "code",
      "execution_count": 192,
      "metadata": {
        "colab": {
          "base_uri": "https://localhost:8080/"
        },
        "execution": {
          "iopub.execute_input": "2021-07-04T08:16:51.296820Z",
          "iopub.status.busy": "2021-07-04T08:16:51.295762Z",
          "iopub.status.idle": "2021-07-04T08:16:51.303440Z",
          "shell.execute_reply": "2021-07-04T08:16:51.304381Z"
        },
        "id": "Z29IDrk0nFSu",
        "outputId": "7e1dc424-f2b6-481f-be85-d782aa2c2e64"
      },
      "outputs": [
        {
          "output_type": "execute_result",
          "data": {
            "text/plain": [
              "[<tf.Tensor: shape=(), dtype=float32, numpy=30.0>, None]"
            ]
          },
          "metadata": {},
          "execution_count": 192
        }
      ],
      "source": [
        "def f(w1, w2):\n",
        "    return 3 * w1 ** 2 + tf.stop_gradient(2 * w1 * w2)\n",
        "\n",
        "with tf.GradientTape() as tape:\n",
        "    z = f(w1, w2)\n",
        "\n",
        "tape.gradient(z, [w1, w2])\n",
        "#그라디언트가 역전파되지 않도록 막기 위해선 tf.stop.gradient함수를 사용한다."
      ]
    },
    {
      "cell_type": "code",
      "execution_count": 193,
      "metadata": {
        "colab": {
          "base_uri": "https://localhost:8080/"
        },
        "execution": {
          "iopub.execute_input": "2021-07-04T08:16:51.313255Z",
          "iopub.status.busy": "2021-07-04T08:16:51.312065Z",
          "iopub.status.idle": "2021-07-04T08:16:51.319779Z",
          "shell.execute_reply": "2021-07-04T08:16:51.320650Z"
        },
        "id": "O5-EE34anFSu",
        "outputId": "3b60ee19-f62a-4e69-c7b7-81f50ba2292f"
      },
      "outputs": [
        {
          "output_type": "execute_result",
          "data": {
            "text/plain": [
              "[<tf.Tensor: shape=(), dtype=float32, numpy=nan>]"
            ]
          },
          "metadata": {},
          "execution_count": 193
        }
      ],
      "source": [
        "x = tf.Variable(100.)\n",
        "with tf.GradientTape() as tape:\n",
        "    z = my_softplus(x)\n",
        "\n",
        "tape.gradient(z, [x])"
      ]
    },
    {
      "cell_type": "code",
      "execution_count": 194,
      "metadata": {
        "colab": {
          "base_uri": "https://localhost:8080/"
        },
        "execution": {
          "iopub.execute_input": "2021-07-04T08:16:51.328636Z",
          "iopub.status.busy": "2021-07-04T08:16:51.327510Z",
          "iopub.status.idle": "2021-07-04T08:16:51.333810Z",
          "shell.execute_reply": "2021-07-04T08:16:51.334689Z"
        },
        "id": "Da4WXjSvnFSu",
        "outputId": "0724eab0-fb29-4351-edcf-17ced9421a27"
      },
      "outputs": [
        {
          "output_type": "execute_result",
          "data": {
            "text/plain": [
              "<tf.Tensor: shape=(), dtype=float32, numpy=30.0>"
            ]
          },
          "metadata": {},
          "execution_count": 194
        }
      ],
      "source": [
        "tf.math.log(tf.exp(tf.constant(30., dtype=tf.float32)) + 1.)"
      ]
    },
    {
      "cell_type": "code",
      "execution_count": 195,
      "metadata": {
        "colab": {
          "base_uri": "https://localhost:8080/"
        },
        "execution": {
          "iopub.execute_input": "2021-07-04T08:16:51.343670Z",
          "iopub.status.busy": "2021-07-04T08:16:51.342529Z",
          "iopub.status.idle": "2021-07-04T08:16:51.351679Z",
          "shell.execute_reply": "2021-07-04T08:16:51.352632Z"
        },
        "id": "isJYdf_DnFSu",
        "outputId": "54794fbc-2c25-492f-c18b-b8558569b767"
      },
      "outputs": [
        {
          "output_type": "execute_result",
          "data": {
            "text/plain": [
              "[<tf.Tensor: shape=(1,), dtype=float32, numpy=array([nan], dtype=float32)>]"
            ]
          },
          "metadata": {},
          "execution_count": 195
        }
      ],
      "source": [
        "x = tf.Variable([100.])\n",
        "with tf.GradientTape() as tape:\n",
        "    z = my_softplus(x)\n",
        "\n",
        "tape.gradient(z, [x])"
      ]
    },
    {
      "cell_type": "code",
      "execution_count": 196,
      "metadata": {
        "execution": {
          "iopub.execute_input": "2021-07-04T08:16:51.364281Z",
          "iopub.status.busy": "2021-07-04T08:16:51.363154Z",
          "iopub.status.idle": "2021-07-04T08:16:51.367261Z",
          "shell.execute_reply": "2021-07-04T08:16:51.368341Z"
        },
        "id": "v4CtFIKOnFSu"
      },
      "outputs": [],
      "source": [
        "@tf.custom_gradient\n",
        "def my_better_softplus(z):\n",
        "    exp = tf.exp(z)\n",
        "    def my_softplus_gradients(grad):\n",
        "        return grad / (1 + 1 / exp)\n",
        "    return tf.math.log(exp + 1), my_softplus_gradients"
      ]
    },
    {
      "cell_type": "code",
      "execution_count": 197,
      "metadata": {
        "execution": {
          "iopub.execute_input": "2021-07-04T08:16:51.378090Z",
          "iopub.status.busy": "2021-07-04T08:16:51.376652Z",
          "iopub.status.idle": "2021-07-04T08:16:51.379875Z",
          "shell.execute_reply": "2021-07-04T08:16:51.380804Z"
        },
        "id": "tBHtwlqMnFSu"
      },
      "outputs": [],
      "source": [
        "def my_better_softplus(z):\n",
        "    return tf.where(z > 30., z, tf.math.log(tf.exp(z) + 1.))"
      ]
    },
    {
      "cell_type": "code",
      "execution_count": 198,
      "metadata": {
        "colab": {
          "base_uri": "https://localhost:8080/"
        },
        "execution": {
          "iopub.execute_input": "2021-07-04T08:16:51.389760Z",
          "iopub.status.busy": "2021-07-04T08:16:51.388584Z",
          "iopub.status.idle": "2021-07-04T08:16:51.403887Z",
          "shell.execute_reply": "2021-07-04T08:16:51.402464Z"
        },
        "id": "mkpIj-COnFSu",
        "outputId": "b8132b02-5521-4307-a219-3de52654a499"
      },
      "outputs": [
        {
          "output_type": "execute_result",
          "data": {
            "text/plain": [
              "(<tf.Tensor: shape=(1,), dtype=float32, numpy=array([1000.], dtype=float32)>,\n",
              " [<tf.Tensor: shape=(1,), dtype=float32, numpy=array([nan], dtype=float32)>])"
            ]
          },
          "metadata": {},
          "execution_count": 198
        }
      ],
      "source": [
        "x = tf.Variable([1000.])\n",
        "with tf.GradientTape() as tape:\n",
        "    z = my_better_softplus(x)\n",
        "\n",
        "z, tape.gradient(z, [x])"
      ]
    },
    {
      "cell_type": "markdown",
      "metadata": {
        "id": "XI8B76oxnFSu"
      },
      "source": [
        "##12.3.9 사용자 정의 훈련 반복\n",
        "\n",
        "드물게 fit()이 마음에 들지 않을 때 사용자 정의 훈련을 사용할 수 있다."
      ]
    },
    {
      "cell_type": "code",
      "execution_count": 199,
      "metadata": {
        "execution": {
          "iopub.execute_input": "2021-07-04T08:16:51.412781Z",
          "iopub.status.busy": "2021-07-04T08:16:51.411671Z",
          "iopub.status.idle": "2021-07-04T08:16:51.424600Z",
          "shell.execute_reply": "2021-07-04T08:16:51.425708Z"
        },
        "id": "ANdypoJYnFSu"
      },
      "outputs": [],
      "source": [
        "keras.backend.clear_session()\n",
        "np.random.seed(42)\n",
        "tf.random.set_seed(42)"
      ]
    },
    {
      "cell_type": "code",
      "execution_count": 200,
      "metadata": {
        "execution": {
          "iopub.execute_input": "2021-07-04T08:16:51.446035Z",
          "iopub.status.busy": "2021-07-04T08:16:51.444592Z",
          "iopub.status.idle": "2021-07-04T08:16:51.450062Z",
          "shell.execute_reply": "2021-07-04T08:16:51.451073Z"
        },
        "id": "CnTqizVwnFSu"
      },
      "outputs": [],
      "source": [
        "l2_reg = keras.regularizers.l2(0.05)\n",
        "model = keras.models.Sequential([\n",
        "    keras.layers.Dense(30, activation=\"elu\", kernel_initializer=\"he_normal\",\n",
        "                       kernel_regularizer=l2_reg),\n",
        "    keras.layers.Dense(1, kernel_regularizer=l2_reg)\n",
        "])"
      ]
    },
    {
      "cell_type": "code",
      "execution_count": 201,
      "metadata": {
        "execution": {
          "iopub.execute_input": "2021-07-04T08:16:51.459636Z",
          "iopub.status.busy": "2021-07-04T08:16:51.458431Z",
          "iopub.status.idle": "2021-07-04T08:16:51.462294Z",
          "shell.execute_reply": "2021-07-04T08:16:51.463223Z"
        },
        "id": "wFdg6eRenFSv"
      },
      "outputs": [],
      "source": [
        "def random_batch(X, y, batch_size=32):\n",
        "    idx = np.random.randint(len(X), size=batch_size)\n",
        "    return X[idx], y[idx]"
      ]
    },
    {
      "cell_type": "code",
      "execution_count": 202,
      "metadata": {
        "execution": {
          "iopub.execute_input": "2021-07-04T08:16:51.475177Z",
          "iopub.status.busy": "2021-07-04T08:16:51.474083Z",
          "iopub.status.idle": "2021-07-04T08:16:51.477820Z",
          "shell.execute_reply": "2021-07-04T08:16:51.478652Z"
        },
        "id": "LSqc9FVNnFSv"
      },
      "outputs": [],
      "source": [
        "def print_status_bar(iteration, total, loss, metrics=None):\n",
        "    metrics = \" - \".join([\"{}: {:.4f}\".format(m.name, m.result())\n",
        "                         for m in [loss] + (metrics or [])])\n",
        "    end = \"\" if iteration < total else \"\\n\"\n",
        "    print(\"\\r{}/{} - \".format(iteration, total) + metrics,\n",
        "          end=end)"
      ]
    },
    {
      "cell_type": "code",
      "execution_count": 203,
      "metadata": {
        "colab": {
          "base_uri": "https://localhost:8080/"
        },
        "execution": {
          "iopub.execute_input": "2021-07-04T08:16:51.499573Z",
          "iopub.status.busy": "2021-07-04T08:16:51.498167Z",
          "iopub.status.idle": "2021-07-04T08:16:54.379440Z",
          "shell.execute_reply": "2021-07-04T08:16:54.380763Z"
        },
        "id": "I-sdMEKxnFSv",
        "outputId": "ee80aee3-fd36-4213-e186-0db9fccc3f7b"
      },
      "outputs": [
        {
          "output_type": "stream",
          "name": "stdout",
          "text": [
            "50/50 - loss: 0.0900 - mean_square: 858.5000\n"
          ]
        }
      ],
      "source": [
        "import time\n",
        "\n",
        "mean_loss = keras.metrics.Mean(name=\"loss\")\n",
        "mean_square = keras.metrics.Mean(name=\"mean_square\")\n",
        "for i in range(1, 50 + 1):\n",
        "    loss = 1 / i\n",
        "    mean_loss(loss)\n",
        "    mean_square(i ** 2)\n",
        "    print_status_bar(i, 50, mean_loss, [mean_square])\n",
        "    time.sleep(0.05)"
      ]
    },
    {
      "cell_type": "markdown",
      "metadata": {
        "id": "T74QlMxbnFSv"
      },
      "source": [
        "A fancier version with a progress bar:"
      ]
    },
    {
      "cell_type": "code",
      "execution_count": 204,
      "metadata": {
        "execution": {
          "iopub.execute_input": "2021-07-04T08:16:54.394881Z",
          "iopub.status.busy": "2021-07-04T08:16:54.393436Z",
          "iopub.status.idle": "2021-07-04T08:16:54.396503Z",
          "shell.execute_reply": "2021-07-04T08:16:54.397488Z"
        },
        "id": "JCoqZPL1nFSv"
      },
      "outputs": [],
      "source": [
        "def progress_bar(iteration, total, size=30):\n",
        "    running = iteration < total\n",
        "    c = \">\" if running else \"=\"\n",
        "    p = (size - 1) * iteration // total\n",
        "    fmt = \"{{:-{}d}}/{{}} [{{}}]\".format(len(str(total)))\n",
        "    params = [iteration, total, \"=\" * p + c + \".\" * (size - p - 1)]\n",
        "    return fmt.format(*params)"
      ]
    },
    {
      "cell_type": "code",
      "execution_count": 205,
      "metadata": {
        "colab": {
          "base_uri": "https://localhost:8080/",
          "height": 35
        },
        "execution": {
          "iopub.execute_input": "2021-07-04T08:16:54.405527Z",
          "iopub.status.busy": "2021-07-04T08:16:54.404360Z",
          "iopub.status.idle": "2021-07-04T08:16:54.408663Z",
          "shell.execute_reply": "2021-07-04T08:16:54.409533Z"
        },
        "id": "palDPRM_nFSv",
        "outputId": "d7f23664-6136-40fe-c1ab-fb1166a18aae"
      },
      "outputs": [
        {
          "output_type": "execute_result",
          "data": {
            "text/plain": [
              "' 3500/10000 [=>....]'"
            ],
            "application/vnd.google.colaboratory.intrinsic+json": {
              "type": "string"
            }
          },
          "metadata": {},
          "execution_count": 205
        }
      ],
      "source": [
        "progress_bar(3500, 10000, size=6)"
      ]
    },
    {
      "cell_type": "code",
      "execution_count": 206,
      "metadata": {
        "execution": {
          "iopub.execute_input": "2021-07-04T08:16:54.420702Z",
          "iopub.status.busy": "2021-07-04T08:16:54.419667Z",
          "iopub.status.idle": "2021-07-04T08:16:54.423451Z",
          "shell.execute_reply": "2021-07-04T08:16:54.424317Z"
        },
        "id": "_INP4LY-nFSv"
      },
      "outputs": [],
      "source": [
        "def print_status_bar(iteration, total, loss, metrics=None, size=30):\n",
        "    metrics = \" - \".join([\"{}: {:.4f}\".format(m.name, m.result())\n",
        "                         for m in [loss] + (metrics or [])])\n",
        "    end = \"\" if iteration < total else \"\\n\"\n",
        "    print(\"\\r{} - {}\".format(progress_bar(iteration, total), metrics), end=end)"
      ]
    },
    {
      "cell_type": "code",
      "execution_count": 207,
      "metadata": {
        "colab": {
          "base_uri": "https://localhost:8080/"
        },
        "execution": {
          "iopub.execute_input": "2021-07-04T08:16:54.451621Z",
          "iopub.status.busy": "2021-07-04T08:16:54.442475Z",
          "iopub.status.idle": "2021-07-04T08:16:57.309328Z",
          "shell.execute_reply": "2021-07-04T08:16:57.310825Z"
        },
        "id": "_wv5QF3bnFSv",
        "outputId": "990d5789-f196-4c48-b503-5953cfcbb3fd"
      },
      "outputs": [
        {
          "output_type": "stream",
          "name": "stdout",
          "text": [
            "50/50 [==============================] - loss: 0.0900 - mean_square: 858.5000\n"
          ]
        }
      ],
      "source": [
        "mean_loss = keras.metrics.Mean(name=\"loss\")\n",
        "mean_square = keras.metrics.Mean(name=\"mean_square\")\n",
        "for i in range(1, 50 + 1):\n",
        "    loss = 1 / i\n",
        "    mean_loss(loss)\n",
        "    mean_square(i ** 2)\n",
        "    print_status_bar(i, 50, mean_loss, [mean_square])\n",
        "    time.sleep(0.05)"
      ]
    },
    {
      "cell_type": "code",
      "execution_count": 208,
      "metadata": {
        "execution": {
          "iopub.execute_input": "2021-07-04T08:16:57.320138Z",
          "iopub.status.busy": "2021-07-04T08:16:57.318748Z",
          "iopub.status.idle": "2021-07-04T08:16:57.326326Z",
          "shell.execute_reply": "2021-07-04T08:16:57.327156Z"
        },
        "id": "GY73UpFLnFSv"
      },
      "outputs": [],
      "source": [
        "keras.backend.clear_session()\n",
        "np.random.seed(42)\n",
        "tf.random.set_seed(42)"
      ]
    },
    {
      "cell_type": "code",
      "execution_count": 209,
      "metadata": {
        "execution": {
          "iopub.execute_input": "2021-07-04T08:16:57.344821Z",
          "iopub.status.busy": "2021-07-04T08:16:57.343764Z",
          "iopub.status.idle": "2021-07-04T08:16:57.360548Z",
          "shell.execute_reply": "2021-07-04T08:16:57.362034Z"
        },
        "id": "PG-ZQpginFSv"
      },
      "outputs": [],
      "source": [
        "n_epochs = 5\n",
        "batch_size = 32\n",
        "n_steps = len(X_train) // batch_size\n",
        "optimizer = keras.optimizers.Nadam(learning_rate=0.01)\n",
        "loss_fn = keras.losses.mean_squared_error\n",
        "mean_loss = keras.metrics.Mean()\n",
        "metrics = [keras.metrics.MeanAbsoluteError()]"
      ]
    },
    {
      "cell_type": "code",
      "execution_count": 210,
      "metadata": {
        "colab": {
          "base_uri": "https://localhost:8080/"
        },
        "execution": {
          "iopub.execute_input": "2021-07-04T08:16:57.381663Z",
          "iopub.status.busy": "2021-07-04T08:16:57.380524Z",
          "iopub.status.idle": "2021-07-04T08:17:33.871593Z",
          "shell.execute_reply": "2021-07-04T08:17:33.872920Z"
        },
        "id": "ITOnR9uLnFSv",
        "outputId": "34e91eeb-c842-4ed5-b7e3-cc8abff6bbd7"
      },
      "outputs": [
        {
          "output_type": "stream",
          "name": "stdout",
          "text": [
            "Epoch 1/5\n",
            "11610/11610 [==============================] - mean: 1.3955 - mean_absolute_error: 0.5722\n",
            "Epoch 2/5\n",
            "11610/11610 [==============================] - mean: 0.6774 - mean_absolute_error: 0.5280\n",
            "Epoch 3/5\n",
            "11610/11610 [==============================] - mean: 0.6351 - mean_absolute_error: 0.5177\n",
            "Epoch 4/5\n",
            "11610/11610 [==============================] - mean: 0.6384 - mean_absolute_error: 0.5181\n",
            "Epoch 5/5\n",
            "11610/11610 [==============================] - mean: 0.6440 - mean_absolute_error: 0.5222\n"
          ]
        }
      ],
      "source": [
        "for epoch in range(1, n_epochs + 1):\n",
        "    print(\"Epoch {}/{}\".format(epoch, n_epochs))\n",
        "    for step in range(1, n_steps + 1):\n",
        "        X_batch, y_batch = random_batch(X_train_scaled, y_train)\n",
        "        with tf.GradientTape() as tape:\n",
        "            y_pred = model(X_batch)\n",
        "            main_loss = tf.reduce_mean(loss_fn(y_batch, y_pred))\n",
        "            loss = tf.add_n([main_loss] + model.losses)\n",
        "        gradients = tape.gradient(loss, model.trainable_variables)\n",
        "        optimizer.apply_gradients(zip(gradients, model.trainable_variables))\n",
        "        for variable in model.variables:\n",
        "            if variable.constraint is not None:\n",
        "                variable.assign(variable.constraint(variable))\n",
        "        mean_loss(loss)\n",
        "        for metric in metrics:\n",
        "            metric(y_batch, y_pred)\n",
        "        print_status_bar(step * batch_size, len(y_train), mean_loss, metrics)\n",
        "    print_status_bar(len(y_train), len(y_train), mean_loss, metrics)\n",
        "    for metric in [mean_loss] + metrics:\n",
        "        metric.reset_states()"
      ]
    },
    {
      "cell_type": "code",
      "execution_count": 211,
      "metadata": {
        "colab": {
          "base_uri": "https://localhost:8080/",
          "height": 209,
          "referenced_widgets": [
            "9ecab235198644e5ad8c319cea2f1ab2",
            "adf2050f920a4c10a6add960087dd887",
            "4ba9667ec91748ada66751af9052d73c",
            "5972024e1b084e7180ea893f88032dce",
            "5db7e5cc6ca64bc3bd0ee5a23531fbb4",
            "99249b3b709844f197d3779d0e3f430a",
            "8ae9eaaab1634566bb478d116a0cdaa0",
            "d4bf695e069d44db95126616becc020f",
            "5ca1ddb5ba2e4664aa02e67e03b1281f",
            "dd7ba4bd099f4250bf4cfe8dbf175d2a",
            "64662d44ce2d4797b7d60315ff5718c0",
            "1ca6eaffedc346f4b24fbc7e71c821e3",
            "c0ed9ae2c121471eb3f93c7a6925bbc2",
            "028890e94bd442d69aea7d46d93fd6e0",
            "748c91fd0d044996b2ae8a492e1e5c52",
            "c2e94455f9574cbdb6b3bd0d2370096b",
            "bd3531278e694424bea49be1fce011cf",
            "7ad244735a3d463bb4cbdb9ed7734bda",
            "501d3354b7b144c6bd63f27abcf2122e",
            "13c19b40cf744487920d30416b44478d",
            "5c48758b20954467851b18cc7dc6c7ce",
            "027e2c984c6f4766888d0bc7b826a57f",
            "eaa04d90e7614878af7ac885e90840bf",
            "43fc734f1b2f4e90a961d8d43ac341c8",
            "fd311dee63d049d3a343cb34717dba78",
            "fc168619df384fbb9d3ef70c205b88ac",
            "5cc61a15768842fcbcb00fd24793fe8a",
            "49452115d1a947e791748a8aecbf88c6",
            "f4b7ac02092c4b139ed007a19d44868a",
            "3964b6d4a9a64b96be42d05832330d3b",
            "e908ada2851a4e03a1bf2cf84e119a4c",
            "836358ee3f294844bf86bd62cef645c4",
            "0e6da93cf7064eceaf80b0af4f3e295c",
            "f7ff97d563c8452ebfc756256343c6e6",
            "4330aa05c7fa452da75c451d25df05dd",
            "7f428ee1808a4d0d9afce8f45a469930",
            "a5dfcaad26c5498ca16d874304925e5e",
            "4af3767fc0e7469f8cd20e4440ea00cd",
            "f92caec8799b4238804cdb4125829447",
            "03ca0d87b662404b800a8fa6334a8bbd",
            "1d7106b4ead74e9f96b05ce5eda43b96",
            "e930e691f4a54829944abc9beb63c2b2",
            "dbe9d70c3eb6469eab1f9af091f5841d",
            "2a0458832c734f3787fec3e90545f94d",
            "86c9e39a942c46e8b42c0032bf5dfb8d",
            "78c3bba678704aeda48bfe469d1c76e7",
            "8e8ae974fc7d4778be5ddbd1f12ec63a",
            "3bc2bb5283744adbadd7d35d93891150",
            "1d56340d763241e4b5076819bee8b40c",
            "0eca8d2f440b40a3a5131159870dc660",
            "ba9de246bc7b45c39f515ee2f43644ce",
            "c704cc143660493da9ccb02ec3514ee7",
            "f0689fad35e14ef9b11c52d974d3243d",
            "5613473578614676b867377aba0b3fbf",
            "a04c85cf9467401abf4841f0d8e32f6a",
            "8d71ef747de14daf89ec9abb0b3e21d1",
            "b323b68ffebc406d8f5c1af413070f30",
            "129e0763c78249d59932f7b4240837b7",
            "e03331e7c06a45028834c99d508ac2f2",
            "eee950dc43874c50a6b5ac0ec5648129",
            "8f22a75fea094c5a9832f934e03cfe23",
            "71e537b2d68c40df9a66c6749876c5ff",
            "5898d6de3ffe4e278bbfe9ec470bc873",
            "09c684e41f034cde88a9cc7a9b457fd9",
            "4146070a7c624a4191c7eb79ea079c3b",
            "56f3d47948bb43259c11d1f696f60687"
          ]
        },
        "execution": {
          "iopub.execute_input": "2021-07-04T08:17:33.898309Z",
          "iopub.status.busy": "2021-07-04T08:17:33.896576Z",
          "iopub.status.idle": "2021-07-04T08:18:11.822625Z",
          "shell.execute_reply": "2021-07-04T08:18:11.820044Z"
        },
        "id": "_VOoVK34nFSw",
        "outputId": "e22a630c-6738-4d55-d1d8-3b86f10e2231"
      },
      "outputs": [
        {
          "output_type": "display_data",
          "data": {
            "text/plain": [
              "All epochs:   0%|          | 0/5 [00:00<?, ?it/s]"
            ],
            "application/vnd.jupyter.widget-view+json": {
              "version_major": 2,
              "version_minor": 0,
              "model_id": "9ecab235198644e5ad8c319cea2f1ab2"
            }
          },
          "metadata": {}
        },
        {
          "output_type": "display_data",
          "data": {
            "text/plain": [
              "Epoch 1/5:   0%|          | 0/362 [00:00<?, ?it/s]"
            ],
            "application/vnd.jupyter.widget-view+json": {
              "version_major": 2,
              "version_minor": 0,
              "model_id": "1ca6eaffedc346f4b24fbc7e71c821e3"
            }
          },
          "metadata": {}
        },
        {
          "output_type": "display_data",
          "data": {
            "text/plain": [
              "Epoch 2/5:   0%|          | 0/362 [00:00<?, ?it/s]"
            ],
            "application/vnd.jupyter.widget-view+json": {
              "version_major": 2,
              "version_minor": 0,
              "model_id": "eaa04d90e7614878af7ac885e90840bf"
            }
          },
          "metadata": {}
        },
        {
          "output_type": "display_data",
          "data": {
            "text/plain": [
              "Epoch 3/5:   0%|          | 0/362 [00:00<?, ?it/s]"
            ],
            "application/vnd.jupyter.widget-view+json": {
              "version_major": 2,
              "version_minor": 0,
              "model_id": "f7ff97d563c8452ebfc756256343c6e6"
            }
          },
          "metadata": {}
        },
        {
          "output_type": "display_data",
          "data": {
            "text/plain": [
              "Epoch 4/5:   0%|          | 0/362 [00:00<?, ?it/s]"
            ],
            "application/vnd.jupyter.widget-view+json": {
              "version_major": 2,
              "version_minor": 0,
              "model_id": "86c9e39a942c46e8b42c0032bf5dfb8d"
            }
          },
          "metadata": {}
        },
        {
          "output_type": "display_data",
          "data": {
            "text/plain": [
              "Epoch 5/5:   0%|          | 0/362 [00:00<?, ?it/s]"
            ],
            "application/vnd.jupyter.widget-view+json": {
              "version_major": 2,
              "version_minor": 0,
              "model_id": "8d71ef747de14daf89ec9abb0b3e21d1"
            }
          },
          "metadata": {}
        }
      ],
      "source": [
        "try:\n",
        "    from tqdm.notebook import trange\n",
        "    from collections import OrderedDict\n",
        "    with trange(1, n_epochs + 1, desc=\"All epochs\") as epochs:\n",
        "        for epoch in epochs:\n",
        "            with trange(1, n_steps + 1, desc=\"Epoch {}/{}\".format(epoch, n_epochs)) as steps:\n",
        "                for step in steps:\n",
        "                    X_batch, y_batch = random_batch(X_train_scaled, y_train)\n",
        "                    with tf.GradientTape() as tape:\n",
        "                        y_pred = model(X_batch)\n",
        "                        main_loss = tf.reduce_mean(loss_fn(y_batch, y_pred))\n",
        "                        loss = tf.add_n([main_loss] + model.losses)\n",
        "                    gradients = tape.gradient(loss, model.trainable_variables)\n",
        "                    optimizer.apply_gradients(zip(gradients, model.trainable_variables))\n",
        "                    for variable in model.variables:\n",
        "                        if variable.constraint is not None:\n",
        "                            variable.assign(variable.constraint(variable))                    \n",
        "                    status = OrderedDict()\n",
        "                    mean_loss(loss)\n",
        "                    status[\"loss\"] = mean_loss.result().numpy()\n",
        "                    for metric in metrics:\n",
        "                        metric(y_batch, y_pred)\n",
        "                        status[metric.name] = metric.result().numpy()\n",
        "                    steps.set_postfix(status)\n",
        "            for metric in [mean_loss] + metrics:\n",
        "                metric.reset_states()\n",
        "except ImportError as ex:\n",
        "    print(\"To run this cell, please install tqdm, ipywidgets and restart Jupyter\")"
      ]
    },
    {
      "cell_type": "markdown",
      "metadata": {
        "id": "CnRi0O4YnFSw"
      },
      "source": [
        "# 12.4 텐서플로 함수\n",
        "텐서플로 1의 그래프는 핵심적인 기능이었으나, 텐서플로2에선 아니므로, 간단하게 다루고 넘어간다."
      ]
    },
    {
      "cell_type": "code",
      "execution_count": 212,
      "metadata": {
        "execution": {
          "iopub.execute_input": "2021-07-04T08:18:11.830499Z",
          "iopub.status.busy": "2021-07-04T08:18:11.829618Z",
          "iopub.status.idle": "2021-07-04T08:18:11.833538Z",
          "shell.execute_reply": "2021-07-04T08:18:11.834319Z"
        },
        "id": "Z4ZR1OPsnFSx"
      },
      "outputs": [],
      "source": [
        "def cube(x):\n",
        "    return x ** 3"
      ]
    },
    {
      "cell_type": "code",
      "execution_count": 213,
      "metadata": {
        "colab": {
          "base_uri": "https://localhost:8080/"
        },
        "execution": {
          "iopub.execute_input": "2021-07-04T08:18:11.842745Z",
          "iopub.status.busy": "2021-07-04T08:18:11.841606Z",
          "iopub.status.idle": "2021-07-04T08:18:11.846105Z",
          "shell.execute_reply": "2021-07-04T08:18:11.846996Z"
        },
        "id": "8l01IQPXnFSx",
        "outputId": "d8f8ed5f-2be8-4610-8e30-d467f7bebeb5"
      },
      "outputs": [
        {
          "output_type": "execute_result",
          "data": {
            "text/plain": [
              "8"
            ]
          },
          "metadata": {},
          "execution_count": 213
        }
      ],
      "source": [
        "cube(2)"
      ]
    },
    {
      "cell_type": "code",
      "execution_count": 214,
      "metadata": {
        "colab": {
          "base_uri": "https://localhost:8080/"
        },
        "execution": {
          "iopub.execute_input": "2021-07-04T08:18:11.854139Z",
          "iopub.status.busy": "2021-07-04T08:18:11.853046Z",
          "iopub.status.idle": "2021-07-04T08:18:11.861946Z",
          "shell.execute_reply": "2021-07-04T08:18:11.861036Z"
        },
        "id": "i7FxLva0nFSx",
        "outputId": "6649799f-fd88-4f4a-833a-fd89db4761f4"
      },
      "outputs": [
        {
          "output_type": "execute_result",
          "data": {
            "text/plain": [
              "<tf.Tensor: shape=(), dtype=float32, numpy=8.0>"
            ]
          },
          "metadata": {},
          "execution_count": 214
        }
      ],
      "source": [
        "cube(tf.constant(2.0))"
      ]
    },
    {
      "cell_type": "code",
      "execution_count": 215,
      "metadata": {
        "colab": {
          "base_uri": "https://localhost:8080/"
        },
        "execution": {
          "iopub.execute_input": "2021-07-04T08:18:11.871190Z",
          "iopub.status.busy": "2021-07-04T08:18:11.869990Z",
          "iopub.status.idle": "2021-07-04T08:18:11.875579Z",
          "shell.execute_reply": "2021-07-04T08:18:11.874509Z"
        },
        "id": "T03G4Mt8nFSx",
        "outputId": "84aedb40-6a4d-4e94-9184-22ffccc2fe8e"
      },
      "outputs": [
        {
          "output_type": "execute_result",
          "data": {
            "text/plain": [
              "<tensorflow.python.eager.def_function.Function at 0x7fde3087ba90>"
            ]
          },
          "metadata": {},
          "execution_count": 215
        }
      ],
      "source": [
        "tf_cube = tf.function(cube)\n",
        "tf_cube"
      ]
    },
    {
      "cell_type": "code",
      "execution_count": 216,
      "metadata": {
        "colab": {
          "base_uri": "https://localhost:8080/"
        },
        "execution": {
          "iopub.execute_input": "2021-07-04T08:18:11.906924Z",
          "iopub.status.busy": "2021-07-04T08:18:11.882671Z",
          "iopub.status.idle": "2021-07-04T08:18:11.967643Z",
          "shell.execute_reply": "2021-07-04T08:18:11.968947Z"
        },
        "id": "1FjYnl2snFSx",
        "outputId": "3201b8da-f430-4af5-d1f6-c52873de613b"
      },
      "outputs": [
        {
          "output_type": "execute_result",
          "data": {
            "text/plain": [
              "<tf.Tensor: shape=(), dtype=int32, numpy=8>"
            ]
          },
          "metadata": {},
          "execution_count": 216
        }
      ],
      "source": [
        "tf_cube(2)"
      ]
    },
    {
      "cell_type": "code",
      "execution_count": 217,
      "metadata": {
        "colab": {
          "base_uri": "https://localhost:8080/"
        },
        "execution": {
          "iopub.execute_input": "2021-07-04T08:18:11.978396Z",
          "iopub.status.busy": "2021-07-04T08:18:11.976707Z",
          "iopub.status.idle": "2021-07-04T08:18:11.994754Z",
          "shell.execute_reply": "2021-07-04T08:18:11.995845Z"
        },
        "id": "CJ98sHrKnFSx",
        "outputId": "77d77572-f202-4ec8-d319-b95f67e3ce79"
      },
      "outputs": [
        {
          "output_type": "execute_result",
          "data": {
            "text/plain": [
              "<tf.Tensor: shape=(), dtype=float32, numpy=8.0>"
            ]
          },
          "metadata": {},
          "execution_count": 217
        }
      ],
      "source": [
        "tf_cube(tf.constant(2.0))"
      ]
    },
    {
      "cell_type": "markdown",
      "metadata": {
        "id": "69nqOhgSnFSx"
      },
      "source": [
        "### TF 함수와 콘크리트 함수"
      ]
    },
    {
      "cell_type": "code",
      "execution_count": 218,
      "metadata": {
        "colab": {
          "base_uri": "https://localhost:8080/"
        },
        "execution": {
          "iopub.execute_input": "2021-07-04T08:18:12.005258Z",
          "iopub.status.busy": "2021-07-04T08:18:12.003881Z",
          "iopub.status.idle": "2021-07-04T08:18:12.008314Z",
          "shell.execute_reply": "2021-07-04T08:18:12.009204Z"
        },
        "id": "TKtHslXenFSx",
        "outputId": "257b50d9-ff44-4d19-9cd0-b0543b56f0b1"
      },
      "outputs": [
        {
          "output_type": "execute_result",
          "data": {
            "text/plain": [
              "<tensorflow.python.framework.func_graph.FuncGraph at 0x7fde31ba3910>"
            ]
          },
          "metadata": {},
          "execution_count": 218
        }
      ],
      "source": [
        "concrete_function = tf_cube.get_concrete_function(tf.constant(2.0))\n",
        "concrete_function.graph"
      ]
    },
    {
      "cell_type": "code",
      "execution_count": 219,
      "metadata": {
        "colab": {
          "base_uri": "https://localhost:8080/"
        },
        "execution": {
          "iopub.execute_input": "2021-07-04T08:18:12.016194Z",
          "iopub.status.busy": "2021-07-04T08:18:12.015274Z",
          "iopub.status.idle": "2021-07-04T08:18:12.021028Z",
          "shell.execute_reply": "2021-07-04T08:18:12.021740Z"
        },
        "id": "_rPVLwFKnFSx",
        "outputId": "54483b47-4e80-4b76-f639-3fb43ae43061"
      },
      "outputs": [
        {
          "output_type": "execute_result",
          "data": {
            "text/plain": [
              "<tf.Tensor: shape=(), dtype=float32, numpy=8.0>"
            ]
          },
          "metadata": {},
          "execution_count": 219
        }
      ],
      "source": [
        "concrete_function(tf.constant(2.0))"
      ]
    },
    {
      "cell_type": "code",
      "execution_count": 220,
      "metadata": {
        "colab": {
          "base_uri": "https://localhost:8080/"
        },
        "execution": {
          "iopub.execute_input": "2021-07-04T08:18:12.029029Z",
          "iopub.status.busy": "2021-07-04T08:18:12.028140Z",
          "iopub.status.idle": "2021-07-04T08:18:12.032917Z",
          "shell.execute_reply": "2021-07-04T08:18:12.033810Z"
        },
        "id": "Vvpikc9TnFSx",
        "outputId": "ad52adc0-c12c-42b7-fb22-70a008d105df"
      },
      "outputs": [
        {
          "output_type": "execute_result",
          "data": {
            "text/plain": [
              "True"
            ]
          },
          "metadata": {},
          "execution_count": 220
        }
      ],
      "source": [
        "concrete_function is tf_cube.get_concrete_function(tf.constant(2.0))"
      ]
    },
    {
      "cell_type": "markdown",
      "metadata": {
        "id": "3D-erxOBnFSx"
      },
      "source": [
        "### 함수 정의와 그래프"
      ]
    },
    {
      "cell_type": "code",
      "execution_count": 221,
      "metadata": {
        "colab": {
          "base_uri": "https://localhost:8080/"
        },
        "execution": {
          "iopub.execute_input": "2021-07-04T08:18:12.041193Z",
          "iopub.status.busy": "2021-07-04T08:18:12.040072Z",
          "iopub.status.idle": "2021-07-04T08:18:12.044509Z",
          "shell.execute_reply": "2021-07-04T08:18:12.045398Z"
        },
        "id": "_IvdEuL2nFSy",
        "outputId": "f3d061cb-6c94-465d-954d-322455e963fb"
      },
      "outputs": [
        {
          "output_type": "execute_result",
          "data": {
            "text/plain": [
              "<tensorflow.python.framework.func_graph.FuncGraph at 0x7fde31ba3910>"
            ]
          },
          "metadata": {},
          "execution_count": 221
        }
      ],
      "source": [
        "concrete_function.graph"
      ]
    },
    {
      "cell_type": "code",
      "execution_count": 222,
      "metadata": {
        "colab": {
          "base_uri": "https://localhost:8080/"
        },
        "execution": {
          "iopub.execute_input": "2021-07-04T08:18:12.053175Z",
          "iopub.status.busy": "2021-07-04T08:18:12.052119Z",
          "iopub.status.idle": "2021-07-04T08:18:12.056725Z",
          "shell.execute_reply": "2021-07-04T08:18:12.057552Z"
        },
        "id": "G6izh2CRnFSy",
        "outputId": "43e86d92-56ed-4a38-f679-2760e6aca9eb"
      },
      "outputs": [
        {
          "output_type": "execute_result",
          "data": {
            "text/plain": [
              "[<tf.Operation 'x' type=Placeholder>,\n",
              " <tf.Operation 'pow/y' type=Const>,\n",
              " <tf.Operation 'pow' type=Pow>,\n",
              " <tf.Operation 'Identity' type=Identity>]"
            ]
          },
          "metadata": {},
          "execution_count": 222
        }
      ],
      "source": [
        "ops = concrete_function.graph.get_operations()\n",
        "ops"
      ]
    },
    {
      "cell_type": "code",
      "execution_count": 223,
      "metadata": {
        "colab": {
          "base_uri": "https://localhost:8080/"
        },
        "execution": {
          "iopub.execute_input": "2021-07-04T08:18:12.065323Z",
          "iopub.status.busy": "2021-07-04T08:18:12.064271Z",
          "iopub.status.idle": "2021-07-04T08:18:12.068512Z",
          "shell.execute_reply": "2021-07-04T08:18:12.069401Z"
        },
        "id": "AoSFwR_ynFSy",
        "outputId": "186d89b9-167f-4b0b-baff-80cc8f864ee9"
      },
      "outputs": [
        {
          "output_type": "execute_result",
          "data": {
            "text/plain": [
              "[<tf.Tensor 'x:0' shape=() dtype=float32>,\n",
              " <tf.Tensor 'pow/y:0' shape=() dtype=float32>]"
            ]
          },
          "metadata": {},
          "execution_count": 223
        }
      ],
      "source": [
        "pow_op = ops[2]\n",
        "list(pow_op.inputs)"
      ]
    },
    {
      "cell_type": "code",
      "execution_count": 224,
      "metadata": {
        "colab": {
          "base_uri": "https://localhost:8080/"
        },
        "execution": {
          "iopub.execute_input": "2021-07-04T08:18:12.076592Z",
          "iopub.status.busy": "2021-07-04T08:18:12.075541Z",
          "iopub.status.idle": "2021-07-04T08:18:12.080084Z",
          "shell.execute_reply": "2021-07-04T08:18:12.080859Z"
        },
        "id": "9Fzk_02ynFSy",
        "outputId": "04312e00-cc68-4d22-bc65-234b434958d9"
      },
      "outputs": [
        {
          "output_type": "execute_result",
          "data": {
            "text/plain": [
              "[<tf.Tensor 'pow:0' shape=() dtype=float32>]"
            ]
          },
          "metadata": {},
          "execution_count": 224
        }
      ],
      "source": [
        "pow_op.outputs"
      ]
    },
    {
      "cell_type": "code",
      "execution_count": 225,
      "metadata": {
        "colab": {
          "base_uri": "https://localhost:8080/"
        },
        "execution": {
          "iopub.execute_input": "2021-07-04T08:18:12.088380Z",
          "iopub.status.busy": "2021-07-04T08:18:12.087383Z",
          "iopub.status.idle": "2021-07-04T08:18:12.091856Z",
          "shell.execute_reply": "2021-07-04T08:18:12.092684Z"
        },
        "id": "aGRFv-VxnFSy",
        "outputId": "49ceea9b-0df7-4ebb-c775-293c4656cc51"
      },
      "outputs": [
        {
          "output_type": "execute_result",
          "data": {
            "text/plain": [
              "<tf.Operation 'x' type=Placeholder>"
            ]
          },
          "metadata": {},
          "execution_count": 225
        }
      ],
      "source": [
        "concrete_function.graph.get_operation_by_name('x')"
      ]
    },
    {
      "cell_type": "code",
      "execution_count": 226,
      "metadata": {
        "colab": {
          "base_uri": "https://localhost:8080/"
        },
        "execution": {
          "iopub.execute_input": "2021-07-04T08:18:12.101366Z",
          "iopub.status.busy": "2021-07-04T08:18:12.099700Z",
          "iopub.status.idle": "2021-07-04T08:18:12.105564Z",
          "shell.execute_reply": "2021-07-04T08:18:12.106993Z"
        },
        "id": "COu4KwZSnFSy",
        "outputId": "b3eb6c25-3fdc-4ecb-86d2-9f3f74347946"
      },
      "outputs": [
        {
          "output_type": "execute_result",
          "data": {
            "text/plain": [
              "<tf.Tensor 'Identity:0' shape=() dtype=float32>"
            ]
          },
          "metadata": {},
          "execution_count": 226
        }
      ],
      "source": [
        "concrete_function.graph.get_tensor_by_name('Identity:0')"
      ]
    },
    {
      "cell_type": "code",
      "execution_count": 227,
      "metadata": {
        "colab": {
          "base_uri": "https://localhost:8080/"
        },
        "execution": {
          "iopub.execute_input": "2021-07-04T08:18:12.116483Z",
          "iopub.status.busy": "2021-07-04T08:18:12.114823Z",
          "iopub.status.idle": "2021-07-04T08:18:12.119524Z",
          "shell.execute_reply": "2021-07-04T08:18:12.120359Z"
        },
        "id": "eJy4X6jbnFSy",
        "outputId": "ef2e9f46-8345-47c7-9c9d-dec53228c9fc"
      },
      "outputs": [
        {
          "output_type": "execute_result",
          "data": {
            "text/plain": [
              "name: \"__inference_cube_1131147\"\n",
              "input_arg {\n",
              "  name: \"x\"\n",
              "  type: DT_FLOAT\n",
              "}\n",
              "output_arg {\n",
              "  name: \"identity\"\n",
              "  type: DT_FLOAT\n",
              "}"
            ]
          },
          "metadata": {},
          "execution_count": 227
        }
      ],
      "source": [
        "concrete_function.function_def.signature"
      ]
    },
    {
      "cell_type": "markdown",
      "metadata": {
        "id": "9Nh2laLOnFSy"
      },
      "source": [
        "### TF 함수가 계산 그래프를 추출하기 위해 파이썬 함수를 트레이싱하는 방법"
      ]
    },
    {
      "cell_type": "code",
      "execution_count": 228,
      "metadata": {
        "execution": {
          "iopub.execute_input": "2021-07-04T08:18:12.129008Z",
          "iopub.status.busy": "2021-07-04T08:18:12.128011Z",
          "iopub.status.idle": "2021-07-04T08:18:12.131970Z",
          "shell.execute_reply": "2021-07-04T08:18:12.132795Z"
        },
        "id": "SZK5xGMGnFSy"
      },
      "outputs": [],
      "source": [
        "@tf.function\n",
        "def tf_cube(x):\n",
        "    print(\"print:\", x)\n",
        "    return x ** 3"
      ]
    },
    {
      "cell_type": "code",
      "execution_count": 229,
      "metadata": {
        "colab": {
          "base_uri": "https://localhost:8080/"
        },
        "execution": {
          "iopub.execute_input": "2021-07-04T08:18:12.146742Z",
          "iopub.status.busy": "2021-07-04T08:18:12.139776Z",
          "iopub.status.idle": "2021-07-04T08:18:12.210946Z",
          "shell.execute_reply": "2021-07-04T08:18:12.211878Z"
        },
        "id": "kZa67mMWnFSy",
        "outputId": "b436c8e2-6c69-4257-d92e-6f07c202f4ea"
      },
      "outputs": [
        {
          "output_type": "stream",
          "name": "stdout",
          "text": [
            "print: Tensor(\"x:0\", shape=(), dtype=float32)\n"
          ]
        }
      ],
      "source": [
        "result = tf_cube(tf.constant(2.0))"
      ]
    },
    {
      "cell_type": "code",
      "execution_count": 230,
      "metadata": {
        "colab": {
          "base_uri": "https://localhost:8080/"
        },
        "execution": {
          "iopub.execute_input": "2021-07-04T08:18:12.218833Z",
          "iopub.status.busy": "2021-07-04T08:18:12.217592Z",
          "iopub.status.idle": "2021-07-04T08:18:12.222986Z",
          "shell.execute_reply": "2021-07-04T08:18:12.223763Z"
        },
        "id": "0MW_WncUnFSy",
        "outputId": "6f392bca-cd60-4471-b5d2-a82bfdfefa73"
      },
      "outputs": [
        {
          "output_type": "execute_result",
          "data": {
            "text/plain": [
              "<tf.Tensor: shape=(), dtype=float32, numpy=8.0>"
            ]
          },
          "metadata": {},
          "execution_count": 230
        }
      ],
      "source": [
        "result"
      ]
    },
    {
      "cell_type": "code",
      "execution_count": 231,
      "metadata": {
        "colab": {
          "base_uri": "https://localhost:8080/"
        },
        "execution": {
          "iopub.execute_input": "2021-07-04T08:18:12.235570Z",
          "iopub.status.busy": "2021-07-04T08:18:12.233860Z",
          "iopub.status.idle": "2021-07-04T08:18:12.290992Z",
          "shell.execute_reply": "2021-07-04T08:18:12.291999Z"
        },
        "id": "N4ejN4cKnFSz",
        "outputId": "18df438d-f6ca-497c-9bf5-0f130ab49503"
      },
      "outputs": [
        {
          "output_type": "stream",
          "name": "stderr",
          "text": [
            "WARNING:tensorflow:5 out of the last 5 calls to <function tf_cube at 0x7fde31c02830> triggered tf.function retracing. Tracing is expensive and the excessive number of tracings could be due to (1) creating @tf.function repeatedly in a loop, (2) passing tensors with different shapes, (3) passing Python objects instead of tensors. For (1), please define your @tf.function outside of the loop. For (2), @tf.function has experimental_relax_shapes=True option that relaxes argument shapes that can avoid unnecessary retracing. For (3), please refer to https://www.tensorflow.org/guide/function#controlling_retracing and https://www.tensorflow.org/api_docs/python/tf/function for  more details.\n",
            "WARNING:tensorflow:6 out of the last 6 calls to <function tf_cube at 0x7fde31c02830> triggered tf.function retracing. Tracing is expensive and the excessive number of tracings could be due to (1) creating @tf.function repeatedly in a loop, (2) passing tensors with different shapes, (3) passing Python objects instead of tensors. For (1), please define your @tf.function outside of the loop. For (2), @tf.function has experimental_relax_shapes=True option that relaxes argument shapes that can avoid unnecessary retracing. For (3), please refer to https://www.tensorflow.org/guide/function#controlling_retracing and https://www.tensorflow.org/api_docs/python/tf/function for  more details.\n"
          ]
        },
        {
          "output_type": "stream",
          "name": "stdout",
          "text": [
            "print: 2\n",
            "print: 3\n",
            "print: Tensor(\"x:0\", shape=(1, 2), dtype=float32)\n",
            "print: Tensor(\"x:0\", shape=(2, 2), dtype=float32)\n",
            "print: Tensor(\"x:0\", shape=(3, 2), dtype=float32)\n"
          ]
        }
      ],
      "source": [
        "result = tf_cube(2)\n",
        "result = tf_cube(3)\n",
        "result = tf_cube(tf.constant([[1., 2.]])) # New shape: trace!\n",
        "result = tf_cube(tf.constant([[3., 4.], [5., 6.]])) # New shape: trace!\n",
        "result = tf_cube(tf.constant([[7., 8.], [9., 10.], [11., 12.]])) # New shape: trace!"
      ]
    },
    {
      "cell_type": "markdown",
      "metadata": {
        "id": "OtxmwBibnFSz"
      },
      "source": [
        "특정 입력 시그니처를 지정하는 것도 가능합니다:"
      ]
    },
    {
      "cell_type": "code",
      "execution_count": 232,
      "metadata": {
        "execution": {
          "iopub.execute_input": "2021-07-04T08:18:12.302653Z",
          "iopub.status.busy": "2021-07-04T08:18:12.301378Z",
          "iopub.status.idle": "2021-07-04T08:18:12.304438Z",
          "shell.execute_reply": "2021-07-04T08:18:12.305373Z"
        },
        "id": "ilXpmEtbnFSz"
      },
      "outputs": [],
      "source": [
        "@tf.function(input_signature=[tf.TensorSpec([None, 28, 28], tf.float32)])\n",
        "def shrink(images):\n",
        "    print(\"트레이싱\", images)\n",
        "    return images[:, ::2, ::2] # 행과 열의 절반을 버립니다"
      ]
    },
    {
      "cell_type": "code",
      "execution_count": 233,
      "metadata": {
        "execution": {
          "iopub.execute_input": "2021-07-04T08:18:12.313289Z",
          "iopub.status.busy": "2021-07-04T08:18:12.312167Z",
          "iopub.status.idle": "2021-07-04T08:18:12.321014Z",
          "shell.execute_reply": "2021-07-04T08:18:12.320129Z"
        },
        "id": "_SaQ3wV8nFSz"
      },
      "outputs": [],
      "source": [
        "keras.backend.clear_session()\n",
        "np.random.seed(42)\n",
        "tf.random.set_seed(42)"
      ]
    },
    {
      "cell_type": "code",
      "execution_count": 234,
      "metadata": {
        "colab": {
          "base_uri": "https://localhost:8080/"
        },
        "execution": {
          "iopub.execute_input": "2021-07-04T08:18:12.331311Z",
          "iopub.status.busy": "2021-07-04T08:18:12.330246Z",
          "iopub.status.idle": "2021-07-04T08:18:12.411510Z",
          "shell.execute_reply": "2021-07-04T08:18:12.412508Z"
        },
        "id": "rnZJvhf3nFSz",
        "outputId": "bfae1882-53cb-4db1-a43a-82b189b067ec"
      },
      "outputs": [
        {
          "output_type": "stream",
          "name": "stdout",
          "text": [
            "트레이싱 Tensor(\"images:0\", shape=(None, 28, 28), dtype=float32)\n"
          ]
        }
      ],
      "source": [
        "img_batch_1 = tf.random.uniform(shape=[100, 28, 28])\n",
        "img_batch_2 = tf.random.uniform(shape=[50, 28, 28])\n",
        "preprocessed_images = shrink(img_batch_1) # 함수 트레이싱\n",
        "preprocessed_images = shrink(img_batch_2) # 동일한 콘크리트 함수 재사용"
      ]
    },
    {
      "cell_type": "code",
      "execution_count": 235,
      "metadata": {
        "colab": {
          "base_uri": "https://localhost:8080/"
        },
        "execution": {
          "iopub.execute_input": "2021-07-04T08:18:12.421961Z",
          "iopub.status.busy": "2021-07-04T08:18:12.420578Z",
          "iopub.status.idle": "2021-07-04T08:18:12.427046Z",
          "shell.execute_reply": "2021-07-04T08:18:12.427918Z"
        },
        "id": "g0a7ieyFnFSz",
        "outputId": "e7422b28-8aa7-47da-fbda-74960999d9be"
      },
      "outputs": [
        {
          "output_type": "stream",
          "name": "stdout",
          "text": [
            "Python inputs incompatible with input_signature:\n",
            "  inputs: (\n",
            "    tf.Tensor(\n",
            "[[[0.7413678  0.62854624]\n",
            "  [0.01738465 0.3431449 ]]\n",
            "\n",
            " [[0.51063764 0.3777541 ]\n",
            "  [0.07321596 0.02137029]]], shape=(2, 2, 2), dtype=float32))\n",
            "  input_signature: (\n",
            "    TensorSpec(shape=(None, 28, 28), dtype=tf.float32, name=None)).\n"
          ]
        }
      ],
      "source": [
        "img_batch_3 = tf.random.uniform(shape=[2, 2, 2])\n",
        "try:\n",
        "    preprocessed_images = shrink(img_batch_3)  # 다른 타입이나 크기 거부\n",
        "except ValueError as ex:\n",
        "    print(ex)"
      ]
    },
    {
      "cell_type": "markdown",
      "metadata": {
        "id": "iGEDLTpVnFSz"
      },
      "source": [
        "### 오토그래프를 사용해 제어 흐름 나타내기"
      ]
    },
    {
      "cell_type": "markdown",
      "metadata": {
        "id": "tEAizr5BnFSz"
      },
      "source": [
        "`range()`를  사용한 정적인 `for` 반복:"
      ]
    },
    {
      "cell_type": "code",
      "execution_count": 236,
      "metadata": {
        "execution": {
          "iopub.execute_input": "2021-07-04T08:18:12.437138Z",
          "iopub.status.busy": "2021-07-04T08:18:12.436013Z",
          "iopub.status.idle": "2021-07-04T08:18:12.439787Z",
          "shell.execute_reply": "2021-07-04T08:18:12.440708Z"
        },
        "id": "XF0hg7XcnFSz"
      },
      "outputs": [],
      "source": [
        "@tf.function\n",
        "def add_10(x):\n",
        "    for i in range(10):\n",
        "        x += 1\n",
        "    return x"
      ]
    },
    {
      "cell_type": "code",
      "execution_count": 237,
      "metadata": {
        "colab": {
          "base_uri": "https://localhost:8080/"
        },
        "execution": {
          "iopub.execute_input": "2021-07-04T08:18:12.453379Z",
          "iopub.status.busy": "2021-07-04T08:18:12.448072Z",
          "iopub.status.idle": "2021-07-04T08:18:12.573527Z",
          "shell.execute_reply": "2021-07-04T08:18:12.574425Z"
        },
        "id": "_C_KpXXAnFSz",
        "outputId": "02d1a279-1f02-4fe1-bebc-006647e35657"
      },
      "outputs": [
        {
          "output_type": "execute_result",
          "data": {
            "text/plain": [
              "<tf.Tensor: shape=(), dtype=int32, numpy=15>"
            ]
          },
          "metadata": {},
          "execution_count": 237
        }
      ],
      "source": [
        "add_10(tf.constant(5))"
      ]
    },
    {
      "cell_type": "code",
      "execution_count": 238,
      "metadata": {
        "colab": {
          "base_uri": "https://localhost:8080/"
        },
        "execution": {
          "iopub.execute_input": "2021-07-04T08:18:12.585088Z",
          "iopub.status.busy": "2021-07-04T08:18:12.583963Z",
          "iopub.status.idle": "2021-07-04T08:18:12.589061Z",
          "shell.execute_reply": "2021-07-04T08:18:12.590033Z"
        },
        "id": "ytBDurUinFSz",
        "outputId": "a4fdb785-1091-4428-fb25-e0adee0b6287"
      },
      "outputs": [
        {
          "output_type": "execute_result",
          "data": {
            "text/plain": [
              "[<tf.Operation 'x' type=Placeholder>,\n",
              " <tf.Operation 'add/y' type=Const>,\n",
              " <tf.Operation 'add' type=AddV2>,\n",
              " <tf.Operation 'add_1/y' type=Const>,\n",
              " <tf.Operation 'add_1' type=AddV2>,\n",
              " <tf.Operation 'add_2/y' type=Const>,\n",
              " <tf.Operation 'add_2' type=AddV2>,\n",
              " <tf.Operation 'add_3/y' type=Const>,\n",
              " <tf.Operation 'add_3' type=AddV2>,\n",
              " <tf.Operation 'add_4/y' type=Const>,\n",
              " <tf.Operation 'add_4' type=AddV2>,\n",
              " <tf.Operation 'add_5/y' type=Const>,\n",
              " <tf.Operation 'add_5' type=AddV2>,\n",
              " <tf.Operation 'add_6/y' type=Const>,\n",
              " <tf.Operation 'add_6' type=AddV2>,\n",
              " <tf.Operation 'add_7/y' type=Const>,\n",
              " <tf.Operation 'add_7' type=AddV2>,\n",
              " <tf.Operation 'add_8/y' type=Const>,\n",
              " <tf.Operation 'add_8' type=AddV2>,\n",
              " <tf.Operation 'add_9/y' type=Const>,\n",
              " <tf.Operation 'add_9' type=AddV2>,\n",
              " <tf.Operation 'Identity' type=Identity>]"
            ]
          },
          "metadata": {},
          "execution_count": 238
        }
      ],
      "source": [
        "add_10.get_concrete_function(tf.constant(5)).graph.get_operations()"
      ]
    },
    {
      "cell_type": "markdown",
      "metadata": {
        "id": "cNEX0KW4nFSz"
      },
      "source": [
        "`tf.while_loop()`를 사용한 동적인 반복:"
      ]
    },
    {
      "cell_type": "code",
      "execution_count": 239,
      "metadata": {
        "execution": {
          "iopub.execute_input": "2021-07-04T08:18:12.602151Z",
          "iopub.status.busy": "2021-07-04T08:18:12.600905Z",
          "iopub.status.idle": "2021-07-04T08:18:12.604577Z",
          "shell.execute_reply": "2021-07-04T08:18:12.605453Z"
        },
        "id": "WmjQ3HJWnFSz"
      },
      "outputs": [],
      "source": [
        "@tf.function\n",
        "def add_10(x):\n",
        "    condition = lambda i, x: tf.less(i, 10)\n",
        "    body = lambda i, x: (tf.add(i, 1), tf.add(x, 1))\n",
        "    final_i, final_x = tf.while_loop(condition, body, [tf.constant(0), x])\n",
        "    return final_x"
      ]
    },
    {
      "cell_type": "code",
      "execution_count": 240,
      "metadata": {
        "colab": {
          "base_uri": "https://localhost:8080/"
        },
        "execution": {
          "iopub.execute_input": "2021-07-04T08:18:12.613134Z",
          "iopub.status.busy": "2021-07-04T08:18:12.612020Z",
          "iopub.status.idle": "2021-07-04T08:18:12.782863Z",
          "shell.execute_reply": "2021-07-04T08:18:12.784125Z"
        },
        "id": "MTYxWdZanFS0",
        "outputId": "4c80e9fe-639d-4683-a050-433831db2bb9"
      },
      "outputs": [
        {
          "output_type": "execute_result",
          "data": {
            "text/plain": [
              "<tf.Tensor: shape=(), dtype=int32, numpy=15>"
            ]
          },
          "metadata": {},
          "execution_count": 240
        }
      ],
      "source": [
        "add_10(tf.constant(5))"
      ]
    },
    {
      "cell_type": "code",
      "execution_count": 241,
      "metadata": {
        "colab": {
          "base_uri": "https://localhost:8080/"
        },
        "execution": {
          "iopub.execute_input": "2021-07-04T08:18:12.794353Z",
          "iopub.status.busy": "2021-07-04T08:18:12.793301Z",
          "iopub.status.idle": "2021-07-04T08:18:12.797961Z",
          "shell.execute_reply": "2021-07-04T08:18:12.798894Z"
        },
        "id": "7qYJYD_cnFS0",
        "outputId": "808f570f-be4d-4946-a9ce-668bd155a17e"
      },
      "outputs": [
        {
          "output_type": "execute_result",
          "data": {
            "text/plain": [
              "[<tf.Operation 'x' type=Placeholder>,\n",
              " <tf.Operation 'Const' type=Const>,\n",
              " <tf.Operation 'while/maximum_iterations' type=Const>,\n",
              " <tf.Operation 'while/loop_counter' type=Const>,\n",
              " <tf.Operation 'while' type=StatelessWhile>,\n",
              " <tf.Operation 'Identity' type=Identity>]"
            ]
          },
          "metadata": {},
          "execution_count": 241
        }
      ],
      "source": [
        "add_10.get_concrete_function(tf.constant(5)).graph.get_operations()"
      ]
    },
    {
      "cell_type": "markdown",
      "metadata": {
        "id": "oEcvIYTrnFS0"
      },
      "source": [
        "(오토그래프에 의한) `tf.range()`를 사용한 동적인 `for` 반복:"
      ]
    },
    {
      "cell_type": "code",
      "execution_count": 242,
      "metadata": {
        "execution": {
          "iopub.execute_input": "2021-07-04T08:18:12.808335Z",
          "iopub.status.busy": "2021-07-04T08:18:12.807158Z",
          "iopub.status.idle": "2021-07-04T08:18:12.810195Z",
          "shell.execute_reply": "2021-07-04T08:18:12.811112Z"
        },
        "id": "s5E-YpJonFS0"
      },
      "outputs": [],
      "source": [
        "@tf.function\n",
        "def add_10(x):\n",
        "    for i in tf.range(10):\n",
        "        x = x + 1\n",
        "    return x"
      ]
    },
    {
      "cell_type": "code",
      "execution_count": 243,
      "metadata": {
        "colab": {
          "base_uri": "https://localhost:8080/"
        },
        "execution": {
          "iopub.execute_input": "2021-07-04T08:18:12.819555Z",
          "iopub.status.busy": "2021-07-04T08:18:12.818460Z",
          "iopub.status.idle": "2021-07-04T08:18:12.935210Z",
          "shell.execute_reply": "2021-07-04T08:18:12.936071Z"
        },
        "id": "kxac-wYhnFS0",
        "outputId": "e5151160-66a7-4088-d7bb-706a13702df3"
      },
      "outputs": [
        {
          "output_type": "execute_result",
          "data": {
            "text/plain": [
              "[<tf.Operation 'x' type=Placeholder>,\n",
              " <tf.Operation 'range/start' type=Const>,\n",
              " <tf.Operation 'range/limit' type=Const>,\n",
              " <tf.Operation 'range/delta' type=Const>,\n",
              " <tf.Operation 'range' type=Range>,\n",
              " <tf.Operation 'sub' type=Sub>,\n",
              " <tf.Operation 'floordiv' type=FloorDiv>,\n",
              " <tf.Operation 'mod' type=FloorMod>,\n",
              " <tf.Operation 'zeros_like' type=Const>,\n",
              " <tf.Operation 'NotEqual' type=NotEqual>,\n",
              " <tf.Operation 'Cast' type=Cast>,\n",
              " <tf.Operation 'add' type=AddV2>,\n",
              " <tf.Operation 'zeros_like_1' type=Const>,\n",
              " <tf.Operation 'Maximum' type=Maximum>,\n",
              " <tf.Operation 'while/maximum_iterations' type=Const>,\n",
              " <tf.Operation 'while/loop_counter' type=Const>,\n",
              " <tf.Operation 'while' type=StatelessWhile>,\n",
              " <tf.Operation 'Identity' type=Identity>]"
            ]
          },
          "metadata": {},
          "execution_count": 243
        }
      ],
      "source": [
        "add_10.get_concrete_function(tf.constant(0)).graph.get_operations()"
      ]
    },
    {
      "cell_type": "markdown",
      "metadata": {
        "id": "jKv6EsoMnFS0"
      },
      "source": [
        "### TF 함수에서 변수와 다른 자원 다루기"
      ]
    },
    {
      "cell_type": "code",
      "execution_count": 244,
      "metadata": {
        "execution": {
          "iopub.execute_input": "2021-07-04T08:18:12.943690Z",
          "iopub.status.busy": "2021-07-04T08:18:12.942848Z",
          "iopub.status.idle": "2021-07-04T08:18:12.948164Z",
          "shell.execute_reply": "2021-07-04T08:18:12.949454Z"
        },
        "id": "8lALRLVnnFS0"
      },
      "outputs": [],
      "source": [
        "counter = tf.Variable(0)\n",
        "\n",
        "@tf.function\n",
        "def increment(counter, c=1):\n",
        "    return counter.assign_add(c)"
      ]
    },
    {
      "cell_type": "code",
      "execution_count": 245,
      "metadata": {
        "colab": {
          "base_uri": "https://localhost:8080/"
        },
        "execution": {
          "iopub.execute_input": "2021-07-04T08:18:12.962500Z",
          "iopub.status.busy": "2021-07-04T08:18:12.957913Z",
          "iopub.status.idle": "2021-07-04T08:18:13.026064Z",
          "shell.execute_reply": "2021-07-04T08:18:13.026933Z"
        },
        "id": "Rb1pt6VInFS0",
        "outputId": "06a2110e-3a4d-4d0d-a8d6-7c45330a2eb1"
      },
      "outputs": [
        {
          "output_type": "execute_result",
          "data": {
            "text/plain": [
              "<tf.Tensor: shape=(), dtype=int32, numpy=2>"
            ]
          },
          "metadata": {},
          "execution_count": 245
        }
      ],
      "source": [
        "increment(counter)\n",
        "increment(counter)"
      ]
    },
    {
      "cell_type": "code",
      "execution_count": 246,
      "metadata": {
        "colab": {
          "base_uri": "https://localhost:8080/"
        },
        "execution": {
          "iopub.execute_input": "2021-07-04T08:18:13.034814Z",
          "iopub.status.busy": "2021-07-04T08:18:13.033671Z",
          "iopub.status.idle": "2021-07-04T08:18:13.038954Z",
          "shell.execute_reply": "2021-07-04T08:18:13.037986Z"
        },
        "id": "L2hj3cM9nFS1",
        "outputId": "bb040ebb-e6cb-4c8c-d243-6ebf1bc92db1"
      },
      "outputs": [
        {
          "output_type": "execute_result",
          "data": {
            "text/plain": [
              "name: \"counter\"\n",
              "type: DT_RESOURCE"
            ]
          },
          "metadata": {},
          "execution_count": 246
        }
      ],
      "source": [
        "function_def = increment.get_concrete_function(counter).function_def\n",
        "function_def.signature.input_arg[0]"
      ]
    },
    {
      "cell_type": "code",
      "execution_count": 247,
      "metadata": {
        "execution": {
          "iopub.execute_input": "2021-07-04T08:18:13.047553Z",
          "iopub.status.busy": "2021-07-04T08:18:13.046451Z",
          "iopub.status.idle": "2021-07-04T08:18:13.050503Z",
          "shell.execute_reply": "2021-07-04T08:18:13.051315Z"
        },
        "id": "6BQEr96bnFS1"
      },
      "outputs": [],
      "source": [
        "counter = tf.Variable(0)\n",
        "\n",
        "@tf.function\n",
        "def increment(c=1):\n",
        "    return counter.assign_add(c)"
      ]
    },
    {
      "cell_type": "code",
      "execution_count": 248,
      "metadata": {
        "colab": {
          "base_uri": "https://localhost:8080/"
        },
        "execution": {
          "iopub.execute_input": "2021-07-04T08:18:13.062532Z",
          "iopub.status.busy": "2021-07-04T08:18:13.061357Z",
          "iopub.status.idle": "2021-07-04T08:18:13.124305Z",
          "shell.execute_reply": "2021-07-04T08:18:13.125231Z"
        },
        "id": "Iq0eZORHnFS1",
        "outputId": "0d677752-2cf7-48c7-fa7d-9be269bf1978"
      },
      "outputs": [
        {
          "output_type": "execute_result",
          "data": {
            "text/plain": [
              "<tf.Tensor: shape=(), dtype=int32, numpy=2>"
            ]
          },
          "metadata": {},
          "execution_count": 248
        }
      ],
      "source": [
        "increment()\n",
        "increment()"
      ]
    },
    {
      "cell_type": "code",
      "execution_count": 249,
      "metadata": {
        "colab": {
          "base_uri": "https://localhost:8080/"
        },
        "execution": {
          "iopub.execute_input": "2021-07-04T08:18:13.132651Z",
          "iopub.status.busy": "2021-07-04T08:18:13.131477Z",
          "iopub.status.idle": "2021-07-04T08:18:13.135757Z",
          "shell.execute_reply": "2021-07-04T08:18:13.136623Z"
        },
        "id": "m3AP7PgGnFS1",
        "outputId": "363e3bf0-a841-4342-b1c6-af4ea706ecd1"
      },
      "outputs": [
        {
          "output_type": "execute_result",
          "data": {
            "text/plain": [
              "name: \"assignaddvariableop_resource\"\n",
              "type: DT_RESOURCE"
            ]
          },
          "metadata": {},
          "execution_count": 249
        }
      ],
      "source": [
        "function_def = increment.get_concrete_function().function_def\n",
        "function_def.signature.input_arg[0]"
      ]
    },
    {
      "cell_type": "code",
      "execution_count": 250,
      "metadata": {
        "execution": {
          "iopub.execute_input": "2021-07-04T08:18:13.146041Z",
          "iopub.status.busy": "2021-07-04T08:18:13.144979Z",
          "iopub.status.idle": "2021-07-04T08:18:13.148372Z",
          "shell.execute_reply": "2021-07-04T08:18:13.149229Z"
        },
        "id": "ixmvKjGtnFS1"
      },
      "outputs": [],
      "source": [
        "class Counter:\n",
        "    def __init__(self):\n",
        "        self.counter = tf.Variable(0)\n",
        "\n",
        "    @tf.function\n",
        "    def increment(self, c=1):\n",
        "        return self.counter.assign_add(c)"
      ]
    },
    {
      "cell_type": "code",
      "execution_count": 251,
      "metadata": {
        "colab": {
          "base_uri": "https://localhost:8080/"
        },
        "execution": {
          "iopub.execute_input": "2021-07-04T08:18:13.156955Z",
          "iopub.status.busy": "2021-07-04T08:18:13.155860Z",
          "iopub.status.idle": "2021-07-04T08:18:13.225991Z",
          "shell.execute_reply": "2021-07-04T08:18:13.227379Z"
        },
        "id": "iE07HYZPnFS1",
        "outputId": "848234a5-7a97-4862-959d-541c568e47a4"
      },
      "outputs": [
        {
          "output_type": "execute_result",
          "data": {
            "text/plain": [
              "<tf.Tensor: shape=(), dtype=int32, numpy=2>"
            ]
          },
          "metadata": {},
          "execution_count": 251
        }
      ],
      "source": [
        "c = Counter()\n",
        "c.increment()\n",
        "c.increment()"
      ]
    },
    {
      "cell_type": "code",
      "execution_count": 252,
      "metadata": {
        "colab": {
          "base_uri": "https://localhost:8080/"
        },
        "execution": {
          "iopub.execute_input": "2021-07-04T08:18:13.239411Z",
          "iopub.status.busy": "2021-07-04T08:18:13.238495Z",
          "iopub.status.idle": "2021-07-04T08:18:13.324707Z",
          "shell.execute_reply": "2021-07-04T08:18:13.323426Z"
        },
        "id": "rDYlFn4xnFS1",
        "outputId": "3a4c23d7-f0e9-4988-f8e8-3d8135584d3a",
        "scrolled": true
      },
      "outputs": [
        {
          "output_type": "stream",
          "name": "stdout",
          "text": [
            "def tf__add(x):\n",
            "    with ag__.FunctionScope('add_10', 'fscope', ag__.ConversionOptions(recursive=True, user_requested=True, optional_features=(), internal_convert_user_code=True)) as fscope:\n",
            "        do_return = False\n",
            "        retval_ = ag__.UndefinedReturnValue()\n",
            "\n",
            "        def get_state():\n",
            "            return (x,)\n",
            "\n",
            "        def set_state(vars_):\n",
            "            nonlocal x\n",
            "            (x,) = vars_\n",
            "\n",
            "        def loop_body(itr):\n",
            "            nonlocal x\n",
            "            i = itr\n",
            "            x = ag__.ld(x)\n",
            "            x += 1\n",
            "        i = ag__.Undefined('i')\n",
            "        ag__.for_stmt(ag__.converted_call(ag__.ld(tf).range, (10,), None, fscope), None, loop_body, get_state, set_state, ('x',), {'iterate_names': 'i'})\n",
            "        try:\n",
            "            do_return = True\n",
            "            retval_ = ag__.ld(x)\n",
            "        except:\n",
            "            do_return = False\n",
            "            raise\n",
            "        return fscope.ret(retval_, do_return)\n",
            "\n"
          ]
        }
      ],
      "source": [
        "@tf.function\n",
        "def add_10(x):\n",
        "    for i in tf.range(10):\n",
        "        x += 1\n",
        "    return x\n",
        "\n",
        "print(tf.autograph.to_code(add_10.python_function))"
      ]
    },
    {
      "cell_type": "code",
      "execution_count": 253,
      "metadata": {
        "execution": {
          "iopub.execute_input": "2021-07-04T08:18:13.335064Z",
          "iopub.status.busy": "2021-07-04T08:18:13.333311Z",
          "iopub.status.idle": "2021-07-04T08:18:13.336906Z",
          "shell.execute_reply": "2021-07-04T08:18:13.338368Z"
        },
        "id": "q5-0PLgtnFS2"
      },
      "outputs": [],
      "source": [
        "def display_tf_code(func):\n",
        "    from IPython.display import display, Markdown\n",
        "    if hasattr(func, \"python_function\"):\n",
        "        func = func.python_function\n",
        "    code = tf.autograph.to_code(func)\n",
        "    display(Markdown('```python\\n{}\\n```'.format(code)))"
      ]
    },
    {
      "cell_type": "code",
      "execution_count": 254,
      "metadata": {
        "colab": {
          "base_uri": "https://localhost:8080/",
          "height": 0
        },
        "execution": {
          "iopub.execute_input": "2021-07-04T08:18:13.351151Z",
          "iopub.status.busy": "2021-07-04T08:18:13.349941Z",
          "iopub.status.idle": "2021-07-04T08:18:13.355816Z",
          "shell.execute_reply": "2021-07-04T08:18:13.356679Z"
        },
        "id": "QLMou_bhnFS2",
        "outputId": "9928fce8-cb09-4d81-95a6-11e29917ae97"
      },
      "outputs": [
        {
          "output_type": "display_data",
          "data": {
            "text/plain": [
              "<IPython.core.display.Markdown object>"
            ],
            "text/markdown": "```python\ndef tf__add(x):\n    with ag__.FunctionScope('add_10', 'fscope', ag__.ConversionOptions(recursive=True, user_requested=True, optional_features=(), internal_convert_user_code=True)) as fscope:\n        do_return = False\n        retval_ = ag__.UndefinedReturnValue()\n\n        def get_state():\n            return (x,)\n\n        def set_state(vars_):\n            nonlocal x\n            (x,) = vars_\n\n        def loop_body(itr):\n            nonlocal x\n            i = itr\n            x = ag__.ld(x)\n            x += 1\n        i = ag__.Undefined('i')\n        ag__.for_stmt(ag__.converted_call(ag__.ld(tf).range, (10,), None, fscope), None, loop_body, get_state, set_state, ('x',), {'iterate_names': 'i'})\n        try:\n            do_return = True\n            retval_ = ag__.ld(x)\n        except:\n            do_return = False\n            raise\n        return fscope.ret(retval_, do_return)\n\n```"
          },
          "metadata": {}
        }
      ],
      "source": [
        "display_tf_code(add_10)"
      ]
    },
    {
      "cell_type": "markdown",
      "metadata": {
        "id": "1gFgVxYPnFS2"
      },
      "source": [
        "## tf.keras와 TF 함수를 함께 사용하거나 사용하지 않기"
      ]
    },
    {
      "cell_type": "markdown",
      "metadata": {
        "id": "W1lPoDfknFS2"
      },
      "source": [
        "기본적으로 tf.keras는 자동으로 사용자 정의 코드를 TF 함수로 변환하기 때문에 `tf.function()`을 사용할 필요가 없습니다:"
      ]
    },
    {
      "cell_type": "code",
      "execution_count": 255,
      "metadata": {
        "execution": {
          "iopub.execute_input": "2021-07-04T08:18:13.364674Z",
          "iopub.status.busy": "2021-07-04T08:18:13.363574Z",
          "iopub.status.idle": "2021-07-04T08:18:13.366662Z",
          "shell.execute_reply": "2021-07-04T08:18:13.367470Z"
        },
        "id": "W2OWiyhpnFS2"
      },
      "outputs": [],
      "source": [
        "# 사용자 손실 함수\n",
        "def my_mse(y_true, y_pred):\n",
        "    print(\"my_mse() 손실 트레이싱\")\n",
        "    return tf.reduce_mean(tf.square(y_pred - y_true))"
      ]
    },
    {
      "cell_type": "code",
      "execution_count": 256,
      "metadata": {
        "execution": {
          "iopub.execute_input": "2021-07-04T08:18:13.375494Z",
          "iopub.status.busy": "2021-07-04T08:18:13.374453Z",
          "iopub.status.idle": "2021-07-04T08:18:13.377935Z",
          "shell.execute_reply": "2021-07-04T08:18:13.378800Z"
        },
        "id": "-Vw6sZmSnFS2"
      },
      "outputs": [],
      "source": [
        "# 사용자 지표 함수\n",
        "def my_mae(y_true, y_pred):\n",
        "    print(\"my_mae() 지표 트레이싱\")\n",
        "    return tf.reduce_mean(tf.abs(y_pred - y_true))"
      ]
    },
    {
      "cell_type": "code",
      "execution_count": 257,
      "metadata": {
        "execution": {
          "iopub.execute_input": "2021-07-04T08:18:13.395747Z",
          "iopub.status.busy": "2021-07-04T08:18:13.394310Z",
          "iopub.status.idle": "2021-07-04T08:18:13.397704Z",
          "shell.execute_reply": "2021-07-04T08:18:13.398856Z"
        },
        "id": "i31eB7X0nFS2"
      },
      "outputs": [],
      "source": [
        "# 사용자 정의 층\n",
        "class MyDense(keras.layers.Layer):\n",
        "    def __init__(self, units, activation=None, **kwargs):\n",
        "        super().__init__(**kwargs)\n",
        "        self.units = units\n",
        "        self.activation = keras.activations.get(activation)\n",
        "\n",
        "    def build(self, input_shape):\n",
        "        self.kernel = self.add_weight(name='kernel', \n",
        "                                      shape=(input_shape[1], self.units),\n",
        "                                      initializer='uniform',\n",
        "                                      trainable=True)\n",
        "        self.biases = self.add_weight(name='bias', \n",
        "                                      shape=(self.units,),\n",
        "                                      initializer='zeros',\n",
        "                                      trainable=True)\n",
        "        super().build(input_shape)\n",
        "\n",
        "    def call(self, X):\n",
        "        print(\"MyDense.call() 트레이싱\")\n",
        "        return self.activation(X @ self.kernel + self.biases)"
      ]
    },
    {
      "cell_type": "code",
      "execution_count": 258,
      "metadata": {
        "execution": {
          "iopub.execute_input": "2021-07-04T08:18:13.406507Z",
          "iopub.status.busy": "2021-07-04T08:18:13.405319Z",
          "iopub.status.idle": "2021-07-04T08:18:13.410643Z",
          "shell.execute_reply": "2021-07-04T08:18:13.411398Z"
        },
        "id": "guEjwBD3nFS2"
      },
      "outputs": [],
      "source": [
        "keras.backend.clear_session()\n",
        "np.random.seed(42)\n",
        "tf.random.set_seed(42)"
      ]
    },
    {
      "cell_type": "code",
      "execution_count": 259,
      "metadata": {
        "execution": {
          "iopub.execute_input": "2021-07-04T08:18:13.428336Z",
          "iopub.status.busy": "2021-07-04T08:18:13.427336Z",
          "iopub.status.idle": "2021-07-04T08:18:13.436439Z",
          "shell.execute_reply": "2021-07-04T08:18:13.437426Z"
        },
        "id": "GsUahIc4nFS2"
      },
      "outputs": [],
      "source": [
        "# 사용자 정의 모델\n",
        "class MyModel(keras.models.Model):\n",
        "    def __init__(self, **kwargs):\n",
        "        super().__init__(**kwargs)\n",
        "        self.hidden1 = MyDense(30, activation=\"relu\")\n",
        "        self.hidden2 = MyDense(30, activation=\"relu\")\n",
        "        self.output_ = MyDense(1)\n",
        "\n",
        "    def call(self, input):\n",
        "        print(\"MyModel.call() 트레이싱\")\n",
        "        hidden1 = self.hidden1(input)\n",
        "        hidden2 = self.hidden2(hidden1)\n",
        "        concat = keras.layers.concatenate([input, hidden2])\n",
        "        output = self.output_(concat)\n",
        "        return output\n",
        "\n",
        "model = MyModel()"
      ]
    },
    {
      "cell_type": "code",
      "execution_count": 260,
      "metadata": {
        "execution": {
          "iopub.execute_input": "2021-07-04T08:18:13.455504Z",
          "iopub.status.busy": "2021-07-04T08:18:13.454006Z",
          "iopub.status.idle": "2021-07-04T08:18:13.461364Z",
          "shell.execute_reply": "2021-07-04T08:18:13.460118Z"
        },
        "id": "cXNdmo_ZnFS2"
      },
      "outputs": [],
      "source": [
        "model.compile(loss=my_mse, optimizer=\"nadam\", metrics=[my_mae])"
      ]
    },
    {
      "cell_type": "code",
      "execution_count": 261,
      "metadata": {
        "colab": {
          "base_uri": "https://localhost:8080/"
        },
        "execution": {
          "iopub.execute_input": "2021-07-04T08:18:13.469768Z",
          "iopub.status.busy": "2021-07-04T08:18:13.468230Z",
          "iopub.status.idle": "2021-07-04T08:18:18.848304Z",
          "shell.execute_reply": "2021-07-04T08:18:18.849388Z"
        },
        "id": "ZiUY_qRjnFS2",
        "outputId": "dc41728e-66d0-4024-be1b-229e837c329a"
      },
      "outputs": [
        {
          "output_type": "stream",
          "name": "stdout",
          "text": [
            "Epoch 1/2\n",
            "MyModel.call() 트레이싱\n",
            "MyDense.call() 트레이싱\n",
            "MyDense.call() 트레이싱\n",
            "MyDense.call() 트레이싱\n",
            "my_mse() 손실 트레이싱\n",
            "my_mae() 지표 트레이싱\n",
            "MyModel.call() 트레이싱\n",
            "MyDense.call() 트레이싱\n",
            "MyDense.call() 트레이싱\n",
            "MyDense.call() 트레이싱\n",
            "my_mse() 손실 트레이싱\n",
            "my_mae() 지표 트레이싱\n",
            "352/363 [============================>.] - ETA: 0s - loss: 1.3487 - my_mae: 0.7988MyModel.call() 트레이싱\n",
            "MyDense.call() 트레이싱\n",
            "MyDense.call() 트레이싱\n",
            "MyDense.call() 트레이싱\n",
            "my_mse() 손실 트레이싱\n",
            "my_mae() 지표 트레이싱\n",
            "363/363 [==============================] - 2s 4ms/step - loss: 1.3255 - my_mae: 0.7900 - val_loss: 0.5569 - val_my_mae: 0.4819\n",
            "Epoch 2/2\n",
            "363/363 [==============================] - 1s 3ms/step - loss: 0.4419 - my_mae: 0.4767 - val_loss: 0.4664 - val_my_mae: 0.4576\n",
            "162/162 [==============================] - 0s 2ms/step - loss: 0.4164 - my_mae: 0.4639\n"
          ]
        },
        {
          "output_type": "execute_result",
          "data": {
            "text/plain": [
              "[0.4163525104522705, 0.4639028012752533]"
            ]
          },
          "metadata": {},
          "execution_count": 261
        }
      ],
      "source": [
        "model.fit(X_train_scaled, y_train, epochs=2,\n",
        "          validation_data=(X_valid_scaled, y_valid))\n",
        "model.evaluate(X_test_scaled, y_test)"
      ]
    },
    {
      "cell_type": "markdown",
      "metadata": {
        "id": "DqKwtqeZnFS2"
      },
      "source": [
        "`dynamic=True`로 모델을 만들어 이 기능을 끌 수 있습니다(또는 모델의 생성자에서 `super().__init__(dynamic=True, **kwargs)`를 호출합니다):"
      ]
    },
    {
      "cell_type": "code",
      "execution_count": 262,
      "metadata": {
        "execution": {
          "iopub.execute_input": "2021-07-04T08:18:18.858643Z",
          "iopub.status.busy": "2021-07-04T08:18:18.857470Z",
          "iopub.status.idle": "2021-07-04T08:18:18.866575Z",
          "shell.execute_reply": "2021-07-04T08:18:18.867385Z"
        },
        "id": "RIT3wTOenFS2"
      },
      "outputs": [],
      "source": [
        "keras.backend.clear_session()\n",
        "np.random.seed(42)\n",
        "tf.random.set_seed(42)"
      ]
    },
    {
      "cell_type": "code",
      "execution_count": 263,
      "metadata": {
        "execution": {
          "iopub.execute_input": "2021-07-04T08:18:18.877147Z",
          "iopub.status.busy": "2021-07-04T08:18:18.875979Z",
          "iopub.status.idle": "2021-07-04T08:18:18.883340Z",
          "shell.execute_reply": "2021-07-04T08:18:18.884263Z"
        },
        "id": "NXF_pU75nFS3"
      },
      "outputs": [],
      "source": [
        "model = MyModel(dynamic=True)"
      ]
    },
    {
      "cell_type": "code",
      "execution_count": 264,
      "metadata": {
        "execution": {
          "iopub.execute_input": "2021-07-04T08:18:18.902153Z",
          "iopub.status.busy": "2021-07-04T08:18:18.900942Z",
          "iopub.status.idle": "2021-07-04T08:18:18.907182Z",
          "shell.execute_reply": "2021-07-04T08:18:18.908345Z"
        },
        "id": "W1Ijplz0nFS3"
      },
      "outputs": [],
      "source": [
        "model.compile(loss=my_mse, optimizer=\"nadam\", metrics=[my_mae])"
      ]
    },
    {
      "cell_type": "markdown",
      "metadata": {
        "id": "PpNoK8_WnFS3"
      },
      "source": [
        "사용자 정의 코드는 반복마다 호출됩니다. 너무 많이 출력되는 것을 피하기 위해 작은 데이터셋으로 훈련, 검증, 평가해 보겠습니다:"
      ]
    },
    {
      "cell_type": "code",
      "execution_count": 265,
      "metadata": {
        "colab": {
          "base_uri": "https://localhost:8080/"
        },
        "execution": {
          "iopub.execute_input": "2021-07-04T08:18:18.918530Z",
          "iopub.status.busy": "2021-07-04T08:18:18.917237Z",
          "iopub.status.idle": "2021-07-04T08:18:19.275612Z",
          "shell.execute_reply": "2021-07-04T08:18:19.276677Z"
        },
        "id": "clBvdSLJnFS3",
        "outputId": "cd43f96f-7134-4f80-eb91-c342f0d63e31"
      },
      "outputs": [
        {
          "output_type": "stream",
          "name": "stdout",
          "text": [
            "MyModel.call() 트레이싱\n",
            "MyDense.call() 트레이싱\n",
            "MyDense.call() 트레이싱\n",
            "MyDense.call() 트레이싱\n",
            "my_mse() 손실 트레이싱\n",
            "my_mae() 지표 트레이싱\n",
            "MyModel.call() 트레이싱\n",
            "MyDense.call() 트레이싱\n",
            "MyDense.call() 트레이싱\n",
            "MyDense.call() 트레이싱\n",
            "my_mse() 손실 트레이싱\n",
            "my_mae() 지표 트레이싱\n",
            "MyModel.call() 트레이싱\n",
            "MyDense.call() 트레이싱\n",
            "MyDense.call() 트레이싱\n",
            "MyDense.call() 트레이싱\n",
            "my_mse() 손실 트레이싱\n",
            "my_mae() 지표 트레이싱\n",
            "MyModel.call() 트레이싱\n",
            "MyDense.call() 트레이싱\n",
            "MyDense.call() 트레이싱\n",
            "MyDense.call() 트레이싱\n",
            "my_mse() 손실 트레이싱\n",
            "my_mae() 지표 트레이싱\n",
            "MyModel.call() 트레이싱\n",
            "MyDense.call() 트레이싱\n",
            "MyDense.call() 트레이싱\n",
            "MyDense.call() 트레이싱\n",
            "my_mse() 손실 트레이싱\n",
            "my_mae() 지표 트레이싱\n",
            "MyModel.call() 트레이싱\n",
            "MyDense.call() 트레이싱\n",
            "MyDense.call() 트레이싱\n",
            "MyDense.call() 트레이싱\n",
            "my_mse() 손실 트레이싱\n",
            "my_mae() 지표 트레이싱\n"
          ]
        },
        {
          "output_type": "execute_result",
          "data": {
            "text/plain": [
              "[5.507259368896484, 2.0566811561584473]"
            ]
          },
          "metadata": {},
          "execution_count": 265
        }
      ],
      "source": [
        "model.fit(X_train_scaled[:64], y_train[:64], epochs=1,\n",
        "          validation_data=(X_valid_scaled[:64], y_valid[:64]), verbose=0)\n",
        "model.evaluate(X_test_scaled[:64], y_test[:64], verbose=0)"
      ]
    },
    {
      "cell_type": "markdown",
      "metadata": {
        "id": "NgR_CLQHnFS3"
      },
      "source": [
        "또는 모델을 컴파일할 때 `run_eagerly=True`를 지정합니다:"
      ]
    },
    {
      "cell_type": "code",
      "execution_count": 266,
      "metadata": {
        "execution": {
          "iopub.execute_input": "2021-07-04T08:18:19.285647Z",
          "iopub.status.busy": "2021-07-04T08:18:19.284388Z",
          "iopub.status.idle": "2021-07-04T08:18:19.289539Z",
          "shell.execute_reply": "2021-07-04T08:18:19.290366Z"
        },
        "id": "dXpvcUGfnFS3"
      },
      "outputs": [],
      "source": [
        "keras.backend.clear_session()\n",
        "np.random.seed(42)\n",
        "tf.random.set_seed(42)"
      ]
    },
    {
      "cell_type": "code",
      "execution_count": 267,
      "metadata": {
        "execution": {
          "iopub.execute_input": "2021-07-04T08:18:19.300177Z",
          "iopub.status.busy": "2021-07-04T08:18:19.298916Z",
          "iopub.status.idle": "2021-07-04T08:18:19.306169Z",
          "shell.execute_reply": "2021-07-04T08:18:19.307159Z"
        },
        "id": "I6k23xDJnFS3"
      },
      "outputs": [],
      "source": [
        "model = MyModel()"
      ]
    },
    {
      "cell_type": "code",
      "execution_count": 268,
      "metadata": {
        "execution": {
          "iopub.execute_input": "2021-07-04T08:18:19.323376Z",
          "iopub.status.busy": "2021-07-04T08:18:19.322345Z",
          "iopub.status.idle": "2021-07-04T08:18:19.330227Z",
          "shell.execute_reply": "2021-07-04T08:18:19.328987Z"
        },
        "id": "3L_mdyoknFS3"
      },
      "outputs": [],
      "source": [
        "model.compile(loss=my_mse, optimizer=\"nadam\", metrics=[my_mae], run_eagerly=True)"
      ]
    },
    {
      "cell_type": "code",
      "execution_count": 269,
      "metadata": {
        "colab": {
          "base_uri": "https://localhost:8080/"
        },
        "execution": {
          "iopub.execute_input": "2021-07-04T08:18:19.339719Z",
          "iopub.status.busy": "2021-07-04T08:18:19.338131Z",
          "iopub.status.idle": "2021-07-04T08:18:19.687021Z",
          "shell.execute_reply": "2021-07-04T08:18:19.688268Z"
        },
        "id": "Zne2esoMnFS3",
        "outputId": "481c9047-2ebb-4e36-8a4b-1ae34c690d16"
      },
      "outputs": [
        {
          "output_type": "stream",
          "name": "stdout",
          "text": [
            "MyModel.call() 트레이싱\n",
            "MyDense.call() 트레이싱\n",
            "MyDense.call() 트레이싱\n",
            "MyDense.call() 트레이싱\n",
            "my_mse() 손실 트레이싱\n",
            "my_mae() 지표 트레이싱\n",
            "MyModel.call() 트레이싱\n",
            "MyDense.call() 트레이싱\n",
            "MyDense.call() 트레이싱\n",
            "MyDense.call() 트레이싱\n",
            "my_mse() 손실 트레이싱\n",
            "my_mae() 지표 트레이싱\n",
            "MyModel.call() 트레이싱\n",
            "MyDense.call() 트레이싱\n",
            "MyDense.call() 트레이싱\n",
            "MyDense.call() 트레이싱\n",
            "my_mse() 손실 트레이싱\n",
            "my_mae() 지표 트레이싱\n",
            "MyModel.call() 트레이싱\n",
            "MyDense.call() 트레이싱\n",
            "MyDense.call() 트레이싱\n",
            "MyDense.call() 트레이싱\n",
            "my_mse() 손실 트레이싱\n",
            "my_mae() 지표 트레이싱\n",
            "MyModel.call() 트레이싱\n",
            "MyDense.call() 트레이싱\n",
            "MyDense.call() 트레이싱\n",
            "MyDense.call() 트레이싱\n",
            "my_mse() 손실 트레이싱\n",
            "my_mae() 지표 트레이싱\n",
            "MyModel.call() 트레이싱\n",
            "MyDense.call() 트레이싱\n",
            "MyDense.call() 트레이싱\n",
            "MyDense.call() 트레이싱\n",
            "my_mse() 손실 트레이싱\n",
            "my_mae() 지표 트레이싱\n"
          ]
        },
        {
          "output_type": "execute_result",
          "data": {
            "text/plain": [
              "[5.507259368896484, 2.0566811561584473]"
            ]
          },
          "metadata": {},
          "execution_count": 269
        }
      ],
      "source": [
        "model.fit(X_train_scaled[:64], y_train[:64], epochs=1,\n",
        "          validation_data=(X_valid_scaled[:64], y_valid[:64]), verbose=0)\n",
        "model.evaluate(X_test_scaled[:64], y_test[:64], verbose=0)"
      ]
    },
    {
      "cell_type": "markdown",
      "metadata": {
        "id": "w8yHh6uVnFS3"
      },
      "source": [
        "## 사용자 정의 옵티마이저"
      ]
    },
    {
      "cell_type": "markdown",
      "metadata": {
        "id": "Kb-o4KXMnFS3"
      },
      "source": [
        "사용자 정의 옵티마이저를 정의하는 것은 일반적이지 않습니다. 하지만 어쩔 수 없이 만들어야 하는 상황이라면 다음 예를 참고하세요:"
      ]
    },
    {
      "cell_type": "code",
      "execution_count": 270,
      "metadata": {
        "execution": {
          "iopub.execute_input": "2021-07-04T08:18:19.712137Z",
          "iopub.status.busy": "2021-07-04T08:18:19.710793Z",
          "iopub.status.idle": "2021-07-04T08:18:19.713978Z",
          "shell.execute_reply": "2021-07-04T08:18:19.715041Z"
        },
        "id": "cu5eHM8NnFS3"
      },
      "outputs": [],
      "source": [
        "class MyMomentumOptimizer(keras.optimizers.Optimizer):\n",
        "    def __init__(self, learning_rate=0.001, momentum=0.9, name=\"MyMomentumOptimizer\", **kwargs):\n",
        "        \"\"\"super().__init__()를 호출하고 _set_hyper()를 사용해 하이퍼파라미터를 저장합니다\"\"\"\n",
        "        super().__init__(name, **kwargs)\n",
        "        self._set_hyper(\"learning_rate\", kwargs.get(\"lr\", learning_rate)) # lr=learning_rate을 처리\n",
        "        self._set_hyper(\"decay\", self._initial_decay) # \n",
        "        self._set_hyper(\"momentum\", momentum)\n",
        "    \n",
        "    def _create_slots(self, var_list):\n",
        "        \"\"\"모델 파라미터마다 연관된 옵티마이저 변수를 만듭니다.\n",
        "        텐서플로는 이런 옵티마이저 변수를 '슬롯'이라고 부릅니다.\n",
        "        모멘텀 옵티마이저에서는 모델 파라미터마다 하나의 모멘텀 슬롯이 필요합니다.\n",
        "        \"\"\"\n",
        "        for var in var_list:\n",
        "            self.add_slot(var, \"momentum\")\n",
        "\n",
        "    @tf.function\n",
        "    def _resource_apply_dense(self, grad, var):\n",
        "        \"\"\"슬롯을 업데이트하고 모델 파라미터에 대한 옵티마이저 스텝을 수행합니다.\n",
        "        \"\"\"\n",
        "        var_dtype = var.dtype.base_dtype\n",
        "        lr_t = self._decayed_lr(var_dtype) # 학습률 감쇠 처리\n",
        "        momentum_var = self.get_slot(var, \"momentum\")\n",
        "        momentum_hyper = self._get_hyper(\"momentum\", var_dtype)\n",
        "        momentum_var.assign(momentum_var * momentum_hyper - (1. - momentum_hyper)* grad)\n",
        "        var.assign_add(momentum_var * lr_t)\n",
        "\n",
        "    def _resource_apply_sparse(self, grad, var):\n",
        "        raise NotImplementedError\n",
        "\n",
        "    def get_config(self):\n",
        "        base_config = super().get_config()\n",
        "        return {\n",
        "            **base_config,\n",
        "            \"learning_rate\": self._serialize_hyperparameter(\"learning_rate\"),\n",
        "            \"decay\": self._serialize_hyperparameter(\"decay\"),\n",
        "            \"momentum\": self._serialize_hyperparameter(\"momentum\"),\n",
        "        }"
      ]
    },
    {
      "cell_type": "code",
      "execution_count": 271,
      "metadata": {
        "execution": {
          "iopub.execute_input": "2021-07-04T08:18:19.723704Z",
          "iopub.status.busy": "2021-07-04T08:18:19.722551Z",
          "iopub.status.idle": "2021-07-04T08:18:19.727526Z",
          "shell.execute_reply": "2021-07-04T08:18:19.728330Z"
        },
        "id": "9a-d3UwinFS3"
      },
      "outputs": [],
      "source": [
        "keras.backend.clear_session()\n",
        "np.random.seed(42)\n",
        "tf.random.set_seed(42)"
      ]
    },
    {
      "cell_type": "code",
      "execution_count": 272,
      "metadata": {
        "colab": {
          "base_uri": "https://localhost:8080/"
        },
        "execution": {
          "iopub.execute_input": "2021-07-04T08:18:19.741747Z",
          "iopub.status.busy": "2021-07-04T08:18:19.740680Z",
          "iopub.status.idle": "2021-07-04T08:18:24.082650Z",
          "shell.execute_reply": "2021-07-04T08:18:24.083732Z"
        },
        "id": "JPvzY12KnFS3",
        "outputId": "e1667c29-f7c0-4f15-c98e-0c685d247f66",
        "scrolled": false
      },
      "outputs": [
        {
          "output_type": "stream",
          "name": "stdout",
          "text": [
            "Epoch 1/5\n",
            "363/363 [==============================] - 1s 2ms/step - loss: 3.8128\n",
            "Epoch 2/5\n",
            "363/363 [==============================] - 1s 2ms/step - loss: 1.4877\n",
            "Epoch 3/5\n",
            "363/363 [==============================] - 1s 2ms/step - loss: 0.9162\n",
            "Epoch 4/5\n",
            "363/363 [==============================] - 1s 2ms/step - loss: 0.7587\n",
            "Epoch 5/5\n",
            "363/363 [==============================] - 1s 2ms/step - loss: 0.7050\n"
          ]
        },
        {
          "output_type": "execute_result",
          "data": {
            "text/plain": [
              "<keras.callbacks.History at 0x7fde33b9c810>"
            ]
          },
          "metadata": {},
          "execution_count": 272
        }
      ],
      "source": [
        "model = keras.models.Sequential([keras.layers.Dense(1, input_shape=[8])])\n",
        "model.compile(loss=\"mse\", optimizer=MyMomentumOptimizer())\n",
        "model.fit(X_train_scaled, y_train, epochs=5)"
      ]
    },
    {
      "cell_type": "markdown",
      "metadata": {
        "id": "goUFeTllnFS4"
      },
      "source": [
        "# 연습문제"
      ]
    },
    {
      "cell_type": "markdown",
      "metadata": {
        "id": "FN1NBFYMnFS4"
      },
      "source": [
        "## 1. to 11.\n",
        "부록 A 참조."
      ]
    },
    {
      "cell_type": "markdown",
      "metadata": {
        "id": "inl1mvaknFS4"
      },
      "source": [
        "## 12. _층 정규화_ 를 수행하는 사용자 정의 층을 구현하세요.\n",
        "\n",
        "_15장에서 순환 신경망을 사용할 때 이런 종류의 층을 사용합니다._"
      ]
    },
    {
      "cell_type": "markdown",
      "metadata": {
        "id": "RVTVssxNnFS4"
      },
      "source": [
        "### a.\n",
        "_문제: `build()` 메서드에서 두 개의 훈련 가능한 가중치 *α*와 *β*를 정의합니다. 두 가중치 모두 크기가 `input_shape[-1:]`이고 데이터 타입은 `tf.float32`입니다. *α*는 1로 초기화되고 *β*는 0으로 초기화되어야 합니다._"
      ]
    },
    {
      "cell_type": "markdown",
      "metadata": {
        "id": "ArXtJ4jznFS4"
      },
      "source": [
        "솔루션: 아래 참조."
      ]
    },
    {
      "cell_type": "markdown",
      "metadata": {
        "id": "OtZf7k4bnFS4"
      },
      "source": [
        "### b.\n",
        "_문제: `call()` 메서드는 샘플의 특성마다 평균 μ와 표준편차 σ를 계산해야 합니다. 이를 위해 전체 샘플의 평균 μ와 분산 σ<sup>2</sup>을 반환하는 `tf.nn.moments(inputs, axes=-1, keepdims=True)`을 사용할 수 있습니다(분산의 제곱근으로 표준편차를 계산합니다). 그다음 *α*⊗(*X* - μ)/(σ + ε) + *β*를 계산하여 반환합니다. 여기에서 ⊗는 원소별\n",
        "곱셈(`*`)을 나타냅니다. ε은 안전을 위한 항입니다(0으로 나누어지는 것을 막기 위한 작은 상수. 예를 들면 0.001)._"
      ]
    },
    {
      "cell_type": "code",
      "execution_count": 273,
      "metadata": {
        "execution": {
          "iopub.execute_input": "2021-07-04T08:18:24.104782Z",
          "iopub.status.busy": "2021-07-04T08:18:24.103721Z",
          "iopub.status.idle": "2021-07-04T08:18:24.107336Z",
          "shell.execute_reply": "2021-07-04T08:18:24.108585Z"
        },
        "id": "zaJez0D7nFS4"
      },
      "outputs": [],
      "source": [
        "class LayerNormalization(keras.layers.Layer):\n",
        "    def __init__(self, eps=0.001, **kwargs):\n",
        "        super().__init__(**kwargs)\n",
        "        self.eps = eps\n",
        "\n",
        "    def build(self, batch_input_shape):\n",
        "        self.alpha = self.add_weight(\n",
        "            name=\"alpha\", shape=batch_input_shape[-1:],\n",
        "            initializer=\"ones\")\n",
        "        self.beta = self.add_weight(\n",
        "            name=\"beta\", shape=batch_input_shape[-1:],\n",
        "            initializer=\"zeros\")\n",
        "        super().build(batch_input_shape) # 반드시 끝에 와야 합니다\n",
        "\n",
        "    def call(self, X):\n",
        "        mean, variance = tf.nn.moments(X, axes=-1, keepdims=True)\n",
        "        return self.alpha * (X - mean) / (tf.sqrt(variance + self.eps)) + self.beta\n",
        "\n",
        "    def compute_output_shape(self, batch_input_shape):\n",
        "        return batch_input_shape\n",
        "\n",
        "    def get_config(self):\n",
        "        base_config = super().get_config()\n",
        "        return {**base_config, \"eps\": self.eps}"
      ]
    },
    {
      "cell_type": "markdown",
      "metadata": {
        "id": "ZmgaOCRenFS4"
      },
      "source": [
        "_ε_ 하이퍼파라미터(`eps`)는 필수가 아닙니다. 또한 `tf.sqrt(variance) + self.eps` 보다 `tf.sqrt(variance + self.eps)`를 계산하는 것이 좋습니다. sqrt(z)의 도함수는 z=0에서 정의되지 않기 때문에 분산 벡터의 한 원소가 0에 가까우면 훈련이 이리저리 널뜁니다. 제곱근 안에 _ε_를 넣으면 이런 현상을 방지할 수 있습니다."
      ]
    },
    {
      "cell_type": "markdown",
      "metadata": {
        "id": "-txGpum2nFS4"
      },
      "source": [
        "### c.\n",
        "_문제: 사용자 정의 층이 `keras.layers.LayerNormalization` 층과 동일한(또는 거의 동일한) 출력을 만드는지 확인하세요._"
      ]
    },
    {
      "cell_type": "markdown",
      "metadata": {
        "id": "XayuPDh8nFS4"
      },
      "source": [
        "각 클래스의 객체를 만들고 데이터(예를 들면, 훈련 세트)를 적용해 보죠. 차이는 무시할 수 있는 수준입니다."
      ]
    },
    {
      "cell_type": "code",
      "execution_count": 274,
      "metadata": {
        "colab": {
          "base_uri": "https://localhost:8080/"
        },
        "execution": {
          "iopub.execute_input": "2021-07-04T08:18:24.118152Z",
          "iopub.status.busy": "2021-07-04T08:18:24.116642Z",
          "iopub.status.idle": "2021-07-04T08:18:26.833501Z",
          "shell.execute_reply": "2021-07-04T08:18:26.834923Z"
        },
        "id": "G-JdGdrpnFS4",
        "outputId": "9a2e647d-d66d-49e6-8bcb-938c4221711b"
      },
      "outputs": [
        {
          "output_type": "execute_result",
          "data": {
            "text/plain": [
              "<tf.Tensor: shape=(), dtype=float32, numpy=3.894674e-08>"
            ]
          },
          "metadata": {},
          "execution_count": 274
        }
      ],
      "source": [
        "X = X_train.astype(np.float32)\n",
        "\n",
        "custom_layer_norm = LayerNormalization()\n",
        "keras_layer_norm = keras.layers.LayerNormalization()\n",
        "\n",
        "tf.reduce_mean(keras.losses.mean_absolute_error(\n",
        "    keras_layer_norm(X), custom_layer_norm(X)))"
      ]
    },
    {
      "cell_type": "markdown",
      "metadata": {
        "id": "ZhYijbpJnFS5"
      },
      "source": [
        "네 충분히 가깝네요. 조금 더 확실하게 알파와 베타를 완전히 랜덤하게 지정하고 다시 비교해 보죠:"
      ]
    },
    {
      "cell_type": "code",
      "execution_count": 275,
      "metadata": {
        "colab": {
          "base_uri": "https://localhost:8080/"
        },
        "execution": {
          "iopub.execute_input": "2021-07-04T08:18:26.847454Z",
          "iopub.status.busy": "2021-07-04T08:18:26.846347Z",
          "iopub.status.idle": "2021-07-04T08:18:26.856648Z",
          "shell.execute_reply": "2021-07-04T08:18:26.855676Z"
        },
        "id": "LmRALOLQnFS5",
        "outputId": "e061f159-af0b-4516-e459-83550a11f565"
      },
      "outputs": [
        {
          "output_type": "execute_result",
          "data": {
            "text/plain": [
              "<tf.Tensor: shape=(), dtype=float32, numpy=1.7224725e-08>"
            ]
          },
          "metadata": {},
          "execution_count": 275
        }
      ],
      "source": [
        "random_alpha = np.random.rand(X.shape[-1])\n",
        "random_beta = np.random.rand(X.shape[-1])\n",
        "\n",
        "custom_layer_norm.set_weights([random_alpha, random_beta])\n",
        "keras_layer_norm.set_weights([random_alpha, random_beta])\n",
        "\n",
        "tf.reduce_mean(keras.losses.mean_absolute_error(\n",
        "    keras_layer_norm(X), custom_layer_norm(X)))"
      ]
    },
    {
      "cell_type": "markdown",
      "metadata": {
        "id": "y7nGTB_bnFS6"
      },
      "source": [
        "여전히 무시할 수 있는 수준입니다! 사용자 정의 층이 잘 동작합니다."
      ]
    },
    {
      "cell_type": "markdown",
      "metadata": {
        "id": "8OldjLnsnFS6"
      },
      "source": [
        "## 13. 사용자 정의 훈련 반복을 사용해 패션 MNIST 데이터셋으로 모델을 훈련해보세요.\n",
        "\n",
        "_패션 MNIST 데이터셋은 10장에서 소개했습니다._"
      ]
    },
    {
      "cell_type": "markdown",
      "metadata": {
        "id": "3Sc-mwzpnFS6"
      },
      "source": [
        "### a.\n",
        "_문제: 에포크, 반복, 평균 훈련 손실, (반복마다 업데이트되는) 에포크의 평균 정확도는 물론 에포크 끝에서 검증 손실과 정확도를 출력하세요._"
      ]
    },
    {
      "cell_type": "code",
      "execution_count": 276,
      "metadata": {
        "colab": {
          "base_uri": "https://localhost:8080/"
        },
        "execution": {
          "iopub.execute_input": "2021-07-04T08:18:26.864056Z",
          "iopub.status.busy": "2021-07-04T08:18:26.863020Z",
          "iopub.status.idle": "2021-07-04T08:18:27.305663Z",
          "shell.execute_reply": "2021-07-04T08:18:27.304709Z"
        },
        "id": "4csPXhr8nFS6",
        "outputId": "b6280b35-6ea6-4383-b551-56aceec73d97"
      },
      "outputs": [
        {
          "output_type": "stream",
          "name": "stdout",
          "text": [
            "Downloading data from https://storage.googleapis.com/tensorflow/tf-keras-datasets/train-labels-idx1-ubyte.gz\n",
            "32768/29515 [=================================] - 0s 0us/step\n",
            "40960/29515 [=========================================] - 0s 0us/step\n",
            "Downloading data from https://storage.googleapis.com/tensorflow/tf-keras-datasets/train-images-idx3-ubyte.gz\n",
            "26427392/26421880 [==============================] - 0s 0us/step\n",
            "26435584/26421880 [==============================] - 0s 0us/step\n",
            "Downloading data from https://storage.googleapis.com/tensorflow/tf-keras-datasets/t10k-labels-idx1-ubyte.gz\n",
            "16384/5148 [===============================================================================================] - 0s 0us/step\n",
            "Downloading data from https://storage.googleapis.com/tensorflow/tf-keras-datasets/t10k-images-idx3-ubyte.gz\n",
            "4423680/4422102 [==============================] - 0s 0us/step\n",
            "4431872/4422102 [==============================] - 0s 0us/step\n"
          ]
        }
      ],
      "source": [
        "(X_train_full, y_train_full), (X_test, y_test) = keras.datasets.fashion_mnist.load_data()\n",
        "X_train_full = X_train_full.astype(np.float32) / 255.\n",
        "X_valid, X_train = X_train_full[:5000], X_train_full[5000:]\n",
        "y_valid, y_train = y_train_full[:5000], y_train_full[5000:]\n",
        "X_test = X_test.astype(np.float32) / 255."
      ]
    },
    {
      "cell_type": "code",
      "execution_count": 277,
      "metadata": {
        "execution": {
          "iopub.execute_input": "2021-07-04T08:18:27.315092Z",
          "iopub.status.busy": "2021-07-04T08:18:27.313431Z",
          "iopub.status.idle": "2021-07-04T08:18:27.320157Z",
          "shell.execute_reply": "2021-07-04T08:18:27.321148Z"
        },
        "id": "pU9Tyc3LnFS6"
      },
      "outputs": [],
      "source": [
        "keras.backend.clear_session()\n",
        "np.random.seed(42)\n",
        "tf.random.set_seed(42)"
      ]
    },
    {
      "cell_type": "code",
      "execution_count": 278,
      "metadata": {
        "execution": {
          "iopub.execute_input": "2021-07-04T08:18:27.336428Z",
          "iopub.status.busy": "2021-07-04T08:18:27.335214Z",
          "iopub.status.idle": "2021-07-04T08:18:27.357760Z",
          "shell.execute_reply": "2021-07-04T08:18:27.356712Z"
        },
        "id": "1-7YuvHCnFS6"
      },
      "outputs": [],
      "source": [
        "model = keras.models.Sequential([\n",
        "    keras.layers.Flatten(input_shape=[28, 28]),\n",
        "    keras.layers.Dense(100, activation=\"relu\"),\n",
        "    keras.layers.Dense(10, activation=\"softmax\"),\n",
        "])"
      ]
    },
    {
      "cell_type": "code",
      "execution_count": 279,
      "metadata": {
        "execution": {
          "iopub.execute_input": "2021-07-04T08:18:27.365537Z",
          "iopub.status.busy": "2021-07-04T08:18:27.364057Z",
          "iopub.status.idle": "2021-07-04T08:18:27.385914Z",
          "shell.execute_reply": "2021-07-04T08:18:27.384561Z"
        },
        "id": "FDtSEXLanFS6"
      },
      "outputs": [],
      "source": [
        "n_epochs = 5\n",
        "batch_size = 32\n",
        "n_steps = len(X_train) // batch_size\n",
        "optimizer = keras.optimizers.Nadam(learning_rate=0.01)\n",
        "loss_fn = keras.losses.sparse_categorical_crossentropy\n",
        "mean_loss = keras.metrics.Mean()\n",
        "metrics = [keras.metrics.SparseCategoricalAccuracy()]"
      ]
    },
    {
      "cell_type": "code",
      "execution_count": 280,
      "metadata": {
        "colab": {
          "base_uri": "https://localhost:8080/",
          "height": 0,
          "referenced_widgets": [
            "50c967cbf94f42ada74a1bc9456c63b4",
            "02b98d2d3f444e3ab54f390649c3e194",
            "fa538a9ecf6144378ef396cf98d38951",
            "5bcc50273d834596922ea2c171a5b2cd",
            "c868ca2bc2c5435b9897760982070567",
            "b5f0c2f5728542aca2b273554e413bc1",
            "afd11f50380840ae84c6a615ed18280a",
            "3e5d00e0cde64cb4bd94c05cb1cf30fb",
            "5cc0ac46654b4d27835e6d30ce36a871",
            "ab89a33f422f4b35b910ce1cab638294",
            "dd1f7f3fbdf74caf85cd7166035d82e4",
            "4c9674ad9ded4f1abdba27d3f6a76df0",
            "79386a4fd8454ba6acaba57a3882e991",
            "db74c7bb1938494d902fd0b7b511c291",
            "aaed8dda1ce14c46829a3c45b030cd7b",
            "8e031540513f43a0bc9ac0d995ba8260",
            "ac4a138cb956431ab84ef4d6571c5237",
            "7b60e3341d494bb0919f5a600b877bb8",
            "4af5b483c73c4aa7ac5b9763f48e9371",
            "0341585205b844deb05b4d5342cd5c24",
            "1928d590ca4b4285a3ca47037dffb91a",
            "1316a5445cff431691e33d0cd0eafc2e",
            "a6f813519a944361853a9ab2c49cbd68",
            "4987a36d032b4a1da5d9efd6dc7a8539",
            "8a5afa1e41c64e23b336f983f7e36e78",
            "f106748f9233458bb35422b054e042fd",
            "fb8c36c22a594a489955d13c7802cf93",
            "63ec9b79276646698d1dd6713988557b",
            "4437300a4fd14df69a8de84f958e46a0",
            "04f49a2268324d1abbfd4259c7012bd4",
            "8eccab1254fb433eae4fc5902afe723c",
            "9c8fa90f57fd47fea4df22b467a209a3",
            "8e0d4ac6b56745bca5443fac3f16bfca",
            "033c5ff056a948ed8d41c0dbf37cc1ff",
            "f8e728b26a2640e1bc4f3e9fc7afce1e",
            "6a47e64f27834f898378f5ff4df6898b",
            "37ac69f8054d4b778426ff3e4c0fff71",
            "39bfbe1184554c6f8b12981a0894d2a1",
            "37c59d9d066d47d2be14c0c0ea494239",
            "fdf0cdbf36ba473f93ca966a4f8d426e",
            "58d30d3f50ee4581a8efb7b30d745aee",
            "f53ae743e07a4bd9adde711c8a858b41",
            "07b3d73f3b614354b23490c848787d5e",
            "17d1c0309f634f72a3fca4ae0a50637e",
            "333a384f5910469182b851f42e616a82",
            "1a1032feb6e44722a26e43d66030b471",
            "b47399d95f7e4b5480501b9b8cd4155f",
            "8ab3f08b0adc4489a5abf39f2742021b",
            "fea40baf05e74a198103af7f4fadb844",
            "2409976021214aed846f961d748acd21",
            "0df587a01428411c9911862142b66172",
            "5770fcb5bf904cd8bc31ce4419b7f8c7",
            "cb5a985c949c4a54ab967942e8634347",
            "4e08ccc188714aafbf554ee4163a51ec",
            "dd64a9ac587d4fc3982ac646e3aef458",
            "5ca3eb9872554fb6be3b3a474e7829ad",
            "733439316763405c95bc686f60e6d9b0",
            "3c50f79c92ae4e419da6d735d9a1719f",
            "133e472504d04f7ba849ca9eb66b16d5",
            "e2e239a440604328a3e40e92d9720978",
            "c79bb565e96e46f1bd840ac892e2ba9c",
            "640a677e5f6547ecb46ccf3191d980a8",
            "ff130ee374fd490caf953787a9a07b4e",
            "f00cea3ba16049a9bbdcf38e85a2d9c4",
            "aafc7cd1b8d24f858cb0c949eddb1ce5",
            "50714305393448638caba474010cd845"
          ]
        },
        "execution": {
          "iopub.execute_input": "2021-07-04T08:18:27.426092Z",
          "iopub.status.busy": "2021-07-04T08:18:27.424333Z",
          "iopub.status.idle": "2021-07-04T08:20:57.724860Z",
          "shell.execute_reply": "2021-07-04T08:20:57.723816Z"
        },
        "id": "rrbSZk-rnFS6",
        "outputId": "1b72ed86-f449-45ca-f1ca-d14bc0d91ab4"
      },
      "outputs": [
        {
          "output_type": "display_data",
          "data": {
            "text/plain": [
              "All epochs:   0%|          | 0/5 [00:00<?, ?it/s]"
            ],
            "application/vnd.jupyter.widget-view+json": {
              "version_major": 2,
              "version_minor": 0,
              "model_id": "50c967cbf94f42ada74a1bc9456c63b4"
            }
          },
          "metadata": {}
        },
        {
          "output_type": "display_data",
          "data": {
            "text/plain": [
              "Epoch 1/5:   0%|          | 0/1718 [00:00<?, ?it/s]"
            ],
            "application/vnd.jupyter.widget-view+json": {
              "version_major": 2,
              "version_minor": 0,
              "model_id": "4c9674ad9ded4f1abdba27d3f6a76df0"
            }
          },
          "metadata": {}
        },
        {
          "output_type": "display_data",
          "data": {
            "text/plain": [
              "Epoch 2/5:   0%|          | 0/1718 [00:00<?, ?it/s]"
            ],
            "application/vnd.jupyter.widget-view+json": {
              "version_major": 2,
              "version_minor": 0,
              "model_id": "a6f813519a944361853a9ab2c49cbd68"
            }
          },
          "metadata": {}
        },
        {
          "output_type": "display_data",
          "data": {
            "text/plain": [
              "Epoch 3/5:   0%|          | 0/1718 [00:00<?, ?it/s]"
            ],
            "application/vnd.jupyter.widget-view+json": {
              "version_major": 2,
              "version_minor": 0,
              "model_id": "033c5ff056a948ed8d41c0dbf37cc1ff"
            }
          },
          "metadata": {}
        },
        {
          "output_type": "display_data",
          "data": {
            "text/plain": [
              "Epoch 4/5:   0%|          | 0/1718 [00:00<?, ?it/s]"
            ],
            "application/vnd.jupyter.widget-view+json": {
              "version_major": 2,
              "version_minor": 0,
              "model_id": "333a384f5910469182b851f42e616a82"
            }
          },
          "metadata": {}
        },
        {
          "output_type": "display_data",
          "data": {
            "text/plain": [
              "Epoch 5/5:   0%|          | 0/1718 [00:00<?, ?it/s]"
            ],
            "application/vnd.jupyter.widget-view+json": {
              "version_major": 2,
              "version_minor": 0,
              "model_id": "5ca3eb9872554fb6be3b3a474e7829ad"
            }
          },
          "metadata": {}
        }
      ],
      "source": [
        "with trange(1, n_epochs + 1, desc=\"All epochs\") as epochs:\n",
        "    for epoch in epochs:\n",
        "        with trange(1, n_steps + 1, desc=\"Epoch {}/{}\".format(epoch, n_epochs)) as steps:\n",
        "            for step in steps:\n",
        "                X_batch, y_batch = random_batch(X_train, y_train)\n",
        "                with tf.GradientTape() as tape:\n",
        "                    y_pred = model(X_batch)\n",
        "                    main_loss = tf.reduce_mean(loss_fn(y_batch, y_pred))\n",
        "                    loss = tf.add_n([main_loss] + model.losses)\n",
        "                gradients = tape.gradient(loss, model.trainable_variables)\n",
        "                optimizer.apply_gradients(zip(gradients, model.trainable_variables))\n",
        "                for variable in model.variables:\n",
        "                    if variable.constraint is not None:\n",
        "                        variable.assign(variable.constraint(variable))                    \n",
        "                status = OrderedDict()\n",
        "                mean_loss(loss)\n",
        "                status[\"loss\"] = mean_loss.result().numpy()\n",
        "                for metric in metrics:\n",
        "                    metric(y_batch, y_pred)\n",
        "                    status[metric.name] = metric.result().numpy()\n",
        "                steps.set_postfix(status)\n",
        "            y_pred = model(X_valid)\n",
        "            status[\"val_loss\"] = np.mean(loss_fn(y_valid, y_pred))\n",
        "            status[\"val_accuracy\"] = np.mean(keras.metrics.sparse_categorical_accuracy(\n",
        "                tf.constant(y_valid, dtype=np.float32), y_pred))\n",
        "            steps.set_postfix(status)\n",
        "        for metric in [mean_loss] + metrics:\n",
        "            metric.reset_states()\n"
      ]
    },
    {
      "cell_type": "markdown",
      "metadata": {
        "id": "VXaxk5WwnFS6"
      },
      "source": [
        "### b.\n",
        "_문제: 상위 층과 하위 층에 학습률이 다른 옵티마이저를 따로 사용해보세요._"
      ]
    },
    {
      "cell_type": "code",
      "execution_count": 281,
      "metadata": {
        "execution": {
          "iopub.execute_input": "2021-07-04T08:20:57.735116Z",
          "iopub.status.busy": "2021-07-04T08:20:57.733165Z",
          "iopub.status.idle": "2021-07-04T08:20:57.741263Z",
          "shell.execute_reply": "2021-07-04T08:20:57.742096Z"
        },
        "id": "W_NUUQJLnFS6"
      },
      "outputs": [],
      "source": [
        "keras.backend.clear_session()\n",
        "np.random.seed(42)\n",
        "tf.random.set_seed(42)"
      ]
    },
    {
      "cell_type": "code",
      "execution_count": 282,
      "metadata": {
        "execution": {
          "iopub.execute_input": "2021-07-04T08:20:57.757785Z",
          "iopub.status.busy": "2021-07-04T08:20:57.756644Z",
          "iopub.status.idle": "2021-07-04T08:20:57.808014Z",
          "shell.execute_reply": "2021-07-04T08:20:57.809090Z"
        },
        "id": "jMk78kcFnFS6"
      },
      "outputs": [],
      "source": [
        "lower_layers = keras.models.Sequential([\n",
        "    keras.layers.Flatten(input_shape=[28, 28]),\n",
        "    keras.layers.Dense(100, activation=\"relu\"),\n",
        "])\n",
        "upper_layers = keras.models.Sequential([\n",
        "    keras.layers.Dense(10, activation=\"softmax\"),\n",
        "])\n",
        "model = keras.models.Sequential([\n",
        "    lower_layers, upper_layers\n",
        "])"
      ]
    },
    {
      "cell_type": "code",
      "execution_count": 283,
      "metadata": {
        "execution": {
          "iopub.execute_input": "2021-07-04T08:20:57.817373Z",
          "iopub.status.busy": "2021-07-04T08:20:57.816005Z",
          "iopub.status.idle": "2021-07-04T08:20:57.819046Z",
          "shell.execute_reply": "2021-07-04T08:20:57.820186Z"
        },
        "id": "_vvluGEWnFS7"
      },
      "outputs": [],
      "source": [
        "lower_optimizer = keras.optimizers.SGD(learning_rate=1e-4)\n",
        "upper_optimizer = keras.optimizers.Nadam(learning_rate=1e-3)"
      ]
    },
    {
      "cell_type": "code",
      "execution_count": 284,
      "metadata": {
        "execution": {
          "iopub.execute_input": "2021-07-04T08:20:57.838414Z",
          "iopub.status.busy": "2021-07-04T08:20:57.837124Z",
          "iopub.status.idle": "2021-07-04T08:20:57.861214Z",
          "shell.execute_reply": "2021-07-04T08:20:57.859890Z"
        },
        "id": "Y1Ah5AEMnFS7"
      },
      "outputs": [],
      "source": [
        "n_epochs = 5\n",
        "batch_size = 32\n",
        "n_steps = len(X_train) // batch_size\n",
        "loss_fn = keras.losses.sparse_categorical_crossentropy\n",
        "mean_loss = keras.metrics.Mean()\n",
        "metrics = [keras.metrics.SparseCategoricalAccuracy()]"
      ]
    },
    {
      "cell_type": "code",
      "execution_count": 285,
      "metadata": {
        "colab": {
          "base_uri": "https://localhost:8080/",
          "height": 0,
          "referenced_widgets": [
            "7a3be928b222499c99006ee463a50d94",
            "a78a0cdfae294b40b96ca997be16658f",
            "742d82f3cb1140e7b2bbde79331ac00f",
            "76d8e74206a445ca93846dbe56934661",
            "ca675bfd78b74f2aabaf9b451903202d",
            "f9e5d11e4d0745a3933b55465a9ce8e4",
            "d5a019a2dc3e46f491c7a1a2d16bbc6b",
            "1f2a3bd115a64fe18b643993b61b4217",
            "fcc7a3bf6a4049a7b3d536de9036fc9a",
            "06c95a5393df4aa99f993bcdb286271b",
            "10003e335f0648719c07a2e47214f816",
            "208b01203b30451fb18133111152f87a",
            "e00939f5541a4686839e49be2952ec3e",
            "813cb969851d4d48bdff0196b34dff0e",
            "9e76d903b8474069b1a435dd2e408039",
            "ded2a565909c4d6698aeb75310537860",
            "a2bcab12ea36419f97a7aa61ca8ee6e1",
            "b91112714cb4427e9d6e548f3ea270e6",
            "2f91563aa26049ada08b817622a75097",
            "afa36835c58f44f282a1618642f20a43",
            "5763daea79364ec3b76e8556d3fdf93a",
            "ebc9935e085c4e1c9576c21365c5bd9f",
            "4087d03b551046d29dea5bb12abcc044",
            "1b9a76419e314550a4dce00e6b0fd8fd",
            "5978240c1cc64b36b5d18e0487aaeb28",
            "52ec974f069740d8878da3193428f0ae",
            "510a72d7e9b74dafb4a63dc94b7d3c50",
            "e0eff79f936f46689dcc3eb0444127e6",
            "d917911f9ee54cd68fc4e6ab01fcae71",
            "c728ef1b46e5430ab3524538e9bb90d4",
            "a1931dbe800743a1b72cf2b94f347b30",
            "8b9a4a38e76f46ccb4dcf83900e27792",
            "ea156d4c48e44374adf7c5a42a843449",
            "025f35205d6343ff8eecabde45a8409a",
            "0df3aeb99fe1433c9364284b2e626b24",
            "745766322c42483d9f5177abf2538fd6",
            "31f271c607fd453bb59c883afe14f141",
            "d309946d796b40a5b1bb1bd1898a8fd6",
            "069ac5beaea34171b3adeba9e9a6ccdf",
            "ed9b96be3c1642fda5f0586fab3738ea",
            "6f3aa815f6fc44689fe5cd4eaff48b7d",
            "3d9d7f61085e46269caa3c762a6470a4",
            "64e28030a0184120868961aab9a80e03",
            "c584c03361a94be2846079615b07d81d",
            "fba9514e81644f6b86d8c44919d26733",
            "22879662ed78455fa1161bcf9e814a0b",
            "4cce6782cd554cc18c5fc1268b17b930",
            "543ffefd46a14a1abcd5cc7359e7aa34",
            "3fdf426c63594b14aac4ca5483752119",
            "cac45ef897824698855fa45fac5d7a3a",
            "42087efa16464af291d7c7f397c3f118",
            "9c7c8e72295847eba3fbcef1e7aa4d5e",
            "b8457c9377eb43b09b28d78a67a60c94",
            "f4d6675fe3804c9393a209e28c46df25",
            "fa50c162db8a4935a9732615e2ea49cf",
            "4889c921c2a848d2803747c656053032",
            "822edb1ee2dc4b438ed0802ab6747659",
            "4e7cb9bb5ca643a0920d2443a05593cd",
            "73a435f7ff804b21a466d417c2fa84bd",
            "9a9ca0de137341c7a66257af0de44e25",
            "37cb205dbc1849738836c59d9663f451",
            "6a77441a1f0644bb8cb985752cd465d6",
            "42a083f043b346798dbac63f23f0caa1",
            "792120d78db64c069da8344d6eb25d8a",
            "5744199796384b1ba88cf77c696f1508",
            "7d7bd6187bf84b42acd737ba30f42e31"
          ]
        },
        "execution": {
          "iopub.execute_input": "2021-07-04T08:20:57.916303Z",
          "iopub.status.busy": "2021-07-04T08:20:57.871210Z",
          "iopub.status.idle": "2021-07-04T08:23:28.076184Z",
          "shell.execute_reply": "2021-07-04T08:23:28.074944Z"
        },
        "id": "E2BbBpTMnFS7",
        "outputId": "4837167b-94b1-4acb-81d6-4b106be3321b"
      },
      "outputs": [
        {
          "output_type": "display_data",
          "data": {
            "text/plain": [
              "All epochs:   0%|          | 0/5 [00:00<?, ?it/s]"
            ],
            "application/vnd.jupyter.widget-view+json": {
              "version_major": 2,
              "version_minor": 0,
              "model_id": "7a3be928b222499c99006ee463a50d94"
            }
          },
          "metadata": {}
        },
        {
          "output_type": "display_data",
          "data": {
            "text/plain": [
              "Epoch 1/5:   0%|          | 0/1718 [00:00<?, ?it/s]"
            ],
            "application/vnd.jupyter.widget-view+json": {
              "version_major": 2,
              "version_minor": 0,
              "model_id": "208b01203b30451fb18133111152f87a"
            }
          },
          "metadata": {}
        },
        {
          "output_type": "display_data",
          "data": {
            "text/plain": [
              "Epoch 2/5:   0%|          | 0/1718 [00:00<?, ?it/s]"
            ],
            "application/vnd.jupyter.widget-view+json": {
              "version_major": 2,
              "version_minor": 0,
              "model_id": "4087d03b551046d29dea5bb12abcc044"
            }
          },
          "metadata": {}
        },
        {
          "output_type": "display_data",
          "data": {
            "text/plain": [
              "Epoch 3/5:   0%|          | 0/1718 [00:00<?, ?it/s]"
            ],
            "application/vnd.jupyter.widget-view+json": {
              "version_major": 2,
              "version_minor": 0,
              "model_id": "025f35205d6343ff8eecabde45a8409a"
            }
          },
          "metadata": {}
        },
        {
          "output_type": "display_data",
          "data": {
            "text/plain": [
              "Epoch 4/5:   0%|          | 0/1718 [00:00<?, ?it/s]"
            ],
            "application/vnd.jupyter.widget-view+json": {
              "version_major": 2,
              "version_minor": 0,
              "model_id": "fba9514e81644f6b86d8c44919d26733"
            }
          },
          "metadata": {}
        },
        {
          "output_type": "display_data",
          "data": {
            "text/plain": [
              "Epoch 5/5:   0%|          | 0/1718 [00:00<?, ?it/s]"
            ],
            "application/vnd.jupyter.widget-view+json": {
              "version_major": 2,
              "version_minor": 0,
              "model_id": "4889c921c2a848d2803747c656053032"
            }
          },
          "metadata": {}
        }
      ],
      "source": [
        "with trange(1, n_epochs + 1, desc=\"All epochs\") as epochs:\n",
        "    for epoch in epochs:\n",
        "        with trange(1, n_steps + 1, desc=\"Epoch {}/{}\".format(epoch, n_epochs)) as steps:\n",
        "            for step in steps:\n",
        "                X_batch, y_batch = random_batch(X_train, y_train)\n",
        "                with tf.GradientTape(persistent=True) as tape:\n",
        "                    y_pred = model(X_batch)\n",
        "                    main_loss = tf.reduce_mean(loss_fn(y_batch, y_pred))\n",
        "                    loss = tf.add_n([main_loss] + model.losses)\n",
        "                for layers, optimizer in ((lower_layers, lower_optimizer),\n",
        "                                          (upper_layers, upper_optimizer)):\n",
        "                    gradients = tape.gradient(loss, layers.trainable_variables)\n",
        "                    optimizer.apply_gradients(zip(gradients, layers.trainable_variables))\n",
        "                del tape\n",
        "                for variable in model.variables:\n",
        "                    if variable.constraint is not None:\n",
        "                        variable.assign(variable.constraint(variable))                    \n",
        "                status = OrderedDict()\n",
        "                mean_loss(loss)\n",
        "                status[\"loss\"] = mean_loss.result().numpy()\n",
        "                for metric in metrics:\n",
        "                    metric(y_batch, y_pred)\n",
        "                    status[metric.name] = metric.result().numpy()\n",
        "                steps.set_postfix(status)\n",
        "            y_pred = model(X_valid)\n",
        "            status[\"val_loss\"] = np.mean(loss_fn(y_valid, y_pred))\n",
        "            status[\"val_accuracy\"] = np.mean(keras.metrics.sparse_categorical_accuracy(\n",
        "                tf.constant(y_valid, dtype=np.float32), y_pred))\n",
        "            steps.set_postfix(status)\n",
        "        for metric in [mean_loss] + metrics:\n",
        "            metric.reset_states()"
      ]
    }
  ],
  "metadata": {
    "accelerator": "GPU",
    "colab": {
      "provenance": [],
      "collapsed_sections": [
        "FepPlGrBnFSS",
        "QrqIuM0NnFSS",
        "qEscuNeMnFST",
        "rUX0FqA2nFSU",
        "xIunxUy1nFSV",
        "Vk6tGFd4nFSW",
        "tMc8-5sjnFSW",
        "kwMI9FoNnFSX",
        "aHM1uuinnFSY",
        "IG6tPHOxnFSZ",
        "0ivfG84mnFSp",
        "69nqOhgSnFSx",
        "3D-erxOBnFSx",
        "9Nh2laLOnFSy",
        "iGEDLTpVnFSz",
        "jKv6EsoMnFS0",
        "1gFgVxYPnFS2",
        "w8yHh6uVnFS3",
        "FN1NBFYMnFS4",
        "inl1mvaknFS4",
        "RVTVssxNnFS4",
        "OtZf7k4bnFS4",
        "-txGpum2nFS4",
        "8OldjLnsnFS6",
        "3Sc-mwzpnFS6",
        "VXaxk5WwnFS6"
      ]
    },
    "kernelspec": {
      "display_name": "Python 3",
      "language": "python",
      "name": "python3"
    },
    "language_info": {
      "codemirror_mode": {
        "name": "ipython",
        "version": 3
      },
      "file_extension": ".py",
      "mimetype": "text/x-python",
      "name": "python",
      "nbconvert_exporter": "python",
      "pygments_lexer": "ipython3",
      "version": "3.7.3"
    },
    "widgets": {
      "application/vnd.jupyter.widget-state+json": {
        "9ecab235198644e5ad8c319cea2f1ab2": {
          "model_module": "@jupyter-widgets/controls",
          "model_name": "HBoxModel",
          "model_module_version": "1.5.0",
          "state": {
            "_dom_classes": [],
            "_model_module": "@jupyter-widgets/controls",
            "_model_module_version": "1.5.0",
            "_model_name": "HBoxModel",
            "_view_count": null,
            "_view_module": "@jupyter-widgets/controls",
            "_view_module_version": "1.5.0",
            "_view_name": "HBoxView",
            "box_style": "",
            "children": [
              "IPY_MODEL_adf2050f920a4c10a6add960087dd887",
              "IPY_MODEL_4ba9667ec91748ada66751af9052d73c",
              "IPY_MODEL_5972024e1b084e7180ea893f88032dce"
            ],
            "layout": "IPY_MODEL_5db7e5cc6ca64bc3bd0ee5a23531fbb4"
          }
        },
        "adf2050f920a4c10a6add960087dd887": {
          "model_module": "@jupyter-widgets/controls",
          "model_name": "HTMLModel",
          "model_module_version": "1.5.0",
          "state": {
            "_dom_classes": [],
            "_model_module": "@jupyter-widgets/controls",
            "_model_module_version": "1.5.0",
            "_model_name": "HTMLModel",
            "_view_count": null,
            "_view_module": "@jupyter-widgets/controls",
            "_view_module_version": "1.5.0",
            "_view_name": "HTMLView",
            "description": "",
            "description_tooltip": null,
            "layout": "IPY_MODEL_99249b3b709844f197d3779d0e3f430a",
            "placeholder": "​",
            "style": "IPY_MODEL_8ae9eaaab1634566bb478d116a0cdaa0",
            "value": "All epochs: 100%"
          }
        },
        "4ba9667ec91748ada66751af9052d73c": {
          "model_module": "@jupyter-widgets/controls",
          "model_name": "FloatProgressModel",
          "model_module_version": "1.5.0",
          "state": {
            "_dom_classes": [],
            "_model_module": "@jupyter-widgets/controls",
            "_model_module_version": "1.5.0",
            "_model_name": "FloatProgressModel",
            "_view_count": null,
            "_view_module": "@jupyter-widgets/controls",
            "_view_module_version": "1.5.0",
            "_view_name": "ProgressView",
            "bar_style": "success",
            "description": "",
            "description_tooltip": null,
            "layout": "IPY_MODEL_d4bf695e069d44db95126616becc020f",
            "max": 5,
            "min": 0,
            "orientation": "horizontal",
            "style": "IPY_MODEL_5ca1ddb5ba2e4664aa02e67e03b1281f",
            "value": 5
          }
        },
        "5972024e1b084e7180ea893f88032dce": {
          "model_module": "@jupyter-widgets/controls",
          "model_name": "HTMLModel",
          "model_module_version": "1.5.0",
          "state": {
            "_dom_classes": [],
            "_model_module": "@jupyter-widgets/controls",
            "_model_module_version": "1.5.0",
            "_model_name": "HTMLModel",
            "_view_count": null,
            "_view_module": "@jupyter-widgets/controls",
            "_view_module_version": "1.5.0",
            "_view_name": "HTMLView",
            "description": "",
            "description_tooltip": null,
            "layout": "IPY_MODEL_dd7ba4bd099f4250bf4cfe8dbf175d2a",
            "placeholder": "​",
            "style": "IPY_MODEL_64662d44ce2d4797b7d60315ff5718c0",
            "value": " 5/5 [00:37&lt;00:00,  7.45s/it]"
          }
        },
        "5db7e5cc6ca64bc3bd0ee5a23531fbb4": {
          "model_module": "@jupyter-widgets/base",
          "model_name": "LayoutModel",
          "model_module_version": "1.2.0",
          "state": {
            "_model_module": "@jupyter-widgets/base",
            "_model_module_version": "1.2.0",
            "_model_name": "LayoutModel",
            "_view_count": null,
            "_view_module": "@jupyter-widgets/base",
            "_view_module_version": "1.2.0",
            "_view_name": "LayoutView",
            "align_content": null,
            "align_items": null,
            "align_self": null,
            "border": null,
            "bottom": null,
            "display": null,
            "flex": null,
            "flex_flow": null,
            "grid_area": null,
            "grid_auto_columns": null,
            "grid_auto_flow": null,
            "grid_auto_rows": null,
            "grid_column": null,
            "grid_gap": null,
            "grid_row": null,
            "grid_template_areas": null,
            "grid_template_columns": null,
            "grid_template_rows": null,
            "height": null,
            "justify_content": null,
            "justify_items": null,
            "left": null,
            "margin": null,
            "max_height": null,
            "max_width": null,
            "min_height": null,
            "min_width": null,
            "object_fit": null,
            "object_position": null,
            "order": null,
            "overflow": null,
            "overflow_x": null,
            "overflow_y": null,
            "padding": null,
            "right": null,
            "top": null,
            "visibility": null,
            "width": null
          }
        },
        "99249b3b709844f197d3779d0e3f430a": {
          "model_module": "@jupyter-widgets/base",
          "model_name": "LayoutModel",
          "model_module_version": "1.2.0",
          "state": {
            "_model_module": "@jupyter-widgets/base",
            "_model_module_version": "1.2.0",
            "_model_name": "LayoutModel",
            "_view_count": null,
            "_view_module": "@jupyter-widgets/base",
            "_view_module_version": "1.2.0",
            "_view_name": "LayoutView",
            "align_content": null,
            "align_items": null,
            "align_self": null,
            "border": null,
            "bottom": null,
            "display": null,
            "flex": null,
            "flex_flow": null,
            "grid_area": null,
            "grid_auto_columns": null,
            "grid_auto_flow": null,
            "grid_auto_rows": null,
            "grid_column": null,
            "grid_gap": null,
            "grid_row": null,
            "grid_template_areas": null,
            "grid_template_columns": null,
            "grid_template_rows": null,
            "height": null,
            "justify_content": null,
            "justify_items": null,
            "left": null,
            "margin": null,
            "max_height": null,
            "max_width": null,
            "min_height": null,
            "min_width": null,
            "object_fit": null,
            "object_position": null,
            "order": null,
            "overflow": null,
            "overflow_x": null,
            "overflow_y": null,
            "padding": null,
            "right": null,
            "top": null,
            "visibility": null,
            "width": null
          }
        },
        "8ae9eaaab1634566bb478d116a0cdaa0": {
          "model_module": "@jupyter-widgets/controls",
          "model_name": "DescriptionStyleModel",
          "model_module_version": "1.5.0",
          "state": {
            "_model_module": "@jupyter-widgets/controls",
            "_model_module_version": "1.5.0",
            "_model_name": "DescriptionStyleModel",
            "_view_count": null,
            "_view_module": "@jupyter-widgets/base",
            "_view_module_version": "1.2.0",
            "_view_name": "StyleView",
            "description_width": ""
          }
        },
        "d4bf695e069d44db95126616becc020f": {
          "model_module": "@jupyter-widgets/base",
          "model_name": "LayoutModel",
          "model_module_version": "1.2.0",
          "state": {
            "_model_module": "@jupyter-widgets/base",
            "_model_module_version": "1.2.0",
            "_model_name": "LayoutModel",
            "_view_count": null,
            "_view_module": "@jupyter-widgets/base",
            "_view_module_version": "1.2.0",
            "_view_name": "LayoutView",
            "align_content": null,
            "align_items": null,
            "align_self": null,
            "border": null,
            "bottom": null,
            "display": null,
            "flex": null,
            "flex_flow": null,
            "grid_area": null,
            "grid_auto_columns": null,
            "grid_auto_flow": null,
            "grid_auto_rows": null,
            "grid_column": null,
            "grid_gap": null,
            "grid_row": null,
            "grid_template_areas": null,
            "grid_template_columns": null,
            "grid_template_rows": null,
            "height": null,
            "justify_content": null,
            "justify_items": null,
            "left": null,
            "margin": null,
            "max_height": null,
            "max_width": null,
            "min_height": null,
            "min_width": null,
            "object_fit": null,
            "object_position": null,
            "order": null,
            "overflow": null,
            "overflow_x": null,
            "overflow_y": null,
            "padding": null,
            "right": null,
            "top": null,
            "visibility": null,
            "width": null
          }
        },
        "5ca1ddb5ba2e4664aa02e67e03b1281f": {
          "model_module": "@jupyter-widgets/controls",
          "model_name": "ProgressStyleModel",
          "model_module_version": "1.5.0",
          "state": {
            "_model_module": "@jupyter-widgets/controls",
            "_model_module_version": "1.5.0",
            "_model_name": "ProgressStyleModel",
            "_view_count": null,
            "_view_module": "@jupyter-widgets/base",
            "_view_module_version": "1.2.0",
            "_view_name": "StyleView",
            "bar_color": null,
            "description_width": ""
          }
        },
        "dd7ba4bd099f4250bf4cfe8dbf175d2a": {
          "model_module": "@jupyter-widgets/base",
          "model_name": "LayoutModel",
          "model_module_version": "1.2.0",
          "state": {
            "_model_module": "@jupyter-widgets/base",
            "_model_module_version": "1.2.0",
            "_model_name": "LayoutModel",
            "_view_count": null,
            "_view_module": "@jupyter-widgets/base",
            "_view_module_version": "1.2.0",
            "_view_name": "LayoutView",
            "align_content": null,
            "align_items": null,
            "align_self": null,
            "border": null,
            "bottom": null,
            "display": null,
            "flex": null,
            "flex_flow": null,
            "grid_area": null,
            "grid_auto_columns": null,
            "grid_auto_flow": null,
            "grid_auto_rows": null,
            "grid_column": null,
            "grid_gap": null,
            "grid_row": null,
            "grid_template_areas": null,
            "grid_template_columns": null,
            "grid_template_rows": null,
            "height": null,
            "justify_content": null,
            "justify_items": null,
            "left": null,
            "margin": null,
            "max_height": null,
            "max_width": null,
            "min_height": null,
            "min_width": null,
            "object_fit": null,
            "object_position": null,
            "order": null,
            "overflow": null,
            "overflow_x": null,
            "overflow_y": null,
            "padding": null,
            "right": null,
            "top": null,
            "visibility": null,
            "width": null
          }
        },
        "64662d44ce2d4797b7d60315ff5718c0": {
          "model_module": "@jupyter-widgets/controls",
          "model_name": "DescriptionStyleModel",
          "model_module_version": "1.5.0",
          "state": {
            "_model_module": "@jupyter-widgets/controls",
            "_model_module_version": "1.5.0",
            "_model_name": "DescriptionStyleModel",
            "_view_count": null,
            "_view_module": "@jupyter-widgets/base",
            "_view_module_version": "1.2.0",
            "_view_name": "StyleView",
            "description_width": ""
          }
        },
        "1ca6eaffedc346f4b24fbc7e71c821e3": {
          "model_module": "@jupyter-widgets/controls",
          "model_name": "HBoxModel",
          "model_module_version": "1.5.0",
          "state": {
            "_dom_classes": [],
            "_model_module": "@jupyter-widgets/controls",
            "_model_module_version": "1.5.0",
            "_model_name": "HBoxModel",
            "_view_count": null,
            "_view_module": "@jupyter-widgets/controls",
            "_view_module_version": "1.5.0",
            "_view_name": "HBoxView",
            "box_style": "",
            "children": [
              "IPY_MODEL_c0ed9ae2c121471eb3f93c7a6925bbc2",
              "IPY_MODEL_028890e94bd442d69aea7d46d93fd6e0",
              "IPY_MODEL_748c91fd0d044996b2ae8a492e1e5c52"
            ],
            "layout": "IPY_MODEL_c2e94455f9574cbdb6b3bd0d2370096b"
          }
        },
        "c0ed9ae2c121471eb3f93c7a6925bbc2": {
          "model_module": "@jupyter-widgets/controls",
          "model_name": "HTMLModel",
          "model_module_version": "1.5.0",
          "state": {
            "_dom_classes": [],
            "_model_module": "@jupyter-widgets/controls",
            "_model_module_version": "1.5.0",
            "_model_name": "HTMLModel",
            "_view_count": null,
            "_view_module": "@jupyter-widgets/controls",
            "_view_module_version": "1.5.0",
            "_view_name": "HTMLView",
            "description": "",
            "description_tooltip": null,
            "layout": "IPY_MODEL_bd3531278e694424bea49be1fce011cf",
            "placeholder": "​",
            "style": "IPY_MODEL_7ad244735a3d463bb4cbdb9ed7734bda",
            "value": "Epoch 1/5: 100%"
          }
        },
        "028890e94bd442d69aea7d46d93fd6e0": {
          "model_module": "@jupyter-widgets/controls",
          "model_name": "FloatProgressModel",
          "model_module_version": "1.5.0",
          "state": {
            "_dom_classes": [],
            "_model_module": "@jupyter-widgets/controls",
            "_model_module_version": "1.5.0",
            "_model_name": "FloatProgressModel",
            "_view_count": null,
            "_view_module": "@jupyter-widgets/controls",
            "_view_module_version": "1.5.0",
            "_view_name": "ProgressView",
            "bar_style": "success",
            "description": "",
            "description_tooltip": null,
            "layout": "IPY_MODEL_501d3354b7b144c6bd63f27abcf2122e",
            "max": 362,
            "min": 0,
            "orientation": "horizontal",
            "style": "IPY_MODEL_13c19b40cf744487920d30416b44478d",
            "value": 362
          }
        },
        "748c91fd0d044996b2ae8a492e1e5c52": {
          "model_module": "@jupyter-widgets/controls",
          "model_name": "HTMLModel",
          "model_module_version": "1.5.0",
          "state": {
            "_dom_classes": [],
            "_model_module": "@jupyter-widgets/controls",
            "_model_module_version": "1.5.0",
            "_model_name": "HTMLModel",
            "_view_count": null,
            "_view_module": "@jupyter-widgets/controls",
            "_view_module_version": "1.5.0",
            "_view_name": "HTMLView",
            "description": "",
            "description_tooltip": null,
            "layout": "IPY_MODEL_5c48758b20954467851b18cc7dc6c7ce",
            "placeholder": "​",
            "style": "IPY_MODEL_027e2c984c6f4766888d0bc7b826a57f",
            "value": " 362/362 [00:07&lt;00:00, 50.14it/s, loss=0.65, mean_absolute_error=0.522]"
          }
        },
        "c2e94455f9574cbdb6b3bd0d2370096b": {
          "model_module": "@jupyter-widgets/base",
          "model_name": "LayoutModel",
          "model_module_version": "1.2.0",
          "state": {
            "_model_module": "@jupyter-widgets/base",
            "_model_module_version": "1.2.0",
            "_model_name": "LayoutModel",
            "_view_count": null,
            "_view_module": "@jupyter-widgets/base",
            "_view_module_version": "1.2.0",
            "_view_name": "LayoutView",
            "align_content": null,
            "align_items": null,
            "align_self": null,
            "border": null,
            "bottom": null,
            "display": null,
            "flex": null,
            "flex_flow": null,
            "grid_area": null,
            "grid_auto_columns": null,
            "grid_auto_flow": null,
            "grid_auto_rows": null,
            "grid_column": null,
            "grid_gap": null,
            "grid_row": null,
            "grid_template_areas": null,
            "grid_template_columns": null,
            "grid_template_rows": null,
            "height": null,
            "justify_content": null,
            "justify_items": null,
            "left": null,
            "margin": null,
            "max_height": null,
            "max_width": null,
            "min_height": null,
            "min_width": null,
            "object_fit": null,
            "object_position": null,
            "order": null,
            "overflow": null,
            "overflow_x": null,
            "overflow_y": null,
            "padding": null,
            "right": null,
            "top": null,
            "visibility": null,
            "width": null
          }
        },
        "bd3531278e694424bea49be1fce011cf": {
          "model_module": "@jupyter-widgets/base",
          "model_name": "LayoutModel",
          "model_module_version": "1.2.0",
          "state": {
            "_model_module": "@jupyter-widgets/base",
            "_model_module_version": "1.2.0",
            "_model_name": "LayoutModel",
            "_view_count": null,
            "_view_module": "@jupyter-widgets/base",
            "_view_module_version": "1.2.0",
            "_view_name": "LayoutView",
            "align_content": null,
            "align_items": null,
            "align_self": null,
            "border": null,
            "bottom": null,
            "display": null,
            "flex": null,
            "flex_flow": null,
            "grid_area": null,
            "grid_auto_columns": null,
            "grid_auto_flow": null,
            "grid_auto_rows": null,
            "grid_column": null,
            "grid_gap": null,
            "grid_row": null,
            "grid_template_areas": null,
            "grid_template_columns": null,
            "grid_template_rows": null,
            "height": null,
            "justify_content": null,
            "justify_items": null,
            "left": null,
            "margin": null,
            "max_height": null,
            "max_width": null,
            "min_height": null,
            "min_width": null,
            "object_fit": null,
            "object_position": null,
            "order": null,
            "overflow": null,
            "overflow_x": null,
            "overflow_y": null,
            "padding": null,
            "right": null,
            "top": null,
            "visibility": null,
            "width": null
          }
        },
        "7ad244735a3d463bb4cbdb9ed7734bda": {
          "model_module": "@jupyter-widgets/controls",
          "model_name": "DescriptionStyleModel",
          "model_module_version": "1.5.0",
          "state": {
            "_model_module": "@jupyter-widgets/controls",
            "_model_module_version": "1.5.0",
            "_model_name": "DescriptionStyleModel",
            "_view_count": null,
            "_view_module": "@jupyter-widgets/base",
            "_view_module_version": "1.2.0",
            "_view_name": "StyleView",
            "description_width": ""
          }
        },
        "501d3354b7b144c6bd63f27abcf2122e": {
          "model_module": "@jupyter-widgets/base",
          "model_name": "LayoutModel",
          "model_module_version": "1.2.0",
          "state": {
            "_model_module": "@jupyter-widgets/base",
            "_model_module_version": "1.2.0",
            "_model_name": "LayoutModel",
            "_view_count": null,
            "_view_module": "@jupyter-widgets/base",
            "_view_module_version": "1.2.0",
            "_view_name": "LayoutView",
            "align_content": null,
            "align_items": null,
            "align_self": null,
            "border": null,
            "bottom": null,
            "display": null,
            "flex": null,
            "flex_flow": null,
            "grid_area": null,
            "grid_auto_columns": null,
            "grid_auto_flow": null,
            "grid_auto_rows": null,
            "grid_column": null,
            "grid_gap": null,
            "grid_row": null,
            "grid_template_areas": null,
            "grid_template_columns": null,
            "grid_template_rows": null,
            "height": null,
            "justify_content": null,
            "justify_items": null,
            "left": null,
            "margin": null,
            "max_height": null,
            "max_width": null,
            "min_height": null,
            "min_width": null,
            "object_fit": null,
            "object_position": null,
            "order": null,
            "overflow": null,
            "overflow_x": null,
            "overflow_y": null,
            "padding": null,
            "right": null,
            "top": null,
            "visibility": null,
            "width": null
          }
        },
        "13c19b40cf744487920d30416b44478d": {
          "model_module": "@jupyter-widgets/controls",
          "model_name": "ProgressStyleModel",
          "model_module_version": "1.5.0",
          "state": {
            "_model_module": "@jupyter-widgets/controls",
            "_model_module_version": "1.5.0",
            "_model_name": "ProgressStyleModel",
            "_view_count": null,
            "_view_module": "@jupyter-widgets/base",
            "_view_module_version": "1.2.0",
            "_view_name": "StyleView",
            "bar_color": null,
            "description_width": ""
          }
        },
        "5c48758b20954467851b18cc7dc6c7ce": {
          "model_module": "@jupyter-widgets/base",
          "model_name": "LayoutModel",
          "model_module_version": "1.2.0",
          "state": {
            "_model_module": "@jupyter-widgets/base",
            "_model_module_version": "1.2.0",
            "_model_name": "LayoutModel",
            "_view_count": null,
            "_view_module": "@jupyter-widgets/base",
            "_view_module_version": "1.2.0",
            "_view_name": "LayoutView",
            "align_content": null,
            "align_items": null,
            "align_self": null,
            "border": null,
            "bottom": null,
            "display": null,
            "flex": null,
            "flex_flow": null,
            "grid_area": null,
            "grid_auto_columns": null,
            "grid_auto_flow": null,
            "grid_auto_rows": null,
            "grid_column": null,
            "grid_gap": null,
            "grid_row": null,
            "grid_template_areas": null,
            "grid_template_columns": null,
            "grid_template_rows": null,
            "height": null,
            "justify_content": null,
            "justify_items": null,
            "left": null,
            "margin": null,
            "max_height": null,
            "max_width": null,
            "min_height": null,
            "min_width": null,
            "object_fit": null,
            "object_position": null,
            "order": null,
            "overflow": null,
            "overflow_x": null,
            "overflow_y": null,
            "padding": null,
            "right": null,
            "top": null,
            "visibility": null,
            "width": null
          }
        },
        "027e2c984c6f4766888d0bc7b826a57f": {
          "model_module": "@jupyter-widgets/controls",
          "model_name": "DescriptionStyleModel",
          "model_module_version": "1.5.0",
          "state": {
            "_model_module": "@jupyter-widgets/controls",
            "_model_module_version": "1.5.0",
            "_model_name": "DescriptionStyleModel",
            "_view_count": null,
            "_view_module": "@jupyter-widgets/base",
            "_view_module_version": "1.2.0",
            "_view_name": "StyleView",
            "description_width": ""
          }
        },
        "eaa04d90e7614878af7ac885e90840bf": {
          "model_module": "@jupyter-widgets/controls",
          "model_name": "HBoxModel",
          "model_module_version": "1.5.0",
          "state": {
            "_dom_classes": [],
            "_model_module": "@jupyter-widgets/controls",
            "_model_module_version": "1.5.0",
            "_model_name": "HBoxModel",
            "_view_count": null,
            "_view_module": "@jupyter-widgets/controls",
            "_view_module_version": "1.5.0",
            "_view_name": "HBoxView",
            "box_style": "",
            "children": [
              "IPY_MODEL_43fc734f1b2f4e90a961d8d43ac341c8",
              "IPY_MODEL_fd311dee63d049d3a343cb34717dba78",
              "IPY_MODEL_fc168619df384fbb9d3ef70c205b88ac"
            ],
            "layout": "IPY_MODEL_5cc61a15768842fcbcb00fd24793fe8a"
          }
        },
        "43fc734f1b2f4e90a961d8d43ac341c8": {
          "model_module": "@jupyter-widgets/controls",
          "model_name": "HTMLModel",
          "model_module_version": "1.5.0",
          "state": {
            "_dom_classes": [],
            "_model_module": "@jupyter-widgets/controls",
            "_model_module_version": "1.5.0",
            "_model_name": "HTMLModel",
            "_view_count": null,
            "_view_module": "@jupyter-widgets/controls",
            "_view_module_version": "1.5.0",
            "_view_name": "HTMLView",
            "description": "",
            "description_tooltip": null,
            "layout": "IPY_MODEL_49452115d1a947e791748a8aecbf88c6",
            "placeholder": "​",
            "style": "IPY_MODEL_f4b7ac02092c4b139ed007a19d44868a",
            "value": "Epoch 2/5: 100%"
          }
        },
        "fd311dee63d049d3a343cb34717dba78": {
          "model_module": "@jupyter-widgets/controls",
          "model_name": "FloatProgressModel",
          "model_module_version": "1.5.0",
          "state": {
            "_dom_classes": [],
            "_model_module": "@jupyter-widgets/controls",
            "_model_module_version": "1.5.0",
            "_model_name": "FloatProgressModel",
            "_view_count": null,
            "_view_module": "@jupyter-widgets/controls",
            "_view_module_version": "1.5.0",
            "_view_name": "ProgressView",
            "bar_style": "success",
            "description": "",
            "description_tooltip": null,
            "layout": "IPY_MODEL_3964b6d4a9a64b96be42d05832330d3b",
            "max": 362,
            "min": 0,
            "orientation": "horizontal",
            "style": "IPY_MODEL_e908ada2851a4e03a1bf2cf84e119a4c",
            "value": 362
          }
        },
        "fc168619df384fbb9d3ef70c205b88ac": {
          "model_module": "@jupyter-widgets/controls",
          "model_name": "HTMLModel",
          "model_module_version": "1.5.0",
          "state": {
            "_dom_classes": [],
            "_model_module": "@jupyter-widgets/controls",
            "_model_module_version": "1.5.0",
            "_model_name": "HTMLModel",
            "_view_count": null,
            "_view_module": "@jupyter-widgets/controls",
            "_view_module_version": "1.5.0",
            "_view_name": "HTMLView",
            "description": "",
            "description_tooltip": null,
            "layout": "IPY_MODEL_836358ee3f294844bf86bd62cef645c4",
            "placeholder": "​",
            "style": "IPY_MODEL_0e6da93cf7064eceaf80b0af4f3e295c",
            "value": " 362/362 [00:07&lt;00:00, 49.90it/s, loss=0.63, mean_absolute_error=0.512]"
          }
        },
        "5cc61a15768842fcbcb00fd24793fe8a": {
          "model_module": "@jupyter-widgets/base",
          "model_name": "LayoutModel",
          "model_module_version": "1.2.0",
          "state": {
            "_model_module": "@jupyter-widgets/base",
            "_model_module_version": "1.2.0",
            "_model_name": "LayoutModel",
            "_view_count": null,
            "_view_module": "@jupyter-widgets/base",
            "_view_module_version": "1.2.0",
            "_view_name": "LayoutView",
            "align_content": null,
            "align_items": null,
            "align_self": null,
            "border": null,
            "bottom": null,
            "display": null,
            "flex": null,
            "flex_flow": null,
            "grid_area": null,
            "grid_auto_columns": null,
            "grid_auto_flow": null,
            "grid_auto_rows": null,
            "grid_column": null,
            "grid_gap": null,
            "grid_row": null,
            "grid_template_areas": null,
            "grid_template_columns": null,
            "grid_template_rows": null,
            "height": null,
            "justify_content": null,
            "justify_items": null,
            "left": null,
            "margin": null,
            "max_height": null,
            "max_width": null,
            "min_height": null,
            "min_width": null,
            "object_fit": null,
            "object_position": null,
            "order": null,
            "overflow": null,
            "overflow_x": null,
            "overflow_y": null,
            "padding": null,
            "right": null,
            "top": null,
            "visibility": null,
            "width": null
          }
        },
        "49452115d1a947e791748a8aecbf88c6": {
          "model_module": "@jupyter-widgets/base",
          "model_name": "LayoutModel",
          "model_module_version": "1.2.0",
          "state": {
            "_model_module": "@jupyter-widgets/base",
            "_model_module_version": "1.2.0",
            "_model_name": "LayoutModel",
            "_view_count": null,
            "_view_module": "@jupyter-widgets/base",
            "_view_module_version": "1.2.0",
            "_view_name": "LayoutView",
            "align_content": null,
            "align_items": null,
            "align_self": null,
            "border": null,
            "bottom": null,
            "display": null,
            "flex": null,
            "flex_flow": null,
            "grid_area": null,
            "grid_auto_columns": null,
            "grid_auto_flow": null,
            "grid_auto_rows": null,
            "grid_column": null,
            "grid_gap": null,
            "grid_row": null,
            "grid_template_areas": null,
            "grid_template_columns": null,
            "grid_template_rows": null,
            "height": null,
            "justify_content": null,
            "justify_items": null,
            "left": null,
            "margin": null,
            "max_height": null,
            "max_width": null,
            "min_height": null,
            "min_width": null,
            "object_fit": null,
            "object_position": null,
            "order": null,
            "overflow": null,
            "overflow_x": null,
            "overflow_y": null,
            "padding": null,
            "right": null,
            "top": null,
            "visibility": null,
            "width": null
          }
        },
        "f4b7ac02092c4b139ed007a19d44868a": {
          "model_module": "@jupyter-widgets/controls",
          "model_name": "DescriptionStyleModel",
          "model_module_version": "1.5.0",
          "state": {
            "_model_module": "@jupyter-widgets/controls",
            "_model_module_version": "1.5.0",
            "_model_name": "DescriptionStyleModel",
            "_view_count": null,
            "_view_module": "@jupyter-widgets/base",
            "_view_module_version": "1.2.0",
            "_view_name": "StyleView",
            "description_width": ""
          }
        },
        "3964b6d4a9a64b96be42d05832330d3b": {
          "model_module": "@jupyter-widgets/base",
          "model_name": "LayoutModel",
          "model_module_version": "1.2.0",
          "state": {
            "_model_module": "@jupyter-widgets/base",
            "_model_module_version": "1.2.0",
            "_model_name": "LayoutModel",
            "_view_count": null,
            "_view_module": "@jupyter-widgets/base",
            "_view_module_version": "1.2.0",
            "_view_name": "LayoutView",
            "align_content": null,
            "align_items": null,
            "align_self": null,
            "border": null,
            "bottom": null,
            "display": null,
            "flex": null,
            "flex_flow": null,
            "grid_area": null,
            "grid_auto_columns": null,
            "grid_auto_flow": null,
            "grid_auto_rows": null,
            "grid_column": null,
            "grid_gap": null,
            "grid_row": null,
            "grid_template_areas": null,
            "grid_template_columns": null,
            "grid_template_rows": null,
            "height": null,
            "justify_content": null,
            "justify_items": null,
            "left": null,
            "margin": null,
            "max_height": null,
            "max_width": null,
            "min_height": null,
            "min_width": null,
            "object_fit": null,
            "object_position": null,
            "order": null,
            "overflow": null,
            "overflow_x": null,
            "overflow_y": null,
            "padding": null,
            "right": null,
            "top": null,
            "visibility": null,
            "width": null
          }
        },
        "e908ada2851a4e03a1bf2cf84e119a4c": {
          "model_module": "@jupyter-widgets/controls",
          "model_name": "ProgressStyleModel",
          "model_module_version": "1.5.0",
          "state": {
            "_model_module": "@jupyter-widgets/controls",
            "_model_module_version": "1.5.0",
            "_model_name": "ProgressStyleModel",
            "_view_count": null,
            "_view_module": "@jupyter-widgets/base",
            "_view_module_version": "1.2.0",
            "_view_name": "StyleView",
            "bar_color": null,
            "description_width": ""
          }
        },
        "836358ee3f294844bf86bd62cef645c4": {
          "model_module": "@jupyter-widgets/base",
          "model_name": "LayoutModel",
          "model_module_version": "1.2.0",
          "state": {
            "_model_module": "@jupyter-widgets/base",
            "_model_module_version": "1.2.0",
            "_model_name": "LayoutModel",
            "_view_count": null,
            "_view_module": "@jupyter-widgets/base",
            "_view_module_version": "1.2.0",
            "_view_name": "LayoutView",
            "align_content": null,
            "align_items": null,
            "align_self": null,
            "border": null,
            "bottom": null,
            "display": null,
            "flex": null,
            "flex_flow": null,
            "grid_area": null,
            "grid_auto_columns": null,
            "grid_auto_flow": null,
            "grid_auto_rows": null,
            "grid_column": null,
            "grid_gap": null,
            "grid_row": null,
            "grid_template_areas": null,
            "grid_template_columns": null,
            "grid_template_rows": null,
            "height": null,
            "justify_content": null,
            "justify_items": null,
            "left": null,
            "margin": null,
            "max_height": null,
            "max_width": null,
            "min_height": null,
            "min_width": null,
            "object_fit": null,
            "object_position": null,
            "order": null,
            "overflow": null,
            "overflow_x": null,
            "overflow_y": null,
            "padding": null,
            "right": null,
            "top": null,
            "visibility": null,
            "width": null
          }
        },
        "0e6da93cf7064eceaf80b0af4f3e295c": {
          "model_module": "@jupyter-widgets/controls",
          "model_name": "DescriptionStyleModel",
          "model_module_version": "1.5.0",
          "state": {
            "_model_module": "@jupyter-widgets/controls",
            "_model_module_version": "1.5.0",
            "_model_name": "DescriptionStyleModel",
            "_view_count": null,
            "_view_module": "@jupyter-widgets/base",
            "_view_module_version": "1.2.0",
            "_view_name": "StyleView",
            "description_width": ""
          }
        },
        "f7ff97d563c8452ebfc756256343c6e6": {
          "model_module": "@jupyter-widgets/controls",
          "model_name": "HBoxModel",
          "model_module_version": "1.5.0",
          "state": {
            "_dom_classes": [],
            "_model_module": "@jupyter-widgets/controls",
            "_model_module_version": "1.5.0",
            "_model_name": "HBoxModel",
            "_view_count": null,
            "_view_module": "@jupyter-widgets/controls",
            "_view_module_version": "1.5.0",
            "_view_name": "HBoxView",
            "box_style": "",
            "children": [
              "IPY_MODEL_4330aa05c7fa452da75c451d25df05dd",
              "IPY_MODEL_7f428ee1808a4d0d9afce8f45a469930",
              "IPY_MODEL_a5dfcaad26c5498ca16d874304925e5e"
            ],
            "layout": "IPY_MODEL_4af3767fc0e7469f8cd20e4440ea00cd"
          }
        },
        "4330aa05c7fa452da75c451d25df05dd": {
          "model_module": "@jupyter-widgets/controls",
          "model_name": "HTMLModel",
          "model_module_version": "1.5.0",
          "state": {
            "_dom_classes": [],
            "_model_module": "@jupyter-widgets/controls",
            "_model_module_version": "1.5.0",
            "_model_name": "HTMLModel",
            "_view_count": null,
            "_view_module": "@jupyter-widgets/controls",
            "_view_module_version": "1.5.0",
            "_view_name": "HTMLView",
            "description": "",
            "description_tooltip": null,
            "layout": "IPY_MODEL_f92caec8799b4238804cdb4125829447",
            "placeholder": "​",
            "style": "IPY_MODEL_03ca0d87b662404b800a8fa6334a8bbd",
            "value": "Epoch 3/5: 100%"
          }
        },
        "7f428ee1808a4d0d9afce8f45a469930": {
          "model_module": "@jupyter-widgets/controls",
          "model_name": "FloatProgressModel",
          "model_module_version": "1.5.0",
          "state": {
            "_dom_classes": [],
            "_model_module": "@jupyter-widgets/controls",
            "_model_module_version": "1.5.0",
            "_model_name": "FloatProgressModel",
            "_view_count": null,
            "_view_module": "@jupyter-widgets/controls",
            "_view_module_version": "1.5.0",
            "_view_name": "ProgressView",
            "bar_style": "success",
            "description": "",
            "description_tooltip": null,
            "layout": "IPY_MODEL_1d7106b4ead74e9f96b05ce5eda43b96",
            "max": 362,
            "min": 0,
            "orientation": "horizontal",
            "style": "IPY_MODEL_e930e691f4a54829944abc9beb63c2b2",
            "value": 362
          }
        },
        "a5dfcaad26c5498ca16d874304925e5e": {
          "model_module": "@jupyter-widgets/controls",
          "model_name": "HTMLModel",
          "model_module_version": "1.5.0",
          "state": {
            "_dom_classes": [],
            "_model_module": "@jupyter-widgets/controls",
            "_model_module_version": "1.5.0",
            "_model_name": "HTMLModel",
            "_view_count": null,
            "_view_module": "@jupyter-widgets/controls",
            "_view_module_version": "1.5.0",
            "_view_name": "HTMLView",
            "description": "",
            "description_tooltip": null,
            "layout": "IPY_MODEL_dbe9d70c3eb6469eab1f9af091f5841d",
            "placeholder": "​",
            "style": "IPY_MODEL_2a0458832c734f3787fec3e90545f94d",
            "value": " 362/362 [00:07&lt;00:00, 48.14it/s, loss=0.626, mean_absolute_error=0.51]"
          }
        },
        "4af3767fc0e7469f8cd20e4440ea00cd": {
          "model_module": "@jupyter-widgets/base",
          "model_name": "LayoutModel",
          "model_module_version": "1.2.0",
          "state": {
            "_model_module": "@jupyter-widgets/base",
            "_model_module_version": "1.2.0",
            "_model_name": "LayoutModel",
            "_view_count": null,
            "_view_module": "@jupyter-widgets/base",
            "_view_module_version": "1.2.0",
            "_view_name": "LayoutView",
            "align_content": null,
            "align_items": null,
            "align_self": null,
            "border": null,
            "bottom": null,
            "display": null,
            "flex": null,
            "flex_flow": null,
            "grid_area": null,
            "grid_auto_columns": null,
            "grid_auto_flow": null,
            "grid_auto_rows": null,
            "grid_column": null,
            "grid_gap": null,
            "grid_row": null,
            "grid_template_areas": null,
            "grid_template_columns": null,
            "grid_template_rows": null,
            "height": null,
            "justify_content": null,
            "justify_items": null,
            "left": null,
            "margin": null,
            "max_height": null,
            "max_width": null,
            "min_height": null,
            "min_width": null,
            "object_fit": null,
            "object_position": null,
            "order": null,
            "overflow": null,
            "overflow_x": null,
            "overflow_y": null,
            "padding": null,
            "right": null,
            "top": null,
            "visibility": null,
            "width": null
          }
        },
        "f92caec8799b4238804cdb4125829447": {
          "model_module": "@jupyter-widgets/base",
          "model_name": "LayoutModel",
          "model_module_version": "1.2.0",
          "state": {
            "_model_module": "@jupyter-widgets/base",
            "_model_module_version": "1.2.0",
            "_model_name": "LayoutModel",
            "_view_count": null,
            "_view_module": "@jupyter-widgets/base",
            "_view_module_version": "1.2.0",
            "_view_name": "LayoutView",
            "align_content": null,
            "align_items": null,
            "align_self": null,
            "border": null,
            "bottom": null,
            "display": null,
            "flex": null,
            "flex_flow": null,
            "grid_area": null,
            "grid_auto_columns": null,
            "grid_auto_flow": null,
            "grid_auto_rows": null,
            "grid_column": null,
            "grid_gap": null,
            "grid_row": null,
            "grid_template_areas": null,
            "grid_template_columns": null,
            "grid_template_rows": null,
            "height": null,
            "justify_content": null,
            "justify_items": null,
            "left": null,
            "margin": null,
            "max_height": null,
            "max_width": null,
            "min_height": null,
            "min_width": null,
            "object_fit": null,
            "object_position": null,
            "order": null,
            "overflow": null,
            "overflow_x": null,
            "overflow_y": null,
            "padding": null,
            "right": null,
            "top": null,
            "visibility": null,
            "width": null
          }
        },
        "03ca0d87b662404b800a8fa6334a8bbd": {
          "model_module": "@jupyter-widgets/controls",
          "model_name": "DescriptionStyleModel",
          "model_module_version": "1.5.0",
          "state": {
            "_model_module": "@jupyter-widgets/controls",
            "_model_module_version": "1.5.0",
            "_model_name": "DescriptionStyleModel",
            "_view_count": null,
            "_view_module": "@jupyter-widgets/base",
            "_view_module_version": "1.2.0",
            "_view_name": "StyleView",
            "description_width": ""
          }
        },
        "1d7106b4ead74e9f96b05ce5eda43b96": {
          "model_module": "@jupyter-widgets/base",
          "model_name": "LayoutModel",
          "model_module_version": "1.2.0",
          "state": {
            "_model_module": "@jupyter-widgets/base",
            "_model_module_version": "1.2.0",
            "_model_name": "LayoutModel",
            "_view_count": null,
            "_view_module": "@jupyter-widgets/base",
            "_view_module_version": "1.2.0",
            "_view_name": "LayoutView",
            "align_content": null,
            "align_items": null,
            "align_self": null,
            "border": null,
            "bottom": null,
            "display": null,
            "flex": null,
            "flex_flow": null,
            "grid_area": null,
            "grid_auto_columns": null,
            "grid_auto_flow": null,
            "grid_auto_rows": null,
            "grid_column": null,
            "grid_gap": null,
            "grid_row": null,
            "grid_template_areas": null,
            "grid_template_columns": null,
            "grid_template_rows": null,
            "height": null,
            "justify_content": null,
            "justify_items": null,
            "left": null,
            "margin": null,
            "max_height": null,
            "max_width": null,
            "min_height": null,
            "min_width": null,
            "object_fit": null,
            "object_position": null,
            "order": null,
            "overflow": null,
            "overflow_x": null,
            "overflow_y": null,
            "padding": null,
            "right": null,
            "top": null,
            "visibility": null,
            "width": null
          }
        },
        "e930e691f4a54829944abc9beb63c2b2": {
          "model_module": "@jupyter-widgets/controls",
          "model_name": "ProgressStyleModel",
          "model_module_version": "1.5.0",
          "state": {
            "_model_module": "@jupyter-widgets/controls",
            "_model_module_version": "1.5.0",
            "_model_name": "ProgressStyleModel",
            "_view_count": null,
            "_view_module": "@jupyter-widgets/base",
            "_view_module_version": "1.2.0",
            "_view_name": "StyleView",
            "bar_color": null,
            "description_width": ""
          }
        },
        "dbe9d70c3eb6469eab1f9af091f5841d": {
          "model_module": "@jupyter-widgets/base",
          "model_name": "LayoutModel",
          "model_module_version": "1.2.0",
          "state": {
            "_model_module": "@jupyter-widgets/base",
            "_model_module_version": "1.2.0",
            "_model_name": "LayoutModel",
            "_view_count": null,
            "_view_module": "@jupyter-widgets/base",
            "_view_module_version": "1.2.0",
            "_view_name": "LayoutView",
            "align_content": null,
            "align_items": null,
            "align_self": null,
            "border": null,
            "bottom": null,
            "display": null,
            "flex": null,
            "flex_flow": null,
            "grid_area": null,
            "grid_auto_columns": null,
            "grid_auto_flow": null,
            "grid_auto_rows": null,
            "grid_column": null,
            "grid_gap": null,
            "grid_row": null,
            "grid_template_areas": null,
            "grid_template_columns": null,
            "grid_template_rows": null,
            "height": null,
            "justify_content": null,
            "justify_items": null,
            "left": null,
            "margin": null,
            "max_height": null,
            "max_width": null,
            "min_height": null,
            "min_width": null,
            "object_fit": null,
            "object_position": null,
            "order": null,
            "overflow": null,
            "overflow_x": null,
            "overflow_y": null,
            "padding": null,
            "right": null,
            "top": null,
            "visibility": null,
            "width": null
          }
        },
        "2a0458832c734f3787fec3e90545f94d": {
          "model_module": "@jupyter-widgets/controls",
          "model_name": "DescriptionStyleModel",
          "model_module_version": "1.5.0",
          "state": {
            "_model_module": "@jupyter-widgets/controls",
            "_model_module_version": "1.5.0",
            "_model_name": "DescriptionStyleModel",
            "_view_count": null,
            "_view_module": "@jupyter-widgets/base",
            "_view_module_version": "1.2.0",
            "_view_name": "StyleView",
            "description_width": ""
          }
        },
        "86c9e39a942c46e8b42c0032bf5dfb8d": {
          "model_module": "@jupyter-widgets/controls",
          "model_name": "HBoxModel",
          "model_module_version": "1.5.0",
          "state": {
            "_dom_classes": [],
            "_model_module": "@jupyter-widgets/controls",
            "_model_module_version": "1.5.0",
            "_model_name": "HBoxModel",
            "_view_count": null,
            "_view_module": "@jupyter-widgets/controls",
            "_view_module_version": "1.5.0",
            "_view_name": "HBoxView",
            "box_style": "",
            "children": [
              "IPY_MODEL_78c3bba678704aeda48bfe469d1c76e7",
              "IPY_MODEL_8e8ae974fc7d4778be5ddbd1f12ec63a",
              "IPY_MODEL_3bc2bb5283744adbadd7d35d93891150"
            ],
            "layout": "IPY_MODEL_1d56340d763241e4b5076819bee8b40c"
          }
        },
        "78c3bba678704aeda48bfe469d1c76e7": {
          "model_module": "@jupyter-widgets/controls",
          "model_name": "HTMLModel",
          "model_module_version": "1.5.0",
          "state": {
            "_dom_classes": [],
            "_model_module": "@jupyter-widgets/controls",
            "_model_module_version": "1.5.0",
            "_model_name": "HTMLModel",
            "_view_count": null,
            "_view_module": "@jupyter-widgets/controls",
            "_view_module_version": "1.5.0",
            "_view_name": "HTMLView",
            "description": "",
            "description_tooltip": null,
            "layout": "IPY_MODEL_0eca8d2f440b40a3a5131159870dc660",
            "placeholder": "​",
            "style": "IPY_MODEL_ba9de246bc7b45c39f515ee2f43644ce",
            "value": "Epoch 4/5: 100%"
          }
        },
        "8e8ae974fc7d4778be5ddbd1f12ec63a": {
          "model_module": "@jupyter-widgets/controls",
          "model_name": "FloatProgressModel",
          "model_module_version": "1.5.0",
          "state": {
            "_dom_classes": [],
            "_model_module": "@jupyter-widgets/controls",
            "_model_module_version": "1.5.0",
            "_model_name": "FloatProgressModel",
            "_view_count": null,
            "_view_module": "@jupyter-widgets/controls",
            "_view_module_version": "1.5.0",
            "_view_name": "ProgressView",
            "bar_style": "success",
            "description": "",
            "description_tooltip": null,
            "layout": "IPY_MODEL_c704cc143660493da9ccb02ec3514ee7",
            "max": 362,
            "min": 0,
            "orientation": "horizontal",
            "style": "IPY_MODEL_f0689fad35e14ef9b11c52d974d3243d",
            "value": 362
          }
        },
        "3bc2bb5283744adbadd7d35d93891150": {
          "model_module": "@jupyter-widgets/controls",
          "model_name": "HTMLModel",
          "model_module_version": "1.5.0",
          "state": {
            "_dom_classes": [],
            "_model_module": "@jupyter-widgets/controls",
            "_model_module_version": "1.5.0",
            "_model_name": "HTMLModel",
            "_view_count": null,
            "_view_module": "@jupyter-widgets/controls",
            "_view_module_version": "1.5.0",
            "_view_name": "HTMLView",
            "description": "",
            "description_tooltip": null,
            "layout": "IPY_MODEL_5613473578614676b867377aba0b3fbf",
            "placeholder": "​",
            "style": "IPY_MODEL_a04c85cf9467401abf4841f0d8e32f6a",
            "value": " 362/362 [00:07&lt;00:00, 49.99it/s, loss=0.612, mean_absolute_error=0.505]"
          }
        },
        "1d56340d763241e4b5076819bee8b40c": {
          "model_module": "@jupyter-widgets/base",
          "model_name": "LayoutModel",
          "model_module_version": "1.2.0",
          "state": {
            "_model_module": "@jupyter-widgets/base",
            "_model_module_version": "1.2.0",
            "_model_name": "LayoutModel",
            "_view_count": null,
            "_view_module": "@jupyter-widgets/base",
            "_view_module_version": "1.2.0",
            "_view_name": "LayoutView",
            "align_content": null,
            "align_items": null,
            "align_self": null,
            "border": null,
            "bottom": null,
            "display": null,
            "flex": null,
            "flex_flow": null,
            "grid_area": null,
            "grid_auto_columns": null,
            "grid_auto_flow": null,
            "grid_auto_rows": null,
            "grid_column": null,
            "grid_gap": null,
            "grid_row": null,
            "grid_template_areas": null,
            "grid_template_columns": null,
            "grid_template_rows": null,
            "height": null,
            "justify_content": null,
            "justify_items": null,
            "left": null,
            "margin": null,
            "max_height": null,
            "max_width": null,
            "min_height": null,
            "min_width": null,
            "object_fit": null,
            "object_position": null,
            "order": null,
            "overflow": null,
            "overflow_x": null,
            "overflow_y": null,
            "padding": null,
            "right": null,
            "top": null,
            "visibility": null,
            "width": null
          }
        },
        "0eca8d2f440b40a3a5131159870dc660": {
          "model_module": "@jupyter-widgets/base",
          "model_name": "LayoutModel",
          "model_module_version": "1.2.0",
          "state": {
            "_model_module": "@jupyter-widgets/base",
            "_model_module_version": "1.2.0",
            "_model_name": "LayoutModel",
            "_view_count": null,
            "_view_module": "@jupyter-widgets/base",
            "_view_module_version": "1.2.0",
            "_view_name": "LayoutView",
            "align_content": null,
            "align_items": null,
            "align_self": null,
            "border": null,
            "bottom": null,
            "display": null,
            "flex": null,
            "flex_flow": null,
            "grid_area": null,
            "grid_auto_columns": null,
            "grid_auto_flow": null,
            "grid_auto_rows": null,
            "grid_column": null,
            "grid_gap": null,
            "grid_row": null,
            "grid_template_areas": null,
            "grid_template_columns": null,
            "grid_template_rows": null,
            "height": null,
            "justify_content": null,
            "justify_items": null,
            "left": null,
            "margin": null,
            "max_height": null,
            "max_width": null,
            "min_height": null,
            "min_width": null,
            "object_fit": null,
            "object_position": null,
            "order": null,
            "overflow": null,
            "overflow_x": null,
            "overflow_y": null,
            "padding": null,
            "right": null,
            "top": null,
            "visibility": null,
            "width": null
          }
        },
        "ba9de246bc7b45c39f515ee2f43644ce": {
          "model_module": "@jupyter-widgets/controls",
          "model_name": "DescriptionStyleModel",
          "model_module_version": "1.5.0",
          "state": {
            "_model_module": "@jupyter-widgets/controls",
            "_model_module_version": "1.5.0",
            "_model_name": "DescriptionStyleModel",
            "_view_count": null,
            "_view_module": "@jupyter-widgets/base",
            "_view_module_version": "1.2.0",
            "_view_name": "StyleView",
            "description_width": ""
          }
        },
        "c704cc143660493da9ccb02ec3514ee7": {
          "model_module": "@jupyter-widgets/base",
          "model_name": "LayoutModel",
          "model_module_version": "1.2.0",
          "state": {
            "_model_module": "@jupyter-widgets/base",
            "_model_module_version": "1.2.0",
            "_model_name": "LayoutModel",
            "_view_count": null,
            "_view_module": "@jupyter-widgets/base",
            "_view_module_version": "1.2.0",
            "_view_name": "LayoutView",
            "align_content": null,
            "align_items": null,
            "align_self": null,
            "border": null,
            "bottom": null,
            "display": null,
            "flex": null,
            "flex_flow": null,
            "grid_area": null,
            "grid_auto_columns": null,
            "grid_auto_flow": null,
            "grid_auto_rows": null,
            "grid_column": null,
            "grid_gap": null,
            "grid_row": null,
            "grid_template_areas": null,
            "grid_template_columns": null,
            "grid_template_rows": null,
            "height": null,
            "justify_content": null,
            "justify_items": null,
            "left": null,
            "margin": null,
            "max_height": null,
            "max_width": null,
            "min_height": null,
            "min_width": null,
            "object_fit": null,
            "object_position": null,
            "order": null,
            "overflow": null,
            "overflow_x": null,
            "overflow_y": null,
            "padding": null,
            "right": null,
            "top": null,
            "visibility": null,
            "width": null
          }
        },
        "f0689fad35e14ef9b11c52d974d3243d": {
          "model_module": "@jupyter-widgets/controls",
          "model_name": "ProgressStyleModel",
          "model_module_version": "1.5.0",
          "state": {
            "_model_module": "@jupyter-widgets/controls",
            "_model_module_version": "1.5.0",
            "_model_name": "ProgressStyleModel",
            "_view_count": null,
            "_view_module": "@jupyter-widgets/base",
            "_view_module_version": "1.2.0",
            "_view_name": "StyleView",
            "bar_color": null,
            "description_width": ""
          }
        },
        "5613473578614676b867377aba0b3fbf": {
          "model_module": "@jupyter-widgets/base",
          "model_name": "LayoutModel",
          "model_module_version": "1.2.0",
          "state": {
            "_model_module": "@jupyter-widgets/base",
            "_model_module_version": "1.2.0",
            "_model_name": "LayoutModel",
            "_view_count": null,
            "_view_module": "@jupyter-widgets/base",
            "_view_module_version": "1.2.0",
            "_view_name": "LayoutView",
            "align_content": null,
            "align_items": null,
            "align_self": null,
            "border": null,
            "bottom": null,
            "display": null,
            "flex": null,
            "flex_flow": null,
            "grid_area": null,
            "grid_auto_columns": null,
            "grid_auto_flow": null,
            "grid_auto_rows": null,
            "grid_column": null,
            "grid_gap": null,
            "grid_row": null,
            "grid_template_areas": null,
            "grid_template_columns": null,
            "grid_template_rows": null,
            "height": null,
            "justify_content": null,
            "justify_items": null,
            "left": null,
            "margin": null,
            "max_height": null,
            "max_width": null,
            "min_height": null,
            "min_width": null,
            "object_fit": null,
            "object_position": null,
            "order": null,
            "overflow": null,
            "overflow_x": null,
            "overflow_y": null,
            "padding": null,
            "right": null,
            "top": null,
            "visibility": null,
            "width": null
          }
        },
        "a04c85cf9467401abf4841f0d8e32f6a": {
          "model_module": "@jupyter-widgets/controls",
          "model_name": "DescriptionStyleModel",
          "model_module_version": "1.5.0",
          "state": {
            "_model_module": "@jupyter-widgets/controls",
            "_model_module_version": "1.5.0",
            "_model_name": "DescriptionStyleModel",
            "_view_count": null,
            "_view_module": "@jupyter-widgets/base",
            "_view_module_version": "1.2.0",
            "_view_name": "StyleView",
            "description_width": ""
          }
        },
        "8d71ef747de14daf89ec9abb0b3e21d1": {
          "model_module": "@jupyter-widgets/controls",
          "model_name": "HBoxModel",
          "model_module_version": "1.5.0",
          "state": {
            "_dom_classes": [],
            "_model_module": "@jupyter-widgets/controls",
            "_model_module_version": "1.5.0",
            "_model_name": "HBoxModel",
            "_view_count": null,
            "_view_module": "@jupyter-widgets/controls",
            "_view_module_version": "1.5.0",
            "_view_name": "HBoxView",
            "box_style": "",
            "children": [
              "IPY_MODEL_b323b68ffebc406d8f5c1af413070f30",
              "IPY_MODEL_129e0763c78249d59932f7b4240837b7",
              "IPY_MODEL_e03331e7c06a45028834c99d508ac2f2"
            ],
            "layout": "IPY_MODEL_eee950dc43874c50a6b5ac0ec5648129"
          }
        },
        "b323b68ffebc406d8f5c1af413070f30": {
          "model_module": "@jupyter-widgets/controls",
          "model_name": "HTMLModel",
          "model_module_version": "1.5.0",
          "state": {
            "_dom_classes": [],
            "_model_module": "@jupyter-widgets/controls",
            "_model_module_version": "1.5.0",
            "_model_name": "HTMLModel",
            "_view_count": null,
            "_view_module": "@jupyter-widgets/controls",
            "_view_module_version": "1.5.0",
            "_view_name": "HTMLView",
            "description": "",
            "description_tooltip": null,
            "layout": "IPY_MODEL_8f22a75fea094c5a9832f934e03cfe23",
            "placeholder": "​",
            "style": "IPY_MODEL_71e537b2d68c40df9a66c6749876c5ff",
            "value": "Epoch 5/5: 100%"
          }
        },
        "129e0763c78249d59932f7b4240837b7": {
          "model_module": "@jupyter-widgets/controls",
          "model_name": "FloatProgressModel",
          "model_module_version": "1.5.0",
          "state": {
            "_dom_classes": [],
            "_model_module": "@jupyter-widgets/controls",
            "_model_module_version": "1.5.0",
            "_model_name": "FloatProgressModel",
            "_view_count": null,
            "_view_module": "@jupyter-widgets/controls",
            "_view_module_version": "1.5.0",
            "_view_name": "ProgressView",
            "bar_style": "success",
            "description": "",
            "description_tooltip": null,
            "layout": "IPY_MODEL_5898d6de3ffe4e278bbfe9ec470bc873",
            "max": 362,
            "min": 0,
            "orientation": "horizontal",
            "style": "IPY_MODEL_09c684e41f034cde88a9cc7a9b457fd9",
            "value": 362
          }
        },
        "e03331e7c06a45028834c99d508ac2f2": {
          "model_module": "@jupyter-widgets/controls",
          "model_name": "HTMLModel",
          "model_module_version": "1.5.0",
          "state": {
            "_dom_classes": [],
            "_model_module": "@jupyter-widgets/controls",
            "_model_module_version": "1.5.0",
            "_model_name": "HTMLModel",
            "_view_count": null,
            "_view_module": "@jupyter-widgets/controls",
            "_view_module_version": "1.5.0",
            "_view_name": "HTMLView",
            "description": "",
            "description_tooltip": null,
            "layout": "IPY_MODEL_4146070a7c624a4191c7eb79ea079c3b",
            "placeholder": "​",
            "style": "IPY_MODEL_56f3d47948bb43259c11d1f696f60687",
            "value": " 362/362 [00:07&lt;00:00, 50.30it/s, loss=0.637, mean_absolute_error=0.513]"
          }
        },
        "eee950dc43874c50a6b5ac0ec5648129": {
          "model_module": "@jupyter-widgets/base",
          "model_name": "LayoutModel",
          "model_module_version": "1.2.0",
          "state": {
            "_model_module": "@jupyter-widgets/base",
            "_model_module_version": "1.2.0",
            "_model_name": "LayoutModel",
            "_view_count": null,
            "_view_module": "@jupyter-widgets/base",
            "_view_module_version": "1.2.0",
            "_view_name": "LayoutView",
            "align_content": null,
            "align_items": null,
            "align_self": null,
            "border": null,
            "bottom": null,
            "display": null,
            "flex": null,
            "flex_flow": null,
            "grid_area": null,
            "grid_auto_columns": null,
            "grid_auto_flow": null,
            "grid_auto_rows": null,
            "grid_column": null,
            "grid_gap": null,
            "grid_row": null,
            "grid_template_areas": null,
            "grid_template_columns": null,
            "grid_template_rows": null,
            "height": null,
            "justify_content": null,
            "justify_items": null,
            "left": null,
            "margin": null,
            "max_height": null,
            "max_width": null,
            "min_height": null,
            "min_width": null,
            "object_fit": null,
            "object_position": null,
            "order": null,
            "overflow": null,
            "overflow_x": null,
            "overflow_y": null,
            "padding": null,
            "right": null,
            "top": null,
            "visibility": null,
            "width": null
          }
        },
        "8f22a75fea094c5a9832f934e03cfe23": {
          "model_module": "@jupyter-widgets/base",
          "model_name": "LayoutModel",
          "model_module_version": "1.2.0",
          "state": {
            "_model_module": "@jupyter-widgets/base",
            "_model_module_version": "1.2.0",
            "_model_name": "LayoutModel",
            "_view_count": null,
            "_view_module": "@jupyter-widgets/base",
            "_view_module_version": "1.2.0",
            "_view_name": "LayoutView",
            "align_content": null,
            "align_items": null,
            "align_self": null,
            "border": null,
            "bottom": null,
            "display": null,
            "flex": null,
            "flex_flow": null,
            "grid_area": null,
            "grid_auto_columns": null,
            "grid_auto_flow": null,
            "grid_auto_rows": null,
            "grid_column": null,
            "grid_gap": null,
            "grid_row": null,
            "grid_template_areas": null,
            "grid_template_columns": null,
            "grid_template_rows": null,
            "height": null,
            "justify_content": null,
            "justify_items": null,
            "left": null,
            "margin": null,
            "max_height": null,
            "max_width": null,
            "min_height": null,
            "min_width": null,
            "object_fit": null,
            "object_position": null,
            "order": null,
            "overflow": null,
            "overflow_x": null,
            "overflow_y": null,
            "padding": null,
            "right": null,
            "top": null,
            "visibility": null,
            "width": null
          }
        },
        "71e537b2d68c40df9a66c6749876c5ff": {
          "model_module": "@jupyter-widgets/controls",
          "model_name": "DescriptionStyleModel",
          "model_module_version": "1.5.0",
          "state": {
            "_model_module": "@jupyter-widgets/controls",
            "_model_module_version": "1.5.0",
            "_model_name": "DescriptionStyleModel",
            "_view_count": null,
            "_view_module": "@jupyter-widgets/base",
            "_view_module_version": "1.2.0",
            "_view_name": "StyleView",
            "description_width": ""
          }
        },
        "5898d6de3ffe4e278bbfe9ec470bc873": {
          "model_module": "@jupyter-widgets/base",
          "model_name": "LayoutModel",
          "model_module_version": "1.2.0",
          "state": {
            "_model_module": "@jupyter-widgets/base",
            "_model_module_version": "1.2.0",
            "_model_name": "LayoutModel",
            "_view_count": null,
            "_view_module": "@jupyter-widgets/base",
            "_view_module_version": "1.2.0",
            "_view_name": "LayoutView",
            "align_content": null,
            "align_items": null,
            "align_self": null,
            "border": null,
            "bottom": null,
            "display": null,
            "flex": null,
            "flex_flow": null,
            "grid_area": null,
            "grid_auto_columns": null,
            "grid_auto_flow": null,
            "grid_auto_rows": null,
            "grid_column": null,
            "grid_gap": null,
            "grid_row": null,
            "grid_template_areas": null,
            "grid_template_columns": null,
            "grid_template_rows": null,
            "height": null,
            "justify_content": null,
            "justify_items": null,
            "left": null,
            "margin": null,
            "max_height": null,
            "max_width": null,
            "min_height": null,
            "min_width": null,
            "object_fit": null,
            "object_position": null,
            "order": null,
            "overflow": null,
            "overflow_x": null,
            "overflow_y": null,
            "padding": null,
            "right": null,
            "top": null,
            "visibility": null,
            "width": null
          }
        },
        "09c684e41f034cde88a9cc7a9b457fd9": {
          "model_module": "@jupyter-widgets/controls",
          "model_name": "ProgressStyleModel",
          "model_module_version": "1.5.0",
          "state": {
            "_model_module": "@jupyter-widgets/controls",
            "_model_module_version": "1.5.0",
            "_model_name": "ProgressStyleModel",
            "_view_count": null,
            "_view_module": "@jupyter-widgets/base",
            "_view_module_version": "1.2.0",
            "_view_name": "StyleView",
            "bar_color": null,
            "description_width": ""
          }
        },
        "4146070a7c624a4191c7eb79ea079c3b": {
          "model_module": "@jupyter-widgets/base",
          "model_name": "LayoutModel",
          "model_module_version": "1.2.0",
          "state": {
            "_model_module": "@jupyter-widgets/base",
            "_model_module_version": "1.2.0",
            "_model_name": "LayoutModel",
            "_view_count": null,
            "_view_module": "@jupyter-widgets/base",
            "_view_module_version": "1.2.0",
            "_view_name": "LayoutView",
            "align_content": null,
            "align_items": null,
            "align_self": null,
            "border": null,
            "bottom": null,
            "display": null,
            "flex": null,
            "flex_flow": null,
            "grid_area": null,
            "grid_auto_columns": null,
            "grid_auto_flow": null,
            "grid_auto_rows": null,
            "grid_column": null,
            "grid_gap": null,
            "grid_row": null,
            "grid_template_areas": null,
            "grid_template_columns": null,
            "grid_template_rows": null,
            "height": null,
            "justify_content": null,
            "justify_items": null,
            "left": null,
            "margin": null,
            "max_height": null,
            "max_width": null,
            "min_height": null,
            "min_width": null,
            "object_fit": null,
            "object_position": null,
            "order": null,
            "overflow": null,
            "overflow_x": null,
            "overflow_y": null,
            "padding": null,
            "right": null,
            "top": null,
            "visibility": null,
            "width": null
          }
        },
        "56f3d47948bb43259c11d1f696f60687": {
          "model_module": "@jupyter-widgets/controls",
          "model_name": "DescriptionStyleModel",
          "model_module_version": "1.5.0",
          "state": {
            "_model_module": "@jupyter-widgets/controls",
            "_model_module_version": "1.5.0",
            "_model_name": "DescriptionStyleModel",
            "_view_count": null,
            "_view_module": "@jupyter-widgets/base",
            "_view_module_version": "1.2.0",
            "_view_name": "StyleView",
            "description_width": ""
          }
        },
        "50c967cbf94f42ada74a1bc9456c63b4": {
          "model_module": "@jupyter-widgets/controls",
          "model_name": "HBoxModel",
          "model_module_version": "1.5.0",
          "state": {
            "_dom_classes": [],
            "_model_module": "@jupyter-widgets/controls",
            "_model_module_version": "1.5.0",
            "_model_name": "HBoxModel",
            "_view_count": null,
            "_view_module": "@jupyter-widgets/controls",
            "_view_module_version": "1.5.0",
            "_view_name": "HBoxView",
            "box_style": "",
            "children": [
              "IPY_MODEL_02b98d2d3f444e3ab54f390649c3e194",
              "IPY_MODEL_fa538a9ecf6144378ef396cf98d38951",
              "IPY_MODEL_5bcc50273d834596922ea2c171a5b2cd"
            ],
            "layout": "IPY_MODEL_c868ca2bc2c5435b9897760982070567"
          }
        },
        "02b98d2d3f444e3ab54f390649c3e194": {
          "model_module": "@jupyter-widgets/controls",
          "model_name": "HTMLModel",
          "model_module_version": "1.5.0",
          "state": {
            "_dom_classes": [],
            "_model_module": "@jupyter-widgets/controls",
            "_model_module_version": "1.5.0",
            "_model_name": "HTMLModel",
            "_view_count": null,
            "_view_module": "@jupyter-widgets/controls",
            "_view_module_version": "1.5.0",
            "_view_name": "HTMLView",
            "description": "",
            "description_tooltip": null,
            "layout": "IPY_MODEL_b5f0c2f5728542aca2b273554e413bc1",
            "placeholder": "​",
            "style": "IPY_MODEL_afd11f50380840ae84c6a615ed18280a",
            "value": "All epochs: 100%"
          }
        },
        "fa538a9ecf6144378ef396cf98d38951": {
          "model_module": "@jupyter-widgets/controls",
          "model_name": "FloatProgressModel",
          "model_module_version": "1.5.0",
          "state": {
            "_dom_classes": [],
            "_model_module": "@jupyter-widgets/controls",
            "_model_module_version": "1.5.0",
            "_model_name": "FloatProgressModel",
            "_view_count": null,
            "_view_module": "@jupyter-widgets/controls",
            "_view_module_version": "1.5.0",
            "_view_name": "ProgressView",
            "bar_style": "success",
            "description": "",
            "description_tooltip": null,
            "layout": "IPY_MODEL_3e5d00e0cde64cb4bd94c05cb1cf30fb",
            "max": 5,
            "min": 0,
            "orientation": "horizontal",
            "style": "IPY_MODEL_5cc0ac46654b4d27835e6d30ce36a871",
            "value": 5
          }
        },
        "5bcc50273d834596922ea2c171a5b2cd": {
          "model_module": "@jupyter-widgets/controls",
          "model_name": "HTMLModel",
          "model_module_version": "1.5.0",
          "state": {
            "_dom_classes": [],
            "_model_module": "@jupyter-widgets/controls",
            "_model_module_version": "1.5.0",
            "_model_name": "HTMLModel",
            "_view_count": null,
            "_view_module": "@jupyter-widgets/controls",
            "_view_module_version": "1.5.0",
            "_view_name": "HTMLView",
            "description": "",
            "description_tooltip": null,
            "layout": "IPY_MODEL_ab89a33f422f4b35b910ce1cab638294",
            "placeholder": "​",
            "style": "IPY_MODEL_dd1f7f3fbdf74caf85cd7166035d82e4",
            "value": " 5/5 [02:27&lt;00:00, 29.33s/it]"
          }
        },
        "c868ca2bc2c5435b9897760982070567": {
          "model_module": "@jupyter-widgets/base",
          "model_name": "LayoutModel",
          "model_module_version": "1.2.0",
          "state": {
            "_model_module": "@jupyter-widgets/base",
            "_model_module_version": "1.2.0",
            "_model_name": "LayoutModel",
            "_view_count": null,
            "_view_module": "@jupyter-widgets/base",
            "_view_module_version": "1.2.0",
            "_view_name": "LayoutView",
            "align_content": null,
            "align_items": null,
            "align_self": null,
            "border": null,
            "bottom": null,
            "display": null,
            "flex": null,
            "flex_flow": null,
            "grid_area": null,
            "grid_auto_columns": null,
            "grid_auto_flow": null,
            "grid_auto_rows": null,
            "grid_column": null,
            "grid_gap": null,
            "grid_row": null,
            "grid_template_areas": null,
            "grid_template_columns": null,
            "grid_template_rows": null,
            "height": null,
            "justify_content": null,
            "justify_items": null,
            "left": null,
            "margin": null,
            "max_height": null,
            "max_width": null,
            "min_height": null,
            "min_width": null,
            "object_fit": null,
            "object_position": null,
            "order": null,
            "overflow": null,
            "overflow_x": null,
            "overflow_y": null,
            "padding": null,
            "right": null,
            "top": null,
            "visibility": null,
            "width": null
          }
        },
        "b5f0c2f5728542aca2b273554e413bc1": {
          "model_module": "@jupyter-widgets/base",
          "model_name": "LayoutModel",
          "model_module_version": "1.2.0",
          "state": {
            "_model_module": "@jupyter-widgets/base",
            "_model_module_version": "1.2.0",
            "_model_name": "LayoutModel",
            "_view_count": null,
            "_view_module": "@jupyter-widgets/base",
            "_view_module_version": "1.2.0",
            "_view_name": "LayoutView",
            "align_content": null,
            "align_items": null,
            "align_self": null,
            "border": null,
            "bottom": null,
            "display": null,
            "flex": null,
            "flex_flow": null,
            "grid_area": null,
            "grid_auto_columns": null,
            "grid_auto_flow": null,
            "grid_auto_rows": null,
            "grid_column": null,
            "grid_gap": null,
            "grid_row": null,
            "grid_template_areas": null,
            "grid_template_columns": null,
            "grid_template_rows": null,
            "height": null,
            "justify_content": null,
            "justify_items": null,
            "left": null,
            "margin": null,
            "max_height": null,
            "max_width": null,
            "min_height": null,
            "min_width": null,
            "object_fit": null,
            "object_position": null,
            "order": null,
            "overflow": null,
            "overflow_x": null,
            "overflow_y": null,
            "padding": null,
            "right": null,
            "top": null,
            "visibility": null,
            "width": null
          }
        },
        "afd11f50380840ae84c6a615ed18280a": {
          "model_module": "@jupyter-widgets/controls",
          "model_name": "DescriptionStyleModel",
          "model_module_version": "1.5.0",
          "state": {
            "_model_module": "@jupyter-widgets/controls",
            "_model_module_version": "1.5.0",
            "_model_name": "DescriptionStyleModel",
            "_view_count": null,
            "_view_module": "@jupyter-widgets/base",
            "_view_module_version": "1.2.0",
            "_view_name": "StyleView",
            "description_width": ""
          }
        },
        "3e5d00e0cde64cb4bd94c05cb1cf30fb": {
          "model_module": "@jupyter-widgets/base",
          "model_name": "LayoutModel",
          "model_module_version": "1.2.0",
          "state": {
            "_model_module": "@jupyter-widgets/base",
            "_model_module_version": "1.2.0",
            "_model_name": "LayoutModel",
            "_view_count": null,
            "_view_module": "@jupyter-widgets/base",
            "_view_module_version": "1.2.0",
            "_view_name": "LayoutView",
            "align_content": null,
            "align_items": null,
            "align_self": null,
            "border": null,
            "bottom": null,
            "display": null,
            "flex": null,
            "flex_flow": null,
            "grid_area": null,
            "grid_auto_columns": null,
            "grid_auto_flow": null,
            "grid_auto_rows": null,
            "grid_column": null,
            "grid_gap": null,
            "grid_row": null,
            "grid_template_areas": null,
            "grid_template_columns": null,
            "grid_template_rows": null,
            "height": null,
            "justify_content": null,
            "justify_items": null,
            "left": null,
            "margin": null,
            "max_height": null,
            "max_width": null,
            "min_height": null,
            "min_width": null,
            "object_fit": null,
            "object_position": null,
            "order": null,
            "overflow": null,
            "overflow_x": null,
            "overflow_y": null,
            "padding": null,
            "right": null,
            "top": null,
            "visibility": null,
            "width": null
          }
        },
        "5cc0ac46654b4d27835e6d30ce36a871": {
          "model_module": "@jupyter-widgets/controls",
          "model_name": "ProgressStyleModel",
          "model_module_version": "1.5.0",
          "state": {
            "_model_module": "@jupyter-widgets/controls",
            "_model_module_version": "1.5.0",
            "_model_name": "ProgressStyleModel",
            "_view_count": null,
            "_view_module": "@jupyter-widgets/base",
            "_view_module_version": "1.2.0",
            "_view_name": "StyleView",
            "bar_color": null,
            "description_width": ""
          }
        },
        "ab89a33f422f4b35b910ce1cab638294": {
          "model_module": "@jupyter-widgets/base",
          "model_name": "LayoutModel",
          "model_module_version": "1.2.0",
          "state": {
            "_model_module": "@jupyter-widgets/base",
            "_model_module_version": "1.2.0",
            "_model_name": "LayoutModel",
            "_view_count": null,
            "_view_module": "@jupyter-widgets/base",
            "_view_module_version": "1.2.0",
            "_view_name": "LayoutView",
            "align_content": null,
            "align_items": null,
            "align_self": null,
            "border": null,
            "bottom": null,
            "display": null,
            "flex": null,
            "flex_flow": null,
            "grid_area": null,
            "grid_auto_columns": null,
            "grid_auto_flow": null,
            "grid_auto_rows": null,
            "grid_column": null,
            "grid_gap": null,
            "grid_row": null,
            "grid_template_areas": null,
            "grid_template_columns": null,
            "grid_template_rows": null,
            "height": null,
            "justify_content": null,
            "justify_items": null,
            "left": null,
            "margin": null,
            "max_height": null,
            "max_width": null,
            "min_height": null,
            "min_width": null,
            "object_fit": null,
            "object_position": null,
            "order": null,
            "overflow": null,
            "overflow_x": null,
            "overflow_y": null,
            "padding": null,
            "right": null,
            "top": null,
            "visibility": null,
            "width": null
          }
        },
        "dd1f7f3fbdf74caf85cd7166035d82e4": {
          "model_module": "@jupyter-widgets/controls",
          "model_name": "DescriptionStyleModel",
          "model_module_version": "1.5.0",
          "state": {
            "_model_module": "@jupyter-widgets/controls",
            "_model_module_version": "1.5.0",
            "_model_name": "DescriptionStyleModel",
            "_view_count": null,
            "_view_module": "@jupyter-widgets/base",
            "_view_module_version": "1.2.0",
            "_view_name": "StyleView",
            "description_width": ""
          }
        },
        "4c9674ad9ded4f1abdba27d3f6a76df0": {
          "model_module": "@jupyter-widgets/controls",
          "model_name": "HBoxModel",
          "model_module_version": "1.5.0",
          "state": {
            "_dom_classes": [],
            "_model_module": "@jupyter-widgets/controls",
            "_model_module_version": "1.5.0",
            "_model_name": "HBoxModel",
            "_view_count": null,
            "_view_module": "@jupyter-widgets/controls",
            "_view_module_version": "1.5.0",
            "_view_name": "HBoxView",
            "box_style": "",
            "children": [
              "IPY_MODEL_79386a4fd8454ba6acaba57a3882e991",
              "IPY_MODEL_db74c7bb1938494d902fd0b7b511c291",
              "IPY_MODEL_aaed8dda1ce14c46829a3c45b030cd7b"
            ],
            "layout": "IPY_MODEL_8e031540513f43a0bc9ac0d995ba8260"
          }
        },
        "79386a4fd8454ba6acaba57a3882e991": {
          "model_module": "@jupyter-widgets/controls",
          "model_name": "HTMLModel",
          "model_module_version": "1.5.0",
          "state": {
            "_dom_classes": [],
            "_model_module": "@jupyter-widgets/controls",
            "_model_module_version": "1.5.0",
            "_model_name": "HTMLModel",
            "_view_count": null,
            "_view_module": "@jupyter-widgets/controls",
            "_view_module_version": "1.5.0",
            "_view_name": "HTMLView",
            "description": "",
            "description_tooltip": null,
            "layout": "IPY_MODEL_ac4a138cb956431ab84ef4d6571c5237",
            "placeholder": "​",
            "style": "IPY_MODEL_7b60e3341d494bb0919f5a600b877bb8",
            "value": "Epoch 1/5: 100%"
          }
        },
        "db74c7bb1938494d902fd0b7b511c291": {
          "model_module": "@jupyter-widgets/controls",
          "model_name": "FloatProgressModel",
          "model_module_version": "1.5.0",
          "state": {
            "_dom_classes": [],
            "_model_module": "@jupyter-widgets/controls",
            "_model_module_version": "1.5.0",
            "_model_name": "FloatProgressModel",
            "_view_count": null,
            "_view_module": "@jupyter-widgets/controls",
            "_view_module_version": "1.5.0",
            "_view_name": "ProgressView",
            "bar_style": "success",
            "description": "",
            "description_tooltip": null,
            "layout": "IPY_MODEL_4af5b483c73c4aa7ac5b9763f48e9371",
            "max": 1718,
            "min": 0,
            "orientation": "horizontal",
            "style": "IPY_MODEL_0341585205b844deb05b4d5342cd5c24",
            "value": 1718
          }
        },
        "aaed8dda1ce14c46829a3c45b030cd7b": {
          "model_module": "@jupyter-widgets/controls",
          "model_name": "HTMLModel",
          "model_module_version": "1.5.0",
          "state": {
            "_dom_classes": [],
            "_model_module": "@jupyter-widgets/controls",
            "_model_module_version": "1.5.0",
            "_model_name": "HTMLModel",
            "_view_count": null,
            "_view_module": "@jupyter-widgets/controls",
            "_view_module_version": "1.5.0",
            "_view_name": "HTMLView",
            "description": "",
            "description_tooltip": null,
            "layout": "IPY_MODEL_1928d590ca4b4285a3ca47037dffb91a",
            "placeholder": "​",
            "style": "IPY_MODEL_1316a5445cff431691e33d0cd0eafc2e",
            "value": " 1718/1718 [00:30&lt;00:00, 62.45it/s, loss=0.511, sparse_categorical_accuracy=0.816]"
          }
        },
        "8e031540513f43a0bc9ac0d995ba8260": {
          "model_module": "@jupyter-widgets/base",
          "model_name": "LayoutModel",
          "model_module_version": "1.2.0",
          "state": {
            "_model_module": "@jupyter-widgets/base",
            "_model_module_version": "1.2.0",
            "_model_name": "LayoutModel",
            "_view_count": null,
            "_view_module": "@jupyter-widgets/base",
            "_view_module_version": "1.2.0",
            "_view_name": "LayoutView",
            "align_content": null,
            "align_items": null,
            "align_self": null,
            "border": null,
            "bottom": null,
            "display": null,
            "flex": null,
            "flex_flow": null,
            "grid_area": null,
            "grid_auto_columns": null,
            "grid_auto_flow": null,
            "grid_auto_rows": null,
            "grid_column": null,
            "grid_gap": null,
            "grid_row": null,
            "grid_template_areas": null,
            "grid_template_columns": null,
            "grid_template_rows": null,
            "height": null,
            "justify_content": null,
            "justify_items": null,
            "left": null,
            "margin": null,
            "max_height": null,
            "max_width": null,
            "min_height": null,
            "min_width": null,
            "object_fit": null,
            "object_position": null,
            "order": null,
            "overflow": null,
            "overflow_x": null,
            "overflow_y": null,
            "padding": null,
            "right": null,
            "top": null,
            "visibility": null,
            "width": null
          }
        },
        "ac4a138cb956431ab84ef4d6571c5237": {
          "model_module": "@jupyter-widgets/base",
          "model_name": "LayoutModel",
          "model_module_version": "1.2.0",
          "state": {
            "_model_module": "@jupyter-widgets/base",
            "_model_module_version": "1.2.0",
            "_model_name": "LayoutModel",
            "_view_count": null,
            "_view_module": "@jupyter-widgets/base",
            "_view_module_version": "1.2.0",
            "_view_name": "LayoutView",
            "align_content": null,
            "align_items": null,
            "align_self": null,
            "border": null,
            "bottom": null,
            "display": null,
            "flex": null,
            "flex_flow": null,
            "grid_area": null,
            "grid_auto_columns": null,
            "grid_auto_flow": null,
            "grid_auto_rows": null,
            "grid_column": null,
            "grid_gap": null,
            "grid_row": null,
            "grid_template_areas": null,
            "grid_template_columns": null,
            "grid_template_rows": null,
            "height": null,
            "justify_content": null,
            "justify_items": null,
            "left": null,
            "margin": null,
            "max_height": null,
            "max_width": null,
            "min_height": null,
            "min_width": null,
            "object_fit": null,
            "object_position": null,
            "order": null,
            "overflow": null,
            "overflow_x": null,
            "overflow_y": null,
            "padding": null,
            "right": null,
            "top": null,
            "visibility": null,
            "width": null
          }
        },
        "7b60e3341d494bb0919f5a600b877bb8": {
          "model_module": "@jupyter-widgets/controls",
          "model_name": "DescriptionStyleModel",
          "model_module_version": "1.5.0",
          "state": {
            "_model_module": "@jupyter-widgets/controls",
            "_model_module_version": "1.5.0",
            "_model_name": "DescriptionStyleModel",
            "_view_count": null,
            "_view_module": "@jupyter-widgets/base",
            "_view_module_version": "1.2.0",
            "_view_name": "StyleView",
            "description_width": ""
          }
        },
        "4af5b483c73c4aa7ac5b9763f48e9371": {
          "model_module": "@jupyter-widgets/base",
          "model_name": "LayoutModel",
          "model_module_version": "1.2.0",
          "state": {
            "_model_module": "@jupyter-widgets/base",
            "_model_module_version": "1.2.0",
            "_model_name": "LayoutModel",
            "_view_count": null,
            "_view_module": "@jupyter-widgets/base",
            "_view_module_version": "1.2.0",
            "_view_name": "LayoutView",
            "align_content": null,
            "align_items": null,
            "align_self": null,
            "border": null,
            "bottom": null,
            "display": null,
            "flex": null,
            "flex_flow": null,
            "grid_area": null,
            "grid_auto_columns": null,
            "grid_auto_flow": null,
            "grid_auto_rows": null,
            "grid_column": null,
            "grid_gap": null,
            "grid_row": null,
            "grid_template_areas": null,
            "grid_template_columns": null,
            "grid_template_rows": null,
            "height": null,
            "justify_content": null,
            "justify_items": null,
            "left": null,
            "margin": null,
            "max_height": null,
            "max_width": null,
            "min_height": null,
            "min_width": null,
            "object_fit": null,
            "object_position": null,
            "order": null,
            "overflow": null,
            "overflow_x": null,
            "overflow_y": null,
            "padding": null,
            "right": null,
            "top": null,
            "visibility": null,
            "width": null
          }
        },
        "0341585205b844deb05b4d5342cd5c24": {
          "model_module": "@jupyter-widgets/controls",
          "model_name": "ProgressStyleModel",
          "model_module_version": "1.5.0",
          "state": {
            "_model_module": "@jupyter-widgets/controls",
            "_model_module_version": "1.5.0",
            "_model_name": "ProgressStyleModel",
            "_view_count": null,
            "_view_module": "@jupyter-widgets/base",
            "_view_module_version": "1.2.0",
            "_view_name": "StyleView",
            "bar_color": null,
            "description_width": ""
          }
        },
        "1928d590ca4b4285a3ca47037dffb91a": {
          "model_module": "@jupyter-widgets/base",
          "model_name": "LayoutModel",
          "model_module_version": "1.2.0",
          "state": {
            "_model_module": "@jupyter-widgets/base",
            "_model_module_version": "1.2.0",
            "_model_name": "LayoutModel",
            "_view_count": null,
            "_view_module": "@jupyter-widgets/base",
            "_view_module_version": "1.2.0",
            "_view_name": "LayoutView",
            "align_content": null,
            "align_items": null,
            "align_self": null,
            "border": null,
            "bottom": null,
            "display": null,
            "flex": null,
            "flex_flow": null,
            "grid_area": null,
            "grid_auto_columns": null,
            "grid_auto_flow": null,
            "grid_auto_rows": null,
            "grid_column": null,
            "grid_gap": null,
            "grid_row": null,
            "grid_template_areas": null,
            "grid_template_columns": null,
            "grid_template_rows": null,
            "height": null,
            "justify_content": null,
            "justify_items": null,
            "left": null,
            "margin": null,
            "max_height": null,
            "max_width": null,
            "min_height": null,
            "min_width": null,
            "object_fit": null,
            "object_position": null,
            "order": null,
            "overflow": null,
            "overflow_x": null,
            "overflow_y": null,
            "padding": null,
            "right": null,
            "top": null,
            "visibility": null,
            "width": null
          }
        },
        "1316a5445cff431691e33d0cd0eafc2e": {
          "model_module": "@jupyter-widgets/controls",
          "model_name": "DescriptionStyleModel",
          "model_module_version": "1.5.0",
          "state": {
            "_model_module": "@jupyter-widgets/controls",
            "_model_module_version": "1.5.0",
            "_model_name": "DescriptionStyleModel",
            "_view_count": null,
            "_view_module": "@jupyter-widgets/base",
            "_view_module_version": "1.2.0",
            "_view_name": "StyleView",
            "description_width": ""
          }
        },
        "a6f813519a944361853a9ab2c49cbd68": {
          "model_module": "@jupyter-widgets/controls",
          "model_name": "HBoxModel",
          "model_module_version": "1.5.0",
          "state": {
            "_dom_classes": [],
            "_model_module": "@jupyter-widgets/controls",
            "_model_module_version": "1.5.0",
            "_model_name": "HBoxModel",
            "_view_count": null,
            "_view_module": "@jupyter-widgets/controls",
            "_view_module_version": "1.5.0",
            "_view_name": "HBoxView",
            "box_style": "",
            "children": [
              "IPY_MODEL_4987a36d032b4a1da5d9efd6dc7a8539",
              "IPY_MODEL_8a5afa1e41c64e23b336f983f7e36e78",
              "IPY_MODEL_f106748f9233458bb35422b054e042fd"
            ],
            "layout": "IPY_MODEL_fb8c36c22a594a489955d13c7802cf93"
          }
        },
        "4987a36d032b4a1da5d9efd6dc7a8539": {
          "model_module": "@jupyter-widgets/controls",
          "model_name": "HTMLModel",
          "model_module_version": "1.5.0",
          "state": {
            "_dom_classes": [],
            "_model_module": "@jupyter-widgets/controls",
            "_model_module_version": "1.5.0",
            "_model_name": "HTMLModel",
            "_view_count": null,
            "_view_module": "@jupyter-widgets/controls",
            "_view_module_version": "1.5.0",
            "_view_name": "HTMLView",
            "description": "",
            "description_tooltip": null,
            "layout": "IPY_MODEL_63ec9b79276646698d1dd6713988557b",
            "placeholder": "​",
            "style": "IPY_MODEL_4437300a4fd14df69a8de84f958e46a0",
            "value": "Epoch 2/5: 100%"
          }
        },
        "8a5afa1e41c64e23b336f983f7e36e78": {
          "model_module": "@jupyter-widgets/controls",
          "model_name": "FloatProgressModel",
          "model_module_version": "1.5.0",
          "state": {
            "_dom_classes": [],
            "_model_module": "@jupyter-widgets/controls",
            "_model_module_version": "1.5.0",
            "_model_name": "FloatProgressModel",
            "_view_count": null,
            "_view_module": "@jupyter-widgets/controls",
            "_view_module_version": "1.5.0",
            "_view_name": "ProgressView",
            "bar_style": "success",
            "description": "",
            "description_tooltip": null,
            "layout": "IPY_MODEL_04f49a2268324d1abbfd4259c7012bd4",
            "max": 1718,
            "min": 0,
            "orientation": "horizontal",
            "style": "IPY_MODEL_8eccab1254fb433eae4fc5902afe723c",
            "value": 1718
          }
        },
        "f106748f9233458bb35422b054e042fd": {
          "model_module": "@jupyter-widgets/controls",
          "model_name": "HTMLModel",
          "model_module_version": "1.5.0",
          "state": {
            "_dom_classes": [],
            "_model_module": "@jupyter-widgets/controls",
            "_model_module_version": "1.5.0",
            "_model_name": "HTMLModel",
            "_view_count": null,
            "_view_module": "@jupyter-widgets/controls",
            "_view_module_version": "1.5.0",
            "_view_name": "HTMLView",
            "description": "",
            "description_tooltip": null,
            "layout": "IPY_MODEL_9c8fa90f57fd47fea4df22b467a209a3",
            "placeholder": "​",
            "style": "IPY_MODEL_8e0d4ac6b56745bca5443fac3f16bfca",
            "value": " 1718/1718 [00:29&lt;00:00, 60.71it/s, loss=0.408, sparse_categorical_accuracy=0.854]"
          }
        },
        "fb8c36c22a594a489955d13c7802cf93": {
          "model_module": "@jupyter-widgets/base",
          "model_name": "LayoutModel",
          "model_module_version": "1.2.0",
          "state": {
            "_model_module": "@jupyter-widgets/base",
            "_model_module_version": "1.2.0",
            "_model_name": "LayoutModel",
            "_view_count": null,
            "_view_module": "@jupyter-widgets/base",
            "_view_module_version": "1.2.0",
            "_view_name": "LayoutView",
            "align_content": null,
            "align_items": null,
            "align_self": null,
            "border": null,
            "bottom": null,
            "display": null,
            "flex": null,
            "flex_flow": null,
            "grid_area": null,
            "grid_auto_columns": null,
            "grid_auto_flow": null,
            "grid_auto_rows": null,
            "grid_column": null,
            "grid_gap": null,
            "grid_row": null,
            "grid_template_areas": null,
            "grid_template_columns": null,
            "grid_template_rows": null,
            "height": null,
            "justify_content": null,
            "justify_items": null,
            "left": null,
            "margin": null,
            "max_height": null,
            "max_width": null,
            "min_height": null,
            "min_width": null,
            "object_fit": null,
            "object_position": null,
            "order": null,
            "overflow": null,
            "overflow_x": null,
            "overflow_y": null,
            "padding": null,
            "right": null,
            "top": null,
            "visibility": null,
            "width": null
          }
        },
        "63ec9b79276646698d1dd6713988557b": {
          "model_module": "@jupyter-widgets/base",
          "model_name": "LayoutModel",
          "model_module_version": "1.2.0",
          "state": {
            "_model_module": "@jupyter-widgets/base",
            "_model_module_version": "1.2.0",
            "_model_name": "LayoutModel",
            "_view_count": null,
            "_view_module": "@jupyter-widgets/base",
            "_view_module_version": "1.2.0",
            "_view_name": "LayoutView",
            "align_content": null,
            "align_items": null,
            "align_self": null,
            "border": null,
            "bottom": null,
            "display": null,
            "flex": null,
            "flex_flow": null,
            "grid_area": null,
            "grid_auto_columns": null,
            "grid_auto_flow": null,
            "grid_auto_rows": null,
            "grid_column": null,
            "grid_gap": null,
            "grid_row": null,
            "grid_template_areas": null,
            "grid_template_columns": null,
            "grid_template_rows": null,
            "height": null,
            "justify_content": null,
            "justify_items": null,
            "left": null,
            "margin": null,
            "max_height": null,
            "max_width": null,
            "min_height": null,
            "min_width": null,
            "object_fit": null,
            "object_position": null,
            "order": null,
            "overflow": null,
            "overflow_x": null,
            "overflow_y": null,
            "padding": null,
            "right": null,
            "top": null,
            "visibility": null,
            "width": null
          }
        },
        "4437300a4fd14df69a8de84f958e46a0": {
          "model_module": "@jupyter-widgets/controls",
          "model_name": "DescriptionStyleModel",
          "model_module_version": "1.5.0",
          "state": {
            "_model_module": "@jupyter-widgets/controls",
            "_model_module_version": "1.5.0",
            "_model_name": "DescriptionStyleModel",
            "_view_count": null,
            "_view_module": "@jupyter-widgets/base",
            "_view_module_version": "1.2.0",
            "_view_name": "StyleView",
            "description_width": ""
          }
        },
        "04f49a2268324d1abbfd4259c7012bd4": {
          "model_module": "@jupyter-widgets/base",
          "model_name": "LayoutModel",
          "model_module_version": "1.2.0",
          "state": {
            "_model_module": "@jupyter-widgets/base",
            "_model_module_version": "1.2.0",
            "_model_name": "LayoutModel",
            "_view_count": null,
            "_view_module": "@jupyter-widgets/base",
            "_view_module_version": "1.2.0",
            "_view_name": "LayoutView",
            "align_content": null,
            "align_items": null,
            "align_self": null,
            "border": null,
            "bottom": null,
            "display": null,
            "flex": null,
            "flex_flow": null,
            "grid_area": null,
            "grid_auto_columns": null,
            "grid_auto_flow": null,
            "grid_auto_rows": null,
            "grid_column": null,
            "grid_gap": null,
            "grid_row": null,
            "grid_template_areas": null,
            "grid_template_columns": null,
            "grid_template_rows": null,
            "height": null,
            "justify_content": null,
            "justify_items": null,
            "left": null,
            "margin": null,
            "max_height": null,
            "max_width": null,
            "min_height": null,
            "min_width": null,
            "object_fit": null,
            "object_position": null,
            "order": null,
            "overflow": null,
            "overflow_x": null,
            "overflow_y": null,
            "padding": null,
            "right": null,
            "top": null,
            "visibility": null,
            "width": null
          }
        },
        "8eccab1254fb433eae4fc5902afe723c": {
          "model_module": "@jupyter-widgets/controls",
          "model_name": "ProgressStyleModel",
          "model_module_version": "1.5.0",
          "state": {
            "_model_module": "@jupyter-widgets/controls",
            "_model_module_version": "1.5.0",
            "_model_name": "ProgressStyleModel",
            "_view_count": null,
            "_view_module": "@jupyter-widgets/base",
            "_view_module_version": "1.2.0",
            "_view_name": "StyleView",
            "bar_color": null,
            "description_width": ""
          }
        },
        "9c8fa90f57fd47fea4df22b467a209a3": {
          "model_module": "@jupyter-widgets/base",
          "model_name": "LayoutModel",
          "model_module_version": "1.2.0",
          "state": {
            "_model_module": "@jupyter-widgets/base",
            "_model_module_version": "1.2.0",
            "_model_name": "LayoutModel",
            "_view_count": null,
            "_view_module": "@jupyter-widgets/base",
            "_view_module_version": "1.2.0",
            "_view_name": "LayoutView",
            "align_content": null,
            "align_items": null,
            "align_self": null,
            "border": null,
            "bottom": null,
            "display": null,
            "flex": null,
            "flex_flow": null,
            "grid_area": null,
            "grid_auto_columns": null,
            "grid_auto_flow": null,
            "grid_auto_rows": null,
            "grid_column": null,
            "grid_gap": null,
            "grid_row": null,
            "grid_template_areas": null,
            "grid_template_columns": null,
            "grid_template_rows": null,
            "height": null,
            "justify_content": null,
            "justify_items": null,
            "left": null,
            "margin": null,
            "max_height": null,
            "max_width": null,
            "min_height": null,
            "min_width": null,
            "object_fit": null,
            "object_position": null,
            "order": null,
            "overflow": null,
            "overflow_x": null,
            "overflow_y": null,
            "padding": null,
            "right": null,
            "top": null,
            "visibility": null,
            "width": null
          }
        },
        "8e0d4ac6b56745bca5443fac3f16bfca": {
          "model_module": "@jupyter-widgets/controls",
          "model_name": "DescriptionStyleModel",
          "model_module_version": "1.5.0",
          "state": {
            "_model_module": "@jupyter-widgets/controls",
            "_model_module_version": "1.5.0",
            "_model_name": "DescriptionStyleModel",
            "_view_count": null,
            "_view_module": "@jupyter-widgets/base",
            "_view_module_version": "1.2.0",
            "_view_name": "StyleView",
            "description_width": ""
          }
        },
        "033c5ff056a948ed8d41c0dbf37cc1ff": {
          "model_module": "@jupyter-widgets/controls",
          "model_name": "HBoxModel",
          "model_module_version": "1.5.0",
          "state": {
            "_dom_classes": [],
            "_model_module": "@jupyter-widgets/controls",
            "_model_module_version": "1.5.0",
            "_model_name": "HBoxModel",
            "_view_count": null,
            "_view_module": "@jupyter-widgets/controls",
            "_view_module_version": "1.5.0",
            "_view_name": "HBoxView",
            "box_style": "",
            "children": [
              "IPY_MODEL_f8e728b26a2640e1bc4f3e9fc7afce1e",
              "IPY_MODEL_6a47e64f27834f898378f5ff4df6898b",
              "IPY_MODEL_37ac69f8054d4b778426ff3e4c0fff71"
            ],
            "layout": "IPY_MODEL_39bfbe1184554c6f8b12981a0894d2a1"
          }
        },
        "f8e728b26a2640e1bc4f3e9fc7afce1e": {
          "model_module": "@jupyter-widgets/controls",
          "model_name": "HTMLModel",
          "model_module_version": "1.5.0",
          "state": {
            "_dom_classes": [],
            "_model_module": "@jupyter-widgets/controls",
            "_model_module_version": "1.5.0",
            "_model_name": "HTMLModel",
            "_view_count": null,
            "_view_module": "@jupyter-widgets/controls",
            "_view_module_version": "1.5.0",
            "_view_name": "HTMLView",
            "description": "",
            "description_tooltip": null,
            "layout": "IPY_MODEL_37c59d9d066d47d2be14c0c0ea494239",
            "placeholder": "​",
            "style": "IPY_MODEL_fdf0cdbf36ba473f93ca966a4f8d426e",
            "value": "Epoch 3/5: 100%"
          }
        },
        "6a47e64f27834f898378f5ff4df6898b": {
          "model_module": "@jupyter-widgets/controls",
          "model_name": "FloatProgressModel",
          "model_module_version": "1.5.0",
          "state": {
            "_dom_classes": [],
            "_model_module": "@jupyter-widgets/controls",
            "_model_module_version": "1.5.0",
            "_model_name": "FloatProgressModel",
            "_view_count": null,
            "_view_module": "@jupyter-widgets/controls",
            "_view_module_version": "1.5.0",
            "_view_name": "ProgressView",
            "bar_style": "success",
            "description": "",
            "description_tooltip": null,
            "layout": "IPY_MODEL_58d30d3f50ee4581a8efb7b30d745aee",
            "max": 1718,
            "min": 0,
            "orientation": "horizontal",
            "style": "IPY_MODEL_f53ae743e07a4bd9adde711c8a858b41",
            "value": 1718
          }
        },
        "37ac69f8054d4b778426ff3e4c0fff71": {
          "model_module": "@jupyter-widgets/controls",
          "model_name": "HTMLModel",
          "model_module_version": "1.5.0",
          "state": {
            "_dom_classes": [],
            "_model_module": "@jupyter-widgets/controls",
            "_model_module_version": "1.5.0",
            "_model_name": "HTMLModel",
            "_view_count": null,
            "_view_module": "@jupyter-widgets/controls",
            "_view_module_version": "1.5.0",
            "_view_name": "HTMLView",
            "description": "",
            "description_tooltip": null,
            "layout": "IPY_MODEL_07b3d73f3b614354b23490c848787d5e",
            "placeholder": "​",
            "style": "IPY_MODEL_17d1c0309f634f72a3fca4ae0a50637e",
            "value": " 1718/1718 [00:29&lt;00:00, 60.45it/s, loss=0.374, sparse_categorical_accuracy=0.865]"
          }
        },
        "39bfbe1184554c6f8b12981a0894d2a1": {
          "model_module": "@jupyter-widgets/base",
          "model_name": "LayoutModel",
          "model_module_version": "1.2.0",
          "state": {
            "_model_module": "@jupyter-widgets/base",
            "_model_module_version": "1.2.0",
            "_model_name": "LayoutModel",
            "_view_count": null,
            "_view_module": "@jupyter-widgets/base",
            "_view_module_version": "1.2.0",
            "_view_name": "LayoutView",
            "align_content": null,
            "align_items": null,
            "align_self": null,
            "border": null,
            "bottom": null,
            "display": null,
            "flex": null,
            "flex_flow": null,
            "grid_area": null,
            "grid_auto_columns": null,
            "grid_auto_flow": null,
            "grid_auto_rows": null,
            "grid_column": null,
            "grid_gap": null,
            "grid_row": null,
            "grid_template_areas": null,
            "grid_template_columns": null,
            "grid_template_rows": null,
            "height": null,
            "justify_content": null,
            "justify_items": null,
            "left": null,
            "margin": null,
            "max_height": null,
            "max_width": null,
            "min_height": null,
            "min_width": null,
            "object_fit": null,
            "object_position": null,
            "order": null,
            "overflow": null,
            "overflow_x": null,
            "overflow_y": null,
            "padding": null,
            "right": null,
            "top": null,
            "visibility": null,
            "width": null
          }
        },
        "37c59d9d066d47d2be14c0c0ea494239": {
          "model_module": "@jupyter-widgets/base",
          "model_name": "LayoutModel",
          "model_module_version": "1.2.0",
          "state": {
            "_model_module": "@jupyter-widgets/base",
            "_model_module_version": "1.2.0",
            "_model_name": "LayoutModel",
            "_view_count": null,
            "_view_module": "@jupyter-widgets/base",
            "_view_module_version": "1.2.0",
            "_view_name": "LayoutView",
            "align_content": null,
            "align_items": null,
            "align_self": null,
            "border": null,
            "bottom": null,
            "display": null,
            "flex": null,
            "flex_flow": null,
            "grid_area": null,
            "grid_auto_columns": null,
            "grid_auto_flow": null,
            "grid_auto_rows": null,
            "grid_column": null,
            "grid_gap": null,
            "grid_row": null,
            "grid_template_areas": null,
            "grid_template_columns": null,
            "grid_template_rows": null,
            "height": null,
            "justify_content": null,
            "justify_items": null,
            "left": null,
            "margin": null,
            "max_height": null,
            "max_width": null,
            "min_height": null,
            "min_width": null,
            "object_fit": null,
            "object_position": null,
            "order": null,
            "overflow": null,
            "overflow_x": null,
            "overflow_y": null,
            "padding": null,
            "right": null,
            "top": null,
            "visibility": null,
            "width": null
          }
        },
        "fdf0cdbf36ba473f93ca966a4f8d426e": {
          "model_module": "@jupyter-widgets/controls",
          "model_name": "DescriptionStyleModel",
          "model_module_version": "1.5.0",
          "state": {
            "_model_module": "@jupyter-widgets/controls",
            "_model_module_version": "1.5.0",
            "_model_name": "DescriptionStyleModel",
            "_view_count": null,
            "_view_module": "@jupyter-widgets/base",
            "_view_module_version": "1.2.0",
            "_view_name": "StyleView",
            "description_width": ""
          }
        },
        "58d30d3f50ee4581a8efb7b30d745aee": {
          "model_module": "@jupyter-widgets/base",
          "model_name": "LayoutModel",
          "model_module_version": "1.2.0",
          "state": {
            "_model_module": "@jupyter-widgets/base",
            "_model_module_version": "1.2.0",
            "_model_name": "LayoutModel",
            "_view_count": null,
            "_view_module": "@jupyter-widgets/base",
            "_view_module_version": "1.2.0",
            "_view_name": "LayoutView",
            "align_content": null,
            "align_items": null,
            "align_self": null,
            "border": null,
            "bottom": null,
            "display": null,
            "flex": null,
            "flex_flow": null,
            "grid_area": null,
            "grid_auto_columns": null,
            "grid_auto_flow": null,
            "grid_auto_rows": null,
            "grid_column": null,
            "grid_gap": null,
            "grid_row": null,
            "grid_template_areas": null,
            "grid_template_columns": null,
            "grid_template_rows": null,
            "height": null,
            "justify_content": null,
            "justify_items": null,
            "left": null,
            "margin": null,
            "max_height": null,
            "max_width": null,
            "min_height": null,
            "min_width": null,
            "object_fit": null,
            "object_position": null,
            "order": null,
            "overflow": null,
            "overflow_x": null,
            "overflow_y": null,
            "padding": null,
            "right": null,
            "top": null,
            "visibility": null,
            "width": null
          }
        },
        "f53ae743e07a4bd9adde711c8a858b41": {
          "model_module": "@jupyter-widgets/controls",
          "model_name": "ProgressStyleModel",
          "model_module_version": "1.5.0",
          "state": {
            "_model_module": "@jupyter-widgets/controls",
            "_model_module_version": "1.5.0",
            "_model_name": "ProgressStyleModel",
            "_view_count": null,
            "_view_module": "@jupyter-widgets/base",
            "_view_module_version": "1.2.0",
            "_view_name": "StyleView",
            "bar_color": null,
            "description_width": ""
          }
        },
        "07b3d73f3b614354b23490c848787d5e": {
          "model_module": "@jupyter-widgets/base",
          "model_name": "LayoutModel",
          "model_module_version": "1.2.0",
          "state": {
            "_model_module": "@jupyter-widgets/base",
            "_model_module_version": "1.2.0",
            "_model_name": "LayoutModel",
            "_view_count": null,
            "_view_module": "@jupyter-widgets/base",
            "_view_module_version": "1.2.0",
            "_view_name": "LayoutView",
            "align_content": null,
            "align_items": null,
            "align_self": null,
            "border": null,
            "bottom": null,
            "display": null,
            "flex": null,
            "flex_flow": null,
            "grid_area": null,
            "grid_auto_columns": null,
            "grid_auto_flow": null,
            "grid_auto_rows": null,
            "grid_column": null,
            "grid_gap": null,
            "grid_row": null,
            "grid_template_areas": null,
            "grid_template_columns": null,
            "grid_template_rows": null,
            "height": null,
            "justify_content": null,
            "justify_items": null,
            "left": null,
            "margin": null,
            "max_height": null,
            "max_width": null,
            "min_height": null,
            "min_width": null,
            "object_fit": null,
            "object_position": null,
            "order": null,
            "overflow": null,
            "overflow_x": null,
            "overflow_y": null,
            "padding": null,
            "right": null,
            "top": null,
            "visibility": null,
            "width": null
          }
        },
        "17d1c0309f634f72a3fca4ae0a50637e": {
          "model_module": "@jupyter-widgets/controls",
          "model_name": "DescriptionStyleModel",
          "model_module_version": "1.5.0",
          "state": {
            "_model_module": "@jupyter-widgets/controls",
            "_model_module_version": "1.5.0",
            "_model_name": "DescriptionStyleModel",
            "_view_count": null,
            "_view_module": "@jupyter-widgets/base",
            "_view_module_version": "1.2.0",
            "_view_name": "StyleView",
            "description_width": ""
          }
        },
        "333a384f5910469182b851f42e616a82": {
          "model_module": "@jupyter-widgets/controls",
          "model_name": "HBoxModel",
          "model_module_version": "1.5.0",
          "state": {
            "_dom_classes": [],
            "_model_module": "@jupyter-widgets/controls",
            "_model_module_version": "1.5.0",
            "_model_name": "HBoxModel",
            "_view_count": null,
            "_view_module": "@jupyter-widgets/controls",
            "_view_module_version": "1.5.0",
            "_view_name": "HBoxView",
            "box_style": "",
            "children": [
              "IPY_MODEL_1a1032feb6e44722a26e43d66030b471",
              "IPY_MODEL_b47399d95f7e4b5480501b9b8cd4155f",
              "IPY_MODEL_8ab3f08b0adc4489a5abf39f2742021b"
            ],
            "layout": "IPY_MODEL_fea40baf05e74a198103af7f4fadb844"
          }
        },
        "1a1032feb6e44722a26e43d66030b471": {
          "model_module": "@jupyter-widgets/controls",
          "model_name": "HTMLModel",
          "model_module_version": "1.5.0",
          "state": {
            "_dom_classes": [],
            "_model_module": "@jupyter-widgets/controls",
            "_model_module_version": "1.5.0",
            "_model_name": "HTMLModel",
            "_view_count": null,
            "_view_module": "@jupyter-widgets/controls",
            "_view_module_version": "1.5.0",
            "_view_name": "HTMLView",
            "description": "",
            "description_tooltip": null,
            "layout": "IPY_MODEL_2409976021214aed846f961d748acd21",
            "placeholder": "​",
            "style": "IPY_MODEL_0df587a01428411c9911862142b66172",
            "value": "Epoch 4/5: 100%"
          }
        },
        "b47399d95f7e4b5480501b9b8cd4155f": {
          "model_module": "@jupyter-widgets/controls",
          "model_name": "FloatProgressModel",
          "model_module_version": "1.5.0",
          "state": {
            "_dom_classes": [],
            "_model_module": "@jupyter-widgets/controls",
            "_model_module_version": "1.5.0",
            "_model_name": "FloatProgressModel",
            "_view_count": null,
            "_view_module": "@jupyter-widgets/controls",
            "_view_module_version": "1.5.0",
            "_view_name": "ProgressView",
            "bar_style": "success",
            "description": "",
            "description_tooltip": null,
            "layout": "IPY_MODEL_5770fcb5bf904cd8bc31ce4419b7f8c7",
            "max": 1718,
            "min": 0,
            "orientation": "horizontal",
            "style": "IPY_MODEL_cb5a985c949c4a54ab967942e8634347",
            "value": 1718
          }
        },
        "8ab3f08b0adc4489a5abf39f2742021b": {
          "model_module": "@jupyter-widgets/controls",
          "model_name": "HTMLModel",
          "model_module_version": "1.5.0",
          "state": {
            "_dom_classes": [],
            "_model_module": "@jupyter-widgets/controls",
            "_model_module_version": "1.5.0",
            "_model_name": "HTMLModel",
            "_view_count": null,
            "_view_module": "@jupyter-widgets/controls",
            "_view_module_version": "1.5.0",
            "_view_name": "HTMLView",
            "description": "",
            "description_tooltip": null,
            "layout": "IPY_MODEL_4e08ccc188714aafbf554ee4163a51ec",
            "placeholder": "​",
            "style": "IPY_MODEL_dd64a9ac587d4fc3982ac646e3aef458",
            "value": " 1718/1718 [00:29&lt;00:00, 60.38it/s, loss=0.369, sparse_categorical_accuracy=0.868]"
          }
        },
        "fea40baf05e74a198103af7f4fadb844": {
          "model_module": "@jupyter-widgets/base",
          "model_name": "LayoutModel",
          "model_module_version": "1.2.0",
          "state": {
            "_model_module": "@jupyter-widgets/base",
            "_model_module_version": "1.2.0",
            "_model_name": "LayoutModel",
            "_view_count": null,
            "_view_module": "@jupyter-widgets/base",
            "_view_module_version": "1.2.0",
            "_view_name": "LayoutView",
            "align_content": null,
            "align_items": null,
            "align_self": null,
            "border": null,
            "bottom": null,
            "display": null,
            "flex": null,
            "flex_flow": null,
            "grid_area": null,
            "grid_auto_columns": null,
            "grid_auto_flow": null,
            "grid_auto_rows": null,
            "grid_column": null,
            "grid_gap": null,
            "grid_row": null,
            "grid_template_areas": null,
            "grid_template_columns": null,
            "grid_template_rows": null,
            "height": null,
            "justify_content": null,
            "justify_items": null,
            "left": null,
            "margin": null,
            "max_height": null,
            "max_width": null,
            "min_height": null,
            "min_width": null,
            "object_fit": null,
            "object_position": null,
            "order": null,
            "overflow": null,
            "overflow_x": null,
            "overflow_y": null,
            "padding": null,
            "right": null,
            "top": null,
            "visibility": null,
            "width": null
          }
        },
        "2409976021214aed846f961d748acd21": {
          "model_module": "@jupyter-widgets/base",
          "model_name": "LayoutModel",
          "model_module_version": "1.2.0",
          "state": {
            "_model_module": "@jupyter-widgets/base",
            "_model_module_version": "1.2.0",
            "_model_name": "LayoutModel",
            "_view_count": null,
            "_view_module": "@jupyter-widgets/base",
            "_view_module_version": "1.2.0",
            "_view_name": "LayoutView",
            "align_content": null,
            "align_items": null,
            "align_self": null,
            "border": null,
            "bottom": null,
            "display": null,
            "flex": null,
            "flex_flow": null,
            "grid_area": null,
            "grid_auto_columns": null,
            "grid_auto_flow": null,
            "grid_auto_rows": null,
            "grid_column": null,
            "grid_gap": null,
            "grid_row": null,
            "grid_template_areas": null,
            "grid_template_columns": null,
            "grid_template_rows": null,
            "height": null,
            "justify_content": null,
            "justify_items": null,
            "left": null,
            "margin": null,
            "max_height": null,
            "max_width": null,
            "min_height": null,
            "min_width": null,
            "object_fit": null,
            "object_position": null,
            "order": null,
            "overflow": null,
            "overflow_x": null,
            "overflow_y": null,
            "padding": null,
            "right": null,
            "top": null,
            "visibility": null,
            "width": null
          }
        },
        "0df587a01428411c9911862142b66172": {
          "model_module": "@jupyter-widgets/controls",
          "model_name": "DescriptionStyleModel",
          "model_module_version": "1.5.0",
          "state": {
            "_model_module": "@jupyter-widgets/controls",
            "_model_module_version": "1.5.0",
            "_model_name": "DescriptionStyleModel",
            "_view_count": null,
            "_view_module": "@jupyter-widgets/base",
            "_view_module_version": "1.2.0",
            "_view_name": "StyleView",
            "description_width": ""
          }
        },
        "5770fcb5bf904cd8bc31ce4419b7f8c7": {
          "model_module": "@jupyter-widgets/base",
          "model_name": "LayoutModel",
          "model_module_version": "1.2.0",
          "state": {
            "_model_module": "@jupyter-widgets/base",
            "_model_module_version": "1.2.0",
            "_model_name": "LayoutModel",
            "_view_count": null,
            "_view_module": "@jupyter-widgets/base",
            "_view_module_version": "1.2.0",
            "_view_name": "LayoutView",
            "align_content": null,
            "align_items": null,
            "align_self": null,
            "border": null,
            "bottom": null,
            "display": null,
            "flex": null,
            "flex_flow": null,
            "grid_area": null,
            "grid_auto_columns": null,
            "grid_auto_flow": null,
            "grid_auto_rows": null,
            "grid_column": null,
            "grid_gap": null,
            "grid_row": null,
            "grid_template_areas": null,
            "grid_template_columns": null,
            "grid_template_rows": null,
            "height": null,
            "justify_content": null,
            "justify_items": null,
            "left": null,
            "margin": null,
            "max_height": null,
            "max_width": null,
            "min_height": null,
            "min_width": null,
            "object_fit": null,
            "object_position": null,
            "order": null,
            "overflow": null,
            "overflow_x": null,
            "overflow_y": null,
            "padding": null,
            "right": null,
            "top": null,
            "visibility": null,
            "width": null
          }
        },
        "cb5a985c949c4a54ab967942e8634347": {
          "model_module": "@jupyter-widgets/controls",
          "model_name": "ProgressStyleModel",
          "model_module_version": "1.5.0",
          "state": {
            "_model_module": "@jupyter-widgets/controls",
            "_model_module_version": "1.5.0",
            "_model_name": "ProgressStyleModel",
            "_view_count": null,
            "_view_module": "@jupyter-widgets/base",
            "_view_module_version": "1.2.0",
            "_view_name": "StyleView",
            "bar_color": null,
            "description_width": ""
          }
        },
        "4e08ccc188714aafbf554ee4163a51ec": {
          "model_module": "@jupyter-widgets/base",
          "model_name": "LayoutModel",
          "model_module_version": "1.2.0",
          "state": {
            "_model_module": "@jupyter-widgets/base",
            "_model_module_version": "1.2.0",
            "_model_name": "LayoutModel",
            "_view_count": null,
            "_view_module": "@jupyter-widgets/base",
            "_view_module_version": "1.2.0",
            "_view_name": "LayoutView",
            "align_content": null,
            "align_items": null,
            "align_self": null,
            "border": null,
            "bottom": null,
            "display": null,
            "flex": null,
            "flex_flow": null,
            "grid_area": null,
            "grid_auto_columns": null,
            "grid_auto_flow": null,
            "grid_auto_rows": null,
            "grid_column": null,
            "grid_gap": null,
            "grid_row": null,
            "grid_template_areas": null,
            "grid_template_columns": null,
            "grid_template_rows": null,
            "height": null,
            "justify_content": null,
            "justify_items": null,
            "left": null,
            "margin": null,
            "max_height": null,
            "max_width": null,
            "min_height": null,
            "min_width": null,
            "object_fit": null,
            "object_position": null,
            "order": null,
            "overflow": null,
            "overflow_x": null,
            "overflow_y": null,
            "padding": null,
            "right": null,
            "top": null,
            "visibility": null,
            "width": null
          }
        },
        "dd64a9ac587d4fc3982ac646e3aef458": {
          "model_module": "@jupyter-widgets/controls",
          "model_name": "DescriptionStyleModel",
          "model_module_version": "1.5.0",
          "state": {
            "_model_module": "@jupyter-widgets/controls",
            "_model_module_version": "1.5.0",
            "_model_name": "DescriptionStyleModel",
            "_view_count": null,
            "_view_module": "@jupyter-widgets/base",
            "_view_module_version": "1.2.0",
            "_view_name": "StyleView",
            "description_width": ""
          }
        },
        "5ca3eb9872554fb6be3b3a474e7829ad": {
          "model_module": "@jupyter-widgets/controls",
          "model_name": "HBoxModel",
          "model_module_version": "1.5.0",
          "state": {
            "_dom_classes": [],
            "_model_module": "@jupyter-widgets/controls",
            "_model_module_version": "1.5.0",
            "_model_name": "HBoxModel",
            "_view_count": null,
            "_view_module": "@jupyter-widgets/controls",
            "_view_module_version": "1.5.0",
            "_view_name": "HBoxView",
            "box_style": "",
            "children": [
              "IPY_MODEL_733439316763405c95bc686f60e6d9b0",
              "IPY_MODEL_3c50f79c92ae4e419da6d735d9a1719f",
              "IPY_MODEL_133e472504d04f7ba849ca9eb66b16d5"
            ],
            "layout": "IPY_MODEL_e2e239a440604328a3e40e92d9720978"
          }
        },
        "733439316763405c95bc686f60e6d9b0": {
          "model_module": "@jupyter-widgets/controls",
          "model_name": "HTMLModel",
          "model_module_version": "1.5.0",
          "state": {
            "_dom_classes": [],
            "_model_module": "@jupyter-widgets/controls",
            "_model_module_version": "1.5.0",
            "_model_name": "HTMLModel",
            "_view_count": null,
            "_view_module": "@jupyter-widgets/controls",
            "_view_module_version": "1.5.0",
            "_view_name": "HTMLView",
            "description": "",
            "description_tooltip": null,
            "layout": "IPY_MODEL_c79bb565e96e46f1bd840ac892e2ba9c",
            "placeholder": "​",
            "style": "IPY_MODEL_640a677e5f6547ecb46ccf3191d980a8",
            "value": "Epoch 5/5: 100%"
          }
        },
        "3c50f79c92ae4e419da6d735d9a1719f": {
          "model_module": "@jupyter-widgets/controls",
          "model_name": "FloatProgressModel",
          "model_module_version": "1.5.0",
          "state": {
            "_dom_classes": [],
            "_model_module": "@jupyter-widgets/controls",
            "_model_module_version": "1.5.0",
            "_model_name": "FloatProgressModel",
            "_view_count": null,
            "_view_module": "@jupyter-widgets/controls",
            "_view_module_version": "1.5.0",
            "_view_name": "ProgressView",
            "bar_style": "success",
            "description": "",
            "description_tooltip": null,
            "layout": "IPY_MODEL_ff130ee374fd490caf953787a9a07b4e",
            "max": 1718,
            "min": 0,
            "orientation": "horizontal",
            "style": "IPY_MODEL_f00cea3ba16049a9bbdcf38e85a2d9c4",
            "value": 1718
          }
        },
        "133e472504d04f7ba849ca9eb66b16d5": {
          "model_module": "@jupyter-widgets/controls",
          "model_name": "HTMLModel",
          "model_module_version": "1.5.0",
          "state": {
            "_dom_classes": [],
            "_model_module": "@jupyter-widgets/controls",
            "_model_module_version": "1.5.0",
            "_model_name": "HTMLModel",
            "_view_count": null,
            "_view_module": "@jupyter-widgets/controls",
            "_view_module_version": "1.5.0",
            "_view_name": "HTMLView",
            "description": "",
            "description_tooltip": null,
            "layout": "IPY_MODEL_aafc7cd1b8d24f858cb0c949eddb1ce5",
            "placeholder": "​",
            "style": "IPY_MODEL_50714305393448638caba474010cd845",
            "value": " 1718/1718 [00:29&lt;00:00, 60.93it/s, loss=0.361, sparse_categorical_accuracy=0.869]"
          }
        },
        "e2e239a440604328a3e40e92d9720978": {
          "model_module": "@jupyter-widgets/base",
          "model_name": "LayoutModel",
          "model_module_version": "1.2.0",
          "state": {
            "_model_module": "@jupyter-widgets/base",
            "_model_module_version": "1.2.0",
            "_model_name": "LayoutModel",
            "_view_count": null,
            "_view_module": "@jupyter-widgets/base",
            "_view_module_version": "1.2.0",
            "_view_name": "LayoutView",
            "align_content": null,
            "align_items": null,
            "align_self": null,
            "border": null,
            "bottom": null,
            "display": null,
            "flex": null,
            "flex_flow": null,
            "grid_area": null,
            "grid_auto_columns": null,
            "grid_auto_flow": null,
            "grid_auto_rows": null,
            "grid_column": null,
            "grid_gap": null,
            "grid_row": null,
            "grid_template_areas": null,
            "grid_template_columns": null,
            "grid_template_rows": null,
            "height": null,
            "justify_content": null,
            "justify_items": null,
            "left": null,
            "margin": null,
            "max_height": null,
            "max_width": null,
            "min_height": null,
            "min_width": null,
            "object_fit": null,
            "object_position": null,
            "order": null,
            "overflow": null,
            "overflow_x": null,
            "overflow_y": null,
            "padding": null,
            "right": null,
            "top": null,
            "visibility": null,
            "width": null
          }
        },
        "c79bb565e96e46f1bd840ac892e2ba9c": {
          "model_module": "@jupyter-widgets/base",
          "model_name": "LayoutModel",
          "model_module_version": "1.2.0",
          "state": {
            "_model_module": "@jupyter-widgets/base",
            "_model_module_version": "1.2.0",
            "_model_name": "LayoutModel",
            "_view_count": null,
            "_view_module": "@jupyter-widgets/base",
            "_view_module_version": "1.2.0",
            "_view_name": "LayoutView",
            "align_content": null,
            "align_items": null,
            "align_self": null,
            "border": null,
            "bottom": null,
            "display": null,
            "flex": null,
            "flex_flow": null,
            "grid_area": null,
            "grid_auto_columns": null,
            "grid_auto_flow": null,
            "grid_auto_rows": null,
            "grid_column": null,
            "grid_gap": null,
            "grid_row": null,
            "grid_template_areas": null,
            "grid_template_columns": null,
            "grid_template_rows": null,
            "height": null,
            "justify_content": null,
            "justify_items": null,
            "left": null,
            "margin": null,
            "max_height": null,
            "max_width": null,
            "min_height": null,
            "min_width": null,
            "object_fit": null,
            "object_position": null,
            "order": null,
            "overflow": null,
            "overflow_x": null,
            "overflow_y": null,
            "padding": null,
            "right": null,
            "top": null,
            "visibility": null,
            "width": null
          }
        },
        "640a677e5f6547ecb46ccf3191d980a8": {
          "model_module": "@jupyter-widgets/controls",
          "model_name": "DescriptionStyleModel",
          "model_module_version": "1.5.0",
          "state": {
            "_model_module": "@jupyter-widgets/controls",
            "_model_module_version": "1.5.0",
            "_model_name": "DescriptionStyleModel",
            "_view_count": null,
            "_view_module": "@jupyter-widgets/base",
            "_view_module_version": "1.2.0",
            "_view_name": "StyleView",
            "description_width": ""
          }
        },
        "ff130ee374fd490caf953787a9a07b4e": {
          "model_module": "@jupyter-widgets/base",
          "model_name": "LayoutModel",
          "model_module_version": "1.2.0",
          "state": {
            "_model_module": "@jupyter-widgets/base",
            "_model_module_version": "1.2.0",
            "_model_name": "LayoutModel",
            "_view_count": null,
            "_view_module": "@jupyter-widgets/base",
            "_view_module_version": "1.2.0",
            "_view_name": "LayoutView",
            "align_content": null,
            "align_items": null,
            "align_self": null,
            "border": null,
            "bottom": null,
            "display": null,
            "flex": null,
            "flex_flow": null,
            "grid_area": null,
            "grid_auto_columns": null,
            "grid_auto_flow": null,
            "grid_auto_rows": null,
            "grid_column": null,
            "grid_gap": null,
            "grid_row": null,
            "grid_template_areas": null,
            "grid_template_columns": null,
            "grid_template_rows": null,
            "height": null,
            "justify_content": null,
            "justify_items": null,
            "left": null,
            "margin": null,
            "max_height": null,
            "max_width": null,
            "min_height": null,
            "min_width": null,
            "object_fit": null,
            "object_position": null,
            "order": null,
            "overflow": null,
            "overflow_x": null,
            "overflow_y": null,
            "padding": null,
            "right": null,
            "top": null,
            "visibility": null,
            "width": null
          }
        },
        "f00cea3ba16049a9bbdcf38e85a2d9c4": {
          "model_module": "@jupyter-widgets/controls",
          "model_name": "ProgressStyleModel",
          "model_module_version": "1.5.0",
          "state": {
            "_model_module": "@jupyter-widgets/controls",
            "_model_module_version": "1.5.0",
            "_model_name": "ProgressStyleModel",
            "_view_count": null,
            "_view_module": "@jupyter-widgets/base",
            "_view_module_version": "1.2.0",
            "_view_name": "StyleView",
            "bar_color": null,
            "description_width": ""
          }
        },
        "aafc7cd1b8d24f858cb0c949eddb1ce5": {
          "model_module": "@jupyter-widgets/base",
          "model_name": "LayoutModel",
          "model_module_version": "1.2.0",
          "state": {
            "_model_module": "@jupyter-widgets/base",
            "_model_module_version": "1.2.0",
            "_model_name": "LayoutModel",
            "_view_count": null,
            "_view_module": "@jupyter-widgets/base",
            "_view_module_version": "1.2.0",
            "_view_name": "LayoutView",
            "align_content": null,
            "align_items": null,
            "align_self": null,
            "border": null,
            "bottom": null,
            "display": null,
            "flex": null,
            "flex_flow": null,
            "grid_area": null,
            "grid_auto_columns": null,
            "grid_auto_flow": null,
            "grid_auto_rows": null,
            "grid_column": null,
            "grid_gap": null,
            "grid_row": null,
            "grid_template_areas": null,
            "grid_template_columns": null,
            "grid_template_rows": null,
            "height": null,
            "justify_content": null,
            "justify_items": null,
            "left": null,
            "margin": null,
            "max_height": null,
            "max_width": null,
            "min_height": null,
            "min_width": null,
            "object_fit": null,
            "object_position": null,
            "order": null,
            "overflow": null,
            "overflow_x": null,
            "overflow_y": null,
            "padding": null,
            "right": null,
            "top": null,
            "visibility": null,
            "width": null
          }
        },
        "50714305393448638caba474010cd845": {
          "model_module": "@jupyter-widgets/controls",
          "model_name": "DescriptionStyleModel",
          "model_module_version": "1.5.0",
          "state": {
            "_model_module": "@jupyter-widgets/controls",
            "_model_module_version": "1.5.0",
            "_model_name": "DescriptionStyleModel",
            "_view_count": null,
            "_view_module": "@jupyter-widgets/base",
            "_view_module_version": "1.2.0",
            "_view_name": "StyleView",
            "description_width": ""
          }
        },
        "7a3be928b222499c99006ee463a50d94": {
          "model_module": "@jupyter-widgets/controls",
          "model_name": "HBoxModel",
          "model_module_version": "1.5.0",
          "state": {
            "_dom_classes": [],
            "_model_module": "@jupyter-widgets/controls",
            "_model_module_version": "1.5.0",
            "_model_name": "HBoxModel",
            "_view_count": null,
            "_view_module": "@jupyter-widgets/controls",
            "_view_module_version": "1.5.0",
            "_view_name": "HBoxView",
            "box_style": "",
            "children": [
              "IPY_MODEL_a78a0cdfae294b40b96ca997be16658f",
              "IPY_MODEL_742d82f3cb1140e7b2bbde79331ac00f",
              "IPY_MODEL_76d8e74206a445ca93846dbe56934661"
            ],
            "layout": "IPY_MODEL_ca675bfd78b74f2aabaf9b451903202d"
          }
        },
        "a78a0cdfae294b40b96ca997be16658f": {
          "model_module": "@jupyter-widgets/controls",
          "model_name": "HTMLModel",
          "model_module_version": "1.5.0",
          "state": {
            "_dom_classes": [],
            "_model_module": "@jupyter-widgets/controls",
            "_model_module_version": "1.5.0",
            "_model_name": "HTMLModel",
            "_view_count": null,
            "_view_module": "@jupyter-widgets/controls",
            "_view_module_version": "1.5.0",
            "_view_name": "HTMLView",
            "description": "",
            "description_tooltip": null,
            "layout": "IPY_MODEL_f9e5d11e4d0745a3933b55465a9ce8e4",
            "placeholder": "​",
            "style": "IPY_MODEL_d5a019a2dc3e46f491c7a1a2d16bbc6b",
            "value": "All epochs: 100%"
          }
        },
        "742d82f3cb1140e7b2bbde79331ac00f": {
          "model_module": "@jupyter-widgets/controls",
          "model_name": "FloatProgressModel",
          "model_module_version": "1.5.0",
          "state": {
            "_dom_classes": [],
            "_model_module": "@jupyter-widgets/controls",
            "_model_module_version": "1.5.0",
            "_model_name": "FloatProgressModel",
            "_view_count": null,
            "_view_module": "@jupyter-widgets/controls",
            "_view_module_version": "1.5.0",
            "_view_name": "ProgressView",
            "bar_style": "success",
            "description": "",
            "description_tooltip": null,
            "layout": "IPY_MODEL_1f2a3bd115a64fe18b643993b61b4217",
            "max": 5,
            "min": 0,
            "orientation": "horizontal",
            "style": "IPY_MODEL_fcc7a3bf6a4049a7b3d536de9036fc9a",
            "value": 5
          }
        },
        "76d8e74206a445ca93846dbe56934661": {
          "model_module": "@jupyter-widgets/controls",
          "model_name": "HTMLModel",
          "model_module_version": "1.5.0",
          "state": {
            "_dom_classes": [],
            "_model_module": "@jupyter-widgets/controls",
            "_model_module_version": "1.5.0",
            "_model_name": "HTMLModel",
            "_view_count": null,
            "_view_module": "@jupyter-widgets/controls",
            "_view_module_version": "1.5.0",
            "_view_name": "HTMLView",
            "description": "",
            "description_tooltip": null,
            "layout": "IPY_MODEL_06c95a5393df4aa99f993bcdb286271b",
            "placeholder": "​",
            "style": "IPY_MODEL_10003e335f0648719c07a2e47214f816",
            "value": " 5/5 [02:22&lt;00:00, 28.54s/it]"
          }
        },
        "ca675bfd78b74f2aabaf9b451903202d": {
          "model_module": "@jupyter-widgets/base",
          "model_name": "LayoutModel",
          "model_module_version": "1.2.0",
          "state": {
            "_model_module": "@jupyter-widgets/base",
            "_model_module_version": "1.2.0",
            "_model_name": "LayoutModel",
            "_view_count": null,
            "_view_module": "@jupyter-widgets/base",
            "_view_module_version": "1.2.0",
            "_view_name": "LayoutView",
            "align_content": null,
            "align_items": null,
            "align_self": null,
            "border": null,
            "bottom": null,
            "display": null,
            "flex": null,
            "flex_flow": null,
            "grid_area": null,
            "grid_auto_columns": null,
            "grid_auto_flow": null,
            "grid_auto_rows": null,
            "grid_column": null,
            "grid_gap": null,
            "grid_row": null,
            "grid_template_areas": null,
            "grid_template_columns": null,
            "grid_template_rows": null,
            "height": null,
            "justify_content": null,
            "justify_items": null,
            "left": null,
            "margin": null,
            "max_height": null,
            "max_width": null,
            "min_height": null,
            "min_width": null,
            "object_fit": null,
            "object_position": null,
            "order": null,
            "overflow": null,
            "overflow_x": null,
            "overflow_y": null,
            "padding": null,
            "right": null,
            "top": null,
            "visibility": null,
            "width": null
          }
        },
        "f9e5d11e4d0745a3933b55465a9ce8e4": {
          "model_module": "@jupyter-widgets/base",
          "model_name": "LayoutModel",
          "model_module_version": "1.2.0",
          "state": {
            "_model_module": "@jupyter-widgets/base",
            "_model_module_version": "1.2.0",
            "_model_name": "LayoutModel",
            "_view_count": null,
            "_view_module": "@jupyter-widgets/base",
            "_view_module_version": "1.2.0",
            "_view_name": "LayoutView",
            "align_content": null,
            "align_items": null,
            "align_self": null,
            "border": null,
            "bottom": null,
            "display": null,
            "flex": null,
            "flex_flow": null,
            "grid_area": null,
            "grid_auto_columns": null,
            "grid_auto_flow": null,
            "grid_auto_rows": null,
            "grid_column": null,
            "grid_gap": null,
            "grid_row": null,
            "grid_template_areas": null,
            "grid_template_columns": null,
            "grid_template_rows": null,
            "height": null,
            "justify_content": null,
            "justify_items": null,
            "left": null,
            "margin": null,
            "max_height": null,
            "max_width": null,
            "min_height": null,
            "min_width": null,
            "object_fit": null,
            "object_position": null,
            "order": null,
            "overflow": null,
            "overflow_x": null,
            "overflow_y": null,
            "padding": null,
            "right": null,
            "top": null,
            "visibility": null,
            "width": null
          }
        },
        "d5a019a2dc3e46f491c7a1a2d16bbc6b": {
          "model_module": "@jupyter-widgets/controls",
          "model_name": "DescriptionStyleModel",
          "model_module_version": "1.5.0",
          "state": {
            "_model_module": "@jupyter-widgets/controls",
            "_model_module_version": "1.5.0",
            "_model_name": "DescriptionStyleModel",
            "_view_count": null,
            "_view_module": "@jupyter-widgets/base",
            "_view_module_version": "1.2.0",
            "_view_name": "StyleView",
            "description_width": ""
          }
        },
        "1f2a3bd115a64fe18b643993b61b4217": {
          "model_module": "@jupyter-widgets/base",
          "model_name": "LayoutModel",
          "model_module_version": "1.2.0",
          "state": {
            "_model_module": "@jupyter-widgets/base",
            "_model_module_version": "1.2.0",
            "_model_name": "LayoutModel",
            "_view_count": null,
            "_view_module": "@jupyter-widgets/base",
            "_view_module_version": "1.2.0",
            "_view_name": "LayoutView",
            "align_content": null,
            "align_items": null,
            "align_self": null,
            "border": null,
            "bottom": null,
            "display": null,
            "flex": null,
            "flex_flow": null,
            "grid_area": null,
            "grid_auto_columns": null,
            "grid_auto_flow": null,
            "grid_auto_rows": null,
            "grid_column": null,
            "grid_gap": null,
            "grid_row": null,
            "grid_template_areas": null,
            "grid_template_columns": null,
            "grid_template_rows": null,
            "height": null,
            "justify_content": null,
            "justify_items": null,
            "left": null,
            "margin": null,
            "max_height": null,
            "max_width": null,
            "min_height": null,
            "min_width": null,
            "object_fit": null,
            "object_position": null,
            "order": null,
            "overflow": null,
            "overflow_x": null,
            "overflow_y": null,
            "padding": null,
            "right": null,
            "top": null,
            "visibility": null,
            "width": null
          }
        },
        "fcc7a3bf6a4049a7b3d536de9036fc9a": {
          "model_module": "@jupyter-widgets/controls",
          "model_name": "ProgressStyleModel",
          "model_module_version": "1.5.0",
          "state": {
            "_model_module": "@jupyter-widgets/controls",
            "_model_module_version": "1.5.0",
            "_model_name": "ProgressStyleModel",
            "_view_count": null,
            "_view_module": "@jupyter-widgets/base",
            "_view_module_version": "1.2.0",
            "_view_name": "StyleView",
            "bar_color": null,
            "description_width": ""
          }
        },
        "06c95a5393df4aa99f993bcdb286271b": {
          "model_module": "@jupyter-widgets/base",
          "model_name": "LayoutModel",
          "model_module_version": "1.2.0",
          "state": {
            "_model_module": "@jupyter-widgets/base",
            "_model_module_version": "1.2.0",
            "_model_name": "LayoutModel",
            "_view_count": null,
            "_view_module": "@jupyter-widgets/base",
            "_view_module_version": "1.2.0",
            "_view_name": "LayoutView",
            "align_content": null,
            "align_items": null,
            "align_self": null,
            "border": null,
            "bottom": null,
            "display": null,
            "flex": null,
            "flex_flow": null,
            "grid_area": null,
            "grid_auto_columns": null,
            "grid_auto_flow": null,
            "grid_auto_rows": null,
            "grid_column": null,
            "grid_gap": null,
            "grid_row": null,
            "grid_template_areas": null,
            "grid_template_columns": null,
            "grid_template_rows": null,
            "height": null,
            "justify_content": null,
            "justify_items": null,
            "left": null,
            "margin": null,
            "max_height": null,
            "max_width": null,
            "min_height": null,
            "min_width": null,
            "object_fit": null,
            "object_position": null,
            "order": null,
            "overflow": null,
            "overflow_x": null,
            "overflow_y": null,
            "padding": null,
            "right": null,
            "top": null,
            "visibility": null,
            "width": null
          }
        },
        "10003e335f0648719c07a2e47214f816": {
          "model_module": "@jupyter-widgets/controls",
          "model_name": "DescriptionStyleModel",
          "model_module_version": "1.5.0",
          "state": {
            "_model_module": "@jupyter-widgets/controls",
            "_model_module_version": "1.5.0",
            "_model_name": "DescriptionStyleModel",
            "_view_count": null,
            "_view_module": "@jupyter-widgets/base",
            "_view_module_version": "1.2.0",
            "_view_name": "StyleView",
            "description_width": ""
          }
        },
        "208b01203b30451fb18133111152f87a": {
          "model_module": "@jupyter-widgets/controls",
          "model_name": "HBoxModel",
          "model_module_version": "1.5.0",
          "state": {
            "_dom_classes": [],
            "_model_module": "@jupyter-widgets/controls",
            "_model_module_version": "1.5.0",
            "_model_name": "HBoxModel",
            "_view_count": null,
            "_view_module": "@jupyter-widgets/controls",
            "_view_module_version": "1.5.0",
            "_view_name": "HBoxView",
            "box_style": "",
            "children": [
              "IPY_MODEL_e00939f5541a4686839e49be2952ec3e",
              "IPY_MODEL_813cb969851d4d48bdff0196b34dff0e",
              "IPY_MODEL_9e76d903b8474069b1a435dd2e408039"
            ],
            "layout": "IPY_MODEL_ded2a565909c4d6698aeb75310537860"
          }
        },
        "e00939f5541a4686839e49be2952ec3e": {
          "model_module": "@jupyter-widgets/controls",
          "model_name": "HTMLModel",
          "model_module_version": "1.5.0",
          "state": {
            "_dom_classes": [],
            "_model_module": "@jupyter-widgets/controls",
            "_model_module_version": "1.5.0",
            "_model_name": "HTMLModel",
            "_view_count": null,
            "_view_module": "@jupyter-widgets/controls",
            "_view_module_version": "1.5.0",
            "_view_name": "HTMLView",
            "description": "",
            "description_tooltip": null,
            "layout": "IPY_MODEL_a2bcab12ea36419f97a7aa61ca8ee6e1",
            "placeholder": "​",
            "style": "IPY_MODEL_b91112714cb4427e9d6e548f3ea270e6",
            "value": "Epoch 1/5: 100%"
          }
        },
        "813cb969851d4d48bdff0196b34dff0e": {
          "model_module": "@jupyter-widgets/controls",
          "model_name": "FloatProgressModel",
          "model_module_version": "1.5.0",
          "state": {
            "_dom_classes": [],
            "_model_module": "@jupyter-widgets/controls",
            "_model_module_version": "1.5.0",
            "_model_name": "FloatProgressModel",
            "_view_count": null,
            "_view_module": "@jupyter-widgets/controls",
            "_view_module_version": "1.5.0",
            "_view_name": "ProgressView",
            "bar_style": "success",
            "description": "",
            "description_tooltip": null,
            "layout": "IPY_MODEL_2f91563aa26049ada08b817622a75097",
            "max": 1718,
            "min": 0,
            "orientation": "horizontal",
            "style": "IPY_MODEL_afa36835c58f44f282a1618642f20a43",
            "value": 1718
          }
        },
        "9e76d903b8474069b1a435dd2e408039": {
          "model_module": "@jupyter-widgets/controls",
          "model_name": "HTMLModel",
          "model_module_version": "1.5.0",
          "state": {
            "_dom_classes": [],
            "_model_module": "@jupyter-widgets/controls",
            "_model_module_version": "1.5.0",
            "_model_name": "HTMLModel",
            "_view_count": null,
            "_view_module": "@jupyter-widgets/controls",
            "_view_module_version": "1.5.0",
            "_view_name": "HTMLView",
            "description": "",
            "description_tooltip": null,
            "layout": "IPY_MODEL_5763daea79364ec3b76e8556d3fdf93a",
            "placeholder": "​",
            "style": "IPY_MODEL_ebc9935e085c4e1c9576c21365c5bd9f",
            "value": " 1718/1718 [00:28&lt;00:00, 63.99it/s, loss=1.06, sparse_categorical_accuracy=0.679]"
          }
        },
        "ded2a565909c4d6698aeb75310537860": {
          "model_module": "@jupyter-widgets/base",
          "model_name": "LayoutModel",
          "model_module_version": "1.2.0",
          "state": {
            "_model_module": "@jupyter-widgets/base",
            "_model_module_version": "1.2.0",
            "_model_name": "LayoutModel",
            "_view_count": null,
            "_view_module": "@jupyter-widgets/base",
            "_view_module_version": "1.2.0",
            "_view_name": "LayoutView",
            "align_content": null,
            "align_items": null,
            "align_self": null,
            "border": null,
            "bottom": null,
            "display": null,
            "flex": null,
            "flex_flow": null,
            "grid_area": null,
            "grid_auto_columns": null,
            "grid_auto_flow": null,
            "grid_auto_rows": null,
            "grid_column": null,
            "grid_gap": null,
            "grid_row": null,
            "grid_template_areas": null,
            "grid_template_columns": null,
            "grid_template_rows": null,
            "height": null,
            "justify_content": null,
            "justify_items": null,
            "left": null,
            "margin": null,
            "max_height": null,
            "max_width": null,
            "min_height": null,
            "min_width": null,
            "object_fit": null,
            "object_position": null,
            "order": null,
            "overflow": null,
            "overflow_x": null,
            "overflow_y": null,
            "padding": null,
            "right": null,
            "top": null,
            "visibility": null,
            "width": null
          }
        },
        "a2bcab12ea36419f97a7aa61ca8ee6e1": {
          "model_module": "@jupyter-widgets/base",
          "model_name": "LayoutModel",
          "model_module_version": "1.2.0",
          "state": {
            "_model_module": "@jupyter-widgets/base",
            "_model_module_version": "1.2.0",
            "_model_name": "LayoutModel",
            "_view_count": null,
            "_view_module": "@jupyter-widgets/base",
            "_view_module_version": "1.2.0",
            "_view_name": "LayoutView",
            "align_content": null,
            "align_items": null,
            "align_self": null,
            "border": null,
            "bottom": null,
            "display": null,
            "flex": null,
            "flex_flow": null,
            "grid_area": null,
            "grid_auto_columns": null,
            "grid_auto_flow": null,
            "grid_auto_rows": null,
            "grid_column": null,
            "grid_gap": null,
            "grid_row": null,
            "grid_template_areas": null,
            "grid_template_columns": null,
            "grid_template_rows": null,
            "height": null,
            "justify_content": null,
            "justify_items": null,
            "left": null,
            "margin": null,
            "max_height": null,
            "max_width": null,
            "min_height": null,
            "min_width": null,
            "object_fit": null,
            "object_position": null,
            "order": null,
            "overflow": null,
            "overflow_x": null,
            "overflow_y": null,
            "padding": null,
            "right": null,
            "top": null,
            "visibility": null,
            "width": null
          }
        },
        "b91112714cb4427e9d6e548f3ea270e6": {
          "model_module": "@jupyter-widgets/controls",
          "model_name": "DescriptionStyleModel",
          "model_module_version": "1.5.0",
          "state": {
            "_model_module": "@jupyter-widgets/controls",
            "_model_module_version": "1.5.0",
            "_model_name": "DescriptionStyleModel",
            "_view_count": null,
            "_view_module": "@jupyter-widgets/base",
            "_view_module_version": "1.2.0",
            "_view_name": "StyleView",
            "description_width": ""
          }
        },
        "2f91563aa26049ada08b817622a75097": {
          "model_module": "@jupyter-widgets/base",
          "model_name": "LayoutModel",
          "model_module_version": "1.2.0",
          "state": {
            "_model_module": "@jupyter-widgets/base",
            "_model_module_version": "1.2.0",
            "_model_name": "LayoutModel",
            "_view_count": null,
            "_view_module": "@jupyter-widgets/base",
            "_view_module_version": "1.2.0",
            "_view_name": "LayoutView",
            "align_content": null,
            "align_items": null,
            "align_self": null,
            "border": null,
            "bottom": null,
            "display": null,
            "flex": null,
            "flex_flow": null,
            "grid_area": null,
            "grid_auto_columns": null,
            "grid_auto_flow": null,
            "grid_auto_rows": null,
            "grid_column": null,
            "grid_gap": null,
            "grid_row": null,
            "grid_template_areas": null,
            "grid_template_columns": null,
            "grid_template_rows": null,
            "height": null,
            "justify_content": null,
            "justify_items": null,
            "left": null,
            "margin": null,
            "max_height": null,
            "max_width": null,
            "min_height": null,
            "min_width": null,
            "object_fit": null,
            "object_position": null,
            "order": null,
            "overflow": null,
            "overflow_x": null,
            "overflow_y": null,
            "padding": null,
            "right": null,
            "top": null,
            "visibility": null,
            "width": null
          }
        },
        "afa36835c58f44f282a1618642f20a43": {
          "model_module": "@jupyter-widgets/controls",
          "model_name": "ProgressStyleModel",
          "model_module_version": "1.5.0",
          "state": {
            "_model_module": "@jupyter-widgets/controls",
            "_model_module_version": "1.5.0",
            "_model_name": "ProgressStyleModel",
            "_view_count": null,
            "_view_module": "@jupyter-widgets/base",
            "_view_module_version": "1.2.0",
            "_view_name": "StyleView",
            "bar_color": null,
            "description_width": ""
          }
        },
        "5763daea79364ec3b76e8556d3fdf93a": {
          "model_module": "@jupyter-widgets/base",
          "model_name": "LayoutModel",
          "model_module_version": "1.2.0",
          "state": {
            "_model_module": "@jupyter-widgets/base",
            "_model_module_version": "1.2.0",
            "_model_name": "LayoutModel",
            "_view_count": null,
            "_view_module": "@jupyter-widgets/base",
            "_view_module_version": "1.2.0",
            "_view_name": "LayoutView",
            "align_content": null,
            "align_items": null,
            "align_self": null,
            "border": null,
            "bottom": null,
            "display": null,
            "flex": null,
            "flex_flow": null,
            "grid_area": null,
            "grid_auto_columns": null,
            "grid_auto_flow": null,
            "grid_auto_rows": null,
            "grid_column": null,
            "grid_gap": null,
            "grid_row": null,
            "grid_template_areas": null,
            "grid_template_columns": null,
            "grid_template_rows": null,
            "height": null,
            "justify_content": null,
            "justify_items": null,
            "left": null,
            "margin": null,
            "max_height": null,
            "max_width": null,
            "min_height": null,
            "min_width": null,
            "object_fit": null,
            "object_position": null,
            "order": null,
            "overflow": null,
            "overflow_x": null,
            "overflow_y": null,
            "padding": null,
            "right": null,
            "top": null,
            "visibility": null,
            "width": null
          }
        },
        "ebc9935e085c4e1c9576c21365c5bd9f": {
          "model_module": "@jupyter-widgets/controls",
          "model_name": "DescriptionStyleModel",
          "model_module_version": "1.5.0",
          "state": {
            "_model_module": "@jupyter-widgets/controls",
            "_model_module_version": "1.5.0",
            "_model_name": "DescriptionStyleModel",
            "_view_count": null,
            "_view_module": "@jupyter-widgets/base",
            "_view_module_version": "1.2.0",
            "_view_name": "StyleView",
            "description_width": ""
          }
        },
        "4087d03b551046d29dea5bb12abcc044": {
          "model_module": "@jupyter-widgets/controls",
          "model_name": "HBoxModel",
          "model_module_version": "1.5.0",
          "state": {
            "_dom_classes": [],
            "_model_module": "@jupyter-widgets/controls",
            "_model_module_version": "1.5.0",
            "_model_name": "HBoxModel",
            "_view_count": null,
            "_view_module": "@jupyter-widgets/controls",
            "_view_module_version": "1.5.0",
            "_view_name": "HBoxView",
            "box_style": "",
            "children": [
              "IPY_MODEL_1b9a76419e314550a4dce00e6b0fd8fd",
              "IPY_MODEL_5978240c1cc64b36b5d18e0487aaeb28",
              "IPY_MODEL_52ec974f069740d8878da3193428f0ae"
            ],
            "layout": "IPY_MODEL_510a72d7e9b74dafb4a63dc94b7d3c50"
          }
        },
        "1b9a76419e314550a4dce00e6b0fd8fd": {
          "model_module": "@jupyter-widgets/controls",
          "model_name": "HTMLModel",
          "model_module_version": "1.5.0",
          "state": {
            "_dom_classes": [],
            "_model_module": "@jupyter-widgets/controls",
            "_model_module_version": "1.5.0",
            "_model_name": "HTMLModel",
            "_view_count": null,
            "_view_module": "@jupyter-widgets/controls",
            "_view_module_version": "1.5.0",
            "_view_name": "HTMLView",
            "description": "",
            "description_tooltip": null,
            "layout": "IPY_MODEL_e0eff79f936f46689dcc3eb0444127e6",
            "placeholder": "​",
            "style": "IPY_MODEL_d917911f9ee54cd68fc4e6ab01fcae71",
            "value": "Epoch 2/5: 100%"
          }
        },
        "5978240c1cc64b36b5d18e0487aaeb28": {
          "model_module": "@jupyter-widgets/controls",
          "model_name": "FloatProgressModel",
          "model_module_version": "1.5.0",
          "state": {
            "_dom_classes": [],
            "_model_module": "@jupyter-widgets/controls",
            "_model_module_version": "1.5.0",
            "_model_name": "FloatProgressModel",
            "_view_count": null,
            "_view_module": "@jupyter-widgets/controls",
            "_view_module_version": "1.5.0",
            "_view_name": "ProgressView",
            "bar_style": "success",
            "description": "",
            "description_tooltip": null,
            "layout": "IPY_MODEL_c728ef1b46e5430ab3524538e9bb90d4",
            "max": 1718,
            "min": 0,
            "orientation": "horizontal",
            "style": "IPY_MODEL_a1931dbe800743a1b72cf2b94f347b30",
            "value": 1718
          }
        },
        "52ec974f069740d8878da3193428f0ae": {
          "model_module": "@jupyter-widgets/controls",
          "model_name": "HTMLModel",
          "model_module_version": "1.5.0",
          "state": {
            "_dom_classes": [],
            "_model_module": "@jupyter-widgets/controls",
            "_model_module_version": "1.5.0",
            "_model_name": "HTMLModel",
            "_view_count": null,
            "_view_module": "@jupyter-widgets/controls",
            "_view_module_version": "1.5.0",
            "_view_name": "HTMLView",
            "description": "",
            "description_tooltip": null,
            "layout": "IPY_MODEL_8b9a4a38e76f46ccb4dcf83900e27792",
            "placeholder": "​",
            "style": "IPY_MODEL_ea156d4c48e44374adf7c5a42a843449",
            "value": " 1718/1718 [00:28&lt;00:00, 61.77it/s, loss=0.648, sparse_categorical_accuracy=0.783]"
          }
        },
        "510a72d7e9b74dafb4a63dc94b7d3c50": {
          "model_module": "@jupyter-widgets/base",
          "model_name": "LayoutModel",
          "model_module_version": "1.2.0",
          "state": {
            "_model_module": "@jupyter-widgets/base",
            "_model_module_version": "1.2.0",
            "_model_name": "LayoutModel",
            "_view_count": null,
            "_view_module": "@jupyter-widgets/base",
            "_view_module_version": "1.2.0",
            "_view_name": "LayoutView",
            "align_content": null,
            "align_items": null,
            "align_self": null,
            "border": null,
            "bottom": null,
            "display": null,
            "flex": null,
            "flex_flow": null,
            "grid_area": null,
            "grid_auto_columns": null,
            "grid_auto_flow": null,
            "grid_auto_rows": null,
            "grid_column": null,
            "grid_gap": null,
            "grid_row": null,
            "grid_template_areas": null,
            "grid_template_columns": null,
            "grid_template_rows": null,
            "height": null,
            "justify_content": null,
            "justify_items": null,
            "left": null,
            "margin": null,
            "max_height": null,
            "max_width": null,
            "min_height": null,
            "min_width": null,
            "object_fit": null,
            "object_position": null,
            "order": null,
            "overflow": null,
            "overflow_x": null,
            "overflow_y": null,
            "padding": null,
            "right": null,
            "top": null,
            "visibility": null,
            "width": null
          }
        },
        "e0eff79f936f46689dcc3eb0444127e6": {
          "model_module": "@jupyter-widgets/base",
          "model_name": "LayoutModel",
          "model_module_version": "1.2.0",
          "state": {
            "_model_module": "@jupyter-widgets/base",
            "_model_module_version": "1.2.0",
            "_model_name": "LayoutModel",
            "_view_count": null,
            "_view_module": "@jupyter-widgets/base",
            "_view_module_version": "1.2.0",
            "_view_name": "LayoutView",
            "align_content": null,
            "align_items": null,
            "align_self": null,
            "border": null,
            "bottom": null,
            "display": null,
            "flex": null,
            "flex_flow": null,
            "grid_area": null,
            "grid_auto_columns": null,
            "grid_auto_flow": null,
            "grid_auto_rows": null,
            "grid_column": null,
            "grid_gap": null,
            "grid_row": null,
            "grid_template_areas": null,
            "grid_template_columns": null,
            "grid_template_rows": null,
            "height": null,
            "justify_content": null,
            "justify_items": null,
            "left": null,
            "margin": null,
            "max_height": null,
            "max_width": null,
            "min_height": null,
            "min_width": null,
            "object_fit": null,
            "object_position": null,
            "order": null,
            "overflow": null,
            "overflow_x": null,
            "overflow_y": null,
            "padding": null,
            "right": null,
            "top": null,
            "visibility": null,
            "width": null
          }
        },
        "d917911f9ee54cd68fc4e6ab01fcae71": {
          "model_module": "@jupyter-widgets/controls",
          "model_name": "DescriptionStyleModel",
          "model_module_version": "1.5.0",
          "state": {
            "_model_module": "@jupyter-widgets/controls",
            "_model_module_version": "1.5.0",
            "_model_name": "DescriptionStyleModel",
            "_view_count": null,
            "_view_module": "@jupyter-widgets/base",
            "_view_module_version": "1.2.0",
            "_view_name": "StyleView",
            "description_width": ""
          }
        },
        "c728ef1b46e5430ab3524538e9bb90d4": {
          "model_module": "@jupyter-widgets/base",
          "model_name": "LayoutModel",
          "model_module_version": "1.2.0",
          "state": {
            "_model_module": "@jupyter-widgets/base",
            "_model_module_version": "1.2.0",
            "_model_name": "LayoutModel",
            "_view_count": null,
            "_view_module": "@jupyter-widgets/base",
            "_view_module_version": "1.2.0",
            "_view_name": "LayoutView",
            "align_content": null,
            "align_items": null,
            "align_self": null,
            "border": null,
            "bottom": null,
            "display": null,
            "flex": null,
            "flex_flow": null,
            "grid_area": null,
            "grid_auto_columns": null,
            "grid_auto_flow": null,
            "grid_auto_rows": null,
            "grid_column": null,
            "grid_gap": null,
            "grid_row": null,
            "grid_template_areas": null,
            "grid_template_columns": null,
            "grid_template_rows": null,
            "height": null,
            "justify_content": null,
            "justify_items": null,
            "left": null,
            "margin": null,
            "max_height": null,
            "max_width": null,
            "min_height": null,
            "min_width": null,
            "object_fit": null,
            "object_position": null,
            "order": null,
            "overflow": null,
            "overflow_x": null,
            "overflow_y": null,
            "padding": null,
            "right": null,
            "top": null,
            "visibility": null,
            "width": null
          }
        },
        "a1931dbe800743a1b72cf2b94f347b30": {
          "model_module": "@jupyter-widgets/controls",
          "model_name": "ProgressStyleModel",
          "model_module_version": "1.5.0",
          "state": {
            "_model_module": "@jupyter-widgets/controls",
            "_model_module_version": "1.5.0",
            "_model_name": "ProgressStyleModel",
            "_view_count": null,
            "_view_module": "@jupyter-widgets/base",
            "_view_module_version": "1.2.0",
            "_view_name": "StyleView",
            "bar_color": null,
            "description_width": ""
          }
        },
        "8b9a4a38e76f46ccb4dcf83900e27792": {
          "model_module": "@jupyter-widgets/base",
          "model_name": "LayoutModel",
          "model_module_version": "1.2.0",
          "state": {
            "_model_module": "@jupyter-widgets/base",
            "_model_module_version": "1.2.0",
            "_model_name": "LayoutModel",
            "_view_count": null,
            "_view_module": "@jupyter-widgets/base",
            "_view_module_version": "1.2.0",
            "_view_name": "LayoutView",
            "align_content": null,
            "align_items": null,
            "align_self": null,
            "border": null,
            "bottom": null,
            "display": null,
            "flex": null,
            "flex_flow": null,
            "grid_area": null,
            "grid_auto_columns": null,
            "grid_auto_flow": null,
            "grid_auto_rows": null,
            "grid_column": null,
            "grid_gap": null,
            "grid_row": null,
            "grid_template_areas": null,
            "grid_template_columns": null,
            "grid_template_rows": null,
            "height": null,
            "justify_content": null,
            "justify_items": null,
            "left": null,
            "margin": null,
            "max_height": null,
            "max_width": null,
            "min_height": null,
            "min_width": null,
            "object_fit": null,
            "object_position": null,
            "order": null,
            "overflow": null,
            "overflow_x": null,
            "overflow_y": null,
            "padding": null,
            "right": null,
            "top": null,
            "visibility": null,
            "width": null
          }
        },
        "ea156d4c48e44374adf7c5a42a843449": {
          "model_module": "@jupyter-widgets/controls",
          "model_name": "DescriptionStyleModel",
          "model_module_version": "1.5.0",
          "state": {
            "_model_module": "@jupyter-widgets/controls",
            "_model_module_version": "1.5.0",
            "_model_name": "DescriptionStyleModel",
            "_view_count": null,
            "_view_module": "@jupyter-widgets/base",
            "_view_module_version": "1.2.0",
            "_view_name": "StyleView",
            "description_width": ""
          }
        },
        "025f35205d6343ff8eecabde45a8409a": {
          "model_module": "@jupyter-widgets/controls",
          "model_name": "HBoxModel",
          "model_module_version": "1.5.0",
          "state": {
            "_dom_classes": [],
            "_model_module": "@jupyter-widgets/controls",
            "_model_module_version": "1.5.0",
            "_model_name": "HBoxModel",
            "_view_count": null,
            "_view_module": "@jupyter-widgets/controls",
            "_view_module_version": "1.5.0",
            "_view_name": "HBoxView",
            "box_style": "",
            "children": [
              "IPY_MODEL_0df3aeb99fe1433c9364284b2e626b24",
              "IPY_MODEL_745766322c42483d9f5177abf2538fd6",
              "IPY_MODEL_31f271c607fd453bb59c883afe14f141"
            ],
            "layout": "IPY_MODEL_d309946d796b40a5b1bb1bd1898a8fd6"
          }
        },
        "0df3aeb99fe1433c9364284b2e626b24": {
          "model_module": "@jupyter-widgets/controls",
          "model_name": "HTMLModel",
          "model_module_version": "1.5.0",
          "state": {
            "_dom_classes": [],
            "_model_module": "@jupyter-widgets/controls",
            "_model_module_version": "1.5.0",
            "_model_name": "HTMLModel",
            "_view_count": null,
            "_view_module": "@jupyter-widgets/controls",
            "_view_module_version": "1.5.0",
            "_view_name": "HTMLView",
            "description": "",
            "description_tooltip": null,
            "layout": "IPY_MODEL_069ac5beaea34171b3adeba9e9a6ccdf",
            "placeholder": "​",
            "style": "IPY_MODEL_ed9b96be3c1642fda5f0586fab3738ea",
            "value": "Epoch 3/5: 100%"
          }
        },
        "745766322c42483d9f5177abf2538fd6": {
          "model_module": "@jupyter-widgets/controls",
          "model_name": "FloatProgressModel",
          "model_module_version": "1.5.0",
          "state": {
            "_dom_classes": [],
            "_model_module": "@jupyter-widgets/controls",
            "_model_module_version": "1.5.0",
            "_model_name": "FloatProgressModel",
            "_view_count": null,
            "_view_module": "@jupyter-widgets/controls",
            "_view_module_version": "1.5.0",
            "_view_name": "ProgressView",
            "bar_style": "success",
            "description": "",
            "description_tooltip": null,
            "layout": "IPY_MODEL_6f3aa815f6fc44689fe5cd4eaff48b7d",
            "max": 1718,
            "min": 0,
            "orientation": "horizontal",
            "style": "IPY_MODEL_3d9d7f61085e46269caa3c762a6470a4",
            "value": 1718
          }
        },
        "31f271c607fd453bb59c883afe14f141": {
          "model_module": "@jupyter-widgets/controls",
          "model_name": "HTMLModel",
          "model_module_version": "1.5.0",
          "state": {
            "_dom_classes": [],
            "_model_module": "@jupyter-widgets/controls",
            "_model_module_version": "1.5.0",
            "_model_name": "HTMLModel",
            "_view_count": null,
            "_view_module": "@jupyter-widgets/controls",
            "_view_module_version": "1.5.0",
            "_view_name": "HTMLView",
            "description": "",
            "description_tooltip": null,
            "layout": "IPY_MODEL_64e28030a0184120868961aab9a80e03",
            "placeholder": "​",
            "style": "IPY_MODEL_c584c03361a94be2846079615b07d81d",
            "value": " 1718/1718 [00:28&lt;00:00, 64.65it/s, loss=0.572, sparse_categorical_accuracy=0.802]"
          }
        },
        "d309946d796b40a5b1bb1bd1898a8fd6": {
          "model_module": "@jupyter-widgets/base",
          "model_name": "LayoutModel",
          "model_module_version": "1.2.0",
          "state": {
            "_model_module": "@jupyter-widgets/base",
            "_model_module_version": "1.2.0",
            "_model_name": "LayoutModel",
            "_view_count": null,
            "_view_module": "@jupyter-widgets/base",
            "_view_module_version": "1.2.0",
            "_view_name": "LayoutView",
            "align_content": null,
            "align_items": null,
            "align_self": null,
            "border": null,
            "bottom": null,
            "display": null,
            "flex": null,
            "flex_flow": null,
            "grid_area": null,
            "grid_auto_columns": null,
            "grid_auto_flow": null,
            "grid_auto_rows": null,
            "grid_column": null,
            "grid_gap": null,
            "grid_row": null,
            "grid_template_areas": null,
            "grid_template_columns": null,
            "grid_template_rows": null,
            "height": null,
            "justify_content": null,
            "justify_items": null,
            "left": null,
            "margin": null,
            "max_height": null,
            "max_width": null,
            "min_height": null,
            "min_width": null,
            "object_fit": null,
            "object_position": null,
            "order": null,
            "overflow": null,
            "overflow_x": null,
            "overflow_y": null,
            "padding": null,
            "right": null,
            "top": null,
            "visibility": null,
            "width": null
          }
        },
        "069ac5beaea34171b3adeba9e9a6ccdf": {
          "model_module": "@jupyter-widgets/base",
          "model_name": "LayoutModel",
          "model_module_version": "1.2.0",
          "state": {
            "_model_module": "@jupyter-widgets/base",
            "_model_module_version": "1.2.0",
            "_model_name": "LayoutModel",
            "_view_count": null,
            "_view_module": "@jupyter-widgets/base",
            "_view_module_version": "1.2.0",
            "_view_name": "LayoutView",
            "align_content": null,
            "align_items": null,
            "align_self": null,
            "border": null,
            "bottom": null,
            "display": null,
            "flex": null,
            "flex_flow": null,
            "grid_area": null,
            "grid_auto_columns": null,
            "grid_auto_flow": null,
            "grid_auto_rows": null,
            "grid_column": null,
            "grid_gap": null,
            "grid_row": null,
            "grid_template_areas": null,
            "grid_template_columns": null,
            "grid_template_rows": null,
            "height": null,
            "justify_content": null,
            "justify_items": null,
            "left": null,
            "margin": null,
            "max_height": null,
            "max_width": null,
            "min_height": null,
            "min_width": null,
            "object_fit": null,
            "object_position": null,
            "order": null,
            "overflow": null,
            "overflow_x": null,
            "overflow_y": null,
            "padding": null,
            "right": null,
            "top": null,
            "visibility": null,
            "width": null
          }
        },
        "ed9b96be3c1642fda5f0586fab3738ea": {
          "model_module": "@jupyter-widgets/controls",
          "model_name": "DescriptionStyleModel",
          "model_module_version": "1.5.0",
          "state": {
            "_model_module": "@jupyter-widgets/controls",
            "_model_module_version": "1.5.0",
            "_model_name": "DescriptionStyleModel",
            "_view_count": null,
            "_view_module": "@jupyter-widgets/base",
            "_view_module_version": "1.2.0",
            "_view_name": "StyleView",
            "description_width": ""
          }
        },
        "6f3aa815f6fc44689fe5cd4eaff48b7d": {
          "model_module": "@jupyter-widgets/base",
          "model_name": "LayoutModel",
          "model_module_version": "1.2.0",
          "state": {
            "_model_module": "@jupyter-widgets/base",
            "_model_module_version": "1.2.0",
            "_model_name": "LayoutModel",
            "_view_count": null,
            "_view_module": "@jupyter-widgets/base",
            "_view_module_version": "1.2.0",
            "_view_name": "LayoutView",
            "align_content": null,
            "align_items": null,
            "align_self": null,
            "border": null,
            "bottom": null,
            "display": null,
            "flex": null,
            "flex_flow": null,
            "grid_area": null,
            "grid_auto_columns": null,
            "grid_auto_flow": null,
            "grid_auto_rows": null,
            "grid_column": null,
            "grid_gap": null,
            "grid_row": null,
            "grid_template_areas": null,
            "grid_template_columns": null,
            "grid_template_rows": null,
            "height": null,
            "justify_content": null,
            "justify_items": null,
            "left": null,
            "margin": null,
            "max_height": null,
            "max_width": null,
            "min_height": null,
            "min_width": null,
            "object_fit": null,
            "object_position": null,
            "order": null,
            "overflow": null,
            "overflow_x": null,
            "overflow_y": null,
            "padding": null,
            "right": null,
            "top": null,
            "visibility": null,
            "width": null
          }
        },
        "3d9d7f61085e46269caa3c762a6470a4": {
          "model_module": "@jupyter-widgets/controls",
          "model_name": "ProgressStyleModel",
          "model_module_version": "1.5.0",
          "state": {
            "_model_module": "@jupyter-widgets/controls",
            "_model_module_version": "1.5.0",
            "_model_name": "ProgressStyleModel",
            "_view_count": null,
            "_view_module": "@jupyter-widgets/base",
            "_view_module_version": "1.2.0",
            "_view_name": "StyleView",
            "bar_color": null,
            "description_width": ""
          }
        },
        "64e28030a0184120868961aab9a80e03": {
          "model_module": "@jupyter-widgets/base",
          "model_name": "LayoutModel",
          "model_module_version": "1.2.0",
          "state": {
            "_model_module": "@jupyter-widgets/base",
            "_model_module_version": "1.2.0",
            "_model_name": "LayoutModel",
            "_view_count": null,
            "_view_module": "@jupyter-widgets/base",
            "_view_module_version": "1.2.0",
            "_view_name": "LayoutView",
            "align_content": null,
            "align_items": null,
            "align_self": null,
            "border": null,
            "bottom": null,
            "display": null,
            "flex": null,
            "flex_flow": null,
            "grid_area": null,
            "grid_auto_columns": null,
            "grid_auto_flow": null,
            "grid_auto_rows": null,
            "grid_column": null,
            "grid_gap": null,
            "grid_row": null,
            "grid_template_areas": null,
            "grid_template_columns": null,
            "grid_template_rows": null,
            "height": null,
            "justify_content": null,
            "justify_items": null,
            "left": null,
            "margin": null,
            "max_height": null,
            "max_width": null,
            "min_height": null,
            "min_width": null,
            "object_fit": null,
            "object_position": null,
            "order": null,
            "overflow": null,
            "overflow_x": null,
            "overflow_y": null,
            "padding": null,
            "right": null,
            "top": null,
            "visibility": null,
            "width": null
          }
        },
        "c584c03361a94be2846079615b07d81d": {
          "model_module": "@jupyter-widgets/controls",
          "model_name": "DescriptionStyleModel",
          "model_module_version": "1.5.0",
          "state": {
            "_model_module": "@jupyter-widgets/controls",
            "_model_module_version": "1.5.0",
            "_model_name": "DescriptionStyleModel",
            "_view_count": null,
            "_view_module": "@jupyter-widgets/base",
            "_view_module_version": "1.2.0",
            "_view_name": "StyleView",
            "description_width": ""
          }
        },
        "fba9514e81644f6b86d8c44919d26733": {
          "model_module": "@jupyter-widgets/controls",
          "model_name": "HBoxModel",
          "model_module_version": "1.5.0",
          "state": {
            "_dom_classes": [],
            "_model_module": "@jupyter-widgets/controls",
            "_model_module_version": "1.5.0",
            "_model_name": "HBoxModel",
            "_view_count": null,
            "_view_module": "@jupyter-widgets/controls",
            "_view_module_version": "1.5.0",
            "_view_name": "HBoxView",
            "box_style": "",
            "children": [
              "IPY_MODEL_22879662ed78455fa1161bcf9e814a0b",
              "IPY_MODEL_4cce6782cd554cc18c5fc1268b17b930",
              "IPY_MODEL_543ffefd46a14a1abcd5cc7359e7aa34"
            ],
            "layout": "IPY_MODEL_3fdf426c63594b14aac4ca5483752119"
          }
        },
        "22879662ed78455fa1161bcf9e814a0b": {
          "model_module": "@jupyter-widgets/controls",
          "model_name": "HTMLModel",
          "model_module_version": "1.5.0",
          "state": {
            "_dom_classes": [],
            "_model_module": "@jupyter-widgets/controls",
            "_model_module_version": "1.5.0",
            "_model_name": "HTMLModel",
            "_view_count": null,
            "_view_module": "@jupyter-widgets/controls",
            "_view_module_version": "1.5.0",
            "_view_name": "HTMLView",
            "description": "",
            "description_tooltip": null,
            "layout": "IPY_MODEL_cac45ef897824698855fa45fac5d7a3a",
            "placeholder": "​",
            "style": "IPY_MODEL_42087efa16464af291d7c7f397c3f118",
            "value": "Epoch 4/5: 100%"
          }
        },
        "4cce6782cd554cc18c5fc1268b17b930": {
          "model_module": "@jupyter-widgets/controls",
          "model_name": "FloatProgressModel",
          "model_module_version": "1.5.0",
          "state": {
            "_dom_classes": [],
            "_model_module": "@jupyter-widgets/controls",
            "_model_module_version": "1.5.0",
            "_model_name": "FloatProgressModel",
            "_view_count": null,
            "_view_module": "@jupyter-widgets/controls",
            "_view_module_version": "1.5.0",
            "_view_name": "ProgressView",
            "bar_style": "success",
            "description": "",
            "description_tooltip": null,
            "layout": "IPY_MODEL_9c7c8e72295847eba3fbcef1e7aa4d5e",
            "max": 1718,
            "min": 0,
            "orientation": "horizontal",
            "style": "IPY_MODEL_b8457c9377eb43b09b28d78a67a60c94",
            "value": 1718
          }
        },
        "543ffefd46a14a1abcd5cc7359e7aa34": {
          "model_module": "@jupyter-widgets/controls",
          "model_name": "HTMLModel",
          "model_module_version": "1.5.0",
          "state": {
            "_dom_classes": [],
            "_model_module": "@jupyter-widgets/controls",
            "_model_module_version": "1.5.0",
            "_model_name": "HTMLModel",
            "_view_count": null,
            "_view_module": "@jupyter-widgets/controls",
            "_view_module_version": "1.5.0",
            "_view_name": "HTMLView",
            "description": "",
            "description_tooltip": null,
            "layout": "IPY_MODEL_f4d6675fe3804c9393a209e28c46df25",
            "placeholder": "​",
            "style": "IPY_MODEL_fa50c162db8a4935a9732615e2ea49cf",
            "value": " 1718/1718 [00:28&lt;00:00, 64.20it/s, loss=0.537, sparse_categorical_accuracy=0.811]"
          }
        },
        "3fdf426c63594b14aac4ca5483752119": {
          "model_module": "@jupyter-widgets/base",
          "model_name": "LayoutModel",
          "model_module_version": "1.2.0",
          "state": {
            "_model_module": "@jupyter-widgets/base",
            "_model_module_version": "1.2.0",
            "_model_name": "LayoutModel",
            "_view_count": null,
            "_view_module": "@jupyter-widgets/base",
            "_view_module_version": "1.2.0",
            "_view_name": "LayoutView",
            "align_content": null,
            "align_items": null,
            "align_self": null,
            "border": null,
            "bottom": null,
            "display": null,
            "flex": null,
            "flex_flow": null,
            "grid_area": null,
            "grid_auto_columns": null,
            "grid_auto_flow": null,
            "grid_auto_rows": null,
            "grid_column": null,
            "grid_gap": null,
            "grid_row": null,
            "grid_template_areas": null,
            "grid_template_columns": null,
            "grid_template_rows": null,
            "height": null,
            "justify_content": null,
            "justify_items": null,
            "left": null,
            "margin": null,
            "max_height": null,
            "max_width": null,
            "min_height": null,
            "min_width": null,
            "object_fit": null,
            "object_position": null,
            "order": null,
            "overflow": null,
            "overflow_x": null,
            "overflow_y": null,
            "padding": null,
            "right": null,
            "top": null,
            "visibility": null,
            "width": null
          }
        },
        "cac45ef897824698855fa45fac5d7a3a": {
          "model_module": "@jupyter-widgets/base",
          "model_name": "LayoutModel",
          "model_module_version": "1.2.0",
          "state": {
            "_model_module": "@jupyter-widgets/base",
            "_model_module_version": "1.2.0",
            "_model_name": "LayoutModel",
            "_view_count": null,
            "_view_module": "@jupyter-widgets/base",
            "_view_module_version": "1.2.0",
            "_view_name": "LayoutView",
            "align_content": null,
            "align_items": null,
            "align_self": null,
            "border": null,
            "bottom": null,
            "display": null,
            "flex": null,
            "flex_flow": null,
            "grid_area": null,
            "grid_auto_columns": null,
            "grid_auto_flow": null,
            "grid_auto_rows": null,
            "grid_column": null,
            "grid_gap": null,
            "grid_row": null,
            "grid_template_areas": null,
            "grid_template_columns": null,
            "grid_template_rows": null,
            "height": null,
            "justify_content": null,
            "justify_items": null,
            "left": null,
            "margin": null,
            "max_height": null,
            "max_width": null,
            "min_height": null,
            "min_width": null,
            "object_fit": null,
            "object_position": null,
            "order": null,
            "overflow": null,
            "overflow_x": null,
            "overflow_y": null,
            "padding": null,
            "right": null,
            "top": null,
            "visibility": null,
            "width": null
          }
        },
        "42087efa16464af291d7c7f397c3f118": {
          "model_module": "@jupyter-widgets/controls",
          "model_name": "DescriptionStyleModel",
          "model_module_version": "1.5.0",
          "state": {
            "_model_module": "@jupyter-widgets/controls",
            "_model_module_version": "1.5.0",
            "_model_name": "DescriptionStyleModel",
            "_view_count": null,
            "_view_module": "@jupyter-widgets/base",
            "_view_module_version": "1.2.0",
            "_view_name": "StyleView",
            "description_width": ""
          }
        },
        "9c7c8e72295847eba3fbcef1e7aa4d5e": {
          "model_module": "@jupyter-widgets/base",
          "model_name": "LayoutModel",
          "model_module_version": "1.2.0",
          "state": {
            "_model_module": "@jupyter-widgets/base",
            "_model_module_version": "1.2.0",
            "_model_name": "LayoutModel",
            "_view_count": null,
            "_view_module": "@jupyter-widgets/base",
            "_view_module_version": "1.2.0",
            "_view_name": "LayoutView",
            "align_content": null,
            "align_items": null,
            "align_self": null,
            "border": null,
            "bottom": null,
            "display": null,
            "flex": null,
            "flex_flow": null,
            "grid_area": null,
            "grid_auto_columns": null,
            "grid_auto_flow": null,
            "grid_auto_rows": null,
            "grid_column": null,
            "grid_gap": null,
            "grid_row": null,
            "grid_template_areas": null,
            "grid_template_columns": null,
            "grid_template_rows": null,
            "height": null,
            "justify_content": null,
            "justify_items": null,
            "left": null,
            "margin": null,
            "max_height": null,
            "max_width": null,
            "min_height": null,
            "min_width": null,
            "object_fit": null,
            "object_position": null,
            "order": null,
            "overflow": null,
            "overflow_x": null,
            "overflow_y": null,
            "padding": null,
            "right": null,
            "top": null,
            "visibility": null,
            "width": null
          }
        },
        "b8457c9377eb43b09b28d78a67a60c94": {
          "model_module": "@jupyter-widgets/controls",
          "model_name": "ProgressStyleModel",
          "model_module_version": "1.5.0",
          "state": {
            "_model_module": "@jupyter-widgets/controls",
            "_model_module_version": "1.5.0",
            "_model_name": "ProgressStyleModel",
            "_view_count": null,
            "_view_module": "@jupyter-widgets/base",
            "_view_module_version": "1.2.0",
            "_view_name": "StyleView",
            "bar_color": null,
            "description_width": ""
          }
        },
        "f4d6675fe3804c9393a209e28c46df25": {
          "model_module": "@jupyter-widgets/base",
          "model_name": "LayoutModel",
          "model_module_version": "1.2.0",
          "state": {
            "_model_module": "@jupyter-widgets/base",
            "_model_module_version": "1.2.0",
            "_model_name": "LayoutModel",
            "_view_count": null,
            "_view_module": "@jupyter-widgets/base",
            "_view_module_version": "1.2.0",
            "_view_name": "LayoutView",
            "align_content": null,
            "align_items": null,
            "align_self": null,
            "border": null,
            "bottom": null,
            "display": null,
            "flex": null,
            "flex_flow": null,
            "grid_area": null,
            "grid_auto_columns": null,
            "grid_auto_flow": null,
            "grid_auto_rows": null,
            "grid_column": null,
            "grid_gap": null,
            "grid_row": null,
            "grid_template_areas": null,
            "grid_template_columns": null,
            "grid_template_rows": null,
            "height": null,
            "justify_content": null,
            "justify_items": null,
            "left": null,
            "margin": null,
            "max_height": null,
            "max_width": null,
            "min_height": null,
            "min_width": null,
            "object_fit": null,
            "object_position": null,
            "order": null,
            "overflow": null,
            "overflow_x": null,
            "overflow_y": null,
            "padding": null,
            "right": null,
            "top": null,
            "visibility": null,
            "width": null
          }
        },
        "fa50c162db8a4935a9732615e2ea49cf": {
          "model_module": "@jupyter-widgets/controls",
          "model_name": "DescriptionStyleModel",
          "model_module_version": "1.5.0",
          "state": {
            "_model_module": "@jupyter-widgets/controls",
            "_model_module_version": "1.5.0",
            "_model_name": "DescriptionStyleModel",
            "_view_count": null,
            "_view_module": "@jupyter-widgets/base",
            "_view_module_version": "1.2.0",
            "_view_name": "StyleView",
            "description_width": ""
          }
        },
        "4889c921c2a848d2803747c656053032": {
          "model_module": "@jupyter-widgets/controls",
          "model_name": "HBoxModel",
          "model_module_version": "1.5.0",
          "state": {
            "_dom_classes": [],
            "_model_module": "@jupyter-widgets/controls",
            "_model_module_version": "1.5.0",
            "_model_name": "HBoxModel",
            "_view_count": null,
            "_view_module": "@jupyter-widgets/controls",
            "_view_module_version": "1.5.0",
            "_view_name": "HBoxView",
            "box_style": "",
            "children": [
              "IPY_MODEL_822edb1ee2dc4b438ed0802ab6747659",
              "IPY_MODEL_4e7cb9bb5ca643a0920d2443a05593cd",
              "IPY_MODEL_73a435f7ff804b21a466d417c2fa84bd"
            ],
            "layout": "IPY_MODEL_9a9ca0de137341c7a66257af0de44e25"
          }
        },
        "822edb1ee2dc4b438ed0802ab6747659": {
          "model_module": "@jupyter-widgets/controls",
          "model_name": "HTMLModel",
          "model_module_version": "1.5.0",
          "state": {
            "_dom_classes": [],
            "_model_module": "@jupyter-widgets/controls",
            "_model_module_version": "1.5.0",
            "_model_name": "HTMLModel",
            "_view_count": null,
            "_view_module": "@jupyter-widgets/controls",
            "_view_module_version": "1.5.0",
            "_view_name": "HTMLView",
            "description": "",
            "description_tooltip": null,
            "layout": "IPY_MODEL_37cb205dbc1849738836c59d9663f451",
            "placeholder": "​",
            "style": "IPY_MODEL_6a77441a1f0644bb8cb985752cd465d6",
            "value": "Epoch 5/5: 100%"
          }
        },
        "4e7cb9bb5ca643a0920d2443a05593cd": {
          "model_module": "@jupyter-widgets/controls",
          "model_name": "FloatProgressModel",
          "model_module_version": "1.5.0",
          "state": {
            "_dom_classes": [],
            "_model_module": "@jupyter-widgets/controls",
            "_model_module_version": "1.5.0",
            "_model_name": "FloatProgressModel",
            "_view_count": null,
            "_view_module": "@jupyter-widgets/controls",
            "_view_module_version": "1.5.0",
            "_view_name": "ProgressView",
            "bar_style": "success",
            "description": "",
            "description_tooltip": null,
            "layout": "IPY_MODEL_42a083f043b346798dbac63f23f0caa1",
            "max": 1718,
            "min": 0,
            "orientation": "horizontal",
            "style": "IPY_MODEL_792120d78db64c069da8344d6eb25d8a",
            "value": 1718
          }
        },
        "73a435f7ff804b21a466d417c2fa84bd": {
          "model_module": "@jupyter-widgets/controls",
          "model_name": "HTMLModel",
          "model_module_version": "1.5.0",
          "state": {
            "_dom_classes": [],
            "_model_module": "@jupyter-widgets/controls",
            "_model_module_version": "1.5.0",
            "_model_name": "HTMLModel",
            "_view_count": null,
            "_view_module": "@jupyter-widgets/controls",
            "_view_module_version": "1.5.0",
            "_view_name": "HTMLView",
            "description": "",
            "description_tooltip": null,
            "layout": "IPY_MODEL_5744199796384b1ba88cf77c696f1508",
            "placeholder": "​",
            "style": "IPY_MODEL_7d7bd6187bf84b42acd737ba30f42e31",
            "value": " 1718/1718 [00:28&lt;00:00, 59.19it/s, loss=0.523, sparse_categorical_accuracy=0.814]"
          }
        },
        "9a9ca0de137341c7a66257af0de44e25": {
          "model_module": "@jupyter-widgets/base",
          "model_name": "LayoutModel",
          "model_module_version": "1.2.0",
          "state": {
            "_model_module": "@jupyter-widgets/base",
            "_model_module_version": "1.2.0",
            "_model_name": "LayoutModel",
            "_view_count": null,
            "_view_module": "@jupyter-widgets/base",
            "_view_module_version": "1.2.0",
            "_view_name": "LayoutView",
            "align_content": null,
            "align_items": null,
            "align_self": null,
            "border": null,
            "bottom": null,
            "display": null,
            "flex": null,
            "flex_flow": null,
            "grid_area": null,
            "grid_auto_columns": null,
            "grid_auto_flow": null,
            "grid_auto_rows": null,
            "grid_column": null,
            "grid_gap": null,
            "grid_row": null,
            "grid_template_areas": null,
            "grid_template_columns": null,
            "grid_template_rows": null,
            "height": null,
            "justify_content": null,
            "justify_items": null,
            "left": null,
            "margin": null,
            "max_height": null,
            "max_width": null,
            "min_height": null,
            "min_width": null,
            "object_fit": null,
            "object_position": null,
            "order": null,
            "overflow": null,
            "overflow_x": null,
            "overflow_y": null,
            "padding": null,
            "right": null,
            "top": null,
            "visibility": null,
            "width": null
          }
        },
        "37cb205dbc1849738836c59d9663f451": {
          "model_module": "@jupyter-widgets/base",
          "model_name": "LayoutModel",
          "model_module_version": "1.2.0",
          "state": {
            "_model_module": "@jupyter-widgets/base",
            "_model_module_version": "1.2.0",
            "_model_name": "LayoutModel",
            "_view_count": null,
            "_view_module": "@jupyter-widgets/base",
            "_view_module_version": "1.2.0",
            "_view_name": "LayoutView",
            "align_content": null,
            "align_items": null,
            "align_self": null,
            "border": null,
            "bottom": null,
            "display": null,
            "flex": null,
            "flex_flow": null,
            "grid_area": null,
            "grid_auto_columns": null,
            "grid_auto_flow": null,
            "grid_auto_rows": null,
            "grid_column": null,
            "grid_gap": null,
            "grid_row": null,
            "grid_template_areas": null,
            "grid_template_columns": null,
            "grid_template_rows": null,
            "height": null,
            "justify_content": null,
            "justify_items": null,
            "left": null,
            "margin": null,
            "max_height": null,
            "max_width": null,
            "min_height": null,
            "min_width": null,
            "object_fit": null,
            "object_position": null,
            "order": null,
            "overflow": null,
            "overflow_x": null,
            "overflow_y": null,
            "padding": null,
            "right": null,
            "top": null,
            "visibility": null,
            "width": null
          }
        },
        "6a77441a1f0644bb8cb985752cd465d6": {
          "model_module": "@jupyter-widgets/controls",
          "model_name": "DescriptionStyleModel",
          "model_module_version": "1.5.0",
          "state": {
            "_model_module": "@jupyter-widgets/controls",
            "_model_module_version": "1.5.0",
            "_model_name": "DescriptionStyleModel",
            "_view_count": null,
            "_view_module": "@jupyter-widgets/base",
            "_view_module_version": "1.2.0",
            "_view_name": "StyleView",
            "description_width": ""
          }
        },
        "42a083f043b346798dbac63f23f0caa1": {
          "model_module": "@jupyter-widgets/base",
          "model_name": "LayoutModel",
          "model_module_version": "1.2.0",
          "state": {
            "_model_module": "@jupyter-widgets/base",
            "_model_module_version": "1.2.0",
            "_model_name": "LayoutModel",
            "_view_count": null,
            "_view_module": "@jupyter-widgets/base",
            "_view_module_version": "1.2.0",
            "_view_name": "LayoutView",
            "align_content": null,
            "align_items": null,
            "align_self": null,
            "border": null,
            "bottom": null,
            "display": null,
            "flex": null,
            "flex_flow": null,
            "grid_area": null,
            "grid_auto_columns": null,
            "grid_auto_flow": null,
            "grid_auto_rows": null,
            "grid_column": null,
            "grid_gap": null,
            "grid_row": null,
            "grid_template_areas": null,
            "grid_template_columns": null,
            "grid_template_rows": null,
            "height": null,
            "justify_content": null,
            "justify_items": null,
            "left": null,
            "margin": null,
            "max_height": null,
            "max_width": null,
            "min_height": null,
            "min_width": null,
            "object_fit": null,
            "object_position": null,
            "order": null,
            "overflow": null,
            "overflow_x": null,
            "overflow_y": null,
            "padding": null,
            "right": null,
            "top": null,
            "visibility": null,
            "width": null
          }
        },
        "792120d78db64c069da8344d6eb25d8a": {
          "model_module": "@jupyter-widgets/controls",
          "model_name": "ProgressStyleModel",
          "model_module_version": "1.5.0",
          "state": {
            "_model_module": "@jupyter-widgets/controls",
            "_model_module_version": "1.5.0",
            "_model_name": "ProgressStyleModel",
            "_view_count": null,
            "_view_module": "@jupyter-widgets/base",
            "_view_module_version": "1.2.0",
            "_view_name": "StyleView",
            "bar_color": null,
            "description_width": ""
          }
        },
        "5744199796384b1ba88cf77c696f1508": {
          "model_module": "@jupyter-widgets/base",
          "model_name": "LayoutModel",
          "model_module_version": "1.2.0",
          "state": {
            "_model_module": "@jupyter-widgets/base",
            "_model_module_version": "1.2.0",
            "_model_name": "LayoutModel",
            "_view_count": null,
            "_view_module": "@jupyter-widgets/base",
            "_view_module_version": "1.2.0",
            "_view_name": "LayoutView",
            "align_content": null,
            "align_items": null,
            "align_self": null,
            "border": null,
            "bottom": null,
            "display": null,
            "flex": null,
            "flex_flow": null,
            "grid_area": null,
            "grid_auto_columns": null,
            "grid_auto_flow": null,
            "grid_auto_rows": null,
            "grid_column": null,
            "grid_gap": null,
            "grid_row": null,
            "grid_template_areas": null,
            "grid_template_columns": null,
            "grid_template_rows": null,
            "height": null,
            "justify_content": null,
            "justify_items": null,
            "left": null,
            "margin": null,
            "max_height": null,
            "max_width": null,
            "min_height": null,
            "min_width": null,
            "object_fit": null,
            "object_position": null,
            "order": null,
            "overflow": null,
            "overflow_x": null,
            "overflow_y": null,
            "padding": null,
            "right": null,
            "top": null,
            "visibility": null,
            "width": null
          }
        },
        "7d7bd6187bf84b42acd737ba30f42e31": {
          "model_module": "@jupyter-widgets/controls",
          "model_name": "DescriptionStyleModel",
          "model_module_version": "1.5.0",
          "state": {
            "_model_module": "@jupyter-widgets/controls",
            "_model_module_version": "1.5.0",
            "_model_name": "DescriptionStyleModel",
            "_view_count": null,
            "_view_module": "@jupyter-widgets/base",
            "_view_module_version": "1.2.0",
            "_view_name": "StyleView",
            "description_width": ""
          }
        }
      }
    }
  },
  "nbformat": 4,
  "nbformat_minor": 0
}