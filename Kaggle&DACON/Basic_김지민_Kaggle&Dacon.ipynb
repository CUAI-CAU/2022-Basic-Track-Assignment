{
  "cells": [
    {
      "cell_type": "markdown",
      "source": [
        "## Kaggle - JPX Tokyo Stock Exchange Prediction"
      ],
      "metadata": {
        "id": "OOQK_v1bUkos"
      },
      "id": "OOQK_v1bUkos"
    },
    {
      "cell_type": "markdown",
      "source": [
        "Light GBM + DNN 모델 사용"
      ],
      "metadata": {
        "id": "iMwIm3G_Uxj-"
      },
      "id": "iMwIm3G_Uxj-"
    },
    {
      "cell_type": "code",
      "execution_count": null,
      "id": "f1de55ef",
      "metadata": {
        "execution": {
          "iopub.execute_input": "2022-06-07T06:46:51.723471Z",
          "iopub.status.busy": "2022-06-07T06:46:51.722779Z",
          "iopub.status.idle": "2022-06-07T06:47:24.363338Z",
          "shell.execute_reply": "2022-06-07T06:47:24.362145Z"
        },
        "papermill": {
          "duration": 32.650538,
          "end_time": "2022-06-07T06:47:24.366147",
          "exception": false,
          "start_time": "2022-06-07T06:46:51.715609",
          "status": "completed"
        },
        "tags": [],
        "id": "f1de55ef",
        "outputId": "b2ac9d5c-6a24-4f90-aa9b-c3bce676797a"
      },
      "outputs": [
        {
          "name": "stdout",
          "output_type": "stream",
          "text": [
            "Processing /kaggle/input/talibload/talib_binary-0.4.19-cp37-cp37m-manylinux1_x86_64.whl\r\n",
            "Requirement already satisfied: numpy in /opt/conda/lib/python3.7/site-packages (from talib-binary==0.4.19) (1.21.6)\r\n",
            "Installing collected packages: talib-binary\r\n",
            "Successfully installed talib-binary-0.4.19\r\n",
            "\u001b[33mWARNING: Running pip as the 'root' user can result in broken permissions and conflicting behaviour with the system package manager. It is recommended to use a virtual environment instead: https://pip.pypa.io/warnings/venv\u001b[0m\u001b[33m\r\n",
            "\u001b[0m\u001b[33mWARNING: There was an error checking the latest version of pip.\u001b[0m\u001b[33m\r\n",
            "\u001b[0m"
          ]
        }
      ],
      "source": [
        "!pip install ../input/talibload/talib_binary-0.4.19-cp37-cp37m-manylinux1_x86_64.whl"
      ]
    },
    {
      "cell_type": "code",
      "execution_count": null,
      "id": "0f566582",
      "metadata": {
        "_cell_guid": "b1076dfc-b9ad-4769-8c92-a6c4dae69d19",
        "_uuid": "8f2839f25d086af736a60e9eeb907d3b93b6e0e5",
        "execution": {
          "iopub.execute_input": "2022-06-07T06:47:24.378834Z",
          "iopub.status.busy": "2022-06-07T06:47:24.377823Z",
          "iopub.status.idle": "2022-06-07T06:47:32.507736Z",
          "shell.execute_reply": "2022-06-07T06:47:32.506941Z"
        },
        "papermill": {
          "duration": 8.138768,
          "end_time": "2022-06-07T06:47:32.510119",
          "exception": false,
          "start_time": "2022-06-07T06:47:24.371351",
          "status": "completed"
        },
        "tags": [],
        "id": "0f566582",
        "outputId": "ceb29ce4-b256-4a15-ae06-62387ee897b3"
      },
      "outputs": [
        {
          "data": {
            "text/html": [
              "<style type='text/css'>\n",
              ".datatable table.frame { margin-bottom: 0; }\n",
              ".datatable table.frame thead { border-bottom: none; }\n",
              ".datatable table.frame tr.coltypes td {  color: #FFFFFF;  line-height: 6px;  padding: 0 0.5em;}\n",
              ".datatable .bool    { background: #DDDD99; }\n",
              ".datatable .object  { background: #565656; }\n",
              ".datatable .int     { background: #5D9E5D; }\n",
              ".datatable .float   { background: #4040CC; }\n",
              ".datatable .str     { background: #CC4040; }\n",
              ".datatable .time    { background: #40CC40; }\n",
              ".datatable .row_index {  background: var(--jp-border-color3);  border-right: 1px solid var(--jp-border-color0);  color: var(--jp-ui-font-color3);  font-size: 9px;}\n",
              ".datatable .frame tbody td { text-align: left; }\n",
              ".datatable .frame tr.coltypes .row_index {  background: var(--jp-border-color0);}\n",
              ".datatable th:nth-child(2) { padding-left: 12px; }\n",
              ".datatable .hellipsis {  color: var(--jp-cell-editor-border-color);}\n",
              ".datatable .vellipsis {  background: var(--jp-layout-color0);  color: var(--jp-cell-editor-border-color);}\n",
              ".datatable .na {  color: var(--jp-cell-editor-border-color);  font-size: 80%;}\n",
              ".datatable .sp {  opacity: 0.25;}\n",
              ".datatable .footer { font-size: 9px; }\n",
              ".datatable .frame_dimensions {  background: var(--jp-border-color3);  border-top: 1px solid var(--jp-border-color0);  color: var(--jp-ui-font-color3);  display: inline-block;  opacity: 0.6;  padding: 1px 10px 1px 5px;}\n",
              "</style>\n"
            ],
            "text/plain": [
              "<IPython.core.display.HTML object>"
            ]
          },
          "metadata": {},
          "output_type": "display_data"
        }
      ],
      "source": [
        "import numpy as np\n",
        "import pandas as pd\n",
        "import jpx_tokyo_market_prediction\n",
        "import talib\n",
        "\n",
        "from lightgbm import LGBMRegressor\n",
        "from sklearn.model_selection import StratifiedKFold\n",
        "from sklearn.metrics import mean_squared_error\n",
        "from sklearn.preprocessing import OrdinalEncoder\n",
        "\n",
        "import tensorflow as tf\n",
        "import tensorflow.keras.layers as L\n",
        "import tensorflow.keras.models as M\n",
        "import tensorflow.keras.backend as K\n",
        "from tensorflow.keras.callbacks import ReduceLROnPlateau, ModelCheckpoint, EarlyStopping\n",
        "from decimal import ROUND_HALF_UP, Decimal\n",
        "\n",
        "import warnings\n",
        "warnings.filterwarnings(\"ignore\")"
      ]
    },
    {
      "cell_type": "markdown",
      "source": [
        "전처리 : 결측치가 있는 행 제거, feature로 RSI, MA, EMA, MOM, ATR 지표 추가"
      ],
      "metadata": {
        "id": "-3k9gvEuVBtZ"
      },
      "id": "-3k9gvEuVBtZ"
    },
    {
      "cell_type": "code",
      "execution_count": null,
      "id": "c4edb20f",
      "metadata": {
        "execution": {
          "iopub.execute_input": "2022-06-07T06:47:32.523060Z",
          "iopub.status.busy": "2022-06-07T06:47:32.521798Z",
          "iopub.status.idle": "2022-06-07T06:47:40.896299Z",
          "shell.execute_reply": "2022-06-07T06:47:40.895322Z"
        },
        "papermill": {
          "duration": 8.38349,
          "end_time": "2022-06-07T06:47:40.898860",
          "exception": false,
          "start_time": "2022-06-07T06:47:32.515370",
          "status": "completed"
        },
        "tags": [],
        "id": "c4edb20f"
      },
      "outputs": [],
      "source": [
        "prices = pd.read_csv(\"../input/inputdata/stock_prices.csv\")"
      ]
    },
    {
      "cell_type": "code",
      "execution_count": null,
      "id": "12962b87",
      "metadata": {
        "execution": {
          "iopub.execute_input": "2022-06-07T06:47:40.911839Z",
          "iopub.status.busy": "2022-06-07T06:47:40.910991Z",
          "iopub.status.idle": "2022-06-07T06:47:40.939155Z",
          "shell.execute_reply": "2022-06-07T06:47:40.937999Z"
        },
        "papermill": {
          "duration": 0.038581,
          "end_time": "2022-06-07T06:47:40.942850",
          "exception": false,
          "start_time": "2022-06-07T06:47:40.904269",
          "status": "completed"
        },
        "tags": [],
        "id": "12962b87",
        "outputId": "02b43974-c2be-47f6-8dbb-c49270e7b5a4"
      },
      "outputs": [
        {
          "data": {
            "text/html": [
              "<div>\n",
              "<style scoped>\n",
              "    .dataframe tbody tr th:only-of-type {\n",
              "        vertical-align: middle;\n",
              "    }\n",
              "\n",
              "    .dataframe tbody tr th {\n",
              "        vertical-align: top;\n",
              "    }\n",
              "\n",
              "    .dataframe thead th {\n",
              "        text-align: right;\n",
              "    }\n",
              "</style>\n",
              "<table border=\"1\" class=\"dataframe\">\n",
              "  <thead>\n",
              "    <tr style=\"text-align: right;\">\n",
              "      <th></th>\n",
              "      <th>Unnamed: 0</th>\n",
              "      <th>Unnamed: 0.1</th>\n",
              "      <th>Date</th>\n",
              "      <th>SecuritiesCode</th>\n",
              "      <th>Open</th>\n",
              "      <th>High</th>\n",
              "      <th>Low</th>\n",
              "      <th>Volume</th>\n",
              "      <th>Target</th>\n",
              "      <th>AdjustedClose</th>\n",
              "      <th>RSI</th>\n",
              "      <th>MA</th>\n",
              "      <th>EMA</th>\n",
              "      <th>MOM</th>\n",
              "      <th>ATR</th>\n",
              "    </tr>\n",
              "  </thead>\n",
              "  <tbody>\n",
              "    <tr>\n",
              "      <th>0</th>\n",
              "      <td>0</td>\n",
              "      <td>0</td>\n",
              "      <td>2017-03-16</td>\n",
              "      <td>1301</td>\n",
              "      <td>3130.0</td>\n",
              "      <td>3170.0</td>\n",
              "      <td>3110.0</td>\n",
              "      <td>55200</td>\n",
              "      <td>-0.003130</td>\n",
              "      <td>3160.0</td>\n",
              "      <td>NaN</td>\n",
              "      <td>NaN</td>\n",
              "      <td>NaN</td>\n",
              "      <td>NaN</td>\n",
              "      <td>NaN</td>\n",
              "    </tr>\n",
              "    <tr>\n",
              "      <th>1</th>\n",
              "      <td>1</td>\n",
              "      <td>1</td>\n",
              "      <td>2017-03-16</td>\n",
              "      <td>1332</td>\n",
              "      <td>567.0</td>\n",
              "      <td>573.0</td>\n",
              "      <td>564.0</td>\n",
              "      <td>1720900</td>\n",
              "      <td>-0.005254</td>\n",
              "      <td>571.0</td>\n",
              "      <td>NaN</td>\n",
              "      <td>NaN</td>\n",
              "      <td>NaN</td>\n",
              "      <td>NaN</td>\n",
              "      <td>NaN</td>\n",
              "    </tr>\n",
              "    <tr>\n",
              "      <th>2</th>\n",
              "      <td>2</td>\n",
              "      <td>2</td>\n",
              "      <td>2017-03-16</td>\n",
              "      <td>1333</td>\n",
              "      <td>3465.0</td>\n",
              "      <td>3485.0</td>\n",
              "      <td>3455.0</td>\n",
              "      <td>151200</td>\n",
              "      <td>0.028736</td>\n",
              "      <td>3480.0</td>\n",
              "      <td>NaN</td>\n",
              "      <td>NaN</td>\n",
              "      <td>NaN</td>\n",
              "      <td>NaN</td>\n",
              "      <td>NaN</td>\n",
              "    </tr>\n",
              "    <tr>\n",
              "      <th>3</th>\n",
              "      <td>3</td>\n",
              "      <td>3</td>\n",
              "      <td>2017-03-16</td>\n",
              "      <td>1376</td>\n",
              "      <td>1470.0</td>\n",
              "      <td>1481.0</td>\n",
              "      <td>1469.0</td>\n",
              "      <td>9300</td>\n",
              "      <td>-0.006761</td>\n",
              "      <td>1472.0</td>\n",
              "      <td>NaN</td>\n",
              "      <td>NaN</td>\n",
              "      <td>NaN</td>\n",
              "      <td>NaN</td>\n",
              "      <td>NaN</td>\n",
              "    </tr>\n",
              "    <tr>\n",
              "      <th>4</th>\n",
              "      <td>4</td>\n",
              "      <td>4</td>\n",
              "      <td>2017-03-16</td>\n",
              "      <td>1377</td>\n",
              "      <td>3400.0</td>\n",
              "      <td>3465.0</td>\n",
              "      <td>3375.0</td>\n",
              "      <td>464100</td>\n",
              "      <td>0.004438</td>\n",
              "      <td>3400.0</td>\n",
              "      <td>NaN</td>\n",
              "      <td>NaN</td>\n",
              "      <td>NaN</td>\n",
              "      <td>NaN</td>\n",
              "      <td>NaN</td>\n",
              "    </tr>\n",
              "  </tbody>\n",
              "</table>\n",
              "</div>"
            ],
            "text/plain": [
              "   Unnamed: 0  Unnamed: 0.1        Date  SecuritiesCode    Open    High  \\\n",
              "0           0             0  2017-03-16            1301  3130.0  3170.0   \n",
              "1           1             1  2017-03-16            1332   567.0   573.0   \n",
              "2           2             2  2017-03-16            1333  3465.0  3485.0   \n",
              "3           3             3  2017-03-16            1376  1470.0  1481.0   \n",
              "4           4             4  2017-03-16            1377  3400.0  3465.0   \n",
              "\n",
              "      Low   Volume    Target  AdjustedClose  RSI  MA  EMA  MOM  ATR  \n",
              "0  3110.0    55200 -0.003130         3160.0  NaN NaN  NaN  NaN  NaN  \n",
              "1   564.0  1720900 -0.005254          571.0  NaN NaN  NaN  NaN  NaN  \n",
              "2  3455.0   151200  0.028736         3480.0  NaN NaN  NaN  NaN  NaN  \n",
              "3  1469.0     9300 -0.006761         1472.0  NaN NaN  NaN  NaN  NaN  \n",
              "4  3375.0   464100  0.004438         3400.0  NaN NaN  NaN  NaN  NaN  "
            ]
          },
          "execution_count": 4,
          "metadata": {},
          "output_type": "execute_result"
        }
      ],
      "source": [
        "prices.head()"
      ]
    },
    {
      "cell_type": "code",
      "execution_count": null,
      "id": "097ac666",
      "metadata": {
        "execution": {
          "iopub.execute_input": "2022-06-07T06:47:40.956780Z",
          "iopub.status.busy": "2022-06-07T06:47:40.955701Z",
          "iopub.status.idle": "2022-06-07T06:47:40.964463Z",
          "shell.execute_reply": "2022-06-07T06:47:40.963732Z"
        },
        "papermill": {
          "duration": 0.018043,
          "end_time": "2022-06-07T06:47:40.966618",
          "exception": false,
          "start_time": "2022-06-07T06:47:40.948575",
          "status": "completed"
        },
        "tags": [],
        "id": "097ac666"
      },
      "outputs": [],
      "source": [
        "# fold 만드는 과정\n",
        "def setup_cv(df, splits=5):\n",
        "    df['fold'] = -1\n",
        "    df = df.sample(frac=1, random_state=42).reset_index(drop=True)\n",
        "    num_bins = int(np.floor(1 + np.log2(len(df))))\n",
        "    df.loc[:, \"bins\"] = pd.cut(\n",
        "        df[\"Target\"], bins=num_bins, labels=False\n",
        "    )\n",
        "\n",
        "    kf = StratifiedKFold(n_splits=splits)\n",
        "    for f, (t_, v_) in enumerate(kf.split(X=df, y=df.bins.values)):\n",
        "            df.loc[v_, 'fold'] = f\n",
        "\n",
        "    df = df.drop(\"bins\", axis=1)\n",
        "    return df"
      ]
    },
    {
      "cell_type": "code",
      "execution_count": null,
      "id": "f9f6b31b",
      "metadata": {
        "execution": {
          "iopub.execute_input": "2022-06-07T06:47:40.980287Z",
          "iopub.status.busy": "2022-06-07T06:47:40.979150Z",
          "iopub.status.idle": "2022-06-07T06:47:42.977644Z",
          "shell.execute_reply": "2022-06-07T06:47:42.976397Z"
        },
        "papermill": {
          "duration": 2.008447,
          "end_time": "2022-06-07T06:47:42.980610",
          "exception": false,
          "start_time": "2022-06-07T06:47:40.972163",
          "status": "completed"
        },
        "tags": [],
        "id": "f9f6b31b"
      },
      "outputs": [],
      "source": [
        "prices = setup_cv(prices)"
      ]
    },
    {
      "cell_type": "code",
      "execution_count": null,
      "id": "5287e0ab",
      "metadata": {
        "execution": {
          "iopub.execute_input": "2022-06-07T06:47:42.993852Z",
          "iopub.status.busy": "2022-06-07T06:47:42.993399Z",
          "iopub.status.idle": "2022-06-07T06:47:43.581600Z",
          "shell.execute_reply": "2022-06-07T06:47:43.580579Z"
        },
        "papermill": {
          "duration": 0.597733,
          "end_time": "2022-06-07T06:47:43.584032",
          "exception": false,
          "start_time": "2022-06-07T06:47:42.986299",
          "status": "completed"
        },
        "tags": [],
        "id": "5287e0ab"
      },
      "outputs": [],
      "source": [
        "enc = OrdinalEncoder()\n",
        "prices[\"SecuritiesCode\"] = enc.fit_transform(prices[[\"SecuritiesCode\"]])"
      ]
    },
    {
      "cell_type": "markdown",
      "source": [
        "### LGBM"
      ],
      "metadata": {
        "id": "og2o8wPOHtNw"
      },
      "id": "og2o8wPOHtNw"
    },
    {
      "cell_type": "code",
      "execution_count": null,
      "id": "70a28419",
      "metadata": {
        "execution": {
          "iopub.execute_input": "2022-06-07T06:47:43.596970Z",
          "iopub.status.busy": "2022-06-07T06:47:43.596543Z",
          "iopub.status.idle": "2022-06-07T06:47:43.605661Z",
          "shell.execute_reply": "2022-06-07T06:47:43.604714Z"
        },
        "papermill": {
          "duration": 0.018255,
          "end_time": "2022-06-07T06:47:43.607980",
          "exception": false,
          "start_time": "2022-06-07T06:47:43.589725",
          "status": "completed"
        },
        "tags": [],
        "id": "70a28419"
      },
      "outputs": [],
      "source": [
        "def train_lgbm(prices, folds):\n",
        "    models = list()\n",
        "    \n",
        "    for f in range(folds):\n",
        "        X_train = prices[prices.fold != f][[\"SecuritiesCode\", \"Open\", \"High\", \"Low\", \"AdjustedClose\", \n",
        "                                            \"RSI\", \"MA\", \"EMA\", \"MOM\", \"ATR\"]]\n",
        "        y_train = prices[prices.fold != f][[\"Target\"]]\n",
        "        X_valid = prices[prices.fold == f][[\"SecuritiesCode\", \"Open\", \"High\", \"Low\", \"AdjustedClose\", \n",
        "                                            \"RSI\", \"MA\", \"EMA\", \"MOM\", \"ATR\"]]\n",
        "        y_valid = prices[prices.fold == f][[\"Target\"]]\n",
        "        \n",
        "        model = LGBMRegressor()\n",
        "        model.fit(X_train, y_train)\n",
        "        oof_preds = model.predict(X_valid)\n",
        "        # MSE\n",
        "        oof_score = np.sqrt(mean_squared_error(y_valid, oof_preds))\n",
        "        print(oof_score)\n",
        "        models.append(model)\n",
        "        \n",
        "    return models"
      ]
    },
    {
      "cell_type": "markdown",
      "source": [
        "### DNN"
      ],
      "metadata": {
        "id": "RdOZztwzHxpA"
      },
      "id": "RdOZztwzHxpA"
    },
    {
      "cell_type": "code",
      "execution_count": null,
      "id": "874c965f",
      "metadata": {
        "execution": {
          "iopub.execute_input": "2022-06-07T06:47:43.621356Z",
          "iopub.status.busy": "2022-06-07T06:47:43.620688Z",
          "iopub.status.idle": "2022-06-07T06:47:43.665936Z",
          "shell.execute_reply": "2022-06-07T06:47:43.664919Z"
        },
        "papermill": {
          "duration": 0.054861,
          "end_time": "2022-06-07T06:47:43.668553",
          "exception": false,
          "start_time": "2022-06-07T06:47:43.613692",
          "status": "completed"
        },
        "tags": [],
        "id": "874c965f"
      },
      "outputs": [],
      "source": [
        "codes = list(prices.SecuritiesCode.unique())\n",
        "codes_size = len(codes)\n",
        "\n",
        "def dense_block(x, units, act='swish', dr=0.2):\n",
        "    x = L.Dropout(dr)(x)\n",
        "    x = L.BatchNormalization()(x)\n",
        "    x = L.Dense(units, activation=act)(x)\n",
        "    return x\n",
        "\n",
        "def get_dnn(dense_blocks):\n",
        "    prices_in = L.Input(shape=(9,), name='input_prices')\n",
        "    x_prices = L.BatchNormalization()(prices_in)\n",
        "    x_prices = L.Dense(64, activation='swish')(x_prices)\n",
        "    \n",
        "    security_code_input = L.Input(shape=(1,), name='input_security_code')\n",
        "    x_id = L.Embedding(codes_size, 32, input_length=1)(security_code_input)\n",
        "    x_id = L.Reshape((-1, ))(x_id)\n",
        "    x_id = L.Dense(32, activation='swish')(x_id)\n",
        "\n",
        "    x = L.Concatenate(axis=1)([x_id, x_prices])\n",
        "    \n",
        "    for units in dense_blocks:\n",
        "        x = dense_block(x, units)\n",
        "    \n",
        "    output = L.Dense(1)(x)\n",
        "    \n",
        "    model = M.Model([prices_in, security_code_input], \n",
        "                    [output])\n",
        "\n",
        "    model.compile(optimizer=tf.optimizers.Adam(lr=0.001),\n",
        "                  loss='mse', metrics=['mse'])\n",
        "    \n",
        "    return model\n",
        "    \n",
        "def train_dnn(prices, folds):\n",
        "    models = list()\n",
        "    for f in range(folds):\n",
        "        X_train_prices = prices[prices.fold != f][[\"Open\", \"High\", \"Low\", \"AdjustedClose\",\n",
        "                                                  \"RSI\", \"MA\", \"EMA\", \"MOM\", \"ATR\"]]\n",
        "        X_train_prices.fillna(0, inplace=True)\n",
        "        X_train_id = prices[prices.fold != f][[\"SecuritiesCode\"]]\n",
        "        y_train = prices[prices.fold != f][[\"Target\"]]\n",
        "        X_valid_prices = prices[prices.fold == f][[\"Open\", \"High\", \"Low\", \"AdjustedClose\",\n",
        "                                                  \"RSI\", \"MA\", \"EMA\", \"MOM\", \"ATR\"]]\n",
        "        X_valid_prices.fillna(0, inplace=True)\n",
        "        X_valid_id = prices[prices.fold == f][[\"SecuritiesCode\"]]\n",
        "        y_valid = prices[prices.fold == f][[\"Target\"]]\n",
        "\n",
        "        model = get_dnn([128, 64, 32])\n",
        "        model.fit([X_train_prices, X_train_id], y_train,\n",
        "                   validation_data=([X_valid_prices, X_valid_id], y_valid),\n",
        "                   batch_size=128, epochs=15, verbose=0)\n",
        "\n",
        "        oof_preds = model.predict([X_valid_prices, X_valid_id])\n",
        "        print(oof_preds)\n",
        "        oof_score = np.sqrt(mean_squared_error(y_valid, oof_preds))\n",
        "        print(oof_score)\n",
        "        models.append(model)\n",
        "        # break\n",
        "        # break for speed of training, feel free to train all folds\n",
        "    \n",
        "    return models"
      ]
    },
    {
      "cell_type": "markdown",
      "source": [
        "### RMSE 출력"
      ],
      "metadata": {
        "id": "FfcgGPnc9Nnr"
      },
      "id": "FfcgGPnc9Nnr"
    },
    {
      "cell_type": "code",
      "execution_count": null,
      "id": "8566d310",
      "metadata": {
        "execution": {
          "iopub.execute_input": "2022-06-07T06:47:43.681426Z",
          "iopub.status.busy": "2022-06-07T06:47:43.681015Z",
          "iopub.status.idle": "2022-06-07T06:48:12.338913Z",
          "shell.execute_reply": "2022-06-07T06:48:12.337069Z"
        },
        "papermill": {
          "duration": 28.668689,
          "end_time": "2022-06-07T06:48:12.342839",
          "exception": false,
          "start_time": "2022-06-07T06:47:43.674150",
          "status": "completed"
        },
        "tags": [],
        "id": "8566d310",
        "outputId": "ada099f9-2451-4463-c450-f3eee08acec6"
      },
      "outputs": [
        {
          "name": "stdout",
          "output_type": "stream",
          "text": [
            "0.02341351692648679\n",
            "0.023440488826723564\n",
            "0.02342650309060861\n",
            "0.023432617721630956\n",
            "0.023425751675387664\n"
          ]
        }
      ],
      "source": [
        "lgbm_models = train_lgbm(prices, 5)"
      ]
    },
    {
      "cell_type": "code",
      "execution_count": null,
      "id": "85c4a952",
      "metadata": {
        "execution": {
          "iopub.execute_input": "2022-06-07T06:48:12.357163Z",
          "iopub.status.busy": "2022-06-07T06:48:12.356574Z",
          "iopub.status.idle": "2022-06-07T08:17:51.435276Z",
          "shell.execute_reply": "2022-06-07T08:17:51.434193Z"
        },
        "papermill": {
          "duration": 5379.092462,
          "end_time": "2022-06-07T08:17:51.442141",
          "exception": false,
          "start_time": "2022-06-07T06:48:12.349679",
          "status": "completed"
        },
        "tags": [],
        "id": "85c4a952",
        "outputId": "dbbf816d-e8f4-48db-fd02-8f170f23651d"
      },
      "outputs": [
        {
          "name": "stderr",
          "output_type": "stream",
          "text": [
            "2022-06-07 06:48:12.983958: I tensorflow/core/common_runtime/process_util.cc:146] Creating new thread pool with default inter op setting: 2. Tune using inter_op_parallelism_threads for best performance.\n",
            "2022-06-07 06:48:13.409226: I tensorflow/compiler/mlir/mlir_graph_optimization_pass.cc:185] None of the MLIR Optimization Passes are enabled (registered 2)\n"
          ]
        },
        {
          "name": "stdout",
          "output_type": "stream",
          "text": [
            "[[ 3.4668483e-07]\n",
            " [-3.4677971e-05]\n",
            " [-2.8792658e-04]\n",
            " ...\n",
            " [-1.5700975e-04]\n",
            " [ 8.7235821e-07]\n",
            " [ 6.3655991e-03]]\n",
            "0.02343806071263721\n",
            "[[0.00293536]\n",
            " [0.00321634]\n",
            " [0.00219325]\n",
            " ...\n",
            " [0.00295359]\n",
            " [0.00370332]\n",
            " [0.00286503]]\n",
            "0.023641268385668258\n",
            "[[-0.00504554]\n",
            " [-0.00428544]\n",
            " [-0.00494065]\n",
            " ...\n",
            " [-0.00373425]\n",
            " [-0.00455075]\n",
            " [-0.00508346]]\n",
            "0.02397805789391901\n",
            "[[ 2.5903515e-05]\n",
            " [-5.7212717e-05]\n",
            " [ 7.6148717e-05]\n",
            " ...\n",
            " [ 5.5376749e-04]\n",
            " [ 2.5209691e-04]\n",
            " [ 1.2463899e-03]]\n",
            "0.023451054876109215\n",
            "[[0.00075864]\n",
            " [0.00056621]\n",
            " [0.00107522]\n",
            " ...\n",
            " [0.00151968]\n",
            " [0.00089072]\n",
            " [0.00087635]]\n",
            "0.023590726675423435\n"
          ]
        }
      ],
      "source": [
        "dnn_models = train_dnn(prices, 5)"
      ]
    },
    {
      "cell_type": "markdown",
      "source": [
        "### AdjustedClose 계산"
      ],
      "metadata": {
        "id": "t7SgVeJuH2wq"
      },
      "id": "t7SgVeJuH2wq"
    },
    {
      "cell_type": "markdown",
      "source": [
        "Close 변수를 조정한 AdjustedClose 값 구하기"
      ],
      "metadata": {
        "id": "Oasheiyi9UtG"
      },
      "id": "Oasheiyi9UtG"
    },
    {
      "cell_type": "code",
      "execution_count": null,
      "id": "6841dbb5",
      "metadata": {
        "execution": {
          "iopub.execute_input": "2022-06-07T08:17:51.456179Z",
          "iopub.status.busy": "2022-06-07T08:17:51.455493Z",
          "iopub.status.idle": "2022-06-07T08:17:51.466284Z",
          "shell.execute_reply": "2022-06-07T08:17:51.465306Z"
        },
        "papermill": {
          "duration": 0.020018,
          "end_time": "2022-06-07T08:17:51.468292",
          "exception": false,
          "start_time": "2022-06-07T08:17:51.448274",
          "status": "completed"
        },
        "tags": [],
        "id": "6841dbb5"
      },
      "outputs": [],
      "source": [
        "def adjust_price(price):\n",
        "    \"\"\"\n",
        "    Args:\n",
        "        price (pd.DataFrame)  : pd.DataFrame include stock_price\n",
        "    Returns:\n",
        "        price DataFrame (pd.DataFrame): stock_price with generated AdjustedClose\n",
        "    \"\"\"\n",
        "    # transform Date column into datetime\n",
        "    price.loc[: ,\"Date\"] = pd.to_datetime(price.loc[: ,\"Date\"], format=\"%Y-%m-%d\")\n",
        "\n",
        "    def generate_adjusted_close(df):\n",
        "        \"\"\"\n",
        "        Args:\n",
        "            df (pd.DataFrame)  : stock_price for a single SecuritiesCode\n",
        "        Returns:\n",
        "            df (pd.DataFrame): stock_price with AdjustedClose for a single SecuritiesCode\n",
        "        \"\"\"\n",
        "        # sort data to generate CumulativeAdjustmentFactor\n",
        "        df = df.sort_values(\"Date\", ascending=False)\n",
        "        # generate CumulativeAdjustmentFactor\n",
        "        df.loc[:, \"CumulativeAdjustmentFactor\"] = df[\"AdjustmentFactor\"].cumprod()\n",
        "        # generate AdjustedClose\n",
        "        df.loc[:, \"AdjustedClose\"] = (\n",
        "            df[\"CumulativeAdjustmentFactor\"] * df[\"Close\"]\n",
        "        ).map(lambda x: float(\n",
        "            Decimal(str(x)).quantize(Decimal('0.1'), rounding=ROUND_HALF_UP)\n",
        "        ))\n",
        "        # reverse order\n",
        "        df = df.sort_values(\"Date\")\n",
        "        # to fill AdjustedClose, replace 0 into np.nan\n",
        "        df.loc[df[\"AdjustedClose\"] == 0, \"AdjustedClose\"] = np.nan\n",
        "        # forward fill AdjustedClose\n",
        "        df.loc[:, \"AdjustedClose\"] = df.loc[:, \"AdjustedClose\"].ffill()\n",
        "        return df\n",
        "    \n",
        "    # generate AdjustedClose\n",
        "    price = price.sort_values([\"SecuritiesCode\", \"Date\"])\n",
        "    price = price.groupby(\"SecuritiesCode\").apply(generate_adjusted_close).reset_index(drop=True)\n",
        "  \n",
        "    return price"
      ]
    },
    {
      "cell_type": "markdown",
      "source": [
        "### 최종 예측"
      ],
      "metadata": {
        "id": "1qIiAVriH6bp"
      },
      "id": "1qIiAVriH6bp"
    },
    {
      "cell_type": "code",
      "execution_count": null,
      "id": "468f6538",
      "metadata": {
        "execution": {
          "iopub.execute_input": "2022-06-07T08:17:51.482539Z",
          "iopub.status.busy": "2022-06-07T08:17:51.481549Z",
          "iopub.status.idle": "2022-06-07T08:18:09.629734Z",
          "shell.execute_reply": "2022-06-07T08:18:09.628772Z"
        },
        "papermill": {
          "duration": 18.157757,
          "end_time": "2022-06-07T08:18:09.632089",
          "exception": false,
          "start_time": "2022-06-07T08:17:51.474332",
          "status": "completed"
        },
        "tags": [],
        "id": "468f6538",
        "outputId": "d61f6419-ca11-4890-841c-571fe8c35088"
      },
      "outputs": [
        {
          "name": "stdout",
          "output_type": "stream",
          "text": [
            "This version of the API is not optimized and should not be used to estimate the runtime of your code on the hidden test set.\n"
          ]
        }
      ],
      "source": [
        "env = jpx_tokyo_market_prediction.make_env()\n",
        "iter_test = env.iter_test()\n",
        "\n",
        "for (prices, options, financials, trades, secondary_prices, sample_prediction) in iter_test:\n",
        "    prices[\"SecuritiesCode\"] = enc.fit_transform(prices[[\"SecuritiesCode\"]])\n",
        "    \n",
        "    prices = prices.drop('ExpectedDividend',axis=1).fillna(0)\n",
        "    prices = adjust_price(prices)\n",
        "\n",
        "    prices = prices[['Date','SecuritiesCode','Open','High','Low','Volume','AdjustedClose']]\n",
        "    \n",
        "    op = prices['Open']\n",
        "    hi = prices['High']\n",
        "    lo = prices['Low']\n",
        "    cl = prices['AdjustedClose']\n",
        "    vo = prices['Volume']\n",
        "\n",
        "    prices['RSI'] = talib.RSI(cl, timeperiod=20)\n",
        "    prices['MA'] = talib.MA(cl, timeperiod=20, matype=0)  \n",
        "    prices['EMA'] = talib.EMA(cl, timeperiod=20) \n",
        "    prices['MOM'] = talib.MOM(cl, timeperiod=20)\n",
        "    prices['ATR'] = talib.ATR(hi, lo, cl, timeperiod=20)\n",
        "\n",
        "    X_test = prices[[\"SecuritiesCode\", \"Open\", \"High\", \"Low\", \"AdjustedClose\", \"RSI\", \"MA\", \"EMA\", \"MOM\", \"ATR\"]]\n",
        "    lgbm_preds = list()\n",
        "    for model in lgbm_models:\n",
        "        lgbm_preds.append( model.predict(X_test) )\n",
        "    lgbm_preds = np.mean(lgbm_preds, axis=0)\n",
        "    \n",
        "    X_test_prices = prices[[\"Open\", \"High\", \"Low\", \"AdjustedClose\", \"RSI\", \"MA\", \"EMA\", \"MOM\", \"ATR\"]]\n",
        "    X_test_id = prices[[\"SecuritiesCode\"]]\n",
        "    dnn_preds = list()\n",
        "    for model in dnn_models:\n",
        "        dnn_preds.append( model.predict([X_test_prices, X_test_id]) )\n",
        "    dnn_preds = np.mean(dnn_preds, axis=0)[0]\n",
        "    \n",
        "    sample_prediction[\"Prediction\"] = lgbm_preds*0.8 + dnn_preds*0.2\n",
        "    \n",
        "    sample_prediction = sample_prediction.sort_values(by = \"Prediction\", ascending=False)\n",
        "    sample_prediction.Rank = np.arange(0,2000)\n",
        "    sample_prediction = sample_prediction.sort_values(by = \"SecuritiesCode\", ascending=True)\n",
        "    sample_prediction.drop([\"Prediction\"],axis=1)\n",
        "    submission = sample_prediction[[\"Date\",\"SecuritiesCode\",\"Rank\"]]\n",
        "    env.predict(submission)"
      ]
    }
  ],
  "metadata": {
    "kernelspec": {
      "display_name": "Python 3",
      "language": "python",
      "name": "python3"
    },
    "language_info": {
      "codemirror_mode": {
        "name": "ipython",
        "version": 3
      },
      "file_extension": ".py",
      "mimetype": "text/x-python",
      "name": "python",
      "nbconvert_exporter": "python",
      "pygments_lexer": "ipython3",
      "version": "3.7.12"
    },
    "papermill": {
      "default_parameters": {},
      "duration": 5492.114905,
      "end_time": "2022-06-07T08:18:13.093447",
      "environment_variables": {},
      "exception": null,
      "input_path": "__notebook__.ipynb",
      "output_path": "__notebook__.ipynb",
      "parameters": {},
      "start_time": "2022-06-07T06:46:40.978542",
      "version": "2.3.4"
    },
    "colab": {
      "name": "Basic_김지민_Kaggle&Dacon.ipynb",
      "provenance": [],
      "collapsed_sections": [],
      "toc_visible": true
    }
  },
  "nbformat": 4,
  "nbformat_minor": 5
}