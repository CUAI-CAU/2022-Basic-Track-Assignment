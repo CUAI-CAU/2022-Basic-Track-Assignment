{
  "nbformat": 4,
  "nbformat_minor": 0,
  "metadata": {
    "colab": {
      "name": "펭귄 몸무게 예측.ipynb",
      "provenance": [],
      "collapsed_sections": []
    },
    "kernelspec": {
      "name": "python3",
      "display_name": "Python 3"
    },
    "language_info": {
      "name": "python"
    }
  },
  "cells": [
    {
      "cell_type": "markdown",
      "source": [
        "펭귄 몸무게 예측 경진대회 : 펭귄의 종류, 날개 길이, 부리 깊이 등 펭귄들의 정보를 담은 데이터를 통해 각 펭귄의 몸무게를 예측하는 대회이다."
      ],
      "metadata": {
        "id": "Vixf5LkqZ_EM"
      }
    },
    {
      "cell_type": "code",
      "execution_count": null,
      "metadata": {
        "colab": {
          "base_uri": "https://localhost:8080/",
          "height": 478
        },
        "id": "HN-jXG6t24TU",
        "outputId": "4f6d67c7-e149-4864-8309-f140df5f8259"
      },
      "outputs": [
        {
          "output_type": "execute_result",
          "data": {
            "text/plain": [
              "   id                                    Species  Island Clutch Completion  \\\n",
              "0   0          Gentoo penguin (Pygoscelis papua)  Biscoe               Yes   \n",
              "1   1  Chinstrap penguin (Pygoscelis antarctica)   Dream                No   \n",
              "2   2          Gentoo penguin (Pygoscelis papua)  Biscoe               Yes   \n",
              "3   3          Gentoo penguin (Pygoscelis papua)  Biscoe               Yes   \n",
              "4   4          Gentoo penguin (Pygoscelis papua)  Biscoe                No   \n",
              "\n",
              "   Culmen Length (mm)  Culmen Depth (mm)  Flipper Length (mm)     Sex  \\\n",
              "0                50.0               15.3                  220    MALE   \n",
              "1                49.5               19.0                  200    MALE   \n",
              "2                45.1               14.4                  210  FEMALE   \n",
              "3                44.5               14.7                  214  FEMALE   \n",
              "4                49.6               16.0                  225    MALE   \n",
              "\n",
              "   Delta 15 N (o/oo)  Delta 13 C (o/oo)  Body Mass (g)  \n",
              "0            8.30515          -25.19017           5550  \n",
              "1            9.63074          -24.34684           3800  \n",
              "2            8.51951          -27.01854           4400  \n",
              "3            8.20106          -26.16524           4850  \n",
              "4            8.38324          -26.84272           5700  "
            ],
            "text/html": [
              "\n",
              "  <div id=\"df-2ccdea22-81f6-47a8-9085-2a285610fdb4\">\n",
              "    <div class=\"colab-df-container\">\n",
              "      <div>\n",
              "<style scoped>\n",
              "    .dataframe tbody tr th:only-of-type {\n",
              "        vertical-align: middle;\n",
              "    }\n",
              "\n",
              "    .dataframe tbody tr th {\n",
              "        vertical-align: top;\n",
              "    }\n",
              "\n",
              "    .dataframe thead th {\n",
              "        text-align: right;\n",
              "    }\n",
              "</style>\n",
              "<table border=\"1\" class=\"dataframe\">\n",
              "  <thead>\n",
              "    <tr style=\"text-align: right;\">\n",
              "      <th></th>\n",
              "      <th>id</th>\n",
              "      <th>Species</th>\n",
              "      <th>Island</th>\n",
              "      <th>Clutch Completion</th>\n",
              "      <th>Culmen Length (mm)</th>\n",
              "      <th>Culmen Depth (mm)</th>\n",
              "      <th>Flipper Length (mm)</th>\n",
              "      <th>Sex</th>\n",
              "      <th>Delta 15 N (o/oo)</th>\n",
              "      <th>Delta 13 C (o/oo)</th>\n",
              "      <th>Body Mass (g)</th>\n",
              "    </tr>\n",
              "  </thead>\n",
              "  <tbody>\n",
              "    <tr>\n",
              "      <th>0</th>\n",
              "      <td>0</td>\n",
              "      <td>Gentoo penguin (Pygoscelis papua)</td>\n",
              "      <td>Biscoe</td>\n",
              "      <td>Yes</td>\n",
              "      <td>50.0</td>\n",
              "      <td>15.3</td>\n",
              "      <td>220</td>\n",
              "      <td>MALE</td>\n",
              "      <td>8.30515</td>\n",
              "      <td>-25.19017</td>\n",
              "      <td>5550</td>\n",
              "    </tr>\n",
              "    <tr>\n",
              "      <th>1</th>\n",
              "      <td>1</td>\n",
              "      <td>Chinstrap penguin (Pygoscelis antarctica)</td>\n",
              "      <td>Dream</td>\n",
              "      <td>No</td>\n",
              "      <td>49.5</td>\n",
              "      <td>19.0</td>\n",
              "      <td>200</td>\n",
              "      <td>MALE</td>\n",
              "      <td>9.63074</td>\n",
              "      <td>-24.34684</td>\n",
              "      <td>3800</td>\n",
              "    </tr>\n",
              "    <tr>\n",
              "      <th>2</th>\n",
              "      <td>2</td>\n",
              "      <td>Gentoo penguin (Pygoscelis papua)</td>\n",
              "      <td>Biscoe</td>\n",
              "      <td>Yes</td>\n",
              "      <td>45.1</td>\n",
              "      <td>14.4</td>\n",
              "      <td>210</td>\n",
              "      <td>FEMALE</td>\n",
              "      <td>8.51951</td>\n",
              "      <td>-27.01854</td>\n",
              "      <td>4400</td>\n",
              "    </tr>\n",
              "    <tr>\n",
              "      <th>3</th>\n",
              "      <td>3</td>\n",
              "      <td>Gentoo penguin (Pygoscelis papua)</td>\n",
              "      <td>Biscoe</td>\n",
              "      <td>Yes</td>\n",
              "      <td>44.5</td>\n",
              "      <td>14.7</td>\n",
              "      <td>214</td>\n",
              "      <td>FEMALE</td>\n",
              "      <td>8.20106</td>\n",
              "      <td>-26.16524</td>\n",
              "      <td>4850</td>\n",
              "    </tr>\n",
              "    <tr>\n",
              "      <th>4</th>\n",
              "      <td>4</td>\n",
              "      <td>Gentoo penguin (Pygoscelis papua)</td>\n",
              "      <td>Biscoe</td>\n",
              "      <td>No</td>\n",
              "      <td>49.6</td>\n",
              "      <td>16.0</td>\n",
              "      <td>225</td>\n",
              "      <td>MALE</td>\n",
              "      <td>8.38324</td>\n",
              "      <td>-26.84272</td>\n",
              "      <td>5700</td>\n",
              "    </tr>\n",
              "  </tbody>\n",
              "</table>\n",
              "</div>\n",
              "      <button class=\"colab-df-convert\" onclick=\"convertToInteractive('df-2ccdea22-81f6-47a8-9085-2a285610fdb4')\"\n",
              "              title=\"Convert this dataframe to an interactive table.\"\n",
              "              style=\"display:none;\">\n",
              "        \n",
              "  <svg xmlns=\"http://www.w3.org/2000/svg\" height=\"24px\"viewBox=\"0 0 24 24\"\n",
              "       width=\"24px\">\n",
              "    <path d=\"M0 0h24v24H0V0z\" fill=\"none\"/>\n",
              "    <path d=\"M18.56 5.44l.94 2.06.94-2.06 2.06-.94-2.06-.94-.94-2.06-.94 2.06-2.06.94zm-11 1L8.5 8.5l.94-2.06 2.06-.94-2.06-.94L8.5 2.5l-.94 2.06-2.06.94zm10 10l.94 2.06.94-2.06 2.06-.94-2.06-.94-.94-2.06-.94 2.06-2.06.94z\"/><path d=\"M17.41 7.96l-1.37-1.37c-.4-.4-.92-.59-1.43-.59-.52 0-1.04.2-1.43.59L10.3 9.45l-7.72 7.72c-.78.78-.78 2.05 0 2.83L4 21.41c.39.39.9.59 1.41.59.51 0 1.02-.2 1.41-.59l7.78-7.78 2.81-2.81c.8-.78.8-2.07 0-2.86zM5.41 20L4 18.59l7.72-7.72 1.47 1.35L5.41 20z\"/>\n",
              "  </svg>\n",
              "      </button>\n",
              "      \n",
              "  <style>\n",
              "    .colab-df-container {\n",
              "      display:flex;\n",
              "      flex-wrap:wrap;\n",
              "      gap: 12px;\n",
              "    }\n",
              "\n",
              "    .colab-df-convert {\n",
              "      background-color: #E8F0FE;\n",
              "      border: none;\n",
              "      border-radius: 50%;\n",
              "      cursor: pointer;\n",
              "      display: none;\n",
              "      fill: #1967D2;\n",
              "      height: 32px;\n",
              "      padding: 0 0 0 0;\n",
              "      width: 32px;\n",
              "    }\n",
              "\n",
              "    .colab-df-convert:hover {\n",
              "      background-color: #E2EBFA;\n",
              "      box-shadow: 0px 1px 2px rgba(60, 64, 67, 0.3), 0px 1px 3px 1px rgba(60, 64, 67, 0.15);\n",
              "      fill: #174EA6;\n",
              "    }\n",
              "\n",
              "    [theme=dark] .colab-df-convert {\n",
              "      background-color: #3B4455;\n",
              "      fill: #D2E3FC;\n",
              "    }\n",
              "\n",
              "    [theme=dark] .colab-df-convert:hover {\n",
              "      background-color: #434B5C;\n",
              "      box-shadow: 0px 1px 3px 1px rgba(0, 0, 0, 0.15);\n",
              "      filter: drop-shadow(0px 1px 2px rgba(0, 0, 0, 0.3));\n",
              "      fill: #FFFFFF;\n",
              "    }\n",
              "  </style>\n",
              "\n",
              "      <script>\n",
              "        const buttonEl =\n",
              "          document.querySelector('#df-2ccdea22-81f6-47a8-9085-2a285610fdb4 button.colab-df-convert');\n",
              "        buttonEl.style.display =\n",
              "          google.colab.kernel.accessAllowed ? 'block' : 'none';\n",
              "\n",
              "        async function convertToInteractive(key) {\n",
              "          const element = document.querySelector('#df-2ccdea22-81f6-47a8-9085-2a285610fdb4');\n",
              "          const dataTable =\n",
              "            await google.colab.kernel.invokeFunction('convertToInteractive',\n",
              "                                                     [key], {});\n",
              "          if (!dataTable) return;\n",
              "\n",
              "          const docLinkHtml = 'Like what you see? Visit the ' +\n",
              "            '<a target=\"_blank\" href=https://colab.research.google.com/notebooks/data_table.ipynb>data table notebook</a>'\n",
              "            + ' to learn more about interactive tables.';\n",
              "          element.innerHTML = '';\n",
              "          dataTable['output_type'] = 'display_data';\n",
              "          await google.colab.output.renderOutput(dataTable, element);\n",
              "          const docLink = document.createElement('div');\n",
              "          docLink.innerHTML = docLinkHtml;\n",
              "          element.appendChild(docLink);\n",
              "        }\n",
              "      </script>\n",
              "    </div>\n",
              "  </div>\n",
              "  "
            ]
          },
          "metadata": {},
          "execution_count": 4
        }
      ],
      "source": [
        "import pandas as pd\n",
        "\n",
        "import warnings\n",
        "warnings.filterwarnings('ignore')\n",
        "\n",
        "pd.set_option('display.max_columns', None) # 모든 컬럼 다 보기\n",
        "\n",
        "train = pd.read_csv(\"train.csv\")\n",
        "train.head()\n",
        "\n",
        "# train 데이터의 head를 보고 어떤 데이터를 가지고 있는지 확인"
      ]
    },
    {
      "cell_type": "markdown",
      "source": [
        "<데이터 설명>  \n",
        "species : 종   \n",
        "island : 서식지  \n",
        "clutch completion : 관찰된 펭귄 둥지의 알이 2개인 경우 Full Clutch이며 Yes로 표기  \n",
        "Culmen Length (mm) : 펭귄 옆모습 기준 부리의 가로 길이  \n",
        "Culmen Depth (mm) : 펭귄 옆모습 기준 부리의 세로 길이  \n",
        "Flipper Length (mm) : 펭귄의 팔(날개) 길이  \n",
        "Sex : 펭귄의 성별  \n",
        "Delta 15 N (o/oo)  : 토양에 따라 변화하는 안정 동위원소 15N:14N의 비율  \n",
        "Delta 13 C (o/oo) : 먹이에 따라 변화하는 안정 동위원소 13C:12C의 비율  "
      ],
      "metadata": {
        "id": "KgTCnZZAbDhE"
      }
    },
    {
      "cell_type": "markdown",
      "source": [
        "<데이터 전처리 과정>"
      ],
      "metadata": {
        "id": "THBS_X0sdvX-"
      }
    },
    {
      "cell_type": "code",
      "source": [
        "train.info() "
      ],
      "metadata": {
        "colab": {
          "base_uri": "https://localhost:8080/"
        },
        "id": "L6k4RALp4KDR",
        "outputId": "f2ce752e-5826-4745-c8b0-95b7bcc7f4b6"
      },
      "execution_count": null,
      "outputs": [
        {
          "output_type": "stream",
          "name": "stdout",
          "text": [
            "<class 'pandas.core.frame.DataFrame'>\n",
            "RangeIndex: 114 entries, 0 to 113\n",
            "Data columns (total 11 columns):\n",
            " #   Column               Non-Null Count  Dtype  \n",
            "---  ------               --------------  -----  \n",
            " 0   id                   114 non-null    int64  \n",
            " 1   Species              114 non-null    object \n",
            " 2   Island               114 non-null    object \n",
            " 3   Clutch Completion    114 non-null    object \n",
            " 4   Culmen Length (mm)   114 non-null    float64\n",
            " 5   Culmen Depth (mm)    114 non-null    float64\n",
            " 6   Flipper Length (mm)  114 non-null    int64  \n",
            " 7   Sex                  111 non-null    object \n",
            " 8   Delta 15 N (o/oo)    111 non-null    float64\n",
            " 9   Delta 13 C (o/oo)    111 non-null    float64\n",
            " 10  Body Mass (g)        114 non-null    int64  \n",
            "dtypes: float64(4), int64(3), object(4)\n",
            "memory usage: 9.9+ KB\n"
          ]
        }
      ]
    },
    {
      "cell_type": "markdown",
      "source": [
        "114개의 데이터가 있는데, 111개의 데이터를 가진 특성들도 있다. 결측치를 갖고 있다는 것을 알 수 있다."
      ],
      "metadata": {
        "id": "yHHY2-vNc528"
      }
    },
    {
      "cell_type": "code",
      "source": [
        "# 결측치를 알아보기 위해 isnull 함수를 사용하였다.\n",
        "train.isnull().sum()"
      ],
      "metadata": {
        "colab": {
          "base_uri": "https://localhost:8080/"
        },
        "id": "ia30xP5C492x",
        "outputId": "001dc101-25cd-43ec-cafc-82026cdda16b"
      },
      "execution_count": null,
      "outputs": [
        {
          "output_type": "execute_result",
          "data": {
            "text/plain": [
              "id                     0\n",
              "Species                0\n",
              "Island                 0\n",
              "Clutch Completion      0\n",
              "Culmen Length (mm)     0\n",
              "Culmen Depth (mm)      0\n",
              "Flipper Length (mm)    0\n",
              "Sex                    3\n",
              "Delta 15 N (o/oo)      3\n",
              "Delta 13 C (o/oo)      3\n",
              "Body Mass (g)          0\n",
              "dtype: int64"
            ]
          },
          "metadata": {},
          "execution_count": 8
        }
      ]
    },
    {
      "cell_type": "markdown",
      "source": [
        "sex, Delta 15 N (o/oo), Delta 13 C (o/oo) 데이터에 3개의 결측치가 존재한다."
      ],
      "metadata": {
        "id": "m1hL6uRRdWMh"
      }
    },
    {
      "cell_type": "code",
      "source": [
        "# 결측치가 있는 행 확인\n",
        "train[train.isna().sum(axis=1) > 0]"
      ],
      "metadata": {
        "colab": {
          "base_uri": "https://localhost:8080/",
          "height": 478
        },
        "id": "k7PZkcFB5RP5",
        "outputId": "b72c2db8-0689-4afb-e24e-a3883240b6cc"
      },
      "execution_count": null,
      "outputs": [
        {
          "output_type": "execute_result",
          "data": {
            "text/plain": [
              "      id                              Species     Island Clutch Completion  \\\n",
              "6      6  Adelie Penguin (Pygoscelis adeliae)  Torgersen               Yes   \n",
              "8      8  Adelie Penguin (Pygoscelis adeliae)  Torgersen               Yes   \n",
              "18    18  Adelie Penguin (Pygoscelis adeliae)      Dream                No   \n",
              "70    70    Gentoo penguin (Pygoscelis papua)     Biscoe               Yes   \n",
              "109  109  Adelie Penguin (Pygoscelis adeliae)  Torgersen               Yes   \n",
              "\n",
              "     Culmen Length (mm)  Culmen Depth (mm)  Flipper Length (mm)     Sex  \\\n",
              "6                  42.0               20.2                  190     NaN   \n",
              "8                  34.1               18.1                  193     NaN   \n",
              "18                 39.8               19.1                  184    MALE   \n",
              "70                 46.2               14.4                  214     NaN   \n",
              "109                36.6               17.8                  185  FEMALE   \n",
              "\n",
              "     Delta 15 N (o/oo)  Delta 13 C (o/oo)  Body Mass (g)  \n",
              "6              9.13362          -25.09368           4250  \n",
              "8                  NaN                NaN           3475  \n",
              "18                 NaN                NaN           4650  \n",
              "70             8.24253          -26.81540           4650  \n",
              "109                NaN                NaN           3700  "
            ],
            "text/html": [
              "\n",
              "  <div id=\"df-6371ee7d-36f0-4d33-930f-df5c2813390d\">\n",
              "    <div class=\"colab-df-container\">\n",
              "      <div>\n",
              "<style scoped>\n",
              "    .dataframe tbody tr th:only-of-type {\n",
              "        vertical-align: middle;\n",
              "    }\n",
              "\n",
              "    .dataframe tbody tr th {\n",
              "        vertical-align: top;\n",
              "    }\n",
              "\n",
              "    .dataframe thead th {\n",
              "        text-align: right;\n",
              "    }\n",
              "</style>\n",
              "<table border=\"1\" class=\"dataframe\">\n",
              "  <thead>\n",
              "    <tr style=\"text-align: right;\">\n",
              "      <th></th>\n",
              "      <th>id</th>\n",
              "      <th>Species</th>\n",
              "      <th>Island</th>\n",
              "      <th>Clutch Completion</th>\n",
              "      <th>Culmen Length (mm)</th>\n",
              "      <th>Culmen Depth (mm)</th>\n",
              "      <th>Flipper Length (mm)</th>\n",
              "      <th>Sex</th>\n",
              "      <th>Delta 15 N (o/oo)</th>\n",
              "      <th>Delta 13 C (o/oo)</th>\n",
              "      <th>Body Mass (g)</th>\n",
              "    </tr>\n",
              "  </thead>\n",
              "  <tbody>\n",
              "    <tr>\n",
              "      <th>6</th>\n",
              "      <td>6</td>\n",
              "      <td>Adelie Penguin (Pygoscelis adeliae)</td>\n",
              "      <td>Torgersen</td>\n",
              "      <td>Yes</td>\n",
              "      <td>42.0</td>\n",
              "      <td>20.2</td>\n",
              "      <td>190</td>\n",
              "      <td>NaN</td>\n",
              "      <td>9.13362</td>\n",
              "      <td>-25.09368</td>\n",
              "      <td>4250</td>\n",
              "    </tr>\n",
              "    <tr>\n",
              "      <th>8</th>\n",
              "      <td>8</td>\n",
              "      <td>Adelie Penguin (Pygoscelis adeliae)</td>\n",
              "      <td>Torgersen</td>\n",
              "      <td>Yes</td>\n",
              "      <td>34.1</td>\n",
              "      <td>18.1</td>\n",
              "      <td>193</td>\n",
              "      <td>NaN</td>\n",
              "      <td>NaN</td>\n",
              "      <td>NaN</td>\n",
              "      <td>3475</td>\n",
              "    </tr>\n",
              "    <tr>\n",
              "      <th>18</th>\n",
              "      <td>18</td>\n",
              "      <td>Adelie Penguin (Pygoscelis adeliae)</td>\n",
              "      <td>Dream</td>\n",
              "      <td>No</td>\n",
              "      <td>39.8</td>\n",
              "      <td>19.1</td>\n",
              "      <td>184</td>\n",
              "      <td>MALE</td>\n",
              "      <td>NaN</td>\n",
              "      <td>NaN</td>\n",
              "      <td>4650</td>\n",
              "    </tr>\n",
              "    <tr>\n",
              "      <th>70</th>\n",
              "      <td>70</td>\n",
              "      <td>Gentoo penguin (Pygoscelis papua)</td>\n",
              "      <td>Biscoe</td>\n",
              "      <td>Yes</td>\n",
              "      <td>46.2</td>\n",
              "      <td>14.4</td>\n",
              "      <td>214</td>\n",
              "      <td>NaN</td>\n",
              "      <td>8.24253</td>\n",
              "      <td>-26.81540</td>\n",
              "      <td>4650</td>\n",
              "    </tr>\n",
              "    <tr>\n",
              "      <th>109</th>\n",
              "      <td>109</td>\n",
              "      <td>Adelie Penguin (Pygoscelis adeliae)</td>\n",
              "      <td>Torgersen</td>\n",
              "      <td>Yes</td>\n",
              "      <td>36.6</td>\n",
              "      <td>17.8</td>\n",
              "      <td>185</td>\n",
              "      <td>FEMALE</td>\n",
              "      <td>NaN</td>\n",
              "      <td>NaN</td>\n",
              "      <td>3700</td>\n",
              "    </tr>\n",
              "  </tbody>\n",
              "</table>\n",
              "</div>\n",
              "      <button class=\"colab-df-convert\" onclick=\"convertToInteractive('df-6371ee7d-36f0-4d33-930f-df5c2813390d')\"\n",
              "              title=\"Convert this dataframe to an interactive table.\"\n",
              "              style=\"display:none;\">\n",
              "        \n",
              "  <svg xmlns=\"http://www.w3.org/2000/svg\" height=\"24px\"viewBox=\"0 0 24 24\"\n",
              "       width=\"24px\">\n",
              "    <path d=\"M0 0h24v24H0V0z\" fill=\"none\"/>\n",
              "    <path d=\"M18.56 5.44l.94 2.06.94-2.06 2.06-.94-2.06-.94-.94-2.06-.94 2.06-2.06.94zm-11 1L8.5 8.5l.94-2.06 2.06-.94-2.06-.94L8.5 2.5l-.94 2.06-2.06.94zm10 10l.94 2.06.94-2.06 2.06-.94-2.06-.94-.94-2.06-.94 2.06-2.06.94z\"/><path d=\"M17.41 7.96l-1.37-1.37c-.4-.4-.92-.59-1.43-.59-.52 0-1.04.2-1.43.59L10.3 9.45l-7.72 7.72c-.78.78-.78 2.05 0 2.83L4 21.41c.39.39.9.59 1.41.59.51 0 1.02-.2 1.41-.59l7.78-7.78 2.81-2.81c.8-.78.8-2.07 0-2.86zM5.41 20L4 18.59l7.72-7.72 1.47 1.35L5.41 20z\"/>\n",
              "  </svg>\n",
              "      </button>\n",
              "      \n",
              "  <style>\n",
              "    .colab-df-container {\n",
              "      display:flex;\n",
              "      flex-wrap:wrap;\n",
              "      gap: 12px;\n",
              "    }\n",
              "\n",
              "    .colab-df-convert {\n",
              "      background-color: #E8F0FE;\n",
              "      border: none;\n",
              "      border-radius: 50%;\n",
              "      cursor: pointer;\n",
              "      display: none;\n",
              "      fill: #1967D2;\n",
              "      height: 32px;\n",
              "      padding: 0 0 0 0;\n",
              "      width: 32px;\n",
              "    }\n",
              "\n",
              "    .colab-df-convert:hover {\n",
              "      background-color: #E2EBFA;\n",
              "      box-shadow: 0px 1px 2px rgba(60, 64, 67, 0.3), 0px 1px 3px 1px rgba(60, 64, 67, 0.15);\n",
              "      fill: #174EA6;\n",
              "    }\n",
              "\n",
              "    [theme=dark] .colab-df-convert {\n",
              "      background-color: #3B4455;\n",
              "      fill: #D2E3FC;\n",
              "    }\n",
              "\n",
              "    [theme=dark] .colab-df-convert:hover {\n",
              "      background-color: #434B5C;\n",
              "      box-shadow: 0px 1px 3px 1px rgba(0, 0, 0, 0.15);\n",
              "      filter: drop-shadow(0px 1px 2px rgba(0, 0, 0, 0.3));\n",
              "      fill: #FFFFFF;\n",
              "    }\n",
              "  </style>\n",
              "\n",
              "      <script>\n",
              "        const buttonEl =\n",
              "          document.querySelector('#df-6371ee7d-36f0-4d33-930f-df5c2813390d button.colab-df-convert');\n",
              "        buttonEl.style.display =\n",
              "          google.colab.kernel.accessAllowed ? 'block' : 'none';\n",
              "\n",
              "        async function convertToInteractive(key) {\n",
              "          const element = document.querySelector('#df-6371ee7d-36f0-4d33-930f-df5c2813390d');\n",
              "          const dataTable =\n",
              "            await google.colab.kernel.invokeFunction('convertToInteractive',\n",
              "                                                     [key], {});\n",
              "          if (!dataTable) return;\n",
              "\n",
              "          const docLinkHtml = 'Like what you see? Visit the ' +\n",
              "            '<a target=\"_blank\" href=https://colab.research.google.com/notebooks/data_table.ipynb>data table notebook</a>'\n",
              "            + ' to learn more about interactive tables.';\n",
              "          element.innerHTML = '';\n",
              "          dataTable['output_type'] = 'display_data';\n",
              "          await google.colab.output.renderOutput(dataTable, element);\n",
              "          const docLink = document.createElement('div');\n",
              "          docLink.innerHTML = docLinkHtml;\n",
              "          element.appendChild(docLink);\n",
              "        }\n",
              "      </script>\n",
              "    </div>\n",
              "  </div>\n",
              "  "
            ]
          },
          "metadata": {},
          "execution_count": 9
        }
      ]
    },
    {
      "cell_type": "code",
      "source": [
        "# 결측치가 포함된 행 모두 제거\n",
        "train_preprocessed = train.dropna()"
      ],
      "metadata": {
        "id": "DNZdzbqN5-7m"
      },
      "execution_count": null,
      "outputs": []
    },
    {
      "cell_type": "markdown",
      "source": [
        "인코딩\n",
        "성별 변수는 라벨 인코딩, 나머지 범주형 변수는 더미화  \n",
        "더미화 : 범주 데이터의 경우 데이터의 종류의 개수로 특성을 만들고 0/1로 각 샘플의 카테고리를 기록해주는 것이다."
      ],
      "metadata": {
        "id": "P-xDV07075l4"
      }
    },
    {
      "cell_type": "code",
      "source": [
        "train_preprocessed.loc[train_preprocessed['Sex'] == 'MALE', 'Sex'] = 0\n",
        "train_preprocessed.loc[train_preprocessed['Sex'] == 'FEMALE', 'Sex'] = 1\n",
        "train_preprocessed = train_preprocessed.astype({'Sex': 'int'})\n",
        "\n",
        "labeled_train = pd.get_dummies(train_preprocessed)\n",
        "\n",
        "labeled_train.head()"
      ],
      "metadata": {
        "colab": {
          "base_uri": "https://localhost:8080/",
          "height": 322
        },
        "id": "vy1aOwMX6BkQ",
        "outputId": "17679214-aeb2-442e-a2f8-66c1668be6f6"
      },
      "execution_count": null,
      "outputs": [
        {
          "output_type": "execute_result",
          "data": {
            "text/plain": [
              "   id  Culmen Length (mm)  Culmen Depth (mm)  Flipper Length (mm)  Sex  \\\n",
              "0   0                50.0               15.3                  220    0   \n",
              "1   1                49.5               19.0                  200    0   \n",
              "2   2                45.1               14.4                  210    1   \n",
              "3   3                44.5               14.7                  214    1   \n",
              "4   4                49.6               16.0                  225    0   \n",
              "\n",
              "   Delta 15 N (o/oo)  Delta 13 C (o/oo)  Body Mass (g)  \\\n",
              "0            8.30515          -25.19017           5550   \n",
              "1            9.63074          -24.34684           3800   \n",
              "2            8.51951          -27.01854           4400   \n",
              "3            8.20106          -26.16524           4850   \n",
              "4            8.38324          -26.84272           5700   \n",
              "\n",
              "   Species_Adelie Penguin (Pygoscelis adeliae)  \\\n",
              "0                                            0   \n",
              "1                                            0   \n",
              "2                                            0   \n",
              "3                                            0   \n",
              "4                                            0   \n",
              "\n",
              "   Species_Chinstrap penguin (Pygoscelis antarctica)  \\\n",
              "0                                                  0   \n",
              "1                                                  1   \n",
              "2                                                  0   \n",
              "3                                                  0   \n",
              "4                                                  0   \n",
              "\n",
              "   Species_Gentoo penguin (Pygoscelis papua)  Island_Biscoe  Island_Dream  \\\n",
              "0                                          1              1             0   \n",
              "1                                          0              0             1   \n",
              "2                                          1              1             0   \n",
              "3                                          1              1             0   \n",
              "4                                          1              1             0   \n",
              "\n",
              "   Island_Torgersen  Clutch Completion_No  Clutch Completion_Yes  \n",
              "0                 0                     0                      1  \n",
              "1                 0                     1                      0  \n",
              "2                 0                     0                      1  \n",
              "3                 0                     0                      1  \n",
              "4                 0                     1                      0  "
            ],
            "text/html": [
              "\n",
              "  <div id=\"df-99d5443d-8f04-445b-934f-2495b28dc216\">\n",
              "    <div class=\"colab-df-container\">\n",
              "      <div>\n",
              "<style scoped>\n",
              "    .dataframe tbody tr th:only-of-type {\n",
              "        vertical-align: middle;\n",
              "    }\n",
              "\n",
              "    .dataframe tbody tr th {\n",
              "        vertical-align: top;\n",
              "    }\n",
              "\n",
              "    .dataframe thead th {\n",
              "        text-align: right;\n",
              "    }\n",
              "</style>\n",
              "<table border=\"1\" class=\"dataframe\">\n",
              "  <thead>\n",
              "    <tr style=\"text-align: right;\">\n",
              "      <th></th>\n",
              "      <th>id</th>\n",
              "      <th>Culmen Length (mm)</th>\n",
              "      <th>Culmen Depth (mm)</th>\n",
              "      <th>Flipper Length (mm)</th>\n",
              "      <th>Sex</th>\n",
              "      <th>Delta 15 N (o/oo)</th>\n",
              "      <th>Delta 13 C (o/oo)</th>\n",
              "      <th>Body Mass (g)</th>\n",
              "      <th>Species_Adelie Penguin (Pygoscelis adeliae)</th>\n",
              "      <th>Species_Chinstrap penguin (Pygoscelis antarctica)</th>\n",
              "      <th>Species_Gentoo penguin (Pygoscelis papua)</th>\n",
              "      <th>Island_Biscoe</th>\n",
              "      <th>Island_Dream</th>\n",
              "      <th>Island_Torgersen</th>\n",
              "      <th>Clutch Completion_No</th>\n",
              "      <th>Clutch Completion_Yes</th>\n",
              "    </tr>\n",
              "  </thead>\n",
              "  <tbody>\n",
              "    <tr>\n",
              "      <th>0</th>\n",
              "      <td>0</td>\n",
              "      <td>50.0</td>\n",
              "      <td>15.3</td>\n",
              "      <td>220</td>\n",
              "      <td>0</td>\n",
              "      <td>8.30515</td>\n",
              "      <td>-25.19017</td>\n",
              "      <td>5550</td>\n",
              "      <td>0</td>\n",
              "      <td>0</td>\n",
              "      <td>1</td>\n",
              "      <td>1</td>\n",
              "      <td>0</td>\n",
              "      <td>0</td>\n",
              "      <td>0</td>\n",
              "      <td>1</td>\n",
              "    </tr>\n",
              "    <tr>\n",
              "      <th>1</th>\n",
              "      <td>1</td>\n",
              "      <td>49.5</td>\n",
              "      <td>19.0</td>\n",
              "      <td>200</td>\n",
              "      <td>0</td>\n",
              "      <td>9.63074</td>\n",
              "      <td>-24.34684</td>\n",
              "      <td>3800</td>\n",
              "      <td>0</td>\n",
              "      <td>1</td>\n",
              "      <td>0</td>\n",
              "      <td>0</td>\n",
              "      <td>1</td>\n",
              "      <td>0</td>\n",
              "      <td>1</td>\n",
              "      <td>0</td>\n",
              "    </tr>\n",
              "    <tr>\n",
              "      <th>2</th>\n",
              "      <td>2</td>\n",
              "      <td>45.1</td>\n",
              "      <td>14.4</td>\n",
              "      <td>210</td>\n",
              "      <td>1</td>\n",
              "      <td>8.51951</td>\n",
              "      <td>-27.01854</td>\n",
              "      <td>4400</td>\n",
              "      <td>0</td>\n",
              "      <td>0</td>\n",
              "      <td>1</td>\n",
              "      <td>1</td>\n",
              "      <td>0</td>\n",
              "      <td>0</td>\n",
              "      <td>0</td>\n",
              "      <td>1</td>\n",
              "    </tr>\n",
              "    <tr>\n",
              "      <th>3</th>\n",
              "      <td>3</td>\n",
              "      <td>44.5</td>\n",
              "      <td>14.7</td>\n",
              "      <td>214</td>\n",
              "      <td>1</td>\n",
              "      <td>8.20106</td>\n",
              "      <td>-26.16524</td>\n",
              "      <td>4850</td>\n",
              "      <td>0</td>\n",
              "      <td>0</td>\n",
              "      <td>1</td>\n",
              "      <td>1</td>\n",
              "      <td>0</td>\n",
              "      <td>0</td>\n",
              "      <td>0</td>\n",
              "      <td>1</td>\n",
              "    </tr>\n",
              "    <tr>\n",
              "      <th>4</th>\n",
              "      <td>4</td>\n",
              "      <td>49.6</td>\n",
              "      <td>16.0</td>\n",
              "      <td>225</td>\n",
              "      <td>0</td>\n",
              "      <td>8.38324</td>\n",
              "      <td>-26.84272</td>\n",
              "      <td>5700</td>\n",
              "      <td>0</td>\n",
              "      <td>0</td>\n",
              "      <td>1</td>\n",
              "      <td>1</td>\n",
              "      <td>0</td>\n",
              "      <td>0</td>\n",
              "      <td>1</td>\n",
              "      <td>0</td>\n",
              "    </tr>\n",
              "  </tbody>\n",
              "</table>\n",
              "</div>\n",
              "      <button class=\"colab-df-convert\" onclick=\"convertToInteractive('df-99d5443d-8f04-445b-934f-2495b28dc216')\"\n",
              "              title=\"Convert this dataframe to an interactive table.\"\n",
              "              style=\"display:none;\">\n",
              "        \n",
              "  <svg xmlns=\"http://www.w3.org/2000/svg\" height=\"24px\"viewBox=\"0 0 24 24\"\n",
              "       width=\"24px\">\n",
              "    <path d=\"M0 0h24v24H0V0z\" fill=\"none\"/>\n",
              "    <path d=\"M18.56 5.44l.94 2.06.94-2.06 2.06-.94-2.06-.94-.94-2.06-.94 2.06-2.06.94zm-11 1L8.5 8.5l.94-2.06 2.06-.94-2.06-.94L8.5 2.5l-.94 2.06-2.06.94zm10 10l.94 2.06.94-2.06 2.06-.94-2.06-.94-.94-2.06-.94 2.06-2.06.94z\"/><path d=\"M17.41 7.96l-1.37-1.37c-.4-.4-.92-.59-1.43-.59-.52 0-1.04.2-1.43.59L10.3 9.45l-7.72 7.72c-.78.78-.78 2.05 0 2.83L4 21.41c.39.39.9.59 1.41.59.51 0 1.02-.2 1.41-.59l7.78-7.78 2.81-2.81c.8-.78.8-2.07 0-2.86zM5.41 20L4 18.59l7.72-7.72 1.47 1.35L5.41 20z\"/>\n",
              "  </svg>\n",
              "      </button>\n",
              "      \n",
              "  <style>\n",
              "    .colab-df-container {\n",
              "      display:flex;\n",
              "      flex-wrap:wrap;\n",
              "      gap: 12px;\n",
              "    }\n",
              "\n",
              "    .colab-df-convert {\n",
              "      background-color: #E8F0FE;\n",
              "      border: none;\n",
              "      border-radius: 50%;\n",
              "      cursor: pointer;\n",
              "      display: none;\n",
              "      fill: #1967D2;\n",
              "      height: 32px;\n",
              "      padding: 0 0 0 0;\n",
              "      width: 32px;\n",
              "    }\n",
              "\n",
              "    .colab-df-convert:hover {\n",
              "      background-color: #E2EBFA;\n",
              "      box-shadow: 0px 1px 2px rgba(60, 64, 67, 0.3), 0px 1px 3px 1px rgba(60, 64, 67, 0.15);\n",
              "      fill: #174EA6;\n",
              "    }\n",
              "\n",
              "    [theme=dark] .colab-df-convert {\n",
              "      background-color: #3B4455;\n",
              "      fill: #D2E3FC;\n",
              "    }\n",
              "\n",
              "    [theme=dark] .colab-df-convert:hover {\n",
              "      background-color: #434B5C;\n",
              "      box-shadow: 0px 1px 3px 1px rgba(0, 0, 0, 0.15);\n",
              "      filter: drop-shadow(0px 1px 2px rgba(0, 0, 0, 0.3));\n",
              "      fill: #FFFFFF;\n",
              "    }\n",
              "  </style>\n",
              "\n",
              "      <script>\n",
              "        const buttonEl =\n",
              "          document.querySelector('#df-99d5443d-8f04-445b-934f-2495b28dc216 button.colab-df-convert');\n",
              "        buttonEl.style.display =\n",
              "          google.colab.kernel.accessAllowed ? 'block' : 'none';\n",
              "\n",
              "        async function convertToInteractive(key) {\n",
              "          const element = document.querySelector('#df-99d5443d-8f04-445b-934f-2495b28dc216');\n",
              "          const dataTable =\n",
              "            await google.colab.kernel.invokeFunction('convertToInteractive',\n",
              "                                                     [key], {});\n",
              "          if (!dataTable) return;\n",
              "\n",
              "          const docLinkHtml = 'Like what you see? Visit the ' +\n",
              "            '<a target=\"_blank\" href=https://colab.research.google.com/notebooks/data_table.ipynb>data table notebook</a>'\n",
              "            + ' to learn more about interactive tables.';\n",
              "          element.innerHTML = '';\n",
              "          dataTable['output_type'] = 'display_data';\n",
              "          await google.colab.output.renderOutput(dataTable, element);\n",
              "          const docLink = document.createElement('div');\n",
              "          docLink.innerHTML = docLinkHtml;\n",
              "          element.appendChild(docLink);\n",
              "        }\n",
              "      </script>\n",
              "    </div>\n",
              "  </div>\n",
              "  "
            ]
          },
          "metadata": {},
          "execution_count": 11
        }
      ]
    },
    {
      "cell_type": "code",
      "source": [
        "test = pd.read_csv(\"test.csv\")\n",
        "test.head()"
      ],
      "metadata": {
        "colab": {
          "base_uri": "https://localhost:8080/",
          "height": 354
        },
        "id": "Ec4XvwX4_Ksb",
        "outputId": "00f0e1b2-a06b-46e3-e085-d9646f22a88c"
      },
      "execution_count": null,
      "outputs": [
        {
          "output_type": "execute_result",
          "data": {
            "text/plain": [
              "   id                                    Species  Island Clutch Completion  \\\n",
              "0   0  Chinstrap penguin (Pygoscelis antarctica)   Dream               Yes   \n",
              "1   1          Gentoo penguin (Pygoscelis papua)  Biscoe               Yes   \n",
              "2   2        Adelie Penguin (Pygoscelis adeliae)   Dream               Yes   \n",
              "3   3  Chinstrap penguin (Pygoscelis antarctica)   Dream               Yes   \n",
              "4   4        Adelie Penguin (Pygoscelis adeliae)  Biscoe                No   \n",
              "\n",
              "   Culmen Length (mm)  Culmen Depth (mm)  Flipper Length (mm)     Sex  \\\n",
              "0                52.0               20.7                210.0    MALE   \n",
              "1                55.9               17.0                228.0    MALE   \n",
              "2                38.9               18.8                190.0  FEMALE   \n",
              "3                45.2               16.6                191.0  FEMALE   \n",
              "4                37.9               18.6                172.0  FEMALE   \n",
              "\n",
              "   Delta 15 N (o/oo)  Delta 13 C (o/oo)  \n",
              "0            9.43146          -24.68440  \n",
              "1            8.31180          -26.35425  \n",
              "2            8.36936          -26.11199  \n",
              "3            9.62357          -24.78984  \n",
              "4            8.38404          -25.19837  "
            ],
            "text/html": [
              "\n",
              "  <div id=\"df-ec7b8f49-f263-47fd-b117-d4ef621ff5d9\">\n",
              "    <div class=\"colab-df-container\">\n",
              "      <div>\n",
              "<style scoped>\n",
              "    .dataframe tbody tr th:only-of-type {\n",
              "        vertical-align: middle;\n",
              "    }\n",
              "\n",
              "    .dataframe tbody tr th {\n",
              "        vertical-align: top;\n",
              "    }\n",
              "\n",
              "    .dataframe thead th {\n",
              "        text-align: right;\n",
              "    }\n",
              "</style>\n",
              "<table border=\"1\" class=\"dataframe\">\n",
              "  <thead>\n",
              "    <tr style=\"text-align: right;\">\n",
              "      <th></th>\n",
              "      <th>id</th>\n",
              "      <th>Species</th>\n",
              "      <th>Island</th>\n",
              "      <th>Clutch Completion</th>\n",
              "      <th>Culmen Length (mm)</th>\n",
              "      <th>Culmen Depth (mm)</th>\n",
              "      <th>Flipper Length (mm)</th>\n",
              "      <th>Sex</th>\n",
              "      <th>Delta 15 N (o/oo)</th>\n",
              "      <th>Delta 13 C (o/oo)</th>\n",
              "    </tr>\n",
              "  </thead>\n",
              "  <tbody>\n",
              "    <tr>\n",
              "      <th>0</th>\n",
              "      <td>0</td>\n",
              "      <td>Chinstrap penguin (Pygoscelis antarctica)</td>\n",
              "      <td>Dream</td>\n",
              "      <td>Yes</td>\n",
              "      <td>52.0</td>\n",
              "      <td>20.7</td>\n",
              "      <td>210.0</td>\n",
              "      <td>MALE</td>\n",
              "      <td>9.43146</td>\n",
              "      <td>-24.68440</td>\n",
              "    </tr>\n",
              "    <tr>\n",
              "      <th>1</th>\n",
              "      <td>1</td>\n",
              "      <td>Gentoo penguin (Pygoscelis papua)</td>\n",
              "      <td>Biscoe</td>\n",
              "      <td>Yes</td>\n",
              "      <td>55.9</td>\n",
              "      <td>17.0</td>\n",
              "      <td>228.0</td>\n",
              "      <td>MALE</td>\n",
              "      <td>8.31180</td>\n",
              "      <td>-26.35425</td>\n",
              "    </tr>\n",
              "    <tr>\n",
              "      <th>2</th>\n",
              "      <td>2</td>\n",
              "      <td>Adelie Penguin (Pygoscelis adeliae)</td>\n",
              "      <td>Dream</td>\n",
              "      <td>Yes</td>\n",
              "      <td>38.9</td>\n",
              "      <td>18.8</td>\n",
              "      <td>190.0</td>\n",
              "      <td>FEMALE</td>\n",
              "      <td>8.36936</td>\n",
              "      <td>-26.11199</td>\n",
              "    </tr>\n",
              "    <tr>\n",
              "      <th>3</th>\n",
              "      <td>3</td>\n",
              "      <td>Chinstrap penguin (Pygoscelis antarctica)</td>\n",
              "      <td>Dream</td>\n",
              "      <td>Yes</td>\n",
              "      <td>45.2</td>\n",
              "      <td>16.6</td>\n",
              "      <td>191.0</td>\n",
              "      <td>FEMALE</td>\n",
              "      <td>9.62357</td>\n",
              "      <td>-24.78984</td>\n",
              "    </tr>\n",
              "    <tr>\n",
              "      <th>4</th>\n",
              "      <td>4</td>\n",
              "      <td>Adelie Penguin (Pygoscelis adeliae)</td>\n",
              "      <td>Biscoe</td>\n",
              "      <td>No</td>\n",
              "      <td>37.9</td>\n",
              "      <td>18.6</td>\n",
              "      <td>172.0</td>\n",
              "      <td>FEMALE</td>\n",
              "      <td>8.38404</td>\n",
              "      <td>-25.19837</td>\n",
              "    </tr>\n",
              "  </tbody>\n",
              "</table>\n",
              "</div>\n",
              "      <button class=\"colab-df-convert\" onclick=\"convertToInteractive('df-ec7b8f49-f263-47fd-b117-d4ef621ff5d9')\"\n",
              "              title=\"Convert this dataframe to an interactive table.\"\n",
              "              style=\"display:none;\">\n",
              "        \n",
              "  <svg xmlns=\"http://www.w3.org/2000/svg\" height=\"24px\"viewBox=\"0 0 24 24\"\n",
              "       width=\"24px\">\n",
              "    <path d=\"M0 0h24v24H0V0z\" fill=\"none\"/>\n",
              "    <path d=\"M18.56 5.44l.94 2.06.94-2.06 2.06-.94-2.06-.94-.94-2.06-.94 2.06-2.06.94zm-11 1L8.5 8.5l.94-2.06 2.06-.94-2.06-.94L8.5 2.5l-.94 2.06-2.06.94zm10 10l.94 2.06.94-2.06 2.06-.94-2.06-.94-.94-2.06-.94 2.06-2.06.94z\"/><path d=\"M17.41 7.96l-1.37-1.37c-.4-.4-.92-.59-1.43-.59-.52 0-1.04.2-1.43.59L10.3 9.45l-7.72 7.72c-.78.78-.78 2.05 0 2.83L4 21.41c.39.39.9.59 1.41.59.51 0 1.02-.2 1.41-.59l7.78-7.78 2.81-2.81c.8-.78.8-2.07 0-2.86zM5.41 20L4 18.59l7.72-7.72 1.47 1.35L5.41 20z\"/>\n",
              "  </svg>\n",
              "      </button>\n",
              "      \n",
              "  <style>\n",
              "    .colab-df-container {\n",
              "      display:flex;\n",
              "      flex-wrap:wrap;\n",
              "      gap: 12px;\n",
              "    }\n",
              "\n",
              "    .colab-df-convert {\n",
              "      background-color: #E8F0FE;\n",
              "      border: none;\n",
              "      border-radius: 50%;\n",
              "      cursor: pointer;\n",
              "      display: none;\n",
              "      fill: #1967D2;\n",
              "      height: 32px;\n",
              "      padding: 0 0 0 0;\n",
              "      width: 32px;\n",
              "    }\n",
              "\n",
              "    .colab-df-convert:hover {\n",
              "      background-color: #E2EBFA;\n",
              "      box-shadow: 0px 1px 2px rgba(60, 64, 67, 0.3), 0px 1px 3px 1px rgba(60, 64, 67, 0.15);\n",
              "      fill: #174EA6;\n",
              "    }\n",
              "\n",
              "    [theme=dark] .colab-df-convert {\n",
              "      background-color: #3B4455;\n",
              "      fill: #D2E3FC;\n",
              "    }\n",
              "\n",
              "    [theme=dark] .colab-df-convert:hover {\n",
              "      background-color: #434B5C;\n",
              "      box-shadow: 0px 1px 3px 1px rgba(0, 0, 0, 0.15);\n",
              "      filter: drop-shadow(0px 1px 2px rgba(0, 0, 0, 0.3));\n",
              "      fill: #FFFFFF;\n",
              "    }\n",
              "  </style>\n",
              "\n",
              "      <script>\n",
              "        const buttonEl =\n",
              "          document.querySelector('#df-ec7b8f49-f263-47fd-b117-d4ef621ff5d9 button.colab-df-convert');\n",
              "        buttonEl.style.display =\n",
              "          google.colab.kernel.accessAllowed ? 'block' : 'none';\n",
              "\n",
              "        async function convertToInteractive(key) {\n",
              "          const element = document.querySelector('#df-ec7b8f49-f263-47fd-b117-d4ef621ff5d9');\n",
              "          const dataTable =\n",
              "            await google.colab.kernel.invokeFunction('convertToInteractive',\n",
              "                                                     [key], {});\n",
              "          if (!dataTable) return;\n",
              "\n",
              "          const docLinkHtml = 'Like what you see? Visit the ' +\n",
              "            '<a target=\"_blank\" href=https://colab.research.google.com/notebooks/data_table.ipynb>data table notebook</a>'\n",
              "            + ' to learn more about interactive tables.';\n",
              "          element.innerHTML = '';\n",
              "          dataTable['output_type'] = 'display_data';\n",
              "          await google.colab.output.renderOutput(dataTable, element);\n",
              "          const docLink = document.createElement('div');\n",
              "          docLink.innerHTML = docLinkHtml;\n",
              "          element.appendChild(docLink);\n",
              "        }\n",
              "      </script>\n",
              "    </div>\n",
              "  </div>\n",
              "  "
            ]
          },
          "metadata": {},
          "execution_count": 12
        }
      ]
    },
    {
      "cell_type": "markdown",
      "source": [
        "test의 결측치 : sex 6개, delta 15N 9개, delta 13N 8개"
      ],
      "metadata": {
        "id": "NBjR6Sj9f7sR"
      }
    },
    {
      "cell_type": "markdown",
      "source": [
        "성별은 예측하여서(decision tree) 결측치를 채우고 나머지는 평균(mean)으로 채웠다."
      ],
      "metadata": {
        "id": "kFbYFKNoK6dl"
      }
    },
    {
      "cell_type": "code",
      "source": [
        "# 성별 결측치 예측 (성별을 예측하는 과정에만 유효하며, 전체 데이터 분석에 영향을 주지 않음)\n",
        "\n",
        "## 성별을 라벨로 설정한 후 분석\n",
        "x_train = test[test['Sex'].notnull()].drop(['Sex'], axis = 1)\n",
        "y_train = test[test['Sex'].notnull()]['Sex']\n",
        "x_test = test[test['Sex'].isnull()].drop(['Sex'], axis = 1)\n",
        "\n",
        "x_test_id = x_test.loc[:, 'id']\n",
        "\n",
        "x_train = x_train.iloc[:, 1:]\n",
        "x_test = x_test.iloc[:, 1:]\n",
        "\n",
        "## Delta값의 결측치에는 train 데이터의 평균 입력\n",
        "# loc은 행 열 검색\n",
        "x_train.loc[:, 'Delta 15 N (o/oo)'] = x_train['Delta 15 N (o/oo)'].fillna(train['Delta 15 N (o/oo)'].mean())\n",
        "x_train.loc[:, 'Delta 13 C (o/oo)'] = x_train['Delta 13 C (o/oo)'].fillna(train['Delta 13 C (o/oo)'].mean())\n",
        "x_test.loc[:, 'Delta 15 N (o/oo)'] = x_test['Delta 15 N (o/oo)'].fillna(train['Delta 15 N (o/oo)'].mean())\n",
        "x_test.loc[:, 'Delta 13 C (o/oo)'] = x_test['Delta 13 C (o/oo)'].fillna(train['Delta 13 C (o/oo)'].mean())\n",
        "\n",
        "## 범주형 변수 라벨 인코딩\n",
        "from sklearn.preprocessing import LabelEncoder\n",
        "x_train.loc[:,['Species','Island','Clutch Completion']] = x_train.loc[:,['Species','Island','Clutch Completion']].apply(LabelEncoder().fit_transform)\n",
        "x_test.loc[:,['Species','Island','Clutch Completion']] = x_test.loc[:,['Species','Island','Clutch Completion']].apply(LabelEncoder().fit_transform)\n",
        "\n",
        "# 성별 예측 decisiontree\n",
        "from sklearn.tree import DecisionTreeClassifier\n",
        "model = DecisionTreeClassifier(random_state=1, max_depth=10) # 총 10층으로 구성\n",
        "model.fit(x_train, y_train)\n",
        "print('DTree score: ', model.score(x_train,y_train))"
      ],
      "metadata": {
        "colab": {
          "base_uri": "https://localhost:8080/"
        },
        "id": "htxwELRtBFi9",
        "outputId": "c496c94c-5395-4533-e01e-7c3679330c6f"
      },
      "execution_count": null,
      "outputs": [
        {
          "output_type": "stream",
          "name": "stdout",
          "text": [
            "DTree score:  1.0\n"
          ]
        }
      ]
    },
    {
      "cell_type": "code",
      "source": [
        "# 성별 예측 tree 시각화하기\n",
        "import matplotlib.pyplot as plt\n",
        "from sklearn import tree\n",
        "\n",
        "plt.figure( figsize=(20,15) )\n",
        "tree.plot_tree(model,\n",
        "               impurity=True, filled=True,\n",
        "               rounded=True)"
      ],
      "metadata": {
        "colab": {
          "base_uri": "https://localhost:8080/",
          "height": 1000
        },
        "id": "cuF8cVePNzgq",
        "outputId": "1d36da77-f95d-48af-d004-4b4bc9de0059"
      },
      "execution_count": null,
      "outputs": [
        {
          "output_type": "execute_result",
          "data": {
            "text/plain": [
              "[Text(0.541958041958042, 0.9545454545454546, 'X[4] <= 18.05\\ngini = 0.5\\nsamples = 222\\nvalue = [110, 112]'),\n",
              " Text(0.35664335664335667, 0.8636363636363636, 'X[5] <= 214.5\\ngini = 0.432\\nsamples = 133\\nvalue = [91, 42]'),\n",
              " Text(0.2097902097902098, 0.7727272727272727, 'X[3] <= 47.8\\ngini = 0.165\\nsamples = 88\\nvalue = [80, 8]'),\n",
              " Text(0.11188811188811189, 0.6818181818181818, 'X[4] <= 17.95\\ngini = 0.097\\nsamples = 78\\nvalue = [74, 4]'),\n",
              " Text(0.055944055944055944, 0.5909090909090909, 'X[6] <= 9.212\\ngini = 0.053\\nsamples = 73\\nvalue = [71, 2]'),\n",
              " Text(0.027972027972027972, 0.5, 'gini = 0.0\\nsamples = 58\\nvalue = [58, 0]'),\n",
              " Text(0.08391608391608392, 0.5, 'X[7] <= -25.286\\ngini = 0.231\\nsamples = 15\\nvalue = [13, 2]'),\n",
              " Text(0.055944055944055944, 0.4090909090909091, 'X[1] <= 1.5\\ngini = 0.444\\nsamples = 3\\nvalue = [1, 2]'),\n",
              " Text(0.027972027972027972, 0.3181818181818182, 'gini = 0.0\\nsamples = 2\\nvalue = [0, 2]'),\n",
              " Text(0.08391608391608392, 0.3181818181818182, 'gini = 0.0\\nsamples = 1\\nvalue = [1, 0]'),\n",
              " Text(0.11188811188811189, 0.4090909090909091, 'gini = 0.0\\nsamples = 12\\nvalue = [12, 0]'),\n",
              " Text(0.16783216783216784, 0.5909090909090909, 'X[3] <= 40.95\\ngini = 0.48\\nsamples = 5\\nvalue = [3, 2]'),\n",
              " Text(0.13986013986013987, 0.5, 'gini = 0.0\\nsamples = 3\\nvalue = [3, 0]'),\n",
              " Text(0.1958041958041958, 0.5, 'gini = 0.0\\nsamples = 2\\nvalue = [0, 2]'),\n",
              " Text(0.3076923076923077, 0.6818181818181818, 'X[5] <= 212.5\\ngini = 0.48\\nsamples = 10\\nvalue = [6, 4]'),\n",
              " Text(0.27972027972027974, 0.5909090909090909, 'X[7] <= -24.36\\ngini = 0.375\\nsamples = 8\\nvalue = [6, 2]'),\n",
              " Text(0.2517482517482518, 0.5, 'X[3] <= 48.15\\ngini = 0.245\\nsamples = 7\\nvalue = [6, 1]'),\n",
              " Text(0.22377622377622378, 0.4090909090909091, 'X[7] <= -25.355\\ngini = 0.5\\nsamples = 2\\nvalue = [1, 1]'),\n",
              " Text(0.1958041958041958, 0.3181818181818182, 'gini = 0.0\\nsamples = 1\\nvalue = [0, 1]'),\n",
              " Text(0.2517482517482518, 0.3181818181818182, 'gini = 0.0\\nsamples = 1\\nvalue = [1, 0]'),\n",
              " Text(0.27972027972027974, 0.4090909090909091, 'gini = 0.0\\nsamples = 5\\nvalue = [5, 0]'),\n",
              " Text(0.3076923076923077, 0.5, 'gini = 0.0\\nsamples = 1\\nvalue = [0, 1]'),\n",
              " Text(0.3356643356643357, 0.5909090909090909, 'gini = 0.0\\nsamples = 2\\nvalue = [0, 2]'),\n",
              " Text(0.5034965034965035, 0.7727272727272727, 'X[4] <= 14.85\\ngini = 0.369\\nsamples = 45\\nvalue = [11, 34]'),\n",
              " Text(0.4195804195804196, 0.6818181818181818, 'X[3] <= 47.25\\ngini = 0.426\\nsamples = 13\\nvalue = [9, 4]'),\n",
              " Text(0.3916083916083916, 0.5909090909090909, 'gini = 0.0\\nsamples = 8\\nvalue = [8, 0]'),\n",
              " Text(0.44755244755244755, 0.5909090909090909, 'X[4] <= 14.65\\ngini = 0.32\\nsamples = 5\\nvalue = [1, 4]'),\n",
              " Text(0.4195804195804196, 0.5, 'gini = 0.0\\nsamples = 4\\nvalue = [0, 4]'),\n",
              " Text(0.4755244755244755, 0.5, 'gini = 0.0\\nsamples = 1\\nvalue = [1, 0]'),\n",
              " Text(0.5874125874125874, 0.6818181818181818, 'X[5] <= 216.5\\ngini = 0.117\\nsamples = 32\\nvalue = [2, 30]'),\n",
              " Text(0.5594405594405595, 0.5909090909090909, 'X[7] <= -26.125\\ngini = 0.346\\nsamples = 9\\nvalue = [2, 7]'),\n",
              " Text(0.5314685314685315, 0.5, 'X[7] <= -26.447\\ngini = 0.444\\nsamples = 3\\nvalue = [2, 1]'),\n",
              " Text(0.5034965034965035, 0.4090909090909091, 'gini = 0.0\\nsamples = 1\\nvalue = [0, 1]'),\n",
              " Text(0.5594405594405595, 0.4090909090909091, 'gini = 0.0\\nsamples = 2\\nvalue = [2, 0]'),\n",
              " Text(0.5874125874125874, 0.5, 'gini = 0.0\\nsamples = 6\\nvalue = [0, 6]'),\n",
              " Text(0.6153846153846154, 0.5909090909090909, 'gini = 0.0\\nsamples = 23\\nvalue = [0, 23]'),\n",
              " Text(0.7272727272727273, 0.8636363636363636, 'X[3] <= 37.15\\ngini = 0.336\\nsamples = 89\\nvalue = [19, 70]'),\n",
              " Text(0.6713286713286714, 0.7727272727272727, 'X[4] <= 19.35\\ngini = 0.32\\nsamples = 10\\nvalue = [8, 2]'),\n",
              " Text(0.6433566433566433, 0.6818181818181818, 'gini = 0.0\\nsamples = 8\\nvalue = [8, 0]'),\n",
              " Text(0.6993006993006993, 0.6818181818181818, 'gini = 0.0\\nsamples = 2\\nvalue = [0, 2]'),\n",
              " Text(0.7832167832167832, 0.7727272727272727, 'X[5] <= 179.0\\ngini = 0.24\\nsamples = 79\\nvalue = [11, 68]'),\n",
              " Text(0.7552447552447552, 0.6818181818181818, 'gini = 0.0\\nsamples = 2\\nvalue = [2, 0]'),\n",
              " Text(0.8111888111888111, 0.6818181818181818, 'X[7] <= -26.684\\ngini = 0.206\\nsamples = 77\\nvalue = [9, 68]'),\n",
              " Text(0.7832167832167832, 0.5909090909090909, 'gini = 0.0\\nsamples = 1\\nvalue = [1, 0]'),\n",
              " Text(0.8391608391608392, 0.5909090909090909, 'X[6] <= 8.201\\ngini = 0.188\\nsamples = 76\\nvalue = [8, 68]'),\n",
              " Text(0.8111888111888111, 0.5, 'gini = 0.0\\nsamples = 1\\nvalue = [1, 0]'),\n",
              " Text(0.8671328671328671, 0.5, 'X[7] <= -24.302\\ngini = 0.169\\nsamples = 75\\nvalue = [7, 68]'),\n",
              " Text(0.7902097902097902, 0.4090909090909091, 'X[3] <= 38.95\\ngini = 0.131\\nsamples = 71\\nvalue = [5, 66]'),\n",
              " Text(0.7202797202797203, 0.3181818181818182, 'X[3] <= 38.65\\ngini = 0.355\\nsamples = 13\\nvalue = [3, 10]'),\n",
              " Text(0.6643356643356644, 0.22727272727272727, 'X[4] <= 18.65\\ngini = 0.18\\nsamples = 10\\nvalue = [1, 9]'),\n",
              " Text(0.6363636363636364, 0.13636363636363635, 'X[6] <= 9.001\\ngini = 0.375\\nsamples = 4\\nvalue = [1, 3]'),\n",
              " Text(0.6083916083916084, 0.045454545454545456, 'gini = 0.0\\nsamples = 3\\nvalue = [0, 3]'),\n",
              " Text(0.6643356643356644, 0.045454545454545456, 'gini = 0.0\\nsamples = 1\\nvalue = [1, 0]'),\n",
              " Text(0.6923076923076923, 0.13636363636363635, 'gini = 0.0\\nsamples = 6\\nvalue = [0, 6]'),\n",
              " Text(0.7762237762237763, 0.22727272727272727, 'X[4] <= 19.5\\ngini = 0.444\\nsamples = 3\\nvalue = [2, 1]'),\n",
              " Text(0.7482517482517482, 0.13636363636363635, 'gini = 0.0\\nsamples = 2\\nvalue = [2, 0]'),\n",
              " Text(0.8041958041958042, 0.13636363636363635, 'gini = 0.0\\nsamples = 1\\nvalue = [0, 1]'),\n",
              " Text(0.8601398601398601, 0.3181818181818182, 'X[7] <= -24.671\\ngini = 0.067\\nsamples = 58\\nvalue = [2, 56]'),\n",
              " Text(0.8321678321678322, 0.22727272727272727, 'gini = 0.0\\nsamples = 43\\nvalue = [0, 43]'),\n",
              " Text(0.8881118881118881, 0.22727272727272727, 'X[7] <= -24.623\\ngini = 0.231\\nsamples = 15\\nvalue = [2, 13]'),\n",
              " Text(0.8601398601398601, 0.13636363636363635, 'gini = 0.0\\nsamples = 2\\nvalue = [2, 0]'),\n",
              " Text(0.916083916083916, 0.13636363636363635, 'gini = 0.0\\nsamples = 13\\nvalue = [0, 13]'),\n",
              " Text(0.9440559440559441, 0.4090909090909091, 'X[5] <= 201.5\\ngini = 0.5\\nsamples = 4\\nvalue = [2, 2]'),\n",
              " Text(0.916083916083916, 0.3181818181818182, 'gini = 0.0\\nsamples = 2\\nvalue = [2, 0]'),\n",
              " Text(0.972027972027972, 0.3181818181818182, 'gini = 0.0\\nsamples = 2\\nvalue = [0, 2]')]"
            ]
          },
          "metadata": {},
          "execution_count": 17
        },
        {
          "output_type": "display_data",
          "data": {
            "text/plain": [
              "<Figure size 1440x1080 with 1 Axes>"
            ],
            "image/png": "[encoded data removed]"
          },
          "metadata": {
            "needs_background": "light"
          }
        }
      ]
    },
    {
      "cell_type": "code",
      "source": [
        "# 예측한 성별 값으로 결측치 대체\n",
        "import numpy as np\n",
        "\n",
        "test['Sex'].iloc[np.where(test['Sex'].isnull()==True)] =  model.predict(x_test)"
      ],
      "metadata": {
        "id": "dLiIQJqNDEbT"
      },
      "execution_count": null,
      "outputs": []
    },
    {
      "cell_type": "code",
      "source": [
        "# 수치형 변수의 결측치는 평균으로 대체\n",
        "test.loc[:, 'Delta 15 N (o/oo)'] = test['Delta 15 N (o/oo)'].fillna(train['Delta 15 N (o/oo)'].mean())\n",
        "test.loc[:, 'Delta 13 C (o/oo)'] = test['Delta 13 C (o/oo)'].fillna(train['Delta 13 C (o/oo)'].mean())"
      ],
      "metadata": {
        "id": "6281TEwnDzJA"
      },
      "execution_count": null,
      "outputs": []
    },
    {
      "cell_type": "code",
      "source": [
        "missing_col = check_missing_col(test)"
      ],
      "metadata": {
        "colab": {
          "base_uri": "https://localhost:8080/"
        },
        "id": "Rkk8edBPOtc8",
        "outputId": "486bd68c-f744-4c25-9c5c-e0a5f87c8eec"
      },
      "execution_count": null,
      "outputs": [
        {
          "output_type": "stream",
          "name": "stdout",
          "text": [
            "결측치가 존재하지 않습니다\n"
          ]
        }
      ]
    },
    {
      "cell_type": "code",
      "source": [
        "test.head()"
      ],
      "metadata": {
        "colab": {
          "base_uri": "https://localhost:8080/",
          "height": 354
        },
        "id": "cBaC6d3sOxCh",
        "outputId": "ee49ce3c-1150-4bdf-9422-59f18eb03508"
      },
      "execution_count": null,
      "outputs": [
        {
          "output_type": "execute_result",
          "data": {
            "text/plain": [
              "   id                                    Species  Island Clutch Completion  \\\n",
              "0   0  Chinstrap penguin (Pygoscelis antarctica)   Dream               Yes   \n",
              "1   1          Gentoo penguin (Pygoscelis papua)  Biscoe               Yes   \n",
              "2   2        Adelie Penguin (Pygoscelis adeliae)   Dream               Yes   \n",
              "3   3  Chinstrap penguin (Pygoscelis antarctica)   Dream               Yes   \n",
              "4   4        Adelie Penguin (Pygoscelis adeliae)  Biscoe                No   \n",
              "\n",
              "   Culmen Length (mm)  Culmen Depth (mm)  Flipper Length (mm)     Sex  \\\n",
              "0                52.0               20.7                210.0    MALE   \n",
              "1                55.9               17.0                228.0    MALE   \n",
              "2                38.9               18.8                190.0  FEMALE   \n",
              "3                45.2               16.6                191.0  FEMALE   \n",
              "4                37.9               18.6                172.0  FEMALE   \n",
              "\n",
              "   Delta 15 N (o/oo)  Delta 13 C (o/oo)  \n",
              "0            9.43146          -24.68440  \n",
              "1            8.31180          -26.35425  \n",
              "2            8.36936          -26.11199  \n",
              "3            9.62357          -24.78984  \n",
              "4            8.38404          -25.19837  "
            ],
            "text/html": [
              "\n",
              "  <div id=\"df-1114a1d7-76e6-4dc7-a9a8-c9b828169551\">\n",
              "    <div class=\"colab-df-container\">\n",
              "      <div>\n",
              "<style scoped>\n",
              "    .dataframe tbody tr th:only-of-type {\n",
              "        vertical-align: middle;\n",
              "    }\n",
              "\n",
              "    .dataframe tbody tr th {\n",
              "        vertical-align: top;\n",
              "    }\n",
              "\n",
              "    .dataframe thead th {\n",
              "        text-align: right;\n",
              "    }\n",
              "</style>\n",
              "<table border=\"1\" class=\"dataframe\">\n",
              "  <thead>\n",
              "    <tr style=\"text-align: right;\">\n",
              "      <th></th>\n",
              "      <th>id</th>\n",
              "      <th>Species</th>\n",
              "      <th>Island</th>\n",
              "      <th>Clutch Completion</th>\n",
              "      <th>Culmen Length (mm)</th>\n",
              "      <th>Culmen Depth (mm)</th>\n",
              "      <th>Flipper Length (mm)</th>\n",
              "      <th>Sex</th>\n",
              "      <th>Delta 15 N (o/oo)</th>\n",
              "      <th>Delta 13 C (o/oo)</th>\n",
              "    </tr>\n",
              "  </thead>\n",
              "  <tbody>\n",
              "    <tr>\n",
              "      <th>0</th>\n",
              "      <td>0</td>\n",
              "      <td>Chinstrap penguin (Pygoscelis antarctica)</td>\n",
              "      <td>Dream</td>\n",
              "      <td>Yes</td>\n",
              "      <td>52.0</td>\n",
              "      <td>20.7</td>\n",
              "      <td>210.0</td>\n",
              "      <td>MALE</td>\n",
              "      <td>9.43146</td>\n",
              "      <td>-24.68440</td>\n",
              "    </tr>\n",
              "    <tr>\n",
              "      <th>1</th>\n",
              "      <td>1</td>\n",
              "      <td>Gentoo penguin (Pygoscelis papua)</td>\n",
              "      <td>Biscoe</td>\n",
              "      <td>Yes</td>\n",
              "      <td>55.9</td>\n",
              "      <td>17.0</td>\n",
              "      <td>228.0</td>\n",
              "      <td>MALE</td>\n",
              "      <td>8.31180</td>\n",
              "      <td>-26.35425</td>\n",
              "    </tr>\n",
              "    <tr>\n",
              "      <th>2</th>\n",
              "      <td>2</td>\n",
              "      <td>Adelie Penguin (Pygoscelis adeliae)</td>\n",
              "      <td>Dream</td>\n",
              "      <td>Yes</td>\n",
              "      <td>38.9</td>\n",
              "      <td>18.8</td>\n",
              "      <td>190.0</td>\n",
              "      <td>FEMALE</td>\n",
              "      <td>8.36936</td>\n",
              "      <td>-26.11199</td>\n",
              "    </tr>\n",
              "    <tr>\n",
              "      <th>3</th>\n",
              "      <td>3</td>\n",
              "      <td>Chinstrap penguin (Pygoscelis antarctica)</td>\n",
              "      <td>Dream</td>\n",
              "      <td>Yes</td>\n",
              "      <td>45.2</td>\n",
              "      <td>16.6</td>\n",
              "      <td>191.0</td>\n",
              "      <td>FEMALE</td>\n",
              "      <td>9.62357</td>\n",
              "      <td>-24.78984</td>\n",
              "    </tr>\n",
              "    <tr>\n",
              "      <th>4</th>\n",
              "      <td>4</td>\n",
              "      <td>Adelie Penguin (Pygoscelis adeliae)</td>\n",
              "      <td>Biscoe</td>\n",
              "      <td>No</td>\n",
              "      <td>37.9</td>\n",
              "      <td>18.6</td>\n",
              "      <td>172.0</td>\n",
              "      <td>FEMALE</td>\n",
              "      <td>8.38404</td>\n",
              "      <td>-25.19837</td>\n",
              "    </tr>\n",
              "  </tbody>\n",
              "</table>\n",
              "</div>\n",
              "      <button class=\"colab-df-convert\" onclick=\"convertToInteractive('df-1114a1d7-76e6-4dc7-a9a8-c9b828169551')\"\n",
              "              title=\"Convert this dataframe to an interactive table.\"\n",
              "              style=\"display:none;\">\n",
              "        \n",
              "  <svg xmlns=\"http://www.w3.org/2000/svg\" height=\"24px\"viewBox=\"0 0 24 24\"\n",
              "       width=\"24px\">\n",
              "    <path d=\"M0 0h24v24H0V0z\" fill=\"none\"/>\n",
              "    <path d=\"M18.56 5.44l.94 2.06.94-2.06 2.06-.94-2.06-.94-.94-2.06-.94 2.06-2.06.94zm-11 1L8.5 8.5l.94-2.06 2.06-.94-2.06-.94L8.5 2.5l-.94 2.06-2.06.94zm10 10l.94 2.06.94-2.06 2.06-.94-2.06-.94-.94-2.06-.94 2.06-2.06.94z\"/><path d=\"M17.41 7.96l-1.37-1.37c-.4-.4-.92-.59-1.43-.59-.52 0-1.04.2-1.43.59L10.3 9.45l-7.72 7.72c-.78.78-.78 2.05 0 2.83L4 21.41c.39.39.9.59 1.41.59.51 0 1.02-.2 1.41-.59l7.78-7.78 2.81-2.81c.8-.78.8-2.07 0-2.86zM5.41 20L4 18.59l7.72-7.72 1.47 1.35L5.41 20z\"/>\n",
              "  </svg>\n",
              "      </button>\n",
              "      \n",
              "  <style>\n",
              "    .colab-df-container {\n",
              "      display:flex;\n",
              "      flex-wrap:wrap;\n",
              "      gap: 12px;\n",
              "    }\n",
              "\n",
              "    .colab-df-convert {\n",
              "      background-color: #E8F0FE;\n",
              "      border: none;\n",
              "      border-radius: 50%;\n",
              "      cursor: pointer;\n",
              "      display: none;\n",
              "      fill: #1967D2;\n",
              "      height: 32px;\n",
              "      padding: 0 0 0 0;\n",
              "      width: 32px;\n",
              "    }\n",
              "\n",
              "    .colab-df-convert:hover {\n",
              "      background-color: #E2EBFA;\n",
              "      box-shadow: 0px 1px 2px rgba(60, 64, 67, 0.3), 0px 1px 3px 1px rgba(60, 64, 67, 0.15);\n",
              "      fill: #174EA6;\n",
              "    }\n",
              "\n",
              "    [theme=dark] .colab-df-convert {\n",
              "      background-color: #3B4455;\n",
              "      fill: #D2E3FC;\n",
              "    }\n",
              "\n",
              "    [theme=dark] .colab-df-convert:hover {\n",
              "      background-color: #434B5C;\n",
              "      box-shadow: 0px 1px 3px 1px rgba(0, 0, 0, 0.15);\n",
              "      filter: drop-shadow(0px 1px 2px rgba(0, 0, 0, 0.3));\n",
              "      fill: #FFFFFF;\n",
              "    }\n",
              "  </style>\n",
              "\n",
              "      <script>\n",
              "        const buttonEl =\n",
              "          document.querySelector('#df-1114a1d7-76e6-4dc7-a9a8-c9b828169551 button.colab-df-convert');\n",
              "        buttonEl.style.display =\n",
              "          google.colab.kernel.accessAllowed ? 'block' : 'none';\n",
              "\n",
              "        async function convertToInteractive(key) {\n",
              "          const element = document.querySelector('#df-1114a1d7-76e6-4dc7-a9a8-c9b828169551');\n",
              "          const dataTable =\n",
              "            await google.colab.kernel.invokeFunction('convertToInteractive',\n",
              "                                                     [key], {});\n",
              "          if (!dataTable) return;\n",
              "\n",
              "          const docLinkHtml = 'Like what you see? Visit the ' +\n",
              "            '<a target=\"_blank\" href=https://colab.research.google.com/notebooks/data_table.ipynb>data table notebook</a>'\n",
              "            + ' to learn more about interactive tables.';\n",
              "          element.innerHTML = '';\n",
              "          dataTable['output_type'] = 'display_data';\n",
              "          await google.colab.output.renderOutput(dataTable, element);\n",
              "          const docLink = document.createElement('div');\n",
              "          docLink.innerHTML = docLinkHtml;\n",
              "          element.appendChild(docLink);\n",
              "        }\n",
              "      </script>\n",
              "    </div>\n",
              "  </div>\n",
              "  "
            ]
          },
          "metadata": {},
          "execution_count": 20
        }
      ]
    },
    {
      "cell_type": "code",
      "source": [
        "# Test Data 인코딩\n",
        "test.loc[test['Sex'] == 'MALE', 'Sex'] = 0\n",
        "test.loc[test['Sex'] == 'FEMALE', 'Sex'] = 1\n",
        "test = test.astype({'Sex': 'int'})\n",
        "\n",
        "labeled_test = pd.get_dummies(test)"
      ],
      "metadata": {
        "id": "6hoVzOYnO01e"
      },
      "execution_count": null,
      "outputs": []
    },
    {
      "cell_type": "code",
      "source": [
        "labeled_test = labeled_test.drop(['id'], axis=1) # id 컬럼을 제거하여 train셋과 형태 통일\n",
        "labeled_test.head()"
      ],
      "metadata": {
        "colab": {
          "base_uri": "https://localhost:8080/",
          "height": 322
        },
        "id": "mm3yUjlMO2GU",
        "outputId": "acef3c2d-7d6c-4c21-d0ad-868d640e91f0"
      },
      "execution_count": null,
      "outputs": [
        {
          "output_type": "execute_result",
          "data": {
            "text/plain": [
              "   Culmen Length (mm)  Culmen Depth (mm)  Flipper Length (mm)  Sex  \\\n",
              "0                52.0               20.7                210.0    0   \n",
              "1                55.9               17.0                228.0    0   \n",
              "2                38.9               18.8                190.0    1   \n",
              "3                45.2               16.6                191.0    1   \n",
              "4                37.9               18.6                172.0    1   \n",
              "\n",
              "   Delta 15 N (o/oo)  Delta 13 C (o/oo)  \\\n",
              "0            9.43146          -24.68440   \n",
              "1            8.31180          -26.35425   \n",
              "2            8.36936          -26.11199   \n",
              "3            9.62357          -24.78984   \n",
              "4            8.38404          -25.19837   \n",
              "\n",
              "   Species_Adelie Penguin (Pygoscelis adeliae)  \\\n",
              "0                                            0   \n",
              "1                                            0   \n",
              "2                                            1   \n",
              "3                                            0   \n",
              "4                                            1   \n",
              "\n",
              "   Species_Chinstrap penguin (Pygoscelis antarctica)  \\\n",
              "0                                                  1   \n",
              "1                                                  0   \n",
              "2                                                  0   \n",
              "3                                                  1   \n",
              "4                                                  0   \n",
              "\n",
              "   Species_Gentoo penguin (Pygoscelis papua)  Island_Biscoe  Island_Dream  \\\n",
              "0                                          0              0             1   \n",
              "1                                          1              1             0   \n",
              "2                                          0              0             1   \n",
              "3                                          0              0             1   \n",
              "4                                          0              1             0   \n",
              "\n",
              "   Island_Torgersen  Clutch Completion_No  Clutch Completion_Yes  \n",
              "0                 0                     0                      1  \n",
              "1                 0                     0                      1  \n",
              "2                 0                     0                      1  \n",
              "3                 0                     0                      1  \n",
              "4                 0                     1                      0  "
            ],
            "text/html": [
              "\n",
              "  <div id=\"df-102243d3-0cca-4ba2-9543-28cc150f5828\">\n",
              "    <div class=\"colab-df-container\">\n",
              "      <div>\n",
              "<style scoped>\n",
              "    .dataframe tbody tr th:only-of-type {\n",
              "        vertical-align: middle;\n",
              "    }\n",
              "\n",
              "    .dataframe tbody tr th {\n",
              "        vertical-align: top;\n",
              "    }\n",
              "\n",
              "    .dataframe thead th {\n",
              "        text-align: right;\n",
              "    }\n",
              "</style>\n",
              "<table border=\"1\" class=\"dataframe\">\n",
              "  <thead>\n",
              "    <tr style=\"text-align: right;\">\n",
              "      <th></th>\n",
              "      <th>Culmen Length (mm)</th>\n",
              "      <th>Culmen Depth (mm)</th>\n",
              "      <th>Flipper Length (mm)</th>\n",
              "      <th>Sex</th>\n",
              "      <th>Delta 15 N (o/oo)</th>\n",
              "      <th>Delta 13 C (o/oo)</th>\n",
              "      <th>Species_Adelie Penguin (Pygoscelis adeliae)</th>\n",
              "      <th>Species_Chinstrap penguin (Pygoscelis antarctica)</th>\n",
              "      <th>Species_Gentoo penguin (Pygoscelis papua)</th>\n",
              "      <th>Island_Biscoe</th>\n",
              "      <th>Island_Dream</th>\n",
              "      <th>Island_Torgersen</th>\n",
              "      <th>Clutch Completion_No</th>\n",
              "      <th>Clutch Completion_Yes</th>\n",
              "    </tr>\n",
              "  </thead>\n",
              "  <tbody>\n",
              "    <tr>\n",
              "      <th>0</th>\n",
              "      <td>52.0</td>\n",
              "      <td>20.7</td>\n",
              "      <td>210.0</td>\n",
              "      <td>0</td>\n",
              "      <td>9.43146</td>\n",
              "      <td>-24.68440</td>\n",
              "      <td>0</td>\n",
              "      <td>1</td>\n",
              "      <td>0</td>\n",
              "      <td>0</td>\n",
              "      <td>1</td>\n",
              "      <td>0</td>\n",
              "      <td>0</td>\n",
              "      <td>1</td>\n",
              "    </tr>\n",
              "    <tr>\n",
              "      <th>1</th>\n",
              "      <td>55.9</td>\n",
              "      <td>17.0</td>\n",
              "      <td>228.0</td>\n",
              "      <td>0</td>\n",
              "      <td>8.31180</td>\n",
              "      <td>-26.35425</td>\n",
              "      <td>0</td>\n",
              "      <td>0</td>\n",
              "      <td>1</td>\n",
              "      <td>1</td>\n",
              "      <td>0</td>\n",
              "      <td>0</td>\n",
              "      <td>0</td>\n",
              "      <td>1</td>\n",
              "    </tr>\n",
              "    <tr>\n",
              "      <th>2</th>\n",
              "      <td>38.9</td>\n",
              "      <td>18.8</td>\n",
              "      <td>190.0</td>\n",
              "      <td>1</td>\n",
              "      <td>8.36936</td>\n",
              "      <td>-26.11199</td>\n",
              "      <td>1</td>\n",
              "      <td>0</td>\n",
              "      <td>0</td>\n",
              "      <td>0</td>\n",
              "      <td>1</td>\n",
              "      <td>0</td>\n",
              "      <td>0</td>\n",
              "      <td>1</td>\n",
              "    </tr>\n",
              "    <tr>\n",
              "      <th>3</th>\n",
              "      <td>45.2</td>\n",
              "      <td>16.6</td>\n",
              "      <td>191.0</td>\n",
              "      <td>1</td>\n",
              "      <td>9.62357</td>\n",
              "      <td>-24.78984</td>\n",
              "      <td>0</td>\n",
              "      <td>1</td>\n",
              "      <td>0</td>\n",
              "      <td>0</td>\n",
              "      <td>1</td>\n",
              "      <td>0</td>\n",
              "      <td>0</td>\n",
              "      <td>1</td>\n",
              "    </tr>\n",
              "    <tr>\n",
              "      <th>4</th>\n",
              "      <td>37.9</td>\n",
              "      <td>18.6</td>\n",
              "      <td>172.0</td>\n",
              "      <td>1</td>\n",
              "      <td>8.38404</td>\n",
              "      <td>-25.19837</td>\n",
              "      <td>1</td>\n",
              "      <td>0</td>\n",
              "      <td>0</td>\n",
              "      <td>1</td>\n",
              "      <td>0</td>\n",
              "      <td>0</td>\n",
              "      <td>1</td>\n",
              "      <td>0</td>\n",
              "    </tr>\n",
              "  </tbody>\n",
              "</table>\n",
              "</div>\n",
              "      <button class=\"colab-df-convert\" onclick=\"convertToInteractive('df-102243d3-0cca-4ba2-9543-28cc150f5828')\"\n",
              "              title=\"Convert this dataframe to an interactive table.\"\n",
              "              style=\"display:none;\">\n",
              "        \n",
              "  <svg xmlns=\"http://www.w3.org/2000/svg\" height=\"24px\"viewBox=\"0 0 24 24\"\n",
              "       width=\"24px\">\n",
              "    <path d=\"M0 0h24v24H0V0z\" fill=\"none\"/>\n",
              "    <path d=\"M18.56 5.44l.94 2.06.94-2.06 2.06-.94-2.06-.94-.94-2.06-.94 2.06-2.06.94zm-11 1L8.5 8.5l.94-2.06 2.06-.94-2.06-.94L8.5 2.5l-.94 2.06-2.06.94zm10 10l.94 2.06.94-2.06 2.06-.94-2.06-.94-.94-2.06-.94 2.06-2.06.94z\"/><path d=\"M17.41 7.96l-1.37-1.37c-.4-.4-.92-.59-1.43-.59-.52 0-1.04.2-1.43.59L10.3 9.45l-7.72 7.72c-.78.78-.78 2.05 0 2.83L4 21.41c.39.39.9.59 1.41.59.51 0 1.02-.2 1.41-.59l7.78-7.78 2.81-2.81c.8-.78.8-2.07 0-2.86zM5.41 20L4 18.59l7.72-7.72 1.47 1.35L5.41 20z\"/>\n",
              "  </svg>\n",
              "      </button>\n",
              "      \n",
              "  <style>\n",
              "    .colab-df-container {\n",
              "      display:flex;\n",
              "      flex-wrap:wrap;\n",
              "      gap: 12px;\n",
              "    }\n",
              "\n",
              "    .colab-df-convert {\n",
              "      background-color: #E8F0FE;\n",
              "      border: none;\n",
              "      border-radius: 50%;\n",
              "      cursor: pointer;\n",
              "      display: none;\n",
              "      fill: #1967D2;\n",
              "      height: 32px;\n",
              "      padding: 0 0 0 0;\n",
              "      width: 32px;\n",
              "    }\n",
              "\n",
              "    .colab-df-convert:hover {\n",
              "      background-color: #E2EBFA;\n",
              "      box-shadow: 0px 1px 2px rgba(60, 64, 67, 0.3), 0px 1px 3px 1px rgba(60, 64, 67, 0.15);\n",
              "      fill: #174EA6;\n",
              "    }\n",
              "\n",
              "    [theme=dark] .colab-df-convert {\n",
              "      background-color: #3B4455;\n",
              "      fill: #D2E3FC;\n",
              "    }\n",
              "\n",
              "    [theme=dark] .colab-df-convert:hover {\n",
              "      background-color: #434B5C;\n",
              "      box-shadow: 0px 1px 3px 1px rgba(0, 0, 0, 0.15);\n",
              "      filter: drop-shadow(0px 1px 2px rgba(0, 0, 0, 0.3));\n",
              "      fill: #FFFFFF;\n",
              "    }\n",
              "  </style>\n",
              "\n",
              "      <script>\n",
              "        const buttonEl =\n",
              "          document.querySelector('#df-102243d3-0cca-4ba2-9543-28cc150f5828 button.colab-df-convert');\n",
              "        buttonEl.style.display =\n",
              "          google.colab.kernel.accessAllowed ? 'block' : 'none';\n",
              "\n",
              "        async function convertToInteractive(key) {\n",
              "          const element = document.querySelector('#df-102243d3-0cca-4ba2-9543-28cc150f5828');\n",
              "          const dataTable =\n",
              "            await google.colab.kernel.invokeFunction('convertToInteractive',\n",
              "                                                     [key], {});\n",
              "          if (!dataTable) return;\n",
              "\n",
              "          const docLinkHtml = 'Like what you see? Visit the ' +\n",
              "            '<a target=\"_blank\" href=https://colab.research.google.com/notebooks/data_table.ipynb>data table notebook</a>'\n",
              "            + ' to learn more about interactive tables.';\n",
              "          element.innerHTML = '';\n",
              "          dataTable['output_type'] = 'display_data';\n",
              "          await google.colab.output.renderOutput(dataTable, element);\n",
              "          const docLink = document.createElement('div');\n",
              "          docLink.innerHTML = docLinkHtml;\n",
              "          element.appendChild(docLink);\n",
              "        }\n",
              "      </script>\n",
              "    </div>\n",
              "  </div>\n",
              "  "
            ]
          },
          "metadata": {},
          "execution_count": 22
        }
      ]
    },
    {
      "cell_type": "code",
      "source": [
        "labeled_test.shape"
      ],
      "metadata": {
        "colab": {
          "base_uri": "https://localhost:8080/"
        },
        "id": "GIEcgn8JO1-s",
        "outputId": "21560652-97ba-45b3-b4f8-fe2da1baf05c"
      },
      "execution_count": null,
      "outputs": [
        {
          "output_type": "execute_result",
          "data": {
            "text/plain": [
              "(228, 14)"
            ]
          },
          "metadata": {},
          "execution_count": 23
        }
      ]
    },
    {
      "cell_type": "markdown",
      "source": [
        "모델 학습"
      ],
      "metadata": {
        "id": "9IjSaNYnQUD6"
      }
    },
    {
      "cell_type": "code",
      "source": [
        "X = labeled_train.drop(['id', 'Body Mass (g)'], axis = 1) # train의 id를 없애고 y값(body mass)을 없앰.\n",
        "Y = labeled_train['Body Mass (g)'] # y값만"
      ],
      "metadata": {
        "id": "PeGk_g_RQiPd"
      },
      "execution_count": null,
      "outputs": []
    },
    {
      "cell_type": "code",
      "source": [
        "num_folds = 10\n",
        "seed = 7\n",
        "scoring = 'neg_root_mean_squared_error' "
      ],
      "metadata": {
        "id": "ZC-5XziIQjJW"
      },
      "execution_count": null,
      "outputs": []
    },
    {
      "cell_type": "code",
      "source": [
        "# train , valid set 쪼개줌\n",
        "from sklearn.model_selection import train_test_split\n",
        "\n",
        "X_train, X_valid, y_train, y_valid = train_test_split(X, Y,test_size=0.2,random_state=seed)"
      ],
      "metadata": {
        "id": "C2e5_HqPQjAk"
      },
      "execution_count": null,
      "outputs": []
    },
    {
      "cell_type": "code",
      "source": [
        "from sklearn.model_selection import KFold\n",
        "from sklearn.model_selection import cross_val_score\n",
        "from sklearn.linear_model import LinearRegression\n",
        "from sklearn.linear_model import Lasso\n",
        "from sklearn.neighbors import KNeighborsRegressor\n",
        "from sklearn.tree import DecisionTreeRegressor\n",
        "from sklearn.ensemble import RandomForestRegressor\n",
        "from sklearn.linear_model import ElasticNet\n",
        "from sklearn.svm import SVR\n",
        "from xgboost import XGBRegressor\n",
        "from lightgbm import LGBMRegressor\n",
        "from sklearn.ensemble import AdaBoostRegressor\n",
        "from sklearn.ensemble import ExtraTreesRegressor"
      ],
      "metadata": {
        "id": "7XbAI_hCR2rm"
      },
      "execution_count": null,
      "outputs": []
    },
    {
      "cell_type": "markdown",
      "source": [
        "base model"
      ],
      "metadata": {
        "id": "x5ZUDh49ScnZ"
      }
    },
    {
      "cell_type": "code",
      "source": [
        "models = []\n",
        "models.append(('LR',LinearRegression()))\n",
        "models.append(('LASSO',Lasso()))\n",
        "models.append(('KNN',KNeighborsRegressor()))\n",
        "models.append(('CART',DecisionTreeRegressor()))\n",
        "models.append(('EN',ElasticNet()))\n",
        "models.append(('SVM',SVR()))\n",
        "models.append(('RFR',RandomForestRegressor()))\n",
        "models.append(('XGBR',XGBRegressor()))\n",
        "models.append(('LGBMR',LGBMRegressor()))\n",
        "models.append(('AdaR',AdaBoostRegressor()))\n",
        "models.append(('Xtree',ExtraTreesRegressor()))\n",
        "\n",
        "results =[]\n",
        "names = []\n",
        "for name, model in models:\n",
        "  kfold = KFold(n_splits=10,random_state=7,shuffle = True)\n",
        "  cv_results = cross_val_score(model,X_train,y_train\n",
        "                               ,cv= kfold,scoring=scoring)\n",
        "  results.append(cv_results)\n",
        "  names.append(name)\n",
        "  msg = \"%s : %f (%f) \"%(name,cv_results.mean(),cv_results.std())\n",
        "  print(msg)"
      ],
      "metadata": {
        "colab": {
          "base_uri": "https://localhost:8080/"
        },
        "id": "tQF2LEn_R2jZ",
        "outputId": "2d3cae81-50a8-4ff5-86ec-4fdc5ee0c347"
      },
      "execution_count": null,
      "outputs": [
        {
          "output_type": "stream",
          "name": "stdout",
          "text": [
            "LR : -303.751745 (69.919498) \n",
            "LASSO : -302.723049 (72.406027) \n",
            "KNN : -375.723677 (110.156216) \n",
            "CART : -440.704738 (128.610338) \n",
            "EN : -353.722001 (113.510510) \n",
            "SVM : -777.029748 (173.598864) \n",
            "RFR : -310.138590 (123.979218) \n",
            "[15:42:01] WARNING: /workspace/src/objective/regression_obj.cu:152: reg:linear is now deprecated in favor of reg:squarederror.\n",
            "[15:42:01] WARNING: /workspace/src/objective/regression_obj.cu:152: reg:linear is now deprecated in favor of reg:squarederror.\n",
            "[15:42:01] WARNING: /workspace/src/objective/regression_obj.cu:152: reg:linear is now deprecated in favor of reg:squarederror.\n",
            "[15:42:01] WARNING: /workspace/src/objective/regression_obj.cu:152: reg:linear is now deprecated in favor of reg:squarederror.\n",
            "[15:42:01] WARNING: /workspace/src/objective/regression_obj.cu:152: reg:linear is now deprecated in favor of reg:squarederror.\n",
            "[15:42:01] WARNING: /workspace/src/objective/regression_obj.cu:152: reg:linear is now deprecated in favor of reg:squarederror.\n",
            "[15:42:01] WARNING: /workspace/src/objective/regression_obj.cu:152: reg:linear is now deprecated in favor of reg:squarederror.\n",
            "[15:42:01] WARNING: /workspace/src/objective/regression_obj.cu:152: reg:linear is now deprecated in favor of reg:squarederror.\n",
            "[15:42:01] WARNING: /workspace/src/objective/regression_obj.cu:152: reg:linear is now deprecated in favor of reg:squarederror.\n",
            "[15:42:01] WARNING: /workspace/src/objective/regression_obj.cu:152: reg:linear is now deprecated in favor of reg:squarederror.\n",
            "XGBR : -341.124828 (124.916333) \n",
            "LGBMR : -329.107704 (95.411378) \n",
            "AdaR : -322.133336 (118.556093) \n",
            "Xtree : -319.038711 (98.274876) \n"
          ]
        }
      ]
    },
    {
      "cell_type": "markdown",
      "source": [
        "standardization - 평균 0 분산 1로 표준화하고 모델링한경우"
      ],
      "metadata": {
        "id": "yi4UF4fKSZRw"
      }
    },
    {
      "cell_type": "code",
      "source": [
        "from sklearn.pipeline import Pipeline\n",
        "from sklearn import preprocessing\n",
        "\n",
        "# 파이프라인에 데이터 전처리 코드 - standardization을 넣어주었다.\n",
        "pipelines = []\n",
        "pipelines.append(('ScaledLR',Pipeline([('Scaler',preprocessing.StandardScaler()),('LR',LinearRegression())])))\n",
        "pipelines.append(('ScaledLASSO',Pipeline([('Scaler',preprocessing.StandardScaler()),('LASSO',Lasso())])))\n",
        "pipelines.append(('ScaledKNN',Pipeline([('Scaler',preprocessing.StandardScaler()),('KNN',KNeighborsRegressor())])))\n",
        "pipelines.append(('ScaledCART',Pipeline([('Scaler',preprocessing.StandardScaler()),('CART',DecisionTreeRegressor())])))\n",
        "pipelines.append(('ScaledEN',Pipeline([('Scaler',preprocessing.StandardScaler()),('EN',ElasticNet())])))\n",
        "pipelines.append(('ScaledSVM',Pipeline([('Scaler',preprocessing.StandardScaler()),('SVM',SVR())])))\n",
        "pipelines.append(('ScaledRFR',Pipeline([('Scaler',preprocessing.StandardScaler()),('RFR',RandomForestRegressor())])))\n",
        "pipelines.append(('ScaledXGBR',Pipeline([('Scaler',preprocessing.StandardScaler()),('XGBR',XGBRegressor())])))\n",
        "pipelines.append(('ScaledLGBMR',Pipeline([('Scaler',preprocessing.StandardScaler()),('LGBMR',LGBMRegressor())])))\n",
        "pipelines.append(('ScaledAdaR',Pipeline([('Scaler',preprocessing.StandardScaler()),('AdaR',AdaBoostRegressor())])))\n",
        "pipelines.append(('ScaledXtree',Pipeline([('Scaler',preprocessing.StandardScaler()),('Xtree',ExtraTreesRegressor())])))\n",
        "\n",
        "results_scaled =[]\n",
        "names_scaled = []\n",
        "for name, model in pipelines:\n",
        "  kfold = KFold(n_splits=10,random_state=7,shuffle = True)\n",
        "  cv_results = cross_val_score(model,X_train,y_train\n",
        "                               ,cv= kfold,scoring=scoring)\n",
        "  results_scaled.append(cv_results)\n",
        "  names_scaled.append(name)\n",
        "  msg = \"%s : %f (%f) \"%(name,cv_results.mean(),cv_results.std())\n",
        "  print(msg)"
      ],
      "metadata": {
        "colab": {
          "base_uri": "https://localhost:8080/"
        },
        "id": "YxrNlnrxSLOP",
        "outputId": "00c3577c-9e9d-456d-fc3d-4556e9d32e97"
      },
      "execution_count": null,
      "outputs": [
        {
          "output_type": "stream",
          "name": "stdout",
          "text": [
            "ScaledLR : -303.751745 (69.919498) \n",
            "ScaledLASSO : -303.573790 (71.376510) \n",
            "ScaledKNN : -351.366577 (115.408696) \n",
            "ScaledCART : -434.770068 (134.790817) \n",
            "ScaledEN : -314.317417 (129.180425) \n",
            "ScaledSVM : -768.104262 (172.547218) \n",
            "ScaledRFR : -309.293858 (126.092376) \n",
            "[15:44:11] WARNING: /workspace/src/objective/regression_obj.cu:152: reg:linear is now deprecated in favor of reg:squarederror.\n",
            "[15:44:11] WARNING: /workspace/src/objective/regression_obj.cu:152: reg:linear is now deprecated in favor of reg:squarederror.\n",
            "[15:44:11] WARNING: /workspace/src/objective/regression_obj.cu:152: reg:linear is now deprecated in favor of reg:squarederror.\n",
            "[15:44:11] WARNING: /workspace/src/objective/regression_obj.cu:152: reg:linear is now deprecated in favor of reg:squarederror.\n",
            "[15:44:11] WARNING: /workspace/src/objective/regression_obj.cu:152: reg:linear is now deprecated in favor of reg:squarederror.\n",
            "[15:44:11] WARNING: /workspace/src/objective/regression_obj.cu:152: reg:linear is now deprecated in favor of reg:squarederror.\n",
            "[15:44:11] WARNING: /workspace/src/objective/regression_obj.cu:152: reg:linear is now deprecated in favor of reg:squarederror.\n",
            "[15:44:11] WARNING: /workspace/src/objective/regression_obj.cu:152: reg:linear is now deprecated in favor of reg:squarederror.\n",
            "[15:44:11] WARNING: /workspace/src/objective/regression_obj.cu:152: reg:linear is now deprecated in favor of reg:squarederror.\n",
            "[15:44:11] WARNING: /workspace/src/objective/regression_obj.cu:152: reg:linear is now deprecated in favor of reg:squarederror.\n",
            "ScaledXGBR : -342.519368 (124.157587) \n",
            "ScaledLGBMR : -331.051523 (104.571957) \n",
            "ScaledAdaR : -333.497204 (113.874713) \n",
            "ScaledXtree : -325.669294 (105.154278) \n"
          ]
        }
      ]
    },
    {
      "cell_type": "markdown",
      "source": [
        "normalization - 값의 범위(scale)를 0~1 사이의 값으로 바꾸는 것"
      ],
      "metadata": {
        "id": "0Rf8YHAKX1TD"
      }
    },
    {
      "cell_type": "code",
      "source": [
        "pipelines = []\n",
        "pipelines.append(('NormLR',Pipeline([('Scaler',preprocessing.Normalizer()),('LR',LinearRegression())])))\n",
        "pipelines.append(('NormLASSO',Pipeline([('Scaler',preprocessing.Normalizer()),('LASSO',Lasso())])))\n",
        "pipelines.append(('NormKNN',Pipeline([('Scaler',preprocessing.Normalizer()),('KNN',KNeighborsRegressor())])))\n",
        "pipelines.append(('NormCART',Pipeline([('Scaler',preprocessing.Normalizer()),('CART',DecisionTreeRegressor())])))\n",
        "pipelines.append(('NormEN',Pipeline([('Scaler',preprocessing.Normalizer()),('EN',ElasticNet())])))\n",
        "pipelines.append(('NormSVM',Pipeline([('Scaler',preprocessing.Normalizer()),('SVM',SVR())])))\n",
        "pipelines.append(('NormRFR',Pipeline([('Scaler',preprocessing.Normalizer()),('RFR',RandomForestRegressor())])))\n",
        "pipelines.append(('NormXGBR',Pipeline([('Scaler',preprocessing.Normalizer()),('XGBR',XGBRegressor())])))\n",
        "pipelines.append(('NormLGBMR',Pipeline([('Scaler',preprocessing.Normalizer()),('LGBMR',LGBMRegressor())])))\n",
        "pipelines.append(('NormAdaR',Pipeline([('Scaler',preprocessing.Normalizer()),('AdaR',AdaBoostRegressor())])))\n",
        "pipelines.append(('NormXtree',Pipeline([('Scaler',preprocessing.Normalizer()),('Xtree',ExtraTreesRegressor())])))\n",
        "\n",
        "results_norm =[]\n",
        "names_norm = []\n",
        "for name, model in pipelines:\n",
        "  kfold = KFold(n_splits=10,random_state=7,shuffle = True)\n",
        "  cv_results = cross_val_score(model,X_train,y_train\n",
        "                               ,cv= kfold,scoring=scoring)\n",
        "  results_norm.append(cv_results)\n",
        "  names_norm.append(name)\n",
        "  msg = \"%s : %f (%f) \"%(name,cv_results.mean(),cv_results.std())\n",
        "  print(msg)"
      ],
      "metadata": {
        "colab": {
          "base_uri": "https://localhost:8080/"
        },
        "id": "hVxyUulbSLJE",
        "outputId": "a9891aa9-ae4c-4f1c-d27a-b8a51720564b"
      },
      "execution_count": null,
      "outputs": [
        {
          "output_type": "stream",
          "name": "stdout",
          "text": [
            "NormLR : -304.858013 (70.246789) \n",
            "NormLASSO : -502.373773 (158.521677) \n",
            "NormKNN : -386.055361 (124.486338) \n",
            "NormCART : -400.857343 (123.047337) \n",
            "NormEN : -773.062771 (160.074694) \n",
            "NormSVM : -777.523732 (173.720350) \n",
            "NormRFR : -316.615261 (110.976903) \n",
            "[16:08:32] WARNING: /workspace/src/objective/regression_obj.cu:152: reg:linear is now deprecated in favor of reg:squarederror.\n",
            "[16:08:32] WARNING: /workspace/src/objective/regression_obj.cu:152: reg:linear is now deprecated in favor of reg:squarederror.\n",
            "[16:08:32] WARNING: /workspace/src/objective/regression_obj.cu:152: reg:linear is now deprecated in favor of reg:squarederror.\n",
            "[16:08:32] WARNING: /workspace/src/objective/regression_obj.cu:152: reg:linear is now deprecated in favor of reg:squarederror.\n",
            "[16:08:32] WARNING: /workspace/src/objective/regression_obj.cu:152: reg:linear is now deprecated in favor of reg:squarederror.\n",
            "[16:08:32] WARNING: /workspace/src/objective/regression_obj.cu:152: reg:linear is now deprecated in favor of reg:squarederror.\n",
            "[16:08:32] WARNING: /workspace/src/objective/regression_obj.cu:152: reg:linear is now deprecated in favor of reg:squarederror.\n",
            "[16:08:32] WARNING: /workspace/src/objective/regression_obj.cu:152: reg:linear is now deprecated in favor of reg:squarederror.\n",
            "[16:08:32] WARNING: /workspace/src/objective/regression_obj.cu:152: reg:linear is now deprecated in favor of reg:squarederror.\n",
            "[16:08:32] WARNING: /workspace/src/objective/regression_obj.cu:152: reg:linear is now deprecated in favor of reg:squarederror.\n",
            "NormXGBR : -336.801093 (137.847639) \n",
            "NormLGBMR : -311.771830 (115.751429) \n",
            "NormAdaR : -301.686326 (121.291514) \n",
            "NormXtree : -338.633839 (98.238315) \n"
          ]
        }
      ]
    },
    {
      "cell_type": "code",
      "source": [
        "# gridsearchCV를 통해 어떤 하이퍼파라미터가 효과적일지 확인\n",
        "\n",
        "from sklearn.model_selection import GridSearchCV\n",
        "\n",
        "params = { 'n_estimators' : [10, 50,100],\n",
        "           'max_depth' : [6, 12,18,24],\n",
        "           'min_samples_leaf' : [1, 6, 12, 18],\n",
        "           'min_samples_split' : [2, 8, 16, 20]\n",
        "            }\n",
        "model = RandomForestRegressor()\n",
        "kfold = KFold(n_splits= num_folds,random_state = seed,shuffle = True)\n",
        "grid = GridSearchCV(estimator= model, param_grid = params,scoring= 'neg_root_mean_squared_error',cv=kfold )\n",
        "rfr_grid_result = grid.fit(X,Y)"
      ],
      "metadata": {
        "id": "GghNlchIQB2b"
      },
      "execution_count": null,
      "outputs": []
    },
    {
      "cell_type": "code",
      "source": [
        "print(\"Best : %f using %s \"%(rfr_grid_result.best_score_,rfr_grid_result.best_params_))"
      ],
      "metadata": {
        "colab": {
          "base_uri": "https://localhost:8080/"
        },
        "id": "ZUdvu6oHQByk",
        "outputId": "cd0602ef-5c33-4010-9e8b-c196b3eaf66a"
      },
      "execution_count": null,
      "outputs": [
        {
          "output_type": "stream",
          "name": "stdout",
          "text": [
            "Best : -304.724221 using {'max_depth': 12, 'min_samples_leaf': 1, 'min_samples_split': 8, 'n_estimators': 10} \n"
          ]
        }
      ]
    },
    {
      "cell_type": "code",
      "source": [
        "# nomalization한 데이터의 경우\n",
        "\n",
        "normed = preprocessing.Normalizer().fit(X)\n",
        "normed_X = normed.transform(X)\n",
        "params = {\"max_depth\":[3,4,5],\n",
        "          \"n_estimators\":[100,200],\n",
        "          \"learning_rate\":[0.05,0.1,0.2]}\n",
        "model = LGBMRegressor()\n",
        "kfold = KFold(n_splits= num_folds,random_state = seed,shuffle = True)\n",
        "grid = GridSearchCV(estimator= model, param_grid = params,scoring= 'neg_root_mean_squared_error',cv=kfold )\n",
        "normed_lgbm_grid_result = grid.fit(normed_X,Y)"
      ],
      "metadata": {
        "id": "wwyNOzQFQBsg"
      },
      "execution_count": null,
      "outputs": []
    },
    {
      "cell_type": "code",
      "source": [
        "print(\"Best : %f using %s \"%(normed_lgbm_grid_result.best_score_,normed_lgbm_grid_result.best_params_))"
      ],
      "metadata": {
        "colab": {
          "base_uri": "https://localhost:8080/"
        },
        "id": "O3Pw9udRQBoX",
        "outputId": "15e5b43c-5196-4550-a086-7ef5799ac8ef"
      },
      "execution_count": null,
      "outputs": [
        {
          "output_type": "stream",
          "name": "stdout",
          "text": [
            "Best : -327.676554 using {'learning_rate': 0.05, 'max_depth': 3, 'n_estimators': 100} \n"
          ]
        }
      ]
    },
    {
      "cell_type": "code",
      "source": [
        "normed = preprocessing.Normalizer().fit(X)\n",
        "normed_X = normed.transform(X)\n",
        "params = {\"n_estimators\" : [10, 100, 200, 500],\n",
        "          \"learning_rate\" : [0.001, 0.01, 0.1, 0.5, 1, 1.5, 2]\n",
        "         }\n",
        "model = AdaBoostRegressor()\n",
        "kfold = KFold(n_splits= num_folds,random_state = seed,shuffle = True)\n",
        "grid = GridSearchCV(estimator= model, param_grid = params,scoring= 'neg_root_mean_squared_error',cv=kfold )\n",
        "normed_AdaR_grid_result = grid.fit(normed_X,Y)"
      ],
      "metadata": {
        "id": "ZtjMDRALamDB"
      },
      "execution_count": null,
      "outputs": []
    },
    {
      "cell_type": "code",
      "source": [
        "print(\"Best : %f using %s \"%(normed_AdaR_grid_result.best_score_,normed_AdaR_grid_result.best_params_))"
      ],
      "metadata": {
        "colab": {
          "base_uri": "https://localhost:8080/"
        },
        "id": "LRRs0dOPal__",
        "outputId": "c5f7b76e-6599-416b-a70d-f5a1ea485297"
      },
      "execution_count": null,
      "outputs": [
        {
          "output_type": "stream",
          "name": "stdout",
          "text": [
            "Best : -304.318926 using {'learning_rate': 0.1, 'n_estimators': 100} \n"
          ]
        }
      ]
    },
    {
      "cell_type": "markdown",
      "source": [
        "LASSO, Standardization한 LR, Normalization한 AdaR, RFR, Normalization한 LGBMR의 결과가 가장 좋음  \n",
        "이 모델들을 하이퍼파라미터 튜닝하여 최고의 결과 뽑아내기"
      ],
      "metadata": {
        "id": "CjnaZryTdWW3"
      }
    },
    {
      "cell_type": "markdown",
      "source": [
        "앙상블"
      ],
      "metadata": {
        "id": "kyCuOnNbar6b"
      }
    },
    {
      "cell_type": "code",
      "source": [
        "from sklearn.metrics import mean_squared_error\n",
        "import math"
      ],
      "metadata": {
        "id": "QuwewxJRal7w"
      },
      "execution_count": null,
      "outputs": []
    },
    {
      "cell_type": "code",
      "source": [
        "errors = []\n",
        "pred_valid=[]\n",
        "pred_test = []"
      ],
      "metadata": {
        "id": "Phkgo0fDal1M"
      },
      "execution_count": null,
      "outputs": []
    },
    {
      "cell_type": "code",
      "source": [
        "#표준화\n",
        "scaler = preprocessing.StandardScaler().fit(X_train)\n",
        "scaled_X_train = scaler.transform(X_train)\n",
        "scaled_X_valid = scaler.transform(X_valid)\n",
        "scaled_X_test = scaler.transform(labeled_test)"
      ],
      "metadata": {
        "id": "bw1USP0mavym"
      },
      "execution_count": null,
      "outputs": []
    },
    {
      "cell_type": "code",
      "source": [
        "#정규화\n",
        "normed = preprocessing.Normalizer().fit(X_train)\n",
        "normed_X_train = normed.transform(X_train)\n",
        "normed_X_valid = scaler.transform(X_valid)\n",
        "normed_X_test = scaler.transform(labeled_test)"
      ],
      "metadata": {
        "id": "In2-HcRBavtU"
      },
      "execution_count": null,
      "outputs": []
    },
    {
      "cell_type": "code",
      "source": [
        "lasso = Lasso()\n",
        "lasso.fit(X_train,y_train)\n",
        "lasso_valid = lasso.predict(X_valid)\n",
        "rmse = math.sqrt(mean_squared_error(y_valid, lasso_valid))\n",
        "errors.append(('Lasso',rmse))\n",
        "pred_valid.append(('Lasso',lasso_valid))\n",
        "lasso_test = lasso.predict(labeled_test)\n",
        "pred_test.append(('Lasso',lasso_test))"
      ],
      "metadata": {
        "id": "BnmcbUZYa8MS"
      },
      "execution_count": null,
      "outputs": []
    },
    {
      "cell_type": "code",
      "source": [
        "LR =LinearRegression()\n",
        "LR.fit(scaled_X_train,y_train)\n",
        "lr_valid = LR.predict(scaled_X_valid)\n",
        "rmse = math.sqrt(mean_squared_error(y_valid, lr_valid))\n",
        "errors.append(('LR',rmse))\n",
        "pred_valid.append(('LR',lr_valid))\n",
        "lr_test = LR.predict(scaled_X_test)\n",
        "pred_test.append(('LR',lr_test))"
      ],
      "metadata": {
        "id": "4seiFbGKavqh"
      },
      "execution_count": null,
      "outputs": []
    },
    {
      "cell_type": "code",
      "source": [
        "RF =RandomForestRegressor(max_depth = 12,\n",
        "                          min_samples_leaf = 1,\n",
        "                          min_samples_split = 16,\n",
        "                          n_estimators = 10)\n",
        "RF.fit(X_train,y_train)\n",
        "rf_valid = RF.predict(X_valid)\n",
        "rmse = math.sqrt(mean_squared_error(y_valid, rf_valid))\n",
        "errors.append(('RF',rmse))\n",
        "pred_valid.append(('RF',rf_valid))\n",
        "rf_test = RF.predict(labeled_test)\n",
        "pred_test.append(('RF',rf_test))"
      ],
      "metadata": {
        "id": "lBa7_2ZzbA4D"
      },
      "execution_count": null,
      "outputs": []
    },
    {
      "cell_type": "code",
      "source": [
        "LGB = LGBMRegressor(learning_rate = 0.05, \n",
        "                    max_depth = 3,\n",
        "                    n_estimators = 100)\n",
        "LGB.fit(normed_X_train, y_train)\n",
        "LGB_valid = LGB.predict(normed_X_valid)\n",
        "rmse = math.sqrt(mean_squared_error(y_valid, LGB_valid))\n",
        "errors.append(('LGB',rmse))\n",
        "pred_valid.append(('LGB',LGB_valid))\n",
        "LGB_test = LGB.predict(normed_X_test)\n",
        "pred_test.append(('LGB',LGB_test))"
      ],
      "metadata": {
        "id": "xqbK5CqCbA04"
      },
      "execution_count": null,
      "outputs": []
    },
    {
      "cell_type": "code",
      "source": [
        "Ada = AdaBoostRegressor(learning_rate = 0.01, \n",
        "                        n_estimators = 100)\n",
        "Ada.fit(normed_X_train, y_train)\n",
        "Ada_valid = Ada.predict(normed_X_valid)\n",
        "rmse = math.sqrt(mean_squared_error(y_valid, Ada_valid))\n",
        "errors.append(('Ada',rmse))\n",
        "pred_valid.append(('Ada',Ada_valid))\n",
        "Ada_test = Ada.predict(normed_X_test)\n",
        "pred_test.append(('Ada',Ada_test))"
      ],
      "metadata": {
        "id": "Ze7OdTdwbES_"
      },
      "execution_count": null,
      "outputs": []
    },
    {
      "cell_type": "code",
      "source": [
        "for name, error in errors:\n",
        "  print(\"{} : {}\".format(name,error))"
      ],
      "metadata": {
        "id": "8_cd5sAFbEK3"
      },
      "execution_count": null,
      "outputs": []
    },
    {
      "cell_type": "code",
      "source": [
        "# 모델 앙상블을 통한 RMSE 구하기\n",
        "val= np.zeros(X_valid.shape[0])\n",
        "for name, pred in pred_valid:\n",
        "  val+= ((1/5) * pred)\n",
        "math.sqrt(mean_squared_error(y_valid, val))"
      ],
      "metadata": {
        "id": "8nLoVJ0TbAwq"
      },
      "execution_count": null,
      "outputs": []
    },
    {
      "cell_type": "code",
      "source": [
        "# 값이 높은 3가지 모델로 앙상블\n",
        "val= np.zeros(X_valid.shape[0])\n",
        "for name, pred in pred_valid:\n",
        "  if name == 'Lasso' or name=='LR' or name == 'RF':\n",
        "    val+= ((1/3)* pred)\n",
        "math.sqrt(mean_squared_error(y_valid, val))"
      ],
      "metadata": {
        "id": "fxd6efw6bYC1"
      },
      "execution_count": null,
      "outputs": []
    },
    {
      "cell_type": "code",
      "source": [
        "test_val= np.zeros(labeled_test.shape[0])\n",
        "for name, pred in pred_test:\n",
        "  if name == 'Lasso' or name=='LR' or name == 'RF':\n",
        "    test_val+= ((1/3) * pred)"
      ],
      "metadata": {
        "id": "E0a0MqKLbYAS"
      },
      "execution_count": null,
      "outputs": []
    }
  ]
}