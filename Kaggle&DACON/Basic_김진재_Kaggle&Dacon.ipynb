{
  "nbformat": 4,
  "nbformat_minor": 0,
  "metadata": {
    "colab": {
      "name": "Basic_김진재_Kaggle&Dacon.ipynb",
      "provenance": []
    },
    "kernelspec": {
      "name": "python3",
      "display_name": "Python 3"
    },
    "language_info": {
      "name": "python"
    }
  },
  "cells": [
    {
      "cell_type": "markdown",
      "source": [
        "# kaggle - jpx tokyo stock prediction challenge 참여\n",
        "\n",
        "* Basic_김진재\n",
        "* 코드실행결과까지 같이 업로드하려고 했으나 용량 문제로 코드만 첨부합니다.\n",
        "* ML모델 중 LGBM을 사용하였습니다."
      ],
      "metadata": {
        "id": "rLwDxhKKfaCi"
      }
    },
    {
      "cell_type": "code",
      "source": [
        "from google.colab import drive \n",
        "drive.mount('/content/drive')"
      ],
      "metadata": {
        "id": "qnSmMMReff_o"
      },
      "execution_count": null,
      "outputs": []
    },
    {
      "cell_type": "code",
      "source": [
        "import warnings, gc\n",
        "import numpy as np \n",
        "import pandas as pd\n",
        "import matplotlib.colors\n",
        "import seaborn as sns\n",
        "import plotly.express as px\n",
        "import plotly.graph_objects as go\n",
        "from plotly.subplots import make_subplots\n",
        "from plotly.offline import init_notebook_mode\n",
        "from datetime import datetime, timedelta\n",
        "from sklearn.model_selection import TimeSeriesSplit\n",
        "from sklearn.metrics import mean_squared_error,mean_absolute_error\n",
        "from lightgbm import LGBMRegressor\n",
        "from decimal import ROUND_HALF_UP, Decimal\n",
        "warnings.filterwarnings(\"ignore\")\n",
        "import plotly.figure_factory as ff\n",
        "\n",
        "init_notebook_mode(connected=True)\n",
        "temp = dict(layout=go.Layout(font=dict(family=\"Franklin Gothic\", size=12), width=800))\n",
        "colors=px.colors.qualitative.Plotly\n",
        "\n",
        "train=pd.read_csv(\"/content/drive/MyDrive/jpx/train_files/stock_prices.csv\", parse_dates=['Date'])\n",
        "stock_list=pd.read_csv(\"/content/drive/MyDrive/jpx/train_files/stock_list.csv\")\n",
        "\n",
        "print(\"The training data begins on {} and ends on {}.\\n\".format(train.Date.min(),train.Date.max()))\n",
        "display(train.describe().style.format('{:,.2f}'))"
      ],
      "metadata": {
        "id": "3_4UxG66fgFv"
      },
      "execution_count": null,
      "outputs": []
    },
    {
      "cell_type": "code",
      "source": [
        "train_date=train.Date.unique()\n",
        "returns=train.groupby('Date')['Target'].mean().mul(100).rename('Average Return')\n",
        "close_avg=train.groupby('Date')['Close'].mean().rename('Closing Price')\n",
        "vol_avg=train.groupby('Date')['Volume'].mean().rename('Volume')\n",
        "\n",
        "fig = make_subplots(rows=3, cols=1, \n",
        "                    shared_xaxes=True)\n",
        "for i, j in enumerate([returns, close_avg, vol_avg]):\n",
        "    fig.add_trace(go.Scatter(x=train_date, y=j, mode='lines',\n",
        "                             name=j.name, marker_color=colors[i]), row=i+1, col=1)\n",
        "fig.update_xaxes(rangeslider_visible=False,\n",
        "                 rangeselector=dict(\n",
        "                     buttons=list([\n",
        "                         dict(count=6, label=\"6m\", step=\"month\", stepmode=\"backward\"),\n",
        "                         dict(count=1, label=\"1y\", step=\"year\", stepmode=\"backward\"),\n",
        "                         dict(count=2, label=\"2y\", step=\"year\", stepmode=\"backward\"),\n",
        "                         dict(step=\"all\")])),\n",
        "                 row=1,col=1)\n",
        "fig.update_layout(template=temp,title='JPX Market Average Stock Return, Closing Price, and Shares Traded', \n",
        "                  hovermode='x unified', height=700, \n",
        "                  yaxis1=dict(title='Stock Return', ticksuffix='%'), \n",
        "                  yaxis2_title='Closing Price', yaxis3_title='Shares Traded',\n",
        "                  showlegend=False)\n",
        "fig.show()"
      ],
      "metadata": {
        "id": "AJEoDCEjfgJ5"
      },
      "execution_count": null,
      "outputs": []
    },
    {
      "cell_type": "code",
      "source": [
        "stock_list['SectorName']=[i.rstrip().lower().capitalize() for i in stock_list['17SectorName']]\n",
        "stock_list['Name']=[i.rstrip().lower().capitalize() for i in stock_list['Name']]\n",
        "train_df = train.merge(stock_list[['SecuritiesCode','Name','SectorName']], on='SecuritiesCode', how='left')\n",
        "train_df['Year'] = train_df['Date'].dt.year\n",
        "years = {year: pd.DataFrame() for year in train_df.Year.unique()[::-1]}\n",
        "for key in years.keys():\n",
        "    df=train_df[train_df.Year == key]\n",
        "    years[key] = df.groupby('SectorName')['Target'].mean().mul(100).rename(\"Avg_return_{}\".format(key))\n",
        "df=pd.concat((years[i].to_frame() for i in years.keys()), axis=1)\n",
        "df=df.sort_values(by=\"Avg_return_2021\")\n",
        "\n",
        "fig = make_subplots(rows=1, cols=5, shared_yaxes=True)\n",
        "for i, col in enumerate(df.columns):\n",
        "    x = df[col]\n",
        "    mask = x<=0\n",
        "    fig.add_trace(go.Bar(x=x[mask], y=df.index[mask],orientation='h', \n",
        "                         text=x[mask], texttemplate='%{text:.2f}%',textposition='auto',\n",
        "                         hovertemplate='Average Return in %{y} Stocks = %{x:.4f}%',\n",
        "                         marker=dict(color='red', opacity=0.7),name=col[-4:]), \n",
        "                  row=1, col=i+1)\n",
        "    fig.add_trace(go.Bar(x=x[~mask], y=df.index[~mask],orientation='h', \n",
        "                         text=x[~mask], texttemplate='%{text:.2f}%', textposition='auto', \n",
        "                         hovertemplate='Average Return in %{y} Stocks = %{x:.4f}%',\n",
        "                         marker=dict(color='green', opacity=0.7),name=col[-4:]), \n",
        "                  row=1, col=i+1)\n",
        "    fig.update_xaxes(range=(x.min()-.15,x.max()+.15), title='{} Returns'.format(col[-4:]), \n",
        "                     showticklabels=False, row=1, col=i+1)\n",
        "fig.update_layout(template=temp,title='Yearly Average Stock Returns by Sector', \n",
        "                  hovermode='closest',margin=dict(l=250,r=50),\n",
        "                  height=600, width=1000, showlegend=False)\n",
        "fig.show()"
      ],
      "metadata": {
        "id": "SA-ND3jMfgOR"
      },
      "execution_count": null,
      "outputs": []
    },
    {
      "cell_type": "code",
      "source": [
        "train_df=train_df[train_df.Date>'2020-12-23']\n",
        "print(\"New Train Shape {}.\\nMissing values in Target = {}\".format(train_df.shape,train_df['Target'].isna().sum()))\n",
        "\n",
        "fig = go.Figure()\n",
        "x_hist=train_df['Target']\n",
        "fig.add_trace(go.Histogram(x=x_hist*100,\n",
        "                           marker=dict(color=colors[0], opacity=0.7, \n",
        "                                       line=dict(width=1, color=colors[0])),\n",
        "                           xbins=dict(start=-40,end=40,size=1)))\n",
        "fig.update_layout(template=temp,title='Target Distribution', \n",
        "                  xaxis=dict(title='Stock Return',ticksuffix='%'), height=450)\n",
        "fig.show()"
      ],
      "metadata": {
        "id": "sBu_TIgMfgSh"
      },
      "execution_count": null,
      "outputs": []
    },
    {
      "cell_type": "code",
      "source": [
        "pal = ['hsl('+str(h)+',50%'+',50%)' for h in np.linspace(0, 360, 18)]\n",
        "fig = go.Figure()\n",
        "for i, sector in enumerate(df.index[::-1]):\n",
        "    y_data=train_df[train_df['SectorName']==sector]['Target']\n",
        "    fig.add_trace(go.Box(y=y_data*100, name=sector,\n",
        "                         marker_color=pal[i], showlegend=False))\n",
        "fig.update_layout(template=temp, title='Target Distribution by Sector',\n",
        "                  yaxis=dict(title='Stock Return',ticksuffix='%'),\n",
        "                  margin=dict(b=150), height=750, width=900)\n",
        "fig.show()"
      ],
      "metadata": {
        "id": "Btdunb5ZfgWK"
      },
      "execution_count": null,
      "outputs": []
    },
    {
      "cell_type": "code",
      "source": [
        "train_date=train_df.Date.unique()\n",
        "sectors=train_df.SectorName.unique().tolist()\n",
        "sectors.insert(0, 'All')\n",
        "open_avg=train_df.groupby('Date')['Open'].mean()\n",
        "high_avg=train_df.groupby('Date')['High'].mean()\n",
        "low_avg=train_df.groupby('Date')['Low'].mean()\n",
        "close_avg=train_df.groupby('Date')['Close'].mean() \n",
        "buttons=[]\n",
        "\n",
        "fig = go.Figure()\n",
        "for i in range(18):\n",
        "    if i != 0:\n",
        "        open_avg=train_df[train_df.SectorName==sectors[i]].groupby('Date')['Open'].mean()\n",
        "        high_avg=train_df[train_df.SectorName==sectors[i]].groupby('Date')['High'].mean()\n",
        "        low_avg=train_df[train_df.SectorName==sectors[i]].groupby('Date')['Low'].mean()\n",
        "        close_avg=train_df[train_df.SectorName==sectors[i]].groupby('Date')['Close'].mean()        \n",
        "    \n",
        "    fig.add_trace(go.Candlestick(x=train_date, open=open_avg, high=high_avg,\n",
        "                                 low=low_avg, close=close_avg, name=sectors[i],\n",
        "                                 visible=(True if i==0 else False)))\n",
        "    \n",
        "    visibility=[False]*len(sectors)\n",
        "    visibility[i]=True\n",
        "    button = dict(label = sectors[i],\n",
        "                  method = \"update\",\n",
        "                  args=[{\"visible\": visibility}])\n",
        "    buttons.append(button)\n",
        "    \n",
        "fig.update_xaxes(rangeslider_visible=True,\n",
        "                 rangeselector=dict(\n",
        "                     buttons=list([\n",
        "                         dict(count=3, label=\"3m\", step=\"month\", stepmode=\"backward\"),\n",
        "                         dict(count=6, label=\"6m\", step=\"month\", stepmode=\"backward\"),\n",
        "                         dict(step=\"all\")]), xanchor='left',yanchor='bottom', y=1.18, x=.01))\n",
        "fig.update_layout(template=temp,title='Stock Price Movements by Sector', \n",
        "                  hovermode='x unified', showlegend=False, width=1000,\n",
        "                  updatemenus=[dict(active=0, type=\"dropdown\",\n",
        "                                    buttons=buttons, xanchor='left',\n",
        "                                    yanchor='bottom', y=1.01, x=.01)],\n",
        "                  yaxis=dict(title='Stock Price'))\n",
        "fig.show()"
      ],
      "metadata": {
        "id": "Np0qH4jAfgZ-"
      },
      "execution_count": null,
      "outputs": []
    },
    {
      "cell_type": "code",
      "source": [
        "stock=train_df.groupby('Name')['Target'].mean().mul(100)\n",
        "stock_low=stock.nsmallest(7)[::-1].rename(\"Return\")\n",
        "stock_high=stock.nlargest(7).rename(\"Return\")\n",
        "stock=pd.concat([stock_high, stock_low], axis=0).reset_index()\n",
        "stock['Sector']='All'\n",
        "for i in train_df.SectorName.unique():\n",
        "    sector=train_df[train_df.SectorName==i].groupby('Name')['Target'].mean().mul(100)\n",
        "    stock_low=sector.nsmallest(7)[::-1].rename(\"Return\")\n",
        "    stock_high=sector.nlargest(7).rename(\"Return\")\n",
        "    sector_stock=pd.concat([stock_high, stock_low], axis=0).reset_index()\n",
        "    sector_stock['Sector']=i\n",
        "    stock=stock.append(sector_stock,ignore_index=True)\n",
        "    \n",
        "fig=go.Figure()\n",
        "buttons = []\n",
        "for i, sector in enumerate(stock.Sector.unique()):\n",
        "    \n",
        "    x=stock[stock.Sector==sector]['Name']\n",
        "    y=stock[stock.Sector==sector]['Return']\n",
        "    mask=y>0\n",
        "    fig.add_trace(go.Bar(x=x[mask], y=y[mask], text=y[mask], \n",
        "                         texttemplate='%{text:.2f}%',\n",
        "                         textposition='auto',\n",
        "                         name=sector, visible=(False if i != 0 else True),\n",
        "                         hovertemplate='%{x} Average Return: %{y:.3f}%',\n",
        "                         marker=dict(color='green', opacity=0.7)))\n",
        "    fig.add_trace(go.Bar(x=x[~mask], y=y[~mask], text=y[~mask], \n",
        "                         texttemplate='%{text:.2f}%',\n",
        "                         textposition='auto',\n",
        "                         name=sector, visible=(False if i != 0 else True),\n",
        "                         hovertemplate='%{x} Average Return: %{y:.3f}%',\n",
        "                         marker=dict(color='red', opacity=0.7)))\n",
        "    \n",
        "    visibility=[False]*2*len(stock.Sector.unique())\n",
        "    visibility[i*2],visibility[i*2+1]=True,True\n",
        "    button = dict(label = sector,\n",
        "                  method = \"update\",\n",
        "                  args=[{\"visible\": visibility}])\n",
        "    buttons.append(button)\n",
        "\n",
        "fig.update_layout(title='Stocks with Highest and Lowest Returns by Sector',\n",
        "                  template=temp, yaxis=dict(title='Average Return', ticksuffix='%'),\n",
        "                  updatemenus=[dict(active=0, type=\"dropdown\",\n",
        "                                    buttons=buttons, xanchor='left',\n",
        "                                    yanchor='bottom', y=1.01, x=.01)], \n",
        "                  margin=dict(b=150),showlegend=False,height=700, width=900)\n",
        "fig.show()"
      ],
      "metadata": {
        "id": "f7ZnJtu4fgdn"
      },
      "execution_count": null,
      "outputs": []
    },
    {
      "cell_type": "code",
      "source": [
        "stocks=train_df[train_df.SecuritiesCode.isin([4169,7089,4582,2158,7036])]\n",
        "df_pivot=stocks.pivot_table(index='Date', columns='Name', values='Close').reset_index()\n",
        "pal=['rgb'+str(i) for i in sns.color_palette(\"coolwarm\", len(df_pivot))]\n",
        "\n",
        "fig = ff.create_scatterplotmatrix(df_pivot.iloc[:,1:], diag='histogram', name='')\n",
        "fig.update_traces(marker=dict(color=pal, opacity=0.9, line_color='white', line_width=.5))\n",
        "fig.update_layout(template=temp, title='Scatterplots of Highest Performing Stocks', \n",
        "                  height=1000, width=1000, showlegend=False)\n",
        "fig.show()"
      ],
      "metadata": {
        "id": "JJX8b41CfgiF"
      },
      "execution_count": null,
      "outputs": []
    },
    {
      "cell_type": "code",
      "source": [
        "corr=train_df.groupby('SecuritiesCode')[['Target','Close']].corr().unstack().iloc[:,1]\n",
        "stocks=corr.nlargest(10).rename(\"Return\").reset_index()\n",
        "stocks=stocks.merge(train_df[['Name','SecuritiesCode']], on='SecuritiesCode').drop_duplicates()\n",
        "pal=sns.color_palette(\"magma_r\", 14).as_hex()\n",
        "rgb=['rgba'+str(matplotlib.colors.to_rgba(i,0.7)) for i in pal]\n",
        "\n",
        "fig = go.Figure()\n",
        "fig.add_trace(go.Bar(x=stocks.Name, y=stocks.Return, text=stocks.Return, \n",
        "                     texttemplate='%{text:.2f}', name='', width=0.8,\n",
        "                     textposition='outside',marker=dict(color=rgb, line=dict(color=pal,width=1)),\n",
        "                     hovertemplate='Correlation of %{x} with target = %{y:.3f}'))\n",
        "fig.update_layout(template=temp, title='Most Correlated Stocks with Target Variable',\n",
        "                  yaxis=dict(title='Correlation',showticklabels=False), \n",
        "                  xaxis=dict(title='Stock',tickangle=45), margin=dict(b=100),\n",
        "                  width=800,height=500)\n",
        "fig.show()"
      ],
      "metadata": {
        "id": "MslGXa3mfgmM"
      },
      "execution_count": null,
      "outputs": []
    },
    {
      "cell_type": "code",
      "source": [
        "df_pivot=train_df.pivot_table(index='Date', columns='SectorName', values='Close').reset_index()\n",
        "corr=df_pivot.corr().round(2)\n",
        "mask=np.triu(np.ones_like(corr, dtype=bool))\n",
        "c_mask = np.where(~mask, corr, 100)\n",
        "c=[]\n",
        "for i in c_mask.tolist()[1:]:\n",
        "    c.append([x for x in i if x != 100])\n",
        "    \n",
        "cor=c[::-1]\n",
        "x=corr.index.tolist()[:-1]\n",
        "y=corr.columns.tolist()[1:][::-1]\n",
        "fig=ff.create_annotated_heatmap(z=cor, x=x, y=y, \n",
        "                                hovertemplate='Correlation between %{x} and %{y} stocks = %{z}',\n",
        "                                colorscale='viridis', name='')\n",
        "fig.update_layout(template=temp, title='Stock Correlation between Sectors',\n",
        "                  margin=dict(l=250,t=270),height=800,width=900,\n",
        "                  yaxis=dict(showgrid=False, autorange='reversed'),\n",
        "                  xaxis=dict(showgrid=False))\n",
        "fig.show()"
      ],
      "metadata": {
        "id": "ociP4wx4fgqE"
      },
      "execution_count": null,
      "outputs": []
    },
    {
      "cell_type": "code",
      "source": [
        "def adjust_price(price):\n",
        "    \"\"\"\n",
        "    Args:\n",
        "        price (pd.DataFrame)  : pd.DataFrame include stock_price\n",
        "    Returns:\n",
        "        price DataFrame (pd.DataFrame): stock_price with generated AdjustedClose\n",
        "    \"\"\"\n",
        "    # transform Date column into datetime\n",
        "    price.loc[: ,\"Date\"] = pd.to_datetime(price.loc[: ,\"Date\"], format=\"%Y-%m-%d\")\n",
        "\n",
        "    def generate_adjusted_close(df):\n",
        "        \"\"\"\n",
        "        Args:\n",
        "            df (pd.DataFrame)  : stock_price for a single SecuritiesCode\n",
        "        Returns:\n",
        "            df (pd.DataFrame): stock_price with AdjustedClose for a single SecuritiesCode\n",
        "        \"\"\"\n",
        "        # sort data to generate CumulativeAdjustmentFactor\n",
        "        df = df.sort_values(\"Date\", ascending=False)\n",
        "        # generate CumulativeAdjustmentFactor\n",
        "        df.loc[:, \"CumulativeAdjustmentFactor\"] = df[\"AdjustmentFactor\"].cumprod()\n",
        "        # generate AdjustedClose\n",
        "        df.loc[:, \"AdjustedClose\"] = (\n",
        "            df[\"CumulativeAdjustmentFactor\"] * df[\"Close\"]\n",
        "        ).map(lambda x: float(\n",
        "            Decimal(str(x)).quantize(Decimal('0.1'), rounding=ROUND_HALF_UP)\n",
        "        ))\n",
        "        # reverse order\n",
        "        df = df.sort_values(\"Date\")\n",
        "        # to fill AdjustedClose, replace 0 into np.nan\n",
        "        df.loc[df[\"AdjustedClose\"] == 0, \"AdjustedClose\"] = np.nan\n",
        "        # forward fill AdjustedClose\n",
        "        df.loc[:, \"AdjustedClose\"] = df.loc[:, \"AdjustedClose\"].ffill()\n",
        "        return df\n",
        "    \n",
        "    # generate AdjustedClose\n",
        "    price = price.sort_values([\"SecuritiesCode\", \"Date\"])\n",
        "    price = price.groupby(\"SecuritiesCode\").apply(generate_adjusted_close).reset_index(drop=True)\n",
        "  \n",
        "    return price\n",
        "\n",
        "train=train.drop('ExpectedDividend',axis=1).fillna(0)\n",
        "prices=adjust_price(train)"
      ],
      "metadata": {
        "id": "EJqL2b9MfguO"
      },
      "execution_count": null,
      "outputs": []
    },
    {
      "cell_type": "code",
      "source": [
        "def create_features(df):\n",
        "    df=df.copy(deep=True)\n",
        "    col='AdjustedClose'\n",
        "    periods=[5,10,20,30,50]\n",
        "    for period in periods:\n",
        "        df.loc[:,\"Return_{}Day\".format(period)] = df.groupby(\"SecuritiesCode\")[col].pct_change(period)\n",
        "        df.loc[:,\"MovingAvg_{}Day\".format(period)] = df.groupby(\"SecuritiesCode\")[col].rolling(window=period).mean().values\n",
        "        df.loc[:,\"ExpMovingAvg_{}Day\".format(period)] = df.groupby(\"SecuritiesCode\")[col].ewm(span=period,adjust=False).mean().values\n",
        "        df.loc[:,\"Volatility_{}Day\".format(period)] = np.log(df[col]).groupby(df[\"SecuritiesCode\"]).diff().rolling(period).std()\n",
        "    return df\n",
        "\n",
        "price_features=create_features(df=prices)\n",
        "price_features.drop(['RowId','SupervisionFlag','AdjustmentFactor','CumulativeAdjustmentFactor','Close'],axis=1,inplace=True)"
      ],
      "metadata": {
        "id": "rYOTrjENfgyP"
      },
      "execution_count": null,
      "outputs": []
    },
    {
      "cell_type": "code",
      "source": [
        "price_names=price_features.merge(stock_list[['SecuritiesCode','Name','SectorName']], on='SecuritiesCode').set_index('Date')\n",
        "price_names=price_names[price_names.index>='2020-12-29']\n",
        "price_names.fillna(0, inplace=True)\n",
        "\n",
        "features=['MovingAvg','ExpMovingAvg','Return', 'Volatility']\n",
        "names=['Average', 'Exp. Moving Average', 'Period', 'Volatility']\n",
        "buttons=[]\n",
        "\n",
        "fig = make_subplots(rows=2, cols=2, \n",
        "                    shared_xaxes=True, \n",
        "                    vertical_spacing=0.1,\n",
        "                    subplot_titles=('Adjusted Close Moving Average',\n",
        "                                    'Exponential Moving Average',\n",
        "                                    'Stock Return', 'Stock Volatility'))\n",
        "\n",
        "for i, sector in enumerate(price_names.SectorName.unique()):\n",
        "    \n",
        "    sector_df=price_names[price_names.SectorName==sector]\n",
        "    periods=[0,10,30,50]\n",
        "    colors=px.colors.qualitative.Vivid\n",
        "    dash=['solid','dash', 'longdash', 'dashdot', 'longdashdot']\n",
        "    row,col=1,1\n",
        "    \n",
        "    for j, (feature, name) in enumerate(zip(features, names)):\n",
        "        if j>=2:\n",
        "            row,periods=2,[10,30,50]\n",
        "            colors=px.colors.qualitative.Bold[1:]\n",
        "        if j%2==0:\n",
        "            col=1\n",
        "        else:\n",
        "            col=2\n",
        "        \n",
        "        for k, period in enumerate(periods):\n",
        "            if (k==0)&(j<2):\n",
        "                plot_data=sector_df.groupby(sector_df.index)['AdjustedClose'].mean().rename('Adjusted Close')\n",
        "            elif j>=2:\n",
        "                plot_data=sector_df.groupby(sector_df.index)['{}_{}Day'.format(feature,period)].mean().mul(100).rename('{}-day {}'.format(period,name))\n",
        "            else:\n",
        "                plot_data=sector_df.groupby(sector_df.index)['{}_{}Day'.format(feature,period)].mean().rename('{}-day {}'.format(period,name))\n",
        "            fig.add_trace(go.Scatter(x=plot_data.index, y=plot_data, mode='lines',\n",
        "                                     name=plot_data.name, marker_color=colors[k+1],\n",
        "                                     line=dict(width=2,dash=(dash[k] if j<2 else 'solid')), \n",
        "                                     showlegend=(True if (j==0) or (j==2) else False), legendgroup=row,\n",
        "                                     visible=(False if i != 0 else True)), row=row, col=col)\n",
        "            \n",
        "    visibility=[False]*14*len(price_names.SectorName.unique())\n",
        "    for l in range(i*14, i*14+14):\n",
        "        visibility[l]=True\n",
        "    button = dict(label = sector,\n",
        "                  method = \"update\",\n",
        "                  args=[{\"visible\": visibility}])\n",
        "    buttons.append(button)\n",
        "\n",
        "fig.update_layout(title='Stock Price Moving Average, Return,<br>and Volatility by Sector',\n",
        "                  template=temp, yaxis3_ticksuffix='%', yaxis4_ticksuffix='%',\n",
        "                  legend_title_text='Period', legend_tracegroupgap=250,\n",
        "                  updatemenus=[dict(active=0, type=\"dropdown\",\n",
        "                                    buttons=buttons, xanchor='left',\n",
        "                                    yanchor='bottom', y=1.105, x=.01)], \n",
        "                  hovermode='x unified', height=800,width=1200, margin=dict(t=150))\n",
        "fig.show()"
      ],
      "metadata": {
        "id": "QtOy5bT-fg2o"
      },
      "execution_count": null,
      "outputs": []
    },
    {
      "cell_type": "code",
      "source": [
        "ts_fold = TimeSeriesSplit(n_splits=10, gap=10000)\n",
        "prices=price_features.dropna().sort_values(['Date','SecuritiesCode'])\n",
        "y=prices['Target'].to_numpy()\n",
        "X=prices.drop(['Target'],axis=1)\n",
        "\n",
        "feat_importance=pd.DataFrame()\n",
        "    \n",
        "for fold, (train_idx, val_idx) in enumerate(ts_fold.split(X, y)):\n",
        "    \n",
        "    print(\"\\n========================== Fold {} ==========================\".format(fold+1))\n",
        "    X_train, y_train = X.iloc[train_idx,:], y[train_idx]\n",
        "    X_val, y_val = X.iloc[val_idx,:], y[val_idx]\n",
        "    \n",
        "    print(\"Train Date range: {} to {}\".format(X_train.Date.min(),X_train.Date.max()))\n",
        "    print(\"Valid Date range: {} to {}\".format(X_val.Date.min(),X_val.Date.max()))\n",
        "    \n",
        "    X_train.drop(['Date','SecuritiesCode'], axis=1, inplace=True)\n",
        "    X_val.drop(['Date','SecuritiesCode'], axis=1, inplace=True)\n",
        "    print(\"\\nTrain Shape: {} {}, Valid Shape: {} {}\".format(X_train.shape, y_train.shape, X_val.shape, y_val.shape))\n",
        "    \n",
        "    params = {'n_estimators': 500,\n",
        "              'num_leaves' : 100,\n",
        "              'learning_rate': 0.1,\n",
        "              'colsample_bytree': 0.9,\n",
        "              'subsample': 0.8,\n",
        "              'reg_alpha': 0.4,\n",
        "              'metric': 'mae',\n",
        "              'random_state': 21}\n",
        "    \n",
        "    gbm = LGBMRegressor(**params).fit(X_train, y_train, \n",
        "                                      eval_set=[(X_train, y_train), (X_val, y_val)],\n",
        "                                      verbose=300, \n",
        "                                      eval_metric=['mae','mse'])\n",
        "    y_pred = gbm.predict(X_val)\n",
        "    rmse = np.sqrt(mean_squared_error(y_val, y_pred))\n",
        "    mae = mean_absolute_error(y_val, y_pred)\n",
        "    feat_importance[\"Importance_Fold\"+str(fold)]=gbm.feature_importances_\n",
        "    feat_importance.set_index(X_train.columns, inplace=True)\n",
        "    print(\"RMSE: {}, MAE: {}\".format(rmse,mae))\n",
        "    \n",
        "    del X_train, y_train,  X_val, y_val\n",
        "    gc.collect()"
      ],
      "metadata": {
        "id": "CWsTDXEzfg6e"
      },
      "execution_count": null,
      "outputs": []
    },
    {
      "cell_type": "code",
      "source": [
        "feat_importance['avg'] = feat_importance.mean(axis=1)\n",
        "feat_importance = feat_importance.sort_values(by='avg',ascending=True)\n",
        "pal=sns.color_palette(\"plasma_r\", 29).as_hex()[2:]\n",
        "\n",
        "fig=go.Figure()\n",
        "for i in range(len(feat_importance.index)):\n",
        "    fig.add_shape(dict(type=\"line\", y0=i, y1=i, x0=0, x1=feat_importance['avg'][i], \n",
        "                       line_color=pal[::-1][i],opacity=0.7,line_width=4))\n",
        "fig.add_trace(go.Scatter(x=feat_importance['avg'], y=feat_importance.index, mode='markers', \n",
        "                         marker_color=pal[::-1], marker_size=8,\n",
        "                         hovertemplate='%{y} Importance = %{x:.0f}<extra></extra>'))\n",
        "fig.update_layout(template=temp,title='Overall Feature Importance', \n",
        "                  xaxis=dict(title='Average Importance',zeroline=False),\n",
        "                  yaxis_showgrid=False, margin=dict(l=120,t=80),\n",
        "                  height=700, width=800)\n",
        "fig.show()"
      ],
      "metadata": {
        "id": "byF5tqQPfg-N"
      },
      "execution_count": null,
      "outputs": []
    },
    {
      "cell_type": "code",
      "source": [
        "cols_fin=feat_importance.avg.nlargest(3).index.tolist()\n",
        "cols_fin.extend(('Open','High','Low'))\n",
        "X_train=prices[cols_fin]\n",
        "y_train=prices['Target']\n",
        "gbm = LGBMRegressor(**params).fit(X_train, y_train)"
      ],
      "metadata": {
        "id": "fST3DSBIfhCB"
      },
      "execution_count": null,
      "outputs": []
    },
    {
      "cell_type": "code",
      "source": [
        "import jpx_tokyo_market_prediction\n",
        "env = jpx_tokyo_market_prediction.make_env()\n",
        "iter_test = env.iter_test()\n",
        "\n",
        "cols=['Date','SecuritiesCode','Open','High','Low','Close','Volume','AdjustmentFactor']\n",
        "train=train[train.Date>='2021-08-01'][cols]\n",
        "\n",
        "counter = 0\n",
        "for (prices, options, financials, trades, secondary_prices, sample_prediction) in iter_test:\n",
        "\n",
        "    current_date = prices[\"Date\"].iloc[0]\n",
        "    if counter == 0:\n",
        "        df_price_raw = train.loc[train[\"Date\"] < current_date]\n",
        "    df_price_raw = pd.concat([df_price_raw, prices[cols]]).reset_index(drop=True)\n",
        "    df_price = adjust_price(df_price_raw)\n",
        "    features = create_features(df=df_price)\n",
        "    feat = features[features.Date == current_date][cols_fin]\n",
        "    feat[\"pred\"] = gbm.predict(feat)\n",
        "    feat[\"Rank\"] = (feat[\"pred\"].rank(method=\"first\", ascending=False)-1).astype(int)\n",
        "    sample_prediction[\"Rank\"] = feat[\"Rank\"].values\n",
        "    display(sample_prediction.head())\n",
        "    \n",
        "    assert sample_prediction[\"Rank\"].notna().all()\n",
        "    assert sample_prediction[\"Rank\"].min() == 0\n",
        "    assert sample_prediction[\"Rank\"].max() == len(sample_prediction[\"Rank\"]) - 1\n",
        "    \n",
        "    env.predict(sample_prediction)\n",
        "    counter += 1"
      ],
      "metadata": {
        "id": "Gh_ct25kfhFx"
      },
      "execution_count": null,
      "outputs": []
    },
    {
      "cell_type": "code",
      "source": [
        ""
      ],
      "metadata": {
        "id": "THST6dB_fhJT"
      },
      "execution_count": null,
      "outputs": []
    }
  ]
}