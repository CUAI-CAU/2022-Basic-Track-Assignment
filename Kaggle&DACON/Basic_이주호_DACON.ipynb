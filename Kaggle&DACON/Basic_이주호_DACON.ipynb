{
  "nbformat": 4,
  "nbformat_minor": 0,
  "metadata": {
    "colab": {
      "name": "Basic_이주호_DACON",
      "provenance": [],
      "collapsed_sections": []
    },
    "kernelspec": {
      "name": "python3",
      "display_name": "Python 3"
    },
    "language_info": {
      "name": "python"
    }
  },
  "cells": [
    {
      "cell_type": "markdown",
      "source": [
        "#패션 의류 분류 경진 (0.8344)"
      ],
      "metadata": {
        "id": "b4DVFFtdZrM9"
      }
    },
    {
      "cell_type": "markdown",
      "source": [
        "##1. 기본 준비\n",
        "\n"
      ],
      "metadata": {
        "id": "W7n4JztxZ3Ms"
      }
    },
    {
      "cell_type": "code",
      "execution_count": 130,
      "metadata": {
        "id": "6xv3IzjAX--8"
      },
      "outputs": [],
      "source": [
        "import torch.nn.init\n",
        "import torch\n",
        "import numpy as np\n",
        "import pandas as pd\n",
        "from torchvision import transforms\n",
        "from torch.utils.data import Dataset, DataLoader\n",
        "\n",
        "import matplotlib.pyplot as plt\n",
        "\n"
      ]
    },
    {
      "cell_type": "code",
      "source": [
        "device = 'cuda' if torch.cuda.is_available() else 'cpu'"
      ],
      "metadata": {
        "id": "gGS5XrnbYOts"
      },
      "execution_count": 131,
      "outputs": []
    },
    {
      "cell_type": "markdown",
      "source": [
        "아래 두 블럭의 코드를 통해 구글 드라이브와 구글 코랩을 연결시킨다.\n",
        "\n",
        "구글 드라이브 내의 fashion 폴더에 저장된 데이터들이 불러와 읽어지고, 저장된다."
      ],
      "metadata": {
        "id": "hxTDGF3aaD7C"
      }
    },
    {
      "cell_type": "code",
      "source": [
        "from google.colab import drive\n",
        "drive.mount('/content/drive')\n",
        "#구글 드라이브에 csv 파일을 저장해두고 사용하기 위해 작성하는 코드\n"
      ],
      "metadata": {
        "colab": {
          "base_uri": "https://localhost:8080/"
        },
        "id": "8h1n0ymPdldD",
        "outputId": "0867d07a-0a12-4754-e667-2531df239ec7"
      },
      "execution_count": 132,
      "outputs": [
        {
          "output_type": "stream",
          "name": "stdout",
          "text": [
            "Drive already mounted at /content/drive; to attempt to forcibly remount, call drive.mount(\"/content/drive\", force_remount=True).\n"
          ]
        }
      ]
    },
    {
      "cell_type": "code",
      "source": [
        "PATH = '/content/drive/MyDrive/fashion/'\n",
        "train = pd.read_csv(PATH + \"train.csv\")\n",
        "test = pd.read_csv(PATH + \"test.csv\")\n",
        "submitfile = pd.read_csv(PATH + \"sample_submission.csv\")\n"
      ],
      "metadata": {
        "id": "xFkLUZgFdtCy"
      },
      "execution_count": 133,
      "outputs": []
    },
    {
      "cell_type": "markdown",
      "source": [
        "아래 코드를 통해 csv 파일이 어떻게 구성되어 있는지 확인한다."
      ],
      "metadata": {
        "id": "ypBTFMXqZ8l7"
      }
    },
    {
      "cell_type": "code",
      "source": [
        "train.head()"
      ],
      "metadata": {
        "colab": {
          "base_uri": "https://localhost:8080/",
          "height": 300
        },
        "id": "3CBPu_3ReK0O",
        "outputId": "8db171e6-cd18-4030-fa9d-86739464be73"
      },
      "execution_count": 13,
      "outputs": [
        {
          "output_type": "execute_result",
          "data": {
            "text/plain": [
              "   index  label  pixel1  pixel2  pixel3  pixel4  pixel5  pixel6  pixel7  \\\n",
              "0      0      2       0       0       0       0       0       0       0   \n",
              "1      1      9       0       0       0       0       0       0       0   \n",
              "2      2      6       0       0       0       0       0       0       0   \n",
              "3      3      0       0       0       0       1       2       0       0   \n",
              "4      4      3       0       0       0       0       0       0       0   \n",
              "\n",
              "   pixel8  ...  pixel775  pixel776  pixel777  pixel778  pixel779  pixel780  \\\n",
              "0       0  ...         0         0         0         0         0         0   \n",
              "1       0  ...         0         0         0         0         0         0   \n",
              "2       5  ...         0         0         0        30        43         0   \n",
              "3       0  ...         3         0         0         0         0         1   \n",
              "4       0  ...         0         0         0         0         0         0   \n",
              "\n",
              "   pixel781  pixel782  pixel783  pixel784  \n",
              "0         0         0         0         0  \n",
              "1         0         0         0         0  \n",
              "2         0         0         0         0  \n",
              "3         0         0         0         0  \n",
              "4         0         0         0         0  \n",
              "\n",
              "[5 rows x 786 columns]"
            ],
            "text/html": [
              "\n",
              "  <div id=\"df-fdc9d6b8-0625-4354-bd71-c648966413de\">\n",
              "    <div class=\"colab-df-container\">\n",
              "      <div>\n",
              "<style scoped>\n",
              "    .dataframe tbody tr th:only-of-type {\n",
              "        vertical-align: middle;\n",
              "    }\n",
              "\n",
              "    .dataframe tbody tr th {\n",
              "        vertical-align: top;\n",
              "    }\n",
              "\n",
              "    .dataframe thead th {\n",
              "        text-align: right;\n",
              "    }\n",
              "</style>\n",
              "<table border=\"1\" class=\"dataframe\">\n",
              "  <thead>\n",
              "    <tr style=\"text-align: right;\">\n",
              "      <th></th>\n",
              "      <th>index</th>\n",
              "      <th>label</th>\n",
              "      <th>pixel1</th>\n",
              "      <th>pixel2</th>\n",
              "      <th>pixel3</th>\n",
              "      <th>pixel4</th>\n",
              "      <th>pixel5</th>\n",
              "      <th>pixel6</th>\n",
              "      <th>pixel7</th>\n",
              "      <th>pixel8</th>\n",
              "      <th>...</th>\n",
              "      <th>pixel775</th>\n",
              "      <th>pixel776</th>\n",
              "      <th>pixel777</th>\n",
              "      <th>pixel778</th>\n",
              "      <th>pixel779</th>\n",
              "      <th>pixel780</th>\n",
              "      <th>pixel781</th>\n",
              "      <th>pixel782</th>\n",
              "      <th>pixel783</th>\n",
              "      <th>pixel784</th>\n",
              "    </tr>\n",
              "  </thead>\n",
              "  <tbody>\n",
              "    <tr>\n",
              "      <th>0</th>\n",
              "      <td>0</td>\n",
              "      <td>2</td>\n",
              "      <td>0</td>\n",
              "      <td>0</td>\n",
              "      <td>0</td>\n",
              "      <td>0</td>\n",
              "      <td>0</td>\n",
              "      <td>0</td>\n",
              "      <td>0</td>\n",
              "      <td>0</td>\n",
              "      <td>...</td>\n",
              "      <td>0</td>\n",
              "      <td>0</td>\n",
              "      <td>0</td>\n",
              "      <td>0</td>\n",
              "      <td>0</td>\n",
              "      <td>0</td>\n",
              "      <td>0</td>\n",
              "      <td>0</td>\n",
              "      <td>0</td>\n",
              "      <td>0</td>\n",
              "    </tr>\n",
              "    <tr>\n",
              "      <th>1</th>\n",
              "      <td>1</td>\n",
              "      <td>9</td>\n",
              "      <td>0</td>\n",
              "      <td>0</td>\n",
              "      <td>0</td>\n",
              "      <td>0</td>\n",
              "      <td>0</td>\n",
              "      <td>0</td>\n",
              "      <td>0</td>\n",
              "      <td>0</td>\n",
              "      <td>...</td>\n",
              "      <td>0</td>\n",
              "      <td>0</td>\n",
              "      <td>0</td>\n",
              "      <td>0</td>\n",
              "      <td>0</td>\n",
              "      <td>0</td>\n",
              "      <td>0</td>\n",
              "      <td>0</td>\n",
              "      <td>0</td>\n",
              "      <td>0</td>\n",
              "    </tr>\n",
              "    <tr>\n",
              "      <th>2</th>\n",
              "      <td>2</td>\n",
              "      <td>6</td>\n",
              "      <td>0</td>\n",
              "      <td>0</td>\n",
              "      <td>0</td>\n",
              "      <td>0</td>\n",
              "      <td>0</td>\n",
              "      <td>0</td>\n",
              "      <td>0</td>\n",
              "      <td>5</td>\n",
              "      <td>...</td>\n",
              "      <td>0</td>\n",
              "      <td>0</td>\n",
              "      <td>0</td>\n",
              "      <td>30</td>\n",
              "      <td>43</td>\n",
              "      <td>0</td>\n",
              "      <td>0</td>\n",
              "      <td>0</td>\n",
              "      <td>0</td>\n",
              "      <td>0</td>\n",
              "    </tr>\n",
              "    <tr>\n",
              "      <th>3</th>\n",
              "      <td>3</td>\n",
              "      <td>0</td>\n",
              "      <td>0</td>\n",
              "      <td>0</td>\n",
              "      <td>0</td>\n",
              "      <td>1</td>\n",
              "      <td>2</td>\n",
              "      <td>0</td>\n",
              "      <td>0</td>\n",
              "      <td>0</td>\n",
              "      <td>...</td>\n",
              "      <td>3</td>\n",
              "      <td>0</td>\n",
              "      <td>0</td>\n",
              "      <td>0</td>\n",
              "      <td>0</td>\n",
              "      <td>1</td>\n",
              "      <td>0</td>\n",
              "      <td>0</td>\n",
              "      <td>0</td>\n",
              "      <td>0</td>\n",
              "    </tr>\n",
              "    <tr>\n",
              "      <th>4</th>\n",
              "      <td>4</td>\n",
              "      <td>3</td>\n",
              "      <td>0</td>\n",
              "      <td>0</td>\n",
              "      <td>0</td>\n",
              "      <td>0</td>\n",
              "      <td>0</td>\n",
              "      <td>0</td>\n",
              "      <td>0</td>\n",
              "      <td>0</td>\n",
              "      <td>...</td>\n",
              "      <td>0</td>\n",
              "      <td>0</td>\n",
              "      <td>0</td>\n",
              "      <td>0</td>\n",
              "      <td>0</td>\n",
              "      <td>0</td>\n",
              "      <td>0</td>\n",
              "      <td>0</td>\n",
              "      <td>0</td>\n",
              "      <td>0</td>\n",
              "    </tr>\n",
              "  </tbody>\n",
              "</table>\n",
              "<p>5 rows × 786 columns</p>\n",
              "</div>\n",
              "      <button class=\"colab-df-convert\" onclick=\"convertToInteractive('df-fdc9d6b8-0625-4354-bd71-c648966413de')\"\n",
              "              title=\"Convert this dataframe to an interactive table.\"\n",
              "              style=\"display:none;\">\n",
              "        \n",
              "  <svg xmlns=\"http://www.w3.org/2000/svg\" height=\"24px\"viewBox=\"0 0 24 24\"\n",
              "       width=\"24px\">\n",
              "    <path d=\"M0 0h24v24H0V0z\" fill=\"none\"/>\n",
              "    <path d=\"M18.56 5.44l.94 2.06.94-2.06 2.06-.94-2.06-.94-.94-2.06-.94 2.06-2.06.94zm-11 1L8.5 8.5l.94-2.06 2.06-.94-2.06-.94L8.5 2.5l-.94 2.06-2.06.94zm10 10l.94 2.06.94-2.06 2.06-.94-2.06-.94-.94-2.06-.94 2.06-2.06.94z\"/><path d=\"M17.41 7.96l-1.37-1.37c-.4-.4-.92-.59-1.43-.59-.52 0-1.04.2-1.43.59L10.3 9.45l-7.72 7.72c-.78.78-.78 2.05 0 2.83L4 21.41c.39.39.9.59 1.41.59.51 0 1.02-.2 1.41-.59l7.78-7.78 2.81-2.81c.8-.78.8-2.07 0-2.86zM5.41 20L4 18.59l7.72-7.72 1.47 1.35L5.41 20z\"/>\n",
              "  </svg>\n",
              "      </button>\n",
              "      \n",
              "  <style>\n",
              "    .colab-df-container {\n",
              "      display:flex;\n",
              "      flex-wrap:wrap;\n",
              "      gap: 12px;\n",
              "    }\n",
              "\n",
              "    .colab-df-convert {\n",
              "      background-color: #E8F0FE;\n",
              "      border: none;\n",
              "      border-radius: 50%;\n",
              "      cursor: pointer;\n",
              "      display: none;\n",
              "      fill: #1967D2;\n",
              "      height: 32px;\n",
              "      padding: 0 0 0 0;\n",
              "      width: 32px;\n",
              "    }\n",
              "\n",
              "    .colab-df-convert:hover {\n",
              "      background-color: #E2EBFA;\n",
              "      box-shadow: 0px 1px 2px rgba(60, 64, 67, 0.3), 0px 1px 3px 1px rgba(60, 64, 67, 0.15);\n",
              "      fill: #174EA6;\n",
              "    }\n",
              "\n",
              "    [theme=dark] .colab-df-convert {\n",
              "      background-color: #3B4455;\n",
              "      fill: #D2E3FC;\n",
              "    }\n",
              "\n",
              "    [theme=dark] .colab-df-convert:hover {\n",
              "      background-color: #434B5C;\n",
              "      box-shadow: 0px 1px 3px 1px rgba(0, 0, 0, 0.15);\n",
              "      filter: drop-shadow(0px 1px 2px rgba(0, 0, 0, 0.3));\n",
              "      fill: #FFFFFF;\n",
              "    }\n",
              "  </style>\n",
              "\n",
              "      <script>\n",
              "        const buttonEl =\n",
              "          document.querySelector('#df-fdc9d6b8-0625-4354-bd71-c648966413de button.colab-df-convert');\n",
              "        buttonEl.style.display =\n",
              "          google.colab.kernel.accessAllowed ? 'block' : 'none';\n",
              "\n",
              "        async function convertToInteractive(key) {\n",
              "          const element = document.querySelector('#df-fdc9d6b8-0625-4354-bd71-c648966413de');\n",
              "          const dataTable =\n",
              "            await google.colab.kernel.invokeFunction('convertToInteractive',\n",
              "                                                     [key], {});\n",
              "          if (!dataTable) return;\n",
              "\n",
              "          const docLinkHtml = 'Like what you see? Visit the ' +\n",
              "            '<a target=\"_blank\" href=https://colab.research.google.com/notebooks/data_table.ipynb>data table notebook</a>'\n",
              "            + ' to learn more about interactive tables.';\n",
              "          element.innerHTML = '';\n",
              "          dataTable['output_type'] = 'display_data';\n",
              "          await google.colab.output.renderOutput(dataTable, element);\n",
              "          const docLink = document.createElement('div');\n",
              "          docLink.innerHTML = docLinkHtml;\n",
              "          element.appendChild(docLink);\n",
              "        }\n",
              "      </script>\n",
              "    </div>\n",
              "  </div>\n",
              "  "
            ]
          },
          "metadata": {},
          "execution_count": 13
        }
      ]
    },
    {
      "cell_type": "markdown",
      "source": [
        ""
      ],
      "metadata": {
        "id": "P_xArhgna1I0"
      }
    },
    {
      "cell_type": "code",
      "source": [
        "image_size = 28\n",
        "channel = 1\n",
        "learningrate = 0.01\n",
        "trainingepochs = 10\n",
        "batchsize = 100"
      ],
      "metadata": {
        "id": "pV_Jt_7WklpP"
      },
      "execution_count": 134,
      "outputs": []
    },
    {
      "cell_type": "markdown",
      "source": [
        "##2. 데이터 준비\n",
        "\n",
        "\n",
        "아래 코드를 통해 불러온 훈련셋과 테스트셋을 훈련할 수 있도록 데이터의 객체를 구성한다.\n",
        "데이터들의 객체는 Dataset에게서 상속받는다."
      ],
      "metadata": {
        "id": "FhdORSjXa3oZ"
      }
    },
    {
      "cell_type": "code",
      "source": [
        "class train_data(Dataset):\n",
        "\n",
        "  def __init__(self, data, transform =None):\n",
        "    self.fashion_mnist = list(data.values)\n",
        "    self.transform = transform\n",
        "    label, Image = [], []\n",
        "\n",
        "    for Line in self.fashion_mnist:\n",
        "      label.append(Line[1])\n",
        "      Image.append(Line[2:])\n",
        "\n",
        "    self.label = np.asarray(label)\n",
        "\n",
        "    self.Image = np.asarray(Image)\n",
        "    self.Image = self.Image.reshape(-1, image_size, image_size, channel).astype('float32')\n",
        "\n",
        "  def __len__(self):\n",
        "    return len(self.label)\n",
        "\n",
        "  def __getitem__(self, index):\n",
        "    label, image = self.label[index], self.Image[index]\n",
        "\n",
        "    if self.transform:\n",
        "      image = self.transform(image)\n",
        "\n",
        "    return label, image\n",
        "\n",
        "  def printitem(self, index):\n",
        "    image = self.Image[index].reshape(image_size, image_size)\n",
        "    plt.imshow(image, cmap = 'gray')\n",
        "  "
      ],
      "metadata": {
        "id": "-YY3lsaceKsu"
      },
      "execution_count": 183,
      "outputs": []
    },
    {
      "cell_type": "markdown",
      "source": [
        "printitem 함수는 n번째 데이터에 해당하는 이미지를 matplotlib으로 출력한다.\n",
        "\n",
        "testset은 trainset과 달리 label 정보를 가지고 있지 않아 image 정보만 다루며 csv 파일의 구성도 달라져 슬라이싱을 하는 범위를 달리하였다."
      ],
      "metadata": {
        "id": "aKqtec1ebOS7"
      }
    },
    {
      "cell_type": "code",
      "source": [
        "class test_data(Dataset):\n",
        "  def __init__(self, data, transform =None):\n",
        "    self.fashion_mnist = list(data.values)\n",
        "    self.transform = transform\n",
        "    Image = []\n",
        "\n",
        "    for Line in self.fashion_mnist:\n",
        "      Image.append(Line[1:])\n",
        "\n",
        "    self.Image = np.asarray(Image)\n",
        "    self.Image = self.Image.reshape(-1, image_size, image_size, channel).astype('float32')\n",
        "\n",
        "  def __len__(self):\n",
        "    return len(self.fashion_mnist)\n",
        "\n",
        "  def __getitem__(self,index):\n",
        "    image = self.Image[index]\n",
        "\n",
        "    if(self.transform):\n",
        "      image = self.transform(image)\n",
        "\n",
        "    return image"
      ],
      "metadata": {
        "id": "2i5FC-hgYWqm"
      },
      "execution_count": 184,
      "outputs": []
    },
    {
      "cell_type": "markdown",
      "source": [
        "scale을 통해 ndarray 형인 데이터를 텐서 형으로 변환하여주며, [0,255]에 해당하는 값을 [0,1]로 스케일링 해준다.\n",
        "\n",
        "DataLoader는 데이터들의 주소와 값을 차례대로 접근하도록 해준다. 학습시 DataLoader를 enumerate() 함수에 넣어 for문에 사용하게된다."
      ],
      "metadata": {
        "id": "rTSRcxNFbt02"
      }
    },
    {
      "cell_type": "code",
      "source": [
        "scale = transforms.Compose([transforms.ToTensor(), ])\n",
        "\n",
        "fashion_train_data = train_data(train, scale)\n",
        "fashion_test_data = test_data(test, scale)\n",
        "\n",
        "train_dataloader = DataLoader(dataset = fashion_train_data, batch_size = batchsize, shuffle = False)\n",
        "test_dataloader = DataLoader(dataset = fashion_test_data, batch_size = 1, shuffle = False)"
      ],
      "metadata": {
        "id": "y3dNGL34kxgI"
      },
      "execution_count": 187,
      "outputs": []
    },
    {
      "cell_type": "code",
      "source": [
        "fashion_train_data.printitem(2)"
      ],
      "metadata": {
        "colab": {
          "base_uri": "https://localhost:8080/",
          "height": 265
        },
        "id": "Iiqu7oi4o0V9",
        "outputId": "ce5f584d-6860-4bfd-a0da-21e3afd39e65"
      },
      "execution_count": 143,
      "outputs": [
        {
          "output_type": "display_data",
          "data": {
            "text/plain": [
              "<Figure size 432x288 with 1 Axes>"
            ],
            "image/png": "[encoded data removed]"
          },
          "metadata": {
            "needs_background": "light"
          }
        }
      ]
    },
    {
      "cell_type": "markdown",
      "source": [
        "##3.모델 구축, 학습\n",
        "\n",
        "\n",
        "아래 블록에선 CNN 모델을 만든다. torch.nn.Module에서 상속받아 구성한다.\n",
        "2개의 convolution layer와 1개의 fullyconnectedlayer로 구성하였다."
      ],
      "metadata": {
        "id": "nTWKSkhkcfOE"
      }
    },
    {
      "cell_type": "code",
      "source": [
        "class CNN(torch.nn.Module):\n",
        "\n",
        "  def __init__(self):\n",
        "    super(CNN,self).__init__()\n",
        "    self.layer1 = torch.nn.Sequential(\n",
        "        torch.nn.Conv2d(1, 64, kernel_size = 3, stride=1, padding = 1),\n",
        "        torch.nn.ReLU(),\n",
        "        torch.nn.MaxPool2d(kernel_size = 2, stride = 2)\n",
        "    )\n",
        "\n",
        "    self.layer2 = torch.nn.Sequential(\n",
        "        torch.nn.Conv2d(64, 64, kernel_size = 3, stride=1, padding = 1),\n",
        "        torch.nn.ReLU(),\n",
        "        torch.nn.MaxPool2d(kernel_size = 2, stride = 2)\n",
        "    )\n",
        "\n",
        "    self.fc = torch.nn.Linear(7*7 * 64, 10, bias=True)\n",
        "    #fully connected layer\n",
        "\n",
        "  def forward(self, x):\n",
        "    out = self.layer1(x)\n",
        "    out = self.layer2(out)\n",
        "    out = out.view(out.size(0), -1)\n",
        "    #fully connected layer의 Linear 연산을 위해 일차원 배열로 구성을 바꿈\n",
        "    out = self.fc(out)\n",
        "    return out"
      ],
      "metadata": {
        "id": "pXh3JO7qYcDv"
      },
      "execution_count": 190,
      "outputs": []
    },
    {
      "cell_type": "markdown",
      "source": [
        "학습은\n",
        "1. 데이터를 넣어 결과값 도출\n",
        "2. 결과값의 오차를 계산\n",
        "3. 기울기를 초기화, (이번엔 0으로 초기화 하였다)\n",
        "4. 오차역전파 진행\n",
        "5. 변화값을 반영\n",
        "\n",
        "위 과정들을 반복하여 진행하며, 위에서 선언한 model에 변화를 주면서 진행하게된다.\n",
        "\n",
        "100개의 데이터를 훈련할때마다 당시 Loss와 몇번째 epoch를 진행하고 있는지 출력한다. (아래 코드에선 range함수를 기본 형태로 사용하여 0부터 9까지만 출력되었다.)"
      ],
      "metadata": {
        "id": "iCD9SjStc8c0"
      }
    },
    {
      "cell_type": "code",
      "source": [
        "model = CNN().to(device)\n",
        "\n",
        "criterion = torch.nn.CrossEntropyLoss().to(device)\n",
        "optimizer = torch.optim.Adam(model.parameters(), lr = learningrate)\n",
        "\n",
        "for epoch in range(trainingepochs):\n",
        "  for batch, (label, image) in enumerate(train_dataloader):\n",
        "      label, image = label.to(device), image.to(device)\n",
        "      out = model(image)                              #1\n",
        "      loss = criterion(out, label)                    #2\n",
        "\n",
        "      optimizer.zero_grad() #기울기 0으로 초기화      #3\n",
        "      loss.backward() #오차역전파                     #4\n",
        "      optimizer.step()                                #5\n",
        "\n",
        "      if batch%100==0:\n",
        "        print(\"Loss:{:.4f}, Epochs = [{}/{}]\".format(loss.item(), epoch, trainingepochs))\n"
      ],
      "metadata": {
        "colab": {
          "base_uri": "https://localhost:8080/"
        },
        "id": "yuLTJlYCYcF6",
        "outputId": "8d77fc2d-7d96-4f93-e52c-783597060656"
      },
      "execution_count": 193,
      "outputs": [
        {
          "output_type": "stream",
          "name": "stdout",
          "text": [
            "Loss:18.8818, Epochs = [0/10]\n",
            "Loss:0.9617, Epochs = [0/10]\n",
            "Loss:0.8157, Epochs = [0/10]\n",
            "Loss:0.7315, Epochs = [0/10]\n",
            "Loss:0.8014, Epochs = [0/10]\n",
            "Loss:0.7131, Epochs = [0/10]\n",
            "Loss:0.7360, Epochs = [1/10]\n",
            "Loss:0.6431, Epochs = [1/10]\n",
            "Loss:0.6449, Epochs = [1/10]\n",
            "Loss:0.6650, Epochs = [1/10]\n",
            "Loss:0.6106, Epochs = [1/10]\n",
            "Loss:0.6498, Epochs = [1/10]\n",
            "Loss:0.6177, Epochs = [2/10]\n",
            "Loss:0.6385, Epochs = [2/10]\n",
            "Loss:0.5657, Epochs = [2/10]\n",
            "Loss:0.5872, Epochs = [2/10]\n",
            "Loss:0.5347, Epochs = [2/10]\n",
            "Loss:0.5447, Epochs = [2/10]\n",
            "Loss:0.6248, Epochs = [3/10]\n",
            "Loss:0.6432, Epochs = [3/10]\n",
            "Loss:0.5134, Epochs = [3/10]\n",
            "Loss:0.5437, Epochs = [3/10]\n",
            "Loss:0.5389, Epochs = [3/10]\n",
            "Loss:0.4900, Epochs = [3/10]\n",
            "Loss:0.6242, Epochs = [4/10]\n",
            "Loss:0.6227, Epochs = [4/10]\n",
            "Loss:0.4634, Epochs = [4/10]\n",
            "Loss:0.5484, Epochs = [4/10]\n",
            "Loss:0.5505, Epochs = [4/10]\n",
            "Loss:0.5181, Epochs = [4/10]\n",
            "Loss:0.5919, Epochs = [5/10]\n",
            "Loss:0.6422, Epochs = [5/10]\n",
            "Loss:0.4509, Epochs = [5/10]\n",
            "Loss:0.4645, Epochs = [5/10]\n",
            "Loss:0.5546, Epochs = [5/10]\n",
            "Loss:0.4620, Epochs = [5/10]\n",
            "Loss:0.5938, Epochs = [6/10]\n",
            "Loss:0.5275, Epochs = [6/10]\n",
            "Loss:0.5563, Epochs = [6/10]\n",
            "Loss:0.5628, Epochs = [6/10]\n",
            "Loss:0.4480, Epochs = [6/10]\n",
            "Loss:0.4641, Epochs = [6/10]\n",
            "Loss:0.5186, Epochs = [7/10]\n",
            "Loss:0.4901, Epochs = [7/10]\n",
            "Loss:0.5764, Epochs = [7/10]\n",
            "Loss:0.5265, Epochs = [7/10]\n",
            "Loss:0.5156, Epochs = [7/10]\n",
            "Loss:0.4748, Epochs = [7/10]\n",
            "Loss:0.4959, Epochs = [8/10]\n",
            "Loss:0.4391, Epochs = [8/10]\n",
            "Loss:0.5091, Epochs = [8/10]\n",
            "Loss:0.5349, Epochs = [8/10]\n",
            "Loss:0.5081, Epochs = [8/10]\n",
            "Loss:0.5414, Epochs = [8/10]\n",
            "Loss:0.4887, Epochs = [9/10]\n",
            "Loss:0.4338, Epochs = [9/10]\n",
            "Loss:0.5290, Epochs = [9/10]\n",
            "Loss:0.4918, Epochs = [9/10]\n",
            "Loss:0.4702, Epochs = [9/10]\n",
            "Loss:0.4403, Epochs = [9/10]\n"
          ]
        }
      ]
    },
    {
      "cell_type": "markdown",
      "source": [
        "#4.예측과 저장\n",
        "\n",
        "학습이 완료된 모델에 테스트셋을 넣어 예측을 진행한다.\n",
        "\n",
        "torch.no_grad()를 사용하면 기울기 연산을 하지 않게된다. 이를 통해 더 빠르게 예측을 진행할 수 있다.\n",
        "\n",
        "예측한 값들은 predicted 리스트에 넣어 저장한다."
      ],
      "metadata": {
        "id": "JJV0ZLmoeG93"
      }
    },
    {
      "cell_type": "code",
      "source": [
        "predicted = [];\n",
        "\n",
        "with torch.no_grad(): #기울기에 영향을 주지 않도록 한다.\n",
        "  for image in test_dataloader:\n",
        "    image = image.to(device)\n",
        "    out = model(image)\n",
        "\n",
        "    result = np.asarray(torch.argmax(out, dim=1).cpu())\n",
        "    predicted.append(result)\n",
        "\n",
        "predicted = np.array(predicted).flatten()\n",
        "print(predicted.shape)"
      ],
      "metadata": {
        "colab": {
          "base_uri": "https://localhost:8080/"
        },
        "id": "_auBM5sUYcBa",
        "outputId": "de7072ec-a268-43ea-d988-afca373e69ed"
      },
      "execution_count": 199,
      "outputs": [
        {
          "output_type": "stream",
          "name": "stdout",
          "text": [
            "(10000,)\n"
          ]
        }
      ]
    },
    {
      "cell_type": "markdown",
      "source": [
        "아래 두 코드를 통해 헤더가 'label'인 행의 값을 예측값으로 바꾸었으며,\n",
        "바뀐 값을 submission.csv 파일에 저장되었다.\n",
        "\n",
        "저장된 csv파일을 DACON에 제출하여 마무리하였으며, 0.8344에 해당하는 점수가 나왔다."
      ],
      "metadata": {
        "id": "VsggLV3CeokG"
      }
    },
    {
      "cell_type": "code",
      "source": [
        "submitfile['label'] = predicted"
      ],
      "metadata": {
        "id": "Cu2EGkDwcrub"
      },
      "execution_count": 202,
      "outputs": []
    },
    {
      "cell_type": "code",
      "source": [
        "submitfile.to_csv(PATH + \"submission.csv\", index=False)"
      ],
      "metadata": {
        "id": "XJJEmYsl7cqD"
      },
      "execution_count": 203,
      "outputs": []
    }
  ]
}