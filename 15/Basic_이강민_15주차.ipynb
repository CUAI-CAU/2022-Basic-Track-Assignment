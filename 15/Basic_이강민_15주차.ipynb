{
  "nbformat": 4,
  "nbformat_minor": 0,
  "metadata": {
    "colab": {
      "provenance": [],
      "collapsed_sections": []
    },
    "kernelspec": {
      "name": "python3",
      "display_name": "Python 3"
    },
    "language_info": {
      "name": "python"
    },
    "accelerator": "GPU",
    "gpuClass": "standard"
  },
  "cells": [
    {
      "cell_type": "markdown",
      "source": [
        "# Chapter 15. RNN과 CNN을 사용해 시퀀스 처리하기"
      ],
      "metadata": {
        "id": "6ouATOH90Qg0"
      }
    },
    {
      "cell_type": "markdown",
      "source": [
        "# 기본 설정"
      ],
      "metadata": {
        "id": "p37pUZrB0HhZ"
      }
    },
    {
      "cell_type": "code",
      "execution_count": 1,
      "metadata": {
        "id": "xj_RQN_mz8No"
      },
      "outputs": [],
      "source": [
        "# 파이썬 ≥3.5 필수\n",
        "import sys\n",
        "assert sys.version_info >= (3, 5)\n",
        "\n",
        "# 코랩에서 실행되는 노트북인가요?\n",
        "IS_COLAB = \"google.colab\" in sys.modules\n",
        "\n",
        "# 사이킷런 ≥0.20 필수\n",
        "import sklearn\n",
        "assert sklearn.__version__ >= \"0.20\"\n",
        "\n",
        "# 텐서플로 ≥2.0 필수\n",
        "import tensorflow as tf\n",
        "from tensorflow import keras\n",
        "assert tf.__version__ >= \"2.0\"\n",
        "\n",
        "if not tf.config.list_physical_devices('GPU'):\n",
        "    print(\"감지된 GPU가 없습니다. GPU가 없으면 LSTM과 CNN이 매우 느릴 수 있습니다.\")\n",
        "    if IS_COLAB:\n",
        "        print(\"런타임 > 런타임 유형 변경 메뉴를 선택하고 하드웨어 가속기로 GPU를 고르세요.\")\n",
        "\n",
        "# 공통 모듈 임포트\n",
        "import numpy as np\n",
        "import os\n",
        "from pathlib import Path\n",
        "\n",
        "# 노트북 실행 결과를 동일하게 유지하기 위해\n",
        "np.random.seed(42)\n",
        "tf.random.set_seed(42)\n",
        "\n",
        "# 깔끔한 그래프 출력을 위해\n",
        "%matplotlib inline\n",
        "import matplotlib as mpl\n",
        "import matplotlib.pyplot as plt\n",
        "mpl.rc('axes', labelsize=14)\n",
        "mpl.rc('xtick', labelsize=12)\n",
        "mpl.rc('ytick', labelsize=12)\n",
        "\n",
        "# 그림을 저장할 위치\n",
        "PROJECT_ROOT_DIR = \".\"\n",
        "CHAPTER_ID = \"rnn\"\n",
        "IMAGES_PATH = os.path.join(PROJECT_ROOT_DIR, \"images\", CHAPTER_ID)\n",
        "os.makedirs(IMAGES_PATH, exist_ok=True)\n",
        "\n",
        "def save_fig(fig_id, tight_layout=True, fig_extension=\"png\", resolution=300):\n",
        "    path = os.path.join(IMAGES_PATH, fig_id + \".\" + fig_extension)\n",
        "    print(\"그림 저장\", fig_id)\n",
        "    if tight_layout:\n",
        "        plt.tight_layout()\n",
        "    plt.savefig(path, format=fig_extension, dpi=resolution)"
      ]
    },
    {
      "cell_type": "markdown",
      "source": [
        "이 장에서는 미래를 어느 정도 예측할 수 있는 네트워크인 **순환 신경망(recurrent neural networks, RNN)**을 알아볼 것임"
      ],
      "metadata": {
        "id": "m5ilfasZ0PQ1"
      }
    },
    {
      "cell_type": "markdown",
      "source": [
        "# 15.1 순환 뉴런과 순환 층"
      ],
      "metadata": {
        "id": "nSxw9aB11EUA"
      }
    },
    {
      "cell_type": "markdown",
      "source": [
        "지금까지 알아본 신경망은 활성화 신호가 입력층에서 출력층 한 방향으로만 흐르는 **피드포워드 신경망**이었음  \n",
        "RNN은 피드포워드 신경망과 매우 비슷하지만 **뒤쪽으로 순환하는 연결도 있다는 점**이 다름!  "
      ],
      "metadata": {
        "id": "i6fK6f_f1G1e"
      }
    },
    {
      "cell_type": "markdown",
      "source": [
        "## 15.1.1 메모리 셀"
      ],
      "metadata": {
        "id": "2P6lAAex2ia9"
      }
    },
    {
      "cell_type": "markdown",
      "source": [
        "**메모리 셀(memory cell)**: 타임 스텝에 걸쳐서 어떤 상태를 보존하는 신경망의 구성 요소  \n",
        "타임 스텝 t에서 순환 뉴런의 출력은 <u> 이전 타임 스텝의 모든 입력에 대한 함수</u>이므로 이를 일종의 **메모리** 형태라고 할 수 있음  "
      ],
      "metadata": {
        "id": "aYT3OcIV2kUj"
      }
    },
    {
      "cell_type": "markdown",
      "source": [
        "## 15.1.2 입력과 출력 시퀀스"
      ],
      "metadata": {
        "id": "2P0q2oMm3GQa"
      }
    },
    {
      "cell_type": "markdown",
      "source": [
        "- **시퀀스-투-시퀀스 네트워크**: 입력 시퀀스를 받아 출력 시퀀스를 만들어내는 네트워크  \n",
        "ex. 주식가격 같은 시계열 데이터 예측에 주로 사용\n",
        "- **시퀀스-투-벡터 네트워크**: 입력 시퀀스를 네트워크에 주입하고 마지막 셀에서만 출력을 만들어내는 네트워크  \n",
        "ex. 영화 리뷰에 있는 연속된 단어를 주입하면 최종 감성 점수를 출력하는 경우  \n",
        "- **벡터-투-시퀀스 네트워크**: 각 타임 스텝에서 하나의 입력 벡터를 반복해서 네트워크에 주입하여 출력 시퀀스를 만들어내는 네트워크  \n",
        "ex. 이미지(or CNN의 출력)를 입력하여 이미지에 대한 캡션을 출력하는 경우  \n",
        "- **인코더-디코더**: 시퀀스-투-벡터 네트워크(인코더) 뒤에 벡터-투-시퀀스 네트워크(디코더)를 연결한 네트워크  \n",
        "ex. 한 언어의 문장을 다른 언어의 문장으로 번역하는 경우  \n",
        "<img src=\"https://drive.google.com/uc?id=1kEe-6CNjUPON6zwV0ODfZwfKddOP3R48\" height=400, width=600>"
      ],
      "metadata": {
        "id": "8dCBVh8Q3ImP"
      }
    },
    {
      "cell_type": "markdown",
      "source": [
        "# 15.2 RNN 훈련하기"
      ],
      "metadata": {
        "id": "3QNsoksl-yqi"
      }
    },
    {
      "cell_type": "markdown",
      "source": [
        "**BPTT(BackPropagation Through Time)**: RNN을 훈련하기 위한 기법, 타임 스텝으로 네트워크를 펼치고 보통의 역전파를 이용하는 전략  \n",
        "<img src=\"https://drive.google.com/uc?id=1gXKWgTHKNtP3OsJs-glIBY1UA8Q5fANK\" height=300, width=600>  \n",
        "\n",
        "- 위 그림에서 흐린 파선: 정방향 패스  \n",
        "- 위 그림에서 진한 실선: 비용 함수의 그레이디언트가 역방향으로 전파되는 모습"
      ],
      "metadata": {
        "id": "_5Y3k2Ho-1Ai"
      }
    },
    {
      "cell_type": "markdown",
      "source": [
        "# 15.3 시계열 예측하기"
      ],
      "metadata": {
        "id": "5SxhhP6bACCE"
      }
    },
    {
      "cell_type": "markdown",
      "source": [
        "<용어 정리>  \n",
        "- 시계열(time series): 타임 스텝마다 하나 이상의 값을 가진 시퀀스\n",
        "- 단변량(univariate) 시계열: 타임 스텝마다 하나의 값을 가지는 시퀀스\n",
        "- 다변량(multivariate) 시계열: 타임 스텝마다 여러 값을 가지는 시퀀스\n",
        "- forecasting: 예측, 즉 미래의 값을 예측하는 것\n",
        "- imputation: 값 대체, 과거 데이터에서 누락된 값을 예측하는 것"
      ],
      "metadata": {
        "id": "4dV7tPgDAFa8"
      }
    },
    {
      "cell_type": "markdown",
      "source": [
        "### 데이터셋 생성\n",
        "`generate_time_series()` 함수로 생성한 시계열을 사용:"
      ],
      "metadata": {
        "id": "lV12MPw9Bkv7"
      }
    },
    {
      "cell_type": "code",
      "source": [
        "def generate_time_series(batch_size, n_steps):\n",
        "    freq1, freq2, offsets1, offsets2 = np.random.rand(4, batch_size, 1)\n",
        "    time = np.linspace(0, 1, n_steps)\n",
        "    series = 0.5 * np.sin((time - offsets1) * (freq1 * 10 + 10)) # 웨이브 1\n",
        "    series += 0.2 * np.sin((time - offsets2) * (freq2 * 20 + 20)) # + 웨이브 2\n",
        "    series += 0.1 * (np.random.rand(batch_size, n_steps) - 0.5) # + 잡음\n",
        "    return series[..., np.newaxis].astype(np.float32)"
      ],
      "metadata": {
        "id": "uPJc4lMwAFue"
      },
      "execution_count": 2,
      "outputs": []
    },
    {
      "cell_type": "code",
      "source": [
        "np.random.seed(42)\n",
        "\n",
        "# train, valid, test 데이터 생성\n",
        "n_steps = 50\n",
        "series = generate_time_series(10000, n_steps + 1)\n",
        "X_train, y_train = series[:7000, :n_steps], series[:7000, -1]\n",
        "X_valid, y_valid = series[7000:9000, :n_steps], series[7000:9000, -1]\n",
        "X_test, y_test = series[9000:, :n_steps], series[9000:, -1]"
      ],
      "metadata": {
        "id": "VnZDoGBeCqQw"
      },
      "execution_count": 3,
      "outputs": []
    },
    {
      "cell_type": "code",
      "source": [
        "X_train.shape, y_train.shape"
      ],
      "metadata": {
        "id": "sco3bKt6CqNv",
        "colab": {
          "base_uri": "https://localhost:8080/"
        },
        "outputId": "64ea70f7-0a6f-4905-ea4b-1789966095bc"
      },
      "execution_count": 4,
      "outputs": [
        {
          "output_type": "execute_result",
          "data": {
            "text/plain": [
              "((7000, 50, 1), (7000, 1))"
            ]
          },
          "metadata": {},
          "execution_count": 4
        }
      ]
    },
    {
      "cell_type": "code",
      "source": [
        "# 시계열 데이터 그래프 작성해주는 함수\n",
        "def plot_series(series, y=None, y_pred=None, x_label=\"$t$\", y_label=\"$x(t)$\", legend=True):\n",
        "    plt.plot(series, \".-\")\n",
        "    if y is not None:\n",
        "        plt.plot(n_steps, y, \"bo\", label=\"Target\")\n",
        "    if y_pred is not None:\n",
        "        plt.plot(n_steps, y_pred, \"rx\", markersize=10, label=\"Prediction\")\n",
        "    plt.grid(True)\n",
        "    if x_label:\n",
        "        plt.xlabel(x_label, fontsize=16)\n",
        "    if y_label:\n",
        "        plt.ylabel(y_label, fontsize=16, rotation=0)\n",
        "    plt.hlines(0, 0, 100, linewidth=1)\n",
        "    plt.axis([0, n_steps+1, -1, 1])\n",
        "    if legend and (y or y_pred):\n",
        "        plt.legend(fontsize=14, loc=\"upper left\")\n",
        "\n",
        "\n",
        "fig, axes = plt.subplots(nrows=1, ncols=3, sharey=True, figsize=(12,4))\n",
        "for col in range(3):\n",
        "    plt.sca(axes[col])\n",
        "    plot_series(X_valid[col, :, 0], y_valid[col, 0],\n",
        "                y_label=(\"$x(t)$\" if col==0 else None),\n",
        "                legend=(col==0))\n",
        "save_fig(\"time_series_plot\")\n",
        "plt.show()"
      ],
      "metadata": {
        "id": "SXJ9MNFTCqLQ",
        "colab": {
          "base_uri": "https://localhost:8080/",
          "height": 240
        },
        "outputId": "7d267550-cc4c-4a3a-f0d1-10b0c87e6247"
      },
      "execution_count": 5,
      "outputs": [
        {
          "output_type": "stream",
          "name": "stdout",
          "text": [
            "그림 저장 time_series_plot\n"
          ]
        },
        {
          "output_type": "display_data",
          "data": {
            "text/plain": [
              "<Figure size 864x288 with 3 Axes>"
            ],
            "image/png": "[encoded data removed]"
          },
          "metadata": {
            "needs_background": "light"
          }
        }
      ]
    },
    {
      "cell_type": "markdown",
      "source": [
        "## 15.3.1 기준 성능"
      ],
      "metadata": {
        "id": "bqEzdHzPE_yt"
      }
    },
    {
      "cell_type": "markdown",
      "source": [
        "RNN을 시작하기 전에 기준 성능을 몇 개 준비하는 것이 좋음(그렇지 않으면 실제 기본 모델보다 성능이 나쁠 때도 잘 작동한다고 잘못 생각할 수 있음)  \n",
        "\n",
        "기준 성능을 파악하는 가장 간단한 방법은 **각 시계열의 마지막 값을 그대로 예측하는 것**: 순진한 예측(naive forecasting)"
      ],
      "metadata": {
        "id": "w8m0bP2AFByc"
      }
    },
    {
      "cell_type": "code",
      "source": [
        "y_pred = X_valid[:, -1]\n",
        "np.mean(keras.losses.mean_squared_error(y_valid, y_pred))"
      ],
      "metadata": {
        "id": "P-kBqenoCqG_",
        "colab": {
          "base_uri": "https://localhost:8080/"
        },
        "outputId": "785fba51-8ceb-42b3-dd25-a09c16122ad1"
      },
      "execution_count": 6,
      "outputs": [
        {
          "output_type": "execute_result",
          "data": {
            "text/plain": [
              "0.020211367"
            ]
          },
          "metadata": {},
          "execution_count": 6
        }
      ]
    },
    {
      "cell_type": "code",
      "source": [
        "# 예측 모습 그래프로 시각화\n",
        "plot_series(X_valid[0, :, 0], y_valid[0, 0], y_pred[0, 0])\n",
        "plt.show()"
      ],
      "metadata": {
        "id": "JrMTd-1JFhxI",
        "colab": {
          "base_uri": "https://localhost:8080/",
          "height": 293
        },
        "outputId": "942e8c88-651f-491a-b765-b3a86d2a02cd"
      },
      "execution_count": 7,
      "outputs": [
        {
          "output_type": "display_data",
          "data": {
            "text/plain": [
              "<Figure size 432x288 with 1 Axes>"
            ],
            "image/png": "[encoded data removed]"
          },
          "metadata": {
            "needs_background": "light"
          }
        }
      ]
    },
    {
      "cell_type": "markdown",
      "source": [
        "기준 성능을 파악하는 또 다른 방법은 **완전 연결 네트워크를 사용하는 것**: 간단한 선형 회귀 모델을 사용"
      ],
      "metadata": {
        "id": "3vpN1JN4F2Dg"
      }
    },
    {
      "cell_type": "code",
      "source": [
        "np.random.seed(42)\n",
        "tf.random.set_seed(42)\n",
        "\n",
        "model = keras.models.Sequential([\n",
        "    keras.layers.Flatten(input_shape=[50, 1]),\n",
        "    keras.layers.Dense(1)\n",
        "])\n",
        "\n",
        "model.compile(loss=\"mse\", optimizer=\"adam\")\n",
        "history = model.fit(X_train, y_train, epochs=20,\n",
        "                    validation_data=(X_valid, y_valid))"
      ],
      "metadata": {
        "id": "rQpuohTSFhsK",
        "colab": {
          "base_uri": "https://localhost:8080/"
        },
        "outputId": "5e4ce1c8-a2e0-496d-c95f-b869b9b78177"
      },
      "execution_count": 8,
      "outputs": [
        {
          "output_type": "stream",
          "name": "stdout",
          "text": [
            "Epoch 1/20\n",
            "219/219 [==============================] - 3s 3ms/step - loss: 0.1001 - val_loss: 0.0545\n",
            "Epoch 2/20\n",
            "219/219 [==============================] - 1s 3ms/step - loss: 0.0379 - val_loss: 0.0266\n",
            "Epoch 3/20\n",
            "219/219 [==============================] - 1s 3ms/step - loss: 0.0202 - val_loss: 0.0157\n",
            "Epoch 4/20\n",
            "219/219 [==============================] - 1s 3ms/step - loss: 0.0131 - val_loss: 0.0116\n",
            "Epoch 5/20\n",
            "219/219 [==============================] - 1s 3ms/step - loss: 0.0103 - val_loss: 0.0098\n",
            "Epoch 6/20\n",
            "219/219 [==============================] - 1s 3ms/step - loss: 0.0089 - val_loss: 0.0087\n",
            "Epoch 7/20\n",
            "219/219 [==============================] - 1s 3ms/step - loss: 0.0080 - val_loss: 0.0079\n",
            "Epoch 8/20\n",
            "219/219 [==============================] - 1s 3ms/step - loss: 0.0073 - val_loss: 0.0071\n",
            "Epoch 9/20\n",
            "219/219 [==============================] - 1s 3ms/step - loss: 0.0066 - val_loss: 0.0066\n",
            "Epoch 10/20\n",
            "219/219 [==============================] - 1s 3ms/step - loss: 0.0061 - val_loss: 0.0062\n",
            "Epoch 11/20\n",
            "219/219 [==============================] - 1s 3ms/step - loss: 0.0057 - val_loss: 0.0057\n",
            "Epoch 12/20\n",
            "219/219 [==============================] - 1s 3ms/step - loss: 0.0054 - val_loss: 0.0055\n",
            "Epoch 13/20\n",
            "219/219 [==============================] - 1s 3ms/step - loss: 0.0052 - val_loss: 0.0052\n",
            "Epoch 14/20\n",
            "219/219 [==============================] - 1s 3ms/step - loss: 0.0049 - val_loss: 0.0049\n",
            "Epoch 15/20\n",
            "219/219 [==============================] - 1s 3ms/step - loss: 0.0048 - val_loss: 0.0048\n",
            "Epoch 16/20\n",
            "219/219 [==============================] - 1s 3ms/step - loss: 0.0046 - val_loss: 0.0048\n",
            "Epoch 17/20\n",
            "219/219 [==============================] - 1s 3ms/step - loss: 0.0045 - val_loss: 0.0045\n",
            "Epoch 18/20\n",
            "219/219 [==============================] - 1s 3ms/step - loss: 0.0044 - val_loss: 0.0044\n",
            "Epoch 19/20\n",
            "219/219 [==============================] - 1s 3ms/step - loss: 0.0043 - val_loss: 0.0043\n",
            "Epoch 20/20\n",
            "219/219 [==============================] - 1s 3ms/step - loss: 0.0042 - val_loss: 0.0042\n"
          ]
        }
      ]
    },
    {
      "cell_type": "code",
      "source": [
        "model.evaluate(X_valid, y_valid)"
      ],
      "metadata": {
        "id": "KbwHl6HOFhnK",
        "colab": {
          "base_uri": "https://localhost:8080/"
        },
        "outputId": "24a2dc56-3bca-4199-9d7c-4c4041952125"
      },
      "execution_count": 9,
      "outputs": [
        {
          "output_type": "stream",
          "name": "stdout",
          "text": [
            "63/63 [==============================] - 0s 2ms/step - loss: 0.0042\n"
          ]
        },
        {
          "output_type": "execute_result",
          "data": {
            "text/plain": [
              "0.004168086219578981"
            ]
          },
          "metadata": {},
          "execution_count": 9
        }
      ]
    },
    {
      "cell_type": "code",
      "source": [
        "# 학습 곡선 그래프 작성해주는 함수\n",
        "def plot_learning_curves(loss, val_loss):\n",
        "    plt.plot(np.arange(len(loss)) + 0.5, loss, \"b.-\", label=\"Training loss\")\n",
        "    plt.plot(np.arange(len(val_loss)) + 1, val_loss, \"r.-\", label=\"Validation loss\")\n",
        "    plt.gca().xaxis.set_major_locator(mpl.ticker.MaxNLocator(integer=True))\n",
        "    plt.axis([1, 20, 0, 0.05])\n",
        "    plt.legend(fontsize=14)\n",
        "    plt.xlabel(\"Epochs\")\n",
        "    plt.ylabel(\"Loss\")\n",
        "    plt.grid(True)\n",
        "\n",
        "plot_learning_curves(history.history[\"loss\"], history.history[\"val_loss\"])\n",
        "plt.show()"
      ],
      "metadata": {
        "id": "6jz3eCJiGeNN",
        "colab": {
          "base_uri": "https://localhost:8080/",
          "height": 291
        },
        "outputId": "1edcdeb5-21ca-494a-e8a3-7f0b6eb7cfef"
      },
      "execution_count": 10,
      "outputs": [
        {
          "output_type": "display_data",
          "data": {
            "text/plain": [
              "<Figure size 432x288 with 1 Axes>"
            ],
            "image/png": "[encoded data removed]"
          },
          "metadata": {
            "needs_background": "light"
          }
        }
      ]
    },
    {
      "cell_type": "code",
      "source": [
        "y_pred = model.predict(X_valid)\n",
        "\n",
        "# 예측 모습 그래프로 시각화\n",
        "plot_series(X_valid[0, :, 0], y_valid[0, 0], y_pred[0, 0])\n",
        "plt.show()"
      ],
      "metadata": {
        "id": "61HglgsXGeFN",
        "colab": {
          "base_uri": "https://localhost:8080/",
          "height": 311
        },
        "outputId": "de58d463-5367-4a09-e2cf-b8f7b0818776"
      },
      "execution_count": 11,
      "outputs": [
        {
          "output_type": "stream",
          "name": "stdout",
          "text": [
            "63/63 [==============================] - 0s 1ms/step\n"
          ]
        },
        {
          "output_type": "display_data",
          "data": {
            "text/plain": [
              "<Figure size 432x288 with 1 Axes>"
            ],
            "image/png": "[encoded data removed]"
          },
          "metadata": {
            "needs_background": "light"
          }
        }
      ]
    },
    {
      "cell_type": "markdown",
      "source": [
        "## 15.3.2 간단한 RNN 구현하기"
      ],
      "metadata": {
        "id": "WyLPAX3FHXIv"
      }
    },
    {
      "cell_type": "markdown",
      "source": [
        "간단한 RNN을 사용해 앞서 살펴본 기준 성능을 앞지를 수 있는지 확인:"
      ],
      "metadata": {
        "id": "WE03AzV2Hcn8"
      }
    },
    {
      "cell_type": "code",
      "source": [
        "np.random.seed(42)\n",
        "tf.random.set_seed(42)\n",
        "\n",
        "# 하나의 뉴런으로 이루어진 하나의 RNN 층 모델\n",
        "model = keras.models.Sequential([\n",
        "    keras.layers.SimpleRNN(1, input_shape=[None, 1])\n",
        "])\n",
        "\n",
        "optimizer = keras.optimizers.Adam(learning_rate=0.005)\n",
        "model.compile(loss=\"mse\", optimizer=optimizer)\n",
        "history = model.fit(X_train, y_train, epochs=20,\n",
        "                    validation_data=(X_valid, y_valid))"
      ],
      "metadata": {
        "id": "yM8cdP3aGd1p",
        "colab": {
          "base_uri": "https://localhost:8080/"
        },
        "outputId": "48ad14af-0bca-4feb-befa-4c43b5e1c210"
      },
      "execution_count": 12,
      "outputs": [
        {
          "output_type": "stream",
          "name": "stdout",
          "text": [
            "Epoch 1/20\n",
            "219/219 [==============================] - 7s 30ms/step - loss: 0.0967 - val_loss: 0.0489\n",
            "Epoch 2/20\n",
            "219/219 [==============================] - 6s 30ms/step - loss: 0.0369 - val_loss: 0.0296\n",
            "Epoch 3/20\n",
            "219/219 [==============================] - 6s 29ms/step - loss: 0.0253 - val_loss: 0.0218\n",
            "Epoch 4/20\n",
            "219/219 [==============================] - 6s 29ms/step - loss: 0.0198 - val_loss: 0.0177\n",
            "Epoch 5/20\n",
            "219/219 [==============================] - 7s 30ms/step - loss: 0.0166 - val_loss: 0.0151\n",
            "Epoch 6/20\n",
            "219/219 [==============================] - 6s 29ms/step - loss: 0.0146 - val_loss: 0.0134\n",
            "Epoch 7/20\n",
            "219/219 [==============================] - 7s 31ms/step - loss: 0.0132 - val_loss: 0.0123\n",
            "Epoch 8/20\n",
            "219/219 [==============================] - 6s 29ms/step - loss: 0.0124 - val_loss: 0.0116\n",
            "Epoch 9/20\n",
            "219/219 [==============================] - 6s 29ms/step - loss: 0.0118 - val_loss: 0.0112\n",
            "Epoch 10/20\n",
            "219/219 [==============================] - 7s 31ms/step - loss: 0.0116 - val_loss: 0.0110\n",
            "Epoch 11/20\n",
            "219/219 [==============================] - 6s 29ms/step - loss: 0.0114 - val_loss: 0.0109\n",
            "Epoch 12/20\n",
            "219/219 [==============================] - 6s 29ms/step - loss: 0.0114 - val_loss: 0.0109\n",
            "Epoch 13/20\n",
            "219/219 [==============================] - 7s 32ms/step - loss: 0.0114 - val_loss: 0.0109\n",
            "Epoch 14/20\n",
            "219/219 [==============================] - 6s 29ms/step - loss: 0.0114 - val_loss: 0.0109\n",
            "Epoch 15/20\n",
            "219/219 [==============================] - 7s 30ms/step - loss: 0.0114 - val_loss: 0.0109\n",
            "Epoch 16/20\n",
            "219/219 [==============================] - 6s 30ms/step - loss: 0.0114 - val_loss: 0.0109\n",
            "Epoch 17/20\n",
            "219/219 [==============================] - 6s 30ms/step - loss: 0.0114 - val_loss: 0.0109\n",
            "Epoch 18/20\n",
            "219/219 [==============================] - 6s 29ms/step - loss: 0.0114 - val_loss: 0.0109\n",
            "Epoch 19/20\n",
            "219/219 [==============================] - 6s 29ms/step - loss: 0.0114 - val_loss: 0.0109\n",
            "Epoch 20/20\n",
            "219/219 [==============================] - 6s 29ms/step - loss: 0.0114 - val_loss: 0.0109\n"
          ]
        }
      ]
    },
    {
      "cell_type": "code",
      "source": [
        "model.evaluate(X_valid, y_valid)"
      ],
      "metadata": {
        "id": "TQFwpBRCHlVu",
        "colab": {
          "base_uri": "https://localhost:8080/"
        },
        "outputId": "076402f4-beeb-462d-e72f-e16deecfe1c9"
      },
      "execution_count": 13,
      "outputs": [
        {
          "output_type": "stream",
          "name": "stdout",
          "text": [
            "63/63 [==============================] - 0s 5ms/step - loss: 0.0109\n"
          ]
        },
        {
          "output_type": "execute_result",
          "data": {
            "text/plain": [
              "0.010881561785936356"
            ]
          },
          "metadata": {},
          "execution_count": 13
        }
      ]
    },
    {
      "cell_type": "code",
      "source": [
        "# 학습 곡선 확인\n",
        "plot_learning_curves(history.history[\"loss\"], history.history[\"val_loss\"])\n",
        "plt.show()"
      ],
      "metadata": {
        "id": "JZsSD531HlSs",
        "colab": {
          "base_uri": "https://localhost:8080/",
          "height": 291
        },
        "outputId": "796fa2b5-1558-42cc-de31-d4764c9275f6"
      },
      "execution_count": 14,
      "outputs": [
        {
          "output_type": "display_data",
          "data": {
            "text/plain": [
              "<Figure size 432x288 with 1 Axes>"
            ],
            "image/png": "[encoded data removed]"
          },
          "metadata": {
            "needs_background": "light"
          }
        }
      ]
    },
    {
      "cell_type": "code",
      "source": [
        "y_pred = model.predict(X_valid)\n",
        "\n",
        "# 예측 모습 그래프로 시각화\n",
        "plot_series(X_valid[0, :, 0], y_valid[0, 0], y_pred[0, 0])\n",
        "plt.show()"
      ],
      "metadata": {
        "id": "KAtU3sxNHlP_",
        "colab": {
          "base_uri": "https://localhost:8080/",
          "height": 311
        },
        "outputId": "71e38e95-8023-44a5-838b-9563a21d8a80"
      },
      "execution_count": 15,
      "outputs": [
        {
          "output_type": "stream",
          "name": "stdout",
          "text": [
            "63/63 [==============================] - 0s 5ms/step\n"
          ]
        },
        {
          "output_type": "display_data",
          "data": {
            "text/plain": [
              "<Figure size 432x288 with 1 Axes>"
            ],
            "image/png": "[encoded data removed]"
          },
          "metadata": {
            "needs_background": "light"
          }
        }
      ]
    },
    {
      "cell_type": "markdown",
      "source": [
        "## 15.3.3 심층 RNN"
      ],
      "metadata": {
        "id": "blnO335QJa-f"
      }
    },
    {
      "cell_type": "markdown",
      "source": [
        "RNN은 아래 그림처럼 셀을 여러 층으로 쌓아 **심층 RNN(deep RNN)**으로 만드는 것이 일반적  \n",
        "<img src=\"https://drive.google.com/uc?id=16QfNx7IFmBe88x2LwSxADzL7ppNRf8xf\" height=300, width=600 >  \n",
        "\n",
        "3개의 SimpleRNN 층을 사용하여 심층 RNN 구성:  \n",
        "※ 추후에 등장할 LSTM 층이나 GRU 층 같은 다른 종류의 순환 층을 추가할 수도 있음"
      ],
      "metadata": {
        "id": "5_ZQ_ZYsJBmK"
      }
    },
    {
      "cell_type": "code",
      "source": [
        "np.random.seed(42)\n",
        "tf.random.set_seed(42)\n",
        "\n",
        "model = keras.models.Sequential([\n",
        "    keras.layers.SimpleRNN(20, return_sequences=True, input_shape=[None, 1]),\n",
        "    keras.layers.SimpleRNN(20, return_sequences=True),\n",
        "    keras.layers.SimpleRNN(1)\n",
        "])\n",
        "\n",
        "model.compile(loss=\"mse\", optimizer=\"adam\")\n",
        "history = model.fit(X_train, y_train, epochs=20,\n",
        "                    validation_data=(X_valid, y_valid))"
      ],
      "metadata": {
        "id": "Br7zzfTHKL5I",
        "colab": {
          "base_uri": "https://localhost:8080/"
        },
        "outputId": "22c629d0-7eda-41ec-9c6b-eccfd66d8607"
      },
      "execution_count": 16,
      "outputs": [
        {
          "output_type": "stream",
          "name": "stdout",
          "text": [
            "Epoch 1/20\n",
            "219/219 [==============================] - 28s 118ms/step - loss: 0.0492 - val_loss: 0.0090\n",
            "Epoch 2/20\n",
            "219/219 [==============================] - 26s 117ms/step - loss: 0.0070 - val_loss: 0.0065\n",
            "Epoch 3/20\n",
            "219/219 [==============================] - 25s 116ms/step - loss: 0.0053 - val_loss: 0.0045\n",
            "Epoch 4/20\n",
            "219/219 [==============================] - 26s 117ms/step - loss: 0.0045 - val_loss: 0.0040\n",
            "Epoch 5/20\n",
            "219/219 [==============================] - 25s 116ms/step - loss: 0.0042 - val_loss: 0.0040\n",
            "Epoch 6/20\n",
            "219/219 [==============================] - 25s 116ms/step - loss: 0.0038 - val_loss: 0.0036\n",
            "Epoch 7/20\n",
            "219/219 [==============================] - 27s 123ms/step - loss: 0.0038 - val_loss: 0.0040\n",
            "Epoch 8/20\n",
            "219/219 [==============================] - 26s 117ms/step - loss: 0.0037 - val_loss: 0.0033\n",
            "Epoch 9/20\n",
            "219/219 [==============================] - 26s 117ms/step - loss: 0.0036 - val_loss: 0.0032\n",
            "Epoch 10/20\n",
            "219/219 [==============================] - 25s 116ms/step - loss: 0.0035 - val_loss: 0.0031\n",
            "Epoch 11/20\n",
            "219/219 [==============================] - 25s 116ms/step - loss: 0.0034 - val_loss: 0.0030\n",
            "Epoch 12/20\n",
            "219/219 [==============================] - 25s 115ms/step - loss: 0.0033 - val_loss: 0.0031\n",
            "Epoch 13/20\n",
            "219/219 [==============================] - 25s 115ms/step - loss: 0.0034 - val_loss: 0.0031\n",
            "Epoch 14/20\n",
            "219/219 [==============================] - 26s 117ms/step - loss: 0.0033 - val_loss: 0.0032\n",
            "Epoch 15/20\n",
            "219/219 [==============================] - 25s 116ms/step - loss: 0.0034 - val_loss: 0.0033\n",
            "Epoch 16/20\n",
            "219/219 [==============================] - 26s 120ms/step - loss: 0.0035 - val_loss: 0.0030\n",
            "Epoch 17/20\n",
            "219/219 [==============================] - 26s 116ms/step - loss: 0.0033 - val_loss: 0.0029\n",
            "Epoch 18/20\n",
            "219/219 [==============================] - 26s 117ms/step - loss: 0.0033 - val_loss: 0.0030\n",
            "Epoch 19/20\n",
            "219/219 [==============================] - 25s 116ms/step - loss: 0.0032 - val_loss: 0.0029\n",
            "Epoch 20/20\n",
            "219/219 [==============================] - 26s 117ms/step - loss: 0.0032 - val_loss: 0.0029\n"
          ]
        }
      ]
    },
    {
      "cell_type": "code",
      "source": [
        "model.evaluate(X_valid, y_valid)"
      ],
      "metadata": {
        "id": "xirD7gYZKLzk",
        "colab": {
          "base_uri": "https://localhost:8080/"
        },
        "outputId": "2256e81f-d84c-417e-ade9-0a60e6821d59"
      },
      "execution_count": 17,
      "outputs": [
        {
          "output_type": "stream",
          "name": "stdout",
          "text": [
            "63/63 [==============================] - 1s 13ms/step - loss: 0.0029\n"
          ]
        },
        {
          "output_type": "execute_result",
          "data": {
            "text/plain": [
              "0.0029105604626238346"
            ]
          },
          "metadata": {},
          "execution_count": 17
        }
      ]
    },
    {
      "cell_type": "code",
      "source": [
        "# 학습 곡선 확인\n",
        "plot_learning_curves(history.history[\"loss\"], history.history[\"val_loss\"])\n",
        "plt.show()"
      ],
      "metadata": {
        "id": "dauNgcGVKLwG",
        "colab": {
          "base_uri": "https://localhost:8080/",
          "height": 291
        },
        "outputId": "ef80c423-dace-487b-c7a7-a81add5ece00"
      },
      "execution_count": 18,
      "outputs": [
        {
          "output_type": "display_data",
          "data": {
            "text/plain": [
              "<Figure size 432x288 with 1 Axes>"
            ],
            "image/png": "[encoded data removed]"
          },
          "metadata": {
            "needs_background": "light"
          }
        }
      ]
    },
    {
      "cell_type": "code",
      "source": [
        "y_pred = model.predict(X_valid)\n",
        "\n",
        "# 예측 모습 그래프로 시각화\n",
        "plot_series(X_valid[0, :, 0], y_valid[0, 0], y_pred[0, 0])\n",
        "plt.show()"
      ],
      "metadata": {
        "id": "smpNRBYEKLsE",
        "colab": {
          "base_uri": "https://localhost:8080/",
          "height": 311
        },
        "outputId": "77058dc3-67b6-48ad-c5d6-7d8f3e14e989"
      },
      "execution_count": 19,
      "outputs": [
        {
          "output_type": "stream",
          "name": "stdout",
          "text": [
            "63/63 [==============================] - 1s 12ms/step\n"
          ]
        },
        {
          "output_type": "display_data",
          "data": {
            "text/plain": [
              "<Figure size 432x288 with 1 Axes>"
            ],
            "image/png": "[encoded data removed]"
          },
          "metadata": {
            "needs_background": "light"
          }
        }
      ]
    },
    {
      "cell_type": "markdown",
      "source": [
        "마지막 층의 은닉 상태는 크게 필요하지 않기 때문에 출력층을 `SimpleRNN` 층이 아닌 `Dense`층으로 바꾸는 경우가 많음  \n",
        "이렇게 바꾸려면 두 번째 `SimpleRNN` 층에서 `return_sequences=True`를 제거해야 함:"
      ],
      "metadata": {
        "id": "n2_PPQWXLKh8"
      }
    },
    {
      "cell_type": "code",
      "source": [
        "np.random.seed(42)\n",
        "tf.random.set_seed(42)\n",
        "\n",
        "model = keras.models.Sequential([\n",
        "    keras.layers.SimpleRNN(20, return_sequences=True, input_shape=[None, 1]),\n",
        "    keras.layers.SimpleRNN(20),\n",
        "    keras.layers.Dense(1)\n",
        "])\n",
        "\n",
        "model.compile(loss=\"mse\", optimizer=\"adam\")\n",
        "history = model.fit(X_train, y_train, epochs=20,\n",
        "                    validation_data=(X_valid, y_valid))"
      ],
      "metadata": {
        "id": "ZBY41uveLLSM",
        "colab": {
          "base_uri": "https://localhost:8080/"
        },
        "outputId": "7008220e-9208-4a2a-9d34-8160f889c3ba"
      },
      "execution_count": 20,
      "outputs": [
        {
          "output_type": "stream",
          "name": "stdout",
          "text": [
            "Epoch 1/20\n",
            "219/219 [==============================] - 19s 81ms/step - loss: 0.0232 - val_loss: 0.0052\n",
            "Epoch 2/20\n",
            "219/219 [==============================] - 18s 81ms/step - loss: 0.0043 - val_loss: 0.0036\n",
            "Epoch 3/20\n",
            "219/219 [==============================] - 18s 84ms/step - loss: 0.0035 - val_loss: 0.0031\n",
            "Epoch 4/20\n",
            "219/219 [==============================] - 18s 82ms/step - loss: 0.0033 - val_loss: 0.0033\n",
            "Epoch 5/20\n",
            "219/219 [==============================] - 18s 81ms/step - loss: 0.0033 - val_loss: 0.0034\n",
            "Epoch 6/20\n",
            "219/219 [==============================] - 18s 81ms/step - loss: 0.0031 - val_loss: 0.0029\n",
            "Epoch 7/20\n",
            "219/219 [==============================] - 18s 81ms/step - loss: 0.0031 - val_loss: 0.0034\n",
            "Epoch 8/20\n",
            "219/219 [==============================] - 18s 80ms/step - loss: 0.0032 - val_loss: 0.0028\n",
            "Epoch 9/20\n",
            "219/219 [==============================] - 18s 81ms/step - loss: 0.0031 - val_loss: 0.0028\n",
            "Epoch 10/20\n",
            "219/219 [==============================] - 18s 81ms/step - loss: 0.0030 - val_loss: 0.0029\n",
            "Epoch 11/20\n",
            "219/219 [==============================] - 18s 81ms/step - loss: 0.0029 - val_loss: 0.0027\n",
            "Epoch 12/20\n",
            "219/219 [==============================] - 18s 81ms/step - loss: 0.0030 - val_loss: 0.0031\n",
            "Epoch 13/20\n",
            "219/219 [==============================] - 18s 81ms/step - loss: 0.0030 - val_loss: 0.0031\n",
            "Epoch 14/20\n",
            "219/219 [==============================] - 18s 82ms/step - loss: 0.0030 - val_loss: 0.0030\n",
            "Epoch 15/20\n",
            "219/219 [==============================] - 18s 80ms/step - loss: 0.0030 - val_loss: 0.0030\n",
            "Epoch 16/20\n",
            "219/219 [==============================] - 18s 83ms/step - loss: 0.0030 - val_loss: 0.0027\n",
            "Epoch 17/20\n",
            "219/219 [==============================] - 18s 80ms/step - loss: 0.0029 - val_loss: 0.0028\n",
            "Epoch 18/20\n",
            "219/219 [==============================] - 18s 81ms/step - loss: 0.0030 - val_loss: 0.0027\n",
            "Epoch 19/20\n",
            "219/219 [==============================] - 17s 80ms/step - loss: 0.0029 - val_loss: 0.0028\n",
            "Epoch 20/20\n",
            "219/219 [==============================] - 17s 80ms/step - loss: 0.0029 - val_loss: 0.0026\n"
          ]
        }
      ]
    },
    {
      "cell_type": "code",
      "source": [
        "model.evaluate(X_valid, y_valid)"
      ],
      "metadata": {
        "id": "B-DgC8KFLLKc",
        "colab": {
          "base_uri": "https://localhost:8080/"
        },
        "outputId": "d8fda0ef-cf98-42de-a9de-904c11557d8a"
      },
      "execution_count": 21,
      "outputs": [
        {
          "output_type": "stream",
          "name": "stdout",
          "text": [
            "63/63 [==============================] - 1s 9ms/step - loss: 0.0026\n"
          ]
        },
        {
          "output_type": "execute_result",
          "data": {
            "text/plain": [
              "0.002623624401167035"
            ]
          },
          "metadata": {},
          "execution_count": 21
        }
      ]
    },
    {
      "cell_type": "code",
      "source": [
        "# 학습 곡선 확인\n",
        "plot_learning_curves(history.history[\"loss\"], history.history[\"val_loss\"])\n",
        "plt.show()"
      ],
      "metadata": {
        "id": "Bov1PjNKLK2b",
        "colab": {
          "base_uri": "https://localhost:8080/",
          "height": 291
        },
        "outputId": "63d3dc46-1813-4135-fd99-a39f3d164f3f"
      },
      "execution_count": 22,
      "outputs": [
        {
          "output_type": "display_data",
          "data": {
            "text/plain": [
              "<Figure size 432x288 with 1 Axes>"
            ],
            "image/png": "[encoded data removed]"
          },
          "metadata": {
            "needs_background": "light"
          }
        }
      ]
    },
    {
      "cell_type": "code",
      "source": [
        "y_pred = model.predict(X_valid)\n",
        "\n",
        "# 예측 모습 그래프로 시각화\n",
        "plot_series(X_valid[0, :, 0], y_valid[0, 0], y_pred[0, 0])\n",
        "plt.show()"
      ],
      "metadata": {
        "id": "4IYpXTMJMDIS",
        "colab": {
          "base_uri": "https://localhost:8080/",
          "height": 311
        },
        "outputId": "92339370-1aa7-4744-ce05-b8409b9ad36a"
      },
      "execution_count": 23,
      "outputs": [
        {
          "output_type": "stream",
          "name": "stdout",
          "text": [
            "63/63 [==============================] - 1s 9ms/step\n"
          ]
        },
        {
          "output_type": "display_data",
          "data": {
            "text/plain": [
              "<Figure size 432x288 with 1 Axes>"
            ],
            "image/png": "[encoded data removed]"
          },
          "metadata": {
            "needs_background": "light"
          }
        }
      ]
    },
    {
      "cell_type": "markdown",
      "source": [
        "## 15.3.4 여러 타임 스텝 앞을 예측하기"
      ],
      "metadata": {
        "id": "gcCohYUkMIm2"
      }
    },
    {
      "cell_type": "markdown",
      "source": [
        "1. 이미 훈련된 모델을 사용하여 다음 값을 예측한 다음, 이 값을 입력으로 추가하여 여러 타임 스텝 앞을 예측하는 방법"
      ],
      "metadata": {
        "id": "VNvR06wXAPvF"
      }
    },
    {
      "cell_type": "code",
      "source": [
        "np.random.seed(43) # 42는 훈련 세트에 있는 첫 번째 시리즈를 반환하기 때문에 다른 값으로 지정하였음\n",
        "\n",
        "series = generate_time_series(1, n_steps + 10)\n",
        "X_new, Y_new = series[:, :n_steps], series[:, n_steps:]\n",
        "X = X_new\n",
        "for step_ahead in range(10):\n",
        "    y_pred_one = model.predict(X[:, step_ahead:])[:, np.newaxis, :]\n",
        "    X = np.concatenate([X, y_pred_one], axis=1)\n",
        "\n",
        "Y_pred = X[:, n_steps:]\n",
        "Y_pred.shape"
      ],
      "metadata": {
        "id": "JRa4Vz3YMLQ6",
        "colab": {
          "base_uri": "https://localhost:8080/"
        },
        "outputId": "d96bfe84-24ca-4f19-9b7d-78c2478d496a"
      },
      "execution_count": 24,
      "outputs": [
        {
          "output_type": "stream",
          "name": "stdout",
          "text": [
            "1/1 [==============================] - 0s 24ms/step\n",
            "1/1 [==============================] - 0s 22ms/step\n",
            "1/1 [==============================] - 0s 23ms/step\n",
            "1/1 [==============================] - 0s 23ms/step\n",
            "1/1 [==============================] - 0s 24ms/step\n",
            "1/1 [==============================] - 0s 23ms/step\n",
            "1/1 [==============================] - 0s 24ms/step\n",
            "1/1 [==============================] - 0s 22ms/step\n",
            "1/1 [==============================] - 0s 21ms/step\n",
            "1/1 [==============================] - 0s 27ms/step\n"
          ]
        },
        {
          "output_type": "execute_result",
          "data": {
            "text/plain": [
              "(1, 10, 1)"
            ]
          },
          "metadata": {},
          "execution_count": 24
        }
      ]
    },
    {
      "cell_type": "code",
      "source": [
        "# 여러 타임 스텝 앞을 예측한 그래프 함수 정의\n",
        "def plot_multiple_forecasts(X, Y, Y_pred):\n",
        "    n_steps = X.shape[1]\n",
        "    ahead = Y.shape[1]\n",
        "    plot_series(X[0, :, 0])\n",
        "    plt.plot(np.arange(n_steps, n_steps + ahead), Y[0, :, 0], \"bo-\", label=\"Actual\")\n",
        "    plt.plot(np.arange(n_steps, n_steps + ahead), Y_pred[0, :, 0], \"rx-\", label=\"Forecast\", markersize=10)\n",
        "    plt.axis([0, n_steps + ahead, -1, 1])\n",
        "    plt.legend(fontsize=14)\n",
        "\n",
        "plot_multiple_forecasts(X_new, Y_new, Y_pred)\n",
        "save_fig(\"forecast_ahead_plot\")\n",
        "plt.show()"
      ],
      "metadata": {
        "id": "FgycJWHQAMVV",
        "colab": {
          "base_uri": "https://localhost:8080/",
          "height": 315
        },
        "outputId": "0854a8e2-cd86-456f-fe1f-55d33b612dcc"
      },
      "execution_count": 25,
      "outputs": [
        {
          "output_type": "stream",
          "name": "stdout",
          "text": [
            "그림 저장 forecast_ahead_plot\n"
          ]
        },
        {
          "output_type": "display_data",
          "data": {
            "text/plain": [
              "<Figure size 432x288 with 1 Axes>"
            ],
            "image/png": "[encoded data removed]"
          },
          "metadata": {
            "needs_background": "light"
          }
        }
      ]
    },
    {
      "cell_type": "code",
      "source": [
        "# 먼저 9개의 타임 스텝을 더 가진 시퀀스를 다시 생성\n",
        "np.random.seed(42)\n",
        "\n",
        "n_steps = 50\n",
        "series = generate_time_series(10000, n_steps + 10)\n",
        "X_train, Y_train = series[:7000, :n_steps], series[:7000, -10:, 0]\n",
        "X_valid, Y_valid = series[7000:9000, :n_steps], series[7000:9000, -10:, 0]\n",
        "X_test, Y_test = series[9000:, :n_steps], series[9000:, -10:, 0]"
      ],
      "metadata": {
        "id": "kdQltZMcCmwS"
      },
      "execution_count": 27,
      "outputs": []
    },
    {
      "cell_type": "code",
      "source": [
        "# 이제 하나씩 다음 10개의 값을 예측\n",
        "X = X_valid\n",
        "for step_ahead in range(10):\n",
        "    y_pred_one = model.predict(X)[:, np.newaxis, :]\n",
        "    X = np.concatenate([X, y_pred_one], axis=1)\n",
        "\n",
        "Y_pred = X[:, n_steps:, 0]\n",
        "Y_pred.shape"
      ],
      "metadata": {
        "id": "y3VnFEYRAMQ4",
        "colab": {
          "base_uri": "https://localhost:8080/"
        },
        "outputId": "e31deba2-ad7e-4305-f520-0217c955f779"
      },
      "execution_count": 28,
      "outputs": [
        {
          "output_type": "stream",
          "name": "stdout",
          "text": [
            "63/63 [==============================] - 1s 9ms/step\n",
            "63/63 [==============================] - 1s 9ms/step\n",
            "63/63 [==============================] - 1s 9ms/step\n",
            "63/63 [==============================] - 1s 9ms/step\n",
            "63/63 [==============================] - 1s 9ms/step\n",
            "63/63 [==============================] - 1s 9ms/step\n",
            "63/63 [==============================] - 1s 10ms/step\n",
            "63/63 [==============================] - 1s 10ms/step\n",
            "63/63 [==============================] - 1s 10ms/step\n",
            "63/63 [==============================] - 1s 10ms/step\n"
          ]
        },
        {
          "output_type": "execute_result",
          "data": {
            "text/plain": [
              "(2000, 10)"
            ]
          },
          "metadata": {},
          "execution_count": 28
        }
      ]
    },
    {
      "cell_type": "code",
      "source": [
        "# MSE 지표 확인\n",
        "np.mean(keras.metrics.mean_squared_error(Y_valid, Y_pred))"
      ],
      "metadata": {
        "id": "tGb0GKL9DiCI",
        "colab": {
          "base_uri": "https://localhost:8080/"
        },
        "outputId": "65962775-157f-4bd9-e9e5-9647894b1ac4"
      },
      "execution_count": 29,
      "outputs": [
        {
          "output_type": "execute_result",
          "data": {
            "text/plain": [
              "0.027510826"
            ]
          },
          "metadata": {},
          "execution_count": 29
        }
      ]
    },
    {
      "cell_type": "code",
      "source": [
        "# 위 성능을 단순한 예측이나 간단한 선형 모델과 비교\n",
        "Y_naive_pred = np.tile(X_valid[:, -1], 10) # 마지막 타임 스텝 값을 선택해 10번 반복\n",
        "np.mean(keras.metrics.mean_squared_error(Y_valid, Y_naive_pred))"
      ],
      "metadata": {
        "id": "25BJSJdsAMME",
        "colab": {
          "base_uri": "https://localhost:8080/"
        },
        "outputId": "62b1cfe8-9c0f-4271-d2d8-343e479b6bdd"
      },
      "execution_count": 30,
      "outputs": [
        {
          "output_type": "execute_result",
          "data": {
            "text/plain": [
              "0.25697407"
            ]
          },
          "metadata": {},
          "execution_count": 30
        }
      ]
    },
    {
      "cell_type": "code",
      "source": [
        "np.random.seed(42)\n",
        "tf.random.set_seed(42)\n",
        "\n",
        "model = keras.models.Sequential([\n",
        "    keras.layers.Flatten(input_shape=[50,1]),\n",
        "    keras.layers.Dense(10)\n",
        "])\n",
        "\n",
        "model.compile(loss=\"mse\", optimizer=\"adam\")\n",
        "history = model.fit(X_train, Y_train, epochs=20,\n",
        "                    validation_data=(X_valid, Y_valid))"
      ],
      "metadata": {
        "id": "SVbHR4_IEyvU",
        "colab": {
          "base_uri": "https://localhost:8080/"
        },
        "outputId": "c016aa41-a444-482d-e744-990e031f9f76"
      },
      "execution_count": 31,
      "outputs": [
        {
          "output_type": "stream",
          "name": "stdout",
          "text": [
            "Epoch 1/20\n",
            "219/219 [==============================] - 1s 3ms/step - loss: 0.1343 - val_loss: 0.0606\n",
            "Epoch 2/20\n",
            "219/219 [==============================] - 1s 3ms/step - loss: 0.0496 - val_loss: 0.0425\n",
            "Epoch 3/20\n",
            "219/219 [==============================] - 1s 3ms/step - loss: 0.0385 - val_loss: 0.0353\n",
            "Epoch 4/20\n",
            "219/219 [==============================] - 1s 3ms/step - loss: 0.0331 - val_loss: 0.0311\n",
            "Epoch 5/20\n",
            "219/219 [==============================] - 1s 3ms/step - loss: 0.0298 - val_loss: 0.0283\n",
            "Epoch 6/20\n",
            "219/219 [==============================] - 1s 3ms/step - loss: 0.0273 - val_loss: 0.0264\n",
            "Epoch 7/20\n",
            "219/219 [==============================] - 1s 3ms/step - loss: 0.0256 - val_loss: 0.0249\n",
            "Epoch 8/20\n",
            "219/219 [==============================] - 1s 3ms/step - loss: 0.0244 - val_loss: 0.0237\n",
            "Epoch 9/20\n",
            "219/219 [==============================] - 1s 3ms/step - loss: 0.0234 - val_loss: 0.0229\n",
            "Epoch 10/20\n",
            "219/219 [==============================] - 1s 3ms/step - loss: 0.0227 - val_loss: 0.0222\n",
            "Epoch 11/20\n",
            "219/219 [==============================] - 1s 3ms/step - loss: 0.0220 - val_loss: 0.0216\n",
            "Epoch 12/20\n",
            "219/219 [==============================] - 1s 3ms/step - loss: 0.0215 - val_loss: 0.0212\n",
            "Epoch 13/20\n",
            "219/219 [==============================] - 1s 3ms/step - loss: 0.0210 - val_loss: 0.0208\n",
            "Epoch 14/20\n",
            "219/219 [==============================] - 1s 3ms/step - loss: 0.0207 - val_loss: 0.0207\n",
            "Epoch 15/20\n",
            "219/219 [==============================] - 1s 3ms/step - loss: 0.0203 - val_loss: 0.0202\n",
            "Epoch 16/20\n",
            "219/219 [==============================] - 1s 3ms/step - loss: 0.0200 - val_loss: 0.0199\n",
            "Epoch 17/20\n",
            "219/219 [==============================] - 1s 3ms/step - loss: 0.0197 - val_loss: 0.0195\n",
            "Epoch 18/20\n",
            "219/219 [==============================] - 1s 3ms/step - loss: 0.0193 - val_loss: 0.0192\n",
            "Epoch 19/20\n",
            "219/219 [==============================] - 1s 3ms/step - loss: 0.0191 - val_loss: 0.0189\n",
            "Epoch 20/20\n",
            "219/219 [==============================] - 1s 3ms/step - loss: 0.0188 - val_loss: 0.0187\n"
          ]
        }
      ]
    },
    {
      "cell_type": "markdown",
      "source": [
        "2. RNN을 훈련하여 다음 값 10개를 한 번에 예측하는 방법"
      ],
      "metadata": {
        "id": "9k5mGKyUCnpa"
      }
    },
    {
      "cell_type": "code",
      "source": [
        "np.random.seed(42)\n",
        "tf.random.set_seed(42)\n",
        "\n",
        "model = keras.models.Sequential([\n",
        "    keras.layers.SimpleRNN(20, return_sequences=True, input_shape=[None, 1]),\n",
        "    keras.layers.SimpleRNN(20),\n",
        "    keras.layers.Dense(10)\n",
        "])\n",
        "\n",
        "model.compile(loss=\"mse\", optimizer=\"adam\")\n",
        "history = model.fit(X_train, Y_train, epochs=20,\n",
        "                    validation_data=(X_valid, Y_valid))"
      ],
      "metadata": {
        "id": "RdK6BxduEzWJ",
        "colab": {
          "base_uri": "https://localhost:8080/"
        },
        "outputId": "e0f2c7be-b8e7-4b32-e442-d46b3605236e"
      },
      "execution_count": 32,
      "outputs": [
        {
          "output_type": "stream",
          "name": "stdout",
          "text": [
            "Epoch 1/20\n",
            "219/219 [==============================] - 18s 76ms/step - loss: 0.0669 - val_loss: 0.0317\n",
            "Epoch 2/20\n",
            "219/219 [==============================] - 16s 74ms/step - loss: 0.0265 - val_loss: 0.0200\n",
            "Epoch 3/20\n",
            "219/219 [==============================] - 17s 78ms/step - loss: 0.0183 - val_loss: 0.0160\n",
            "Epoch 4/20\n",
            "219/219 [==============================] - 16s 75ms/step - loss: 0.0155 - val_loss: 0.0144\n",
            "Epoch 5/20\n",
            "219/219 [==============================] - 16s 75ms/step - loss: 0.0139 - val_loss: 0.0118\n",
            "Epoch 6/20\n",
            "219/219 [==============================] - 16s 73ms/step - loss: 0.0128 - val_loss: 0.0112\n",
            "Epoch 7/20\n",
            "219/219 [==============================] - 16s 75ms/step - loss: 0.0122 - val_loss: 0.0110\n",
            "Epoch 8/20\n",
            "219/219 [==============================] - 16s 74ms/step - loss: 0.0115 - val_loss: 0.0103\n",
            "Epoch 9/20\n",
            "219/219 [==============================] - 16s 75ms/step - loss: 0.0111 - val_loss: 0.0112\n",
            "Epoch 10/20\n",
            "219/219 [==============================] - 16s 73ms/step - loss: 0.0110 - val_loss: 0.0100\n",
            "Epoch 11/20\n",
            "219/219 [==============================] - 16s 74ms/step - loss: 0.0108 - val_loss: 0.0103\n",
            "Epoch 12/20\n",
            "219/219 [==============================] - 16s 74ms/step - loss: 0.0102 - val_loss: 0.0096\n",
            "Epoch 13/20\n",
            "219/219 [==============================] - 16s 74ms/step - loss: 0.0104 - val_loss: 0.0100\n",
            "Epoch 14/20\n",
            "219/219 [==============================] - 16s 74ms/step - loss: 0.0098 - val_loss: 0.0103\n",
            "Epoch 15/20\n",
            "219/219 [==============================] - 16s 72ms/step - loss: 0.0095 - val_loss: 0.0107\n",
            "Epoch 16/20\n",
            "219/219 [==============================] - 16s 73ms/step - loss: 0.0092 - val_loss: 0.0089\n",
            "Epoch 17/20\n",
            "219/219 [==============================] - 17s 78ms/step - loss: 0.0094 - val_loss: 0.0111\n",
            "Epoch 18/20\n",
            "219/219 [==============================] - 17s 76ms/step - loss: 0.0095 - val_loss: 0.0094\n",
            "Epoch 19/20\n",
            "219/219 [==============================] - 16s 74ms/step - loss: 0.0093 - val_loss: 0.0083\n",
            "Epoch 20/20\n",
            "219/219 [==============================] - 16s 74ms/step - loss: 0.0094 - val_loss: 0.0085\n"
          ]
        }
      ]
    },
    {
      "cell_type": "code",
      "source": [
        "np.random.seed(43)\n",
        "\n",
        "series = generate_time_series(1, 50 + 10)\n",
        "X_new, Y_new = series[:, :50, :], series[:, -10:, :]\n",
        "Y_pred = model.predict(X_new)[..., np.newaxis]"
      ],
      "metadata": {
        "id": "3_ag8-ajHBHR",
        "colab": {
          "base_uri": "https://localhost:8080/"
        },
        "outputId": "70a90cd1-2ac9-47a7-ea52-7277e50bb748"
      },
      "execution_count": 33,
      "outputs": [
        {
          "output_type": "stream",
          "name": "stdout",
          "text": [
            "1/1 [==============================] - 0s 206ms/step\n"
          ]
        }
      ]
    },
    {
      "cell_type": "code",
      "source": [
        "# 그래프로 예측 확인\n",
        "plot_multiple_forecasts(X_new, Y_new, Y_pred)\n",
        "plt.show()"
      ],
      "metadata": {
        "id": "ub1AzNPTHA_3",
        "colab": {
          "base_uri": "https://localhost:8080/",
          "height": 293
        },
        "outputId": "96ecff2e-6041-43dd-a084-14108896db3d"
      },
      "execution_count": 34,
      "outputs": [
        {
          "output_type": "display_data",
          "data": {
            "text/plain": [
              "<Figure size 432x288 with 1 Axes>"
            ],
            "image/png": "[encoded data removed]"
          },
          "metadata": {
            "needs_background": "light"
          }
        }
      ]
    },
    {
      "cell_type": "markdown",
      "source": [
        "이제 타임 스텝마다 다음 10 스텝을 예측하는 RNN을 만들어 보겠음  \n",
        "즉 타임 스텝 0에서 49까지를 기반으로 타임 스텝 50에서 59를 예측하는 것이 아니라, 타임 스텝 0에서 타임 스텝 1에서 10까지 예측하고 그다음 타임 스텝 1에서 타임 스텝 2에서 11까지 예측함. 마지막 타임 스텝에서는 타임 스텝 50에서 59까지 예측함  \n",
        "\n",
        "- 기존: 마지막 타임 스텝에서만 다음 값 10개를 예측하도록 모델을 훈련(**sequence-to-vector RNN**)  \n",
        "- 지금: 모든 타임 스텝에서 다음 값 10개를 예측하도록 모델을 훈련(**sequence-to-sequence RNN**)"
      ],
      "metadata": {
        "id": "UCLk5vaVHxj1"
      }
    },
    {
      "cell_type": "code",
      "source": [
        "np.random.seed(42)\n",
        "\n",
        "n_steps = 50\n",
        "series = generate_time_series(10000, n_steps + 10)\n",
        "X_train = series[:7000, :n_steps]\n",
        "X_valid = series[7000:9000, :n_steps]\n",
        "X_test = series[9000:, :n_steps]\n",
        "\n",
        "Y = np.empty((10000, n_steps, 10))\n",
        "for step_ahead in range(1, 10+1):\n",
        "    Y[..., step_ahead - 1] = series[..., step_ahead:step_ahead + n_steps, 0]\n",
        "Y_train = Y[:7000]\n",
        "Y_valid = Y[7000:9000]\n",
        "Y_test = Y[9000:]\n",
        "\n",
        "X_train.shape, Y_train.shape"
      ],
      "metadata": {
        "id": "Rtzkq_gjHyD5",
        "colab": {
          "base_uri": "https://localhost:8080/"
        },
        "outputId": "e2d60dd4-2f55-4755-c16c-3fb2086a8f86"
      },
      "execution_count": 35,
      "outputs": [
        {
          "output_type": "execute_result",
          "data": {
            "text/plain": [
              "((7000, 50, 1), (7000, 50, 10))"
            ]
          },
          "metadata": {},
          "execution_count": 35
        }
      ]
    },
    {
      "cell_type": "code",
      "source": [
        "np.random.seed(42)\n",
        "tf.random.set_seed(42)\n",
        "\n",
        "model = keras.models.Sequential([\n",
        "    keras.layers.SimpleRNN(20, return_sequences=True, input_shape=[None,1]),\n",
        "    keras.layers.SimpleRNN(20, return_sequences=True), # 마지막 층도 return_sequences=True 지정해야 함\n",
        "    keras.layers.TimeDistributed(keras.layers.Dense(10)) # 모든 타임 스텝에서 출력을 Dense 층에 적용해줌\n",
        "])\n",
        "\n",
        "# 마지막 타임 스텝의 출력에 대한 MSE만을 계산하는 지표 정의\n",
        "def last_time_step_mse(Y_true, Y_pred):\n",
        "    return keras.metrics.mean_squared_error(Y_true[:, -1], Y_pred[:, -1])\n",
        "\n",
        "model.compile(loss=\"mse\", optimizer=keras.optimizers.Adam(learning_rate=0.01), \n",
        "              metrics=[last_time_step_mse])\n",
        "history = model.fit(X_train, Y_train, epochs=20,\n",
        "                    validation_data=(X_valid, Y_valid))"
      ],
      "metadata": {
        "id": "gm728EsvKxd0",
        "colab": {
          "base_uri": "https://localhost:8080/"
        },
        "outputId": "01986409-1df4-4ac6-8718-728451be0928"
      },
      "execution_count": 36,
      "outputs": [
        {
          "output_type": "stream",
          "name": "stdout",
          "text": [
            "Epoch 1/20\n",
            "219/219 [==============================] - 18s 76ms/step - loss: 0.0508 - last_time_step_mse: 0.0400 - val_loss: 0.0429 - val_last_time_step_mse: 0.0324\n",
            "Epoch 2/20\n",
            "219/219 [==============================] - 17s 77ms/step - loss: 0.0395 - last_time_step_mse: 0.0283 - val_loss: 0.0353 - val_last_time_step_mse: 0.0245\n",
            "Epoch 3/20\n",
            "219/219 [==============================] - 17s 76ms/step - loss: 0.0322 - last_time_step_mse: 0.0211 - val_loss: 0.0290 - val_last_time_step_mse: 0.0168\n",
            "Epoch 4/20\n",
            "219/219 [==============================] - 17s 76ms/step - loss: 0.0296 - last_time_step_mse: 0.0184 - val_loss: 0.0278 - val_last_time_step_mse: 0.0157\n",
            "Epoch 5/20\n",
            "219/219 [==============================] - 16s 75ms/step - loss: 0.0270 - last_time_step_mse: 0.0149 - val_loss: 0.0275 - val_last_time_step_mse: 0.0183\n",
            "Epoch 6/20\n",
            "219/219 [==============================] - 16s 74ms/step - loss: 0.0251 - last_time_step_mse: 0.0125 - val_loss: 0.0216 - val_last_time_step_mse: 0.0081\n",
            "Epoch 7/20\n",
            "219/219 [==============================] - 16s 75ms/step - loss: 0.0230 - last_time_step_mse: 0.0101 - val_loss: 0.0237 - val_last_time_step_mse: 0.0108\n",
            "Epoch 8/20\n",
            "219/219 [==============================] - 17s 76ms/step - loss: 0.0217 - last_time_step_mse: 0.0088 - val_loss: 0.0216 - val_last_time_step_mse: 0.0091\n",
            "Epoch 9/20\n",
            "219/219 [==============================] - 17s 76ms/step - loss: 0.0212 - last_time_step_mse: 0.0084 - val_loss: 0.0208 - val_last_time_step_mse: 0.0092\n",
            "Epoch 10/20\n",
            "219/219 [==============================] - 17s 79ms/step - loss: 0.0210 - last_time_step_mse: 0.0085 - val_loss: 0.0197 - val_last_time_step_mse: 0.0074\n",
            "Epoch 11/20\n",
            "219/219 [==============================] - 16s 74ms/step - loss: 0.0203 - last_time_step_mse: 0.0078 - val_loss: 0.0194 - val_last_time_step_mse: 0.0070\n",
            "Epoch 12/20\n",
            "219/219 [==============================] - 16s 74ms/step - loss: 0.0198 - last_time_step_mse: 0.0075 - val_loss: 0.0186 - val_last_time_step_mse: 0.0066\n",
            "Epoch 13/20\n",
            "219/219 [==============================] - 17s 76ms/step - loss: 0.0193 - last_time_step_mse: 0.0071 - val_loss: 0.0194 - val_last_time_step_mse: 0.0069\n",
            "Epoch 14/20\n",
            "219/219 [==============================] - 17s 75ms/step - loss: 0.0191 - last_time_step_mse: 0.0071 - val_loss: 0.0188 - val_last_time_step_mse: 0.0070\n",
            "Epoch 15/20\n",
            "219/219 [==============================] - 16s 74ms/step - loss: 0.0192 - last_time_step_mse: 0.0072 - val_loss: 0.0185 - val_last_time_step_mse: 0.0074\n",
            "Epoch 16/20\n",
            "219/219 [==============================] - 16s 74ms/step - loss: 0.0188 - last_time_step_mse: 0.0069 - val_loss: 0.0187 - val_last_time_step_mse: 0.0078\n",
            "Epoch 17/20\n",
            "219/219 [==============================] - 16s 75ms/step - loss: 0.0187 - last_time_step_mse: 0.0068 - val_loss: 0.0184 - val_last_time_step_mse: 0.0070\n",
            "Epoch 18/20\n",
            "219/219 [==============================] - 17s 76ms/step - loss: 0.0185 - last_time_step_mse: 0.0067 - val_loss: 0.0179 - val_last_time_step_mse: 0.0067\n",
            "Epoch 19/20\n",
            "219/219 [==============================] - 16s 74ms/step - loss: 0.0185 - last_time_step_mse: 0.0070 - val_loss: 0.0178 - val_last_time_step_mse: 0.0064\n",
            "Epoch 20/20\n",
            "219/219 [==============================] - 16s 75ms/step - loss: 0.0184 - last_time_step_mse: 0.0068 - val_loss: 0.0186 - val_last_time_step_mse: 0.0072\n"
          ]
        }
      ]
    },
    {
      "cell_type": "code",
      "source": [
        "np.random.seed(43)\n",
        "\n",
        "series = generate_time_series(1, 50 + 10)\n",
        "X_new, Y_new = series[:, :50, :], series[:, 50:, :]\n",
        "Y_pred = model.predict(X_new)[:, -1][..., np.newaxis]"
      ],
      "metadata": {
        "id": "FIVPXB8NKzKX",
        "colab": {
          "base_uri": "https://localhost:8080/"
        },
        "outputId": "d5df71aa-b35a-4254-9353-d98f49b4fb25"
      },
      "execution_count": 38,
      "outputs": [
        {
          "output_type": "stream",
          "name": "stdout",
          "text": [
            "1/1 [==============================] - 0s 209ms/step\n"
          ]
        }
      ]
    },
    {
      "cell_type": "code",
      "source": [
        "# 그래프로 예측 확인\n",
        "plot_multiple_forecasts(X_new, Y_new, Y_pred)\n",
        "plt.show()"
      ],
      "metadata": {
        "id": "BUrc_aIsKy3k",
        "colab": {
          "base_uri": "https://localhost:8080/",
          "height": 293
        },
        "outputId": "d8cd9af2-5bfd-4bcc-be54-58e43a0f0e06"
      },
      "execution_count": 39,
      "outputs": [
        {
          "output_type": "display_data",
          "data": {
            "text/plain": [
              "<Figure size 432x288 with 1 Axes>"
            ],
            "image/png": "[encoded data removed]"
          },
          "metadata": {
            "needs_background": "light"
          }
        }
      ]
    },
    {
      "cell_type": "markdown",
      "source": [
        "# 15.4 긴 시퀀스 다루기"
      ],
      "metadata": {
        "id": "uj5V2K07MnQF"
      }
    },
    {
      "cell_type": "markdown",
      "source": [
        "긴 시퀀스로 RNN을 훈련하면 많은 타임 스텝에 걸쳐 실행해야 하므로 펼친 RNN이 매우 깊은 네트워크가 됨  \n",
        "\n",
        "그럼 아래와 같은 문제가 발생함\n",
        "- 불안정한 그레이디언트 문제\n",
        "- 단기 기억 문제(입력의 첫 부분을 조금씩 잊어버리는 현상)"
      ],
      "metadata": {
        "id": "5qRP7K-NMprT"
      }
    },
    {
      "cell_type": "markdown",
      "source": [
        "## 15.4.1 불안정한 그레이디언트 문제와 싸우기"
      ],
      "metadata": {
        "id": "CHq07OWeNCCX"
      }
    },
    {
      "cell_type": "markdown",
      "source": [
        "### 배치 정규화를 사용한 심층 RNN"
      ],
      "metadata": {
        "id": "sxGbHYHyNdKO"
      }
    },
    {
      "cell_type": "code",
      "source": [
        "np.random.seed(42)\n",
        "tf.random.set_seed(42)\n",
        "\n",
        "model = keras.models.Sequential([\n",
        "    keras.layers.SimpleRNN(20, return_sequences=True, input_shape=[None,1]),\n",
        "    keras.layers.BatchNormalization(), # 배치 정규화\n",
        "    keras.layers.SimpleRNN(20, return_sequences=True), \n",
        "    keras.layers.BatchNormalization(), # 배치 정규화\n",
        "    keras.layers.TimeDistributed(keras.layers.Dense(10))\n",
        "])\n",
        "\n",
        "model.compile(loss=\"mse\", optimizer=\"adam\", metrics=[last_time_step_mse])\n",
        "history = model.fit(X_train, Y_train, epochs=20,\n",
        "                    validation_data=(X_valid, Y_valid))"
      ],
      "metadata": {
        "id": "BKrewM0ANgD1",
        "colab": {
          "base_uri": "https://localhost:8080/"
        },
        "outputId": "05ab6312-ab79-4fbc-8937-06399ea23354"
      },
      "execution_count": 40,
      "outputs": [
        {
          "output_type": "stream",
          "name": "stdout",
          "text": [
            "Epoch 1/20\n",
            "219/219 [==============================] - 19s 79ms/step - loss: 0.1929 - last_time_step_mse: 0.1902 - val_loss: 0.0877 - val_last_time_step_mse: 0.0832\n",
            "Epoch 2/20\n",
            "219/219 [==============================] - 17s 76ms/step - loss: 0.0537 - last_time_step_mse: 0.0449 - val_loss: 0.0549 - val_last_time_step_mse: 0.0462\n",
            "Epoch 3/20\n",
            "219/219 [==============================] - 17s 77ms/step - loss: 0.0471 - last_time_step_mse: 0.0375 - val_loss: 0.0451 - val_last_time_step_mse: 0.0358\n",
            "Epoch 4/20\n",
            "219/219 [==============================] - 17s 78ms/step - loss: 0.0437 - last_time_step_mse: 0.0337 - val_loss: 0.0418 - val_last_time_step_mse: 0.0314\n",
            "Epoch 5/20\n",
            "219/219 [==============================] - 17s 78ms/step - loss: 0.0409 - last_time_step_mse: 0.0306 - val_loss: 0.0391 - val_last_time_step_mse: 0.0287\n",
            "Epoch 6/20\n",
            "219/219 [==============================] - 17s 76ms/step - loss: 0.0385 - last_time_step_mse: 0.0275 - val_loss: 0.0379 - val_last_time_step_mse: 0.0273\n",
            "Epoch 7/20\n",
            "219/219 [==============================] - 17s 78ms/step - loss: 0.0366 - last_time_step_mse: 0.0254 - val_loss: 0.0367 - val_last_time_step_mse: 0.0248\n",
            "Epoch 8/20\n",
            "219/219 [==============================] - 17s 76ms/step - loss: 0.0349 - last_time_step_mse: 0.0235 - val_loss: 0.0363 - val_last_time_step_mse: 0.0249\n",
            "Epoch 9/20\n",
            "219/219 [==============================] - 17s 77ms/step - loss: 0.0338 - last_time_step_mse: 0.0221 - val_loss: 0.0332 - val_last_time_step_mse: 0.0208\n",
            "Epoch 10/20\n",
            "219/219 [==============================] - 18s 80ms/step - loss: 0.0329 - last_time_step_mse: 0.0214 - val_loss: 0.0335 - val_last_time_step_mse: 0.0214\n",
            "Epoch 11/20\n",
            "219/219 [==============================] - 17s 78ms/step - loss: 0.0322 - last_time_step_mse: 0.0206 - val_loss: 0.0323 - val_last_time_step_mse: 0.0203\n",
            "Epoch 12/20\n",
            "219/219 [==============================] - 17s 76ms/step - loss: 0.0316 - last_time_step_mse: 0.0198 - val_loss: 0.0333 - val_last_time_step_mse: 0.0210\n",
            "Epoch 13/20\n",
            "219/219 [==============================] - 17s 76ms/step - loss: 0.0310 - last_time_step_mse: 0.0191 - val_loss: 0.0310 - val_last_time_step_mse: 0.0187\n",
            "Epoch 14/20\n",
            "219/219 [==============================] - 17s 79ms/step - loss: 0.0305 - last_time_step_mse: 0.0186 - val_loss: 0.0310 - val_last_time_step_mse: 0.0189\n",
            "Epoch 15/20\n",
            "219/219 [==============================] - 17s 77ms/step - loss: 0.0302 - last_time_step_mse: 0.0182 - val_loss: 0.0298 - val_last_time_step_mse: 0.0178\n",
            "Epoch 16/20\n",
            "219/219 [==============================] - 17s 77ms/step - loss: 0.0296 - last_time_step_mse: 0.0176 - val_loss: 0.0293 - val_last_time_step_mse: 0.0174\n",
            "Epoch 17/20\n",
            "219/219 [==============================] - 17s 77ms/step - loss: 0.0293 - last_time_step_mse: 0.0172 - val_loss: 0.0315 - val_last_time_step_mse: 0.0200\n",
            "Epoch 18/20\n",
            "219/219 [==============================] - 17s 77ms/step - loss: 0.0289 - last_time_step_mse: 0.0168 - val_loss: 0.0295 - val_last_time_step_mse: 0.0174\n",
            "Epoch 19/20\n",
            "219/219 [==============================] - 17s 78ms/step - loss: 0.0286 - last_time_step_mse: 0.0168 - val_loss: 0.0290 - val_last_time_step_mse: 0.0163\n",
            "Epoch 20/20\n",
            "219/219 [==============================] - 17s 78ms/step - loss: 0.0281 - last_time_step_mse: 0.0161 - val_loss: 0.0288 - val_last_time_step_mse: 0.0164\n"
          ]
        }
      ]
    },
    {
      "cell_type": "markdown",
      "source": [
        "### 층 정규화를 사용한 심층 RNN"
      ],
      "metadata": {
        "id": "2ZvZZPSXNg5Y"
      }
    },
    {
      "cell_type": "code",
      "source": [
        "from tensorflow.keras.layers import LayerNormalization\n",
        "\n",
        "# 각 타임 스텝마다 층 정규화를 적용하는 \"사용자 정의 메모리 셀\" 정의\n",
        "class LNSimpleRNNCell(keras.layers.Layer):\n",
        "    def __init__(self, units, activation=\"tanh\", **kwargs):\n",
        "        super().__init__(**kwargs)\n",
        "        self.state_size = units\n",
        "        self.output_size = units\n",
        "        self.simple_rnn_cell = keras.layers.SimpleRNNCell(units, activation=None)\n",
        "        self.layer_norm = LayerNormalization()\n",
        "        self.activation = keras.activations.get(activation)\n",
        "    \n",
        "    def get_initial_state(self, inputs=None, batch_size=None, dtype=None):\n",
        "        if inputs is not None:\n",
        "            batch_size = tf.shape(inputs)[0]\n",
        "            dtype = inputs.dtype\n",
        "        return [tf.zeros([batch_size, self.state_size], dtype=dtype)]\n",
        "    \n",
        "    def call(self, inputs, states):\n",
        "        outputs, new_states = self.simple_rnn_cell(inputs, states)\n",
        "        norm_outputs = self.activation(self.layer_norm(outputs))\n",
        "        return norm_outputs, [norm_outputs]"
      ],
      "metadata": {
        "id": "4f3jSEz-Nf51"
      },
      "execution_count": 42,
      "outputs": []
    },
    {
      "cell_type": "code",
      "source": [
        "np.random.seed(42)\n",
        "tf.random.set_seed(42)\n",
        "\n",
        "model = keras.models.Sequential([\n",
        "    keras.layers.RNN(LNSimpleRNNCell(20), return_sequences=True,\n",
        "                     input_shape=[None, 1]),\n",
        "    keras.layers.RNN(LNSimpleRNNCell(20), return_sequences=True),\n",
        "    keras.layers.TimeDistributed(keras.layers.Dense(10))\n",
        "])\n",
        "\n",
        "model.compile(loss=\"mse\", optimizer=\"adam\", metrics=[last_time_step_mse])\n",
        "history = model.fit(X_train, Y_train, epochs=20,\n",
        "                    validation_data=(X_valid, Y_valid))"
      ],
      "metadata": {
        "id": "HPXQFXBoWUYZ",
        "colab": {
          "base_uri": "https://localhost:8080/"
        },
        "outputId": "6df6541e-c74b-4ffc-b8fa-033259dbb9e6"
      },
      "execution_count": 43,
      "outputs": [
        {
          "output_type": "stream",
          "name": "stdout",
          "text": [
            "Epoch 1/20\n",
            "219/219 [==============================] - 43s 174ms/step - loss: 0.1592 - last_time_step_mse: 0.1551 - val_loss: 0.0735 - val_last_time_step_mse: 0.0652\n",
            "Epoch 2/20\n",
            "219/219 [==============================] - 37s 167ms/step - loss: 0.0643 - last_time_step_mse: 0.0548 - val_loss: 0.0567 - val_last_time_step_mse: 0.0449\n",
            "Epoch 3/20\n",
            "219/219 [==============================] - 37s 167ms/step - loss: 0.0530 - last_time_step_mse: 0.0411 - val_loss: 0.0494 - val_last_time_step_mse: 0.0370\n",
            "Epoch 4/20\n",
            "219/219 [==============================] - 36s 166ms/step - loss: 0.0471 - last_time_step_mse: 0.0352 - val_loss: 0.0450 - val_last_time_step_mse: 0.0337\n",
            "Epoch 5/20\n",
            "219/219 [==============================] - 36s 165ms/step - loss: 0.0431 - last_time_step_mse: 0.0316 - val_loss: 0.0411 - val_last_time_step_mse: 0.0292\n",
            "Epoch 6/20\n",
            "219/219 [==============================] - 36s 166ms/step - loss: 0.0397 - last_time_step_mse: 0.0287 - val_loss: 0.0376 - val_last_time_step_mse: 0.0266\n",
            "Epoch 7/20\n",
            "219/219 [==============================] - 37s 170ms/step - loss: 0.0367 - last_time_step_mse: 0.0255 - val_loss: 0.0347 - val_last_time_step_mse: 0.0224\n",
            "Epoch 8/20\n",
            "219/219 [==============================] - 37s 167ms/step - loss: 0.0340 - last_time_step_mse: 0.0221 - val_loss: 0.0337 - val_last_time_step_mse: 0.0214\n",
            "Epoch 9/20\n",
            "219/219 [==============================] - 36s 164ms/step - loss: 0.0325 - last_time_step_mse: 0.0203 - val_loss: 0.0311 - val_last_time_step_mse: 0.0179\n",
            "Epoch 10/20\n",
            "219/219 [==============================] - 37s 168ms/step - loss: 0.0311 - last_time_step_mse: 0.0185 - val_loss: 0.0299 - val_last_time_step_mse: 0.0166\n",
            "Epoch 11/20\n",
            "219/219 [==============================] - 36s 164ms/step - loss: 0.0302 - last_time_step_mse: 0.0178 - val_loss: 0.0290 - val_last_time_step_mse: 0.0164\n",
            "Epoch 12/20\n",
            "219/219 [==============================] - 37s 167ms/step - loss: 0.0292 - last_time_step_mse: 0.0167 - val_loss: 0.0286 - val_last_time_step_mse: 0.0157\n",
            "Epoch 13/20\n",
            "219/219 [==============================] - 36s 165ms/step - loss: 0.0285 - last_time_step_mse: 0.0159 - val_loss: 0.0275 - val_last_time_step_mse: 0.0145\n",
            "Epoch 14/20\n",
            "219/219 [==============================] - 38s 172ms/step - loss: 0.0280 - last_time_step_mse: 0.0155 - val_loss: 0.0271 - val_last_time_step_mse: 0.0145\n",
            "Epoch 15/20\n",
            "219/219 [==============================] - 36s 166ms/step - loss: 0.0275 - last_time_step_mse: 0.0150 - val_loss: 0.0268 - val_last_time_step_mse: 0.0139\n",
            "Epoch 16/20\n",
            "219/219 [==============================] - 36s 166ms/step - loss: 0.0271 - last_time_step_mse: 0.0148 - val_loss: 0.0264 - val_last_time_step_mse: 0.0138\n",
            "Epoch 17/20\n",
            "219/219 [==============================] - 36s 166ms/step - loss: 0.0264 - last_time_step_mse: 0.0138 - val_loss: 0.0259 - val_last_time_step_mse: 0.0130\n",
            "Epoch 18/20\n",
            "219/219 [==============================] - 36s 165ms/step - loss: 0.0261 - last_time_step_mse: 0.0135 - val_loss: 0.0255 - val_last_time_step_mse: 0.0129\n",
            "Epoch 19/20\n",
            "219/219 [==============================] - 37s 168ms/step - loss: 0.0260 - last_time_step_mse: 0.0136 - val_loss: 0.0253 - val_last_time_step_mse: 0.0126\n",
            "Epoch 20/20\n",
            "219/219 [==============================] - 37s 170ms/step - loss: 0.0256 - last_time_step_mse: 0.0131 - val_loss: 0.0249 - val_last_time_step_mse: 0.0124\n"
          ]
        }
      ]
    },
    {
      "cell_type": "markdown",
      "source": [
        "### 타임 스텝 사이에 드롭아웃을 적용하는 사용자 정의 RNN 클래스"
      ],
      "metadata": {
        "id": "Zq-SESAWbcE1"
      }
    },
    {
      "cell_type": "code",
      "source": [
        "class MyRNN(keras.layers.Layer):\n",
        "    def __init__(self, cell, return_sequences=False, **kwargs):\n",
        "        super().__init__(**kwargs)\n",
        "        self.cell = cell\n",
        "        self.return_sequences = return_sequences\n",
        "        self.get_initial_state = getattr(\n",
        "            self.cell, \"get_initial_state\", self.fallback_initial_state)\n",
        "    \n",
        "    def fallback_initial_state(self, inputs):\n",
        "        batch_size = tf.shape(inputs)[0]\n",
        "        return [tf.zeros([batch_size, self.cell.state_size], dtype=inputs.dtype)]\n",
        "    \n",
        "    @tf.function\n",
        "    def call(self, inputs):\n",
        "        states = self.get_initial_state(inputs)\n",
        "        shape = tf.shape(inputs)\n",
        "        batch_size = shape[0]\n",
        "        n_steps = shape[1]\n",
        "        sequences = tf.TensorArray(\n",
        "            inputs.dtype, size=(n_steps if self.return_sequences else 0))\n",
        "        outputs = tf.zeros(shape=[batch_size, self.cell.output_size], dtype=inputs.dtype)\n",
        "        for step in tf.range(n_steps):\n",
        "            outputs, states = self.cell(inputs[:, step], states)\n",
        "            if self.return_sequences:\n",
        "                sequences = sequences.write(step, outputs)\n",
        "        if self.return_sequences:\n",
        "            return tf.transpose(sequences.stack(), [1, 0, 2])\n",
        "        else:\n",
        "            return outputs"
      ],
      "metadata": {
        "id": "12VALRTbWUUK"
      },
      "execution_count": 44,
      "outputs": []
    },
    {
      "cell_type": "code",
      "source": [
        "np.random.seed(42)\n",
        "tf.random.set_seed(42)\n",
        "\n",
        "model = keras.models.Sequential([\n",
        "    MyRNN(LNSimpleRNNCell(20), return_sequences=True,\n",
        "          input_shape=[None, 1]),\n",
        "    MyRNN(LNSimpleRNNCell(20), return_sequences=True),\n",
        "    keras.layers.TimeDistributed(keras.layers.Dense(10))\n",
        "])\n",
        "\n",
        "model.compile(loss=\"mse\", optimizer=\"adam\", metrics=[last_time_step_mse])\n",
        "history = model.fit(X_train, Y_train, epochs=20,\n",
        "                    validation_data=(X_valid, Y_valid))"
      ],
      "metadata": {
        "id": "41pzDY3YWUO6",
        "colab": {
          "base_uri": "https://localhost:8080/"
        },
        "outputId": "862f3c46-e388-463f-c193-564687b0f70c"
      },
      "execution_count": 45,
      "outputs": [
        {
          "output_type": "stream",
          "name": "stdout",
          "text": [
            "Epoch 1/20\n",
            "219/219 [==============================] - 39s 174ms/step - loss: 0.1579 - last_time_step_mse: 0.1531 - val_loss: 0.0719 - val_last_time_step_mse: 0.0634\n",
            "Epoch 2/20\n",
            "219/219 [==============================] - 38s 174ms/step - loss: 0.0627 - last_time_step_mse: 0.0506 - val_loss: 0.0555 - val_last_time_step_mse: 0.0407\n",
            "Epoch 3/20\n",
            "219/219 [==============================] - 38s 172ms/step - loss: 0.0520 - last_time_step_mse: 0.0387 - val_loss: 0.0506 - val_last_time_step_mse: 0.0358\n",
            "Epoch 4/20\n",
            "219/219 [==============================] - 38s 171ms/step - loss: 0.0458 - last_time_step_mse: 0.0312 - val_loss: 0.0431 - val_last_time_step_mse: 0.0274\n",
            "Epoch 5/20\n",
            "219/219 [==============================] - 37s 169ms/step - loss: 0.0427 - last_time_step_mse: 0.0271 - val_loss: 0.0403 - val_last_time_step_mse: 0.0241\n",
            "Epoch 6/20\n",
            "219/219 [==============================] - 38s 175ms/step - loss: 0.0387 - last_time_step_mse: 0.0229 - val_loss: 0.0368 - val_last_time_step_mse: 0.0208\n",
            "Epoch 7/20\n",
            "219/219 [==============================] - 38s 172ms/step - loss: 0.0398 - last_time_step_mse: 0.0251 - val_loss: 0.0368 - val_last_time_step_mse: 0.0206\n",
            "Epoch 8/20\n",
            "219/219 [==============================] - 37s 169ms/step - loss: 0.0357 - last_time_step_mse: 0.0199 - val_loss: 0.0335 - val_last_time_step_mse: 0.0179\n",
            "Epoch 9/20\n",
            "219/219 [==============================] - 37s 170ms/step - loss: 0.0333 - last_time_step_mse: 0.0180 - val_loss: 0.0323 - val_last_time_step_mse: 0.0174\n",
            "Epoch 10/20\n",
            "219/219 [==============================] - 37s 171ms/step - loss: 0.0323 - last_time_step_mse: 0.0176 - val_loss: 0.0315 - val_last_time_step_mse: 0.0168\n",
            "Epoch 11/20\n",
            "219/219 [==============================] - 37s 171ms/step - loss: 0.0311 - last_time_step_mse: 0.0169 - val_loss: 0.0306 - val_last_time_step_mse: 0.0165\n",
            "Epoch 12/20\n",
            "219/219 [==============================] - 38s 175ms/step - loss: 0.0303 - last_time_step_mse: 0.0163 - val_loss: 0.0296 - val_last_time_step_mse: 0.0154\n",
            "Epoch 13/20\n",
            "219/219 [==============================] - 38s 172ms/step - loss: 0.0296 - last_time_step_mse: 0.0158 - val_loss: 0.0291 - val_last_time_step_mse: 0.0155\n",
            "Epoch 14/20\n",
            "219/219 [==============================] - 38s 172ms/step - loss: 0.0289 - last_time_step_mse: 0.0154 - val_loss: 0.0284 - val_last_time_step_mse: 0.0149\n",
            "Epoch 15/20\n",
            "219/219 [==============================] - 37s 170ms/step - loss: 0.0284 - last_time_step_mse: 0.0152 - val_loss: 0.0280 - val_last_time_step_mse: 0.0146\n",
            "Epoch 16/20\n",
            "219/219 [==============================] - 37s 171ms/step - loss: 0.0280 - last_time_step_mse: 0.0149 - val_loss: 0.0279 - val_last_time_step_mse: 0.0152\n",
            "Epoch 17/20\n",
            "219/219 [==============================] - 37s 169ms/step - loss: 0.0275 - last_time_step_mse: 0.0143 - val_loss: 0.0272 - val_last_time_step_mse: 0.0140\n",
            "Epoch 18/20\n",
            "219/219 [==============================] - 39s 176ms/step - loss: 0.0272 - last_time_step_mse: 0.0142 - val_loss: 0.0270 - val_last_time_step_mse: 0.0136\n",
            "Epoch 19/20\n",
            "219/219 [==============================] - 37s 171ms/step - loss: 0.0269 - last_time_step_mse: 0.0139 - val_loss: 0.0266 - val_last_time_step_mse: 0.0133\n",
            "Epoch 20/20\n",
            "219/219 [==============================] - 37s 170ms/step - loss: 0.0271 - last_time_step_mse: 0.0137 - val_loss: 0.0266 - val_last_time_step_mse: 0.0142\n"
          ]
        }
      ]
    },
    {
      "cell_type": "markdown",
      "source": [
        "## 15.4.2 단기 기억 문제 해결하기"
      ],
      "metadata": {
        "id": "giV1IbYjcB1V"
      }
    },
    {
      "cell_type": "markdown",
      "source": [
        "### LSTM 셀  \n",
        "<LSTM(Long Short-Term Memory, 장단기 메모리)>  \n",
        "중요한 입력을 인식하고(**입력 게이트**의 역할),  \n",
        "장기 상태에 저장하고,  \n",
        "필요한 기간 동안 이를 보존하고(**삭제 게이트**의 역할),  \n",
        "필요할 때마다 이를 추출하기 위해 학습함  \n",
        "\n",
        "이런 이유로 LSTM 셀은 <u>시계열, 긴 텍스트, 오디오 녹음</u> 등에서 장기 패턴을 잡아내는 데 놀라운 성과를 냄  \n",
        "\n",
        "<img src=\"https://drive.google.com/uc?id=1st6P8ir4CKjhTyqpai8KaQ4amh3yuTiA\" height=300, width=600>  \n",
        "\n",
        "- 주 층은 g(t)를 출력하는 층: 현재 입력 x(t)와 이전의 (단기) 상태 h(t-1)을 분석하는 역할 담당  \n",
        "- 세 개의 다른 층은 게이트 제어기\n",
        "    - 삭제 게이트 f(t)는 장기 상태의 어느 부분이 삭제되어야 하는지 제어\n",
        "    - 입력 게이트 i(t)는 어느 부분이 장기 상태에 더해져야 하는지 제어\n",
        "    - 출력 게이트 o(t)는 장기 상태의 어느 부분을 읽어서 이 타임 스텝의 h(t), y(t)로 출력해야 하는지 제어"
      ],
      "metadata": {
        "id": "JhP7yJiPcG2S"
      }
    },
    {
      "cell_type": "code",
      "source": [
        "np.random.seed(42)\n",
        "tf.random.set_seed(42)\n",
        "\n",
        "model = keras.models.Sequential([\n",
        "    keras.layers.LSTM(20, return_sequences=True, input_shape=[None,1]),\n",
        "    keras.layers.LSTM(20, return_sequences=True),\n",
        "    keras.layers.TimeDistributed(keras.layers.Dense(10))\n",
        "])\n",
        "\n",
        "model.compile(loss=\"mse\", optimizer=\"adam\", metrics=[last_time_step_mse])\n",
        "history = model.fit(X_train, Y_train, epochs=20,\n",
        "                    validation_data=(X_valid, Y_valid))"
      ],
      "metadata": {
        "id": "IelxjY1mWUMa",
        "colab": {
          "base_uri": "https://localhost:8080/"
        },
        "outputId": "0e1ffaa0-a403-47de-d41a-db8c8753139f"
      },
      "execution_count": 46,
      "outputs": [
        {
          "output_type": "stream",
          "name": "stdout",
          "text": [
            "Epoch 1/20\n",
            "219/219 [==============================] - 6s 12ms/step - loss: 0.0760 - last_time_step_mse: 0.0615 - val_loss: 0.0554 - val_last_time_step_mse: 0.0364\n",
            "Epoch 2/20\n",
            "219/219 [==============================] - 2s 9ms/step - loss: 0.0480 - last_time_step_mse: 0.0283 - val_loss: 0.0427 - val_last_time_step_mse: 0.0222\n",
            "Epoch 3/20\n",
            "219/219 [==============================] - 2s 8ms/step - loss: 0.0391 - last_time_step_mse: 0.0181 - val_loss: 0.0367 - val_last_time_step_mse: 0.0157\n",
            "Epoch 4/20\n",
            "219/219 [==============================] - 2s 8ms/step - loss: 0.0350 - last_time_step_mse: 0.0151 - val_loss: 0.0334 - val_last_time_step_mse: 0.0132\n",
            "Epoch 5/20\n",
            "219/219 [==============================] - 2s 8ms/step - loss: 0.0325 - last_time_step_mse: 0.0133 - val_loss: 0.0314 - val_last_time_step_mse: 0.0121\n",
            "Epoch 6/20\n",
            "219/219 [==============================] - 2s 8ms/step - loss: 0.0308 - last_time_step_mse: 0.0122 - val_loss: 0.0298 - val_last_time_step_mse: 0.0112\n",
            "Epoch 7/20\n",
            "219/219 [==============================] - 2s 8ms/step - loss: 0.0297 - last_time_step_mse: 0.0118 - val_loss: 0.0291 - val_last_time_step_mse: 0.0120\n",
            "Epoch 8/20\n",
            "219/219 [==============================] - 2s 9ms/step - loss: 0.0286 - last_time_step_mse: 0.0109 - val_loss: 0.0278 - val_last_time_step_mse: 0.0099\n",
            "Epoch 9/20\n",
            "219/219 [==============================] - 2s 8ms/step - loss: 0.0280 - last_time_step_mse: 0.0108 - val_loss: 0.0278 - val_last_time_step_mse: 0.0113\n",
            "Epoch 10/20\n",
            "219/219 [==============================] - 2s 8ms/step - loss: 0.0273 - last_time_step_mse: 0.0105 - val_loss: 0.0268 - val_last_time_step_mse: 0.0101\n",
            "Epoch 11/20\n",
            "219/219 [==============================] - 2s 8ms/step - loss: 0.0269 - last_time_step_mse: 0.0102 - val_loss: 0.0263 - val_last_time_step_mse: 0.0096\n",
            "Epoch 12/20\n",
            "219/219 [==============================] - 2s 8ms/step - loss: 0.0264 - last_time_step_mse: 0.0101 - val_loss: 0.0263 - val_last_time_step_mse: 0.0105\n",
            "Epoch 13/20\n",
            "219/219 [==============================] - 2s 9ms/step - loss: 0.0259 - last_time_step_mse: 0.0097 - val_loss: 0.0257 - val_last_time_step_mse: 0.0100\n",
            "Epoch 14/20\n",
            "219/219 [==============================] - 2s 8ms/step - loss: 0.0257 - last_time_step_mse: 0.0096 - val_loss: 0.0252 - val_last_time_step_mse: 0.0091\n",
            "Epoch 15/20\n",
            "219/219 [==============================] - 2s 9ms/step - loss: 0.0253 - last_time_step_mse: 0.0095 - val_loss: 0.0251 - val_last_time_step_mse: 0.0092\n",
            "Epoch 16/20\n",
            "219/219 [==============================] - 2s 8ms/step - loss: 0.0251 - last_time_step_mse: 0.0095 - val_loss: 0.0248 - val_last_time_step_mse: 0.0089\n",
            "Epoch 17/20\n",
            "219/219 [==============================] - 2s 8ms/step - loss: 0.0248 - last_time_step_mse: 0.0094 - val_loss: 0.0248 - val_last_time_step_mse: 0.0098\n",
            "Epoch 18/20\n",
            "219/219 [==============================] - 2s 8ms/step - loss: 0.0245 - last_time_step_mse: 0.0093 - val_loss: 0.0246 - val_last_time_step_mse: 0.0091\n",
            "Epoch 19/20\n",
            "219/219 [==============================] - 2s 8ms/step - loss: 0.0242 - last_time_step_mse: 0.0091 - val_loss: 0.0238 - val_last_time_step_mse: 0.0085\n",
            "Epoch 20/20\n",
            "219/219 [==============================] - 2s 9ms/step - loss: 0.0239 - last_time_step_mse: 0.0089 - val_loss: 0.0238 - val_last_time_step_mse: 0.0086\n"
          ]
        }
      ]
    },
    {
      "cell_type": "code",
      "source": [
        "model.evaluate(X_valid, Y_valid)"
      ],
      "metadata": {
        "id": "mHwG4b495p48",
        "colab": {
          "base_uri": "https://localhost:8080/"
        },
        "outputId": "bff7c422-3fc5-4ac9-9217-f477c9b03140"
      },
      "execution_count": 47,
      "outputs": [
        {
          "output_type": "stream",
          "name": "stdout",
          "text": [
            "63/63 [==============================] - 0s 4ms/step - loss: 0.0238 - last_time_step_mse: 0.0086\n"
          ]
        },
        {
          "output_type": "execute_result",
          "data": {
            "text/plain": [
              "[0.023788684979081154, 0.008560804650187492]"
            ]
          },
          "metadata": {},
          "execution_count": 47
        }
      ]
    },
    {
      "cell_type": "code",
      "source": [
        "plot_learning_curves(history.history[\"loss\"], history.history[\"val_loss\"])\n",
        "plt.show()"
      ],
      "metadata": {
        "id": "Y3AttZOU5pio",
        "colab": {
          "base_uri": "https://localhost:8080/",
          "height": 291
        },
        "outputId": "f81f4479-55b0-4a08-8948-307f33a92c58"
      },
      "execution_count": 48,
      "outputs": [
        {
          "output_type": "display_data",
          "data": {
            "text/plain": [
              "<Figure size 432x288 with 1 Axes>"
            ],
            "image/png": "[encoded data removed]"
          },
          "metadata": {
            "needs_background": "light"
          }
        }
      ]
    },
    {
      "cell_type": "code",
      "source": [
        "np.random.seed(43)\n",
        "\n",
        "series = generate_time_series(1, 50+10)\n",
        "X_new, Y_new = series[:, :50, :], series[:, 50:, :]\n",
        "Y_pred = model.predict(X_new)[:, -1][..., np.newaxis]"
      ],
      "metadata": {
        "id": "yoobcFia6Uwz",
        "colab": {
          "base_uri": "https://localhost:8080/"
        },
        "outputId": "8902b7ce-f8c6-43f7-ce3d-e6debcdfe885"
      },
      "execution_count": 50,
      "outputs": [
        {
          "output_type": "stream",
          "name": "stdout",
          "text": [
            "1/1 [==============================] - 1s 619ms/step\n"
          ]
        }
      ]
    },
    {
      "cell_type": "code",
      "source": [
        "plot_multiple_forecasts(X_new, Y_new, Y_pred)\n",
        "plt.show()"
      ],
      "metadata": {
        "id": "Te6Xc_ZS6UpK",
        "colab": {
          "base_uri": "https://localhost:8080/",
          "height": 293
        },
        "outputId": "4461007b-f2e6-4f85-cfdf-131cb73f50c0"
      },
      "execution_count": 51,
      "outputs": [
        {
          "output_type": "display_data",
          "data": {
            "text/plain": [
              "<Figure size 432x288 with 1 Axes>"
            ],
            "image/png": "[encoded data removed]"
          },
          "metadata": {
            "needs_background": "light"
          }
        }
      ]
    },
    {
      "cell_type": "markdown",
      "source": [
        "### GRU 셀\n",
        "<GRU(Gated Recurrent Unit, 게이트 순환 유닛)>  \n",
        "LSTM 셀의 간소화된 버전. 간소화된 주요 내용은 다음과 같음  \n",
        "\n",
        "<img src=\"https://drive.google.com/uc?id=1aWYBiq6TGA7pqSguyQKS432s73k66pSE\" height=300, width=600>  \n",
        "- 두 상태 벡터 h(t), c(t)가 하나의 벡터 h(t)로 합쳐졌음\n",
        "- 하나의 게이트 제어기z(t)가 삭제 게이트와 입력 게이트를 모두 제어\n",
        "- 출력 게이트가 없음. 즉 전체 상태 벡터가 매 타임 스텝마다 출력됨. 그러나 이전 상태의 어느 부분이 주 층 g(t)에 노출될지 제어하는 새로운 게이트 제어기 r(t)가 있음"
      ],
      "metadata": {
        "id": "UsOZba9r6VJf"
      }
    },
    {
      "cell_type": "code",
      "source": [
        "np.random.seed(42)\n",
        "tf.random.set_seed(42)\n",
        "\n",
        "model = keras.models.Sequential([\n",
        "    keras.layers.GRU(20, return_sequences=True, input_shape=[None,1]),\n",
        "    keras.layers.GRU(20, return_sequences=True),\n",
        "    keras.layers.TimeDistributed(keras.layers.Dense(10))\n",
        "])\n",
        "\n",
        "model.compile(loss=\"mse\", optimizer=\"adam\", metrics=[last_time_step_mse])\n",
        "history = model.fit(X_train, Y_train, epochs=20,\n",
        "                    validation_data=(X_valid, Y_valid))"
      ],
      "metadata": {
        "id": "JkQdthiO8MDr",
        "colab": {
          "base_uri": "https://localhost:8080/"
        },
        "outputId": "b18a71a6-ea34-4a83-d9db-83d37fbd19e6"
      },
      "execution_count": 52,
      "outputs": [
        {
          "output_type": "stream",
          "name": "stdout",
          "text": [
            "Epoch 1/20\n",
            "219/219 [==============================] - 5s 11ms/step - loss: 0.0738 - last_time_step_mse: 0.0655 - val_loss: 0.0538 - val_last_time_step_mse: 0.0450\n",
            "Epoch 2/20\n",
            "219/219 [==============================] - 2s 8ms/step - loss: 0.0476 - last_time_step_mse: 0.0367 - val_loss: 0.0441 - val_last_time_step_mse: 0.0326\n",
            "Epoch 3/20\n",
            "219/219 [==============================] - 2s 8ms/step - loss: 0.0417 - last_time_step_mse: 0.0301 - val_loss: 0.0390 - val_last_time_step_mse: 0.0275\n",
            "Epoch 4/20\n",
            "219/219 [==============================] - 2s 8ms/step - loss: 0.0368 - last_time_step_mse: 0.0243 - val_loss: 0.0339 - val_last_time_step_mse: 0.0202\n",
            "Epoch 5/20\n",
            "219/219 [==============================] - 2s 10ms/step - loss: 0.0326 - last_time_step_mse: 0.0180 - val_loss: 0.0312 - val_last_time_step_mse: 0.0164\n",
            "Epoch 6/20\n",
            "219/219 [==============================] - 2s 8ms/step - loss: 0.0306 - last_time_step_mse: 0.0155 - val_loss: 0.0294 - val_last_time_step_mse: 0.0143\n",
            "Epoch 7/20\n",
            "219/219 [==============================] - 2s 8ms/step - loss: 0.0295 - last_time_step_mse: 0.0145 - val_loss: 0.0300 - val_last_time_step_mse: 0.0162\n",
            "Epoch 8/20\n",
            "219/219 [==============================] - 2s 8ms/step - loss: 0.0283 - last_time_step_mse: 0.0135 - val_loss: 0.0278 - val_last_time_step_mse: 0.0130\n",
            "Epoch 9/20\n",
            "219/219 [==============================] - 2s 8ms/step - loss: 0.0276 - last_time_step_mse: 0.0130 - val_loss: 0.0273 - val_last_time_step_mse: 0.0127\n",
            "Epoch 10/20\n",
            "219/219 [==============================] - 2s 8ms/step - loss: 0.0269 - last_time_step_mse: 0.0125 - val_loss: 0.0264 - val_last_time_step_mse: 0.0121\n",
            "Epoch 11/20\n",
            "219/219 [==============================] - 2s 8ms/step - loss: 0.0265 - last_time_step_mse: 0.0121 - val_loss: 0.0268 - val_last_time_step_mse: 0.0135\n",
            "Epoch 12/20\n",
            "219/219 [==============================] - 2s 8ms/step - loss: 0.0263 - last_time_step_mse: 0.0123 - val_loss: 0.0261 - val_last_time_step_mse: 0.0123\n",
            "Epoch 13/20\n",
            "219/219 [==============================] - 2s 8ms/step - loss: 0.0258 - last_time_step_mse: 0.0116 - val_loss: 0.0254 - val_last_time_step_mse: 0.0116\n",
            "Epoch 14/20\n",
            "219/219 [==============================] - 2s 8ms/step - loss: 0.0256 - last_time_step_mse: 0.0117 - val_loss: 0.0254 - val_last_time_step_mse: 0.0116\n",
            "Epoch 15/20\n",
            "219/219 [==============================] - 2s 8ms/step - loss: 0.0253 - last_time_step_mse: 0.0114 - val_loss: 0.0250 - val_last_time_step_mse: 0.0112\n",
            "Epoch 16/20\n",
            "219/219 [==============================] - 2s 8ms/step - loss: 0.0251 - last_time_step_mse: 0.0114 - val_loss: 0.0250 - val_last_time_step_mse: 0.0114\n",
            "Epoch 17/20\n",
            "219/219 [==============================] - 2s 8ms/step - loss: 0.0248 - last_time_step_mse: 0.0112 - val_loss: 0.0249 - val_last_time_step_mse: 0.0118\n",
            "Epoch 18/20\n",
            "219/219 [==============================] - 2s 8ms/step - loss: 0.0245 - last_time_step_mse: 0.0110 - val_loss: 0.0244 - val_last_time_step_mse: 0.0108\n",
            "Epoch 19/20\n",
            "219/219 [==============================] - 2s 8ms/step - loss: 0.0243 - last_time_step_mse: 0.0108 - val_loss: 0.0240 - val_last_time_step_mse: 0.0105\n",
            "Epoch 20/20\n",
            "219/219 [==============================] - 2s 8ms/step - loss: 0.0240 - last_time_step_mse: 0.0106 - val_loss: 0.0238 - val_last_time_step_mse: 0.0103\n"
          ]
        }
      ]
    },
    {
      "cell_type": "code",
      "source": [
        "model.evaluate(X_valid, Y_valid)"
      ],
      "metadata": {
        "id": "zSIS8GpF8L-d",
        "colab": {
          "base_uri": "https://localhost:8080/"
        },
        "outputId": "6301c880-7cd2-49b4-91ca-2b45f417d1fa"
      },
      "execution_count": 53,
      "outputs": [
        {
          "output_type": "stream",
          "name": "stdout",
          "text": [
            "63/63 [==============================] - 0s 5ms/step - loss: 0.0238 - last_time_step_mse: 0.0103\n"
          ]
        },
        {
          "output_type": "execute_result",
          "data": {
            "text/plain": [
              "[0.023785501718521118, 0.010262805968523026]"
            ]
          },
          "metadata": {},
          "execution_count": 53
        }
      ]
    },
    {
      "cell_type": "code",
      "source": [
        "plot_learning_curves(history.history[\"loss\"], history.history[\"val_loss\"])\n",
        "plt.show()"
      ],
      "metadata": {
        "id": "XG4zx3G58L5-",
        "colab": {
          "base_uri": "https://localhost:8080/",
          "height": 291
        },
        "outputId": "d6e95142-a7bb-48a6-a866-e8c3f51a1e3c"
      },
      "execution_count": 54,
      "outputs": [
        {
          "output_type": "display_data",
          "data": {
            "text/plain": [
              "<Figure size 432x288 with 1 Axes>"
            ],
            "image/png": "[encoded data removed]"
          },
          "metadata": {
            "needs_background": "light"
          }
        }
      ]
    },
    {
      "cell_type": "code",
      "source": [
        "np.random.seed(43)\n",
        "\n",
        "series = generate_time_series(1, 50+10)\n",
        "X_new, Y_new = series[:, :50, :], series[:, 50:, :]\n",
        "Y_pred = model.predict(X_new)[:, -1][..., np.newaxis]"
      ],
      "metadata": {
        "id": "fvci7DW98L1J",
        "colab": {
          "base_uri": "https://localhost:8080/"
        },
        "outputId": "37dfd432-8edd-4b27-cacf-8d34d8dfeeaf"
      },
      "execution_count": 55,
      "outputs": [
        {
          "output_type": "stream",
          "name": "stderr",
          "text": [
            "WARNING:tensorflow:5 out of the last 571 calls to <function Model.make_predict_function.<locals>.predict_function at 0x7f48f015ee60> triggered tf.function retracing. Tracing is expensive and the excessive number of tracings could be due to (1) creating @tf.function repeatedly in a loop, (2) passing tensors with different shapes, (3) passing Python objects instead of tensors. For (1), please define your @tf.function outside of the loop. For (2), @tf.function has reduce_retracing=True option that can avoid unnecessary retracing. For (3), please refer to https://www.tensorflow.org/guide/function#controlling_retracing and https://www.tensorflow.org/api_docs/python/tf/function for  more details.\n"
          ]
        },
        {
          "output_type": "stream",
          "name": "stdout",
          "text": [
            "1/1 [==============================] - 1s 550ms/step\n"
          ]
        }
      ]
    },
    {
      "cell_type": "code",
      "source": [
        "plot_multiple_forecasts(X_new, Y_new, Y_pred)\n",
        "plt.show()"
      ],
      "metadata": {
        "id": "HImOiohr8Lwp",
        "colab": {
          "base_uri": "https://localhost:8080/",
          "height": 293
        },
        "outputId": "30f319ca-b2fb-4b2a-dcd4-8c5c4c4c67ac"
      },
      "execution_count": 56,
      "outputs": [
        {
          "output_type": "display_data",
          "data": {
            "text/plain": [
              "<Figure size 432x288 with 1 Axes>"
            ],
            "image/png": "[encoded data removed]"
          },
          "metadata": {
            "needs_background": "light"
          }
        }
      ]
    },
    {
      "cell_type": "markdown",
      "source": [
        "### 1D 합성곱 층을 사용해 시퀀스 처리하기"
      ],
      "metadata": {
        "id": "24rVNi828kIG"
      }
    },
    {
      "cell_type": "markdown",
      "source": [
        "```\n",
        "1D conv layer with kernel size 4, stride 2, VALID padding:\n",
        "\n",
        "              |-----2-----|     |-----5---...------|     |-----23----|\n",
        "        |-----1-----|     |-----4-----|   ...      |-----22----|\n",
        "  |-----0----|      |-----3-----|     |---...|-----21----|\n",
        "X: 0  1  2  3  4  5  6  7  8  9  10 11 12 ... 42 43 44 45 46 47 48 49\n",
        "Y: 1  2  3  4  5  6  7  8  9  10 11 12 13 ... 43 44 45 46 47 48 49 50\n",
        "  /10 11 12 13 14 15 16 17 18 19 20 21 22 ... 52 53 54 55 56 57 58 59\n",
        "\n",
        "Output:\n",
        "\n",
        "X:     0/3   2/5   4/7   6/9   8/11 10/13 .../43 42/45 44/47 46/49\n",
        "Y:     4/13  6/15  8/17 10/19 12/21 14/23 .../53 46/55 48/57 50/59\n",
        "```"
      ],
      "metadata": {
        "id": "ST9Yp3_0828l"
      }
    },
    {
      "cell_type": "code",
      "source": [
        "np.random.seed(42)\n",
        "tf.random.set_seed(42)\n",
        "\n",
        "model = keras.models.Sequential([\n",
        "    keras.layers.Conv1D(filters=20, kernel_size=4, strides=2, padding=\"valid\",\n",
        "                        input_shape=[None,1]),\n",
        "    keras.layers.GRU(20, return_sequences=True),\n",
        "    keras.layers.GRU(20, return_sequences=True),\n",
        "    keras.layers.TimeDistributed(keras.layers.Dense(10))\n",
        "])\n",
        "\n",
        "model.compile(loss=\"mse\", optimizer=\"adam\", metrics=[last_time_step_mse])\n",
        "history = model.fit(X_train, Y_train[:, 3::2], epochs=20,\n",
        "                    validation_data=(X_valid, Y_valid[:, 3::2]))"
      ],
      "metadata": {
        "id": "lUddqhPh9R6S",
        "colab": {
          "base_uri": "https://localhost:8080/"
        },
        "outputId": "00955929-b739-4a38-9288-4b5594ead859"
      },
      "execution_count": 57,
      "outputs": [
        {
          "output_type": "stream",
          "name": "stdout",
          "text": [
            "Epoch 1/20\n",
            "219/219 [==============================] - 9s 10ms/step - loss: 0.0681 - last_time_step_mse: 0.0601 - val_loss: 0.0477 - val_last_time_step_mse: 0.0396\n",
            "Epoch 2/20\n",
            "219/219 [==============================] - 1s 7ms/step - loss: 0.0414 - last_time_step_mse: 0.0340 - val_loss: 0.0367 - val_last_time_step_mse: 0.0285\n",
            "Epoch 3/20\n",
            "219/219 [==============================] - 2s 7ms/step - loss: 0.0338 - last_time_step_mse: 0.0257 - val_loss: 0.0307 - val_last_time_step_mse: 0.0218\n",
            "Epoch 4/20\n",
            "219/219 [==============================] - 1s 7ms/step - loss: 0.0282 - last_time_step_mse: 0.0184 - val_loss: 0.0259 - val_last_time_step_mse: 0.0152\n",
            "Epoch 5/20\n",
            "219/219 [==============================] - 1s 7ms/step - loss: 0.0249 - last_time_step_mse: 0.0143 - val_loss: 0.0246 - val_last_time_step_mse: 0.0141\n",
            "Epoch 6/20\n",
            "219/219 [==============================] - 1s 7ms/step - loss: 0.0234 - last_time_step_mse: 0.0125 - val_loss: 0.0227 - val_last_time_step_mse: 0.0115\n",
            "Epoch 7/20\n",
            "219/219 [==============================] - 1s 7ms/step - loss: 0.0226 - last_time_step_mse: 0.0117 - val_loss: 0.0225 - val_last_time_step_mse: 0.0116\n",
            "Epoch 8/20\n",
            "219/219 [==============================] - 1s 7ms/step - loss: 0.0220 - last_time_step_mse: 0.0111 - val_loss: 0.0216 - val_last_time_step_mse: 0.0105\n",
            "Epoch 9/20\n",
            "219/219 [==============================] - 1s 7ms/step - loss: 0.0216 - last_time_step_mse: 0.0108 - val_loss: 0.0217 - val_last_time_step_mse: 0.0109\n",
            "Epoch 10/20\n",
            "219/219 [==============================] - 2s 7ms/step - loss: 0.0213 - last_time_step_mse: 0.0106 - val_loss: 0.0210 - val_last_time_step_mse: 0.0102\n",
            "Epoch 11/20\n",
            "219/219 [==============================] - 2s 7ms/step - loss: 0.0210 - last_time_step_mse: 0.0102 - val_loss: 0.0208 - val_last_time_step_mse: 0.0100\n",
            "Epoch 12/20\n",
            "219/219 [==============================] - 2s 7ms/step - loss: 0.0208 - last_time_step_mse: 0.0102 - val_loss: 0.0208 - val_last_time_step_mse: 0.0102\n",
            "Epoch 13/20\n",
            "219/219 [==============================] - 2s 7ms/step - loss: 0.0205 - last_time_step_mse: 0.0098 - val_loss: 0.0206 - val_last_time_step_mse: 0.0101\n",
            "Epoch 14/20\n",
            "219/219 [==============================] - 1s 7ms/step - loss: 0.0204 - last_time_step_mse: 0.0099 - val_loss: 0.0204 - val_last_time_step_mse: 0.0099\n",
            "Epoch 15/20\n",
            "219/219 [==============================] - 2s 7ms/step - loss: 0.0202 - last_time_step_mse: 0.0097 - val_loss: 0.0199 - val_last_time_step_mse: 0.0093\n",
            "Epoch 16/20\n",
            "219/219 [==============================] - 2s 7ms/step - loss: 0.0200 - last_time_step_mse: 0.0097 - val_loss: 0.0201 - val_last_time_step_mse: 0.0095\n",
            "Epoch 17/20\n",
            "219/219 [==============================] - 1s 7ms/step - loss: 0.0196 - last_time_step_mse: 0.0093 - val_loss: 0.0197 - val_last_time_step_mse: 0.0091\n",
            "Epoch 18/20\n",
            "219/219 [==============================] - 1s 7ms/step - loss: 0.0194 - last_time_step_mse: 0.0090 - val_loss: 0.0192 - val_last_time_step_mse: 0.0086\n",
            "Epoch 19/20\n",
            "219/219 [==============================] - 2s 7ms/step - loss: 0.0190 - last_time_step_mse: 0.0087 - val_loss: 0.0188 - val_last_time_step_mse: 0.0084\n",
            "Epoch 20/20\n",
            "219/219 [==============================] - 1s 7ms/step - loss: 0.0186 - last_time_step_mse: 0.0083 - val_loss: 0.0184 - val_last_time_step_mse: 0.0080\n"
          ]
        }
      ]
    },
    {
      "cell_type": "markdown",
      "source": [
        "### WAVENET  \n",
        "<img src=\"https://drive.google.com/uc?id=1pvk7t9KTCnns-vSygq3zg1o68euZ62Ti\" height=300, width=600>  \n",
        "\n",
        "```\n",
        "C2  /\\ /\\ /\\ /\\ /\\ /\\ /\\ /\\ /\\ /\\ /\\ /\\ /\\.../\\ /\\ /\\ /\\ /\\ /\\\n",
        "   \\  /  \\  /  \\  /  \\  /  \\  /  \\  /  \\       /  \\  /  \\  /  \\\n",
        "     /    \\      /    \\      /    \\                 /    \\\n",
        "C1  /\\ /\\ /\\ /\\ /\\ /\\ /\\ /\\ /\\ /\\ /\\  /\\ /.../\\ /\\ /\\ /\\ /\\ /\\ /\\\n",
        "X: 0  1  2  3  4  5  6  7  8  9  10 11 12 ... 43 44 45 46 47 48 49\n",
        "Y: 1  2  3  4  5  6  7  8  9  10 11 12 13 ... 44 45 46 47 48 49 50\n",
        "  /10 11 12 13 14 15 16 17 18 19 20 21 22 ... 53 54 55 56 57 58 59\n",
        "```"
      ],
      "metadata": {
        "id": "Rh78-dJ_9h2i"
      }
    },
    {
      "cell_type": "code",
      "source": [
        "np.random.seed(42)\n",
        "tf.random.set_seed(42)\n",
        "\n",
        "model = keras.models.Sequential()\n",
        "model.add(keras.layers.InputLayer(input_shape=[None,1]))\n",
        "for rate in (1, 2, 4, 8) * 2:\n",
        "    model.add(keras.layers.Conv1D(filters=20, kernel_size=2, padding=\"causal\",\n",
        "                                  activation=\"relu\", dilation_rate=rate))\n",
        "model.add(keras.layers.Conv1D(filters=10, kernel_size=1))\n",
        "\n",
        "model.compile(loss=\"mse\", optimizer=\"adam\", metrics=[last_time_step_mse])\n",
        "history = model.fit(X_train, Y_train, epochs=20,\n",
        "                    validation_data=(X_valid, Y_valid))"
      ],
      "metadata": {
        "id": "JZDpCPjl9R2U",
        "colab": {
          "base_uri": "https://localhost:8080/"
        },
        "outputId": "f91c4404-e6bf-4d58-d5fc-582e7c2acd62"
      },
      "execution_count": 58,
      "outputs": [
        {
          "output_type": "stream",
          "name": "stdout",
          "text": [
            "Epoch 1/20\n",
            "219/219 [==============================] - 3s 8ms/step - loss: 0.0668 - last_time_step_mse: 0.0543 - val_loss: 0.0365 - val_last_time_step_mse: 0.0230\n",
            "Epoch 2/20\n",
            "219/219 [==============================] - 1s 6ms/step - loss: 0.0323 - last_time_step_mse: 0.0193 - val_loss: 0.0294 - val_last_time_step_mse: 0.0166\n",
            "Epoch 3/20\n",
            "219/219 [==============================] - 1s 6ms/step - loss: 0.0283 - last_time_step_mse: 0.0156 - val_loss: 0.0269 - val_last_time_step_mse: 0.0144\n",
            "Epoch 4/20\n",
            "219/219 [==============================] - 1s 6ms/step - loss: 0.0261 - last_time_step_mse: 0.0136 - val_loss: 0.0254 - val_last_time_step_mse: 0.0130\n",
            "Epoch 5/20\n",
            "219/219 [==============================] - 1s 7ms/step - loss: 0.0248 - last_time_step_mse: 0.0124 - val_loss: 0.0245 - val_last_time_step_mse: 0.0122\n",
            "Epoch 6/20\n",
            "219/219 [==============================] - 1s 6ms/step - loss: 0.0240 - last_time_step_mse: 0.0117 - val_loss: 0.0233 - val_last_time_step_mse: 0.0108\n",
            "Epoch 7/20\n",
            "219/219 [==============================] - 1s 6ms/step - loss: 0.0233 - last_time_step_mse: 0.0112 - val_loss: 0.0230 - val_last_time_step_mse: 0.0109\n",
            "Epoch 8/20\n",
            "219/219 [==============================] - 1s 7ms/step - loss: 0.0227 - last_time_step_mse: 0.0105 - val_loss: 0.0225 - val_last_time_step_mse: 0.0102\n",
            "Epoch 9/20\n",
            "219/219 [==============================] - 1s 6ms/step - loss: 0.0221 - last_time_step_mse: 0.0100 - val_loss: 0.0221 - val_last_time_step_mse: 0.0101\n",
            "Epoch 10/20\n",
            "219/219 [==============================] - 1s 6ms/step - loss: 0.0219 - last_time_step_mse: 0.0099 - val_loss: 0.0212 - val_last_time_step_mse: 0.0090\n",
            "Epoch 11/20\n",
            "219/219 [==============================] - 1s 6ms/step - loss: 0.0213 - last_time_step_mse: 0.0092 - val_loss: 0.0210 - val_last_time_step_mse: 0.0090\n",
            "Epoch 12/20\n",
            "219/219 [==============================] - 1s 6ms/step - loss: 0.0210 - last_time_step_mse: 0.0089 - val_loss: 0.0213 - val_last_time_step_mse: 0.0098\n",
            "Epoch 13/20\n",
            "219/219 [==============================] - 1s 6ms/step - loss: 0.0206 - last_time_step_mse: 0.0086 - val_loss: 0.0201 - val_last_time_step_mse: 0.0080\n",
            "Epoch 14/20\n",
            "219/219 [==============================] - 1s 7ms/step - loss: 0.0203 - last_time_step_mse: 0.0083 - val_loss: 0.0201 - val_last_time_step_mse: 0.0081\n",
            "Epoch 15/20\n",
            "219/219 [==============================] - 1s 7ms/step - loss: 0.0201 - last_time_step_mse: 0.0080 - val_loss: 0.0197 - val_last_time_step_mse: 0.0077\n",
            "Epoch 16/20\n",
            "219/219 [==============================] - 1s 6ms/step - loss: 0.0199 - last_time_step_mse: 0.0080 - val_loss: 0.0197 - val_last_time_step_mse: 0.0079\n",
            "Epoch 17/20\n",
            "219/219 [==============================] - 1s 6ms/step - loss: 0.0196 - last_time_step_mse: 0.0077 - val_loss: 0.0193 - val_last_time_step_mse: 0.0074\n",
            "Epoch 18/20\n",
            "219/219 [==============================] - 1s 6ms/step - loss: 0.0193 - last_time_step_mse: 0.0073 - val_loss: 0.0192 - val_last_time_step_mse: 0.0075\n",
            "Epoch 19/20\n",
            "219/219 [==============================] - 1s 7ms/step - loss: 0.0192 - last_time_step_mse: 0.0073 - val_loss: 0.0187 - val_last_time_step_mse: 0.0069\n",
            "Epoch 20/20\n",
            "219/219 [==============================] - 1s 7ms/step - loss: 0.0190 - last_time_step_mse: 0.0071 - val_loss: 0.0186 - val_last_time_step_mse: 0.0069\n"
          ]
        }
      ]
    },
    {
      "cell_type": "markdown",
      "source": [
        "다음은 논문에 정의된 원본 WaveNet임: ReLU 대신 GatedActivationUnit과 스킵 연결을 사용함  \n",
        "또한 점점 더 시퀀스가 짧아지는 것을 피하기 위해 왼쪽에 0으로 패딩:"
      ],
      "metadata": {
        "id": "jJWUG7nv-9M0"
      }
    },
    {
      "cell_type": "code",
      "source": [
        "class GatedActivationUnit(keras.layers.Layer):\n",
        "    def __init__(self, activation=\"tanh\", **kwargs):\n",
        "        super().__init__(**kwargs)\n",
        "        self.activation = keras.activations.get(activation)\n",
        "    \n",
        "    def call(self, inputs):\n",
        "        n_filters = inputs.shape[-1] // 2\n",
        "        linear_output = self.activation(inputs[..., :n_filters])\n",
        "        gate = keras.activations.sigmoid(inputs[..., :n_filters])\n",
        "        return self.activation(linear_output) * gate"
      ],
      "metadata": {
        "id": "dgN9VQXF9Rym"
      },
      "execution_count": 59,
      "outputs": []
    },
    {
      "cell_type": "code",
      "source": [
        "def wavenet_residual_block(inputs, n_filters, dilation_rate):\n",
        "    z = keras.layers.Conv1D(2 * n_filters, kernel_size=2, padding=\"causal\",\n",
        "                            dilation_rate=dilation_rate)(inputs)\n",
        "    z = GatedActivationUnit()(z)\n",
        "    z = keras.layers.Conv1D(n_filters, kernel_size=1)(z)\n",
        "    return keras.layers.Add()([z, inputs]), z"
      ],
      "metadata": {
        "id": "js2JC9k89Rtx"
      },
      "execution_count": 60,
      "outputs": []
    },
    {
      "cell_type": "code",
      "source": [
        "keras.backend.clear_session()\n",
        "np.random.seed(42)\n",
        "tf.random.set_seed(42)\n",
        "\n",
        "n_layers_per_block = 3 # 10 in the paper\n",
        "n_blocks = 1 # 3 in the paper\n",
        "n_filters = 32 # 128 in the paper\n",
        "n_outputs = 10 # 256 in the paper\n",
        "\n",
        "inputs = keras.layers.Input(shape=[None,1])\n",
        "z = keras.layers.Conv1D(n_filters, kernel_size=2, padding=\"causal\")(inputs)\n",
        "skip_to_last = []\n",
        "for dilation_rate in [2**i for i in range(n_layers_per_block)] * n_blocks:\n",
        "    z, skip = wavenet_residual_block(z, n_filters, dilation_rate)\n",
        "    skip_to_last.append(skip)\n",
        "z = keras.activations.relu(keras.layers.Add()(skip_to_last))\n",
        "z = keras.layers.Conv1D(n_filters, kernel_size=1, activation=\"relu\")(z)\n",
        "Y_proba = keras.layers.Conv1D(n_outputs, kernel_size=1, activation=\"softmax\")(z)\n",
        "\n",
        "model = keras.models.Model(inputs=[inputs], outputs=[Y_proba])"
      ],
      "metadata": {
        "id": "k_K7eNL6_Npq"
      },
      "execution_count": 61,
      "outputs": []
    },
    {
      "cell_type": "code",
      "source": [
        "model.compile(loss=\"mse\", optimizer=\"adam\", metrics=[last_time_step_mse])\n",
        "history = model.fit(X_train, Y_train, epochs=2,\n",
        "                    validation_data=(X_valid, Y_valid))"
      ],
      "metadata": {
        "id": "W_pbq8Xe_NiE",
        "colab": {
          "base_uri": "https://localhost:8080/"
        },
        "outputId": "1301bbdc-9e8e-44e5-c9db-5b1f436cdc1a"
      },
      "execution_count": 62,
      "outputs": [
        {
          "output_type": "stream",
          "name": "stdout",
          "text": [
            "Epoch 1/2\n",
            "219/219 [==============================] - 3s 9ms/step - loss: 0.1302 - last_time_step_mse: 0.1262 - val_loss: 0.1233 - val_last_time_step_mse: 0.1204\n",
            "Epoch 2/2\n",
            "219/219 [==============================] - 2s 8ms/step - loss: 0.1224 - last_time_step_mse: 0.1180 - val_loss: 0.1218 - val_last_time_step_mse: 0.1190\n"
          ]
        }
      ]
    },
    {
      "cell_type": "markdown",
      "source": [
        "# END"
      ],
      "metadata": {
        "id": "p-o9MYOY_Oqw"
      }
    }
  ]
}