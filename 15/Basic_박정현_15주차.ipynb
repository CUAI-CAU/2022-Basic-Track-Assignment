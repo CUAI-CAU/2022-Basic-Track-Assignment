{
  "cells": [
    {
      "cell_type": "markdown",
      "metadata": {
        "id": "jxLMg4zmHqO1"
      },
      "source": [
        "**15장 – RNN과 CNN을 사용해 시퀀스 처리하기**"
      ]
    },
    {
      "cell_type": "markdown",
      "metadata": {
        "id": "uIFwvWBQHqO9"
      },
      "source": [
        "# 설정"
      ]
    },
    {
      "cell_type": "markdown",
      "metadata": {
        "id": "23iUbKCKHqO-"
      },
      "source": [
        "먼저 몇 개의 모듈을 임포트합니다. 맷플롯립 그래프를 인라인으로 출력하도록 만들고 그림을 저장하는 함수를 준비합니다. 또한 파이썬 버전이 3.5 이상인지 확인합니다(파이썬 2.x에서도 동작하지만 곧 지원이 중단되므로 파이썬 3을 사용하는 것이 좋습니다). 사이킷런 버전이 0.20 이상인지와 텐서플로 버전이 2.0 이상인지 확인합니다."
      ]
    },
    {
      "cell_type": "code",
      "execution_count": 1,
      "metadata": {
        "id": "JnKF6vq-HqO_",
        "outputId": "9b98d300-171d-48c2-965e-c8cdf67f97cd",
        "colab": {
          "base_uri": "https://localhost:8080/"
        }
      },
      "outputs": [
        {
          "output_type": "stream",
          "name": "stdout",
          "text": [
            "감지된 GPU가 없습니다. GPU가 없으면 LSTM과 CNN이 매우 느릴 수 있습니다.\n",
            "런타임 > 런타임 유형 변경 메뉴를 선택하고 하드웨어 가속기로 GPU를 고르세요.\n"
          ]
        }
      ],
      "source": [
        "# 파이썬 ≥3.5 필수\n",
        "import sys\n",
        "assert sys.version_info >= (3, 5)\n",
        "\n",
        "# 코랩에서 실행되는 노트북인가요?\n",
        "IS_COLAB = \"google.colab\" in sys.modules\n",
        "\n",
        "# 사이킷런 ≥0.20 필수\n",
        "import sklearn\n",
        "assert sklearn.__version__ >= \"0.20\"\n",
        "\n",
        "# 텐서플로 ≥2.0 필수\n",
        "import tensorflow as tf\n",
        "from tensorflow import keras\n",
        "assert tf.__version__ >= \"2.0\"\n",
        "\n",
        "if not tf.config.list_physical_devices('GPU'):\n",
        "    print(\"감지된 GPU가 없습니다. GPU가 없으면 LSTM과 CNN이 매우 느릴 수 있습니다.\")\n",
        "    if IS_COLAB:\n",
        "        print(\"런타임 > 런타임 유형 변경 메뉴를 선택하고 하드웨어 가속기로 GPU를 고르세요.\")\n",
        "\n",
        "# 공통 모듈 임포트\n",
        "import numpy as np\n",
        "import os\n",
        "from pathlib import Path\n",
        "\n",
        "# 노트북 실행 결과를 동일하게 유지하기 위해\n",
        "np.random.seed(42)\n",
        "tf.random.set_seed(42)\n",
        "\n",
        "# 깔끔한 그래프 출력을 위해\n",
        "%matplotlib inline\n",
        "import matplotlib as mpl\n",
        "import matplotlib.pyplot as plt\n",
        "mpl.rc('axes', labelsize=14)\n",
        "mpl.rc('xtick', labelsize=12)\n",
        "mpl.rc('ytick', labelsize=12)\n",
        "\n",
        "# 그림을 저장할 위치\n",
        "PROJECT_ROOT_DIR = \".\"\n",
        "CHAPTER_ID = \"rnn\"\n",
        "IMAGES_PATH = os.path.join(PROJECT_ROOT_DIR, \"images\", CHAPTER_ID)\n",
        "os.makedirs(IMAGES_PATH, exist_ok=True)\n",
        "\n",
        "def save_fig(fig_id, tight_layout=True, fig_extension=\"png\", resolution=300):\n",
        "    path = os.path.join(IMAGES_PATH, fig_id + \".\" + fig_extension)\n",
        "    print(\"그림 저장\", fig_id)\n",
        "    if tight_layout:\n",
        "        plt.tight_layout()\n",
        "    plt.savefig(path, format=fig_extension, dpi=resolution)"
      ]
    },
    {
      "cell_type": "markdown",
      "metadata": {
        "id": "kVvyhonoHqPD"
      },
      "source": [
        "# 기본적인 RNN"
      ]
    },
    {
      "cell_type": "markdown",
      "source": [
        "RNN(recurrent neural networks) : 순환 신경망  \n",
        "미래를 예측할 수 있다.(어느 정도 까지만)  \n",
        "* RNN에 있는 두 가지 주요 난제\n",
        "1. 불안정한 그레이디언트는 순환 드롭아웃과 순환 층 정규화를 포함한 여러 가지 기법을 사용해 감소시킬 수 있다.\n",
        "1. 제한적인 단기 기억은 LSTM과 GRU 셀을 이용해 확장할 수 있다."
      ],
      "metadata": {
        "id": "v3duzAj-lyfg"
      }
    },
    {
      "cell_type": "markdown",
      "source": [
        "> 입력과 출력 시퀀스\n",
        "1. 시퀀스 투 시퀀스 네트워크\n",
        "1. 시퀀스 투 벡터 네트워크\n",
        "1. 벡터 두 시퀀스 네트워크\n",
        "1. 인코더-디코더"
      ],
      "metadata": {
        "id": "FN_6X3iym7St"
      }
    },
    {
      "cell_type": "markdown",
      "metadata": {
        "id": "EBhVP68KHqPE"
      },
      "source": [
        "## 데이터셋 생성"
      ]
    },
    {
      "cell_type": "code",
      "execution_count": 2,
      "metadata": {
        "id": "5FBCNbZLHqPF"
      },
      "outputs": [],
      "source": [
        "def generate_time_series(batch_size, n_steps):\n",
        "    freq1, freq2, offsets1, offsets2 = np.random.rand(4, batch_size, 1)\n",
        "    time = np.linspace(0, 1, n_steps)\n",
        "    series = 0.5 * np.sin((time - offsets1) * (freq1 * 10 + 10))  #   웨이브 1\n",
        "    series += 0.2 * np.sin((time - offsets2) * (freq2 * 20 + 20)) # + 웨이브 2\n",
        "    series += 0.1 * (np.random.rand(batch_size, n_steps) - 0.5)   # + 잡음\n",
        "    return series[..., np.newaxis].astype(np.float32)"
      ]
    },
    {
      "cell_type": "code",
      "execution_count": 3,
      "metadata": {
        "id": "MpgzgCHuHqPG"
      },
      "outputs": [],
      "source": [
        "np.random.seed(42)\n",
        "\n",
        "n_steps = 50\n",
        "series = generate_time_series(10000, n_steps + 1)\n",
        "X_train, y_train = series[:7000, :n_steps], series[:7000, -1]\n",
        "X_valid, y_valid = series[7000:9000, :n_steps], series[7000:9000, -1]\n",
        "X_test, y_test = series[9000:, :n_steps], series[9000:, -1]"
      ]
    },
    {
      "cell_type": "code",
      "execution_count": 4,
      "metadata": {
        "id": "5BpvuAq3HqPH",
        "outputId": "a31f6562-b9a1-4f29-d83c-7d60ddeba0f3",
        "colab": {
          "base_uri": "https://localhost:8080/"
        }
      },
      "outputs": [
        {
          "output_type": "execute_result",
          "data": {
            "text/plain": [
              "((7000, 50, 1), (7000, 1))"
            ]
          },
          "metadata": {},
          "execution_count": 4
        }
      ],
      "source": [
        "X_train.shape, y_train.shape"
      ]
    },
    {
      "cell_type": "markdown",
      "source": [
        "> * 시계열은 일반적으로 [배치크기, 타임 스텝 수, 차원 수]이다.  \n",
        "* 단변량 시계열은 dimensionality가 1이고, 다변량 시계열은 1이상이다.   \n",
        "* x_train은 7000개의 시계열을 담고있고, 각 시계열마다 하나의 값을 예측해야 하기 때문에 타깃(y_train)은 열 벡터이다."
      ],
      "metadata": {
        "id": "xb1zVFDE_Xsh"
      }
    },
    {
      "cell_type": "code",
      "execution_count": 5,
      "metadata": {
        "id": "2hmPADZrHqPH",
        "outputId": "bfa6771e-51c1-4d5a-e617-1fbd078c2672",
        "colab": {
          "base_uri": "https://localhost:8080/",
          "height": 315
        }
      },
      "outputs": [
        {
          "output_type": "stream",
          "name": "stdout",
          "text": [
            "그림 저장 time_series_plot\n"
          ]
        },
        {
          "output_type": "display_data",
          "data": {
            "text/plain": [
              "<Figure size 864x288 with 3 Axes>"
            ],
            "image/png": "[encoded data removed]"
          },
          "metadata": {
            "needs_background": "light"
          }
        }
      ],
      "source": [
        "def plot_series(series, y=None, y_pred=None, x_label=\"$t$\", y_label=\"$x(t)$\", legend=True):\n",
        "    plt.plot(series, \".-\")\n",
        "    if y is not None:\n",
        "        plt.plot(n_steps, y, \"bo\", label=\"Target\")\n",
        "    if y_pred is not None:\n",
        "        plt.plot(n_steps, y_pred, \"rx\", markersize=10, label=\"Prediction\")\n",
        "    plt.grid(True)\n",
        "    if x_label:\n",
        "        plt.xlabel(x_label, fontsize=16)\n",
        "    if y_label:\n",
        "        plt.ylabel(y_label, fontsize=16, rotation=0)\n",
        "    plt.hlines(0, 0, 100, linewidth=1)\n",
        "    plt.axis([0, n_steps + 1, -1, 1])\n",
        "    if legend and (y or y_pred):\n",
        "        plt.legend(fontsize=14, loc=\"upper left\")\n",
        "\n",
        "fig, axes = plt.subplots(nrows=1, ncols=3, sharey=True, figsize=(12, 4))\n",
        "for col in range(3):\n",
        "    plt.sca(axes[col])\n",
        "    plot_series(X_valid[col, :, 0], y_valid[col, 0],\n",
        "                y_label=(\"$x(t)$\" if col==0 else None),\n",
        "                legend=(col == 0))\n",
        "save_fig(\"time_series_plot\")\n",
        "plt.show()"
      ]
    },
    {
      "cell_type": "markdown",
      "metadata": {
        "id": "eLawUf7wHqPI"
      },
      "source": [
        "**노트**: 이 노트북에서 파란 점은 타깃을 나타내고 빨강 X 표시는 예측을 나타냅니다. 처음에 책에서 파란 X 표시를 타깃에 사용하고 빨강 점을 예측에 사용했다가 나중에 바꾸었습니다. 혼동을 드려 죄송합니다."
      ]
    },
    {
      "cell_type": "markdown",
      "metadata": {
        "id": "-oYsQkJvHqPJ"
      },
      "source": [
        "## 기준 성능 계산하기"
      ]
    },
    {
      "cell_type": "markdown",
      "metadata": {
        "id": "AAdtYzOwHqPJ"
      },
      "source": [
        "1. 단순한 예측 (마지막 관측값을 사용해 예측합니다):"
      ]
    },
    {
      "cell_type": "code",
      "execution_count": 6,
      "metadata": {
        "id": "mJK5imjwHqPJ",
        "outputId": "86584ac7-669e-4c1f-fed3-82bfbf0f0184",
        "colab": {
          "base_uri": "https://localhost:8080/"
        }
      },
      "outputs": [
        {
          "output_type": "execute_result",
          "data": {
            "text/plain": [
              "0.020211367"
            ]
          },
          "metadata": {},
          "execution_count": 6
        }
      ],
      "source": [
        "y_pred = X_valid[:, -1]\n",
        "np.mean(keras.losses.mean_squared_error(y_valid, y_pred))"
      ]
    },
    {
      "cell_type": "code",
      "execution_count": 7,
      "metadata": {
        "id": "2B27abIaHqPK",
        "outputId": "3c057aa1-a2b5-4889-9863-e55db82b70b5",
        "colab": {
          "base_uri": "https://localhost:8080/",
          "height": 293
        }
      },
      "outputs": [
        {
          "output_type": "display_data",
          "data": {
            "text/plain": [
              "<Figure size 432x288 with 1 Axes>"
            ],
            "image/png": "[encoded data removed]"
          },
          "metadata": {
            "needs_background": "light"
          }
        }
      ],
      "source": [
        "plot_series(X_valid[0, :, 0], y_valid[0, 0], y_pred[0, 0])\n",
        "plt.show()"
      ]
    },
    {
      "cell_type": "markdown",
      "metadata": {
        "id": "a0xb73goHqPK"
      },
      "source": [
        "2. 선형 예측(완전 연결 네트워크 사용):  \n",
        "* 입력마다 1차원 특성 배열을 기대하기 때문에 flatten 층을 추가해야 한다."
      ]
    },
    {
      "cell_type": "code",
      "execution_count": 8,
      "metadata": {
        "id": "UN5UbjbOHqPL",
        "outputId": "b784b6b2-befd-4d4d-8563-4510d9b30a55",
        "colab": {
          "base_uri": "https://localhost:8080/"
        }
      },
      "outputs": [
        {
          "output_type": "stream",
          "name": "stdout",
          "text": [
            "Epoch 1/20\n",
            "219/219 [==============================] - 1s 3ms/step - loss: 0.1001 - val_loss: 0.0545\n",
            "Epoch 2/20\n",
            "219/219 [==============================] - 0s 2ms/step - loss: 0.0379 - val_loss: 0.0266\n",
            "Epoch 3/20\n",
            "219/219 [==============================] - 0s 2ms/step - loss: 0.0202 - val_loss: 0.0157\n",
            "Epoch 4/20\n",
            "219/219 [==============================] - 0s 2ms/step - loss: 0.0131 - val_loss: 0.0116\n",
            "Epoch 5/20\n",
            "219/219 [==============================] - 1s 2ms/step - loss: 0.0103 - val_loss: 0.0098\n",
            "Epoch 6/20\n",
            "219/219 [==============================] - 1s 2ms/step - loss: 0.0089 - val_loss: 0.0087\n",
            "Epoch 7/20\n",
            "219/219 [==============================] - 0s 2ms/step - loss: 0.0080 - val_loss: 0.0079\n",
            "Epoch 8/20\n",
            "219/219 [==============================] - 0s 2ms/step - loss: 0.0073 - val_loss: 0.0071\n",
            "Epoch 9/20\n",
            "219/219 [==============================] - 1s 2ms/step - loss: 0.0066 - val_loss: 0.0066\n",
            "Epoch 10/20\n",
            "219/219 [==============================] - 0s 2ms/step - loss: 0.0061 - val_loss: 0.0062\n",
            "Epoch 11/20\n",
            "219/219 [==============================] - 0s 2ms/step - loss: 0.0057 - val_loss: 0.0057\n",
            "Epoch 12/20\n",
            "219/219 [==============================] - 0s 2ms/step - loss: 0.0054 - val_loss: 0.0055\n",
            "Epoch 13/20\n",
            "219/219 [==============================] - 0s 2ms/step - loss: 0.0052 - val_loss: 0.0052\n",
            "Epoch 14/20\n",
            "219/219 [==============================] - 1s 2ms/step - loss: 0.0049 - val_loss: 0.0049\n",
            "Epoch 15/20\n",
            "219/219 [==============================] - 1s 3ms/step - loss: 0.0048 - val_loss: 0.0048\n",
            "Epoch 16/20\n",
            "219/219 [==============================] - 1s 3ms/step - loss: 0.0046 - val_loss: 0.0048\n",
            "Epoch 17/20\n",
            "219/219 [==============================] - 1s 3ms/step - loss: 0.0045 - val_loss: 0.0045\n",
            "Epoch 18/20\n",
            "219/219 [==============================] - 1s 3ms/step - loss: 0.0044 - val_loss: 0.0044\n",
            "Epoch 19/20\n",
            "219/219 [==============================] - 1s 3ms/step - loss: 0.0043 - val_loss: 0.0043\n",
            "Epoch 20/20\n",
            "219/219 [==============================] - 1s 3ms/step - loss: 0.0042 - val_loss: 0.0042\n"
          ]
        }
      ],
      "source": [
        "np.random.seed(42)\n",
        "tf.random.set_seed(42)\n",
        "\n",
        "model = keras.models.Sequential([\n",
        "    keras.layers.Flatten(input_shape=[50, 1]),\n",
        "    keras.layers.Dense(1)\n",
        "])\n",
        "\n",
        "model.compile(loss=\"mse\", optimizer=\"adam\")\n",
        "history = model.fit(X_train, y_train, epochs=20,\n",
        "                    validation_data=(X_valid, y_valid))"
      ]
    },
    {
      "cell_type": "code",
      "execution_count": 9,
      "metadata": {
        "id": "t0erO7nhHqPM",
        "outputId": "89fdbb5a-1f32-47d6-be44-e6a172d30149",
        "colab": {
          "base_uri": "https://localhost:8080/"
        }
      },
      "outputs": [
        {
          "output_type": "stream",
          "name": "stdout",
          "text": [
            "63/63 [==============================] - 0s 1ms/step - loss: 0.0042\n"
          ]
        },
        {
          "output_type": "execute_result",
          "data": {
            "text/plain": [
              "0.004168087150901556"
            ]
          },
          "metadata": {},
          "execution_count": 9
        }
      ],
      "source": [
        "model.evaluate(X_valid, y_valid)"
      ]
    },
    {
      "cell_type": "code",
      "execution_count": 10,
      "metadata": {
        "id": "92wUWaW8HqPM",
        "outputId": "be369ec2-541f-4f91-9776-d012f3d1843d",
        "colab": {
          "base_uri": "https://localhost:8080/",
          "height": 291
        }
      },
      "outputs": [
        {
          "output_type": "display_data",
          "data": {
            "text/plain": [
              "<Figure size 432x288 with 1 Axes>"
            ],
            "image/png": "[encoded data removed]"
          },
          "metadata": {
            "needs_background": "light"
          }
        }
      ],
      "source": [
        "def plot_learning_curves(loss, val_loss):\n",
        "    plt.plot(np.arange(len(loss)) + 0.5, loss, \"b.-\", label=\"Training loss\")\n",
        "    plt.plot(np.arange(len(val_loss)) + 1, val_loss, \"r.-\", label=\"Validation loss\")\n",
        "    plt.gca().xaxis.set_major_locator(mpl.ticker.MaxNLocator(integer=True))\n",
        "    plt.axis([1, 20, 0, 0.05])\n",
        "    plt.legend(fontsize=14)\n",
        "    plt.xlabel(\"Epochs\")\n",
        "    plt.ylabel(\"Loss\")\n",
        "    plt.grid(True)\n",
        "\n",
        "plot_learning_curves(history.history[\"loss\"], history.history[\"val_loss\"])\n",
        "plt.show()"
      ]
    },
    {
      "cell_type": "code",
      "execution_count": 11,
      "metadata": {
        "id": "wHDHjd3iHqPM",
        "outputId": "c2271038-6986-48d1-b116-f6560463af74",
        "colab": {
          "base_uri": "https://localhost:8080/",
          "height": 311
        }
      },
      "outputs": [
        {
          "output_type": "stream",
          "name": "stdout",
          "text": [
            "63/63 [==============================] - 0s 1ms/step\n"
          ]
        },
        {
          "output_type": "display_data",
          "data": {
            "text/plain": [
              "<Figure size 432x288 with 1 Axes>"
            ],
            "image/png": "[encoded data removed]"
          },
          "metadata": {
            "needs_background": "light"
          }
        }
      ],
      "source": [
        "y_pred = model.predict(X_valid)\n",
        "plot_series(X_valid[0, :, 0], y_valid[0, 0], y_pred[0, 0])\n",
        "plt.show()"
      ]
    },
    {
      "cell_type": "markdown",
      "metadata": {
        "id": "CLUM4J-UHqPN"
      },
      "source": [
        "## 간단한 RNN 사용하기"
      ]
    },
    {
      "cell_type": "markdown",
      "source": [
        "> * 순환 신경망은 어떠한 길이의 타임 스텝도 처리할 수 있기에 입력 시퀀스의 길이를 지정할 필요 없다. => 첫 번째 입력차원 None\n",
        "* 기본적으로 SimpleRNN 층은 하이퍼볼릭 탄젠트 활성화 함수 사용\n",
        "* 초기 상태 h(init)를 0으로 설정하고 첫 번째 타임 스탭 x(0)와 함께 하나의 순환 뉴런으로 전달한다.\n",
        "* 뉴런은 이 값의 가중치 합을 계산하고 하이퍼볼릭 탄젠트 활성화 함수를 적용하여 결과를 만들어 첫 번쨰 y0를 출력한다.\n",
        "* 기본 RNN에서는 이 출력이 새로운 상태 h0가 된다.(이 새로운 상태는 다음 입력 값 x(1)과 함께 동일한 순환 뉴런으로 전달된다.)\n",
        "* 이 과정이 마지막 타임 스텝까지 반복되어 마지막 값 y49를 출력한다. \n",
        "* 모든 시계열 과정에 대해 이 과정이 모두 '동시에' 수행된다."
      ],
      "metadata": {
        "id": "lG8ns8MTA7ul"
      }
    },
    {
      "cell_type": "code",
      "execution_count": 12,
      "metadata": {
        "id": "4au0Oqj2HqPO",
        "outputId": "e796326f-9346-4b6f-94d6-3779d1ceb0f2",
        "colab": {
          "base_uri": "https://localhost:8080/"
        }
      },
      "outputs": [
        {
          "output_type": "stream",
          "name": "stdout",
          "text": [
            "Epoch 1/20\n",
            "219/219 [==============================] - 4s 16ms/step - loss: 0.0967 - val_loss: 0.0489\n",
            "Epoch 2/20\n",
            "219/219 [==============================] - 2s 9ms/step - loss: 0.0369 - val_loss: 0.0296\n",
            "Epoch 3/20\n",
            "219/219 [==============================] - 2s 11ms/step - loss: 0.0253 - val_loss: 0.0218\n",
            "Epoch 4/20\n",
            "219/219 [==============================] - 3s 16ms/step - loss: 0.0198 - val_loss: 0.0177\n",
            "Epoch 5/20\n",
            "219/219 [==============================] - 3s 15ms/step - loss: 0.0166 - val_loss: 0.0151\n",
            "Epoch 6/20\n",
            "219/219 [==============================] - 2s 8ms/step - loss: 0.0146 - val_loss: 0.0134\n",
            "Epoch 7/20\n",
            "219/219 [==============================] - 2s 8ms/step - loss: 0.0132 - val_loss: 0.0123\n",
            "Epoch 8/20\n",
            "219/219 [==============================] - 2s 8ms/step - loss: 0.0124 - val_loss: 0.0116\n",
            "Epoch 9/20\n",
            "219/219 [==============================] - 3s 13ms/step - loss: 0.0118 - val_loss: 0.0112\n",
            "Epoch 10/20\n",
            "219/219 [==============================] - 2s 11ms/step - loss: 0.0116 - val_loss: 0.0110\n",
            "Epoch 11/20\n",
            "219/219 [==============================] - 2s 11ms/step - loss: 0.0114 - val_loss: 0.0109\n",
            "Epoch 12/20\n",
            "219/219 [==============================] - 2s 10ms/step - loss: 0.0114 - val_loss: 0.0109\n",
            "Epoch 13/20\n",
            "219/219 [==============================] - 2s 10ms/step - loss: 0.0114 - val_loss: 0.0109\n",
            "Epoch 14/20\n",
            "219/219 [==============================] - 2s 10ms/step - loss: 0.0114 - val_loss: 0.0109\n",
            "Epoch 15/20\n",
            "219/219 [==============================] - 2s 11ms/step - loss: 0.0114 - val_loss: 0.0109\n",
            "Epoch 16/20\n",
            "219/219 [==============================] - 2s 11ms/step - loss: 0.0114 - val_loss: 0.0109\n",
            "Epoch 17/20\n",
            "219/219 [==============================] - 2s 11ms/step - loss: 0.0114 - val_loss: 0.0109\n",
            "Epoch 18/20\n",
            "219/219 [==============================] - 3s 11ms/step - loss: 0.0114 - val_loss: 0.0109\n",
            "Epoch 19/20\n",
            "219/219 [==============================] - 3s 12ms/step - loss: 0.0114 - val_loss: 0.0109\n",
            "Epoch 20/20\n",
            "219/219 [==============================] - 2s 10ms/step - loss: 0.0114 - val_loss: 0.0109\n"
          ]
        }
      ],
      "source": [
        "np.random.seed(42)\n",
        "tf.random.set_seed(42)\n",
        "\n",
        "model = keras.models.Sequential([\n",
        "    keras.layers.SimpleRNN(1, input_shape=[None, 1])\n",
        "])\n",
        "\n",
        "optimizer = keras.optimizers.Adam(learning_rate=0.005)\n",
        "model.compile(loss=\"mse\", optimizer=optimizer)\n",
        "history = model.fit(X_train, y_train, epochs=20,\n",
        "                    validation_data=(X_valid, y_valid))"
      ]
    },
    {
      "cell_type": "markdown",
      "source": [
        "> 0.0114에 달하는 MSE\n",
        "* 순진한 예측보다는 낫지만 간단한 선형 모델을 앞지르지는 못한다.\n",
        "* 선형 모델은 각 뉴런에 대해 입력(타임 스텝)마다 하나의 파라미터를 가지고 편향이 있다.(총 51개의 파라미터)\n",
        "* 반면 기본 RNN의 순환 뉴런은 입력과 은닉 상태 차원마나 하나의 파라미터를 가지고 편향이 있다.(총 3개의 파라미터)"
      ],
      "metadata": {
        "id": "wOBCrR23CKK4"
      }
    },
    {
      "cell_type": "code",
      "execution_count": 13,
      "metadata": {
        "id": "bJUyz9ZdHqPP",
        "outputId": "7ed73699-4686-470d-dd8c-52cbed6d3756",
        "colab": {
          "base_uri": "https://localhost:8080/"
        }
      },
      "outputs": [
        {
          "output_type": "stream",
          "name": "stdout",
          "text": [
            "63/63 [==============================] - 0s 3ms/step - loss: 0.0109\n"
          ]
        },
        {
          "output_type": "execute_result",
          "data": {
            "text/plain": [
              "0.010881561785936356"
            ]
          },
          "metadata": {},
          "execution_count": 13
        }
      ],
      "source": [
        "model.evaluate(X_valid, y_valid)"
      ]
    },
    {
      "cell_type": "code",
      "execution_count": null,
      "metadata": {
        "id": "6A79b_EkHqPQ",
        "outputId": "64160fcc-6f0e-4416-ef46-ddd58839f3ac"
      },
      "outputs": [
        {
          "data": {
            "image/png": "[encoded data removed]",
            "text/plain": [
              "<Figure size 432x288 with 1 Axes>"
            ]
          },
          "metadata": {
            "needs_background": "light"
          },
          "output_type": "display_data"
        }
      ],
      "source": [
        "plot_learning_curves(history.history[\"loss\"], history.history[\"val_loss\"])\n",
        "plt.show()"
      ]
    },
    {
      "cell_type": "code",
      "execution_count": null,
      "metadata": {
        "id": "INF8w8DNHqPQ",
        "outputId": "93953cbb-3b5c-44a5-c4da-b2a568ef119f"
      },
      "outputs": [
        {
          "data": {
            "image/png": "[encoded data removed]",
            "text/plain": [
              "<Figure size 432x288 with 1 Axes>"
            ]
          },
          "metadata": {
            "needs_background": "light"
          },
          "output_type": "display_data"
        }
      ],
      "source": [
        "y_pred = model.predict(X_valid)\n",
        "plot_series(X_valid[0, :, 0], y_valid[0, 0], y_pred[0, 0])\n",
        "plt.show()"
      ]
    },
    {
      "cell_type": "markdown",
      "metadata": {
        "id": "oDV-2gbpHqPR"
      },
      "source": [
        "## 심층 RNN"
      ]
    },
    {
      "cell_type": "markdown",
      "source": [
        "> * 순환층을 쌓으면 심층 RNN이 된다.\n",
        "* 밑의 예에서는 세 개의 SimpleRNN 층을 사용하지만, LSTM 층이나 GRU 층 같은 다른 종류의 순환 층을 추가할 수 있다."
      ],
      "metadata": {
        "id": "CcSA8QBSDS11"
      }
    },
    {
      "cell_type": "code",
      "execution_count": 14,
      "metadata": {
        "id": "sTFF0LG1HqPS",
        "outputId": "5b097cd7-4503-49ca-b8e1-62590731e6b9",
        "colab": {
          "base_uri": "https://localhost:8080/"
        }
      },
      "outputs": [
        {
          "output_type": "stream",
          "name": "stdout",
          "text": [
            "Epoch 1/20\n",
            "219/219 [==============================] - 9s 30ms/step - loss: 0.0492 - val_loss: 0.0090\n",
            "Epoch 2/20\n",
            "219/219 [==============================] - 7s 34ms/step - loss: 0.0070 - val_loss: 0.0065\n",
            "Epoch 3/20\n",
            "219/219 [==============================] - 9s 40ms/step - loss: 0.0053 - val_loss: 0.0045\n",
            "Epoch 4/20\n",
            "219/219 [==============================] - 8s 38ms/step - loss: 0.0045 - val_loss: 0.0040\n",
            "Epoch 5/20\n",
            "219/219 [==============================] - 9s 39ms/step - loss: 0.0042 - val_loss: 0.0040\n",
            "Epoch 6/20\n",
            "219/219 [==============================] - 10s 44ms/step - loss: 0.0038 - val_loss: 0.0036\n",
            "Epoch 7/20\n",
            "219/219 [==============================] - 6s 29ms/step - loss: 0.0038 - val_loss: 0.0040\n",
            "Epoch 8/20\n",
            "219/219 [==============================] - 8s 39ms/step - loss: 0.0037 - val_loss: 0.0033\n",
            "Epoch 9/20\n",
            "219/219 [==============================] - 8s 35ms/step - loss: 0.0036 - val_loss: 0.0032\n",
            "Epoch 10/20\n",
            "219/219 [==============================] - 8s 38ms/step - loss: 0.0035 - val_loss: 0.0031\n",
            "Epoch 11/20\n",
            "219/219 [==============================] - 8s 35ms/step - loss: 0.0034 - val_loss: 0.0030\n",
            "Epoch 12/20\n",
            "219/219 [==============================] - 9s 41ms/step - loss: 0.0033 - val_loss: 0.0031\n",
            "Epoch 13/20\n",
            "219/219 [==============================] - 9s 40ms/step - loss: 0.0034 - val_loss: 0.0031\n",
            "Epoch 14/20\n",
            "219/219 [==============================] - 7s 30ms/step - loss: 0.0033 - val_loss: 0.0032\n",
            "Epoch 15/20\n",
            "219/219 [==============================] - 6s 29ms/step - loss: 0.0034 - val_loss: 0.0033\n",
            "Epoch 16/20\n",
            "219/219 [==============================] - 6s 29ms/step - loss: 0.0035 - val_loss: 0.0030\n",
            "Epoch 17/20\n",
            "219/219 [==============================] - 6s 29ms/step - loss: 0.0033 - val_loss: 0.0029\n",
            "Epoch 18/20\n",
            "219/219 [==============================] - 6s 29ms/step - loss: 0.0033 - val_loss: 0.0030\n",
            "Epoch 19/20\n",
            "219/219 [==============================] - 6s 29ms/step - loss: 0.0032 - val_loss: 0.0029\n",
            "Epoch 20/20\n",
            "219/219 [==============================] - 6s 29ms/step - loss: 0.0032 - val_loss: 0.0029\n"
          ]
        }
      ],
      "source": [
        "np.random.seed(42)\n",
        "tf.random.set_seed(42)\n",
        "\n",
        "model = keras.models.Sequential([\n",
        "    keras.layers.SimpleRNN(20, return_sequences=True, input_shape=[None, 1]),\n",
        "    keras.layers.SimpleRNN(20, return_sequences=True),\n",
        "    keras.layers.SimpleRNN(1)\n",
        "])\n",
        "\n",
        "model.compile(loss=\"mse\", optimizer=\"adam\")\n",
        "history = model.fit(X_train, y_train, epochs=20,\n",
        "                    validation_data=(X_valid, y_valid))"
      ]
    },
    {
      "cell_type": "markdown",
      "source": [
        "> * 모든 순환 층에서 return sequenced = True로 설정해야 한다.(마지막 출력만 관심 대상이면 마지막 층에서는 설정하지 않는다.)\n",
        "* 그렇지 않으면 모든 타임 스텝에 대한 출력을 담은 3D 배열이 아니라 마지막 타임 스텝의 출력만 담은 2D 배열이 출력되고 다음 순환 층이 3D 형태로 시퀀스를 받기 때문에 작동하지 못한다."
      ],
      "metadata": {
        "id": "gBwo8vQSDmsQ"
      }
    },
    {
      "cell_type": "code",
      "execution_count": 15,
      "metadata": {
        "id": "AmEmtIpmHqPS",
        "outputId": "800fc57d-aa7d-4431-ca8b-ded7d5965160",
        "colab": {
          "base_uri": "https://localhost:8080/"
        }
      },
      "outputs": [
        {
          "output_type": "stream",
          "name": "stdout",
          "text": [
            "63/63 [==============================] - 1s 8ms/step - loss: 0.0029\n"
          ]
        },
        {
          "output_type": "execute_result",
          "data": {
            "text/plain": [
              "0.002910564886406064"
            ]
          },
          "metadata": {},
          "execution_count": 15
        }
      ],
      "source": [
        "model.evaluate(X_valid, y_valid)"
      ]
    },
    {
      "cell_type": "code",
      "execution_count": 16,
      "metadata": {
        "id": "nJ2IbqBqHqPT",
        "outputId": "185c40eb-af8a-443b-9b6e-c83f27f67208",
        "colab": {
          "base_uri": "https://localhost:8080/",
          "height": 291
        }
      },
      "outputs": [
        {
          "output_type": "display_data",
          "data": {
            "text/plain": [
              "<Figure size 432x288 with 1 Axes>"
            ],
            "image/png": "[encoded data removed]"
          },
          "metadata": {
            "needs_background": "light"
          }
        }
      ],
      "source": [
        "plot_learning_curves(history.history[\"loss\"], history.history[\"val_loss\"])\n",
        "plt.show()"
      ]
    },
    {
      "cell_type": "code",
      "execution_count": 17,
      "metadata": {
        "id": "TYM-78N2HqPT",
        "outputId": "fc802855-a013-49e7-ad1b-5fb6e6e577a1",
        "colab": {
          "base_uri": "https://localhost:8080/",
          "height": 311
        }
      },
      "outputs": [
        {
          "output_type": "stream",
          "name": "stdout",
          "text": [
            "63/63 [==============================] - 1s 8ms/step\n"
          ]
        },
        {
          "output_type": "display_data",
          "data": {
            "text/plain": [
              "<Figure size 432x288 with 1 Axes>"
            ],
            "image/png": "[encoded data removed]"
          },
          "metadata": {
            "needs_background": "light"
          }
        }
      ],
      "source": [
        "y_pred = model.predict(X_valid)\n",
        "plot_series(X_valid[0, :, 0], y_valid[0, 0], y_pred[0, 0])\n",
        "plt.show()"
      ]
    },
    {
      "cell_type": "markdown",
      "metadata": {
        "id": "TnRzGZ-jHqPU"
      },
      "source": [
        "두 번째 `SimpleRNN` 층은 마지막 출력만 반환합니다:"
      ]
    },
    {
      "cell_type": "markdown",
      "source": [
        "> * 이 RNN은 한 타임 스텝에서 다음 타임 스텝으로 필요한 모든 정보를 나르기 위해 다른 순환 층의 은닉 상태를 주로 사용한다.\n",
        "* 마지막 층의 은닉 상태는 크게 필요하지 않다. 또한 SimpleRNN층은 기본적으로 tanh 활성화 함수를 사용하기 때문에 예측된 값이 -1과 1 사이 범위에 놓인다.\n",
        "* 따라서 출력층을 Dense 층으로 바꾸는 경우가 많다.(더 빠르면서도 정확도는 비슷)\n",
        "* 이렇게 바꾸면 (이제는 마지막이 된) 두 번째 순환 층에서 return_sequences = True를 제거한다."
      ],
      "metadata": {
        "id": "222bgYcdEeYu"
      }
    },
    {
      "cell_type": "code",
      "execution_count": 18,
      "metadata": {
        "id": "-J1e6J_yHqPU",
        "outputId": "1f5b39c3-276c-40b3-d534-832f3b3274fe",
        "colab": {
          "base_uri": "https://localhost:8080/"
        }
      },
      "outputs": [
        {
          "output_type": "stream",
          "name": "stdout",
          "text": [
            "Epoch 1/20\n",
            "219/219 [==============================] - 7s 23ms/step - loss: 0.0232 - val_loss: 0.0052\n",
            "Epoch 2/20\n",
            "219/219 [==============================] - 5s 21ms/step - loss: 0.0043 - val_loss: 0.0036\n",
            "Epoch 3/20\n",
            "219/219 [==============================] - 5s 21ms/step - loss: 0.0035 - val_loss: 0.0031\n",
            "Epoch 4/20\n",
            "219/219 [==============================] - 5s 22ms/step - loss: 0.0033 - val_loss: 0.0033\n",
            "Epoch 5/20\n",
            "219/219 [==============================] - 5s 24ms/step - loss: 0.0033 - val_loss: 0.0034\n",
            "Epoch 6/20\n",
            "219/219 [==============================] - 6s 29ms/step - loss: 0.0031 - val_loss: 0.0029\n",
            "Epoch 7/20\n",
            "219/219 [==============================] - 5s 21ms/step - loss: 0.0031 - val_loss: 0.0034\n",
            "Epoch 8/20\n",
            "219/219 [==============================] - 5s 21ms/step - loss: 0.0032 - val_loss: 0.0028\n",
            "Epoch 9/20\n",
            "219/219 [==============================] - 7s 33ms/step - loss: 0.0031 - val_loss: 0.0028\n",
            "Epoch 10/20\n",
            "219/219 [==============================] - 6s 26ms/step - loss: 0.0030 - val_loss: 0.0029\n",
            "Epoch 11/20\n",
            "219/219 [==============================] - 6s 26ms/step - loss: 0.0029 - val_loss: 0.0027\n",
            "Epoch 12/20\n",
            "219/219 [==============================] - 7s 32ms/step - loss: 0.0030 - val_loss: 0.0031\n",
            "Epoch 13/20\n",
            "219/219 [==============================] - 6s 25ms/step - loss: 0.0030 - val_loss: 0.0031\n",
            "Epoch 14/20\n",
            "219/219 [==============================] - 6s 27ms/step - loss: 0.0030 - val_loss: 0.0030\n",
            "Epoch 15/20\n",
            "219/219 [==============================] - 6s 30ms/step - loss: 0.0030 - val_loss: 0.0030\n",
            "Epoch 16/20\n",
            "219/219 [==============================] - 5s 21ms/step - loss: 0.0030 - val_loss: 0.0027\n",
            "Epoch 17/20\n",
            "219/219 [==============================] - 4s 20ms/step - loss: 0.0029 - val_loss: 0.0028\n",
            "Epoch 18/20\n",
            "219/219 [==============================] - 5s 21ms/step - loss: 0.0030 - val_loss: 0.0027\n",
            "Epoch 19/20\n",
            "219/219 [==============================] - 5s 21ms/step - loss: 0.0029 - val_loss: 0.0028\n",
            "Epoch 20/20\n",
            "219/219 [==============================] - 5s 21ms/step - loss: 0.0029 - val_loss: 0.0026\n"
          ]
        }
      ],
      "source": [
        "np.random.seed(42)\n",
        "tf.random.set_seed(42)\n",
        "\n",
        "model = keras.models.Sequential([\n",
        "    keras.layers.SimpleRNN(20, return_sequences=True, input_shape=[None, 1]),\n",
        "    keras.layers.SimpleRNN(20),     ## return_sequences = True 제거\n",
        "    keras.layers.Dense(1)       ## 출력층을 Dense 층으로 바꿈\n",
        "])\n",
        "\n",
        "model.compile(loss=\"mse\", optimizer=\"adam\")\n",
        "history = model.fit(X_train, y_train, epochs=20,\n",
        "                    validation_data=(X_valid, y_valid))"
      ]
    },
    {
      "cell_type": "code",
      "execution_count": null,
      "metadata": {
        "id": "2qVJSz5tHqPU",
        "outputId": "5c2ec302-186a-4bf3-808b-8a03a1238a34"
      },
      "outputs": [
        {
          "name": "stdout",
          "output_type": "stream",
          "text": [
            "63/63 [==============================] - 0s 3ms/step - loss: 0.0026\n"
          ]
        },
        {
          "data": {
            "text/plain": [
              "0.002623623702675104"
            ]
          },
          "execution_count": 21,
          "metadata": {},
          "output_type": "execute_result"
        }
      ],
      "source": [
        "model.evaluate(X_valid, y_valid)"
      ]
    },
    {
      "cell_type": "code",
      "execution_count": null,
      "metadata": {
        "id": "vAiBFAfaHqPV",
        "outputId": "070d87e6-4865-43d9-fb7e-c5b60f2422c4"
      },
      "outputs": [
        {
          "data": {
            "image/png": "[encoded data removed]",
            "text/plain": [
              "<Figure size 432x288 with 1 Axes>"
            ]
          },
          "metadata": {
            "needs_background": "light"
          },
          "output_type": "display_data"
        }
      ],
      "source": [
        "plot_learning_curves(history.history[\"loss\"], history.history[\"val_loss\"])\n",
        "plt.show()"
      ]
    },
    {
      "cell_type": "code",
      "execution_count": null,
      "metadata": {
        "id": "j0kJixOoHqPV",
        "outputId": "43bd3e06-e444-4e1e-e226-f84d4637b5c3"
      },
      "outputs": [
        {
          "data": {
            "image/png": "[encoded data removed]",
            "text/plain": [
              "<Figure size 432x288 with 1 Axes>"
            ]
          },
          "metadata": {
            "needs_background": "light"
          },
          "output_type": "display_data"
        }
      ],
      "source": [
        "y_pred = model.predict(X_valid)\n",
        "plot_series(X_valid[0, :, 0], y_valid[0, 0], y_pred[0, 0])\n",
        "plt.show()"
      ]
    },
    {
      "cell_type": "markdown",
      "metadata": {
        "id": "a8MYCNP9HqPV"
      },
      "source": [
        "## 여러 타임 스텝 앞을 예측하기"
      ]
    },
    {
      "cell_type": "markdown",
      "source": [
        "1. 이미 훈련된 모델을 사용하여 다음 값을 예측한 다음 이 값을 입력으로 추가하기(예측된 값이 실제로 발견된 것처럼 다룸)\n",
        "> * 다음 스텝에 대한 예측은 보통 더 미래의 타임 스텝에 대한 예측보다 정확(미래의 타임 스텝은 오차가 누적될 수 있음)"
      ],
      "metadata": {
        "id": "LmEigyGzF0s6"
      }
    },
    {
      "cell_type": "code",
      "execution_count": 19,
      "metadata": {
        "id": "L0lN1KDBHqPV",
        "colab": {
          "base_uri": "https://localhost:8080/"
        },
        "outputId": "c260d560-3224-4ab7-ef51-eb637e24059e"
      },
      "outputs": [
        {
          "output_type": "stream",
          "name": "stdout",
          "text": [
            "1/1 [==============================] - 0s 322ms/step\n",
            "1/1 [==============================] - 0s 28ms/step\n",
            "1/1 [==============================] - 0s 27ms/step\n",
            "1/1 [==============================] - 0s 23ms/step\n",
            "1/1 [==============================] - 0s 43ms/step\n",
            "1/1 [==============================] - 0s 34ms/step\n",
            "1/1 [==============================] - 0s 33ms/step\n",
            "1/1 [==============================] - 0s 36ms/step\n",
            "1/1 [==============================] - 0s 36ms/step\n",
            "1/1 [==============================] - 0s 38ms/step\n"
          ]
        }
      ],
      "source": [
        "np.random.seed(43) # 42는 훈련 세트에 있는 첫 번째 시리즈를 반환하기 때문에 다른 값으로 지정합니다\n",
        "\n",
        "series = generate_time_series(1, n_steps + 10)\n",
        "X_new, Y_new = series[:, :n_steps], series[:, n_steps:]\n",
        "X = X_new\n",
        "for step_ahead in range(10):\n",
        "    y_pred_one = model.predict(X[:, step_ahead:])[:, np.newaxis, :]\n",
        "    X = np.concatenate([X, y_pred_one], axis=1)\n",
        "\n",
        "Y_pred = X[:, n_steps:]"
      ]
    },
    {
      "cell_type": "code",
      "execution_count": 21,
      "metadata": {
        "id": "1Fex0V6CHqPW",
        "outputId": "f9b6388e-9332-4ec7-aaaf-69315a2385fc",
        "colab": {
          "base_uri": "https://localhost:8080/"
        }
      },
      "outputs": [
        {
          "output_type": "execute_result",
          "data": {
            "text/plain": [
              "(1, 10, 1)"
            ]
          },
          "metadata": {},
          "execution_count": 21
        }
      ],
      "source": [
        "# [배치크기, 타임스텝 수, 차원 수]\n",
        "Y_pred.shape"
      ]
    },
    {
      "cell_type": "code",
      "execution_count": 22,
      "metadata": {
        "id": "-p3B9RpFHqPW",
        "outputId": "5311a8fe-f36a-41f7-e2d6-9a665dc6f7f1",
        "colab": {
          "base_uri": "https://localhost:8080/",
          "height": 315
        }
      },
      "outputs": [
        {
          "output_type": "stream",
          "name": "stdout",
          "text": [
            "그림 저장 forecast_ahead_plot\n"
          ]
        },
        {
          "output_type": "display_data",
          "data": {
            "text/plain": [
              "<Figure size 432x288 with 1 Axes>"
            ],
            "image/png": "[encoded data removed]"
          },
          "metadata": {
            "needs_background": "light"
          }
        }
      ],
      "source": [
        "def plot_multiple_forecasts(X, Y, Y_pred):\n",
        "    n_steps = X.shape[1]\n",
        "    ahead = Y.shape[1]\n",
        "    plot_series(X[0, :, 0])\n",
        "    plt.plot(np.arange(n_steps, n_steps + ahead), Y[0, :, 0], \"bo-\", label=\"Actual\")\n",
        "    plt.plot(np.arange(n_steps, n_steps + ahead), Y_pred[0, :, 0], \"rx-\", label=\"Forecast\", markersize=10)\n",
        "    plt.axis([0, n_steps + ahead, -1, 1])\n",
        "    plt.legend(fontsize=14)\n",
        "\n",
        "plot_multiple_forecasts(X_new, Y_new, Y_pred)\n",
        "save_fig(\"forecast_ahead_plot\")\n",
        "plt.show()"
      ]
    },
    {
      "cell_type": "markdown",
      "metadata": {
        "id": "Tspn7krrHqPW"
      },
      "source": [
        "이 모델을 사용해 다음 10개의 값을 예측해 보겠습니다. 먼저 아홉 개의 타임 스텝을 더 가진 시퀀스를 다시 생성해야 합니다."
      ]
    },
    {
      "cell_type": "code",
      "execution_count": 23,
      "metadata": {
        "id": "f5Je0Q8GHqPW"
      },
      "outputs": [],
      "source": [
        "np.random.seed(42)\n",
        "\n",
        "n_steps = 50\n",
        "series = generate_time_series(10000, n_steps + 10)\n",
        "X_train, Y_train = series[:7000, :n_steps], series[:7000, -10:, 0]\n",
        "X_valid, Y_valid = series[7000:9000, :n_steps], series[7000:9000, -10:, 0]\n",
        "X_test, Y_test = series[9000:, :n_steps], series[9000:, -10:, 0]"
      ]
    },
    {
      "cell_type": "markdown",
      "metadata": {
        "id": "ywsHYiffHqPX"
      },
      "source": [
        "이제 하나씩 다음 10개의 값을 예측합니다:"
      ]
    },
    {
      "cell_type": "code",
      "execution_count": 24,
      "metadata": {
        "id": "QNmFNlogHqPX",
        "colab": {
          "base_uri": "https://localhost:8080/"
        },
        "outputId": "1af432b0-bbc7-4d7f-bfaa-7fa9f76ac481"
      },
      "outputs": [
        {
          "output_type": "stream",
          "name": "stdout",
          "text": [
            "63/63 [==============================] - 0s 6ms/step\n",
            "63/63 [==============================] - 1s 6ms/step\n",
            "63/63 [==============================] - 0s 6ms/step\n",
            "63/63 [==============================] - 0s 7ms/step\n",
            "63/63 [==============================] - 0s 7ms/step\n",
            "63/63 [==============================] - 0s 7ms/step\n",
            "63/63 [==============================] - 0s 7ms/step\n",
            "63/63 [==============================] - 0s 7ms/step\n",
            "63/63 [==============================] - 0s 7ms/step\n",
            "63/63 [==============================] - 0s 7ms/step\n"
          ]
        }
      ],
      "source": [
        "X = X_valid\n",
        "for step_ahead in range(10):\n",
        "    y_pred_one = model.predict(X)[:, np.newaxis, :]\n",
        "    X = np.concatenate([X, y_pred_one], axis=1)\n",
        "\n",
        "Y_pred = X[:, n_steps:, 0]"
      ]
    },
    {
      "cell_type": "code",
      "execution_count": 25,
      "metadata": {
        "id": "U72zLnbkHqPX",
        "outputId": "35180395-f15e-4f47-d064-524a96ff24e1",
        "colab": {
          "base_uri": "https://localhost:8080/"
        }
      },
      "outputs": [
        {
          "output_type": "execute_result",
          "data": {
            "text/plain": [
              "(2000, 10)"
            ]
          },
          "metadata": {},
          "execution_count": 25
        }
      ],
      "source": [
        "Y_pred.shape"
      ]
    },
    {
      "cell_type": "code",
      "execution_count": 26,
      "metadata": {
        "id": "U0_QCjnOHqPX",
        "outputId": "9f1ecaed-2592-4115-dfb4-c739ddbf9a54",
        "colab": {
          "base_uri": "https://localhost:8080/"
        }
      },
      "outputs": [
        {
          "output_type": "execute_result",
          "data": {
            "text/plain": [
              "0.027510826"
            ]
          },
          "metadata": {},
          "execution_count": 26
        }
      ],
      "source": [
        "np.mean(keras.metrics.mean_squared_error(Y_valid, Y_pred))"
      ]
    },
    {
      "cell_type": "markdown",
      "metadata": {
        "id": "_dCWFpRmHqPX"
      },
      "source": [
        "이 성능을 단순한 예측이나 간단한 선형 모델과 비교해 보죠:"
      ]
    },
    {
      "cell_type": "code",
      "execution_count": 27,
      "metadata": {
        "id": "a59jVQ-zHqPY",
        "outputId": "6af4c51f-2e21-4be0-d0e1-fdbbfdcb9bd7",
        "colab": {
          "base_uri": "https://localhost:8080/"
        }
      },
      "outputs": [
        {
          "output_type": "execute_result",
          "data": {
            "text/plain": [
              "0.25697407"
            ]
          },
          "metadata": {},
          "execution_count": 27
        }
      ],
      "source": [
        "## 단순한 방식 => 0.257 MSE(성능 매우 나쁨)\n",
        "Y_naive_pred = np.tile(X_valid[:, -1], 10) # 마지막 타임 스텝 값을 선택해 10번 반복합니다\n",
        "np.mean(keras.metrics.mean_squared_error(Y_valid, Y_naive_pred))"
      ]
    },
    {
      "cell_type": "code",
      "execution_count": null,
      "metadata": {
        "id": "p1jPuy3THqPY",
        "outputId": "ea6ca6bd-f091-4759-f787-9cfd0c6e396a"
      },
      "outputs": [
        {
          "name": "stdout",
          "output_type": "stream",
          "text": [
            "Epoch 1/20\n",
            "219/219 [==============================] - 0s 1ms/step - loss: 0.2186 - val_loss: 0.0606\n",
            "Epoch 2/20\n",
            "219/219 [==============================] - 0s 743us/step - loss: 0.0535 - val_loss: 0.0425\n",
            "Epoch 3/20\n",
            "219/219 [==============================] - 0s 727us/step - loss: 0.0406 - val_loss: 0.0353\n",
            "Epoch 4/20\n",
            "219/219 [==============================] - 0s 731us/step - loss: 0.0343 - val_loss: 0.0311\n",
            "Epoch 5/20\n",
            "219/219 [==============================] - 0s 743us/step - loss: 0.0300 - val_loss: 0.0283\n",
            "Epoch 6/20\n",
            "219/219 [==============================] - 0s 721us/step - loss: 0.0278 - val_loss: 0.0264\n",
            "Epoch 7/20\n",
            "219/219 [==============================] - 0s 722us/step - loss: 0.0262 - val_loss: 0.0249\n",
            "Epoch 8/20\n",
            "219/219 [==============================] - 0s 731us/step - loss: 0.0246 - val_loss: 0.0237\n",
            "Epoch 9/20\n",
            "219/219 [==============================] - 0s 725us/step - loss: 0.0236 - val_loss: 0.0229\n",
            "Epoch 10/20\n",
            "219/219 [==============================] - 0s 735us/step - loss: 0.0228 - val_loss: 0.0222\n",
            "Epoch 11/20\n",
            "219/219 [==============================] - 0s 743us/step - loss: 0.0220 - val_loss: 0.0216\n",
            "Epoch 12/20\n",
            "219/219 [==============================] - 0s 733us/step - loss: 0.0214 - val_loss: 0.0212\n",
            "Epoch 13/20\n",
            "219/219 [==============================] - 0s 714us/step - loss: 0.0212 - val_loss: 0.0208\n",
            "Epoch 14/20\n",
            "219/219 [==============================] - 0s 739us/step - loss: 0.0207 - val_loss: 0.0207\n",
            "Epoch 15/20\n",
            "219/219 [==============================] - 0s 712us/step - loss: 0.0207 - val_loss: 0.0202\n",
            "Epoch 16/20\n",
            "219/219 [==============================] - 0s 723us/step - loss: 0.0199 - val_loss: 0.0199\n",
            "Epoch 17/20\n",
            "219/219 [==============================] - 0s 738us/step - loss: 0.0197 - val_loss: 0.0195\n",
            "Epoch 18/20\n",
            "219/219 [==============================] - 0s 715us/step - loss: 0.0190 - val_loss: 0.0192\n",
            "Epoch 19/20\n",
            "219/219 [==============================] - 0s 719us/step - loss: 0.0189 - val_loss: 0.0189\n",
            "Epoch 20/20\n",
            "219/219 [==============================] - 0s 726us/step - loss: 0.0188 - val_loss: 0.0187\n"
          ]
        }
      ],
      "source": [
        "## 간단한 선형 모델 => 0.0188 MSE(한 번에 하나의 미래 스텝 예측 위해 RNN 사용 하는 것 보다 낫다.)\n",
        "np.random.seed(42)\n",
        "tf.random.set_seed(42)\n",
        "\n",
        "model = keras.models.Sequential([\n",
        "    keras.layers.Flatten(input_shape=[50, 1]),\n",
        "    keras.layers.Dense(10)\n",
        "])\n",
        "\n",
        "model.compile(loss=\"mse\", optimizer=\"adam\")\n",
        "history = model.fit(X_train, Y_train, epochs=20,\n",
        "                    validation_data=(X_valid, Y_valid))"
      ]
    },
    {
      "cell_type": "markdown",
      "metadata": {
        "id": "uSyucZFxHqPY"
      },
      "source": [
        "2. 동시에 다음 10개의 값을 모두 예측하는 RNN"
      ]
    },
    {
      "cell_type": "markdown",
      "source": [
        "> * 시퀀스-투-벡터 모델을 사용하지만 1개가 아니라 값 10개 출력"
      ],
      "metadata": {
        "id": "34Vj3xOyHq75"
      }
    },
    {
      "cell_type": "code",
      "execution_count": 28,
      "metadata": {
        "id": "46IQ4ysyHqPZ",
        "outputId": "6f91a8c3-dc4f-4304-eb59-1c6091405f2b",
        "colab": {
          "base_uri": "https://localhost:8080/"
        }
      },
      "outputs": [
        {
          "output_type": "stream",
          "name": "stdout",
          "text": [
            "Epoch 1/20\n",
            "219/219 [==============================] - 6s 21ms/step - loss: 0.0669 - val_loss: 0.0317\n",
            "Epoch 2/20\n",
            "219/219 [==============================] - 6s 27ms/step - loss: 0.0265 - val_loss: 0.0200\n",
            "Epoch 3/20\n",
            "219/219 [==============================] - 4s 20ms/step - loss: 0.0183 - val_loss: 0.0160\n",
            "Epoch 4/20\n",
            "219/219 [==============================] - 5s 25ms/step - loss: 0.0155 - val_loss: 0.0144\n",
            "Epoch 5/20\n",
            "219/219 [==============================] - 6s 29ms/step - loss: 0.0139 - val_loss: 0.0118\n",
            "Epoch 6/20\n",
            "219/219 [==============================] - 6s 26ms/step - loss: 0.0128 - val_loss: 0.0112\n",
            "Epoch 7/20\n",
            "219/219 [==============================] - 6s 26ms/step - loss: 0.0122 - val_loss: 0.0110\n",
            "Epoch 8/20\n",
            "219/219 [==============================] - 5s 24ms/step - loss: 0.0115 - val_loss: 0.0103\n",
            "Epoch 9/20\n",
            "219/219 [==============================] - 4s 20ms/step - loss: 0.0111 - val_loss: 0.0112\n",
            "Epoch 10/20\n",
            "219/219 [==============================] - 4s 20ms/step - loss: 0.0110 - val_loss: 0.0100\n",
            "Epoch 11/20\n",
            "219/219 [==============================] - 5s 25ms/step - loss: 0.0108 - val_loss: 0.0103\n",
            "Epoch 12/20\n",
            "219/219 [==============================] - 7s 32ms/step - loss: 0.0102 - val_loss: 0.0096\n",
            "Epoch 13/20\n",
            "219/219 [==============================] - 6s 26ms/step - loss: 0.0104 - val_loss: 0.0100\n",
            "Epoch 14/20\n",
            "219/219 [==============================] - 6s 26ms/step - loss: 0.0098 - val_loss: 0.0103\n",
            "Epoch 15/20\n",
            "219/219 [==============================] - 5s 23ms/step - loss: 0.0095 - val_loss: 0.0107\n",
            "Epoch 16/20\n",
            "219/219 [==============================] - 4s 20ms/step - loss: 0.0092 - val_loss: 0.0089\n",
            "Epoch 17/20\n",
            "219/219 [==============================] - 4s 20ms/step - loss: 0.0094 - val_loss: 0.0111\n",
            "Epoch 18/20\n",
            "219/219 [==============================] - 4s 20ms/step - loss: 0.0095 - val_loss: 0.0094\n",
            "Epoch 19/20\n",
            "219/219 [==============================] - 4s 20ms/step - loss: 0.0093 - val_loss: 0.0083\n",
            "Epoch 20/20\n",
            "219/219 [==============================] - 4s 20ms/step - loss: 0.0094 - val_loss: 0.0085\n"
          ]
        }
      ],
      "source": [
        "np.random.seed(42)\n",
        "tf.random.set_seed(42)\n",
        "\n",
        "model = keras.models.Sequential([\n",
        "    keras.layers.SimpleRNN(20, return_sequences=True, input_shape=[None, 1]),\n",
        "    keras.layers.SimpleRNN(20),\n",
        "    keras.layers.Dense(10)      ## 한 개의 유닛이 아니라 10개의 유닛을 가진 출력층 필요\n",
        "])\n",
        "\n",
        "model.compile(loss=\"mse\", optimizer=\"adam\")\n",
        "history = model.fit(X_train, Y_train, epochs=20,\n",
        "                    validation_data=(X_valid, Y_valid))"
      ]
    },
    {
      "cell_type": "code",
      "execution_count": 29,
      "metadata": {
        "id": "2JaiTHYDHqPZ",
        "colab": {
          "base_uri": "https://localhost:8080/"
        },
        "outputId": "d304e385-d6a2-47a4-b7ff-74f3ce675114"
      },
      "outputs": [
        {
          "output_type": "stream",
          "name": "stdout",
          "text": [
            "1/1 [==============================] - 0s 265ms/step\n"
          ]
        }
      ],
      "source": [
        "np.random.seed(43)\n",
        "\n",
        "series = generate_time_series(1, 50 + 10)\n",
        "X_new, Y_new = series[:, :50, :], series[:, -10:, :]\n",
        "Y_pred = model.predict(X_new)[..., np.newaxis]"
      ]
    },
    {
      "cell_type": "code",
      "execution_count": 30,
      "metadata": {
        "id": "TGZV25qUHqPZ",
        "outputId": "4e35cf3f-544a-4d71-c719-bceceef2c426",
        "colab": {
          "base_uri": "https://localhost:8080/",
          "height": 293
        }
      },
      "outputs": [
        {
          "output_type": "display_data",
          "data": {
            "text/plain": [
              "<Figure size 432x288 with 1 Axes>"
            ],
            "image/png": "[encoded data removed]"
          },
          "metadata": {
            "needs_background": "light"
          }
        }
      ],
      "source": [
        "plot_multiple_forecasts(X_new, Y_new, Y_pred)\n",
        "plt.show()"
      ]
    },
    {
      "cell_type": "markdown",
      "metadata": {
        "id": "rfQZCQpNHqPZ"
      },
      "source": [
        "이제 타임 스텝마다 다음 10 스텝을 예측하는 RNN을 만들어 보겠습니다. 즉 타임 스텝 0에서 49까지를 기반으로 타임 스텝 50에서 59를 예측하는 것이 아니라, 타임 스텝 0에서 타임 스텝 1에서 10까지 예측하고 그다음 타임 스텝 1에서 타임 스텝 2에서 11까지 예측합니다. 마지막 타임 스텝에서는 타임 스텝 50에서 59까지 예측합니다. 이 모델은 인과 모델입니다. 어떤 타임 스텝에서 예측을 만들 때 과거 타임 스텝만 볼 수 있습니다."
      ]
    },
    {
      "cell_type": "markdown",
      "source": [
        "> * 즉, 시퀀스-투-벡터 RNN을 시퀀스-투-시퀀스 RNN으로 바꿀 수 있다.\n",
        "* 마지막 타임 스텝에서의 출력뿐만 아니라 모든 타임 스텝에서 RNN 출력에 대한 항이 손실에 포한된다는 것이다.\n",
        "* 더 많은 오차 그레이디언트가 모델로 흐른다는 뜻이고 시간에 따라서만 흐를 필요가 없다.\n",
        "* 각 타임 스텝의 출력에서 그레이디언트가 흐를 수 있다.\n",
        "* 이는 훈련을 안정적으로 만들고 훈련 속도를 높인다."
      ],
      "metadata": {
        "id": "FlqRXs2LIJVx"
      }
    },
    {
      "cell_type": "code",
      "execution_count": 31,
      "metadata": {
        "id": "dIqHDqwcHqPa"
      },
      "outputs": [],
      "source": [
        "np.random.seed(42)\n",
        "\n",
        "n_steps = 50\n",
        "series = generate_time_series(10000, n_steps + 10)\n",
        "X_train = series[:7000, :n_steps]\n",
        "X_valid = series[7000:9000, :n_steps]\n",
        "X_test = series[9000:, :n_steps]\n",
        "Y = np.empty((10000, n_steps, 10))\n",
        "for step_ahead in range(1, 10 + 1):\n",
        "    Y[..., step_ahead - 1] = series[..., step_ahead:step_ahead + n_steps, 0]\n",
        "Y_train = Y[:7000]\n",
        "Y_valid = Y[7000:9000]\n",
        "Y_test = Y[9000:]"
      ]
    },
    {
      "cell_type": "markdown",
      "source": [
        "> * 타깃이 입력에 포함된다.\n",
        "* X_train과 Y_train은 중복이 많다 => 잘못 훈련하는 것이 아니라 타임 스텝마다 모델은 이전 타임 스텝만 볼 수 있고 앞을 볼 수 없다.(인과 모델)"
      ],
      "metadata": {
        "id": "F1Uv6YcmIpeV"
      }
    },
    {
      "cell_type": "code",
      "execution_count": 32,
      "metadata": {
        "id": "kdrzm-LuHqPa",
        "outputId": "46e96c8a-5dcc-4530-a981-d96928cf259c",
        "colab": {
          "base_uri": "https://localhost:8080/"
        }
      },
      "outputs": [
        {
          "output_type": "execute_result",
          "data": {
            "text/plain": [
              "((7000, 50, 1), (7000, 50, 10))"
            ]
          },
          "metadata": {},
          "execution_count": 32
        }
      ],
      "source": [
        "X_train.shape, Y_train.shape"
      ]
    },
    {
      "cell_type": "code",
      "execution_count": 33,
      "metadata": {
        "id": "jjVd0TmfHqPa",
        "outputId": "4a9d64c2-2173-4ba0-8352-d23729417682",
        "colab": {
          "base_uri": "https://localhost:8080/"
        }
      },
      "outputs": [
        {
          "output_type": "stream",
          "name": "stdout",
          "text": [
            "Epoch 1/20\n",
            "219/219 [==============================] - 8s 27ms/step - loss: 0.0508 - last_time_step_mse: 0.0400 - val_loss: 0.0429 - val_last_time_step_mse: 0.0324\n",
            "Epoch 2/20\n",
            "219/219 [==============================] - 5s 21ms/step - loss: 0.0395 - last_time_step_mse: 0.0283 - val_loss: 0.0367 - val_last_time_step_mse: 0.0266\n",
            "Epoch 3/20\n",
            "219/219 [==============================] - 5s 21ms/step - loss: 0.0326 - last_time_step_mse: 0.0215 - val_loss: 0.0373 - val_last_time_step_mse: 0.0286\n",
            "Epoch 4/20\n",
            "219/219 [==============================] - 5s 21ms/step - loss: 0.0300 - last_time_step_mse: 0.0190 - val_loss: 0.0273 - val_last_time_step_mse: 0.0152\n",
            "Epoch 5/20\n",
            "219/219 [==============================] - 6s 26ms/step - loss: 0.0276 - last_time_step_mse: 0.0158 - val_loss: 0.0259 - val_last_time_step_mse: 0.0135\n",
            "Epoch 6/20\n",
            "219/219 [==============================] - 6s 27ms/step - loss: 0.0250 - last_time_step_mse: 0.0125 - val_loss: 0.0219 - val_last_time_step_mse: 0.0083\n",
            "Epoch 7/20\n",
            "219/219 [==============================] - 6s 28ms/step - loss: 0.0232 - last_time_step_mse: 0.0105 - val_loss: 0.0220 - val_last_time_step_mse: 0.0085\n",
            "Epoch 8/20\n",
            "219/219 [==============================] - 6s 29ms/step - loss: 0.0219 - last_time_step_mse: 0.0090 - val_loss: 0.0216 - val_last_time_step_mse: 0.0092\n",
            "Epoch 9/20\n",
            "219/219 [==============================] - 6s 28ms/step - loss: 0.0216 - last_time_step_mse: 0.0090 - val_loss: 0.0199 - val_last_time_step_mse: 0.0072\n",
            "Epoch 10/20\n",
            "219/219 [==============================] - 7s 31ms/step - loss: 0.0210 - last_time_step_mse: 0.0085 - val_loss: 0.0198 - val_last_time_step_mse: 0.0074\n",
            "Epoch 11/20\n",
            "219/219 [==============================] - 6s 29ms/step - loss: 0.0202 - last_time_step_mse: 0.0078 - val_loss: 0.0194 - val_last_time_step_mse: 0.0066\n",
            "Epoch 12/20\n",
            "219/219 [==============================] - 6s 28ms/step - loss: 0.0198 - last_time_step_mse: 0.0076 - val_loss: 0.0186 - val_last_time_step_mse: 0.0066\n",
            "Epoch 13/20\n",
            "219/219 [==============================] - 6s 28ms/step - loss: 0.0193 - last_time_step_mse: 0.0070 - val_loss: 0.0190 - val_last_time_step_mse: 0.0063\n",
            "Epoch 14/20\n",
            "219/219 [==============================] - 5s 25ms/step - loss: 0.0190 - last_time_step_mse: 0.0069 - val_loss: 0.0190 - val_last_time_step_mse: 0.0072\n",
            "Epoch 15/20\n",
            "219/219 [==============================] - 5s 25ms/step - loss: 0.0191 - last_time_step_mse: 0.0072 - val_loss: 0.0186 - val_last_time_step_mse: 0.0077\n",
            "Epoch 16/20\n",
            "219/219 [==============================] - 7s 32ms/step - loss: 0.0188 - last_time_step_mse: 0.0068 - val_loss: 0.0188 - val_last_time_step_mse: 0.0077\n",
            "Epoch 17/20\n",
            "219/219 [==============================] - 6s 30ms/step - loss: 0.0187 - last_time_step_mse: 0.0067 - val_loss: 0.0186 - val_last_time_step_mse: 0.0070\n",
            "Epoch 18/20\n",
            "219/219 [==============================] - 6s 28ms/step - loss: 0.0185 - last_time_step_mse: 0.0068 - val_loss: 0.0179 - val_last_time_step_mse: 0.0063\n",
            "Epoch 19/20\n",
            "219/219 [==============================] - 6s 27ms/step - loss: 0.0186 - last_time_step_mse: 0.0071 - val_loss: 0.0173 - val_last_time_step_mse: 0.0059\n",
            "Epoch 20/20\n",
            "219/219 [==============================] - 6s 26ms/step - loss: 0.0183 - last_time_step_mse: 0.0068 - val_loss: 0.0192 - val_last_time_step_mse: 0.0082\n"
          ]
        }
      ],
      "source": [
        "np.random.seed(42)\n",
        "tf.random.set_seed(42)\n",
        "\n",
        "model = keras.models.Sequential([\n",
        "    keras.layers.SimpleRNN(20, return_sequences=True, input_shape=[None, 1]),\n",
        "    keras.layers.SimpleRNN(20, return_sequences=True),\n",
        "    keras.layers.TimeDistributed(keras.layers.Dense(10))\n",
        "])\n",
        "\n",
        "def last_time_step_mse(Y_true, Y_pred):\n",
        "    return keras.metrics.mean_squared_error(Y_true[:, -1], Y_pred[:, -1])\n",
        "\n",
        "model.compile(loss=\"mse\", optimizer=keras.optimizers.Adam(learning_rate=0.01), metrics=[last_time_step_mse])\n",
        "history = model.fit(X_train, Y_train, epochs=20,\n",
        "                    validation_data=(X_valid, Y_valid))"
      ]
    },
    {
      "cell_type": "markdown",
      "source": [
        "> * 스퀀스-투-시퀀스 모델로 바꾸려면 모든 순환 층에 return_sequences=True 지정해야 한다.(마지막 층에도)\n",
        "* 그 다음 모든 타임 스텝에서 출력을 Dense 층에 적용한다.  \n",
        "\n",
        "=> 이를 위해 TimeDistributed 층 제공(이 층은 다른층을 감싸서 입력 시퀀스의 모든 타임 스텝에 이를 적용함)\n",
        "> * 각 타임 스텝을 별개의 샘플처럼 다루도록 입력의 크기를 바꾸어 이를 효과적으로 수행\n",
        "* 즉, [배치크기, 타임 스텝 수, 입력 차원] => [배치크기*타임 스텝 수, 입력 차원]으로 바꾼다."
      ],
      "metadata": {
        "id": "-bIUFofGJGit"
      }
    },
    {
      "cell_type": "code",
      "execution_count": 34,
      "metadata": {
        "id": "qQCXdFyVHqPb",
        "colab": {
          "base_uri": "https://localhost:8080/"
        },
        "outputId": "dddc286a-a322-427b-e57a-a5404ab97d7d"
      },
      "outputs": [
        {
          "output_type": "stream",
          "name": "stdout",
          "text": [
            "1/1 [==============================] - 0s 252ms/step\n"
          ]
        }
      ],
      "source": [
        "np.random.seed(43)\n",
        "\n",
        "series = generate_time_series(1, 50 + 10)\n",
        "X_new, Y_new = series[:, :50, :], series[:, 50:, :]\n",
        "Y_pred = model.predict(X_new)[:, -1][..., np.newaxis]\n",
        "# 예측과 평가에는 마지막 타임 스텝의 출력만 사용됨"
      ]
    },
    {
      "cell_type": "code",
      "execution_count": 35,
      "metadata": {
        "id": "Zi5FmKq9HqPb",
        "outputId": "9a778f8b-b918-4e69-e050-2516a39768d5",
        "colab": {
          "base_uri": "https://localhost:8080/",
          "height": 293
        }
      },
      "outputs": [
        {
          "output_type": "display_data",
          "data": {
            "text/plain": [
              "<Figure size 432x288 with 1 Axes>"
            ],
            "image/png": "[encoded data removed]"
          },
          "metadata": {
            "needs_background": "light"
          }
        }
      ],
      "source": [
        "plot_multiple_forecasts(X_new, Y_new, Y_pred)\n",
        "plt.show()"
      ]
    },
    {
      "cell_type": "markdown",
      "metadata": {
        "id": "y3HcGAFWHqPb"
      },
      "source": [
        "# 배치 정규화를 사용한 심층 RNN"
      ]
    },
    {
      "cell_type": "markdown",
      "source": [
        "> * RNN과 효율적으로 사용할 수 없다.\n",
        "* 배치 정규화가 은닉 상태가 아니라 입력에 적용했을 때만 조금 도움이 된다.(순환층 안이 아니라 순환층 사이에 적용했을 때 없는 것보다 조금 낫다.)"
      ],
      "metadata": {
        "id": "SRFem2HKKWvC"
      }
    },
    {
      "cell_type": "code",
      "execution_count": null,
      "metadata": {
        "id": "rtVfxpQbHqPb",
        "outputId": "458271ee-25bf-4ad8-d76b-bfadba951fd8"
      },
      "outputs": [
        {
          "name": "stdout",
          "output_type": "stream",
          "text": [
            "Epoch 1/20\n",
            "219/219 [==============================] - 4s 13ms/step - loss: 0.4750 - last_time_step_mse: 0.5027 - val_loss: 0.0877 - val_last_time_step_mse: 0.0832\n",
            "Epoch 2/20\n",
            "219/219 [==============================] - 3s 12ms/step - loss: 0.0561 - last_time_step_mse: 0.0468 - val_loss: 0.0549 - val_last_time_step_mse: 0.0462\n",
            "Epoch 3/20\n",
            "219/219 [==============================] - 3s 12ms/step - loss: 0.0486 - last_time_step_mse: 0.0394 - val_loss: 0.0451 - val_last_time_step_mse: 0.0358\n",
            "Epoch 4/20\n",
            "219/219 [==============================] - 3s 12ms/step - loss: 0.0443 - last_time_step_mse: 0.0344 - val_loss: 0.0418 - val_last_time_step_mse: 0.0314\n",
            "Epoch 5/20\n",
            "219/219 [==============================] - 3s 12ms/step - loss: 0.0414 - last_time_step_mse: 0.0315 - val_loss: 0.0391 - val_last_time_step_mse: 0.0287\n",
            "Epoch 6/20\n",
            "219/219 [==============================] - 3s 12ms/step - loss: 0.0391 - last_time_step_mse: 0.0281 - val_loss: 0.0379 - val_last_time_step_mse: 0.0273\n",
            "Epoch 7/20\n",
            "219/219 [==============================] - 3s 12ms/step - loss: 0.0370 - last_time_step_mse: 0.0257 - val_loss: 0.0367 - val_last_time_step_mse: 0.0248\n",
            "Epoch 8/20\n",
            "219/219 [==============================] - 3s 12ms/step - loss: 0.0352 - last_time_step_mse: 0.0236 - val_loss: 0.0363 - val_last_time_step_mse: 0.0249\n",
            "Epoch 9/20\n",
            "219/219 [==============================] - 3s 12ms/step - loss: 0.0340 - last_time_step_mse: 0.0224 - val_loss: 0.0332 - val_last_time_step_mse: 0.0208\n",
            "Epoch 10/20\n",
            "219/219 [==============================] - 3s 12ms/step - loss: 0.0332 - last_time_step_mse: 0.0213 - val_loss: 0.0335 - val_last_time_step_mse: 0.0214\n",
            "Epoch 11/20\n",
            "219/219 [==============================] - 3s 12ms/step - loss: 0.0325 - last_time_step_mse: 0.0214 - val_loss: 0.0323 - val_last_time_step_mse: 0.0203\n",
            "Epoch 12/20\n",
            "219/219 [==============================] - 3s 12ms/step - loss: 0.0316 - last_time_step_mse: 0.0196 - val_loss: 0.0333 - val_last_time_step_mse: 0.0210\n",
            "Epoch 13/20\n",
            "219/219 [==============================] - 3s 12ms/step - loss: 0.0312 - last_time_step_mse: 0.0192 - val_loss: 0.0310 - val_last_time_step_mse: 0.0187\n",
            "Epoch 14/20\n",
            "219/219 [==============================] - 3s 12ms/step - loss: 0.0308 - last_time_step_mse: 0.0187 - val_loss: 0.0310 - val_last_time_step_mse: 0.0189\n",
            "Epoch 15/20\n",
            "219/219 [==============================] - 3s 12ms/step - loss: 0.0302 - last_time_step_mse: 0.0183 - val_loss: 0.0298 - val_last_time_step_mse: 0.0178\n",
            "Epoch 16/20\n",
            "219/219 [==============================] - 3s 12ms/step - loss: 0.0298 - last_time_step_mse: 0.0177 - val_loss: 0.0293 - val_last_time_step_mse: 0.0174\n",
            "Epoch 17/20\n",
            "219/219 [==============================] - 3s 12ms/step - loss: 0.0294 - last_time_step_mse: 0.0173 - val_loss: 0.0315 - val_last_time_step_mse: 0.0200\n",
            "Epoch 18/20\n",
            "219/219 [==============================] - 3s 12ms/step - loss: 0.0289 - last_time_step_mse: 0.0167 - val_loss: 0.0295 - val_last_time_step_mse: 0.0174\n",
            "Epoch 19/20\n",
            "219/219 [==============================] - 3s 12ms/step - loss: 0.0287 - last_time_step_mse: 0.0168 - val_loss: 0.0290 - val_last_time_step_mse: 0.0163\n",
            "Epoch 20/20\n",
            "219/219 [==============================] - 3s 12ms/step - loss: 0.0281 - last_time_step_mse: 0.0161 - val_loss: 0.0288 - val_last_time_step_mse: 0.0164\n"
          ]
        }
      ],
      "source": [
        "np.random.seed(42)\n",
        "tf.random.set_seed(42)\n",
        "\n",
        "model = keras.models.Sequential([\n",
        "    keras.layers.SimpleRNN(20, return_sequences=True, input_shape=[None, 1]),\n",
        "    keras.layers.BatchNormalization(),\n",
        "    keras.layers.SimpleRNN(20, return_sequences=True),\n",
        "    keras.layers.BatchNormalization(),\n",
        "    keras.layers.TimeDistributed(keras.layers.Dense(10))\n",
        "])\n",
        "\n",
        "model.compile(loss=\"mse\", optimizer=\"adam\", metrics=[last_time_step_mse])\n",
        "history = model.fit(X_train, Y_train, epochs=20,\n",
        "                    validation_data=(X_valid, Y_valid))"
      ]
    },
    {
      "cell_type": "markdown",
      "metadata": {
        "id": "B6SfVIoOHqPc"
      },
      "source": [
        "# 층 정규화를 사용한 심층 RNN"
      ]
    },
    {
      "cell_type": "markdown",
      "source": [
        "> * RNN에 잘 맞는 정규화이다.\n",
        "* 배치 차원에 대해 정규화하는 대신 특성 차원에 대해 정규화 한다.\n",
        "* 장점: 샘플에 독립적으로 타임 스텝마다 동적으로 필요한 통계 계산 가능 => 훈련과 테스트에서 동일한 방식으로 작동"
      ],
      "metadata": {
        "id": "BHfKDe_dKo1d"
      }
    },
    {
      "cell_type": "code",
      "execution_count": 36,
      "metadata": {
        "id": "f8IlxiRHHqPc"
      },
      "outputs": [],
      "source": [
        "from tensorflow.keras.layers import LayerNormalization"
      ]
    },
    {
      "cell_type": "code",
      "execution_count": 37,
      "metadata": {
        "id": "JBqxtVEdHqPc"
      },
      "outputs": [],
      "source": [
        "class LNSimpleRNNCell(keras.layers.Layer):\n",
        "    def __init__(self, units, activation=\"tanh\", **kwargs):\n",
        "        super().__init__(**kwargs)\n",
        "        self.state_size = units\n",
        "        self.output_size = units\n",
        "        self.simple_rnn_cell = keras.layers.SimpleRNNCell(units,\n",
        "                                                          activation=None)\n",
        "        self.layer_norm = LayerNormalization()\n",
        "        self.activation = keras.activations.get(activation)\n",
        "    def get_initial_state(self, inputs=None, batch_size=None, dtype=None):\n",
        "        if inputs is not None:\n",
        "            batch_size = tf.shape(inputs)[0]\n",
        "            dtype = inputs.dtype\n",
        "        return [tf.zeros([batch_size, self.state_size], dtype=dtype)]\n",
        "    def call(self, inputs, states):\n",
        "        outputs, new_states = self.simple_rnn_cell(inputs, states)\n",
        "        norm_outputs = self.activation(self.layer_norm(outputs))\n",
        "        return norm_outputs, [norm_outputs]"
      ]
    },
    {
      "cell_type": "code",
      "execution_count": 38,
      "metadata": {
        "id": "RJpNFPouHqPd",
        "outputId": "e8d1b6ef-619e-4548-916d-6bb74eabb596",
        "colab": {
          "base_uri": "https://localhost:8080/"
        }
      },
      "outputs": [
        {
          "output_type": "stream",
          "name": "stdout",
          "text": [
            "Epoch 1/20\n",
            "219/219 [==============================] - 14s 46ms/step - loss: 0.1613 - last_time_step_mse: 0.1574 - val_loss: 0.0755 - val_last_time_step_mse: 0.0692\n",
            "Epoch 2/20\n",
            "219/219 [==============================] - 10s 44ms/step - loss: 0.0665 - last_time_step_mse: 0.0575 - val_loss: 0.0597 - val_last_time_step_mse: 0.0484\n",
            "Epoch 3/20\n",
            "219/219 [==============================] - 10s 45ms/step - loss: 0.0562 - last_time_step_mse: 0.0454 - val_loss: 0.0521 - val_last_time_step_mse: 0.0399\n",
            "Epoch 4/20\n",
            "219/219 [==============================] - 11s 52ms/step - loss: 0.0498 - last_time_step_mse: 0.0378 - val_loss: 0.0466 - val_last_time_step_mse: 0.0337\n",
            "Epoch 5/20\n",
            "219/219 [==============================] - 10s 45ms/step - loss: 0.0452 - last_time_step_mse: 0.0330 - val_loss: 0.0434 - val_last_time_step_mse: 0.0318\n",
            "Epoch 6/20\n",
            "219/219 [==============================] - 10s 45ms/step - loss: 0.0404 - last_time_step_mse: 0.0272 - val_loss: 0.0376 - val_last_time_step_mse: 0.0234\n",
            "Epoch 7/20\n",
            "219/219 [==============================] - 12s 56ms/step - loss: 0.0368 - last_time_step_mse: 0.0234 - val_loss: 0.0348 - val_last_time_step_mse: 0.0208\n",
            "Epoch 8/20\n",
            "219/219 [==============================] - 11s 52ms/step - loss: 0.0343 - last_time_step_mse: 0.0209 - val_loss: 0.0332 - val_last_time_step_mse: 0.0201\n",
            "Epoch 9/20\n",
            "219/219 [==============================] - 10s 44ms/step - loss: 0.0326 - last_time_step_mse: 0.0194 - val_loss: 0.0318 - val_last_time_step_mse: 0.0182\n",
            "Epoch 10/20\n",
            "219/219 [==============================] - 11s 49ms/step - loss: 0.0313 - last_time_step_mse: 0.0181 - val_loss: 0.0303 - val_last_time_step_mse: 0.0163\n",
            "Epoch 11/20\n",
            "219/219 [==============================] - 10s 45ms/step - loss: 0.0306 - last_time_step_mse: 0.0176 - val_loss: 0.0298 - val_last_time_step_mse: 0.0170\n",
            "Epoch 12/20\n",
            "219/219 [==============================] - 10s 46ms/step - loss: 0.0299 - last_time_step_mse: 0.0171 - val_loss: 0.0296 - val_last_time_step_mse: 0.0167\n",
            "Epoch 13/20\n",
            "219/219 [==============================] - 11s 52ms/step - loss: 0.0290 - last_time_step_mse: 0.0161 - val_loss: 0.0283 - val_last_time_step_mse: 0.0155\n",
            "Epoch 14/20\n",
            "219/219 [==============================] - 14s 66ms/step - loss: 0.0286 - last_time_step_mse: 0.0159 - val_loss: 0.0279 - val_last_time_step_mse: 0.0155\n",
            "Epoch 15/20\n",
            "219/219 [==============================] - 11s 51ms/step - loss: 0.0282 - last_time_step_mse: 0.0156 - val_loss: 0.0278 - val_last_time_step_mse: 0.0148\n",
            "Epoch 16/20\n",
            "219/219 [==============================] - 14s 65ms/step - loss: 0.0280 - last_time_step_mse: 0.0156 - val_loss: 0.0283 - val_last_time_step_mse: 0.0158\n",
            "Epoch 17/20\n",
            "219/219 [==============================] - 11s 52ms/step - loss: 0.0274 - last_time_step_mse: 0.0148 - val_loss: 0.0273 - val_last_time_step_mse: 0.0150\n",
            "Epoch 18/20\n",
            "219/219 [==============================] - 11s 50ms/step - loss: 0.0270 - last_time_step_mse: 0.0145 - val_loss: 0.0264 - val_last_time_step_mse: 0.0141\n",
            "Epoch 19/20\n",
            "219/219 [==============================] - 10s 45ms/step - loss: 0.0268 - last_time_step_mse: 0.0143 - val_loss: 0.0266 - val_last_time_step_mse: 0.0135\n",
            "Epoch 20/20\n",
            "219/219 [==============================] - 13s 58ms/step - loss: 0.0265 - last_time_step_mse: 0.0140 - val_loss: 0.0262 - val_last_time_step_mse: 0.0137\n"
          ]
        }
      ],
      "source": [
        "np.random.seed(42)\n",
        "tf.random.set_seed(42)\n",
        "\n",
        "model = keras.models.Sequential([\n",
        "    keras.layers.RNN(LNSimpleRNNCell(20), return_sequences=True,\n",
        "                     input_shape=[None, 1]),\n",
        "    keras.layers.RNN(LNSimpleRNNCell(20), return_sequences=True),\n",
        "    keras.layers.TimeDistributed(keras.layers.Dense(10))\n",
        "])\n",
        "\n",
        "model.compile(loss=\"mse\", optimizer=\"adam\", metrics=[last_time_step_mse])\n",
        "history = model.fit(X_train, Y_train, epochs=20,\n",
        "                    validation_data=(X_valid, Y_valid))"
      ]
    },
    {
      "cell_type": "markdown",
      "metadata": {
        "id": "MgP7RH-1HqPd"
      },
      "source": [
        "# 사용자 정의 RNN 클래스 만들기"
      ]
    },
    {
      "cell_type": "code",
      "execution_count": null,
      "metadata": {
        "id": "cDQMzpCnHqPd"
      },
      "outputs": [],
      "source": [
        "class MyRNN(keras.layers.Layer):\n",
        "    def __init__(self, cell, return_sequences=False, **kwargs):\n",
        "        super().__init__(**kwargs)\n",
        "        self.cell = cell\n",
        "        self.return_sequences = return_sequences\n",
        "        self.get_initial_state = getattr(\n",
        "            self.cell, \"get_initial_state\", self.fallback_initial_state)\n",
        "    def fallback_initial_state(self, inputs):\n",
        "        batch_size = tf.shape(inputs)[0]\n",
        "        return [tf.zeros([batch_size, self.cell.state_size], dtype=inputs.dtype)]\n",
        "    @tf.function\n",
        "    def call(self, inputs):\n",
        "        states = self.get_initial_state(inputs)\n",
        "        shape = tf.shape(inputs)\n",
        "        batch_size = shape[0]\n",
        "        n_steps = shape[1]\n",
        "        sequences = tf.TensorArray(\n",
        "            inputs.dtype, size=(n_steps if self.return_sequences else 0))\n",
        "        outputs = tf.zeros(shape=[batch_size, self.cell.output_size], dtype=inputs.dtype)\n",
        "        for step in tf.range(n_steps):\n",
        "            outputs, states = self.cell(inputs[:, step], states)\n",
        "            if self.return_sequences:\n",
        "                sequences = sequences.write(step, outputs)\n",
        "        if self.return_sequences:\n",
        "            return tf.transpose(sequences.stack(), [1, 0, 2])\n",
        "        else:\n",
        "            return outputs"
      ]
    },
    {
      "cell_type": "code",
      "execution_count": null,
      "metadata": {
        "id": "HTi5ZcqXHqPe",
        "outputId": "275d5e3d-d1fc-440c-f648-d63691079d5d"
      },
      "outputs": [
        {
          "name": "stdout",
          "output_type": "stream",
          "text": [
            "Epoch 1/20\n",
            "219/219 [==============================] - 7s 27ms/step - loss: 0.2860 - last_time_step_mse: 0.2822 - val_loss: 0.0734 - val_last_time_step_mse: 0.0624\n",
            "Epoch 2/20\n",
            "219/219 [==============================] - 6s 26ms/step - loss: 0.0679 - last_time_step_mse: 0.0546 - val_loss: 0.0566 - val_last_time_step_mse: 0.0423\n",
            "Epoch 3/20\n",
            "219/219 [==============================] - 6s 26ms/step - loss: 0.0553 - last_time_step_mse: 0.0406 - val_loss: 0.0509 - val_last_time_step_mse: 0.0342\n",
            "Epoch 4/20\n",
            "219/219 [==============================] - 6s 26ms/step - loss: 0.0485 - last_time_step_mse: 0.0328 - val_loss: 0.0442 - val_last_time_step_mse: 0.0286\n",
            "Epoch 5/20\n",
            "219/219 [==============================] - 6s 25ms/step - loss: 0.0435 - last_time_step_mse: 0.0281 - val_loss: 0.0418 - val_last_time_step_mse: 0.0258\n",
            "Epoch 6/20\n",
            "219/219 [==============================] - 6s 26ms/step - loss: 0.0404 - last_time_step_mse: 0.0249 - val_loss: 0.0382 - val_last_time_step_mse: 0.0229\n",
            "Epoch 7/20\n",
            "219/219 [==============================] - 6s 26ms/step - loss: 0.0374 - last_time_step_mse: 0.0228 - val_loss: 0.0351 - val_last_time_step_mse: 0.0206\n",
            "Epoch 8/20\n",
            "219/219 [==============================] - 6s 25ms/step - loss: 0.0352 - last_time_step_mse: 0.0208 - val_loss: 0.0337 - val_last_time_step_mse: 0.0185\n",
            "Epoch 9/20\n",
            "219/219 [==============================] - 6s 25ms/step - loss: 0.0331 - last_time_step_mse: 0.0190 - val_loss: 0.0319 - val_last_time_step_mse: 0.0184\n",
            "Epoch 10/20\n",
            "219/219 [==============================] - 6s 25ms/step - loss: 0.0322 - last_time_step_mse: 0.0185 - val_loss: 0.0311 - val_last_time_step_mse: 0.0172\n",
            "Epoch 11/20\n",
            "219/219 [==============================] - 6s 26ms/step - loss: 0.0308 - last_time_step_mse: 0.0174 - val_loss: 0.0301 - val_last_time_step_mse: 0.0170\n",
            "Epoch 12/20\n",
            "219/219 [==============================] - 6s 26ms/step - loss: 0.0300 - last_time_step_mse: 0.0166 - val_loss: 0.0291 - val_last_time_step_mse: 0.0159\n",
            "Epoch 13/20\n",
            "219/219 [==============================] - 6s 27ms/step - loss: 0.0293 - last_time_step_mse: 0.0158 - val_loss: 0.0283 - val_last_time_step_mse: 0.0148\n",
            "Epoch 14/20\n",
            "219/219 [==============================] - 6s 27ms/step - loss: 0.0286 - last_time_step_mse: 0.0154 - val_loss: 0.0277 - val_last_time_step_mse: 0.0149\n",
            "Epoch 15/20\n",
            "219/219 [==============================] - 6s 26ms/step - loss: 0.0278 - last_time_step_mse: 0.0147 - val_loss: 0.0273 - val_last_time_step_mse: 0.0145\n",
            "Epoch 16/20\n",
            "219/219 [==============================] - 6s 26ms/step - loss: 0.0275 - last_time_step_mse: 0.0142 - val_loss: 0.0272 - val_last_time_step_mse: 0.0149\n",
            "Epoch 17/20\n",
            "219/219 [==============================] - 6s 26ms/step - loss: 0.0267 - last_time_step_mse: 0.0139 - val_loss: 0.0259 - val_last_time_step_mse: 0.0128\n",
            "Epoch 18/20\n",
            "219/219 [==============================] - 6s 26ms/step - loss: 0.0264 - last_time_step_mse: 0.0135 - val_loss: 0.0258 - val_last_time_step_mse: 0.0130\n",
            "Epoch 19/20\n",
            "219/219 [==============================] - 6s 27ms/step - loss: 0.0258 - last_time_step_mse: 0.0132 - val_loss: 0.0257 - val_last_time_step_mse: 0.0131\n",
            "Epoch 20/20\n",
            "219/219 [==============================] - 6s 27ms/step - loss: 0.0252 - last_time_step_mse: 0.0124 - val_loss: 0.0250 - val_last_time_step_mse: 0.0121\n"
          ]
        }
      ],
      "source": [
        "np.random.seed(42)\n",
        "tf.random.set_seed(42)\n",
        "\n",
        "model = keras.models.Sequential([\n",
        "    MyRNN(LNSimpleRNNCell(20), return_sequences=True,\n",
        "          input_shape=[None, 1]),\n",
        "    MyRNN(LNSimpleRNNCell(20), return_sequences=True),\n",
        "    keras.layers.TimeDistributed(keras.layers.Dense(10))\n",
        "])\n",
        "\n",
        "model.compile(loss=\"mse\", optimizer=\"adam\", metrics=[last_time_step_mse])\n",
        "history = model.fit(X_train, Y_train, epochs=20,\n",
        "                    validation_data=(X_valid, Y_valid))"
      ]
    },
    {
      "cell_type": "markdown",
      "metadata": {
        "id": "6oRgfv1MHqPf"
      },
      "source": [
        "# LSTM"
      ]
    },
    {
      "cell_type": "markdown",
      "source": [
        "> * 장단기 메모리 셀(long short-tern memory)\n",
        "* 핵심 아이디어: 네트워크가 장기 상태에 저장할 것, 버릴 것, 읽어드릴 것 학습\n",
        "\n",
        "> * 장기기억(C(t-1))은 네트워크를 왼쪽에서 오른쪽으로 관통하면서 ‘삭제 게이트’를 지나 일부 기억을 잃고, 그런 다음 덧셈 연산으로 새로운 기억 일부를 추가한다.(’입력 게이트’에서 선택한 기억 추가)\n",
        "* 만들어진 C(t)는 다른 추가 변환 없이 바로 출력으로 보내진다. 그래서 타임 스텝마다 일부 기억이 삭제되고 일부 기억이 추가된다.\n",
        "* 또한 덧셈 연산 후 이 장기상태가 복사되어 tanh 함수로 전달되어 출력 게이트에 의해 걸러진다. 이는 단기 상태 h(t)를 만든다.\n",
        "\n",
        "LSTM 셀은 중요한 입력을 인식하고, 장기 상태에 저장하고 필요 기간동안 이를 보존하고, 필요할 때마다 이를 추출하기 위해 학습한다."
      ],
      "metadata": {
        "id": "RBr58h-LLn5g"
      }
    },
    {
      "cell_type": "code",
      "execution_count": null,
      "metadata": {
        "scrolled": true,
        "id": "Ha4l5JZCHqPf",
        "outputId": "4c26c29e-79ee-4883-d249-a048b5e7b94c"
      },
      "outputs": [
        {
          "name": "stdout",
          "output_type": "stream",
          "text": [
            "Epoch 1/20\n",
            "219/219 [==============================] - 8s 23ms/step - loss: 0.0979 - last_time_step_mse: 0.0877 - val_loss: 0.0554 - val_last_time_step_mse: 0.0364\n",
            "Epoch 2/20\n",
            "219/219 [==============================] - 4s 20ms/step - loss: 0.0515 - last_time_step_mse: 0.0326 - val_loss: 0.0427 - val_last_time_step_mse: 0.0222\n",
            "Epoch 3/20\n",
            "219/219 [==============================] - 4s 20ms/step - loss: 0.0407 - last_time_step_mse: 0.0196 - val_loss: 0.0367 - val_last_time_step_mse: 0.0157\n",
            "Epoch 4/20\n",
            "219/219 [==============================] - 4s 20ms/step - loss: 0.0356 - last_time_step_mse: 0.0156 - val_loss: 0.0334 - val_last_time_step_mse: 0.0132\n",
            "Epoch 5/20\n",
            "219/219 [==============================] - 4s 20ms/step - loss: 0.0330 - last_time_step_mse: 0.0138 - val_loss: 0.0314 - val_last_time_step_mse: 0.0121\n",
            "Epoch 6/20\n",
            "219/219 [==============================] - 4s 20ms/step - loss: 0.0313 - last_time_step_mse: 0.0124 - val_loss: 0.0298 - val_last_time_step_mse: 0.0112\n",
            "Epoch 7/20\n",
            "219/219 [==============================] - 5s 21ms/step - loss: 0.0297 - last_time_step_mse: 0.0118 - val_loss: 0.0291 - val_last_time_step_mse: 0.0120\n",
            "Epoch 8/20\n",
            "219/219 [==============================] - 4s 21ms/step - loss: 0.0289 - last_time_step_mse: 0.0109 - val_loss: 0.0278 - val_last_time_step_mse: 0.0099\n",
            "Epoch 9/20\n",
            "219/219 [==============================] - 4s 20ms/step - loss: 0.0282 - last_time_step_mse: 0.0110 - val_loss: 0.0278 - val_last_time_step_mse: 0.0113\n",
            "Epoch 10/20\n",
            "219/219 [==============================] - 4s 20ms/step - loss: 0.0276 - last_time_step_mse: 0.0107 - val_loss: 0.0268 - val_last_time_step_mse: 0.0101\n",
            "Epoch 11/20\n",
            "219/219 [==============================] - 4s 20ms/step - loss: 0.0270 - last_time_step_mse: 0.0104 - val_loss: 0.0263 - val_last_time_step_mse: 0.0096\n",
            "Epoch 12/20\n",
            "219/219 [==============================] - 4s 20ms/step - loss: 0.0265 - last_time_step_mse: 0.0100 - val_loss: 0.0263 - val_last_time_step_mse: 0.0105\n",
            "Epoch 13/20\n",
            "219/219 [==============================] - 4s 20ms/step - loss: 0.0260 - last_time_step_mse: 0.0098 - val_loss: 0.0257 - val_last_time_step_mse: 0.0100\n",
            "Epoch 14/20\n",
            "219/219 [==============================] - 4s 20ms/step - loss: 0.0258 - last_time_step_mse: 0.0097 - val_loss: 0.0252 - val_last_time_step_mse: 0.0091\n",
            "Epoch 15/20\n",
            "219/219 [==============================] - 4s 21ms/step - loss: 0.0255 - last_time_step_mse: 0.0100 - val_loss: 0.0251 - val_last_time_step_mse: 0.0092\n",
            "Epoch 16/20\n",
            "219/219 [==============================] - 4s 20ms/step - loss: 0.0252 - last_time_step_mse: 0.0094 - val_loss: 0.0248 - val_last_time_step_mse: 0.0089\n",
            "Epoch 17/20\n",
            "219/219 [==============================] - 4s 20ms/step - loss: 0.0248 - last_time_step_mse: 0.0093 - val_loss: 0.0248 - val_last_time_step_mse: 0.0098\n",
            "Epoch 18/20\n",
            "219/219 [==============================] - 4s 20ms/step - loss: 0.0247 - last_time_step_mse: 0.0092 - val_loss: 0.0246 - val_last_time_step_mse: 0.0091\n",
            "Epoch 19/20\n",
            "219/219 [==============================] - 4s 21ms/step - loss: 0.0243 - last_time_step_mse: 0.0092 - val_loss: 0.0238 - val_last_time_step_mse: 0.0085\n",
            "Epoch 20/20\n",
            "219/219 [==============================] - 4s 20ms/step - loss: 0.0239 - last_time_step_mse: 0.0088 - val_loss: 0.0238 - val_last_time_step_mse: 0.0086\n"
          ]
        }
      ],
      "source": [
        "np.random.seed(42)\n",
        "tf.random.set_seed(42)\n",
        "\n",
        "model = keras.models.Sequential([\n",
        "    keras.layers.LSTM(20, return_sequences=True, input_shape=[None, 1]),\n",
        "    keras.layers.LSTM(20, return_sequences=True),\n",
        "    keras.layers.TimeDistributed(keras.layers.Dense(10))\n",
        "])\n",
        "\n",
        "model.compile(loss=\"mse\", optimizer=\"adam\", metrics=[last_time_step_mse])\n",
        "history = model.fit(X_train, Y_train, epochs=20,\n",
        "                    validation_data=(X_valid, Y_valid))"
      ]
    },
    {
      "cell_type": "code",
      "execution_count": null,
      "metadata": {
        "id": "Mc-q7vVBHqPg",
        "outputId": "62cd280a-3bb2-48b6-d8a9-c8d4b5b9b0af"
      },
      "outputs": [
        {
          "name": "stdout",
          "output_type": "stream",
          "text": [
            "63/63 [==============================] - 0s 4ms/step - loss: 0.0238 - last_time_step_mse: 0.0086\n"
          ]
        },
        {
          "data": {
            "text/plain": [
              "[0.023788681253790855, 0.00856079813092947]"
            ]
          },
          "execution_count": 48,
          "metadata": {},
          "output_type": "execute_result"
        }
      ],
      "source": [
        "model.evaluate(X_valid, Y_valid)"
      ]
    },
    {
      "cell_type": "code",
      "execution_count": null,
      "metadata": {
        "id": "GVwl9o3kHqPg",
        "outputId": "44f41933-3269-4bea-cb2d-ef6ff4cad195"
      },
      "outputs": [
        {
          "data": {
            "image/png": "[encoded data removed]",
            "text/plain": [
              "<Figure size 432x288 with 1 Axes>"
            ]
          },
          "metadata": {
            "needs_background": "light"
          },
          "output_type": "display_data"
        }
      ],
      "source": [
        "plot_learning_curves(history.history[\"loss\"], history.history[\"val_loss\"])\n",
        "plt.show()"
      ]
    },
    {
      "cell_type": "code",
      "execution_count": null,
      "metadata": {
        "id": "xBdqxnf_HqPg"
      },
      "outputs": [],
      "source": [
        "np.random.seed(43)\n",
        "\n",
        "series = generate_time_series(1, 50 + 10)\n",
        "X_new, Y_new = series[:, :50, :], series[:, 50:, :]\n",
        "Y_pred = model.predict(X_new)[:, -1][..., np.newaxis]"
      ]
    },
    {
      "cell_type": "code",
      "execution_count": null,
      "metadata": {
        "scrolled": true,
        "id": "gYrZw_ekHqPh",
        "outputId": "60d5ff86-a556-4375-8583-60a2374a9c3d"
      },
      "outputs": [
        {
          "data": {
            "image/png": "[encoded data removed]",
            "text/plain": [
              "<Figure size 432x288 with 1 Axes>"
            ]
          },
          "metadata": {
            "needs_background": "light"
          },
          "output_type": "display_data"
        }
      ],
      "source": [
        "plot_multiple_forecasts(X_new, Y_new, Y_pred)\n",
        "plt.show()"
      ]
    },
    {
      "cell_type": "markdown",
      "metadata": {
        "id": "G8QI8a80HqPh"
      },
      "source": [
        "# GRU"
      ]
    },
    {
      "cell_type": "markdown",
      "source": [
        "> GRU셀은 LSTM 셀의 간소화된 버전이고 유사하게 작동하는 것 처럼 보인다.\n",
        "* LSTM의 두 상태 벡터(장기기억, 단기기억)가 하나의 벡터 h(t)로 합쳐졌다.\n",
        "* 하나의 게이트 제어기 z(t)가 삭제 게이트와 입력 게이트를 모두 제어한다.\n",
        "* 출력 게이트가 없다. (전체 상태 벡터가 매 타임 스텝마다 출력된다.) 그러나 이전 상태의 어느 부분이 주 층(g(t))에 노출될지 제어하는 새로운 게이트 제어기 r(t)가 있다."
      ],
      "metadata": {
        "id": "iU7D6zsbMlrN"
      }
    },
    {
      "cell_type": "code",
      "execution_count": null,
      "metadata": {
        "id": "YkQU2ozVHqPh",
        "outputId": "eba2adf9-26d0-4f20-afc9-f0e347f5887b"
      },
      "outputs": [
        {
          "name": "stdout",
          "output_type": "stream",
          "text": [
            "Epoch 1/20\n",
            "219/219 [==============================] - 8s 26ms/step - loss: 0.0995 - last_time_step_mse: 0.0940 - val_loss: 0.0538 - val_last_time_step_mse: 0.0450\n",
            "Epoch 2/20\n",
            "219/219 [==============================] - 5s 24ms/step - loss: 0.0495 - last_time_step_mse: 0.0383 - val_loss: 0.0441 - val_last_time_step_mse: 0.0326\n",
            "Epoch 3/20\n",
            "219/219 [==============================] - 5s 24ms/step - loss: 0.0432 - last_time_step_mse: 0.0321 - val_loss: 0.0390 - val_last_time_step_mse: 0.0275\n",
            "Epoch 4/20\n",
            "219/219 [==============================] - 5s 24ms/step - loss: 0.0379 - last_time_step_mse: 0.0261 - val_loss: 0.0339 - val_last_time_step_mse: 0.0202\n",
            "Epoch 5/20\n",
            "219/219 [==============================] - 5s 23ms/step - loss: 0.0333 - last_time_step_mse: 0.0192 - val_loss: 0.0312 - val_last_time_step_mse: 0.0164\n",
            "Epoch 6/20\n",
            "219/219 [==============================] - 5s 23ms/step - loss: 0.0310 - last_time_step_mse: 0.0158 - val_loss: 0.0294 - val_last_time_step_mse: 0.0143\n",
            "Epoch 7/20\n",
            "219/219 [==============================] - 5s 23ms/step - loss: 0.0295 - last_time_step_mse: 0.0146 - val_loss: 0.0300 - val_last_time_step_mse: 0.0162\n",
            "Epoch 8/20\n",
            "219/219 [==============================] - 5s 24ms/step - loss: 0.0287 - last_time_step_mse: 0.0136 - val_loss: 0.0278 - val_last_time_step_mse: 0.0130\n",
            "Epoch 9/20\n",
            "219/219 [==============================] - 5s 23ms/step - loss: 0.0277 - last_time_step_mse: 0.0133 - val_loss: 0.0273 - val_last_time_step_mse: 0.0127\n",
            "Epoch 10/20\n",
            "219/219 [==============================] - 5s 24ms/step - loss: 0.0273 - last_time_step_mse: 0.0128 - val_loss: 0.0264 - val_last_time_step_mse: 0.0121\n",
            "Epoch 11/20\n",
            "219/219 [==============================] - 5s 24ms/step - loss: 0.0265 - last_time_step_mse: 0.0122 - val_loss: 0.0268 - val_last_time_step_mse: 0.0135\n",
            "Epoch 12/20\n",
            "219/219 [==============================] - 5s 23ms/step - loss: 0.0264 - last_time_step_mse: 0.0122 - val_loss: 0.0261 - val_last_time_step_mse: 0.0123\n",
            "Epoch 13/20\n",
            "219/219 [==============================] - 5s 23ms/step - loss: 0.0259 - last_time_step_mse: 0.0117 - val_loss: 0.0254 - val_last_time_step_mse: 0.0116\n",
            "Epoch 14/20\n",
            "219/219 [==============================] - 5s 23ms/step - loss: 0.0257 - last_time_step_mse: 0.0116 - val_loss: 0.0254 - val_last_time_step_mse: 0.0116\n",
            "Epoch 15/20\n",
            "219/219 [==============================] - 5s 24ms/step - loss: 0.0254 - last_time_step_mse: 0.0118 - val_loss: 0.0250 - val_last_time_step_mse: 0.0112\n",
            "Epoch 16/20\n",
            "219/219 [==============================] - 5s 24ms/step - loss: 0.0252 - last_time_step_mse: 0.0114 - val_loss: 0.0250 - val_last_time_step_mse: 0.0114\n",
            "Epoch 17/20\n",
            "219/219 [==============================] - 5s 24ms/step - loss: 0.0248 - last_time_step_mse: 0.0113 - val_loss: 0.0249 - val_last_time_step_mse: 0.0118\n",
            "Epoch 18/20\n",
            "219/219 [==============================] - 5s 24ms/step - loss: 0.0246 - last_time_step_mse: 0.0109 - val_loss: 0.0244 - val_last_time_step_mse: 0.0108\n",
            "Epoch 19/20\n",
            "219/219 [==============================] - 5s 24ms/step - loss: 0.0243 - last_time_step_mse: 0.0107 - val_loss: 0.0240 - val_last_time_step_mse: 0.0105\n",
            "Epoch 20/20\n",
            "219/219 [==============================] - 5s 24ms/step - loss: 0.0239 - last_time_step_mse: 0.0105 - val_loss: 0.0238 - val_last_time_step_mse: 0.0103\n"
          ]
        }
      ],
      "source": [
        "np.random.seed(42)\n",
        "tf.random.set_seed(42)\n",
        "\n",
        "model = keras.models.Sequential([\n",
        "    keras.layers.GRU(20, return_sequences=True, input_shape=[None, 1]),\n",
        "    keras.layers.GRU(20, return_sequences=True),\n",
        "    keras.layers.TimeDistributed(keras.layers.Dense(10))\n",
        "])\n",
        "\n",
        "model.compile(loss=\"mse\", optimizer=\"adam\", metrics=[last_time_step_mse])\n",
        "history = model.fit(X_train, Y_train, epochs=20,\n",
        "                    validation_data=(X_valid, Y_valid))"
      ]
    },
    {
      "cell_type": "code",
      "execution_count": null,
      "metadata": {
        "id": "SOe0SKBPHqPi",
        "outputId": "6a7f99e1-af42-493b-e5e2-e4092c0bb88a"
      },
      "outputs": [
        {
          "name": "stdout",
          "output_type": "stream",
          "text": [
            "63/63 [==============================] - 0s 4ms/step - loss: 0.0238 - last_time_step_mse: 0.0103\n"
          ]
        },
        {
          "data": {
            "text/plain": [
              "[0.023785505443811417, 0.010262809693813324]"
            ]
          },
          "execution_count": 53,
          "metadata": {},
          "output_type": "execute_result"
        }
      ],
      "source": [
        "model.evaluate(X_valid, Y_valid)"
      ]
    },
    {
      "cell_type": "code",
      "execution_count": null,
      "metadata": {
        "id": "ldc_GiK_HqPi",
        "outputId": "d77a938b-9753-4cac-c9d1-a244aefed44d"
      },
      "outputs": [
        {
          "data": {
            "image/png": "[encoded data removed]",
            "text/plain": [
              "<Figure size 432x288 with 1 Axes>"
            ]
          },
          "metadata": {
            "needs_background": "light"
          },
          "output_type": "display_data"
        }
      ],
      "source": [
        "plot_learning_curves(history.history[\"loss\"], history.history[\"val_loss\"])\n",
        "plt.show()"
      ]
    },
    {
      "cell_type": "code",
      "execution_count": null,
      "metadata": {
        "id": "wN3l-459HqPi",
        "outputId": "f69f4455-2ad2-4390-b0a7-e2faa1b32751"
      },
      "outputs": [
        {
          "name": "stdout",
          "output_type": "stream",
          "text": [
            "WARNING:tensorflow:5 out of the last 508 calls to <function Model.make_predict_function.<locals>.predict_function at 0x7febe272c290> triggered tf.function retracing. Tracing is expensive and the excessive number of tracings could be due to (1) creating @tf.function repeatedly in a loop, (2) passing tensors with different shapes, (3) passing Python objects instead of tensors. For (1), please define your @tf.function outside of the loop. For (2), @tf.function has experimental_relax_shapes=True option that relaxes argument shapes that can avoid unnecessary retracing. For (3), please refer to https://www.tensorflow.org/guide/function#controlling_retracing and https://www.tensorflow.org/api_docs/python/tf/function for  more details.\n"
          ]
        }
      ],
      "source": [
        "np.random.seed(43)\n",
        "\n",
        "series = generate_time_series(1, 50 + 10)\n",
        "X_new, Y_new = series[:, :50, :], series[:, 50:, :]\n",
        "Y_pred = model.predict(X_new)[:, -1][..., np.newaxis]"
      ]
    },
    {
      "cell_type": "code",
      "execution_count": null,
      "metadata": {
        "scrolled": true,
        "id": "5ciigsxgHqPj",
        "outputId": "260a5114-d9d9-46c2-b4cb-badd56ed9aec"
      },
      "outputs": [
        {
          "data": {
            "image/png": "[encoded data removed]",
            "text/plain": [
              "<Figure size 432x288 with 1 Axes>"
            ]
          },
          "metadata": {
            "needs_background": "light"
          },
          "output_type": "display_data"
        }
      ],
      "source": [
        "plot_multiple_forecasts(X_new, Y_new, Y_pred)\n",
        "plt.show()"
      ]
    },
    {
      "cell_type": "markdown",
      "metadata": {
        "id": "wvOg93u3HqPj"
      },
      "source": [
        "## 1D 합성곱 층을 사용해 시퀀스 처리하기"
      ]
    },
    {
      "cell_type": "markdown",
      "source": [
        "* LSTM, GRU 셀은 RNN 성공의 주역중 하나이다.\n",
        "* 단순한 RNN보다 훨씬 긴 시퀀스를 다룰 수 있지만 매우 제한적인 단기 기억을 갖는다.\n",
        "* 이 문제를 해결하는 한 가지 방법은 1D 합성곱 층을 사용해 입력 시퀀스를 짧게 줄이는 것\n"
      ],
      "metadata": {
        "id": "cQhCcLKxM0dH"
      }
    },
    {
      "cell_type": "markdown",
      "metadata": {
        "id": "3wGWmKR5HqPj"
      },
      "source": [
        "```\n",
        "1D conv layer with kernel size 4, stride 2, VALID padding:\n",
        "\n",
        "              |-----2-----|     |-----5---...------|     |-----23----|\n",
        "        |-----1-----|     |-----4-----|   ...      |-----22----|\n",
        "  |-----0----|      |-----3-----|     |---...|-----21----|\n",
        "X: 0  1  2  3  4  5  6  7  8  9  10 11 12 ... 42 43 44 45 46 47 48 49\n",
        "Y: 1  2  3  4  5  6  7  8  9  10 11 12 13 ... 43 44 45 46 47 48 49 50\n",
        "  /10 11 12 13 14 15 16 17 18 19 20 21 22 ... 52 53 54 55 56 57 58 59\n",
        "\n",
        "Output:\n",
        "\n",
        "X:     0/3   2/5   4/7   6/9   8/11 10/13 .../43 42/45 44/47 46/49\n",
        "Y:     4/13  6/15  8/17 10/19 12/21 14/23 .../53 46/55 48/57 50/59\n",
        "```"
      ]
    },
    {
      "cell_type": "code",
      "execution_count": null,
      "metadata": {
        "id": "Asl28KCWHqPk",
        "outputId": "b7dd2e96-526e-4732-e345-0f15b4fdb116"
      },
      "outputs": [
        {
          "name": "stdout",
          "output_type": "stream",
          "text": [
            "Epoch 1/20\n",
            "219/219 [==============================] - 6s 16ms/step - loss: 0.0908 - last_time_step_mse: 0.0845 - val_loss: 0.0477 - val_last_time_step_mse: 0.0396\n",
            "Epoch 2/20\n",
            "219/219 [==============================] - 3s 14ms/step - loss: 0.0437 - last_time_step_mse: 0.0357 - val_loss: 0.0367 - val_last_time_step_mse: 0.0285\n",
            "Epoch 3/20\n",
            "219/219 [==============================] - 3s 14ms/step - loss: 0.0356 - last_time_step_mse: 0.0282 - val_loss: 0.0307 - val_last_time_step_mse: 0.0218\n",
            "Epoch 4/20\n",
            "219/219 [==============================] - 3s 13ms/step - loss: 0.0293 - last_time_step_mse: 0.0201 - val_loss: 0.0259 - val_last_time_step_mse: 0.0152\n",
            "Epoch 5/20\n",
            "219/219 [==============================] - 3s 13ms/step - loss: 0.0256 - last_time_step_mse: 0.0152 - val_loss: 0.0246 - val_last_time_step_mse: 0.0141\n",
            "Epoch 6/20\n",
            "219/219 [==============================] - 3s 13ms/step - loss: 0.0239 - last_time_step_mse: 0.0129 - val_loss: 0.0227 - val_last_time_step_mse: 0.0115\n",
            "Epoch 7/20\n",
            "219/219 [==============================] - 3s 13ms/step - loss: 0.0228 - last_time_step_mse: 0.0116 - val_loss: 0.0225 - val_last_time_step_mse: 0.0116\n",
            "Epoch 8/20\n",
            "219/219 [==============================] - 3s 13ms/step - loss: 0.0222 - last_time_step_mse: 0.0111 - val_loss: 0.0216 - val_last_time_step_mse: 0.0105\n",
            "Epoch 9/20\n",
            "219/219 [==============================] - 3s 13ms/step - loss: 0.0215 - last_time_step_mse: 0.0109 - val_loss: 0.0217 - val_last_time_step_mse: 0.0109\n",
            "Epoch 10/20\n",
            "219/219 [==============================] - 3s 13ms/step - loss: 0.0216 - last_time_step_mse: 0.0107 - val_loss: 0.0210 - val_last_time_step_mse: 0.0102\n",
            "Epoch 11/20\n",
            "219/219 [==============================] - 3s 13ms/step - loss: 0.0210 - last_time_step_mse: 0.0103 - val_loss: 0.0208 - val_last_time_step_mse: 0.0100\n",
            "Epoch 12/20\n",
            "219/219 [==============================] - 3s 13ms/step - loss: 0.0209 - last_time_step_mse: 0.0102 - val_loss: 0.0208 - val_last_time_step_mse: 0.0102\n",
            "Epoch 13/20\n",
            "219/219 [==============================] - 3s 13ms/step - loss: 0.0206 - last_time_step_mse: 0.0098 - val_loss: 0.0206 - val_last_time_step_mse: 0.0101\n",
            "Epoch 14/20\n",
            "219/219 [==============================] - 3s 13ms/step - loss: 0.0205 - last_time_step_mse: 0.0100 - val_loss: 0.0204 - val_last_time_step_mse: 0.0099\n",
            "Epoch 15/20\n",
            "219/219 [==============================] - 3s 13ms/step - loss: 0.0202 - last_time_step_mse: 0.0099 - val_loss: 0.0199 - val_last_time_step_mse: 0.0093\n",
            "Epoch 16/20\n",
            "219/219 [==============================] - 3s 13ms/step - loss: 0.0202 - last_time_step_mse: 0.0097 - val_loss: 0.0201 - val_last_time_step_mse: 0.0095\n",
            "Epoch 17/20\n",
            "219/219 [==============================] - 3s 13ms/step - loss: 0.0197 - last_time_step_mse: 0.0094 - val_loss: 0.0197 - val_last_time_step_mse: 0.0091\n",
            "Epoch 18/20\n",
            "219/219 [==============================] - 3s 13ms/step - loss: 0.0195 - last_time_step_mse: 0.0090 - val_loss: 0.0192 - val_last_time_step_mse: 0.0086\n",
            "Epoch 19/20\n",
            "219/219 [==============================] - 3s 13ms/step - loss: 0.0190 - last_time_step_mse: 0.0088 - val_loss: 0.0188 - val_last_time_step_mse: 0.0084\n",
            "Epoch 20/20\n",
            "219/219 [==============================] - 3s 13ms/step - loss: 0.0186 - last_time_step_mse: 0.0084 - val_loss: 0.0184 - val_last_time_step_mse: 0.0080\n"
          ]
        }
      ],
      "source": [
        "np.random.seed(42)\n",
        "tf.random.set_seed(42)\n",
        "\n",
        "model = keras.models.Sequential([\n",
        "    keras.layers.Conv1D(filters=20, kernel_size=4, strides=2, padding=\"valid\",\n",
        "                        input_shape=[None, 1]),\n",
        "    keras.layers.GRU(20, return_sequences=True),\n",
        "    keras.layers.GRU(20, return_sequences=True),\n",
        "    keras.layers.TimeDistributed(keras.layers.Dense(10))\n",
        "])\n",
        "\n",
        "model.compile(loss=\"mse\", optimizer=\"adam\", metrics=[last_time_step_mse])\n",
        "history = model.fit(X_train, Y_train[:, 3::2], epochs=20,\n",
        "                    validation_data=(X_valid, Y_valid[:, 3::2]))"
      ]
    },
    {
      "cell_type": "markdown",
      "metadata": {
        "id": "ZuGS2fCUHqPk"
      },
      "source": [
        "## WaveNet"
      ]
    },
    {
      "cell_type": "markdown",
      "source": [
        "> 이 네트워크는 층마다 (각 뉴런의 입력이 떨어져 있는 간격인) 팽창 비율을 두 배로 늘리는 1D 합성곱 층을 쌓는다. \n",
        "* 첫 번째 합성곱 층이 한 번에 2개의 타임 스텝만 바라본다. 그 다음층은 4개의 타임 스텝을 보고(수용장의 길이가 4개인 타임 스텝이 되는 것), 그 다음은 8개의 타임 스텝을 보는 식이다.\n",
        "* 이런 식으로 하위 층은 단기 패턴을 학습하고 상위 층은 장기 패턴을 학습한다. 팽창 비율을 2배로 늘린 덕분에 네트워크는 아주 긴 시퀀스를 매우 효율적으로 처리할 수 있다."
      ],
      "metadata": {
        "id": "7zQlCizwNaIY"
      }
    },
    {
      "cell_type": "markdown",
      "metadata": {
        "id": "IrAQuioFHqPk"
      },
      "source": [
        "```\n",
        "C2  /\\ /\\ /\\ /\\ /\\ /\\ /\\ /\\ /\\ /\\ /\\ /\\ /\\.../\\ /\\ /\\ /\\ /\\ /\\\n",
        "   \\  /  \\  /  \\  /  \\  /  \\  /  \\  /  \\       /  \\  /  \\  /  \\\n",
        "     /    \\      /    \\      /    \\                 /    \\\n",
        "C1  /\\ /\\ /\\ /\\ /\\ /\\ /\\ /\\ /\\ /\\ /\\  /\\ /.../\\ /\\ /\\ /\\ /\\ /\\ /\\\n",
        "X: 0  1  2  3  4  5  6  7  8  9  10 11 12 ... 43 44 45 46 47 48 49\n",
        "Y: 1  2  3  4  5  6  7  8  9  10 11 12 13 ... 44 45 46 47 48 49 50\n",
        "  /10 11 12 13 14 15 16 17 18 19 20 21 22 ... 53 54 55 56 57 58 59\n",
        "```"
      ]
    },
    {
      "cell_type": "code",
      "execution_count": null,
      "metadata": {
        "id": "-nePy_ThHqPk",
        "outputId": "307d3ae7-318a-45c7-8c32-af02c64597a3"
      },
      "outputs": [
        {
          "name": "stdout",
          "output_type": "stream",
          "text": [
            "Epoch 1/20\n",
            "219/219 [==============================] - 2s 7ms/step - loss: 0.0981 - last_time_step_mse: 0.0891 - val_loss: 0.0365 - val_last_time_step_mse: 0.0231\n",
            "Epoch 2/20\n",
            "219/219 [==============================] - 1s 7ms/step - loss: 0.0340 - last_time_step_mse: 0.0212 - val_loss: 0.0294 - val_last_time_step_mse: 0.0166\n",
            "Epoch 3/20\n",
            "219/219 [==============================] - 1s 7ms/step - loss: 0.0291 - last_time_step_mse: 0.0163 - val_loss: 0.0269 - val_last_time_step_mse: 0.0145\n",
            "Epoch 4/20\n",
            "219/219 [==============================] - 1s 6ms/step - loss: 0.0265 - last_time_step_mse: 0.0141 - val_loss: 0.0254 - val_last_time_step_mse: 0.0130\n",
            "Epoch 5/20\n",
            "219/219 [==============================] - 1s 6ms/step - loss: 0.0251 - last_time_step_mse: 0.0129 - val_loss: 0.0244 - val_last_time_step_mse: 0.0122\n",
            "Epoch 6/20\n",
            "219/219 [==============================] - 2s 7ms/step - loss: 0.0242 - last_time_step_mse: 0.0121 - val_loss: 0.0233 - val_last_time_step_mse: 0.0108\n",
            "Epoch 7/20\n",
            "219/219 [==============================] - 1s 6ms/step - loss: 0.0234 - last_time_step_mse: 0.0112 - val_loss: 0.0230 - val_last_time_step_mse: 0.0109\n",
            "Epoch 8/20\n",
            "219/219 [==============================] - 1s 7ms/step - loss: 0.0228 - last_time_step_mse: 0.0105 - val_loss: 0.0228 - val_last_time_step_mse: 0.0105\n",
            "Epoch 9/20\n",
            "219/219 [==============================] - 1s 6ms/step - loss: 0.0222 - last_time_step_mse: 0.0105 - val_loss: 0.0225 - val_last_time_step_mse: 0.0107\n",
            "Epoch 10/20\n",
            "219/219 [==============================] - 2s 7ms/step - loss: 0.0221 - last_time_step_mse: 0.0102 - val_loss: 0.0214 - val_last_time_step_mse: 0.0092\n",
            "Epoch 11/20\n",
            "219/219 [==============================] - 1s 7ms/step - loss: 0.0214 - last_time_step_mse: 0.0095 - val_loss: 0.0211 - val_last_time_step_mse: 0.0091\n",
            "Epoch 12/20\n",
            "219/219 [==============================] - 1s 7ms/step - loss: 0.0212 - last_time_step_mse: 0.0092 - val_loss: 0.0214 - val_last_time_step_mse: 0.0099\n",
            "Epoch 13/20\n",
            "219/219 [==============================] - 1s 7ms/step - loss: 0.0209 - last_time_step_mse: 0.0090 - val_loss: 0.0204 - val_last_time_step_mse: 0.0084\n",
            "Epoch 14/20\n",
            "219/219 [==============================] - 1s 6ms/step - loss: 0.0207 - last_time_step_mse: 0.0088 - val_loss: 0.0202 - val_last_time_step_mse: 0.0084\n",
            "Epoch 15/20\n",
            "219/219 [==============================] - 2s 7ms/step - loss: 0.0202 - last_time_step_mse: 0.0085 - val_loss: 0.0198 - val_last_time_step_mse: 0.0079\n",
            "Epoch 16/20\n",
            "219/219 [==============================] - 1s 7ms/step - loss: 0.0205 - last_time_step_mse: 0.0086 - val_loss: 0.0197 - val_last_time_step_mse: 0.0080\n",
            "Epoch 17/20\n",
            "219/219 [==============================] - 1s 6ms/step - loss: 0.0196 - last_time_step_mse: 0.0078 - val_loss: 0.0194 - val_last_time_step_mse: 0.0077\n",
            "Epoch 18/20\n",
            "219/219 [==============================] - 1s 7ms/step - loss: 0.0194 - last_time_step_mse: 0.0074 - val_loss: 0.0192 - val_last_time_step_mse: 0.0076\n",
            "Epoch 19/20\n",
            "219/219 [==============================] - 2s 7ms/step - loss: 0.0193 - last_time_step_mse: 0.0077 - val_loss: 0.0188 - val_last_time_step_mse: 0.0072\n",
            "Epoch 20/20\n",
            "219/219 [==============================] - 2s 7ms/step - loss: 0.0190 - last_time_step_mse: 0.0073 - val_loss: 0.0188 - val_last_time_step_mse: 0.0072\n"
          ]
        }
      ],
      "source": [
        "np.random.seed(42)\n",
        "tf.random.set_seed(42)\n",
        "\n",
        "model = keras.models.Sequential()\n",
        "model.add(keras.layers.InputLayer(input_shape=[None, 1]))\n",
        "for rate in (1, 2, 4, 8) * 2:\n",
        "    model.add(keras.layers.Conv1D(filters=20, kernel_size=2, padding=\"causal\",\n",
        "                                  activation=\"relu\", dilation_rate=rate))\n",
        "model.add(keras.layers.Conv1D(filters=10, kernel_size=1))\n",
        "model.compile(loss=\"mse\", optimizer=\"adam\", metrics=[last_time_step_mse])\n",
        "history = model.fit(X_train, Y_train, epochs=20,\n",
        "                    validation_data=(X_valid, Y_valid))"
      ]
    },
    {
      "cell_type": "markdown",
      "metadata": {
        "id": "JN9BmaeUHqPl"
      },
      "source": [
        "다음은 논문에 정의된 원본 WaveNet입니다: ReLU 대신에 GatedActivationUnit과 스킵 연결을 사용합니다. 또한 점점 더 시퀀스가 짧아지는 것을 피하기 위해 왼쪽에 0으로 패딩합니다:"
      ]
    },
    {
      "cell_type": "code",
      "execution_count": null,
      "metadata": {
        "id": "Wtdb4A8tHqPl"
      },
      "outputs": [],
      "source": [
        "class GatedActivationUnit(keras.layers.Layer):\n",
        "    def __init__(self, activation=\"tanh\", **kwargs):\n",
        "        super().__init__(**kwargs)\n",
        "        self.activation = keras.activations.get(activation)\n",
        "    def call(self, inputs):\n",
        "        n_filters = inputs.shape[-1] // 2\n",
        "        linear_output = self.activation(inputs[..., :n_filters])\n",
        "        gate = keras.activations.sigmoid(inputs[..., n_filters:])\n",
        "        return self.activation(linear_output) * gate"
      ]
    },
    {
      "cell_type": "code",
      "execution_count": null,
      "metadata": {
        "id": "Qb9DKe-uHqPl"
      },
      "outputs": [],
      "source": [
        "def wavenet_residual_block(inputs, n_filters, dilation_rate):\n",
        "    z = keras.layers.Conv1D(2 * n_filters, kernel_size=2, padding=\"causal\",\n",
        "                            dilation_rate=dilation_rate)(inputs)\n",
        "    z = GatedActivationUnit()(z)\n",
        "    z = keras.layers.Conv1D(n_filters, kernel_size=1)(z)\n",
        "    return keras.layers.Add()([z, inputs]), z"
      ]
    },
    {
      "cell_type": "code",
      "execution_count": null,
      "metadata": {
        "id": "mSrChsBiHqPl"
      },
      "outputs": [],
      "source": [
        "keras.backend.clear_session()\n",
        "np.random.seed(42)\n",
        "tf.random.set_seed(42)\n",
        "\n",
        "n_layers_per_block = 3 # 10 in the paper\n",
        "n_blocks = 1 # 3 in the paper\n",
        "n_filters = 32 # 128 in the paper\n",
        "n_outputs = 10 # 256 in the paper\n",
        "\n",
        "inputs = keras.layers.Input(shape=[None, 1])\n",
        "z = keras.layers.Conv1D(n_filters, kernel_size=2, padding=\"causal\")(inputs)\n",
        "skip_to_last = []\n",
        "for dilation_rate in [2**i for i in range(n_layers_per_block)] * n_blocks:\n",
        "    z, skip = wavenet_residual_block(z, n_filters, dilation_rate)\n",
        "    skip_to_last.append(skip)\n",
        "z = keras.activations.relu(keras.layers.Add()(skip_to_last))\n",
        "z = keras.layers.Conv1D(n_filters, kernel_size=1, activation=\"relu\")(z)\n",
        "Y_proba = keras.layers.Conv1D(n_outputs, kernel_size=1, activation=\"softmax\")(z)\n",
        "\n",
        "model = keras.models.Model(inputs=[inputs], outputs=[Y_proba])"
      ]
    },
    {
      "cell_type": "code",
      "execution_count": null,
      "metadata": {
        "id": "u0JjgHqjHqPl",
        "outputId": "c563316e-7fb8-49f9-e301-b0f0da29917a"
      },
      "outputs": [
        {
          "name": "stdout",
          "output_type": "stream",
          "text": [
            "Epoch 1/2\n",
            "219/219 [==============================] - 3s 9ms/step - loss: 0.1387 - last_time_step_mse: 0.1347 - val_loss: 0.1229 - val_last_time_step_mse: 0.1199\n",
            "Epoch 2/2\n",
            "219/219 [==============================] - 2s 8ms/step - loss: 0.1222 - last_time_step_mse: 0.1161 - val_loss: 0.1217 - val_last_time_step_mse: 0.1189\n"
          ]
        }
      ],
      "source": [
        "model.compile(loss=\"mse\", optimizer=\"adam\", metrics=[last_time_step_mse])\n",
        "history = model.fit(X_train, Y_train, epochs=2,\n",
        "                    validation_data=(X_valid, Y_valid))"
      ]
    },
    {
      "cell_type": "markdown",
      "metadata": {
        "id": "-Fp8qQktHqPm"
      },
      "source": [
        "이 장에서 RNN의 기초 사항을 살펴 보았고 RNN을 사용해 시퀀스(소위 시계열)을 처리했습니다. CNN을 포함하여 시퀀스를 처리하는 다른 방법도 알아 보았습니다. 다음 장에서는 RNN을 자연어 처리에 적용해 보겠습니다. 그리고 RNN에 대해 더 자세히 배워 보겠습니다(양방향 RNN, 상태가 있는 RNN과 상태가 없는 RNN, 인코더-디코더, 어텐션을 사용한 인코더-디코더). 또한 어텐션만 사용하는 구조인 트랜스포머도 살펴 보겠습니다."
      ]
    }
  ],
  "metadata": {
    "kernelspec": {
      "display_name": "Python 3 (ipykernel)",
      "language": "python",
      "name": "python3"
    },
    "language_info": {
      "codemirror_mode": {
        "name": "ipython",
        "version": 3
      },
      "file_extension": ".py",
      "mimetype": "text/x-python",
      "name": "python",
      "nbconvert_exporter": "python",
      "pygments_lexer": "ipython3",
      "version": "3.7.3"
    },
    "nav_menu": {},
    "toc": {
      "navigate_menu": true,
      "number_sections": true,
      "sideBar": true,
      "threshold": 6,
      "toc_cell": false,
      "toc_section_display": "block",
      "toc_window_display": false
    },
    "colab": {
      "provenance": [],
      "collapsed_sections": [],
      "toc_visible": true
    }
  },
  "nbformat": 4,
  "nbformat_minor": 0
}