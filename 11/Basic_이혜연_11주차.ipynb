{
  "cells": [
    {
      "cell_type": "markdown",
      "id": "98c7592f",
      "metadata": {
        "id": "98c7592f"
      },
      "source": [
        "**11장 – 심층 신경망 훈련하기**"
      ]
    },
    {
      "cell_type": "markdown",
      "id": "d64f3e3e",
      "metadata": {
        "id": "d64f3e3e"
      },
      "source": [
        "<table align=\"left\">\n",
        "  <td>\n",
        "    <a target=\"_blank\" href=\"https://colab.research.google.com/github/rickiepark/handson-ml2/blob/master/11_training_deep_neural_networks.ipynb\"><img src=\"https://www.tensorflow.org/images/colab_logo_32px.png\" />구글 코랩에서 실행하기</a>\n",
        "  </td>\n",
        "</table>"
      ]
    },
    {
      "cell_type": "markdown",
      "id": "ac978c5c",
      "metadata": {
        "id": "ac978c5c"
      },
      "source": [
        "# 설정"
      ]
    },
    {
      "cell_type": "markdown",
      "id": "2587df6c",
      "metadata": {
        "id": "2587df6c"
      },
      "source": [
        "먼저 몇 개의 모듈을 임포트합니다. 맷플롯립 그래프를 인라인으로 출력하도록 만들고 그림을 저장하는 함수를 준비합니다. 또한 파이썬 버전이 3.5 이상인지 확인합니다(파이썬 2.x에서도 동작하지만 곧 지원이 중단되므로 파이썬 3을 사용하는 것이 좋습니다). 사이킷런 버전이 0.20 이상인지와 텐서플로 버전이 2.0 이상인지 확인합니다."
      ]
    },
    {
      "cell_type": "code",
      "execution_count": 1,
      "id": "3b742d72",
      "metadata": {
        "execution": {
          "iopub.execute_input": "2021-10-10T01:38:48.460540Z",
          "iopub.status.busy": "2021-10-10T01:38:48.459595Z",
          "iopub.status.idle": "2021-10-10T01:38:50.305510Z",
          "shell.execute_reply": "2021-10-10T01:38:50.304882Z"
        },
        "id": "3b742d72"
      },
      "outputs": [],
      "source": [
        "# 파이썬 ≥3.5 필수\n",
        "import sys\n",
        "assert sys.version_info >= (3, 5)\n",
        "\n",
        "# 사이킷런 ≥0.20 필수\n",
        "import sklearn\n",
        "assert sklearn.__version__ >= \"0.20\"\n",
        "\n",
        "# 텐서플로 ≥2.0 필수\n",
        "import tensorflow as tf\n",
        "from tensorflow import keras\n",
        "assert tf.__version__ >= \"2.0\"\n",
        "\n",
        "%load_ext tensorboard\n",
        "\n",
        "# 공통 모듈 임포트\n",
        "import numpy as np\n",
        "import os\n",
        "\n",
        "# 노트북 실행 결과를 동일하게 유지하기 위해\n",
        "np.random.seed(42)\n",
        "\n",
        "# 깔끔한 그래프 출력을 위해\n",
        "%matplotlib inline\n",
        "import matplotlib as mpl\n",
        "import matplotlib.pyplot as plt\n",
        "mpl.rc('axes', labelsize=14)\n",
        "mpl.rc('xtick', labelsize=12)\n",
        "mpl.rc('ytick', labelsize=12)\n",
        "\n",
        "# 그림을 저장할 위치\n",
        "PROJECT_ROOT_DIR = \".\"\n",
        "CHAPTER_ID = \"deep\"\n",
        "IMAGES_PATH = os.path.join(PROJECT_ROOT_DIR, \"images\", CHAPTER_ID)\n",
        "os.makedirs(IMAGES_PATH, exist_ok=True)\n",
        "\n",
        "def save_fig(fig_id, tight_layout=True, fig_extension=\"png\", resolution=300):\n",
        "    path = os.path.join(IMAGES_PATH, fig_id + \".\" + fig_extension)\n",
        "    print(\"그림 저장:\", fig_id)\n",
        "    if tight_layout:\n",
        "        plt.tight_layout()\n",
        "    plt.savefig(path, format=fig_extension, dpi=resolution)"
      ]
    },
    {
      "cell_type": "markdown",
      "id": "0c1608c4",
      "metadata": {
        "id": "0c1608c4"
      },
      "source": [
        "# 그레이디언트 소실과 폭주 문제"
      ]
    },
    {
      "cell_type": "code",
      "execution_count": 2,
      "id": "23aaa4bf",
      "metadata": {
        "execution": {
          "iopub.execute_input": "2021-10-10T01:38:50.309533Z",
          "iopub.status.busy": "2021-10-10T01:38:50.309024Z",
          "iopub.status.idle": "2021-10-10T01:38:50.312073Z",
          "shell.execute_reply": "2021-10-10T01:38:50.311605Z"
        },
        "id": "23aaa4bf"
      },
      "outputs": [],
      "source": [
        "def logit(z):\n",
        "    return 1 / (1 + np.exp(-z))"
      ]
    },
    {
      "cell_type": "code",
      "execution_count": 3,
      "id": "311c5ece",
      "metadata": {
        "colab": {
          "base_uri": "https://localhost:8080/",
          "height": 316
        },
        "execution": {
          "iopub.execute_input": "2021-10-10T01:38:50.332774Z",
          "iopub.status.busy": "2021-10-10T01:38:50.331093Z",
          "iopub.status.idle": "2021-10-10T01:38:50.828592Z",
          "shell.execute_reply": "2021-10-10T01:38:50.828047Z"
        },
        "id": "311c5ece",
        "outputId": "71a777f6-8e92-427c-bdf5-078b3e3251da"
      },
      "outputs": [
        {
          "output_type": "stream",
          "name": "stdout",
          "text": [
            "그림 저장: sigmoid_saturation_plot\n"
          ]
        },
        {
          "output_type": "display_data",
          "data": {
            "text/plain": [
              "<Figure size 432x288 with 1 Axes>"
            ],
            "image/png": "[encoded data removed]"
          },
          "metadata": {
            "needs_background": "light"
          }
        }
      ],
      "source": [
        "z = np.linspace(-5, 5, 200)\n",
        "\n",
        "plt.plot([-5, 5], [0, 0], 'k-')\n",
        "plt.plot([-5, 5], [1, 1], 'k--')\n",
        "plt.plot([0, 0], [-0.2, 1.2], 'k-')\n",
        "plt.plot([-5, 5], [-3/4, 7/4], 'g--')\n",
        "plt.plot(z, logit(z), \"b-\", linewidth=2)\n",
        "props = dict(facecolor='black', shrink=0.1)\n",
        "plt.annotate('Saturating', xytext=(3.5, 0.7), xy=(5, 1), arrowprops=props, fontsize=14, ha=\"center\")\n",
        "plt.annotate('Saturating', xytext=(-3.5, 0.3), xy=(-5, 0), arrowprops=props, fontsize=14, ha=\"center\")\n",
        "plt.annotate('Linear', xytext=(2, 0.2), xy=(0, 0.5), arrowprops=props, fontsize=14, ha=\"center\")\n",
        "plt.grid(True)\n",
        "plt.title(\"Sigmoid activation function\", fontsize=14)\n",
        "plt.axis([-5, 5, -0.2, 1.2])\n",
        "\n",
        "save_fig(\"sigmoid_saturation_plot\")\n",
        "plt.show()"
      ]
    },
    {
      "cell_type": "markdown",
      "source": [
        "입력이 커지면 0이나 1로 수렴해서 기울기가 0에 가까워짐."
      ],
      "metadata": {
        "id": "GzLQyL61-nv1"
      },
      "id": "GzLQyL61-nv1"
    },
    {
      "cell_type": "markdown",
      "id": "554274f8",
      "metadata": {
        "id": "554274f8"
      },
      "source": [
        "## Xavier 초기화와 He 초기화"
      ]
    },
    {
      "cell_type": "code",
      "execution_count": null,
      "id": "e9ae4771",
      "metadata": {
        "colab": {
          "base_uri": "https://localhost:8080/"
        },
        "execution": {
          "iopub.execute_input": "2021-10-10T01:38:50.833228Z",
          "iopub.status.busy": "2021-10-10T01:38:50.832616Z",
          "iopub.status.idle": "2021-10-10T01:38:51.066605Z",
          "shell.execute_reply": "2021-10-10T01:38:51.066207Z"
        },
        "id": "e9ae4771",
        "outputId": "59e0c68a-57c7-4b97-e1ba-c5ec4699143f"
      },
      "outputs": [
        {
          "data": {
            "text/plain": [
              "['Constant',\n",
              " 'GlorotNormal',\n",
              " 'GlorotUniform',\n",
              " 'HeNormal',\n",
              " 'HeUniform',\n",
              " 'Identity',\n",
              " 'Initializer',\n",
              " 'LecunNormal',\n",
              " 'LecunUniform',\n",
              " 'Ones',\n",
              " 'Orthogonal',\n",
              " 'RandomNormal',\n",
              " 'RandomUniform',\n",
              " 'TruncatedNormal',\n",
              " 'VarianceScaling',\n",
              " 'Zeros',\n",
              " 'constant',\n",
              " 'deserialize',\n",
              " 'get',\n",
              " 'glorot_normal',\n",
              " 'glorot_uniform',\n",
              " 'he_normal',\n",
              " 'he_uniform',\n",
              " 'identity',\n",
              " 'lecun_normal',\n",
              " 'lecun_uniform',\n",
              " 'ones',\n",
              " 'orthogonal',\n",
              " 'random_normal',\n",
              " 'random_uniform',\n",
              " 'serialize',\n",
              " 'truncated_normal',\n",
              " 'variance_scaling',\n",
              " 'zeros']"
            ]
          },
          "execution_count": 4,
          "metadata": {},
          "output_type": "execute_result"
        }
      ],
      "source": [
        "[name for name in dir(keras.initializers) if not name.startswith(\"_\")]"
      ]
    },
    {
      "cell_type": "code",
      "execution_count": 4,
      "id": "4cd1bb45",
      "metadata": {
        "colab": {
          "base_uri": "https://localhost:8080/"
        },
        "execution": {
          "iopub.execute_input": "2021-10-10T01:38:51.069690Z",
          "iopub.status.busy": "2021-10-10T01:38:51.068919Z",
          "iopub.status.idle": "2021-10-10T01:38:51.079268Z",
          "shell.execute_reply": "2021-10-10T01:38:51.079684Z"
        },
        "id": "4cd1bb45",
        "outputId": "377bc473-c0c2-492a-ad56-ca627a7351db"
      },
      "outputs": [
        {
          "output_type": "execute_result",
          "data": {
            "text/plain": [
              "<keras.layers.core.dense.Dense at 0x7fa4256bfed0>"
            ]
          },
          "metadata": {},
          "execution_count": 4
        }
      ],
      "source": [
        "keras.layers.Dense(10, activation=\"relu\", kernel_initializer=\"he_normal\")"
      ]
    },
    {
      "cell_type": "code",
      "execution_count": 5,
      "id": "41fcc466",
      "metadata": {
        "colab": {
          "base_uri": "https://localhost:8080/"
        },
        "execution": {
          "iopub.execute_input": "2021-10-10T01:38:51.082808Z",
          "iopub.status.busy": "2021-10-10T01:38:51.081918Z",
          "iopub.status.idle": "2021-10-10T01:38:51.089362Z",
          "shell.execute_reply": "2021-10-10T01:38:51.088952Z"
        },
        "id": "41fcc466",
        "outputId": "5ac535bb-1f72-4bae-830a-5d6b8fd396a5"
      },
      "outputs": [
        {
          "output_type": "execute_result",
          "data": {
            "text/plain": [
              "<keras.layers.core.dense.Dense at 0x7fa49e09d450>"
            ]
          },
          "metadata": {},
          "execution_count": 5
        }
      ],
      "source": [
        "init = keras.initializers.VarianceScaling(scale=2., mode='fan_avg',\n",
        "                                          distribution='uniform')\n",
        "keras.layers.Dense(10, activation=\"relu\", kernel_initializer=init)"
      ]
    },
    {
      "cell_type": "markdown",
      "id": "96bcf452",
      "metadata": {
        "id": "96bcf452"
      },
      "source": [
        "## 수렴하지 않는 활성화 함수"
      ]
    },
    {
      "cell_type": "markdown",
      "id": "f8f59f9e",
      "metadata": {
        "id": "f8f59f9e"
      },
      "source": [
        "### LeakyReLU"
      ]
    },
    {
      "cell_type": "code",
      "execution_count": 6,
      "id": "05495910",
      "metadata": {
        "execution": {
          "iopub.execute_input": "2021-10-10T01:38:51.093592Z",
          "iopub.status.busy": "2021-10-10T01:38:51.092825Z",
          "iopub.status.idle": "2021-10-10T01:38:51.095060Z",
          "shell.execute_reply": "2021-10-10T01:38:51.094664Z"
        },
        "id": "05495910"
      },
      "outputs": [],
      "source": [
        "def leaky_relu(z, alpha=0.01):\n",
        "    return np.maximum(alpha*z, z)"
      ]
    },
    {
      "cell_type": "code",
      "execution_count": 7,
      "id": "51324951",
      "metadata": {
        "colab": {
          "base_uri": "https://localhost:8080/",
          "height": 316
        },
        "execution": {
          "iopub.execute_input": "2021-10-10T01:38:51.115275Z",
          "iopub.status.busy": "2021-10-10T01:38:51.113109Z",
          "iopub.status.idle": "2021-10-10T01:38:51.472111Z",
          "shell.execute_reply": "2021-10-10T01:38:51.472494Z"
        },
        "id": "51324951",
        "outputId": "944314de-c777-436e-9a20-68518c69142f"
      },
      "outputs": [
        {
          "output_type": "stream",
          "name": "stdout",
          "text": [
            "그림 저장: leaky_relu_plot\n"
          ]
        },
        {
          "output_type": "display_data",
          "data": {
            "text/plain": [
              "<Figure size 432x288 with 1 Axes>"
            ],
            "image/png": "[encoded data removed]"
          },
          "metadata": {
            "needs_background": "light"
          }
        }
      ],
      "source": [
        "plt.plot(z, leaky_relu(z, 0.05), \"b-\", linewidth=2)\n",
        "plt.plot([-5, 5], [0, 0], 'k-')\n",
        "plt.plot([0, 0], [-0.5, 4.2], 'k-')\n",
        "plt.grid(True)\n",
        "props = dict(facecolor='black', shrink=0.1)\n",
        "plt.annotate('Leak', xytext=(-3.5, 0.5), xy=(-5, -0.2), arrowprops=props, fontsize=14, ha=\"center\")\n",
        "plt.title(\"Leaky ReLU activation function\", fontsize=14)\n",
        "plt.axis([-5, 5, -0.5, 4.2])\n",
        "\n",
        "save_fig(\"leaky_relu_plot\")\n",
        "plt.show()"
      ]
    },
    {
      "cell_type": "code",
      "execution_count": 8,
      "id": "e9096e34",
      "metadata": {
        "colab": {
          "base_uri": "https://localhost:8080/"
        },
        "execution": {
          "iopub.execute_input": "2021-10-10T01:38:51.477786Z",
          "iopub.status.busy": "2021-10-10T01:38:51.477118Z",
          "iopub.status.idle": "2021-10-10T01:38:51.479835Z",
          "shell.execute_reply": "2021-10-10T01:38:51.480201Z"
        },
        "id": "e9096e34",
        "outputId": "196197e0-e270-4e52-d3d5-4142f1e6517d"
      },
      "outputs": [
        {
          "output_type": "execute_result",
          "data": {
            "text/plain": [
              "['deserialize',\n",
              " 'elu',\n",
              " 'exponential',\n",
              " 'gelu',\n",
              " 'get',\n",
              " 'hard_sigmoid',\n",
              " 'linear',\n",
              " 'relu',\n",
              " 'selu',\n",
              " 'serialize',\n",
              " 'sigmoid',\n",
              " 'softmax',\n",
              " 'softplus',\n",
              " 'softsign',\n",
              " 'swish',\n",
              " 'tanh']"
            ]
          },
          "metadata": {},
          "execution_count": 8
        }
      ],
      "source": [
        "[m for m in dir(keras.activations) if not m.startswith(\"_\")]"
      ]
    },
    {
      "cell_type": "code",
      "execution_count": 9,
      "id": "53b492c3",
      "metadata": {
        "colab": {
          "base_uri": "https://localhost:8080/"
        },
        "execution": {
          "iopub.execute_input": "2021-10-10T01:38:51.484467Z",
          "iopub.status.busy": "2021-10-10T01:38:51.483860Z",
          "iopub.status.idle": "2021-10-10T01:38:51.487056Z",
          "shell.execute_reply": "2021-10-10T01:38:51.486549Z"
        },
        "id": "53b492c3",
        "outputId": "8987717c-aaf8-4871-dbb3-b213e6ada9da"
      },
      "outputs": [
        {
          "output_type": "execute_result",
          "data": {
            "text/plain": [
              "['LeakyReLU', 'PReLU', 'ReLU', 'ThresholdedReLU']"
            ]
          },
          "metadata": {},
          "execution_count": 9
        }
      ],
      "source": [
        "[m for m in dir(keras.layers) if \"relu\" in m.lower()]"
      ]
    },
    {
      "cell_type": "markdown",
      "id": "d0423ff4",
      "metadata": {
        "id": "d0423ff4"
      },
      "source": [
        "LeakyReLU를 사용해 패션 MNIST에서 신경망을 훈련해 보죠:"
      ]
    },
    {
      "cell_type": "code",
      "execution_count": 10,
      "id": "e8d26b2f",
      "metadata": {
        "execution": {
          "iopub.execute_input": "2021-10-10T01:38:51.491570Z",
          "iopub.status.busy": "2021-10-10T01:38:51.490837Z",
          "iopub.status.idle": "2021-10-10T01:38:52.134589Z",
          "shell.execute_reply": "2021-10-10T01:38:52.135056Z"
        },
        "id": "e8d26b2f",
        "colab": {
          "base_uri": "https://localhost:8080/"
        },
        "outputId": "7e656e35-1b3f-4c9b-f224-c49504a358eb"
      },
      "outputs": [
        {
          "output_type": "stream",
          "name": "stdout",
          "text": [
            "Downloading data from https://storage.googleapis.com/tensorflow/tf-keras-datasets/train-labels-idx1-ubyte.gz\n",
            "32768/29515 [=================================] - 0s 0us/step\n",
            "40960/29515 [=========================================] - 0s 0us/step\n",
            "Downloading data from https://storage.googleapis.com/tensorflow/tf-keras-datasets/train-images-idx3-ubyte.gz\n",
            "26427392/26421880 [==============================] - 0s 0us/step\n",
            "26435584/26421880 [==============================] - 0s 0us/step\n",
            "Downloading data from https://storage.googleapis.com/tensorflow/tf-keras-datasets/t10k-labels-idx1-ubyte.gz\n",
            "16384/5148 [===============================================================================================] - 0s 0us/step\n",
            "Downloading data from https://storage.googleapis.com/tensorflow/tf-keras-datasets/t10k-images-idx3-ubyte.gz\n",
            "4423680/4422102 [==============================] - 0s 0us/step\n",
            "4431872/4422102 [==============================] - 0s 0us/step\n"
          ]
        }
      ],
      "source": [
        "(X_train_full, y_train_full), (X_test, y_test) = keras.datasets.fashion_mnist.load_data()\n",
        "X_train_full = X_train_full / 255.0\n",
        "X_test = X_test / 255.0\n",
        "X_valid, X_train = X_train_full[:5000], X_train_full[5000:]\n",
        "y_valid, y_train = y_train_full[:5000], y_train_full[5000:]"
      ]
    },
    {
      "cell_type": "code",
      "execution_count": 11,
      "id": "544a464a",
      "metadata": {
        "execution": {
          "iopub.execute_input": "2021-10-10T01:38:52.138875Z",
          "iopub.status.busy": "2021-10-10T01:38:52.137680Z",
          "iopub.status.idle": "2021-10-10T01:38:52.183038Z",
          "shell.execute_reply": "2021-10-10T01:38:52.183455Z"
        },
        "id": "544a464a"
      },
      "outputs": [],
      "source": [
        "tf.random.set_seed(42)\n",
        "np.random.seed(42)\n",
        "\n",
        "model = keras.models.Sequential([\n",
        "    keras.layers.Flatten(input_shape=[28, 28]),\n",
        "    keras.layers.Dense(300, kernel_initializer=\"he_normal\"),\n",
        "    keras.layers.LeakyReLU(),\n",
        "    keras.layers.Dense(100, kernel_initializer=\"he_normal\"),\n",
        "    keras.layers.LeakyReLU(),\n",
        "    keras.layers.Dense(10, activation=\"softmax\")\n",
        "])"
      ]
    },
    {
      "cell_type": "code",
      "execution_count": 12,
      "id": "ab3a5e0e",
      "metadata": {
        "execution": {
          "iopub.execute_input": "2021-10-10T01:38:52.188151Z",
          "iopub.status.busy": "2021-10-10T01:38:52.187685Z",
          "iopub.status.idle": "2021-10-10T01:38:52.196173Z",
          "shell.execute_reply": "2021-10-10T01:38:52.196553Z"
        },
        "id": "ab3a5e0e"
      },
      "outputs": [],
      "source": [
        "model.compile(loss=\"sparse_categorical_crossentropy\",\n",
        "              optimizer=keras.optimizers.SGD(learning_rate=1e-3),\n",
        "              metrics=[\"accuracy\"])"
      ]
    },
    {
      "cell_type": "code",
      "execution_count": 13,
      "id": "d53fe85f",
      "metadata": {
        "colab": {
          "base_uri": "https://localhost:8080/"
        },
        "execution": {
          "iopub.execute_input": "2021-10-10T01:38:52.199552Z",
          "iopub.status.busy": "2021-10-10T01:38:52.199069Z",
          "iopub.status.idle": "2021-10-10T01:39:25.601210Z",
          "shell.execute_reply": "2021-10-10T01:39:25.601692Z"
        },
        "id": "d53fe85f",
        "outputId": "347e1cf3-4832-4969-ce74-bff2d34ab13d",
        "scrolled": true
      },
      "outputs": [
        {
          "output_type": "stream",
          "name": "stdout",
          "text": [
            "Epoch 1/10\n",
            "1719/1719 [==============================] - 8s 3ms/step - loss: 1.2819 - accuracy: 0.6229 - val_loss: 0.8886 - val_accuracy: 0.7160\n",
            "Epoch 2/10\n",
            "1719/1719 [==============================] - 5s 3ms/step - loss: 0.7955 - accuracy: 0.7362 - val_loss: 0.7130 - val_accuracy: 0.7658\n",
            "Epoch 3/10\n",
            "1719/1719 [==============================] - 5s 3ms/step - loss: 0.6816 - accuracy: 0.7720 - val_loss: 0.6427 - val_accuracy: 0.7898\n",
            "Epoch 4/10\n",
            "1719/1719 [==============================] - 5s 3ms/step - loss: 0.6217 - accuracy: 0.7944 - val_loss: 0.5900 - val_accuracy: 0.8064\n",
            "Epoch 5/10\n",
            "1719/1719 [==============================] - 5s 3ms/step - loss: 0.5832 - accuracy: 0.8074 - val_loss: 0.5582 - val_accuracy: 0.8202\n",
            "Epoch 6/10\n",
            "1719/1719 [==============================] - 5s 3ms/step - loss: 0.5553 - accuracy: 0.8156 - val_loss: 0.5350 - val_accuracy: 0.8238\n",
            "Epoch 7/10\n",
            "1719/1719 [==============================] - 5s 3ms/step - loss: 0.5338 - accuracy: 0.8225 - val_loss: 0.5157 - val_accuracy: 0.8304\n",
            "Epoch 8/10\n",
            "1719/1719 [==============================] - 5s 3ms/step - loss: 0.5173 - accuracy: 0.8272 - val_loss: 0.5079 - val_accuracy: 0.8284\n",
            "Epoch 9/10\n",
            "1719/1719 [==============================] - 4s 3ms/step - loss: 0.5040 - accuracy: 0.8289 - val_loss: 0.4895 - val_accuracy: 0.8388\n",
            "Epoch 10/10\n",
            "1719/1719 [==============================] - 5s 3ms/step - loss: 0.4924 - accuracy: 0.8321 - val_loss: 0.4817 - val_accuracy: 0.8396\n"
          ]
        }
      ],
      "source": [
        "history = model.fit(X_train, y_train, epochs=10,\n",
        "                    validation_data=(X_valid, y_valid))"
      ]
    },
    {
      "cell_type": "markdown",
      "id": "aac165c0",
      "metadata": {
        "id": "aac165c0"
      },
      "source": [
        "PReLU를 테스트해 보죠:"
      ]
    },
    {
      "cell_type": "code",
      "execution_count": 14,
      "id": "be0b9842",
      "metadata": {
        "execution": {
          "iopub.execute_input": "2021-10-10T01:39:25.612504Z",
          "iopub.status.busy": "2021-10-10T01:39:25.609687Z",
          "iopub.status.idle": "2021-10-10T01:39:25.647517Z",
          "shell.execute_reply": "2021-10-10T01:39:25.647024Z"
        },
        "id": "be0b9842"
      },
      "outputs": [],
      "source": [
        "tf.random.set_seed(42)\n",
        "np.random.seed(42)\n",
        "\n",
        "model = keras.models.Sequential([\n",
        "    keras.layers.Flatten(input_shape=[28, 28]),\n",
        "    keras.layers.Dense(300, kernel_initializer=\"he_normal\"),\n",
        "    keras.layers.PReLU(),\n",
        "    keras.layers.Dense(100, kernel_initializer=\"he_normal\"),\n",
        "    keras.layers.PReLU(),\n",
        "    keras.layers.Dense(10, activation=\"softmax\")\n",
        "])"
      ]
    },
    {
      "cell_type": "code",
      "execution_count": 15,
      "id": "b29dc5b4",
      "metadata": {
        "execution": {
          "iopub.execute_input": "2021-10-10T01:39:25.653376Z",
          "iopub.status.busy": "2021-10-10T01:39:25.652888Z",
          "iopub.status.idle": "2021-10-10T01:39:25.657907Z",
          "shell.execute_reply": "2021-10-10T01:39:25.658260Z"
        },
        "id": "b29dc5b4"
      },
      "outputs": [],
      "source": [
        "model.compile(loss=\"sparse_categorical_crossentropy\",\n",
        "              optimizer=keras.optimizers.SGD(learning_rate=1e-3),\n",
        "              metrics=[\"accuracy\"])"
      ]
    },
    {
      "cell_type": "code",
      "execution_count": 16,
      "id": "f5605421",
      "metadata": {
        "colab": {
          "base_uri": "https://localhost:8080/"
        },
        "execution": {
          "iopub.execute_input": "2021-10-10T01:39:25.662822Z",
          "iopub.status.busy": "2021-10-10T01:39:25.661910Z",
          "iopub.status.idle": "2021-10-10T01:40:02.780206Z",
          "shell.execute_reply": "2021-10-10T01:40:02.780614Z"
        },
        "id": "f5605421",
        "outputId": "fff90a3f-ccf5-469c-ea34-77a949c432f4"
      },
      "outputs": [
        {
          "output_type": "stream",
          "name": "stdout",
          "text": [
            "Epoch 1/10\n",
            "1719/1719 [==============================] - 6s 3ms/step - loss: 1.3461 - accuracy: 0.6209 - val_loss: 0.9255 - val_accuracy: 0.7186\n",
            "Epoch 2/10\n",
            "1719/1719 [==============================] - 5s 3ms/step - loss: 0.8197 - accuracy: 0.7355 - val_loss: 0.7305 - val_accuracy: 0.7630\n",
            "Epoch 3/10\n",
            "1719/1719 [==============================] - 5s 3ms/step - loss: 0.6966 - accuracy: 0.7694 - val_loss: 0.6565 - val_accuracy: 0.7878\n",
            "Epoch 4/10\n",
            "1719/1719 [==============================] - 5s 3ms/step - loss: 0.6331 - accuracy: 0.7909 - val_loss: 0.6003 - val_accuracy: 0.8050\n",
            "Epoch 5/10\n",
            "1719/1719 [==============================] - 5s 3ms/step - loss: 0.5917 - accuracy: 0.8056 - val_loss: 0.5656 - val_accuracy: 0.8178\n",
            "Epoch 6/10\n",
            "1719/1719 [==============================] - 5s 3ms/step - loss: 0.5618 - accuracy: 0.8135 - val_loss: 0.5406 - val_accuracy: 0.8240\n",
            "Epoch 7/10\n",
            "1719/1719 [==============================] - 5s 3ms/step - loss: 0.5390 - accuracy: 0.8205 - val_loss: 0.5196 - val_accuracy: 0.8310\n",
            "Epoch 8/10\n",
            "1719/1719 [==============================] - 5s 3ms/step - loss: 0.5213 - accuracy: 0.8258 - val_loss: 0.5113 - val_accuracy: 0.8314\n",
            "Epoch 9/10\n",
            "1719/1719 [==============================] - 5s 3ms/step - loss: 0.5070 - accuracy: 0.8288 - val_loss: 0.4917 - val_accuracy: 0.8380\n",
            "Epoch 10/10\n",
            "1719/1719 [==============================] - 5s 3ms/step - loss: 0.4945 - accuracy: 0.8315 - val_loss: 0.4827 - val_accuracy: 0.8398\n"
          ]
        }
      ],
      "source": [
        "history = model.fit(X_train, y_train, epochs=10,\n",
        "                    validation_data=(X_valid, y_valid))"
      ]
    },
    {
      "cell_type": "markdown",
      "id": "12ed519a",
      "metadata": {
        "id": "12ed519a"
      },
      "source": [
        "### ELU"
      ]
    },
    {
      "cell_type": "code",
      "execution_count": 17,
      "id": "c4b29c37",
      "metadata": {
        "execution": {
          "iopub.execute_input": "2021-10-10T01:40:02.783470Z",
          "iopub.status.busy": "2021-10-10T01:40:02.782940Z",
          "iopub.status.idle": "2021-10-10T01:40:02.786174Z",
          "shell.execute_reply": "2021-10-10T01:40:02.786530Z"
        },
        "id": "c4b29c37"
      },
      "outputs": [],
      "source": [
        "def elu(z, alpha=1):\n",
        "    return np.where(z < 0, alpha * (np.exp(z) - 1), z)"
      ]
    },
    {
      "cell_type": "code",
      "execution_count": 18,
      "id": "ba9352d6",
      "metadata": {
        "colab": {
          "base_uri": "https://localhost:8080/",
          "height": 316
        },
        "execution": {
          "iopub.execute_input": "2021-10-10T01:40:02.789002Z",
          "iopub.status.busy": "2021-10-10T01:40:02.788539Z",
          "iopub.status.idle": "2021-10-10T01:40:03.203810Z",
          "shell.execute_reply": "2021-10-10T01:40:03.204222Z"
        },
        "id": "ba9352d6",
        "outputId": "625c4fd4-4252-44bc-d217-65707f55bc65"
      },
      "outputs": [
        {
          "output_type": "stream",
          "name": "stdout",
          "text": [
            "그림 저장: elu_plot\n"
          ]
        },
        {
          "output_type": "display_data",
          "data": {
            "text/plain": [
              "<Figure size 432x288 with 1 Axes>"
            ],
            "image/png": "[encoded data removed]"
          },
          "metadata": {
            "needs_background": "light"
          }
        }
      ],
      "source": [
        "plt.plot(z, elu(z), \"b-\", linewidth=2)\n",
        "plt.plot([-5, 5], [0, 0], 'k-')\n",
        "plt.plot([-5, 5], [-1, -1], 'k--')\n",
        "plt.plot([0, 0], [-2.2, 3.2], 'k-')\n",
        "plt.grid(True)\n",
        "plt.title(r\"ELU activation function ($\\alpha=1$)\", fontsize=14)\n",
        "plt.axis([-5, 5, -2.2, 3.2])\n",
        "\n",
        "save_fig(\"elu_plot\")\n",
        "plt.show()"
      ]
    },
    {
      "cell_type": "markdown",
      "id": "4d2deb70",
      "metadata": {
        "id": "4d2deb70"
      },
      "source": [
        "텐서플로에서 쉽게 ELU를 적용할 수 있습니다. 층을 만들 때 활성화 함수로 지정하면 됩니다:"
      ]
    },
    {
      "cell_type": "code",
      "execution_count": 19,
      "id": "f8fa1983",
      "metadata": {
        "colab": {
          "base_uri": "https://localhost:8080/"
        },
        "execution": {
          "iopub.execute_input": "2021-10-10T01:40:03.206818Z",
          "iopub.status.busy": "2021-10-10T01:40:03.206357Z",
          "iopub.status.idle": "2021-10-10T01:40:03.210866Z",
          "shell.execute_reply": "2021-10-10T01:40:03.211283Z"
        },
        "id": "f8fa1983",
        "outputId": "dadab2b3-6a3b-43e7-e9e0-7920f2237226"
      },
      "outputs": [
        {
          "output_type": "execute_result",
          "data": {
            "text/plain": [
              "<keras.layers.core.dense.Dense at 0x7fa4102a5390>"
            ]
          },
          "metadata": {},
          "execution_count": 19
        }
      ],
      "source": [
        "keras.layers.Dense(10, activation=\"elu\")"
      ]
    },
    {
      "cell_type": "markdown",
      "id": "a31ab87d",
      "metadata": {
        "id": "a31ab87d"
      },
      "source": [
        "### SELU"
      ]
    },
    {
      "cell_type": "markdown",
      "id": "02124728",
      "metadata": {
        "id": "02124728"
      },
      "source": [
        "Günter Klambauer, Thomas Unterthiner, Andreas Mayr는 2017년 한 [훌륭한 논문](https://arxiv.org/pdf/1706.02515.pdf)에서 SELU 활성화 함수를 소개했습니다. 훈련하는 동안 완전 연결 층만 쌓아서 신경망을 만들고 SELU 활성화 함수와 LeCun 초기화를 사용한다면 자기 정규화됩니다. 각 층의 출력이 평균과\n",
        "표준편차를 보존하는 경향이 있습니다. 이는 그레이디언트 소실과 폭주 문제를 막아줍니다. 그 결과로 SELU 활성화 함수는 이런 종류의 네트워크(특히 아주 깊은 네트워크)에서 다른 활성화 함수보다 뛰어난 성능을 종종 냅니다. 따라서 꼭 시도해 봐야 합니다. 하지만 SELU 활성화 함수의 자기 정규화 특징은 쉽게 깨집니다. ℓ<sub>1</sub>나 ℓ<sub>2</sub> 정규화, 드롭아웃, 맥스 노름, 스킵 연결이나 시퀀셜하지 않은 다른 토폴로지를 사용할 수 없습니다(즉 순환 신경망은 자기 정규화되지 않습니다). 하지만 실전에서 시퀀셜 CNN과 잘 동작합니다. 자기 정규화가 깨지면 SELU가 다른 활성화 함수보다 더 나은 성능을 내지 않을 것입니다."
      ]
    },
    {
      "cell_type": "code",
      "execution_count": 20,
      "id": "b80ad1b3",
      "metadata": {
        "execution": {
          "iopub.execute_input": "2021-10-10T01:40:03.213673Z",
          "iopub.status.busy": "2021-10-10T01:40:03.213180Z",
          "iopub.status.idle": "2021-10-10T01:40:03.217737Z",
          "shell.execute_reply": "2021-10-10T01:40:03.218145Z"
        },
        "id": "b80ad1b3"
      },
      "outputs": [],
      "source": [
        "from scipy.special import erfc\n",
        "\n",
        "# alpha와 scale은 평균 0과 표준 편차 1로 자기 정규화합니다\n",
        "# (논문에 있는 식 14 참조):\n",
        "alpha_0_1 = -np.sqrt(2 / np.pi) / (erfc(1/np.sqrt(2)) * np.exp(1/2) - 1)\n",
        "scale_0_1 = (1 - erfc(1 / np.sqrt(2)) * np.sqrt(np.e)) * np.sqrt(2 * np.pi) * (2 * erfc(np.sqrt(2))*np.e**2 + np.pi*erfc(1/np.sqrt(2))**2*np.e - 2*(2+np.pi)*erfc(1/np.sqrt(2))*np.sqrt(np.e)+np.pi+2)**(-1/2)"
      ]
    },
    {
      "cell_type": "code",
      "execution_count": 21,
      "id": "03790259",
      "metadata": {
        "execution": {
          "iopub.execute_input": "2021-10-10T01:40:03.221270Z",
          "iopub.status.busy": "2021-10-10T01:40:03.220422Z",
          "iopub.status.idle": "2021-10-10T01:40:03.223128Z",
          "shell.execute_reply": "2021-10-10T01:40:03.223501Z"
        },
        "id": "03790259"
      },
      "outputs": [],
      "source": [
        "def selu(z, scale=scale_0_1, alpha=alpha_0_1):\n",
        "    return scale * elu(z, alpha)"
      ]
    },
    {
      "cell_type": "code",
      "execution_count": 22,
      "id": "fd534656",
      "metadata": {
        "colab": {
          "base_uri": "https://localhost:8080/",
          "height": 316
        },
        "execution": {
          "iopub.execute_input": "2021-10-10T01:40:03.241211Z",
          "iopub.status.busy": "2021-10-10T01:40:03.240655Z",
          "iopub.status.idle": "2021-10-10T01:40:03.533608Z",
          "shell.execute_reply": "2021-10-10T01:40:03.533982Z"
        },
        "id": "fd534656",
        "outputId": "2f3b156b-ca59-4227-f565-c5a0221b7a0a"
      },
      "outputs": [
        {
          "output_type": "stream",
          "name": "stdout",
          "text": [
            "그림 저장: selu_plot\n"
          ]
        },
        {
          "output_type": "display_data",
          "data": {
            "text/plain": [
              "<Figure size 432x288 with 1 Axes>"
            ],
            "image/png": "[encoded data removed]"
          },
          "metadata": {
            "needs_background": "light"
          }
        }
      ],
      "source": [
        "plt.plot(z, selu(z), \"b-\", linewidth=2)\n",
        "plt.plot([-5, 5], [0, 0], 'k-')\n",
        "plt.plot([-5, 5], [-1.758, -1.758], 'k--')\n",
        "plt.plot([0, 0], [-2.2, 3.2], 'k-')\n",
        "plt.grid(True)\n",
        "plt.title(\"SELU activation function\", fontsize=14)\n",
        "plt.axis([-5, 5, -2.2, 3.2])\n",
        "\n",
        "save_fig(\"selu_plot\")\n",
        "plt.show()"
      ]
    },
    {
      "cell_type": "markdown",
      "id": "f2175cbc",
      "metadata": {
        "id": "f2175cbc"
      },
      "source": [
        "기본적으로 SELU 하이퍼파라미터(`scale`과 `alpha`)는 각 뉴런의 평균 출력이 0에 가깝고 표준 편차는 1에 가깝도록 조정됩니다(입력은 평균이 0이고 표준 편차 1로 표준화되었다고 가정합니다). 이 활성화 함수를 사용하면 1,000개의 층이 있는 심층 신경망도 모든 층에 걸쳐 거의 평균이 0이고 표준 편차를 1로 유지합니다. 이를 통해 그레이디언트 폭주와 소실 문제를 피할 수 있습니다:"
      ]
    },
    {
      "cell_type": "code",
      "execution_count": 23,
      "id": "141c7123",
      "metadata": {
        "colab": {
          "base_uri": "https://localhost:8080/"
        },
        "execution": {
          "iopub.execute_input": "2021-10-10T01:40:03.539386Z",
          "iopub.status.busy": "2021-10-10T01:40:03.538932Z",
          "iopub.status.idle": "2021-10-10T01:40:07.250188Z",
          "shell.execute_reply": "2021-10-10T01:40:07.251429Z"
        },
        "id": "141c7123",
        "outputId": "32d862ca-bd11-410d-b01a-b61d9370404e"
      },
      "outputs": [
        {
          "output_type": "stream",
          "name": "stdout",
          "text": [
            "Layer 0: mean -0.00, std deviation 1.00\n",
            "Layer 100: mean 0.02, std deviation 0.96\n",
            "Layer 200: mean 0.01, std deviation 0.90\n",
            "Layer 300: mean -0.02, std deviation 0.92\n",
            "Layer 400: mean 0.05, std deviation 0.89\n",
            "Layer 500: mean 0.01, std deviation 0.93\n",
            "Layer 600: mean 0.02, std deviation 0.92\n",
            "Layer 700: mean -0.02, std deviation 0.90\n",
            "Layer 800: mean 0.05, std deviation 0.83\n",
            "Layer 900: mean 0.02, std deviation 1.00\n"
          ]
        }
      ],
      "source": [
        "np.random.seed(42)\n",
        "Z = np.random.normal(size=(500, 100)) # 표준화된 입력\n",
        "for layer in range(1000):\n",
        "    W = np.random.normal(size=(100, 100), scale=np.sqrt(1 / 100)) # LeCun 초기화\n",
        "    Z = selu(np.dot(Z, W))\n",
        "    means = np.mean(Z, axis=0).mean()\n",
        "    stds = np.std(Z, axis=0).mean()\n",
        "    if layer % 100 == 0:\n",
        "        print(\"Layer {}: mean {:.2f}, std deviation {:.2f}\".format(layer, means, stds))"
      ]
    },
    {
      "cell_type": "markdown",
      "id": "5011c95e",
      "metadata": {
        "id": "5011c95e"
      },
      "source": [
        "쉽게 SELU를 사용할 수 있습니다:"
      ]
    },
    {
      "cell_type": "code",
      "execution_count": 24,
      "id": "3dadf4d2",
      "metadata": {
        "colab": {
          "base_uri": "https://localhost:8080/"
        },
        "execution": {
          "iopub.execute_input": "2021-10-10T01:40:07.257295Z",
          "iopub.status.busy": "2021-10-10T01:40:07.255545Z",
          "iopub.status.idle": "2021-10-10T01:40:07.269371Z",
          "shell.execute_reply": "2021-10-10T01:40:07.270536Z"
        },
        "id": "3dadf4d2",
        "outputId": "c69da502-bb13-495a-dfd8-92c76953ca4a"
      },
      "outputs": [
        {
          "output_type": "execute_result",
          "data": {
            "text/plain": [
              "<keras.layers.core.dense.Dense at 0x7fa4101fb7d0>"
            ]
          },
          "metadata": {},
          "execution_count": 24
        }
      ],
      "source": [
        "keras.layers.Dense(10, activation=\"selu\",\n",
        "                   kernel_initializer=\"lecun_normal\")"
      ]
    },
    {
      "cell_type": "markdown",
      "id": "4c33c252",
      "metadata": {
        "id": "4c33c252"
      },
      "source": [
        "100개의 은닉층과 SELU 활성화 함수를 사용한 패션 MNIST를 위한 신경망을 만들어 보죠:"
      ]
    },
    {
      "cell_type": "code",
      "execution_count": 25,
      "id": "23635697",
      "metadata": {
        "execution": {
          "iopub.execute_input": "2021-10-10T01:40:07.275974Z",
          "iopub.status.busy": "2021-10-10T01:40:07.274312Z",
          "iopub.status.idle": "2021-10-10T01:40:07.283888Z",
          "shell.execute_reply": "2021-10-10T01:40:07.285055Z"
        },
        "id": "23635697"
      },
      "outputs": [],
      "source": [
        "np.random.seed(42)\n",
        "tf.random.set_seed(42)"
      ]
    },
    {
      "cell_type": "code",
      "execution_count": 26,
      "id": "d663b5a8",
      "metadata": {
        "execution": {
          "iopub.execute_input": "2021-10-10T01:40:07.291458Z",
          "iopub.status.busy": "2021-10-10T01:40:07.289894Z",
          "iopub.status.idle": "2021-10-10T01:40:08.085708Z",
          "shell.execute_reply": "2021-10-10T01:40:08.086330Z"
        },
        "id": "d663b5a8"
      },
      "outputs": [],
      "source": [
        "model = keras.models.Sequential()\n",
        "model.add(keras.layers.Flatten(input_shape=[28, 28]))\n",
        "model.add(keras.layers.Dense(300, activation=\"selu\",\n",
        "                             kernel_initializer=\"lecun_normal\"))\n",
        "for layer in range(99):\n",
        "    model.add(keras.layers.Dense(100, activation=\"selu\",\n",
        "                                 kernel_initializer=\"lecun_normal\"))\n",
        "model.add(keras.layers.Dense(10, activation=\"softmax\"))"
      ]
    },
    {
      "cell_type": "code",
      "execution_count": 27,
      "id": "6efec7df",
      "metadata": {
        "execution": {
          "iopub.execute_input": "2021-10-10T01:40:08.089221Z",
          "iopub.status.busy": "2021-10-10T01:40:08.088664Z",
          "iopub.status.idle": "2021-10-10T01:40:08.095267Z",
          "shell.execute_reply": "2021-10-10T01:40:08.095829Z"
        },
        "id": "6efec7df"
      },
      "outputs": [],
      "source": [
        "model.compile(loss=\"sparse_categorical_crossentropy\",\n",
        "              optimizer=keras.optimizers.SGD(learning_rate=1e-3),\n",
        "              metrics=[\"accuracy\"])"
      ]
    },
    {
      "cell_type": "markdown",
      "id": "4c422a54",
      "metadata": {
        "id": "4c422a54"
      },
      "source": [
        "이제 훈련해 보죠. 입력을 평균 0과 표준 편차 1로 바꾸어야 한다는 것을 잊지 마세요:"
      ]
    },
    {
      "cell_type": "code",
      "execution_count": 28,
      "id": "7b2c3016",
      "metadata": {
        "execution": {
          "iopub.execute_input": "2021-10-10T01:40:08.098323Z",
          "iopub.status.busy": "2021-10-10T01:40:08.097870Z",
          "iopub.status.idle": "2021-10-10T01:40:08.654523Z",
          "shell.execute_reply": "2021-10-10T01:40:08.654961Z"
        },
        "id": "7b2c3016"
      },
      "outputs": [],
      "source": [
        "pixel_means = X_train.mean(axis=0, keepdims=True)\n",
        "pixel_stds = X_train.std(axis=0, keepdims=True)\n",
        "X_train_scaled = (X_train - pixel_means) / pixel_stds\n",
        "X_valid_scaled = (X_valid - pixel_means) / pixel_stds\n",
        "X_test_scaled = (X_test - pixel_means) / pixel_stds"
      ]
    },
    {
      "cell_type": "code",
      "execution_count": 29,
      "id": "2bbf68a5",
      "metadata": {
        "colab": {
          "base_uri": "https://localhost:8080/"
        },
        "execution": {
          "iopub.execute_input": "2021-10-10T01:40:08.657500Z",
          "iopub.status.busy": "2021-10-10T01:40:08.657029Z",
          "iopub.status.idle": "2021-10-10T01:42:09.522758Z",
          "shell.execute_reply": "2021-10-10T01:42:09.521960Z"
        },
        "id": "2bbf68a5",
        "outputId": "b6c97ce2-3372-4781-e729-18e135c5c617"
      },
      "outputs": [
        {
          "output_type": "stream",
          "name": "stdout",
          "text": [
            "Epoch 1/5\n",
            "1719/1719 [==============================] - 21s 11ms/step - loss: 1.1500 - accuracy: 0.5685 - val_loss: 0.9682 - val_accuracy: 0.6544\n",
            "Epoch 2/5\n",
            "1719/1719 [==============================] - 18s 11ms/step - loss: 0.7369 - accuracy: 0.7387 - val_loss: 0.6171 - val_accuracy: 0.7794\n",
            "Epoch 3/5\n",
            "1719/1719 [==============================] - 19s 11ms/step - loss: 0.5955 - accuracy: 0.7870 - val_loss: 0.5630 - val_accuracy: 0.8056\n",
            "Epoch 4/5\n",
            "1719/1719 [==============================] - 18s 10ms/step - loss: 0.5323 - accuracy: 0.8132 - val_loss: 0.5493 - val_accuracy: 0.8102\n",
            "Epoch 5/5\n",
            "1719/1719 [==============================] - 19s 11ms/step - loss: 0.4988 - accuracy: 0.8270 - val_loss: 0.4697 - val_accuracy: 0.8390\n"
          ]
        }
      ],
      "source": [
        "history = model.fit(X_train_scaled, y_train, epochs=5,\n",
        "                    validation_data=(X_valid_scaled, y_valid))"
      ]
    },
    {
      "cell_type": "markdown",
      "id": "bb46e1bd",
      "metadata": {
        "id": "bb46e1bd"
      },
      "source": [
        "대신 ReLU 활성화 함수를 사용하면 어떤 일이 일어나는지 확인해 보죠:"
      ]
    },
    {
      "cell_type": "code",
      "execution_count": 30,
      "id": "c837991b",
      "metadata": {
        "execution": {
          "iopub.execute_input": "2021-10-10T01:42:09.541494Z",
          "iopub.status.busy": "2021-10-10T01:42:09.540952Z",
          "iopub.status.idle": "2021-10-10T01:42:09.543422Z",
          "shell.execute_reply": "2021-10-10T01:42:09.543033Z"
        },
        "id": "c837991b"
      },
      "outputs": [],
      "source": [
        "np.random.seed(42)\n",
        "tf.random.set_seed(42)"
      ]
    },
    {
      "cell_type": "code",
      "execution_count": 31,
      "id": "bb550fbb",
      "metadata": {
        "execution": {
          "iopub.execute_input": "2021-10-10T01:42:09.549347Z",
          "iopub.status.busy": "2021-10-10T01:42:09.548879Z",
          "iopub.status.idle": "2021-10-10T01:42:10.308513Z",
          "shell.execute_reply": "2021-10-10T01:42:10.308977Z"
        },
        "id": "bb550fbb"
      },
      "outputs": [],
      "source": [
        "model = keras.models.Sequential()\n",
        "model.add(keras.layers.Flatten(input_shape=[28, 28]))\n",
        "model.add(keras.layers.Dense(300, activation=\"relu\", kernel_initializer=\"he_normal\"))\n",
        "for layer in range(99):\n",
        "    model.add(keras.layers.Dense(100, activation=\"relu\", kernel_initializer=\"he_normal\"))\n",
        "model.add(keras.layers.Dense(10, activation=\"softmax\"))"
      ]
    },
    {
      "cell_type": "code",
      "execution_count": 32,
      "id": "0d170009",
      "metadata": {
        "execution": {
          "iopub.execute_input": "2021-10-10T01:42:10.314880Z",
          "iopub.status.busy": "2021-10-10T01:42:10.314399Z",
          "iopub.status.idle": "2021-10-10T01:42:10.318079Z",
          "shell.execute_reply": "2021-10-10T01:42:10.318470Z"
        },
        "id": "0d170009"
      },
      "outputs": [],
      "source": [
        "model.compile(loss=\"sparse_categorical_crossentropy\",\n",
        "              optimizer=keras.optimizers.SGD(learning_rate=1e-3),\n",
        "              metrics=[\"accuracy\"])"
      ]
    },
    {
      "cell_type": "code",
      "execution_count": 33,
      "id": "3f2ee0f4",
      "metadata": {
        "colab": {
          "base_uri": "https://localhost:8080/"
        },
        "execution": {
          "iopub.execute_input": "2021-10-10T01:42:10.322386Z",
          "iopub.status.busy": "2021-10-10T01:42:10.321978Z",
          "iopub.status.idle": "2021-10-10T01:43:52.844818Z",
          "shell.execute_reply": "2021-10-10T01:43:52.844361Z"
        },
        "id": "3f2ee0f4",
        "outputId": "39ae81a6-0699-413d-9756-2679a59f5f28"
      },
      "outputs": [
        {
          "output_type": "stream",
          "name": "stdout",
          "text": [
            "Epoch 1/5\n",
            "1719/1719 [==============================] - 22s 11ms/step - loss: 1.8205 - accuracy: 0.2630 - val_loss: 1.3163 - val_accuracy: 0.4050\n",
            "Epoch 2/5\n",
            "1719/1719 [==============================] - 19s 11ms/step - loss: 1.1851 - accuracy: 0.4980 - val_loss: 1.0157 - val_accuracy: 0.5578\n",
            "Epoch 3/5\n",
            "1719/1719 [==============================] - 18s 11ms/step - loss: 0.9947 - accuracy: 0.5941 - val_loss: 0.9383 - val_accuracy: 0.6338\n",
            "Epoch 4/5\n",
            "1719/1719 [==============================] - 18s 10ms/step - loss: 0.8563 - accuracy: 0.6535 - val_loss: 0.8042 - val_accuracy: 0.6522\n",
            "Epoch 5/5\n",
            "1719/1719 [==============================] - 18s 10ms/step - loss: 0.7455 - accuracy: 0.7008 - val_loss: 0.7209 - val_accuracy: 0.7158\n"
          ]
        }
      ],
      "source": [
        "history = model.fit(X_train_scaled, y_train, epochs=5,\n",
        "                    validation_data=(X_valid_scaled, y_valid))"
      ]
    },
    {
      "cell_type": "markdown",
      "id": "3de938f6",
      "metadata": {
        "id": "3de938f6"
      },
      "source": [
        "좋지 않군요. 그레이디언트 폭주나 소실 문제가 발생한 것입니다."
      ]
    },
    {
      "cell_type": "markdown",
      "id": "314ac252",
      "metadata": {
        "id": "314ac252"
      },
      "source": [
        "# 배치 정규화"
      ]
    },
    {
      "cell_type": "code",
      "execution_count": 34,
      "id": "557af7d8",
      "metadata": {
        "execution": {
          "iopub.execute_input": "2021-10-10T01:43:52.857447Z",
          "iopub.status.busy": "2021-10-10T01:43:52.855778Z",
          "iopub.status.idle": "2021-10-10T01:43:52.908296Z",
          "shell.execute_reply": "2021-10-10T01:43:52.907832Z"
        },
        "id": "557af7d8"
      },
      "outputs": [],
      "source": [
        "model = keras.models.Sequential([\n",
        "    keras.layers.Flatten(input_shape=[28, 28]),\n",
        "    keras.layers.BatchNormalization(),\n",
        "    keras.layers.Dense(300, activation=\"relu\"),\n",
        "    keras.layers.BatchNormalization(),\n",
        "    keras.layers.Dense(100, activation=\"relu\"),\n",
        "    keras.layers.BatchNormalization(),\n",
        "    keras.layers.Dense(10, activation=\"softmax\")\n",
        "])"
      ]
    },
    {
      "cell_type": "code",
      "execution_count": 35,
      "id": "af786544",
      "metadata": {
        "colab": {
          "base_uri": "https://localhost:8080/"
        },
        "execution": {
          "iopub.execute_input": "2021-10-10T01:43:52.913369Z",
          "iopub.status.busy": "2021-10-10T01:43:52.912925Z",
          "iopub.status.idle": "2021-10-10T01:43:52.916358Z",
          "shell.execute_reply": "2021-10-10T01:43:52.916724Z"
        },
        "id": "af786544",
        "outputId": "3afde345-a02e-4b0a-b0bc-1d9bd7f170a8"
      },
      "outputs": [
        {
          "output_type": "stream",
          "name": "stdout",
          "text": [
            "Model: \"sequential_4\"\n",
            "_________________________________________________________________\n",
            " Layer (type)                Output Shape              Param #   \n",
            "=================================================================\n",
            " flatten_4 (Flatten)         (None, 784)               0         \n",
            "                                                                 \n",
            " batch_normalization (BatchN  (None, 784)              3136      \n",
            " ormalization)                                                   \n",
            "                                                                 \n",
            " dense_212 (Dense)           (None, 300)               235500    \n",
            "                                                                 \n",
            " batch_normalization_1 (Batc  (None, 300)              1200      \n",
            " hNormalization)                                                 \n",
            "                                                                 \n",
            " dense_213 (Dense)           (None, 100)               30100     \n",
            "                                                                 \n",
            " batch_normalization_2 (Batc  (None, 100)              400       \n",
            " hNormalization)                                                 \n",
            "                                                                 \n",
            " dense_214 (Dense)           (None, 10)                1010      \n",
            "                                                                 \n",
            "=================================================================\n",
            "Total params: 271,346\n",
            "Trainable params: 268,978\n",
            "Non-trainable params: 2,368\n",
            "_________________________________________________________________\n"
          ]
        }
      ],
      "source": [
        "model.summary()"
      ]
    },
    {
      "cell_type": "code",
      "execution_count": 36,
      "id": "10361733",
      "metadata": {
        "colab": {
          "base_uri": "https://localhost:8080/"
        },
        "execution": {
          "iopub.execute_input": "2021-10-10T01:43:52.921394Z",
          "iopub.status.busy": "2021-10-10T01:43:52.920950Z",
          "iopub.status.idle": "2021-10-10T01:43:52.925346Z",
          "shell.execute_reply": "2021-10-10T01:43:52.925703Z"
        },
        "id": "10361733",
        "outputId": "abe21058-ac86-41ea-8a34-012cc83fe06f",
        "scrolled": true
      },
      "outputs": [
        {
          "output_type": "execute_result",
          "data": {
            "text/plain": [
              "[('batch_normalization/gamma:0', True),\n",
              " ('batch_normalization/beta:0', True),\n",
              " ('batch_normalization/moving_mean:0', False),\n",
              " ('batch_normalization/moving_variance:0', False)]"
            ]
          },
          "metadata": {},
          "execution_count": 36
        }
      ],
      "source": [
        "bn1 = model.layers[1]\n",
        "[(var.name, var.trainable) for var in bn1.variables]"
      ]
    },
    {
      "cell_type": "code",
      "execution_count": 37,
      "id": "25699140",
      "metadata": {
        "execution": {
          "iopub.execute_input": "2021-10-10T01:43:52.937867Z",
          "iopub.status.busy": "2021-10-10T01:43:52.937098Z",
          "iopub.status.idle": "2021-10-10T01:43:52.940350Z",
          "shell.execute_reply": "2021-10-10T01:43:52.940702Z"
        },
        "id": "25699140"
      },
      "outputs": [],
      "source": [
        "model.compile(loss=\"sparse_categorical_crossentropy\",\n",
        "              optimizer=keras.optimizers.SGD(learning_rate=1e-3),\n",
        "              metrics=[\"accuracy\"])"
      ]
    },
    {
      "cell_type": "code",
      "execution_count": 38,
      "id": "02c22d64",
      "metadata": {
        "colab": {
          "base_uri": "https://localhost:8080/"
        },
        "execution": {
          "iopub.execute_input": "2021-10-10T01:43:52.944268Z",
          "iopub.status.busy": "2021-10-10T01:43:52.943817Z",
          "iopub.status.idle": "2021-10-10T01:44:41.349798Z",
          "shell.execute_reply": "2021-10-10T01:44:41.350233Z"
        },
        "id": "02c22d64",
        "outputId": "cf481236-c7b7-47de-e5b2-8ace6ee07f85"
      },
      "outputs": [
        {
          "output_type": "stream",
          "name": "stdout",
          "text": [
            "Epoch 1/10\n",
            "1719/1719 [==============================] - 8s 4ms/step - loss: 0.8750 - accuracy: 0.7124 - val_loss: 0.5525 - val_accuracy: 0.8228\n",
            "Epoch 2/10\n",
            "1719/1719 [==============================] - 7s 4ms/step - loss: 0.5753 - accuracy: 0.8031 - val_loss: 0.4725 - val_accuracy: 0.8472\n",
            "Epoch 3/10\n",
            "1719/1719 [==============================] - 7s 4ms/step - loss: 0.5189 - accuracy: 0.8206 - val_loss: 0.4375 - val_accuracy: 0.8546\n",
            "Epoch 4/10\n",
            "1719/1719 [==============================] - 7s 4ms/step - loss: 0.4827 - accuracy: 0.8322 - val_loss: 0.4152 - val_accuracy: 0.8598\n",
            "Epoch 5/10\n",
            "1719/1719 [==============================] - 7s 4ms/step - loss: 0.4565 - accuracy: 0.8410 - val_loss: 0.3997 - val_accuracy: 0.8642\n",
            "Epoch 6/10\n",
            "1719/1719 [==============================] - 7s 4ms/step - loss: 0.4397 - accuracy: 0.8475 - val_loss: 0.3867 - val_accuracy: 0.8690\n",
            "Epoch 7/10\n",
            "1719/1719 [==============================] - 7s 4ms/step - loss: 0.4241 - accuracy: 0.8513 - val_loss: 0.3762 - val_accuracy: 0.8702\n",
            "Epoch 8/10\n",
            "1719/1719 [==============================] - 7s 4ms/step - loss: 0.4143 - accuracy: 0.8542 - val_loss: 0.3711 - val_accuracy: 0.8742\n",
            "Epoch 9/10\n",
            "1719/1719 [==============================] - 7s 4ms/step - loss: 0.4023 - accuracy: 0.8581 - val_loss: 0.3631 - val_accuracy: 0.8746\n",
            "Epoch 10/10\n",
            "1719/1719 [==============================] - 7s 4ms/step - loss: 0.3914 - accuracy: 0.8624 - val_loss: 0.3572 - val_accuracy: 0.8760\n"
          ]
        }
      ],
      "source": [
        "history = model.fit(X_train, y_train, epochs=10,\n",
        "                    validation_data=(X_valid, y_valid))"
      ]
    },
    {
      "cell_type": "markdown",
      "id": "69a162f2",
      "metadata": {
        "id": "69a162f2"
      },
      "source": [
        "이따금 활성화 함수전에 BN을 적용해도 잘 동작합니다(여기에는 논란의 여지가 있습니다). 또한 `BatchNormalization` 층 이전의 층은 편향을 위한 항이 필요 없습니다. `BatchNormalization` 층이 이를 무효화하기 때문입니다. 따라서 필요 없는 파라미터이므로 `use_bias=False`를 지정하여 층을 만들 수 있습니다:"
      ]
    },
    {
      "cell_type": "code",
      "execution_count": 39,
      "id": "13d59195",
      "metadata": {
        "execution": {
          "iopub.execute_input": "2021-10-10T01:44:41.353536Z",
          "iopub.status.busy": "2021-10-10T01:44:41.353031Z",
          "iopub.status.idle": "2021-10-10T01:44:41.410764Z",
          "shell.execute_reply": "2021-10-10T01:44:41.410358Z"
        },
        "id": "13d59195"
      },
      "outputs": [],
      "source": [
        "model = keras.models.Sequential([\n",
        "    keras.layers.Flatten(input_shape=[28, 28]),\n",
        "    keras.layers.BatchNormalization(),\n",
        "    keras.layers.Dense(300, use_bias=False),\n",
        "    keras.layers.BatchNormalization(),\n",
        "    keras.layers.Activation(\"relu\"),\n",
        "    keras.layers.Dense(100, use_bias=False),\n",
        "    keras.layers.BatchNormalization(),\n",
        "    keras.layers.Activation(\"relu\"),\n",
        "    keras.layers.Dense(10, activation=\"softmax\")\n",
        "])"
      ]
    },
    {
      "cell_type": "code",
      "execution_count": 40,
      "id": "2c8feb34",
      "metadata": {
        "execution": {
          "iopub.execute_input": "2021-10-10T01:44:41.418004Z",
          "iopub.status.busy": "2021-10-10T01:44:41.417540Z",
          "iopub.status.idle": "2021-10-10T01:44:41.419833Z",
          "shell.execute_reply": "2021-10-10T01:44:41.419464Z"
        },
        "id": "2c8feb34"
      },
      "outputs": [],
      "source": [
        "model.compile(loss=\"sparse_categorical_crossentropy\",\n",
        "              optimizer=keras.optimizers.SGD(learning_rate=1e-3),\n",
        "              metrics=[\"accuracy\"])"
      ]
    },
    {
      "cell_type": "code",
      "execution_count": 41,
      "id": "5a60faba",
      "metadata": {
        "colab": {
          "base_uri": "https://localhost:8080/"
        },
        "execution": {
          "iopub.execute_input": "2021-10-10T01:44:41.423897Z",
          "iopub.status.busy": "2021-10-10T01:44:41.423440Z",
          "iopub.status.idle": "2021-10-10T01:45:29.389120Z",
          "shell.execute_reply": "2021-10-10T01:45:29.389543Z"
        },
        "id": "5a60faba",
        "outputId": "01a4090e-0a96-417c-d5ab-c6686b633b81"
      },
      "outputs": [
        {
          "output_type": "stream",
          "name": "stdout",
          "text": [
            "Epoch 1/10\n",
            "1719/1719 [==============================] - 7s 4ms/step - loss: 1.0317 - accuracy: 0.6757 - val_loss: 0.6767 - val_accuracy: 0.7810\n",
            "Epoch 2/10\n",
            "1719/1719 [==============================] - 7s 4ms/step - loss: 0.6790 - accuracy: 0.7793 - val_loss: 0.5566 - val_accuracy: 0.8182\n",
            "Epoch 3/10\n",
            "1719/1719 [==============================] - 7s 4ms/step - loss: 0.5960 - accuracy: 0.8037 - val_loss: 0.5007 - val_accuracy: 0.8360\n",
            "Epoch 4/10\n",
            "1719/1719 [==============================] - 7s 4ms/step - loss: 0.5447 - accuracy: 0.8192 - val_loss: 0.4666 - val_accuracy: 0.8448\n",
            "Epoch 5/10\n",
            "1719/1719 [==============================] - 7s 4ms/step - loss: 0.5109 - accuracy: 0.8278 - val_loss: 0.4434 - val_accuracy: 0.8534\n",
            "Epoch 6/10\n",
            "1719/1719 [==============================] - 7s 4ms/step - loss: 0.4898 - accuracy: 0.8336 - val_loss: 0.4263 - val_accuracy: 0.8548\n",
            "Epoch 7/10\n",
            "1719/1719 [==============================] - 7s 4ms/step - loss: 0.4712 - accuracy: 0.8395 - val_loss: 0.4131 - val_accuracy: 0.8564\n",
            "Epoch 8/10\n",
            "1719/1719 [==============================] - 7s 4ms/step - loss: 0.4560 - accuracy: 0.8440 - val_loss: 0.4035 - val_accuracy: 0.8606\n",
            "Epoch 9/10\n",
            "1719/1719 [==============================] - 7s 4ms/step - loss: 0.4441 - accuracy: 0.8473 - val_loss: 0.3943 - val_accuracy: 0.8638\n",
            "Epoch 10/10\n",
            "1719/1719 [==============================] - 7s 4ms/step - loss: 0.4333 - accuracy: 0.8505 - val_loss: 0.3875 - val_accuracy: 0.8664\n"
          ]
        }
      ],
      "source": [
        "history = model.fit(X_train, y_train, epochs=10,\n",
        "                    validation_data=(X_valid, y_valid))"
      ]
    },
    {
      "cell_type": "markdown",
      "id": "782d1fd4",
      "metadata": {
        "id": "782d1fd4"
      },
      "source": [
        "## 그레이디언트 클리핑"
      ]
    },
    {
      "cell_type": "markdown",
      "id": "8e1f62e8",
      "metadata": {
        "id": "8e1f62e8"
      },
      "source": [
        "모든 케라스 옵티마이저는 `clipnorm`이나 `clipvalue` 매개변수를 지원합니다:"
      ]
    },
    {
      "cell_type": "code",
      "execution_count": 42,
      "id": "9a9d6624",
      "metadata": {
        "execution": {
          "iopub.execute_input": "2021-10-10T01:45:29.393900Z",
          "iopub.status.busy": "2021-10-10T01:45:29.393401Z",
          "iopub.status.idle": "2021-10-10T01:45:29.395079Z",
          "shell.execute_reply": "2021-10-10T01:45:29.395490Z"
        },
        "id": "9a9d6624"
      },
      "outputs": [],
      "source": [
        "optimizer = keras.optimizers.SGD(clipvalue=1.0)"
      ]
    },
    {
      "cell_type": "code",
      "execution_count": 43,
      "id": "4e27c8c2",
      "metadata": {
        "execution": {
          "iopub.execute_input": "2021-10-10T01:45:29.399558Z",
          "iopub.status.busy": "2021-10-10T01:45:29.399010Z",
          "iopub.status.idle": "2021-10-10T01:45:29.401133Z",
          "shell.execute_reply": "2021-10-10T01:45:29.400776Z"
        },
        "id": "4e27c8c2"
      },
      "outputs": [],
      "source": [
        "optimizer = keras.optimizers.SGD(clipnorm=1.0)"
      ]
    },
    {
      "cell_type": "markdown",
      "id": "73c203ed",
      "metadata": {
        "id": "73c203ed"
      },
      "source": [
        "## 사전 훈련된 층 재사용하기"
      ]
    },
    {
      "cell_type": "markdown",
      "id": "8077ae0c",
      "metadata": {
        "id": "8077ae0c"
      },
      "source": [
        "### 케라스 모델 재사용하기"
      ]
    },
    {
      "cell_type": "markdown",
      "id": "08e04873",
      "metadata": {
        "id": "08e04873"
      },
      "source": [
        "패션 MNIST 훈련 세트를 두 개로 나누어 보죠:\n",
        "* `X_train_A`: 샌달과 셔츠(클래스 5와 6)을 제외한 모든 이미지\n",
        "* `X_train_B`: 샌달과 셔츠 이미지 중 처음 200개만 가진 작은 훈련 세트\n",
        "\n",
        "검증 세트와 테스트 세트도 이렇게 나눕니다. 하지만 이미지 개수는 제한하지 않습니다.\n",
        "\n",
        "A 세트(8개의 클래스를 가진 분류 문제)에서 모델을 훈련하고 이를 재사용하여 B 세트(이진 분류)를 해결해 보겠습니다. A 작업에서 B 작업으로 약간의 지식이 전달되기를 기대합니다. 왜냐하면 A 세트의 클래스(스니커즈, 앵클 부츠, 코트, 티셔츠 등)가 B 세트에 있는 클래스(샌달과 셔츠)와 조금 비슷하기 때문입니다. 하지만 `Dense` 층을 사용하기 때문에 동일한 위치에 나타난 패턴만 재사용할 수 있습니다(반대로 합성곱 층은 훨씬 많은 정보를 전송합니다. 학습한 패턴을 이미지의 어느 위치에서나 감지할 수 있기 때문입니다. CNN 장에서 자세히 알아 보겠습니다)."
      ]
    },
    {
      "cell_type": "code",
      "execution_count": 44,
      "id": "82c75561",
      "metadata": {
        "execution": {
          "iopub.execute_input": "2021-10-10T01:45:29.406937Z",
          "iopub.status.busy": "2021-10-10T01:45:29.406265Z",
          "iopub.status.idle": "2021-10-10T01:45:29.545344Z",
          "shell.execute_reply": "2021-10-10T01:45:29.545764Z"
        },
        "id": "82c75561"
      },
      "outputs": [],
      "source": [
        "def split_dataset(X, y):\n",
        "    y_5_or_6 = (y == 5) | (y == 6) # sandals or shirts\n",
        "    y_A = y[~y_5_or_6]\n",
        "    y_A[y_A > 6] -= 2 # class indices 7, 8, 9 should be moved to 5, 6, 7\n",
        "    y_B = (y[y_5_or_6] == 6).astype(np.float32) # binary classification task: is it a shirt (class 6)?\n",
        "    return ((X[~y_5_or_6], y_A),\n",
        "            (X[y_5_or_6], y_B))\n",
        "\n",
        "(X_train_A, y_train_A), (X_train_B, y_train_B) = split_dataset(X_train, y_train)\n",
        "(X_valid_A, y_valid_A), (X_valid_B, y_valid_B) = split_dataset(X_valid, y_valid)\n",
        "(X_test_A, y_test_A), (X_test_B, y_test_B) = split_dataset(X_test, y_test)\n",
        "X_train_B = X_train_B[:200]\n",
        "y_train_B = y_train_B[:200]"
      ]
    },
    {
      "cell_type": "code",
      "execution_count": 45,
      "id": "6a06d79f",
      "metadata": {
        "colab": {
          "base_uri": "https://localhost:8080/"
        },
        "execution": {
          "iopub.execute_input": "2021-10-10T01:45:29.549685Z",
          "iopub.status.busy": "2021-10-10T01:45:29.549250Z",
          "iopub.status.idle": "2021-10-10T01:45:29.552047Z",
          "shell.execute_reply": "2021-10-10T01:45:29.552460Z"
        },
        "id": "6a06d79f",
        "outputId": "bdbf3597-b940-4858-d815-e167a8b003ad"
      },
      "outputs": [
        {
          "output_type": "execute_result",
          "data": {
            "text/plain": [
              "(43986, 28, 28)"
            ]
          },
          "metadata": {},
          "execution_count": 45
        }
      ],
      "source": [
        "X_train_A.shape"
      ]
    },
    {
      "cell_type": "code",
      "execution_count": 46,
      "id": "45d00e30",
      "metadata": {
        "colab": {
          "base_uri": "https://localhost:8080/"
        },
        "execution": {
          "iopub.execute_input": "2021-10-10T01:45:29.556359Z",
          "iopub.status.busy": "2021-10-10T01:45:29.555909Z",
          "iopub.status.idle": "2021-10-10T01:45:29.560168Z",
          "shell.execute_reply": "2021-10-10T01:45:29.559793Z"
        },
        "id": "45d00e30",
        "outputId": "ad0bee4c-f9cc-4d03-90c9-00f3e8b39dff"
      },
      "outputs": [
        {
          "output_type": "execute_result",
          "data": {
            "text/plain": [
              "(200, 28, 28)"
            ]
          },
          "metadata": {},
          "execution_count": 46
        }
      ],
      "source": [
        "X_train_B.shape"
      ]
    },
    {
      "cell_type": "code",
      "execution_count": 47,
      "id": "d1fa5a76",
      "metadata": {
        "colab": {
          "base_uri": "https://localhost:8080/"
        },
        "execution": {
          "iopub.execute_input": "2021-10-10T01:45:29.566054Z",
          "iopub.status.busy": "2021-10-10T01:45:29.564814Z",
          "iopub.status.idle": "2021-10-10T01:45:29.568414Z",
          "shell.execute_reply": "2021-10-10T01:45:29.567976Z"
        },
        "id": "d1fa5a76",
        "outputId": "87e9ac1e-aa74-4b2e-ef54-2ceda14dc936"
      },
      "outputs": [
        {
          "output_type": "execute_result",
          "data": {
            "text/plain": [
              "array([4, 0, 5, 7, 7, 7, 4, 4, 3, 4, 0, 1, 6, 3, 4, 3, 2, 6, 5, 3, 4, 5,\n",
              "       1, 3, 4, 2, 0, 6, 7, 1], dtype=uint8)"
            ]
          },
          "metadata": {},
          "execution_count": 47
        }
      ],
      "source": [
        "y_train_A[:30]"
      ]
    },
    {
      "cell_type": "code",
      "execution_count": 49,
      "id": "e9075792",
      "metadata": {
        "colab": {
          "base_uri": "https://localhost:8080/"
        },
        "execution": {
          "iopub.execute_input": "2021-10-10T01:45:29.573570Z",
          "iopub.status.busy": "2021-10-10T01:45:29.573056Z",
          "iopub.status.idle": "2021-10-10T01:45:29.575830Z",
          "shell.execute_reply": "2021-10-10T01:45:29.576238Z"
        },
        "id": "e9075792",
        "outputId": "04afd8b6-6266-4d5d-cb95-a47cc291d040"
      },
      "outputs": [
        {
          "output_type": "execute_result",
          "data": {
            "text/plain": [
              "array([1., 1., 0., 0., 0., 0., 1., 1., 1., 0., 0., 1., 1., 0., 0., 0., 0.,\n",
              "       0., 0., 1., 1., 0., 0., 1., 1., 0., 1., 1., 1., 1.], dtype=float32)"
            ]
          },
          "metadata": {},
          "execution_count": 49
        }
      ],
      "source": [
        "y_train_B[:30]"
      ]
    },
    {
      "cell_type": "code",
      "execution_count": 50,
      "id": "8520c732",
      "metadata": {
        "execution": {
          "iopub.execute_input": "2021-10-10T01:45:29.601104Z",
          "iopub.status.busy": "2021-10-10T01:45:29.599747Z",
          "iopub.status.idle": "2021-10-10T01:45:29.601831Z",
          "shell.execute_reply": "2021-10-10T01:45:29.602225Z"
        },
        "id": "8520c732"
      },
      "outputs": [],
      "source": [
        "tf.random.set_seed(42)\n",
        "np.random.seed(42)"
      ]
    },
    {
      "cell_type": "code",
      "execution_count": 51,
      "id": "68b52689",
      "metadata": {
        "execution": {
          "iopub.execute_input": "2021-10-10T01:45:29.607726Z",
          "iopub.status.busy": "2021-10-10T01:45:29.606975Z",
          "iopub.status.idle": "2021-10-10T01:45:29.648838Z",
          "shell.execute_reply": "2021-10-10T01:45:29.649280Z"
        },
        "id": "68b52689"
      },
      "outputs": [],
      "source": [
        "model_A = keras.models.Sequential()\n",
        "model_A.add(keras.layers.Flatten(input_shape=[28, 28]))\n",
        "for n_hidden in (300, 100, 50, 50, 50):\n",
        "    model_A.add(keras.layers.Dense(n_hidden, activation=\"selu\"))\n",
        "model_A.add(keras.layers.Dense(8, activation=\"softmax\"))"
      ]
    },
    {
      "cell_type": "code",
      "execution_count": 52,
      "id": "915efbd9",
      "metadata": {
        "execution": {
          "iopub.execute_input": "2021-10-10T01:45:29.656414Z",
          "iopub.status.busy": "2021-10-10T01:45:29.655721Z",
          "iopub.status.idle": "2021-10-10T01:45:29.658744Z",
          "shell.execute_reply": "2021-10-10T01:45:29.658227Z"
        },
        "id": "915efbd9"
      },
      "outputs": [],
      "source": [
        "model_A.compile(loss=\"sparse_categorical_crossentropy\",\n",
        "                optimizer=keras.optimizers.SGD(learning_rate=1e-3),\n",
        "                metrics=[\"accuracy\"])"
      ]
    },
    {
      "cell_type": "code",
      "execution_count": 53,
      "id": "83358be5",
      "metadata": {
        "colab": {
          "base_uri": "https://localhost:8080/"
        },
        "execution": {
          "iopub.execute_input": "2021-10-10T01:45:29.661972Z",
          "iopub.status.busy": "2021-10-10T01:45:29.661579Z",
          "iopub.status.idle": "2021-10-10T01:46:51.964978Z",
          "shell.execute_reply": "2021-10-10T01:46:51.965446Z"
        },
        "id": "83358be5",
        "outputId": "563d355b-5693-4520-9402-798f703b072c"
      },
      "outputs": [
        {
          "output_type": "stream",
          "name": "stdout",
          "text": [
            "Epoch 1/20\n",
            "1375/1375 [==============================] - 5s 3ms/step - loss: 0.5926 - accuracy: 0.8103 - val_loss: 0.3890 - val_accuracy: 0.8677\n",
            "Epoch 2/20\n",
            "1375/1375 [==============================] - 4s 3ms/step - loss: 0.3523 - accuracy: 0.8786 - val_loss: 0.3290 - val_accuracy: 0.8824\n",
            "Epoch 3/20\n",
            "1375/1375 [==============================] - 4s 3ms/step - loss: 0.3170 - accuracy: 0.8895 - val_loss: 0.3013 - val_accuracy: 0.8994\n",
            "Epoch 4/20\n",
            "1375/1375 [==============================] - 4s 3ms/step - loss: 0.2973 - accuracy: 0.8974 - val_loss: 0.2894 - val_accuracy: 0.9023\n",
            "Epoch 5/20\n",
            "1375/1375 [==============================] - 4s 3ms/step - loss: 0.2834 - accuracy: 0.9021 - val_loss: 0.2774 - val_accuracy: 0.9066\n",
            "Epoch 6/20\n",
            "1375/1375 [==============================] - 4s 3ms/step - loss: 0.2729 - accuracy: 0.9062 - val_loss: 0.2734 - val_accuracy: 0.9073\n",
            "Epoch 7/20\n",
            "1375/1375 [==============================] - 4s 3ms/step - loss: 0.2641 - accuracy: 0.9091 - val_loss: 0.2720 - val_accuracy: 0.9088\n",
            "Epoch 8/20\n",
            "1375/1375 [==============================] - 4s 3ms/step - loss: 0.2572 - accuracy: 0.9127 - val_loss: 0.2590 - val_accuracy: 0.9138\n",
            "Epoch 9/20\n",
            "1375/1375 [==============================] - 4s 3ms/step - loss: 0.2518 - accuracy: 0.9139 - val_loss: 0.2561 - val_accuracy: 0.9145\n",
            "Epoch 10/20\n",
            "1375/1375 [==============================] - 4s 3ms/step - loss: 0.2468 - accuracy: 0.9155 - val_loss: 0.2540 - val_accuracy: 0.9165\n",
            "Epoch 11/20\n",
            "1375/1375 [==============================] - 4s 3ms/step - loss: 0.2422 - accuracy: 0.9178 - val_loss: 0.2496 - val_accuracy: 0.9158\n",
            "Epoch 12/20\n",
            "1375/1375 [==============================] - 4s 3ms/step - loss: 0.2382 - accuracy: 0.9188 - val_loss: 0.2515 - val_accuracy: 0.9128\n",
            "Epoch 13/20\n",
            "1375/1375 [==============================] - 4s 3ms/step - loss: 0.2350 - accuracy: 0.9195 - val_loss: 0.2447 - val_accuracy: 0.9160\n",
            "Epoch 14/20\n",
            "1375/1375 [==============================] - 4s 3ms/step - loss: 0.2315 - accuracy: 0.9213 - val_loss: 0.2414 - val_accuracy: 0.9180\n",
            "Epoch 15/20\n",
            "1375/1375 [==============================] - 4s 3ms/step - loss: 0.2287 - accuracy: 0.9214 - val_loss: 0.2448 - val_accuracy: 0.9193\n",
            "Epoch 16/20\n",
            "1375/1375 [==============================] - 4s 3ms/step - loss: 0.2253 - accuracy: 0.9225 - val_loss: 0.2386 - val_accuracy: 0.9203\n",
            "Epoch 17/20\n",
            "1375/1375 [==============================] - 4s 3ms/step - loss: 0.2229 - accuracy: 0.9234 - val_loss: 0.2409 - val_accuracy: 0.9173\n",
            "Epoch 18/20\n",
            "1375/1375 [==============================] - 4s 3ms/step - loss: 0.2200 - accuracy: 0.9245 - val_loss: 0.2429 - val_accuracy: 0.9148\n",
            "Epoch 19/20\n",
            "1375/1375 [==============================] - 4s 3ms/step - loss: 0.2177 - accuracy: 0.9254 - val_loss: 0.2329 - val_accuracy: 0.9205\n",
            "Epoch 20/20\n",
            "1375/1375 [==============================] - 4s 3ms/step - loss: 0.2155 - accuracy: 0.9263 - val_loss: 0.2331 - val_accuracy: 0.9208\n"
          ]
        }
      ],
      "source": [
        "history = model_A.fit(X_train_A, y_train_A, epochs=20,\n",
        "                    validation_data=(X_valid_A, y_valid_A))"
      ]
    },
    {
      "cell_type": "code",
      "execution_count": 54,
      "id": "316296a1",
      "metadata": {
        "execution": {
          "iopub.execute_input": "2021-10-10T01:46:51.971496Z",
          "iopub.status.busy": "2021-10-10T01:46:51.967801Z",
          "iopub.status.idle": "2021-10-10T01:46:51.986661Z",
          "shell.execute_reply": "2021-10-10T01:46:51.986206Z"
        },
        "id": "316296a1"
      },
      "outputs": [],
      "source": [
        "model_A.save(\"my_model_A.h5\")"
      ]
    },
    {
      "cell_type": "code",
      "execution_count": 55,
      "id": "a93aeaa8",
      "metadata": {
        "execution": {
          "iopub.execute_input": "2021-10-10T01:46:51.992264Z",
          "iopub.status.busy": "2021-10-10T01:46:51.991799Z",
          "iopub.status.idle": "2021-10-10T01:46:52.034071Z",
          "shell.execute_reply": "2021-10-10T01:46:52.034444Z"
        },
        "id": "a93aeaa8"
      },
      "outputs": [],
      "source": [
        "model_B = keras.models.Sequential()\n",
        "model_B.add(keras.layers.Flatten(input_shape=[28, 28]))\n",
        "for n_hidden in (300, 100, 50, 50, 50):\n",
        "    model_B.add(keras.layers.Dense(n_hidden, activation=\"selu\"))\n",
        "model_B.add(keras.layers.Dense(1, activation=\"sigmoid\"))"
      ]
    },
    {
      "cell_type": "code",
      "execution_count": 56,
      "id": "997de873",
      "metadata": {
        "execution": {
          "iopub.execute_input": "2021-10-10T01:46:52.040832Z",
          "iopub.status.busy": "2021-10-10T01:46:52.039574Z",
          "iopub.status.idle": "2021-10-10T01:46:52.043035Z",
          "shell.execute_reply": "2021-10-10T01:46:52.043394Z"
        },
        "id": "997de873"
      },
      "outputs": [],
      "source": [
        "model_B.compile(loss=\"binary_crossentropy\",\n",
        "                optimizer=keras.optimizers.SGD(learning_rate=1e-3),\n",
        "                metrics=[\"accuracy\"])"
      ]
    },
    {
      "cell_type": "code",
      "execution_count": 57,
      "id": "f8f7dcf8",
      "metadata": {
        "colab": {
          "base_uri": "https://localhost:8080/"
        },
        "execution": {
          "iopub.execute_input": "2021-10-10T01:46:52.046830Z",
          "iopub.status.busy": "2021-10-10T01:46:52.046371Z",
          "iopub.status.idle": "2021-10-10T01:46:53.827991Z",
          "shell.execute_reply": "2021-10-10T01:46:53.827549Z"
        },
        "id": "f8f7dcf8",
        "outputId": "adce403d-9a01-40f0-bbf1-5e6de3bcfbf6",
        "scrolled": true
      },
      "outputs": [
        {
          "output_type": "stream",
          "name": "stdout",
          "text": [
            "Epoch 1/20\n",
            "7/7 [==============================] - 1s 37ms/step - loss: 0.9573 - accuracy: 0.4650 - val_loss: 0.6314 - val_accuracy: 0.6004\n",
            "Epoch 2/20\n",
            "7/7 [==============================] - 0s 14ms/step - loss: 0.5692 - accuracy: 0.7450 - val_loss: 0.4784 - val_accuracy: 0.8529\n",
            "Epoch 3/20\n",
            "7/7 [==============================] - 0s 15ms/step - loss: 0.4503 - accuracy: 0.8650 - val_loss: 0.4102 - val_accuracy: 0.8945\n",
            "Epoch 4/20\n",
            "7/7 [==============================] - 0s 17ms/step - loss: 0.3879 - accuracy: 0.8950 - val_loss: 0.3647 - val_accuracy: 0.9178\n",
            "Epoch 5/20\n",
            "7/7 [==============================] - 0s 18ms/step - loss: 0.3435 - accuracy: 0.9250 - val_loss: 0.3300 - val_accuracy: 0.9320\n",
            "Epoch 6/20\n",
            "7/7 [==============================] - 0s 15ms/step - loss: 0.3081 - accuracy: 0.9300 - val_loss: 0.3019 - val_accuracy: 0.9402\n",
            "Epoch 7/20\n",
            "7/7 [==============================] - 0s 29ms/step - loss: 0.2800 - accuracy: 0.9350 - val_loss: 0.2804 - val_accuracy: 0.9422\n",
            "Epoch 8/20\n",
            "7/7 [==============================] - 0s 16ms/step - loss: 0.2564 - accuracy: 0.9450 - val_loss: 0.2606 - val_accuracy: 0.9473\n",
            "Epoch 9/20\n",
            "7/7 [==============================] - 0s 16ms/step - loss: 0.2362 - accuracy: 0.9550 - val_loss: 0.2428 - val_accuracy: 0.9523\n",
            "Epoch 10/20\n",
            "7/7 [==============================] - 0s 16ms/step - loss: 0.2188 - accuracy: 0.9600 - val_loss: 0.2281 - val_accuracy: 0.9544\n",
            "Epoch 11/20\n",
            "7/7 [==============================] - 0s 15ms/step - loss: 0.2036 - accuracy: 0.9700 - val_loss: 0.2150 - val_accuracy: 0.9584\n",
            "Epoch 12/20\n",
            "7/7 [==============================] - 0s 15ms/step - loss: 0.1898 - accuracy: 0.9700 - val_loss: 0.2036 - val_accuracy: 0.9584\n",
            "Epoch 13/20\n",
            "7/7 [==============================] - 0s 16ms/step - loss: 0.1773 - accuracy: 0.9750 - val_loss: 0.1931 - val_accuracy: 0.9615\n",
            "Epoch 14/20\n",
            "7/7 [==============================] - 0s 16ms/step - loss: 0.1668 - accuracy: 0.9800 - val_loss: 0.1838 - val_accuracy: 0.9635\n",
            "Epoch 15/20\n",
            "7/7 [==============================] - 0s 16ms/step - loss: 0.1570 - accuracy: 0.9900 - val_loss: 0.1746 - val_accuracy: 0.9686\n",
            "Epoch 16/20\n",
            "7/7 [==============================] - 0s 15ms/step - loss: 0.1481 - accuracy: 0.9900 - val_loss: 0.1674 - val_accuracy: 0.9686\n",
            "Epoch 17/20\n",
            "7/7 [==============================] - 0s 16ms/step - loss: 0.1406 - accuracy: 0.9900 - val_loss: 0.1604 - val_accuracy: 0.9706\n",
            "Epoch 18/20\n",
            "7/7 [==============================] - 0s 16ms/step - loss: 0.1334 - accuracy: 0.9900 - val_loss: 0.1539 - val_accuracy: 0.9706\n",
            "Epoch 19/20\n",
            "7/7 [==============================] - 0s 15ms/step - loss: 0.1268 - accuracy: 0.9900 - val_loss: 0.1482 - val_accuracy: 0.9716\n",
            "Epoch 20/20\n",
            "7/7 [==============================] - 0s 16ms/step - loss: 0.1208 - accuracy: 0.9900 - val_loss: 0.1431 - val_accuracy: 0.9716\n"
          ]
        }
      ],
      "source": [
        "history = model_B.fit(X_train_B, y_train_B, epochs=20,\n",
        "                      validation_data=(X_valid_B, y_valid_B))"
      ]
    },
    {
      "cell_type": "code",
      "execution_count": 58,
      "id": "a5eecd6e",
      "metadata": {
        "colab": {
          "base_uri": "https://localhost:8080/"
        },
        "execution": {
          "iopub.execute_input": "2021-10-10T01:46:53.833367Z",
          "iopub.status.busy": "2021-10-10T01:46:53.832924Z",
          "iopub.status.idle": "2021-10-10T01:46:53.835776Z",
          "shell.execute_reply": "2021-10-10T01:46:53.836116Z"
        },
        "id": "a5eecd6e",
        "outputId": "cc4ff36e-31ac-4fd3-ca41-beb6b54225d5"
      },
      "outputs": [
        {
          "output_type": "stream",
          "name": "stdout",
          "text": [
            "Model: \"sequential_7\"\n",
            "_________________________________________________________________\n",
            " Layer (type)                Output Shape              Param #   \n",
            "=================================================================\n",
            " flatten_7 (Flatten)         (None, 784)               0         \n",
            "                                                                 \n",
            " dense_224 (Dense)           (None, 300)               235500    \n",
            "                                                                 \n",
            " dense_225 (Dense)           (None, 100)               30100     \n",
            "                                                                 \n",
            " dense_226 (Dense)           (None, 50)                5050      \n",
            "                                                                 \n",
            " dense_227 (Dense)           (None, 50)                2550      \n",
            "                                                                 \n",
            " dense_228 (Dense)           (None, 50)                2550      \n",
            "                                                                 \n",
            " dense_229 (Dense)           (None, 1)                 51        \n",
            "                                                                 \n",
            "=================================================================\n",
            "Total params: 275,801\n",
            "Trainable params: 275,801\n",
            "Non-trainable params: 0\n",
            "_________________________________________________________________\n"
          ]
        }
      ],
      "source": [
        "model_B.summary()"
      ]
    },
    {
      "cell_type": "code",
      "execution_count": 59,
      "id": "9cbf5787",
      "metadata": {
        "execution": {
          "iopub.execute_input": "2021-10-10T01:46:53.842610Z",
          "iopub.status.busy": "2021-10-10T01:46:53.840154Z",
          "iopub.status.idle": "2021-10-10T01:46:53.926739Z",
          "shell.execute_reply": "2021-10-10T01:46:53.927163Z"
        },
        "id": "9cbf5787"
      },
      "outputs": [],
      "source": [
        "model_A = keras.models.load_model(\"my_model_A.h5\")\n",
        "model_B_on_A = keras.models.Sequential(model_A.layers[:-1])\n",
        "model_B_on_A.add(keras.layers.Dense(1, activation=\"sigmoid\"))"
      ]
    },
    {
      "cell_type": "markdown",
      "id": "ed52bf43",
      "metadata": {
        "id": "ed52bf43"
      },
      "source": [
        "`model_B_on_A`와 `model_A`는 층을 공유하기 때문에 하나를 훈련하면 두 모델이 업데이트됩니다. 이를 피하려면 `model_A`를 클론한 것을 사용해 `model_B_on_A`를 만들어야 합니다:"
      ]
    },
    {
      "cell_type": "code",
      "execution_count": 60,
      "id": "561c8824",
      "metadata": {
        "execution": {
          "iopub.execute_input": "2021-10-10T01:46:53.936775Z",
          "iopub.status.busy": "2021-10-10T01:46:53.936286Z",
          "iopub.status.idle": "2021-10-10T01:46:54.007785Z",
          "shell.execute_reply": "2021-10-10T01:46:54.007229Z"
        },
        "id": "561c8824"
      },
      "outputs": [],
      "source": [
        "model_A_clone = keras.models.clone_model(model_A)\n",
        "model_A_clone.set_weights(model_A.get_weights())\n",
        "model_B_on_A = keras.models.Sequential(model_A_clone.layers[:-1])\n",
        "model_B_on_A.add(keras.layers.Dense(1, activation=\"sigmoid\"))"
      ]
    },
    {
      "cell_type": "code",
      "execution_count": 61,
      "id": "89216111",
      "metadata": {
        "execution": {
          "iopub.execute_input": "2021-10-10T01:46:54.012491Z",
          "iopub.status.busy": "2021-10-10T01:46:54.012052Z",
          "iopub.status.idle": "2021-10-10T01:46:54.017729Z",
          "shell.execute_reply": "2021-10-10T01:46:54.018102Z"
        },
        "id": "89216111"
      },
      "outputs": [],
      "source": [
        "for layer in model_B_on_A.layers[:-1]:\n",
        "    layer.trainable = False\n",
        "\n",
        "model_B_on_A.compile(loss=\"binary_crossentropy\",\n",
        "                     optimizer=keras.optimizers.SGD(learning_rate=1e-3),\n",
        "                     metrics=[\"accuracy\"])"
      ]
    },
    {
      "cell_type": "code",
      "execution_count": 62,
      "id": "df8bd509",
      "metadata": {
        "colab": {
          "base_uri": "https://localhost:8080/"
        },
        "execution": {
          "iopub.execute_input": "2021-10-10T01:46:54.023537Z",
          "iopub.status.busy": "2021-10-10T01:46:54.022251Z",
          "iopub.status.idle": "2021-10-10T01:46:56.465171Z",
          "shell.execute_reply": "2021-10-10T01:46:56.465583Z"
        },
        "id": "df8bd509",
        "outputId": "4f53fb33-b367-4ce4-dcd6-0e13977f8c24"
      },
      "outputs": [
        {
          "output_type": "stream",
          "name": "stdout",
          "text": [
            "Epoch 1/4\n",
            "7/7 [==============================] - 1s 35ms/step - loss: 0.2662 - accuracy: 0.9400 - val_loss: 0.2804 - val_accuracy: 0.9260\n",
            "Epoch 2/4\n",
            "7/7 [==============================] - 0s 15ms/step - loss: 0.2564 - accuracy: 0.9400 - val_loss: 0.2707 - val_accuracy: 0.9310\n",
            "Epoch 3/4\n",
            "7/7 [==============================] - 0s 16ms/step - loss: 0.2470 - accuracy: 0.9400 - val_loss: 0.2619 - val_accuracy: 0.9351\n",
            "Epoch 4/4\n",
            "7/7 [==============================] - 0s 14ms/step - loss: 0.2383 - accuracy: 0.9400 - val_loss: 0.2537 - val_accuracy: 0.9361\n",
            "Epoch 1/16\n",
            "7/7 [==============================] - 1s 36ms/step - loss: 0.2134 - accuracy: 0.9450 - val_loss: 0.2053 - val_accuracy: 0.9645\n",
            "Epoch 2/16\n",
            "7/7 [==============================] - 0s 16ms/step - loss: 0.1706 - accuracy: 0.9550 - val_loss: 0.1727 - val_accuracy: 0.9716\n",
            "Epoch 3/16\n",
            "7/7 [==============================] - 0s 29ms/step - loss: 0.1413 - accuracy: 0.9700 - val_loss: 0.1498 - val_accuracy: 0.9817\n",
            "Epoch 4/16\n",
            "7/7 [==============================] - 0s 15ms/step - loss: 0.1201 - accuracy: 0.9800 - val_loss: 0.1330 - val_accuracy: 0.9828\n",
            "Epoch 5/16\n",
            "7/7 [==============================] - 0s 16ms/step - loss: 0.1049 - accuracy: 0.9900 - val_loss: 0.1205 - val_accuracy: 0.9848\n",
            "Epoch 6/16\n",
            "7/7 [==============================] - 0s 15ms/step - loss: 0.0931 - accuracy: 0.9950 - val_loss: 0.1106 - val_accuracy: 0.9858\n",
            "Epoch 7/16\n",
            "7/7 [==============================] - 0s 15ms/step - loss: 0.0839 - accuracy: 0.9950 - val_loss: 0.1024 - val_accuracy: 0.9858\n",
            "Epoch 8/16\n",
            "7/7 [==============================] - 0s 16ms/step - loss: 0.0763 - accuracy: 0.9950 - val_loss: 0.0956 - val_accuracy: 0.9868\n",
            "Epoch 9/16\n",
            "7/7 [==============================] - 0s 15ms/step - loss: 0.0699 - accuracy: 0.9950 - val_loss: 0.0894 - val_accuracy: 0.9868\n",
            "Epoch 10/16\n",
            "7/7 [==============================] - 0s 16ms/step - loss: 0.0641 - accuracy: 0.9950 - val_loss: 0.0846 - val_accuracy: 0.9878\n",
            "Epoch 11/16\n",
            "7/7 [==============================] - 0s 15ms/step - loss: 0.0596 - accuracy: 1.0000 - val_loss: 0.0802 - val_accuracy: 0.9868\n",
            "Epoch 12/16\n",
            "7/7 [==============================] - 0s 29ms/step - loss: 0.0554 - accuracy: 1.0000 - val_loss: 0.0764 - val_accuracy: 0.9878\n",
            "Epoch 13/16\n",
            "7/7 [==============================] - 0s 15ms/step - loss: 0.0517 - accuracy: 1.0000 - val_loss: 0.0730 - val_accuracy: 0.9878\n",
            "Epoch 14/16\n",
            "7/7 [==============================] - 0s 16ms/step - loss: 0.0485 - accuracy: 1.0000 - val_loss: 0.0702 - val_accuracy: 0.9878\n",
            "Epoch 15/16\n",
            "7/7 [==============================] - 0s 15ms/step - loss: 0.0459 - accuracy: 1.0000 - val_loss: 0.0677 - val_accuracy: 0.9878\n",
            "Epoch 16/16\n",
            "7/7 [==============================] - 0s 16ms/step - loss: 0.0435 - accuracy: 1.0000 - val_loss: 0.0654 - val_accuracy: 0.9878\n"
          ]
        }
      ],
      "source": [
        "history = model_B_on_A.fit(X_train_B, y_train_B, epochs=4,\n",
        "                           validation_data=(X_valid_B, y_valid_B))\n",
        "\n",
        "for layer in model_B_on_A.layers[:-1]:\n",
        "    layer.trainable = True\n",
        "\n",
        "model_B_on_A.compile(loss=\"binary_crossentropy\",\n",
        "                     optimizer=keras.optimizers.SGD(learning_rate=1e-3),\n",
        "                     metrics=[\"accuracy\"])\n",
        "history = model_B_on_A.fit(X_train_B, y_train_B, epochs=16,\n",
        "                           validation_data=(X_valid_B, y_valid_B))"
      ]
    },
    {
      "cell_type": "markdown",
      "id": "40a24e80",
      "metadata": {
        "id": "40a24e80"
      },
      "source": [
        "마지막 점수는 어떤가요?"
      ]
    },
    {
      "cell_type": "code",
      "execution_count": 63,
      "id": "55b8ceda",
      "metadata": {
        "colab": {
          "base_uri": "https://localhost:8080/"
        },
        "execution": {
          "iopub.execute_input": "2021-10-10T01:46:56.469986Z",
          "iopub.status.busy": "2021-10-10T01:46:56.469471Z",
          "iopub.status.idle": "2021-10-10T01:46:56.597181Z",
          "shell.execute_reply": "2021-10-10T01:46:56.597652Z"
        },
        "id": "55b8ceda",
        "outputId": "7ddf7693-a676-41fd-bc04-38199eab25b1"
      },
      "outputs": [
        {
          "output_type": "stream",
          "name": "stdout",
          "text": [
            "63/63 [==============================] - 0s 2ms/step - loss: 0.1408 - accuracy: 0.9705\n"
          ]
        },
        {
          "output_type": "execute_result",
          "data": {
            "text/plain": [
              "[0.1408407837152481, 0.9704999923706055]"
            ]
          },
          "metadata": {},
          "execution_count": 63
        }
      ],
      "source": [
        "model_B.evaluate(X_test_B, y_test_B)"
      ]
    },
    {
      "cell_type": "code",
      "execution_count": 64,
      "id": "17d470b4",
      "metadata": {
        "colab": {
          "base_uri": "https://localhost:8080/"
        },
        "execution": {
          "iopub.execute_input": "2021-10-10T01:46:56.599942Z",
          "iopub.status.busy": "2021-10-10T01:46:56.599501Z",
          "iopub.status.idle": "2021-10-10T01:46:57.077178Z",
          "shell.execute_reply": "2021-10-10T01:46:57.077594Z"
        },
        "id": "17d470b4",
        "outputId": "c945fc96-1828-4698-eaf7-4625be5b35dd"
      },
      "outputs": [
        {
          "output_type": "stream",
          "name": "stdout",
          "text": [
            "63/63 [==============================] - 0s 2ms/step - loss: 0.0563 - accuracy: 0.9940\n"
          ]
        },
        {
          "output_type": "execute_result",
          "data": {
            "text/plain": [
              "[0.05625130608677864, 0.9940000176429749]"
            ]
          },
          "metadata": {},
          "execution_count": 64
        }
      ],
      "source": [
        "model_B_on_A.evaluate(X_test_B, y_test_B)"
      ]
    },
    {
      "cell_type": "markdown",
      "id": "0fc0ed2d",
      "metadata": {
        "id": "0fc0ed2d"
      },
      "source": [
        "훌륭하네요! 꽤 많은 정보를 전달했습니다: 오차율이 4.9배나 줄었네요!"
      ]
    },
    {
      "cell_type": "code",
      "execution_count": 65,
      "id": "d0ab167a",
      "metadata": {
        "colab": {
          "base_uri": "https://localhost:8080/"
        },
        "execution": {
          "iopub.execute_input": "2021-10-10T01:46:57.080325Z",
          "iopub.status.busy": "2021-10-10T01:46:57.079922Z",
          "iopub.status.idle": "2021-10-10T01:46:57.083253Z",
          "shell.execute_reply": "2021-10-10T01:46:57.083624Z"
        },
        "id": "d0ab167a",
        "outputId": "ea97bc65-e7f4-435c-ead1-76ca55fbb65a"
      },
      "outputs": [
        {
          "output_type": "execute_result",
          "data": {
            "text/plain": [
              "4.916666666666718"
            ]
          },
          "metadata": {},
          "execution_count": 65
        }
      ],
      "source": [
        "(100 - 97.05) / (100 - 99.40)"
      ]
    },
    {
      "cell_type": "markdown",
      "id": "8b2cace2",
      "metadata": {
        "id": "8b2cace2"
      },
      "source": [
        "# 고속 옵티마이저"
      ]
    },
    {
      "cell_type": "markdown",
      "id": "a460ab6b",
      "metadata": {
        "id": "a460ab6b"
      },
      "source": [
        "## 모멘텀 옵티마이저"
      ]
    },
    {
      "cell_type": "code",
      "execution_count": 66,
      "id": "51de2a64",
      "metadata": {
        "execution": {
          "iopub.execute_input": "2021-10-10T01:46:57.086196Z",
          "iopub.status.busy": "2021-10-10T01:46:57.085763Z",
          "iopub.status.idle": "2021-10-10T01:46:57.088653Z",
          "shell.execute_reply": "2021-10-10T01:46:57.089022Z"
        },
        "id": "51de2a64"
      },
      "outputs": [],
      "source": [
        "optimizer = keras.optimizers.SGD(learning_rate=0.001, momentum=0.9)"
      ]
    },
    {
      "cell_type": "markdown",
      "id": "ef7bd778",
      "metadata": {
        "id": "ef7bd778"
      },
      "source": [
        "## 네스테로프 가속 경사"
      ]
    },
    {
      "cell_type": "code",
      "execution_count": 67,
      "id": "79d96d0e",
      "metadata": {
        "execution": {
          "iopub.execute_input": "2021-10-10T01:46:57.091884Z",
          "iopub.status.busy": "2021-10-10T01:46:57.091407Z",
          "iopub.status.idle": "2021-10-10T01:46:57.094076Z",
          "shell.execute_reply": "2021-10-10T01:46:57.094453Z"
        },
        "id": "79d96d0e"
      },
      "outputs": [],
      "source": [
        "optimizer = keras.optimizers.SGD(learning_rate=0.001, momentum=0.9, nesterov=True)"
      ]
    },
    {
      "cell_type": "markdown",
      "id": "fc22c7de",
      "metadata": {
        "id": "fc22c7de"
      },
      "source": [
        "## AdaGrad"
      ]
    },
    {
      "cell_type": "code",
      "execution_count": 68,
      "id": "5449bc99",
      "metadata": {
        "execution": {
          "iopub.execute_input": "2021-10-10T01:46:57.097132Z",
          "iopub.status.busy": "2021-10-10T01:46:57.096670Z",
          "iopub.status.idle": "2021-10-10T01:46:57.099287Z",
          "shell.execute_reply": "2021-10-10T01:46:57.099677Z"
        },
        "id": "5449bc99"
      },
      "outputs": [],
      "source": [
        "optimizer = keras.optimizers.Adagrad(learning_rate=0.001)"
      ]
    },
    {
      "cell_type": "markdown",
      "id": "d4fa4e86",
      "metadata": {
        "id": "d4fa4e86"
      },
      "source": [
        "## RMSProp"
      ]
    },
    {
      "cell_type": "code",
      "execution_count": 69,
      "id": "f9eb7cc2",
      "metadata": {
        "execution": {
          "iopub.execute_input": "2021-10-10T01:46:57.102022Z",
          "iopub.status.busy": "2021-10-10T01:46:57.101547Z",
          "iopub.status.idle": "2021-10-10T01:46:57.104158Z",
          "shell.execute_reply": "2021-10-10T01:46:57.104530Z"
        },
        "id": "f9eb7cc2"
      },
      "outputs": [],
      "source": [
        "optimizer = keras.optimizers.RMSprop(learning_rate=0.001, rho=0.9)"
      ]
    },
    {
      "cell_type": "markdown",
      "id": "47e2d51a",
      "metadata": {
        "id": "47e2d51a"
      },
      "source": [
        "## Adam 옵티마이저"
      ]
    },
    {
      "cell_type": "code",
      "execution_count": 70,
      "id": "e4b0fbf5",
      "metadata": {
        "execution": {
          "iopub.execute_input": "2021-10-10T01:46:57.107859Z",
          "iopub.status.busy": "2021-10-10T01:46:57.106779Z",
          "iopub.status.idle": "2021-10-10T01:46:57.110078Z",
          "shell.execute_reply": "2021-10-10T01:46:57.109648Z"
        },
        "id": "e4b0fbf5"
      },
      "outputs": [],
      "source": [
        "optimizer = keras.optimizers.Adam(learning_rate=0.001, beta_1=0.9, beta_2=0.999)"
      ]
    },
    {
      "cell_type": "markdown",
      "id": "ef2091ee",
      "metadata": {
        "id": "ef2091ee"
      },
      "source": [
        "## Adamax 옵티마이저"
      ]
    },
    {
      "cell_type": "code",
      "execution_count": 71,
      "id": "0516e24f",
      "metadata": {
        "execution": {
          "iopub.execute_input": "2021-10-10T01:46:57.113237Z",
          "iopub.status.busy": "2021-10-10T01:46:57.112816Z",
          "iopub.status.idle": "2021-10-10T01:46:57.115839Z",
          "shell.execute_reply": "2021-10-10T01:46:57.115506Z"
        },
        "id": "0516e24f"
      },
      "outputs": [],
      "source": [
        "optimizer = keras.optimizers.Adamax(learning_rate=0.001, beta_1=0.9, beta_2=0.999)"
      ]
    },
    {
      "cell_type": "markdown",
      "id": "2b4f1575",
      "metadata": {
        "id": "2b4f1575"
      },
      "source": [
        "## Nadam 옵티마이저"
      ]
    },
    {
      "cell_type": "code",
      "execution_count": 72,
      "id": "133149d5",
      "metadata": {
        "execution": {
          "iopub.execute_input": "2021-10-10T01:46:57.119278Z",
          "iopub.status.busy": "2021-10-10T01:46:57.118863Z",
          "iopub.status.idle": "2021-10-10T01:46:57.121323Z",
          "shell.execute_reply": "2021-10-10T01:46:57.121661Z"
        },
        "id": "133149d5"
      },
      "outputs": [],
      "source": [
        "optimizer = keras.optimizers.Nadam(learning_rate=0.001, beta_1=0.9, beta_2=0.999)"
      ]
    },
    {
      "cell_type": "markdown",
      "id": "00b929be",
      "metadata": {
        "id": "00b929be"
      },
      "source": [
        "## 학습률 스케줄링"
      ]
    },
    {
      "cell_type": "markdown",
      "id": "26f519b2",
      "metadata": {
        "id": "26f519b2"
      },
      "source": [
        "### 거듭제곱 스케줄링"
      ]
    },
    {
      "cell_type": "markdown",
      "id": "66b9b49e",
      "metadata": {
        "id": "66b9b49e"
      },
      "source": [
        "```lr = lr0 / (1 + steps / s)**c```\n",
        "* 케라스는 `c=1`과 `s = 1 / decay`을 사용합니다"
      ]
    },
    {
      "cell_type": "code",
      "execution_count": 73,
      "id": "342bff85",
      "metadata": {
        "execution": {
          "iopub.execute_input": "2021-10-10T01:46:57.124881Z",
          "iopub.status.busy": "2021-10-10T01:46:57.124431Z",
          "iopub.status.idle": "2021-10-10T01:46:57.127514Z",
          "shell.execute_reply": "2021-10-10T01:46:57.127126Z"
        },
        "id": "342bff85"
      },
      "outputs": [],
      "source": [
        "optimizer = keras.optimizers.SGD(learning_rate=0.01, decay=1e-4)"
      ]
    },
    {
      "cell_type": "code",
      "execution_count": 74,
      "id": "2d98b804",
      "metadata": {
        "execution": {
          "iopub.execute_input": "2021-10-10T01:46:57.134834Z",
          "iopub.status.busy": "2021-10-10T01:46:57.133914Z",
          "iopub.status.idle": "2021-10-10T01:46:57.161584Z",
          "shell.execute_reply": "2021-10-10T01:46:57.161904Z"
        },
        "id": "2d98b804"
      },
      "outputs": [],
      "source": [
        "model = keras.models.Sequential([\n",
        "    keras.layers.Flatten(input_shape=[28, 28]),\n",
        "    keras.layers.Dense(300, activation=\"selu\", kernel_initializer=\"lecun_normal\"),\n",
        "    keras.layers.Dense(100, activation=\"selu\", kernel_initializer=\"lecun_normal\"),\n",
        "    keras.layers.Dense(10, activation=\"softmax\")\n",
        "])\n",
        "model.compile(loss=\"sparse_categorical_crossentropy\", optimizer=optimizer, metrics=[\"accuracy\"])"
      ]
    },
    {
      "cell_type": "code",
      "execution_count": 75,
      "id": "2e11b1cf",
      "metadata": {
        "colab": {
          "base_uri": "https://localhost:8080/"
        },
        "execution": {
          "iopub.execute_input": "2021-10-10T01:46:57.165747Z",
          "iopub.status.busy": "2021-10-10T01:46:57.165319Z",
          "iopub.status.idle": "2021-10-10T01:48:17.223077Z",
          "shell.execute_reply": "2021-10-10T01:48:17.223503Z"
        },
        "id": "2e11b1cf",
        "outputId": "a3aa03e3-e2a9-4c49-f5d2-32a96c6e4b27"
      },
      "outputs": [
        {
          "output_type": "stream",
          "name": "stdout",
          "text": [
            "Epoch 1/25\n",
            "1719/1719 [==============================] - 5s 3ms/step - loss: 0.4898 - accuracy: 0.8265 - val_loss: 0.4063 - val_accuracy: 0.8608\n",
            "Epoch 2/25\n",
            "1719/1719 [==============================] - 5s 3ms/step - loss: 0.3792 - accuracy: 0.8654 - val_loss: 0.3730 - val_accuracy: 0.8718\n",
            "Epoch 3/25\n",
            "1719/1719 [==============================] - 5s 3ms/step - loss: 0.3467 - accuracy: 0.8775 - val_loss: 0.3746 - val_accuracy: 0.8728\n",
            "Epoch 4/25\n",
            "1719/1719 [==============================] - 5s 3ms/step - loss: 0.3258 - accuracy: 0.8845 - val_loss: 0.3508 - val_accuracy: 0.8782\n",
            "Epoch 5/25\n",
            "1719/1719 [==============================] - 5s 3ms/step - loss: 0.3107 - accuracy: 0.8892 - val_loss: 0.3447 - val_accuracy: 0.8776\n",
            "Epoch 6/25\n",
            "1719/1719 [==============================] - 5s 3ms/step - loss: 0.2972 - accuracy: 0.8940 - val_loss: 0.3416 - val_accuracy: 0.8832\n",
            "Epoch 7/25\n",
            "1719/1719 [==============================] - 5s 3ms/step - loss: 0.2871 - accuracy: 0.8978 - val_loss: 0.3378 - val_accuracy: 0.8828\n",
            "Epoch 8/25\n",
            "1719/1719 [==============================] - 5s 3ms/step - loss: 0.2779 - accuracy: 0.9012 - val_loss: 0.3421 - val_accuracy: 0.8798\n",
            "Epoch 9/25\n",
            "1719/1719 [==============================] - 5s 3ms/step - loss: 0.2698 - accuracy: 0.9025 - val_loss: 0.3289 - val_accuracy: 0.8850\n",
            "Epoch 10/25\n",
            "1719/1719 [==============================] - 5s 3ms/step - loss: 0.2624 - accuracy: 0.9061 - val_loss: 0.3281 - val_accuracy: 0.8866\n",
            "Epoch 11/25\n",
            "1719/1719 [==============================] - 5s 3ms/step - loss: 0.2565 - accuracy: 0.9089 - val_loss: 0.3265 - val_accuracy: 0.8878\n",
            "Epoch 12/25\n",
            "1719/1719 [==============================] - 5s 3ms/step - loss: 0.2504 - accuracy: 0.9114 - val_loss: 0.3337 - val_accuracy: 0.8806\n",
            "Epoch 13/25\n",
            "1719/1719 [==============================] - 5s 3ms/step - loss: 0.2448 - accuracy: 0.9133 - val_loss: 0.3245 - val_accuracy: 0.8910\n",
            "Epoch 14/25\n",
            "1719/1719 [==============================] - 5s 3ms/step - loss: 0.2407 - accuracy: 0.9142 - val_loss: 0.3289 - val_accuracy: 0.8872\n",
            "Epoch 15/25\n",
            "1719/1719 [==============================] - 4s 3ms/step - loss: 0.2354 - accuracy: 0.9166 - val_loss: 0.3230 - val_accuracy: 0.8886\n",
            "Epoch 16/25\n",
            "1719/1719 [==============================] - 5s 3ms/step - loss: 0.2315 - accuracy: 0.9185 - val_loss: 0.3208 - val_accuracy: 0.8908\n",
            "Epoch 17/25\n",
            "1719/1719 [==============================] - 4s 3ms/step - loss: 0.2276 - accuracy: 0.9189 - val_loss: 0.3245 - val_accuracy: 0.8898\n",
            "Epoch 18/25\n",
            "1719/1719 [==============================] - 4s 3ms/step - loss: 0.2234 - accuracy: 0.9215 - val_loss: 0.3195 - val_accuracy: 0.8914\n",
            "Epoch 19/25\n",
            "1719/1719 [==============================] - 4s 3ms/step - loss: 0.2202 - accuracy: 0.9227 - val_loss: 0.3230 - val_accuracy: 0.8900\n",
            "Epoch 20/25\n",
            "1719/1719 [==============================] - 5s 3ms/step - loss: 0.2169 - accuracy: 0.9238 - val_loss: 0.3206 - val_accuracy: 0.8904\n",
            "Epoch 21/25\n",
            "1719/1719 [==============================] - 4s 3ms/step - loss: 0.2132 - accuracy: 0.9252 - val_loss: 0.3204 - val_accuracy: 0.8890\n",
            "Epoch 22/25\n",
            "1719/1719 [==============================] - 5s 3ms/step - loss: 0.2107 - accuracy: 0.9265 - val_loss: 0.3186 - val_accuracy: 0.8884\n",
            "Epoch 23/25\n",
            "1719/1719 [==============================] - 4s 3ms/step - loss: 0.2078 - accuracy: 0.9275 - val_loss: 0.3206 - val_accuracy: 0.8912\n",
            "Epoch 24/25\n",
            "1719/1719 [==============================] - 5s 3ms/step - loss: 0.2049 - accuracy: 0.9291 - val_loss: 0.3208 - val_accuracy: 0.8898\n",
            "Epoch 25/25\n",
            "1719/1719 [==============================] - 5s 3ms/step - loss: 0.2027 - accuracy: 0.9289 - val_loss: 0.3200 - val_accuracy: 0.8886\n"
          ]
        }
      ],
      "source": [
        "n_epochs = 25\n",
        "history = model.fit(X_train_scaled, y_train, epochs=n_epochs,\n",
        "                    validation_data=(X_valid_scaled, y_valid))"
      ]
    },
    {
      "cell_type": "code",
      "execution_count": 76,
      "id": "7923309f",
      "metadata": {
        "colab": {
          "base_uri": "https://localhost:8080/",
          "height": 303
        },
        "execution": {
          "iopub.execute_input": "2021-10-10T01:48:17.239726Z",
          "iopub.status.busy": "2021-10-10T01:48:17.239254Z",
          "iopub.status.idle": "2021-10-10T01:48:17.336361Z",
          "shell.execute_reply": "2021-10-10T01:48:17.335889Z"
        },
        "id": "7923309f",
        "outputId": "396e1bd1-6dea-47ab-ba5f-5b9f9d031c3b"
      },
      "outputs": [
        {
          "output_type": "display_data",
          "data": {
            "text/plain": [
              "<Figure size 432x288 with 1 Axes>"
            ],
            "image/png": "[encoded data removed]"
          },
          "metadata": {
            "needs_background": "light"
          }
        }
      ],
      "source": [
        "import math\n",
        "\n",
        "learning_rate = 0.01\n",
        "decay = 1e-4\n",
        "batch_size = 32\n",
        "n_steps_per_epoch = math.ceil(len(X_train) / batch_size)\n",
        "epochs = np.arange(n_epochs)\n",
        "lrs = learning_rate / (1 + decay * epochs * n_steps_per_epoch)\n",
        "\n",
        "plt.plot(epochs, lrs,  \"o-\")\n",
        "plt.axis([0, n_epochs - 1, 0, 0.01])\n",
        "plt.xlabel(\"Epoch\")\n",
        "plt.ylabel(\"Learning Rate\")\n",
        "plt.title(\"Power Scheduling\", fontsize=14)\n",
        "plt.grid(True)\n",
        "plt.show()"
      ]
    },
    {
      "cell_type": "markdown",
      "id": "f8b6321f",
      "metadata": {
        "id": "f8b6321f"
      },
      "source": [
        "### 지수 기반 스케줄링"
      ]
    },
    {
      "cell_type": "markdown",
      "id": "e9f53408",
      "metadata": {
        "id": "e9f53408"
      },
      "source": [
        "```lr = lr0 * 0.1**(epoch / s)```"
      ]
    },
    {
      "cell_type": "code",
      "execution_count": 77,
      "id": "33cc902a",
      "metadata": {
        "execution": {
          "iopub.execute_input": "2021-10-10T01:48:17.340258Z",
          "iopub.status.busy": "2021-10-10T01:48:17.339781Z",
          "iopub.status.idle": "2021-10-10T01:48:17.341752Z",
          "shell.execute_reply": "2021-10-10T01:48:17.342087Z"
        },
        "id": "33cc902a"
      },
      "outputs": [],
      "source": [
        "def exponential_decay_fn(epoch):\n",
        "    return 0.01 * 0.1**(epoch / 20)"
      ]
    },
    {
      "cell_type": "code",
      "execution_count": 78,
      "id": "0502d4a0",
      "metadata": {
        "execution": {
          "iopub.execute_input": "2021-10-10T01:48:17.345803Z",
          "iopub.status.busy": "2021-10-10T01:48:17.345315Z",
          "iopub.status.idle": "2021-10-10T01:48:17.348063Z",
          "shell.execute_reply": "2021-10-10T01:48:17.348417Z"
        },
        "id": "0502d4a0"
      },
      "outputs": [],
      "source": [
        "def exponential_decay(lr0, s):\n",
        "    def exponential_decay_fn(epoch):\n",
        "        return lr0 * 0.1**(epoch / s)\n",
        "    return exponential_decay_fn\n",
        "\n",
        "exponential_decay_fn = exponential_decay(lr0=0.01, s=20)"
      ]
    },
    {
      "cell_type": "code",
      "execution_count": 79,
      "id": "51fd5066",
      "metadata": {
        "execution": {
          "iopub.execute_input": "2021-10-10T01:48:17.355471Z",
          "iopub.status.busy": "2021-10-10T01:48:17.354947Z",
          "iopub.status.idle": "2021-10-10T01:48:17.382424Z",
          "shell.execute_reply": "2021-10-10T01:48:17.382789Z"
        },
        "id": "51fd5066"
      },
      "outputs": [],
      "source": [
        "model = keras.models.Sequential([\n",
        "    keras.layers.Flatten(input_shape=[28, 28]),\n",
        "    keras.layers.Dense(300, activation=\"selu\", kernel_initializer=\"lecun_normal\"),\n",
        "    keras.layers.Dense(100, activation=\"selu\", kernel_initializer=\"lecun_normal\"),\n",
        "    keras.layers.Dense(10, activation=\"softmax\")\n",
        "])\n",
        "model.compile(loss=\"sparse_categorical_crossentropy\", optimizer=\"nadam\", metrics=[\"accuracy\"])\n",
        "n_epochs = 25"
      ]
    },
    {
      "cell_type": "code",
      "execution_count": 80,
      "id": "359412e2",
      "metadata": {
        "colab": {
          "base_uri": "https://localhost:8080/"
        },
        "execution": {
          "iopub.execute_input": "2021-10-10T01:48:17.387048Z",
          "iopub.status.busy": "2021-10-10T01:48:17.386588Z",
          "iopub.status.idle": "2021-10-10T01:50:16.164869Z",
          "shell.execute_reply": "2021-10-10T01:50:16.165266Z"
        },
        "id": "359412e2",
        "outputId": "065f9a2e-9399-4d11-f013-9befc0f9ceaa"
      },
      "outputs": [
        {
          "output_type": "stream",
          "name": "stdout",
          "text": [
            "Epoch 1/25\n",
            "1719/1719 [==============================] - 7s 4ms/step - loss: 0.8205 - accuracy: 0.7588 - val_loss: 0.8772 - val_accuracy: 0.7118 - lr: 0.0100\n",
            "Epoch 2/25\n",
            "1719/1719 [==============================] - 6s 4ms/step - loss: 0.6979 - accuracy: 0.7886 - val_loss: 0.5988 - val_accuracy: 0.8204 - lr: 0.0089\n",
            "Epoch 3/25\n",
            "1719/1719 [==============================] - 6s 4ms/step - loss: 0.6015 - accuracy: 0.8136 - val_loss: 0.6490 - val_accuracy: 0.8146 - lr: 0.0079\n",
            "Epoch 4/25\n",
            "1719/1719 [==============================] - 6s 3ms/step - loss: 0.5494 - accuracy: 0.8326 - val_loss: 0.5348 - val_accuracy: 0.8424 - lr: 0.0071\n",
            "Epoch 5/25\n",
            "1719/1719 [==============================] - 6s 3ms/step - loss: 0.5031 - accuracy: 0.8463 - val_loss: 0.5241 - val_accuracy: 0.8572 - lr: 0.0063\n",
            "Epoch 6/25\n",
            "1719/1719 [==============================] - 6s 3ms/step - loss: 0.4346 - accuracy: 0.8618 - val_loss: 0.4680 - val_accuracy: 0.8676 - lr: 0.0056\n",
            "Epoch 7/25\n",
            "1719/1719 [==============================] - 6s 3ms/step - loss: 0.4082 - accuracy: 0.8695 - val_loss: 0.4493 - val_accuracy: 0.8640 - lr: 0.0050\n",
            "Epoch 8/25\n",
            "1719/1719 [==============================] - 6s 4ms/step - loss: 0.3857 - accuracy: 0.8750 - val_loss: 0.5127 - val_accuracy: 0.8532 - lr: 0.0045\n",
            "Epoch 9/25\n",
            "1719/1719 [==============================] - 6s 4ms/step - loss: 0.3424 - accuracy: 0.8866 - val_loss: 0.5418 - val_accuracy: 0.8722 - lr: 0.0040\n",
            "Epoch 10/25\n",
            "1719/1719 [==============================] - 6s 4ms/step - loss: 0.3291 - accuracy: 0.8903 - val_loss: 0.5049 - val_accuracy: 0.8776 - lr: 0.0035\n",
            "Epoch 11/25\n",
            "1719/1719 [==============================] - 6s 4ms/step - loss: 0.3002 - accuracy: 0.8995 - val_loss: 0.4724 - val_accuracy: 0.8728 - lr: 0.0032\n",
            "Epoch 12/25\n",
            "1719/1719 [==============================] - 6s 3ms/step - loss: 0.2744 - accuracy: 0.9066 - val_loss: 0.4757 - val_accuracy: 0.8660 - lr: 0.0028\n",
            "Epoch 13/25\n",
            "1719/1719 [==============================] - 6s 3ms/step - loss: 0.2607 - accuracy: 0.9108 - val_loss: 0.4845 - val_accuracy: 0.8832 - lr: 0.0025\n",
            "Epoch 14/25\n",
            "1719/1719 [==============================] - 6s 3ms/step - loss: 0.2394 - accuracy: 0.9181 - val_loss: 0.5112 - val_accuracy: 0.8702 - lr: 0.0022\n",
            "Epoch 15/25\n",
            "1719/1719 [==============================] - 6s 3ms/step - loss: 0.2270 - accuracy: 0.9217 - val_loss: 0.4539 - val_accuracy: 0.8874 - lr: 0.0020\n",
            "Epoch 16/25\n",
            "1719/1719 [==============================] - 6s 4ms/step - loss: 0.2037 - accuracy: 0.9290 - val_loss: 0.4913 - val_accuracy: 0.8796 - lr: 0.0018\n",
            "Epoch 17/25\n",
            "1719/1719 [==============================] - 6s 3ms/step - loss: 0.1914 - accuracy: 0.9344 - val_loss: 0.5100 - val_accuracy: 0.8818 - lr: 0.0016\n",
            "Epoch 18/25\n",
            "1719/1719 [==============================] - 6s 3ms/step - loss: 0.1801 - accuracy: 0.9379 - val_loss: 0.5032 - val_accuracy: 0.8896 - lr: 0.0014\n",
            "Epoch 19/25\n",
            "1719/1719 [==============================] - 6s 3ms/step - loss: 0.1629 - accuracy: 0.9445 - val_loss: 0.4815 - val_accuracy: 0.8882 - lr: 0.0013\n",
            "Epoch 20/25\n",
            "1719/1719 [==============================] - 6s 3ms/step - loss: 0.1524 - accuracy: 0.9480 - val_loss: 0.5112 - val_accuracy: 0.8876 - lr: 0.0011\n",
            "Epoch 21/25\n",
            "1719/1719 [==============================] - 6s 3ms/step - loss: 0.1404 - accuracy: 0.9526 - val_loss: 0.5492 - val_accuracy: 0.8848 - lr: 0.0010\n",
            "Epoch 22/25\n",
            "1719/1719 [==============================] - 6s 3ms/step - loss: 0.1363 - accuracy: 0.9548 - val_loss: 0.5584 - val_accuracy: 0.8910 - lr: 8.9125e-04\n",
            "Epoch 23/25\n",
            "1719/1719 [==============================] - 6s 3ms/step - loss: 0.1238 - accuracy: 0.9594 - val_loss: 0.5897 - val_accuracy: 0.8874 - lr: 7.9433e-04\n",
            "Epoch 24/25\n",
            "1719/1719 [==============================] - 6s 3ms/step - loss: 0.1177 - accuracy: 0.9623 - val_loss: 0.6232 - val_accuracy: 0.8880 - lr: 7.0795e-04\n",
            "Epoch 25/25\n",
            "1719/1719 [==============================] - 6s 3ms/step - loss: 0.1103 - accuracy: 0.9641 - val_loss: 0.6237 - val_accuracy: 0.8848 - lr: 6.3096e-04\n"
          ]
        }
      ],
      "source": [
        "lr_scheduler = keras.callbacks.LearningRateScheduler(exponential_decay_fn)\n",
        "history = model.fit(X_train_scaled, y_train, epochs=n_epochs,\n",
        "                    validation_data=(X_valid_scaled, y_valid),\n",
        "                    callbacks=[lr_scheduler])"
      ]
    },
    {
      "cell_type": "code",
      "execution_count": 81,
      "id": "b332c6b7",
      "metadata": {
        "colab": {
          "base_uri": "https://localhost:8080/",
          "height": 303
        },
        "execution": {
          "iopub.execute_input": "2021-10-10T01:50:16.181868Z",
          "iopub.status.busy": "2021-10-10T01:50:16.181205Z",
          "iopub.status.idle": "2021-10-10T01:50:16.288294Z",
          "shell.execute_reply": "2021-10-10T01:50:16.287704Z"
        },
        "id": "b332c6b7",
        "outputId": "7f660997-7cbd-4f82-a491-75165758342e"
      },
      "outputs": [
        {
          "output_type": "display_data",
          "data": {
            "text/plain": [
              "<Figure size 432x288 with 1 Axes>"
            ],
            "image/png": "[encoded data removed]"
          },
          "metadata": {
            "needs_background": "light"
          }
        }
      ],
      "source": [
        "plt.plot(history.epoch, history.history[\"lr\"], \"o-\")\n",
        "plt.axis([0, n_epochs - 1, 0, 0.011])\n",
        "plt.xlabel(\"Epoch\")\n",
        "plt.ylabel(\"Learning Rate\")\n",
        "plt.title(\"Exponential Scheduling\", fontsize=14)\n",
        "plt.grid(True)\n",
        "plt.show()"
      ]
    },
    {
      "cell_type": "markdown",
      "id": "1e8f6dee",
      "metadata": {
        "id": "1e8f6dee"
      },
      "source": [
        "이 스케줄 함수는 두 번째 매개변수로 현재 학습률을 받을 수 있습니다:"
      ]
    },
    {
      "cell_type": "code",
      "execution_count": 82,
      "id": "a0deabfa",
      "metadata": {
        "execution": {
          "iopub.execute_input": "2021-10-10T01:50:16.292347Z",
          "iopub.status.busy": "2021-10-10T01:50:16.291870Z",
          "iopub.status.idle": "2021-10-10T01:50:16.293831Z",
          "shell.execute_reply": "2021-10-10T01:50:16.293416Z"
        },
        "id": "a0deabfa"
      },
      "outputs": [],
      "source": [
        "def exponential_decay_fn(epoch, lr):\n",
        "    return lr * 0.1**(1 / 20)"
      ]
    },
    {
      "cell_type": "markdown",
      "id": "4e9a727c",
      "metadata": {
        "id": "4e9a727c"
      },
      "source": [
        "에포크가 아니라 반복마다 학습률을 업데이트하려면 사용자 정의 콜백 클래스를 작성해야 합니다:"
      ]
    },
    {
      "cell_type": "code",
      "execution_count": 83,
      "id": "cbe59eb1",
      "metadata": {
        "colab": {
          "base_uri": "https://localhost:8080/"
        },
        "execution": {
          "iopub.execute_input": "2021-10-10T01:50:16.304602Z",
          "iopub.status.busy": "2021-10-10T01:50:16.300922Z",
          "iopub.status.idle": "2021-10-10T01:52:30.062081Z",
          "shell.execute_reply": "2021-10-10T01:52:30.062480Z"
        },
        "id": "cbe59eb1",
        "outputId": "0a2d7111-f4f4-4716-fb47-b6f7ea7adec3"
      },
      "outputs": [
        {
          "output_type": "stream",
          "name": "stdout",
          "text": [
            "Epoch 1/25\n",
            "1719/1719 [==============================] - 8s 4ms/step - loss: 0.7790 - accuracy: 0.7707 - val_loss: 0.9169 - val_accuracy: 0.7394 - lr: 0.0089\n",
            "Epoch 2/25\n",
            "1719/1719 [==============================] - 8s 4ms/step - loss: 0.6839 - accuracy: 0.7911 - val_loss: 0.6098 - val_accuracy: 0.8112 - lr: 0.0079\n",
            "Epoch 3/25\n",
            "1719/1719 [==============================] - 7s 4ms/step - loss: 0.5819 - accuracy: 0.8204 - val_loss: 0.5610 - val_accuracy: 0.8444 - lr: 0.0071\n",
            "Epoch 4/25\n",
            "1719/1719 [==============================] - 7s 4ms/step - loss: 0.5041 - accuracy: 0.8410 - val_loss: 0.5078 - val_accuracy: 0.8508 - lr: 0.0063\n",
            "Epoch 5/25\n",
            "1719/1719 [==============================] - 7s 4ms/step - loss: 0.4621 - accuracy: 0.8522 - val_loss: 0.4782 - val_accuracy: 0.8566 - lr: 0.0056\n",
            "Epoch 6/25\n",
            "1719/1719 [==============================] - 7s 4ms/step - loss: 0.4302 - accuracy: 0.8632 - val_loss: 0.4724 - val_accuracy: 0.8626 - lr: 0.0050\n",
            "Epoch 7/25\n",
            "1719/1719 [==============================] - 8s 4ms/step - loss: 0.3949 - accuracy: 0.8724 - val_loss: 0.4690 - val_accuracy: 0.8630 - lr: 0.0045\n",
            "Epoch 8/25\n",
            "1719/1719 [==============================] - 7s 4ms/step - loss: 0.3727 - accuracy: 0.8776 - val_loss: 0.4654 - val_accuracy: 0.8584 - lr: 0.0040\n",
            "Epoch 9/25\n",
            "1719/1719 [==============================] - 7s 4ms/step - loss: 0.3439 - accuracy: 0.8876 - val_loss: 0.4430 - val_accuracy: 0.8758 - lr: 0.0035\n",
            "Epoch 10/25\n",
            "1719/1719 [==============================] - 7s 4ms/step - loss: 0.3164 - accuracy: 0.8929 - val_loss: 0.4776 - val_accuracy: 0.8760 - lr: 0.0032\n",
            "Epoch 11/25\n",
            "1719/1719 [==============================] - 7s 4ms/step - loss: 0.2954 - accuracy: 0.9004 - val_loss: 0.4311 - val_accuracy: 0.8782 - lr: 0.0028\n",
            "Epoch 12/25\n",
            "1719/1719 [==============================] - 7s 4ms/step - loss: 0.2713 - accuracy: 0.9070 - val_loss: 0.4147 - val_accuracy: 0.8808 - lr: 0.0025\n",
            "Epoch 13/25\n",
            "1719/1719 [==============================] - 7s 4ms/step - loss: 0.2525 - accuracy: 0.9126 - val_loss: 0.4953 - val_accuracy: 0.8758 - lr: 0.0022\n",
            "Epoch 14/25\n",
            "1719/1719 [==============================] - 7s 4ms/step - loss: 0.2303 - accuracy: 0.9182 - val_loss: 0.4227 - val_accuracy: 0.8732 - lr: 0.0020\n",
            "Epoch 15/25\n",
            "1719/1719 [==============================] - 7s 4ms/step - loss: 0.2139 - accuracy: 0.9241 - val_loss: 0.4651 - val_accuracy: 0.8796 - lr: 0.0018\n",
            "Epoch 16/25\n",
            "1719/1719 [==============================] - 7s 4ms/step - loss: 0.1993 - accuracy: 0.9302 - val_loss: 0.4353 - val_accuracy: 0.8838 - lr: 0.0016\n",
            "Epoch 17/25\n",
            "1719/1719 [==============================] - 7s 4ms/step - loss: 0.1874 - accuracy: 0.9332 - val_loss: 0.4826 - val_accuracy: 0.8856 - lr: 0.0014\n",
            "Epoch 18/25\n",
            "1719/1719 [==============================] - 7s 4ms/step - loss: 0.1755 - accuracy: 0.9392 - val_loss: 0.4523 - val_accuracy: 0.8916 - lr: 0.0013\n",
            "Epoch 19/25\n",
            "1719/1719 [==============================] - 7s 4ms/step - loss: 0.1604 - accuracy: 0.9438 - val_loss: 0.4657 - val_accuracy: 0.8896 - lr: 0.0011\n",
            "Epoch 20/25\n",
            "1719/1719 [==============================] - 7s 4ms/step - loss: 0.1497 - accuracy: 0.9476 - val_loss: 0.4971 - val_accuracy: 0.8880 - lr: 9.9967e-04\n",
            "Epoch 21/25\n",
            "1719/1719 [==============================] - 7s 4ms/step - loss: 0.1380 - accuracy: 0.9522 - val_loss: 0.5272 - val_accuracy: 0.8880 - lr: 8.9094e-04\n",
            "Epoch 22/25\n",
            "1719/1719 [==============================] - 7s 4ms/step - loss: 0.1323 - accuracy: 0.9563 - val_loss: 0.5429 - val_accuracy: 0.8894 - lr: 7.9404e-04\n",
            "Epoch 23/25\n",
            "1719/1719 [==============================] - 7s 4ms/step - loss: 0.1190 - accuracy: 0.9599 - val_loss: 0.5700 - val_accuracy: 0.8862 - lr: 7.0767e-04\n",
            "Epoch 24/25\n",
            "1719/1719 [==============================] - 7s 4ms/step - loss: 0.1123 - accuracy: 0.9623 - val_loss: 0.6133 - val_accuracy: 0.8884 - lr: 6.3071e-04\n",
            "Epoch 25/25\n",
            "1719/1719 [==============================] - 7s 4ms/step - loss: 0.1057 - accuracy: 0.9651 - val_loss: 0.6156 - val_accuracy: 0.8894 - lr: 5.6211e-04\n"
          ]
        }
      ],
      "source": [
        "K = keras.backend\n",
        "\n",
        "class ExponentialDecay(keras.callbacks.Callback):\n",
        "    def __init__(self, s=40000):\n",
        "        super().__init__()\n",
        "        self.s = s\n",
        "\n",
        "    def on_batch_begin(self, batch, logs=None):\n",
        "        # 노트: 에포크마다 `batch` 매개변수가 재설정됩니다\n",
        "        lr = K.get_value(self.model.optimizer.lr)\n",
        "        K.set_value(self.model.optimizer.lr, lr * 0.1**(1 / self.s))\n",
        "\n",
        "    def on_epoch_end(self, epoch, logs=None):\n",
        "        logs = logs or {}\n",
        "        logs['lr'] = K.get_value(self.model.optimizer.lr)\n",
        "\n",
        "model = keras.models.Sequential([\n",
        "    keras.layers.Flatten(input_shape=[28, 28]),\n",
        "    keras.layers.Dense(300, activation=\"selu\", kernel_initializer=\"lecun_normal\"),\n",
        "    keras.layers.Dense(100, activation=\"selu\", kernel_initializer=\"lecun_normal\"),\n",
        "    keras.layers.Dense(10, activation=\"softmax\")\n",
        "])\n",
        "lr0 = 0.01\n",
        "optimizer = keras.optimizers.Nadam(learning_rate=lr0)\n",
        "model.compile(loss=\"sparse_categorical_crossentropy\", optimizer=optimizer, metrics=[\"accuracy\"])\n",
        "n_epochs = 25\n",
        "\n",
        "s = 20 * len(X_train) // 32 # 20 에포크 동안 스텝 횟수 (배치 크기 = 32)\n",
        "exp_decay = ExponentialDecay(s)\n",
        "history = model.fit(X_train_scaled, y_train, epochs=n_epochs,\n",
        "                    validation_data=(X_valid_scaled, y_valid),\n",
        "                    callbacks=[exp_decay])"
      ]
    },
    {
      "cell_type": "code",
      "execution_count": 84,
      "id": "50c79aa8",
      "metadata": {
        "execution": {
          "iopub.execute_input": "2021-10-10T01:52:30.066416Z",
          "iopub.status.busy": "2021-10-10T01:52:30.065978Z",
          "iopub.status.idle": "2021-10-10T01:52:30.070940Z",
          "shell.execute_reply": "2021-10-10T01:52:30.071306Z"
        },
        "id": "50c79aa8"
      },
      "outputs": [],
      "source": [
        "n_steps = n_epochs * len(X_train) // 32\n",
        "steps = np.arange(n_steps)\n",
        "lrs = lr0 * 0.1**(steps / s)"
      ]
    },
    {
      "cell_type": "code",
      "execution_count": 85,
      "id": "7d141614",
      "metadata": {
        "colab": {
          "base_uri": "https://localhost:8080/",
          "height": 303
        },
        "execution": {
          "iopub.execute_input": "2021-10-10T01:52:30.073923Z",
          "iopub.status.busy": "2021-10-10T01:52:30.073468Z",
          "iopub.status.idle": "2021-10-10T01:52:30.213299Z",
          "shell.execute_reply": "2021-10-10T01:52:30.213661Z"
        },
        "id": "7d141614",
        "outputId": "14f58afd-277e-46b5-dc78-83a54585f3d6",
        "scrolled": true
      },
      "outputs": [
        {
          "output_type": "display_data",
          "data": {
            "text/plain": [
              "<Figure size 432x288 with 1 Axes>"
            ],
            "image/png": "[encoded data removed]"
          },
          "metadata": {
            "needs_background": "light"
          }
        }
      ],
      "source": [
        "plt.plot(steps, lrs, \"-\", linewidth=2)\n",
        "plt.axis([0, n_steps - 1, 0, lr0 * 1.1])\n",
        "plt.xlabel(\"Batch\")\n",
        "plt.ylabel(\"Learning Rate\")\n",
        "plt.title(\"Exponential Scheduling (per batch)\", fontsize=14)\n",
        "plt.grid(True)\n",
        "plt.show()"
      ]
    },
    {
      "cell_type": "markdown",
      "id": "1497740d",
      "metadata": {
        "id": "1497740d"
      },
      "source": [
        "### 기간별 고정 스케줄링"
      ]
    },
    {
      "cell_type": "code",
      "execution_count": 86,
      "id": "3866e87a",
      "metadata": {
        "execution": {
          "iopub.execute_input": "2021-10-10T01:52:30.217682Z",
          "iopub.status.busy": "2021-10-10T01:52:30.217244Z",
          "iopub.status.idle": "2021-10-10T01:52:30.218896Z",
          "shell.execute_reply": "2021-10-10T01:52:30.219201Z"
        },
        "id": "3866e87a"
      },
      "outputs": [],
      "source": [
        "def piecewise_constant_fn(epoch):\n",
        "    if epoch < 5:\n",
        "        return 0.01\n",
        "    elif epoch < 15:\n",
        "        return 0.005\n",
        "    else:\n",
        "        return 0.001"
      ]
    },
    {
      "cell_type": "code",
      "execution_count": 87,
      "id": "2db9f1ec",
      "metadata": {
        "execution": {
          "iopub.execute_input": "2021-10-10T01:52:30.223706Z",
          "iopub.status.busy": "2021-10-10T01:52:30.223298Z",
          "iopub.status.idle": "2021-10-10T01:52:30.225327Z",
          "shell.execute_reply": "2021-10-10T01:52:30.224967Z"
        },
        "id": "2db9f1ec"
      },
      "outputs": [],
      "source": [
        "def piecewise_constant(boundaries, values):\n",
        "    boundaries = np.array([0] + boundaries)\n",
        "    values = np.array(values)\n",
        "    def piecewise_constant_fn(epoch):\n",
        "        return values[np.argmax(boundaries > epoch) - 1]\n",
        "    return piecewise_constant_fn\n",
        "\n",
        "piecewise_constant_fn = piecewise_constant([5, 15], [0.01, 0.005, 0.001])"
      ]
    },
    {
      "cell_type": "code",
      "execution_count": 88,
      "id": "c57664bc",
      "metadata": {
        "colab": {
          "base_uri": "https://localhost:8080/"
        },
        "execution": {
          "iopub.execute_input": "2021-10-10T01:52:30.232878Z",
          "iopub.status.busy": "2021-10-10T01:52:30.232456Z",
          "iopub.status.idle": "2021-10-10T01:54:28.727692Z",
          "shell.execute_reply": "2021-10-10T01:54:28.727295Z"
        },
        "id": "c57664bc",
        "outputId": "c2bd9fcf-32df-488c-b3be-b645cd460f9a"
      },
      "outputs": [
        {
          "output_type": "stream",
          "name": "stdout",
          "text": [
            "Epoch 1/25\n",
            "1719/1719 [==============================] - 7s 4ms/step - loss: 0.9157 - accuracy: 0.7407 - val_loss: 1.0386 - val_accuracy: 0.7736 - lr: 0.0100\n",
            "Epoch 2/25\n",
            "1719/1719 [==============================] - 6s 3ms/step - loss: 0.9133 - accuracy: 0.7388 - val_loss: 0.8956 - val_accuracy: 0.7322 - lr: 0.0100\n",
            "Epoch 3/25\n",
            "1719/1719 [==============================] - 6s 3ms/step - loss: 0.8411 - accuracy: 0.7603 - val_loss: 0.9246 - val_accuracy: 0.7542 - lr: 0.0100\n",
            "Epoch 4/25\n",
            "1719/1719 [==============================] - 6s 3ms/step - loss: 0.9228 - accuracy: 0.7317 - val_loss: 0.9867 - val_accuracy: 0.7638 - lr: 0.0100\n",
            "Epoch 5/25\n",
            "1719/1719 [==============================] - 6s 3ms/step - loss: 1.1899 - accuracy: 0.5884 - val_loss: 1.0781 - val_accuracy: 0.5750 - lr: 0.0100\n",
            "Epoch 6/25\n",
            "1719/1719 [==============================] - 6s 3ms/step - loss: 0.8784 - accuracy: 0.6533 - val_loss: 0.8542 - val_accuracy: 0.6644 - lr: 0.0050\n",
            "Epoch 7/25\n",
            "1719/1719 [==============================] - 6s 4ms/step - loss: 0.8699 - accuracy: 0.6621 - val_loss: 0.9055 - val_accuracy: 0.6448 - lr: 0.0050\n",
            "Epoch 8/25\n",
            "1719/1719 [==============================] - 6s 3ms/step - loss: 0.8590 - accuracy: 0.6660 - val_loss: 0.9808 - val_accuracy: 0.6476 - lr: 0.0050\n",
            "Epoch 9/25\n",
            "1719/1719 [==============================] - 6s 3ms/step - loss: 0.7919 - accuracy: 0.6953 - val_loss: 0.7931 - val_accuracy: 0.7024 - lr: 0.0050\n",
            "Epoch 10/25\n",
            "1719/1719 [==============================] - 6s 4ms/step - loss: 0.6401 - accuracy: 0.7616 - val_loss: 0.7956 - val_accuracy: 0.7556 - lr: 0.0050\n",
            "Epoch 11/25\n",
            "1719/1719 [==============================] - 6s 4ms/step - loss: 0.6333 - accuracy: 0.7656 - val_loss: 0.7399 - val_accuracy: 0.7586 - lr: 0.0050\n",
            "Epoch 12/25\n",
            "1719/1719 [==============================] - 6s 4ms/step - loss: 0.6171 - accuracy: 0.7777 - val_loss: 0.7529 - val_accuracy: 0.7248 - lr: 0.0050\n",
            "Epoch 13/25\n",
            "1719/1719 [==============================] - 6s 4ms/step - loss: 0.6071 - accuracy: 0.7718 - val_loss: 0.8152 - val_accuracy: 0.7558 - lr: 0.0050\n",
            "Epoch 14/25\n",
            "1719/1719 [==============================] - 6s 4ms/step - loss: 0.6055 - accuracy: 0.7781 - val_loss: 0.8543 - val_accuracy: 0.7548 - lr: 0.0050\n",
            "Epoch 15/25\n",
            "1719/1719 [==============================] - 6s 4ms/step - loss: 0.6095 - accuracy: 0.7772 - val_loss: 0.7091 - val_accuracy: 0.7634 - lr: 0.0050\n",
            "Epoch 16/25\n",
            "1719/1719 [==============================] - 6s 4ms/step - loss: 0.4724 - accuracy: 0.8033 - val_loss: 0.5859 - val_accuracy: 0.7864 - lr: 0.0010\n",
            "Epoch 17/25\n",
            "1719/1719 [==============================] - 6s 4ms/step - loss: 0.4477 - accuracy: 0.8118 - val_loss: 0.6210 - val_accuracy: 0.7872 - lr: 0.0010\n",
            "Epoch 18/25\n",
            "1719/1719 [==============================] - 6s 4ms/step - loss: 0.4352 - accuracy: 0.8186 - val_loss: 0.6014 - val_accuracy: 0.7946 - lr: 0.0010\n",
            "Epoch 19/25\n",
            "1719/1719 [==============================] - 6s 4ms/step - loss: 0.4261 - accuracy: 0.8194 - val_loss: 0.6324 - val_accuracy: 0.7962 - lr: 0.0010\n",
            "Epoch 20/25\n",
            "1719/1719 [==============================] - 6s 4ms/step - loss: 0.4188 - accuracy: 0.8255 - val_loss: 0.6205 - val_accuracy: 0.7988 - lr: 0.0010\n",
            "Epoch 21/25\n",
            "1719/1719 [==============================] - 6s 3ms/step - loss: 0.4056 - accuracy: 0.8352 - val_loss: 0.6267 - val_accuracy: 0.8062 - lr: 0.0010\n",
            "Epoch 22/25\n",
            "1719/1719 [==============================] - 6s 3ms/step - loss: 0.3879 - accuracy: 0.8527 - val_loss: 0.6329 - val_accuracy: 0.8386 - lr: 0.0010\n",
            "Epoch 23/25\n",
            "1719/1719 [==============================] - 6s 4ms/step - loss: 0.3553 - accuracy: 0.8844 - val_loss: 0.5586 - val_accuracy: 0.8550 - lr: 0.0010\n",
            "Epoch 24/25\n",
            "1719/1719 [==============================] - 6s 4ms/step - loss: 0.3249 - accuracy: 0.8989 - val_loss: 0.5652 - val_accuracy: 0.8634 - lr: 0.0010\n",
            "Epoch 25/25\n",
            "1719/1719 [==============================] - 6s 4ms/step - loss: 0.3065 - accuracy: 0.9056 - val_loss: 0.5773 - val_accuracy: 0.8674 - lr: 0.0010\n"
          ]
        }
      ],
      "source": [
        "lr_scheduler = keras.callbacks.LearningRateScheduler(piecewise_constant_fn)\n",
        "\n",
        "model = keras.models.Sequential([\n",
        "    keras.layers.Flatten(input_shape=[28, 28]),\n",
        "    keras.layers.Dense(300, activation=\"selu\", kernel_initializer=\"lecun_normal\"),\n",
        "    keras.layers.Dense(100, activation=\"selu\", kernel_initializer=\"lecun_normal\"),\n",
        "    keras.layers.Dense(10, activation=\"softmax\")\n",
        "])\n",
        "model.compile(loss=\"sparse_categorical_crossentropy\", optimizer=\"nadam\", metrics=[\"accuracy\"])\n",
        "n_epochs = 25\n",
        "history = model.fit(X_train_scaled, y_train, epochs=n_epochs,\n",
        "                    validation_data=(X_valid_scaled, y_valid),\n",
        "                    callbacks=[lr_scheduler])"
      ]
    },
    {
      "cell_type": "code",
      "execution_count": 89,
      "id": "be5f9a08",
      "metadata": {
        "colab": {
          "base_uri": "https://localhost:8080/",
          "height": 303
        },
        "execution": {
          "iopub.execute_input": "2021-10-10T01:54:28.759763Z",
          "iopub.status.busy": "2021-10-10T01:54:28.745242Z",
          "iopub.status.idle": "2021-10-10T01:54:28.844730Z",
          "shell.execute_reply": "2021-10-10T01:54:28.844017Z"
        },
        "id": "be5f9a08",
        "outputId": "58a7e411-84e5-4414-e18e-5719ff10f20b"
      },
      "outputs": [
        {
          "output_type": "display_data",
          "data": {
            "text/plain": [
              "<Figure size 432x288 with 1 Axes>"
            ],
            "image/png": "[encoded data removed]"
          },
          "metadata": {
            "needs_background": "light"
          }
        }
      ],
      "source": [
        "plt.plot(history.epoch, [piecewise_constant_fn(epoch) for epoch in history.epoch], \"o-\")\n",
        "plt.axis([0, n_epochs - 1, 0, 0.011])\n",
        "plt.xlabel(\"Epoch\")\n",
        "plt.ylabel(\"Learning Rate\")\n",
        "plt.title(\"Piecewise Constant Scheduling\", fontsize=14)\n",
        "plt.grid(True)\n",
        "plt.show()"
      ]
    },
    {
      "cell_type": "markdown",
      "id": "34442fd7",
      "metadata": {
        "id": "34442fd7"
      },
      "source": [
        "### 성능 기반 스케줄링"
      ]
    },
    {
      "cell_type": "code",
      "execution_count": 90,
      "id": "bc141ae3",
      "metadata": {
        "execution": {
          "iopub.execute_input": "2021-10-10T01:54:28.866786Z",
          "iopub.status.busy": "2021-10-10T01:54:28.866327Z",
          "iopub.status.idle": "2021-10-10T01:54:28.869634Z",
          "shell.execute_reply": "2021-10-10T01:54:28.869117Z"
        },
        "id": "bc141ae3"
      },
      "outputs": [],
      "source": [
        "tf.random.set_seed(42)\n",
        "np.random.seed(42)"
      ]
    },
    {
      "cell_type": "code",
      "execution_count": 91,
      "id": "36228807",
      "metadata": {
        "colab": {
          "base_uri": "https://localhost:8080/"
        },
        "execution": {
          "iopub.execute_input": "2021-10-10T01:54:28.878312Z",
          "iopub.status.busy": "2021-10-10T01:54:28.877845Z",
          "iopub.status.idle": "2021-10-10T01:55:53.477033Z",
          "shell.execute_reply": "2021-10-10T01:55:53.477427Z"
        },
        "id": "36228807",
        "outputId": "cc6e161f-404c-4eba-9089-8667eda64a66"
      },
      "outputs": [
        {
          "output_type": "stream",
          "name": "stdout",
          "text": [
            "Epoch 1/25\n",
            "1719/1719 [==============================] - 5s 3ms/step - loss: 0.5925 - accuracy: 0.8074 - val_loss: 0.4868 - val_accuracy: 0.8498 - lr: 0.0200\n",
            "Epoch 2/25\n",
            "1719/1719 [==============================] - 4s 3ms/step - loss: 0.4946 - accuracy: 0.8398 - val_loss: 0.5664 - val_accuracy: 0.8354 - lr: 0.0200\n",
            "Epoch 3/25\n",
            "1719/1719 [==============================] - 4s 3ms/step - loss: 0.5110 - accuracy: 0.8441 - val_loss: 0.5216 - val_accuracy: 0.8548 - lr: 0.0200\n",
            "Epoch 4/25\n",
            "1719/1719 [==============================] - 4s 3ms/step - loss: 0.5110 - accuracy: 0.8472 - val_loss: 0.4675 - val_accuracy: 0.8568 - lr: 0.0200\n",
            "Epoch 5/25\n",
            "1719/1719 [==============================] - 4s 3ms/step - loss: 0.5073 - accuracy: 0.8513 - val_loss: 0.5448 - val_accuracy: 0.8432 - lr: 0.0200\n",
            "Epoch 6/25\n",
            "1719/1719 [==============================] - 5s 3ms/step - loss: 0.5021 - accuracy: 0.8547 - val_loss: 0.5630 - val_accuracy: 0.8472 - lr: 0.0200\n",
            "Epoch 7/25\n",
            "1719/1719 [==============================] - 4s 3ms/step - loss: 0.5363 - accuracy: 0.8522 - val_loss: 0.5375 - val_accuracy: 0.8462 - lr: 0.0200\n",
            "Epoch 8/25\n",
            "1719/1719 [==============================] - 4s 3ms/step - loss: 0.5271 - accuracy: 0.8551 - val_loss: 0.7760 - val_accuracy: 0.7984 - lr: 0.0200\n",
            "Epoch 9/25\n",
            "1719/1719 [==============================] - 4s 3ms/step - loss: 0.5560 - accuracy: 0.8502 - val_loss: 0.6006 - val_accuracy: 0.8542 - lr: 0.0200\n",
            "Epoch 10/25\n",
            "1719/1719 [==============================] - 4s 3ms/step - loss: 0.3023 - accuracy: 0.8954 - val_loss: 0.4013 - val_accuracy: 0.8834 - lr: 0.0100\n",
            "Epoch 11/25\n",
            "1719/1719 [==============================] - 4s 3ms/step - loss: 0.2529 - accuracy: 0.9095 - val_loss: 0.4119 - val_accuracy: 0.8828 - lr: 0.0100\n",
            "Epoch 12/25\n",
            "1719/1719 [==============================] - 5s 3ms/step - loss: 0.2304 - accuracy: 0.9148 - val_loss: 0.4835 - val_accuracy: 0.8774 - lr: 0.0100\n",
            "Epoch 13/25\n",
            "1719/1719 [==============================] - 4s 3ms/step - loss: 0.2136 - accuracy: 0.9218 - val_loss: 0.4480 - val_accuracy: 0.8834 - lr: 0.0100\n",
            "Epoch 14/25\n",
            "1719/1719 [==============================] - 4s 3ms/step - loss: 0.1993 - accuracy: 0.9256 - val_loss: 0.4614 - val_accuracy: 0.8740 - lr: 0.0100\n",
            "Epoch 15/25\n",
            "1719/1719 [==============================] - 4s 3ms/step - loss: 0.1907 - accuracy: 0.9290 - val_loss: 0.4764 - val_accuracy: 0.8770 - lr: 0.0100\n",
            "Epoch 16/25\n",
            "1719/1719 [==============================] - 4s 3ms/step - loss: 0.1360 - accuracy: 0.9462 - val_loss: 0.4593 - val_accuracy: 0.8938 - lr: 0.0050\n",
            "Epoch 17/25\n",
            "1719/1719 [==============================] - 5s 3ms/step - loss: 0.1218 - accuracy: 0.9511 - val_loss: 0.4604 - val_accuracy: 0.8888 - lr: 0.0050\n",
            "Epoch 18/25\n",
            "1719/1719 [==============================] - 4s 3ms/step - loss: 0.1136 - accuracy: 0.9542 - val_loss: 0.4874 - val_accuracy: 0.8878 - lr: 0.0050\n",
            "Epoch 19/25\n",
            "1719/1719 [==============================] - 4s 3ms/step - loss: 0.1070 - accuracy: 0.9579 - val_loss: 0.4972 - val_accuracy: 0.8926 - lr: 0.0050\n",
            "Epoch 20/25\n",
            "1719/1719 [==============================] - 4s 3ms/step - loss: 0.1004 - accuracy: 0.9598 - val_loss: 0.5231 - val_accuracy: 0.8890 - lr: 0.0050\n",
            "Epoch 21/25\n",
            "1719/1719 [==============================] - 4s 3ms/step - loss: 0.0812 - accuracy: 0.9679 - val_loss: 0.5156 - val_accuracy: 0.8950 - lr: 0.0025\n",
            "Epoch 22/25\n",
            "1719/1719 [==============================] - 4s 3ms/step - loss: 0.0757 - accuracy: 0.9703 - val_loss: 0.5340 - val_accuracy: 0.8936 - lr: 0.0025\n",
            "Epoch 23/25\n",
            "1719/1719 [==============================] - 4s 3ms/step - loss: 0.0721 - accuracy: 0.9723 - val_loss: 0.5358 - val_accuracy: 0.8968 - lr: 0.0025\n",
            "Epoch 24/25\n",
            "1719/1719 [==============================] - 4s 3ms/step - loss: 0.0689 - accuracy: 0.9734 - val_loss: 0.5499 - val_accuracy: 0.8936 - lr: 0.0025\n",
            "Epoch 25/25\n",
            "1719/1719 [==============================] - 4s 3ms/step - loss: 0.0664 - accuracy: 0.9743 - val_loss: 0.5683 - val_accuracy: 0.8898 - lr: 0.0025\n"
          ]
        }
      ],
      "source": [
        "lr_scheduler = keras.callbacks.ReduceLROnPlateau(factor=0.5, patience=5)\n",
        "\n",
        "model = keras.models.Sequential([\n",
        "    keras.layers.Flatten(input_shape=[28, 28]),\n",
        "    keras.layers.Dense(300, activation=\"selu\", kernel_initializer=\"lecun_normal\"),\n",
        "    keras.layers.Dense(100, activation=\"selu\", kernel_initializer=\"lecun_normal\"),\n",
        "    keras.layers.Dense(10, activation=\"softmax\")\n",
        "])\n",
        "optimizer = keras.optimizers.SGD(learning_rate=0.02, momentum=0.9)\n",
        "model.compile(loss=\"sparse_categorical_crossentropy\", optimizer=optimizer, metrics=[\"accuracy\"])\n",
        "n_epochs = 25\n",
        "history = model.fit(X_train_scaled, y_train, epochs=n_epochs,\n",
        "                    validation_data=(X_valid_scaled, y_valid),\n",
        "                    callbacks=[lr_scheduler])"
      ]
    },
    {
      "cell_type": "code",
      "execution_count": 92,
      "id": "0958da34",
      "metadata": {
        "colab": {
          "base_uri": "https://localhost:8080/",
          "height": 303
        },
        "execution": {
          "iopub.execute_input": "2021-10-10T01:55:53.492046Z",
          "iopub.status.busy": "2021-10-10T01:55:53.482969Z",
          "iopub.status.idle": "2021-10-10T01:55:53.655600Z",
          "shell.execute_reply": "2021-10-10T01:55:53.656033Z"
        },
        "id": "0958da34",
        "outputId": "fa6f7399-6009-4302-ec32-f83ee03dda3c"
      },
      "outputs": [
        {
          "output_type": "display_data",
          "data": {
            "text/plain": [
              "<Figure size 432x288 with 2 Axes>"
            ],
            "image/png": "[encoded data removed]"
          },
          "metadata": {
            "needs_background": "light"
          }
        }
      ],
      "source": [
        "plt.plot(history.epoch, history.history[\"lr\"], \"bo-\")\n",
        "plt.xlabel(\"Epoch\")\n",
        "plt.ylabel(\"Learning Rate\", color='b')\n",
        "plt.tick_params('y', colors='b')\n",
        "plt.gca().set_xlim(0, n_epochs - 1)\n",
        "plt.grid(True)\n",
        "\n",
        "ax2 = plt.gca().twinx()\n",
        "ax2.plot(history.epoch, history.history[\"val_loss\"], \"r^-\")\n",
        "ax2.set_ylabel('Validation Loss', color='r')\n",
        "ax2.tick_params('y', colors='r')\n",
        "\n",
        "plt.title(\"Reduce LR on Plateau\", fontsize=14)\n",
        "plt.show()"
      ]
    },
    {
      "cell_type": "markdown",
      "id": "a6b9f808",
      "metadata": {
        "id": "a6b9f808"
      },
      "source": [
        "### tf.keras 스케줄러"
      ]
    },
    {
      "cell_type": "code",
      "execution_count": 93,
      "id": "a7c7404f",
      "metadata": {
        "colab": {
          "base_uri": "https://localhost:8080/"
        },
        "execution": {
          "iopub.execute_input": "2021-10-10T01:55:53.663557Z",
          "iopub.status.busy": "2021-10-10T01:55:53.658013Z",
          "iopub.status.idle": "2021-10-10T01:57:12.590624Z",
          "shell.execute_reply": "2021-10-10T01:57:12.591032Z"
        },
        "id": "a7c7404f",
        "outputId": "727d4788-a99d-4660-8621-51af7fc95785"
      },
      "outputs": [
        {
          "output_type": "stream",
          "name": "stdout",
          "text": [
            "Epoch 1/25\n",
            "1719/1719 [==============================] - 5s 3ms/step - loss: 0.4894 - accuracy: 0.8277 - val_loss: 0.4096 - val_accuracy: 0.8592\n",
            "Epoch 2/25\n",
            "1719/1719 [==============================] - 4s 3ms/step - loss: 0.3820 - accuracy: 0.8651 - val_loss: 0.3740 - val_accuracy: 0.8696\n",
            "Epoch 3/25\n",
            "1719/1719 [==============================] - 4s 3ms/step - loss: 0.3487 - accuracy: 0.8766 - val_loss: 0.3737 - val_accuracy: 0.8682\n",
            "Epoch 4/25\n",
            "1719/1719 [==============================] - 4s 3ms/step - loss: 0.3263 - accuracy: 0.8837 - val_loss: 0.3494 - val_accuracy: 0.8798\n",
            "Epoch 5/25\n",
            "1719/1719 [==============================] - 4s 3ms/step - loss: 0.3103 - accuracy: 0.8896 - val_loss: 0.3432 - val_accuracy: 0.8792\n",
            "Epoch 6/25\n",
            "1719/1719 [==============================] - 4s 3ms/step - loss: 0.2958 - accuracy: 0.8953 - val_loss: 0.3417 - val_accuracy: 0.8806\n",
            "Epoch 7/25\n",
            "1719/1719 [==============================] - 4s 3ms/step - loss: 0.2854 - accuracy: 0.8988 - val_loss: 0.3357 - val_accuracy: 0.8818\n",
            "Epoch 8/25\n",
            "1719/1719 [==============================] - 4s 3ms/step - loss: 0.2760 - accuracy: 0.9014 - val_loss: 0.3368 - val_accuracy: 0.8818\n",
            "Epoch 9/25\n",
            "1719/1719 [==============================] - 4s 3ms/step - loss: 0.2677 - accuracy: 0.9053 - val_loss: 0.3266 - val_accuracy: 0.8854\n",
            "Epoch 10/25\n",
            "1719/1719 [==============================] - 4s 3ms/step - loss: 0.2607 - accuracy: 0.9068 - val_loss: 0.3242 - val_accuracy: 0.8856\n",
            "Epoch 11/25\n",
            "1719/1719 [==============================] - 4s 3ms/step - loss: 0.2550 - accuracy: 0.9089 - val_loss: 0.3253 - val_accuracy: 0.8864\n",
            "Epoch 12/25\n",
            "1719/1719 [==============================] - 4s 3ms/step - loss: 0.2496 - accuracy: 0.9127 - val_loss: 0.3303 - val_accuracy: 0.8806\n",
            "Epoch 13/25\n",
            "1719/1719 [==============================] - 4s 3ms/step - loss: 0.2449 - accuracy: 0.9137 - val_loss: 0.3220 - val_accuracy: 0.8872\n",
            "Epoch 14/25\n",
            "1719/1719 [==============================] - 4s 3ms/step - loss: 0.2415 - accuracy: 0.9147 - val_loss: 0.3225 - val_accuracy: 0.8856\n",
            "Epoch 15/25\n",
            "1719/1719 [==============================] - 4s 3ms/step - loss: 0.2375 - accuracy: 0.9167 - val_loss: 0.3211 - val_accuracy: 0.8876\n",
            "Epoch 16/25\n",
            "1719/1719 [==============================] - 4s 3ms/step - loss: 0.2343 - accuracy: 0.9180 - val_loss: 0.3187 - val_accuracy: 0.8884\n",
            "Epoch 17/25\n",
            "1719/1719 [==============================] - 5s 3ms/step - loss: 0.2316 - accuracy: 0.9186 - val_loss: 0.3200 - val_accuracy: 0.8896\n",
            "Epoch 18/25\n",
            "1719/1719 [==============================] - 4s 3ms/step - loss: 0.2290 - accuracy: 0.9196 - val_loss: 0.3171 - val_accuracy: 0.8904\n",
            "Epoch 19/25\n",
            "1719/1719 [==============================] - 5s 3ms/step - loss: 0.2269 - accuracy: 0.9205 - val_loss: 0.3201 - val_accuracy: 0.8896\n",
            "Epoch 20/25\n",
            "1719/1719 [==============================] - 4s 3ms/step - loss: 0.2250 - accuracy: 0.9218 - val_loss: 0.3172 - val_accuracy: 0.8906\n",
            "Epoch 21/25\n",
            "1719/1719 [==============================] - 4s 3ms/step - loss: 0.2229 - accuracy: 0.9222 - val_loss: 0.3183 - val_accuracy: 0.8904\n",
            "Epoch 22/25\n",
            "1719/1719 [==============================] - 4s 3ms/step - loss: 0.2216 - accuracy: 0.9225 - val_loss: 0.3167 - val_accuracy: 0.8912\n",
            "Epoch 23/25\n",
            "1719/1719 [==============================] - 4s 3ms/step - loss: 0.2201 - accuracy: 0.9233 - val_loss: 0.3174 - val_accuracy: 0.8898\n",
            "Epoch 24/25\n",
            "1719/1719 [==============================] - 4s 3ms/step - loss: 0.2188 - accuracy: 0.9242 - val_loss: 0.3169 - val_accuracy: 0.8894\n",
            "Epoch 25/25\n",
            "1719/1719 [==============================] - 4s 3ms/step - loss: 0.2179 - accuracy: 0.9240 - val_loss: 0.3168 - val_accuracy: 0.8912\n"
          ]
        }
      ],
      "source": [
        "model = keras.models.Sequential([\n",
        "    keras.layers.Flatten(input_shape=[28, 28]),\n",
        "    keras.layers.Dense(300, activation=\"selu\", kernel_initializer=\"lecun_normal\"),\n",
        "    keras.layers.Dense(100, activation=\"selu\", kernel_initializer=\"lecun_normal\"),\n",
        "    keras.layers.Dense(10, activation=\"softmax\")\n",
        "])\n",
        "s = 20 * len(X_train) // 32 # number of steps in 20 epochs (batch size = 32)\n",
        "learning_rate = keras.optimizers.schedules.ExponentialDecay(0.01, s, 0.1)\n",
        "optimizer = keras.optimizers.SGD(learning_rate)\n",
        "model.compile(loss=\"sparse_categorical_crossentropy\", optimizer=optimizer, metrics=[\"accuracy\"])\n",
        "n_epochs = 25\n",
        "history = model.fit(X_train_scaled, y_train, epochs=n_epochs,\n",
        "                    validation_data=(X_valid_scaled, y_valid))"
      ]
    },
    {
      "cell_type": "markdown",
      "id": "f4f53731",
      "metadata": {
        "id": "f4f53731"
      },
      "source": [
        "구간별 고정 스케줄링은 다음을 사용하세요:"
      ]
    },
    {
      "cell_type": "code",
      "execution_count": 94,
      "id": "b6bd2108",
      "metadata": {
        "execution": {
          "iopub.execute_input": "2021-10-10T01:57:12.595253Z",
          "iopub.status.busy": "2021-10-10T01:57:12.594760Z",
          "iopub.status.idle": "2021-10-10T01:57:12.597407Z",
          "shell.execute_reply": "2021-10-10T01:57:12.597816Z"
        },
        "id": "b6bd2108"
      },
      "outputs": [],
      "source": [
        "learning_rate = keras.optimizers.schedules.PiecewiseConstantDecay(\n",
        "    boundaries=[5. * n_steps_per_epoch, 15. * n_steps_per_epoch],\n",
        "    values=[0.01, 0.005, 0.001])"
      ]
    },
    {
      "cell_type": "markdown",
      "id": "b5e90440",
      "metadata": {
        "id": "b5e90440"
      },
      "source": [
        "### 1사이클 스케줄링"
      ]
    },
    {
      "cell_type": "code",
      "execution_count": 95,
      "id": "a12bb0d3",
      "metadata": {
        "execution": {
          "iopub.execute_input": "2021-10-10T01:57:12.600160Z",
          "iopub.status.busy": "2021-10-10T01:57:12.599683Z",
          "iopub.status.idle": "2021-10-10T01:57:12.607567Z",
          "shell.execute_reply": "2021-10-10T01:57:12.607949Z"
        },
        "id": "a12bb0d3"
      },
      "outputs": [],
      "source": [
        "K = keras.backend\n",
        "\n",
        "class ExponentialLearningRate(keras.callbacks.Callback):\n",
        "    def __init__(self, factor):\n",
        "        self.factor = factor\n",
        "        self.rates = []\n",
        "        self.losses = []\n",
        "    def on_batch_end(self, batch, logs):\n",
        "        self.rates.append(K.get_value(self.model.optimizer.lr))\n",
        "        self.losses.append(logs[\"loss\"])\n",
        "        K.set_value(self.model.optimizer.lr, self.model.optimizer.lr * self.factor)\n",
        "\n",
        "def find_learning_rate(model, X, y, epochs=1, batch_size=32, min_rate=10**-5, max_rate=10):\n",
        "    init_weights = model.get_weights()\n",
        "    iterations = math.ceil(len(X) / batch_size) * epochs\n",
        "    factor = np.exp(np.log(max_rate / min_rate) / iterations)\n",
        "    init_lr = K.get_value(model.optimizer.lr)\n",
        "    K.set_value(model.optimizer.lr, min_rate)\n",
        "    exp_lr = ExponentialLearningRate(factor)\n",
        "    history = model.fit(X, y, epochs=epochs, batch_size=batch_size,\n",
        "                        callbacks=[exp_lr])\n",
        "    K.set_value(model.optimizer.lr, init_lr)\n",
        "    model.set_weights(init_weights)\n",
        "    return exp_lr.rates, exp_lr.losses\n",
        "\n",
        "def plot_lr_vs_loss(rates, losses):\n",
        "    plt.plot(rates, losses)\n",
        "    plt.gca().set_xscale('log')\n",
        "    plt.hlines(min(losses), min(rates), max(rates))\n",
        "    plt.axis([min(rates), max(rates), min(losses), (losses[0] + min(losses)) / 2])\n",
        "    plt.xlabel(\"Learning rate\")\n",
        "    plt.ylabel(\"Loss\")"
      ]
    },
    {
      "cell_type": "markdown",
      "id": "9d720015",
      "metadata": {
        "id": "9d720015"
      },
      "source": [
        "**경고**: `on_batch_end()` 메서드에서 `logs[\"loss\"]`로 배치 손실을 모으지만 텐서플로 2.2.0에서 (에포크의) 평균 손실로 바뀌었습니다. (텐서플로 2.2 이상을 사용한다면) 이런 이유로 아래 그래프가 이전보다 훨씬 부드럽습니다. 이는 그래프에서 배치 손실이 폭주하기 시작하는 지점과 그렇지 않은 지점 사이에 지연이 있다는 뜻입니다. 따라서 변동이 심한 그래프에서는 조금 더 작은 학습률을 선택해야 합니다. 또한 `ExponentialLearningRate` 콜백을 조금 바꾸어 (현재 평균 손실과 이전 평균 손실을 기반으로) 배치 손실을 계산할 수 있습니다:\n",
        "\n",
        "```python\n",
        "class ExponentialLearningRate(keras.callbacks.Callback):\n",
        "    def __init__(self, factor):\n",
        "        self.factor = factor\n",
        "        self.rates = []\n",
        "        self.losses = []\n",
        "    def on_epoch_begin(self, epoch, logs=None):\n",
        "        self.prev_loss = 0\n",
        "    def on_batch_end(self, batch, logs=None):\n",
        "        batch_loss = logs[\"loss\"] * (batch + 1) - self.prev_loss * batch\n",
        "        self.prev_loss = logs[\"loss\"]\n",
        "        self.rates.append(K.get_value(self.model.optimizer.lr))\n",
        "        self.losses.append(batch_loss)\n",
        "        K.set_value(self.model.optimizer.lr, self.model.optimizer.lr * self.factor)\n",
        "```"
      ]
    },
    {
      "cell_type": "code",
      "execution_count": 96,
      "id": "c505fa7e",
      "metadata": {
        "execution": {
          "iopub.execute_input": "2021-10-10T01:57:12.610286Z",
          "iopub.status.busy": "2021-10-10T01:57:12.609804Z",
          "iopub.status.idle": "2021-10-10T01:57:12.650015Z",
          "shell.execute_reply": "2021-10-10T01:57:12.650412Z"
        },
        "id": "c505fa7e"
      },
      "outputs": [],
      "source": [
        "tf.random.set_seed(42)\n",
        "np.random.seed(42)\n",
        "\n",
        "model = keras.models.Sequential([\n",
        "    keras.layers.Flatten(input_shape=[28, 28]),\n",
        "    keras.layers.Dense(300, activation=\"selu\", kernel_initializer=\"lecun_normal\"),\n",
        "    keras.layers.Dense(100, activation=\"selu\", kernel_initializer=\"lecun_normal\"),\n",
        "    keras.layers.Dense(10, activation=\"softmax\")\n",
        "])\n",
        "model.compile(loss=\"sparse_categorical_crossentropy\",\n",
        "              optimizer=keras.optimizers.SGD(learning_rate=1e-3),\n",
        "              metrics=[\"accuracy\"])"
      ]
    },
    {
      "cell_type": "code",
      "execution_count": 97,
      "id": "037cf66e",
      "metadata": {
        "colab": {
          "base_uri": "https://localhost:8080/",
          "height": 309
        },
        "execution": {
          "iopub.execute_input": "2021-10-10T01:57:12.654529Z",
          "iopub.status.busy": "2021-10-10T01:57:12.654075Z",
          "iopub.status.idle": "2021-10-10T01:57:15.002499Z",
          "shell.execute_reply": "2021-10-10T01:57:15.002098Z"
        },
        "id": "037cf66e",
        "outputId": "e2a1837b-b295-40d6-a517-604e34b464c9"
      },
      "outputs": [
        {
          "output_type": "stream",
          "name": "stdout",
          "text": [
            "430/430 [==============================] - 2s 4ms/step - loss: nan - accuracy: 0.3863\n"
          ]
        },
        {
          "output_type": "display_data",
          "data": {
            "text/plain": [
              "<Figure size 432x288 with 1 Axes>"
            ],
            "image/png": "[encoded data removed]"
          },
          "metadata": {
            "needs_background": "light"
          }
        }
      ],
      "source": [
        "batch_size = 128\n",
        "rates, losses = find_learning_rate(model, X_train_scaled, y_train, epochs=1, batch_size=batch_size)\n",
        "plot_lr_vs_loss(rates, losses)"
      ]
    },
    {
      "cell_type": "code",
      "execution_count": 98,
      "id": "ce18733d",
      "metadata": {
        "execution": {
          "iopub.execute_input": "2021-10-10T01:57:15.009692Z",
          "iopub.status.busy": "2021-10-10T01:57:15.009177Z",
          "iopub.status.idle": "2021-10-10T01:57:15.011589Z",
          "shell.execute_reply": "2021-10-10T01:57:15.011207Z"
        },
        "id": "ce18733d"
      },
      "outputs": [],
      "source": [
        "class OneCycleScheduler(keras.callbacks.Callback):\n",
        "    def __init__(self, iterations, max_rate, start_rate=None,\n",
        "                 last_iterations=None, last_rate=None):\n",
        "        self.iterations = iterations\n",
        "        self.max_rate = max_rate\n",
        "        self.start_rate = start_rate or max_rate / 10\n",
        "        self.last_iterations = last_iterations or iterations // 10 + 1\n",
        "        self.half_iteration = (iterations - self.last_iterations) // 2\n",
        "        self.last_rate = last_rate or self.start_rate / 1000\n",
        "        self.iteration = 0\n",
        "    def _interpolate(self, iter1, iter2, rate1, rate2):\n",
        "        return ((rate2 - rate1) * (self.iteration - iter1)\n",
        "                / (iter2 - iter1) + rate1)\n",
        "    def on_batch_begin(self, batch, logs):\n",
        "        if self.iteration < self.half_iteration:\n",
        "            rate = self._interpolate(0, self.half_iteration, self.start_rate, self.max_rate)\n",
        "        elif self.iteration < 2 * self.half_iteration:\n",
        "            rate = self._interpolate(self.half_iteration, 2 * self.half_iteration,\n",
        "                                     self.max_rate, self.start_rate)\n",
        "        else:\n",
        "            rate = self._interpolate(2 * self.half_iteration, self.iterations,\n",
        "                                     self.start_rate, self.last_rate)\n",
        "        self.iteration += 1\n",
        "        K.set_value(self.model.optimizer.lr, rate)"
      ]
    },
    {
      "cell_type": "code",
      "execution_count": 99,
      "id": "3102f84d",
      "metadata": {
        "colab": {
          "base_uri": "https://localhost:8080/"
        },
        "execution": {
          "iopub.execute_input": "2021-10-10T01:57:15.016259Z",
          "iopub.status.busy": "2021-10-10T01:57:15.015403Z",
          "iopub.status.idle": "2021-10-10T01:57:48.534906Z",
          "shell.execute_reply": "2021-10-10T01:57:48.535314Z"
        },
        "id": "3102f84d",
        "outputId": "4a07c246-cf77-40d9-db2d-5575fd1fd315"
      },
      "outputs": [
        {
          "output_type": "stream",
          "name": "stdout",
          "text": [
            "Epoch 1/25\n",
            "430/430 [==============================] - 2s 4ms/step - loss: 0.6572 - accuracy: 0.7739 - val_loss: 0.4872 - val_accuracy: 0.8338\n",
            "Epoch 2/25\n",
            "430/430 [==============================] - 1s 3ms/step - loss: 0.4581 - accuracy: 0.8396 - val_loss: 0.4275 - val_accuracy: 0.8520\n",
            "Epoch 3/25\n",
            "430/430 [==============================] - 1s 3ms/step - loss: 0.4121 - accuracy: 0.8546 - val_loss: 0.4115 - val_accuracy: 0.8584\n",
            "Epoch 4/25\n",
            "430/430 [==============================] - 1s 3ms/step - loss: 0.3837 - accuracy: 0.8641 - val_loss: 0.3869 - val_accuracy: 0.8680\n",
            "Epoch 5/25\n",
            "430/430 [==============================] - 1s 3ms/step - loss: 0.3640 - accuracy: 0.8716 - val_loss: 0.3766 - val_accuracy: 0.8676\n",
            "Epoch 6/25\n",
            "430/430 [==============================] - 1s 3ms/step - loss: 0.3457 - accuracy: 0.8772 - val_loss: 0.3744 - val_accuracy: 0.8716\n",
            "Epoch 7/25\n",
            "430/430 [==============================] - 1s 3ms/step - loss: 0.3330 - accuracy: 0.8811 - val_loss: 0.3635 - val_accuracy: 0.8702\n",
            "Epoch 8/25\n",
            "430/430 [==============================] - 1s 3ms/step - loss: 0.3185 - accuracy: 0.8857 - val_loss: 0.3958 - val_accuracy: 0.8602\n",
            "Epoch 9/25\n",
            "430/430 [==============================] - 1s 3ms/step - loss: 0.3065 - accuracy: 0.8890 - val_loss: 0.3491 - val_accuracy: 0.8770\n",
            "Epoch 10/25\n",
            "430/430 [==============================] - 1s 3ms/step - loss: 0.2945 - accuracy: 0.8923 - val_loss: 0.3400 - val_accuracy: 0.8806\n",
            "Epoch 11/25\n",
            "430/430 [==============================] - 1s 3ms/step - loss: 0.2841 - accuracy: 0.8960 - val_loss: 0.3457 - val_accuracy: 0.8810\n",
            "Epoch 12/25\n",
            "430/430 [==============================] - 1s 3ms/step - loss: 0.2710 - accuracy: 0.9025 - val_loss: 0.3653 - val_accuracy: 0.8688\n",
            "Epoch 13/25\n",
            "430/430 [==============================] - 1s 3ms/step - loss: 0.2539 - accuracy: 0.9081 - val_loss: 0.3357 - val_accuracy: 0.8832\n",
            "Epoch 14/25\n",
            "430/430 [==============================] - 1s 3ms/step - loss: 0.2407 - accuracy: 0.9134 - val_loss: 0.3469 - val_accuracy: 0.8810\n",
            "Epoch 15/25\n",
            "430/430 [==============================] - 1s 3ms/step - loss: 0.2281 - accuracy: 0.9184 - val_loss: 0.3257 - val_accuracy: 0.8846\n",
            "Epoch 16/25\n",
            "430/430 [==============================] - 1s 3ms/step - loss: 0.2161 - accuracy: 0.9232 - val_loss: 0.3292 - val_accuracy: 0.8838\n",
            "Epoch 17/25\n",
            "430/430 [==============================] - 1s 3ms/step - loss: 0.2063 - accuracy: 0.9265 - val_loss: 0.3348 - val_accuracy: 0.8872\n",
            "Epoch 18/25\n",
            "430/430 [==============================] - 1s 3ms/step - loss: 0.1979 - accuracy: 0.9305 - val_loss: 0.3241 - val_accuracy: 0.8896\n",
            "Epoch 19/25\n",
            "430/430 [==============================] - 1s 3ms/step - loss: 0.1894 - accuracy: 0.9337 - val_loss: 0.3232 - val_accuracy: 0.8896\n",
            "Epoch 20/25\n",
            "430/430 [==============================] - 1s 3ms/step - loss: 0.1822 - accuracy: 0.9369 - val_loss: 0.3223 - val_accuracy: 0.8920\n",
            "Epoch 21/25\n",
            "430/430 [==============================] - 1s 3ms/step - loss: 0.1753 - accuracy: 0.9401 - val_loss: 0.3219 - val_accuracy: 0.8910\n",
            "Epoch 22/25\n",
            "430/430 [==============================] - 1s 3ms/step - loss: 0.1701 - accuracy: 0.9421 - val_loss: 0.3182 - val_accuracy: 0.8940\n",
            "Epoch 23/25\n",
            "430/430 [==============================] - 1s 3ms/step - loss: 0.1655 - accuracy: 0.9439 - val_loss: 0.3186 - val_accuracy: 0.8942\n",
            "Epoch 24/25\n",
            "430/430 [==============================] - 1s 3ms/step - loss: 0.1626 - accuracy: 0.9456 - val_loss: 0.3177 - val_accuracy: 0.8924\n",
            "Epoch 25/25\n",
            "430/430 [==============================] - 1s 3ms/step - loss: 0.1609 - accuracy: 0.9464 - val_loss: 0.3170 - val_accuracy: 0.8944\n"
          ]
        }
      ],
      "source": [
        "n_epochs = 25\n",
        "onecycle = OneCycleScheduler(math.ceil(len(X_train) / batch_size) * n_epochs, max_rate=0.05)\n",
        "history = model.fit(X_train_scaled, y_train, epochs=n_epochs, batch_size=batch_size,\n",
        "                    validation_data=(X_valid_scaled, y_valid),\n",
        "                    callbacks=[onecycle])"
      ]
    },
    {
      "cell_type": "markdown",
      "id": "975f0d32",
      "metadata": {
        "id": "975f0d32"
      },
      "source": [
        "# 규제를 사용해 과대적합 피하기"
      ]
    },
    {
      "cell_type": "markdown",
      "id": "6bac8fbd",
      "metadata": {
        "id": "6bac8fbd"
      },
      "source": [
        "## $\\ell_1$과 $\\ell_2$ 규제"
      ]
    },
    {
      "cell_type": "code",
      "execution_count": 100,
      "id": "7bf585d8",
      "metadata": {
        "execution": {
          "iopub.execute_input": "2021-10-10T01:57:48.541019Z",
          "iopub.status.busy": "2021-10-10T01:57:48.540412Z",
          "iopub.status.idle": "2021-10-10T01:57:48.542365Z",
          "shell.execute_reply": "2021-10-10T01:57:48.542713Z"
        },
        "id": "7bf585d8"
      },
      "outputs": [],
      "source": [
        "layer = keras.layers.Dense(100, activation=\"elu\",\n",
        "                           kernel_initializer=\"he_normal\",\n",
        "                           kernel_regularizer=keras.regularizers.l2(0.01))\n",
        "# or l1(0.1) for ℓ1 regularization with a factor of 0.1\n",
        "# or l1_l2(0.1, 0.01) for both ℓ1 and ℓ2 regularization, with factors 0.1 and 0.01 respectively"
      ]
    },
    {
      "cell_type": "code",
      "execution_count": 101,
      "id": "59616999",
      "metadata": {
        "colab": {
          "base_uri": "https://localhost:8080/"
        },
        "execution": {
          "iopub.execute_input": "2021-10-10T01:57:48.550535Z",
          "iopub.status.busy": "2021-10-10T01:57:48.550053Z",
          "iopub.status.idle": "2021-10-10T01:57:59.217444Z",
          "shell.execute_reply": "2021-10-10T01:57:59.216984Z"
        },
        "id": "59616999",
        "outputId": "09294338-bcc6-4dc4-8868-569096946f44"
      },
      "outputs": [
        {
          "output_type": "stream",
          "name": "stdout",
          "text": [
            "Epoch 1/2\n",
            "1719/1719 [==============================] - 7s 4ms/step - loss: 1.5956 - accuracy: 0.8124 - val_loss: 0.7169 - val_accuracy: 0.8340\n",
            "Epoch 2/2\n",
            "1719/1719 [==============================] - 6s 4ms/step - loss: 0.7197 - accuracy: 0.8274 - val_loss: 0.6850 - val_accuracy: 0.8376\n"
          ]
        }
      ],
      "source": [
        "model = keras.models.Sequential([\n",
        "    keras.layers.Flatten(input_shape=[28, 28]),\n",
        "    keras.layers.Dense(300, activation=\"elu\",\n",
        "                       kernel_initializer=\"he_normal\",\n",
        "                       kernel_regularizer=keras.regularizers.l2(0.01)),\n",
        "    keras.layers.Dense(100, activation=\"elu\",\n",
        "                       kernel_initializer=\"he_normal\",\n",
        "                       kernel_regularizer=keras.regularizers.l2(0.01)),\n",
        "    keras.layers.Dense(10, activation=\"softmax\",\n",
        "                       kernel_regularizer=keras.regularizers.l2(0.01))\n",
        "])\n",
        "model.compile(loss=\"sparse_categorical_crossentropy\", optimizer=\"nadam\", metrics=[\"accuracy\"])\n",
        "n_epochs = 2\n",
        "history = model.fit(X_train_scaled, y_train, epochs=n_epochs,\n",
        "                    validation_data=(X_valid_scaled, y_valid))"
      ]
    },
    {
      "cell_type": "code",
      "execution_count": 102,
      "id": "c0e6ecf2",
      "metadata": {
        "colab": {
          "base_uri": "https://localhost:8080/"
        },
        "execution": {
          "iopub.execute_input": "2021-10-10T01:57:59.220063Z",
          "iopub.status.busy": "2021-10-10T01:57:59.219495Z",
          "iopub.status.idle": "2021-10-10T01:58:09.931371Z",
          "shell.execute_reply": "2021-10-10T01:58:09.930960Z"
        },
        "id": "c0e6ecf2",
        "outputId": "95d91dec-6cfc-4804-e0cd-1b6f3b78bdb8"
      },
      "outputs": [
        {
          "output_type": "stream",
          "name": "stdout",
          "text": [
            "Epoch 1/2\n",
            "1719/1719 [==============================] - 7s 4ms/step - loss: 1.6313 - accuracy: 0.8113 - val_loss: 0.7218 - val_accuracy: 0.8310\n",
            "Epoch 2/2\n",
            "1719/1719 [==============================] - 6s 4ms/step - loss: 0.7187 - accuracy: 0.8273 - val_loss: 0.6826 - val_accuracy: 0.8382\n"
          ]
        }
      ],
      "source": [
        "from functools import partial\n",
        "\n",
        "RegularizedDense = partial(keras.layers.Dense,\n",
        "                           activation=\"elu\",\n",
        "                           kernel_initializer=\"he_normal\",\n",
        "                           kernel_regularizer=keras.regularizers.l2(0.01))\n",
        "\n",
        "model = keras.models.Sequential([\n",
        "    keras.layers.Flatten(input_shape=[28, 28]),\n",
        "    RegularizedDense(300),\n",
        "    RegularizedDense(100),\n",
        "    RegularizedDense(10, activation=\"softmax\")\n",
        "])\n",
        "model.compile(loss=\"sparse_categorical_crossentropy\", optimizer=\"nadam\", metrics=[\"accuracy\"])\n",
        "n_epochs = 2\n",
        "history = model.fit(X_train_scaled, y_train, epochs=n_epochs,\n",
        "                    validation_data=(X_valid_scaled, y_valid))"
      ]
    },
    {
      "cell_type": "markdown",
      "id": "3943f652",
      "metadata": {
        "id": "3943f652"
      },
      "source": [
        "## 드롭아웃"
      ]
    },
    {
      "cell_type": "code",
      "execution_count": 103,
      "id": "76472ae3",
      "metadata": {
        "colab": {
          "base_uri": "https://localhost:8080/"
        },
        "execution": {
          "iopub.execute_input": "2021-10-10T01:58:09.940527Z",
          "iopub.status.busy": "2021-10-10T01:58:09.940109Z",
          "iopub.status.idle": "2021-10-10T01:58:31.103411Z",
          "shell.execute_reply": "2021-10-10T01:58:31.102552Z"
        },
        "id": "76472ae3",
        "outputId": "e18e4616-5f0e-4516-fd48-3753f9416127"
      },
      "outputs": [
        {
          "output_type": "stream",
          "name": "stdout",
          "text": [
            "Epoch 1/2\n",
            "1719/1719 [==============================] - 7s 4ms/step - loss: 0.5838 - accuracy: 0.7998 - val_loss: 0.3730 - val_accuracy: 0.8644\n",
            "Epoch 2/2\n",
            "1719/1719 [==============================] - 6s 4ms/step - loss: 0.4209 - accuracy: 0.8443 - val_loss: 0.3411 - val_accuracy: 0.8730\n"
          ]
        }
      ],
      "source": [
        "model = keras.models.Sequential([\n",
        "    keras.layers.Flatten(input_shape=[28, 28]),\n",
        "    keras.layers.Dropout(rate=0.2),\n",
        "    keras.layers.Dense(300, activation=\"elu\", kernel_initializer=\"he_normal\"),\n",
        "    keras.layers.Dropout(rate=0.2),\n",
        "    keras.layers.Dense(100, activation=\"elu\", kernel_initializer=\"he_normal\"),\n",
        "    keras.layers.Dropout(rate=0.2),\n",
        "    keras.layers.Dense(10, activation=\"softmax\")\n",
        "])\n",
        "model.compile(loss=\"sparse_categorical_crossentropy\", optimizer=\"nadam\", metrics=[\"accuracy\"])\n",
        "n_epochs = 2\n",
        "history = model.fit(X_train_scaled, y_train, epochs=n_epochs,\n",
        "                    validation_data=(X_valid_scaled, y_valid))"
      ]
    },
    {
      "cell_type": "markdown",
      "id": "bb51399e",
      "metadata": {
        "id": "bb51399e"
      },
      "source": [
        "## 알파 드롭아웃"
      ]
    },
    {
      "cell_type": "code",
      "execution_count": 104,
      "id": "a2531268",
      "metadata": {
        "execution": {
          "iopub.execute_input": "2021-10-10T01:58:31.119724Z",
          "iopub.status.busy": "2021-10-10T01:58:31.119220Z",
          "iopub.status.idle": "2021-10-10T01:58:31.121159Z",
          "shell.execute_reply": "2021-10-10T01:58:31.121556Z"
        },
        "id": "a2531268"
      },
      "outputs": [],
      "source": [
        "tf.random.set_seed(42)\n",
        "np.random.seed(42)"
      ]
    },
    {
      "cell_type": "code",
      "execution_count": 105,
      "id": "9817a3db",
      "metadata": {
        "colab": {
          "base_uri": "https://localhost:8080/"
        },
        "execution": {
          "iopub.execute_input": "2021-10-10T01:58:31.131333Z",
          "iopub.status.busy": "2021-10-10T01:58:31.130900Z",
          "iopub.status.idle": "2021-10-10T01:59:57.645333Z",
          "shell.execute_reply": "2021-10-10T01:59:57.644857Z"
        },
        "id": "9817a3db",
        "outputId": "b768127d-6176-462b-87b4-1125aada325c"
      },
      "outputs": [
        {
          "output_type": "stream",
          "name": "stdout",
          "text": [
            "Epoch 1/20\n",
            "1719/1719 [==============================] - 5s 3ms/step - loss: 0.6617 - accuracy: 0.7611 - val_loss: 0.5756 - val_accuracy: 0.8410\n",
            "Epoch 2/20\n",
            "1719/1719 [==============================] - 5s 3ms/step - loss: 0.5548 - accuracy: 0.7968 - val_loss: 0.5397 - val_accuracy: 0.8476\n",
            "Epoch 3/20\n",
            "1719/1719 [==============================] - 5s 3ms/step - loss: 0.5255 - accuracy: 0.8062 - val_loss: 0.5028 - val_accuracy: 0.8562\n",
            "Epoch 4/20\n",
            "1719/1719 [==============================] - 5s 3ms/step - loss: 0.5047 - accuracy: 0.8129 - val_loss: 0.4763 - val_accuracy: 0.8604\n",
            "Epoch 5/20\n",
            "1719/1719 [==============================] - 5s 3ms/step - loss: 0.4923 - accuracy: 0.8170 - val_loss: 0.4681 - val_accuracy: 0.8594\n",
            "Epoch 6/20\n",
            "1719/1719 [==============================] - 5s 3ms/step - loss: 0.4839 - accuracy: 0.8201 - val_loss: 0.4800 - val_accuracy: 0.8582\n",
            "Epoch 7/20\n",
            "1719/1719 [==============================] - 5s 3ms/step - loss: 0.4719 - accuracy: 0.8252 - val_loss: 0.4985 - val_accuracy: 0.8482\n",
            "Epoch 8/20\n",
            "1719/1719 [==============================] - 5s 3ms/step - loss: 0.4641 - accuracy: 0.8280 - val_loss: 0.4610 - val_accuracy: 0.8620\n",
            "Epoch 9/20\n",
            "1719/1719 [==============================] - 5s 3ms/step - loss: 0.4609 - accuracy: 0.8296 - val_loss: 0.4316 - val_accuracy: 0.8720\n",
            "Epoch 10/20\n",
            "1719/1719 [==============================] - 5s 3ms/step - loss: 0.4521 - accuracy: 0.8324 - val_loss: 0.4478 - val_accuracy: 0.8594\n",
            "Epoch 11/20\n",
            "1719/1719 [==============================] - 5s 3ms/step - loss: 0.4466 - accuracy: 0.8359 - val_loss: 0.3970 - val_accuracy: 0.8744\n",
            "Epoch 12/20\n",
            "1719/1719 [==============================] - 5s 3ms/step - loss: 0.4434 - accuracy: 0.8347 - val_loss: 0.5314 - val_accuracy: 0.8542\n",
            "Epoch 13/20\n",
            "1719/1719 [==============================] - 5s 3ms/step - loss: 0.4422 - accuracy: 0.8353 - val_loss: 0.4036 - val_accuracy: 0.8804\n",
            "Epoch 14/20\n",
            "1719/1719 [==============================] - 5s 3ms/step - loss: 0.4375 - accuracy: 0.8378 - val_loss: 0.4513 - val_accuracy: 0.8652\n",
            "Epoch 15/20\n",
            "1719/1719 [==============================] - 5s 3ms/step - loss: 0.4321 - accuracy: 0.8380 - val_loss: 0.4570 - val_accuracy: 0.8668\n",
            "Epoch 16/20\n",
            "1719/1719 [==============================] - 5s 3ms/step - loss: 0.4291 - accuracy: 0.8396 - val_loss: 0.4344 - val_accuracy: 0.8736\n",
            "Epoch 17/20\n",
            "1719/1719 [==============================] - 5s 3ms/step - loss: 0.4290 - accuracy: 0.8418 - val_loss: 0.5365 - val_accuracy: 0.8546\n",
            "Epoch 18/20\n",
            "1719/1719 [==============================] - 5s 3ms/step - loss: 0.4279 - accuracy: 0.8402 - val_loss: 0.4717 - val_accuracy: 0.8760\n",
            "Epoch 19/20\n",
            "1719/1719 [==============================] - 5s 3ms/step - loss: 0.4244 - accuracy: 0.8427 - val_loss: 0.4731 - val_accuracy: 0.8720\n",
            "Epoch 20/20\n",
            "1719/1719 [==============================] - 5s 3ms/step - loss: 0.4162 - accuracy: 0.8445 - val_loss: 0.4140 - val_accuracy: 0.8722\n"
          ]
        }
      ],
      "source": [
        "model = keras.models.Sequential([\n",
        "    keras.layers.Flatten(input_shape=[28, 28]),\n",
        "    keras.layers.AlphaDropout(rate=0.2),\n",
        "    keras.layers.Dense(300, activation=\"selu\", kernel_initializer=\"lecun_normal\"),\n",
        "    keras.layers.AlphaDropout(rate=0.2),\n",
        "    keras.layers.Dense(100, activation=\"selu\", kernel_initializer=\"lecun_normal\"),\n",
        "    keras.layers.AlphaDropout(rate=0.2),\n",
        "    keras.layers.Dense(10, activation=\"softmax\")\n",
        "])\n",
        "optimizer = keras.optimizers.SGD(learning_rate=0.01, momentum=0.9, nesterov=True)\n",
        "model.compile(loss=\"sparse_categorical_crossentropy\", optimizer=optimizer, metrics=[\"accuracy\"])\n",
        "n_epochs = 20\n",
        "history = model.fit(X_train_scaled, y_train, epochs=n_epochs,\n",
        "                    validation_data=(X_valid_scaled, y_valid))"
      ]
    },
    {
      "cell_type": "code",
      "execution_count": 106,
      "id": "75a96530",
      "metadata": {
        "colab": {
          "base_uri": "https://localhost:8080/"
        },
        "execution": {
          "iopub.execute_input": "2021-10-10T01:59:57.649796Z",
          "iopub.status.busy": "2021-10-10T01:59:57.649335Z",
          "iopub.status.idle": "2021-10-10T01:59:58.069051Z",
          "shell.execute_reply": "2021-10-10T01:59:58.069463Z"
        },
        "id": "75a96530",
        "outputId": "c8c26d00-2e47-463e-975d-67d5bbc59e9a"
      },
      "outputs": [
        {
          "output_type": "stream",
          "name": "stdout",
          "text": [
            "313/313 [==============================] - 1s 2ms/step - loss: 0.4690 - accuracy: 0.8597\n"
          ]
        },
        {
          "output_type": "execute_result",
          "data": {
            "text/plain": [
              "[0.4690224528312683, 0.8597000241279602]"
            ]
          },
          "metadata": {},
          "execution_count": 106
        }
      ],
      "source": [
        "model.evaluate(X_test_scaled, y_test)"
      ]
    },
    {
      "cell_type": "code",
      "execution_count": 107,
      "id": "87b0a11e",
      "metadata": {
        "colab": {
          "base_uri": "https://localhost:8080/"
        },
        "execution": {
          "iopub.execute_input": "2021-10-10T01:59:58.072059Z",
          "iopub.status.busy": "2021-10-10T01:59:58.071606Z",
          "iopub.status.idle": "2021-10-10T02:00:00.292755Z",
          "shell.execute_reply": "2021-10-10T02:00:00.293123Z"
        },
        "id": "87b0a11e",
        "outputId": "15ce2b18-bdd4-4b20-d01e-b4b9a8e71a8e"
      },
      "outputs": [
        {
          "output_type": "stream",
          "name": "stdout",
          "text": [
            "1719/1719 [==============================] - 4s 2ms/step - loss: 0.3412 - accuracy: 0.8822\n"
          ]
        },
        {
          "output_type": "execute_result",
          "data": {
            "text/plain": [
              "[0.3411811888217926, 0.8821818232536316]"
            ]
          },
          "metadata": {},
          "execution_count": 107
        }
      ],
      "source": [
        "model.evaluate(X_train_scaled, y_train)"
      ]
    },
    {
      "cell_type": "code",
      "execution_count": 108,
      "id": "52052b46",
      "metadata": {
        "colab": {
          "base_uri": "https://localhost:8080/"
        },
        "execution": {
          "iopub.execute_input": "2021-10-10T02:00:00.296785Z",
          "iopub.status.busy": "2021-10-10T02:00:00.296281Z",
          "iopub.status.idle": "2021-10-10T02:00:05.567250Z",
          "shell.execute_reply": "2021-10-10T02:00:05.567645Z"
        },
        "id": "52052b46",
        "outputId": "f2935418-40d2-4a4a-9b7a-9e3136456f0b"
      },
      "outputs": [
        {
          "output_type": "stream",
          "name": "stdout",
          "text": [
            "1719/1719 [==============================] - 5s 3ms/step - loss: 0.4184 - accuracy: 0.8439\n"
          ]
        }
      ],
      "source": [
        "history = model.fit(X_train_scaled, y_train)"
      ]
    },
    {
      "cell_type": "markdown",
      "id": "3165bd5a",
      "metadata": {
        "id": "3165bd5a"
      },
      "source": [
        "## MC 드롭아웃"
      ]
    },
    {
      "cell_type": "code",
      "execution_count": 109,
      "id": "93e28516",
      "metadata": {
        "execution": {
          "iopub.execute_input": "2021-10-10T02:00:05.574522Z",
          "iopub.status.busy": "2021-10-10T02:00:05.574061Z",
          "iopub.status.idle": "2021-10-10T02:00:05.576527Z",
          "shell.execute_reply": "2021-10-10T02:00:05.576902Z"
        },
        "id": "93e28516"
      },
      "outputs": [],
      "source": [
        "tf.random.set_seed(42)\n",
        "np.random.seed(42)"
      ]
    },
    {
      "cell_type": "code",
      "execution_count": 110,
      "id": "218993dd",
      "metadata": {
        "execution": {
          "iopub.execute_input": "2021-10-10T02:00:05.607713Z",
          "iopub.status.busy": "2021-10-10T02:00:05.606968Z",
          "iopub.status.idle": "2021-10-10T02:00:16.458599Z",
          "shell.execute_reply": "2021-10-10T02:00:16.459005Z"
        },
        "id": "218993dd",
        "scrolled": true
      },
      "outputs": [],
      "source": [
        "y_probas = np.stack([model(X_test_scaled, training=True)\n",
        "                     for sample in range(100)])\n",
        "y_proba = y_probas.mean(axis=0)\n",
        "y_std = y_probas.std(axis=0)"
      ]
    },
    {
      "cell_type": "code",
      "execution_count": 111,
      "id": "3730272d",
      "metadata": {
        "colab": {
          "base_uri": "https://localhost:8080/"
        },
        "execution": {
          "iopub.execute_input": "2021-10-10T02:00:16.463077Z",
          "iopub.status.busy": "2021-10-10T02:00:16.462635Z",
          "iopub.status.idle": "2021-10-10T02:00:16.544991Z",
          "shell.execute_reply": "2021-10-10T02:00:16.545361Z"
        },
        "id": "3730272d",
        "outputId": "4931fb98-b0ea-4343-f3b0-305c2db3009c"
      },
      "outputs": [
        {
          "output_type": "execute_result",
          "data": {
            "text/plain": [
              "array([[0.  , 0.  , 0.  , 0.  , 0.  , 0.  , 0.  , 0.01, 0.  , 0.99]],\n",
              "      dtype=float32)"
            ]
          },
          "metadata": {},
          "execution_count": 111
        }
      ],
      "source": [
        "np.round(model.predict(X_test_scaled[:1]), 2)"
      ]
    },
    {
      "cell_type": "code",
      "execution_count": 112,
      "id": "8cb40189",
      "metadata": {
        "colab": {
          "base_uri": "https://localhost:8080/"
        },
        "execution": {
          "iopub.execute_input": "2021-10-10T02:00:16.547692Z",
          "iopub.status.busy": "2021-10-10T02:00:16.547232Z",
          "iopub.status.idle": "2021-10-10T02:00:16.558147Z",
          "shell.execute_reply": "2021-10-10T02:00:16.558525Z"
        },
        "id": "8cb40189",
        "outputId": "93a53474-c47a-419e-a4a0-683aa5904103"
      },
      "outputs": [
        {
          "output_type": "execute_result",
          "data": {
            "text/plain": [
              "array([[[0.  , 0.  , 0.  , 0.  , 0.  , 0.2 , 0.  , 0.34, 0.  , 0.47]],\n",
              "\n",
              "       [[0.  , 0.  , 0.  , 0.  , 0.  , 0.03, 0.  , 0.39, 0.  , 0.59]],\n",
              "\n",
              "       [[0.  , 0.  , 0.  , 0.  , 0.  , 0.05, 0.  , 0.31, 0.  , 0.64]],\n",
              "\n",
              "       [[0.  , 0.  , 0.  , 0.  , 0.  , 0.02, 0.  , 0.18, 0.  , 0.81]],\n",
              "\n",
              "       [[0.  , 0.  , 0.  , 0.  , 0.  , 0.09, 0.  , 0.28, 0.  , 0.63]],\n",
              "\n",
              "       [[0.  , 0.  , 0.  , 0.  , 0.  , 0.18, 0.  , 0.49, 0.  , 0.33]],\n",
              "\n",
              "       [[0.  , 0.  , 0.  , 0.  , 0.  , 0.  , 0.  , 0.01, 0.  , 0.99]],\n",
              "\n",
              "       [[0.  , 0.  , 0.  , 0.  , 0.  , 0.88, 0.  , 0.05, 0.  , 0.07]],\n",
              "\n",
              "       [[0.  , 0.  , 0.  , 0.  , 0.  , 0.  , 0.  , 0.25, 0.  , 0.75]],\n",
              "\n",
              "       [[0.  , 0.  , 0.  , 0.  , 0.  , 0.01, 0.  , 0.19, 0.  , 0.8 ]],\n",
              "\n",
              "       [[0.  , 0.  , 0.  , 0.  , 0.  , 0.02, 0.  , 0.05, 0.  , 0.93]],\n",
              "\n",
              "       [[0.  , 0.  , 0.  , 0.  , 0.  , 0.22, 0.  , 0.11, 0.  , 0.67]],\n",
              "\n",
              "       [[0.  , 0.  , 0.  , 0.  , 0.  , 0.06, 0.  , 0.  , 0.  , 0.93]],\n",
              "\n",
              "       [[0.  , 0.  , 0.  , 0.  , 0.  , 0.03, 0.  , 0.12, 0.  , 0.85]],\n",
              "\n",
              "       [[0.  , 0.  , 0.  , 0.  , 0.  , 0.23, 0.  , 0.32, 0.  , 0.45]],\n",
              "\n",
              "       [[0.  , 0.  , 0.  , 0.  , 0.  , 0.41, 0.  , 0.44, 0.  , 0.15]],\n",
              "\n",
              "       [[0.  , 0.  , 0.  , 0.  , 0.  , 0.86, 0.  , 0.  , 0.  , 0.13]],\n",
              "\n",
              "       [[0.  , 0.  , 0.  , 0.  , 0.  , 0.01, 0.  , 0.29, 0.  , 0.7 ]],\n",
              "\n",
              "       [[0.  , 0.  , 0.  , 0.  , 0.  , 0.55, 0.  , 0.08, 0.  , 0.37]],\n",
              "\n",
              "       [[0.  , 0.  , 0.  , 0.  , 0.  , 0.32, 0.  , 0.51, 0.  , 0.17]],\n",
              "\n",
              "       [[0.  , 0.  , 0.  , 0.  , 0.  , 0.33, 0.  , 0.55, 0.  , 0.12]],\n",
              "\n",
              "       [[0.  , 0.  , 0.  , 0.  , 0.  , 0.15, 0.  , 0.43, 0.  , 0.42]],\n",
              "\n",
              "       [[0.  , 0.  , 0.  , 0.  , 0.  , 0.02, 0.  , 0.09, 0.  , 0.9 ]],\n",
              "\n",
              "       [[0.  , 0.  , 0.  , 0.  , 0.  , 0.03, 0.  , 0.19, 0.  , 0.78]],\n",
              "\n",
              "       [[0.  , 0.  , 0.  , 0.  , 0.  , 0.  , 0.  , 0.02, 0.  , 0.98]],\n",
              "\n",
              "       [[0.  , 0.  , 0.  , 0.  , 0.  , 0.09, 0.  , 0.43, 0.  , 0.48]],\n",
              "\n",
              "       [[0.  , 0.  , 0.  , 0.  , 0.  , 0.19, 0.  , 0.34, 0.01, 0.46]],\n",
              "\n",
              "       [[0.  , 0.  , 0.  , 0.  , 0.  , 0.02, 0.  , 0.21, 0.  , 0.77]],\n",
              "\n",
              "       [[0.  , 0.  , 0.  , 0.  , 0.  , 0.  , 0.  , 0.7 , 0.  , 0.3 ]],\n",
              "\n",
              "       [[0.  , 0.  , 0.  , 0.  , 0.  , 0.01, 0.  , 0.03, 0.  , 0.96]],\n",
              "\n",
              "       [[0.  , 0.  , 0.  , 0.  , 0.  , 0.01, 0.  , 0.63, 0.  , 0.36]],\n",
              "\n",
              "       [[0.  , 0.  , 0.  , 0.  , 0.  , 0.05, 0.  , 0.5 , 0.  , 0.45]],\n",
              "\n",
              "       [[0.  , 0.  , 0.  , 0.  , 0.  , 0.1 , 0.  , 0.1 , 0.  , 0.79]],\n",
              "\n",
              "       [[0.  , 0.  , 0.  , 0.  , 0.  , 0.01, 0.  , 0.1 , 0.  , 0.89]],\n",
              "\n",
              "       [[0.  , 0.  , 0.  , 0.  , 0.  , 0.01, 0.  , 0.48, 0.  , 0.51]],\n",
              "\n",
              "       [[0.  , 0.  , 0.  , 0.  , 0.  , 0.04, 0.  , 0.36, 0.  , 0.59]],\n",
              "\n",
              "       [[0.  , 0.  , 0.  , 0.  , 0.  , 0.  , 0.  , 0.64, 0.  , 0.35]],\n",
              "\n",
              "       [[0.  , 0.  , 0.  , 0.  , 0.  , 0.04, 0.  , 0.14, 0.  , 0.82]],\n",
              "\n",
              "       [[0.  , 0.  , 0.  , 0.  , 0.  , 0.01, 0.  , 0.05, 0.  , 0.94]],\n",
              "\n",
              "       [[0.  , 0.  , 0.  , 0.  , 0.  , 0.  , 0.  , 0.1 , 0.  , 0.89]],\n",
              "\n",
              "       [[0.  , 0.  , 0.  , 0.  , 0.  , 0.06, 0.  , 0.35, 0.  , 0.58]],\n",
              "\n",
              "       [[0.  , 0.  , 0.  , 0.  , 0.  , 0.59, 0.  , 0.13, 0.  , 0.28]],\n",
              "\n",
              "       [[0.  , 0.  , 0.  , 0.  , 0.  , 0.01, 0.  , 0.17, 0.  , 0.82]],\n",
              "\n",
              "       [[0.  , 0.  , 0.  , 0.  , 0.  , 0.  , 0.  , 0.01, 0.  , 0.98]],\n",
              "\n",
              "       [[0.  , 0.  , 0.  , 0.  , 0.  , 0.02, 0.  , 0.12, 0.  , 0.86]],\n",
              "\n",
              "       [[0.  , 0.  , 0.  , 0.  , 0.  , 0.22, 0.  , 0.26, 0.  , 0.51]],\n",
              "\n",
              "       [[0.  , 0.  , 0.  , 0.  , 0.  , 0.08, 0.  , 0.07, 0.  , 0.85]],\n",
              "\n",
              "       [[0.  , 0.  , 0.  , 0.  , 0.  , 0.04, 0.  , 0.8 , 0.  , 0.16]],\n",
              "\n",
              "       [[0.  , 0.  , 0.  , 0.  , 0.  , 0.02, 0.  , 0.86, 0.  , 0.12]],\n",
              "\n",
              "       [[0.  , 0.  , 0.  , 0.  , 0.  , 0.03, 0.  , 0.02, 0.  , 0.95]],\n",
              "\n",
              "       [[0.  , 0.  , 0.  , 0.  , 0.  , 0.38, 0.  , 0.4 , 0.  , 0.23]],\n",
              "\n",
              "       [[0.  , 0.  , 0.  , 0.  , 0.  , 0.01, 0.  , 0.1 , 0.  , 0.89]],\n",
              "\n",
              "       [[0.  , 0.  , 0.  , 0.  , 0.  , 0.  , 0.  , 0.48, 0.  , 0.51]],\n",
              "\n",
              "       [[0.  , 0.  , 0.  , 0.  , 0.  , 0.  , 0.  , 0.08, 0.  , 0.92]],\n",
              "\n",
              "       [[0.  , 0.  , 0.  , 0.  , 0.  , 0.22, 0.  , 0.34, 0.  , 0.44]],\n",
              "\n",
              "       [[0.  , 0.  , 0.  , 0.  , 0.  , 0.02, 0.  , 0.06, 0.  , 0.92]],\n",
              "\n",
              "       [[0.  , 0.  , 0.  , 0.  , 0.  , 0.  , 0.  , 0.  , 0.  , 1.  ]],\n",
              "\n",
              "       [[0.  , 0.  , 0.  , 0.  , 0.  , 0.09, 0.  , 0.11, 0.  , 0.8 ]],\n",
              "\n",
              "       [[0.  , 0.  , 0.  , 0.  , 0.  , 0.  , 0.  , 0.96, 0.  , 0.03]],\n",
              "\n",
              "       [[0.  , 0.  , 0.  , 0.  , 0.  , 0.02, 0.  , 0.16, 0.  , 0.82]],\n",
              "\n",
              "       [[0.  , 0.  , 0.  , 0.  , 0.  , 0.  , 0.  , 0.21, 0.  , 0.79]],\n",
              "\n",
              "       [[0.  , 0.  , 0.  , 0.  , 0.  , 0.01, 0.  , 0.21, 0.  , 0.78]],\n",
              "\n",
              "       [[0.  , 0.  , 0.  , 0.  , 0.  , 0.05, 0.  , 0.4 , 0.  , 0.55]],\n",
              "\n",
              "       [[0.  , 0.  , 0.  , 0.  , 0.  , 0.02, 0.  , 0.25, 0.  , 0.73]],\n",
              "\n",
              "       [[0.  , 0.  , 0.  , 0.  , 0.  , 0.42, 0.  , 0.01, 0.  , 0.57]],\n",
              "\n",
              "       [[0.  , 0.  , 0.  , 0.  , 0.  , 0.06, 0.  , 0.18, 0.  , 0.76]],\n",
              "\n",
              "       [[0.  , 0.  , 0.  , 0.  , 0.  , 0.  , 0.  , 0.28, 0.  , 0.71]],\n",
              "\n",
              "       [[0.  , 0.  , 0.  , 0.  , 0.  , 0.22, 0.  , 0.69, 0.  , 0.09]],\n",
              "\n",
              "       [[0.  , 0.  , 0.  , 0.  , 0.  , 0.07, 0.  , 0.17, 0.  , 0.76]],\n",
              "\n",
              "       [[0.  , 0.  , 0.  , 0.  , 0.  , 0.03, 0.  , 0.07, 0.  , 0.91]],\n",
              "\n",
              "       [[0.  , 0.  , 0.  , 0.  , 0.  , 0.11, 0.  , 0.18, 0.  , 0.71]],\n",
              "\n",
              "       [[0.  , 0.  , 0.  , 0.  , 0.  , 0.  , 0.  , 0.  , 0.  , 0.99]],\n",
              "\n",
              "       [[0.  , 0.  , 0.  , 0.  , 0.  , 0.01, 0.  , 0.11, 0.  , 0.88]],\n",
              "\n",
              "       [[0.  , 0.  , 0.  , 0.  , 0.  , 0.93, 0.  , 0.  , 0.  , 0.06]],\n",
              "\n",
              "       [[0.  , 0.  , 0.  , 0.  , 0.  , 0.  , 0.  , 0.03, 0.  , 0.97]],\n",
              "\n",
              "       [[0.  , 0.  , 0.  , 0.  , 0.  , 0.06, 0.  , 0.06, 0.  , 0.88]],\n",
              "\n",
              "       [[0.  , 0.  , 0.  , 0.  , 0.  , 0.03, 0.  , 0.16, 0.  , 0.81]],\n",
              "\n",
              "       [[0.  , 0.  , 0.  , 0.  , 0.  , 0.08, 0.  , 0.26, 0.  , 0.66]],\n",
              "\n",
              "       [[0.  , 0.  , 0.  , 0.  , 0.  , 0.11, 0.  , 0.43, 0.  , 0.47]],\n",
              "\n",
              "       [[0.  , 0.  , 0.  , 0.  , 0.  , 0.28, 0.  , 0.3 , 0.  , 0.43]],\n",
              "\n",
              "       [[0.  , 0.  , 0.  , 0.  , 0.  , 0.07, 0.  , 0.41, 0.  , 0.52]],\n",
              "\n",
              "       [[0.  , 0.  , 0.  , 0.  , 0.  , 0.01, 0.  , 0.41, 0.  , 0.58]],\n",
              "\n",
              "       [[0.  , 0.  , 0.  , 0.  , 0.  , 0.02, 0.  , 0.03, 0.  , 0.95]],\n",
              "\n",
              "       [[0.  , 0.  , 0.  , 0.  , 0.  , 0.01, 0.  , 0.18, 0.  , 0.81]],\n",
              "\n",
              "       [[0.  , 0.  , 0.  , 0.  , 0.  , 0.01, 0.  , 0.05, 0.  , 0.94]],\n",
              "\n",
              "       [[0.  , 0.  , 0.  , 0.  , 0.  , 0.51, 0.  , 0.08, 0.17, 0.24]],\n",
              "\n",
              "       [[0.  , 0.  , 0.  , 0.  , 0.  , 0.08, 0.  , 0.4 , 0.  , 0.51]],\n",
              "\n",
              "       [[0.  , 0.  , 0.  , 0.  , 0.  , 0.6 , 0.  , 0.01, 0.  , 0.39]],\n",
              "\n",
              "       [[0.  , 0.  , 0.  , 0.  , 0.  , 0.  , 0.  , 0.  , 0.  , 1.  ]],\n",
              "\n",
              "       [[0.  , 0.  , 0.  , 0.  , 0.  , 0.  , 0.  , 0.11, 0.  , 0.89]],\n",
              "\n",
              "       [[0.  , 0.  , 0.  , 0.  , 0.  , 0.  , 0.  , 0.13, 0.  , 0.87]],\n",
              "\n",
              "       [[0.  , 0.  , 0.  , 0.  , 0.  , 0.02, 0.  , 0.02, 0.  , 0.96]],\n",
              "\n",
              "       [[0.  , 0.  , 0.  , 0.  , 0.  , 0.02, 0.  , 0.44, 0.  , 0.53]],\n",
              "\n",
              "       [[0.  , 0.  , 0.  , 0.  , 0.  , 0.05, 0.  , 0.07, 0.  , 0.87]],\n",
              "\n",
              "       [[0.  , 0.  , 0.  , 0.  , 0.  , 0.46, 0.  , 0.17, 0.  , 0.38]],\n",
              "\n",
              "       [[0.  , 0.  , 0.  , 0.  , 0.  , 0.08, 0.  , 0.6 , 0.  , 0.32]],\n",
              "\n",
              "       [[0.  , 0.  , 0.  , 0.  , 0.  , 0.42, 0.  , 0.37, 0.  , 0.2 ]],\n",
              "\n",
              "       [[0.  , 0.  , 0.  , 0.  , 0.  , 0.19, 0.  , 0.43, 0.  , 0.38]],\n",
              "\n",
              "       [[0.  , 0.  , 0.  , 0.  , 0.  , 0.  , 0.  , 0.  , 0.  , 1.  ]],\n",
              "\n",
              "       [[0.  , 0.  , 0.  , 0.  , 0.  , 0.  , 0.  , 0.28, 0.  , 0.72]]],\n",
              "      dtype=float32)"
            ]
          },
          "metadata": {},
          "execution_count": 112
        }
      ],
      "source": [
        "np.round(y_probas[:, :1], 2)"
      ]
    },
    {
      "cell_type": "code",
      "execution_count": 113,
      "id": "b2b92371",
      "metadata": {
        "colab": {
          "base_uri": "https://localhost:8080/"
        },
        "execution": {
          "iopub.execute_input": "2021-10-10T02:00:16.562759Z",
          "iopub.status.busy": "2021-10-10T02:00:16.562081Z",
          "iopub.status.idle": "2021-10-10T02:00:16.565163Z",
          "shell.execute_reply": "2021-10-10T02:00:16.564768Z"
        },
        "id": "b2b92371",
        "outputId": "d9acd14a-762a-4b50-fe1f-84712d58dba3"
      },
      "outputs": [
        {
          "output_type": "execute_result",
          "data": {
            "text/plain": [
              "array([[0.  , 0.  , 0.  , 0.  , 0.  , 0.12, 0.  , 0.24, 0.  , 0.63]],\n",
              "      dtype=float32)"
            ]
          },
          "metadata": {},
          "execution_count": 113
        }
      ],
      "source": [
        "np.round(y_proba[:1], 2)"
      ]
    },
    {
      "cell_type": "code",
      "execution_count": 114,
      "id": "e2ddbcac",
      "metadata": {
        "colab": {
          "base_uri": "https://localhost:8080/"
        },
        "execution": {
          "iopub.execute_input": "2021-10-10T02:00:16.568447Z",
          "iopub.status.busy": "2021-10-10T02:00:16.567955Z",
          "iopub.status.idle": "2021-10-10T02:00:16.591509Z",
          "shell.execute_reply": "2021-10-10T02:00:16.591909Z"
        },
        "id": "e2ddbcac",
        "outputId": "ffda9ebb-182e-477e-d334-70385dc4189b"
      },
      "outputs": [
        {
          "output_type": "execute_result",
          "data": {
            "text/plain": [
              "array([[0.  , 0.  , 0.  , 0.  , 0.  , 0.2 , 0.  , 0.21, 0.02, 0.28]],\n",
              "      dtype=float32)"
            ]
          },
          "metadata": {},
          "execution_count": 114
        }
      ],
      "source": [
        "y_std = y_probas.std(axis=0)\n",
        "np.round(y_std[:1], 2)"
      ]
    },
    {
      "cell_type": "code",
      "execution_count": 115,
      "id": "7336f012",
      "metadata": {
        "execution": {
          "iopub.execute_input": "2021-10-10T02:00:16.595392Z",
          "iopub.status.busy": "2021-10-10T02:00:16.594927Z",
          "iopub.status.idle": "2021-10-10T02:00:16.597247Z",
          "shell.execute_reply": "2021-10-10T02:00:16.597654Z"
        },
        "id": "7336f012"
      },
      "outputs": [],
      "source": [
        "y_pred = np.argmax(y_proba, axis=1)"
      ]
    },
    {
      "cell_type": "code",
      "execution_count": 116,
      "id": "a61707c2",
      "metadata": {
        "colab": {
          "base_uri": "https://localhost:8080/"
        },
        "execution": {
          "iopub.execute_input": "2021-10-10T02:00:16.601741Z",
          "iopub.status.busy": "2021-10-10T02:00:16.601262Z",
          "iopub.status.idle": "2021-10-10T02:00:16.605307Z",
          "shell.execute_reply": "2021-10-10T02:00:16.604894Z"
        },
        "id": "a61707c2",
        "outputId": "472caf72-ba42-40a3-a92d-ae5c0aaa3dba"
      },
      "outputs": [
        {
          "output_type": "execute_result",
          "data": {
            "text/plain": [
              "0.869"
            ]
          },
          "metadata": {},
          "execution_count": 116
        }
      ],
      "source": [
        "accuracy = np.sum(y_pred == y_test) / len(y_test)\n",
        "accuracy"
      ]
    },
    {
      "cell_type": "code",
      "execution_count": 117,
      "id": "5cc6816d",
      "metadata": {
        "execution": {
          "iopub.execute_input": "2021-10-10T02:00:16.609862Z",
          "iopub.status.busy": "2021-10-10T02:00:16.609323Z",
          "iopub.status.idle": "2021-10-10T02:00:16.611700Z",
          "shell.execute_reply": "2021-10-10T02:00:16.611365Z"
        },
        "id": "5cc6816d"
      },
      "outputs": [],
      "source": [
        "class MCDropout(keras.layers.Dropout):\n",
        "    def call(self, inputs):\n",
        "        return super().call(inputs, training=True)\n",
        "\n",
        "class MCAlphaDropout(keras.layers.AlphaDropout):\n",
        "    def call(self, inputs):\n",
        "        return super().call(inputs, training=True)"
      ]
    },
    {
      "cell_type": "code",
      "execution_count": 118,
      "id": "f71156c5",
      "metadata": {
        "execution": {
          "iopub.execute_input": "2021-10-10T02:00:16.617256Z",
          "iopub.status.busy": "2021-10-10T02:00:16.616580Z",
          "iopub.status.idle": "2021-10-10T02:00:16.618380Z",
          "shell.execute_reply": "2021-10-10T02:00:16.618757Z"
        },
        "id": "f71156c5"
      },
      "outputs": [],
      "source": [
        "tf.random.set_seed(42)\n",
        "np.random.seed(42)"
      ]
    },
    {
      "cell_type": "code",
      "execution_count": 119,
      "id": "539ed8a0",
      "metadata": {
        "execution": {
          "iopub.execute_input": "2021-10-10T02:00:16.624514Z",
          "iopub.status.busy": "2021-10-10T02:00:16.624069Z",
          "iopub.status.idle": "2021-10-10T02:00:16.690819Z",
          "shell.execute_reply": "2021-10-10T02:00:16.690361Z"
        },
        "id": "539ed8a0"
      },
      "outputs": [],
      "source": [
        "mc_model = keras.models.Sequential([\n",
        "    MCAlphaDropout(layer.rate) if isinstance(layer, keras.layers.AlphaDropout) else layer\n",
        "    for layer in model.layers\n",
        "])"
      ]
    },
    {
      "cell_type": "code",
      "execution_count": 120,
      "id": "177f25b6",
      "metadata": {
        "colab": {
          "base_uri": "https://localhost:8080/"
        },
        "execution": {
          "iopub.execute_input": "2021-10-10T02:00:16.695715Z",
          "iopub.status.busy": "2021-10-10T02:00:16.693780Z",
          "iopub.status.idle": "2021-10-10T02:00:16.700126Z",
          "shell.execute_reply": "2021-10-10T02:00:16.700476Z"
        },
        "id": "177f25b6",
        "outputId": "04baa9dd-e8c7-4f1d-d845-376889c85bc3"
      },
      "outputs": [
        {
          "output_type": "stream",
          "name": "stdout",
          "text": [
            "Model: \"sequential_21\"\n",
            "_________________________________________________________________\n",
            " Layer (type)                Output Shape              Param #   \n",
            "=================================================================\n",
            " flatten_18 (Flatten)        (None, 784)               0         \n",
            "                                                                 \n",
            " mc_alpha_dropout (MCAlphaDr  (None, 784)              0         \n",
            " opout)                                                          \n",
            "                                                                 \n",
            " dense_263 (Dense)           (None, 300)               235500    \n",
            "                                                                 \n",
            " mc_alpha_dropout_1 (MCAlpha  (None, 300)              0         \n",
            " Dropout)                                                        \n",
            "                                                                 \n",
            " dense_264 (Dense)           (None, 100)               30100     \n",
            "                                                                 \n",
            " mc_alpha_dropout_2 (MCAlpha  (None, 100)              0         \n",
            " Dropout)                                                        \n",
            "                                                                 \n",
            " dense_265 (Dense)           (None, 10)                1010      \n",
            "                                                                 \n",
            "=================================================================\n",
            "Total params: 266,610\n",
            "Trainable params: 266,610\n",
            "Non-trainable params: 0\n",
            "_________________________________________________________________\n"
          ]
        }
      ],
      "source": [
        "mc_model.summary()"
      ]
    },
    {
      "cell_type": "code",
      "execution_count": 121,
      "id": "a6524bfa",
      "metadata": {
        "execution": {
          "iopub.execute_input": "2021-10-10T02:00:16.706126Z",
          "iopub.status.busy": "2021-10-10T02:00:16.705673Z",
          "iopub.status.idle": "2021-10-10T02:00:16.709967Z",
          "shell.execute_reply": "2021-10-10T02:00:16.709500Z"
        },
        "id": "a6524bfa"
      },
      "outputs": [],
      "source": [
        "optimizer = keras.optimizers.SGD(learning_rate=0.01, momentum=0.9, nesterov=True)\n",
        "mc_model.compile(loss=\"sparse_categorical_crossentropy\", optimizer=optimizer, metrics=[\"accuracy\"])"
      ]
    },
    {
      "cell_type": "code",
      "execution_count": 122,
      "id": "58f93838",
      "metadata": {
        "execution": {
          "iopub.execute_input": "2021-10-10T02:00:16.713259Z",
          "iopub.status.busy": "2021-10-10T02:00:16.712858Z",
          "iopub.status.idle": "2021-10-10T02:00:16.716876Z",
          "shell.execute_reply": "2021-10-10T02:00:16.716384Z"
        },
        "id": "58f93838"
      },
      "outputs": [],
      "source": [
        "mc_model.set_weights(model.get_weights())"
      ]
    },
    {
      "cell_type": "markdown",
      "id": "8c6bf2c5",
      "metadata": {
        "id": "8c6bf2c5"
      },
      "source": [
        "이제 MC 드롭아웃을 모델에 사용할 수 있습니다:"
      ]
    },
    {
      "cell_type": "code",
      "execution_count": 123,
      "id": "7fcabfcb",
      "metadata": {
        "colab": {
          "base_uri": "https://localhost:8080/"
        },
        "execution": {
          "iopub.execute_input": "2021-10-10T02:00:16.721357Z",
          "iopub.status.busy": "2021-10-10T02:00:16.720910Z",
          "iopub.status.idle": "2021-10-10T02:00:19.970164Z",
          "shell.execute_reply": "2021-10-10T02:00:19.969320Z"
        },
        "id": "7fcabfcb",
        "outputId": "516f0e23-9977-4840-b2c2-bdea4af7880b"
      },
      "outputs": [
        {
          "output_type": "execute_result",
          "data": {
            "text/plain": [
              "array([[0.  , 0.  , 0.  , 0.  , 0.  , 0.09, 0.  , 0.26, 0.  , 0.65]],\n",
              "      dtype=float32)"
            ]
          },
          "metadata": {},
          "execution_count": 123
        }
      ],
      "source": [
        "np.round(np.mean([mc_model.predict(X_test_scaled[:1]) for sample in range(100)], axis=0), 2)"
      ]
    },
    {
      "cell_type": "markdown",
      "id": "5d7836e3",
      "metadata": {
        "id": "5d7836e3"
      },
      "source": [
        "## 맥스 노름"
      ]
    },
    {
      "cell_type": "code",
      "execution_count": 124,
      "id": "c4499253",
      "metadata": {
        "execution": {
          "iopub.execute_input": "2021-10-10T02:00:19.976363Z",
          "iopub.status.busy": "2021-10-10T02:00:19.975829Z",
          "iopub.status.idle": "2021-10-10T02:00:19.979568Z",
          "shell.execute_reply": "2021-10-10T02:00:19.978866Z"
        },
        "id": "c4499253"
      },
      "outputs": [],
      "source": [
        "layer = keras.layers.Dense(100, activation=\"selu\", kernel_initializer=\"lecun_normal\",\n",
        "                           kernel_constraint=keras.constraints.max_norm(1.))"
      ]
    },
    {
      "cell_type": "code",
      "execution_count": 125,
      "id": "e71e730f",
      "metadata": {
        "colab": {
          "base_uri": "https://localhost:8080/"
        },
        "execution": {
          "iopub.execute_input": "2021-10-10T02:00:19.988590Z",
          "iopub.status.busy": "2021-10-10T02:00:19.988066Z",
          "iopub.status.idle": "2021-10-10T02:00:31.439874Z",
          "shell.execute_reply": "2021-10-10T02:00:31.440249Z"
        },
        "id": "e71e730f",
        "outputId": "766fc6bc-3e2a-41b9-a68f-9a6fc7553ee7"
      },
      "outputs": [
        {
          "output_type": "stream",
          "name": "stdout",
          "text": [
            "Epoch 1/2\n",
            "1719/1719 [==============================] - 7s 4ms/step - loss: 0.4739 - accuracy: 0.8343 - val_loss: 0.3779 - val_accuracy: 0.8654\n",
            "Epoch 2/2\n",
            "1719/1719 [==============================] - 6s 4ms/step - loss: 0.3545 - accuracy: 0.8711 - val_loss: 0.3652 - val_accuracy: 0.8700\n"
          ]
        }
      ],
      "source": [
        "MaxNormDense = partial(keras.layers.Dense,\n",
        "                       activation=\"selu\", kernel_initializer=\"lecun_normal\",\n",
        "                       kernel_constraint=keras.constraints.max_norm(1.))\n",
        "\n",
        "model = keras.models.Sequential([\n",
        "    keras.layers.Flatten(input_shape=[28, 28]),\n",
        "    MaxNormDense(300),\n",
        "    MaxNormDense(100),\n",
        "    keras.layers.Dense(10, activation=\"softmax\")\n",
        "])\n",
        "model.compile(loss=\"sparse_categorical_crossentropy\", optimizer=\"nadam\", metrics=[\"accuracy\"])\n",
        "n_epochs = 2\n",
        "history = model.fit(X_train_scaled, y_train, epochs=n_epochs,\n",
        "                    validation_data=(X_valid_scaled, y_valid))"
      ]
    }
  ],
  "metadata": {
    "accelerator": "GPU",
    "colab": {
      "provenance": []
    },
    "kernelspec": {
      "display_name": "Python 3 (ipykernel)",
      "language": "python",
      "name": "python3"
    },
    "language_info": {
      "codemirror_mode": {
        "name": "ipython",
        "version": 3
      },
      "file_extension": ".py",
      "mimetype": "text/x-python",
      "name": "python",
      "nbconvert_exporter": "python",
      "pygments_lexer": "ipython3",
      "version": "3.7.3"
    },
    "nav_menu": {
      "height": "360px",
      "width": "416px"
    },
    "toc": {
      "navigate_menu": true,
      "number_sections": true,
      "sideBar": true,
      "threshold": 6,
      "toc_cell": false,
      "toc_section_display": "block",
      "toc_window_display": false
    }
  },
  "nbformat": 4,
  "nbformat_minor": 5
}