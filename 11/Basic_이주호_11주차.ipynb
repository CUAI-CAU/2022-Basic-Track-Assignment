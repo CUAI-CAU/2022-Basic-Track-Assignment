{
  "cells": [
    {
      "cell_type": "markdown",
      "id": "98c7592f",
      "metadata": {
        "id": "98c7592f"
      },
      "source": [
        "**11장 – 심층 신경망 훈련하기**"
      ]
    },
    {
      "cell_type": "markdown",
      "id": "60e82a4f",
      "metadata": {
        "id": "60e82a4f"
      },
      "source": [
        "_이 노트북은 11장에 있는 모든 샘플 코드와 연습문제 해답을 가지고 있습니다._"
      ]
    },
    {
      "cell_type": "markdown",
      "id": "d64f3e3e",
      "metadata": {
        "id": "d64f3e3e"
      },
      "source": [
        "<table align=\"left\">\n",
        "  <td>\n",
        "    <a target=\"_blank\" href=\"https://colab.research.google.com/github/rickiepark/handson-ml2/blob/master/11_training_deep_neural_networks.ipynb\"><img src=\"https://www.tensorflow.org/images/colab_logo_32px.png\" />구글 코랩에서 실행하기</a>\n",
        "  </td>\n",
        "</table>"
      ]
    },
    {
      "cell_type": "markdown",
      "id": "ac978c5c",
      "metadata": {
        "id": "ac978c5c"
      },
      "source": [
        "# 설정"
      ]
    },
    {
      "cell_type": "markdown",
      "id": "2587df6c",
      "metadata": {
        "id": "2587df6c"
      },
      "source": [
        "먼저 몇 개의 모듈을 임포트합니다. 맷플롯립 그래프를 인라인으로 출력하도록 만들고 그림을 저장하는 함수를 준비합니다. 또한 파이썬 버전이 3.5 이상인지 확인합니다(파이썬 2.x에서도 동작하지만 곧 지원이 중단되므로 파이썬 3을 사용하는 것이 좋습니다). 사이킷런 버전이 0.20 이상인지와 텐서플로 버전이 2.0 이상인지 확인합니다."
      ]
    },
    {
      "cell_type": "code",
      "execution_count": 2,
      "id": "3b742d72",
      "metadata": {
        "execution": {
          "iopub.execute_input": "2021-10-10T01:38:48.460540Z",
          "iopub.status.busy": "2021-10-10T01:38:48.459595Z",
          "iopub.status.idle": "2021-10-10T01:38:50.305510Z",
          "shell.execute_reply": "2021-10-10T01:38:50.304882Z"
        },
        "id": "3b742d72"
      },
      "outputs": [],
      "source": [
        "# 파이썬 ≥3.5 필수\n",
        "import sys\n",
        "assert sys.version_info >= (3, 5)\n",
        "\n",
        "# 사이킷런 ≥0.20 필수\n",
        "import sklearn\n",
        "assert sklearn.__version__ >= \"0.20\"\n",
        "\n",
        "# 텐서플로 ≥2.0 필수\n",
        "import tensorflow as tf\n",
        "from tensorflow import keras\n",
        "assert tf.__version__ >= \"2.0\"\n",
        "\n",
        "%load_ext tensorboard\n",
        "\n",
        "# 공통 모듈 임포트\n",
        "import numpy as np\n",
        "import os\n",
        "\n",
        "# 노트북 실행 결과를 동일하게 유지하기 위해\n",
        "np.random.seed(42)\n",
        "\n",
        "# 깔끔한 그래프 출력을 위해\n",
        "%matplotlib inline\n",
        "import matplotlib as mpl\n",
        "import matplotlib.pyplot as plt\n",
        "mpl.rc('axes', labelsize=14)\n",
        "mpl.rc('xtick', labelsize=12)\n",
        "mpl.rc('ytick', labelsize=12)\n",
        "\n",
        "# 그림을 저장할 위치\n",
        "PROJECT_ROOT_DIR = \".\"\n",
        "CHAPTER_ID = \"deep\"\n",
        "IMAGES_PATH = os.path.join(PROJECT_ROOT_DIR, \"images\", CHAPTER_ID)\n",
        "os.makedirs(IMAGES_PATH, exist_ok=True)\n",
        "\n",
        "def save_fig(fig_id, tight_layout=True, fig_extension=\"png\", resolution=300):\n",
        "    path = os.path.join(IMAGES_PATH, fig_id + \".\" + fig_extension)\n",
        "    print(\"그림 저장:\", fig_id)\n",
        "    if tight_layout:\n",
        "        plt.tight_layout()\n",
        "    plt.savefig(path, format=fig_extension, dpi=resolution)"
      ]
    },
    {
      "cell_type": "markdown",
      "id": "0c1608c4",
      "metadata": {
        "id": "0c1608c4"
      },
      "source": [
        "#11.1 그레이디언트 소실과 폭주 문제"
      ]
    },
    {
      "cell_type": "code",
      "execution_count": 3,
      "id": "23aaa4bf",
      "metadata": {
        "execution": {
          "iopub.execute_input": "2021-10-10T01:38:50.309533Z",
          "iopub.status.busy": "2021-10-10T01:38:50.309024Z",
          "iopub.status.idle": "2021-10-10T01:38:50.312073Z",
          "shell.execute_reply": "2021-10-10T01:38:50.311605Z"
        },
        "id": "23aaa4bf"
      },
      "outputs": [],
      "source": [
        "def logit(z):\n",
        "    return 1 / (1 + np.exp(-z))"
      ]
    },
    {
      "cell_type": "code",
      "execution_count": 4,
      "id": "311c5ece",
      "metadata": {
        "colab": {
          "base_uri": "https://localhost:8080/",
          "height": 315
        },
        "execution": {
          "iopub.execute_input": "2021-10-10T01:38:50.332774Z",
          "iopub.status.busy": "2021-10-10T01:38:50.331093Z",
          "iopub.status.idle": "2021-10-10T01:38:50.828592Z",
          "shell.execute_reply": "2021-10-10T01:38:50.828047Z"
        },
        "id": "311c5ece",
        "outputId": "82554b1e-1eff-4bd2-9316-96a871bb70fd"
      },
      "outputs": [
        {
          "output_type": "stream",
          "name": "stdout",
          "text": [
            "그림 저장: sigmoid_saturation_plot\n"
          ]
        },
        {
          "output_type": "display_data",
          "data": {
            "text/plain": [
              "<Figure size 432x288 with 1 Axes>"
            ],
            "image/png": "[encoded data removed]"
          },
          "metadata": {
            "needs_background": "light"
          }
        }
      ],
      "source": [
        "#로지스틱 활성화 함수(시그모이드)를 그리는 코드\n",
        "z = np.linspace(-5, 5, 200)\n",
        "#-5 ~ 5 200개의 간격으로 준비\n",
        "\n",
        "plt.plot([-5, 5], [0, 0], 'k-')\n",
        "plt.plot([-5, 5], [1, 1], 'k--')\n",
        "plt.plot([0, 0], [-0.2, 1.2], 'k-')\n",
        "plt.plot([-5, 5], [-3/4, 7/4], 'g--')\n",
        "plt.plot(z, logit(z), \"b-\", linewidth=2)\n",
        "props = dict(facecolor='black', shrink=0.1)\n",
        "plt.annotate('Saturating', xytext=(3.5, 0.7), xy=(5, 1), arrowprops=props, fontsize=14, ha=\"center\")\n",
        "plt.annotate('Saturating', xytext=(-3.5, 0.3), xy=(-5, 0), arrowprops=props, fontsize=14, ha=\"center\")\n",
        "plt.annotate('Linear', xytext=(2, 0.2), xy=(0, 0.5), arrowprops=props, fontsize=14, ha=\"center\")\n",
        "plt.grid(True)\n",
        "plt.title(\"Sigmoid activation function\", fontsize=14)\n",
        "plt.axis([-5, 5, -0.2, 1.2])\n",
        "\n",
        "save_fig(\"sigmoid_saturation_plot\")\n",
        "plt.show()"
      ]
    },
    {
      "cell_type": "markdown",
      "id": "554274f8",
      "metadata": {
        "id": "554274f8"
      },
      "source": [
        "## Xavier 초기화와 He 초기화"
      ]
    },
    {
      "cell_type": "code",
      "execution_count": 5,
      "id": "e9ae4771",
      "metadata": {
        "colab": {
          "base_uri": "https://localhost:8080/"
        },
        "execution": {
          "iopub.execute_input": "2021-10-10T01:38:50.833228Z",
          "iopub.status.busy": "2021-10-10T01:38:50.832616Z",
          "iopub.status.idle": "2021-10-10T01:38:51.066605Z",
          "shell.execute_reply": "2021-10-10T01:38:51.066207Z"
        },
        "id": "e9ae4771",
        "outputId": "75b59d1c-9d73-4775-b629-3b882f5cc83d"
      },
      "outputs": [
        {
          "output_type": "execute_result",
          "data": {
            "text/plain": [
              "['Constant',\n",
              " 'GlorotNormal',\n",
              " 'GlorotUniform',\n",
              " 'HeNormal',\n",
              " 'HeUniform',\n",
              " 'Identity',\n",
              " 'Initializer',\n",
              " 'LecunNormal',\n",
              " 'LecunUniform',\n",
              " 'Ones',\n",
              " 'Orthogonal',\n",
              " 'RandomNormal',\n",
              " 'RandomUniform',\n",
              " 'TruncatedNormal',\n",
              " 'VarianceScaling',\n",
              " 'Zeros',\n",
              " 'constant',\n",
              " 'deserialize',\n",
              " 'get',\n",
              " 'glorot_normal',\n",
              " 'glorot_uniform',\n",
              " 'he_normal',\n",
              " 'he_uniform',\n",
              " 'identity',\n",
              " 'lecun_normal',\n",
              " 'lecun_uniform',\n",
              " 'ones',\n",
              " 'orthogonal',\n",
              " 'random_normal',\n",
              " 'random_uniform',\n",
              " 'serialize',\n",
              " 'truncated_normal',\n",
              " 'variance_scaling',\n",
              " 'zeros']"
            ]
          },
          "metadata": {},
          "execution_count": 5
        }
      ],
      "source": [
        "[name for name in dir(keras.initializers) if not name.startswith(\"_\")]"
      ]
    },
    {
      "cell_type": "code",
      "execution_count": 6,
      "id": "4cd1bb45",
      "metadata": {
        "colab": {
          "base_uri": "https://localhost:8080/"
        },
        "execution": {
          "iopub.execute_input": "2021-10-10T01:38:51.069690Z",
          "iopub.status.busy": "2021-10-10T01:38:51.068919Z",
          "iopub.status.idle": "2021-10-10T01:38:51.079268Z",
          "shell.execute_reply": "2021-10-10T01:38:51.079684Z"
        },
        "id": "4cd1bb45",
        "outputId": "6944119a-dedb-4e8b-d16b-1b13adf9f705"
      },
      "outputs": [
        {
          "output_type": "execute_result",
          "data": {
            "text/plain": [
              "<keras.layers.core.dense.Dense at 0x7f53da139a90>"
            ]
          },
          "metadata": {},
          "execution_count": 6
        }
      ],
      "source": [
        "keras.layers.Dense(10, activation=\"relu\", kernel_initializer=\"he_normal\")"
      ]
    },
    {
      "cell_type": "code",
      "execution_count": 7,
      "id": "41fcc466",
      "metadata": {
        "colab": {
          "base_uri": "https://localhost:8080/"
        },
        "execution": {
          "iopub.execute_input": "2021-10-10T01:38:51.082808Z",
          "iopub.status.busy": "2021-10-10T01:38:51.081918Z",
          "iopub.status.idle": "2021-10-10T01:38:51.089362Z",
          "shell.execute_reply": "2021-10-10T01:38:51.088952Z"
        },
        "id": "41fcc466",
        "outputId": "d8ac9302-6974-47d1-d0b8-77646eea944f"
      },
      "outputs": [
        {
          "output_type": "execute_result",
          "data": {
            "text/plain": [
              "<keras.layers.core.dense.Dense at 0x7f53da126050>"
            ]
          },
          "metadata": {},
          "execution_count": 7
        }
      ],
      "source": [
        "init = keras.initializers.VarianceScaling(scale=2., mode='fan_avg',\n",
        "                                          distribution='uniform')\n",
        "keras.layers.Dense(10, activation=\"relu\", kernel_initializer=init)"
      ]
    },
    {
      "cell_type": "markdown",
      "id": "96bcf452",
      "metadata": {
        "id": "96bcf452"
      },
      "source": [
        "## 수렴하지 않는 활성화 함수"
      ]
    },
    {
      "cell_type": "markdown",
      "id": "f8f59f9e",
      "metadata": {
        "id": "f8f59f9e"
      },
      "source": [
        "아래는 LeakyReLU 의 그래프를 그리는 코드이다.\n",
        "<br>LeakyReLU는 0 이상으론 ReLU와 같으나, 0 이하론 매우 작은 기울기를 가지고있다."
      ]
    },
    {
      "cell_type": "code",
      "execution_count": 8,
      "id": "05495910",
      "metadata": {
        "execution": {
          "iopub.execute_input": "2021-10-10T01:38:51.093592Z",
          "iopub.status.busy": "2021-10-10T01:38:51.092825Z",
          "iopub.status.idle": "2021-10-10T01:38:51.095060Z",
          "shell.execute_reply": "2021-10-10T01:38:51.094664Z"
        },
        "id": "05495910"
      },
      "outputs": [],
      "source": [
        "def leaky_relu(z, alpha=0.01):\n",
        "    return np.maximum(alpha*z, z)"
      ]
    },
    {
      "cell_type": "code",
      "execution_count": 9,
      "id": "51324951",
      "metadata": {
        "colab": {
          "base_uri": "https://localhost:8080/",
          "height": 315
        },
        "execution": {
          "iopub.execute_input": "2021-10-10T01:38:51.115275Z",
          "iopub.status.busy": "2021-10-10T01:38:51.113109Z",
          "iopub.status.idle": "2021-10-10T01:38:51.472111Z",
          "shell.execute_reply": "2021-10-10T01:38:51.472494Z"
        },
        "id": "51324951",
        "outputId": "1d03490f-df20-48ac-e1a3-3566b9ca9cc7"
      },
      "outputs": [
        {
          "output_type": "stream",
          "name": "stdout",
          "text": [
            "그림 저장: leaky_relu_plot\n"
          ]
        },
        {
          "output_type": "display_data",
          "data": {
            "text/plain": [
              "<Figure size 432x288 with 1 Axes>"
            ],
            "image/png": "[encoded data removed]"
          },
          "metadata": {
            "needs_background": "light"
          }
        }
      ],
      "source": [
        "plt.plot(z, leaky_relu(z, 0.05), \"b-\", linewidth=2)\n",
        "plt.plot([-5, 5], [0, 0], 'k-')\n",
        "plt.plot([0, 0], [-0.5, 4.2], 'k-')\n",
        "plt.grid(True)\n",
        "props = dict(facecolor='black', shrink=0.1)\n",
        "plt.annotate('Leak', xytext=(-3.5, 0.5), xy=(-5, -0.2), arrowprops=props, fontsize=14, ha=\"center\")\n",
        "plt.title(\"Leaky ReLU activation function\", fontsize=14)\n",
        "plt.axis([-5, 5, -0.5, 4.2])\n",
        "\n",
        "save_fig(\"leaky_relu_plot\")\n",
        "plt.show()"
      ]
    },
    {
      "cell_type": "markdown",
      "source": [
        "아래는 ELU의 그래프를 그리는 코드이다.\n",
        "ELU의 식은 다음과 같다.\n",
        "<br>\n",
        "$$ELU_{\\alpha}(z) = \\big\\{\\begin{matrix}\n",
        "  \\alpha(\\exp(z)-1) \\quad(z < 0)\\\\\n",
        "  z \\quad(z \\geq 0)\n",
        "  \\end{matrix}$$\n",
        "<br>\n",
        "ELU 함수의 단점은 **지수함수를 사용하여 다른 활성화함수보다 느리다** 는 것이지만,**훈련시 수렴속도가 빨라** 이 점이 완화된다.\n",
        "<br> 대신 **테스트 시**엔 확실히 느리다.\n",
        "<br> 2017년에 소개된 ELU의 변종에 해당하는 **SELU**는 완전 연결층을 쌓고 모든 은닉층이 SELU를 사용했을떄 자기 정류화가 가능하다."
      ],
      "metadata": {
        "id": "PoJ9h-raqliT"
      },
      "id": "PoJ9h-raqliT"
    },
    {
      "cell_type": "code",
      "source": [
        "def elu(z, alpha=0.01):\n",
        "  return np.where(z < 0, alpha*(np.exp(z) - 1), z)"
      ],
      "metadata": {
        "id": "iO_6wVcXmU0i"
      },
      "id": "iO_6wVcXmU0i",
      "execution_count": 10,
      "outputs": []
    },
    {
      "cell_type": "code",
      "source": [
        "plt.plot(z, elu(z, 0.5), \"b-\", linewidth=2)\n",
        "plt.plot([-5, 5], [0, 0], 'k-')\n",
        "plt.plot([0, 0], [-0.5, 4.2], 'k-')\n",
        "plt.grid(True)\n",
        "props = dict(facecolor='black', shrink=0.1)\n",
        "plt.annotate('Leak', xytext=(-3.5, 0.5), xy=(-5, -0.2), arrowprops=props, fontsize=14, ha=\"center\")\n",
        "plt.title(\"eLU activation function\", fontsize=14)\n",
        "plt.axis([-5, 5, -0.5, 4.2])\n",
        "\n",
        "save_fig(\"elu_plot\")\n",
        "plt.show()"
      ],
      "metadata": {
        "colab": {
          "base_uri": "https://localhost:8080/",
          "height": 315
        },
        "id": "-yZ2RGMGsjDz",
        "outputId": "80e0466a-c445-4235-b7de-b8ab1cb777dd"
      },
      "id": "-yZ2RGMGsjDz",
      "execution_count": 11,
      "outputs": [
        {
          "output_type": "stream",
          "name": "stdout",
          "text": [
            "그림 저장: elu_plot\n"
          ]
        },
        {
          "output_type": "display_data",
          "data": {
            "text/plain": [
              "<Figure size 432x288 with 1 Axes>"
            ],
            "image/png": "[encoded data removed]"
          },
          "metadata": {
            "needs_background": "light"
          }
        }
      ]
    },
    {
      "cell_type": "code",
      "execution_count": 12,
      "id": "e9096e34",
      "metadata": {
        "colab": {
          "base_uri": "https://localhost:8080/"
        },
        "execution": {
          "iopub.execute_input": "2021-10-10T01:38:51.477786Z",
          "iopub.status.busy": "2021-10-10T01:38:51.477118Z",
          "iopub.status.idle": "2021-10-10T01:38:51.479835Z",
          "shell.execute_reply": "2021-10-10T01:38:51.480201Z"
        },
        "id": "e9096e34",
        "outputId": "4b3f7909-7537-4cec-9ad9-cc7f460cac5d"
      },
      "outputs": [
        {
          "output_type": "execute_result",
          "data": {
            "text/plain": [
              "['deserialize',\n",
              " 'elu',\n",
              " 'exponential',\n",
              " 'gelu',\n",
              " 'get',\n",
              " 'hard_sigmoid',\n",
              " 'linear',\n",
              " 'relu',\n",
              " 'selu',\n",
              " 'serialize',\n",
              " 'sigmoid',\n",
              " 'softmax',\n",
              " 'softplus',\n",
              " 'softsign',\n",
              " 'swish',\n",
              " 'tanh']"
            ]
          },
          "metadata": {},
          "execution_count": 12
        }
      ],
      "source": [
        "[m for m in dir(keras.activations) if not m.startswith(\"_\")]"
      ]
    },
    {
      "cell_type": "code",
      "execution_count": 13,
      "id": "53b492c3",
      "metadata": {
        "colab": {
          "base_uri": "https://localhost:8080/"
        },
        "execution": {
          "iopub.execute_input": "2021-10-10T01:38:51.484467Z",
          "iopub.status.busy": "2021-10-10T01:38:51.483860Z",
          "iopub.status.idle": "2021-10-10T01:38:51.487056Z",
          "shell.execute_reply": "2021-10-10T01:38:51.486549Z"
        },
        "id": "53b492c3",
        "outputId": "8c79dfeb-9f13-4d52-82e9-e35fa9cfb574"
      },
      "outputs": [
        {
          "output_type": "execute_result",
          "data": {
            "text/plain": [
              "['LeakyReLU', 'PReLU', 'ReLU', 'ThresholdedReLU']"
            ]
          },
          "metadata": {},
          "execution_count": 13
        }
      ],
      "source": [
        "[m for m in dir(keras.layers) if \"relu\" in m.lower()]"
      ]
    },
    {
      "cell_type": "markdown",
      "id": "d0423ff4",
      "metadata": {
        "id": "d0423ff4"
      },
      "source": [
        "LeakyReLU를 사용해 패션 MNIST에서 신경망을 훈련해 보죠:"
      ]
    },
    {
      "cell_type": "code",
      "execution_count": 14,
      "id": "e8d26b2f",
      "metadata": {
        "execution": {
          "iopub.execute_input": "2021-10-10T01:38:51.491570Z",
          "iopub.status.busy": "2021-10-10T01:38:51.490837Z",
          "iopub.status.idle": "2021-10-10T01:38:52.134589Z",
          "shell.execute_reply": "2021-10-10T01:38:52.135056Z"
        },
        "id": "e8d26b2f",
        "colab": {
          "base_uri": "https://localhost:8080/"
        },
        "outputId": "0e9cf083-0c5c-4808-8398-8ee88826628d"
      },
      "outputs": [
        {
          "output_type": "stream",
          "name": "stdout",
          "text": [
            "Downloading data from https://storage.googleapis.com/tensorflow/tf-keras-datasets/train-labels-idx1-ubyte.gz\n",
            "32768/29515 [=================================] - 0s 0us/step\n",
            "40960/29515 [=========================================] - 0s 0us/step\n",
            "Downloading data from https://storage.googleapis.com/tensorflow/tf-keras-datasets/train-images-idx3-ubyte.gz\n",
            "26427392/26421880 [==============================] - 0s 0us/step\n",
            "26435584/26421880 [==============================] - 0s 0us/step\n",
            "Downloading data from https://storage.googleapis.com/tensorflow/tf-keras-datasets/t10k-labels-idx1-ubyte.gz\n",
            "16384/5148 [===============================================================================================] - 0s 0us/step\n",
            "Downloading data from https://storage.googleapis.com/tensorflow/tf-keras-datasets/t10k-images-idx3-ubyte.gz\n",
            "4423680/4422102 [==============================] - 0s 0us/step\n",
            "4431872/4422102 [==============================] - 0s 0us/step\n"
          ]
        }
      ],
      "source": [
        "(X_train_full, y_train_full), (X_test, y_test) = keras.datasets.fashion_mnist.load_data()\n",
        "X_train_full = X_train_full / 255.0\n",
        "X_test = X_test / 255.0\n",
        "X_valid, X_train = X_train_full[:5000], X_train_full[5000:]\n",
        "y_valid, y_train = y_train_full[:5000], y_train_full[5000:]"
      ]
    },
    {
      "cell_type": "code",
      "execution_count": 15,
      "id": "544a464a",
      "metadata": {
        "execution": {
          "iopub.execute_input": "2021-10-10T01:38:52.138875Z",
          "iopub.status.busy": "2021-10-10T01:38:52.137680Z",
          "iopub.status.idle": "2021-10-10T01:38:52.183038Z",
          "shell.execute_reply": "2021-10-10T01:38:52.183455Z"
        },
        "id": "544a464a"
      },
      "outputs": [],
      "source": [
        "tf.random.set_seed(42)\n",
        "np.random.seed(42)\n",
        "\n",
        "model = keras.models.Sequential([\n",
        "    keras.layers.Flatten(input_shape=[28, 28]),\n",
        "    keras.layers.Dense(300, kernel_initializer=\"he_normal\"),\n",
        "    keras.layers.LeakyReLU(),\n",
        "    # 케라스에서 LeakyReLU를 사용하기 위해선 적용하고자 하는 은닉층 뒤에 LeakyRelu()층을 쌓아주면 된다.\n",
        "    # SELU는 keras.activation = \"selu\", kernel_initializer = \"lecun_normal\" 로 수정하여 사용한다.\n",
        "    keras.layers.Dense(100, kernel_initializer=\"he_normal\"),\n",
        "    keras.layers.LeakyReLU(),\n",
        "    keras.layers.Dense(10, activation=\"softmax\")\n",
        "])"
      ]
    },
    {
      "cell_type": "code",
      "execution_count": 16,
      "id": "ab3a5e0e",
      "metadata": {
        "execution": {
          "iopub.execute_input": "2021-10-10T01:38:52.188151Z",
          "iopub.status.busy": "2021-10-10T01:38:52.187685Z",
          "iopub.status.idle": "2021-10-10T01:38:52.196173Z",
          "shell.execute_reply": "2021-10-10T01:38:52.196553Z"
        },
        "id": "ab3a5e0e"
      },
      "outputs": [],
      "source": [
        "model.compile(loss=\"sparse_categorical_crossentropy\",\n",
        "              optimizer=keras.optimizers.SGD(learning_rate=1e-3),\n",
        "              metrics=[\"accuracy\"])"
      ]
    },
    {
      "cell_type": "code",
      "execution_count": 17,
      "id": "d53fe85f",
      "metadata": {
        "colab": {
          "base_uri": "https://localhost:8080/"
        },
        "execution": {
          "iopub.execute_input": "2021-10-10T01:38:52.199552Z",
          "iopub.status.busy": "2021-10-10T01:38:52.199069Z",
          "iopub.status.idle": "2021-10-10T01:39:25.601210Z",
          "shell.execute_reply": "2021-10-10T01:39:25.601692Z"
        },
        "id": "d53fe85f",
        "outputId": "995675b1-5025-4e6b-d468-0f6c8f86384a",
        "scrolled": true
      },
      "outputs": [
        {
          "output_type": "stream",
          "name": "stdout",
          "text": [
            "Epoch 1/10\n",
            "1719/1719 [==============================] - 8s 3ms/step - loss: 1.2819 - accuracy: 0.6229 - val_loss: 0.8886 - val_accuracy: 0.7160\n",
            "Epoch 2/10\n",
            "1719/1719 [==============================] - 5s 3ms/step - loss: 0.7955 - accuracy: 0.7361 - val_loss: 0.7130 - val_accuracy: 0.7658\n",
            "Epoch 3/10\n",
            "1719/1719 [==============================] - 5s 3ms/step - loss: 0.6816 - accuracy: 0.7720 - val_loss: 0.6427 - val_accuracy: 0.7898\n",
            "Epoch 4/10\n",
            "1719/1719 [==============================] - 5s 3ms/step - loss: 0.6217 - accuracy: 0.7944 - val_loss: 0.5900 - val_accuracy: 0.8066\n",
            "Epoch 5/10\n",
            "1719/1719 [==============================] - 5s 3ms/step - loss: 0.5832 - accuracy: 0.8074 - val_loss: 0.5582 - val_accuracy: 0.8200\n",
            "Epoch 6/10\n",
            "1719/1719 [==============================] - 5s 3ms/step - loss: 0.5553 - accuracy: 0.8156 - val_loss: 0.5350 - val_accuracy: 0.8238\n",
            "Epoch 7/10\n",
            "1719/1719 [==============================] - 5s 3ms/step - loss: 0.5338 - accuracy: 0.8225 - val_loss: 0.5157 - val_accuracy: 0.8302\n",
            "Epoch 8/10\n",
            "1719/1719 [==============================] - 5s 3ms/step - loss: 0.5172 - accuracy: 0.8273 - val_loss: 0.5079 - val_accuracy: 0.8288\n",
            "Epoch 9/10\n",
            "1719/1719 [==============================] - 5s 3ms/step - loss: 0.5040 - accuracy: 0.8289 - val_loss: 0.4895 - val_accuracy: 0.8390\n",
            "Epoch 10/10\n",
            "1719/1719 [==============================] - 5s 3ms/step - loss: 0.4924 - accuracy: 0.8320 - val_loss: 0.4817 - val_accuracy: 0.8394\n"
          ]
        }
      ],
      "source": [
        "history = model.fit(X_train, y_train, epochs=10,\n",
        "                    validation_data=(X_valid, y_valid))"
      ]
    },
    {
      "cell_type": "markdown",
      "id": "aac165c0",
      "metadata": {
        "id": "aac165c0"
      },
      "source": [
        "PReLU를 테스트해 보죠:"
      ]
    },
    {
      "cell_type": "code",
      "execution_count": 18,
      "id": "be0b9842",
      "metadata": {
        "execution": {
          "iopub.execute_input": "2021-10-10T01:39:25.612504Z",
          "iopub.status.busy": "2021-10-10T01:39:25.609687Z",
          "iopub.status.idle": "2021-10-10T01:39:25.647517Z",
          "shell.execute_reply": "2021-10-10T01:39:25.647024Z"
        },
        "id": "be0b9842"
      },
      "outputs": [],
      "source": [
        "tf.random.set_seed(42)\n",
        "np.random.seed(42)\n",
        "\n",
        "model = keras.models.Sequential([\n",
        "    keras.layers.Flatten(input_shape=[28, 28]),\n",
        "    keras.layers.Dense(300, kernel_initializer=\"he_normal\"),\n",
        "    keras.layers.PReLU(),\n",
        "    keras.layers.Dense(100, kernel_initializer=\"he_normal\"),\n",
        "    keras.layers.PReLU(),\n",
        "    keras.layers.Dense(10, activation=\"softmax\")\n",
        "])"
      ]
    },
    {
      "cell_type": "code",
      "execution_count": 19,
      "id": "b29dc5b4",
      "metadata": {
        "execution": {
          "iopub.execute_input": "2021-10-10T01:39:25.653376Z",
          "iopub.status.busy": "2021-10-10T01:39:25.652888Z",
          "iopub.status.idle": "2021-10-10T01:39:25.657907Z",
          "shell.execute_reply": "2021-10-10T01:39:25.658260Z"
        },
        "id": "b29dc5b4"
      },
      "outputs": [],
      "source": [
        "model.compile(loss=\"sparse_categorical_crossentropy\",\n",
        "              optimizer=keras.optimizers.SGD(learning_rate=1e-3),\n",
        "              metrics=[\"accuracy\"])"
      ]
    },
    {
      "cell_type": "code",
      "execution_count": 20,
      "id": "f5605421",
      "metadata": {
        "colab": {
          "base_uri": "https://localhost:8080/"
        },
        "execution": {
          "iopub.execute_input": "2021-10-10T01:39:25.662822Z",
          "iopub.status.busy": "2021-10-10T01:39:25.661910Z",
          "iopub.status.idle": "2021-10-10T01:40:02.780206Z",
          "shell.execute_reply": "2021-10-10T01:40:02.780614Z"
        },
        "id": "f5605421",
        "outputId": "4f5d8ca9-31c0-4169-e6b5-5568ad725a2b"
      },
      "outputs": [
        {
          "output_type": "stream",
          "name": "stdout",
          "text": [
            "Epoch 1/10\n",
            "1719/1719 [==============================] - 6s 3ms/step - loss: 1.3461 - accuracy: 0.6209 - val_loss: 0.9255 - val_accuracy: 0.7186\n",
            "Epoch 2/10\n",
            "1719/1719 [==============================] - 5s 3ms/step - loss: 0.8197 - accuracy: 0.7356 - val_loss: 0.7305 - val_accuracy: 0.7628\n",
            "Epoch 3/10\n",
            "1719/1719 [==============================] - 5s 3ms/step - loss: 0.6966 - accuracy: 0.7693 - val_loss: 0.6565 - val_accuracy: 0.7880\n",
            "Epoch 4/10\n",
            "1719/1719 [==============================] - 5s 3ms/step - loss: 0.6331 - accuracy: 0.7909 - val_loss: 0.6004 - val_accuracy: 0.8046\n",
            "Epoch 5/10\n",
            "1719/1719 [==============================] - 5s 3ms/step - loss: 0.5917 - accuracy: 0.8058 - val_loss: 0.5656 - val_accuracy: 0.8182\n",
            "Epoch 6/10\n",
            "1719/1719 [==============================] - 5s 3ms/step - loss: 0.5618 - accuracy: 0.8135 - val_loss: 0.5406 - val_accuracy: 0.8238\n",
            "Epoch 7/10\n",
            "1719/1719 [==============================] - 5s 3ms/step - loss: 0.5390 - accuracy: 0.8206 - val_loss: 0.5197 - val_accuracy: 0.8312\n",
            "Epoch 8/10\n",
            "1719/1719 [==============================] - 5s 3ms/step - loss: 0.5213 - accuracy: 0.8257 - val_loss: 0.5113 - val_accuracy: 0.8316\n",
            "Epoch 9/10\n",
            "1719/1719 [==============================] - 5s 3ms/step - loss: 0.5070 - accuracy: 0.8288 - val_loss: 0.4916 - val_accuracy: 0.8378\n",
            "Epoch 10/10\n",
            "1719/1719 [==============================] - 5s 3ms/step - loss: 0.4945 - accuracy: 0.8315 - val_loss: 0.4826 - val_accuracy: 0.8398\n"
          ]
        }
      ],
      "source": [
        "history = model.fit(X_train, y_train, epochs=10,\n",
        "                    validation_data=(X_valid, y_valid))"
      ]
    },
    {
      "cell_type": "markdown",
      "id": "12ed519a",
      "metadata": {
        "id": "12ed519a"
      },
      "source": [
        "### ELU"
      ]
    },
    {
      "cell_type": "code",
      "execution_count": 21,
      "id": "c4b29c37",
      "metadata": {
        "execution": {
          "iopub.execute_input": "2021-10-10T01:40:02.783470Z",
          "iopub.status.busy": "2021-10-10T01:40:02.782940Z",
          "iopub.status.idle": "2021-10-10T01:40:02.786174Z",
          "shell.execute_reply": "2021-10-10T01:40:02.786530Z"
        },
        "id": "c4b29c37"
      },
      "outputs": [],
      "source": [
        "def elu(z, alpha=1):\n",
        "    return np.where(z < 0, alpha * (np.exp(z) - 1), z)"
      ]
    },
    {
      "cell_type": "code",
      "execution_count": 22,
      "id": "ba9352d6",
      "metadata": {
        "colab": {
          "base_uri": "https://localhost:8080/",
          "height": 0
        },
        "execution": {
          "iopub.execute_input": "2021-10-10T01:40:02.789002Z",
          "iopub.status.busy": "2021-10-10T01:40:02.788539Z",
          "iopub.status.idle": "2021-10-10T01:40:03.203810Z",
          "shell.execute_reply": "2021-10-10T01:40:03.204222Z"
        },
        "id": "ba9352d6",
        "outputId": "5019daa8-9538-43d2-81c2-32bfc752dba7"
      },
      "outputs": [
        {
          "output_type": "stream",
          "name": "stdout",
          "text": [
            "그림 저장: elu_plot\n"
          ]
        },
        {
          "output_type": "display_data",
          "data": {
            "text/plain": [
              "<Figure size 432x288 with 1 Axes>"
            ],
            "image/png": "[encoded data removed]"
          },
          "metadata": {
            "needs_background": "light"
          }
        }
      ],
      "source": [
        "plt.plot(z, elu(z), \"b-\", linewidth=2)\n",
        "plt.plot([-5, 5], [0, 0], 'k-')\n",
        "plt.plot([-5, 5], [-1, -1], 'k--')\n",
        "plt.plot([0, 0], [-2.2, 3.2], 'k-')\n",
        "plt.grid(True)\n",
        "plt.title(r\"ELU activation function ($\\alpha=1$)\", fontsize=14)\n",
        "plt.axis([-5, 5, -2.2, 3.2])\n",
        "\n",
        "save_fig(\"elu_plot\")\n",
        "plt.show()"
      ]
    },
    {
      "cell_type": "markdown",
      "id": "4d2deb70",
      "metadata": {
        "id": "4d2deb70"
      },
      "source": [
        "텐서플로에서 쉽게 ELU를 적용할 수 있습니다. 층을 만들 때 활성화 함수로 지정하면 됩니다:"
      ]
    },
    {
      "cell_type": "code",
      "execution_count": 23,
      "id": "f8fa1983",
      "metadata": {
        "colab": {
          "base_uri": "https://localhost:8080/"
        },
        "execution": {
          "iopub.execute_input": "2021-10-10T01:40:03.206818Z",
          "iopub.status.busy": "2021-10-10T01:40:03.206357Z",
          "iopub.status.idle": "2021-10-10T01:40:03.210866Z",
          "shell.execute_reply": "2021-10-10T01:40:03.211283Z"
        },
        "id": "f8fa1983",
        "outputId": "b95d0249-532b-490e-842e-e4ce70adffe7"
      },
      "outputs": [
        {
          "output_type": "execute_result",
          "data": {
            "text/plain": [
              "<keras.layers.core.dense.Dense at 0x7f53da1e3090>"
            ]
          },
          "metadata": {},
          "execution_count": 23
        }
      ],
      "source": [
        "keras.layers.Dense(10, activation=\"elu\")"
      ]
    },
    {
      "cell_type": "markdown",
      "id": "a31ab87d",
      "metadata": {
        "id": "a31ab87d"
      },
      "source": [
        "### SELU"
      ]
    },
    {
      "cell_type": "markdown",
      "id": "02124728",
      "metadata": {
        "id": "02124728"
      },
      "source": [
        "Günter Klambauer, Thomas Unterthiner, Andreas Mayr는 2017년 한 [훌륭한 논문](https://arxiv.org/pdf/1706.02515.pdf)에서 SELU 활성화 함수를 소개했습니다. 훈련하는 동안 완전 연결 층만 쌓아서 신경망을 만들고 SELU 활성화 함수와 LeCun 초기화를 사용한다면 자기 정규화됩니다. 각 층의 출력이 평균과\n",
        "표준편차를 보존하는 경향이 있습니다. 이는 그레이디언트 소실과 폭주 문제를 막아줍니다. 그 결과로 SELU 활성화 함수는 이런 종류의 네트워크(특히 아주 깊은 네트워크)에서 다른 활성화 함수보다 뛰어난 성능을 종종 냅니다. 따라서 꼭 시도해 봐야 합니다. 하지만 SELU 활성화 함수의 자기 정규화 특징은 쉽게 깨집니다. ℓ<sub>1</sub>나 ℓ<sub>2</sub> 정규화, 드롭아웃, 맥스 노름, 스킵 연결이나 시퀀셜하지 않은 다른 토폴로지를 사용할 수 없습니다(즉 순환 신경망은 자기 정규화되지 않습니다). 하지만 실전에서 시퀀셜 CNN과 잘 동작합니다. 자기 정규화가 깨지면 SELU가 다른 활성화 함수보다 더 나은 성능을 내지 않을 것입니다."
      ]
    },
    {
      "cell_type": "code",
      "execution_count": 24,
      "id": "b80ad1b3",
      "metadata": {
        "execution": {
          "iopub.execute_input": "2021-10-10T01:40:03.213673Z",
          "iopub.status.busy": "2021-10-10T01:40:03.213180Z",
          "iopub.status.idle": "2021-10-10T01:40:03.217737Z",
          "shell.execute_reply": "2021-10-10T01:40:03.218145Z"
        },
        "id": "b80ad1b3"
      },
      "outputs": [],
      "source": [
        "from scipy.special import erfc\n",
        "\n",
        "# alpha와 scale은 평균 0과 표준 편차 1로 자기 정규화합니다\n",
        "# (논문에 있는 식 14 참조):\n",
        "alpha_0_1 = -np.sqrt(2 / np.pi) / (erfc(1/np.sqrt(2)) * np.exp(1/2) - 1)\n",
        "scale_0_1 = (1 - erfc(1 / np.sqrt(2)) * np.sqrt(np.e)) * np.sqrt(2 * np.pi) * (2 * erfc(np.sqrt(2))*np.e**2 + np.pi*erfc(1/np.sqrt(2))**2*np.e - 2*(2+np.pi)*erfc(1/np.sqrt(2))*np.sqrt(np.e)+np.pi+2)**(-1/2)"
      ]
    },
    {
      "cell_type": "code",
      "execution_count": 25,
      "id": "03790259",
      "metadata": {
        "execution": {
          "iopub.execute_input": "2021-10-10T01:40:03.221270Z",
          "iopub.status.busy": "2021-10-10T01:40:03.220422Z",
          "iopub.status.idle": "2021-10-10T01:40:03.223128Z",
          "shell.execute_reply": "2021-10-10T01:40:03.223501Z"
        },
        "id": "03790259"
      },
      "outputs": [],
      "source": [
        "def selu(z, scale=scale_0_1, alpha=alpha_0_1):\n",
        "    return scale * elu(z, alpha)"
      ]
    },
    {
      "cell_type": "code",
      "execution_count": 26,
      "id": "fd534656",
      "metadata": {
        "colab": {
          "base_uri": "https://localhost:8080/",
          "height": 0
        },
        "execution": {
          "iopub.execute_input": "2021-10-10T01:40:03.241211Z",
          "iopub.status.busy": "2021-10-10T01:40:03.240655Z",
          "iopub.status.idle": "2021-10-10T01:40:03.533608Z",
          "shell.execute_reply": "2021-10-10T01:40:03.533982Z"
        },
        "id": "fd534656",
        "outputId": "182507ef-ab3e-4471-daa3-2db14f1dc868"
      },
      "outputs": [
        {
          "output_type": "stream",
          "name": "stdout",
          "text": [
            "그림 저장: selu_plot\n"
          ]
        },
        {
          "output_type": "display_data",
          "data": {
            "text/plain": [
              "<Figure size 432x288 with 1 Axes>"
            ],
            "image/png": "[encoded data removed]"
          },
          "metadata": {
            "needs_background": "light"
          }
        }
      ],
      "source": [
        "plt.plot(z, selu(z), \"b-\", linewidth=2)\n",
        "plt.plot([-5, 5], [0, 0], 'k-')\n",
        "plt.plot([-5, 5], [-1.758, -1.758], 'k--')\n",
        "plt.plot([0, 0], [-2.2, 3.2], 'k-')\n",
        "plt.grid(True)\n",
        "plt.title(\"SELU activation function\", fontsize=14)\n",
        "plt.axis([-5, 5, -2.2, 3.2])\n",
        "\n",
        "save_fig(\"selu_plot\")\n",
        "plt.show()"
      ]
    },
    {
      "cell_type": "markdown",
      "id": "f2175cbc",
      "metadata": {
        "id": "f2175cbc"
      },
      "source": [
        "기본적으로 SELU 하이퍼파라미터(`scale`과 `alpha`)는 각 뉴런의 평균 출력이 0에 가깝고 표준 편차는 1에 가깝도록 조정됩니다(입력은 평균이 0이고 표준 편차 1로 표준화되었다고 가정합니다). 이 활성화 함수를 사용하면 1,000개의 층이 있는 심층 신경망도 모든 층에 걸쳐 거의 평균이 0이고 표준 편차를 1로 유지합니다. 이를 통해 그레이디언트 폭주와 소실 문제를 피할 수 있습니다:"
      ]
    },
    {
      "cell_type": "code",
      "execution_count": 27,
      "id": "141c7123",
      "metadata": {
        "colab": {
          "base_uri": "https://localhost:8080/"
        },
        "execution": {
          "iopub.execute_input": "2021-10-10T01:40:03.539386Z",
          "iopub.status.busy": "2021-10-10T01:40:03.538932Z",
          "iopub.status.idle": "2021-10-10T01:40:07.250188Z",
          "shell.execute_reply": "2021-10-10T01:40:07.251429Z"
        },
        "id": "141c7123",
        "outputId": "98182fbc-aada-4a13-8222-86f8042855d5"
      },
      "outputs": [
        {
          "output_type": "stream",
          "name": "stdout",
          "text": [
            "Layer 0: mean -0.00, std deviation 1.00\n",
            "Layer 100: mean 0.02, std deviation 0.96\n",
            "Layer 200: mean 0.01, std deviation 0.90\n",
            "Layer 300: mean -0.02, std deviation 0.92\n",
            "Layer 400: mean 0.05, std deviation 0.89\n",
            "Layer 500: mean 0.01, std deviation 0.93\n",
            "Layer 600: mean 0.02, std deviation 0.92\n",
            "Layer 700: mean -0.02, std deviation 0.90\n",
            "Layer 800: mean 0.05, std deviation 0.83\n",
            "Layer 900: mean 0.02, std deviation 1.00\n"
          ]
        }
      ],
      "source": [
        "np.random.seed(42)\n",
        "Z = np.random.normal(size=(500, 100)) # 표준화된 입력\n",
        "for layer in range(1000):\n",
        "    W = np.random.normal(size=(100, 100), scale=np.sqrt(1 / 100)) # LeCun 초기화\n",
        "    Z = selu(np.dot(Z, W))\n",
        "    means = np.mean(Z, axis=0).mean()\n",
        "    stds = np.std(Z, axis=0).mean()\n",
        "    if layer % 100 == 0:\n",
        "        print(\"Layer {}: mean {:.2f}, std deviation {:.2f}\".format(layer, means, stds))"
      ]
    },
    {
      "cell_type": "markdown",
      "id": "5011c95e",
      "metadata": {
        "id": "5011c95e"
      },
      "source": [
        "쉽게 SELU를 사용할 수 있습니다:"
      ]
    },
    {
      "cell_type": "code",
      "execution_count": 28,
      "id": "3dadf4d2",
      "metadata": {
        "colab": {
          "base_uri": "https://localhost:8080/"
        },
        "execution": {
          "iopub.execute_input": "2021-10-10T01:40:07.257295Z",
          "iopub.status.busy": "2021-10-10T01:40:07.255545Z",
          "iopub.status.idle": "2021-10-10T01:40:07.269371Z",
          "shell.execute_reply": "2021-10-10T01:40:07.270536Z"
        },
        "id": "3dadf4d2",
        "outputId": "58641635-ae03-4cb2-8535-028beb3b714d"
      },
      "outputs": [
        {
          "output_type": "execute_result",
          "data": {
            "text/plain": [
              "<keras.layers.core.dense.Dense at 0x7f53c016e190>"
            ]
          },
          "metadata": {},
          "execution_count": 28
        }
      ],
      "source": [
        "keras.layers.Dense(10, activation=\"selu\",\n",
        "                   kernel_initializer=\"lecun_normal\")"
      ]
    },
    {
      "cell_type": "markdown",
      "id": "4c33c252",
      "metadata": {
        "id": "4c33c252"
      },
      "source": [
        "100개의 은닉층과 SELU 활성화 함수를 사용한 패션 MNIST를 위한 신경망을 만들어 보죠:"
      ]
    },
    {
      "cell_type": "code",
      "execution_count": 29,
      "id": "23635697",
      "metadata": {
        "execution": {
          "iopub.execute_input": "2021-10-10T01:40:07.275974Z",
          "iopub.status.busy": "2021-10-10T01:40:07.274312Z",
          "iopub.status.idle": "2021-10-10T01:40:07.283888Z",
          "shell.execute_reply": "2021-10-10T01:40:07.285055Z"
        },
        "id": "23635697"
      },
      "outputs": [],
      "source": [
        "np.random.seed(42)\n",
        "tf.random.set_seed(42)"
      ]
    },
    {
      "cell_type": "code",
      "execution_count": 30,
      "id": "d663b5a8",
      "metadata": {
        "execution": {
          "iopub.execute_input": "2021-10-10T01:40:07.291458Z",
          "iopub.status.busy": "2021-10-10T01:40:07.289894Z",
          "iopub.status.idle": "2021-10-10T01:40:08.085708Z",
          "shell.execute_reply": "2021-10-10T01:40:08.086330Z"
        },
        "id": "d663b5a8"
      },
      "outputs": [],
      "source": [
        "model = keras.models.Sequential()\n",
        "model.add(keras.layers.Flatten(input_shape=[28, 28]))\n",
        "model.add(keras.layers.Dense(300, activation=\"selu\",\n",
        "                             kernel_initializer=\"lecun_normal\"))\n",
        "for layer in range(99):\n",
        "    model.add(keras.layers.Dense(100, activation=\"selu\",\n",
        "                                 kernel_initializer=\"lecun_normal\"))\n",
        "model.add(keras.layers.Dense(10, activation=\"softmax\"))"
      ]
    },
    {
      "cell_type": "code",
      "execution_count": 31,
      "id": "6efec7df",
      "metadata": {
        "execution": {
          "iopub.execute_input": "2021-10-10T01:40:08.089221Z",
          "iopub.status.busy": "2021-10-10T01:40:08.088664Z",
          "iopub.status.idle": "2021-10-10T01:40:08.095267Z",
          "shell.execute_reply": "2021-10-10T01:40:08.095829Z"
        },
        "id": "6efec7df"
      },
      "outputs": [],
      "source": [
        "model.compile(loss=\"sparse_categorical_crossentropy\",\n",
        "              optimizer=keras.optimizers.SGD(learning_rate=1e-3),\n",
        "              metrics=[\"accuracy\"])"
      ]
    },
    {
      "cell_type": "markdown",
      "id": "4c422a54",
      "metadata": {
        "id": "4c422a54"
      },
      "source": [
        "이제 훈련해 보죠. 입력을 평균 0과 표준 편차 1로 바꾸어야 한다는 것을 잊지 마세요:"
      ]
    },
    {
      "cell_type": "code",
      "execution_count": 32,
      "id": "7b2c3016",
      "metadata": {
        "execution": {
          "iopub.execute_input": "2021-10-10T01:40:08.098323Z",
          "iopub.status.busy": "2021-10-10T01:40:08.097870Z",
          "iopub.status.idle": "2021-10-10T01:40:08.654523Z",
          "shell.execute_reply": "2021-10-10T01:40:08.654961Z"
        },
        "id": "7b2c3016"
      },
      "outputs": [],
      "source": [
        "pixel_means = X_train.mean(axis=0, keepdims=True)\n",
        "pixel_stds = X_train.std(axis=0, keepdims=True)\n",
        "X_train_scaled = (X_train - pixel_means) / pixel_stds\n",
        "X_valid_scaled = (X_valid - pixel_means) / pixel_stds\n",
        "X_test_scaled = (X_test - pixel_means) / pixel_stds"
      ]
    },
    {
      "cell_type": "code",
      "execution_count": 33,
      "id": "2bbf68a5",
      "metadata": {
        "colab": {
          "base_uri": "https://localhost:8080/"
        },
        "execution": {
          "iopub.execute_input": "2021-10-10T01:40:08.657500Z",
          "iopub.status.busy": "2021-10-10T01:40:08.657029Z",
          "iopub.status.idle": "2021-10-10T01:42:09.522758Z",
          "shell.execute_reply": "2021-10-10T01:42:09.521960Z"
        },
        "id": "2bbf68a5",
        "outputId": "5ee3da35-6f06-4bd1-df44-38171c62d7ac"
      },
      "outputs": [
        {
          "output_type": "stream",
          "name": "stdout",
          "text": [
            "Epoch 1/5\n",
            "1719/1719 [==============================] - 22s 11ms/step - loss: 1.4936 - accuracy: 0.4341 - val_loss: 1.3508 - val_accuracy: 0.4598\n",
            "Epoch 2/5\n",
            "1719/1719 [==============================] - 18s 11ms/step - loss: 1.3433 - accuracy: 0.4838 - val_loss: 0.9684 - val_accuracy: 0.6240\n",
            "Epoch 3/5\n",
            "1719/1719 [==============================] - 19s 11ms/step - loss: 0.9441 - accuracy: 0.6374 - val_loss: 0.8252 - val_accuracy: 0.7002\n",
            "Epoch 4/5\n",
            "1719/1719 [==============================] - 18s 11ms/step - loss: 0.7831 - accuracy: 0.7036 - val_loss: 0.7743 - val_accuracy: 0.7188\n",
            "Epoch 5/5\n",
            "1719/1719 [==============================] - 19s 11ms/step - loss: 0.7337 - accuracy: 0.7264 - val_loss: 0.7259 - val_accuracy: 0.7376\n"
          ]
        }
      ],
      "source": [
        "history = model.fit(X_train_scaled, y_train, epochs=5,\n",
        "                    validation_data=(X_valid_scaled, y_valid))"
      ]
    },
    {
      "cell_type": "markdown",
      "id": "bb46e1bd",
      "metadata": {
        "id": "bb46e1bd"
      },
      "source": [
        "대신 ReLU 활성화 함수를 사용하면 어떤 일이 일어나는지 확인해 보죠:"
      ]
    },
    {
      "cell_type": "code",
      "execution_count": 34,
      "id": "c837991b",
      "metadata": {
        "execution": {
          "iopub.execute_input": "2021-10-10T01:42:09.541494Z",
          "iopub.status.busy": "2021-10-10T01:42:09.540952Z",
          "iopub.status.idle": "2021-10-10T01:42:09.543422Z",
          "shell.execute_reply": "2021-10-10T01:42:09.543033Z"
        },
        "id": "c837991b"
      },
      "outputs": [],
      "source": [
        "np.random.seed(42)\n",
        "tf.random.set_seed(42)"
      ]
    },
    {
      "cell_type": "code",
      "execution_count": 35,
      "id": "bb550fbb",
      "metadata": {
        "execution": {
          "iopub.execute_input": "2021-10-10T01:42:09.549347Z",
          "iopub.status.busy": "2021-10-10T01:42:09.548879Z",
          "iopub.status.idle": "2021-10-10T01:42:10.308513Z",
          "shell.execute_reply": "2021-10-10T01:42:10.308977Z"
        },
        "id": "bb550fbb"
      },
      "outputs": [],
      "source": [
        "model = keras.models.Sequential()\n",
        "model.add(keras.layers.Flatten(input_shape=[28, 28]))\n",
        "model.add(keras.layers.Dense(300, activation=\"relu\", kernel_initializer=\"he_normal\"))\n",
        "for layer in range(99):\n",
        "    model.add(keras.layers.Dense(100, activation=\"relu\", kernel_initializer=\"he_normal\"))\n",
        "model.add(keras.layers.Dense(10, activation=\"softmax\"))"
      ]
    },
    {
      "cell_type": "code",
      "execution_count": 36,
      "id": "0d170009",
      "metadata": {
        "execution": {
          "iopub.execute_input": "2021-10-10T01:42:10.314880Z",
          "iopub.status.busy": "2021-10-10T01:42:10.314399Z",
          "iopub.status.idle": "2021-10-10T01:42:10.318079Z",
          "shell.execute_reply": "2021-10-10T01:42:10.318470Z"
        },
        "id": "0d170009"
      },
      "outputs": [],
      "source": [
        "model.compile(loss=\"sparse_categorical_crossentropy\",\n",
        "              optimizer=keras.optimizers.SGD(learning_rate=1e-3),\n",
        "              metrics=[\"accuracy\"])"
      ]
    },
    {
      "cell_type": "code",
      "execution_count": 37,
      "id": "3f2ee0f4",
      "metadata": {
        "colab": {
          "base_uri": "https://localhost:8080/"
        },
        "execution": {
          "iopub.execute_input": "2021-10-10T01:42:10.322386Z",
          "iopub.status.busy": "2021-10-10T01:42:10.321978Z",
          "iopub.status.idle": "2021-10-10T01:43:52.844818Z",
          "shell.execute_reply": "2021-10-10T01:43:52.844361Z"
        },
        "id": "3f2ee0f4",
        "outputId": "5f6cf6be-d6b3-44f6-a008-6b91c0df5844"
      },
      "outputs": [
        {
          "output_type": "stream",
          "name": "stdout",
          "text": [
            "Epoch 1/5\n",
            "1719/1719 [==============================] - 23s 12ms/step - loss: 1.8421 - accuracy: 0.2502 - val_loss: 1.3505 - val_accuracy: 0.4064\n",
            "Epoch 2/5\n",
            "1719/1719 [==============================] - 19s 11ms/step - loss: 1.1969 - accuracy: 0.4889 - val_loss: 0.9519 - val_accuracy: 0.5892\n",
            "Epoch 3/5\n",
            "1719/1719 [==============================] - 18s 11ms/step - loss: 0.9472 - accuracy: 0.6054 - val_loss: 0.8350 - val_accuracy: 0.6448\n",
            "Epoch 4/5\n",
            "1719/1719 [==============================] - 19s 11ms/step - loss: 0.8338 - accuracy: 0.6597 - val_loss: 0.7132 - val_accuracy: 0.7046\n",
            "Epoch 5/5\n",
            "1719/1719 [==============================] - 18s 11ms/step - loss: 0.7505 - accuracy: 0.6959 - val_loss: 0.6757 - val_accuracy: 0.7250\n"
          ]
        }
      ],
      "source": [
        "history = model.fit(X_train_scaled, y_train, epochs=5,\n",
        "                    validation_data=(X_valid_scaled, y_valid))"
      ]
    },
    {
      "cell_type": "markdown",
      "id": "3de938f6",
      "metadata": {
        "id": "3de938f6"
      },
      "source": [
        "좋지 않군요. 그레이디언트 폭주나 소실 문제가 발생한 것입니다."
      ]
    },
    {
      "cell_type": "markdown",
      "id": "314ac252",
      "metadata": {
        "id": "314ac252"
      },
      "source": [
        "##11.1.3 배치 정규화\n",
        "\n",
        "배치 정규화는 활성화 함수 전후에 모델 연산을 하나 추가한다.\n",
        "\n",
        "케라스의 BatchNormalization층은 이를 자동으로 수행해준다."
      ]
    },
    {
      "cell_type": "code",
      "execution_count": 38,
      "id": "557af7d8",
      "metadata": {
        "execution": {
          "iopub.execute_input": "2021-10-10T01:43:52.857447Z",
          "iopub.status.busy": "2021-10-10T01:43:52.855778Z",
          "iopub.status.idle": "2021-10-10T01:43:52.908296Z",
          "shell.execute_reply": "2021-10-10T01:43:52.907832Z"
        },
        "id": "557af7d8"
      },
      "outputs": [],
      "source": [
        "model = keras.models.Sequential([\n",
        "    keras.layers.Flatten(input_shape=[28, 28]),\n",
        "    keras.layers.BatchNormalization(),\n",
        "    keras.layers.Dense(300, activation=\"relu\"),\n",
        "    keras.layers.BatchNormalization(),\n",
        "    keras.layers.Dense(100, activation=\"relu\"),\n",
        "    keras.layers.BatchNormalization(),\n",
        "    keras.layers.Dense(10, activation=\"softmax\")\n",
        "])"
      ]
    },
    {
      "cell_type": "code",
      "execution_count": 39,
      "id": "af786544",
      "metadata": {
        "colab": {
          "base_uri": "https://localhost:8080/"
        },
        "execution": {
          "iopub.execute_input": "2021-10-10T01:43:52.913369Z",
          "iopub.status.busy": "2021-10-10T01:43:52.912925Z",
          "iopub.status.idle": "2021-10-10T01:43:52.916358Z",
          "shell.execute_reply": "2021-10-10T01:43:52.916724Z"
        },
        "id": "af786544",
        "outputId": "9704375d-cb14-49e5-c083-3b47f22ca4cd"
      },
      "outputs": [
        {
          "output_type": "stream",
          "name": "stdout",
          "text": [
            "Model: \"sequential_4\"\n",
            "_________________________________________________________________\n",
            " Layer (type)                Output Shape              Param #   \n",
            "=================================================================\n",
            " flatten_4 (Flatten)         (None, 784)               0         \n",
            "                                                                 \n",
            " batch_normalization (BatchN  (None, 784)              3136      \n",
            " ormalization)                                                   \n",
            "                                                                 \n",
            " dense_212 (Dense)           (None, 300)               235500    \n",
            "                                                                 \n",
            " batch_normalization_1 (Batc  (None, 300)              1200      \n",
            " hNormalization)                                                 \n",
            "                                                                 \n",
            " dense_213 (Dense)           (None, 100)               30100     \n",
            "                                                                 \n",
            " batch_normalization_2 (Batc  (None, 100)              400       \n",
            " hNormalization)                                                 \n",
            "                                                                 \n",
            " dense_214 (Dense)           (None, 10)                1010      \n",
            "                                                                 \n",
            "=================================================================\n",
            "Total params: 271,346\n",
            "Trainable params: 268,978\n",
            "Non-trainable params: 2,368\n",
            "_________________________________________________________________\n"
          ]
        }
      ],
      "source": [
        "model.summary()"
      ]
    },
    {
      "cell_type": "code",
      "execution_count": 40,
      "id": "10361733",
      "metadata": {
        "colab": {
          "base_uri": "https://localhost:8080/"
        },
        "execution": {
          "iopub.execute_input": "2021-10-10T01:43:52.921394Z",
          "iopub.status.busy": "2021-10-10T01:43:52.920950Z",
          "iopub.status.idle": "2021-10-10T01:43:52.925346Z",
          "shell.execute_reply": "2021-10-10T01:43:52.925703Z"
        },
        "id": "10361733",
        "outputId": "32fc7d2a-dcbd-4e61-a630-186b25519c15",
        "scrolled": true
      },
      "outputs": [
        {
          "output_type": "execute_result",
          "data": {
            "text/plain": [
              "[('batch_normalization/gamma:0', True),\n",
              " ('batch_normalization/beta:0', True),\n",
              " ('batch_normalization/moving_mean:0', False),\n",
              " ('batch_normalization/moving_variance:0', False)]"
            ]
          },
          "metadata": {},
          "execution_count": 40
        }
      ],
      "source": [
        "bn1 = model.layers[1]\n",
        "[(var.name, var.trainable) for var in bn1.variables]"
      ]
    },
    {
      "cell_type": "code",
      "execution_count": 41,
      "id": "337822eb",
      "metadata": {
        "execution": {
          "iopub.execute_input": "2021-10-10T01:43:52.928794Z",
          "iopub.status.busy": "2021-10-10T01:43:52.928358Z",
          "iopub.status.idle": "2021-10-10T01:43:52.931377Z",
          "shell.execute_reply": "2021-10-10T01:43:52.931028Z"
        },
        "id": "337822eb"
      },
      "outputs": [],
      "source": [
        "# updates 속성은 향후 삭제될 예정입니다.\n",
        "# bn1.updates"
      ]
    },
    {
      "cell_type": "code",
      "execution_count": 42,
      "id": "25699140",
      "metadata": {
        "execution": {
          "iopub.execute_input": "2021-10-10T01:43:52.937867Z",
          "iopub.status.busy": "2021-10-10T01:43:52.937098Z",
          "iopub.status.idle": "2021-10-10T01:43:52.940350Z",
          "shell.execute_reply": "2021-10-10T01:43:52.940702Z"
        },
        "id": "25699140"
      },
      "outputs": [],
      "source": [
        "model.compile(loss=\"sparse_categorical_crossentropy\",\n",
        "              optimizer=keras.optimizers.SGD(learning_rate=1e-3),\n",
        "              metrics=[\"accuracy\"])"
      ]
    },
    {
      "cell_type": "code",
      "execution_count": 43,
      "id": "02c22d64",
      "metadata": {
        "colab": {
          "base_uri": "https://localhost:8080/"
        },
        "execution": {
          "iopub.execute_input": "2021-10-10T01:43:52.944268Z",
          "iopub.status.busy": "2021-10-10T01:43:52.943817Z",
          "iopub.status.idle": "2021-10-10T01:44:41.349798Z",
          "shell.execute_reply": "2021-10-10T01:44:41.350233Z"
        },
        "id": "02c22d64",
        "outputId": "cfa471f2-7f14-4a27-ce13-04f4b142c7ae"
      },
      "outputs": [
        {
          "output_type": "stream",
          "name": "stdout",
          "text": [
            "Epoch 1/10\n",
            "1719/1719 [==============================] - 8s 4ms/step - loss: 0.8750 - accuracy: 0.7124 - val_loss: 0.5525 - val_accuracy: 0.8230\n",
            "Epoch 2/10\n",
            "1719/1719 [==============================] - 7s 4ms/step - loss: 0.5753 - accuracy: 0.8028 - val_loss: 0.4724 - val_accuracy: 0.8474\n",
            "Epoch 3/10\n",
            "1719/1719 [==============================] - 7s 4ms/step - loss: 0.5189 - accuracy: 0.8206 - val_loss: 0.4376 - val_accuracy: 0.8552\n",
            "Epoch 4/10\n",
            "1719/1719 [==============================] - 7s 4ms/step - loss: 0.4827 - accuracy: 0.8321 - val_loss: 0.4152 - val_accuracy: 0.8600\n",
            "Epoch 5/10\n",
            "1719/1719 [==============================] - 7s 4ms/step - loss: 0.4565 - accuracy: 0.8407 - val_loss: 0.3997 - val_accuracy: 0.8638\n",
            "Epoch 6/10\n",
            "1719/1719 [==============================] - 7s 4ms/step - loss: 0.4398 - accuracy: 0.8473 - val_loss: 0.3866 - val_accuracy: 0.8690\n",
            "Epoch 7/10\n",
            "1719/1719 [==============================] - 7s 4ms/step - loss: 0.4242 - accuracy: 0.8513 - val_loss: 0.3762 - val_accuracy: 0.8708\n",
            "Epoch 8/10\n",
            "1719/1719 [==============================] - 7s 4ms/step - loss: 0.4143 - accuracy: 0.8540 - val_loss: 0.3711 - val_accuracy: 0.8738\n",
            "Epoch 9/10\n",
            "1719/1719 [==============================] - 7s 4ms/step - loss: 0.4023 - accuracy: 0.8582 - val_loss: 0.3630 - val_accuracy: 0.8752\n",
            "Epoch 10/10\n",
            "1719/1719 [==============================] - 7s 4ms/step - loss: 0.3914 - accuracy: 0.8623 - val_loss: 0.3572 - val_accuracy: 0.8760\n"
          ]
        }
      ],
      "source": [
        "history = model.fit(X_train, y_train, epochs=10,\n",
        "                    validation_data=(X_valid, y_valid))"
      ]
    },
    {
      "cell_type": "markdown",
      "id": "69a162f2",
      "metadata": {
        "id": "69a162f2"
      },
      "source": [
        "이따금 활성화 함수전에 BN을 적용해도 잘 동작합니다(여기에는 논란의 여지가 있습니다). 또한 `BatchNormalization` 층 이전의 층은 편향을 위한 항이 필요 없습니다. `BatchNormalization` 층이 이를 무효화하기 때문입니다. 따라서 필요 없는 파라미터이므로 `use_bias=False`를 지정하여 층을 만들 수 있습니다:"
      ]
    },
    {
      "cell_type": "code",
      "execution_count": 44,
      "id": "13d59195",
      "metadata": {
        "execution": {
          "iopub.execute_input": "2021-10-10T01:44:41.353536Z",
          "iopub.status.busy": "2021-10-10T01:44:41.353031Z",
          "iopub.status.idle": "2021-10-10T01:44:41.410764Z",
          "shell.execute_reply": "2021-10-10T01:44:41.410358Z"
        },
        "id": "13d59195"
      },
      "outputs": [],
      "source": [
        "model = keras.models.Sequential([\n",
        "    keras.layers.Flatten(input_shape=[28, 28]),\n",
        "    keras.layers.BatchNormalization(),\n",
        "    keras.layers.Dense(300, use_bias=False),\n",
        "    keras.layers.BatchNormalization(),\n",
        "    keras.layers.Activation(\"relu\"),\n",
        "    keras.layers.Dense(100, use_bias=False),\n",
        "    keras.layers.BatchNormalization(),\n",
        "    keras.layers.Activation(\"relu\"),\n",
        "    keras.layers.Dense(10, activation=\"softmax\")\n",
        "])"
      ]
    },
    {
      "cell_type": "code",
      "execution_count": 45,
      "id": "2c8feb34",
      "metadata": {
        "execution": {
          "iopub.execute_input": "2021-10-10T01:44:41.418004Z",
          "iopub.status.busy": "2021-10-10T01:44:41.417540Z",
          "iopub.status.idle": "2021-10-10T01:44:41.419833Z",
          "shell.execute_reply": "2021-10-10T01:44:41.419464Z"
        },
        "id": "2c8feb34"
      },
      "outputs": [],
      "source": [
        "model.compile(loss=\"sparse_categorical_crossentropy\",\n",
        "              optimizer=keras.optimizers.SGD(learning_rate=1e-3),\n",
        "              metrics=[\"accuracy\"])"
      ]
    },
    {
      "cell_type": "code",
      "execution_count": 46,
      "id": "5a60faba",
      "metadata": {
        "colab": {
          "base_uri": "https://localhost:8080/"
        },
        "execution": {
          "iopub.execute_input": "2021-10-10T01:44:41.423897Z",
          "iopub.status.busy": "2021-10-10T01:44:41.423440Z",
          "iopub.status.idle": "2021-10-10T01:45:29.389120Z",
          "shell.execute_reply": "2021-10-10T01:45:29.389543Z"
        },
        "id": "5a60faba",
        "outputId": "b4023aa9-b81f-4d51-d04e-1ca672197b9f"
      },
      "outputs": [
        {
          "output_type": "stream",
          "name": "stdout",
          "text": [
            "Epoch 1/10\n",
            "1719/1719 [==============================] - 8s 4ms/step - loss: 1.0317 - accuracy: 0.6757 - val_loss: 0.6767 - val_accuracy: 0.7810\n",
            "Epoch 2/10\n",
            "1719/1719 [==============================] - 7s 4ms/step - loss: 0.6790 - accuracy: 0.7793 - val_loss: 0.5566 - val_accuracy: 0.8182\n",
            "Epoch 3/10\n",
            "1719/1719 [==============================] - 7s 4ms/step - loss: 0.5960 - accuracy: 0.8037 - val_loss: 0.5007 - val_accuracy: 0.8360\n",
            "Epoch 4/10\n",
            "1719/1719 [==============================] - 7s 4ms/step - loss: 0.5447 - accuracy: 0.8192 - val_loss: 0.4666 - val_accuracy: 0.8448\n",
            "Epoch 5/10\n",
            "1719/1719 [==============================] - 7s 4ms/step - loss: 0.5109 - accuracy: 0.8278 - val_loss: 0.4434 - val_accuracy: 0.8534\n",
            "Epoch 6/10\n",
            "1719/1719 [==============================] - 7s 4ms/step - loss: 0.4898 - accuracy: 0.8336 - val_loss: 0.4263 - val_accuracy: 0.8548\n",
            "Epoch 7/10\n",
            "1719/1719 [==============================] - 7s 4ms/step - loss: 0.4712 - accuracy: 0.8395 - val_loss: 0.4131 - val_accuracy: 0.8564\n",
            "Epoch 8/10\n",
            "1719/1719 [==============================] - 7s 4ms/step - loss: 0.4560 - accuracy: 0.8440 - val_loss: 0.4035 - val_accuracy: 0.8606\n",
            "Epoch 9/10\n",
            "1719/1719 [==============================] - 7s 4ms/step - loss: 0.4441 - accuracy: 0.8473 - val_loss: 0.3943 - val_accuracy: 0.8638\n",
            "Epoch 10/10\n",
            "1719/1719 [==============================] - 7s 4ms/step - loss: 0.4333 - accuracy: 0.8505 - val_loss: 0.3875 - val_accuracy: 0.8664\n"
          ]
        }
      ],
      "source": [
        "history = model.fit(X_train, y_train, epochs=10,\n",
        "                    validation_data=(X_valid, y_valid))"
      ]
    },
    {
      "cell_type": "markdown",
      "id": "782d1fd4",
      "metadata": {
        "id": "782d1fd4"
      },
      "source": [
        "## 11.1.4 그레이디언트 클리핑\n",
        "\n",
        "그라디언트 폭주 문제를 해결하기 위해 그라디언트가 일정 임곗값 이상으로 넘어가게 되면 그라디언트를 **잘라내며**, 이를 그라디언트 클리핑이라 한다."
      ]
    },
    {
      "cell_type": "markdown",
      "id": "8e1f62e8",
      "metadata": {
        "id": "8e1f62e8"
      },
      "source": [
        "모든 케라스 옵티마이저는 `clipnorm`이나 `clipvalue` 매개변수를 지원하며, 이를 통해 그라디언트 클리핑을 할 수 있다."
      ]
    },
    {
      "cell_type": "code",
      "execution_count": 47,
      "id": "9a9d6624",
      "metadata": {
        "execution": {
          "iopub.execute_input": "2021-10-10T01:45:29.393900Z",
          "iopub.status.busy": "2021-10-10T01:45:29.393401Z",
          "iopub.status.idle": "2021-10-10T01:45:29.395079Z",
          "shell.execute_reply": "2021-10-10T01:45:29.395490Z"
        },
        "id": "9a9d6624"
      },
      "outputs": [],
      "source": [
        "optimizer = keras.optimizers.SGD(clipvalue=1.0)"
      ]
    },
    {
      "cell_type": "code",
      "execution_count": 48,
      "id": "4e27c8c2",
      "metadata": {
        "execution": {
          "iopub.execute_input": "2021-10-10T01:45:29.399558Z",
          "iopub.status.busy": "2021-10-10T01:45:29.399010Z",
          "iopub.status.idle": "2021-10-10T01:45:29.401133Z",
          "shell.execute_reply": "2021-10-10T01:45:29.400776Z"
        },
        "id": "4e27c8c2"
      },
      "outputs": [],
      "source": [
        "optimizer = keras.optimizers.SGD(clipnorm=1.0)"
      ]
    },
    {
      "cell_type": "markdown",
      "id": "73c203ed",
      "metadata": {
        "id": "73c203ed"
      },
      "source": [
        "#11.2 사전 훈련된 층 재사용하기\n",
        "\n",
        "전이학습 : 비슷한 유형을 처리한 신경망 모델의 하위 신경망을재사용하여 학습하는 기법\n",
        "\n",
        "해당 기법을 사용하는 과정에서 입력과 출력의 사이즈에 차이가 발생할 수 있는데, 그럴 경우 전처리과정을 하나 더 추가한다."
      ]
    },
    {
      "cell_type": "markdown",
      "id": "8077ae0c",
      "metadata": {
        "id": "8077ae0c"
      },
      "source": [
        "##11.2.1 케라스를 사용한 전이학습\n",
        "\n",
        "##11.2.2 비지도 사전훈련\n",
        "\n",
        "##11.2.3 보조 작업에서 사전훈련"
      ]
    },
    {
      "cell_type": "markdown",
      "id": "08e04873",
      "metadata": {
        "id": "08e04873"
      },
      "source": [
        "패션 MNIST 훈련 세트를 두 개로 나누어 보죠:\n",
        "* `X_train_A`: 샌달과 셔츠(클래스 5와 6)을 제외한 모든 이미지\n",
        "* `X_train_B`: 샌달과 셔츠 이미지 중 처음 200개만 가진 작은 훈련 세트\n",
        "\n",
        "검증 세트와 테스트 세트도 이렇게 나눕니다. 하지만 이미지 개수는 제한하지 않습니다.\n",
        "\n",
        "A 세트(8개의 클래스를 가진 분류 문제)에서 모델을 훈련하고 이를 재사용하여 B 세트(이진 분류)를 해결해 보겠습니다. A 작업에서 B 작업으로 약간의 지식이 전달되기를 기대합니다. 왜냐하면 A 세트의 클래스(스니커즈, 앵클 부츠, 코트, 티셔츠 등)가 B 세트에 있는 클래스(샌달과 셔츠)와 조금 비슷하기 때문입니다. 하지만 `Dense` 층을 사용하기 때문에 동일한 위치에 나타난 패턴만 재사용할 수 있습니다(반대로 합성곱 층은 훨씬 많은 정보를 전송합니다. 학습한 패턴을 이미지의 어느 위치에서나 감지할 수 있기 때문입니다. CNN 장에서 자세히 알아 보겠습니다)."
      ]
    },
    {
      "cell_type": "code",
      "execution_count": 49,
      "id": "82c75561",
      "metadata": {
        "execution": {
          "iopub.execute_input": "2021-10-10T01:45:29.406937Z",
          "iopub.status.busy": "2021-10-10T01:45:29.406265Z",
          "iopub.status.idle": "2021-10-10T01:45:29.545344Z",
          "shell.execute_reply": "2021-10-10T01:45:29.545764Z"
        },
        "id": "82c75561"
      },
      "outputs": [],
      "source": [
        "def split_dataset(X, y):\n",
        "    y_5_or_6 = (y == 5) | (y == 6) # sandals or shirts\n",
        "    y_A = y[~y_5_or_6]\n",
        "    y_A[y_A > 6] -= 2 # class indices 7, 8, 9 should be moved to 5, 6, 7\n",
        "    y_B = (y[y_5_or_6] == 6).astype(np.float32) # binary classification task: is it a shirt (class 6)?\n",
        "    return ((X[~y_5_or_6], y_A),\n",
        "            (X[y_5_or_6], y_B))\n",
        "\n",
        "(X_train_A, y_train_A), (X_train_B, y_train_B) = split_dataset(X_train, y_train)\n",
        "(X_valid_A, y_valid_A), (X_valid_B, y_valid_B) = split_dataset(X_valid, y_valid)\n",
        "(X_test_A, y_test_A), (X_test_B, y_test_B) = split_dataset(X_test, y_test)\n",
        "X_train_B = X_train_B[:200]\n",
        "y_train_B = y_train_B[:200]"
      ]
    },
    {
      "cell_type": "code",
      "execution_count": 50,
      "id": "6a06d79f",
      "metadata": {
        "colab": {
          "base_uri": "https://localhost:8080/"
        },
        "execution": {
          "iopub.execute_input": "2021-10-10T01:45:29.549685Z",
          "iopub.status.busy": "2021-10-10T01:45:29.549250Z",
          "iopub.status.idle": "2021-10-10T01:45:29.552047Z",
          "shell.execute_reply": "2021-10-10T01:45:29.552460Z"
        },
        "id": "6a06d79f",
        "outputId": "84ecd029-6079-4278-b466-991214afbd81"
      },
      "outputs": [
        {
          "output_type": "execute_result",
          "data": {
            "text/plain": [
              "(43986, 28, 28)"
            ]
          },
          "metadata": {},
          "execution_count": 50
        }
      ],
      "source": [
        "X_train_A.shape"
      ]
    },
    {
      "cell_type": "code",
      "execution_count": 51,
      "id": "45d00e30",
      "metadata": {
        "colab": {
          "base_uri": "https://localhost:8080/"
        },
        "execution": {
          "iopub.execute_input": "2021-10-10T01:45:29.556359Z",
          "iopub.status.busy": "2021-10-10T01:45:29.555909Z",
          "iopub.status.idle": "2021-10-10T01:45:29.560168Z",
          "shell.execute_reply": "2021-10-10T01:45:29.559793Z"
        },
        "id": "45d00e30",
        "outputId": "4dca772b-fc71-49e7-f325-7b23ec575da6"
      },
      "outputs": [
        {
          "output_type": "execute_result",
          "data": {
            "text/plain": [
              "(200, 28, 28)"
            ]
          },
          "metadata": {},
          "execution_count": 51
        }
      ],
      "source": [
        "X_train_B.shape"
      ]
    },
    {
      "cell_type": "code",
      "execution_count": 52,
      "id": "d1fa5a76",
      "metadata": {
        "colab": {
          "base_uri": "https://localhost:8080/"
        },
        "execution": {
          "iopub.execute_input": "2021-10-10T01:45:29.566054Z",
          "iopub.status.busy": "2021-10-10T01:45:29.564814Z",
          "iopub.status.idle": "2021-10-10T01:45:29.568414Z",
          "shell.execute_reply": "2021-10-10T01:45:29.567976Z"
        },
        "id": "d1fa5a76",
        "outputId": "781c444e-cc1d-4400-b762-85c180c292b0"
      },
      "outputs": [
        {
          "output_type": "execute_result",
          "data": {
            "text/plain": [
              "array([4, 0, 5, 7, 7, 7, 4, 4, 3, 4, 0, 1, 6, 3, 4, 3, 2, 6, 5, 3, 4, 5,\n",
              "       1, 3, 4, 2, 0, 6, 7, 1], dtype=uint8)"
            ]
          },
          "metadata": {},
          "execution_count": 52
        }
      ],
      "source": [
        "y_train_A[:30]"
      ]
    },
    {
      "cell_type": "code",
      "execution_count": 53,
      "id": "e9075792",
      "metadata": {
        "colab": {
          "base_uri": "https://localhost:8080/"
        },
        "execution": {
          "iopub.execute_input": "2021-10-10T01:45:29.573570Z",
          "iopub.status.busy": "2021-10-10T01:45:29.573056Z",
          "iopub.status.idle": "2021-10-10T01:45:29.575830Z",
          "shell.execute_reply": "2021-10-10T01:45:29.576238Z"
        },
        "id": "e9075792",
        "outputId": "e2ebad40-069e-4a67-b883-990f4cb9f513"
      },
      "outputs": [
        {
          "output_type": "execute_result",
          "data": {
            "text/plain": [
              "array([1., 1., 0., 0., 0., 0., 1., 1., 1., 0., 0., 1., 1., 0., 0., 0., 0.,\n",
              "       0., 0., 1., 1., 0., 0., 1., 1., 0., 1., 1., 1., 1.], dtype=float32)"
            ]
          },
          "metadata": {},
          "execution_count": 53
        }
      ],
      "source": [
        "y_train_B[:30]"
      ]
    },
    {
      "cell_type": "code",
      "execution_count": 54,
      "id": "8520c732",
      "metadata": {
        "execution": {
          "iopub.execute_input": "2021-10-10T01:45:29.601104Z",
          "iopub.status.busy": "2021-10-10T01:45:29.599747Z",
          "iopub.status.idle": "2021-10-10T01:45:29.601831Z",
          "shell.execute_reply": "2021-10-10T01:45:29.602225Z"
        },
        "id": "8520c732"
      },
      "outputs": [],
      "source": [
        "tf.random.set_seed(42)\n",
        "np.random.seed(42)"
      ]
    },
    {
      "cell_type": "code",
      "execution_count": 55,
      "id": "68b52689",
      "metadata": {
        "execution": {
          "iopub.execute_input": "2021-10-10T01:45:29.607726Z",
          "iopub.status.busy": "2021-10-10T01:45:29.606975Z",
          "iopub.status.idle": "2021-10-10T01:45:29.648838Z",
          "shell.execute_reply": "2021-10-10T01:45:29.649280Z"
        },
        "id": "68b52689"
      },
      "outputs": [],
      "source": [
        "model_A = keras.models.Sequential()\n",
        "model_A.add(keras.layers.Flatten(input_shape=[28, 28]))\n",
        "for n_hidden in (300, 100, 50, 50, 50):\n",
        "    model_A.add(keras.layers.Dense(n_hidden, activation=\"selu\"))\n",
        "model_A.add(keras.layers.Dense(8, activation=\"softmax\"))"
      ]
    },
    {
      "cell_type": "code",
      "execution_count": 56,
      "id": "915efbd9",
      "metadata": {
        "execution": {
          "iopub.execute_input": "2021-10-10T01:45:29.656414Z",
          "iopub.status.busy": "2021-10-10T01:45:29.655721Z",
          "iopub.status.idle": "2021-10-10T01:45:29.658744Z",
          "shell.execute_reply": "2021-10-10T01:45:29.658227Z"
        },
        "id": "915efbd9"
      },
      "outputs": [],
      "source": [
        "model_A.compile(loss=\"sparse_categorical_crossentropy\",\n",
        "                optimizer=keras.optimizers.SGD(learning_rate=1e-3),\n",
        "                metrics=[\"accuracy\"])"
      ]
    },
    {
      "cell_type": "code",
      "execution_count": 57,
      "id": "83358be5",
      "metadata": {
        "colab": {
          "base_uri": "https://localhost:8080/"
        },
        "execution": {
          "iopub.execute_input": "2021-10-10T01:45:29.661972Z",
          "iopub.status.busy": "2021-10-10T01:45:29.661579Z",
          "iopub.status.idle": "2021-10-10T01:46:51.964978Z",
          "shell.execute_reply": "2021-10-10T01:46:51.965446Z"
        },
        "id": "83358be5",
        "outputId": "14420008-3efc-404b-eed8-94775599a786"
      },
      "outputs": [
        {
          "output_type": "stream",
          "name": "stdout",
          "text": [
            "Epoch 1/20\n",
            "1375/1375 [==============================] - 5s 3ms/step - loss: 0.5926 - accuracy: 0.8103 - val_loss: 0.3890 - val_accuracy: 0.8677\n",
            "Epoch 2/20\n",
            "1375/1375 [==============================] - 4s 3ms/step - loss: 0.3523 - accuracy: 0.8786 - val_loss: 0.3289 - val_accuracy: 0.8824\n",
            "Epoch 3/20\n",
            "1375/1375 [==============================] - 4s 3ms/step - loss: 0.3170 - accuracy: 0.8894 - val_loss: 0.3014 - val_accuracy: 0.8989\n",
            "Epoch 4/20\n",
            "1375/1375 [==============================] - 4s 3ms/step - loss: 0.2972 - accuracy: 0.8976 - val_loss: 0.2891 - val_accuracy: 0.9021\n",
            "Epoch 5/20\n",
            "1375/1375 [==============================] - 4s 3ms/step - loss: 0.2834 - accuracy: 0.9022 - val_loss: 0.2774 - val_accuracy: 0.9063\n",
            "Epoch 6/20\n",
            "1375/1375 [==============================] - 4s 3ms/step - loss: 0.2728 - accuracy: 0.9063 - val_loss: 0.2732 - val_accuracy: 0.9073\n",
            "Epoch 7/20\n",
            "1375/1375 [==============================] - 4s 3ms/step - loss: 0.2640 - accuracy: 0.9092 - val_loss: 0.2718 - val_accuracy: 0.9081\n",
            "Epoch 8/20\n",
            "1375/1375 [==============================] - 4s 3ms/step - loss: 0.2572 - accuracy: 0.9127 - val_loss: 0.2590 - val_accuracy: 0.9136\n",
            "Epoch 9/20\n",
            "1375/1375 [==============================] - 4s 3ms/step - loss: 0.2517 - accuracy: 0.9137 - val_loss: 0.2563 - val_accuracy: 0.9145\n",
            "Epoch 10/20\n",
            "1375/1375 [==============================] - 4s 3ms/step - loss: 0.2468 - accuracy: 0.9154 - val_loss: 0.2542 - val_accuracy: 0.9153\n",
            "Epoch 11/20\n",
            "1375/1375 [==============================] - 4s 3ms/step - loss: 0.2422 - accuracy: 0.9178 - val_loss: 0.2494 - val_accuracy: 0.9155\n",
            "Epoch 12/20\n",
            "1375/1375 [==============================] - 4s 3ms/step - loss: 0.2382 - accuracy: 0.9189 - val_loss: 0.2510 - val_accuracy: 0.9128\n",
            "Epoch 13/20\n",
            "1375/1375 [==============================] - 4s 3ms/step - loss: 0.2350 - accuracy: 0.9200 - val_loss: 0.2446 - val_accuracy: 0.9158\n",
            "Epoch 14/20\n",
            "1375/1375 [==============================] - 4s 3ms/step - loss: 0.2315 - accuracy: 0.9213 - val_loss: 0.2415 - val_accuracy: 0.9178\n",
            "Epoch 15/20\n",
            "1375/1375 [==============================] - 4s 3ms/step - loss: 0.2287 - accuracy: 0.9213 - val_loss: 0.2449 - val_accuracy: 0.9193\n",
            "Epoch 16/20\n",
            "1375/1375 [==============================] - 4s 3ms/step - loss: 0.2253 - accuracy: 0.9223 - val_loss: 0.2385 - val_accuracy: 0.9198\n",
            "Epoch 17/20\n",
            "1375/1375 [==============================] - 4s 3ms/step - loss: 0.2230 - accuracy: 0.9233 - val_loss: 0.2408 - val_accuracy: 0.9175\n",
            "Epoch 18/20\n",
            "1375/1375 [==============================] - 4s 3ms/step - loss: 0.2200 - accuracy: 0.9245 - val_loss: 0.2426 - val_accuracy: 0.9155\n",
            "Epoch 19/20\n",
            "1375/1375 [==============================] - 4s 3ms/step - loss: 0.2177 - accuracy: 0.9255 - val_loss: 0.2330 - val_accuracy: 0.9208\n",
            "Epoch 20/20\n",
            "1375/1375 [==============================] - 4s 3ms/step - loss: 0.2155 - accuracy: 0.9262 - val_loss: 0.2331 - val_accuracy: 0.9203\n"
          ]
        }
      ],
      "source": [
        "history = model_A.fit(X_train_A, y_train_A, epochs=20,\n",
        "                    validation_data=(X_valid_A, y_valid_A))"
      ]
    },
    {
      "cell_type": "code",
      "execution_count": 58,
      "id": "316296a1",
      "metadata": {
        "execution": {
          "iopub.execute_input": "2021-10-10T01:46:51.971496Z",
          "iopub.status.busy": "2021-10-10T01:46:51.967801Z",
          "iopub.status.idle": "2021-10-10T01:46:51.986661Z",
          "shell.execute_reply": "2021-10-10T01:46:51.986206Z"
        },
        "id": "316296a1"
      },
      "outputs": [],
      "source": [
        "model_A.save(\"my_model_A.h5\")"
      ]
    },
    {
      "cell_type": "code",
      "execution_count": 59,
      "id": "a93aeaa8",
      "metadata": {
        "execution": {
          "iopub.execute_input": "2021-10-10T01:46:51.992264Z",
          "iopub.status.busy": "2021-10-10T01:46:51.991799Z",
          "iopub.status.idle": "2021-10-10T01:46:52.034071Z",
          "shell.execute_reply": "2021-10-10T01:46:52.034444Z"
        },
        "id": "a93aeaa8"
      },
      "outputs": [],
      "source": [
        "model_B = keras.models.Sequential()\n",
        "model_B.add(keras.layers.Flatten(input_shape=[28, 28]))\n",
        "for n_hidden in (300, 100, 50, 50, 50):\n",
        "    model_B.add(keras.layers.Dense(n_hidden, activation=\"selu\"))\n",
        "model_B.add(keras.layers.Dense(1, activation=\"sigmoid\"))"
      ]
    },
    {
      "cell_type": "code",
      "execution_count": 60,
      "id": "997de873",
      "metadata": {
        "execution": {
          "iopub.execute_input": "2021-10-10T01:46:52.040832Z",
          "iopub.status.busy": "2021-10-10T01:46:52.039574Z",
          "iopub.status.idle": "2021-10-10T01:46:52.043035Z",
          "shell.execute_reply": "2021-10-10T01:46:52.043394Z"
        },
        "id": "997de873"
      },
      "outputs": [],
      "source": [
        "model_B.compile(loss=\"binary_crossentropy\",\n",
        "                optimizer=keras.optimizers.SGD(learning_rate=1e-3),\n",
        "                metrics=[\"accuracy\"])"
      ]
    },
    {
      "cell_type": "code",
      "execution_count": 61,
      "id": "f8f7dcf8",
      "metadata": {
        "colab": {
          "base_uri": "https://localhost:8080/"
        },
        "execution": {
          "iopub.execute_input": "2021-10-10T01:46:52.046830Z",
          "iopub.status.busy": "2021-10-10T01:46:52.046371Z",
          "iopub.status.idle": "2021-10-10T01:46:53.827991Z",
          "shell.execute_reply": "2021-10-10T01:46:53.827549Z"
        },
        "id": "f8f7dcf8",
        "outputId": "9d1c9312-c1f2-428a-d6db-5808a91ac37d",
        "scrolled": true
      },
      "outputs": [
        {
          "output_type": "stream",
          "name": "stdout",
          "text": [
            "Epoch 1/20\n",
            "7/7 [==============================] - 1s 39ms/step - loss: 0.9573 - accuracy: 0.4650 - val_loss: 0.6314 - val_accuracy: 0.6004\n",
            "Epoch 2/20\n",
            "7/7 [==============================] - 0s 16ms/step - loss: 0.5692 - accuracy: 0.7450 - val_loss: 0.4784 - val_accuracy: 0.8529\n",
            "Epoch 3/20\n",
            "7/7 [==============================] - 0s 15ms/step - loss: 0.4503 - accuracy: 0.8650 - val_loss: 0.4102 - val_accuracy: 0.8945\n",
            "Epoch 4/20\n",
            "7/7 [==============================] - 0s 15ms/step - loss: 0.3879 - accuracy: 0.8950 - val_loss: 0.3647 - val_accuracy: 0.9178\n",
            "Epoch 5/20\n",
            "7/7 [==============================] - 0s 15ms/step - loss: 0.3435 - accuracy: 0.9250 - val_loss: 0.3300 - val_accuracy: 0.9320\n",
            "Epoch 6/20\n",
            "7/7 [==============================] - 0s 16ms/step - loss: 0.3081 - accuracy: 0.9300 - val_loss: 0.3019 - val_accuracy: 0.9402\n",
            "Epoch 7/20\n",
            "7/7 [==============================] - 0s 16ms/step - loss: 0.2800 - accuracy: 0.9350 - val_loss: 0.2804 - val_accuracy: 0.9422\n",
            "Epoch 8/20\n",
            "7/7 [==============================] - 0s 16ms/step - loss: 0.2564 - accuracy: 0.9450 - val_loss: 0.2606 - val_accuracy: 0.9473\n",
            "Epoch 9/20\n",
            "7/7 [==============================] - 0s 29ms/step - loss: 0.2362 - accuracy: 0.9550 - val_loss: 0.2428 - val_accuracy: 0.9523\n",
            "Epoch 10/20\n",
            "7/7 [==============================] - 0s 15ms/step - loss: 0.2188 - accuracy: 0.9600 - val_loss: 0.2281 - val_accuracy: 0.9544\n",
            "Epoch 11/20\n",
            "7/7 [==============================] - 0s 15ms/step - loss: 0.2036 - accuracy: 0.9700 - val_loss: 0.2150 - val_accuracy: 0.9584\n",
            "Epoch 12/20\n",
            "7/7 [==============================] - 0s 17ms/step - loss: 0.1898 - accuracy: 0.9700 - val_loss: 0.2036 - val_accuracy: 0.9584\n",
            "Epoch 13/20\n",
            "7/7 [==============================] - 0s 16ms/step - loss: 0.1773 - accuracy: 0.9750 - val_loss: 0.1931 - val_accuracy: 0.9615\n",
            "Epoch 14/20\n",
            "7/7 [==============================] - 0s 16ms/step - loss: 0.1668 - accuracy: 0.9800 - val_loss: 0.1838 - val_accuracy: 0.9635\n",
            "Epoch 15/20\n",
            "7/7 [==============================] - 0s 15ms/step - loss: 0.1570 - accuracy: 0.9900 - val_loss: 0.1746 - val_accuracy: 0.9686\n",
            "Epoch 16/20\n",
            "7/7 [==============================] - 0s 30ms/step - loss: 0.1481 - accuracy: 0.9900 - val_loss: 0.1674 - val_accuracy: 0.9686\n",
            "Epoch 17/20\n",
            "7/7 [==============================] - 0s 16ms/step - loss: 0.1406 - accuracy: 0.9900 - val_loss: 0.1604 - val_accuracy: 0.9706\n",
            "Epoch 18/20\n",
            "7/7 [==============================] - 0s 16ms/step - loss: 0.1334 - accuracy: 0.9900 - val_loss: 0.1539 - val_accuracy: 0.9706\n",
            "Epoch 19/20\n",
            "7/7 [==============================] - 0s 15ms/step - loss: 0.1268 - accuracy: 0.9900 - val_loss: 0.1482 - val_accuracy: 0.9716\n",
            "Epoch 20/20\n",
            "7/7 [==============================] - 0s 15ms/step - loss: 0.1208 - accuracy: 0.9900 - val_loss: 0.1431 - val_accuracy: 0.9716\n"
          ]
        }
      ],
      "source": [
        "history = model_B.fit(X_train_B, y_train_B, epochs=20,\n",
        "                      validation_data=(X_valid_B, y_valid_B))"
      ]
    },
    {
      "cell_type": "code",
      "execution_count": 62,
      "id": "a5eecd6e",
      "metadata": {
        "colab": {
          "base_uri": "https://localhost:8080/"
        },
        "execution": {
          "iopub.execute_input": "2021-10-10T01:46:53.833367Z",
          "iopub.status.busy": "2021-10-10T01:46:53.832924Z",
          "iopub.status.idle": "2021-10-10T01:46:53.835776Z",
          "shell.execute_reply": "2021-10-10T01:46:53.836116Z"
        },
        "id": "a5eecd6e",
        "outputId": "e2ccbcb8-cc3f-42bb-d157-3e0a53bb7a33"
      },
      "outputs": [
        {
          "output_type": "stream",
          "name": "stdout",
          "text": [
            "Model: \"sequential_7\"\n",
            "_________________________________________________________________\n",
            " Layer (type)                Output Shape              Param #   \n",
            "=================================================================\n",
            " flatten_7 (Flatten)         (None, 784)               0         \n",
            "                                                                 \n",
            " dense_224 (Dense)           (None, 300)               235500    \n",
            "                                                                 \n",
            " dense_225 (Dense)           (None, 100)               30100     \n",
            "                                                                 \n",
            " dense_226 (Dense)           (None, 50)                5050      \n",
            "                                                                 \n",
            " dense_227 (Dense)           (None, 50)                2550      \n",
            "                                                                 \n",
            " dense_228 (Dense)           (None, 50)                2550      \n",
            "                                                                 \n",
            " dense_229 (Dense)           (None, 1)                 51        \n",
            "                                                                 \n",
            "=================================================================\n",
            "Total params: 275,801\n",
            "Trainable params: 275,801\n",
            "Non-trainable params: 0\n",
            "_________________________________________________________________\n"
          ]
        }
      ],
      "source": [
        "model_B.summary()"
      ]
    },
    {
      "cell_type": "code",
      "execution_count": 63,
      "id": "9cbf5787",
      "metadata": {
        "execution": {
          "iopub.execute_input": "2021-10-10T01:46:53.842610Z",
          "iopub.status.busy": "2021-10-10T01:46:53.840154Z",
          "iopub.status.idle": "2021-10-10T01:46:53.926739Z",
          "shell.execute_reply": "2021-10-10T01:46:53.927163Z"
        },
        "id": "9cbf5787"
      },
      "outputs": [],
      "source": [
        "model_A = keras.models.load_model(\"my_model_A.h5\")\n",
        "model_B_on_A = keras.models.Sequential(model_A.layers[:-1])\n",
        "model_B_on_A.add(keras.layers.Dense(1, activation=\"sigmoid\"))"
      ]
    },
    {
      "cell_type": "markdown",
      "id": "ed52bf43",
      "metadata": {
        "id": "ed52bf43"
      },
      "source": [
        "`model_B_on_A`와 `model_A`는 층을 공유하기 때문에 하나를 훈련하면 두 모델이 업데이트됩니다. 이를 피하려면 `model_A`를 클론한 것을 사용해 `model_B_on_A`를 만들어야 합니다:"
      ]
    },
    {
      "cell_type": "code",
      "execution_count": 64,
      "id": "561c8824",
      "metadata": {
        "execution": {
          "iopub.execute_input": "2021-10-10T01:46:53.936775Z",
          "iopub.status.busy": "2021-10-10T01:46:53.936286Z",
          "iopub.status.idle": "2021-10-10T01:46:54.007785Z",
          "shell.execute_reply": "2021-10-10T01:46:54.007229Z"
        },
        "id": "561c8824"
      },
      "outputs": [],
      "source": [
        "model_A_clone = keras.models.clone_model(model_A)\n",
        "model_A_clone.set_weights(model_A.get_weights())\n",
        "model_B_on_A = keras.models.Sequential(model_A_clone.layers[:-1])\n",
        "model_B_on_A.add(keras.layers.Dense(1, activation=\"sigmoid\"))"
      ]
    },
    {
      "cell_type": "code",
      "execution_count": 65,
      "id": "89216111",
      "metadata": {
        "execution": {
          "iopub.execute_input": "2021-10-10T01:46:54.012491Z",
          "iopub.status.busy": "2021-10-10T01:46:54.012052Z",
          "iopub.status.idle": "2021-10-10T01:46:54.017729Z",
          "shell.execute_reply": "2021-10-10T01:46:54.018102Z"
        },
        "id": "89216111"
      },
      "outputs": [],
      "source": [
        "for layer in model_B_on_A.layers[:-1]:\n",
        "    layer.trainable = False\n",
        "\n",
        "model_B_on_A.compile(loss=\"binary_crossentropy\",\n",
        "                     optimizer=keras.optimizers.SGD(learning_rate=1e-3),\n",
        "                     metrics=[\"accuracy\"])"
      ]
    },
    {
      "cell_type": "code",
      "execution_count": 66,
      "id": "df8bd509",
      "metadata": {
        "colab": {
          "base_uri": "https://localhost:8080/"
        },
        "execution": {
          "iopub.execute_input": "2021-10-10T01:46:54.023537Z",
          "iopub.status.busy": "2021-10-10T01:46:54.022251Z",
          "iopub.status.idle": "2021-10-10T01:46:56.465171Z",
          "shell.execute_reply": "2021-10-10T01:46:56.465583Z"
        },
        "id": "df8bd509",
        "outputId": "1d7f0871-a5e0-4c25-9493-62e6981a05da"
      },
      "outputs": [
        {
          "output_type": "stream",
          "name": "stdout",
          "text": [
            "Epoch 1/4\n",
            "7/7 [==============================] - 1s 96ms/step - loss: 0.2663 - accuracy: 0.9400 - val_loss: 0.2802 - val_accuracy: 0.9270\n",
            "Epoch 2/4\n",
            "7/7 [==============================] - 0s 16ms/step - loss: 0.2565 - accuracy: 0.9400 - val_loss: 0.2706 - val_accuracy: 0.9310\n",
            "Epoch 3/4\n",
            "7/7 [==============================] - 0s 30ms/step - loss: 0.2470 - accuracy: 0.9400 - val_loss: 0.2618 - val_accuracy: 0.9341\n",
            "Epoch 4/4\n",
            "7/7 [==============================] - 0s 15ms/step - loss: 0.2384 - accuracy: 0.9400 - val_loss: 0.2535 - val_accuracy: 0.9371\n",
            "Epoch 1/16\n",
            "7/7 [==============================] - 1s 37ms/step - loss: 0.2133 - accuracy: 0.9450 - val_loss: 0.2050 - val_accuracy: 0.9635\n",
            "Epoch 2/16\n",
            "7/7 [==============================] - 0s 16ms/step - loss: 0.1705 - accuracy: 0.9550 - val_loss: 0.1724 - val_accuracy: 0.9716\n",
            "Epoch 3/16\n",
            "7/7 [==============================] - 0s 17ms/step - loss: 0.1413 - accuracy: 0.9650 - val_loss: 0.1495 - val_accuracy: 0.9817\n",
            "Epoch 4/16\n",
            "7/7 [==============================] - 0s 16ms/step - loss: 0.1201 - accuracy: 0.9800 - val_loss: 0.1327 - val_accuracy: 0.9828\n",
            "Epoch 5/16\n",
            "7/7 [==============================] - 0s 16ms/step - loss: 0.1049 - accuracy: 0.9900 - val_loss: 0.1203 - val_accuracy: 0.9838\n",
            "Epoch 6/16\n",
            "7/7 [==============================] - 0s 15ms/step - loss: 0.0932 - accuracy: 0.9950 - val_loss: 0.1104 - val_accuracy: 0.9858\n",
            "Epoch 7/16\n",
            "7/7 [==============================] - 0s 31ms/step - loss: 0.0839 - accuracy: 0.9950 - val_loss: 0.1022 - val_accuracy: 0.9858\n",
            "Epoch 8/16\n",
            "7/7 [==============================] - 0s 16ms/step - loss: 0.0764 - accuracy: 0.9950 - val_loss: 0.0954 - val_accuracy: 0.9868\n",
            "Epoch 9/16\n",
            "7/7 [==============================] - 0s 15ms/step - loss: 0.0699 - accuracy: 0.9950 - val_loss: 0.0893 - val_accuracy: 0.9868\n",
            "Epoch 10/16\n",
            "7/7 [==============================] - 0s 16ms/step - loss: 0.0641 - accuracy: 0.9950 - val_loss: 0.0845 - val_accuracy: 0.9878\n",
            "Epoch 11/16\n",
            "7/7 [==============================] - 0s 17ms/step - loss: 0.0596 - accuracy: 0.9950 - val_loss: 0.0801 - val_accuracy: 0.9888\n",
            "Epoch 12/16\n",
            "7/7 [==============================] - 0s 16ms/step - loss: 0.0554 - accuracy: 1.0000 - val_loss: 0.0762 - val_accuracy: 0.9888\n",
            "Epoch 13/16\n",
            "7/7 [==============================] - 0s 15ms/step - loss: 0.0517 - accuracy: 1.0000 - val_loss: 0.0729 - val_accuracy: 0.9878\n",
            "Epoch 14/16\n",
            "7/7 [==============================] - 0s 15ms/step - loss: 0.0485 - accuracy: 1.0000 - val_loss: 0.0701 - val_accuracy: 0.9878\n",
            "Epoch 15/16\n",
            "7/7 [==============================] - 0s 18ms/step - loss: 0.0459 - accuracy: 1.0000 - val_loss: 0.0676 - val_accuracy: 0.9878\n",
            "Epoch 16/16\n",
            "7/7 [==============================] - 0s 15ms/step - loss: 0.0435 - accuracy: 1.0000 - val_loss: 0.0652 - val_accuracy: 0.9878\n"
          ]
        }
      ],
      "source": [
        "history = model_B_on_A.fit(X_train_B, y_train_B, epochs=4,\n",
        "                           validation_data=(X_valid_B, y_valid_B))\n",
        "\n",
        "for layer in model_B_on_A.layers[:-1]:\n",
        "    layer.trainable = True\n",
        "\n",
        "model_B_on_A.compile(loss=\"binary_crossentropy\",\n",
        "                     optimizer=keras.optimizers.SGD(learning_rate=1e-3),\n",
        "                     metrics=[\"accuracy\"])\n",
        "history = model_B_on_A.fit(X_train_B, y_train_B, epochs=16,\n",
        "                           validation_data=(X_valid_B, y_valid_B))"
      ]
    },
    {
      "cell_type": "markdown",
      "id": "40a24e80",
      "metadata": {
        "id": "40a24e80"
      },
      "source": [
        "마지막 점수는 어떤가요?"
      ]
    },
    {
      "cell_type": "code",
      "execution_count": 67,
      "id": "55b8ceda",
      "metadata": {
        "colab": {
          "base_uri": "https://localhost:8080/"
        },
        "execution": {
          "iopub.execute_input": "2021-10-10T01:46:56.469986Z",
          "iopub.status.busy": "2021-10-10T01:46:56.469471Z",
          "iopub.status.idle": "2021-10-10T01:46:56.597181Z",
          "shell.execute_reply": "2021-10-10T01:46:56.597652Z"
        },
        "id": "55b8ceda",
        "outputId": "13fdf1e7-fe1e-487e-dc77-4722e7e8ea98"
      },
      "outputs": [
        {
          "output_type": "stream",
          "name": "stdout",
          "text": [
            "63/63 [==============================] - 0s 2ms/step - loss: 0.1408 - accuracy: 0.9705\n"
          ]
        },
        {
          "output_type": "execute_result",
          "data": {
            "text/plain": [
              "[0.1408407837152481, 0.9704999923706055]"
            ]
          },
          "metadata": {},
          "execution_count": 67
        }
      ],
      "source": [
        "model_B.evaluate(X_test_B, y_test_B)"
      ]
    },
    {
      "cell_type": "code",
      "execution_count": 68,
      "id": "17d470b4",
      "metadata": {
        "colab": {
          "base_uri": "https://localhost:8080/"
        },
        "execution": {
          "iopub.execute_input": "2021-10-10T01:46:56.599942Z",
          "iopub.status.busy": "2021-10-10T01:46:56.599501Z",
          "iopub.status.idle": "2021-10-10T01:46:57.077178Z",
          "shell.execute_reply": "2021-10-10T01:46:57.077594Z"
        },
        "id": "17d470b4",
        "outputId": "336a947c-aff3-4e7a-c78b-c6e31639cd8c"
      },
      "outputs": [
        {
          "output_type": "stream",
          "name": "stdout",
          "text": [
            "63/63 [==============================] - 0s 2ms/step - loss: 0.0561 - accuracy: 0.9940\n"
          ]
        },
        {
          "output_type": "execute_result",
          "data": {
            "text/plain": [
              "[0.05610136687755585, 0.9940000176429749]"
            ]
          },
          "metadata": {},
          "execution_count": 68
        }
      ],
      "source": [
        "model_B_on_A.evaluate(X_test_B, y_test_B)"
      ]
    },
    {
      "cell_type": "markdown",
      "id": "0fc0ed2d",
      "metadata": {
        "id": "0fc0ed2d"
      },
      "source": [
        "훌륭하네요! 꽤 많은 정보를 전달했습니다: 오차율이 4.9배나 줄었네요!"
      ]
    },
    {
      "cell_type": "code",
      "execution_count": 69,
      "id": "d0ab167a",
      "metadata": {
        "colab": {
          "base_uri": "https://localhost:8080/"
        },
        "execution": {
          "iopub.execute_input": "2021-10-10T01:46:57.080325Z",
          "iopub.status.busy": "2021-10-10T01:46:57.079922Z",
          "iopub.status.idle": "2021-10-10T01:46:57.083253Z",
          "shell.execute_reply": "2021-10-10T01:46:57.083624Z"
        },
        "id": "d0ab167a",
        "outputId": "aada991c-fbcb-4061-ccbf-7c788af78eda"
      },
      "outputs": [
        {
          "output_type": "execute_result",
          "data": {
            "text/plain": [
              "4.916666666666718"
            ]
          },
          "metadata": {},
          "execution_count": 69
        }
      ],
      "source": [
        "(100 - 97.05) / (100 - 99.40)"
      ]
    },
    {
      "cell_type": "markdown",
      "id": "8b2cace2",
      "metadata": {
        "id": "8b2cace2"
      },
      "source": [
        "# 11.3 고속 옵티마이저"
      ]
    },
    {
      "cell_type": "markdown",
      "id": "a460ab6b",
      "metadata": {
        "id": "a460ab6b"
      },
      "source": [
        "## 11.3.1 모멘텀 최적화"
      ]
    },
    {
      "cell_type": "code",
      "execution_count": 70,
      "id": "51de2a64",
      "metadata": {
        "execution": {
          "iopub.execute_input": "2021-10-10T01:46:57.086196Z",
          "iopub.status.busy": "2021-10-10T01:46:57.085763Z",
          "iopub.status.idle": "2021-10-10T01:46:57.088653Z",
          "shell.execute_reply": "2021-10-10T01:46:57.089022Z"
        },
        "id": "51de2a64"
      },
      "outputs": [],
      "source": [
        "optimizer = keras.optimizers.SGD(learning_rate=0.001, momentum=0.9)"
      ]
    },
    {
      "cell_type": "markdown",
      "id": "ef7bd778",
      "metadata": {
        "id": "ef7bd778"
      },
      "source": [
        "## 11.3.2 네스테로프 가속 경사"
      ]
    },
    {
      "cell_type": "code",
      "execution_count": 71,
      "id": "79d96d0e",
      "metadata": {
        "execution": {
          "iopub.execute_input": "2021-10-10T01:46:57.091884Z",
          "iopub.status.busy": "2021-10-10T01:46:57.091407Z",
          "iopub.status.idle": "2021-10-10T01:46:57.094076Z",
          "shell.execute_reply": "2021-10-10T01:46:57.094453Z"
        },
        "id": "79d96d0e"
      },
      "outputs": [],
      "source": [
        "optimizer = keras.optimizers.SGD(learning_rate=0.001, momentum=0.9, nesterov=True)"
      ]
    },
    {
      "cell_type": "markdown",
      "id": "fc22c7de",
      "metadata": {
        "id": "fc22c7de"
      },
      "source": [
        "## 11.3.3 AdaGrad"
      ]
    },
    {
      "cell_type": "code",
      "execution_count": 72,
      "id": "5449bc99",
      "metadata": {
        "execution": {
          "iopub.execute_input": "2021-10-10T01:46:57.097132Z",
          "iopub.status.busy": "2021-10-10T01:46:57.096670Z",
          "iopub.status.idle": "2021-10-10T01:46:57.099287Z",
          "shell.execute_reply": "2021-10-10T01:46:57.099677Z"
        },
        "id": "5449bc99"
      },
      "outputs": [],
      "source": [
        "optimizer = keras.optimizers.Adagrad(learning_rate=0.001)"
      ]
    },
    {
      "cell_type": "markdown",
      "id": "d4fa4e86",
      "metadata": {
        "id": "d4fa4e86"
      },
      "source": [
        "## 11.3.4 RMSProp"
      ]
    },
    {
      "cell_type": "code",
      "execution_count": 73,
      "id": "f9eb7cc2",
      "metadata": {
        "execution": {
          "iopub.execute_input": "2021-10-10T01:46:57.102022Z",
          "iopub.status.busy": "2021-10-10T01:46:57.101547Z",
          "iopub.status.idle": "2021-10-10T01:46:57.104158Z",
          "shell.execute_reply": "2021-10-10T01:46:57.104530Z"
        },
        "id": "f9eb7cc2"
      },
      "outputs": [],
      "source": [
        "optimizer = keras.optimizers.RMSprop(learning_rate=0.001, rho=0.9)"
      ]
    },
    {
      "cell_type": "markdown",
      "id": "47e2d51a",
      "metadata": {
        "id": "47e2d51a"
      },
      "source": [
        "## Adam 옵티마이저"
      ]
    },
    {
      "cell_type": "code",
      "execution_count": 74,
      "id": "e4b0fbf5",
      "metadata": {
        "execution": {
          "iopub.execute_input": "2021-10-10T01:46:57.107859Z",
          "iopub.status.busy": "2021-10-10T01:46:57.106779Z",
          "iopub.status.idle": "2021-10-10T01:46:57.110078Z",
          "shell.execute_reply": "2021-10-10T01:46:57.109648Z"
        },
        "id": "e4b0fbf5"
      },
      "outputs": [],
      "source": [
        "optimizer = keras.optimizers.Adam(learning_rate=0.001, beta_1=0.9, beta_2=0.999)"
      ]
    },
    {
      "cell_type": "markdown",
      "id": "ef2091ee",
      "metadata": {
        "id": "ef2091ee"
      },
      "source": [
        "## Adamax 옵티마이저"
      ]
    },
    {
      "cell_type": "code",
      "execution_count": 75,
      "id": "0516e24f",
      "metadata": {
        "execution": {
          "iopub.execute_input": "2021-10-10T01:46:57.113237Z",
          "iopub.status.busy": "2021-10-10T01:46:57.112816Z",
          "iopub.status.idle": "2021-10-10T01:46:57.115839Z",
          "shell.execute_reply": "2021-10-10T01:46:57.115506Z"
        },
        "id": "0516e24f"
      },
      "outputs": [],
      "source": [
        "optimizer = keras.optimizers.Adamax(learning_rate=0.001, beta_1=0.9, beta_2=0.999)"
      ]
    },
    {
      "cell_type": "markdown",
      "id": "2b4f1575",
      "metadata": {
        "id": "2b4f1575"
      },
      "source": [
        "## Nadam 옵티마이저"
      ]
    },
    {
      "cell_type": "code",
      "execution_count": 76,
      "id": "133149d5",
      "metadata": {
        "execution": {
          "iopub.execute_input": "2021-10-10T01:46:57.119278Z",
          "iopub.status.busy": "2021-10-10T01:46:57.118863Z",
          "iopub.status.idle": "2021-10-10T01:46:57.121323Z",
          "shell.execute_reply": "2021-10-10T01:46:57.121661Z"
        },
        "id": "133149d5"
      },
      "outputs": [],
      "source": [
        "optimizer = keras.optimizers.Nadam(learning_rate=0.001, beta_1=0.9, beta_2=0.999)"
      ]
    },
    {
      "cell_type": "markdown",
      "id": "00b929be",
      "metadata": {
        "id": "00b929be"
      },
      "source": [
        "## 11.3.6 학습률 스케줄링"
      ]
    },
    {
      "cell_type": "markdown",
      "id": "26f519b2",
      "metadata": {
        "id": "26f519b2"
      },
      "source": [
        "### 거듭제곱 스케줄링"
      ]
    },
    {
      "cell_type": "markdown",
      "id": "66b9b49e",
      "metadata": {
        "id": "66b9b49e"
      },
      "source": [
        "```lr = lr0 / (1 + steps / s)**c```\n",
        "* 케라스는 `c=1`과 `s = 1 / decay`을 사용합니다"
      ]
    },
    {
      "cell_type": "code",
      "execution_count": 77,
      "id": "342bff85",
      "metadata": {
        "execution": {
          "iopub.execute_input": "2021-10-10T01:46:57.124881Z",
          "iopub.status.busy": "2021-10-10T01:46:57.124431Z",
          "iopub.status.idle": "2021-10-10T01:46:57.127514Z",
          "shell.execute_reply": "2021-10-10T01:46:57.127126Z"
        },
        "id": "342bff85"
      },
      "outputs": [],
      "source": [
        "optimizer = keras.optimizers.SGD(learning_rate=0.01, decay=1e-4)"
      ]
    },
    {
      "cell_type": "code",
      "execution_count": 78,
      "id": "2d98b804",
      "metadata": {
        "execution": {
          "iopub.execute_input": "2021-10-10T01:46:57.134834Z",
          "iopub.status.busy": "2021-10-10T01:46:57.133914Z",
          "iopub.status.idle": "2021-10-10T01:46:57.161584Z",
          "shell.execute_reply": "2021-10-10T01:46:57.161904Z"
        },
        "id": "2d98b804"
      },
      "outputs": [],
      "source": [
        "model = keras.models.Sequential([\n",
        "    keras.layers.Flatten(input_shape=[28, 28]),\n",
        "    keras.layers.Dense(300, activation=\"selu\", kernel_initializer=\"lecun_normal\"),\n",
        "    keras.layers.Dense(100, activation=\"selu\", kernel_initializer=\"lecun_normal\"),\n",
        "    keras.layers.Dense(10, activation=\"softmax\")\n",
        "])\n",
        "model.compile(loss=\"sparse_categorical_crossentropy\", optimizer=optimizer, metrics=[\"accuracy\"])"
      ]
    },
    {
      "cell_type": "code",
      "execution_count": 79,
      "id": "2e11b1cf",
      "metadata": {
        "colab": {
          "base_uri": "https://localhost:8080/"
        },
        "execution": {
          "iopub.execute_input": "2021-10-10T01:46:57.165747Z",
          "iopub.status.busy": "2021-10-10T01:46:57.165319Z",
          "iopub.status.idle": "2021-10-10T01:48:17.223077Z",
          "shell.execute_reply": "2021-10-10T01:48:17.223503Z"
        },
        "id": "2e11b1cf",
        "outputId": "942e268a-4fc1-4615-9195-00e0947fca93"
      },
      "outputs": [
        {
          "output_type": "stream",
          "name": "stdout",
          "text": [
            "Epoch 1/25\n",
            "1719/1719 [==============================] - 5s 3ms/step - loss: 0.4898 - accuracy: 0.8270 - val_loss: 0.4066 - val_accuracy: 0.8610\n",
            "Epoch 2/25\n",
            "1719/1719 [==============================] - 5s 3ms/step - loss: 0.3793 - accuracy: 0.8655 - val_loss: 0.3732 - val_accuracy: 0.8706\n",
            "Epoch 3/25\n",
            "1719/1719 [==============================] - 5s 3ms/step - loss: 0.3470 - accuracy: 0.8773 - val_loss: 0.3749 - val_accuracy: 0.8704\n",
            "Epoch 4/25\n",
            "1719/1719 [==============================] - 5s 3ms/step - loss: 0.3263 - accuracy: 0.8849 - val_loss: 0.3513 - val_accuracy: 0.8790\n",
            "Epoch 5/25\n",
            "1719/1719 [==============================] - 5s 3ms/step - loss: 0.3112 - accuracy: 0.8896 - val_loss: 0.3452 - val_accuracy: 0.8780\n",
            "Epoch 6/25\n",
            "1719/1719 [==============================] - 5s 3ms/step - loss: 0.2977 - accuracy: 0.8939 - val_loss: 0.3427 - val_accuracy: 0.8824\n",
            "Epoch 7/25\n",
            "1719/1719 [==============================] - 5s 3ms/step - loss: 0.2876 - accuracy: 0.8978 - val_loss: 0.3384 - val_accuracy: 0.8814\n",
            "Epoch 8/25\n",
            "1719/1719 [==============================] - 5s 3ms/step - loss: 0.2784 - accuracy: 0.9011 - val_loss: 0.3428 - val_accuracy: 0.8802\n",
            "Epoch 9/25\n",
            "1719/1719 [==============================] - 5s 3ms/step - loss: 0.2702 - accuracy: 0.9026 - val_loss: 0.3294 - val_accuracy: 0.8846\n",
            "Epoch 10/25\n",
            "1719/1719 [==============================] - 5s 3ms/step - loss: 0.2629 - accuracy: 0.9054 - val_loss: 0.3286 - val_accuracy: 0.8864\n",
            "Epoch 11/25\n",
            "1719/1719 [==============================] - 5s 3ms/step - loss: 0.2569 - accuracy: 0.9089 - val_loss: 0.3265 - val_accuracy: 0.8888\n",
            "Epoch 12/25\n",
            "1719/1719 [==============================] - 5s 3ms/step - loss: 0.2509 - accuracy: 0.9113 - val_loss: 0.3336 - val_accuracy: 0.8804\n",
            "Epoch 13/25\n",
            "1719/1719 [==============================] - 5s 3ms/step - loss: 0.2453 - accuracy: 0.9132 - val_loss: 0.3248 - val_accuracy: 0.8902\n",
            "Epoch 14/25\n",
            "1719/1719 [==============================] - 5s 3ms/step - loss: 0.2412 - accuracy: 0.9144 - val_loss: 0.3285 - val_accuracy: 0.8868\n",
            "Epoch 15/25\n",
            "1719/1719 [==============================] - 5s 3ms/step - loss: 0.2359 - accuracy: 0.9164 - val_loss: 0.3227 - val_accuracy: 0.8890\n",
            "Epoch 16/25\n",
            "1719/1719 [==============================] - 5s 3ms/step - loss: 0.2319 - accuracy: 0.9182 - val_loss: 0.3201 - val_accuracy: 0.8896\n",
            "Epoch 17/25\n",
            "1719/1719 [==============================] - 5s 3ms/step - loss: 0.2281 - accuracy: 0.9185 - val_loss: 0.3241 - val_accuracy: 0.8878\n",
            "Epoch 18/25\n",
            "1719/1719 [==============================] - 5s 3ms/step - loss: 0.2240 - accuracy: 0.9214 - val_loss: 0.3186 - val_accuracy: 0.8910\n",
            "Epoch 19/25\n",
            "1719/1719 [==============================] - 5s 3ms/step - loss: 0.2206 - accuracy: 0.9222 - val_loss: 0.3220 - val_accuracy: 0.8890\n",
            "Epoch 20/25\n",
            "1719/1719 [==============================] - 5s 3ms/step - loss: 0.2174 - accuracy: 0.9241 - val_loss: 0.3198 - val_accuracy: 0.8904\n",
            "Epoch 21/25\n",
            "1719/1719 [==============================] - 5s 3ms/step - loss: 0.2137 - accuracy: 0.9253 - val_loss: 0.3195 - val_accuracy: 0.8902\n",
            "Epoch 22/25\n",
            "1719/1719 [==============================] - 5s 3ms/step - loss: 0.2111 - accuracy: 0.9268 - val_loss: 0.3175 - val_accuracy: 0.8890\n",
            "Epoch 23/25\n",
            "1719/1719 [==============================] - 5s 3ms/step - loss: 0.2082 - accuracy: 0.9267 - val_loss: 0.3196 - val_accuracy: 0.8914\n",
            "Epoch 24/25\n",
            "1719/1719 [==============================] - 5s 3ms/step - loss: 0.2054 - accuracy: 0.9291 - val_loss: 0.3195 - val_accuracy: 0.8906\n",
            "Epoch 25/25\n",
            "1719/1719 [==============================] - 5s 3ms/step - loss: 0.2032 - accuracy: 0.9292 - val_loss: 0.3190 - val_accuracy: 0.8920\n"
          ]
        }
      ],
      "source": [
        "n_epochs = 25\n",
        "history = model.fit(X_train_scaled, y_train, epochs=n_epochs,\n",
        "                    validation_data=(X_valid_scaled, y_valid))"
      ]
    },
    {
      "cell_type": "code",
      "execution_count": 80,
      "id": "7923309f",
      "metadata": {
        "colab": {
          "base_uri": "https://localhost:8080/",
          "height": 303
        },
        "execution": {
          "iopub.execute_input": "2021-10-10T01:48:17.239726Z",
          "iopub.status.busy": "2021-10-10T01:48:17.239254Z",
          "iopub.status.idle": "2021-10-10T01:48:17.336361Z",
          "shell.execute_reply": "2021-10-10T01:48:17.335889Z"
        },
        "id": "7923309f",
        "outputId": "58ec6ea7-ff28-4071-a871-5db0624fc6df"
      },
      "outputs": [
        {
          "output_type": "display_data",
          "data": {
            "text/plain": [
              "<Figure size 432x288 with 1 Axes>"
            ],
            "image/png": "[encoded data removed]"
          },
          "metadata": {
            "needs_background": "light"
          }
        }
      ],
      "source": [
        "import math\n",
        "\n",
        "learning_rate = 0.01\n",
        "decay = 1e-4\n",
        "batch_size = 32\n",
        "n_steps_per_epoch = math.ceil(len(X_train) / batch_size)\n",
        "epochs = np.arange(n_epochs)\n",
        "lrs = learning_rate / (1 + decay * epochs * n_steps_per_epoch)\n",
        "\n",
        "plt.plot(epochs, lrs,  \"o-\")\n",
        "plt.axis([0, n_epochs - 1, 0, 0.01])\n",
        "plt.xlabel(\"Epoch\")\n",
        "plt.ylabel(\"Learning Rate\")\n",
        "plt.title(\"Power Scheduling\", fontsize=14)\n",
        "plt.grid(True)\n",
        "plt.show()"
      ]
    },
    {
      "cell_type": "markdown",
      "id": "f8b6321f",
      "metadata": {
        "id": "f8b6321f"
      },
      "source": [
        "### 지수 기반 스케줄링"
      ]
    },
    {
      "cell_type": "markdown",
      "id": "e9f53408",
      "metadata": {
        "id": "e9f53408"
      },
      "source": [
        "```lr = lr0 * 0.1**(epoch / s)```"
      ]
    },
    {
      "cell_type": "code",
      "execution_count": 81,
      "id": "33cc902a",
      "metadata": {
        "execution": {
          "iopub.execute_input": "2021-10-10T01:48:17.340258Z",
          "iopub.status.busy": "2021-10-10T01:48:17.339781Z",
          "iopub.status.idle": "2021-10-10T01:48:17.341752Z",
          "shell.execute_reply": "2021-10-10T01:48:17.342087Z"
        },
        "id": "33cc902a"
      },
      "outputs": [],
      "source": [
        "def exponential_decay_fn(epoch):\n",
        "    return 0.01 * 0.1**(epoch / 20)"
      ]
    },
    {
      "cell_type": "code",
      "execution_count": 82,
      "id": "0502d4a0",
      "metadata": {
        "execution": {
          "iopub.execute_input": "2021-10-10T01:48:17.345803Z",
          "iopub.status.busy": "2021-10-10T01:48:17.345315Z",
          "iopub.status.idle": "2021-10-10T01:48:17.348063Z",
          "shell.execute_reply": "2021-10-10T01:48:17.348417Z"
        },
        "id": "0502d4a0"
      },
      "outputs": [],
      "source": [
        "def exponential_decay(lr0, s):\n",
        "    def exponential_decay_fn(epoch):\n",
        "        return lr0 * 0.1**(epoch / s)\n",
        "    return exponential_decay_fn\n",
        "\n",
        "exponential_decay_fn = exponential_decay(lr0=0.01, s=20)"
      ]
    },
    {
      "cell_type": "code",
      "execution_count": 83,
      "id": "51fd5066",
      "metadata": {
        "execution": {
          "iopub.execute_input": "2021-10-10T01:48:17.355471Z",
          "iopub.status.busy": "2021-10-10T01:48:17.354947Z",
          "iopub.status.idle": "2021-10-10T01:48:17.382424Z",
          "shell.execute_reply": "2021-10-10T01:48:17.382789Z"
        },
        "id": "51fd5066"
      },
      "outputs": [],
      "source": [
        "model = keras.models.Sequential([\n",
        "    keras.layers.Flatten(input_shape=[28, 28]),\n",
        "    keras.layers.Dense(300, activation=\"selu\", kernel_initializer=\"lecun_normal\"),\n",
        "    keras.layers.Dense(100, activation=\"selu\", kernel_initializer=\"lecun_normal\"),\n",
        "    keras.layers.Dense(10, activation=\"softmax\")\n",
        "])\n",
        "model.compile(loss=\"sparse_categorical_crossentropy\", optimizer=\"nadam\", metrics=[\"accuracy\"])\n",
        "n_epochs = 25"
      ]
    },
    {
      "cell_type": "code",
      "execution_count": null,
      "id": "359412e2",
      "metadata": {
        "colab": {
          "base_uri": "https://localhost:8080/"
        },
        "execution": {
          "iopub.execute_input": "2021-10-10T01:48:17.387048Z",
          "iopub.status.busy": "2021-10-10T01:48:17.386588Z",
          "iopub.status.idle": "2021-10-10T01:50:16.164869Z",
          "shell.execute_reply": "2021-10-10T01:50:16.165266Z"
        },
        "id": "359412e2",
        "outputId": "1e062638-afc6-4085-9b8a-0f707a007149"
      },
      "outputs": [
        {
          "output_type": "stream",
          "name": "stdout",
          "text": [
            "Epoch 1/25\n",
            "1719/1719 [==============================] - 7s 4ms/step - loss: 0.8437 - accuracy: 0.7555 - val_loss: 0.8733 - val_accuracy: 0.7664 - lr: 0.0100\n",
            "Epoch 2/25\n",
            "1719/1719 [==============================] - 6s 4ms/step - loss: 0.6816 - accuracy: 0.7958 - val_loss: 0.5958 - val_accuracy: 0.8316 - lr: 0.0089\n",
            "Epoch 3/25\n",
            "1719/1719 [==============================] - 6s 4ms/step - loss: 0.6125 - accuracy: 0.8147 - val_loss: 1.1907 - val_accuracy: 0.6892 - lr: 0.0079\n",
            "Epoch 4/25\n",
            "1719/1719 [==============================] - 6s 4ms/step - loss: 0.5581 - accuracy: 0.8281 - val_loss: 0.5687 - val_accuracy: 0.8406 - lr: 0.0071\n",
            "Epoch 5/25\n",
            "1719/1719 [==============================] - 6s 4ms/step - loss: 0.5133 - accuracy: 0.8447 - val_loss: 0.5739 - val_accuracy: 0.8486 - lr: 0.0063\n",
            "Epoch 6/25\n",
            "1719/1719 [==============================] - 6s 4ms/step - loss: 0.4554 - accuracy: 0.8551 - val_loss: 0.4900 - val_accuracy: 0.8612 - lr: 0.0056\n",
            "Epoch 7/25\n",
            "1719/1719 [==============================] - 6s 4ms/step - loss: 0.4107 - accuracy: 0.8674 - val_loss: 0.4900 - val_accuracy: 0.8598 - lr: 0.0050\n",
            "Epoch 8/25\n",
            " 343/1719 [====>.........................] - ETA: 4s - loss: 0.3710 - accuracy: 0.8785"
          ]
        }
      ],
      "source": [
        "lr_scheduler = keras.callbacks.LearningRateScheduler(exponential_decay_fn)\n",
        "history = model.fit(X_train_scaled, y_train, epochs=n_epochs,\n",
        "                    validation_data=(X_valid_scaled, y_valid),\n",
        "                    callbacks=[lr_scheduler])"
      ]
    },
    {
      "cell_type": "code",
      "execution_count": null,
      "id": "b332c6b7",
      "metadata": {
        "execution": {
          "iopub.execute_input": "2021-10-10T01:50:16.181868Z",
          "iopub.status.busy": "2021-10-10T01:50:16.181205Z",
          "iopub.status.idle": "2021-10-10T01:50:16.288294Z",
          "shell.execute_reply": "2021-10-10T01:50:16.287704Z"
        },
        "id": "b332c6b7"
      },
      "outputs": [],
      "source": [
        "plt.plot(history.epoch, history.history[\"lr\"], \"o-\")\n",
        "plt.axis([0, n_epochs - 1, 0, 0.011])\n",
        "plt.xlabel(\"Epoch\")\n",
        "plt.ylabel(\"Learning Rate\")\n",
        "plt.title(\"Exponential Scheduling\", fontsize=14)\n",
        "plt.grid(True)\n",
        "plt.show()"
      ]
    },
    {
      "cell_type": "markdown",
      "id": "1e8f6dee",
      "metadata": {
        "id": "1e8f6dee"
      },
      "source": [
        "이 스케줄 함수는 두 번째 매개변수로 현재 학습률을 받을 수 있습니다:"
      ]
    },
    {
      "cell_type": "code",
      "execution_count": null,
      "id": "a0deabfa",
      "metadata": {
        "execution": {
          "iopub.execute_input": "2021-10-10T01:50:16.292347Z",
          "iopub.status.busy": "2021-10-10T01:50:16.291870Z",
          "iopub.status.idle": "2021-10-10T01:50:16.293831Z",
          "shell.execute_reply": "2021-10-10T01:50:16.293416Z"
        },
        "id": "a0deabfa"
      },
      "outputs": [],
      "source": [
        "def exponential_decay_fn(epoch, lr):\n",
        "    return lr * 0.1**(1 / 20)"
      ]
    },
    {
      "cell_type": "markdown",
      "id": "4e9a727c",
      "metadata": {
        "id": "4e9a727c"
      },
      "source": [
        "에포크가 아니라 반복마다 학습률을 업데이트하려면 사용자 정의 콜백 클래스를 작성해야 합니다:"
      ]
    },
    {
      "cell_type": "code",
      "execution_count": null,
      "id": "cbe59eb1",
      "metadata": {
        "execution": {
          "iopub.execute_input": "2021-10-10T01:50:16.304602Z",
          "iopub.status.busy": "2021-10-10T01:50:16.300922Z",
          "iopub.status.idle": "2021-10-10T01:52:30.062081Z",
          "shell.execute_reply": "2021-10-10T01:52:30.062480Z"
        },
        "id": "cbe59eb1"
      },
      "outputs": [],
      "source": [
        "K = keras.backend\n",
        "\n",
        "class ExponentialDecay(keras.callbacks.Callback):\n",
        "    def __init__(self, s=40000):\n",
        "        super().__init__()\n",
        "        self.s = s\n",
        "\n",
        "    def on_batch_begin(self, batch, logs=None):\n",
        "        # 노트: 에포크마다 `batch` 매개변수가 재설정됩니다\n",
        "        lr = K.get_value(self.model.optimizer.lr)\n",
        "        K.set_value(self.model.optimizer.lr, lr * 0.1**(1 / self.s))\n",
        "\n",
        "    def on_epoch_end(self, epoch, logs=None):\n",
        "        logs = logs or {}\n",
        "        logs['lr'] = K.get_value(self.model.optimizer.lr)\n",
        "\n",
        "model = keras.models.Sequential([\n",
        "    keras.layers.Flatten(input_shape=[28, 28]),\n",
        "    keras.layers.Dense(300, activation=\"selu\", kernel_initializer=\"lecun_normal\"),\n",
        "    keras.layers.Dense(100, activation=\"selu\", kernel_initializer=\"lecun_normal\"),\n",
        "    keras.layers.Dense(10, activation=\"softmax\")\n",
        "])\n",
        "lr0 = 0.01\n",
        "optimizer = keras.optimizers.Nadam(learning_rate=lr0)\n",
        "model.compile(loss=\"sparse_categorical_crossentropy\", optimizer=optimizer, metrics=[\"accuracy\"])\n",
        "n_epochs = 25\n",
        "\n",
        "s = 20 * len(X_train) // 32 # 20 에포크 동안 스텝 횟수 (배치 크기 = 32)\n",
        "exp_decay = ExponentialDecay(s)\n",
        "history = model.fit(X_train_scaled, y_train, epochs=n_epochs,\n",
        "                    validation_data=(X_valid_scaled, y_valid),\n",
        "                    callbacks=[exp_decay])"
      ]
    },
    {
      "cell_type": "code",
      "execution_count": null,
      "id": "50c79aa8",
      "metadata": {
        "execution": {
          "iopub.execute_input": "2021-10-10T01:52:30.066416Z",
          "iopub.status.busy": "2021-10-10T01:52:30.065978Z",
          "iopub.status.idle": "2021-10-10T01:52:30.070940Z",
          "shell.execute_reply": "2021-10-10T01:52:30.071306Z"
        },
        "id": "50c79aa8"
      },
      "outputs": [],
      "source": [
        "n_steps = n_epochs * len(X_train) // 32\n",
        "steps = np.arange(n_steps)\n",
        "lrs = lr0 * 0.1**(steps / s)"
      ]
    },
    {
      "cell_type": "code",
      "execution_count": null,
      "id": "7d141614",
      "metadata": {
        "execution": {
          "iopub.execute_input": "2021-10-10T01:52:30.073923Z",
          "iopub.status.busy": "2021-10-10T01:52:30.073468Z",
          "iopub.status.idle": "2021-10-10T01:52:30.213299Z",
          "shell.execute_reply": "2021-10-10T01:52:30.213661Z"
        },
        "id": "7d141614",
        "scrolled": true
      },
      "outputs": [],
      "source": [
        "plt.plot(steps, lrs, \"-\", linewidth=2)\n",
        "plt.axis([0, n_steps - 1, 0, lr0 * 1.1])\n",
        "plt.xlabel(\"Batch\")\n",
        "plt.ylabel(\"Learning Rate\")\n",
        "plt.title(\"Exponential Scheduling (per batch)\", fontsize=14)\n",
        "plt.grid(True)\n",
        "plt.show()"
      ]
    },
    {
      "cell_type": "markdown",
      "id": "1497740d",
      "metadata": {
        "id": "1497740d"
      },
      "source": [
        "### 기간별 고정 스케줄링"
      ]
    },
    {
      "cell_type": "code",
      "execution_count": null,
      "id": "3866e87a",
      "metadata": {
        "execution": {
          "iopub.execute_input": "2021-10-10T01:52:30.217682Z",
          "iopub.status.busy": "2021-10-10T01:52:30.217244Z",
          "iopub.status.idle": "2021-10-10T01:52:30.218896Z",
          "shell.execute_reply": "2021-10-10T01:52:30.219201Z"
        },
        "id": "3866e87a"
      },
      "outputs": [],
      "source": [
        "def piecewise_constant_fn(epoch):\n",
        "    if epoch < 5:\n",
        "        return 0.01\n",
        "    elif epoch < 15:\n",
        "        return 0.005\n",
        "    else:\n",
        "        return 0.001"
      ]
    },
    {
      "cell_type": "code",
      "execution_count": null,
      "id": "2db9f1ec",
      "metadata": {
        "execution": {
          "iopub.execute_input": "2021-10-10T01:52:30.223706Z",
          "iopub.status.busy": "2021-10-10T01:52:30.223298Z",
          "iopub.status.idle": "2021-10-10T01:52:30.225327Z",
          "shell.execute_reply": "2021-10-10T01:52:30.224967Z"
        },
        "id": "2db9f1ec"
      },
      "outputs": [],
      "source": [
        "def piecewise_constant(boundaries, values):\n",
        "    boundaries = np.array([0] + boundaries)\n",
        "    values = np.array(values)\n",
        "    def piecewise_constant_fn(epoch):\n",
        "        return values[np.argmax(boundaries > epoch) - 1]\n",
        "    return piecewise_constant_fn\n",
        "\n",
        "piecewise_constant_fn = piecewise_constant([5, 15], [0.01, 0.005, 0.001])"
      ]
    },
    {
      "cell_type": "code",
      "execution_count": null,
      "id": "c57664bc",
      "metadata": {
        "execution": {
          "iopub.execute_input": "2021-10-10T01:52:30.232878Z",
          "iopub.status.busy": "2021-10-10T01:52:30.232456Z",
          "iopub.status.idle": "2021-10-10T01:54:28.727692Z",
          "shell.execute_reply": "2021-10-10T01:54:28.727295Z"
        },
        "id": "c57664bc"
      },
      "outputs": [],
      "source": [
        "lr_scheduler = keras.callbacks.LearningRateScheduler(piecewise_constant_fn)\n",
        "\n",
        "model = keras.models.Sequential([\n",
        "    keras.layers.Flatten(input_shape=[28, 28]),\n",
        "    keras.layers.Dense(300, activation=\"selu\", kernel_initializer=\"lecun_normal\"),\n",
        "    keras.layers.Dense(100, activation=\"selu\", kernel_initializer=\"lecun_normal\"),\n",
        "    keras.layers.Dense(10, activation=\"softmax\")\n",
        "])\n",
        "model.compile(loss=\"sparse_categorical_crossentropy\", optimizer=\"nadam\", metrics=[\"accuracy\"])\n",
        "n_epochs = 25\n",
        "history = model.fit(X_train_scaled, y_train, epochs=n_epochs,\n",
        "                    validation_data=(X_valid_scaled, y_valid),\n",
        "                    callbacks=[lr_scheduler])"
      ]
    },
    {
      "cell_type": "code",
      "execution_count": null,
      "id": "be5f9a08",
      "metadata": {
        "execution": {
          "iopub.execute_input": "2021-10-10T01:54:28.759763Z",
          "iopub.status.busy": "2021-10-10T01:54:28.745242Z",
          "iopub.status.idle": "2021-10-10T01:54:28.844730Z",
          "shell.execute_reply": "2021-10-10T01:54:28.844017Z"
        },
        "id": "be5f9a08"
      },
      "outputs": [],
      "source": [
        "plt.plot(history.epoch, [piecewise_constant_fn(epoch) for epoch in history.epoch], \"o-\")\n",
        "plt.axis([0, n_epochs - 1, 0, 0.011])\n",
        "plt.xlabel(\"Epoch\")\n",
        "plt.ylabel(\"Learning Rate\")\n",
        "plt.title(\"Piecewise Constant Scheduling\", fontsize=14)\n",
        "plt.grid(True)\n",
        "plt.show()"
      ]
    },
    {
      "cell_type": "markdown",
      "id": "34442fd7",
      "metadata": {
        "id": "34442fd7"
      },
      "source": [
        "### 성능 기반 스케줄링"
      ]
    },
    {
      "cell_type": "code",
      "execution_count": null,
      "id": "bc141ae3",
      "metadata": {
        "execution": {
          "iopub.execute_input": "2021-10-10T01:54:28.866786Z",
          "iopub.status.busy": "2021-10-10T01:54:28.866327Z",
          "iopub.status.idle": "2021-10-10T01:54:28.869634Z",
          "shell.execute_reply": "2021-10-10T01:54:28.869117Z"
        },
        "id": "bc141ae3"
      },
      "outputs": [],
      "source": [
        "tf.random.set_seed(42)\n",
        "np.random.seed(42)"
      ]
    },
    {
      "cell_type": "code",
      "execution_count": null,
      "id": "36228807",
      "metadata": {
        "execution": {
          "iopub.execute_input": "2021-10-10T01:54:28.878312Z",
          "iopub.status.busy": "2021-10-10T01:54:28.877845Z",
          "iopub.status.idle": "2021-10-10T01:55:53.477033Z",
          "shell.execute_reply": "2021-10-10T01:55:53.477427Z"
        },
        "id": "36228807"
      },
      "outputs": [],
      "source": [
        "lr_scheduler = keras.callbacks.ReduceLROnPlateau(factor=0.5, patience=5)\n",
        "\n",
        "model = keras.models.Sequential([\n",
        "    keras.layers.Flatten(input_shape=[28, 28]),\n",
        "    keras.layers.Dense(300, activation=\"selu\", kernel_initializer=\"lecun_normal\"),\n",
        "    keras.layers.Dense(100, activation=\"selu\", kernel_initializer=\"lecun_normal\"),\n",
        "    keras.layers.Dense(10, activation=\"softmax\")\n",
        "])\n",
        "optimizer = keras.optimizers.SGD(learning_rate=0.02, momentum=0.9)\n",
        "model.compile(loss=\"sparse_categorical_crossentropy\", optimizer=optimizer, metrics=[\"accuracy\"])\n",
        "n_epochs = 25\n",
        "history = model.fit(X_train_scaled, y_train, epochs=n_epochs,\n",
        "                    validation_data=(X_valid_scaled, y_valid),\n",
        "                    callbacks=[lr_scheduler])"
      ]
    },
    {
      "cell_type": "code",
      "execution_count": null,
      "id": "0958da34",
      "metadata": {
        "execution": {
          "iopub.execute_input": "2021-10-10T01:55:53.492046Z",
          "iopub.status.busy": "2021-10-10T01:55:53.482969Z",
          "iopub.status.idle": "2021-10-10T01:55:53.655600Z",
          "shell.execute_reply": "2021-10-10T01:55:53.656033Z"
        },
        "id": "0958da34"
      },
      "outputs": [],
      "source": [
        "plt.plot(history.epoch, history.history[\"lr\"], \"bo-\")\n",
        "plt.xlabel(\"Epoch\")\n",
        "plt.ylabel(\"Learning Rate\", color='b')\n",
        "plt.tick_params('y', colors='b')\n",
        "plt.gca().set_xlim(0, n_epochs - 1)\n",
        "plt.grid(True)\n",
        "\n",
        "ax2 = plt.gca().twinx()\n",
        "ax2.plot(history.epoch, history.history[\"val_loss\"], \"r^-\")\n",
        "ax2.set_ylabel('Validation Loss', color='r')\n",
        "ax2.tick_params('y', colors='r')\n",
        "\n",
        "plt.title(\"Reduce LR on Plateau\", fontsize=14)\n",
        "plt.show()"
      ]
    },
    {
      "cell_type": "markdown",
      "id": "a6b9f808",
      "metadata": {
        "id": "a6b9f808"
      },
      "source": [
        "### tf.keras 스케줄러"
      ]
    },
    {
      "cell_type": "code",
      "execution_count": null,
      "id": "a7c7404f",
      "metadata": {
        "execution": {
          "iopub.execute_input": "2021-10-10T01:55:53.663557Z",
          "iopub.status.busy": "2021-10-10T01:55:53.658013Z",
          "iopub.status.idle": "2021-10-10T01:57:12.590624Z",
          "shell.execute_reply": "2021-10-10T01:57:12.591032Z"
        },
        "id": "a7c7404f"
      },
      "outputs": [],
      "source": [
        "model = keras.models.Sequential([\n",
        "    keras.layers.Flatten(input_shape=[28, 28]),\n",
        "    keras.layers.Dense(300, activation=\"selu\", kernel_initializer=\"lecun_normal\"),\n",
        "    keras.layers.Dense(100, activation=\"selu\", kernel_initializer=\"lecun_normal\"),\n",
        "    keras.layers.Dense(10, activation=\"softmax\")\n",
        "])\n",
        "s = 20 * len(X_train) // 32 # number of steps in 20 epochs (batch size = 32)\n",
        "learning_rate = keras.optimizers.schedules.ExponentialDecay(0.01, s, 0.1)\n",
        "optimizer = keras.optimizers.SGD(learning_rate)\n",
        "model.compile(loss=\"sparse_categorical_crossentropy\", optimizer=optimizer, metrics=[\"accuracy\"])\n",
        "n_epochs = 25\n",
        "history = model.fit(X_train_scaled, y_train, epochs=n_epochs,\n",
        "                    validation_data=(X_valid_scaled, y_valid))"
      ]
    },
    {
      "cell_type": "markdown",
      "id": "f4f53731",
      "metadata": {
        "id": "f4f53731"
      },
      "source": [
        "구간별 고정 스케줄링은 다음을 사용하세요:"
      ]
    },
    {
      "cell_type": "code",
      "execution_count": null,
      "id": "b6bd2108",
      "metadata": {
        "execution": {
          "iopub.execute_input": "2021-10-10T01:57:12.595253Z",
          "iopub.status.busy": "2021-10-10T01:57:12.594760Z",
          "iopub.status.idle": "2021-10-10T01:57:12.597407Z",
          "shell.execute_reply": "2021-10-10T01:57:12.597816Z"
        },
        "id": "b6bd2108"
      },
      "outputs": [],
      "source": [
        "learning_rate = keras.optimizers.schedules.PiecewiseConstantDecay(\n",
        "    boundaries=[5. * n_steps_per_epoch, 15. * n_steps_per_epoch],\n",
        "    values=[0.01, 0.005, 0.001])"
      ]
    },
    {
      "cell_type": "markdown",
      "id": "b5e90440",
      "metadata": {
        "id": "b5e90440"
      },
      "source": [
        "### 1사이클 스케줄링"
      ]
    },
    {
      "cell_type": "code",
      "execution_count": null,
      "id": "a12bb0d3",
      "metadata": {
        "execution": {
          "iopub.execute_input": "2021-10-10T01:57:12.600160Z",
          "iopub.status.busy": "2021-10-10T01:57:12.599683Z",
          "iopub.status.idle": "2021-10-10T01:57:12.607567Z",
          "shell.execute_reply": "2021-10-10T01:57:12.607949Z"
        },
        "id": "a12bb0d3"
      },
      "outputs": [],
      "source": [
        "K = keras.backend\n",
        "\n",
        "class ExponentialLearningRate(keras.callbacks.Callback):\n",
        "    def __init__(self, factor):\n",
        "        self.factor = factor\n",
        "        self.rates = []\n",
        "        self.losses = []\n",
        "    def on_batch_end(self, batch, logs):\n",
        "        self.rates.append(K.get_value(self.model.optimizer.lr))\n",
        "        self.losses.append(logs[\"loss\"])\n",
        "        K.set_value(self.model.optimizer.lr, self.model.optimizer.lr * self.factor)\n",
        "\n",
        "def find_learning_rate(model, X, y, epochs=1, batch_size=32, min_rate=10**-5, max_rate=10):\n",
        "    init_weights = model.get_weights()\n",
        "    iterations = math.ceil(len(X) / batch_size) * epochs\n",
        "    factor = np.exp(np.log(max_rate / min_rate) / iterations)\n",
        "    init_lr = K.get_value(model.optimizer.lr)\n",
        "    K.set_value(model.optimizer.lr, min_rate)\n",
        "    exp_lr = ExponentialLearningRate(factor)\n",
        "    history = model.fit(X, y, epochs=epochs, batch_size=batch_size,\n",
        "                        callbacks=[exp_lr])\n",
        "    K.set_value(model.optimizer.lr, init_lr)\n",
        "    model.set_weights(init_weights)\n",
        "    return exp_lr.rates, exp_lr.losses\n",
        "\n",
        "def plot_lr_vs_loss(rates, losses):\n",
        "    plt.plot(rates, losses)\n",
        "    plt.gca().set_xscale('log')\n",
        "    plt.hlines(min(losses), min(rates), max(rates))\n",
        "    plt.axis([min(rates), max(rates), min(losses), (losses[0] + min(losses)) / 2])\n",
        "    plt.xlabel(\"Learning rate\")\n",
        "    plt.ylabel(\"Loss\")"
      ]
    },
    {
      "cell_type": "markdown",
      "id": "9d720015",
      "metadata": {
        "id": "9d720015"
      },
      "source": [
        "**경고**: `on_batch_end()` 메서드에서 `logs[\"loss\"]`로 배치 손실을 모으지만 텐서플로 2.2.0에서 (에포크의) 평균 손실로 바뀌었습니다. (텐서플로 2.2 이상을 사용한다면) 이런 이유로 아래 그래프가 이전보다 훨씬 부드럽습니다. 이는 그래프에서 배치 손실이 폭주하기 시작하는 지점과 그렇지 않은 지점 사이에 지연이 있다는 뜻입니다. 따라서 변동이 심한 그래프에서는 조금 더 작은 학습률을 선택해야 합니다. 또한 `ExponentialLearningRate` 콜백을 조금 바꾸어 (현재 평균 손실과 이전 평균 손실을 기반으로) 배치 손실을 계산할 수 있습니다:\n",
        "\n",
        "```python\n",
        "class ExponentialLearningRate(keras.callbacks.Callback):\n",
        "    def __init__(self, factor):\n",
        "        self.factor = factor\n",
        "        self.rates = []\n",
        "        self.losses = []\n",
        "    def on_epoch_begin(self, epoch, logs=None):\n",
        "        self.prev_loss = 0\n",
        "    def on_batch_end(self, batch, logs=None):\n",
        "        batch_loss = logs[\"loss\"] * (batch + 1) - self.prev_loss * batch\n",
        "        self.prev_loss = logs[\"loss\"]\n",
        "        self.rates.append(K.get_value(self.model.optimizer.lr))\n",
        "        self.losses.append(batch_loss)\n",
        "        K.set_value(self.model.optimizer.lr, self.model.optimizer.lr * self.factor)\n",
        "```"
      ]
    },
    {
      "cell_type": "code",
      "execution_count": null,
      "id": "c505fa7e",
      "metadata": {
        "execution": {
          "iopub.execute_input": "2021-10-10T01:57:12.610286Z",
          "iopub.status.busy": "2021-10-10T01:57:12.609804Z",
          "iopub.status.idle": "2021-10-10T01:57:12.650015Z",
          "shell.execute_reply": "2021-10-10T01:57:12.650412Z"
        },
        "id": "c505fa7e"
      },
      "outputs": [],
      "source": [
        "tf.random.set_seed(42)\n",
        "np.random.seed(42)\n",
        "\n",
        "model = keras.models.Sequential([\n",
        "    keras.layers.Flatten(input_shape=[28, 28]),\n",
        "    keras.layers.Dense(300, activation=\"selu\", kernel_initializer=\"lecun_normal\"),\n",
        "    keras.layers.Dense(100, activation=\"selu\", kernel_initializer=\"lecun_normal\"),\n",
        "    keras.layers.Dense(10, activation=\"softmax\")\n",
        "])\n",
        "model.compile(loss=\"sparse_categorical_crossentropy\",\n",
        "              optimizer=keras.optimizers.SGD(learning_rate=1e-3),\n",
        "              metrics=[\"accuracy\"])"
      ]
    },
    {
      "cell_type": "code",
      "execution_count": null,
      "id": "037cf66e",
      "metadata": {
        "execution": {
          "iopub.execute_input": "2021-10-10T01:57:12.654529Z",
          "iopub.status.busy": "2021-10-10T01:57:12.654075Z",
          "iopub.status.idle": "2021-10-10T01:57:15.002499Z",
          "shell.execute_reply": "2021-10-10T01:57:15.002098Z"
        },
        "id": "037cf66e"
      },
      "outputs": [],
      "source": [
        "batch_size = 128\n",
        "rates, losses = find_learning_rate(model, X_train_scaled, y_train, epochs=1, batch_size=batch_size)\n",
        "plot_lr_vs_loss(rates, losses)"
      ]
    },
    {
      "cell_type": "code",
      "execution_count": null,
      "id": "ce18733d",
      "metadata": {
        "execution": {
          "iopub.execute_input": "2021-10-10T01:57:15.009692Z",
          "iopub.status.busy": "2021-10-10T01:57:15.009177Z",
          "iopub.status.idle": "2021-10-10T01:57:15.011589Z",
          "shell.execute_reply": "2021-10-10T01:57:15.011207Z"
        },
        "id": "ce18733d"
      },
      "outputs": [],
      "source": [
        "class OneCycleScheduler(keras.callbacks.Callback):\n",
        "    def __init__(self, iterations, max_rate, start_rate=None,\n",
        "                 last_iterations=None, last_rate=None):\n",
        "        self.iterations = iterations\n",
        "        self.max_rate = max_rate\n",
        "        self.start_rate = start_rate or max_rate / 10\n",
        "        self.last_iterations = last_iterations or iterations // 10 + 1\n",
        "        self.half_iteration = (iterations - self.last_iterations) // 2\n",
        "        self.last_rate = last_rate or self.start_rate / 1000\n",
        "        self.iteration = 0\n",
        "    def _interpolate(self, iter1, iter2, rate1, rate2):\n",
        "        return ((rate2 - rate1) * (self.iteration - iter1)\n",
        "                / (iter2 - iter1) + rate1)\n",
        "    def on_batch_begin(self, batch, logs):\n",
        "        if self.iteration < self.half_iteration:\n",
        "            rate = self._interpolate(0, self.half_iteration, self.start_rate, self.max_rate)\n",
        "        elif self.iteration < 2 * self.half_iteration:\n",
        "            rate = self._interpolate(self.half_iteration, 2 * self.half_iteration,\n",
        "                                     self.max_rate, self.start_rate)\n",
        "        else:\n",
        "            rate = self._interpolate(2 * self.half_iteration, self.iterations,\n",
        "                                     self.start_rate, self.last_rate)\n",
        "        self.iteration += 1\n",
        "        K.set_value(self.model.optimizer.lr, rate)"
      ]
    },
    {
      "cell_type": "code",
      "execution_count": null,
      "id": "3102f84d",
      "metadata": {
        "execution": {
          "iopub.execute_input": "2021-10-10T01:57:15.016259Z",
          "iopub.status.busy": "2021-10-10T01:57:15.015403Z",
          "iopub.status.idle": "2021-10-10T01:57:48.534906Z",
          "shell.execute_reply": "2021-10-10T01:57:48.535314Z"
        },
        "id": "3102f84d"
      },
      "outputs": [],
      "source": [
        "n_epochs = 25\n",
        "onecycle = OneCycleScheduler(math.ceil(len(X_train) / batch_size) * n_epochs, max_rate=0.05)\n",
        "history = model.fit(X_train_scaled, y_train, epochs=n_epochs, batch_size=batch_size,\n",
        "                    validation_data=(X_valid_scaled, y_valid),\n",
        "                    callbacks=[onecycle])"
      ]
    },
    {
      "cell_type": "markdown",
      "id": "975f0d32",
      "metadata": {
        "id": "975f0d32"
      },
      "source": [
        "# 11.4 규제를 사용해 과대적합 피하기"
      ]
    },
    {
      "cell_type": "markdown",
      "id": "6bac8fbd",
      "metadata": {
        "id": "6bac8fbd"
      },
      "source": [
        "## 11.4.1 $\\ell_1$과 $\\ell_2$ 규제"
      ]
    },
    {
      "cell_type": "code",
      "execution_count": null,
      "id": "7bf585d8",
      "metadata": {
        "execution": {
          "iopub.execute_input": "2021-10-10T01:57:48.541019Z",
          "iopub.status.busy": "2021-10-10T01:57:48.540412Z",
          "iopub.status.idle": "2021-10-10T01:57:48.542365Z",
          "shell.execute_reply": "2021-10-10T01:57:48.542713Z"
        },
        "id": "7bf585d8"
      },
      "outputs": [],
      "source": [
        "layer = keras.layers.Dense(100, activation=\"elu\",\n",
        "                           kernel_initializer=\"he_normal\",\n",
        "                           kernel_regularizer=keras.regularizers.l2(0.01))\n",
        "# or l1(0.1) for ℓ1 regularization with a factor of 0.1\n",
        "# or l1_l2(0.1, 0.01) for both ℓ1 and ℓ2 regularization, with factors 0.1 and 0.01 respectively"
      ]
    },
    {
      "cell_type": "code",
      "execution_count": null,
      "id": "59616999",
      "metadata": {
        "execution": {
          "iopub.execute_input": "2021-10-10T01:57:48.550535Z",
          "iopub.status.busy": "2021-10-10T01:57:48.550053Z",
          "iopub.status.idle": "2021-10-10T01:57:59.217444Z",
          "shell.execute_reply": "2021-10-10T01:57:59.216984Z"
        },
        "id": "59616999"
      },
      "outputs": [],
      "source": [
        "model = keras.models.Sequential([\n",
        "    keras.layers.Flatten(input_shape=[28, 28]),\n",
        "    keras.layers.Dense(300, activation=\"elu\",\n",
        "                       kernel_initializer=\"he_normal\",\n",
        "                       kernel_regularizer=keras.regularizers.l2(0.01)),\n",
        "    keras.layers.Dense(100, activation=\"elu\",\n",
        "                       kernel_initializer=\"he_normal\",\n",
        "                       kernel_regularizer=keras.regularizers.l2(0.01)),\n",
        "    keras.layers.Dense(10, activation=\"softmax\",\n",
        "                       kernel_regularizer=keras.regularizers.l2(0.01))\n",
        "])\n",
        "model.compile(loss=\"sparse_categorical_crossentropy\", optimizer=\"nadam\", metrics=[\"accuracy\"])\n",
        "n_epochs = 2\n",
        "history = model.fit(X_train_scaled, y_train, epochs=n_epochs,\n",
        "                    validation_data=(X_valid_scaled, y_valid))"
      ]
    },
    {
      "cell_type": "code",
      "execution_count": null,
      "id": "c0e6ecf2",
      "metadata": {
        "execution": {
          "iopub.execute_input": "2021-10-10T01:57:59.220063Z",
          "iopub.status.busy": "2021-10-10T01:57:59.219495Z",
          "iopub.status.idle": "2021-10-10T01:58:09.931371Z",
          "shell.execute_reply": "2021-10-10T01:58:09.930960Z"
        },
        "id": "c0e6ecf2"
      },
      "outputs": [],
      "source": [
        "from functools import partial\n",
        "\n",
        "RegularizedDense = partial(keras.layers.Dense,\n",
        "                           activation=\"elu\",\n",
        "                           kernel_initializer=\"he_normal\",\n",
        "                           kernel_regularizer=keras.regularizers.l2(0.01))\n",
        "\n",
        "model = keras.models.Sequential([\n",
        "    keras.layers.Flatten(input_shape=[28, 28]),\n",
        "    RegularizedDense(300),\n",
        "    RegularizedDense(100),\n",
        "    RegularizedDense(10, activation=\"softmax\")\n",
        "])\n",
        "model.compile(loss=\"sparse_categorical_crossentropy\", optimizer=\"nadam\", metrics=[\"accuracy\"])\n",
        "n_epochs = 2\n",
        "history = model.fit(X_train_scaled, y_train, epochs=n_epochs,\n",
        "                    validation_data=(X_valid_scaled, y_valid))"
      ]
    },
    {
      "cell_type": "markdown",
      "id": "3943f652",
      "metadata": {
        "id": "3943f652"
      },
      "source": [
        "## 11.4.2 드롭아웃\n",
        "\n",
        "드롭아웃은 뉴런들 중 일부를 해당 스텝에서 제외시키는 기법을 이야기한다."
      ]
    },
    {
      "cell_type": "code",
      "execution_count": null,
      "id": "76472ae3",
      "metadata": {
        "execution": {
          "iopub.execute_input": "2021-10-10T01:58:09.940527Z",
          "iopub.status.busy": "2021-10-10T01:58:09.940109Z",
          "iopub.status.idle": "2021-10-10T01:58:31.103411Z",
          "shell.execute_reply": "2021-10-10T01:58:31.102552Z"
        },
        "id": "76472ae3"
      },
      "outputs": [],
      "source": [
        "model = keras.models.Sequential([\n",
        "    keras.layers.Flatten(input_shape=[28, 28]),\n",
        "    keras.layers.Dropout(rate=0.2),\n",
        "    keras.layers.Dense(300, activation=\"elu\", kernel_initializer=\"he_normal\"),\n",
        "    keras.layers.Dropout(rate=0.2),\n",
        "    keras.layers.Dense(100, activation=\"elu\", kernel_initializer=\"he_normal\"),\n",
        "    keras.layers.Dropout(rate=0.2),\n",
        "    keras.layers.Dense(10, activation=\"softmax\")\n",
        "])\n",
        "model.compile(loss=\"sparse_categorical_crossentropy\", optimizer=\"nadam\", metrics=[\"accuracy\"])\n",
        "n_epochs = 2\n",
        "history = model.fit(X_train_scaled, y_train, epochs=n_epochs,\n",
        "                    validation_data=(X_valid_scaled, y_valid))"
      ]
    },
    {
      "cell_type": "markdown",
      "id": "bb51399e",
      "metadata": {
        "id": "bb51399e"
      },
      "source": [
        "## 알파 드롭아웃"
      ]
    },
    {
      "cell_type": "code",
      "execution_count": null,
      "id": "a2531268",
      "metadata": {
        "execution": {
          "iopub.execute_input": "2021-10-10T01:58:31.119724Z",
          "iopub.status.busy": "2021-10-10T01:58:31.119220Z",
          "iopub.status.idle": "2021-10-10T01:58:31.121159Z",
          "shell.execute_reply": "2021-10-10T01:58:31.121556Z"
        },
        "id": "a2531268"
      },
      "outputs": [],
      "source": [
        "tf.random.set_seed(42)\n",
        "np.random.seed(42)"
      ]
    },
    {
      "cell_type": "code",
      "execution_count": null,
      "id": "9817a3db",
      "metadata": {
        "execution": {
          "iopub.execute_input": "2021-10-10T01:58:31.131333Z",
          "iopub.status.busy": "2021-10-10T01:58:31.130900Z",
          "iopub.status.idle": "2021-10-10T01:59:57.645333Z",
          "shell.execute_reply": "2021-10-10T01:59:57.644857Z"
        },
        "id": "9817a3db"
      },
      "outputs": [],
      "source": [
        "model = keras.models.Sequential([\n",
        "    keras.layers.Flatten(input_shape=[28, 28]),\n",
        "    keras.layers.AlphaDropout(rate=0.2),\n",
        "    keras.layers.Dense(300, activation=\"selu\", kernel_initializer=\"lecun_normal\"),\n",
        "    keras.layers.AlphaDropout(rate=0.2),\n",
        "    keras.layers.Dense(100, activation=\"selu\", kernel_initializer=\"lecun_normal\"),\n",
        "    keras.layers.AlphaDropout(rate=0.2),\n",
        "    keras.layers.Dense(10, activation=\"softmax\")\n",
        "])\n",
        "optimizer = keras.optimizers.SGD(learning_rate=0.01, momentum=0.9, nesterov=True)\n",
        "model.compile(loss=\"sparse_categorical_crossentropy\", optimizer=optimizer, metrics=[\"accuracy\"])\n",
        "n_epochs = 20\n",
        "history = model.fit(X_train_scaled, y_train, epochs=n_epochs,\n",
        "                    validation_data=(X_valid_scaled, y_valid))"
      ]
    },
    {
      "cell_type": "code",
      "execution_count": null,
      "id": "75a96530",
      "metadata": {
        "execution": {
          "iopub.execute_input": "2021-10-10T01:59:57.649796Z",
          "iopub.status.busy": "2021-10-10T01:59:57.649335Z",
          "iopub.status.idle": "2021-10-10T01:59:58.069051Z",
          "shell.execute_reply": "2021-10-10T01:59:58.069463Z"
        },
        "id": "75a96530"
      },
      "outputs": [],
      "source": [
        "model.evaluate(X_test_scaled, y_test)"
      ]
    },
    {
      "cell_type": "code",
      "execution_count": null,
      "id": "87b0a11e",
      "metadata": {
        "execution": {
          "iopub.execute_input": "2021-10-10T01:59:58.072059Z",
          "iopub.status.busy": "2021-10-10T01:59:58.071606Z",
          "iopub.status.idle": "2021-10-10T02:00:00.292755Z",
          "shell.execute_reply": "2021-10-10T02:00:00.293123Z"
        },
        "id": "87b0a11e"
      },
      "outputs": [],
      "source": [
        "model.evaluate(X_train_scaled, y_train)"
      ]
    },
    {
      "cell_type": "code",
      "execution_count": null,
      "id": "52052b46",
      "metadata": {
        "execution": {
          "iopub.execute_input": "2021-10-10T02:00:00.296785Z",
          "iopub.status.busy": "2021-10-10T02:00:00.296281Z",
          "iopub.status.idle": "2021-10-10T02:00:05.567250Z",
          "shell.execute_reply": "2021-10-10T02:00:05.567645Z"
        },
        "id": "52052b46"
      },
      "outputs": [],
      "source": [
        "history = model.fit(X_train_scaled, y_train)"
      ]
    },
    {
      "cell_type": "markdown",
      "id": "3165bd5a",
      "metadata": {
        "id": "3165bd5a"
      },
      "source": [
        "##11.4.3 몬테카를로 드롭아웃"
      ]
    },
    {
      "cell_type": "code",
      "execution_count": null,
      "id": "93e28516",
      "metadata": {
        "execution": {
          "iopub.execute_input": "2021-10-10T02:00:05.574522Z",
          "iopub.status.busy": "2021-10-10T02:00:05.574061Z",
          "iopub.status.idle": "2021-10-10T02:00:05.576527Z",
          "shell.execute_reply": "2021-10-10T02:00:05.576902Z"
        },
        "id": "93e28516"
      },
      "outputs": [],
      "source": [
        "tf.random.set_seed(42)\n",
        "np.random.seed(42)"
      ]
    },
    {
      "cell_type": "code",
      "execution_count": null,
      "id": "218993dd",
      "metadata": {
        "execution": {
          "iopub.execute_input": "2021-10-10T02:00:05.607713Z",
          "iopub.status.busy": "2021-10-10T02:00:05.606968Z",
          "iopub.status.idle": "2021-10-10T02:00:16.458599Z",
          "shell.execute_reply": "2021-10-10T02:00:16.459005Z"
        },
        "id": "218993dd",
        "scrolled": true
      },
      "outputs": [],
      "source": [
        "y_probas = np.stack([model(X_test_scaled, training=True)\n",
        "                     for sample in range(100)])\n",
        "y_proba = y_probas.mean(axis=0)\n",
        "y_std = y_probas.std(axis=0)"
      ]
    },
    {
      "cell_type": "code",
      "execution_count": null,
      "id": "3730272d",
      "metadata": {
        "execution": {
          "iopub.execute_input": "2021-10-10T02:00:16.463077Z",
          "iopub.status.busy": "2021-10-10T02:00:16.462635Z",
          "iopub.status.idle": "2021-10-10T02:00:16.544991Z",
          "shell.execute_reply": "2021-10-10T02:00:16.545361Z"
        },
        "id": "3730272d"
      },
      "outputs": [],
      "source": [
        "np.round(model.predict(X_test_scaled[:1]), 2)"
      ]
    },
    {
      "cell_type": "code",
      "execution_count": null,
      "id": "8cb40189",
      "metadata": {
        "execution": {
          "iopub.execute_input": "2021-10-10T02:00:16.547692Z",
          "iopub.status.busy": "2021-10-10T02:00:16.547232Z",
          "iopub.status.idle": "2021-10-10T02:00:16.558147Z",
          "shell.execute_reply": "2021-10-10T02:00:16.558525Z"
        },
        "id": "8cb40189"
      },
      "outputs": [],
      "source": [
        "np.round(y_probas[:, :1], 2)"
      ]
    },
    {
      "cell_type": "code",
      "execution_count": null,
      "id": "b2b92371",
      "metadata": {
        "execution": {
          "iopub.execute_input": "2021-10-10T02:00:16.562759Z",
          "iopub.status.busy": "2021-10-10T02:00:16.562081Z",
          "iopub.status.idle": "2021-10-10T02:00:16.565163Z",
          "shell.execute_reply": "2021-10-10T02:00:16.564768Z"
        },
        "id": "b2b92371"
      },
      "outputs": [],
      "source": [
        "np.round(y_proba[:1], 2)"
      ]
    },
    {
      "cell_type": "code",
      "execution_count": null,
      "id": "e2ddbcac",
      "metadata": {
        "execution": {
          "iopub.execute_input": "2021-10-10T02:00:16.568447Z",
          "iopub.status.busy": "2021-10-10T02:00:16.567955Z",
          "iopub.status.idle": "2021-10-10T02:00:16.591509Z",
          "shell.execute_reply": "2021-10-10T02:00:16.591909Z"
        },
        "id": "e2ddbcac"
      },
      "outputs": [],
      "source": [
        "y_std = y_probas.std(axis=0)\n",
        "np.round(y_std[:1], 2)"
      ]
    },
    {
      "cell_type": "code",
      "execution_count": null,
      "id": "7336f012",
      "metadata": {
        "execution": {
          "iopub.execute_input": "2021-10-10T02:00:16.595392Z",
          "iopub.status.busy": "2021-10-10T02:00:16.594927Z",
          "iopub.status.idle": "2021-10-10T02:00:16.597247Z",
          "shell.execute_reply": "2021-10-10T02:00:16.597654Z"
        },
        "id": "7336f012"
      },
      "outputs": [],
      "source": [
        "y_pred = np.argmax(y_proba, axis=1)"
      ]
    },
    {
      "cell_type": "code",
      "execution_count": null,
      "id": "a61707c2",
      "metadata": {
        "execution": {
          "iopub.execute_input": "2021-10-10T02:00:16.601741Z",
          "iopub.status.busy": "2021-10-10T02:00:16.601262Z",
          "iopub.status.idle": "2021-10-10T02:00:16.605307Z",
          "shell.execute_reply": "2021-10-10T02:00:16.604894Z"
        },
        "id": "a61707c2"
      },
      "outputs": [],
      "source": [
        "accuracy = np.sum(y_pred == y_test) / len(y_test)\n",
        "accuracy"
      ]
    },
    {
      "cell_type": "code",
      "execution_count": null,
      "id": "5cc6816d",
      "metadata": {
        "execution": {
          "iopub.execute_input": "2021-10-10T02:00:16.609862Z",
          "iopub.status.busy": "2021-10-10T02:00:16.609323Z",
          "iopub.status.idle": "2021-10-10T02:00:16.611700Z",
          "shell.execute_reply": "2021-10-10T02:00:16.611365Z"
        },
        "id": "5cc6816d"
      },
      "outputs": [],
      "source": [
        "class MCDropout(keras.layers.Dropout):\n",
        "    def call(self, inputs):\n",
        "        return super().call(inputs, training=True)\n",
        "\n",
        "class MCAlphaDropout(keras.layers.AlphaDropout):\n",
        "    def call(self, inputs):\n",
        "        return super().call(inputs, training=True)"
      ]
    },
    {
      "cell_type": "code",
      "execution_count": null,
      "id": "f71156c5",
      "metadata": {
        "execution": {
          "iopub.execute_input": "2021-10-10T02:00:16.617256Z",
          "iopub.status.busy": "2021-10-10T02:00:16.616580Z",
          "iopub.status.idle": "2021-10-10T02:00:16.618380Z",
          "shell.execute_reply": "2021-10-10T02:00:16.618757Z"
        },
        "id": "f71156c5"
      },
      "outputs": [],
      "source": [
        "tf.random.set_seed(42)\n",
        "np.random.seed(42)"
      ]
    },
    {
      "cell_type": "code",
      "execution_count": null,
      "id": "539ed8a0",
      "metadata": {
        "execution": {
          "iopub.execute_input": "2021-10-10T02:00:16.624514Z",
          "iopub.status.busy": "2021-10-10T02:00:16.624069Z",
          "iopub.status.idle": "2021-10-10T02:00:16.690819Z",
          "shell.execute_reply": "2021-10-10T02:00:16.690361Z"
        },
        "id": "539ed8a0"
      },
      "outputs": [],
      "source": [
        "mc_model = keras.models.Sequential([\n",
        "    MCAlphaDropout(layer.rate) if isinstance(layer, keras.layers.AlphaDropout) else layer\n",
        "    for layer in model.layers\n",
        "])"
      ]
    },
    {
      "cell_type": "code",
      "execution_count": null,
      "id": "177f25b6",
      "metadata": {
        "execution": {
          "iopub.execute_input": "2021-10-10T02:00:16.695715Z",
          "iopub.status.busy": "2021-10-10T02:00:16.693780Z",
          "iopub.status.idle": "2021-10-10T02:00:16.700126Z",
          "shell.execute_reply": "2021-10-10T02:00:16.700476Z"
        },
        "id": "177f25b6"
      },
      "outputs": [],
      "source": [
        "mc_model.summary()"
      ]
    },
    {
      "cell_type": "code",
      "execution_count": null,
      "id": "a6524bfa",
      "metadata": {
        "execution": {
          "iopub.execute_input": "2021-10-10T02:00:16.706126Z",
          "iopub.status.busy": "2021-10-10T02:00:16.705673Z",
          "iopub.status.idle": "2021-10-10T02:00:16.709967Z",
          "shell.execute_reply": "2021-10-10T02:00:16.709500Z"
        },
        "id": "a6524bfa"
      },
      "outputs": [],
      "source": [
        "optimizer = keras.optimizers.SGD(learning_rate=0.01, momentum=0.9, nesterov=True)\n",
        "mc_model.compile(loss=\"sparse_categorical_crossentropy\", optimizer=optimizer, metrics=[\"accuracy\"])"
      ]
    },
    {
      "cell_type": "code",
      "execution_count": null,
      "id": "58f93838",
      "metadata": {
        "execution": {
          "iopub.execute_input": "2021-10-10T02:00:16.713259Z",
          "iopub.status.busy": "2021-10-10T02:00:16.712858Z",
          "iopub.status.idle": "2021-10-10T02:00:16.716876Z",
          "shell.execute_reply": "2021-10-10T02:00:16.716384Z"
        },
        "id": "58f93838"
      },
      "outputs": [],
      "source": [
        "mc_model.set_weights(model.get_weights())"
      ]
    },
    {
      "cell_type": "markdown",
      "id": "8c6bf2c5",
      "metadata": {
        "id": "8c6bf2c5"
      },
      "source": [
        "이제 MC 드롭아웃을 모델에 사용할 수 있습니다:"
      ]
    },
    {
      "cell_type": "code",
      "execution_count": null,
      "id": "7fcabfcb",
      "metadata": {
        "execution": {
          "iopub.execute_input": "2021-10-10T02:00:16.721357Z",
          "iopub.status.busy": "2021-10-10T02:00:16.720910Z",
          "iopub.status.idle": "2021-10-10T02:00:19.970164Z",
          "shell.execute_reply": "2021-10-10T02:00:19.969320Z"
        },
        "id": "7fcabfcb"
      },
      "outputs": [],
      "source": [
        "np.round(np.mean([mc_model.predict(X_test_scaled[:1]) for sample in range(100)], axis=0), 2)"
      ]
    },
    {
      "cell_type": "markdown",
      "id": "5d7836e3",
      "metadata": {
        "id": "5d7836e3"
      },
      "source": [
        "##11.4.4 맥스 노름 규제"
      ]
    },
    {
      "cell_type": "code",
      "execution_count": null,
      "id": "c4499253",
      "metadata": {
        "execution": {
          "iopub.execute_input": "2021-10-10T02:00:19.976363Z",
          "iopub.status.busy": "2021-10-10T02:00:19.975829Z",
          "iopub.status.idle": "2021-10-10T02:00:19.979568Z",
          "shell.execute_reply": "2021-10-10T02:00:19.978866Z"
        },
        "id": "c4499253"
      },
      "outputs": [],
      "source": [
        "layer = keras.layers.Dense(100, activation=\"selu\", kernel_initializer=\"lecun_normal\",\n",
        "                           kernel_constraint=keras.constraints.max_norm(1.))"
      ]
    },
    {
      "cell_type": "code",
      "execution_count": null,
      "id": "e71e730f",
      "metadata": {
        "execution": {
          "iopub.execute_input": "2021-10-10T02:00:19.988590Z",
          "iopub.status.busy": "2021-10-10T02:00:19.988066Z",
          "iopub.status.idle": "2021-10-10T02:00:31.439874Z",
          "shell.execute_reply": "2021-10-10T02:00:31.440249Z"
        },
        "id": "e71e730f"
      },
      "outputs": [],
      "source": [
        "MaxNormDense = partial(keras.layers.Dense,\n",
        "                       activation=\"selu\", kernel_initializer=\"lecun_normal\",\n",
        "                       kernel_constraint=keras.constraints.max_norm(1.))\n",
        "\n",
        "model = keras.models.Sequential([\n",
        "    keras.layers.Flatten(input_shape=[28, 28]),\n",
        "    MaxNormDense(300),\n",
        "    MaxNormDense(100),\n",
        "    keras.layers.Dense(10, activation=\"softmax\")\n",
        "])\n",
        "model.compile(loss=\"sparse_categorical_crossentropy\", optimizer=\"nadam\", metrics=[\"accuracy\"])\n",
        "n_epochs = 2\n",
        "history = model.fit(X_train_scaled, y_train, epochs=n_epochs,\n",
        "                    validation_data=(X_valid_scaled, y_valid))"
      ]
    },
    {
      "cell_type": "markdown",
      "id": "b4004d69",
      "metadata": {
        "id": "b4004d69"
      },
      "source": [
        "# 연습문제 해답"
      ]
    },
    {
      "cell_type": "markdown",
      "id": "97f517c9",
      "metadata": {
        "id": "97f517c9"
      },
      "source": [
        "## 1. to 7."
      ]
    },
    {
      "cell_type": "markdown",
      "id": "520ed556",
      "metadata": {
        "id": "520ed556"
      },
      "source": [
        "부록 A 참조."
      ]
    },
    {
      "cell_type": "markdown",
      "id": "875e2a03",
      "metadata": {
        "id": "875e2a03"
      },
      "source": [
        "## 8. CIFAR10에서 딥러닝"
      ]
    },
    {
      "cell_type": "markdown",
      "id": "dee4974c",
      "metadata": {
        "id": "dee4974c"
      },
      "source": [
        "### a.\n",
        "*문제: 100개의 뉴런을 가진 은닉층 20개로 심층 신경망을 만들어보세요(너무 많은 것 같지만 이 연습문제의 핵심입니다). He 초기화와 ELU 활성화 함수를 사용하세요.*"
      ]
    },
    {
      "cell_type": "code",
      "execution_count": null,
      "id": "77f881f8",
      "metadata": {
        "execution": {
          "iopub.execute_input": "2021-10-10T02:00:31.445737Z",
          "iopub.status.busy": "2021-10-10T02:00:31.445169Z",
          "iopub.status.idle": "2021-10-10T02:00:31.582969Z",
          "shell.execute_reply": "2021-10-10T02:00:31.583364Z"
        },
        "id": "77f881f8"
      },
      "outputs": [],
      "source": [
        "keras.backend.clear_session()\n",
        "tf.random.set_seed(42)\n",
        "np.random.seed(42)\n",
        "\n",
        "model = keras.models.Sequential()\n",
        "model.add(keras.layers.Flatten(input_shape=[32, 32, 3]))\n",
        "for _ in range(20):\n",
        "    model.add(keras.layers.Dense(100,\n",
        "                                 activation=\"elu\",\n",
        "                                 kernel_initializer=\"he_normal\"))"
      ]
    },
    {
      "cell_type": "markdown",
      "id": "c8d99d81",
      "metadata": {
        "id": "c8d99d81"
      },
      "source": [
        "### b.\n",
        "*문제: Nadam 옵티마이저와 조기 종료를 사용하여 CIFAR10 데이터셋에 이 네트워크를 훈련하세요. `keras.datasets.cifar10.load_ data()`를 사용하여 데이터를 적재할 수 있습니다. 이 데이터셋은 10개의 클래스와 32×32 크기의 컬러 이미지 60,000개로 구성됩니다(50,000개는 훈련, 10,000개는 테스트). 따라서 10개의 뉴런과 소프트맥스 활성화 함수를 사용하는 출력층이 필요합니다. 모델 구조와 하이퍼파라미터를 바꿀 때마다 적절한 학습률을 찾아야 한다는 것을 기억하세요.*"
      ]
    },
    {
      "cell_type": "markdown",
      "id": "0d57c7a8",
      "metadata": {
        "id": "0d57c7a8"
      },
      "source": [
        "모델에 출력층을 추가합니다:"
      ]
    },
    {
      "cell_type": "code",
      "execution_count": null,
      "id": "ddd0b394",
      "metadata": {
        "execution": {
          "iopub.execute_input": "2021-10-10T02:00:31.588810Z",
          "iopub.status.busy": "2021-10-10T02:00:31.587987Z",
          "iopub.status.idle": "2021-10-10T02:00:31.596140Z",
          "shell.execute_reply": "2021-10-10T02:00:31.596528Z"
        },
        "id": "ddd0b394"
      },
      "outputs": [],
      "source": [
        "model.add(keras.layers.Dense(10, activation=\"softmax\"))"
      ]
    },
    {
      "cell_type": "markdown",
      "id": "ade89181",
      "metadata": {
        "id": "ade89181"
      },
      "source": [
        "학습률 5e-5인 Nadam 옵티마이저를 사용해 보죠. 학습률 1e-5, 3e-5, 1e-4, 3e-4, 1e-3, 3e-3, 1e-2를 테스트하고 10번의 에포크 동안 (아래 텐서보드 콜백으로) 학습 곡선을 비교해 보았습니다. 학습률 3e-5와 1e-4가 꽤 좋았기 때문에 5e-5를 시도해 보았고 조금 더 나은 결과를 냈습니다."
      ]
    },
    {
      "cell_type": "code",
      "execution_count": null,
      "id": "4726fd39",
      "metadata": {
        "execution": {
          "iopub.execute_input": "2021-10-10T02:00:31.602815Z",
          "iopub.status.busy": "2021-10-10T02:00:31.601920Z",
          "iopub.status.idle": "2021-10-10T02:00:31.605868Z",
          "shell.execute_reply": "2021-10-10T02:00:31.606214Z"
        },
        "id": "4726fd39"
      },
      "outputs": [],
      "source": [
        "optimizer = keras.optimizers.Nadam(learning_rate=5e-5)\n",
        "model.compile(loss=\"sparse_categorical_crossentropy\",\n",
        "              optimizer=optimizer,\n",
        "              metrics=[\"accuracy\"])"
      ]
    },
    {
      "cell_type": "markdown",
      "id": "0c94967c",
      "metadata": {
        "id": "0c94967c"
      },
      "source": [
        "CIFAR10 데이터셋을 로드하죠. 조기 종료를 사용하기 때문에 검증 세트가 필요합니다. 원본 훈련 세트에서 처음 5,000개를 검증 세트로 사용하겠습니다:"
      ]
    },
    {
      "cell_type": "code",
      "execution_count": null,
      "id": "bfa89a85",
      "metadata": {
        "execution": {
          "iopub.execute_input": "2021-10-10T02:00:31.610560Z",
          "iopub.status.busy": "2021-10-10T02:00:31.609898Z",
          "iopub.status.idle": "2021-10-10T02:00:32.259857Z",
          "shell.execute_reply": "2021-10-10T02:00:32.259344Z"
        },
        "id": "bfa89a85"
      },
      "outputs": [],
      "source": [
        "(X_train_full, y_train_full), (X_test, y_test) = keras.datasets.cifar10.load_data()\n",
        "\n",
        "X_train = X_train_full[5000:]\n",
        "y_train = y_train_full[5000:]\n",
        "X_valid = X_train_full[:5000]\n",
        "y_valid = y_train_full[:5000]"
      ]
    },
    {
      "cell_type": "markdown",
      "id": "c0332f15",
      "metadata": {
        "id": "c0332f15"
      },
      "source": [
        "이제 콜백을 만들고 모델을 훈련합니다:"
      ]
    },
    {
      "cell_type": "code",
      "execution_count": null,
      "id": "05969195",
      "metadata": {
        "execution": {
          "iopub.execute_input": "2021-10-10T02:00:32.265228Z",
          "iopub.status.busy": "2021-10-10T02:00:32.264772Z",
          "iopub.status.idle": "2021-10-10T02:00:32.268571Z",
          "shell.execute_reply": "2021-10-10T02:00:32.268152Z"
        },
        "id": "05969195"
      },
      "outputs": [],
      "source": [
        "early_stopping_cb = keras.callbacks.EarlyStopping(patience=20)\n",
        "model_checkpoint_cb = keras.callbacks.ModelCheckpoint(\"my_cifar10_model.h5\", save_best_only=True)\n",
        "run_index = 1 # 모델을 훈련할 때마다 증가시킴\n",
        "run_logdir = os.path.join(os.curdir, \"my_cifar10_logs\", \"run_{:03d}\".format(run_index))\n",
        "tensorboard_cb = keras.callbacks.TensorBoard(run_logdir)\n",
        "callbacks = [early_stopping_cb, model_checkpoint_cb, tensorboard_cb]"
      ]
    },
    {
      "cell_type": "markdown",
      "id": "ab92d461",
      "metadata": {
        "id": "ab92d461"
      },
      "source": [
        "코랩에서 아래 셀에 있는 `%tensorboard` 명령을 실행하면 다음과 같은 텐서보드 화면을 볼 수 있습니다."
      ]
    },
    {
      "cell_type": "markdown",
      "id": "2d6baa46",
      "metadata": {
        "id": "2d6baa46"
      },
      "source": [
        "![스크린샷 2021-02-17 오후 11.42.41.png](data:image/png;base64,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)"
      ]
    },
    {
      "cell_type": "code",
      "execution_count": null,
      "id": "ade0c02f",
      "metadata": {
        "execution": {
          "iopub.execute_input": "2021-10-10T02:00:32.272782Z",
          "iopub.status.busy": "2021-10-10T02:00:32.272333Z",
          "iopub.status.idle": "2021-10-10T02:00:34.813361Z",
          "shell.execute_reply": "2021-10-10T02:00:34.813759Z"
        },
        "id": "ade0c02f"
      },
      "outputs": [],
      "source": [
        "%tensorboard --logdir=./my_cifar10_logs --port=6006"
      ]
    },
    {
      "cell_type": "code",
      "execution_count": null,
      "id": "0a275ebf",
      "metadata": {
        "execution": {
          "iopub.execute_input": "2021-10-10T02:00:34.818828Z",
          "iopub.status.busy": "2021-10-10T02:00:34.818356Z",
          "iopub.status.idle": "2021-10-10T02:07:31.582151Z",
          "shell.execute_reply": "2021-10-10T02:07:31.582523Z"
        },
        "id": "0a275ebf"
      },
      "outputs": [],
      "source": [
        "model.fit(X_train, y_train, epochs=100,\n",
        "          validation_data=(X_valid, y_valid),\n",
        "          callbacks=callbacks)"
      ]
    },
    {
      "cell_type": "code",
      "execution_count": null,
      "id": "c5a2acbe",
      "metadata": {
        "execution": {
          "iopub.execute_input": "2021-10-10T02:07:31.585255Z",
          "iopub.status.busy": "2021-10-10T02:07:31.584819Z",
          "iopub.status.idle": "2021-10-10T02:07:32.405273Z",
          "shell.execute_reply": "2021-10-10T02:07:32.404836Z"
        },
        "id": "c5a2acbe"
      },
      "outputs": [],
      "source": [
        "model = keras.models.load_model(\"my_cifar10_model.h5\")\n",
        "model.evaluate(X_valid, y_valid)"
      ]
    },
    {
      "cell_type": "markdown",
      "id": "5df57e73",
      "metadata": {
        "id": "5df57e73"
      },
      "source": [
        "가장 낮은 검증 손실을 내는 모델은 검증 세트에서 약 47.6% 정확도를 얻었습니다. 이 검증 점수에 도달하는데 27번의 에포크가 걸렸습니다. (GPU가 없는) 제 노트북에서 에포크당 약 8초 정도 걸렸습니다. 배치 정규화를 사용해 성능을 올릴 수 있는지 확인해 보죠."
      ]
    },
    {
      "cell_type": "markdown",
      "id": "ec6c6722",
      "metadata": {
        "id": "ec6c6722"
      },
      "source": [
        "### c.\n",
        "*문제: 배치 정규화를 추가하고 학습 곡선을 비교해보세요. 이전보다 빠르게 수렴하나요? 더 좋은 모델이 만들어지나요? 훈련 속도에는 어떤 영향을 미치나요?*"
      ]
    },
    {
      "cell_type": "markdown",
      "id": "854e2f22",
      "metadata": {
        "id": "854e2f22"
      },
      "source": [
        "다음 코드는 위의 코드와 배우 비슷합니다. 몇 가지 다른 점은 아래와 같습니다:\n",
        "\n",
        "* 출력층을 제외하고 모든 `Dense` 층 다음에 (활성화 함수 전에) BN 층을 추가했습니다. 처음 은닉층 전에도 BN 층을 추가했습니다.\n",
        "* 학습률을 5e-4로 바꾸었습니다. 1e-5, 3e-5, 5e-5, 1e-4, 3e-4, 5e-4, 1e-3, 3e-3를 시도해 보고 20번 에포크 후에 검증 세트 성능이 가장 좋은 것을 선택했습니다.\n",
        "* run_logdir를 run_bn_* 으로 이름을 바꾸고 모델 파일 이름을 my_cifar10_bn_model.h5로 변경했습니다."
      ]
    },
    {
      "cell_type": "code",
      "execution_count": null,
      "id": "0f1a7039",
      "metadata": {
        "execution": {
          "iopub.execute_input": "2021-10-10T02:07:32.414481Z",
          "iopub.status.busy": "2021-10-10T02:07:32.413975Z",
          "iopub.status.idle": "2021-10-10T02:17:56.431437Z",
          "shell.execute_reply": "2021-10-10T02:17:56.431911Z"
        },
        "id": "0f1a7039"
      },
      "outputs": [],
      "source": [
        "keras.backend.clear_session()\n",
        "tf.random.set_seed(42)\n",
        "np.random.seed(42)\n",
        "\n",
        "model = keras.models.Sequential()\n",
        "model.add(keras.layers.Flatten(input_shape=[32, 32, 3]))\n",
        "model.add(keras.layers.BatchNormalization())\n",
        "for _ in range(20):\n",
        "    model.add(keras.layers.Dense(100, kernel_initializer=\"he_normal\"))\n",
        "    model.add(keras.layers.BatchNormalization())\n",
        "    model.add(keras.layers.Activation(\"elu\"))\n",
        "model.add(keras.layers.Dense(10, activation=\"softmax\"))\n",
        "\n",
        "optimizer = keras.optimizers.Nadam(learning_rate=5e-4)\n",
        "model.compile(loss=\"sparse_categorical_crossentropy\",\n",
        "              optimizer=optimizer,\n",
        "              metrics=[\"accuracy\"])\n",
        "\n",
        "early_stopping_cb = keras.callbacks.EarlyStopping(patience=20)\n",
        "model_checkpoint_cb = keras.callbacks.ModelCheckpoint(\"my_cifar10_bn_model.h5\", save_best_only=True)\n",
        "run_index = 1 # 모델을 훈련할 때마다 증가시킴\n",
        "run_logdir = os.path.join(os.curdir, \"my_cifar10_logs\", \"run_bn_{:03d}\".format(run_index))\n",
        "tensorboard_cb = keras.callbacks.TensorBoard(run_logdir)\n",
        "callbacks = [early_stopping_cb, model_checkpoint_cb, tensorboard_cb]\n",
        "\n",
        "model.fit(X_train, y_train, epochs=100,\n",
        "          validation_data=(X_valid, y_valid),\n",
        "          callbacks=callbacks)\n",
        "\n",
        "model = keras.models.load_model(\"my_cifar10_bn_model.h5\")\n",
        "model.evaluate(X_valid, y_valid)"
      ]
    },
    {
      "cell_type": "markdown",
      "id": "e2a3ac16",
      "metadata": {
        "id": "e2a3ac16"
      },
      "source": [
        "* *이전보다 빠르게 수렴하나요?* 훨씬 빠릅니다! 이전 모델은 가장 낮은 검증 손실에 도달하기 위해 27 에포크가 걸렸지만 새 모델은 동일한 손실에 도달하는데 5 에포크가 걸렸고 16 에포크까지 계속 줄어듭니다. 이전 모델보다 두 배 이상 빠릅니다. BN 층은 훈련을 안정적으로 수행하고 더 큰 학습률을 사용할 수 있기 때문에 수렴이 빨라졌습니다.\n",
        "* *BN이 더 좋은 모델을 만드나요?* 네! 최종 모델의 성능이 47.6%가 아니라 54.0% 정확도로 더 좋습니다. 이는 아주 좋은 모델이 아니지만 적어도 이전보다는 낫습니다(합성곱 신경망이 더 낫겠지만 이는 다른 주제입니다. 14장을 참고하세요).\n",
        "* *BN이 훈련 속도에 영향을 미치나요?* 모델이 훨씬 빠르게 수렴했지만 각 에포크는 8초가 아니라 12초가 걸렸습니다. BN 층에서 추가된 계산 때문입니다. 하지만 전반적인 훈련 시간(탁상 시계 시간)은 크게 줄었습니다!"
      ]
    },
    {
      "cell_type": "markdown",
      "id": "bf99efce",
      "metadata": {
        "id": "bf99efce"
      },
      "source": [
        "### d.\n",
        "*문제: 배치 정규화를 SELU로 바꾸어보세요. 네트워크가 자기 정규화하기 위해 필요한 변경 사항을 적용해보세요(즉, 입력 특성 표준화, 르쿤 정규분포 초기화, 완전 연결 층만 순차적으로 쌓은 심층 신경망 등).*"
      ]
    },
    {
      "cell_type": "code",
      "execution_count": null,
      "id": "9bd725bd",
      "metadata": {
        "execution": {
          "iopub.execute_input": "2021-10-10T02:17:56.440319Z",
          "iopub.status.busy": "2021-10-10T02:17:56.434365Z",
          "iopub.status.idle": "2021-10-10T02:23:23.548440Z",
          "shell.execute_reply": "2021-10-10T02:23:23.548846Z"
        },
        "id": "9bd725bd"
      },
      "outputs": [],
      "source": [
        "keras.backend.clear_session()\n",
        "tf.random.set_seed(42)\n",
        "np.random.seed(42)\n",
        "\n",
        "model = keras.models.Sequential()\n",
        "model.add(keras.layers.Flatten(input_shape=[32, 32, 3]))\n",
        "for _ in range(20):\n",
        "    model.add(keras.layers.Dense(100,\n",
        "                                 kernel_initializer=\"lecun_normal\",\n",
        "                                 activation=\"selu\"))\n",
        "model.add(keras.layers.Dense(10, activation=\"softmax\"))\n",
        "\n",
        "optimizer = keras.optimizers.Nadam(learning_rate=7e-4)\n",
        "model.compile(loss=\"sparse_categorical_crossentropy\",\n",
        "              optimizer=optimizer,\n",
        "              metrics=[\"accuracy\"])\n",
        "\n",
        "early_stopping_cb = keras.callbacks.EarlyStopping(patience=20)\n",
        "model_checkpoint_cb = keras.callbacks.ModelCheckpoint(\"my_cifar10_selu_model.h5\", save_best_only=True)\n",
        "run_index = 1 # 모델을 훈련할 때마다 증가시킴\n",
        "run_logdir = os.path.join(os.curdir, \"my_cifar10_logs\", \"run_selu_{:03d}\".format(run_index))\n",
        "tensorboard_cb = keras.callbacks.TensorBoard(run_logdir)\n",
        "callbacks = [early_stopping_cb, model_checkpoint_cb, tensorboard_cb]\n",
        "\n",
        "X_means = X_train.mean(axis=0)\n",
        "X_stds = X_train.std(axis=0)\n",
        "X_train_scaled = (X_train - X_means) / X_stds\n",
        "X_valid_scaled = (X_valid - X_means) / X_stds\n",
        "X_test_scaled = (X_test - X_means) / X_stds\n",
        "\n",
        "model.fit(X_train_scaled, y_train, epochs=100,\n",
        "          validation_data=(X_valid_scaled, y_valid),\n",
        "          callbacks=callbacks)\n",
        "\n",
        "model = keras.models.load_model(\"my_cifar10_selu_model.h5\")\n",
        "model.evaluate(X_valid_scaled, y_valid)"
      ]
    },
    {
      "cell_type": "code",
      "execution_count": null,
      "id": "92e12f32",
      "metadata": {
        "execution": {
          "iopub.execute_input": "2021-10-10T02:23:23.551702Z",
          "iopub.status.busy": "2021-10-10T02:23:23.551052Z",
          "iopub.status.idle": "2021-10-10T02:23:24.368544Z",
          "shell.execute_reply": "2021-10-10T02:23:24.368946Z"
        },
        "id": "92e12f32"
      },
      "outputs": [],
      "source": [
        "model = keras.models.load_model(\"my_cifar10_selu_model.h5\")\n",
        "model.evaluate(X_valid_scaled, y_valid)"
      ]
    },
    {
      "cell_type": "markdown",
      "id": "7a651545",
      "metadata": {
        "id": "7a651545"
      },
      "source": [
        "47.9% 정확도를 얻었습니다. 원래 모델(47.6%)보다 크게 높지 않습니다. 배치 정규화를 사용한 모델(54.0%)만큼 좋지도 않습니다. 하지만 BN 모델만큼 빠르게 수렴했습니다. 각 에포크는 7초만 걸렸습니다. 따라서 이 모델이 지금까지 가장 빠른 모델입니다."
      ]
    },
    {
      "cell_type": "markdown",
      "id": "84241c47",
      "metadata": {
        "id": "84241c47"
      },
      "source": [
        "### e.\n",
        "*문제: 알파 드롭아웃으로 모델에 규제를 적용해보세요. 그다음 모델을 다시 훈련하지 않고 MC 드롭아웃으로 더 높은 정확도를 얻을 수 있는지 확인해보세요.*"
      ]
    },
    {
      "cell_type": "code",
      "execution_count": null,
      "id": "a3e33d98",
      "metadata": {
        "execution": {
          "iopub.execute_input": "2021-10-10T02:23:24.371629Z",
          "iopub.status.busy": "2021-10-10T02:23:24.371152Z",
          "iopub.status.idle": "2021-10-10T02:27:34.840754Z",
          "shell.execute_reply": "2021-10-10T02:27:34.840389Z"
        },
        "id": "a3e33d98"
      },
      "outputs": [],
      "source": [
        "keras.backend.clear_session()\n",
        "tf.random.set_seed(42)\n",
        "np.random.seed(42)\n",
        "\n",
        "model = keras.models.Sequential()\n",
        "model.add(keras.layers.Flatten(input_shape=[32, 32, 3]))\n",
        "for _ in range(20):\n",
        "    model.add(keras.layers.Dense(100,\n",
        "                                 kernel_initializer=\"lecun_normal\",\n",
        "                                 activation=\"selu\"))\n",
        "\n",
        "model.add(keras.layers.AlphaDropout(rate=0.1))\n",
        "model.add(keras.layers.Dense(10, activation=\"softmax\"))\n",
        "\n",
        "optimizer = keras.optimizers.Nadam(learning_rate=5e-4)\n",
        "model.compile(loss=\"sparse_categorical_crossentropy\",\n",
        "              optimizer=optimizer,\n",
        "              metrics=[\"accuracy\"])\n",
        "\n",
        "early_stopping_cb = keras.callbacks.EarlyStopping(patience=20)\n",
        "model_checkpoint_cb = keras.callbacks.ModelCheckpoint(\"my_cifar10_alpha_dropout_model.h5\", save_best_only=True)\n",
        "run_index = 1 # 모델을 훈련할 때마다 증가시킴\n",
        "run_logdir = os.path.join(os.curdir, \"my_cifar10_logs\", \"run_alpha_dropout_{:03d}\".format(run_index))\n",
        "tensorboard_cb = keras.callbacks.TensorBoard(run_logdir)\n",
        "callbacks = [early_stopping_cb, model_checkpoint_cb, tensorboard_cb]\n",
        "\n",
        "X_means = X_train.mean(axis=0)\n",
        "X_stds = X_train.std(axis=0)\n",
        "X_train_scaled = (X_train - X_means) / X_stds\n",
        "X_valid_scaled = (X_valid - X_means) / X_stds\n",
        "X_test_scaled = (X_test - X_means) / X_stds\n",
        "\n",
        "model.fit(X_train_scaled, y_train, epochs=100,\n",
        "          validation_data=(X_valid_scaled, y_valid),\n",
        "          callbacks=callbacks)\n",
        "\n",
        "model = keras.models.load_model(\"my_cifar10_alpha_dropout_model.h5\")\n",
        "model.evaluate(X_valid_scaled, y_valid)"
      ]
    },
    {
      "cell_type": "markdown",
      "id": "489f554e",
      "metadata": {
        "id": "489f554e"
      },
      "source": [
        "이 모델은 검증 세트에서 48.9% 정확도에 도달합니다. 드롭아웃이 없을 때보다(47.6%) 조금 더 좋습니다. 하이퍼파라미터 탐색을 좀 많이 수행해 보면 더 나아 질 수 있습니다(드롭아웃 비율 5%, 10%, 20%, 40%과 학습률 1e-4, 3e-4, 5e-4, 1e-3을 시도했습니다). 하지만 이 경우에는 크지 않을 것 같습니다."
      ]
    },
    {
      "cell_type": "markdown",
      "id": "a3e319f0",
      "metadata": {
        "id": "a3e319f0"
      },
      "source": [
        "이제 MC 드롭아웃을 사용해 보죠. 앞서 사용한 `MCAlphaDropout` 클래스를 복사해 사용하겠습니다:"
      ]
    },
    {
      "cell_type": "code",
      "execution_count": null,
      "id": "d23b8d78",
      "metadata": {
        "execution": {
          "iopub.execute_input": "2021-10-10T02:27:34.843914Z",
          "iopub.status.busy": "2021-10-10T02:27:34.843283Z",
          "iopub.status.idle": "2021-10-10T02:27:34.847076Z",
          "shell.execute_reply": "2021-10-10T02:27:34.846645Z"
        },
        "id": "d23b8d78"
      },
      "outputs": [],
      "source": [
        "class MCAlphaDropout(keras.layers.AlphaDropout):\n",
        "    def call(self, inputs):\n",
        "        return super().call(inputs, training=True)"
      ]
    },
    {
      "cell_type": "markdown",
      "id": "f71ad999",
      "metadata": {
        "id": "f71ad999"
      },
      "source": [
        "방금 훈련했던 모델과 (같은 가중치를 가진) 동일한 새로운 모델을 만들어 보죠. 하지만 `AlphaDropout` 층 대신 `MCAlphaDropout` 드롭아웃 층을 사용합니다:"
      ]
    },
    {
      "cell_type": "code",
      "execution_count": null,
      "id": "0aa5121d",
      "metadata": {
        "execution": {
          "iopub.execute_input": "2021-10-10T02:27:34.852156Z",
          "iopub.status.busy": "2021-10-10T02:27:34.851672Z",
          "iopub.status.idle": "2021-10-10T02:27:34.963505Z",
          "shell.execute_reply": "2021-10-10T02:27:34.963888Z"
        },
        "id": "0aa5121d"
      },
      "outputs": [],
      "source": [
        "mc_model = keras.models.Sequential([\n",
        "    MCAlphaDropout(layer.rate) if isinstance(layer, keras.layers.AlphaDropout) else layer\n",
        "    for layer in model.layers\n",
        "])"
      ]
    },
    {
      "cell_type": "markdown",
      "id": "7ae05797",
      "metadata": {
        "id": "7ae05797"
      },
      "source": [
        "그다음 몇 가지 유틸리티 함수를 추가합니다. 첫 번째 함수는 모델을 여러 번 실행합니다(기본적으로 10번). 그다음 평균한 예측 클래스 확률을 반환합니다. 두 번째 함수는 이 평균 확률을 사용해 각 샘플의 클래스를 예측합니다:"
      ]
    },
    {
      "cell_type": "code",
      "execution_count": null,
      "id": "d8dfacb0",
      "metadata": {
        "execution": {
          "iopub.execute_input": "2021-10-10T02:27:34.968554Z",
          "iopub.status.busy": "2021-10-10T02:27:34.968147Z",
          "iopub.status.idle": "2021-10-10T02:27:34.971188Z",
          "shell.execute_reply": "2021-10-10T02:27:34.970854Z"
        },
        "id": "d8dfacb0"
      },
      "outputs": [],
      "source": [
        "def mc_dropout_predict_probas(mc_model, X, n_samples=10):\n",
        "    Y_probas = [mc_model.predict(X) for sample in range(n_samples)]\n",
        "    return np.mean(Y_probas, axis=0)\n",
        "\n",
        "def mc_dropout_predict_classes(mc_model, X, n_samples=10):\n",
        "    Y_probas = mc_dropout_predict_probas(mc_model, X, n_samples)\n",
        "    return np.argmax(Y_probas, axis=1)"
      ]
    },
    {
      "cell_type": "markdown",
      "id": "e0d094fc",
      "metadata": {
        "id": "e0d094fc"
      },
      "source": [
        "이제 검증 세트의 모든 샘플에 대해 예측을 만들고 정확도를 계산해 보죠:"
      ]
    },
    {
      "cell_type": "code",
      "execution_count": null,
      "id": "59649af5",
      "metadata": {
        "execution": {
          "iopub.execute_input": "2021-10-10T02:27:34.976539Z",
          "iopub.status.busy": "2021-10-10T02:27:34.976002Z",
          "iopub.status.idle": "2021-10-10T02:27:38.693235Z",
          "shell.execute_reply": "2021-10-10T02:27:38.693704Z"
        },
        "id": "59649af5"
      },
      "outputs": [],
      "source": [
        "keras.backend.clear_session()\n",
        "tf.random.set_seed(42)\n",
        "np.random.seed(42)\n",
        "\n",
        "y_pred = mc_dropout_predict_classes(mc_model, X_valid_scaled)\n",
        "accuracy = np.mean(y_pred == y_valid[:, 0])\n",
        "accuracy"
      ]
    },
    {
      "cell_type": "markdown",
      "id": "8abcb48a",
      "metadata": {
        "id": "8abcb48a"
      },
      "source": [
        "이 경우에는 정확도 향상이 없습니다(여전히 정확도는 48.9%입니다).\n",
        "\n",
        "따라서 이 연습문에서 얻은 최상의 모델은 배치 정규화 모델입니다."
      ]
    },
    {
      "cell_type": "markdown",
      "id": "23744fa6",
      "metadata": {
        "id": "23744fa6"
      },
      "source": [
        "### f.\n",
        "*문제: 1사이클 스케줄링으로 모델을 다시 훈련하고 훈련 속도와 모델 정확도가 향상되는지 확인해보세요.*"
      ]
    },
    {
      "cell_type": "code",
      "execution_count": null,
      "id": "02802e6b",
      "metadata": {
        "execution": {
          "iopub.execute_input": "2021-10-10T02:27:38.700048Z",
          "iopub.status.busy": "2021-10-10T02:27:38.695989Z",
          "iopub.status.idle": "2021-10-10T02:27:38.840900Z",
          "shell.execute_reply": "2021-10-10T02:27:38.841255Z"
        },
        "id": "02802e6b"
      },
      "outputs": [],
      "source": [
        "keras.backend.clear_session()\n",
        "tf.random.set_seed(42)\n",
        "np.random.seed(42)\n",
        "\n",
        "model = keras.models.Sequential()\n",
        "model.add(keras.layers.Flatten(input_shape=[32, 32, 3]))\n",
        "for _ in range(20):\n",
        "    model.add(keras.layers.Dense(100,\n",
        "                                 kernel_initializer=\"lecun_normal\",\n",
        "                                 activation=\"selu\"))\n",
        "\n",
        "model.add(keras.layers.AlphaDropout(rate=0.1))\n",
        "model.add(keras.layers.Dense(10, activation=\"softmax\"))\n",
        "\n",
        "optimizer = keras.optimizers.SGD(learning_rate=1e-3)\n",
        "model.compile(loss=\"sparse_categorical_crossentropy\",\n",
        "              optimizer=optimizer,\n",
        "              metrics=[\"accuracy\"])"
      ]
    },
    {
      "cell_type": "code",
      "execution_count": null,
      "id": "b7ed266a",
      "metadata": {
        "execution": {
          "iopub.execute_input": "2021-10-10T02:27:38.846130Z",
          "iopub.status.busy": "2021-10-10T02:27:38.845654Z",
          "iopub.status.idle": "2021-10-10T02:27:43.376616Z",
          "shell.execute_reply": "2021-10-10T02:27:43.376191Z"
        },
        "id": "b7ed266a"
      },
      "outputs": [],
      "source": [
        "batch_size = 128\n",
        "rates, losses = find_learning_rate(model, X_train_scaled, y_train, epochs=1, batch_size=batch_size)\n",
        "plot_lr_vs_loss(rates, losses)\n",
        "plt.axis([min(rates), max(rates), min(losses), (losses[0] + min(losses)) / 1.4])"
      ]
    },
    {
      "cell_type": "code",
      "execution_count": null,
      "id": "9c317e1d",
      "metadata": {
        "execution": {
          "iopub.execute_input": "2021-10-10T02:27:43.382664Z",
          "iopub.status.busy": "2021-10-10T02:27:43.381704Z",
          "iopub.status.idle": "2021-10-10T02:27:43.523810Z",
          "shell.execute_reply": "2021-10-10T02:27:43.524227Z"
        },
        "id": "9c317e1d"
      },
      "outputs": [],
      "source": [
        "keras.backend.clear_session()\n",
        "tf.random.set_seed(42)\n",
        "np.random.seed(42)\n",
        "\n",
        "model = keras.models.Sequential()\n",
        "model.add(keras.layers.Flatten(input_shape=[32, 32, 3]))\n",
        "for _ in range(20):\n",
        "    model.add(keras.layers.Dense(100,\n",
        "                                 kernel_initializer=\"lecun_normal\",\n",
        "                                 activation=\"selu\"))\n",
        "\n",
        "model.add(keras.layers.AlphaDropout(rate=0.1))\n",
        "model.add(keras.layers.Dense(10, activation=\"softmax\"))\n",
        "\n",
        "optimizer = keras.optimizers.SGD(learning_rate=1e-2)\n",
        "model.compile(loss=\"sparse_categorical_crossentropy\",\n",
        "              optimizer=optimizer,\n",
        "              metrics=[\"accuracy\"])"
      ]
    },
    {
      "cell_type": "code",
      "execution_count": null,
      "id": "81d910ab",
      "metadata": {
        "execution": {
          "iopub.execute_input": "2021-10-10T02:27:43.528816Z",
          "iopub.status.busy": "2021-10-10T02:27:43.528356Z",
          "iopub.status.idle": "2021-10-10T02:28:29.428769Z",
          "shell.execute_reply": "2021-10-10T02:28:29.428382Z"
        },
        "id": "81d910ab"
      },
      "outputs": [],
      "source": [
        "n_epochs = 15\n",
        "onecycle = OneCycleScheduler(len(X_train_scaled) // batch_size * n_epochs, max_rate=0.05)\n",
        "history = model.fit(X_train_scaled, y_train, epochs=n_epochs, batch_size=batch_size,\n",
        "                    validation_data=(X_valid_scaled, y_valid),\n",
        "                    callbacks=[onecycle])"
      ]
    },
    {
      "cell_type": "markdown",
      "id": "16f9adab",
      "metadata": {
        "id": "16f9adab"
      },
      "source": [
        "1사이클 방식을 사용해 모델을 15에포크 동안 훈련했습니다. (큰 배치 크기 덕분에) 각 에포크는 2초만 걸렸습니다. 이는 지금까지 훈련한 가장 빠른 모델보다 몇 배 더 빠릅니다. 또한 모델 성능도 올라갔습니다(47.6%에서 52.0%). 배치 정규화 모델이 조금 더 성능(54%)이 높지만 훈련 속도가 더 느립니다."
      ]
    }
  ],
  "metadata": {
    "accelerator": "GPU",
    "colab": {
      "provenance": []
    },
    "kernelspec": {
      "display_name": "Python 3 (ipykernel)",
      "language": "python",
      "name": "python3"
    },
    "language_info": {
      "codemirror_mode": {
        "name": "ipython",
        "version": 3
      },
      "file_extension": ".py",
      "mimetype": "text/x-python",
      "name": "python",
      "nbconvert_exporter": "python",
      "pygments_lexer": "ipython3",
      "version": "3.7.3"
    },
    "nav_menu": {
      "height": "360px",
      "width": "416px"
    },
    "toc": {
      "navigate_menu": true,
      "number_sections": true,
      "sideBar": true,
      "threshold": 6,
      "toc_cell": false,
      "toc_section_display": "block",
      "toc_window_display": false
    }
  },
  "nbformat": 4,
  "nbformat_minor": 5
}