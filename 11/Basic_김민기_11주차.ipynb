{
 "cells": [
  {
   "cell_type": "code",
   "execution_count": 1,
   "id": "5b38d103",
   "metadata": {},
   "outputs": [],
   "source": [
    "import sklearn\n",
    "assert sklearn.__version__ >= \"0.20\"\n",
    "\n",
    "# 텐서플로 ≥2.0 필수\n",
    "import tensorflow as tf\n",
    "from tensorflow import keras\n",
    "assert tf.__version__ >= \"2.0\"\n",
    "\n",
    "%load_ext tensorboard\n",
    "\n",
    "# 공통 모듈 임포트\n",
    "import numpy as np\n",
    "import os\n",
    "\n",
    "# 노트북 실행 결과를 동일하게 유지하기 위해\n",
    "np.random.seed(42)\n",
    "\n",
    "# 깔끔한 그래프 출력을 위해\n",
    "%matplotlib inline\n",
    "import matplotlib as mpl\n",
    "import matplotlib.pyplot as plt\n",
    "mpl.rc('axes', labelsize=14)\n",
    "mpl.rc('xtick', labelsize=12)\n",
    "mpl.rc('ytick', labelsize=12)\n",
    "\n",
    "# 그림을 저장할 위치\n",
    "PROJECT_ROOT_DIR = \".\"\n",
    "CHAPTER_ID = \"deep\"\n",
    "IMAGES_PATH = os.path.join(PROJECT_ROOT_DIR, \"images\", CHAPTER_ID)\n",
    "os.makedirs(IMAGES_PATH, exist_ok=True)\n",
    "\n",
    "def save_fig(fig_id, tight_layout=True, fig_extension=\"png\", resolution=300):\n",
    "    path = os.path.join(IMAGES_PATH, fig_id + \".\" + fig_extension)\n",
    "    print(\"그림 저장:\", fig_id)\n",
    "    if tight_layout:\n",
    "        plt.tight_layout()\n",
    "    plt.savefig(path, format=fig_extension, dpi=resolution)"
   ]
  },
  {
   "cell_type": "code",
   "execution_count": 2,
   "id": "1da1865a",
   "metadata": {},
   "outputs": [],
   "source": [
    "import matplotlib\n",
    "matplotlib.rcParams['font.family'] = 'Malgun Gothic' #window\n",
    "matplotlib.rcParams['font.size'] = 15\n",
    "matplotlib.rcParams['axes.unicode_minus'] = False #한글 사용할 때 마이너스 기호 깨지는것을 해결"
   ]
  },
  {
   "cell_type": "markdown",
   "id": "1c116da0",
   "metadata": {},
   "source": [
    "# 11.1 그레디언트 소실과 폭주 문제"
   ]
  },
  {
   "cell_type": "markdown",
   "id": "64c100d9",
   "metadata": {},
   "source": [
    "- **그레이디언트 소실(vanishing gradient)**: 알고리즘이 하위층으로 진행될수록 그레이디언트가 점점 작아지는 경우(좋은 솔루션을 찾지못함)\n",
    "<br><br>\n",
    "- **그레이디언트 폭주(exploding gradient)**: 하위층으로 진행될수록 그레이디언트가 점점 커져 알고리즘이 발산하는 경우.(주로 RNN 계열에서 나타남)"
   ]
  },
  {
   "cell_type": "code",
   "execution_count": 3,
   "id": "b98f381b",
   "metadata": {},
   "outputs": [],
   "source": [
    "def logit(z): \n",
    "    return 1 / (1 + np.exp(-z)) #로지스틱 활성화함수"
   ]
  },
  {
   "cell_type": "code",
   "execution_count": 4,
   "id": "a27ade8f",
   "metadata": {},
   "outputs": [
    {
     "data": {
      "image/png": "[encoded data removed]",
      "text/plain": [
       "<Figure size 432x288 with 1 Axes>"
      ]
     },
     "metadata": {
      "needs_background": "light"
     },
     "output_type": "display_data"
    }
   ],
   "source": [
    "z = np.linspace(-5, 5, 200)\n",
    "\n",
    "plt.plot([-5, 5], [0, 0], 'k-')\n",
    "plt.plot([-5, 5], [1, 1], 'k--')\n",
    "plt.plot([0, 0], [-0.2, 1.2], 'k-')\n",
    "plt.plot([-5, 5], [-3/4, 7/4], 'g--')\n",
    "plt.plot(z, logit(z), \"b-\", linewidth=2)\n",
    "props = dict(facecolor='black', shrink=0.1)\n",
    "#plt.annotate() : 주석 달기\n",
    "    #xytext = (): text 위치 default는 xy\n",
    "    #xy= (): point 위치\n",
    "    #arrowprops: 화살표 모양을 설정하기 위한 매개변수\n",
    "        #매개변수의 값을 dict 형식으로 해서 넣어줌\n",
    "plt.annotate('수렴', xytext=(3.5, 0.7), xy=(5, 1), arrowprops=props, fontsize=14, ha=\"center\")\n",
    "plt.annotate('수렴', xytext=(-3.5, 0.3), xy=(-5, 0), arrowprops=props, fontsize=14, ha=\"center\")\n",
    "plt.annotate('선형', xytext=(2, 0.2), xy=(0, 0.5), arrowprops=props, fontsize=14, ha=\"center\")\n",
    "plt.grid(True)\n",
    "plt.title(\"Sigmoid activation function\", fontsize=14)\n",
    "plt.axis([-5, 5, -0.2, 1.2])\n",
    "\n",
    "#save_fig(\"sigmoid_saturation_plot\")\n",
    "plt.show()"
   ]
  },
  {
   "cell_type": "markdown",
   "id": "b57036f4",
   "metadata": {},
   "source": [
    "#### 그라이디언트를 불안정하게 만드는 원인\n",
    "- 로지스틱 시그모이드 활성화 함수와 가중치 초기화 방법(표준정규분포를 따르게)의 조합.\n",
    "    - 신경망의 높은 층에서 활성화 함수가 0이나 1로 수렴.\n",
    "    - 위 그래프에서 볼 수 있듯이, 활성화 함수가 0이나 1의 값이 나온다는것은 **기울기가 0에 매우 가까워 진다**는 뜻이다."
   ]
  },
  {
   "cell_type": "markdown",
   "id": "a628c35c",
   "metadata": {},
   "source": [
    "## 11.1 글로럿과 He 초기화\n",
    "- 세이비어 글로럿의 해결 방법(시그모이드 활성화 함수에 대한 가중치 초기화 = **세이비어 초기화**)\n",
    "    1. 각 층의 출력에 대한 분산이 입력에 대한 분산과 같아야 한다. \n",
    "    2. 역방향에서 층을 통과하기 전과 후의 그레이디언트의 분산이 동일해야 한다.\n",
    "        - fan in: 게이트에 연결될 수 있는 최대 입력수.(호출 하는, 나가는?)\n",
    "        - fan out: 게이트의 출력에 연결될 수 있는 입력게이트의 최대 수.(호출 되는, 들어오는?) [출처](https://thegap.tistory.com/387)\n",
    "    <br><br>\n",
    "    - 즉, 각 층의 연결 가중치를 아래와 같은 방식으로 초기화 한다.\n",
    "        - 평균이 0이고 분산이 $\\sigma^2 = {1\\over{fan_{avg}}}$인 정규분포(**Xavier Normal initialization**)\n",
    "        - 또는 $r = \\sqrt{3\\over{fan_{avg}}}$일 때 $-r$과 $+r$사이의 균등 분포(**Xavier Uniform initialization**)\n",
    "<br><br>\n",
    "- 위 식에서 $fan_{avg}$를 $fan_{in}$으로 바꾸면 **르쿤(LuCun) 초기화**가 된다.\n",
    "    - 만약 $fan_{avg} = fan_{in}$이면 **르쿤 초기화 == 글로럿 초기화**\n",
    "---\n",
    "- ReLU 활성화 함수에 대한 가중치 초기화는 **He 초기화**\n",
    "    - He 초기화도 Normal, Uniform 2가지가 존재함.\n",
    "---\n",
    "|초기화 전략|활성화 함수|정규분포|\n",
    "|:---|:---:|:---:|\n",
    "|글로럿|활성화 함수 없음 or 하이퍼볼릭 탄젠트, 로지스틱, 소프트맥스|$1\\over fan_{avg}$|\n",
    "|He|ReLU 함수와 그 변종들|$2\\over fan_{in}$|\n",
    "|르쿤|SELU|$1\\over fan_{in}$|"
   ]
  },
  {
   "cell_type": "code",
   "execution_count": 5,
   "id": "cf158473",
   "metadata": {},
   "outputs": [
    {
     "data": {
      "text/plain": [
       "['Constant',\n",
       " 'GlorotNormal',\n",
       " 'GlorotUniform',\n",
       " 'HeNormal',\n",
       " 'HeUniform',\n",
       " 'Identity',\n",
       " 'Initializer',\n",
       " 'LecunNormal',\n",
       " 'LecunUniform',\n",
       " 'Ones',\n",
       " 'Orthogonal',\n",
       " 'RandomNormal',\n",
       " 'RandomUniform',\n",
       " 'TruncatedNormal',\n",
       " 'VarianceScaling',\n",
       " 'Zeros',\n",
       " 'constant',\n",
       " 'deserialize',\n",
       " 'get',\n",
       " 'glorot_normal',\n",
       " 'glorot_uniform',\n",
       " 'he_normal',\n",
       " 'he_uniform',\n",
       " 'identity',\n",
       " 'lecun_normal',\n",
       " 'lecun_uniform',\n",
       " 'ones',\n",
       " 'orthogonal',\n",
       " 'random_normal',\n",
       " 'random_uniform',\n",
       " 'serialize',\n",
       " 'truncated_normal',\n",
       " 'variance_scaling',\n",
       " 'zeros']"
      ]
     },
     "execution_count": 5,
     "metadata": {},
     "output_type": "execute_result"
    }
   ],
   "source": [
    "#케라스에 존재하는 가중치 초기화 모듈 확인\n",
    "[name for name in dir(keras.initializers) if not name.startswith(\"_\")]"
   ]
  },
  {
   "cell_type": "code",
   "execution_count": 6,
   "id": "1d013ac4",
   "metadata": {},
   "outputs": [
    {
     "data": {
      "text/plain": [
       "<keras.layers.core.dense.Dense at 0x25c7d9167f0>"
      ]
     },
     "execution_count": 6,
     "metadata": {},
     "output_type": "execute_result"
    }
   ],
   "source": [
    "#기본적으로 He 초기화를 지원하기 때문에, initializer = \"he_normal\"로 해주면 됨\n",
    "keras.layers.Dense(10, activation=\"relu\", kernel_initializer=\"he_normal\")"
   ]
  },
  {
   "cell_type": "code",
   "execution_count": 7,
   "id": "b4b4d27b",
   "metadata": {},
   "outputs": [
    {
     "data": {
      "text/plain": [
       "<keras.layers.core.dense.Dense at 0x25c0be038e0>"
      ]
     },
     "execution_count": 7,
     "metadata": {},
     "output_type": "execute_result"
    }
   ],
   "source": [
    "#fan_avg기반의 균등 분포 HE 초기화를 사용하고 싶다면\n",
    "    #VarianScaling을 사용하면 된다\n",
    "init = keras.initializers.VarianceScaling(scale=2., mode='fan_avg',\n",
    "                                          distribution='uniform')\n",
    "keras.layers.Dense(10, activation=\"relu\", kernel_initializer=init)"
   ]
  },
  {
   "cell_type": "markdown",
   "id": "5791fcfa",
   "metadata": {},
   "source": [
    "## 11.1.2 수렴하지 않는 활성화 함수\n",
    "- 활성화 함수를 잘못 선택하면 vanishing gradient나 exploding gradient\n",
    "    - 로지스틱 시그모이드 이외에도 더 잘 작동하는 활성화 함수가 있음을 발견 ~ 대표적으로 **ReLU**\n",
    "##### ReLU 함수의 문제점: dying ReLU\n",
    "- 일부 뉴런이 0이외의 값을 출력하지 않는 경우가 있음.(죽은 상태)\n",
    "    - 특히 학습률이 큰 경우 신경망의 많은 뉴런이 죽을 수도..\n",
    "    - 가중치 합이 음수면 ReLU의 gradient가 0이 되므로 경사 하강법이 작동하지 않음\n",
    "---\n",
    "##### ReLU 문제를 해결하기 위한  함수들\n",
    "1. LeakyReLU\n",
    "    - 일반적으로 LeakyReLU가 항상 ReLU보다 성능이 좋음.\n",
    "    - $LeakyReLU_{\\alpha}(z) = \\max(\\alpha z, z)$ \n",
    "        - $\\alpha$: 새는 정도. 하이퍼파라미터.\n",
    "        - 새는 정도란 z < 0일 때 이 함수의 기울기가 된다. 이것이 LeakyReLU를 절대 죽지 않게 만들어준다.\n",
    "<br><br>\n",
    "2. RReLU(randomized leaky ReLU)\n",
    "    - 훈련하는 동안 주어진 범위에서 $\\alpha$를 무작위로 선택하고 테스트 시에 평균을 사용\n",
    "<br><br>\n",
    "3. PReLU(parametic leaky ReLU)\n",
    "    -  $\\alpha$가 훈련하는 동안 학습된다.\n",
    "    - 소규모 데이터에서는 과대적합 위험\n",
    "<br><br>\n",
    "4. ELU(Exponential linear unit)\n",
    "    - $ELU_\\alpha(z) = \t\\begin{cases}\n",
    "    \\alpha(\\exp(z)- 1) \\space z<0 일 때\\\\\n",
    "    z \\space\\space\\space z \\ge 0 일때\\\\\n",
    "  \\end{cases} $\n",
    "      - z < 0 일 때 음숫값 => 기울기 소실 문제 완화.\n",
    "      - z < 0 이어도 그레디언트가 0이 아님\n",
    "      - $\\alpha$ = 1이면 z = 0에서 급격히 변동 x($\\alpha$가 1이 아니면 도함수는 z= 0에서 불연속)\n",
    "      - 속도가 느릴수도(지수함수 계산)\n",
    "<br><br>\n",
    "5. SELU(scaled ELU)\n",
    "    - 스케일이 조정된 ELU 활성화 함수\n",
    "    - 신경망이 모두 완전연결이고, 모든 은닉층이 SELU를 쓴다면 네트워크는 self-normalize된다.(훈련 중에는 출력이 평균 0과 표준편차 1을 유지한다)\n",
    "    - Self-normalize 되기 위한 조건\n",
    "        1. 입력 특성이 표준화 되어야 함.(평균0, 표준편차 1)\n",
    "        2. 모든 은닉층의 가중치가 르쿤 정규분포 초기화로 초기화 되어야 함.\n",
    "        3. 네트워크는 일렬로 쌓은 층이어야 한다.(모두 완전 연결층)"
   ]
  },
  {
   "cell_type": "markdown",
   "id": "d6266ce5",
   "metadata": {},
   "source": [
    "##### LeakyReLU"
   ]
  },
  {
   "cell_type": "code",
   "execution_count": 8,
   "id": "b95db932",
   "metadata": {},
   "outputs": [
    {
     "data": {
      "image/png": "[encoded data removed]",
      "text/plain": [
       "<Figure size 432x288 with 1 Axes>"
      ]
     },
     "metadata": {
      "needs_background": "light"
     },
     "output_type": "display_data"
    }
   ],
   "source": [
    "def leaky_relu(z, alpha=0.01):\n",
    "    return np.maximum(alpha*z, z)\n",
    "\n",
    "plt.plot(z, leaky_relu(z, 0.05), \"b-\", linewidth=2)\n",
    "plt.plot([-5, 5], [0, 0], 'k-')\n",
    "plt.plot([0, 0], [-0.5, 4.2], 'k-')\n",
    "plt.grid(True)\n",
    "props = dict(facecolor='black', shrink=0.1)\n",
    "plt.annotate('통과(Leak)', xytext=(-3.5, 0.5), xy=(-5, -0.2), arrowprops=props, fontsize=14, ha=\"center\")\n",
    "plt.title(\"Leaky ReLU 활성화 함수\", fontsize=14)\n",
    "plt.axis([-5, 5, -0.5, 4.2])\n",
    "\n",
    "plt.show()"
   ]
  },
  {
   "cell_type": "markdown",
   "id": "ed1a000f",
   "metadata": {},
   "source": [
    "#### ELU"
   ]
  },
  {
   "cell_type": "code",
   "execution_count": 9,
   "id": "b9bcbe52",
   "metadata": {},
   "outputs": [
    {
     "data": {
      "image/png": "[encoded data removed]",
      "text/plain": [
       "<Figure size 432x288 with 1 Axes>"
      ]
     },
     "metadata": {
      "needs_background": "light"
     },
     "output_type": "display_data"
    }
   ],
   "source": [
    "def elu(z, alpha=1):\n",
    "    return np.where(z < 0, alpha * (np.exp(z) - 1), z)\n",
    "\n",
    "plt.plot(z, elu(z), \"b-\", linewidth=2)\n",
    "plt.plot([-5, 5], [0, 0], 'k-')\n",
    "plt.plot([-5, 5], [-1, -1], 'k--')\n",
    "plt.plot([0, 0], [-2.2, 3.2], 'k-')\n",
    "plt.grid(True)\n",
    "plt.title(r\"ELU 활성화 함수($\\alpha=1$)\", fontsize=14)\n",
    "plt.axis([-5, 5, -2.2, 3.2])\n",
    "\n",
    "plt.show()"
   ]
  },
  {
   "cell_type": "markdown",
   "id": "df1c2505",
   "metadata": {},
   "source": [
    "#### LeakyReLU를 테스트"
   ]
  },
  {
   "cell_type": "code",
   "execution_count": 10,
   "id": "4af25ec3",
   "metadata": {},
   "outputs": [],
   "source": [
    "(X_train_full, y_train_full), (X_test, y_test) = keras.datasets.fashion_mnist.load_data()\n",
    "X_train_full = X_train_full / 255.0\n",
    "X_test = X_test / 255.0\n",
    "X_valid, X_train = X_train_full[:5000], X_train_full[5000:]\n",
    "y_valid, y_train = y_train_full[:5000], y_train_full[5000:]"
   ]
  },
  {
   "cell_type": "code",
   "execution_count": 11,
   "id": "1f9e76f8",
   "metadata": {},
   "outputs": [],
   "source": [
    "tf.random.set_seed(42)\n",
    "np.random.seed(42)\n",
    "\n",
    "model = keras.models.Sequential([\n",
    "    keras.layers.Flatten(input_shape=[28, 28]),\n",
    "    keras.layers.Dense(300, kernel_initializer=\"he_normal\"),\n",
    "    keras.layers.LeakyReLU(),\n",
    "    keras.layers.Dense(100, kernel_initializer=\"he_normal\"),\n",
    "    keras.layers.LeakyReLU(),\n",
    "    keras.layers.Dense(10, activation=\"softmax\")\n",
    "])"
   ]
  },
  {
   "cell_type": "code",
   "execution_count": 12,
   "id": "5db5b923",
   "metadata": {},
   "outputs": [
    {
     "name": "stdout",
     "output_type": "stream",
     "text": [
      "Epoch 1/10\n",
      "1719/1719 [==============================] - 6s 3ms/step - loss: 1.2819 - accuracy: 0.6229 - val_loss: 0.8886 - val_accuracy: 0.7160\n",
      "Epoch 2/10\n",
      "1719/1719 [==============================] - 5s 3ms/step - loss: 0.7955 - accuracy: 0.7362 - val_loss: 0.7130 - val_accuracy: 0.7658\n",
      "Epoch 3/10\n",
      "1719/1719 [==============================] - 5s 3ms/step - loss: 0.6816 - accuracy: 0.7721 - val_loss: 0.6427 - val_accuracy: 0.7896\n",
      "Epoch 4/10\n",
      "1719/1719 [==============================] - 5s 3ms/step - loss: 0.6217 - accuracy: 0.7944 - val_loss: 0.5900 - val_accuracy: 0.8066\n",
      "Epoch 5/10\n",
      "1719/1719 [==============================] - 5s 3ms/step - loss: 0.5832 - accuracy: 0.8075 - val_loss: 0.5582 - val_accuracy: 0.8202\n",
      "Epoch 6/10\n",
      "1719/1719 [==============================] - 5s 3ms/step - loss: 0.5553 - accuracy: 0.8157 - val_loss: 0.5350 - val_accuracy: 0.8238\n",
      "Epoch 7/10\n",
      "1719/1719 [==============================] - 5s 3ms/step - loss: 0.5338 - accuracy: 0.8225 - val_loss: 0.5157 - val_accuracy: 0.8306\n",
      "Epoch 8/10\n",
      "1719/1719 [==============================] - 5s 3ms/step - loss: 0.5172 - accuracy: 0.8272 - val_loss: 0.5079 - val_accuracy: 0.8284\n",
      "Epoch 9/10\n",
      "1719/1719 [==============================] - 4s 3ms/step - loss: 0.5040 - accuracy: 0.8289 - val_loss: 0.4895 - val_accuracy: 0.8388\n",
      "Epoch 10/10\n",
      "1719/1719 [==============================] - 5s 3ms/step - loss: 0.4924 - accuracy: 0.8320 - val_loss: 0.4817 - val_accuracy: 0.8396\n",
      "소요 시간: 48.229735136032104\n"
     ]
    }
   ],
   "source": [
    "model.compile(loss=\"sparse_categorical_crossentropy\",\n",
    "              optimizer=keras.optimizers.SGD(learning_rate=1e-3),\n",
    "              metrics=[\"accuracy\"])\n",
    "\n",
    "import time\n",
    "\n",
    "start_time = time.time()\n",
    "\n",
    "history = model.fit(X_train, y_train, epochs=10,\n",
    "                    validation_data=(X_valid, y_valid))\n",
    "print(\"소요 시간: {}\".format(float(time.time()- start_time)))"
   ]
  },
  {
   "cell_type": "markdown",
   "id": "6c298486",
   "metadata": {},
   "source": [
    "#### PReLU 테스트"
   ]
  },
  {
   "cell_type": "code",
   "execution_count": 13,
   "id": "5ca50960",
   "metadata": {},
   "outputs": [
    {
     "name": "stdout",
     "output_type": "stream",
     "text": [
      "Epoch 1/10\n",
      "1719/1719 [==============================] - 6s 3ms/step - loss: 1.3461 - accuracy: 0.6209 - val_loss: 0.9255 - val_accuracy: 0.7186\n",
      "Epoch 2/10\n",
      "1719/1719 [==============================] - 5s 3ms/step - loss: 0.8197 - accuracy: 0.7355 - val_loss: 0.7305 - val_accuracy: 0.7630\n",
      "Epoch 3/10\n",
      "1719/1719 [==============================] - 5s 3ms/step - loss: 0.6966 - accuracy: 0.7694 - val_loss: 0.6564 - val_accuracy: 0.7884\n",
      "Epoch 4/10\n",
      "1719/1719 [==============================] - 5s 3ms/step - loss: 0.6331 - accuracy: 0.7910 - val_loss: 0.6003 - val_accuracy: 0.8048\n",
      "Epoch 5/10\n",
      "1719/1719 [==============================] - 5s 3ms/step - loss: 0.5917 - accuracy: 0.8057 - val_loss: 0.5656 - val_accuracy: 0.8182\n",
      "Epoch 6/10\n",
      "1719/1719 [==============================] - 5s 3ms/step - loss: 0.5618 - accuracy: 0.8135 - val_loss: 0.5406 - val_accuracy: 0.8238\n",
      "Epoch 7/10\n",
      "1719/1719 [==============================] - 5s 3ms/step - loss: 0.5390 - accuracy: 0.8205 - val_loss: 0.5196 - val_accuracy: 0.8312\n",
      "Epoch 8/10\n",
      "1719/1719 [==============================] - 5s 3ms/step - loss: 0.5213 - accuracy: 0.8257 - val_loss: 0.5113 - val_accuracy: 0.8318\n",
      "Epoch 9/10\n",
      "1719/1719 [==============================] - 5s 3ms/step - loss: 0.5070 - accuracy: 0.8288 - val_loss: 0.4916 - val_accuracy: 0.8376\n",
      "Epoch 10/10\n",
      "1719/1719 [==============================] - 5s 3ms/step - loss: 0.4945 - accuracy: 0.8315 - val_loss: 0.4826 - val_accuracy: 0.8396\n",
      "소요 시간: 99.75222063064575\n"
     ]
    }
   ],
   "source": [
    "tf.random.set_seed(42)\n",
    "np.random.seed(42)\n",
    "\n",
    "model = keras.models.Sequential([\n",
    "    keras.layers.Flatten(input_shape=[28, 28]),\n",
    "    keras.layers.Dense(300, kernel_initializer=\"he_normal\"),\n",
    "    keras.layers.PReLU(),\n",
    "    keras.layers.Dense(100, kernel_initializer=\"he_normal\"),\n",
    "    keras.layers.PReLU(),\n",
    "    keras.layers.Dense(10, activation=\"softmax\")\n",
    "])\n",
    "\n",
    "model.compile(loss=\"sparse_categorical_crossentropy\",\n",
    "              optimizer=keras.optimizers.SGD(learning_rate=1e-3),\n",
    "              metrics=[\"accuracy\"])\n",
    "\n",
    "strat_time = time.time()\n",
    "history = model.fit(X_train, y_train, epochs=10,\n",
    "                    validation_data=(X_valid, y_valid))\n",
    "print(\"소요 시간: {}\".format(float(time.time()- start_time)))"
   ]
  },
  {
   "cell_type": "markdown",
   "id": "ca4e2f86",
   "metadata": {},
   "source": [
    "#### SELU 그래프로 확인"
   ]
  },
  {
   "cell_type": "code",
   "execution_count": 14,
   "id": "f1b30316",
   "metadata": {},
   "outputs": [
    {
     "data": {
      "image/png": "[encoded data removed]",
      "text/plain": [
       "<Figure size 432x288 with 1 Axes>"
      ]
     },
     "metadata": {
      "needs_background": "light"
     },
     "output_type": "display_data"
    }
   ],
   "source": [
    "from scipy.special import erfc\n",
    "\n",
    "# alpha와 scale은 평균 0과 표준 편차 1로 자기 정규화합니다\n",
    "# (논문에 있는 식 14 참조):\n",
    "alpha_0_1 = -np.sqrt(2 / np.pi) / (erfc(1/np.sqrt(2)) * np.exp(1/2) - 1)\n",
    "scale_0_1 = (1 - erfc(1 / np.sqrt(2)) * np.sqrt(np.e)) * np.sqrt(2 * np.pi) * (2 * erfc(np.sqrt(2))*np.e**2 + np.pi*erfc(1/np.sqrt(2))**2*np.e - 2*(2+np.pi)*erfc(1/np.sqrt(2))*np.sqrt(np.e)+np.pi+2)**(-1/2)\n",
    "def selu(z, scale=scale_0_1, alpha=alpha_0_1):\n",
    "    return scale * elu(z, alpha)\n",
    "\n",
    "plt.plot(z, selu(z), \"b-\", linewidth=2)\n",
    "plt.plot([-5, 5], [0, 0], 'k-')\n",
    "plt.plot([-5, 5], [-1.758, -1.758], 'k--')\n",
    "plt.plot([0, 0], [-2.2, 3.2], 'k-')\n",
    "plt.grid(True)\n",
    "plt.title(\"SELU activation function\", fontsize=14)\n",
    "plt.axis([-5, 5, -2.2, 3.2])\n",
    "\n",
    "\n",
    "plt.show()\n",
    "\n"
   ]
  },
  {
   "cell_type": "markdown",
   "id": "2b1c344d",
   "metadata": {},
   "source": [
    "## 11.1.3 배치 정규화(Batch normalization)"
   ]
  },
  {
   "cell_type": "markdown",
   "id": "9d332a17",
   "metadata": {},
   "source": [
    "활성화 함수를 통과하기 전이나 후에 연산을 추가.( + 파라미터 2개 추가)  \n",
    "- 입력을 원점에 맞추고 정규화 & 새로운 파라미터 2개로 결괏값의 스케일을 조정하고 이동. [자세한 설명 by hukkpen](https://www.youtube.com/watch?v=m61OSJfxL0U&t=642s)\n",
    "1. $u_B = {1\\over m_B}\\sum_{i=1}^{m_B}x^{(i)}$\n",
    "<br><br>\n",
    "2. $\\sigma^2 = {1\\over m_B}\\sum_{i=1}^{m_B}(x^{(i)}u_B)^2$\n",
    "<br><br>\n",
    "3. $\\hat x^{(i)} = {x^{(i)} - u_B \\over \\sqrt{\\sigma^2_B} + \\epsilon}$\n",
    "<br><br>\n",
    "4. $z^{(i)} = \\gamma \\otimes \\hat x^{(i)} + \\beta$\n",
    "    - $u_B$: 미니배치 B에 대해 평가한 입력의 평균 벡터\n",
    "    - $\\sigma_B$: 미니배치에 대해 평가한 입력의 표준편차 벡터\n",
    "    - $m_B$: 미니배치에 있는 샘플 수\n",
    "    - $\\hat x^{(i)}$: 평균이 0이고 정규화된 샘플 $i$의 입력\n",
    "    - $\\gamma$: 층의 출력 스케일 파라미터\n",
    "        - $\\gamma$ 와 $\\beta$의 차원은 모두 $z^{(i)}$와 같음!\n",
    "    - $\\otimes$: 원소별 곱셈\n",
    "    - $\\beta$: 층의 출력 이동 파라미터 벡터.\n",
    "    - $\\epsilon$: 분모가 0이 되는 것을 막음.**안전을 위한 항(smoothing term)**\n",
    "    - $z^{(i)}$: 배치 정규화 연산의 출력\n",
    "---\n",
    "- iid(independent and identically distributed)\n",
    "    - 2개 이상의 확률변수를 함께 고려할 때 이들의 확률적 특성이\n",
    "    1. 통계적으로 독립이며\n",
    "    2. 동일한 확률분포를 가지고 있다는 것을 말한다.(분포가 같다)"
   ]
  },
  {
   "cell_type": "code",
   "execution_count": 15,
   "id": "f6c8cf0a",
   "metadata": {},
   "outputs": [],
   "source": [
    "model = keras.models.Sequential([\n",
    "    keras.layers.Flatten(input_shape=[28, 28]),\n",
    "    keras.layers.BatchNormalization(),\n",
    "    keras.layers.Dense(300, activation=\"relu\"),\n",
    "    keras.layers.BatchNormalization(),\n",
    "    keras.layers.Dense(100, activation=\"relu\"),\n",
    "    keras.layers.BatchNormalization(),\n",
    "    keras.layers.Dense(10, activation=\"softmax\")\n",
    "])"
   ]
  },
  {
   "cell_type": "code",
   "execution_count": 16,
   "id": "aa27020e",
   "metadata": {},
   "outputs": [
    {
     "name": "stdout",
     "output_type": "stream",
     "text": [
      "Model: \"sequential_2\"\n",
      "_________________________________________________________________\n",
      " Layer (type)                Output Shape              Param #   \n",
      "=================================================================\n",
      " flatten_2 (Flatten)         (None, 784)               0         \n",
      "                                                                 \n",
      " batch_normalization (BatchN  (None, 784)              3136      \n",
      " ormalization)                                                   \n",
      "                                                                 \n",
      " dense_8 (Dense)             (None, 300)               235500    \n",
      "                                                                 \n",
      " batch_normalization_1 (Batc  (None, 300)              1200      \n",
      " hNormalization)                                                 \n",
      "                                                                 \n",
      " dense_9 (Dense)             (None, 100)               30100     \n",
      "                                                                 \n",
      " batch_normalization_2 (Batc  (None, 100)              400       \n",
      " hNormalization)                                                 \n",
      "                                                                 \n",
      " dense_10 (Dense)            (None, 10)                1010      \n",
      "                                                                 \n",
      "=================================================================\n",
      "Total params: 271,346\n",
      "Trainable params: 268,978\n",
      "Non-trainable params: 2,368\n",
      "_________________________________________________________________\n"
     ]
    }
   ],
   "source": [
    "model.summary()\n",
    "#첫번째 batchnormalization에서 파라미터 개수는 3136개 = 784 * 4\n",
    "    #4개 중에는 학습되지 않는 파라미터 2개가 있음(이동 평균, 이동분산)\n",
    "\n",
    "    #마지막에 나오는 non-trainable의 개수는\n",
    "        #배치 정규화 층 3개 3136 + 1200 + 400 = 4736\n",
    "        #4736/2 = 2368"
   ]
  },
  {
   "cell_type": "code",
   "execution_count": 17,
   "id": "7f5135ec",
   "metadata": {},
   "outputs": [
    {
     "data": {
      "text/plain": [
       "[('batch_normalization/gamma:0', True),\n",
       " ('batch_normalization/beta:0', True),\n",
       " ('batch_normalization/moving_mean:0', False),\n",
       " ('batch_normalization/moving_variance:0', False)]"
      ]
     },
     "execution_count": 17,
     "metadata": {},
     "output_type": "execute_result"
    }
   ],
   "source": [
    "bn1 = model.layers[1]\n",
    "[(var.name, var.trainable) for var in bn1.variables]\n",
    "#이동 평균과 이동 분산은 학습되지 않는 것을 확인(False)"
   ]
  },
  {
   "cell_type": "code",
   "execution_count": 18,
   "id": "02a64d0a",
   "metadata": {},
   "outputs": [
    {
     "name": "stdout",
     "output_type": "stream",
     "text": [
      "Epoch 1/10\n",
      "1719/1719 [==============================] - 8s 4ms/step - loss: 0.8293 - accuracy: 0.7221 - val_loss: 0.5539 - val_accuracy: 0.8160\n",
      "Epoch 2/10\n",
      "1719/1719 [==============================] - 7s 4ms/step - loss: 0.5703 - accuracy: 0.8036 - val_loss: 0.4792 - val_accuracy: 0.8382\n",
      "Epoch 3/10\n",
      "1719/1719 [==============================] - 7s 4ms/step - loss: 0.5161 - accuracy: 0.8212 - val_loss: 0.4425 - val_accuracy: 0.8490\n",
      "Epoch 4/10\n",
      "1719/1719 [==============================] - 7s 4ms/step - loss: 0.4789 - accuracy: 0.8313 - val_loss: 0.4212 - val_accuracy: 0.8572\n",
      "Epoch 5/10\n",
      "1719/1719 [==============================] - 7s 4ms/step - loss: 0.4548 - accuracy: 0.8407 - val_loss: 0.4051 - val_accuracy: 0.8618\n",
      "Epoch 6/10\n",
      "1719/1719 [==============================] - 7s 4ms/step - loss: 0.4387 - accuracy: 0.8444 - val_loss: 0.3931 - val_accuracy: 0.8634\n",
      "Epoch 7/10\n",
      "1719/1719 [==============================] - 7s 4ms/step - loss: 0.4254 - accuracy: 0.8501 - val_loss: 0.3829 - val_accuracy: 0.8650\n",
      "Epoch 8/10\n",
      "1719/1719 [==============================] - 7s 4ms/step - loss: 0.4124 - accuracy: 0.8540 - val_loss: 0.3759 - val_accuracy: 0.8666\n",
      "Epoch 9/10\n",
      "1719/1719 [==============================] - 7s 4ms/step - loss: 0.4027 - accuracy: 0.8579 - val_loss: 0.3691 - val_accuracy: 0.8678\n",
      "Epoch 10/10\n",
      "1719/1719 [==============================] - 7s 4ms/step - loss: 0.3925 - accuracy: 0.8614 - val_loss: 0.3629 - val_accuracy: 0.8668\n"
     ]
    }
   ],
   "source": [
    "model.compile(loss=\"sparse_categorical_crossentropy\",\n",
    "              optimizer=keras.optimizers.SGD(learning_rate=1e-3),\n",
    "              metrics=[\"accuracy\"])\n",
    "\n",
    "history = model.fit(X_train, y_train, epochs=10,\n",
    "                    validation_data=(X_valid, y_valid))"
   ]
  },
  {
   "cell_type": "markdown",
   "id": "2acac88c",
   "metadata": {},
   "source": [
    "## 11.1.4 그레이디언트 클리핑(gradient clipping)\n",
    "- 역전파될 때 일정 임계값을 넘어서지 못하게 그레이디언트를 잘라내자\n",
    "- ```clipnor```또는 ```clipvalue```를 사용"
   ]
  },
  {
   "cell_type": "code",
   "execution_count": 19,
   "id": "08264217",
   "metadata": {},
   "outputs": [],
   "source": [
    "optimizer = keras.optimizers.SGD(clipvalue=1.0) \n",
    "#그레이디언트 벡터의 모든 원소를 -1.0 과 1.0사이로 클리핑한다.\n",
    "    #벡터의 원소 범위를 바꿈으로써 벡터의 방향을 바꿀 수 있음!\n",
    "        #예를 들어 [0.9, 100] -> [0.9, 1.0] 방향이 바뀌죠?\n",
    "        \n",
    "\n",
    "model.compile(loss = 'mse', optimizer = optimizer)"
   ]
  },
  {
   "cell_type": "markdown",
   "id": "e4703d3c",
   "metadata": {},
   "source": [
    "- 방향을 바꾸지 못하게 하려면 ```clipnorm```을 사용해야 한다.\n",
    "    - ```clipnorm = 1.0```으로 한다면,,,\n",
    "        - [0.9, 100] -> [0.00899964, 0.9999595] \n",
    "        - 결국 방향은 바뀌지 않게 됨!(근데 첫번째 원소 값은 거의 무시된다)"
   ]
  },
  {
   "attachments": {
    "image.png": {
     "image/png": "[encoded data removed]"
    }
   },
   "cell_type": "markdown",
   "id": "080256ae",
   "metadata": {},
   "source": [
    "# 11.2 사전 훈련된 층 사용하기\n",
    "#### 전이학습(Transfer learning)\n",
    "- 아주 큰 규모의 DNN을 처음부터 학습시키는 것은 비효율적임.\n",
    "    - 비슷한 유형의 문제를 잘 처리하는 신경망을 가져와서 하위층을 재사용하자\n",
    "    ![image.png](attachment:image.png)\n",
    "    <br><br>\n",
    "일반적으로 원본 모델의 상위 은닉층은 하위 은닉층보다 덜 유용하다. 따라서 재사용할 층의 개수를 잘 선정해야함!\n",
    "- **작업이 비슷할수록 많은 층을 재사용 하는 것이 좋음.**\n",
    "    - 완전 비슷? => 출력층만 교체!\n",
    "---\n",
    "메커니즘\n",
    "1. 재사용 할 층을 동결(학습되지 않게 고정)\n",
    "2. 모델 훈련하고 성능 평가\n",
    "3. 가장 상위의 은닉층의 동결 해제하고 학습시켜 가중치 조정  \n",
    "    - 성능이 향상 되는지 확인해보기\n",
    "4. 향상되지 않는다면 그 은닉층들 제거 -> 남은 은닉층에서 3단계를 재수행.\n",
    "5. 적절한 은닉층의 개수를 찾을 때까지 3-4를 반복 "
   ]
  },
  {
   "cell_type": "markdown",
   "id": "e4f604f8",
   "metadata": {},
   "source": [
    "## 11.2.1 케라스를 사용한 전이 학습\n",
    "- 8개의 클래스를 분류하는 모델A\n",
    "    - 그 중에서 2개의 클래스만 구분하는 모델 B\n",
    "    - 모델 A와 모델 B의 작업, 구조 모두 비슷하니까 모델 A를 가져와 써보자"
   ]
  },
  {
   "cell_type": "code",
   "execution_count": 20,
   "id": "52dd6982",
   "metadata": {},
   "outputs": [],
   "source": [
    "def split_dataset(X, y):\n",
    "    y_5_or_6 = (y == 5) | (y == 6) # sandals or shirts\n",
    "    y_A = y[~y_5_or_6]\n",
    "    y_A[y_A > 6] -= 2 # class indices 7, 8, 9 should be moved to 5, 6, 7\n",
    "    y_B = (y[y_5_or_6] == 6).astype(np.float32) # binary classification task: is it a shirt (class 6)?\n",
    "    return ((X[~y_5_or_6], y_A), (X[y_5_or_6], y_B))\n",
    "\n",
    "(X_train_A, y_train_A), (X_train_B, y_train_B) = split_dataset(X_train, y_train)\n",
    "(X_valid_A, y_valid_A), (X_valid_B, y_valid_B) = split_dataset(X_valid, y_valid)\n",
    "(X_test_A, y_test_A), (X_test_B, y_test_B) = split_dataset(X_test, y_test)\n",
    "X_train_B = X_train_B[:200]\n",
    "y_train_B = y_train_B[:200]"
   ]
  },
  {
   "cell_type": "code",
   "execution_count": 21,
   "id": "e34158f7",
   "metadata": {},
   "outputs": [
    {
     "data": {
      "text/plain": [
       "(43986, 28, 28)"
      ]
     },
     "execution_count": 21,
     "metadata": {},
     "output_type": "execute_result"
    }
   ],
   "source": [
    "X_train_A.shape"
   ]
  },
  {
   "cell_type": "code",
   "execution_count": 22,
   "id": "b7680b95",
   "metadata": {},
   "outputs": [
    {
     "data": {
      "text/plain": [
       "(200, 28, 28)"
      ]
     },
     "execution_count": 22,
     "metadata": {},
     "output_type": "execute_result"
    }
   ],
   "source": [
    "X_train_B.shape"
   ]
  },
  {
   "cell_type": "code",
   "execution_count": 23,
   "id": "24ce14a6",
   "metadata": {},
   "outputs": [
    {
     "data": {
      "text/plain": [
       "array([4, 0, 5, 7, 7, 7, 4, 4, 3, 4, 0, 1, 6, 3, 4, 3, 2, 6, 5, 3, 4, 5,\n",
       "       1, 3, 4, 2, 0, 6, 7, 1], dtype=uint8)"
      ]
     },
     "execution_count": 23,
     "metadata": {},
     "output_type": "execute_result"
    }
   ],
   "source": [
    "y_train_A[:30]"
   ]
  },
  {
   "cell_type": "code",
   "execution_count": 24,
   "id": "cbd07983",
   "metadata": {},
   "outputs": [],
   "source": [
    "tf.random.set_seed(42)\n",
    "np.random.seed(42)\n",
    "\n",
    "model_A = keras.models.Sequential()\n",
    "model_A.add(keras.layers.Flatten(input_shape=[28, 28]))\n",
    "\n",
    "for n_hidden in (300, 100, 50, 50, 50):\n",
    "    model_A.add(keras.layers.Dense(n_hidden, activation=\"selu\"))\n",
    "    \n",
    "model_A.add(keras.layers.Dense(8, activation=\"softmax\"))"
   ]
  },
  {
   "cell_type": "code",
   "execution_count": 25,
   "id": "d6753883",
   "metadata": {},
   "outputs": [],
   "source": [
    "model_A.compile(loss=\"sparse_categorical_crossentropy\",\n",
    "                optimizer=keras.optimizers.SGD(learning_rate=1e-3),\n",
    "                metrics=[\"accuracy\"])"
   ]
  },
  {
   "cell_type": "code",
   "execution_count": 26,
   "id": "1c77bf1b",
   "metadata": {},
   "outputs": [
    {
     "name": "stdout",
     "output_type": "stream",
     "text": [
      "Epoch 1/20\n",
      "1375/1375 [==============================] - 5s 3ms/step - loss: 0.5926 - accuracy: 0.8103 - val_loss: 0.3894 - val_accuracy: 0.8670\n",
      "Epoch 2/20\n",
      "1375/1375 [==============================] - 4s 3ms/step - loss: 0.3523 - accuracy: 0.8786 - val_loss: 0.3290 - val_accuracy: 0.8817\n",
      "Epoch 3/20\n",
      "1375/1375 [==============================] - 5s 3ms/step - loss: 0.3170 - accuracy: 0.8896 - val_loss: 0.3013 - val_accuracy: 0.8994\n",
      "Epoch 4/20\n",
      "1375/1375 [==============================] - 4s 3ms/step - loss: 0.2973 - accuracy: 0.8975 - val_loss: 0.2893 - val_accuracy: 0.9021\n",
      "Epoch 5/20\n",
      "1375/1375 [==============================] - 4s 3ms/step - loss: 0.2834 - accuracy: 0.9020 - val_loss: 0.2773 - val_accuracy: 0.9058\n",
      "Epoch 6/20\n",
      "1375/1375 [==============================] - 4s 3ms/step - loss: 0.2729 - accuracy: 0.9062 - val_loss: 0.2733 - val_accuracy: 0.9071\n",
      "Epoch 7/20\n",
      "1375/1375 [==============================] - 4s 3ms/step - loss: 0.2641 - accuracy: 0.9092 - val_loss: 0.2722 - val_accuracy: 0.9088\n",
      "Epoch 8/20\n",
      "1375/1375 [==============================] - 4s 3ms/step - loss: 0.2573 - accuracy: 0.9127 - val_loss: 0.2591 - val_accuracy: 0.9141\n",
      "Epoch 9/20\n",
      "1375/1375 [==============================] - 4s 3ms/step - loss: 0.2518 - accuracy: 0.9137 - val_loss: 0.2562 - val_accuracy: 0.9141\n",
      "Epoch 10/20\n",
      "1375/1375 [==============================] - 4s 3ms/step - loss: 0.2468 - accuracy: 0.9155 - val_loss: 0.2540 - val_accuracy: 0.9150\n",
      "Epoch 11/20\n",
      "1375/1375 [==============================] - 4s 3ms/step - loss: 0.2422 - accuracy: 0.9177 - val_loss: 0.2499 - val_accuracy: 0.9148\n",
      "Epoch 12/20\n",
      "1375/1375 [==============================] - 5s 3ms/step - loss: 0.2382 - accuracy: 0.9188 - val_loss: 0.2512 - val_accuracy: 0.9131\n",
      "Epoch 13/20\n",
      "1375/1375 [==============================] - 5s 3ms/step - loss: 0.2350 - accuracy: 0.9200 - val_loss: 0.2445 - val_accuracy: 0.9160\n",
      "Epoch 14/20\n",
      "1375/1375 [==============================] - 4s 3ms/step - loss: 0.2315 - accuracy: 0.9214 - val_loss: 0.2413 - val_accuracy: 0.9178\n",
      "Epoch 15/20\n",
      "1375/1375 [==============================] - 5s 3ms/step - loss: 0.2287 - accuracy: 0.9212 - val_loss: 0.2445 - val_accuracy: 0.9198\n",
      "Epoch 16/20\n",
      "1375/1375 [==============================] - 4s 3ms/step - loss: 0.2254 - accuracy: 0.9223 - val_loss: 0.2384 - val_accuracy: 0.9195\n",
      "Epoch 17/20\n",
      "1375/1375 [==============================] - 4s 3ms/step - loss: 0.2230 - accuracy: 0.9235 - val_loss: 0.2408 - val_accuracy: 0.9175\n",
      "Epoch 18/20\n",
      "1375/1375 [==============================] - 5s 3ms/step - loss: 0.2200 - accuracy: 0.9247 - val_loss: 0.2427 - val_accuracy: 0.9160\n",
      "Epoch 19/20\n",
      "1375/1375 [==============================] - 5s 3ms/step - loss: 0.2178 - accuracy: 0.9253 - val_loss: 0.2329 - val_accuracy: 0.9205\n",
      "Epoch 20/20\n",
      "1375/1375 [==============================] - 5s 3ms/step - loss: 0.2155 - accuracy: 0.9261 - val_loss: 0.2334 - val_accuracy: 0.9205\n"
     ]
    }
   ],
   "source": [
    "history = model_A.fit(X_train_A, y_train_A, epochs=20,\n",
    "                    validation_data=(X_valid_A, y_valid_A))"
   ]
  },
  {
   "cell_type": "code",
   "execution_count": 27,
   "id": "78055c6d",
   "metadata": {},
   "outputs": [],
   "source": [
    "model_A.save(\"my_model_A.h5\") #model A를 저장!"
   ]
  },
  {
   "cell_type": "code",
   "execution_count": 28,
   "id": "02621c3c",
   "metadata": {},
   "outputs": [],
   "source": [
    "#다시 불러오기\n",
    "model_A = keras.models.load_model(\"my_model_A.h5\")\n",
    "model_B_on_A = keras.models.Sequential(model_A.layers[:-1]) #마지막 층 빼고 가져오기\n",
    "model_B_on_A.add(keras.layers.Dense(1, activation=\"sigmoid\")) #이진분류임"
   ]
  },
  {
   "cell_type": "code",
   "execution_count": 29,
   "id": "4526d132",
   "metadata": {},
   "outputs": [],
   "source": [
    "#model_B_on_A를 훈련할 때 model_A도 영향을 받기 때문에 model_A를 복사해놓자\n",
    "    #두 모델이 층을 공유하기 때문에 영향을 받는다...\n",
    "model_A_clone = keras.models.clone_model(model_A)\n",
    "model_A_clone.set_weights(model_A.get_weights())\n",
    "model_B_on_A = keras.models.Sequential(model_A_clone.layers[:-1])\n",
    "model_B_on_A.add(keras.layers.Dense(1, activation=\"sigmoid\"))"
   ]
  },
  {
   "cell_type": "markdown",
   "id": "1c841603",
   "metadata": {},
   "source": [
    "- 그냥 학습을 돌려버리면 오차가 너무 커져서 가중치가 이상하게 조정될 수 있음.\n",
    "    - 따라서 학습이 안되게 동결시켜놓고, epoch을 조금 돌린 다음\n",
    "    - 동결을 풀고 제대로 학습을 진행\n",
    "        - **주의**: 층을 동결/해제 하고 나서 항상 모델을 compile해야함!"
   ]
  },
  {
   "cell_type": "code",
   "execution_count": 30,
   "id": "4bba2b22",
   "metadata": {},
   "outputs": [
    {
     "name": "stdout",
     "output_type": "stream",
     "text": [
      "Epoch 1/4\n",
      "7/7 [==============================] - 1s 60ms/step - loss: 2.1994 - accuracy: 0.1250 - val_loss: 2.0725 - val_accuracy: 0.1907\n",
      "Epoch 2/4\n",
      "7/7 [==============================] - 0s 17ms/step - loss: 2.0212 - accuracy: 0.1600 - val_loss: 1.9207 - val_accuracy: 0.2221\n",
      "Epoch 3/4\n",
      "7/7 [==============================] - 0s 15ms/step - loss: 1.8624 - accuracy: 0.2000 - val_loss: 1.7766 - val_accuracy: 0.2566\n",
      "Epoch 4/4\n",
      "7/7 [==============================] - 0s 15ms/step - loss: 1.7122 - accuracy: 0.2250 - val_loss: 1.6398 - val_accuracy: 0.2890\n"
     ]
    }
   ],
   "source": [
    "for layer in model_B_on_A.layers[:-1]:\n",
    "    layer.trainable = False #학습이 안되게 동결!\n",
    "\n",
    "    #동결하고 나서 컴파일!\n",
    "model_B_on_A.compile(loss=\"binary_crossentropy\",\n",
    "                     optimizer=keras.optimizers.SGD(learning_rate=1e-3),\n",
    "                     metrics=[\"accuracy\"])\n",
    "\n",
    "#에폭 돌리기(학습은 안됨)\n",
    "history = model_B_on_A.fit(X_train_B, y_train_B, epochs=4,\n",
    "                           validation_data=(X_valid_B, y_valid_B))"
   ]
  },
  {
   "cell_type": "code",
   "execution_count": 31,
   "id": "4fc21278",
   "metadata": {},
   "outputs": [
    {
     "name": "stdout",
     "output_type": "stream",
     "text": [
      "Epoch 1/16\n",
      "7/7 [==============================] - 1s 60ms/step - loss: 1.2177 - accuracy: 0.3400 - val_loss: 0.7676 - val_accuracy: 0.4787\n",
      "Epoch 2/16\n",
      "7/7 [==============================] - 0s 19ms/step - loss: 0.6176 - accuracy: 0.6050 - val_loss: 0.5256 - val_accuracy: 0.7069\n",
      "Epoch 3/16\n",
      "7/7 [==============================] - 0s 19ms/step - loss: 0.4193 - accuracy: 0.8000 - val_loss: 0.3892 - val_accuracy: 0.8499\n",
      "Epoch 4/16\n",
      "7/7 [==============================] - 0s 19ms/step - loss: 0.3084 - accuracy: 0.9250 - val_loss: 0.3079 - val_accuracy: 0.9097\n",
      "Epoch 5/16\n",
      "7/7 [==============================] - 0s 20ms/step - loss: 0.2410 - accuracy: 0.9450 - val_loss: 0.2544 - val_accuracy: 0.9310\n",
      "Epoch 6/16\n",
      "7/7 [==============================] - 0s 21ms/step - loss: 0.1961 - accuracy: 0.9700 - val_loss: 0.2189 - val_accuracy: 0.9452\n",
      "Epoch 7/16\n",
      "7/7 [==============================] - 0s 22ms/step - loss: 0.1665 - accuracy: 0.9700 - val_loss: 0.1929 - val_accuracy: 0.9564\n",
      "Epoch 8/16\n",
      "7/7 [==============================] - 0s 20ms/step - loss: 0.1443 - accuracy: 0.9850 - val_loss: 0.1728 - val_accuracy: 0.9615\n",
      "Epoch 9/16\n",
      "7/7 [==============================] - 0s 21ms/step - loss: 0.1268 - accuracy: 0.9900 - val_loss: 0.1567 - val_accuracy: 0.9645\n",
      "Epoch 10/16\n",
      "7/7 [==============================] - 0s 21ms/step - loss: 0.1128 - accuracy: 0.9950 - val_loss: 0.1445 - val_accuracy: 0.9675\n",
      "Epoch 11/16\n",
      "7/7 [==============================] - 0s 21ms/step - loss: 0.1021 - accuracy: 0.9950 - val_loss: 0.1333 - val_accuracy: 0.9696\n",
      "Epoch 12/16\n",
      "7/7 [==============================] - 0s 20ms/step - loss: 0.0926 - accuracy: 0.9950 - val_loss: 0.1247 - val_accuracy: 0.9706\n",
      "Epoch 13/16\n",
      "7/7 [==============================] - 0s 20ms/step - loss: 0.0848 - accuracy: 0.9950 - val_loss: 0.1174 - val_accuracy: 0.9716\n",
      "Epoch 14/16\n",
      "7/7 [==============================] - 0s 23ms/step - loss: 0.0783 - accuracy: 0.9950 - val_loss: 0.1103 - val_accuracy: 0.9757\n",
      "Epoch 15/16\n",
      "7/7 [==============================] - 0s 21ms/step - loss: 0.0722 - accuracy: 0.9950 - val_loss: 0.1049 - val_accuracy: 0.9767\n",
      "Epoch 16/16\n",
      "7/7 [==============================] - 0s 22ms/step - loss: 0.0673 - accuracy: 0.9950 - val_loss: 0.1002 - val_accuracy: 0.9797\n"
     ]
    }
   ],
   "source": [
    "for layer in model_B_on_A.layers[:-1]:\n",
    "    layer.trainable = True#동결 해제\n",
    "    \n",
    "#동결 해제 후에는 무조건 compile을 해줘야함!\n",
    "model_B_on_A.compile(loss=\"binary_crossentropy\",\n",
    "                     optimizer=keras.optimizers.SGD(learning_rate=1e-3),\n",
    "                     metrics=[\"accuracy\"])\n",
    "history = model_B_on_A.fit(X_train_B, y_train_B, epochs=16,\n",
    "                           validation_data=(X_valid_B, y_valid_B))"
   ]
  },
  {
   "cell_type": "code",
   "execution_count": 32,
   "id": "9fe1f421",
   "metadata": {},
   "outputs": [
    {
     "name": "stdout",
     "output_type": "stream",
     "text": [
      "63/63 [==============================] - 0s 3ms/step - loss: 0.0985 - accuracy: 0.9810\n"
     ]
    },
    {
     "data": {
      "text/plain": [
       "[0.09846139699220657, 0.9810000061988831]"
      ]
     },
     "execution_count": 32,
     "metadata": {},
     "output_type": "execute_result"
    }
   ],
   "source": [
    "model_B_on_A.evaluate(X_test_B, y_test_B)"
   ]
  },
  {
   "cell_type": "markdown",
   "id": "baa97ad4",
   "metadata": {},
   "source": [
    "- 전이학습은 조금 더 일반적인 특성을 감지하는 경향이 있는 심층 합성곱 신경망에서 잘 작동한다.\n",
    "    - 전이 학습은 **작은 완전 연결 네트워크**에서는 잘 작동하지 않는다."
   ]
  },
  {
   "cell_type": "markdown",
   "id": "3f033da1",
   "metadata": {},
   "source": [
    "## 11.2.2 비지도 사전훈련\n",
    "- 레이블된 훈련 데이터가 많이 없을 때 => **비지도 사전훈련(unsupervised pretraining)**을 수행!\n",
    "    1. 레이블되지 않는 데이터를 많이 모아서 AE(autoencoder)나 GAN과 같은 비지도 학습 모델 훈련\n",
    "    2. AE나 GAN 판별자의 하위층을 재사용 -> 그 위에 새로운 출력층 추가\n",
    "    3. 지도학습으로 최종 네트워크 fine tuning\n",
    "---\n",
    "옛날에는 ```RBM(restricted Boltzmann machine)```을 사용했는데 요즘은 ```AE```나 ```GAN```을 더 많이 사용함. 방법도 훨씬 간단해졌다.  \n",
    "- 전체 비지도 모델 학습 후 지도 학습 기법으로 레이블된 데이터에 대한 최종 학습을 진행"
   ]
  },
  {
   "cell_type": "markdown",
   "id": "a85df86b",
   "metadata": {},
   "source": [
    "## 11.2.3 보조 작업에서 사전 훈련\n",
    "- 레이블된 훈련 데이터를 생성할 수 있는 보조 작업에서 첫 번째 신경망을 훈련.\n",
    "    - 이 신경망의 하위층을 실제 작업을 위해 재사용.(특성 추출기로 사용)\n",
    "<br><br>\n",
    "- 에를 들어, 얼굴 인식 시스템\n",
    "    - 개인별 사진 모으기 힘듬(레이블된 훈련 데이터 모으기 힘들다)\n",
    "    - 인터넷에서 무작위로 많은 인물 수집해서 두 이미지가 같은지 다른지 판별하는 첫 번째 신경망을 훈련.(특성을 감지하는 신경망)\n",
    "    - 이 신경망의 하위층을 재사용하여 적은 훈련 데이터에서 얼굴을 구분하는 분류기 훈련 가능!\n",
    "---\n",
    "- **참고**: 자기 지도 학습(self-supervised learning)은 데이터에서 스스로 레이블을 생성하고 지도 학습 기법으로 레이블된 데이터셋에서 모델을 훈련.(비지도 학습에 속한다)\n"
   ]
  },
  {
   "cell_type": "markdown",
   "id": "92baa89e",
   "metadata": {},
   "source": [
    "지금까지 훈련 속도를 높이는 방법이었다.(초기화 전략, 활성화 함수, BN, 전이학습)  \n",
    "거기에 좋은 ```옵티마이저```를 사용하면 속도를 더욱 높일 수 있다!\n",
    "\n",
    "---\n",
    "# 11.3 고속 옵티마이저\n",
    "## 11.3.1 모멘텀 최적화\n",
    "- 볼링공이 종단속도에 도달할 때까지는 빠르게 가속된다 <<<< ```모멘텀 최적화의 원리```<br><br>\n",
    "- 모멘텀 알고리즘\n",
    "    1. $m \\leftarrow \\beta m - \\eta \\nabla_{\\theta}J(\\theta)$\n",
    "        - $J(\\theta)$: 가중치에 대한 비용함수\n",
    "        - $m$: 모멘텀 벡터\n",
    "        - $\\beta$: 모멘텀 ~ 0과 1사이의 값(일반적으로 0.9로 설정)\n",
    "    2. $\\theta \\leftarrow \\theta + m$\n",
    "    - 모멘텀 값을 이용하기 때문에 일반적인 경사하강법보다 속도가 빠를 수 밖에 없다.\n",
    "    - 또한 local optima를 건너뛰도록 하는데 도움이 된다.\n",
    "<br>"
   ]
  },
  {
   "cell_type": "code",
   "execution_count": 33,
   "id": "888be320",
   "metadata": {},
   "outputs": [],
   "source": [
    "#모멘텀 옵티마이저\n",
    "optimizer = keras.optimizers.SGD(learning_rate=0.001, momentum=0.9)"
   ]
  },
  {
   "cell_type": "markdown",
   "id": "abcaabf4",
   "metadata": {},
   "source": [
    "## 11.3.2 네스테로프 가속 경사(NAG)\n",
    "- 모멘텀 최적화의 변종.\n",
    "    - 거의 항상 모멘텀 최적화보다 빠르다. \n",
    "    - 현재 위치가 모멘텀의 방향으로 조금 앞선 $\\theta + \\beta m$에서 비용함수의 그레이디언트를 계산\n",
    "- 네스테로프 가속 경사 알고리즘\n",
    "    1. $m \\leftarrow \\beta m - \\eta \\nabla_{\\theta}J(\\theta + \\beta m)$\n",
    "    2. $\\theta \\leftarrow \\theta + m$"
   ]
  },
  {
   "cell_type": "code",
   "execution_count": 34,
   "id": "3d6f0d0e",
   "metadata": {},
   "outputs": [],
   "source": [
    "#네스테로프 가속 경사\n",
    "optimizer = keras.optimizers.SGD(learning_rate=0.001, momentum=0.9, nesterov=True)"
   ]
  },
  {
   "cell_type": "markdown",
   "id": "b757dbbc",
   "metadata": {},
   "source": [
    "## 11.3.3 AdaGrad\n",
    "- 가장 가파른 차원을 따라 그레이디언트 벡터의 스케일을 감소시켜 전역 최적점 쪽으로 더 정확한 방향을 잡을 수 있다.\n",
    "- AdaGrad 알고리즘\n",
    "    1. $s \\leftarrow s + \\nabla_\\theta J(\\theta) \\otimes \\nabla_\\theta J(\\theta)$\n",
    "    2. $\\theta \\leftarrow \\theta - \\eta\\nabla_\\theta J(\\theta)  \\oslash \\sqrt{s + \\epsilon}$\n",
    "    <br><br>\n",
    "    - 벡터 $s$의 각 원소 $s_i$는 파라미터 $\\theta_i$에 대한 비용 함수의 편미분을 제곱하여 누적한다.\n",
    "        - 비용 함수가 $i$번째 차원을 따라 가파르다면 $s_i$는 반복될 때마다 커질 것이다.\n",
    "    - 두번째 단계에서는 그레이디언트 벡터를 $\\sqrt{s + \\epsilon}$으로 나누어 스케일을 조정한다.(원소별 나눗셈)\n",
    "    - **적응적 학습률**: 학습률을 감소시키지만 경사가 완만한 차원보다 가파른 차원에 대해 더 빠르게 감소된다. \n",
    "---\n",
    "```AdaGrad```는 신경망을 훈련할 때 일찍 멈추는 경우가 있다.  \n",
    "- 학습률이 너무 감소하여 global optima에 도달하지 못함.\n",
    "    - 그래서 **심층 신경망에는 사용하면 안됨**"
   ]
  },
  {
   "cell_type": "code",
   "execution_count": 35,
   "id": "17b582c7",
   "metadata": {},
   "outputs": [],
   "source": [
    "optimizer = keras.optimizers.Adagrad(learning_rate=0.001)"
   ]
  },
  {
   "cell_type": "markdown",
   "id": "ef702367",
   "metadata": {},
   "source": [
    "## 11.3.4 RMSProp\n",
    "- 가장 최근 반복에서 비롯된 레이디언트만 누적함으로써 전역 최적점에 수렴할 수 있게 하는 알고리즘.\n",
    "    - 지수 감소를 사용한다. \n",
    "---\n",
    "- RMSProp 알고리즘\n",
    "    1. $s \\leftarrow \\beta s + (1-\\beta)\\nabla_\\theta J(\\theta) \\otimes \\nabla_\\theta J(\\theta)$\n",
    "    2. $\\theta \\leftarrow \\theta - \\eta\\nabla_\\theta J(\\theta)  \\oslash \\sqrt{s + \\epsilon}$\n",
    "        - $\\beta$: 감쇠율(보통 0.9로 설정)"
   ]
  },
  {
   "cell_type": "code",
   "execution_count": 36,
   "id": "d5045f8f",
   "metadata": {},
   "outputs": [],
   "source": [
    "#RMSProp\n",
    "optimizer = keras.optimizers.RMSprop(learning_rate=0.001, rho=0.9)\n",
    "                    #rho는 RMSProp의 beta에 해당한다"
   ]
  },
  {
   "cell_type": "markdown",
   "id": "6fea4158",
   "metadata": {},
   "source": [
    "## 11.3.5 Adam과 Nadam 최적화\n",
    "- **Adam**: adaptive moment estimation(적응적 모멘트 추정)\n",
    "    - 모멘텀 최적화와 RMSProp의 아이디어를 합쳤다.\n",
    "---\n",
    "- Adam 알고리즘\n",
    "    1. $m \\leftarrow \\beta_1 m - (1-\\beta_1)\\nabla_{\\theta}J(\\theta)$\n",
    "    <br><br>\n",
    "    2. $s \\leftarrow \\beta_2 s + (1-\\beta_2)\\nabla_\\theta J(\\theta) \\otimes \\nabla_\\theta J(\\theta)$\n",
    "    <br><br>\n",
    "    3. $\\hat m \\leftarrow {m \\over 1-\\beta_1^t}$\n",
    "    <br><br>\n",
    "    4. $\\hat s \\leftarrow {s \\over 1-\\beta_2^t}$\n",
    "    <br><br>\n",
    "    5. $\\theta \\leftarrow \\theta + \\eta \\hat m \\oslash \\sqrt{\\hat s + \\epsilon}$\n",
    "---\n",
    "- 지수 감소 평균을 사용 \n",
    "    - 지수감소 평균,,? 지수 감소 합,,?\n",
    "    "
   ]
  },
  {
   "cell_type": "code",
   "execution_count": 37,
   "id": "37cc5ac8",
   "metadata": {},
   "outputs": [],
   "source": [
    "#Adam\n",
    "optimizer = keras.optimizers.Adam(learning_rate=0.001, beta_1=0.9, beta_2=0.999)"
   ]
  },
  {
   "cell_type": "markdown",
   "id": "c54c7bb5",
   "metadata": {},
   "source": [
    "##### Adam의 두 가지 변종\n",
    "1. AdaMax\n",
    "    \n",
    "2. Nadam\n",
    "---\n",
    "논의한 모든 최적화 기법은 ```1차 편미분(야코비안)```에만 의존한다.  \n",
    "- ```2차 편미분(헤시안)```을 심층 신경망에 적용하기는 힘들다.\n",
    "    - 출력마다 $n^2$개의 2차 편미분을 실시 $\\rightarrow$ 메모리 용량을 넘어서거나 시간이 엄청 오래걸리는 경우가 많음.\n",
    "---\n",
    "##### 모든 Optimizer 비교\n",
    "|클래스|수렴 속도|수렴 품질|\n",
    "|:---|:---|:---|\n",
    "|SGD|나쁨|좋음|\n",
    "|SGD(모멘텀 최적화)|보통|좋음|\n",
    "|SGD(네스테로프)|보통|좋음|\n",
    "|AdaGrad|좋음|나쁨(너무 빨리 멈춤)|\n",
    "|RMSProp|좋음|보통 또는 좋음|\n",
    "|Adam|좋음|보통 또는 좋음|\n",
    "|Nadam|좋음|보통 또는 좋음|\n",
    "|AdaMax|좋음|보통 또는 좋음|\n"
   ]
  },
  {
   "cell_type": "markdown",
   "id": "3ae895ea",
   "metadata": {},
   "source": [
    "## 11.3.6 학습률 스케줄링\n",
    "- 좋은 학습률 찾기\n",
    "    1. 매우 작은 값에서 매우 큰 값까지 지수적으로 학습률을 증가시키면서 모델 훈련을 반복하여 최적의 학습률 찾기.(고정 학습률)\n",
    "    2. **큰 학습률로 시작하고 학습속도가 느려질 때 학습률을 낮추기**\n",
    "        - 즉, 학습률을 변화시키면서 학습 = **학습 스케쥴링(learning schedule)**\n",
    "---\n",
    "#### 1. 거듭제곱 기반 스케줄링(power scheduling)\n",
    "- 학습률을 반복횟수 $t$에 대한 함수 $\\eta(t) = \\eta_0 \\space / \\space (1+t/s)^c$ 로 지정. \n",
    "    - $\\eta_0$: 초기 학습률.\n",
    "    - $c$: 거듭제곱 수(일반적으로 1로 설정)\n",
    "    - $s$: 스텝 횟수.(하이퍼파라미터)\n",
    "    - 처음에는 빠르게 감소  (${1\\over 2}, {1\\over3},...$)하다가 점점 느리게 감소\n",
    "---\n",
    "#### 2. 지수 기반 스케줄링(exponential scheduling)\n",
    "- 학습률을 $\\eta(t) = \\eta_00.1^{t\\over s}$로 설정\n",
    "    - $s$ 스텝마다 10배씩 점차 줄어들게 된다. \n",
    "----\n",
    "#### 3. 구간별 고정  스케줄링(piece constant scheduling)\n",
    "- 일정 횟수의 에포크 동안 일정한 학습률 사용.\n",
    "    - 그 다음 또 다른 횟수의 에포크 동안 작은 학습률 사용\n",
    "    <br><br>\n",
    "    - 예를 들어, 5에포크 동안 학습률 0.1 그 다음 50 에포크 동안 학습률 0.001\n",
    "---\n",
    "#### 4. 성능 기반 스케줄링(performance scheduling)\n",
    "- 매 $N$스텝마다 (조기 종료처럼) 검증 오차를 측정하고 오차가 줄어들지 않으면 $\\lambda$배 만큼 학습률을 감소시킴\n",
    "---\n",
    "#### 5. 1사이클 스케줄링(1cycle scheduling)\n",
    "- 절반동안 초기 학습률을 선형적으로 **증가**시킴!?\n",
    "    - 나머지 절반동안 선형적으로 **감소**시킴(초기 학습률에 도달할 때까지)\n",
    "    - 마지막 몇 번의 에포크에서는 소수점 몇 째자리까지 줄임(선형적으로)"
   ]
  },
  {
   "cell_type": "code",
   "execution_count": 38,
   "id": "4ba850c5",
   "metadata": {},
   "outputs": [],
   "source": [
    "# 거듭제곱 기반 스케줄링(케라스에서 가장 구현하기 쉽다)\n",
    "optimizer = keras.optimizers.SGD(learning_rate=0.01, decay=1e-4)\n",
    "    #decay = 1 / s"
   ]
  },
  {
   "cell_type": "code",
   "execution_count": 39,
   "id": "ea9eee45",
   "metadata": {},
   "outputs": [],
   "source": [
    "# 지수기반 스케줄링\n",
    "def exponential_decay_fn(epoch): #현재 epoch를 받아 \n",
    "    return 0.01 * 0.1**(epoch / 20) #학습률을 return\n",
    "\n",
    "#하드코딩 하고 싶지 않다면 클로저를 반환하는 함수?\n",
    "    #하드코딩: 데이터를 코드 내부에 직접 입력하는 것이다\n",
    "    #클로저: 내부 함수를 사용하여 값을 반환하는 건가,,,? 잘 모르겠다.\n",
    "def exponential_decay(lr0, s):\n",
    "    def exponential_decay_fn(epoch):\n",
    "        return lr0 * 0.1**(epoch / s)\n",
    "    return exponential_decay_fn\n",
    "\n",
    "exponential_decay_fn = exponential_decay(lr0=0.01, s=20)"
   ]
  },
  {
   "cell_type": "code",
   "execution_count": 40,
   "id": "a49b6f35",
   "metadata": {},
   "outputs": [
    {
     "name": "stdout",
     "output_type": "stream",
     "text": [
      "Epoch 1/25\n",
      "1719/1719 [==============================] - 8s 4ms/step - loss: 0.8467 - accuracy: 0.7546 - val_loss: 0.8116 - val_accuracy: 0.7468 - lr: 0.0100\n",
      "Epoch 2/25\n",
      "1719/1719 [==============================] - 7s 4ms/step - loss: 0.6988 - accuracy: 0.7869 - val_loss: 0.6939 - val_accuracy: 0.8062 - lr: 0.0089\n",
      "Epoch 3/25\n",
      "1719/1719 [==============================] - 7s 4ms/step - loss: 0.6545 - accuracy: 0.8062 - val_loss: 0.6567 - val_accuracy: 0.7974 - lr: 0.0079\n",
      "Epoch 4/25\n",
      "1719/1719 [==============================] - 7s 4ms/step - loss: 0.5702 - accuracy: 0.8214 - val_loss: 0.6328 - val_accuracy: 0.8246 - lr: 0.0071\n",
      "Epoch 5/25\n",
      "1719/1719 [==============================] - 7s 4ms/step - loss: 0.5437 - accuracy: 0.8336 - val_loss: 0.6274 - val_accuracy: 0.8266 - lr: 0.0063\n",
      "Epoch 6/25\n",
      "1719/1719 [==============================] - 7s 4ms/step - loss: 0.4959 - accuracy: 0.8471 - val_loss: 0.5113 - val_accuracy: 0.8476 - lr: 0.0056\n",
      "Epoch 7/25\n",
      "1719/1719 [==============================] - 7s 4ms/step - loss: 0.4550 - accuracy: 0.8543 - val_loss: 0.5035 - val_accuracy: 0.8478 - lr: 0.0050\n",
      "Epoch 8/25\n",
      "1719/1719 [==============================] - 7s 4ms/step - loss: 0.4032 - accuracy: 0.8661 - val_loss: 0.5674 - val_accuracy: 0.8334 - lr: 0.0045\n",
      "Epoch 9/25\n",
      "1719/1719 [==============================] - 7s 4ms/step - loss: 0.3812 - accuracy: 0.8710 - val_loss: 0.5240 - val_accuracy: 0.8566 - lr: 0.0040\n",
      "Epoch 10/25\n",
      "1719/1719 [==============================] - 7s 4ms/step - loss: 0.3547 - accuracy: 0.8787 - val_loss: 0.4846 - val_accuracy: 0.8646 - lr: 0.0035\n",
      "Epoch 11/25\n",
      "1719/1719 [==============================] - 7s 4ms/step - loss: 0.3266 - accuracy: 0.8856 - val_loss: 0.4583 - val_accuracy: 0.8666 - lr: 0.0032\n",
      "Epoch 12/25\n",
      "1719/1719 [==============================] - 7s 4ms/step - loss: 0.3120 - accuracy: 0.8897 - val_loss: 0.5233 - val_accuracy: 0.8602 - lr: 0.0028\n",
      "Epoch 13/25\n",
      "1719/1719 [==============================] - 7s 4ms/step - loss: 0.2902 - accuracy: 0.8972 - val_loss: 0.4462 - val_accuracy: 0.8624 - lr: 0.0025\n",
      "Epoch 14/25\n",
      "1719/1719 [==============================] - 7s 4ms/step - loss: 0.2709 - accuracy: 0.9023 - val_loss: 0.4933 - val_accuracy: 0.8548 - lr: 0.0022\n",
      "Epoch 15/25\n",
      "1719/1719 [==============================] - 7s 4ms/step - loss: 0.2554 - accuracy: 0.9075 - val_loss: 0.5005 - val_accuracy: 0.8754 - lr: 0.0020\n",
      "Epoch 16/25\n",
      "1719/1719 [==============================] - 7s 4ms/step - loss: 0.2352 - accuracy: 0.9137 - val_loss: 0.4830 - val_accuracy: 0.8746 - lr: 0.0018\n",
      "Epoch 17/25\n",
      "1719/1719 [==============================] - 7s 4ms/step - loss: 0.2224 - accuracy: 0.9177 - val_loss: 0.4788 - val_accuracy: 0.8736 - lr: 0.0016\n",
      "Epoch 18/25\n",
      "1719/1719 [==============================] - 7s 4ms/step - loss: 0.2117 - accuracy: 0.9216 - val_loss: 0.4835 - val_accuracy: 0.8792 - lr: 0.0014\n",
      "Epoch 19/25\n",
      "1719/1719 [==============================] - 7s 4ms/step - loss: 0.1959 - accuracy: 0.9265 - val_loss: 0.5117 - val_accuracy: 0.8818 - lr: 0.0013\n",
      "Epoch 20/25\n",
      "1719/1719 [==============================] - 7s 4ms/step - loss: 0.1888 - accuracy: 0.9288 - val_loss: 0.4856 - val_accuracy: 0.8774 - lr: 0.0011\n",
      "Epoch 21/25\n",
      "1719/1719 [==============================] - 7s 4ms/step - loss: 0.1758 - accuracy: 0.9343 - val_loss: 0.5120 - val_accuracy: 0.8804 - lr: 0.0010\n",
      "Epoch 22/25\n",
      "1719/1719 [==============================] - 7s 4ms/step - loss: 0.1687 - accuracy: 0.9363 - val_loss: 0.5340 - val_accuracy: 0.8858 - lr: 8.9125e-04\n",
      "Epoch 23/25\n",
      "1719/1719 [==============================] - 7s 4ms/step - loss: 0.1593 - accuracy: 0.9411 - val_loss: 0.5217 - val_accuracy: 0.8838 - lr: 7.9433e-04\n",
      "Epoch 24/25\n",
      "1719/1719 [==============================] - 7s 4ms/step - loss: 0.1503 - accuracy: 0.9444 - val_loss: 0.5658 - val_accuracy: 0.8868 - lr: 7.0795e-04\n",
      "Epoch 25/25\n",
      "1719/1719 [==============================] - 7s 4ms/step - loss: 0.1431 - accuracy: 0.9479 - val_loss: 0.5498 - val_accuracy: 0.8778 - lr: 6.3096e-04\n"
     ]
    }
   ],
   "source": [
    "model = keras.models.Sequential([\n",
    "    keras.layers.Flatten(input_shape=[28, 28]),\n",
    "    keras.layers.Dense(300, activation=\"selu\", kernel_initializer=\"lecun_normal\"),\n",
    "    keras.layers.Dense(100, activation=\"selu\", kernel_initializer=\"lecun_normal\"),\n",
    "    keras.layers.Dense(10, activation=\"softmax\")\n",
    "])\n",
    "model.compile(loss=\"sparse_categorical_crossentropy\", optimizer=\"nadam\", metrics=[\"accuracy\"])\n",
    "n_epochs = 25\n",
    "\n",
    "pixel_means = X_train.mean(axis=0, keepdims=True)\n",
    "pixel_stds = X_train.std(axis=0, keepdims=True)\n",
    "X_train_scaled = (X_train - pixel_means) / pixel_stds\n",
    "X_valid_scaled = (X_valid - pixel_means) / pixel_stds\n",
    "X_test_scaled = (X_test - pixel_means) / pixel_stds\n",
    "#콜백 만들기\n",
    "lr_scheduler = keras.callbacks.LearningRateScheduler(exponential_decay_fn)\n",
    "history = model.fit(X_train_scaled, y_train, epochs=n_epochs,\n",
    "                    validation_data=(X_valid_scaled, y_valid),\n",
    "                    callbacks=[lr_scheduler])"
   ]
  },
  {
   "cell_type": "code",
   "execution_count": 41,
   "id": "416d7ee5",
   "metadata": {},
   "outputs": [
    {
     "data": {
      "image/png": "[encoded data removed]",
      "text/plain": [
       "<Figure size 432x288 with 1 Axes>"
      ]
     },
     "metadata": {
      "needs_background": "light"
     },
     "output_type": "display_data"
    }
   ],
   "source": [
    "plt.plot(history.epoch, history.history[\"lr\"], \"o-\")\n",
    "plt.axis([0, n_epochs - 1, 0, 0.011])\n",
    "plt.xlabel(\"Epoch\")\n",
    "plt.ylabel(\"Learning Rate\")\n",
    "plt.title(\"Exponential Scheduling\", fontsize=14)\n",
    "plt.grid(True)\n",
    "plt.show()"
   ]
  },
  {
   "cell_type": "code",
   "execution_count": 42,
   "id": "469e9455",
   "metadata": {},
   "outputs": [],
   "source": [
    "#이 스케줄 함수는 두 번째 매개변수로 현재 학습률을 받는다.\n",
    "def exponential_decay_fn(epoch, lr):\n",
    "    return lr * 0.1**(1 / 20)\n",
    "    #이렇게하면 옵티마이저의 초기 학습률에만 의존하므로 이를 적절하게 설정해야함"
   ]
  },
  {
   "cell_type": "markdown",
   "id": "9d44a331",
   "metadata": {},
   "source": [
    "##### 구간별 고정 스케줄링\n",
    "- 모델을 저장할때는 옵티마이저와 학습률이 함께 저장된다.\n",
    "    - 하지만 스케줄 함수가 epoch를 매개변수로 사용한다면, epoch는 따로 저장되지 않기 때문에 문제가 발생\n",
    "    - 따라서 **저장한 epoch에서 시작하도록 ```initial_epcoh```매개변수를 수동 지정**"
   ]
  },
  {
   "cell_type": "code",
   "execution_count": 43,
   "id": "5b8790d7",
   "metadata": {},
   "outputs": [],
   "source": [
    "def piecewise_constant_fn(epoch):\n",
    "    if epoch < 5:\n",
    "        return 0.01\n",
    "    elif epoch < 15:\n",
    "        return 0.005\n",
    "    else:\n",
    "        return 0.001"
   ]
  },
  {
   "cell_type": "markdown",
   "id": "e134555b",
   "metadata": {},
   "source": [
    "###### 성능 기반 스케줄링(```ReduceROnPlateau``` 사용)\n",
    "- ```patience = 5```의미: 다섯 번의 연속적인 에포크동안 향상되지 않을 때 학습률에 ```factor```를 곱한다."
   ]
  },
  {
   "cell_type": "code",
   "execution_count": 45,
   "id": "8d50bc08",
   "metadata": {},
   "outputs": [
    {
     "name": "stdout",
     "output_type": "stream",
     "text": [
      "Epoch 1/25\n",
      "1719/1719 [==============================] - 8s 4ms/step - loss: 0.5851 - accuracy: 0.8071 - val_loss: 0.4937 - val_accuracy: 0.8558 - lr: 0.0200\n",
      "Epoch 2/25\n",
      "1719/1719 [==============================] - 6s 3ms/step - loss: 0.4901 - accuracy: 0.8411 - val_loss: 0.5474 - val_accuracy: 0.8466 - lr: 0.0200\n",
      "Epoch 3/25\n",
      "1719/1719 [==============================] - 6s 3ms/step - loss: 0.5141 - accuracy: 0.8415 - val_loss: 0.4633 - val_accuracy: 0.8590 - lr: 0.0200\n",
      "Epoch 4/25\n",
      "1719/1719 [==============================] - 6s 3ms/step - loss: 0.5202 - accuracy: 0.8434 - val_loss: 0.4872 - val_accuracy: 0.8598 - lr: 0.0200\n",
      "Epoch 5/25\n",
      "1719/1719 [==============================] - 6s 3ms/step - loss: 0.5250 - accuracy: 0.8484 - val_loss: 0.5565 - val_accuracy: 0.8428 - lr: 0.0200\n",
      "Epoch 6/25\n",
      "1719/1719 [==============================] - 5s 3ms/step - loss: 0.4908 - accuracy: 0.8575 - val_loss: 0.5202 - val_accuracy: 0.8574 - lr: 0.0200\n",
      "Epoch 7/25\n",
      "1719/1719 [==============================] - 5s 3ms/step - loss: 0.5054 - accuracy: 0.8557 - val_loss: 0.5193 - val_accuracy: 0.8580 - lr: 0.0200\n",
      "Epoch 8/25\n",
      "1719/1719 [==============================] - 6s 3ms/step - loss: 0.5046 - accuracy: 0.8589 - val_loss: 0.7218 - val_accuracy: 0.8350 - lr: 0.0200\n",
      "Epoch 9/25\n",
      "1719/1719 [==============================] - 5s 3ms/step - loss: 0.2931 - accuracy: 0.8978 - val_loss: 0.4221 - val_accuracy: 0.8794 - lr: 0.0100\n",
      "Epoch 10/25\n",
      "1719/1719 [==============================] - 5s 3ms/step - loss: 0.2439 - accuracy: 0.9106 - val_loss: 0.3933 - val_accuracy: 0.8856 - lr: 0.0100\n",
      "Epoch 11/25\n",
      "1719/1719 [==============================] - 5s 3ms/step - loss: 0.2236 - accuracy: 0.9175 - val_loss: 0.4179 - val_accuracy: 0.8782 - lr: 0.0100\n",
      "Epoch 12/25\n",
      "1719/1719 [==============================] - 6s 3ms/step - loss: 0.2154 - accuracy: 0.9217 - val_loss: 0.4684 - val_accuracy: 0.8710 - lr: 0.0100\n",
      "Epoch 13/25\n",
      "1719/1719 [==============================] - 6s 3ms/step - loss: 0.1978 - accuracy: 0.9267 - val_loss: 0.4413 - val_accuracy: 0.8902 - lr: 0.0100\n",
      "Epoch 14/25\n",
      "1719/1719 [==============================] - 6s 3ms/step - loss: 0.1880 - accuracy: 0.9296 - val_loss: 0.4238 - val_accuracy: 0.8844 - lr: 0.0100\n",
      "Epoch 15/25\n",
      "1719/1719 [==============================] - 6s 3ms/step - loss: 0.1789 - accuracy: 0.9338 - val_loss: 0.4721 - val_accuracy: 0.8814 - lr: 0.0100\n",
      "Epoch 16/25\n",
      "1719/1719 [==============================] - 6s 3ms/step - loss: 0.1222 - accuracy: 0.9519 - val_loss: 0.4345 - val_accuracy: 0.8956 - lr: 0.0050\n",
      "Epoch 17/25\n",
      "1719/1719 [==============================] - 6s 3ms/step - loss: 0.1078 - accuracy: 0.9578 - val_loss: 0.4512 - val_accuracy: 0.8956 - lr: 0.0050\n",
      "Epoch 18/25\n",
      "1719/1719 [==============================] - 6s 3ms/step - loss: 0.1001 - accuracy: 0.9609 - val_loss: 0.4669 - val_accuracy: 0.8898 - lr: 0.0050\n",
      "Epoch 19/25\n",
      "1719/1719 [==============================] - 6s 3ms/step - loss: 0.0936 - accuracy: 0.9641 - val_loss: 0.4732 - val_accuracy: 0.8930 - lr: 0.0050\n",
      "Epoch 20/25\n",
      "1719/1719 [==============================] - 6s 3ms/step - loss: 0.0868 - accuracy: 0.9670 - val_loss: 0.4973 - val_accuracy: 0.8948 - lr: 0.0050\n",
      "Epoch 21/25\n",
      "1719/1719 [==============================] - 6s 3ms/step - loss: 0.0665 - accuracy: 0.9753 - val_loss: 0.5034 - val_accuracy: 0.8944 - lr: 0.0025\n",
      "Epoch 22/25\n",
      "1719/1719 [==============================] - 6s 3ms/step - loss: 0.0613 - accuracy: 0.9769 - val_loss: 0.5181 - val_accuracy: 0.8952 - lr: 0.0025\n",
      "Epoch 23/25\n",
      "1719/1719 [==============================] - 6s 3ms/step - loss: 0.0576 - accuracy: 0.9790 - val_loss: 0.5220 - val_accuracy: 0.8918 - lr: 0.0025\n",
      "Epoch 24/25\n",
      "1719/1719 [==============================] - 6s 3ms/step - loss: 0.0543 - accuracy: 0.9804 - val_loss: 0.5538 - val_accuracy: 0.8910 - lr: 0.0025\n",
      "Epoch 25/25\n",
      "1719/1719 [==============================] - 6s 3ms/step - loss: 0.0523 - accuracy: 0.9812 - val_loss: 0.5535 - val_accuracy: 0.8932 - lr: 0.0025\n"
     ]
    }
   ],
   "source": [
    "lr_scheduler = keras.callbacks.ReduceLROnPlateau(factor = 0.5, patience = 5)\n",
    "#ReduceROnPlateau <<< 성능 기반 스케줄링\n",
    "model = keras.models.Sequential([\n",
    "    keras.layers.Flatten(input_shape=[28, 28]),\n",
    "    keras.layers.Dense(300, activation=\"selu\", kernel_initializer=\"lecun_normal\"),\n",
    "    keras.layers.Dense(100, activation=\"selu\", kernel_initializer=\"lecun_normal\"),\n",
    "    keras.layers.Dense(10, activation=\"softmax\")\n",
    "])\n",
    "optimizer = keras.optimizers.SGD(learning_rate=0.02, momentum=0.9)\n",
    "model.compile(loss=\"sparse_categorical_crossentropy\", optimizer=optimizer, metrics=[\"accuracy\"])\n",
    "n_epochs = 25\n",
    "history = model.fit(X_train_scaled, y_train, epochs=n_epochs,\n",
    "                    validation_data=(X_valid_scaled, y_valid),\n",
    "                    callbacks=[lr_scheduler])"
   ]
  },
  {
   "cell_type": "code",
   "execution_count": 46,
   "id": "2c6a1b83",
   "metadata": {},
   "outputs": [
    {
     "data": {
      "image/png": "[encoded data removed]",
      "text/plain": [
       "<Figure size 432x288 with 2 Axes>"
      ]
     },
     "metadata": {
      "needs_background": "light"
     },
     "output_type": "display_data"
    }
   ],
   "source": [
    "plt.plot(history.epoch, history.history[\"lr\"], \"bo-\")\n",
    "plt.xlabel(\"Epoch\")\n",
    "plt.ylabel(\"Learning Rate\", color='b')\n",
    "plt.tick_params('y', colors='b')\n",
    "plt.gca().set_xlim(0, n_epochs - 1)\n",
    "plt.grid(True)\n",
    "\n",
    "ax2 = plt.gca().twinx()\n",
    "ax2.plot(history.epoch, history.history[\"val_loss\"], \"r^-\")\n",
    "ax2.set_ylabel('Validation Loss', color='r')\n",
    "ax2.tick_params('y', colors='r')\n",
    "\n",
    "plt.title(\"Reduce LR on Plateau\", fontsize=14)\n",
    "plt.show()"
   ]
  },
  {
   "cell_type": "markdown",
   "id": "c0423dcc",
   "metadata": {},
   "source": [
    "#### ```tf.keras``` 스케줄러\n",
    "- ```keras.optimizers.schedules```에 있는 스케줄 중에 하나를 사용해 학습률을 정의 $\\rightarrow$ 이 학습률을 Optimizer에 전달\n",
    "    - 매 Step마다 학습률을 업데이트하게 된다."
   ]
  },
  {
   "cell_type": "code",
   "execution_count": 48,
   "id": "fa5431e7",
   "metadata": {},
   "outputs": [],
   "source": [
    "s = 20 * len(X_train) // 32 #20번 epoch에 담긴 전체 스텝 수(32는 배치사이즈임)\n",
    "\n",
    "learning_rate = keras.optimizers.schedules.ExponentialDecay(0.01, s, 0.1)\n",
    "optimizer = keras.optimizers.SGD(learning_rate)"
   ]
  },
  {
   "cell_type": "markdown",
   "id": "b1361dde",
   "metadata": {},
   "source": [
    "#### 1사이클 스케줄링\n",
    "- 매 반복마다 학습률을 조정하는 사용자 정의 콜백을 만들자\n",
    "---\n",
    "**결론적으로, 지수 기반, 성능 기반, 1사이클이 수렴 속도를 크게 높일 수 있다**"
   ]
  },
  {
   "cell_type": "markdown",
   "id": "a50f1366",
   "metadata": {},
   "source": [
    "# 11.4 규제를 사용해 과대적합 피하기\n",
    "## 11.4.1 $l_1$과 $l_2$규제"
   ]
  },
  {
   "cell_type": "code",
   "execution_count": 49,
   "id": "d65c06e5",
   "metadata": {},
   "outputs": [],
   "source": [
    "#규제강도 0.01을 적용한 l2 규제\n",
    "\n",
    "layer = keras.layers.Dense(100, activation=\"elu\",\n",
    "                           kernel_initializer=\"he_normal\",\n",
    "                           kernel_regularizer=keras.regularizers.l2(0.01))"
   ]
  },
  {
   "cell_type": "markdown",
   "id": "5e8bc14b",
   "metadata": {},
   "source": [
    "- ```l2()```함수는 훈련하는 동안 규제 손실을 계산하기 위해 각 스텝에서 호출되는 규제 객체를 반환\n",
    "    - 이 손실은 최종 손실에 합산된다.\n",
    "- l1과 l2규제 모두 필요하다면 ```keras.regularizes.l1_l2()```를 사용\n",
    "---\n",
    "##### 파이썬의 ```functools.partial()```함수를 사용하여 refactoring\n",
    "- refactoring: 결과의 변경 없이 코드의 구조를 재조정하는 것.\n",
    "<br><br>\n",
    "- 모든 층에 동일한 규제를 적용하기 때문에 매개변수 값을 계속 반복해야함 => **refactoring** 사용\n",
    "    - 코드를 읽기 쉽게 만들고, 버그를 피할 수 있음\n"
   ]
  },
  {
   "cell_type": "code",
   "execution_count": 50,
   "id": "c3819f36",
   "metadata": {},
   "outputs": [],
   "source": [
    "from functools import partial\n",
    "\n",
    "RegularizedDense = partial(keras.layers.Dense,\n",
    "                           activation=\"elu\",\n",
    "                           kernel_initializer=\"he_normal\",\n",
    "                           kernel_regularizer=keras.regularizers.l2(0.01))\n",
    "\n",
    "model = keras.models.Sequential([\n",
    "    keras.layers.Flatten(input_shape=[28, 28]),\n",
    "    RegularizedDense(300),\n",
    "    RegularizedDense(100),\n",
    "    RegularizedDense(10, activation=\"softmax\")\n",
    "])"
   ]
  },
  {
   "cell_type": "markdown",
   "id": "27cad969",
   "metadata": {},
   "source": [
    "## 11.4.2 드롭아웃(dropout)\n",
    "- 매 훈련 스텝에서 각 뉴런은 임시적으로 드롭아웃될 확률 P를 가진다.(완전히 무시될 확률)\n",
    "    - 보통 10%와 50% 사이를 지정.\n",
    "    - 훈련이 끝나고는 드롭아웃 적용하지 않는다. \n",
    "    - 일반적으로 출력층을 제외한 맨 위의 층부터 세 번째 층까지 있는 뉴런에만 드롭아웃 적용.\n",
    "<br><br>\n",
    "- **기술적 세부사항**\n",
    "    - $p$=50%로 하면 테스트 동안에는 하나의 뉴런이 훈련 때보다 (평균적으로)2배 많은 뉴런과 연결.\n",
    "    - $\\rightarrow$ 따라서 이 점을 보상하기 위해 훈련 후 각 뉴런의 연결 가중치에 $0.5$곱하기.\n",
    "        - 이렇게 곱해지는 상수를 **보존 확률(keep probability)**라고 한다. 드롭아웃 비율이 $p$일 때 보존 확률은 **$(1-p)$**"
   ]
  },
  {
   "cell_type": "code",
   "execution_count": 52,
   "id": "6e5ad694",
   "metadata": {},
   "outputs": [],
   "source": [
    "model = keras.models.Sequential([\n",
    "    keras.layers.Flatten(input_shape=[28, 28]),\n",
    "    keras.layers.Dropout(rate=0.2), #드롭아웃 적용(p는 드롭아웃 비율)\n",
    "    keras.layers.Dense(300, activation=\"elu\", kernel_initializer=\"he_normal\"),\n",
    "    keras.layers.Dropout(rate=0.2),\n",
    "    keras.layers.Dense(100, activation=\"elu\", kernel_initializer=\"he_normal\"),\n",
    "    keras.layers.Dropout(rate=0.2),\n",
    "    keras.layers.Dense(10, activation=\"softmax\")\n",
    "])\n",
    "model.compile(loss=\"sparse_categorical_crossentropy\", optimizer=\"nadam\", metrics=[\"accuracy\"])"
   ]
  },
  {
   "cell_type": "markdown",
   "id": "a3304b0d",
   "metadata": {},
   "source": [
    "- **조심**: 드롭아웃을 적용했을 때 train loss와 val loss를 비교하는 것은 오해를 일으키기 쉽다.\n",
    "    - 훈련이 끝난 후에는 드롭아웃을 빼고 train loss를 평가해야 한다.\n",
    "<br><br>\n",
    "- 모델이 과대적합 되었다면 드롭아웃 비율 늘리기\n",
    "- 모델이 과소적합 되었다면 드롭아웃 비율 낮추기\n",
    "---\n",
    "- 일반적으로 드롭아웃을 적용하면 수렴이 느려짐."
   ]
  },
  {
   "cell_type": "markdown",
   "id": "26f04dc4",
   "metadata": {},
   "source": [
    "## 11.4.3 몬테 카를로 드롭아웃(MC 드롭아웃)\n",
    "- 드롭아웃 네크워크를 훈련하는 것이 심층 가우스 과정이라 불리는 특정 확률 모델에서 근사 베이즈 추론과 수학적으로 동등하다.\n",
    "- 드롭아웃 모델을 재훈련하거나 수정하지 않고 성능을 향상시킬 수 있는 기법이다. 모델의 불확실성을 더 잘 측정하고 구현이 쉽다."
   ]
  },
  {
   "cell_type": "code",
   "execution_count": 53,
   "id": "97ad3f3c",
   "metadata": {},
   "outputs": [],
   "source": [
    "y_probas = np.stack([model(X_test_scaled, training=True)\n",
    "                     for sample in range(100)])\n",
    "#y_probas는 [100, 10000, 10]모양의 텐서.(10000 x 10 행렬 100개를 쌓았다)\n",
    "    #training = True: 드롭아웃 층이 활성화??\n",
    "\n",
    "y_proba = y_probas.mean(axis=0) #열을 따라서 평균을 계산\n",
    "y_std = y_probas.std(axis=0) #열을 따라서 표준편차를 계산"
   ]
  },
  {
   "cell_type": "code",
   "execution_count": 65,
   "id": "7541b93b",
   "metadata": {},
   "outputs": [],
   "source": [
    "arrays = np.array([np.random.randn(2, 2) for _ in range(10)])\n",
    "#print(arrays)\n",
    "#print(arrays.shape)\n",
    "#print(np.stack(arrays, axis=0))\n",
    "#print(np.stack(arrays, axis=0).shape)\n",
    "#print(np.stack(arrays, axis=1))\n",
    "#print(np.stack(arrays, axis=1).shape)\n",
    "#print(np.stack(arrays, axis=2))\n",
    "#print(np.stack(arrays, axis=2).shape)"
   ]
  },
  {
   "cell_type": "code",
   "execution_count": 66,
   "id": "81617b0b",
   "metadata": {},
   "outputs": [
    {
     "name": "stdout",
     "output_type": "stream",
     "text": [
      "1/1 [==============================] - 0s 150ms/step\n"
     ]
    },
    {
     "data": {
      "text/plain": [
       "array([[0.35, 0.13, 0.06, 0.2 , 0.02, 0.07, 0.02, 0.03, 0.05, 0.08]],\n",
       "      dtype=float32)"
      ]
     },
     "execution_count": 66,
     "metadata": {},
     "output_type": "execute_result"
    }
   ],
   "source": [
    "np.round(model.predict(X_test_scaled[:1]), 2)\n",
    "#책따라서 다시 훈련을 안하니까 이상한 값이 나오네ㅠ.ㅠ"
   ]
  },
  {
   "cell_type": "code",
   "execution_count": 67,
   "id": "b959a742",
   "metadata": {},
   "outputs": [
    {
     "name": "stdout",
     "output_type": "stream",
     "text": [
      "Model: \"sequential_11\"\n",
      "_________________________________________________________________\n",
      " Layer (type)                Output Shape              Param #   \n",
      "=================================================================\n",
      " flatten_8 (Flatten)         (None, 784)               0         \n",
      "                                                                 \n",
      " dropout_3 (Dropout)         (None, 784)               0         \n",
      "                                                                 \n",
      " dense_32 (Dense)            (None, 300)               235500    \n",
      "                                                                 \n",
      " dropout_4 (Dropout)         (None, 300)               0         \n",
      "                                                                 \n",
      " dense_33 (Dense)            (None, 100)               30100     \n",
      "                                                                 \n",
      " dropout_5 (Dropout)         (None, 100)               0         \n",
      "                                                                 \n",
      " dense_34 (Dense)            (None, 10)                1010      \n",
      "                                                                 \n",
      "=================================================================\n",
      "Total params: 266,610\n",
      "Trainable params: 266,610\n",
      "Non-trainable params: 0\n",
      "_________________________________________________________________\n"
     ]
    }
   ],
   "source": [
    "#Dropout층을 MCDropout으로 바꾸기 ~\n",
    "    #모델이 훈련하는 동안 (BN층과 같은)다르게 작동하는 층이 있다면\n",
    "    #훈련모드를 강제로 설정하면 안됨ㅠ\n",
    "class MCDropout(keras.layers.Dropout):\n",
    "    def call(self, inputs):\n",
    "        return super().call(inputs, training=True)\n",
    "    #call()을 오버라이드\n",
    "        #오버리아드: 상속받은 class에 속해있는 메서드를 무시하고 새로운 메서드를 만든다\n",
    "            #기능이 같은 메서드 이름으로 계속 사용되어야할 때 활용\n",
    "\n",
    "mc_model = keras.models.Sequential([\n",
    "    MCAlphaDropout(layer.rate) if isinstance(layer, keras.layers.AlphaDropout) else layer\n",
    "    for layer in model.layers\n",
    "])\n",
    "#isinstance(a, int)\n",
    "    #a가 int인지 알아보기 위함  ~ 맞으면 True\n",
    "    #여기서는 layer가 AlphaDropout이 적용되는지 확인\n",
    "\n",
    "mc_model.summary()\n",
    "    "
   ]
  },
  {
   "cell_type": "markdown",
   "id": "aafb32ec",
   "metadata": {},
   "source": [
    "## 11.4.4 맥스-노름 규제(max-norm regularization)\n",
    "- 각각의 뉴런에 대해 입력의 연결 가중치 $w$가 $||w||_2 \\leq r$이 되도록 제한\n",
    "    - $r$은 맥스-노름 하이퍼파라미터\n",
    "    - $||\\space \\cdot \\space||_2$는 l2노름\n",
    "- 불안정한 그레이디언트 문제를 완화할 수 있다.\n",
    "---\n",
    "- 매 훈련 스텝이 끝나고 $||w||_2$를 계산하고, 필요하면 스케일도 조정\n",
    "    - 스케일 조정\n",
    "        - $w \\leftarrow w{r \\over {||w||_2}}$\n",
    "        - $r$을 줄이면 규제 많이. 즉 **과대적합 감소**에 도움이 됨"
   ]
  },
  {
   "cell_type": "code",
   "execution_count": 69,
   "id": "dde4f1b2",
   "metadata": {},
   "outputs": [],
   "source": [
    "layer = keras.layers.Dense(100, activation=\"selu\", kernel_initializer=\"lecun_normal\",\n",
    "                           kernel_constraint=keras.constraints.max_norm(1.))\n",
    "\n",
    "#파이썬의 functools.partial()사용\n",
    "MaxNormDense = partial(keras.layers.Dense,\n",
    "                       activation=\"selu\", kernel_initializer=\"lecun_normal\",\n",
    "                       kernel_constraint=keras.constraints.max_norm(1.))\n",
    "\n",
    "model = keras.models.Sequential([\n",
    "    keras.layers.Flatten(input_shape=[28, 28]),\n",
    "    MaxNormDense(300),\n",
    "    MaxNormDense(100),\n",
    "    keras.layers.Dense(10, activation=\"softmax\")\n",
    "])"
   ]
  },
  {
   "cell_type": "markdown",
   "id": "2b9be08e",
   "metadata": {},
   "source": [
    "- 매 훈련 반복이 끝나면 ```fit()```메서드가 층의 가중치와 함께 ```max_norm()```이 반환한 객체를 호출하고 스케일이 조정된 가중치를 반환 받는다."
   ]
  },
  {
   "cell_type": "markdown",
   "id": "90cf3201",
   "metadata": {},
   "source": [
    "# 11.5 요약 및 실용적인 가이드라인\n",
    "- **기본 DNN설정**(반드시 따라야 하는건 아님)\n",
    "|하이퍼파라미터|기본값|\n",
    "|:---|:---|\n",
    "|커널 초기화|He 초기화|\n",
    "|활성화 함수|ELU|\n",
    "|정규화|얕은 신경망일 경우 없음. 깊은 신경망이라면 BN|\n",
    "|규재|조기 종료(필요하면 $l_2$규제 추가)|\n",
    "|옵티마이저|모멘텀 최적화(또는 RMSProp 이나 Nadam)|\n",
    "|학습률 스케줄|1사이클|\n",
    "---\n",
    "- **자기 정규화를 위한 DNN 설정**\n",
    "|하이퍼파라미터|기본값|\n",
    "|:---|:---|\n",
    "|커널 초기화|르쿤 초기화|\n",
    "|활성화 함수|SELU|\n",
    "|정규화|없음(자기 정규화)|\n",
    "|규제|필요하다면 알파 드롭아웃|\n",
    "|옵티마이저|모멘텀 최적화(또는 RMSProp이나 Nadam)|\n",
    "|학습률 스케줄|1사이클|\n",
    "---\n",
    "- 희소 모델이 필요하다면 l1규제를 사용할 수 있다.<br><br>\n",
    "- 빠른 예측을 위한 모델이라면,\n",
    "    - 층 개수를 줄이고 BN층을 이전 층에 합쳐야 한다.\n",
    "    - LeakyReLU나 ReLU와 같이 빠른 activation function을 사용.\n",
    "    - 부동소수점 정밀도를 낮추기\n",
    "    <br><br>\n",
    "- 위험에 민감하고 속도가 중요하지 않다면\n",
    "    - **MC 드롭아웃 사용**"
   ]
  }
 ],
 "metadata": {
  "kernelspec": {
   "display_name": "Python 3 (ipykernel)",
   "language": "python",
   "name": "python3"
  },
  "language_info": {
   "codemirror_mode": {
    "name": "ipython",
    "version": 3
   },
   "file_extension": ".py",
   "mimetype": "text/x-python",
   "name": "python",
   "nbconvert_exporter": "python",
   "pygments_lexer": "ipython3",
   "version": "3.9.12"
  }
 },
 "nbformat": 4,
 "nbformat_minor": 5
}
