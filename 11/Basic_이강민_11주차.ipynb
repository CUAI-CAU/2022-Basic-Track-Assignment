{
 "cells": [
  {
   "cell_type": "markdown",
   "id": "25623f19",
   "metadata": {},
   "source": [
    "# Chapter 11. 심층 신경망 훈련하기"
   ]
  },
  {
   "cell_type": "markdown",
   "id": "bb4065a4",
   "metadata": {},
   "source": [
    "# 기본 설정"
   ]
  },
  {
   "cell_type": "code",
   "execution_count": 1,
   "id": "c7822a1e",
   "metadata": {},
   "outputs": [],
   "source": [
    "#!pip install tensorflow"
   ]
  },
  {
   "cell_type": "code",
   "execution_count": 2,
   "id": "6718ed97",
   "metadata": {},
   "outputs": [],
   "source": [
    "# 파이썬 ≥3.5 필수\n",
    "import sys\n",
    "assert sys.version_info >= (3, 5)\n",
    "\n",
    "# 사이킷런 ≥0.20 필수\n",
    "import sklearn\n",
    "assert sklearn.__version__ >= \"0.20\"\n",
    "\n",
    "# 텐서플로 ≥2.0 필수\n",
    "import tensorflow as tf\n",
    "from tensorflow import keras\n",
    "assert tf.__version__ >= \"2.0\"\n",
    "\n",
    "%load_ext tensorboard\n",
    "\n",
    "# 공통 모듈 임포트\n",
    "import numpy as np\n",
    "import os\n",
    "\n",
    "# 노트북 실행 결과를 동일하게 유지하기 위해\n",
    "np.random.seed(42)\n",
    "\n",
    "# 깔끔한 그래프 출력을 위해\n",
    "%matplotlib inline\n",
    "import matplotlib as mpl\n",
    "import matplotlib.pyplot as plt\n",
    "mpl.rc('axes', labelsize=14)\n",
    "mpl.rc('xtick', labelsize=12)\n",
    "mpl.rc('ytick', labelsize=12)\n",
    "\n",
    "# 그림을 저장할 위치\n",
    "PROJECT_ROOT_DIR = \".\"\n",
    "CHAPTER_ID = \"deep\"\n",
    "IMAGES_PATH = os.path.join(PROJECT_ROOT_DIR, \"images\", CHAPTER_ID)\n",
    "os.makedirs(IMAGES_PATH, exist_ok=True)\n",
    "\n",
    "def save_fig(fig_id, tight_layout=True, fig_extension=\"png\", resolution=300):\n",
    "    path = os.path.join(IMAGES_PATH, fig_id + \".\" + fig_extension)\n",
    "    print(\"그림 저장:\", fig_id)\n",
    "    if tight_layout:\n",
    "        plt.tight_layout()\n",
    "    plt.savefig(path, format=fig_extension, dpi=resolution)"
   ]
  },
  {
   "cell_type": "markdown",
   "id": "d902a8e9",
   "metadata": {},
   "source": [
    "# 11.1 그레이디언트 소실과 폭주 문제"
   ]
  },
  {
   "cell_type": "markdown",
   "id": "1c2d21c8",
   "metadata": {},
   "source": [
    "- **그레이디언트 소실**: 알고리즘이 하위층으로 진행될수록 그레이디언트는 점점 작아지는데, 이때 하위층의 연결 가중치를 변경하지 않은 채로 두면 훈련이 좋은 솔루션으로 수렴되지 않는 현상\n",
    "- **그레이디언트 폭주**: 그레이디언트가 점점 커져서 여러 층이 비정상적으로 큰 가중치로 갱신되어 알고리즘이 발산(diverse)하는 현상"
   ]
  },
  {
   "cell_type": "code",
   "execution_count": 2,
   "id": "0c7f38ff",
   "metadata": {},
   "outputs": [],
   "source": [
    "# 로지스틱 함수 정의\n",
    "def logit(z):\n",
    "    return 1 / (1 + np.exp(-z))"
   ]
  },
  {
   "cell_type": "code",
   "execution_count": 3,
   "id": "a565b664",
   "metadata": {},
   "outputs": [
    {
     "name": "stdout",
     "output_type": "stream",
     "text": [
      "그림 저장: sigmoid_saturation_plot\n"
     ]
    },
    {
     "data": {
      "image/png": "[encoded data removed]",
      "text/plain": [
       "<Figure size 432x288 with 1 Axes>"
      ]
     },
     "metadata": {
      "needs_background": "light"
     },
     "output_type": "display_data"
    }
   ],
   "source": [
    "# [그림 11-1] 그래프를 작성하는 코드\n",
    "z = np.linspace(-5, 5, 200)\n",
    "\n",
    "plt.plot([-5, 5], [0, 0], 'k-')\n",
    "plt.plot([-5, 5], [1, 1], 'k--')\n",
    "plt.plot([0, 0], [-0.2, 1.2], 'k-')\n",
    "plt.plot([-5, 5], [-3/4, 7/4], 'g--')\n",
    "plt.plot(z, logit(z), \"b-\", linewidth=2)\n",
    "props = dict(facecolor='black', shrink=0.1)\n",
    "plt.annotate('Saturating', xytext=(3.5, 0.7), xy=(5, 1), arrowprops=props, fontsize=14, ha=\"center\")\n",
    "plt.annotate('Saturating', xytext=(-3.5, 0.3), xy=(-5, 0), arrowprops=props, fontsize=14, ha=\"center\")\n",
    "plt.annotate('Linear', xytext=(2, 0.2), xy=(0, 0.5), arrowprops=props, fontsize=14, ha=\"center\")\n",
    "plt.grid(True)\n",
    "plt.title(\"Sigmoid activation function\", fontsize=14)\n",
    "plt.axis([-5, 5, -0.2, 1.2])\n",
    "\n",
    "save_fig(\"sigmoid_saturation_plot\")\n",
    "plt.show()"
   ]
  },
  {
   "cell_type": "markdown",
   "id": "573ead43",
   "metadata": {},
   "source": [
    "## 11.1.1 글로럿과 He 초기화"
   ]
  },
  {
   "cell_type": "markdown",
   "id": "b6e125dc",
   "metadata": {},
   "source": [
    "\n",
    "|초기화 전략|활성화 함수|정규분포|\n",
    "|-------|----------------------------------------|------|\n",
    "|글로럿|활성화 함수 없음, 하이퍼볼릭 탄젠트, 로지스틱, 소프트맥스|1/fan_(avg)|\n",
    "|He|ReLU 함수와 그 변종들|2/fan_(in)|\n",
    "|르쿤|SELU|1/fan_(in)|"
   ]
  },
  {
   "cell_type": "code",
   "execution_count": 4,
   "id": "ff59f03b",
   "metadata": {},
   "outputs": [
    {
     "data": {
      "text/plain": [
       "['Constant',\n",
       " 'GlorotNormal',\n",
       " 'GlorotUniform',\n",
       " 'HeNormal',\n",
       " 'HeUniform',\n",
       " 'Identity',\n",
       " 'Initializer',\n",
       " 'LecunNormal',\n",
       " 'LecunUniform',\n",
       " 'Ones',\n",
       " 'Orthogonal',\n",
       " 'RandomNormal',\n",
       " 'RandomUniform',\n",
       " 'TruncatedNormal',\n",
       " 'VarianceScaling',\n",
       " 'Zeros',\n",
       " 'constant',\n",
       " 'deserialize',\n",
       " 'get',\n",
       " 'glorot_normal',\n",
       " 'glorot_uniform',\n",
       " 'he_normal',\n",
       " 'he_uniform',\n",
       " 'identity',\n",
       " 'lecun_normal',\n",
       " 'lecun_uniform',\n",
       " 'ones',\n",
       " 'orthogonal',\n",
       " 'random_normal',\n",
       " 'random_uniform',\n",
       " 'serialize',\n",
       " 'truncated_normal',\n",
       " 'variance_scaling',\n",
       " 'zeros']"
      ]
     },
     "execution_count": 4,
     "metadata": {},
     "output_type": "execute_result"
    }
   ],
   "source": [
    "# 케라스의 initializer 목록\n",
    "[name for name in dir(keras.initializers) if not name.startswith('_')]"
   ]
  },
  {
   "cell_type": "code",
   "execution_count": 5,
   "id": "8340f2ad",
   "metadata": {},
   "outputs": [
    {
     "data": {
      "text/plain": [
       "<keras.layers.core.dense.Dense at 0x196ad2869d0>"
      ]
     },
     "execution_count": 5,
     "metadata": {},
     "output_type": "execute_result"
    }
   ],
   "source": [
    "# 층을 만들때 He 초기화 사용법\n",
    "keras.layers.Dense(10, activation='relu', kernel_initializer='he_normal')"
   ]
  },
  {
   "cell_type": "code",
   "execution_count": 6,
   "id": "55e7b230",
   "metadata": {},
   "outputs": [
    {
     "data": {
      "text/plain": [
       "<keras.layers.core.dense.Dense at 0x196ad286400>"
      ]
     },
     "execution_count": 6,
     "metadata": {},
     "output_type": "execute_result"
    }
   ],
   "source": [
    "# fan_(in) 대신 fan_(out) 기반 균등분포 He 초기화 사용법\n",
    "he_avg_init = keras.initializers.VarianceScaling(scale=2, mode='fan_avg',\n",
    "                                                distribution='uniform')\n",
    "keras.layers.Dense(10, activation='relu', kernel_initializer=he_avg_init)"
   ]
  },
  {
   "cell_type": "markdown",
   "id": "88d53121",
   "metadata": {},
   "source": [
    "## 11.1.2 수렴하지 않는 활성화 함수"
   ]
  },
  {
   "cell_type": "markdown",
   "id": "013c0f0b",
   "metadata": {},
   "source": [
    "글로럿&벤지오의 2010년 논문에서 얻은 통찰 중 하나: **활성화 함수를 잘못 선택**하면 자칫 그레이디언트의 솟ㄹ이나 폭주로 이어질 수 있다는 것  \n",
    "\n",
    "시그모이드 활성화 함수보다 ReLU 활성화 함수가 특정 양숫값에 수렴하지 않는다는 큰 장점이 있지만, ReLU 함수도 완벽하지 않음(죽은 ReLU 문제: 입력의 가중치 합이 음수가 되면 뉴런이 죽는 현상)  \n",
    "\n",
    "이 문제를 해결하기 위해 **LeakyReLU** 같은 ReLU 함수의 변종을 사용함"
   ]
  },
  {
   "cell_type": "markdown",
   "id": "224506ad",
   "metadata": {},
   "source": [
    "### LeakyReLU"
   ]
  },
  {
   "cell_type": "code",
   "execution_count": 7,
   "id": "4f16596b",
   "metadata": {},
   "outputs": [],
   "source": [
    "def leaky_relu(z, alpha=0.01):\n",
    "    return np.maximum(alpha*z, z)"
   ]
  },
  {
   "cell_type": "code",
   "execution_count": 8,
   "id": "c0a1efaa",
   "metadata": {},
   "outputs": [
    {
     "name": "stdout",
     "output_type": "stream",
     "text": [
      "그림 저장: leaky_relu_plot\n"
     ]
    },
    {
     "data": {
      "image/png": "[encoded data removed]",
      "text/plain": [
       "<Figure size 432x288 with 1 Axes>"
      ]
     },
     "metadata": {
      "needs_background": "light"
     },
     "output_type": "display_data"
    }
   ],
   "source": [
    "plt.plot(z, leaky_relu(z, 0.05), \"b-\", linewidth=2)\n",
    "plt.plot([-5, 5], [0, 0], 'k-')\n",
    "plt.plot([0, 0], [-0.5, 4.2], 'k-')\n",
    "plt.grid(True)\n",
    "props = dict(facecolor='black', shrink=0.1)\n",
    "plt.annotate('Leak', xytext=(-3.5, 0.5), xy=(-5, -0.2), arrowprops=props, fontsize=14, ha=\"center\")\n",
    "plt.title(\"Leaky ReLU activation function\", fontsize=14)\n",
    "plt.axis([-5, 5, -0.5, 4.2])\n",
    "\n",
    "save_fig(\"leaky_relu_plot\")\n",
    "plt.show()"
   ]
  },
  {
   "cell_type": "markdown",
   "id": "503037e8",
   "metadata": {},
   "source": [
    "### ELU"
   ]
  },
  {
   "cell_type": "code",
   "execution_count": 20,
   "id": "10c5b26d",
   "metadata": {},
   "outputs": [],
   "source": [
    "def elu(z, alpha=1):\n",
    "    return np.where(z < 0, alpha * (np.exp(z) - 1), z)"
   ]
  },
  {
   "cell_type": "code",
   "execution_count": 21,
   "id": "633eab35",
   "metadata": {},
   "outputs": [
    {
     "name": "stdout",
     "output_type": "stream",
     "text": [
      "그림 저장: elu_plot\n"
     ]
    },
    {
     "data": {
      "image/png": "[encoded data removed]",
      "text/plain": [
       "<Figure size 432x288 with 1 Axes>"
      ]
     },
     "metadata": {
      "needs_background": "light"
     },
     "output_type": "display_data"
    }
   ],
   "source": [
    "plt.plot(z, elu(z), \"b-\", linewidth=2)\n",
    "plt.plot([-5, 5], [0, 0], 'k-')\n",
    "plt.plot([-5, 5], [-1, -1], 'k--')\n",
    "plt.plot([0, 0], [-2.2, 3.2], 'k-')\n",
    "plt.grid(True)\n",
    "plt.title(r\"ELU activation function ($\\alpha=1$)\", fontsize=14)\n",
    "plt.axis([-5, 5, -2.2, 3.2])\n",
    "\n",
    "save_fig(\"elu_plot\")\n",
    "plt.show()"
   ]
  },
  {
   "cell_type": "code",
   "execution_count": 22,
   "id": "ed8e2704",
   "metadata": {},
   "outputs": [
    {
     "data": {
      "text/plain": [
       "<keras.layers.core.dense.Dense at 0x196ae65c7c0>"
      ]
     },
     "execution_count": 22,
     "metadata": {},
     "output_type": "execute_result"
    }
   ],
   "source": [
    "# 텐서플로에서 ELU 적용방법\n",
    "keras.layers.Dense(10, activation='elu')"
   ]
  },
  {
   "cell_type": "markdown",
   "id": "59a34447",
   "metadata": {},
   "source": [
    "### SELU  \n",
    "스케일이 조정된 ELU 활성화 함수의 변종"
   ]
  },
  {
   "cell_type": "code",
   "execution_count": 23,
   "id": "b895eccc",
   "metadata": {},
   "outputs": [],
   "source": [
    "from scipy.special import erfc\n",
    "\n",
    "# alpha와 scale은 평균 0과 표준 편차 1로 자기 정규화\n",
    "# SELU는 이 자기 정규화가 깨지면 다른 활성화 함수보다 더 나은 성능을 내지 않을 것임\n",
    "# (논문에 있는 식 14 참조):\n",
    "alpha_0_1 = -np.sqrt(2 / np.pi) / (erfc(1/np.sqrt(2)) * np.exp(1/2) - 1)\n",
    "scale_0_1 = (1 - erfc(1 / np.sqrt(2)) * np.sqrt(np.e)) * np.sqrt(2 * np.pi) * (2 * erfc(np.sqrt(2))*np.e**2 + np.pi*erfc(1/np.sqrt(2))**2*np.e - 2*(2+np.pi)*erfc(1/np.sqrt(2))*np.sqrt(np.e)+np.pi+2)**(-1/2)"
   ]
  },
  {
   "cell_type": "code",
   "execution_count": 25,
   "id": "15254fe1",
   "metadata": {},
   "outputs": [],
   "source": [
    "def selu(z, scale=scale_0_1, alpha=alpha_0_1):\n",
    "    return scale * elu(z, alpha) # 앞서 정의한 elu 함수에 스케일링만 조정"
   ]
  },
  {
   "cell_type": "code",
   "execution_count": 26,
   "id": "8bbbbe3e",
   "metadata": {},
   "outputs": [
    {
     "name": "stdout",
     "output_type": "stream",
     "text": [
      "그림 저장: selu_plot\n"
     ]
    },
    {
     "data": {
      "image/png": "[encoded data removed]",
      "text/plain": [
       "<Figure size 432x288 with 1 Axes>"
      ]
     },
     "metadata": {
      "needs_background": "light"
     },
     "output_type": "display_data"
    }
   ],
   "source": [
    "plt.plot(z, selu(z), \"b-\", linewidth=2)\n",
    "plt.plot([-5, 5], [0, 0], 'k-')\n",
    "plt.plot([-5, 5], [-1.758, -1.758], 'k--')\n",
    "plt.plot([0, 0], [-2.2, 3.2], 'k-')\n",
    "plt.grid(True)\n",
    "plt.title(\"SELU activation function\", fontsize=14)\n",
    "plt.axis([-5, 5, -2.2, 3.2])\n",
    "\n",
    "save_fig(\"selu_plot\")\n",
    "plt.show()"
   ]
  },
  {
   "cell_type": "markdown",
   "id": "3a8a18b4",
   "metadata": {},
   "source": [
    "SELU 활성화 함수를 사용하면 1000개의 층이 있는 심층 신경망도 모든 층에 걸쳐 거의 평균이 0이고 표준편차를 1로 유지함. 이를 통해 그레이디언트 폭주와 소실 문제를 피할 수 있음(아래 코드로 확인):"
   ]
  },
  {
   "cell_type": "code",
   "execution_count": 27,
   "id": "c1759866",
   "metadata": {},
   "outputs": [
    {
     "name": "stdout",
     "output_type": "stream",
     "text": [
      "Layer 0: mean -0.00, std deviation 1.00\n",
      "Layer 100: mean 0.02, std deviation 0.96\n",
      "Layer 200: mean 0.01, std deviation 0.90\n",
      "Layer 300: mean -0.02, std deviation 0.92\n",
      "Layer 400: mean 0.05, std deviation 0.89\n",
      "Layer 500: mean 0.01, std deviation 0.93\n",
      "Layer 600: mean 0.02, std deviation 0.92\n",
      "Layer 700: mean -0.02, std deviation 0.90\n",
      "Layer 800: mean 0.05, std deviation 0.83\n",
      "Layer 900: mean 0.02, std deviation 1.00\n"
     ]
    }
   ],
   "source": [
    "np.random.seed(42)\n",
    "Z = np.random.normal(size=(500, 100)) # 표준화된 입력\n",
    "for layer in range(1000):\n",
    "    W = np.random.normal(size=(100, 100), scale=np.sqrt(1 / 100)) # LeCun 초기화\n",
    "    Z = selu(np.dot(Z, W))\n",
    "    means = np.mean(Z, axis=0).mean()\n",
    "    stds = np.std(Z, axis=0).mean()\n",
    "    if layer % 100 == 0:\n",
    "        print(\"Layer {}: mean {:.2f}, std deviation {:.2f}\".format(layer, means, stds))"
   ]
  },
  {
   "cell_type": "code",
   "execution_count": 28,
   "id": "e7cf6db2",
   "metadata": {},
   "outputs": [
    {
     "data": {
      "text/plain": [
       "<keras.layers.core.dense.Dense at 0x196ae97adc0>"
      ]
     },
     "execution_count": 28,
     "metadata": {},
     "output_type": "execute_result"
    }
   ],
   "source": [
    "# 텐서플로에서 ELU 적용방법\n",
    "keras.layers.Dense(10, activation='selu',\n",
    "                  kernel_initializer='lecun_normal')"
   ]
  },
  {
   "cell_type": "code",
   "execution_count": 9,
   "id": "987e4795",
   "metadata": {},
   "outputs": [
    {
     "data": {
      "text/plain": [
       "['deserialize',\n",
       " 'elu',\n",
       " 'exponential',\n",
       " 'gelu',\n",
       " 'get',\n",
       " 'hard_sigmoid',\n",
       " 'linear',\n",
       " 'relu',\n",
       " 'selu',\n",
       " 'serialize',\n",
       " 'sigmoid',\n",
       " 'softmax',\n",
       " 'softplus',\n",
       " 'softsign',\n",
       " 'swish',\n",
       " 'tanh']"
      ]
     },
     "execution_count": 9,
     "metadata": {},
     "output_type": "execute_result"
    }
   ],
   "source": [
    "# 케라스의 활성화 함수 목록\n",
    "[m for m in dir(keras.activations) if not m.startswith('_')]"
   ]
  },
  {
   "cell_type": "code",
   "execution_count": 10,
   "id": "f9f320ab",
   "metadata": {},
   "outputs": [
    {
     "data": {
      "text/plain": [
       "['LeakyReLU', 'PReLU', 'ReLU', 'ThresholdedReLU']"
      ]
     },
     "execution_count": 10,
     "metadata": {},
     "output_type": "execute_result"
    }
   ],
   "source": [
    "# 케라스의 ReLU 계열 활성화 함수 목록\n",
    "[m for m in dir(keras.layers) if 'relu' in m.lower()]"
   ]
  },
  {
   "cell_type": "markdown",
   "id": "feb24dee",
   "metadata": {},
   "source": [
    "LeakyReLU를 사용해 패션 MNIST에서 신경망을 훈련:"
   ]
  },
  {
   "cell_type": "code",
   "execution_count": 11,
   "id": "af7915cf",
   "metadata": {},
   "outputs": [],
   "source": [
    "(X_train_full, y_train_full), (X_test, y_test) = keras.datasets.fashion_mnist.load_data()\n",
    "X_train_full = X_train_full / 255.0\n",
    "X_test = X_test / 255.0\n",
    "X_valid, X_train = X_train_full[:5000], X_train_full[5000:]\n",
    "y_valid, y_train = y_train_full[:5000], y_train_full[5000:]"
   ]
  },
  {
   "cell_type": "code",
   "execution_count": 12,
   "id": "b5db46b6",
   "metadata": {},
   "outputs": [],
   "source": [
    "# LeakyReLU 활성화 함수를 사용하여 모델링\n",
    "tf.random.set_seed(42)\n",
    "np.random.seed(42)\n",
    "\n",
    "model = keras.models.Sequential([\n",
    "    keras.layers.Flatten(input_shape=[28,28]),\n",
    "    keras.layers.Dense(300, kernel_initializer='he_normal'),\n",
    "    keras.layers.LeakyReLU(), # LeakyReLU는 이렇게 따로 층을 추가하여 사용\n",
    "    keras.layers.Dense(100, kernel_initializer='he_normal'),\n",
    "    keras.layers.LeakyReLU(),\n",
    "    keras.layers.Dense(10, activation='softmax')\n",
    "])"
   ]
  },
  {
   "cell_type": "code",
   "execution_count": 13,
   "id": "1804f206",
   "metadata": {},
   "outputs": [],
   "source": [
    "# 모델 컴파일\n",
    "model.compile(loss='sparse_categorical_crossentropy',\n",
    "             optimizer=keras.optimizers.SGD(learning_rate=1e-3),\n",
    "             metrics=['accuracy'])"
   ]
  },
  {
   "cell_type": "code",
   "execution_count": 14,
   "id": "47b7d638",
   "metadata": {},
   "outputs": [
    {
     "name": "stdout",
     "output_type": "stream",
     "text": [
      "Epoch 1/10\n",
      "1719/1719 [==============================] - 8s 4ms/step - loss: 1.3011 - accuracy: 0.6071 - val_loss: 0.8806 - val_accuracy: 0.7288\n",
      "Epoch 2/10\n",
      "1719/1719 [==============================] - 6s 3ms/step - loss: 0.7875 - accuracy: 0.7526 - val_loss: 0.7047 - val_accuracy: 0.7748\n",
      "Epoch 3/10\n",
      "1719/1719 [==============================] - 5s 3ms/step - loss: 0.6731 - accuracy: 0.7832 - val_loss: 0.6389 - val_accuracy: 0.7890\n",
      "Epoch 4/10\n",
      "1719/1719 [==============================] - 6s 3ms/step - loss: 0.6140 - accuracy: 0.8005 - val_loss: 0.5852 - val_accuracy: 0.8098\n",
      "Epoch 5/10\n",
      "1719/1719 [==============================] - 6s 3ms/step - loss: 0.5760 - accuracy: 0.8113 - val_loss: 0.5534 - val_accuracy: 0.8182\n",
      "Epoch 6/10\n",
      "1719/1719 [==============================] - 6s 3ms/step - loss: 0.5486 - accuracy: 0.8171 - val_loss: 0.5316 - val_accuracy: 0.8256\n",
      "Epoch 7/10\n",
      "1719/1719 [==============================] - 6s 3ms/step - loss: 0.5280 - accuracy: 0.8232 - val_loss: 0.5131 - val_accuracy: 0.8320\n",
      "Epoch 8/10\n",
      "1719/1719 [==============================] - 6s 3ms/step - loss: 0.5122 - accuracy: 0.8271 - val_loss: 0.5065 - val_accuracy: 0.8312\n",
      "Epoch 9/10\n",
      "1719/1719 [==============================] - 6s 3ms/step - loss: 0.4995 - accuracy: 0.8302 - val_loss: 0.4890 - val_accuracy: 0.8348\n",
      "Epoch 10/10\n",
      "1719/1719 [==============================] - 6s 3ms/step - loss: 0.4885 - accuracy: 0.8336 - val_loss: 0.4814 - val_accuracy: 0.8384\n"
     ]
    }
   ],
   "source": [
    "history = model.fit(X_train, y_train, epochs=10,\n",
    "                   validation_data=(X_valid, y_valid))"
   ]
  },
  {
   "cell_type": "markdown",
   "id": "5b1de85a",
   "metadata": {},
   "source": [
    "PReLU로도 신경망 훈련 시도:"
   ]
  },
  {
   "cell_type": "code",
   "execution_count": 15,
   "id": "44c9009b",
   "metadata": {},
   "outputs": [],
   "source": [
    "# PReLU 활성화 함수를 사용하여 모델링\n",
    "tf.random.set_seed(42)\n",
    "np.random.seed(42)\n",
    "\n",
    "model = keras.models.Sequential([\n",
    "    keras.layers.Flatten(input_shape=[28,28]),\n",
    "    keras.layers.Dense(300, kernel_initializer='he_normal'),\n",
    "    keras.layers.PReLU(), # PReLU도 이렇게 따로 층을 추가하여 사용\n",
    "    keras.layers.Dense(100, kernel_initializer='he_normal'),\n",
    "    keras.layers.PReLU(),\n",
    "    keras.layers.Dense(10, activation='softmax')\n",
    "])"
   ]
  },
  {
   "cell_type": "code",
   "execution_count": 16,
   "id": "53d87b38",
   "metadata": {},
   "outputs": [],
   "source": [
    "# 모델 컴파일\n",
    "model.compile(loss='sparse_categorical_crossentropy',\n",
    "             optimizer=keras.optimizers.SGD(learning_rate=1e-3),\n",
    "             metrics=['accuracy'])"
   ]
  },
  {
   "cell_type": "code",
   "execution_count": 17,
   "id": "de5d4eac",
   "metadata": {},
   "outputs": [
    {
     "name": "stdout",
     "output_type": "stream",
     "text": [
      "Epoch 1/10\n",
      "1719/1719 [==============================] - 7s 4ms/step - loss: 1.3073 - accuracy: 0.6081 - val_loss: 0.8833 - val_accuracy: 0.7240\n",
      "Epoch 2/10\n",
      "1719/1719 [==============================] - 6s 4ms/step - loss: 0.7989 - accuracy: 0.7367 - val_loss: 0.7109 - val_accuracy: 0.7674\n",
      "Epoch 3/10\n",
      "1719/1719 [==============================] - 6s 4ms/step - loss: 0.6852 - accuracy: 0.7733 - val_loss: 0.6412 - val_accuracy: 0.7914\n",
      "Epoch 4/10\n",
      "1719/1719 [==============================] - 6s 4ms/step - loss: 0.6237 - accuracy: 0.7946 - val_loss: 0.5863 - val_accuracy: 0.8114\n",
      "Epoch 5/10\n",
      "1719/1719 [==============================] - 6s 3ms/step - loss: 0.5833 - accuracy: 0.8059 - val_loss: 0.5522 - val_accuracy: 0.8190\n",
      "Epoch 6/10\n",
      "1719/1719 [==============================] - 6s 3ms/step - loss: 0.5543 - accuracy: 0.8138 - val_loss: 0.5282 - val_accuracy: 0.8258\n",
      "Epoch 7/10\n",
      "1719/1719 [==============================] - 6s 4ms/step - loss: 0.5324 - accuracy: 0.8209 - val_loss: 0.5080 - val_accuracy: 0.8356\n",
      "Epoch 8/10\n",
      "1719/1719 [==============================] - 6s 3ms/step - loss: 0.5154 - accuracy: 0.8250 - val_loss: 0.4995 - val_accuracy: 0.8368\n",
      "Epoch 9/10\n",
      "1719/1719 [==============================] - 6s 3ms/step - loss: 0.5017 - accuracy: 0.8284 - val_loss: 0.4811 - val_accuracy: 0.8398\n",
      "Epoch 10/10\n",
      "1719/1719 [==============================] - 6s 3ms/step - loss: 0.4899 - accuracy: 0.8324 - val_loss: 0.4730 - val_accuracy: 0.8444\n"
     ]
    }
   ],
   "source": [
    "history = model.fit(X_train, y_train, epochs=10,\n",
    "                   validation_data=(X_valid, y_valid))"
   ]
  },
  {
   "cell_type": "markdown",
   "id": "9046d340",
   "metadata": {},
   "source": [
    "SELU로도 신경망 훈련 시도"
   ]
  },
  {
   "cell_type": "code",
   "execution_count": 29,
   "id": "ef370a5f",
   "metadata": {},
   "outputs": [],
   "source": [
    "tf.random.set_seed(42)\n",
    "np.random.seed(42)\n",
    "\n",
    "model = keras.models.Sequential()\n",
    "model.add(keras.layers.Flatten(input_shape=[28,28]))\n",
    "model.add(keras.layers.Dense(300, activation='selu', # SELU는 activation에 적용하여 사용\n",
    "                       kernel_initializer='lecun_normal'))\n",
    "for layer in range(99):\n",
    "    model.add(keras.layers.Dense(100, activation='selu', \n",
    "                       kernel_initializer='lecun_normal'))\n",
    "model.add(keras.layers.Dense(10, activation='softmax'))"
   ]
  },
  {
   "cell_type": "code",
   "execution_count": 30,
   "id": "d1fa1a79",
   "metadata": {},
   "outputs": [],
   "source": [
    "# 모델 컴파일\n",
    "model.compile(loss=\"sparse_categorical_crossentropy\",\n",
    "              optimizer=keras.optimizers.SGD(learning_rate=1e-3),\n",
    "              metrics=[\"accuracy\"])"
   ]
  },
  {
   "cell_type": "code",
   "execution_count": 31,
   "id": "a898d822",
   "metadata": {},
   "outputs": [],
   "source": [
    "# 훈련 전 입력을 평균:0, 표준편차:1로 반드시 바꾸어야 함\n",
    "pixel_means = X_train.mean(axis=0, keepdims=True)\n",
    "pixel_stds = X_train.std(axis=0, keepdims=True)\n",
    "X_train_scaled = (X_train - pixel_means) / pixel_stds\n",
    "X_valid_scaled = (X_valid - pixel_means) / pixel_stds\n",
    "X_test_scaled = (X_test - pixel_means) / pixel_stds"
   ]
  },
  {
   "cell_type": "code",
   "execution_count": 32,
   "id": "2ad1321c",
   "metadata": {},
   "outputs": [
    {
     "name": "stdout",
     "output_type": "stream",
     "text": [
      "Epoch 1/5\n",
      "1719/1719 [==============================] - 28s 14ms/step - loss: 1.6555 - accuracy: 0.3380 - val_loss: 1.1570 - val_accuracy: 0.5096\n",
      "Epoch 2/5\n",
      "1719/1719 [==============================] - 24s 14ms/step - loss: 1.1848 - accuracy: 0.5354 - val_loss: 0.9325 - val_accuracy: 0.6446\n",
      "Epoch 3/5\n",
      "1719/1719 [==============================] - 24s 14ms/step - loss: 0.9187 - accuracy: 0.6390 - val_loss: 0.8178 - val_accuracy: 0.6886\n",
      "Epoch 4/5\n",
      "1719/1719 [==============================] - 23s 14ms/step - loss: 0.8392 - accuracy: 0.6758 - val_loss: 0.7925 - val_accuracy: 0.6862\n",
      "Epoch 5/5\n",
      "1719/1719 [==============================] - 23s 14ms/step - loss: 0.8169 - accuracy: 0.6856 - val_loss: 0.8839 - val_accuracy: 0.6450\n"
     ]
    }
   ],
   "source": [
    "history = model.fit(X_train_scaled, y_train, epochs=5,\n",
    "                    validation_data=(X_valid_scaled, y_valid))"
   ]
  },
  {
   "cell_type": "markdown",
   "id": "346a4e0b",
   "metadata": {},
   "source": [
    "SELU 말고 기존에 쓰던 ReLU를 다시 사용하여 결과 비교:"
   ]
  },
  {
   "cell_type": "code",
   "execution_count": 33,
   "id": "36adcf0b",
   "metadata": {},
   "outputs": [],
   "source": [
    "np.random.seed(42)\n",
    "tf.random.set_seed(42)\n",
    "\n",
    "model = keras.models.Sequential()\n",
    "model.add(keras.layers.Flatten(input_shape=[28, 28]))\n",
    "model.add(keras.layers.Dense(300, activation=\"relu\", kernel_initializer=\"he_normal\"))\n",
    "for layer in range(99):\n",
    "    model.add(keras.layers.Dense(100, activation=\"relu\", kernel_initializer=\"he_normal\"))\n",
    "model.add(keras.layers.Dense(10, activation=\"softmax\"))"
   ]
  },
  {
   "cell_type": "code",
   "execution_count": 34,
   "id": "b46add00",
   "metadata": {},
   "outputs": [],
   "source": [
    "# 모델 컴파일\n",
    "model.compile(loss=\"sparse_categorical_crossentropy\",\n",
    "              optimizer=keras.optimizers.SGD(learning_rate=1e-3),\n",
    "              metrics=[\"accuracy\"])"
   ]
  },
  {
   "cell_type": "code",
   "execution_count": 35,
   "id": "49da3f62",
   "metadata": {
    "scrolled": true
   },
   "outputs": [
    {
     "name": "stdout",
     "output_type": "stream",
     "text": [
      "Epoch 1/5\n",
      "1719/1719 [==============================] - 33s 16ms/step - loss: 1.9974 - accuracy: 0.2145 - val_loss: 1.6495 - val_accuracy: 0.3366\n",
      "Epoch 2/5\n",
      "1719/1719 [==============================] - 25s 15ms/step - loss: 1.5331 - accuracy: 0.3930 - val_loss: 1.3760 - val_accuracy: 0.4142\n",
      "Epoch 3/5\n",
      "1719/1719 [==============================] - 27s 16ms/step - loss: 1.0511 - accuracy: 0.5769 - val_loss: 1.8123 - val_accuracy: 0.2850\n",
      "Epoch 4/5\n",
      "1719/1719 [==============================] - 27s 16ms/step - loss: 1.0749 - accuracy: 0.5857 - val_loss: 1.6627 - val_accuracy: 0.3910\n",
      "Epoch 5/5\n",
      "1719/1719 [==============================] - 27s 16ms/step - loss: 1.1000 - accuracy: 0.5729 - val_loss: 0.9525 - val_accuracy: 0.6672\n"
     ]
    }
   ],
   "source": [
    "history = model.fit(X_train_scaled, y_train, epochs=5,\n",
    "                    validation_data=(X_valid_scaled, y_valid))"
   ]
  },
  {
   "cell_type": "markdown",
   "id": "6ee1a0aa",
   "metadata": {},
   "source": [
    "loss가 줄어들다가 다시 커지는 것을 보니 그레이디언트 폭주나 소실 문제가 발생했다고 판단할 수 있음"
   ]
  },
  {
   "cell_type": "markdown",
   "id": "c98bed08",
   "metadata": {},
   "source": [
    "## 11.1.3 배치 정규화"
   ]
  },
  {
   "cell_type": "markdown",
   "id": "7decd66f",
   "metadata": {},
   "source": [
    "**배치 정규화(BN)**: 각 층에서 활성화 함수를 통과하기 전이나 후에 모델에 연산 하나를 추가하여 결과값의 스케일을 조정하고 이동시키는 기법  \n",
    "훈련 동안 배치 정규화는 입력을 정규화한 다음 스케일을 조정하고 이동시킴  \n",
    "많은 경우 배치 정규화를 신경망의 첫 번째 층으로 추가하여 사용하면 훈련 세트를 표준화할 필요가 없음   \n",
    "\n",
    "그러나 배치 정규화는 모델의 복잡도를 키우고, 실행 시간 면에서도 손해이며, 층마다 추가되는 계산으로 인해 신경망의 예측을 느리게 한다는 단점이 있음(다행히 훈련이 끝난 후에 이전 층과 배치 정규화 층을 합쳐 실행 속도 저하를 피할 수는 있음)"
   ]
  },
  {
   "cell_type": "markdown",
   "id": "6089337e",
   "metadata": {},
   "source": [
    "### 케라스로 배치 정규화 구현하기"
   ]
  },
  {
   "cell_type": "code",
   "execution_count": 36,
   "id": "deb1677a",
   "metadata": {},
   "outputs": [],
   "source": [
    "# 은닉층의 활성화 함수 전이나 후에 BatchNormalization 층을 추가하면 됨\n",
    "model = keras.models.Sequential([\n",
    "    keras.layers.Flatten(input_shape=[28,28]),\n",
    "    keras.layers.BatchNormalization(),\n",
    "    keras.layers.Dense(300, activation='relu'),\n",
    "    keras.layers.BatchNormalization(),\n",
    "    keras.layers.Dense(100, activation='relu'),\n",
    "    keras.layers.BatchNormalization(),\n",
    "    keras.layers.Dense(10, activation='softmax')\n",
    "])"
   ]
  },
  {
   "cell_type": "code",
   "execution_count": 37,
   "id": "0640b696",
   "metadata": {},
   "outputs": [
    {
     "name": "stdout",
     "output_type": "stream",
     "text": [
      "Model: \"sequential_4\"\n",
      "_________________________________________________________________\n",
      " Layer (type)                Output Shape              Param #   \n",
      "=================================================================\n",
      " flatten_4 (Flatten)         (None, 784)               0         \n",
      "                                                                 \n",
      " batch_normalization (BatchN  (None, 784)              3136      \n",
      " ormalization)                                                   \n",
      "                                                                 \n",
      " dense_212 (Dense)           (None, 300)               235500    \n",
      "                                                                 \n",
      " batch_normalization_1 (Batc  (None, 300)              1200      \n",
      " hNormalization)                                                 \n",
      "                                                                 \n",
      " dense_213 (Dense)           (None, 100)               30100     \n",
      "                                                                 \n",
      " batch_normalization_2 (Batc  (None, 100)              400       \n",
      " hNormalization)                                                 \n",
      "                                                                 \n",
      " dense_214 (Dense)           (None, 10)                1010      \n",
      "                                                                 \n",
      "=================================================================\n",
      "Total params: 271,346\n",
      "Trainable params: 268,978\n",
      "Non-trainable params: 2,368\n",
      "_________________________________________________________________\n"
     ]
    }
   ],
   "source": [
    "model.summary()"
   ]
  },
  {
   "cell_type": "markdown",
   "id": "3007fe95",
   "metadata": {},
   "source": [
    "마지막 두개의 파라미터는 이동 평균(뮤, 시그마)으로, 이 파라미터는 역전파로 학습되지 않기 때문에 케라스는 Non-trainable params로 분류함  \n",
    "배치 정규화 파라미터의 전체 개수: (3136+1200+400) / 2 = 2368"
   ]
  },
  {
   "cell_type": "code",
   "execution_count": 38,
   "id": "14c5dab8",
   "metadata": {},
   "outputs": [
    {
     "data": {
      "text/plain": [
       "[('batch_normalization/gamma:0', True),\n",
       " ('batch_normalization/beta:0', True),\n",
       " ('batch_normalization/moving_mean:0', False),\n",
       " ('batch_normalization/moving_variance:0', False)]"
      ]
     },
     "execution_count": 38,
     "metadata": {},
     "output_type": "execute_result"
    }
   ],
   "source": [
    "# 첫 번째 배치 정규화 층의 파라미터\n",
    "bn1 = model.layers[1]\n",
    "[(var.name, var.trainable) for var in bn1.variables]"
   ]
  },
  {
   "cell_type": "markdown",
   "id": "f6b51e8c",
   "metadata": {},
   "source": [
    "위 출력을 통해 케라스에서 배치 정규화 층을 만들 때, 훈련하는 동안 매 반복마다 케라스에서 호출될 두 개의 연산이 함께 생성되고 있음을 볼 수 있음"
   ]
  },
  {
   "cell_type": "code",
   "execution_count": 39,
   "id": "a37c6345",
   "metadata": {},
   "outputs": [],
   "source": [
    "# 모델 컴파일\n",
    "model.compile(loss=\"sparse_categorical_crossentropy\",\n",
    "              optimizer=keras.optimizers.SGD(learning_rate=1e-3),\n",
    "              metrics=[\"accuracy\"])"
   ]
  },
  {
   "cell_type": "code",
   "execution_count": 40,
   "id": "97f8be05",
   "metadata": {},
   "outputs": [
    {
     "name": "stdout",
     "output_type": "stream",
     "text": [
      "Epoch 1/10\n",
      "1719/1719 [==============================] - 10s 5ms/step - loss: 0.8537 - accuracy: 0.7180 - val_loss: 0.5497 - val_accuracy: 0.8192\n",
      "Epoch 2/10\n",
      "1719/1719 [==============================] - 8s 5ms/step - loss: 0.5730 - accuracy: 0.8008 - val_loss: 0.4706 - val_accuracy: 0.8414\n",
      "Epoch 3/10\n",
      "1719/1719 [==============================] - 9s 5ms/step - loss: 0.5155 - accuracy: 0.8201 - val_loss: 0.4378 - val_accuracy: 0.8514\n",
      "Epoch 4/10\n",
      "1719/1719 [==============================] - 8s 5ms/step - loss: 0.4757 - accuracy: 0.8331 - val_loss: 0.4171 - val_accuracy: 0.8572\n",
      "Epoch 5/10\n",
      "1719/1719 [==============================] - 9s 5ms/step - loss: 0.4504 - accuracy: 0.8417 - val_loss: 0.4009 - val_accuracy: 0.8630\n",
      "Epoch 6/10\n",
      "1719/1719 [==============================] - 9s 5ms/step - loss: 0.4341 - accuracy: 0.8469 - val_loss: 0.3901 - val_accuracy: 0.8674\n",
      "Epoch 7/10\n",
      "1719/1719 [==============================] - 9s 5ms/step - loss: 0.4189 - accuracy: 0.8508 - val_loss: 0.3808 - val_accuracy: 0.8714\n",
      "Epoch 8/10\n",
      "1719/1719 [==============================] - 9s 5ms/step - loss: 0.4072 - accuracy: 0.8562 - val_loss: 0.3758 - val_accuracy: 0.8720\n",
      "Epoch 9/10\n",
      "1719/1719 [==============================] - 9s 5ms/step - loss: 0.3977 - accuracy: 0.8593 - val_loss: 0.3687 - val_accuracy: 0.8754\n",
      "Epoch 10/10\n",
      "1719/1719 [==============================] - 9s 5ms/step - loss: 0.3875 - accuracy: 0.8621 - val_loss: 0.3641 - val_accuracy: 0.8740\n"
     ]
    }
   ],
   "source": [
    "history = model.fit(X_train, y_train, epochs=10,\n",
    "                    validation_data=(X_valid, y_valid))"
   ]
  },
  {
   "cell_type": "markdown",
   "id": "8f65b9ae",
   "metadata": {},
   "source": [
    "활성화 함수 전에 BN을 적용해도 잘 동작한다고 했지만 여기에는 논란의 여지가 있음  \n",
    "따라서 두 가지 방법 모두 실험해보고 어떤 것이 주어진 데이터셋에 가장 잘 맞는지 확인하는 것이 좋으므로 **활성화 함수 전에 배치 정규화 층을 추가**하여 다시 모델링해보겠음  \n",
    "\n",
    "활성화 함수 전에 배치 정규화 층을 추가하려면 은닉층에서 활성화 함수를 지정하지 말고 **배치 정규화 층 뒤에 별도의 층으로 추가**해야 함  \n",
    "또한 배치 정규화 층은 입력마다 이동 파라미터를 포함하기 때문에 이전 층에서 편향을 뺄 수 있음(층을 만들 때 `use_bias=False`로 설정)"
   ]
  },
  {
   "cell_type": "code",
   "execution_count": 41,
   "id": "6f26c225",
   "metadata": {},
   "outputs": [],
   "source": [
    "# 활성화 함수 전에 배치 정규화 층을 추가하여 모델링\n",
    "model = keras.models.Sequential([\n",
    "    keras.layers.Flatten(input_shape=[28,28]),\n",
    "    keras.layers.BatchNormalization(),\n",
    "    keras.layers.Dense(300, use_bias=False), # 위에서 설명한 부분\n",
    "    keras.layers.BatchNormalization(),\n",
    "    keras.layers.Activation('relu'), # 위에서 설명한 부분\n",
    "    keras.layers.Dense(100, use_bias=False),\n",
    "    keras.layers.BatchNormalization(),\n",
    "    keras.layers.Activation('relu'),\n",
    "    keras.layers.Dense(10, activation='softmax')\n",
    "])"
   ]
  },
  {
   "cell_type": "code",
   "execution_count": 42,
   "id": "4815816d",
   "metadata": {},
   "outputs": [],
   "source": [
    "# 모델 컴파일\n",
    "model.compile(loss=\"sparse_categorical_crossentropy\",\n",
    "              optimizer=keras.optimizers.SGD(learning_rate=1e-3),\n",
    "              metrics=[\"accuracy\"])"
   ]
  },
  {
   "cell_type": "code",
   "execution_count": 43,
   "id": "46e96638",
   "metadata": {},
   "outputs": [
    {
     "name": "stdout",
     "output_type": "stream",
     "text": [
      "Epoch 1/10\n",
      "1719/1719 [==============================] - 10s 5ms/step - loss: 1.0407 - accuracy: 0.6740 - val_loss: 0.6753 - val_accuracy: 0.7900\n",
      "Epoch 2/10\n",
      "1719/1719 [==============================] - 8s 5ms/step - loss: 0.6795 - accuracy: 0.7797 - val_loss: 0.5567 - val_accuracy: 0.8192\n",
      "Epoch 3/10\n",
      "1719/1719 [==============================] - 8s 5ms/step - loss: 0.5992 - accuracy: 0.8022 - val_loss: 0.5016 - val_accuracy: 0.8400\n",
      "Epoch 4/10\n",
      "1719/1719 [==============================] - 8s 5ms/step - loss: 0.5473 - accuracy: 0.8175 - val_loss: 0.4676 - val_accuracy: 0.8454\n",
      "Epoch 5/10\n",
      "1719/1719 [==============================] - 9s 5ms/step - loss: 0.5133 - accuracy: 0.8261 - val_loss: 0.4430 - val_accuracy: 0.8490\n",
      "Epoch 6/10\n",
      "1719/1719 [==============================] - 9s 5ms/step - loss: 0.4906 - accuracy: 0.8322 - val_loss: 0.4243 - val_accuracy: 0.8566\n",
      "Epoch 7/10\n",
      "1719/1719 [==============================] - 8s 5ms/step - loss: 0.4743 - accuracy: 0.8383 - val_loss: 0.4096 - val_accuracy: 0.8610\n",
      "Epoch 8/10\n",
      "1719/1719 [==============================] - 8s 5ms/step - loss: 0.4580 - accuracy: 0.8422 - val_loss: 0.3992 - val_accuracy: 0.8626\n",
      "Epoch 9/10\n",
      "1719/1719 [==============================] - 8s 5ms/step - loss: 0.4450 - accuracy: 0.8473 - val_loss: 0.3902 - val_accuracy: 0.8640\n",
      "Epoch 10/10\n",
      "1719/1719 [==============================] - 8s 5ms/step - loss: 0.4328 - accuracy: 0.8502 - val_loss: 0.3823 - val_accuracy: 0.8670\n"
     ]
    }
   ],
   "source": [
    "history = model.fit(X_train, y_train, epochs=10,\n",
    "                    validation_data=(X_valid, y_valid))"
   ]
  },
  {
   "cell_type": "markdown",
   "id": "5beaaa6d",
   "metadata": {},
   "source": [
    "## 11.1.4 그레이디언트 클리핑"
   ]
  },
  {
   "cell_type": "markdown",
   "id": "38811d37",
   "metadata": {},
   "source": [
    "**그레이디언트 클리핑(gradient clipping)**: 역전파 시 일정 임곗값을 넘어서지 못하게 그레이디언트를 잘라내어 그레이디언트 폭주 문제를 완화하는 방법"
   ]
  },
  {
   "cell_type": "code",
   "execution_count": 44,
   "id": "1f2eeae7",
   "metadata": {},
   "outputs": [],
   "source": [
    "# 그레이디언트 클리핑 사용 방법\n",
    "optimizer = keras.optimizers.SGD(clipvalue=1.0) # 옵티마이저에 매개변수로 지정하면 됨"
   ]
  },
  {
   "cell_type": "code",
   "execution_count": 45,
   "id": "d2fb11df",
   "metadata": {},
   "outputs": [],
   "source": [
    "# 그레이디언트 클리핑이 그레이디언트 벡터의 방향을 바꾸지 못하게 하려면\n",
    "# 그레이디언트 노름을 사용함\n",
    "optimizer = keras.optimizers.SGD(clipnorm=1.0) "
   ]
  },
  {
   "cell_type": "markdown",
   "id": "2f5b2ce2",
   "metadata": {},
   "source": [
    "# 11.2 사전 훈련된 층 재사용하기"
   ]
  },
  {
   "cell_type": "markdown",
   "id": "8e6fbc09",
   "metadata": {},
   "source": [
    "**전이 학습(transfer learning)**:해결하고자 하는 것과 비슷한 유형의 문제를 처리한 신경망이 있는지 찾아본 다음, 그 신경망의 하위층을 재사용하는 학습 방법  \n",
    "이 방법은 훈련 속도를 크게 높일 뿐만 아니라  필요한 훈련 데이터도 크게 줄여줌 "
   ]
  },
  {
   "cell_type": "markdown",
   "id": "e95beb21",
   "metadata": {},
   "source": [
    "## 11.2.1 케라스를 사용한 전이 학습  "
   ]
  },
  {
   "cell_type": "code",
   "execution_count": 2,
   "id": "e6b87f50",
   "metadata": {},
   "outputs": [],
   "source": [
    "# 앞에서 사용한 패션 MNIST 훈련 세트 다시 로드\n",
    "(X_train_full, y_train_full), (X_test, y_test) = keras.datasets.fashion_mnist.load_data()\n",
    "X_train_full = X_train_full / 255.0\n",
    "X_test = X_test / 255.0\n",
    "X_valid, X_train = X_train_full[:5000], X_train_full[5000:]\n",
    "y_valid, y_train = y_train_full[:5000], y_train_full[5000:]"
   ]
  },
  {
   "cell_type": "markdown",
   "id": "6235760c",
   "metadata": {},
   "source": [
    "패션 MNIST 훈련 세트를 두 개로 나눔:\n",
    "* `X_train_A`: 샌달과 셔츠(클래스 5와 6)을 제외한 모든 이미지\n",
    "* `X_train_B`: 샌달과 셔츠 이미지 중 처음 200개만 가진 작은 훈련 세트  \n",
    "\n",
    "검증 세트와 테스트 세트도 이렇게 나눔 BUT 이미지 개수는 제한하지 않음  \n",
    "\n",
    "A 세트(8개의 클래스를 가진 분류 문제)에서 모델을 훈련하고 이를 재사용하여 B 세트(이진 분류)를 해결해 보겠음"
   ]
  },
  {
   "cell_type": "code",
   "execution_count": 3,
   "id": "fcc8dad8",
   "metadata": {},
   "outputs": [],
   "source": [
    "def split_dataset(X, y):\n",
    "    y_5_or_6 = (y == 5) | (y == 6) # 샌달 or 셔츠만 분리\n",
    "    y_A = y[~y_5_or_6] # 샌달 or 셔츠를 전체 y에서 제외\n",
    "    y_A[y_A > 6] -= 2 # 7,8,9를 의미했던 클래스를 5,6,7로 바꿔주어야 함\n",
    "    y_B = (y[y_5_or_6] == 6).astype(np.float32) # 이진 분류 데이터로 변경: 셔츠(클래스6)\n",
    "    return ((X[~y_5_or_6], y_A), (X[y_5_or_6], y_B))\n",
    "\n",
    "# train, valid, test 데이터를 모두 A,B로 나눔\n",
    "(X_train_A, y_train_A), (X_train_B, y_train_B) = split_dataset(X_train, y_train)\n",
    "(X_valid_A, y_valid_A), (X_valid_B, y_valid_B) = split_dataset(X_valid, y_valid)\n",
    "(X_test_A, y_test_A), (X_test_B, y_test_B) = split_dataset(X_test, y_test)\n",
    "\n",
    "# B 세트는 처음 200개만 가졌다고 했으므로 다시 줄여줌\n",
    "X_train_B = X_train_B[:200]\n",
    "y_train_B = y_train_B[:200]"
   ]
  },
  {
   "cell_type": "code",
   "execution_count": 4,
   "id": "1132661e",
   "metadata": {},
   "outputs": [
    {
     "data": {
      "text/plain": [
       "(43986, 28, 28)"
      ]
     },
     "execution_count": 4,
     "metadata": {},
     "output_type": "execute_result"
    }
   ],
   "source": [
    "# 분리 후 A 훈련 세트 확인\n",
    "X_train_A.shape"
   ]
  },
  {
   "cell_type": "code",
   "execution_count": 5,
   "id": "8acaf2b3",
   "metadata": {},
   "outputs": [
    {
     "data": {
      "text/plain": [
       "(200, 28, 28)"
      ]
     },
     "execution_count": 5,
     "metadata": {},
     "output_type": "execute_result"
    }
   ],
   "source": [
    "# 분리 후 B 훈련 세트 확인\n",
    "X_train_B.shape"
   ]
  },
  {
   "cell_type": "code",
   "execution_count": 6,
   "id": "d23b9da2",
   "metadata": {},
   "outputs": [
    {
     "data": {
      "text/plain": [
       "array([4, 0, 5, 7, 7, 7, 4, 4, 3, 4, 0, 1, 6, 3, 4, 3, 2, 6, 5, 3, 4, 5,\n",
       "       1, 3, 4, 2, 0, 6, 7, 1], dtype=uint8)"
      ]
     },
     "execution_count": 6,
     "metadata": {},
     "output_type": "execute_result"
    }
   ],
   "source": [
    "# A 훈련 세트 레이블이 잘 변경되었는지 확인\n",
    "y_train_A[:30]"
   ]
  },
  {
   "cell_type": "code",
   "execution_count": 7,
   "id": "dd5ec418",
   "metadata": {},
   "outputs": [
    {
     "data": {
      "text/plain": [
       "array([1., 1., 0., 0., 0., 0., 1., 1., 1., 0., 0., 1., 1., 0., 0., 0., 0.,\n",
       "       0., 0., 1., 1., 0., 0., 1., 1., 0., 1., 1., 1., 1.], dtype=float32)"
      ]
     },
     "execution_count": 7,
     "metadata": {},
     "output_type": "execute_result"
    }
   ],
   "source": [
    "# B 훈련 세트 레이블이 잘 변경되었는지 확인\n",
    "y_train_B[:30]"
   ]
  },
  {
   "cell_type": "markdown",
   "id": "4ebccafc",
   "metadata": {},
   "source": [
    "모델 A부터 설계 후 저장"
   ]
  },
  {
   "cell_type": "code",
   "execution_count": 8,
   "id": "fd484128",
   "metadata": {},
   "outputs": [],
   "source": [
    "tf.random.set_seed(42)\n",
    "np.random.seed(42)\n",
    "\n",
    "model_A = keras.models.Sequential()\n",
    "model_A.add(keras.layers.Flatten(input_shape=[28, 28]))\n",
    "for n_hidden in (300, 100, 50, 50, 50):\n",
    "    model_A.add(keras.layers.Dense(n_hidden, activation=\"selu\"))\n",
    "model_A.add(keras.layers.Dense(8, activation=\"softmax\"))"
   ]
  },
  {
   "cell_type": "code",
   "execution_count": 9,
   "id": "c2691a9f",
   "metadata": {},
   "outputs": [],
   "source": [
    "model_A.compile(loss=\"sparse_categorical_crossentropy\",\n",
    "                optimizer=keras.optimizers.SGD(learning_rate=1e-3),\n",
    "                metrics=[\"accuracy\"])"
   ]
  },
  {
   "cell_type": "code",
   "execution_count": 10,
   "id": "03594570",
   "metadata": {},
   "outputs": [
    {
     "name": "stdout",
     "output_type": "stream",
     "text": [
      "Epoch 1/20\n",
      "1375/1375 [==============================] - 7s 5ms/step - loss: 0.6202 - accuracy: 0.8036 - val_loss: 0.3996 - val_accuracy: 0.8612\n",
      "Epoch 2/20\n",
      "1375/1375 [==============================] - 6s 4ms/step - loss: 0.3644 - accuracy: 0.8750 - val_loss: 0.3345 - val_accuracy: 0.8847\n",
      "Epoch 3/20\n",
      "1375/1375 [==============================] - 7s 5ms/step - loss: 0.3206 - accuracy: 0.8877 - val_loss: 0.3027 - val_accuracy: 0.8964\n",
      "Epoch 4/20\n",
      "1375/1375 [==============================] - 6s 4ms/step - loss: 0.2987 - accuracy: 0.8954 - val_loss: 0.2880 - val_accuracy: 0.9013\n",
      "Epoch 5/20\n",
      "1375/1375 [==============================] - 5s 4ms/step - loss: 0.2844 - accuracy: 0.9012 - val_loss: 0.2785 - val_accuracy: 0.9048\n",
      "Epoch 6/20\n",
      "1375/1375 [==============================] - 5s 4ms/step - loss: 0.2742 - accuracy: 0.9052 - val_loss: 0.2753 - val_accuracy: 0.9058\n",
      "Epoch 7/20\n",
      "1375/1375 [==============================] - 6s 4ms/step - loss: 0.2654 - accuracy: 0.9082 - val_loss: 0.2731 - val_accuracy: 0.9053\n",
      "Epoch 8/20\n",
      "1375/1375 [==============================] - 5s 4ms/step - loss: 0.2583 - accuracy: 0.9108 - val_loss: 0.2631 - val_accuracy: 0.9111\n",
      "Epoch 9/20\n",
      "1375/1375 [==============================] - 5s 4ms/step - loss: 0.2525 - accuracy: 0.9129 - val_loss: 0.2568 - val_accuracy: 0.9145\n",
      "Epoch 10/20\n",
      "1375/1375 [==============================] - 5s 4ms/step - loss: 0.2474 - accuracy: 0.9143 - val_loss: 0.2553 - val_accuracy: 0.9136\n",
      "Epoch 11/20\n",
      "1375/1375 [==============================] - 5s 4ms/step - loss: 0.2429 - accuracy: 0.9162 - val_loss: 0.2493 - val_accuracy: 0.9155\n",
      "Epoch 12/20\n",
      "1375/1375 [==============================] - 5s 4ms/step - loss: 0.2386 - accuracy: 0.9179 - val_loss: 0.2496 - val_accuracy: 0.9136\n",
      "Epoch 13/20\n",
      "1375/1375 [==============================] - 5s 4ms/step - loss: 0.2352 - accuracy: 0.9188 - val_loss: 0.2453 - val_accuracy: 0.9180\n",
      "Epoch 14/20\n",
      "1375/1375 [==============================] - 5s 4ms/step - loss: 0.2316 - accuracy: 0.9209 - val_loss: 0.2429 - val_accuracy: 0.9193\n",
      "Epoch 15/20\n",
      "1375/1375 [==============================] - 5s 4ms/step - loss: 0.2288 - accuracy: 0.9211 - val_loss: 0.2459 - val_accuracy: 0.9160\n",
      "Epoch 16/20\n",
      "1375/1375 [==============================] - 5s 4ms/step - loss: 0.2254 - accuracy: 0.9232 - val_loss: 0.2405 - val_accuracy: 0.9190\n",
      "Epoch 17/20\n",
      "1375/1375 [==============================] - 5s 4ms/step - loss: 0.2228 - accuracy: 0.9240 - val_loss: 0.2464 - val_accuracy: 0.9150\n",
      "Epoch 18/20\n",
      "1375/1375 [==============================] - 5s 4ms/step - loss: 0.2199 - accuracy: 0.9242 - val_loss: 0.2412 - val_accuracy: 0.9180\n",
      "Epoch 19/20\n",
      "1375/1375 [==============================] - 5s 4ms/step - loss: 0.2174 - accuracy: 0.9260 - val_loss: 0.2371 - val_accuracy: 0.9190\n",
      "Epoch 20/20\n",
      "1375/1375 [==============================] - 6s 4ms/step - loss: 0.2151 - accuracy: 0.9268 - val_loss: 0.2386 - val_accuracy: 0.9205\n"
     ]
    }
   ],
   "source": [
    "history = model_A.fit(X_train_A, y_train_A, epochs=20,\n",
    "                    validation_data=(X_valid_A, y_valid_A))"
   ]
  },
  {
   "cell_type": "code",
   "execution_count": 15,
   "id": "debfb212",
   "metadata": {},
   "outputs": [
    {
     "name": "stdout",
     "output_type": "stream",
     "text": [
      "Model: \"sequential\"\n",
      "_________________________________________________________________\n",
      " Layer (type)                Output Shape              Param #   \n",
      "=================================================================\n",
      " flatten (Flatten)           (None, 784)               0         \n",
      "                                                                 \n",
      " dense (Dense)               (None, 300)               235500    \n",
      "                                                                 \n",
      " dense_1 (Dense)             (None, 100)               30100     \n",
      "                                                                 \n",
      " dense_2 (Dense)             (None, 50)                5050      \n",
      "                                                                 \n",
      " dense_3 (Dense)             (None, 50)                2550      \n",
      "                                                                 \n",
      " dense_4 (Dense)             (None, 50)                2550      \n",
      "                                                                 \n",
      " dense_5 (Dense)             (None, 8)                 408       \n",
      "                                                                 \n",
      "=================================================================\n",
      "Total params: 276,158\n",
      "Trainable params: 276,158\n",
      "Non-trainable params: 0\n",
      "_________________________________________________________________\n"
     ]
    }
   ],
   "source": [
    "model_A.summary()"
   ]
  },
  {
   "cell_type": "code",
   "execution_count": 11,
   "id": "5fa0997f",
   "metadata": {},
   "outputs": [],
   "source": [
    "model_A.save(\"my_model_A.h5\")"
   ]
  },
  {
   "cell_type": "markdown",
   "id": "665a9ecf",
   "metadata": {},
   "source": [
    "모델 B도 마찬가지로 설계 후 저장"
   ]
  },
  {
   "cell_type": "code",
   "execution_count": 12,
   "id": "42cd2214",
   "metadata": {},
   "outputs": [],
   "source": [
    "model_B = keras.models.Sequential()\n",
    "model_B.add(keras.layers.Flatten(input_shape=[28, 28]))\n",
    "for n_hidden in (300, 100, 50, 50, 50):\n",
    "    model_B.add(keras.layers.Dense(n_hidden, activation=\"selu\"))\n",
    "model_B.add(keras.layers.Dense(1, activation=\"sigmoid\"))"
   ]
  },
  {
   "cell_type": "code",
   "execution_count": 13,
   "id": "b4d0506c",
   "metadata": {},
   "outputs": [],
   "source": [
    "model_B.compile(loss=\"binary_crossentropy\",\n",
    "                optimizer=keras.optimizers.SGD(learning_rate=1e-3),\n",
    "                metrics=[\"accuracy\"])"
   ]
  },
  {
   "cell_type": "code",
   "execution_count": 14,
   "id": "5d6158cf",
   "metadata": {},
   "outputs": [
    {
     "name": "stdout",
     "output_type": "stream",
     "text": [
      "Epoch 1/20\n",
      "7/7 [==============================] - 1s 77ms/step - loss: 0.7592 - accuracy: 0.5650 - val_loss: 0.5288 - val_accuracy: 0.7465\n",
      "Epoch 2/20\n",
      "7/7 [==============================] - 0s 24ms/step - loss: 0.4325 - accuracy: 0.8600 - val_loss: 0.4139 - val_accuracy: 0.8540\n",
      "Epoch 3/20\n",
      "7/7 [==============================] - 0s 27ms/step - loss: 0.3413 - accuracy: 0.9250 - val_loss: 0.3495 - val_accuracy: 0.8996\n",
      "Epoch 4/20\n",
      "7/7 [==============================] - 0s 24ms/step - loss: 0.2851 - accuracy: 0.9400 - val_loss: 0.3047 - val_accuracy: 0.9168\n",
      "Epoch 5/20\n",
      "7/7 [==============================] - 0s 27ms/step - loss: 0.2447 - accuracy: 0.9550 - val_loss: 0.2722 - val_accuracy: 0.9331\n",
      "Epoch 6/20\n",
      "7/7 [==============================] - 0s 23ms/step - loss: 0.2143 - accuracy: 0.9550 - val_loss: 0.2455 - val_accuracy: 0.9402\n",
      "Epoch 7/20\n",
      "7/7 [==============================] - 0s 30ms/step - loss: 0.1901 - accuracy: 0.9600 - val_loss: 0.2260 - val_accuracy: 0.9483\n",
      "Epoch 8/20\n",
      "7/7 [==============================] - 0s 24ms/step - loss: 0.1720 - accuracy: 0.9700 - val_loss: 0.2090 - val_accuracy: 0.9513\n",
      "Epoch 9/20\n",
      "7/7 [==============================] - 0s 24ms/step - loss: 0.1564 - accuracy: 0.9750 - val_loss: 0.1921 - val_accuracy: 0.9564\n",
      "Epoch 10/20\n",
      "7/7 [==============================] - 0s 22ms/step - loss: 0.1419 - accuracy: 0.9750 - val_loss: 0.1799 - val_accuracy: 0.9584\n",
      "Epoch 11/20\n",
      "7/7 [==============================] - 0s 24ms/step - loss: 0.1309 - accuracy: 0.9800 - val_loss: 0.1694 - val_accuracy: 0.9625\n",
      "Epoch 12/20\n",
      "7/7 [==============================] - 0s 22ms/step - loss: 0.1215 - accuracy: 0.9850 - val_loss: 0.1601 - val_accuracy: 0.9635\n",
      "Epoch 13/20\n",
      "7/7 [==============================] - 0s 24ms/step - loss: 0.1129 - accuracy: 0.9850 - val_loss: 0.1516 - val_accuracy: 0.9686\n",
      "Epoch 14/20\n",
      "7/7 [==============================] - 0s 22ms/step - loss: 0.1055 - accuracy: 0.9850 - val_loss: 0.1444 - val_accuracy: 0.9706\n",
      "Epoch 15/20\n",
      "7/7 [==============================] - 0s 24ms/step - loss: 0.0993 - accuracy: 0.9850 - val_loss: 0.1369 - val_accuracy: 0.9726\n",
      "Epoch 16/20\n",
      "7/7 [==============================] - 0s 26ms/step - loss: 0.0930 - accuracy: 0.9950 - val_loss: 0.1315 - val_accuracy: 0.9746\n",
      "Epoch 17/20\n",
      "7/7 [==============================] - 0s 31ms/step - loss: 0.0881 - accuracy: 0.9950 - val_loss: 0.1260 - val_accuracy: 0.9746\n",
      "Epoch 18/20\n",
      "7/7 [==============================] - 0s 31ms/step - loss: 0.0833 - accuracy: 0.9950 - val_loss: 0.1213 - val_accuracy: 0.9767\n",
      "Epoch 19/20\n",
      "7/7 [==============================] - 0s 33ms/step - loss: 0.0792 - accuracy: 0.9950 - val_loss: 0.1169 - val_accuracy: 0.9787\n",
      "Epoch 20/20\n",
      "7/7 [==============================] - 0s 26ms/step - loss: 0.0753 - accuracy: 0.9950 - val_loss: 0.1128 - val_accuracy: 0.9787\n"
     ]
    }
   ],
   "source": [
    "history = model_B.fit(X_train_B, y_train_B, epochs=20,\n",
    "                      validation_data=(X_valid_B, y_valid_B))"
   ]
  },
  {
   "cell_type": "code",
   "execution_count": 16,
   "id": "d676f0b0",
   "metadata": {},
   "outputs": [
    {
     "name": "stdout",
     "output_type": "stream",
     "text": [
      "Model: \"sequential_1\"\n",
      "_________________________________________________________________\n",
      " Layer (type)                Output Shape              Param #   \n",
      "=================================================================\n",
      " flatten_1 (Flatten)         (None, 784)               0         \n",
      "                                                                 \n",
      " dense_6 (Dense)             (None, 300)               235500    \n",
      "                                                                 \n",
      " dense_7 (Dense)             (None, 100)               30100     \n",
      "                                                                 \n",
      " dense_8 (Dense)             (None, 50)                5050      \n",
      "                                                                 \n",
      " dense_9 (Dense)             (None, 50)                2550      \n",
      "                                                                 \n",
      " dense_10 (Dense)            (None, 50)                2550      \n",
      "                                                                 \n",
      " dense_11 (Dense)            (None, 1)                 51        \n",
      "                                                                 \n",
      "=================================================================\n",
      "Total params: 275,801\n",
      "Trainable params: 275,801\n",
      "Non-trainable params: 0\n",
      "_________________________________________________________________\n"
     ]
    }
   ],
   "source": [
    "model_B.summary()"
   ]
  },
  {
   "cell_type": "markdown",
   "id": "aa598dbc",
   "metadata": {},
   "source": [
    "먼저 모델 A를 로드하고 이 모델의 층을 기반으로 새로운 모델(model_B_on_A)을 제작  \n",
    "출력층만 제외하고 모든 층을 재사용"
   ]
  },
  {
   "cell_type": "code",
   "execution_count": 17,
   "id": "be84930f",
   "metadata": {},
   "outputs": [],
   "source": [
    "# from tensorflow.keras.models import load_model\n",
    "model_A = keras.models.load_model(\"my_model_A.h5\")\n",
    "model_B_on_A = keras.models.Sequential(model_A.layers[:-1])\n",
    "model_B_on_A.add(keras.layers.Dense(1, activation=\"sigmoid\"))"
   ]
  },
  {
   "cell_type": "markdown",
   "id": "0f21239b",
   "metadata": {},
   "source": [
    "`model_B_on_A`와 `model_A`는 층을 공유하기 때문에 하나를 훈련하면 두 모델이 업데이트됨  \n",
    "이를 피하려면 다음과 같이 `model_A`를 클론한 것을 사용해 `model_B_on_A`를 만들어야 함:"
   ]
  },
  {
   "cell_type": "code",
   "execution_count": 18,
   "id": "2b2a4421",
   "metadata": {},
   "outputs": [],
   "source": [
    "model_A_clone = keras.models.clone_model(model_A) # 모델 A의 구조 복제\n",
    "model_A_clone.set_weights(model_A.get_weights()) # 모델 A의 가중치 복사\n",
    "model_B_on_A = keras.models.Sequential(model_A_clone.layers[:-1]) # 클론으로 다시 모델 제작\n",
    "model_B_on_A.add(keras.layers.Dense(1, activation=\"sigmoid\"))"
   ]
  },
  {
   "cell_type": "markdown",
   "id": "674d2e28",
   "metadata": {},
   "source": [
    "새로운 출력층이 랜덤하게 초기화되어 있으므로 적어도 처음 몇 번의 에포크 동안은 큰 오차를 만들 것임. 이러한 큰 오차 그레이디언트가 재사용된 가중치를 망칠 수 있음  \n",
    "\n",
    "이를 피하는 한 가지 방법은 처음 몇 번의 에포크 동안 재사용된 층을 동결하고 새로운 층에게 적절한 가중치를 학습할 시간을 주는 것임. 이를 위해 다음과 같이 모든 층의 `trainable` 속성을 Fals로 지정하고 모델을 컴파일함:"
   ]
  },
  {
   "cell_type": "code",
   "execution_count": 19,
   "id": "d8ee0e55",
   "metadata": {},
   "outputs": [],
   "source": [
    "for layer in model_B_on_A.layers[:-1]:\n",
    "    layer.trainable = False\n",
    "\n",
    "# complie() 메서드가 모델에서 훈련될 가중치를 모으기 때문에\n",
    "# 동결을 하거나 해제한 후에는 반드시 다시 컴파일해야 함\n",
    "model_B_on_A.compile(loss=\"binary_crossentropy\",\n",
    "                     optimizer=keras.optimizers.SGD(learning_rate=1e-3),\n",
    "                     metrics=[\"accuracy\"])"
   ]
  },
  {
   "cell_type": "markdown",
   "id": "2f0ff590",
   "metadata": {},
   "source": [
    "이제 다음과 같이 몇 번의 에포크 동안 모델을 훈련한 뒤,  \n",
    "재사용된 층의 동결을 해제하고,  \n",
    "모델을 다시 컴파일한 뒤(**중요!**),  \n",
    "작업 B에 맞게 재사용된 층을 세밀하게 튜닝하기 위해 훈련을 계속 진행:"
   ]
  },
  {
   "cell_type": "code",
   "execution_count": 20,
   "id": "709b22d5",
   "metadata": {
    "scrolled": false
   },
   "outputs": [
    {
     "name": "stdout",
     "output_type": "stream",
     "text": [
      "Epoch 1/4\n",
      "7/7 [==============================] - 1s 66ms/step - loss: 1.1879 - accuracy: 0.2700 - val_loss: 1.2112 - val_accuracy: 0.2748\n",
      "Epoch 2/4\n",
      "7/7 [==============================] - 0s 22ms/step - loss: 1.0883 - accuracy: 0.3250 - val_loss: 1.1112 - val_accuracy: 0.3256\n",
      "Epoch 3/4\n",
      "7/7 [==============================] - 0s 21ms/step - loss: 0.9929 - accuracy: 0.3800 - val_loss: 1.0232 - val_accuracy: 0.3895\n",
      "Epoch 4/4\n",
      "7/7 [==============================] - 0s 21ms/step - loss: 0.9094 - accuracy: 0.4500 - val_loss: 0.9430 - val_accuracy: 0.4513\n",
      "Epoch 1/16\n",
      "7/7 [==============================] - 1s 67ms/step - loss: 0.7120 - accuracy: 0.5950 - val_loss: 0.5961 - val_accuracy: 0.6562\n",
      "Epoch 2/16\n",
      "7/7 [==============================] - 0s 21ms/step - loss: 0.4624 - accuracy: 0.7850 - val_loss: 0.4277 - val_accuracy: 0.8256\n",
      "Epoch 3/16\n",
      "7/7 [==============================] - 0s 21ms/step - loss: 0.3366 - accuracy: 0.9250 - val_loss: 0.3342 - val_accuracy: 0.9148\n",
      "Epoch 4/16\n",
      "7/7 [==============================] - 0s 21ms/step - loss: 0.2647 - accuracy: 0.9500 - val_loss: 0.2726 - val_accuracy: 0.9493\n",
      "Epoch 5/16\n",
      "7/7 [==============================] - 0s 24ms/step - loss: 0.2163 - accuracy: 0.9600 - val_loss: 0.2315 - val_accuracy: 0.9635\n",
      "Epoch 6/16\n",
      "7/7 [==============================] - 0s 22ms/step - loss: 0.1835 - accuracy: 0.9700 - val_loss: 0.2025 - val_accuracy: 0.9757\n",
      "Epoch 7/16\n",
      "7/7 [==============================] - 0s 23ms/step - loss: 0.1601 - accuracy: 0.9750 - val_loss: 0.1806 - val_accuracy: 0.9787\n",
      "Epoch 8/16\n",
      "7/7 [==============================] - 0s 21ms/step - loss: 0.1423 - accuracy: 0.9750 - val_loss: 0.1623 - val_accuracy: 0.9838\n",
      "Epoch 9/16\n",
      "7/7 [==============================] - 0s 24ms/step - loss: 0.1274 - accuracy: 0.9800 - val_loss: 0.1482 - val_accuracy: 0.9868\n",
      "Epoch 10/16\n",
      "7/7 [==============================] - 0s 23ms/step - loss: 0.1158 - accuracy: 0.9850 - val_loss: 0.1363 - val_accuracy: 0.9868\n",
      "Epoch 11/16\n",
      "7/7 [==============================] - 0s 24ms/step - loss: 0.1059 - accuracy: 0.9850 - val_loss: 0.1260 - val_accuracy: 0.9868\n",
      "Epoch 12/16\n",
      "7/7 [==============================] - 0s 20ms/step - loss: 0.0973 - accuracy: 0.9900 - val_loss: 0.1173 - val_accuracy: 0.9899\n",
      "Epoch 13/16\n",
      "7/7 [==============================] - 0s 23ms/step - loss: 0.0900 - accuracy: 0.9900 - val_loss: 0.1099 - val_accuracy: 0.9899\n",
      "Epoch 14/16\n",
      "7/7 [==============================] - 0s 26ms/step - loss: 0.0838 - accuracy: 0.9950 - val_loss: 0.1035 - val_accuracy: 0.9909\n",
      "Epoch 15/16\n",
      "7/7 [==============================] - 0s 21ms/step - loss: 0.0784 - accuracy: 0.9950 - val_loss: 0.0980 - val_accuracy: 0.9929\n",
      "Epoch 16/16\n",
      "7/7 [==============================] - 0s 21ms/step - loss: 0.0736 - accuracy: 1.0000 - val_loss: 0.0932 - val_accuracy: 0.9929\n"
     ]
    }
   ],
   "source": [
    "# 4번의 에포크 동안 모델 훈련\n",
    "history = model_B_on_A.fit(X_train_B, y_train_B, epochs=4,\n",
    "                           validation_data=(X_valid_B, y_valid_B))\n",
    "\n",
    "# 재사용된 층의 동결 해제\n",
    "for layer in model_B_on_A.layers[:-1]:\n",
    "    layer.trainable = True\n",
    "\n",
    "# 모델을 다시 컴파일\n",
    "model_B_on_A.compile(loss=\"binary_crossentropy\",\n",
    "                     optimizer=keras.optimizers.SGD(learning_rate=1e-3),\n",
    "                     metrics=[\"accuracy\"])\n",
    "\n",
    "# 세밀 튜닝을 위해 훈련을 계속 진행\n",
    "history = model_B_on_A.fit(X_train_B, y_train_B, epochs=16,\n",
    "                           validation_data=(X_valid_B, y_valid_B))"
   ]
  },
  {
   "cell_type": "markdown",
   "id": "1acf548d",
   "metadata": {},
   "source": [
    "테스트 데이터에 대한 기존의 `model_B`와 전이 학습한 `model_B_on_A`의 성능을 비교:"
   ]
  },
  {
   "cell_type": "code",
   "execution_count": 21,
   "id": "0309fc86",
   "metadata": {},
   "outputs": [
    {
     "name": "stdout",
     "output_type": "stream",
     "text": [
      "63/63 [==============================] - 0s 2ms/step - loss: 0.1118 - accuracy: 0.9760\n"
     ]
    },
    {
     "data": {
      "text/plain": [
       "[0.11182356625795364, 0.9760000109672546]"
      ]
     },
     "execution_count": 21,
     "metadata": {},
     "output_type": "execute_result"
    }
   ],
   "source": [
    "# model_B 최종 점수 확인\n",
    "model_B.evaluate(X_test_B, y_test_B)"
   ]
  },
  {
   "cell_type": "code",
   "execution_count": 22,
   "id": "b7f839a5",
   "metadata": {},
   "outputs": [
    {
     "name": "stdout",
     "output_type": "stream",
     "text": [
      "63/63 [==============================] - 0s 2ms/step - loss: 0.0895 - accuracy: 0.9950\n"
     ]
    },
    {
     "data": {
      "text/plain": [
       "[0.0895000696182251, 0.9950000047683716]"
      ]
     },
     "execution_count": 22,
     "metadata": {},
     "output_type": "execute_result"
    }
   ],
   "source": [
    "# model_B 최종 점수 확인\n",
    "model_B_on_A.evaluate(X_test_B, y_test_B)"
   ]
  },
  {
   "cell_type": "code",
   "execution_count": 23,
   "id": "368b903c",
   "metadata": {},
   "outputs": [
    {
     "data": {
      "text/plain": [
       "4.800000000000011"
      ]
     },
     "execution_count": 23,
     "metadata": {},
     "output_type": "execute_result"
    }
   ],
   "source": [
    "# 오차율 비교\n",
    "(100 - 97.6) / (100 - 99.50)"
   ]
  },
  {
   "cell_type": "markdown",
   "id": "4060f9e2",
   "metadata": {},
   "source": [
    "오차율이 약 4.8배 줄어든 것을 확인할 수 있음"
   ]
  },
  {
   "cell_type": "markdown",
   "id": "287f7129",
   "metadata": {},
   "source": [
    "#### **자기 지도 학습(self-supervised learning)**  \n",
    ": 데이터에서 스스로 레이블을 생성하고 지도 학습 기법으로 레이블된 데이터셋에서 모델을 훈련하는 방법. 이 방식은 사람이 레이블을 부여할 필요가 없으므로 **비지도 학습의 형태로 분류**"
   ]
  },
  {
   "cell_type": "markdown",
   "id": "6d85738e",
   "metadata": {},
   "source": [
    "# 11.3 고속 옵티마이저"
   ]
  },
  {
   "cell_type": "markdown",
   "id": "273f1cf5",
   "metadata": {},
   "source": [
    "<지금까지 알아본 훈련 속도를 높이는 방법>  \n",
    "1. 연결 가중치에 좋은 초기화 전략 적용하기\n",
    "2. 좋은 활성화 함수 사용하기\n",
    "3. 배치 정규화 사용하기\n",
    "4. 사전 훈련된 네트워크의 일부 재사용하기  \n",
    "\n",
    "그러나 여전히 아주 큰 심층 신경망의 훈련 속도는 심각하게 느릴 수 있음  \n",
    "그럴땐 또 다른 방법으로 표준적인 경사 하강법 옵티마이저 대신 **더 빠른 옵티마이저**에 해당하는 **momentum optimization(모멘텀 최적화), Nesterov accelerated gradient(네스테로프 가속 경사), AdaGrad, RMSProp, Adam, Nadam 옵티마이저**를 사용하는 것이 있음"
   ]
  },
  {
   "cell_type": "markdown",
   "id": "e1bdc9e0",
   "metadata": {},
   "source": [
    "## 11.3.1 모멘텀 최적화"
   ]
  },
  {
   "cell_type": "markdown",
   "id": "0a225b2d",
   "metadata": {},
   "source": [
    "표준적인 경사 하강법: 일정한 크기의 스텝으로 조금씩 하강, 이전 그레이디언트가 얼마였는지 고려하지 않음  \n",
    "\n",
    "**모멘텀 최적화**: 처음에는 느리게 출발하지만 **종단속도에 도달할 때까지는 빠르게 가속**, 이전 그레이디언트가 얼마였는지를 **상당히 중요하게 생각**  \n",
    "\n",
    "배치 정규화를 사용하지 않는 심층 신경망에서 상위층은 종종 **스케일이 매우 다른 입력**을 받게 됨. 이런 경우 **모멘텀 최적화를 사용**하면 큰 도움이 됨"
   ]
  },
  {
   "cell_type": "code",
   "execution_count": 3,
   "id": "b87f1d3a",
   "metadata": {},
   "outputs": [],
   "source": [
    "# SGD 옵티마이저에 momentum 매개변수를 지정하는 것으로 구현\n",
    "optimizer = keras.optimizers.SGD(learning_rate=0.001, momentum=0.9)"
   ]
  },
  {
   "cell_type": "markdown",
   "id": "c7f24f46",
   "metadata": {},
   "source": [
    "## 11.3.2 네스테로프 가속 경사"
   ]
  },
  {
   "cell_type": "markdown",
   "id": "697c07be",
   "metadata": {},
   "source": [
    "모멘텀 최적화의 한 변종으로, 현재 위치가 $\\theta$ 가 아니라 **모멘텀의 방향으로 조금 앞선 $\\theta + \\beta m$에서 비용 함수의 그레이디언트를 계산**하는 방법.  \n",
    "\n",
    "기본 모멘텀 최적화보다 **거의 항상 더 빠르다**고 함"
   ]
  },
  {
   "cell_type": "code",
   "execution_count": 4,
   "id": "f28f7449",
   "metadata": {},
   "outputs": [],
   "source": [
    "# SGD 옵티마이저에 momentum과 nesterov=True로 지정하는 것으로 구현\n",
    "optimizer = keras.optimizers.SGD(learning_rate=0.001, momentum=0.9, \n",
    "                                nesterov=True)"
   ]
  },
  {
   "cell_type": "markdown",
   "id": "76441a1d",
   "metadata": {},
   "source": [
    "## 11.3.3 AdaGrad"
   ]
  },
  {
   "cell_type": "markdown",
   "id": "6a1fef31",
   "metadata": {},
   "source": [
    "가장 가파른 차원을 따라 그레이디언트 벡터의 스케일을 감소시켜 경사 하강의 속도를 높이는 방법  \n",
    "\n",
    "<장점>  \n",
    "- 경사가 완만한 차원보다 가파른 차원에 대해 더 빠르게 감소 -> 전역 최적점 방향으로 곧장 가도록 갱신되는데 도움이 됨\n",
    "- 학습률 하이퍼파라미터 $\\eta$를 덜 튜닝해도 되는 점도 또 하나의 장점  \n",
    "\n",
    "<단점>\n",
    "- 간단한 2차방정식 문제에서는 잘 작동하지만, 신경망을 훈련할 때 너무 일찍 멈추는 경우가 종종 있음\n",
    "- 따라서 **심층 신경망에는 사용하지 말아야** 한다고 함"
   ]
  },
  {
   "cell_type": "code",
   "execution_count": 5,
   "id": "5106beae",
   "metadata": {},
   "outputs": [],
   "source": [
    "# 케라스에 Adagrad 옵티마이저가 있긴 함\n",
    "optimizer = keras.optimizers.Adagrad(learning_rate=0.001)"
   ]
  },
  {
   "cell_type": "markdown",
   "id": "c83d8eee",
   "metadata": {},
   "source": [
    "## 11.3.4 RMSProp"
   ]
  },
  {
   "cell_type": "markdown",
   "id": "7d4d96fa",
   "metadata": {},
   "source": [
    "AdaGrad가 너무 일찍 멈춰서 전역 최적점에 수렴하지 못했던 문제를 훈련 시작부터의 모든 그레이디언트가 아닌 **가장 최근 반복에서 비롯된 그레이디언트만 누적함**으로써 해결한 알고리즘  \n",
    "이렇게 하기 위해 알고리즘의 첫 번째 단계에서 **지수 감소**를 사용하고, 보통 감쇠율 $\\beta$는 0.9로 설정함  \n",
    "\n",
    "아주 간단한 문제를 제외하고는 **RMSProp이 AdaGrad보다 언제나 훨씬 더 성능이 좋다**고 하며, **Adam 최적화**가 나오기 전까지 연구자들이 가장 선호하는 최적화 알고리즘이었다고 함"
   ]
  },
  {
   "cell_type": "code",
   "execution_count": 6,
   "id": "2d8ab126",
   "metadata": {},
   "outputs": [],
   "source": [
    "# 케라스에 RMSProp 옵티마이저가 있음\n",
    "optimizer = keras.optimizers.RMSprop(learning_rate=0.001, rho=0.9)"
   ]
  },
  {
   "cell_type": "markdown",
   "id": "87fd3188",
   "metadata": {},
   "source": [
    "## 11.3.5 Adam과 Nadam 최적화"
   ]
  },
  {
   "cell_type": "markdown",
   "id": "166c6018",
   "metadata": {},
   "source": [
    "**적응적 모멘트 추정(Adaptive moment estimation)**을 의미하는 Adam은 **11.3.1의 모멘텀 최적화와 11.3.4의 RMSProp의 아이디어를 합친 것**임(자세한 식은 책 p.440,441의 [식 11-8]을 참조)  \n",
    "\n",
    "<Adam의 2가지 변종>  \n",
    "- AdaMax: [식 11-8]의 단계 2를 다르게 바꾸고 단계 4를 삭제한 변종, 일반적으로 Adam의 성능이 더 낫지만, 어떤 작업에서 Adam이 잘 동작하지 않을 때 시도할 수 있는 옵티마이저 중 하나  \n",
    "- Nadam: Adam 옵티마이저에 네스테로프 기법을 더한 것, 일반적으로 Adam보다 Nadam이 성능이 더 좋았지만, 이따금 RMSProp이 나을 때도 있었다고 함"
   ]
  },
  {
   "cell_type": "code",
   "execution_count": 7,
   "id": "327caa2b",
   "metadata": {},
   "outputs": [],
   "source": [
    "# Adam 옵티마이저, beta_1=0.9, beta_2=0.999이 default\n",
    "optimizer = keras.optimizers.Adam(learning_rate=0.001, beta_1=0.9, beta_2=0.999)"
   ]
  },
  {
   "cell_type": "code",
   "execution_count": 8,
   "id": "b17b7ca5",
   "metadata": {},
   "outputs": [],
   "source": [
    "# AdaMax 옵티마이저\n",
    "optimizer = keras.optimizers.Adamax(learning_rate=0.001, beta_1=0.9, beta_2=0.999)"
   ]
  },
  {
   "cell_type": "code",
   "execution_count": 9,
   "id": "7871f9cd",
   "metadata": {},
   "outputs": [],
   "source": [
    "# Nadam 옵티마이저\n",
    "optimizer = keras.optimizers.Nadam(learning_rate=0.001, beta_1=0.9, beta_2=0.999)"
   ]
  },
  {
   "cell_type": "markdown",
   "id": "26fcc45e",
   "metadata": {},
   "source": [
    "## 11.3.6 학습률 스케줄링"
   ]
  },
  {
   "cell_type": "markdown",
   "id": "818151cf",
   "metadata": {},
   "source": [
    "좋은 학습률을 찾는 것은 매우 중요!  \n",
    "학습률을 너무 크게 잡으면 **훈련이 실제로 발산할 수** 있고,  \n",
    "학습률을 너무 작게 잡으면 최적점에 수렴하겠지만 **시간이 매우 오래 걸림**  \n",
    "\n",
    "이럴 때는 큰 학습률로 시작하고 학습 속도가 느려질 때 학습률을 낮추면 최적의 고정 학습률보다 좋은 솔루션을 더 빨리 발견할 수 있다고 함"
   ]
  },
  {
   "cell_type": "markdown",
   "id": "33014a3b",
   "metadata": {},
   "source": [
    "### 거듭제곱 스케줄링(power scheduling)"
   ]
  },
  {
   "cell_type": "markdown",
   "id": "d8875c4d",
   "metadata": {},
   "source": [
    "학습률: `lr = lr0 / (1 + steps / s)**c`  \n",
    "- 케라스는 `c = 1`과 `s = 1/decay`를 사용"
   ]
  },
  {
   "cell_type": "markdown",
   "id": "61e44d8e",
   "metadata": {},
   "source": [
    "패션 MNIST 데이터 다시 로드"
   ]
  },
  {
   "cell_type": "code",
   "execution_count": 11,
   "id": "1cbd08d0",
   "metadata": {},
   "outputs": [],
   "source": [
    "(X_train_full, y_train_full), (X_test, y_test) = keras.datasets.fashion_mnist.load_data()\n",
    "X_train_full = X_train_full / 255.0\n",
    "X_test = X_test / 255.0\n",
    "X_valid, X_train = X_train_full[:5000], X_train_full[5000:]\n",
    "y_valid, y_train = y_train_full[:5000], y_train_full[5000:]\n",
    "\n",
    "pixel_means = X_train.mean(axis=0, keepdims=True)\n",
    "pixel_stds = X_train.std(axis=0, keepdims=True)\n",
    "X_train_scaled = (X_train - pixel_means) / pixel_stds\n",
    "X_valid_scaled = (X_valid - pixel_means) / pixel_stds\n",
    "X_test_scaled = (X_test - pixel_means) / pixel_stds"
   ]
  },
  {
   "cell_type": "code",
   "execution_count": 12,
   "id": "e430aeb7",
   "metadata": {},
   "outputs": [],
   "source": [
    "# SGD에 decay 매개변수만 지정하면 됨\n",
    "optimizer = keras.optimizers.SGD(learning_rate=0.01, decay=1e-4)"
   ]
  },
  {
   "cell_type": "code",
   "execution_count": 13,
   "id": "95bd6304",
   "metadata": {},
   "outputs": [],
   "source": [
    "model = keras.models.Sequential([\n",
    "    keras.layers.Flatten(input_shape=[28, 28]), \n",
    "    keras.layers.Dense(300, activation='selu', kernel_initializer='lecun_normal'), \n",
    "    keras.layers.Dense(100, activation='selu', kernel_initializer='lecun_normal'), \n",
    "    keras.layers.Dense(10, activation='softmax')\n",
    "])\n",
    "\n",
    "model.compile(loss='sparse_categorical_crossentropy', optimizer=optimizer, metrics=['accuracy'])"
   ]
  },
  {
   "cell_type": "code",
   "execution_count": 14,
   "id": "1eec3d45",
   "metadata": {},
   "outputs": [
    {
     "name": "stdout",
     "output_type": "stream",
     "text": [
      "Epoch 1/25\n",
      "1719/1719 [==============================] - 5s 3ms/step - loss: 0.4876 - accuracy: 0.8291 - val_loss: 0.4148 - val_accuracy: 0.8556\n",
      "Epoch 2/25\n",
      "1719/1719 [==============================] - 5s 3ms/step - loss: 0.3809 - accuracy: 0.8661 - val_loss: 0.3758 - val_accuracy: 0.8734\n",
      "Epoch 3/25\n",
      "1719/1719 [==============================] - 5s 3ms/step - loss: 0.3485 - accuracy: 0.8764 - val_loss: 0.3611 - val_accuracy: 0.8774\n",
      "Epoch 4/25\n",
      "1719/1719 [==============================] - 5s 3ms/step - loss: 0.3273 - accuracy: 0.8834 - val_loss: 0.3534 - val_accuracy: 0.8776\n",
      "Epoch 5/25\n",
      "1719/1719 [==============================] - 5s 3ms/step - loss: 0.3114 - accuracy: 0.8889 - val_loss: 0.3412 - val_accuracy: 0.8828\n",
      "Epoch 6/25\n",
      "1719/1719 [==============================] - 5s 3ms/step - loss: 0.2979 - accuracy: 0.8933 - val_loss: 0.3430 - val_accuracy: 0.8812\n",
      "Epoch 7/25\n",
      "1719/1719 [==============================] - 5s 3ms/step - loss: 0.2878 - accuracy: 0.8970 - val_loss: 0.3337 - val_accuracy: 0.8816\n",
      "Epoch 8/25\n",
      "1719/1719 [==============================] - 5s 3ms/step - loss: 0.2787 - accuracy: 0.9007 - val_loss: 0.3321 - val_accuracy: 0.8830\n",
      "Epoch 9/25\n",
      "1719/1719 [==============================] - 5s 3ms/step - loss: 0.2703 - accuracy: 0.9031 - val_loss: 0.3336 - val_accuracy: 0.8820\n",
      "Epoch 10/25\n",
      "1719/1719 [==============================] - 5s 3ms/step - loss: 0.2633 - accuracy: 0.9062 - val_loss: 0.3257 - val_accuracy: 0.8848\n",
      "Epoch 11/25\n",
      "1719/1719 [==============================] - 5s 3ms/step - loss: 0.2571 - accuracy: 0.9090 - val_loss: 0.3230 - val_accuracy: 0.8856\n",
      "Epoch 12/25\n",
      "1719/1719 [==============================] - 5s 3ms/step - loss: 0.2512 - accuracy: 0.9110 - val_loss: 0.3189 - val_accuracy: 0.8890\n",
      "Epoch 13/25\n",
      "1719/1719 [==============================] - 5s 3ms/step - loss: 0.2459 - accuracy: 0.9123 - val_loss: 0.3210 - val_accuracy: 0.8882\n",
      "Epoch 14/25\n",
      "1719/1719 [==============================] - 5s 3ms/step - loss: 0.2410 - accuracy: 0.9147 - val_loss: 0.3255 - val_accuracy: 0.8832\n",
      "Epoch 15/25\n",
      "1719/1719 [==============================] - 5s 3ms/step - loss: 0.2369 - accuracy: 0.9162 - val_loss: 0.3181 - val_accuracy: 0.8868\n",
      "Epoch 16/25\n",
      "1719/1719 [==============================] - 5s 3ms/step - loss: 0.2322 - accuracy: 0.9186 - val_loss: 0.3205 - val_accuracy: 0.8882\n",
      "Epoch 17/25\n",
      "1719/1719 [==============================] - 5s 3ms/step - loss: 0.2289 - accuracy: 0.9192 - val_loss: 0.3158 - val_accuracy: 0.8912\n",
      "Epoch 18/25\n",
      "1719/1719 [==============================] - 5s 3ms/step - loss: 0.2250 - accuracy: 0.9208 - val_loss: 0.3226 - val_accuracy: 0.8862\n",
      "Epoch 19/25\n",
      "1719/1719 [==============================] - 5s 3ms/step - loss: 0.2216 - accuracy: 0.9220 - val_loss: 0.3141 - val_accuracy: 0.8928\n",
      "Epoch 20/25\n",
      "1719/1719 [==============================] - 5s 3ms/step - loss: 0.2187 - accuracy: 0.9236 - val_loss: 0.3158 - val_accuracy: 0.8876\n",
      "Epoch 21/25\n",
      "1719/1719 [==============================] - 5s 3ms/step - loss: 0.2156 - accuracy: 0.9246 - val_loss: 0.3140 - val_accuracy: 0.8898\n",
      "Epoch 22/25\n",
      "1719/1719 [==============================] - 5s 3ms/step - loss: 0.2125 - accuracy: 0.9253 - val_loss: 0.3176 - val_accuracy: 0.8890\n",
      "Epoch 23/25\n",
      "1719/1719 [==============================] - 5s 3ms/step - loss: 0.2097 - accuracy: 0.9277 - val_loss: 0.3170 - val_accuracy: 0.8922\n",
      "Epoch 24/25\n",
      "1719/1719 [==============================] - 5s 3ms/step - loss: 0.2069 - accuracy: 0.9283 - val_loss: 0.3162 - val_accuracy: 0.8902\n",
      "Epoch 25/25\n",
      "1719/1719 [==============================] - 5s 3ms/step - loss: 0.2043 - accuracy: 0.9284 - val_loss: 0.3142 - val_accuracy: 0.8906\n"
     ]
    }
   ],
   "source": [
    "n_epochs=25\n",
    "history = model.fit(X_train_scaled, y_train, epochs=n_epochs, \n",
    "                   validation_data=(X_valid_scaled, y_valid))"
   ]
  },
  {
   "cell_type": "code",
   "execution_count": 16,
   "id": "671c720e",
   "metadata": {},
   "outputs": [
    {
     "data": {
      "image/png": "[encoded data removed]",
      "text/plain": [
       "<Figure size 432x288 with 1 Axes>"
      ]
     },
     "metadata": {
      "needs_background": "light"
     },
     "output_type": "display_data"
    }
   ],
   "source": [
    "import math\n",
    "\n",
    "learning_rate = 0.01\n",
    "decay = 1e-4\n",
    "batch_size = 32\n",
    "n_steps_per_epoch = math.ceil(len(X_train) / batch_size)\n",
    "epochs = np.arange(n_epochs)\n",
    "lrs = learning_rate / (1 + decay * epochs * n_steps_per_epoch)\n",
    "\n",
    "# 거듭제곱 기반 스케줄링의 학습률 그래프 출력\n",
    "plt.plot(epochs, lrs, \"o-\")\n",
    "plt.axis([0, n_epochs - 1, 0, 0.01])\n",
    "plt.xlabel('Epoch')\n",
    "plt.ylabel('Learning Rate')\n",
    "plt.title('Power Scheduling', fontsize=14)\n",
    "plt.grid(True) # 그리드 격자무늬 출력\n",
    "plt.show()"
   ]
  },
  {
   "cell_type": "markdown",
   "id": "0148785e",
   "metadata": {},
   "source": [
    "### 지수 기반 스케줄링(exponential scheduling)"
   ]
  },
  {
   "cell_type": "markdown",
   "id": "97f4d8db",
   "metadata": {},
   "source": [
    "학습률: `lr = lr0 * 0.1**(epoch / s)`"
   ]
  },
  {
   "cell_type": "code",
   "execution_count": 17,
   "id": "0c000758",
   "metadata": {},
   "outputs": [],
   "source": [
    "# 현재 에포크를 받아 학습률을 반환하는 함수를 정의\n",
    "def exponential_decay_fn(epoch):\n",
    "    return 0.01 * 0.1**(epoch / 20)"
   ]
  },
  {
   "cell_type": "code",
   "execution_count": 18,
   "id": "c866a5ba",
   "metadata": {},
   "outputs": [],
   "source": [
    "# 초기 학습률, 스텝 횟수를 위처럼 하드코딩하고 싶지 않다면\n",
    "# 아래와 같이 이 변수들을 설정한 클로저를 반환하는 함수를 정의\n",
    "def exponential_decay(lr0, s):\n",
    "    def exponential_decay_fn(epoch):\n",
    "        return lr0 * 0.1**(epoch / s)\n",
    "    return exponential_decay_fn\n",
    "\n",
    "exponential_decay_fn = exponential_decay(lr0=0.01, s=20)"
   ]
  },
  {
   "cell_type": "code",
   "execution_count": 19,
   "id": "bc279f2c",
   "metadata": {},
   "outputs": [],
   "source": [
    "# 옵티마이저에 nadam을 넣은 것 빼곤 앞과 동일\n",
    "model = keras.models.Sequential([\n",
    "    keras.layers.Flatten(input_shape=[28, 28]), \n",
    "    keras.layers.Dense(300, activation='selu', kernel_initializer='lecun_normal'), \n",
    "    keras.layers.Dense(100, activation='selu', kernel_initializer='lecun_normal'), \n",
    "    keras.layers.Dense(10, activation='softmax')\n",
    "])\n",
    "\n",
    "model.compile(loss='sparse_categorical_crossentropy', optimizer='nadam', metrics=['accuracy'])"
   ]
  },
  {
   "cell_type": "code",
   "execution_count": 20,
   "id": "849a68ab",
   "metadata": {},
   "outputs": [
    {
     "name": "stdout",
     "output_type": "stream",
     "text": [
      "Epoch 1/25\n",
      "1719/1719 [==============================] - 8s 4ms/step - loss: 0.8432 - accuracy: 0.7577 - val_loss: 0.8951 - val_accuracy: 0.7486 - lr: 0.0100\n",
      "Epoch 2/25\n",
      "1719/1719 [==============================] - 6s 4ms/step - loss: 0.6839 - accuracy: 0.7933 - val_loss: 0.7768 - val_accuracy: 0.7690 - lr: 0.0089\n",
      "Epoch 3/25\n",
      "1719/1719 [==============================] - 6s 4ms/step - loss: 0.5941 - accuracy: 0.8164 - val_loss: 0.6023 - val_accuracy: 0.8216 - lr: 0.0079\n",
      "Epoch 4/25\n",
      "1719/1719 [==============================] - 6s 4ms/step - loss: 0.5489 - accuracy: 0.8340 - val_loss: 0.8057 - val_accuracy: 0.7738 - lr: 0.0071\n",
      "Epoch 5/25\n",
      "1719/1719 [==============================] - 6s 4ms/step - loss: 0.4838 - accuracy: 0.8475 - val_loss: 0.6224 - val_accuracy: 0.8274 - lr: 0.0063\n",
      "Epoch 6/25\n",
      "1719/1719 [==============================] - 6s 4ms/step - loss: 0.4535 - accuracy: 0.8569 - val_loss: 0.5165 - val_accuracy: 0.8508 - lr: 0.0056\n",
      "Epoch 7/25\n",
      "1719/1719 [==============================] - 6s 4ms/step - loss: 0.3982 - accuracy: 0.8717 - val_loss: 0.6596 - val_accuracy: 0.8486 - lr: 0.0050\n",
      "Epoch 8/25\n",
      "1719/1719 [==============================] - 6s 4ms/step - loss: 0.3793 - accuracy: 0.8763 - val_loss: 0.4787 - val_accuracy: 0.8648 - lr: 0.0045\n",
      "Epoch 9/25\n",
      "1719/1719 [==============================] - 6s 4ms/step - loss: 0.3617 - accuracy: 0.8841 - val_loss: 0.4740 - val_accuracy: 0.8500 - lr: 0.0040\n",
      "Epoch 10/25\n",
      "1719/1719 [==============================] - 6s 4ms/step - loss: 0.3261 - accuracy: 0.8908 - val_loss: 0.5861 - val_accuracy: 0.8682 - lr: 0.0035\n",
      "Epoch 11/25\n",
      "1719/1719 [==============================] - 6s 4ms/step - loss: 0.3042 - accuracy: 0.8981 - val_loss: 0.4865 - val_accuracy: 0.8774 - lr: 0.0032\n",
      "Epoch 12/25\n",
      "1719/1719 [==============================] - 6s 4ms/step - loss: 0.2813 - accuracy: 0.9054 - val_loss: 0.5031 - val_accuracy: 0.8774 - lr: 0.0028\n",
      "Epoch 13/25\n",
      "1719/1719 [==============================] - 6s 4ms/step - loss: 0.2615 - accuracy: 0.9121 - val_loss: 0.4790 - val_accuracy: 0.8744 - lr: 0.0025\n",
      "Epoch 14/25\n",
      "1719/1719 [==============================] - 7s 4ms/step - loss: 0.2407 - accuracy: 0.9174 - val_loss: 0.4406 - val_accuracy: 0.8758 - lr: 0.0022\n",
      "Epoch 15/25\n",
      "1719/1719 [==============================] - 7s 4ms/step - loss: 0.2237 - accuracy: 0.9230 - val_loss: 0.4710 - val_accuracy: 0.8756 - lr: 0.0020\n",
      "Epoch 16/25\n",
      "1719/1719 [==============================] - 7s 4ms/step - loss: 0.2051 - accuracy: 0.9294 - val_loss: 0.5087 - val_accuracy: 0.8744 - lr: 0.0018\n",
      "Epoch 17/25\n",
      "1719/1719 [==============================] - 7s 4ms/step - loss: 0.1930 - accuracy: 0.9347 - val_loss: 0.4631 - val_accuracy: 0.8866 - lr: 0.0016\n",
      "Epoch 18/25\n",
      "1719/1719 [==============================] - 7s 4ms/step - loss: 0.1788 - accuracy: 0.9392 - val_loss: 0.4578 - val_accuracy: 0.8858 - lr: 0.0014\n",
      "Epoch 19/25\n",
      "1719/1719 [==============================] - 7s 4ms/step - loss: 0.1650 - accuracy: 0.9435 - val_loss: 0.4942 - val_accuracy: 0.8906 - lr: 0.0013\n",
      "Epoch 20/25\n",
      "1719/1719 [==============================] - 7s 4ms/step - loss: 0.1542 - accuracy: 0.9482 - val_loss: 0.5083 - val_accuracy: 0.8880 - lr: 0.0011\n",
      "Epoch 21/25\n",
      "1719/1719 [==============================] - 7s 4ms/step - loss: 0.1429 - accuracy: 0.9515 - val_loss: 0.5189 - val_accuracy: 0.8866 - lr: 0.0010\n",
      "Epoch 22/25\n",
      "1719/1719 [==============================] - 7s 4ms/step - loss: 0.1341 - accuracy: 0.9546 - val_loss: 0.5498 - val_accuracy: 0.8880 - lr: 8.9125e-04\n",
      "Epoch 23/25\n",
      "1719/1719 [==============================] - 7s 4ms/step - loss: 0.1258 - accuracy: 0.9586 - val_loss: 0.5489 - val_accuracy: 0.8896 - lr: 7.9433e-04\n",
      "Epoch 24/25\n",
      "1719/1719 [==============================] - 7s 4ms/step - loss: 0.1182 - accuracy: 0.9612 - val_loss: 0.5573 - val_accuracy: 0.8914 - lr: 7.0795e-04\n",
      "Epoch 25/25\n",
      "1719/1719 [==============================] - 7s 4ms/step - loss: 0.1120 - accuracy: 0.9637 - val_loss: 0.5792 - val_accuracy: 0.8890 - lr: 6.3096e-04\n"
     ]
    }
   ],
   "source": [
    "# 위에서 정의한 지수 기반 스케줄링 함수를 전달하여 LearningRateScheduler 콜백 생성\n",
    "lr_scheduler = keras.callbacks.LearningRateScheduler(exponential_decay_fn)\n",
    "n_epochs=25\n",
    "\n",
    "# 그리고 이 콜백을 fit() 메서드에 전달\n",
    "history = model.fit(X_train_scaled, y_train, epochs=n_epochs, \n",
    "                   validation_data=(X_valid_scaled, y_valid), \n",
    "                   callbacks=[lr_scheduler])"
   ]
  },
  {
   "cell_type": "code",
   "execution_count": 21,
   "id": "26f82126",
   "metadata": {},
   "outputs": [
    {
     "data": {
      "image/png": "[encoded data removed]",
      "text/plain": [
       "<Figure size 432x288 with 1 Axes>"
      ]
     },
     "metadata": {
      "needs_background": "light"
     },
     "output_type": "display_data"
    }
   ],
   "source": [
    "# 지수 기반 스케줄링의 학습률 그래프 출력\n",
    "plt.plot(history.epoch, history.history['lr'], 'o-')\n",
    "plt.axis([0, n_epochs-1, 0, 0.011])\n",
    "plt.xlabel(\"Epoch\")\n",
    "plt.ylabel(\"Learning Rate\")\n",
    "plt.title(\"Exponential Scheduling\", fontsize=14)\n",
    "plt.grid(True)\n",
    "plt.show()"
   ]
  },
  {
   "cell_type": "markdown",
   "id": "c74e5b9c",
   "metadata": {},
   "source": [
    "아래의 스케줄 함수는 두 번째 매개변수로 **현재 학습률**을 받을 수 있음:"
   ]
  },
  {
   "cell_type": "code",
   "execution_count": 22,
   "id": "60d66c59",
   "metadata": {},
   "outputs": [],
   "source": [
    "def exponential_decay_fn(epoch, lr):\n",
    "    return lr + 0.1**(1 / 20)"
   ]
  },
  {
   "cell_type": "markdown",
   "id": "fa2c8140",
   "metadata": {},
   "source": [
    "에포크가 아니라 **반복마다** 학습률을 업데이트하려면 아래와 같은 **사용자 정의 콜백 클래스**를 작성해야 함:"
   ]
  },
  {
   "cell_type": "code",
   "execution_count": 23,
   "id": "2a79a285",
   "metadata": {},
   "outputs": [],
   "source": [
    "K = keras.backend\n",
    "\n",
    "class ExponentialDecay(keras.callbacks.Callback):\n",
    "    def __init__(self, s=40000):\n",
    "        super().__init__()\n",
    "        self.s = s\n",
    "    \n",
    "    def on_batch_begin(self, batch, logs=None):\n",
    "        # 에포크마다 'batch' 매개변수가 재설정됨\n",
    "        lr = K.get_value(self.model.optimizer.lr)\n",
    "        K.set_value(self.model.optimizer.lr, lr * 0.1**(1 / self.s))\n",
    "        \n",
    "    def on_epoch_end(self, epoch, logs=None):\n",
    "        logs = logs or {}\n",
    "        logs['lr'] = K.get_value(self.model.optimizer.lr)\n"
   ]
  },
  {
   "cell_type": "code",
   "execution_count": 24,
   "id": "7bd2c3ca",
   "metadata": {},
   "outputs": [],
   "source": [
    "model = keras.models.Sequential([\n",
    "    keras.layers.Flatten(input_shape=[28, 28]),\n",
    "    keras.layers.Dense(300, activation=\"selu\", kernel_initializer=\"lecun_normal\"),\n",
    "    keras.layers.Dense(100, activation=\"selu\", kernel_initializer=\"lecun_normal\"),\n",
    "    keras.layers.Dense(10, activation=\"softmax\")\n",
    "])\n",
    "\n",
    "# nadam의 학습률을 직접 지정\n",
    "lr0 = 0.01\n",
    "optimizer = keras.optimizers.Nadam(learning_rate=lr0)\n",
    "\n",
    "model.compile(loss='sparse_categorical_crossentropy', optimizer=optimizer, metrics=['accuracy'])"
   ]
  },
  {
   "cell_type": "code",
   "execution_count": 25,
   "id": "cdd14120",
   "metadata": {},
   "outputs": [
    {
     "name": "stdout",
     "output_type": "stream",
     "text": [
      "Epoch 1/25\n",
      "1719/1719 [==============================] - 8s 4ms/step - loss: 0.7975 - accuracy: 0.7674 - val_loss: 0.7352 - val_accuracy: 0.8100 - lr: 0.0089\n",
      "Epoch 2/25\n",
      "1719/1719 [==============================] - 7s 4ms/step - loss: 0.7026 - accuracy: 0.7918 - val_loss: 0.7189 - val_accuracy: 0.7734 - lr: 0.0079\n",
      "Epoch 3/25\n",
      "1719/1719 [==============================] - 7s 4ms/step - loss: 0.5864 - accuracy: 0.8205 - val_loss: 0.7039 - val_accuracy: 0.8140 - lr: 0.0071\n",
      "Epoch 4/25\n",
      "1719/1719 [==============================] - 7s 4ms/step - loss: 0.5460 - accuracy: 0.8329 - val_loss: 0.5977 - val_accuracy: 0.8416 - lr: 0.0063\n",
      "Epoch 5/25\n",
      "1719/1719 [==============================] - 7s 4ms/step - loss: 0.4643 - accuracy: 0.8511 - val_loss: 0.5779 - val_accuracy: 0.8418 - lr: 0.0056\n",
      "Epoch 6/25\n",
      "1719/1719 [==============================] - 7s 4ms/step - loss: 0.4377 - accuracy: 0.8599 - val_loss: 0.4733 - val_accuracy: 0.8664 - lr: 0.0050\n",
      "Epoch 7/25\n",
      "1719/1719 [==============================] - 7s 4ms/step - loss: 0.3883 - accuracy: 0.8737 - val_loss: 0.5168 - val_accuracy: 0.8640 - lr: 0.0045\n",
      "Epoch 8/25\n",
      "1719/1719 [==============================] - 7s 4ms/step - loss: 0.3863 - accuracy: 0.8774 - val_loss: 0.4921 - val_accuracy: 0.8558 - lr: 0.0040\n",
      "Epoch 9/25\n",
      "1719/1719 [==============================] - 7s 4ms/step - loss: 0.3362 - accuracy: 0.8879 - val_loss: 0.4924 - val_accuracy: 0.8766 - lr: 0.0035\n",
      "Epoch 10/25\n",
      "1719/1719 [==============================] - 8s 4ms/step - loss: 0.3199 - accuracy: 0.8944 - val_loss: 0.4763 - val_accuracy: 0.8720 - lr: 0.0032\n",
      "Epoch 11/25\n",
      "1719/1719 [==============================] - 7s 4ms/step - loss: 0.3048 - accuracy: 0.8991 - val_loss: 0.4816 - val_accuracy: 0.8728 - lr: 0.0028\n",
      "Epoch 12/25\n",
      "1719/1719 [==============================] - 7s 4ms/step - loss: 0.2722 - accuracy: 0.9091 - val_loss: 0.4731 - val_accuracy: 0.8814 - lr: 0.0025\n",
      "Epoch 13/25\n",
      "1719/1719 [==============================] - 7s 4ms/step - loss: 0.2526 - accuracy: 0.9140 - val_loss: 0.4375 - val_accuracy: 0.8760 - lr: 0.0022\n",
      "Epoch 14/25\n",
      "1719/1719 [==============================] - 7s 4ms/step - loss: 0.2312 - accuracy: 0.9206 - val_loss: 0.4724 - val_accuracy: 0.8812 - lr: 0.0020\n",
      "Epoch 15/25\n",
      "1719/1719 [==============================] - 7s 4ms/step - loss: 0.2209 - accuracy: 0.9253 - val_loss: 0.4991 - val_accuracy: 0.8854 - lr: 0.0018\n",
      "Epoch 16/25\n",
      "1719/1719 [==============================] - 7s 4ms/step - loss: 0.2029 - accuracy: 0.9310 - val_loss: 0.4595 - val_accuracy: 0.8858 - lr: 0.0016\n",
      "Epoch 17/25\n",
      "1719/1719 [==============================] - 7s 4ms/step - loss: 0.1862 - accuracy: 0.9362 - val_loss: 0.4784 - val_accuracy: 0.8874 - lr: 0.0014\n",
      "Epoch 18/25\n",
      "1719/1719 [==============================] - 7s 4ms/step - loss: 0.1755 - accuracy: 0.9394 - val_loss: 0.4970 - val_accuracy: 0.8890 - lr: 0.0013\n",
      "Epoch 19/25\n",
      "1719/1719 [==============================] - 7s 4ms/step - loss: 0.1636 - accuracy: 0.9440 - val_loss: 0.4790 - val_accuracy: 0.8882 - lr: 0.0011\n",
      "Epoch 20/25\n",
      "1719/1719 [==============================] - 7s 4ms/step - loss: 0.1527 - accuracy: 0.9482 - val_loss: 0.5164 - val_accuracy: 0.8880 - lr: 9.9967e-04\n",
      "Epoch 21/25\n",
      "1719/1719 [==============================] - 7s 4ms/step - loss: 0.1426 - accuracy: 0.9517 - val_loss: 0.5422 - val_accuracy: 0.8892 - lr: 8.9094e-04\n",
      "Epoch 22/25\n",
      "1719/1719 [==============================] - 7s 4ms/step - loss: 0.1354 - accuracy: 0.9545 - val_loss: 0.5535 - val_accuracy: 0.8870 - lr: 7.9404e-04\n",
      "Epoch 23/25\n",
      "1719/1719 [==============================] - 7s 4ms/step - loss: 0.1254 - accuracy: 0.9582 - val_loss: 0.5746 - val_accuracy: 0.8908 - lr: 7.0767e-04\n",
      "Epoch 24/25\n",
      "1719/1719 [==============================] - 7s 4ms/step - loss: 0.1187 - accuracy: 0.9614 - val_loss: 0.6379 - val_accuracy: 0.8878 - lr: 6.3071e-04\n",
      "Epoch 25/25\n",
      "1719/1719 [==============================] - 7s 4ms/step - loss: 0.1137 - accuracy: 0.9632 - val_loss: 0.6065 - val_accuracy: 0.8900 - lr: 5.6211e-04\n"
     ]
    }
   ],
   "source": [
    "n_epochs = 25\n",
    "s = 20 * len(X_train) // 32 # 20 epoch 동안의 스텝 횟수(batch_size=32)\n",
    "exp_decay = ExponentialDecay(s) # 앞서 정의한 사용자 지정 콜백 호출\n",
    "\n",
    "history = model.fit(X_train_scaled, y_train, epochs=n_epochs,\n",
    "                    validation_data=(X_valid_scaled, y_valid),\n",
    "                    callbacks=[exp_decay])"
   ]
  },
  {
   "cell_type": "code",
   "execution_count": 26,
   "id": "89f16f7a",
   "metadata": {},
   "outputs": [
    {
     "data": {
      "image/png": "[encoded data removed]",
      "text/plain": [
       "<Figure size 432x288 with 1 Axes>"
      ]
     },
     "metadata": {
      "needs_background": "light"
     },
     "output_type": "display_data"
    }
   ],
   "source": [
    "n_steps = n_epochs * len(X_train) // 32\n",
    "steps = np.arange(n_steps)\n",
    "lrs = lr0 * 0.1**(steps / s)\n",
    "\n",
    "# 반복마다 업데이트한 지수 기반 스케줄링의 학습률 그래프 출력\n",
    "plt.plot(steps, lrs, '-', linewidth=2)\n",
    "plt.axis([0, n_steps - 1, 0, lr0 * 1.1])\n",
    "plt.xlabel(\"Batch\")\n",
    "plt.ylabel(\"Learning Rate\")\n",
    "plt.title(\"Exponential Scheduling (per batch)\", fontsize=14)\n",
    "plt.grid(True)\n",
    "plt.show()"
   ]
  },
  {
   "cell_type": "markdown",
   "id": "ff61a225",
   "metadata": {},
   "source": [
    "### 구간별 고정 스케줄링(piecewise constant scheduling)"
   ]
  },
  {
   "cell_type": "markdown",
   "id": "1b402f74",
   "metadata": {},
   "source": [
    "일정 횟수의 에포크 동안 일정한 학습률을 사용하고, 그다음 또 다른 횟수의 에포크 동안 작은 학습률을 사용하는 방식"
   ]
  },
  {
   "cell_type": "code",
   "execution_count": 27,
   "id": "6938d630",
   "metadata": {},
   "outputs": [],
   "source": [
    "# 구간별 고정 스케줄링을 위한 스케줄 함수 정의\n",
    "def piecewise_constant_fn(epoch):\n",
    "    if epoch < 5:\n",
    "        return 0.01\n",
    "    elif epoch < 15:\n",
    "        return 0.005\n",
    "    else:\n",
    "        return 0.001"
   ]
  },
  {
   "cell_type": "code",
   "execution_count": 28,
   "id": "f4e166eb",
   "metadata": {},
   "outputs": [],
   "source": [
    "# 마찬가지로 아래처럼 따로 횟수와 학습률을 넣어주게끔 설계도 가능\n",
    "def piecewise_constant(boundaries, values):\n",
    "    boundaries = np.array([0] + boundaries)\n",
    "    values = np.array(values)\n",
    "    def piecewise_constant_fn(epoch):\n",
    "        return values[np.argmax(boundaries > epoch) - 1]\n",
    "    return piecewise_constant_fn\n",
    "\n",
    "piecewise_constant_fn = piecewise_constant([5, 15], [0.01, 0.005, 0.001])"
   ]
  },
  {
   "cell_type": "code",
   "execution_count": 29,
   "id": "decfd2dd",
   "metadata": {},
   "outputs": [],
   "source": [
    "# 지수 기반 스케줄링에서 설계한 것과 동일\n",
    "model = keras.models.Sequential([\n",
    "    keras.layers.Flatten(input_shape=[28, 28]), \n",
    "    keras.layers.Dense(300, activation='selu', kernel_initializer='lecun_normal'), \n",
    "    keras.layers.Dense(100, activation='selu', kernel_initializer='lecun_normal'), \n",
    "    keras.layers.Dense(10, activation='softmax')\n",
    "])\n",
    "\n",
    "model.compile(loss='sparse_categorical_crossentropy', optimizer='nadam', metrics=['accuracy'])"
   ]
  },
  {
   "cell_type": "code",
   "execution_count": 30,
   "id": "96cedf4f",
   "metadata": {},
   "outputs": [
    {
     "name": "stdout",
     "output_type": "stream",
     "text": [
      "Epoch 1/25\n",
      "1719/1719 [==============================] - 8s 4ms/step - loss: 0.8255 - accuracy: 0.7608 - val_loss: 0.8349 - val_accuracy: 0.7540 - lr: 0.0100\n",
      "Epoch 2/25\n",
      "1719/1719 [==============================] - 6s 4ms/step - loss: 0.8640 - accuracy: 0.7464 - val_loss: 0.9273 - val_accuracy: 0.7240 - lr: 0.0100\n",
      "Epoch 3/25\n",
      "1719/1719 [==============================] - 7s 4ms/step - loss: 0.9321 - accuracy: 0.7277 - val_loss: 1.2761 - val_accuracy: 0.5386 - lr: 0.0100\n",
      "Epoch 4/25\n",
      "1719/1719 [==============================] - 6s 4ms/step - loss: 0.9224 - accuracy: 0.6943 - val_loss: 1.0150 - val_accuracy: 0.6848 - lr: 0.0100\n",
      "Epoch 5/25\n",
      "1719/1719 [==============================] - 6s 4ms/step - loss: 1.0136 - accuracy: 0.6731 - val_loss: 0.8957 - val_accuracy: 0.7058 - lr: 0.0100\n",
      "Epoch 6/25\n",
      "1719/1719 [==============================] - 6s 4ms/step - loss: 0.6614 - accuracy: 0.7710 - val_loss: 0.7379 - val_accuracy: 0.7916 - lr: 0.0050\n",
      "Epoch 7/25\n",
      "1719/1719 [==============================] - 6s 4ms/step - loss: 0.5901 - accuracy: 0.7991 - val_loss: 0.6982 - val_accuracy: 0.7750 - lr: 0.0050\n",
      "Epoch 8/25\n",
      "1719/1719 [==============================] - 6s 4ms/step - loss: 0.5419 - accuracy: 0.8171 - val_loss: 0.6617 - val_accuracy: 0.8300 - lr: 0.0050\n",
      "Epoch 9/25\n",
      "1719/1719 [==============================] - 6s 4ms/step - loss: 0.5295 - accuracy: 0.8167 - val_loss: 0.7281 - val_accuracy: 0.7886 - lr: 0.0050\n",
      "Epoch 10/25\n",
      "1719/1719 [==============================] - 7s 4ms/step - loss: 0.4916 - accuracy: 0.8288 - val_loss: 0.6819 - val_accuracy: 0.7916 - lr: 0.0050\n",
      "Epoch 11/25\n",
      "1719/1719 [==============================] - 6s 4ms/step - loss: 0.4867 - accuracy: 0.8306 - val_loss: 0.7000 - val_accuracy: 0.8350 - lr: 0.0050\n",
      "Epoch 12/25\n",
      "1719/1719 [==============================] - 6s 4ms/step - loss: 0.4800 - accuracy: 0.8350 - val_loss: 0.7404 - val_accuracy: 0.8358 - lr: 0.0050\n",
      "Epoch 13/25\n",
      "1719/1719 [==============================] - 7s 4ms/step - loss: 0.4732 - accuracy: 0.8385 - val_loss: 0.7486 - val_accuracy: 0.7860 - lr: 0.0050\n",
      "Epoch 14/25\n",
      "1719/1719 [==============================] - 7s 4ms/step - loss: 0.4663 - accuracy: 0.8409 - val_loss: 0.6919 - val_accuracy: 0.8226 - lr: 0.0050\n",
      "Epoch 15/25\n",
      "1719/1719 [==============================] - 7s 4ms/step - loss: 0.4685 - accuracy: 0.8434 - val_loss: 0.6892 - val_accuracy: 0.8326 - lr: 0.0050\n",
      "Epoch 16/25\n",
      "1719/1719 [==============================] - 7s 4ms/step - loss: 0.3330 - accuracy: 0.8843 - val_loss: 0.5876 - val_accuracy: 0.8606 - lr: 0.0010\n",
      "Epoch 17/25\n",
      "1719/1719 [==============================] - 7s 4ms/step - loss: 0.3116 - accuracy: 0.8912 - val_loss: 0.5989 - val_accuracy: 0.8586 - lr: 0.0010\n",
      "Epoch 18/25\n",
      "1719/1719 [==============================] - 7s 4ms/step - loss: 0.2991 - accuracy: 0.8929 - val_loss: 0.6034 - val_accuracy: 0.8610 - lr: 0.0010\n",
      "Epoch 19/25\n",
      "1719/1719 [==============================] - 7s 4ms/step - loss: 0.2891 - accuracy: 0.8973 - val_loss: 0.5903 - val_accuracy: 0.8654 - lr: 0.0010\n",
      "Epoch 20/25\n",
      "1719/1719 [==============================] - 7s 4ms/step - loss: 0.2783 - accuracy: 0.9024 - val_loss: 0.6083 - val_accuracy: 0.8662 - lr: 0.0010\n",
      "Epoch 21/25\n",
      "1719/1719 [==============================] - 7s 4ms/step - loss: 0.2702 - accuracy: 0.9050 - val_loss: 0.6434 - val_accuracy: 0.8550 - lr: 0.0010\n",
      "Epoch 22/25\n",
      "1719/1719 [==============================] - 7s 4ms/step - loss: 0.2641 - accuracy: 0.9073 - val_loss: 0.6457 - val_accuracy: 0.8626 - lr: 0.0010\n",
      "Epoch 23/25\n",
      "1719/1719 [==============================] - 7s 4ms/step - loss: 0.2558 - accuracy: 0.9116 - val_loss: 0.6556 - val_accuracy: 0.8652 - lr: 0.0010\n",
      "Epoch 24/25\n",
      "1719/1719 [==============================] - 7s 4ms/step - loss: 0.2491 - accuracy: 0.9143 - val_loss: 0.6629 - val_accuracy: 0.8668 - lr: 0.0010\n",
      "Epoch 25/25\n",
      "1719/1719 [==============================] - 7s 4ms/step - loss: 0.2408 - accuracy: 0.9179 - val_loss: 0.6683 - val_accuracy: 0.8594 - lr: 0.0010\n"
     ]
    }
   ],
   "source": [
    "# 위에서 정의한 구간별 고정 스케줄링 함수를 전달하여 LearningRateScheduler 콜백 생성\n",
    "lr_scheduler = keras.callbacks.LearningRateScheduler(piecewise_constant_fn)\n",
    "n_epochs=25\n",
    "\n",
    "# 그리고 이 콜백을 fit() 메서드에 전달\n",
    "history = model.fit(X_train_scaled, y_train, epochs=n_epochs, \n",
    "                   validation_data=(X_valid_scaled, y_valid), \n",
    "                   callbacks=[lr_scheduler])"
   ]
  },
  {
   "cell_type": "code",
   "execution_count": 31,
   "id": "24c6e5a3",
   "metadata": {},
   "outputs": [
    {
     "data": {
      "image/png": "[encoded data removed]",
      "text/plain": [
       "<Figure size 432x288 with 1 Axes>"
      ]
     },
     "metadata": {
      "needs_background": "light"
     },
     "output_type": "display_data"
    }
   ],
   "source": [
    "# 구간별 고정 스케줄링의 학습률 그래프 출력\n",
    "plt.plot(history.epoch, [piecewise_constant_fn(epoch) for epoch in history.epoch], 'o-')\n",
    "plt.axis([0, n_epochs - 1, 0, 0.011])\n",
    "plt.xlabel(\"Epoch\")\n",
    "plt.ylabel(\"Learning Rate\")\n",
    "plt.title(\"Piecewise Constant Scheduling\", fontsize=14)\n",
    "plt.grid(True)\n",
    "plt.show()"
   ]
  },
  {
   "cell_type": "markdown",
   "id": "d5e9c519",
   "metadata": {},
   "source": [
    "### 성능 기반 스케줄링(performance scheduling)"
   ]
  },
  {
   "cell_type": "markdown",
   "id": "cbec3967",
   "metadata": {},
   "source": [
    "매 N 스텝마다 **마치 조기 종료처럼** 검증 오차를 측정하고 **오차가 줄어들지 않으면 $\\lambda$배만큼 학습률을 감소**시키는 방식"
   ]
  },
  {
   "cell_type": "code",
   "execution_count": 32,
   "id": "e6a8b4e4",
   "metadata": {},
   "outputs": [],
   "source": [
    "# 랜덤 시드 42로 고정\n",
    "tf.random.set_seed(42)\n",
    "np.random.seed(42)\n",
    "\n",
    "# 모델은 옵티마이저 부분만 모멘텀 최적화로 변경됨\n",
    "model = keras.models.Sequential([\n",
    "    keras.layers.Flatten(input_shape=[28, 28]),\n",
    "    keras.layers.Dense(300, activation=\"selu\", kernel_initializer=\"lecun_normal\"),\n",
    "    keras.layers.Dense(100, activation=\"selu\", kernel_initializer=\"lecun_normal\"),\n",
    "    keras.layers.Dense(10, activation=\"softmax\")\n",
    "])\n",
    "optimizer = keras.optimizers.SGD(learning_rate=0.02, momentum=0.9)\n",
    "model.compile(loss=\"sparse_categorical_crossentropy\", optimizer=optimizer, metrics=[\"accuracy\"])"
   ]
  },
  {
   "cell_type": "code",
   "execution_count": 33,
   "id": "ec026dc2",
   "metadata": {},
   "outputs": [
    {
     "name": "stdout",
     "output_type": "stream",
     "text": [
      "Epoch 1/25\n",
      "1719/1719 [==============================] - 6s 3ms/step - loss: 0.5967 - accuracy: 0.8036 - val_loss: 0.4901 - val_accuracy: 0.8494 - lr: 0.0200\n",
      "Epoch 2/25\n",
      "1719/1719 [==============================] - 5s 3ms/step - loss: 0.4936 - accuracy: 0.8408 - val_loss: 0.5468 - val_accuracy: 0.8420 - lr: 0.0200\n",
      "Epoch 3/25\n",
      "1719/1719 [==============================] - 5s 3ms/step - loss: 0.5204 - accuracy: 0.8400 - val_loss: 0.5637 - val_accuracy: 0.8464 - lr: 0.0200\n",
      "Epoch 4/25\n",
      "1719/1719 [==============================] - 5s 3ms/step - loss: 0.5029 - accuracy: 0.8489 - val_loss: 0.5661 - val_accuracy: 0.8398 - lr: 0.0200\n",
      "Epoch 5/25\n",
      "1719/1719 [==============================] - 5s 3ms/step - loss: 0.5302 - accuracy: 0.8470 - val_loss: 0.5788 - val_accuracy: 0.8350 - lr: 0.0200\n",
      "Epoch 6/25\n",
      "1719/1719 [==============================] - 5s 3ms/step - loss: 0.5224 - accuracy: 0.8534 - val_loss: 0.6985 - val_accuracy: 0.8416 - lr: 0.0200\n",
      "Epoch 7/25\n",
      "1719/1719 [==============================] - 5s 3ms/step - loss: 0.3126 - accuracy: 0.8903 - val_loss: 0.4009 - val_accuracy: 0.8718 - lr: 0.0100\n",
      "Epoch 8/25\n",
      "1719/1719 [==============================] - 5s 3ms/step - loss: 0.2686 - accuracy: 0.9027 - val_loss: 0.3823 - val_accuracy: 0.8770 - lr: 0.0100\n",
      "Epoch 9/25\n",
      "1719/1719 [==============================] - 5s 3ms/step - loss: 0.2398 - accuracy: 0.9113 - val_loss: 0.4152 - val_accuracy: 0.8724 - lr: 0.0100\n",
      "Epoch 10/25\n",
      "1719/1719 [==============================] - 5s 3ms/step - loss: 0.2239 - accuracy: 0.9170 - val_loss: 0.4201 - val_accuracy: 0.8844 - lr: 0.0100\n",
      "Epoch 11/25\n",
      "1719/1719 [==============================] - 5s 3ms/step - loss: 0.2113 - accuracy: 0.9221 - val_loss: 0.3896 - val_accuracy: 0.8878 - lr: 0.0100\n",
      "Epoch 12/25\n",
      "1719/1719 [==============================] - 5s 3ms/step - loss: 0.2012 - accuracy: 0.9251 - val_loss: 0.4403 - val_accuracy: 0.8782 - lr: 0.0100\n",
      "Epoch 13/25\n",
      "1719/1719 [==============================] - 5s 3ms/step - loss: 0.1876 - accuracy: 0.9303 - val_loss: 0.4104 - val_accuracy: 0.8940 - lr: 0.0100\n",
      "Epoch 14/25\n",
      "1719/1719 [==============================] - 5s 3ms/step - loss: 0.1309 - accuracy: 0.9487 - val_loss: 0.3876 - val_accuracy: 0.8904 - lr: 0.0050\n",
      "Epoch 15/25\n",
      "1719/1719 [==============================] - 5s 3ms/step - loss: 0.1163 - accuracy: 0.9546 - val_loss: 0.4112 - val_accuracy: 0.8902 - lr: 0.0050\n",
      "Epoch 16/25\n",
      "1719/1719 [==============================] - 5s 3ms/step - loss: 0.1070 - accuracy: 0.9579 - val_loss: 0.4173 - val_accuracy: 0.8934 - lr: 0.0050\n",
      "Epoch 17/25\n",
      "1719/1719 [==============================] - 5s 3ms/step - loss: 0.1005 - accuracy: 0.9614 - val_loss: 0.4442 - val_accuracy: 0.8940 - lr: 0.0050\n",
      "Epoch 18/25\n",
      "1719/1719 [==============================] - 5s 3ms/step - loss: 0.0928 - accuracy: 0.9639 - val_loss: 0.4405 - val_accuracy: 0.8932 - lr: 0.0050\n",
      "Epoch 19/25\n",
      "1719/1719 [==============================] - 5s 3ms/step - loss: 0.0718 - accuracy: 0.9740 - val_loss: 0.4542 - val_accuracy: 0.8972 - lr: 0.0025\n",
      "Epoch 20/25\n",
      "1719/1719 [==============================] - 5s 3ms/step - loss: 0.0648 - accuracy: 0.9762 - val_loss: 0.4702 - val_accuracy: 0.8970 - lr: 0.0025\n",
      "Epoch 21/25\n",
      "1719/1719 [==============================] - 5s 3ms/step - loss: 0.0613 - accuracy: 0.9779 - val_loss: 0.4787 - val_accuracy: 0.8958 - lr: 0.0025\n",
      "Epoch 22/25\n",
      "1719/1719 [==============================] - 5s 3ms/step - loss: 0.0576 - accuracy: 0.9795 - val_loss: 0.5039 - val_accuracy: 0.8966 - lr: 0.0025\n",
      "Epoch 23/25\n",
      "1719/1719 [==============================] - 5s 3ms/step - loss: 0.0544 - accuracy: 0.9805 - val_loss: 0.4995 - val_accuracy: 0.8940 - lr: 0.0025\n",
      "Epoch 24/25\n",
      "1719/1719 [==============================] - 5s 3ms/step - loss: 0.0457 - accuracy: 0.9846 - val_loss: 0.5161 - val_accuracy: 0.8940 - lr: 0.0012\n",
      "Epoch 25/25\n",
      "1719/1719 [==============================] - 5s 3ms/step - loss: 0.0435 - accuracy: 0.9859 - val_loss: 0.5249 - val_accuracy: 0.8944 - lr: 0.0012\n"
     ]
    }
   ],
   "source": [
    "# 성능 기반 스케줄링을 위해서는 ReduceLROnPlateau 콜백을 사용함\n",
    "lr_scheduler = keras.callbacks.ReduceLROnPlateau(factor=0.5, patience=5)\n",
    "n_epochs = 25\n",
    "\n",
    "history = model.fit(X_train_scaled, y_train, epochs=n_epochs,\n",
    "                    validation_data=(X_valid_scaled, y_valid),\n",
    "                    callbacks=[lr_scheduler])"
   ]
  },
  {
   "cell_type": "code",
   "execution_count": 34,
   "id": "877098ca",
   "metadata": {},
   "outputs": [
    {
     "data": {
      "image/png": "[encoded data removed]",
      "text/plain": [
       "<Figure size 432x288 with 2 Axes>"
      ]
     },
     "metadata": {
      "needs_background": "light"
     },
     "output_type": "display_data"
    }
   ],
   "source": [
    "# 성능 기반 스케줄링의 학습률 그래프 출력\n",
    "plt.plot(history.epoch, history.history[\"lr\"], \"bo-\")\n",
    "plt.xlabel(\"Epoch\")\n",
    "plt.ylabel(\"Learning Rate\", color='b')\n",
    "plt.tick_params('y', colors='b')\n",
    "plt.gca().set_xlim(0, n_epochs - 1)\n",
    "plt.grid(True)\n",
    "\n",
    "ax2 = plt.gca().twinx()\n",
    "ax2.plot(history.epoch, history.history[\"val_loss\"], \"r^-\")\n",
    "ax2.set_ylabel('Validation Loss', color='r')\n",
    "ax2.tick_params('y', colors='r')\n",
    "\n",
    "plt.title(\"Reduce LR on Plateau\", fontsize=14)\n",
    "plt.show()"
   ]
  },
  {
   "cell_type": "markdown",
   "id": "643b35d0",
   "metadata": {},
   "source": [
    "### tf.keras 스케줄러(tf.keras.optimizers.schedules)"
   ]
  },
  {
   "cell_type": "markdown",
   "id": "20dc1124",
   "metadata": {},
   "source": [
    "`keras.optimizers.schedules`에 있는 스케줄 중에 하나를 사용해 학습률을 정의하고 이 학습률을 옵티마이저에 전달하여 매 스텝마다 학습률을 업데이트하는 방식"
   ]
  },
  {
   "cell_type": "code",
   "execution_count": 35,
   "id": "1dc32c25",
   "metadata": {},
   "outputs": [],
   "source": [
    "model = keras.models.Sequential([\n",
    "    keras.layers.Flatten(input_shape=[28, 28]),\n",
    "    keras.layers.Dense(300, activation=\"selu\", kernel_initializer=\"lecun_normal\"),\n",
    "    keras.layers.Dense(100, activation=\"selu\", kernel_initializer=\"lecun_normal\"),\n",
    "    keras.layers.Dense(10, activation=\"softmax\")\n",
    "])\n",
    "s = 20 * len(X_train) // 32 # 20번의 epoch 동안의 스텝 수(batch_size=32)\n",
    "\n",
    "# 이 부분이 바로 tf.keras 스케줄러를 설정하는 부분!\n",
    "learning_rate = keras.optimizers.schedules.ExponentialDecay(0.01, s, 0.1)\n",
    "# 설정한 스케줄러의 학습률을 SGD 옵티마이저에 지정\n",
    "optimizer = keras.optimizers.SGD(learning_rate)\n",
    "\n",
    "model.compile(loss=\"sparse_categorical_crossentropy\", optimizer=optimizer, metrics=[\"accuracy\"])"
   ]
  },
  {
   "cell_type": "code",
   "execution_count": 36,
   "id": "20ff59e9",
   "metadata": {},
   "outputs": [
    {
     "name": "stdout",
     "output_type": "stream",
     "text": [
      "Epoch 1/25\n",
      "1719/1719 [==============================] - 5s 3ms/step - loss: 0.4908 - accuracy: 0.8273 - val_loss: 0.4052 - val_accuracy: 0.8584\n",
      "Epoch 2/25\n",
      "1719/1719 [==============================] - 5s 3ms/step - loss: 0.3789 - accuracy: 0.8655 - val_loss: 0.3731 - val_accuracy: 0.8706\n",
      "Epoch 3/25\n",
      "1719/1719 [==============================] - 5s 3ms/step - loss: 0.3443 - accuracy: 0.8781 - val_loss: 0.3742 - val_accuracy: 0.8690\n",
      "Epoch 4/25\n",
      "1719/1719 [==============================] - 5s 3ms/step - loss: 0.3221 - accuracy: 0.8854 - val_loss: 0.3502 - val_accuracy: 0.8778\n",
      "Epoch 5/25\n",
      "1719/1719 [==============================] - 5s 3ms/step - loss: 0.3064 - accuracy: 0.8907 - val_loss: 0.3441 - val_accuracy: 0.8780\n",
      "Epoch 6/25\n",
      "1719/1719 [==============================] - 5s 3ms/step - loss: 0.2925 - accuracy: 0.8953 - val_loss: 0.3410 - val_accuracy: 0.8774\n",
      "Epoch 7/25\n",
      "1719/1719 [==============================] - 5s 3ms/step - loss: 0.2823 - accuracy: 0.8995 - val_loss: 0.3361 - val_accuracy: 0.8812\n",
      "Epoch 8/25\n",
      "1719/1719 [==============================] - 5s 3ms/step - loss: 0.2733 - accuracy: 0.9021 - val_loss: 0.3393 - val_accuracy: 0.8778\n",
      "Epoch 9/25\n",
      "1719/1719 [==============================] - 5s 3ms/step - loss: 0.2654 - accuracy: 0.9047 - val_loss: 0.3309 - val_accuracy: 0.8812\n",
      "Epoch 10/25\n",
      "1719/1719 [==============================] - 5s 3ms/step - loss: 0.2586 - accuracy: 0.9079 - val_loss: 0.3282 - val_accuracy: 0.8832\n",
      "Epoch 11/25\n",
      "1719/1719 [==============================] - 4s 3ms/step - loss: 0.2532 - accuracy: 0.9099 - val_loss: 0.3278 - val_accuracy: 0.8836\n",
      "Epoch 12/25\n",
      "1719/1719 [==============================] - 5s 3ms/step - loss: 0.2481 - accuracy: 0.9130 - val_loss: 0.3336 - val_accuracy: 0.8792\n",
      "Epoch 13/25\n",
      "1719/1719 [==============================] - 5s 3ms/step - loss: 0.2435 - accuracy: 0.9147 - val_loss: 0.3255 - val_accuracy: 0.8856\n",
      "Epoch 14/25\n",
      "1719/1719 [==============================] - 5s 3ms/step - loss: 0.2401 - accuracy: 0.9156 - val_loss: 0.3283 - val_accuracy: 0.8852\n",
      "Epoch 15/25\n",
      "1719/1719 [==============================] - 5s 3ms/step - loss: 0.2362 - accuracy: 0.9176 - val_loss: 0.3254 - val_accuracy: 0.8828\n",
      "Epoch 16/25\n",
      "1719/1719 [==============================] - 5s 3ms/step - loss: 0.2332 - accuracy: 0.9180 - val_loss: 0.3240 - val_accuracy: 0.8846\n",
      "Epoch 17/25\n",
      "1719/1719 [==============================] - 5s 3ms/step - loss: 0.2306 - accuracy: 0.9192 - val_loss: 0.3256 - val_accuracy: 0.8868\n",
      "Epoch 18/25\n",
      "1719/1719 [==============================] - 5s 3ms/step - loss: 0.2280 - accuracy: 0.9207 - val_loss: 0.3227 - val_accuracy: 0.8858\n",
      "Epoch 19/25\n",
      "1719/1719 [==============================] - 4s 3ms/step - loss: 0.2260 - accuracy: 0.9209 - val_loss: 0.3256 - val_accuracy: 0.8874\n",
      "Epoch 20/25\n",
      "1719/1719 [==============================] - 4s 3ms/step - loss: 0.2241 - accuracy: 0.9219 - val_loss: 0.3229 - val_accuracy: 0.8864\n",
      "Epoch 21/25\n",
      "1719/1719 [==============================] - 5s 3ms/step - loss: 0.2220 - accuracy: 0.9233 - val_loss: 0.3237 - val_accuracy: 0.8876\n",
      "Epoch 22/25\n",
      "1719/1719 [==============================] - 5s 3ms/step - loss: 0.2208 - accuracy: 0.9235 - val_loss: 0.3230 - val_accuracy: 0.8872\n",
      "Epoch 23/25\n",
      "1719/1719 [==============================] - 5s 3ms/step - loss: 0.2192 - accuracy: 0.9240 - val_loss: 0.3236 - val_accuracy: 0.8852\n",
      "Epoch 24/25\n",
      "1719/1719 [==============================] - 5s 3ms/step - loss: 0.2180 - accuracy: 0.9240 - val_loss: 0.3227 - val_accuracy: 0.8892\n",
      "Epoch 25/25\n",
      "1719/1719 [==============================] - 5s 3ms/step - loss: 0.2172 - accuracy: 0.9247 - val_loss: 0.3230 - val_accuracy: 0.8870\n"
     ]
    }
   ],
   "source": [
    "n_epochs = 25\n",
    "history = model.fit(X_train_scaled, y_train, epochs=n_epochs,\n",
    "                    validation_data=(X_valid_scaled, y_valid))"
   ]
  },
  {
   "cell_type": "markdown",
   "id": "0df0eea6",
   "metadata": {},
   "source": [
    "`keras.optimizers.schedules`에는 다음과 같이 구간별 고정 스케줄링 방식도 제공하고 있음:"
   ]
  },
  {
   "cell_type": "code",
   "execution_count": 37,
   "id": "6f2746d2",
   "metadata": {},
   "outputs": [],
   "source": [
    "learning_rate = keras.optimizers.schedules.PiecewiseConstantDecay(\n",
    "    boundaries=[5. * n_steps_per_epoch, 15. * n_steps_per_epoch],\n",
    "    values=[0.01, 0.005, 0.001])"
   ]
  },
  {
   "cell_type": "markdown",
   "id": "3faaad43",
   "metadata": {},
   "source": [
    "아래 코드는 1사이클 스케줄링에 들어있었는데, 내용은 **지수 기반 스케줄링**으로 보여 이곳에 작성함:"
   ]
  },
  {
   "cell_type": "code",
   "execution_count": 38,
   "id": "add38e4f",
   "metadata": {},
   "outputs": [],
   "source": [
    "K = keras.backend\n",
    "\n",
    "# 이 부분은 경고에 있던 수정된 클래스로 바로 작성함\n",
    "class ExponentialLearningRate(keras.callbacks.Callback):\n",
    "    def __init__(self, factor):\n",
    "        self.factor = factor\n",
    "        self.rates = []\n",
    "        self.losses = []\n",
    "    def on_epoch_begin(self, epoch, logs=None):\n",
    "        self.prev_loss = 0\n",
    "    def on_batch_end(self, batch, logs=None):\n",
    "        batch_loss = logs['loss'] * (batch + 1) - self.prev_loss * batch\n",
    "        self.prev_loss = logs['loss']\n",
    "        self.rates.append(K.get_value(self.model.optimizer.lr))\n",
    "        self.losses.append(batch_loss)\n",
    "        K.set_value(self.model.optimizer.lr, self.model.optimizer.lr * self.factor)\n",
    "        \n",
    "def find_learning_rate(model, X, y, epochs=1, batch_size=32, min_rate=10**-5, max_rate=10):\n",
    "    init_weights = model.get_weights()\n",
    "    iterations = math.ceil(len(X) / batch_size) * epochs\n",
    "    factor = np.exp(np.log(max_rate / min_rate) / iterations)\n",
    "    init_lr = K.get_value(model.optimizer.lr)\n",
    "    K.set_value(model.optimizer.lr, min_rate)\n",
    "    exp_lr = ExponentialLearningRate(factor) # 앞서 작성한 클래스 호출\n",
    "    history = model.fit(X, y, epochs=epochs, batch_size=batch_size,\n",
    "                       callbacks=[exp_lr]) # 콜백에 사용자 정의 학습률 적용\n",
    "    K.set_value(model.optimizer.lr, init_lr)\n",
    "    model.set_weights(init_weights)\n",
    "    return exp_lr.rates, exp_lr.losses\n",
    "\n",
    "def plot_lr_vs_loss(rates, losses):\n",
    "    plt.plot(rates, losses)\n",
    "    plt.gca().set_xscale('log')\n",
    "    plt.hlines(min(losses), min(rates), max(rates))\n",
    "    plt.axis([min(rates), max(rates), min(losses), (losses[0] + min(losses)) / 2])\n",
    "    plt.xlabel(\"Learning rate\")\n",
    "    plt.ylabel(\"Loss\")"
   ]
  },
  {
   "cell_type": "code",
   "execution_count": 39,
   "id": "1602baaa",
   "metadata": {},
   "outputs": [],
   "source": [
    "tf.random.set_seed(42)\n",
    "np.random.seed(42)\n",
    "\n",
    "model = keras.models.Sequential([\n",
    "    keras.layers.Flatten(input_shape=[28, 28]),\n",
    "    keras.layers.Dense(300, activation=\"selu\", kernel_initializer=\"lecun_normal\"),\n",
    "    keras.layers.Dense(100, activation=\"selu\", kernel_initializer=\"lecun_normal\"),\n",
    "    keras.layers.Dense(10, activation=\"softmax\")\n",
    "])\n",
    "model.compile(loss=\"sparse_categorical_crossentropy\",\n",
    "              optimizer=keras.optimizers.SGD(learning_rate=1e-3),\n",
    "              metrics=[\"accuracy\"])"
   ]
  },
  {
   "cell_type": "code",
   "execution_count": 40,
   "id": "d46b1f25",
   "metadata": {},
   "outputs": [
    {
     "name": "stdout",
     "output_type": "stream",
     "text": [
      "430/430 [==============================] - 2s 4ms/step - loss: nan - accuracy: 0.3815\n"
     ]
    },
    {
     "data": {
      "image/png": "[encoded data removed]",
      "text/plain": [
       "<Figure size 432x288 with 1 Axes>"
      ]
     },
     "metadata": {
      "needs_background": "light"
     },
     "output_type": "display_data"
    }
   ],
   "source": [
    "batch_size = 128\n",
    "rates, losses = find_learning_rate(model, X_train_scaled, y_train, epochs=1, batch_size=batch_size)\n",
    "plot_lr_vs_loss(rates, losses)"
   ]
  },
  {
   "cell_type": "markdown",
   "id": "18ea8b08",
   "metadata": {},
   "source": [
    "### 1사이클 스케줄링"
   ]
  },
  {
   "cell_type": "markdown",
   "id": "3971cdd5",
   "metadata": {},
   "source": [
    "훈련 절반 동안 초기 학습률을 선형적으로 최대 학습률까지 증가시킨 뒤, 나머지 절반 동안 선형적으로 학습률을 초기 학습률까지 다시 줄이고 마지막 몇 번의 에포크는 학습률을 소수점 몇 째 자리까지 줄이는 방식  \n",
    "\n",
    "많은 실험을 통해 이 방식이 **훈련 속도를 크게 늘려주고 더 높은 성능을 낸다**는 것을 보였다고 함"
   ]
  },
  {
   "cell_type": "code",
   "execution_count": 41,
   "id": "b11659fe",
   "metadata": {},
   "outputs": [],
   "source": [
    "# 1사이클 스케줄링을 위한 클래스 정의\n",
    "class OneCycleScheduler(keras.callbacks.Callback):\n",
    "    def __init__(self, iterations, max_rate, start_rate=None, \n",
    "                last_iterations=None, last_rate=None):\n",
    "        # 아래처럼 모든 것을 직접 지정함\n",
    "        self.iterations = iterations\n",
    "        self.max_rate = max_rate\n",
    "        self.start_rate = start_rate or max_rate / 10\n",
    "        self.last_iterations = last_iterations or iterations // 10 + 1\n",
    "        self.half_iteration = (iterations - self.last_iterations) // 2\n",
    "        self.last_rate = last_rate or self.start_rate / 1000\n",
    "        self.iteration = 0\n",
    "        \n",
    "    def _interpolate(self, iter1, iter2, rate1, rate2):\n",
    "        return ((rate2 - rate1) * (self.iteration - iter1) \n",
    "               / (iter2 - iter1) + rate1)\n",
    "    \n",
    "    def on_batch_begin(self, batch, logs):\n",
    "        if self.iteration < self.half_iteration:\n",
    "            rate = self._interpolate(0, self.half_iteration, self.start_rate, self.max_rate)\n",
    "        elif self.iteration < 2 * self.half_iteration:\n",
    "            rate = self._interpolate(self.half_iteration, 2 * self.half_iteration, \n",
    "                                    self.max_rate, self.start_rate)\n",
    "        else:\n",
    "            rate = self._interpolate(2 * self.half_iteration, self.iterations,\n",
    "                                    self.start_rate, self.last_rate)\n",
    "        self.iteration += 1\n",
    "        K.set_value(self.model.optimizer.lr, rate)"
   ]
  },
  {
   "cell_type": "code",
   "execution_count": 42,
   "id": "3842e0d2",
   "metadata": {},
   "outputs": [
    {
     "name": "stdout",
     "output_type": "stream",
     "text": [
      "Epoch 1/25\n",
      "430/430 [==============================] - 2s 5ms/step - loss: 0.6582 - accuracy: 0.7693 - val_loss: 0.4793 - val_accuracy: 0.8356\n",
      "Epoch 2/25\n",
      "430/430 [==============================] - 2s 4ms/step - loss: 0.4520 - accuracy: 0.8420 - val_loss: 0.4235 - val_accuracy: 0.8502\n",
      "Epoch 3/25\n",
      "430/430 [==============================] - 2s 4ms/step - loss: 0.4068 - accuracy: 0.8574 - val_loss: 0.4091 - val_accuracy: 0.8578\n",
      "Epoch 4/25\n",
      "430/430 [==============================] - 2s 4ms/step - loss: 0.3782 - accuracy: 0.8667 - val_loss: 0.3858 - val_accuracy: 0.8658\n",
      "Epoch 5/25\n",
      "430/430 [==============================] - 2s 4ms/step - loss: 0.3576 - accuracy: 0.8743 - val_loss: 0.3685 - val_accuracy: 0.8710\n",
      "Epoch 6/25\n",
      "430/430 [==============================] - 2s 4ms/step - loss: 0.3386 - accuracy: 0.8801 - val_loss: 0.3629 - val_accuracy: 0.8746\n",
      "Epoch 7/25\n",
      "430/430 [==============================] - 2s 4ms/step - loss: 0.3254 - accuracy: 0.8846 - val_loss: 0.3558 - val_accuracy: 0.8770\n",
      "Epoch 8/25\n",
      "430/430 [==============================] - 2s 4ms/step - loss: 0.3100 - accuracy: 0.8888 - val_loss: 0.3877 - val_accuracy: 0.8628\n",
      "Epoch 9/25\n",
      "430/430 [==============================] - 2s 4ms/step - loss: 0.2985 - accuracy: 0.8917 - val_loss: 0.3444 - val_accuracy: 0.8778\n",
      "Epoch 10/25\n",
      "430/430 [==============================] - 2s 4ms/step - loss: 0.2865 - accuracy: 0.8959 - val_loss: 0.3305 - val_accuracy: 0.8812\n",
      "Epoch 11/25\n",
      "430/430 [==============================] - 2s 4ms/step - loss: 0.2745 - accuracy: 0.9002 - val_loss: 0.3396 - val_accuracy: 0.8794\n",
      "Epoch 12/25\n",
      "430/430 [==============================] - 2s 4ms/step - loss: 0.2619 - accuracy: 0.9057 - val_loss: 0.3570 - val_accuracy: 0.8738\n",
      "Epoch 13/25\n",
      "430/430 [==============================] - 2s 4ms/step - loss: 0.2455 - accuracy: 0.9113 - val_loss: 0.3254 - val_accuracy: 0.8884\n",
      "Epoch 14/25\n",
      "430/430 [==============================] - 2s 4ms/step - loss: 0.2325 - accuracy: 0.9156 - val_loss: 0.3361 - val_accuracy: 0.8822\n",
      "Epoch 15/25\n",
      "430/430 [==============================] - 2s 4ms/step - loss: 0.2202 - accuracy: 0.9216 - val_loss: 0.3221 - val_accuracy: 0.8856\n",
      "Epoch 16/25\n",
      "430/430 [==============================] - 2s 4ms/step - loss: 0.2087 - accuracy: 0.9265 - val_loss: 0.3237 - val_accuracy: 0.8880\n",
      "Epoch 17/25\n",
      "430/430 [==============================] - 2s 4ms/step - loss: 0.1987 - accuracy: 0.9295 - val_loss: 0.3305 - val_accuracy: 0.8900\n",
      "Epoch 18/25\n",
      "430/430 [==============================] - 2s 4ms/step - loss: 0.1905 - accuracy: 0.9334 - val_loss: 0.3203 - val_accuracy: 0.8904\n",
      "Epoch 19/25\n",
      "430/430 [==============================] - 2s 4ms/step - loss: 0.1825 - accuracy: 0.9371 - val_loss: 0.3208 - val_accuracy: 0.8924\n",
      "Epoch 20/25\n",
      "430/430 [==============================] - 2s 4ms/step - loss: 0.1757 - accuracy: 0.9401 - val_loss: 0.3178 - val_accuracy: 0.8902\n",
      "Epoch 21/25\n",
      "430/430 [==============================] - 2s 4ms/step - loss: 0.1689 - accuracy: 0.9428 - val_loss: 0.3176 - val_accuracy: 0.8916\n",
      "Epoch 22/25\n",
      "430/430 [==============================] - 2s 4ms/step - loss: 0.1641 - accuracy: 0.9451 - val_loss: 0.3150 - val_accuracy: 0.8936\n",
      "Epoch 23/25\n",
      "430/430 [==============================] - 2s 4ms/step - loss: 0.1597 - accuracy: 0.9474 - val_loss: 0.3144 - val_accuracy: 0.8934\n",
      "Epoch 24/25\n",
      "430/430 [==============================] - 2s 4ms/step - loss: 0.1569 - accuracy: 0.9481 - val_loss: 0.3148 - val_accuracy: 0.8950\n",
      "Epoch 25/25\n",
      "430/430 [==============================] - 2s 4ms/step - loss: 0.1552 - accuracy: 0.9491 - val_loss: 0.3136 - val_accuracy: 0.8956\n"
     ]
    }
   ],
   "source": [
    "# 1사이클 스케줄링을 위해 앞에서 정의한 클래스를 가져와 콜백으로 사용\n",
    "onecycle=OneCycleScheduler(math.ceil(len(X_train) / batch_size) * n_epochs, max_rate=0.05)\n",
    "n_epochs=25\n",
    "\n",
    "history = model.fit(X_train_scaled, y_train, epochs=n_epochs, batch_size=batch_size,\n",
    "                    validation_data=(X_valid_scaled, y_valid),\n",
    "                    callbacks=[onecycle])"
   ]
  },
  {
   "cell_type": "markdown",
   "id": "6c175007",
   "metadata": {},
   "source": [
    "# 11.4 규제를 사용해 과대적합 피하기"
   ]
  },
  {
   "cell_type": "markdown",
   "id": "cbd13bb6",
   "metadata": {},
   "source": [
    "심층 신경망 네트워크의 높은 자유도는  대규모의 복잡한 데이터셋을 학습할 수 있지만, 이 높은 자유도가 네트워크를 훈련 세트에 과대적합되기 쉽게 만듦  \n",
    "\n",
    "따라서 다음과 같은 적절한 규제들이 필요함:"
   ]
  },
  {
   "cell_type": "markdown",
   "id": "89b3f0b9",
   "metadata": {},
   "source": [
    "## 11.4.1 L1과 L2 규제"
   ]
  },
  {
   "cell_type": "markdown",
   "id": "7acd46ee",
   "metadata": {},
   "source": [
    "- **L1 규제**: 손실 함수에 가중치의 절대값인 L1 norm을 더하는 규제\n",
    "- **L2 규제**: 손실 함수에 가중치에 대한 L2 norm의 제곱을 더하는 규제"
   ]
  },
  {
   "cell_type": "markdown",
   "id": "22b6358e",
   "metadata": {},
   "source": [
    "패션 MNIST 데이터 다시 로드"
   ]
  },
  {
   "cell_type": "code",
   "execution_count": 4,
   "id": "a6845e56",
   "metadata": {},
   "outputs": [],
   "source": [
    "(X_train_full, y_train_full), (X_test, y_test) = keras.datasets.fashion_mnist.load_data()\n",
    "X_train_full = X_train_full / 255.0\n",
    "X_test = X_test / 255.0\n",
    "X_valid, X_train = X_train_full[:5000], X_train_full[5000:]\n",
    "y_valid, y_train = y_train_full[:5000], y_train_full[5000:]\n",
    "\n",
    "pixel_means = X_train.mean(axis=0, keepdims=True)\n",
    "pixel_stds = X_train.std(axis=0, keepdims=True)\n",
    "X_train_scaled = (X_train - pixel_means) / pixel_stds\n",
    "X_valid_scaled = (X_valid - pixel_means) / pixel_stds\n",
    "X_test_scaled = (X_test - pixel_means) / pixel_stds"
   ]
  },
  {
   "cell_type": "code",
   "execution_count": 24,
   "id": "808405d4",
   "metadata": {},
   "outputs": [],
   "source": [
    "layer = keras.layers.Dense(100, activation=\"elu\",\n",
    "                           kernel_initializer=\"he_normal\",\n",
    "                           kernel_regularizer=keras.regularizers.l2(0.01))\n",
    "# l1 규제를 적용하고 싶다면 keras.regularizers.l1(0.01) 이런식으로 하면 됨\n",
    "# l1,l2 규제를 둘다 적용하려면 tf.keras.regularizers.l1_l2(l1=0.01, l2=0.01) 이런식으로 하면 됨"
   ]
  },
  {
   "cell_type": "code",
   "execution_count": 25,
   "id": "aadb8276",
   "metadata": {},
   "outputs": [
    {
     "name": "stdout",
     "output_type": "stream",
     "text": [
      "Epoch 1/2\n",
      "1719/1719 [==============================] - 8s 4ms/step - loss: 1.5971 - accuracy: 0.8117 - val_loss: 0.7199 - val_accuracy: 0.8306\n",
      "Epoch 2/2\n",
      "1719/1719 [==============================] - 8s 4ms/step - loss: 0.7159 - accuracy: 0.8287 - val_loss: 0.6780 - val_accuracy: 0.8392\n"
     ]
    }
   ],
   "source": [
    "# 규제를 가한 모델 쌓기\n",
    "model = keras.models.Sequential([\n",
    "    keras.layers.Flatten(input_shape=[28, 28]),\n",
    "    keras.layers.Dense(300, activation=\"elu\",\n",
    "                       kernel_initializer=\"he_normal\",\n",
    "                       kernel_regularizer=keras.regularizers.l2(0.01)), # l2 규제 적용 모습\n",
    "    keras.layers.Dense(100, activation=\"elu\",\n",
    "                       kernel_initializer=\"he_normal\",\n",
    "                       kernel_regularizer=keras.regularizers.l2(0.01)), # l2 규제 적용 모습\n",
    "    keras.layers.Dense(10, activation=\"softmax\",\n",
    "                       kernel_regularizer=keras.regularizers.l2(0.01)) # l2 규제 적용 모습\n",
    "])\n",
    "model.compile(loss=\"sparse_categorical_crossentropy\", optimizer=\"nadam\", metrics=[\"accuracy\"])\n",
    "n_epochs = 2\n",
    "history = model.fit(X_train_scaled, y_train, epochs=n_epochs,\n",
    "                    validation_data=(X_valid_scaled, y_valid))"
   ]
  },
  {
   "cell_type": "code",
   "execution_count": 26,
   "id": "356c5530",
   "metadata": {},
   "outputs": [
    {
     "name": "stdout",
     "output_type": "stream",
     "text": [
      "Epoch 1/2\n",
      "1719/1719 [==============================] - 7s 4ms/step - loss: 1.6640 - accuracy: 0.8137 - val_loss: 0.7191 - val_accuracy: 0.8326\n",
      "Epoch 2/2\n",
      "1719/1719 [==============================] - 6s 4ms/step - loss: 0.7186 - accuracy: 0.8281 - val_loss: 0.6829 - val_accuracy: 0.8394\n"
     ]
    }
   ],
   "source": [
    "from functools import partial\n",
    "\n",
    "# 모델 쌓을 때 코드를 좀더 깔끔하게 보기 위한 방법\n",
    "RegularizedDense = partial(keras.layers.Dense,\n",
    "                           activation=\"elu\",\n",
    "                           kernel_initializer=\"he_normal\",\n",
    "                           kernel_regularizer=keras.regularizers.l2(0.01))\n",
    "\n",
    "model = keras.models.Sequential([\n",
    "    keras.layers.Flatten(input_shape=[28, 28]),\n",
    "    RegularizedDense(300), # l2 규제 적용\n",
    "    RegularizedDense(100), # l2 규제 적용\n",
    "    RegularizedDense(10, activation=\"softmax\")\n",
    "])\n",
    "model.compile(loss=\"sparse_categorical_crossentropy\", optimizer=\"nadam\", metrics=[\"accuracy\"])\n",
    "n_epochs = 2\n",
    "history = model.fit(X_train_scaled, y_train, epochs=n_epochs,\n",
    "                    validation_data=(X_valid_scaled, y_valid))"
   ]
  },
  {
   "cell_type": "markdown",
   "id": "854eca94",
   "metadata": {},
   "source": [
    "## 11.4.2 드롭아웃"
   ]
  },
  {
   "cell_type": "markdown",
   "id": "f29508e8",
   "metadata": {},
   "source": [
    "심층 신경망에서 가장 인기 있는 규제 기법 중 하나  \n",
    "\n",
    "매 훈련 스텝에서 각 뉴런은 임시적으로 드롭아웃(제외)될 확률 p를 가지기 때문에 어떤 훈련에서는 포함되기도 하고, 어떤 훈련에서는 제외되기도 하는 식으로 규제를 가하는 방법  \n",
    "\n",
    "드롭아웃으로 훈련된 뉴런은 이웃한 뉴런에 맞추어 적응될 수 없기 때문에 가능한 한 자기 자신이 유용해져야 하고, 이런 뉴런들은 몇 개의 입력 뉴런에만 지나치게 의존할 수 없기 때문에 모든 입력 뉴런에 주의를 기울여야 함  \n",
    "이 과정에서 입력값의 작은 변화에 덜 민감한 뉴런이 만들어 지게 되고 결국 더 안정적인 네트워크가 되어 일반화 성능이 좋아진다고 함"
   ]
  },
  {
   "cell_type": "code",
   "execution_count": 7,
   "id": "7f86ba1e",
   "metadata": {},
   "outputs": [
    {
     "name": "stdout",
     "output_type": "stream",
     "text": [
      "Epoch 1/2\n",
      "1719/1719 [==============================] - 10s 5ms/step - loss: 0.5706 - accuracy: 0.8031 - val_loss: 0.3740 - val_accuracy: 0.8674\n",
      "Epoch 2/2\n",
      "1719/1719 [==============================] - 8s 5ms/step - loss: 0.4200 - accuracy: 0.8480 - val_loss: 0.3463 - val_accuracy: 0.8734\n"
     ]
    }
   ],
   "source": [
    "# 규제를 가한 모델 쌓기\n",
    "model = keras.models.Sequential([\n",
    "    keras.layers.Flatten(input_shape=[28, 28]),\n",
    "    keras.layers.Dropout(rate=0.2), # 드롭아웃 적용 모습\n",
    "    keras.layers.Dense(300, activation=\"elu\", kernel_initializer=\"he_normal\"),\n",
    "    keras.layers.Dropout(rate=0.2), # 드롭아웃 적용 모습\n",
    "    keras.layers.Dense(100, activation=\"elu\", kernel_initializer=\"he_normal\"),\n",
    "    keras.layers.Dropout(rate=0.2), # 드롭아웃 적용 모습\n",
    "    keras.layers.Dense(10, activation=\"softmax\")\n",
    "])\n",
    "# 주의! 일반적으로 (출력층을 제외한) 맨 위의 층부터 세 번째 층까지 있는 뉴런에만 \n",
    "# 드롭아웃을 적용\n",
    "\n",
    "model.compile(loss=\"sparse_categorical_crossentropy\", optimizer=\"nadam\", metrics=[\"accuracy\"])\n",
    "n_epochs = 2\n",
    "history = model.fit(X_train_scaled, y_train, epochs=n_epochs,\n",
    "                    validation_data=(X_valid_scaled, y_valid))"
   ]
  },
  {
   "cell_type": "markdown",
   "id": "8363bd3a",
   "metadata": {},
   "source": [
    "위 코드에서 activation=’selu’를 사용할 때는  `keras.layers.AlphaDropout(rate=0.2)`으로 **알파 드롭아웃**을 사용하면 됨:"
   ]
  },
  {
   "cell_type": "code",
   "execution_count": 8,
   "id": "edd267f5",
   "metadata": {
    "scrolled": false
   },
   "outputs": [
    {
     "name": "stdout",
     "output_type": "stream",
     "text": [
      "Epoch 1/20\n",
      "1719/1719 [==============================] - 7s 4ms/step - loss: 0.6661 - accuracy: 0.7593 - val_loss: 0.5785 - val_accuracy: 0.8416\n",
      "Epoch 2/20\n",
      "1719/1719 [==============================] - 7s 4ms/step - loss: 0.5552 - accuracy: 0.7948 - val_loss: 0.5597 - val_accuracy: 0.8444\n",
      "Epoch 3/20\n",
      "1719/1719 [==============================] - 6s 4ms/step - loss: 0.5293 - accuracy: 0.8035 - val_loss: 0.5035 - val_accuracy: 0.8526\n",
      "Epoch 4/20\n",
      "1719/1719 [==============================] - 6s 4ms/step - loss: 0.5093 - accuracy: 0.8111 - val_loss: 0.4468 - val_accuracy: 0.8666\n",
      "Epoch 5/20\n",
      "1719/1719 [==============================] - 7s 4ms/step - loss: 0.4894 - accuracy: 0.8178 - val_loss: 0.4458 - val_accuracy: 0.8648\n",
      "Epoch 6/20\n",
      "1719/1719 [==============================] - 7s 4ms/step - loss: 0.4819 - accuracy: 0.8216 - val_loss: 0.4778 - val_accuracy: 0.8630\n",
      "Epoch 7/20\n",
      "1719/1719 [==============================] - 7s 4ms/step - loss: 0.4673 - accuracy: 0.8269 - val_loss: 0.5274 - val_accuracy: 0.8490\n",
      "Epoch 8/20\n",
      "1719/1719 [==============================] - 7s 4ms/step - loss: 0.4668 - accuracy: 0.8270 - val_loss: 0.4443 - val_accuracy: 0.8662\n",
      "Epoch 9/20\n",
      "1719/1719 [==============================] - 6s 4ms/step - loss: 0.4577 - accuracy: 0.8297 - val_loss: 0.4147 - val_accuracy: 0.8716\n",
      "Epoch 10/20\n",
      "1719/1719 [==============================] - 6s 4ms/step - loss: 0.4502 - accuracy: 0.8325 - val_loss: 0.4663 - val_accuracy: 0.8602\n",
      "Epoch 11/20\n",
      "1719/1719 [==============================] - 7s 4ms/step - loss: 0.4457 - accuracy: 0.8344 - val_loss: 0.4220 - val_accuracy: 0.8656\n",
      "Epoch 12/20\n",
      "1719/1719 [==============================] - 7s 4ms/step - loss: 0.4456 - accuracy: 0.8335 - val_loss: 0.5374 - val_accuracy: 0.8524\n",
      "Epoch 13/20\n",
      "1719/1719 [==============================] - 7s 4ms/step - loss: 0.4385 - accuracy: 0.8372 - val_loss: 0.4131 - val_accuracy: 0.8774\n",
      "Epoch 14/20\n",
      "1719/1719 [==============================] - 7s 4ms/step - loss: 0.4367 - accuracy: 0.8366 - val_loss: 0.4573 - val_accuracy: 0.8622\n",
      "Epoch 15/20\n",
      "1719/1719 [==============================] - 7s 4ms/step - loss: 0.4321 - accuracy: 0.8398 - val_loss: 0.4321 - val_accuracy: 0.8720\n",
      "Epoch 16/20\n",
      "1719/1719 [==============================] - 6s 4ms/step - loss: 0.4307 - accuracy: 0.8397 - val_loss: 0.4248 - val_accuracy: 0.8722\n",
      "Epoch 17/20\n",
      "1719/1719 [==============================] - 7s 4ms/step - loss: 0.4272 - accuracy: 0.8416 - val_loss: 0.5328 - val_accuracy: 0.8612\n",
      "Epoch 18/20\n",
      "1719/1719 [==============================] - 6s 4ms/step - loss: 0.4251 - accuracy: 0.8400 - val_loss: 0.4598 - val_accuracy: 0.8750\n",
      "Epoch 19/20\n",
      "1719/1719 [==============================] - 7s 4ms/step - loss: 0.4228 - accuracy: 0.8416 - val_loss: 0.4688 - val_accuracy: 0.8744\n",
      "Epoch 20/20\n",
      "1719/1719 [==============================] - 6s 4ms/step - loss: 0.4179 - accuracy: 0.8450 - val_loss: 0.4012 - val_accuracy: 0.8762\n"
     ]
    }
   ],
   "source": [
    "tf.random.set_seed(42)\n",
    "np.random.seed(42)\n",
    "\n",
    "# 규제를 가한 모델 쌓기\n",
    "model = keras.models.Sequential([\n",
    "    keras.layers.Flatten(input_shape=[28, 28]),\n",
    "    keras.layers.AlphaDropout(rate=0.2),\n",
    "    keras.layers.Dense(300, activation=\"selu\", kernel_initializer=\"lecun_normal\"),\n",
    "    keras.layers.AlphaDropout(rate=0.2),\n",
    "    keras.layers.Dense(100, activation=\"selu\", kernel_initializer=\"lecun_normal\"),\n",
    "    keras.layers.AlphaDropout(rate=0.2),\n",
    "    keras.layers.Dense(10, activation=\"softmax\")\n",
    "])\n",
    "optimizer = keras.optimizers.SGD(learning_rate=0.01, momentum=0.9, nesterov=True)\n",
    "model.compile(loss=\"sparse_categorical_crossentropy\", optimizer=optimizer, metrics=[\"accuracy\"])\n",
    "n_epochs = 20\n",
    "history = model.fit(X_train_scaled, y_train, epochs=n_epochs,\n",
    "                    validation_data=(X_valid_scaled, y_valid))"
   ]
  },
  {
   "cell_type": "code",
   "execution_count": 9,
   "id": "aa439413",
   "metadata": {},
   "outputs": [
    {
     "name": "stdout",
     "output_type": "stream",
     "text": [
      "313/313 [==============================] - 1s 2ms/step - loss: 0.4409 - accuracy: 0.8646\n"
     ]
    },
    {
     "data": {
      "text/plain": [
       "[0.44094380736351013, 0.8646000027656555]"
      ]
     },
     "execution_count": 9,
     "metadata": {},
     "output_type": "execute_result"
    }
   ],
   "source": [
    "model.evaluate(X_test_scaled, y_test)"
   ]
  },
  {
   "cell_type": "markdown",
   "id": "28b25421",
   "metadata": {},
   "source": [
    "## 11.4.3 몬테 카를로 드롭아웃(MC 드롭아웃)"
   ]
  },
  {
   "cell_type": "markdown",
   "id": "3f58d053",
   "metadata": {},
   "source": [
    "드롭아웃의 한 종류로, 드롭아웃 모델의 성능을 높여주고, 더 정확한 불확실성 추정을 제공하는 기술"
   ]
  },
  {
   "cell_type": "code",
   "execution_count": 10,
   "id": "232d7463",
   "metadata": {},
   "outputs": [],
   "source": [
    "tf.random.set_seed(42)\n",
    "np.random.seed(42)\n",
    "\n",
    "y_probas = np.stack([model(X_test_scaled, training=True)\n",
    "                     for sample in range(100)])\n",
    "y_proba = y_probas.mean(axis=0)\n",
    "y_std = y_probas.std(axis=0)"
   ]
  },
  {
   "cell_type": "code",
   "execution_count": 11,
   "id": "39049e00",
   "metadata": {},
   "outputs": [
    {
     "name": "stdout",
     "output_type": "stream",
     "text": [
      "1/1 [==============================] - 0s 108ms/step\n"
     ]
    },
    {
     "data": {
      "text/plain": [
       "array([[0.  , 0.  , 0.  , 0.  , 0.  , 0.  , 0.  , 0.06, 0.  , 0.93]],\n",
       "      dtype=float32)"
      ]
     },
     "execution_count": 11,
     "metadata": {},
     "output_type": "execute_result"
    }
   ],
   "source": [
    "# 드롭아웃 없이 첫 번째 샘플을 모델이 예측한 결과\n",
    "np.round(model.predict(X_test_scaled[:1]), 2)"
   ]
  },
  {
   "cell_type": "code",
   "execution_count": 12,
   "id": "5ed290fe",
   "metadata": {},
   "outputs": [
    {
     "data": {
      "text/plain": [
       "array([[[0.  , 0.  , 0.  , 0.  , 0.  , 0.37, 0.  , 0.33, 0.  , 0.3 ]],\n",
       "\n",
       "       [[0.  , 0.  , 0.  , 0.  , 0.  , 0.05, 0.  , 0.34, 0.  , 0.61]],\n",
       "\n",
       "       [[0.  , 0.  , 0.  , 0.  , 0.  , 0.  , 0.  , 0.13, 0.  , 0.87]],\n",
       "\n",
       "       [[0.  , 0.  , 0.  , 0.  , 0.  , 0.  , 0.  , 0.63, 0.  , 0.37]],\n",
       "\n",
       "       [[0.  , 0.  , 0.  , 0.  , 0.  , 0.09, 0.  , 0.23, 0.  , 0.68]],\n",
       "\n",
       "       [[0.  , 0.  , 0.  , 0.  , 0.  , 0.13, 0.  , 0.61, 0.  , 0.26]],\n",
       "\n",
       "       [[0.  , 0.  , 0.  , 0.  , 0.  , 0.04, 0.  , 0.11, 0.  , 0.85]],\n",
       "\n",
       "       [[0.  , 0.  , 0.  , 0.  , 0.  , 0.78, 0.  , 0.05, 0.  , 0.17]],\n",
       "\n",
       "       [[0.  , 0.  , 0.  , 0.  , 0.  , 0.  , 0.  , 0.94, 0.  , 0.06]],\n",
       "\n",
       "       [[0.  , 0.  , 0.  , 0.  , 0.  , 0.  , 0.  , 0.73, 0.  , 0.27]],\n",
       "\n",
       "       [[0.  , 0.  , 0.  , 0.  , 0.  , 0.01, 0.  , 0.03, 0.  , 0.97]],\n",
       "\n",
       "       [[0.  , 0.  , 0.  , 0.  , 0.  , 0.08, 0.  , 0.6 , 0.  , 0.32]],\n",
       "\n",
       "       [[0.  , 0.  , 0.  , 0.  , 0.  , 0.03, 0.  , 0.  , 0.  , 0.97]],\n",
       "\n",
       "       [[0.  , 0.  , 0.  , 0.  , 0.  , 0.26, 0.  , 0.06, 0.  , 0.68]],\n",
       "\n",
       "       [[0.  , 0.  , 0.  , 0.  , 0.  , 0.01, 0.  , 0.59, 0.  , 0.4 ]],\n",
       "\n",
       "       [[0.  , 0.  , 0.  , 0.  , 0.  , 0.04, 0.  , 0.63, 0.  , 0.32]],\n",
       "\n",
       "       [[0.  , 0.  , 0.  , 0.  , 0.  , 0.16, 0.  , 0.01, 0.  , 0.83]],\n",
       "\n",
       "       [[0.  , 0.  , 0.  , 0.  , 0.  , 0.06, 0.  , 0.52, 0.  , 0.42]],\n",
       "\n",
       "       [[0.  , 0.  , 0.  , 0.  , 0.  , 0.34, 0.  , 0.46, 0.  , 0.21]],\n",
       "\n",
       "       [[0.  , 0.  , 0.  , 0.  , 0.  , 0.09, 0.  , 0.62, 0.  , 0.29]],\n",
       "\n",
       "       [[0.  , 0.  , 0.  , 0.  , 0.  , 0.25, 0.  , 0.15, 0.  , 0.6 ]],\n",
       "\n",
       "       [[0.  , 0.  , 0.  , 0.  , 0.  , 0.04, 0.  , 0.57, 0.  , 0.39]],\n",
       "\n",
       "       [[0.  , 0.  , 0.  , 0.  , 0.  , 0.01, 0.  , 0.11, 0.  , 0.88]],\n",
       "\n",
       "       [[0.  , 0.  , 0.  , 0.  , 0.  , 0.1 , 0.  , 0.55, 0.  , 0.35]],\n",
       "\n",
       "       [[0.  , 0.  , 0.  , 0.  , 0.  , 0.02, 0.  , 0.81, 0.  , 0.17]],\n",
       "\n",
       "       [[0.  , 0.  , 0.  , 0.  , 0.  , 0.03, 0.  , 0.22, 0.  , 0.75]],\n",
       "\n",
       "       [[0.  , 0.  , 0.  , 0.  , 0.  , 0.03, 0.  , 0.43, 0.  , 0.54]],\n",
       "\n",
       "       [[0.  , 0.  , 0.  , 0.  , 0.  , 0.11, 0.  , 0.67, 0.  , 0.22]],\n",
       "\n",
       "       [[0.  , 0.  , 0.  , 0.  , 0.  , 0.  , 0.  , 0.74, 0.  , 0.25]],\n",
       "\n",
       "       [[0.  , 0.  , 0.  , 0.  , 0.  , 0.25, 0.  , 0.63, 0.  , 0.13]],\n",
       "\n",
       "       [[0.  , 0.  , 0.  , 0.  , 0.  , 0.14, 0.  , 0.42, 0.  , 0.44]],\n",
       "\n",
       "       [[0.  , 0.  , 0.  , 0.  , 0.  , 0.11, 0.  , 0.47, 0.  , 0.42]],\n",
       "\n",
       "       [[0.  , 0.  , 0.  , 0.  , 0.  , 0.2 , 0.  , 0.05, 0.  , 0.75]],\n",
       "\n",
       "       [[0.  , 0.  , 0.  , 0.  , 0.  , 0.  , 0.  , 0.38, 0.  , 0.61]],\n",
       "\n",
       "       [[0.  , 0.  , 0.  , 0.  , 0.  , 0.16, 0.  , 0.07, 0.  , 0.77]],\n",
       "\n",
       "       [[0.  , 0.  , 0.  , 0.  , 0.  , 0.03, 0.  , 0.26, 0.  , 0.7 ]],\n",
       "\n",
       "       [[0.  , 0.  , 0.  , 0.  , 0.  , 0.02, 0.  , 0.09, 0.  , 0.89]],\n",
       "\n",
       "       [[0.  , 0.  , 0.  , 0.  , 0.  , 0.  , 0.  , 0.  , 0.  , 0.99]],\n",
       "\n",
       "       [[0.  , 0.  , 0.  , 0.  , 0.  , 0.01, 0.  , 0.06, 0.  , 0.94]],\n",
       "\n",
       "       [[0.  , 0.  , 0.  , 0.  , 0.  , 0.  , 0.  , 0.19, 0.  , 0.81]],\n",
       "\n",
       "       [[0.  , 0.  , 0.  , 0.  , 0.  , 0.08, 0.  , 0.1 , 0.  , 0.82]],\n",
       "\n",
       "       [[0.  , 0.  , 0.  , 0.  , 0.  , 0.15, 0.  , 0.22, 0.  , 0.62]],\n",
       "\n",
       "       [[0.  , 0.  , 0.  , 0.  , 0.  , 0.01, 0.  , 0.2 , 0.  , 0.79]],\n",
       "\n",
       "       [[0.  , 0.  , 0.  , 0.  , 0.  , 0.02, 0.  , 0.27, 0.  , 0.71]],\n",
       "\n",
       "       [[0.  , 0.  , 0.  , 0.  , 0.  , 0.01, 0.  , 0.16, 0.  , 0.84]],\n",
       "\n",
       "       [[0.  , 0.  , 0.  , 0.  , 0.  , 0.1 , 0.  , 0.1 , 0.  , 0.8 ]],\n",
       "\n",
       "       [[0.  , 0.  , 0.  , 0.  , 0.  , 0.02, 0.  , 0.03, 0.  , 0.95]],\n",
       "\n",
       "       [[0.  , 0.  , 0.  , 0.  , 0.  , 0.03, 0.  , 0.87, 0.  , 0.1 ]],\n",
       "\n",
       "       [[0.  , 0.  , 0.  , 0.  , 0.  , 0.52, 0.  , 0.41, 0.  , 0.07]],\n",
       "\n",
       "       [[0.  , 0.  , 0.  , 0.  , 0.  , 0.11, 0.  , 0.07, 0.  , 0.82]],\n",
       "\n",
       "       [[0.  , 0.  , 0.  , 0.  , 0.  , 0.02, 0.  , 0.02, 0.  , 0.96]],\n",
       "\n",
       "       [[0.  , 0.  , 0.  , 0.  , 0.  , 0.03, 0.  , 0.65, 0.  , 0.32]],\n",
       "\n",
       "       [[0.  , 0.  , 0.  , 0.  , 0.  , 0.3 , 0.  , 0.22, 0.  , 0.48]],\n",
       "\n",
       "       [[0.  , 0.  , 0.  , 0.  , 0.  , 0.1 , 0.  , 0.11, 0.  , 0.78]],\n",
       "\n",
       "       [[0.  , 0.  , 0.  , 0.  , 0.  , 0.  , 0.  , 0.66, 0.  , 0.34]],\n",
       "\n",
       "       [[0.  , 0.  , 0.  , 0.  , 0.  , 0.  , 0.  , 0.07, 0.  , 0.93]],\n",
       "\n",
       "       [[0.  , 0.  , 0.  , 0.  , 0.  , 0.  , 0.  , 0.33, 0.  , 0.66]],\n",
       "\n",
       "       [[0.  , 0.  , 0.  , 0.  , 0.  , 0.04, 0.  , 0.16, 0.  , 0.8 ]],\n",
       "\n",
       "       [[0.  , 0.  , 0.  , 0.  , 0.  , 0.  , 0.  , 0.72, 0.  , 0.28]],\n",
       "\n",
       "       [[0.  , 0.  , 0.  , 0.  , 0.  , 0.04, 0.  , 0.03, 0.  , 0.94]],\n",
       "\n",
       "       [[0.  , 0.  , 0.  , 0.  , 0.  , 0.  , 0.  , 0.14, 0.  , 0.86]],\n",
       "\n",
       "       [[0.  , 0.  , 0.  , 0.  , 0.  , 0.11, 0.  , 0.73, 0.  , 0.16]],\n",
       "\n",
       "       [[0.  , 0.  , 0.  , 0.  , 0.  , 0.01, 0.  , 0.85, 0.  , 0.14]],\n",
       "\n",
       "       [[0.  , 0.  , 0.  , 0.  , 0.  , 0.05, 0.  , 0.02, 0.  , 0.94]],\n",
       "\n",
       "       [[0.  , 0.  , 0.  , 0.  , 0.  , 0.02, 0.  , 0.01, 0.  , 0.97]],\n",
       "\n",
       "       [[0.  , 0.  , 0.  , 0.  , 0.  , 0.05, 0.  , 0.7 , 0.  , 0.24]],\n",
       "\n",
       "       [[0.  , 0.  , 0.  , 0.  , 0.  , 0.04, 0.  , 0.72, 0.  , 0.24]],\n",
       "\n",
       "       [[0.  , 0.  , 0.  , 0.  , 0.  , 0.78, 0.  , 0.19, 0.  , 0.03]],\n",
       "\n",
       "       [[0.  , 0.  , 0.  , 0.  , 0.  , 0.03, 0.  , 0.2 , 0.  , 0.77]],\n",
       "\n",
       "       [[0.  , 0.  , 0.  , 0.  , 0.  , 0.01, 0.  , 0.08, 0.  , 0.92]],\n",
       "\n",
       "       [[0.  , 0.  , 0.  , 0.  , 0.  , 0.12, 0.  , 0.3 , 0.  , 0.58]],\n",
       "\n",
       "       [[0.  , 0.  , 0.  , 0.  , 0.  , 0.04, 0.  , 0.06, 0.  , 0.9 ]],\n",
       "\n",
       "       [[0.  , 0.  , 0.  , 0.  , 0.  , 0.02, 0.  , 0.02, 0.  , 0.96]],\n",
       "\n",
       "       [[0.  , 0.  , 0.  , 0.  , 0.  , 0.39, 0.  , 0.07, 0.  , 0.54]],\n",
       "\n",
       "       [[0.  , 0.  , 0.  , 0.  , 0.  , 0.  , 0.  , 0.28, 0.  , 0.72]],\n",
       "\n",
       "       [[0.  , 0.  , 0.  , 0.  , 0.  , 0.  , 0.  , 0.69, 0.  , 0.3 ]],\n",
       "\n",
       "       [[0.  , 0.  , 0.  , 0.  , 0.  , 0.01, 0.  , 0.89, 0.  , 0.1 ]],\n",
       "\n",
       "       [[0.  , 0.  , 0.  , 0.  , 0.  , 0.04, 0.  , 0.21, 0.  , 0.75]],\n",
       "\n",
       "       [[0.  , 0.  , 0.  , 0.  , 0.  , 0.19, 0.  , 0.44, 0.  , 0.37]],\n",
       "\n",
       "       [[0.  , 0.  , 0.  , 0.  , 0.  , 0.24, 0.  , 0.47, 0.  , 0.29]],\n",
       "\n",
       "       [[0.  , 0.  , 0.  , 0.  , 0.  , 0.13, 0.  , 0.63, 0.  , 0.25]],\n",
       "\n",
       "       [[0.  , 0.  , 0.  , 0.  , 0.  , 0.25, 0.  , 0.51, 0.  , 0.24]],\n",
       "\n",
       "       [[0.  , 0.  , 0.  , 0.  , 0.  , 0.  , 0.  , 0.01, 0.  , 0.99]],\n",
       "\n",
       "       [[0.  , 0.  , 0.  , 0.  , 0.  , 0.02, 0.  , 0.7 , 0.  , 0.28]],\n",
       "\n",
       "       [[0.  , 0.  , 0.  , 0.  , 0.  , 0.  , 0.  , 0.13, 0.  , 0.87]],\n",
       "\n",
       "       [[0.  , 0.  , 0.  , 0.  , 0.  , 0.37, 0.  , 0.25, 0.  , 0.38]],\n",
       "\n",
       "       [[0.  , 0.  , 0.  , 0.  , 0.  , 0.03, 0.  , 0.63, 0.  , 0.34]],\n",
       "\n",
       "       [[0.  , 0.  , 0.  , 0.  , 0.  , 0.95, 0.  , 0.01, 0.  , 0.03]],\n",
       "\n",
       "       [[0.  , 0.  , 0.  , 0.  , 0.  , 0.  , 0.  , 0.08, 0.  , 0.91]],\n",
       "\n",
       "       [[0.  , 0.  , 0.  , 0.  , 0.  , 0.  , 0.  , 0.89, 0.  , 0.11]],\n",
       "\n",
       "       [[0.  , 0.  , 0.  , 0.  , 0.  , 0.01, 0.  , 0.16, 0.  , 0.83]],\n",
       "\n",
       "       [[0.  , 0.  , 0.  , 0.  , 0.  , 0.01, 0.  , 0.14, 0.  , 0.86]],\n",
       "\n",
       "       [[0.  , 0.  , 0.  , 0.  , 0.  , 0.04, 0.  , 0.26, 0.  , 0.7 ]],\n",
       "\n",
       "       [[0.  , 0.  , 0.  , 0.  , 0.  , 0.11, 0.  , 0.11, 0.  , 0.78]],\n",
       "\n",
       "       [[0.  , 0.  , 0.  , 0.  , 0.  , 0.06, 0.  , 0.16, 0.  , 0.78]],\n",
       "\n",
       "       [[0.  , 0.  , 0.  , 0.  , 0.  , 0.51, 0.  , 0.34, 0.  , 0.15]],\n",
       "\n",
       "       [[0.  , 0.  , 0.  , 0.  , 0.  , 0.04, 0.  , 0.51, 0.  , 0.45]],\n",
       "\n",
       "       [[0.  , 0.  , 0.  , 0.  , 0.  , 0.09, 0.  , 0.11, 0.  , 0.8 ]],\n",
       "\n",
       "       [[0.  , 0.  , 0.  , 0.  , 0.  , 0.02, 0.  , 0.06, 0.  , 0.93]],\n",
       "\n",
       "       [[0.  , 0.  , 0.  , 0.  , 0.  , 0.09, 0.  , 0.76, 0.  , 0.15]]],\n",
       "      dtype=float32)"
      ]
     },
     "execution_count": 12,
     "metadata": {},
     "output_type": "execute_result"
    }
   ],
   "source": [
    "# 드롭아웃을 활성화하여 만든 예측 결과\n",
    "np.round(y_probas[:, :1], 2)"
   ]
  },
  {
   "cell_type": "code",
   "execution_count": 13,
   "id": "9dc6e1e4",
   "metadata": {},
   "outputs": [
    {
     "data": {
      "text/plain": [
       "array([[0.  , 0.  , 0.  , 0.  , 0.  , 0.11, 0.  , 0.33, 0.  , 0.56]],\n",
       "      dtype=float32)"
      ]
     },
     "execution_count": 13,
     "metadata": {},
     "output_type": "execute_result"
    }
   ],
   "source": [
    "# 위 드롭아웃 예측을 첫 번째 차원으로 평균 낸 결과\n",
    "np.round(y_proba[:1], 2)"
   ]
  },
  {
   "cell_type": "markdown",
   "id": "a15e3f6b",
   "metadata": {},
   "source": [
    "드롭아웃을 가하지 않은 예측 결과에 비해 평균 낸 결과가 훨씬 더 낮은 확률로 예측을 하고 있음  \n",
    "특히 클래스 5(샌들)이나 7(스니커즈)로 생각하는 비율이 각각 11%, 33%로 나타나고 있음"
   ]
  },
  {
   "cell_type": "code",
   "execution_count": 14,
   "id": "d2c4e3c9",
   "metadata": {},
   "outputs": [
    {
     "data": {
      "text/plain": [
       "array([[0.  , 0.  , 0.  , 0.  , 0.  , 0.17, 0.  , 0.27, 0.  , 0.3 ]],\n",
       "      dtype=float32)"
      ]
     },
     "execution_count": 14,
     "metadata": {},
     "output_type": "execute_result"
    }
   ],
   "source": [
    "# 위 확률 추정의 표준 분포를 확인한 결과\n",
    "y_std = y_probas.std(axis=0)\n",
    "np.round(y_std[:1], 2)"
   ]
  },
  {
   "cell_type": "code",
   "execution_count": 15,
   "id": "4ffb0310",
   "metadata": {},
   "outputs": [
    {
     "data": {
      "text/plain": [
       "0.8656"
      ]
     },
     "execution_count": 15,
     "metadata": {},
     "output_type": "execute_result"
    }
   ],
   "source": [
    "# 드롭아웃 예측을 한 모델의 정확도\n",
    "y_pred = np.argmax(y_proba, axis=1)\n",
    "\n",
    "accuracy = np.sum(y_pred == y_test) / len(y_test)\n",
    "accuracy"
   ]
  },
  {
   "cell_type": "markdown",
   "id": "b2fb1955",
   "metadata": {},
   "source": [
    "모델이 훈련하는 동안 다르게 작용하는(ex. BatchNormalization 층) 층을 가지고 있다면 다음과 같이 Dropout 층을 MCDropout 클래스로 바꿔주어야 함:"
   ]
  },
  {
   "cell_type": "code",
   "execution_count": 16,
   "id": "cb3e454a",
   "metadata": {},
   "outputs": [],
   "source": [
    "class MCDropout(keras.layers.Dropout):\n",
    "    def call(self, inputs):\n",
    "        return super().call(inputs, training=True)\n",
    "\n",
    "class MCAlphaDropout(keras.layers.AlphaDropout):\n",
    "    def call(self, inputs):\n",
    "        return super().call(inputs, training=True)"
   ]
  },
  {
   "cell_type": "code",
   "execution_count": 17,
   "id": "f0d21e4d",
   "metadata": {},
   "outputs": [],
   "source": [
    "tf.random.set_seed(42)\n",
    "np.random.seed(42)\n",
    "\n",
    "# 몬테 카를로 드롭아웃을 적용\n",
    "mc_model = keras.models.Sequential([\n",
    "    MCAlphaDropout(layer.rate) if isinstance(layer, keras.layers.AlphaDropout) else layer\n",
    "    for layer in model.layers\n",
    "])"
   ]
  },
  {
   "cell_type": "code",
   "execution_count": 18,
   "id": "ff6d1786",
   "metadata": {},
   "outputs": [
    {
     "name": "stdout",
     "output_type": "stream",
     "text": [
      "Model: \"sequential_3\"\n",
      "_________________________________________________________________\n",
      " Layer (type)                Output Shape              Param #   \n",
      "=================================================================\n",
      " flatten_2 (Flatten)         (None, 784)               0         \n",
      "                                                                 \n",
      " mc_alpha_dropout (MCAlphaDr  (None, 784)              0         \n",
      " opout)                                                          \n",
      "                                                                 \n",
      " dense_8 (Dense)             (None, 300)               235500    \n",
      "                                                                 \n",
      " mc_alpha_dropout_1 (MCAlpha  (None, 300)              0         \n",
      " Dropout)                                                        \n",
      "                                                                 \n",
      " dense_9 (Dense)             (None, 100)               30100     \n",
      "                                                                 \n",
      " mc_alpha_dropout_2 (MCAlpha  (None, 100)              0         \n",
      " Dropout)                                                        \n",
      "                                                                 \n",
      " dense_10 (Dense)            (None, 10)                1010      \n",
      "                                                                 \n",
      "=================================================================\n",
      "Total params: 266,610\n",
      "Trainable params: 266,610\n",
      "Non-trainable params: 0\n",
      "_________________________________________________________________\n"
     ]
    }
   ],
   "source": [
    "mc_model.summary()"
   ]
  },
  {
   "cell_type": "code",
   "execution_count": 19,
   "id": "a982ee0b",
   "metadata": {},
   "outputs": [],
   "source": [
    "optimizer = keras.optimizers.SGD(learning_rate=0.01, momentum=0.9, nesterov=True)\n",
    "\n",
    "mc_model.compile(loss=\"sparse_categorical_crossentropy\", optimizer=optimizer, metrics=[\"accuracy\"])"
   ]
  },
  {
   "cell_type": "code",
   "execution_count": 20,
   "id": "dda998a3",
   "metadata": {},
   "outputs": [],
   "source": [
    "# 이전 모델의 가중치로 몬테 카를로 적용 모델의 가중치 적용\n",
    "mc_model.set_weights(model.get_weights())"
   ]
  },
  {
   "cell_type": "markdown",
   "id": "bd6e6e1c",
   "metadata": {},
   "source": [
    "이렇게 하면 몬테 카를로 드롭아웃을 모델에 사용할 수 있음:"
   ]
  },
  {
   "cell_type": "code",
   "execution_count": 21,
   "id": "bdde107f",
   "metadata": {},
   "outputs": [
    {
     "name": "stdout",
     "output_type": "stream",
     "text": [
      "1/1 [==============================] - 0s 129ms/step\n",
      "1/1 [==============================] - 0s 18ms/step\n",
      "1/1 [==============================] - 0s 18ms/step\n",
      "1/1 [==============================] - 0s 11ms/step\n",
      "1/1 [==============================] - 0s 18ms/step\n",
      "1/1 [==============================] - 0s 18ms/step\n",
      "1/1 [==============================] - 0s 18ms/step\n",
      "1/1 [==============================] - 0s 12ms/step\n",
      "1/1 [==============================] - 0s 23ms/step\n",
      "1/1 [==============================] - 0s 18ms/step\n",
      "1/1 [==============================] - 0s 14ms/step\n",
      "1/1 [==============================] - 0s 19ms/step\n",
      "1/1 [==============================] - 0s 13ms/step\n",
      "1/1 [==============================] - 0s 32ms/step\n",
      "1/1 [==============================] - 0s 18ms/step\n",
      "1/1 [==============================] - 0s 18ms/step\n",
      "1/1 [==============================] - 0s 19ms/step\n",
      "1/1 [==============================] - 0s 18ms/step\n",
      "1/1 [==============================] - 0s 18ms/step\n",
      "1/1 [==============================] - 0s 18ms/step\n",
      "1/1 [==============================] - 0s 18ms/step\n",
      "1/1 [==============================] - 0s 19ms/step\n",
      "1/1 [==============================] - 0s 19ms/step\n",
      "1/1 [==============================] - 0s 18ms/step\n",
      "1/1 [==============================] - 0s 18ms/step\n",
      "1/1 [==============================] - 0s 19ms/step\n",
      "1/1 [==============================] - 0s 18ms/step\n",
      "1/1 [==============================] - 0s 14ms/step\n",
      "1/1 [==============================] - 0s 18ms/step\n",
      "1/1 [==============================] - 0s 18ms/step\n",
      "1/1 [==============================] - 0s 11ms/step\n",
      "1/1 [==============================] - 0s 20ms/step\n",
      "1/1 [==============================] - 0s 30ms/step\n",
      "1/1 [==============================] - 0s 19ms/step\n",
      "1/1 [==============================] - 0s 17ms/step\n",
      "1/1 [==============================] - 0s 34ms/step\n",
      "1/1 [==============================] - 0s 18ms/step\n",
      "1/1 [==============================] - 0s 20ms/step\n",
      "1/1 [==============================] - 0s 18ms/step\n",
      "1/1 [==============================] - 0s 19ms/step\n",
      "1/1 [==============================] - 0s 19ms/step\n",
      "1/1 [==============================] - 0s 18ms/step\n",
      "1/1 [==============================] - 0s 19ms/step\n",
      "1/1 [==============================] - 0s 16ms/step\n",
      "1/1 [==============================] - 0s 17ms/step\n",
      "1/1 [==============================] - 0s 17ms/step\n",
      "1/1 [==============================] - 0s 12ms/step\n",
      "1/1 [==============================] - 0s 18ms/step\n",
      "1/1 [==============================] - 0s 8ms/step\n",
      "1/1 [==============================] - 0s 17ms/step\n",
      "1/1 [==============================] - 0s 7ms/step\n",
      "1/1 [==============================] - 0s 19ms/step\n",
      "1/1 [==============================] - 0s 30ms/step\n",
      "1/1 [==============================] - 0s 17ms/step\n",
      "1/1 [==============================] - 0s 23ms/step\n",
      "1/1 [==============================] - 0s 12ms/step\n",
      "1/1 [==============================] - 0s 17ms/step\n",
      "1/1 [==============================] - 0s 30ms/step\n",
      "1/1 [==============================] - 0s 17ms/step\n",
      "1/1 [==============================] - 0s 15ms/step\n",
      "1/1 [==============================] - 0s 18ms/step\n",
      "1/1 [==============================] - 0s 19ms/step\n",
      "1/1 [==============================] - 0s 28ms/step\n",
      "1/1 [==============================] - 0s 27ms/step\n",
      "1/1 [==============================] - 0s 16ms/step\n",
      "1/1 [==============================] - 0s 21ms/step\n",
      "1/1 [==============================] - 0s 15ms/step\n",
      "1/1 [==============================] - 0s 18ms/step\n",
      "1/1 [==============================] - 0s 16ms/step\n",
      "1/1 [==============================] - 0s 19ms/step\n",
      "1/1 [==============================] - 0s 15ms/step\n",
      "1/1 [==============================] - 0s 19ms/step\n",
      "1/1 [==============================] - 0s 18ms/step\n",
      "1/1 [==============================] - 0s 18ms/step\n",
      "1/1 [==============================] - 0s 9ms/step\n",
      "1/1 [==============================] - 0s 14ms/step\n",
      "1/1 [==============================] - 0s 18ms/step\n",
      "1/1 [==============================] - 0s 15ms/step\n",
      "1/1 [==============================] - 0s 18ms/step\n",
      "1/1 [==============================] - 0s 19ms/step\n",
      "1/1 [==============================] - 0s 16ms/step\n",
      "1/1 [==============================] - 0s 19ms/step\n",
      "1/1 [==============================] - 0s 8ms/step\n",
      "1/1 [==============================] - 0s 18ms/step\n",
      "1/1 [==============================] - 0s 6ms/step\n",
      "1/1 [==============================] - 0s 19ms/step\n",
      "1/1 [==============================] - 0s 19ms/step\n",
      "1/1 [==============================] - 0s 19ms/step\n",
      "1/1 [==============================] - 0s 19ms/step\n",
      "1/1 [==============================] - 0s 20ms/step\n",
      "1/1 [==============================] - 0s 19ms/step\n",
      "1/1 [==============================] - 0s 20ms/step\n",
      "1/1 [==============================] - 0s 19ms/step\n",
      "1/1 [==============================] - 0s 18ms/step\n",
      "1/1 [==============================] - 0s 18ms/step\n",
      "1/1 [==============================] - 0s 20ms/step\n",
      "1/1 [==============================] - 0s 19ms/step\n",
      "1/1 [==============================] - 0s 18ms/step\n",
      "1/1 [==============================] - 0s 11ms/step\n",
      "1/1 [==============================] - 0s 20ms/step\n"
     ]
    },
    {
     "data": {
      "text/plain": [
       "array([[0.  , 0.  , 0.  , 0.  , 0.  , 0.11, 0.  , 0.32, 0.  , 0.58]],\n",
       "      dtype=float32)"
      ]
     },
     "execution_count": 21,
     "metadata": {},
     "output_type": "execute_result"
    }
   ],
   "source": [
    "np.round(np.mean([mc_model.predict(X_test_scaled[:1]) for sample in range(100)], axis=0), 2)"
   ]
  },
  {
   "cell_type": "markdown",
   "id": "742d1e3b",
   "metadata": {},
   "source": [
    "## 11.4.4 맥스-노름 규제"
   ]
  },
  {
   "cell_type": "markdown",
   "id": "14ae9f65",
   "metadata": {},
   "source": [
    "신경망에서 널리 사용되는 또 다른 규제 기법  \n",
    "\n",
    "맥스-노름 규제는 배치 정규화를 사용하지 않았을 때 불안정한 그레이디언트 문제를 완화하는 데 도움을 줄 수 있다고 함"
   ]
  },
  {
   "cell_type": "code",
   "execution_count": 27,
   "id": "4239daf2",
   "metadata": {},
   "outputs": [],
   "source": [
    "# 맥스-노름 규제 층 생성\n",
    "layer = keras.layers.Dense(100, activation=\"selu\", kernel_initializer=\"lecun_normal\",\n",
    "                           kernel_constraint=keras.constraints.max_norm(1.))"
   ]
  },
  {
   "cell_type": "code",
   "execution_count": 28,
   "id": "c6d1fc9f",
   "metadata": {},
   "outputs": [
    {
     "name": "stdout",
     "output_type": "stream",
     "text": [
      "Epoch 1/2\n",
      "1719/1719 [==============================] - 8s 4ms/step - loss: 0.4739 - accuracy: 0.8337 - val_loss: 0.3677 - val_accuracy: 0.8666\n",
      "Epoch 2/2\n",
      "1719/1719 [==============================] - 7s 4ms/step - loss: 0.3520 - accuracy: 0.8719 - val_loss: 0.3723 - val_accuracy: 0.8648\n"
     ]
    }
   ],
   "source": [
    "from functools import partial\n",
    "\n",
    "# 맨 처음 l2 규제에서처럼 아래와 같이 따로 규제 층을 정의하는 것이 좋음\n",
    "MaxNormDense = partial(keras.layers.Dense,\n",
    "                       activation=\"selu\", kernel_initializer=\"lecun_normal\",\n",
    "                       kernel_constraint=keras.constraints.max_norm(1.))\n",
    "\n",
    "# 규제를 적용한 모델 쌓기\n",
    "model = keras.models.Sequential([\n",
    "    keras.layers.Flatten(input_shape=[28, 28]),\n",
    "    MaxNormDense(300), # 맥스-노름 규제 적용\n",
    "    MaxNormDense(100), # 맥스-노름 규제 적용\n",
    "    keras.layers.Dense(10, activation=\"softmax\")\n",
    "])\n",
    "model.compile(loss=\"sparse_categorical_crossentropy\", optimizer=\"nadam\", metrics=[\"accuracy\"])\n",
    "n_epochs = 2\n",
    "history = model.fit(X_train_scaled, y_train, epochs=n_epochs,\n",
    "                    validation_data=(X_valid_scaled, y_valid))"
   ]
  },
  {
   "cell_type": "markdown",
   "id": "89e5a303",
   "metadata": {},
   "source": [
    "# 11.6 연습문제"
   ]
  },
  {
   "cell_type": "markdown",
   "id": "2f6133d6",
   "metadata": {},
   "source": [
    "## 연습문제 8번"
   ]
  },
  {
   "cell_type": "markdown",
   "id": "91dde891",
   "metadata": {},
   "source": [
    "### a.  \n",
    "문제: 100개의 뉴런을 가진 은닉층 20개로 심층 신경망을 만들어보세요(너무 많은 것 같지만 이 연습문제의 핵심입니다). He 초기화와 ELU 활성화 함수를 사용하세요."
   ]
  },
  {
   "cell_type": "code",
   "execution_count": 29,
   "id": "a3c72db8",
   "metadata": {},
   "outputs": [],
   "source": [
    "keras.backend.clear_session()\n",
    "tf.random.set_seed(42)\n",
    "np.random.seed(42)\n",
    "\n",
    "model = keras.models.Sequential()\n",
    "model.add(keras.layers.Flatten(input_shape=[32,32,3]))\n",
    "for _ in range(20):\n",
    "    model.add(keras.layers.Dense(100,\n",
    "                                activation='elu',\n",
    "                                kernel_initializer='he_normal'))"
   ]
  },
  {
   "cell_type": "markdown",
   "id": "73076d0c",
   "metadata": {},
   "source": [
    "### b.\n",
    "문제: Nadam 옵티마이저와 조기 종료를 사용하여 CIFAR10 데이터셋에 이 네트워크를 훈련하세요.  \n",
    "`keras.datasets.cifar10.load_ data()`를 사용하여 데이터를 적재할 수 있습니다. 이 데이터셋은 10개의 클래스와 32×32 크기의 컬러 이미지 60,000개로 구성됩니다(50,000개는 훈련, 10,000개는 테스트). 따라서 10개의 뉴런과 소프트맥스 활성화 함수를 사용하는 출력층이 필요합니다.  \n",
    "모델 구조와 하이퍼파라미터를 바꿀 때마다 적절한 학습률을 찾아야 한다는 것을 기억하세요."
   ]
  },
  {
   "cell_type": "code",
   "execution_count": 30,
   "id": "6bdf750b",
   "metadata": {},
   "outputs": [],
   "source": [
    "# 모델에 출력층을 추가\n",
    "model.add(keras.layers.Dense(10, activation='softmax'))"
   ]
  },
  {
   "cell_type": "code",
   "execution_count": 32,
   "id": "0114e7e3",
   "metadata": {},
   "outputs": [],
   "source": [
    "# Nadam 옵티마이저, 학습률 5e-5 사용\n",
    "optimizer = keras.optimizers.Nadam(learning_rate=5e-5)\n",
    "model.compile(loss='sparse_categorical_crossentropy',\n",
    "             optimizer=optimizer,\n",
    "             metrics=['accuracy'])"
   ]
  },
  {
   "cell_type": "code",
   "execution_count": 33,
   "id": "d19a7bff",
   "metadata": {},
   "outputs": [
    {
     "name": "stdout",
     "output_type": "stream",
     "text": [
      "Downloading data from https://www.cs.toronto.edu/~kriz/cifar-10-python.tar.gz\n",
      "170498071/170498071 [==============================] - 138s 1us/step\n"
     ]
    }
   ],
   "source": [
    "# CIFAR10 데이터셋 로드\n",
    "(X_train_full, y_train_full), (X_test, y_test) = keras.datasets.cifar10.load_data()\n",
    "\n",
    "# 원본 훈련 세트의 처음 5000개를 검증 세트로 사용\n",
    "X_train = X_train_full[5000:]\n",
    "y_train = y_train_full[5000:]\n",
    "X_valid = X_train_full[:5000]\n",
    "y_valid = y_train_full[:5000]"
   ]
  },
  {
   "cell_type": "code",
   "execution_count": 34,
   "id": "322c4ad9",
   "metadata": {},
   "outputs": [],
   "source": [
    "# 콜백을 만들고 모델을 훈련\n",
    "early_stopping_cb = keras.callbacks.EarlyStopping(patience=20)\n",
    "model_checkpoint_cb = keras.callbacks.ModelCheckpoint('my_cifar10_model.h5', save_best_only=True)\n",
    "run_index = 1 # 모델을 훈련할 때마다 증기시킬 예정\n",
    "run_logdir = os.path.join(os.curdir, 'my_cifar10_logs', 'run_{:03d}'.format(run_index))\n",
    "tensorboard_cb = keras.callbacks.TensorBoard(run_logdir)\n",
    "\n",
    "callbacks = [early_stopping_cb, model_checkpoint_cb, tensorboard_cb]"
   ]
  },
  {
   "cell_type": "code",
   "execution_count": 36,
   "id": "b7f88aa1",
   "metadata": {},
   "outputs": [
    {
     "name": "stdout",
     "output_type": "stream",
     "text": [
      "Epoch 1/100\n",
      "1407/1407 [==============================] - 20s 11ms/step - loss: 3.5644 - accuracy: 0.1705 - val_loss: 2.1172 - val_accuracy: 0.2182\n",
      "Epoch 2/100\n",
      "1407/1407 [==============================] - 14s 10ms/step - loss: 2.0287 - accuracy: 0.2487 - val_loss: 1.9987 - val_accuracy: 0.2602\n",
      "Epoch 3/100\n",
      "1407/1407 [==============================] - 14s 10ms/step - loss: 1.9193 - accuracy: 0.2926 - val_loss: 1.8904 - val_accuracy: 0.2912\n",
      "Epoch 4/100\n",
      "1407/1407 [==============================] - 14s 10ms/step - loss: 1.8505 - accuracy: 0.3194 - val_loss: 1.8774 - val_accuracy: 0.3206\n",
      "Epoch 5/100\n",
      "1407/1407 [==============================] - 14s 10ms/step - loss: 1.7910 - accuracy: 0.3483 - val_loss: 1.7767 - val_accuracy: 0.3504\n",
      "Epoch 6/100\n",
      "1407/1407 [==============================] - 15s 11ms/step - loss: 1.7423 - accuracy: 0.3722 - val_loss: 1.7148 - val_accuracy: 0.3702\n",
      "Epoch 7/100\n",
      "1407/1407 [==============================] - 16s 11ms/step - loss: 1.6953 - accuracy: 0.3882 - val_loss: 1.7146 - val_accuracy: 0.3646\n",
      "Epoch 8/100\n",
      "1407/1407 [==============================] - 16s 11ms/step - loss: 1.6539 - accuracy: 0.4032 - val_loss: 1.6721 - val_accuracy: 0.3924\n",
      "Epoch 9/100\n",
      "1407/1407 [==============================] - 15s 11ms/step - loss: 1.6234 - accuracy: 0.4184 - val_loss: 1.6374 - val_accuracy: 0.4092\n",
      "Epoch 10/100\n",
      "1407/1407 [==============================] - 16s 11ms/step - loss: 1.5975 - accuracy: 0.4245 - val_loss: 1.6488 - val_accuracy: 0.4016\n",
      "Epoch 11/100\n",
      "1407/1407 [==============================] - 16s 11ms/step - loss: 1.5738 - accuracy: 0.4331 - val_loss: 1.6309 - val_accuracy: 0.4176\n",
      "Epoch 12/100\n",
      "1407/1407 [==============================] - 15s 11ms/step - loss: 1.5505 - accuracy: 0.4397 - val_loss: 1.6300 - val_accuracy: 0.4132\n",
      "Epoch 13/100\n",
      "1407/1407 [==============================] - 17s 12ms/step - loss: 1.5275 - accuracy: 0.4498 - val_loss: 1.5955 - val_accuracy: 0.4304\n",
      "Epoch 14/100\n",
      "1407/1407 [==============================] - 16s 11ms/step - loss: 1.5137 - accuracy: 0.4566 - val_loss: 1.5658 - val_accuracy: 0.4418\n",
      "Epoch 15/100\n",
      "1407/1407 [==============================] - 17s 12ms/step - loss: 1.4938 - accuracy: 0.4636 - val_loss: 1.5951 - val_accuracy: 0.4164\n",
      "Epoch 16/100\n",
      "1407/1407 [==============================] - 16s 12ms/step - loss: 1.4815 - accuracy: 0.4639 - val_loss: 1.5810 - val_accuracy: 0.4304\n",
      "Epoch 17/100\n",
      "1407/1407 [==============================] - 15s 11ms/step - loss: 1.4653 - accuracy: 0.4715 - val_loss: 1.5689 - val_accuracy: 0.4424\n",
      "Epoch 18/100\n",
      "1407/1407 [==============================] - 15s 11ms/step - loss: 1.4516 - accuracy: 0.4779 - val_loss: 1.5611 - val_accuracy: 0.4370\n",
      "Epoch 19/100\n",
      "1407/1407 [==============================] - 15s 11ms/step - loss: 1.4409 - accuracy: 0.4816 - val_loss: 1.5528 - val_accuracy: 0.4444\n",
      "Epoch 20/100\n",
      "1407/1407 [==============================] - 16s 11ms/step - loss: 1.4331 - accuracy: 0.4848 - val_loss: 1.5420 - val_accuracy: 0.4494\n",
      "Epoch 21/100\n",
      "1407/1407 [==============================] - 17s 12ms/step - loss: 1.4161 - accuracy: 0.4907 - val_loss: 1.5467 - val_accuracy: 0.4508\n",
      "Epoch 22/100\n",
      "1407/1407 [==============================] - 15s 11ms/step - loss: 1.4045 - accuracy: 0.4920 - val_loss: 1.5194 - val_accuracy: 0.4498\n",
      "Epoch 23/100\n",
      "1407/1407 [==============================] - 16s 11ms/step - loss: 1.3937 - accuracy: 0.5000 - val_loss: 1.5278 - val_accuracy: 0.4472\n",
      "Epoch 24/100\n",
      "1407/1407 [==============================] - 16s 11ms/step - loss: 1.3817 - accuracy: 0.5014 - val_loss: 1.5731 - val_accuracy: 0.4308\n",
      "Epoch 25/100\n",
      "1407/1407 [==============================] - 16s 12ms/step - loss: 1.3705 - accuracy: 0.5033 - val_loss: 1.5208 - val_accuracy: 0.4622\n",
      "Epoch 26/100\n",
      "1407/1407 [==============================] - 16s 12ms/step - loss: 1.3605 - accuracy: 0.5088 - val_loss: 1.5366 - val_accuracy: 0.4522\n",
      "Epoch 27/100\n",
      "1407/1407 [==============================] - 16s 11ms/step - loss: 1.3521 - accuracy: 0.5119 - val_loss: 1.5330 - val_accuracy: 0.4590\n",
      "Epoch 28/100\n",
      "1407/1407 [==============================] - 17s 12ms/step - loss: 1.3419 - accuracy: 0.5135 - val_loss: 1.5261 - val_accuracy: 0.4624\n",
      "Epoch 29/100\n",
      "1407/1407 [==============================] - 17s 12ms/step - loss: 1.3350 - accuracy: 0.5200 - val_loss: 1.5193 - val_accuracy: 0.4670\n",
      "Epoch 30/100\n",
      "1407/1407 [==============================] - 16s 12ms/step - loss: 1.3248 - accuracy: 0.5242 - val_loss: 1.5701 - val_accuracy: 0.4464\n",
      "Epoch 31/100\n",
      "1407/1407 [==============================] - 17s 12ms/step - loss: 1.3166 - accuracy: 0.5253 - val_loss: 1.5564 - val_accuracy: 0.4554\n",
      "Epoch 32/100\n",
      "1407/1407 [==============================] - 17s 12ms/step - loss: 1.3068 - accuracy: 0.5274 - val_loss: 1.5266 - val_accuracy: 0.4720\n",
      "Epoch 33/100\n",
      "1407/1407 [==============================] - 18s 13ms/step - loss: 1.2999 - accuracy: 0.5308 - val_loss: 1.5253 - val_accuracy: 0.4660\n",
      "Epoch 34/100\n",
      "1407/1407 [==============================] - 17s 12ms/step - loss: 1.2908 - accuracy: 0.5364 - val_loss: 1.5430 - val_accuracy: 0.4664\n",
      "Epoch 35/100\n",
      "1407/1407 [==============================] - 17s 12ms/step - loss: 1.2820 - accuracy: 0.5392 - val_loss: 1.5377 - val_accuracy: 0.4650\n",
      "Epoch 36/100\n",
      "1407/1407 [==============================] - 16s 12ms/step - loss: 1.2762 - accuracy: 0.5376 - val_loss: 1.5397 - val_accuracy: 0.4564\n",
      "Epoch 37/100\n",
      "1407/1407 [==============================] - 17s 12ms/step - loss: 1.2630 - accuracy: 0.5440 - val_loss: 1.5101 - val_accuracy: 0.4748\n",
      "Epoch 38/100\n",
      "1407/1407 [==============================] - 17s 12ms/step - loss: 1.2547 - accuracy: 0.5473 - val_loss: 1.5250 - val_accuracy: 0.4714\n",
      "Epoch 39/100\n",
      "1407/1407 [==============================] - 17s 12ms/step - loss: 1.2478 - accuracy: 0.5512 - val_loss: 1.5582 - val_accuracy: 0.4574\n",
      "Epoch 40/100\n",
      "1407/1407 [==============================] - 17s 12ms/step - loss: 1.2380 - accuracy: 0.5539 - val_loss: 1.5226 - val_accuracy: 0.4646\n",
      "Epoch 41/100\n",
      "1407/1407 [==============================] - 17s 12ms/step - loss: 1.2352 - accuracy: 0.5549 - val_loss: 1.5121 - val_accuracy: 0.4802\n",
      "Epoch 42/100\n",
      "1407/1407 [==============================] - 17s 12ms/step - loss: 1.2258 - accuracy: 0.5578 - val_loss: 1.5066 - val_accuracy: 0.4818\n",
      "Epoch 43/100\n",
      "1407/1407 [==============================] - 18s 12ms/step - loss: 1.2183 - accuracy: 0.5587 - val_loss: 1.5717 - val_accuracy: 0.4534\n",
      "Epoch 44/100\n",
      "1407/1407 [==============================] - 17s 12ms/step - loss: 1.2105 - accuracy: 0.5635 - val_loss: 1.5636 - val_accuracy: 0.4610\n",
      "Epoch 45/100\n",
      "1407/1407 [==============================] - 17s 12ms/step - loss: 1.2027 - accuracy: 0.5674 - val_loss: 1.5531 - val_accuracy: 0.4660\n",
      "Epoch 46/100\n",
      "1407/1407 [==============================] - 16s 11ms/step - loss: 1.1971 - accuracy: 0.5686 - val_loss: 1.5072 - val_accuracy: 0.4802\n",
      "Epoch 47/100\n",
      "1407/1407 [==============================] - 16s 11ms/step - loss: 1.1892 - accuracy: 0.5690 - val_loss: 1.5308 - val_accuracy: 0.4624\n",
      "Epoch 48/100\n",
      "1407/1407 [==============================] - 16s 12ms/step - loss: 1.1814 - accuracy: 0.5720 - val_loss: 1.5786 - val_accuracy: 0.4586\n",
      "Epoch 49/100\n",
      "1407/1407 [==============================] - 17s 12ms/step - loss: 1.1753 - accuracy: 0.5762 - val_loss: 1.5554 - val_accuracy: 0.4648\n",
      "Epoch 50/100\n",
      "1407/1407 [==============================] - 16s 11ms/step - loss: 1.1642 - accuracy: 0.5808 - val_loss: 1.5485 - val_accuracy: 0.4758\n",
      "Epoch 51/100\n",
      "1407/1407 [==============================] - 16s 11ms/step - loss: 1.1588 - accuracy: 0.5826 - val_loss: 1.5292 - val_accuracy: 0.4752\n",
      "Epoch 52/100\n",
      "1407/1407 [==============================] - 16s 11ms/step - loss: 1.1533 - accuracy: 0.5845 - val_loss: 1.6061 - val_accuracy: 0.4666\n",
      "Epoch 53/100\n",
      "1407/1407 [==============================] - 16s 11ms/step - loss: 1.1510 - accuracy: 0.5848 - val_loss: 1.5609 - val_accuracy: 0.4700\n",
      "Epoch 54/100\n",
      "1407/1407 [==============================] - 16s 11ms/step - loss: 1.1438 - accuracy: 0.5858 - val_loss: 1.5744 - val_accuracy: 0.4620\n",
      "Epoch 55/100\n",
      "1407/1407 [==============================] - 17s 12ms/step - loss: 1.1357 - accuracy: 0.5905 - val_loss: 1.5580 - val_accuracy: 0.4696\n",
      "Epoch 56/100\n"
     ]
    },
    {
     "name": "stdout",
     "output_type": "stream",
     "text": [
      "1407/1407 [==============================] - 16s 11ms/step - loss: 1.1287 - accuracy: 0.5934 - val_loss: 1.5603 - val_accuracy: 0.4706\n",
      "Epoch 57/100\n",
      "1407/1407 [==============================] - 15s 11ms/step - loss: 1.1177 - accuracy: 0.5991 - val_loss: 1.5550 - val_accuracy: 0.4832\n",
      "Epoch 58/100\n",
      "1407/1407 [==============================] - 16s 11ms/step - loss: 1.1136 - accuracy: 0.5969 - val_loss: 1.5712 - val_accuracy: 0.4736\n",
      "Epoch 59/100\n",
      "1407/1407 [==============================] - 16s 11ms/step - loss: 1.1077 - accuracy: 0.5990 - val_loss: 1.5497 - val_accuracy: 0.4768\n",
      "Epoch 60/100\n",
      "1407/1407 [==============================] - 16s 12ms/step - loss: 1.0996 - accuracy: 0.6023 - val_loss: 1.5654 - val_accuracy: 0.4748\n",
      "Epoch 61/100\n",
      "1407/1407 [==============================] - 17s 12ms/step - loss: 1.0923 - accuracy: 0.6072 - val_loss: 1.5648 - val_accuracy: 0.4742\n",
      "Epoch 62/100\n",
      "1407/1407 [==============================] - 17s 12ms/step - loss: 1.0907 - accuracy: 0.6053 - val_loss: 1.5799 - val_accuracy: 0.4680\n"
     ]
    },
    {
     "data": {
      "text/plain": [
       "<keras.callbacks.History at 0x1c836355ee0>"
      ]
     },
     "execution_count": 36,
     "metadata": {},
     "output_type": "execute_result"
    }
   ],
   "source": [
    "# 모델 훈련\n",
    "model.fit(X_train, y_train, epochs=100,\n",
    "         validation_data=[X_valid, y_valid], \n",
    "         callbacks=callbacks)"
   ]
  },
  {
   "cell_type": "code",
   "execution_count": 37,
   "id": "27ad8459",
   "metadata": {
    "scrolled": false
   },
   "outputs": [
    {
     "data": {
      "text/plain": [
       "Reusing TensorBoard on port 6006 (pid 9676), started 2:05:51 ago. (Use '!kill 9676' to kill it.)"
      ]
     },
     "metadata": {},
     "output_type": "display_data"
    },
    {
     "data": {
      "text/html": [
       "\n",
       "      <iframe id=\"tensorboard-frame-fe65a431fe120c92\" width=\"100%\" height=\"800\" frameborder=\"0\">\n",
       "      </iframe>\n",
       "      <script>\n",
       "        (function() {\n",
       "          const frame = document.getElementById(\"tensorboard-frame-fe65a431fe120c92\");\n",
       "          const url = new URL(\"/\", window.location);\n",
       "          const port = 6006;\n",
       "          if (port) {\n",
       "            url.port = port;\n",
       "          }\n",
       "          frame.src = url;\n",
       "        })();\n",
       "      </script>\n",
       "    "
      ],
      "text/plain": [
       "<IPython.core.display.HTML object>"
      ]
     },
     "metadata": {},
     "output_type": "display_data"
    }
   ],
   "source": [
    "%tensorboard --logdir=./my_cifar10_logs --port=6006"
   ]
  },
  {
   "cell_type": "code",
   "execution_count": 38,
   "id": "e882e9a5",
   "metadata": {},
   "outputs": [
    {
     "name": "stdout",
     "output_type": "stream",
     "text": [
      "157/157 [==============================] - 1s 3ms/step - loss: 1.5066 - accuracy: 0.4818\n"
     ]
    },
    {
     "data": {
      "text/plain": [
       "[1.5065604448318481, 0.48179998993873596]"
      ]
     },
     "execution_count": 38,
     "metadata": {},
     "output_type": "execute_result"
    }
   ],
   "source": [
    "model = keras.models.load_model('my_cifar10_model.h5')\n",
    "model.evaluate(X_valid, y_valid)"
   ]
  },
  {
   "cell_type": "markdown",
   "id": "3fee40d8",
   "metadata": {},
   "source": [
    "### c.\n",
    "문제: 배치 정규화를 추가하고 학습 곡선을 비교해보세요. 이전보다 빠르게 수렴하나요? 더 좋은 모델이 만들어지나요? 훈련 속도에는 어떤 영향을 미치나요?\n",
    "\n",
    "다음 코드는 위의 코드와 배우 비슷합니다. 몇 가지 다른 점은 아래와 같습니다:\n",
    "\n",
    "- 출력층을 제외하고 모든 Dense 층 다음에 (활성화 함수 전에) BN 층을 추가했습니다. 처음 은닉층 전에도 BatchNormalization(BN) 층을 추가했습니다.\n",
    "- 학습률을 5e-4로 바꾸었습니다. 1e-5, 3e-5, 5e-5, 1e-4, 3e-4, 5e-4, 1e-3, 3e-3를 시도해 보고 20번 에포크 후에 검증 세트 성능이 가장 좋은 것을 선택했습니다.\n",
    "- run_logdir를 runbn* 으로 이름을 바꾸고 모델 파일 이름을 my_cifar10_bn_model.h5로 변경했습니다."
   ]
  },
  {
   "cell_type": "code",
   "execution_count": 40,
   "id": "eaa05fcd",
   "metadata": {},
   "outputs": [
    {
     "name": "stdout",
     "output_type": "stream",
     "text": [
      "Epoch 1/100\n",
      "1407/1407 [==============================] - 36s 16ms/step - loss: 1.8324 - accuracy: 0.3420 - val_loss: 1.6355 - val_accuracy: 0.4178\n",
      "Epoch 2/100\n",
      "1407/1407 [==============================] - 22s 16ms/step - loss: 1.6623 - accuracy: 0.4070 - val_loss: 1.5782 - val_accuracy: 0.4318\n",
      "Epoch 3/100\n",
      "1407/1407 [==============================] - 23s 16ms/step - loss: 1.5985 - accuracy: 0.4324 - val_loss: 1.5371 - val_accuracy: 0.4426\n",
      "Epoch 4/100\n",
      "1407/1407 [==============================] - 23s 16ms/step - loss: 1.5496 - accuracy: 0.4482 - val_loss: 1.5376 - val_accuracy: 0.4582\n",
      "Epoch 5/100\n",
      "1407/1407 [==============================] - 24s 17ms/step - loss: 1.5056 - accuracy: 0.4654 - val_loss: 1.4376 - val_accuracy: 0.4862\n",
      "Epoch 6/100\n",
      "1407/1407 [==============================] - 24s 17ms/step - loss: 1.4684 - accuracy: 0.4801 - val_loss: 1.4182 - val_accuracy: 0.5028\n",
      "Epoch 7/100\n",
      "1407/1407 [==============================] - 24s 17ms/step - loss: 1.4331 - accuracy: 0.4910 - val_loss: 1.4208 - val_accuracy: 0.4912\n",
      "Epoch 8/100\n",
      "1407/1407 [==============================] - 24s 17ms/step - loss: 1.4048 - accuracy: 0.5013 - val_loss: 1.3843 - val_accuracy: 0.5024\n",
      "Epoch 9/100\n",
      "1407/1407 [==============================] - 24s 17ms/step - loss: 1.3782 - accuracy: 0.5124 - val_loss: 1.3888 - val_accuracy: 0.5074\n",
      "Epoch 10/100\n",
      "1407/1407 [==============================] - 24s 17ms/step - loss: 1.3562 - accuracy: 0.5185 - val_loss: 1.3486 - val_accuracy: 0.5218\n",
      "Epoch 11/100\n",
      "1407/1407 [==============================] - 24s 17ms/step - loss: 1.3358 - accuracy: 0.5268 - val_loss: 1.3484 - val_accuracy: 0.5228\n",
      "Epoch 12/100\n",
      "1407/1407 [==============================] - 24s 17ms/step - loss: 1.3138 - accuracy: 0.5367 - val_loss: 1.3634 - val_accuracy: 0.5102\n",
      "Epoch 13/100\n",
      "1407/1407 [==============================] - 25s 18ms/step - loss: 1.2918 - accuracy: 0.5442 - val_loss: 1.3861 - val_accuracy: 0.5096\n",
      "Epoch 14/100\n",
      "1407/1407 [==============================] - 26s 18ms/step - loss: 1.2726 - accuracy: 0.5501 - val_loss: 1.3415 - val_accuracy: 0.5318\n",
      "Epoch 15/100\n",
      "1407/1407 [==============================] - 26s 18ms/step - loss: 1.2543 - accuracy: 0.5583 - val_loss: 1.3832 - val_accuracy: 0.5186\n",
      "Epoch 16/100\n",
      "1407/1407 [==============================] - 26s 18ms/step - loss: 1.2462 - accuracy: 0.5598 - val_loss: 1.3548 - val_accuracy: 0.5218\n",
      "Epoch 17/100\n",
      "1407/1407 [==============================] - 27s 19ms/step - loss: 1.2255 - accuracy: 0.5664 - val_loss: 1.3226 - val_accuracy: 0.5350\n",
      "Epoch 18/100\n",
      "1407/1407 [==============================] - 27s 19ms/step - loss: 1.2107 - accuracy: 0.5727 - val_loss: 1.3365 - val_accuracy: 0.5330\n",
      "Epoch 19/100\n",
      "1407/1407 [==============================] - 26s 18ms/step - loss: 1.2000 - accuracy: 0.5749 - val_loss: 1.3331 - val_accuracy: 0.5324\n",
      "Epoch 20/100\n",
      "1407/1407 [==============================] - 26s 19ms/step - loss: 1.1854 - accuracy: 0.5846 - val_loss: 1.3654 - val_accuracy: 0.5222\n",
      "Epoch 21/100\n",
      "1407/1407 [==============================] - 27s 19ms/step - loss: 1.1683 - accuracy: 0.5879 - val_loss: 1.3593 - val_accuracy: 0.5278\n",
      "Epoch 22/100\n",
      "1407/1407 [==============================] - 27s 19ms/step - loss: 1.1529 - accuracy: 0.5978 - val_loss: 1.3672 - val_accuracy: 0.5312\n",
      "Epoch 23/100\n",
      "1407/1407 [==============================] - 26s 19ms/step - loss: 1.1438 - accuracy: 0.5972 - val_loss: 1.3381 - val_accuracy: 0.5418\n",
      "Epoch 24/100\n",
      "1407/1407 [==============================] - 27s 19ms/step - loss: 1.1337 - accuracy: 0.6032 - val_loss: 1.3214 - val_accuracy: 0.5434\n",
      "Epoch 25/100\n",
      "1407/1407 [==============================] - 26s 19ms/step - loss: 1.1239 - accuracy: 0.6054 - val_loss: 1.3334 - val_accuracy: 0.5362\n",
      "Epoch 26/100\n",
      "1407/1407 [==============================] - 26s 19ms/step - loss: 1.1072 - accuracy: 0.6088 - val_loss: 1.3402 - val_accuracy: 0.5316\n",
      "Epoch 27/100\n",
      "1407/1407 [==============================] - 27s 19ms/step - loss: 1.0962 - accuracy: 0.6112 - val_loss: 1.3679 - val_accuracy: 0.5334\n",
      "Epoch 28/100\n",
      "1407/1407 [==============================] - 28s 20ms/step - loss: 1.0941 - accuracy: 0.6150 - val_loss: 1.3596 - val_accuracy: 0.5330\n",
      "Epoch 29/100\n",
      "1407/1407 [==============================] - 27s 19ms/step - loss: 1.0784 - accuracy: 0.6180 - val_loss: 1.3617 - val_accuracy: 0.5262\n",
      "Epoch 30/100\n",
      "1407/1407 [==============================] - 27s 19ms/step - loss: 1.0638 - accuracy: 0.6238 - val_loss: 1.3394 - val_accuracy: 0.5342\n",
      "Epoch 31/100\n",
      "1407/1407 [==============================] - 27s 19ms/step - loss: 1.0542 - accuracy: 0.6286 - val_loss: 1.3927 - val_accuracy: 0.5290\n",
      "Epoch 32/100\n",
      "1407/1407 [==============================] - 26s 19ms/step - loss: 1.0433 - accuracy: 0.6329 - val_loss: 1.3664 - val_accuracy: 0.5382\n",
      "Epoch 33/100\n",
      "1407/1407 [==============================] - 26s 19ms/step - loss: 1.0353 - accuracy: 0.6353 - val_loss: 1.3512 - val_accuracy: 0.5434\n",
      "Epoch 34/100\n",
      "1407/1407 [==============================] - 27s 19ms/step - loss: 1.0259 - accuracy: 0.6396 - val_loss: 1.3471 - val_accuracy: 0.5510\n"
     ]
    },
    {
     "data": {
      "text/plain": [
       "<keras.callbacks.History at 0x1c8005bdee0>"
      ]
     },
     "execution_count": 40,
     "metadata": {},
     "output_type": "execute_result"
    }
   ],
   "source": [
    "keras.backend.clear_session()\n",
    "tf.random.set_seed(42)\n",
    "np.random.seed(42)\n",
    "\n",
    "# 배치 정규화 층을 추가하여 모델 다시 쌓기\n",
    "model = keras.models.Sequential()\n",
    "model.add(keras.layers.Flatten(input_shape=[32,32,3]))\n",
    "model.add(keras.layers.BatchNormalization())\n",
    "for _ in range(20):\n",
    "    model.add(keras.layers.Dense(100, kernel_initializer='he_normal'))\n",
    "    model.add(keras.layers.BatchNormalization())\n",
    "    model.add(keras.layers.Activation('elu'))\n",
    "model.add(keras.layers.Dense(10, activation='softmax'))\n",
    "\n",
    "# nadam 옵티마이저에 학습률을 5e-4로 직접 설정\n",
    "optimizer = keras.optimizers.Nadam(learning_rate=5e-4)\n",
    "model.compile(loss='sparse_categorical_crossentropy',\n",
    "             optimizer=optimizer,\n",
    "             metrics=['accuracy'])\n",
    "\n",
    "# 콜백 설정(너무 오래 학습하는거 같아 patience를 10으로 줄임)\n",
    "early_stopping_cb = keras.callbacks.EarlyStopping(patience=10)\n",
    "model_checkpoint_cb = keras.callbacks.ModelCheckpoint('my_cifar10_bn_model.h5', save_best_only=True)\n",
    "run_index = 1 # 모델을 훈련할 때마다 증가시킬 예정\n",
    "run_logdir = os.path.join(os.curdir, 'my_cifar10_logs', 'run_bn_{:03d}'.format(run_index))\n",
    "tensorboard_cb = keras.callbacks.TensorBoard(run_logdir)\n",
    "callbacks = [early_stopping_cb, model_checkpoint_cb, tensorboard_cb]\n",
    "\n",
    "model.fit(X_train, y_train, epochs=100,\n",
    "         validation_data=(X_valid, y_valid),\n",
    "         callbacks=callbacks)"
   ]
  },
  {
   "cell_type": "code",
   "execution_count": 41,
   "id": "39de07f9",
   "metadata": {},
   "outputs": [
    {
     "name": "stdout",
     "output_type": "stream",
     "text": [
      "157/157 [==============================] - 1s 4ms/step - loss: 1.3214 - accuracy: 0.5434\n"
     ]
    },
    {
     "data": {
      "text/plain": [
       "[1.3214244842529297, 0.54339998960495]"
      ]
     },
     "execution_count": 41,
     "metadata": {},
     "output_type": "execute_result"
    }
   ],
   "source": [
    "model = keras.models.load_model('my_cifar10_bn_model.h5')\n",
    "model.evaluate(X_valid, y_valid)"
   ]
  },
  {
   "cell_type": "markdown",
   "id": "8612a1c4",
   "metadata": {},
   "source": [
    "- 이전보다 빠른 수렴 여부: earlystopping의 patience 20이 너무 크다고 느껴 절반으로 줄여버려서 객관적으로 비교할 순 없지만, 62에포크에서 34에포크로 더 빠르게 수렴하였음\n",
    "- BN이 더 좋은 모델을 만드는지 여부: 검증 정확도가 48.18%에서 54.34%로 상승하였기 때문에 BN이 더 좋은 모델을 만든다고 볼 수 있음\n",
    "- BN이 훈련속도에 영향을 주는지 여부: 아무래도 층이 추가되었기 때문에 약 17초에서 27초로 에포크 당 10초 정도가 더 걸렸음"
   ]
  },
  {
   "cell_type": "markdown",
   "id": "cec786df",
   "metadata": {},
   "source": [
    "### d.\n",
    "문제: 배치 정규화를 SELU로 바꾸어보세요. 네트워크가 자기 정규화하기 위해 필요한 변경 사항을 적용해보세요(즉, 입력 특성 표준화, 르쿤 정규분포 초기화, 완전 연결 층만 순차적으로 쌓은 심층 신경망 등)."
   ]
  },
  {
   "cell_type": "code",
   "execution_count": 42,
   "id": "06298565",
   "metadata": {},
   "outputs": [
    {
     "name": "stdout",
     "output_type": "stream",
     "text": [
      "Epoch 1/100\n",
      "1407/1407 [==============================] - 18s 9ms/step - loss: 1.9080 - accuracy: 0.2571 - val_loss: 1.7959 - val_accuracy: 0.3060\n",
      "Epoch 2/100\n",
      "1407/1407 [==============================] - 13s 9ms/step - loss: 1.7164 - accuracy: 0.3591 - val_loss: 1.6991 - val_accuracy: 0.3632\n",
      "Epoch 3/100\n",
      "1407/1407 [==============================] - 13s 9ms/step - loss: 1.6159 - accuracy: 0.4053 - val_loss: 1.6111 - val_accuracy: 0.4126\n",
      "Epoch 4/100\n",
      "1407/1407 [==============================] - 13s 9ms/step - loss: 1.5459 - accuracy: 0.4358 - val_loss: 1.5881 - val_accuracy: 0.4370\n",
      "Epoch 5/100\n",
      "1407/1407 [==============================] - 13s 9ms/step - loss: 1.4815 - accuracy: 0.4650 - val_loss: 1.6093 - val_accuracy: 0.4208\n",
      "Epoch 6/100\n",
      "1407/1407 [==============================] - 14s 10ms/step - loss: 1.4300 - accuracy: 0.4870 - val_loss: 1.5276 - val_accuracy: 0.4586\n",
      "Epoch 7/100\n",
      "1407/1407 [==============================] - 14s 10ms/step - loss: 1.3786 - accuracy: 0.5049 - val_loss: 1.5359 - val_accuracy: 0.4596\n",
      "Epoch 8/100\n",
      "1407/1407 [==============================] - 14s 10ms/step - loss: 1.3353 - accuracy: 0.5200 - val_loss: 1.4941 - val_accuracy: 0.4754\n",
      "Epoch 9/100\n",
      "1407/1407 [==============================] - 14s 10ms/step - loss: 1.2959 - accuracy: 0.5353 - val_loss: 1.5049 - val_accuracy: 0.4702\n",
      "Epoch 10/100\n",
      "1407/1407 [==============================] - 15s 10ms/step - loss: 1.2631 - accuracy: 0.5485 - val_loss: 1.4948 - val_accuracy: 0.4884\n",
      "Epoch 11/100\n",
      "1407/1407 [==============================] - 16s 11ms/step - loss: 1.2363 - accuracy: 0.5603 - val_loss: 1.5003 - val_accuracy: 0.4758\n",
      "Epoch 12/100\n",
      "1407/1407 [==============================] - 15s 10ms/step - loss: 1.2081 - accuracy: 0.5692 - val_loss: 1.4877 - val_accuracy: 0.4776\n",
      "Epoch 13/100\n",
      "1407/1407 [==============================] - 15s 10ms/step - loss: 1.1803 - accuracy: 0.5786 - val_loss: 1.5402 - val_accuracy: 0.4854\n",
      "Epoch 14/100\n",
      "1407/1407 [==============================] - 15s 11ms/step - loss: 1.1534 - accuracy: 0.5874 - val_loss: 1.4706 - val_accuracy: 0.4954\n",
      "Epoch 15/100\n",
      "1407/1407 [==============================] - 15s 11ms/step - loss: 1.1232 - accuracy: 0.5989 - val_loss: 1.5664 - val_accuracy: 0.4830\n",
      "Epoch 16/100\n",
      "1407/1407 [==============================] - 15s 11ms/step - loss: 1.0990 - accuracy: 0.6085 - val_loss: 1.5085 - val_accuracy: 0.4942\n",
      "Epoch 17/100\n",
      "1407/1407 [==============================] - 15s 11ms/step - loss: 1.0761 - accuracy: 0.6171 - val_loss: 1.5012 - val_accuracy: 0.4890\n",
      "Epoch 18/100\n",
      "1407/1407 [==============================] - 16s 11ms/step - loss: 1.0506 - accuracy: 0.6255 - val_loss: 1.5565 - val_accuracy: 0.4832\n",
      "Epoch 19/100\n",
      "1407/1407 [==============================] - 16s 12ms/step - loss: 1.0352 - accuracy: 0.6306 - val_loss: 1.5635 - val_accuracy: 0.5002\n",
      "Epoch 20/100\n",
      "1407/1407 [==============================] - 16s 12ms/step - loss: 1.0103 - accuracy: 0.6409 - val_loss: 1.6153 - val_accuracy: 0.4872\n",
      "Epoch 21/100\n",
      "1407/1407 [==============================] - 16s 12ms/step - loss: 0.9919 - accuracy: 0.6478 - val_loss: 1.6009 - val_accuracy: 0.4950\n",
      "Epoch 22/100\n",
      "1407/1407 [==============================] - 16s 12ms/step - loss: 0.9637 - accuracy: 0.6580 - val_loss: 1.5835 - val_accuracy: 0.4878\n",
      "Epoch 23/100\n",
      "1407/1407 [==============================] - 16s 11ms/step - loss: 0.9450 - accuracy: 0.6616 - val_loss: 1.6167 - val_accuracy: 0.4902\n",
      "Epoch 24/100\n",
      "1407/1407 [==============================] - 16s 12ms/step - loss: 0.9248 - accuracy: 0.6727 - val_loss: 1.6245 - val_accuracy: 0.4960\n"
     ]
    },
    {
     "data": {
      "text/plain": [
       "<keras.callbacks.History at 0x1c80a39d610>"
      ]
     },
     "execution_count": 42,
     "metadata": {},
     "output_type": "execute_result"
    }
   ],
   "source": [
    "keras.backend.clear_session()\n",
    "tf.random.set_seed(42)\n",
    "np.random.seed(42)\n",
    "\n",
    "# SELU와 자기 정규화를 위한 변경사항을 적용하여 모델 쌓기\n",
    "model = keras.models.Sequential()\n",
    "model.add(keras.layers.Flatten(input_shape=[32,32,3]))\n",
    "for _ in range(20):\n",
    "    model.add(keras.layers.Dense(100,\n",
    "                                kernel_initializer='lecun_normal',\n",
    "                                activation='relu'))\n",
    "model.add(keras.layers.Dense(10, activation='softmax'))\n",
    "\n",
    "# Nadam의 학습률을 5e-4로 지정\n",
    "optimizer = keras.optimizers.Nadam(learning_rate=5e-4)\n",
    "model.compile(loss=\"sparse_categorical_crossentropy\",\n",
    "              optimizer=optimizer,\n",
    "              metrics=[\"accuracy\"])\n",
    "\n",
    "# 콜백 지정(너무 오래 학습하는거 같아 patience를 10으로 줄임)\n",
    "early_stopping_cb = keras.callbacks.EarlyStopping(patience=10)\n",
    "model_checkpoint_cb = keras.callbacks.ModelCheckpoint(\"my_cifar10_selu_model.h5\", save_best_only=True)\n",
    "run_index = 1 # 모델을 훈련할 때마다 증가시킬 예정\n",
    "run_logdir = os.path.join(os.curdir, \"my_cifar10_logs\", \"run_selu_{:03d}\".format(run_index))\n",
    "tensorboard_cb = keras.callbacks.TensorBoard(run_logdir)\n",
    "callbacks = [early_stopping_cb, model_checkpoint_cb, tensorboard_cb]\n",
    "\n",
    "# 입력 특성 표준화 진행\n",
    "X_means = X_train.mean(axis=0)\n",
    "X_stds = X_train.std(axis=0)\n",
    "X_train_scaled = (X_train - X_means) / X_stds\n",
    "X_valid_scaled = (X_valid - X_means) / X_stds\n",
    "X_test_scaled = (X_test - X_means) / X_stds\n",
    "\n",
    "model.fit(X_train_scaled, y_train, epochs=100,\n",
    "         validation_data=(X_valid_scaled, y_valid),\n",
    "         callbacks=callbacks)"
   ]
  },
  {
   "cell_type": "code",
   "execution_count": 43,
   "id": "1323d54e",
   "metadata": {},
   "outputs": [
    {
     "name": "stdout",
     "output_type": "stream",
     "text": [
      "157/157 [==============================] - 1s 3ms/step - loss: 1.4706 - accuracy: 0.4954\n"
     ]
    },
    {
     "data": {
      "text/plain": [
       "[1.4706134796142578, 0.49540001153945923]"
      ]
     },
     "execution_count": 43,
     "metadata": {},
     "output_type": "execute_result"
    }
   ],
   "source": [
    "model = keras.models.load_model('my_cifar10_selu_model.h5')\n",
    "model.evaluate(X_valid_scaled, y_valid)"
   ]
  },
  {
   "cell_type": "markdown",
   "id": "235d1903",
   "metadata": {},
   "source": [
    "검증 정확도가 원래 모델의 48.18%에서 49.54%로 소폭 상승하였음"
   ]
  },
  {
   "cell_type": "markdown",
   "id": "34bc659a",
   "metadata": {},
   "source": [
    "### e.\n",
    "문제: 알파 드롭아웃으로 모델에 규제를 적용해보세요. 그다음 모델을 다시 훈련하지 않고 MC 드롭아웃으로 더 높은 정확도를 얻을 수 있는지 확인해보세요."
   ]
  },
  {
   "cell_type": "code",
   "execution_count": 44,
   "id": "361d3212",
   "metadata": {},
   "outputs": [
    {
     "name": "stdout",
     "output_type": "stream",
     "text": [
      "Epoch 1/100\n",
      "1407/1407 [==============================] - 21s 10ms/step - loss: 1.8953 - accuracy: 0.3242 - val_loss: 1.7431 - val_accuracy: 0.3900\n",
      "Epoch 2/100\n",
      "1407/1407 [==============================] - 14s 10ms/step - loss: 1.6624 - accuracy: 0.4130 - val_loss: 1.7192 - val_accuracy: 0.3868\n",
      "Epoch 3/100\n",
      "1407/1407 [==============================] - 14s 10ms/step - loss: 1.5651 - accuracy: 0.4484 - val_loss: 1.6551 - val_accuracy: 0.4308\n",
      "Epoch 4/100\n",
      "1407/1407 [==============================] - 14s 10ms/step - loss: 1.5024 - accuracy: 0.4708 - val_loss: 1.5489 - val_accuracy: 0.4542\n",
      "Epoch 5/100\n",
      "1407/1407 [==============================] - 15s 10ms/step - loss: 1.4406 - accuracy: 0.4954 - val_loss: 1.5890 - val_accuracy: 0.4530\n",
      "Epoch 6/100\n",
      "1407/1407 [==============================] - 15s 11ms/step - loss: 1.3984 - accuracy: 0.5094 - val_loss: 1.5223 - val_accuracy: 0.4878\n",
      "Epoch 7/100\n",
      "1407/1407 [==============================] - 14s 10ms/step - loss: 1.3555 - accuracy: 0.5284 - val_loss: 1.5716 - val_accuracy: 0.4768\n",
      "Epoch 8/100\n",
      "1407/1407 [==============================] - 15s 10ms/step - loss: 1.3170 - accuracy: 0.5418 - val_loss: 1.5226 - val_accuracy: 0.4906\n",
      "Epoch 9/100\n",
      "1407/1407 [==============================] - 15s 11ms/step - loss: 1.2789 - accuracy: 0.5560 - val_loss: 1.5703 - val_accuracy: 0.4802\n",
      "Epoch 10/100\n",
      "1407/1407 [==============================] - 14s 10ms/step - loss: 1.2463 - accuracy: 0.5666 - val_loss: 1.5536 - val_accuracy: 0.5008\n",
      "Epoch 11/100\n",
      "1407/1407 [==============================] - 15s 11ms/step - loss: 1.2162 - accuracy: 0.5808 - val_loss: 1.6330 - val_accuracy: 0.4948\n",
      "Epoch 12/100\n",
      "1407/1407 [==============================] - 15s 11ms/step - loss: 1.1865 - accuracy: 0.5913 - val_loss: 1.5253 - val_accuracy: 0.4946\n",
      "Epoch 13/100\n",
      "1407/1407 [==============================] - 15s 10ms/step - loss: 1.1539 - accuracy: 0.6028 - val_loss: 1.5729 - val_accuracy: 0.5064\n",
      "Epoch 14/100\n",
      "1407/1407 [==============================] - 15s 11ms/step - loss: 1.1317 - accuracy: 0.6130 - val_loss: 1.5574 - val_accuracy: 0.4980\n",
      "Epoch 15/100\n",
      "1407/1407 [==============================] - 15s 11ms/step - loss: 1.0997 - accuracy: 0.6257 - val_loss: 1.6359 - val_accuracy: 0.5008\n",
      "Epoch 16/100\n",
      "1407/1407 [==============================] - 15s 11ms/step - loss: 1.0773 - accuracy: 0.6325 - val_loss: 1.6943 - val_accuracy: 0.5114\n"
     ]
    },
    {
     "data": {
      "text/plain": [
       "<keras.callbacks.History at 0x1c80a0d43d0>"
      ]
     },
     "execution_count": 44,
     "metadata": {},
     "output_type": "execute_result"
    }
   ],
   "source": [
    "keras.backend.clear_session()\n",
    "tf.random.set_seed(42)\n",
    "np.random.seed(42)\n",
    "\n",
    "# 이 부분은 앞과 동일\n",
    "model = keras.models.Sequential()\n",
    "model.add(keras.layers.Flatten(input_shape=[32, 32, 3]))\n",
    "for _ in range(20):\n",
    "    model.add(keras.layers.Dense(100,\n",
    "                                 kernel_initializer=\"lecun_normal\",\n",
    "                                 activation=\"selu\"))\n",
    "    \n",
    "# 알파 드롭아웃 규제 적용\n",
    "model.add(keras.layers.AlphaDropout(rate=0.1))\n",
    "model.add(keras.layers.Dense(10, activation='softmax'))\n",
    "\n",
    "# 옵티마이저도 앞과 동일\n",
    "optimizer = keras.optimizers.Nadam(learning_rate=5e-4)\n",
    "model.compile(loss=\"sparse_categorical_crossentropy\",\n",
    "              optimizer=optimizer,\n",
    "              metrics=[\"accuracy\"])\n",
    "\n",
    "# 콜백도 앞과 동일\n",
    "early_stopping_cb = keras.callbacks.EarlyStopping(patience=10)\n",
    "model_checkpoint_cb = keras.callbacks.ModelCheckpoint(\"my_cifar10_alpha_dropout_model.h5\", save_best_only=True)\n",
    "run_index = 1 # 모델을 훈련할 때마다 증가시킴\n",
    "run_logdir = os.path.join(os.curdir, \"my_cifar10_logs\", \"run_alpha_dropout_{:03d}\".format(run_index))\n",
    "tensorboard_cb = keras.callbacks.TensorBoard(run_logdir)\n",
    "callbacks = [early_stopping_cb, model_checkpoint_cb, tensorboard_cb]\n",
    "\n",
    "# 입력 데이터 표준화도 앞과 동일\n",
    "X_means = X_train.mean(axis=0)\n",
    "X_stds = X_train.std(axis=0)\n",
    "X_train_scaled = (X_train - X_means) / X_stds\n",
    "X_valid_scaled = (X_valid - X_means) / X_stds\n",
    "X_test_scaled = (X_test - X_means) / X_stds\n",
    "\n",
    "model.fit(X_train_scaled, y_train, epochs=100,\n",
    "          validation_data=(X_valid_scaled, y_valid),\n",
    "          callbacks=callbacks)"
   ]
  },
  {
   "cell_type": "code",
   "execution_count": 45,
   "id": "15c4162e",
   "metadata": {},
   "outputs": [
    {
     "name": "stdout",
     "output_type": "stream",
     "text": [
      "157/157 [==============================] - 1s 3ms/step - loss: 1.5223 - accuracy: 0.4878\n"
     ]
    },
    {
     "data": {
      "text/plain": [
       "[1.5222821235656738, 0.4878000020980835]"
      ]
     },
     "execution_count": 45,
     "metadata": {},
     "output_type": "execute_result"
    }
   ],
   "source": [
    "model = keras.models.load_model(\"my_cifar10_alpha_dropout_model.h5\")\n",
    "model.evaluate(X_valid_scaled, y_valid)"
   ]
  },
  {
   "cell_type": "markdown",
   "id": "9594e5c4",
   "metadata": {},
   "source": [
    "검증 정확도가 48.78%로 원래 모델의 검증 정확도 48.18%보다 소폭 상승하였음  \n",
    "\n",
    "이제 MC 드롭아웃을 위한 준비:"
   ]
  },
  {
   "cell_type": "code",
   "execution_count": 46,
   "id": "b39821f0",
   "metadata": {},
   "outputs": [],
   "source": [
    "# 앞서 사용한 MCAlphaDropout 클래스를 복사해서 사용\n",
    "class MCAlphaDropout(keras.layers.AlphaDropout):\n",
    "    def call(self, inputs):\n",
    "        return super().call(inputs, training=True)"
   ]
  },
  {
   "cell_type": "code",
   "execution_count": 47,
   "id": "c8c06c1d",
   "metadata": {},
   "outputs": [],
   "source": [
    "# 방금 훈련했던 모델과 같은 가중치를 가진 새로운 모델을 생성\n",
    "# AlphaDropout 층이 아닌 MCAlphaDropout 층을 사용\n",
    "mc_model = keras.models.Sequential([\n",
    "    MCAlphaDropout(layer.rate) if isinstance(layer, keras.layers.AlphaDropout) else layer\n",
    "    for layer in model.layers # 방금 훈련했던 모델을 가져옴\n",
    "])"
   ]
  },
  {
   "cell_type": "code",
   "execution_count": 48,
   "id": "f40278ee",
   "metadata": {},
   "outputs": [],
   "source": [
    "# 몇 가지 유틸리티 함수를 추가\n",
    "# 첫 번째 함수: 모델을 여러 번 실행(기본 세팅:10번)하여 평균을 낸 예측 클래스 확률을 반환\n",
    "def mc_dropout_predict_probas(mc_model, X, n_samples=10):\n",
    "    Y_probas = [mc_model.predict(X) for sample in range(n_samples)]\n",
    "    return np.mean(Y_probas, axis=0)\n",
    "\n",
    "\n",
    "# 두 번째 함수: 첫 번째 함수에서 구한 평균 확률로 각 샘플의 클래스를 예측\n",
    "def mc_dropout_predict_classes(mc_model, X, n_samples=10):\n",
    "    Y_probas = mc_dropout_predict_probas(mc_model, X, n_samples)\n",
    "    return np.argmax(Y_probas, axis=1)"
   ]
  },
  {
   "cell_type": "code",
   "execution_count": 49,
   "id": "024142fb",
   "metadata": {},
   "outputs": [
    {
     "name": "stdout",
     "output_type": "stream",
     "text": [
      "157/157 [==============================] - 1s 3ms/step\n",
      "157/157 [==============================] - 0s 3ms/step\n",
      "157/157 [==============================] - 0s 3ms/step\n",
      "157/157 [==============================] - 0s 3ms/step\n",
      "157/157 [==============================] - 0s 3ms/step\n",
      "157/157 [==============================] - 1s 3ms/step\n",
      "157/157 [==============================] - 1s 3ms/step\n",
      "157/157 [==============================] - 0s 3ms/step\n",
      "157/157 [==============================] - 1s 3ms/step\n",
      "157/157 [==============================] - 0s 3ms/step\n"
     ]
    },
    {
     "data": {
      "text/plain": [
       "0.4876"
      ]
     },
     "execution_count": 49,
     "metadata": {},
     "output_type": "execute_result"
    }
   ],
   "source": [
    "# 이제 검증 세트의 모든 샘플에 대한 예측 생성 후 정확도 계산\n",
    "keras.backend.clear_session()\n",
    "tf.random.set_seed(42)\n",
    "np.random.seed(42)\n",
    "\n",
    "y_pred = mc_dropout_predict_classes(mc_model, X_valid_scaled)\n",
    "accuracy = np.mean(y_pred == y_valid[:, 0])\n",
    "accuracy"
   ]
  },
  {
   "cell_type": "markdown",
   "id": "9e8e31e8",
   "metadata": {},
   "source": [
    "검증 정확도가 48.76%로 이전 48.78%보다 아주 소폭 하락하였음  \n",
    "\n",
    "따라서 이 연습문제에서 얻은 최상의 모델은 **BatchNormalization 층을 사용한 배치 정규화 모델**임"
   ]
  },
  {
   "cell_type": "markdown",
   "id": "ed7c657a",
   "metadata": {},
   "source": [
    "### f.\n",
    "문제: 1사이클 스케줄링으로 모델을 다시 훈련하고 훈련 속도와 모델 정확도가 향상되는지 확인해보세요."
   ]
  },
  {
   "cell_type": "code",
   "execution_count": 50,
   "id": "67f473f8",
   "metadata": {},
   "outputs": [],
   "source": [
    "# 앞에서 정의한 클래스 다시 가져옴\n",
    "K = keras.backend\n",
    "\n",
    "class ExponentialLearningRate(keras.callbacks.Callback):\n",
    "    def __init__(self, factor):\n",
    "        self.factor = factor\n",
    "        self.rates = []\n",
    "        self.losses = []\n",
    "    def on_batch_end(self, batch, logs):\n",
    "        self.rates.append(K.get_value(self.model.optimizer.lr))\n",
    "        self.losses.append(logs[\"loss\"])\n",
    "        K.set_value(self.model.optimizer.lr, self.model.optimizer.lr * self.factor)\n",
    "\n",
    "def find_learning_rate(model, X, y, epochs=1, batch_size=32, min_rate=10**-5, max_rate=10):\n",
    "    init_weights = model.get_weights()\n",
    "    iterations = math.ceil(len(X) / batch_size) * epochs\n",
    "    factor = np.exp(np.log(max_rate / min_rate) / iterations)\n",
    "    init_lr = K.get_value(model.optimizer.lr)\n",
    "    K.set_value(model.optimizer.lr, min_rate)\n",
    "    exp_lr = ExponentialLearningRate(factor)\n",
    "    history = model.fit(X, y, epochs=epochs, batch_size=batch_size,\n",
    "                        callbacks=[exp_lr])\n",
    "    K.set_value(model.optimizer.lr, init_lr)\n",
    "    model.set_weights(init_weights)\n",
    "    return exp_lr.rates, exp_lr.losses\n",
    "\n",
    "def plot_lr_vs_loss(rates, losses):\n",
    "    plt.plot(rates, losses)\n",
    "    plt.gca().set_xscale('log')\n",
    "    plt.hlines(min(losses), min(rates), max(rates))\n",
    "    plt.axis([min(rates), max(rates), min(losses), (losses[0] + min(losses)) / 2])\n",
    "    plt.xlabel(\"Learning rate\")\n",
    "    plt.ylabel(\"Loss\")"
   ]
  },
  {
   "cell_type": "code",
   "execution_count": 51,
   "id": "6192a0a3",
   "metadata": {},
   "outputs": [],
   "source": [
    "# 앞에서 정의한 클래스 다시 가져옴\n",
    "class OneCycleScheduler(keras.callbacks.Callback):\n",
    "    def __init__(self, iterations, max_rate, start_rate=None,\n",
    "                 last_iterations=None, last_rate=None):\n",
    "        self.iterations = iterations\n",
    "        self.max_rate = max_rate\n",
    "        self.start_rate = start_rate or max_rate / 10\n",
    "        self.last_iterations = last_iterations or iterations // 10 + 1\n",
    "        self.half_iteration = (iterations - self.last_iterations) // 2\n",
    "        self.last_rate = last_rate or self.start_rate / 1000\n",
    "        self.iteration = 0\n",
    "    def _interpolate(self, iter1, iter2, rate1, rate2):\n",
    "        return ((rate2 - rate1) * (self.iteration - iter1)\n",
    "                / (iter2 - iter1) + rate1)\n",
    "    def on_batch_begin(self, batch, logs):\n",
    "        if self.iteration < self.half_iteration:\n",
    "            rate = self._interpolate(0, self.half_iteration, self.start_rate, self.max_rate)\n",
    "        elif self.iteration < 2 * self.half_iteration:\n",
    "            rate = self._interpolate(self.half_iteration, 2 * self.half_iteration,\n",
    "                                     self.max_rate, self.start_rate)\n",
    "        else:\n",
    "            rate = self._interpolate(2 * self.half_iteration, self.iterations,\n",
    "                                     self.start_rate, self.last_rate)\n",
    "        self.iteration += 1\n",
    "        K.set_value(self.model.optimizer.lr, rate)"
   ]
  },
  {
   "cell_type": "code",
   "execution_count": 52,
   "id": "8c57278b",
   "metadata": {},
   "outputs": [],
   "source": [
    "# 앞에서 한 알파 드롭아웃을 적용한 모델 다시 정의\n",
    "keras.backend.clear_session()\n",
    "tf.random.set_seed(42)\n",
    "np.random.seed(42)\n",
    "\n",
    "model = keras.models.Sequential()\n",
    "model.add(keras.layers.Flatten(input_shape=[32, 32, 3]))\n",
    "for _ in range(20):\n",
    "    model.add(keras.layers.Dense(100,\n",
    "                                 kernel_initializer=\"lecun_normal\",\n",
    "                                 activation=\"selu\"))\n",
    "\n",
    "model.add(keras.layers.AlphaDropout(rate=0.1))\n",
    "model.add(keras.layers.Dense(10, activation=\"softmax\"))\n",
    "\n",
    "optimizer = keras.optimizers.SGD(learning_rate=1e-3)\n",
    "model.compile(loss=\"sparse_categorical_crossentropy\",\n",
    "              optimizer=optimizer,\n",
    "              metrics=[\"accuracy\"])"
   ]
  },
  {
   "cell_type": "code",
   "execution_count": 54,
   "id": "a4110bda",
   "metadata": {},
   "outputs": [
    {
     "name": "stdout",
     "output_type": "stream",
     "text": [
      "352/352 [==============================] - 5s 12ms/step - loss: nan - accuracy: 0.1420\n"
     ]
    },
    {
     "data": {
      "text/plain": [
       "(9.999999747378752e-06,\n",
       " 9.615227699279785,\n",
       " 2.621089458465576,\n",
       " 4.016006674085345)"
      ]
     },
     "execution_count": 54,
     "metadata": {},
     "output_type": "execute_result"
    },
    {
     "data": {
      "image/png": "[encoded data removed]",
      "text/plain": [
       "<Figure size 432x288 with 1 Axes>"
      ]
     },
     "metadata": {
      "needs_background": "light"
     },
     "output_type": "display_data"
    }
   ],
   "source": [
    "# 1사이클 스케줄링에서 정의한 클래스를 바탕으로 학습률-손실 그래프 작성\n",
    "import math\n",
    "\n",
    "batch_size = 128\n",
    "rates, losses = find_learning_rate(model, X_train_scaled, y_train, epochs=1, batch_size=batch_size)\n",
    "plot_lr_vs_loss(rates, losses)\n",
    "plt.axis([min(rates), max(rates), min(losses), (losses[0] + min(losses)) / 1.4])"
   ]
  },
  {
   "cell_type": "code",
   "execution_count": 55,
   "id": "22816a6c",
   "metadata": {},
   "outputs": [],
   "source": [
    "# 처음 시작 학습률을 1e-2(10의 -2승)으로 변경하여 다시 모델링\n",
    "keras.backend.clear_session()\n",
    "tf.random.set_seed(42)\n",
    "np.random.seed(42)\n",
    "\n",
    "model = keras.models.Sequential()\n",
    "model.add(keras.layers.Flatten(input_shape=[32, 32, 3]))\n",
    "for _ in range(20):\n",
    "    model.add(keras.layers.Dense(100,\n",
    "                                 kernel_initializer=\"lecun_normal\",\n",
    "                                 activation=\"selu\"))\n",
    "\n",
    "model.add(keras.layers.AlphaDropout(rate=0.1))\n",
    "model.add(keras.layers.Dense(10, activation=\"softmax\"))\n",
    "\n",
    "optimizer = keras.optimizers.SGD(learning_rate=1e-2)\n",
    "model.compile(loss=\"sparse_categorical_crossentropy\",\n",
    "              optimizer=optimizer,\n",
    "              metrics=[\"accuracy\"])"
   ]
  },
  {
   "cell_type": "code",
   "execution_count": 56,
   "id": "e5d96a22",
   "metadata": {},
   "outputs": [
    {
     "name": "stdout",
     "output_type": "stream",
     "text": [
      "Epoch 1/15\n",
      "352/352 [==============================] - 6s 14ms/step - loss: 2.0432 - accuracy: 0.2862 - val_loss: 1.7718 - val_accuracy: 0.3662\n",
      "Epoch 2/15\n",
      "352/352 [==============================] - 4s 12ms/step - loss: 1.7532 - accuracy: 0.3780 - val_loss: 1.6816 - val_accuracy: 0.4008\n",
      "Epoch 3/15\n",
      "352/352 [==============================] - 4s 12ms/step - loss: 1.6243 - accuracy: 0.4215 - val_loss: 1.6018 - val_accuracy: 0.4380\n",
      "Epoch 4/15\n",
      "352/352 [==============================] - 4s 12ms/step - loss: 1.5483 - accuracy: 0.4470 - val_loss: 1.6041 - val_accuracy: 0.4400\n",
      "Epoch 5/15\n",
      "352/352 [==============================] - 4s 12ms/step - loss: 1.4943 - accuracy: 0.4675 - val_loss: 1.5958 - val_accuracy: 0.4612\n",
      "Epoch 6/15\n",
      "352/352 [==============================] - 4s 13ms/step - loss: 1.4527 - accuracy: 0.4855 - val_loss: 1.5376 - val_accuracy: 0.4598\n",
      "Epoch 7/15\n",
      "352/352 [==============================] - 4s 12ms/step - loss: 1.4170 - accuracy: 0.4999 - val_loss: 1.6096 - val_accuracy: 0.4520\n",
      "Epoch 8/15\n",
      "352/352 [==============================] - 4s 12ms/step - loss: 1.3442 - accuracy: 0.5246 - val_loss: 1.4856 - val_accuracy: 0.4892\n",
      "Epoch 9/15\n",
      "352/352 [==============================] - 4s 12ms/step - loss: 1.2695 - accuracy: 0.5499 - val_loss: 1.5015 - val_accuracy: 0.4844\n",
      "Epoch 10/15\n",
      "352/352 [==============================] - 4s 12ms/step - loss: 1.2009 - accuracy: 0.5750 - val_loss: 1.5066 - val_accuracy: 0.5082\n",
      "Epoch 11/15\n",
      "352/352 [==============================] - 4s 12ms/step - loss: 1.1296 - accuracy: 0.5962 - val_loss: 1.5277 - val_accuracy: 0.5026\n",
      "Epoch 12/15\n",
      "352/352 [==============================] - 4s 12ms/step - loss: 1.0614 - accuracy: 0.6230 - val_loss: 1.5070 - val_accuracy: 0.5116\n",
      "Epoch 13/15\n",
      "352/352 [==============================] - 4s 12ms/step - loss: 0.9890 - accuracy: 0.6479 - val_loss: 1.5119 - val_accuracy: 0.5270\n",
      "Epoch 14/15\n",
      "352/352 [==============================] - 4s 12ms/step - loss: 0.9245 - accuracy: 0.6713 - val_loss: 1.5463 - val_accuracy: 0.5258\n",
      "Epoch 15/15\n",
      "352/352 [==============================] - 4s 12ms/step - loss: 0.8838 - accuracy: 0.6870 - val_loss: 1.5715 - val_accuracy: 0.5238\n"
     ]
    }
   ],
   "source": [
    "# 15 에포크 만큼 1사이클 스케줄링 콜백을 사용하여 모델 학습\n",
    "n_epochs = 15\n",
    "onecycle = OneCycleScheduler(len(X_train_scaled) // batch_size * n_epochs, max_rate=0.05)\n",
    "history = model.fit(X_train_scaled, y_train, epochs=n_epochs, batch_size=batch_size,\n",
    "                    validation_data=(X_valid_scaled, y_valid),\n",
    "                    callbacks=[onecycle])"
   ]
  },
  {
   "cell_type": "markdown",
   "id": "d16fe44b",
   "metadata": {},
   "source": [
    "배치 사이즈가 128로 컸기 때문에 각 에포크는 약 4초 정도씩만 소요되었음  \n",
    "이는 지금까지 훈련한 가장 빠른 모델보다 약 3배 정도로 굉장히 빠른 편임  \n",
    "뿐만 아니라 모델의 검증 정확도도 52.38%로 비교의 기준이었던 48.18%보다 올라갔음.  \n",
    "\n",
    "검증 정확도가 54.34%였던 배치 정규화 모델보다는 1 사이클 스케줄링 모델이 성능이 낮지만, 그래도 훈련 속도가 에포크당 27초에서 4초로 훨씬 더 줄어들었기 때문에 고려해볼만 한 선택지이라고 볼 수 있음 "
   ]
  },
  {
   "cell_type": "markdown",
   "id": "b0361457",
   "metadata": {},
   "source": [
    "# END"
   ]
  }
 ],
 "metadata": {
  "kernelspec": {
   "display_name": "Python 3 (ipykernel)",
   "language": "python",
   "name": "python3"
  },
  "language_info": {
   "codemirror_mode": {
    "name": "ipython",
    "version": 3
   },
   "file_extension": ".py",
   "mimetype": "text/x-python",
   "name": "python",
   "nbconvert_exporter": "python",
   "pygments_lexer": "ipython3",
   "version": "3.9.12"
  }
 },
 "nbformat": 4,
 "nbformat_minor": 5
}
