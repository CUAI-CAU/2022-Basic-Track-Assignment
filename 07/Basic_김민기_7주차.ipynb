{
 "cells": [
  {
   "cell_type": "markdown",
   "id": "06daacfc",
   "metadata": {},
   "source": [
    "# 7. 앙상블 학습과 랜덤 포레스트"
   ]
  },
  {
   "cell_type": "code",
   "execution_count": 2,
   "id": "4814a978",
   "metadata": {},
   "outputs": [],
   "source": [
    "import numpy as np\n",
    "np.random.seed(42)\n",
    "import os \n",
    "import sklearn\n",
    "%matplotlib inline\n",
    "import matplotlib as mpl\n",
    "import matplotlib.pyplot as plt"
   ]
  },
  {
   "cell_type": "markdown",
   "id": "c91aaf0e",
   "metadata": {},
   "source": [
    "- 여러개의 예측기로 예측을 수집 => 더 좋은 예측을 할 수 있을것  \n",
    "    - 여기서 여러개의 예측기를 앙상블이라고 하고, 이 학습을 앙상블 학습이라고 한다.\n",
    "    - 앙상블 학습 알고리즘 = 앙상블 방법\n",
    "- 결정 트리의 앙상블 = 랜덤 포레스트(random forest)"
   ]
  },
  {
   "cell_type": "markdown",
   "id": "66cd2355",
   "metadata": {},
   "source": [
    "# 7.1 투표기반 분류기"
   ]
  },
  {
   "cell_type": "markdown",
   "id": "a195062c",
   "metadata": {},
   "source": [
    "#### Hard voting(직접 투표)  \n",
    "- 각 분류기의 예측을 모아서 가장 많이 선택된 클래스를 예측(다수결 예측)  \n",
    "    - 각 분류기가 weak learner라도, 앙상블은 strong learner가 될 수 있다.\n",
    "    - 큰 수의 법칙(law of large numbers)  \n",
    "        - 많은 앙상블 -> 높은 정확도로 수렴(동전 예시)\n",
    "---   \n",
    "#### Tip\n",
    "- 앙상블 방법은 예측기가 가능한 서로 독립적일 때 최고의 성능을 발휘한다.  \n",
    "    - 즉, 각기 다른 알고리즘으로 학습시킴 -> 각기 다른 종류의 오차 => 앙상블 모델의 정확도 향상"
   ]
  },
  {
   "cell_type": "code",
   "execution_count": 3,
   "id": "ac0debae",
   "metadata": {},
   "outputs": [],
   "source": [
    "from sklearn.model_selection import train_test_split\n",
    "from sklearn.datasets import make_moons\n",
    "\n",
    "X, y = make_moons(n_samples=500, noise=0.30, random_state=42)\n",
    "X_train, X_test, y_train, y_test = train_test_split(X, y, random_state=42)"
   ]
  },
  {
   "cell_type": "code",
   "execution_count": 4,
   "id": "16699b06",
   "metadata": {},
   "outputs": [
    {
     "data": {
      "text/plain": [
       "VotingClassifier(estimators=[('lr', LogisticRegression(random_state=42)),\n",
       "                             ('rf', RandomForestClassifier(random_state=42)),\n",
       "                             ('svc', SVC(random_state=42))])"
      ]
     },
     "execution_count": 4,
     "metadata": {},
     "output_type": "execute_result"
    }
   ],
   "source": [
    "from sklearn.ensemble import RandomForestClassifier\n",
    "from sklearn.ensemble import VotingClassifier\n",
    "from sklearn.linear_model import LogisticRegression\n",
    "from sklearn.svm import SVC\n",
    "\n",
    "log_clf = LogisticRegression(solver=\"lbfgs\", random_state=42)\n",
    "rnd_clf = RandomForestClassifier(n_estimators=100, random_state=42)\n",
    "svm_clf = SVC(gamma=\"scale\", random_state=42)\n",
    "#로지스틱 회귀, 랜덤포레스트, 서포트벡터머신 3개를 앙상블\n",
    "\n",
    "voting_clf = VotingClassifier(\n",
    "    estimators=[('lr', log_clf), ('rf', rnd_clf), ('svc', svm_clf)],\n",
    "    voting='hard') #hard voting사용\n",
    "\n",
    "#soft voting을 사용한다면, SVC의 매개변수 probability = True로 설정해야 함!\n",
    "#서포트벡터머신은 기본적으로 클래스 확률을 제공하지 않기 때문이다.\n",
    "voting_clf.fit(X_train, y_train)"
   ]
  },
  {
   "cell_type": "code",
   "execution_count": 5,
   "id": "37ec2fbf",
   "metadata": {},
   "outputs": [
    {
     "name": "stdout",
     "output_type": "stream",
     "text": [
      "LogisticRegression 0.864\n",
      "RandomForestClassifier 0.896\n",
      "SVC 0.896\n",
      "VotingClassifier 0.912\n"
     ]
    }
   ],
   "source": [
    "from sklearn.metrics import accuracy_score\n",
    "#각각의 분류기에 대한 테스트셋 정확도 확인\n",
    "\n",
    "for clf in (log_clf, rnd_clf, svm_clf, voting_clf):\n",
    "    clf.fit(X_train, y_train)\n",
    "    y_pred = clf.predict(X_test)\n",
    "    print(clf.__class__.__name__, accuracy_score(y_test, y_pred))\n",
    "    \n",
    "#각각의 분류기보다, 앙상블 모델의 정확도가 더 높다."
   ]
  },
  {
   "cell_type": "markdown",
   "id": "127c5d3d",
   "metadata": {},
   "source": [
    "#### Soft voting(간접투표)  \n",
    "- 모든 분류기가 클래스의 확률을 예측할 수 있다면 => 개별 분류기의 평균으로 가장 높은 확률의 클래스를 예측하는 것.\n",
    "    - 직접 투표 방식보다 성능이 높다\n"
   ]
  },
  {
   "cell_type": "markdown",
   "id": "f75bfd0e",
   "metadata": {},
   "source": [
    "# 7.2 배깅과 페이스팅"
   ]
  },
  {
   "cell_type": "markdown",
   "id": "3819eb7a",
   "metadata": {},
   "source": [
    "- 같은 알고리즘을 사용하고 훈련 세트의 서브셋을 무작위로 구성하여 분류기를 다르게 학습시키는 방식으로 앙상블 가능  \n",
    "    - 배깅(bagging): 훈련세트에서 중복을 허용하여 샘플링하는 방식(부트스트랩핑, bootstrapping)\n",
    "    - 페이스팅(pasting): 훈련세트에서 중복을 허용하지 않고 샘플링하는 방식\n",
    "    - 배깅과 페이스팅의 확장성: 병렬 학습을 가능하게 한다.  \n",
    "      \n",
    "        \n",
    "    - 배깅이 페이스팅(부트스트래핑)보다 높은 편향 & 앙상블의 낮은 분산\n",
    "    - 전반적으로 배깅이 더 나은 모델이긴 하지만 가능하다면 둘 다 해보는게 좋음.\n",
    "--- \n",
    "- 각 분류기 학습 후 앙상블은 모든 예측기의 예측을 모아 새로운 샘플에 대한 예측 실시  \n",
    "    - 수집함수\n",
    "            - 분류: 통계적 최빈값 이용  \n",
    "            - 회귀: 평균 이용"
   ]
  },
  {
   "cell_type": "markdown",
   "id": "6d0d283e",
   "metadata": {},
   "source": [
    "## 7.2.1 사이킷런의 배깅과 페이스팅"
   ]
  },
  {
   "cell_type": "code",
   "execution_count": 6,
   "id": "2e163ab0",
   "metadata": {},
   "outputs": [
    {
     "name": "stdout",
     "output_type": "stream",
     "text": [
      "0.904\n"
     ]
    }
   ],
   "source": [
    "from sklearn.ensemble import BaggingClassifier\n",
    "from sklearn.tree import DecisionTreeClassifier\n",
    "\n",
    "#500개의 트리를 사용한 배깅 앙상블\n",
    "bag_clf = BaggingClassifier(\n",
    "    DecisionTreeClassifier(), n_estimators=500,\n",
    "    max_samples=100, bootstrap=True, random_state=42) \n",
    "#bootstrap = False로 하면 페이스팅이고\n",
    "#True로 하면 배깅(부트스트랩핑, bootstrapping)\n",
    "bag_clf.fit(X_train, y_train)\n",
    "y_pred = bag_clf.predict(X_test)\n",
    "\n",
    "from sklearn.metrics import accuracy_score\n",
    "print(accuracy_score(y_test, y_pred))"
   ]
  },
  {
   "cell_type": "code",
   "execution_count": 7,
   "id": "d5546444",
   "metadata": {},
   "outputs": [
    {
     "name": "stdout",
     "output_type": "stream",
     "text": [
      "0.856\n"
     ]
    }
   ],
   "source": [
    "#단일 결정트리를 이용\n",
    "tree_clf = DecisionTreeClassifier(random_state=42)\n",
    "tree_clf.fit(X_train, y_train)\n",
    "y_pred_tree = tree_clf.predict(X_test)\n",
    "print(accuracy_score(y_test, y_pred_tree))"
   ]
  },
  {
   "attachments": {
    "image.png": {
     "image/png": "[encoded data removed]"
    }
   },
   "cell_type": "markdown",
   "id": "cd68b659",
   "metadata": {},
   "source": [
    "![image.png](attachment:image.png)"
   ]
  },
  {
   "cell_type": "markdown",
   "id": "f5f8036d",
   "metadata": {},
   "source": [
    " - 오른쪽이 앙상블 => 일반화 가능성이 더 높다"
   ]
  },
  {
   "cell_type": "markdown",
   "id": "636df74d",
   "metadata": {},
   "source": [
    "## 7.2.2. oob 평가"
   ]
  },
  {
   "cell_type": "markdown",
   "id": "f60c9a75",
   "metadata": {},
   "source": [
    "- BaggingClassifier는 디폴트로 배깅을 사용(bootstrap = True)\n",
    "    - 평균적으로 63%의 훈련 샘플만 샘플링 된다.  \n",
    "    - 나머지 37%를 oob(out-of-bag)샘플 이라고 한다.(예측기마다 oob는 다르다)\n",
    "--- \n",
    "예측기 훈련동안은 oob사용하지 않고, oob를 검증세트로 사용할 수 있다.\n",
    "- BaggingClassifier를 만들 때, oob_score = True로 하면 자동으로 oob평가 수행"
   ]
  },
  {
   "cell_type": "code",
   "execution_count": 8,
   "id": "48da7db1",
   "metadata": {},
   "outputs": [
    {
     "data": {
      "text/plain": [
       "0.8986666666666666"
      ]
     },
     "execution_count": 8,
     "metadata": {},
     "output_type": "execute_result"
    }
   ],
   "source": [
    "bag_clf = BaggingClassifier(\n",
    "    DecisionTreeClassifier(), n_estimators=500,\n",
    "    bootstrap=True, oob_score=True, n_jobs = -1, random_state=40)\n",
    "bag_clf.fit(X_train, y_train)\n",
    "bag_clf.oob_score_"
   ]
  },
  {
   "cell_type": "code",
   "execution_count": 9,
   "id": "162f5b75",
   "metadata": {},
   "outputs": [
    {
     "data": {
      "text/plain": [
       "0.912"
      ]
     },
     "execution_count": 9,
     "metadata": {},
     "output_type": "execute_result"
    }
   ],
   "source": [
    "from sklearn.metrics import accuracy_score\n",
    "y_pred = bag_clf.predict(X_test)\n",
    "accuracy_score(y_test, y_pred)\n",
    "#테스트 세트를 이용한 정확도 검증"
   ]
  },
  {
   "cell_type": "code",
   "execution_count": 10,
   "id": "85e75d9e",
   "metadata": {},
   "outputs": [
    {
     "data": {
      "text/plain": [
       "array([[0.32275132, 0.67724868],\n",
       "       [0.34117647, 0.65882353],\n",
       "       [1.        , 0.        ],\n",
       "       [0.        , 1.        ],\n",
       "       [0.        , 1.        ],\n",
       "       [0.09497207, 0.90502793],\n",
       "       [0.31147541, 0.68852459],\n",
       "       [0.01754386, 0.98245614],\n",
       "       [0.97109827, 0.02890173],\n",
       "       [0.97765363, 0.02234637],\n",
       "       [0.74404762, 0.25595238],\n",
       "       [0.        , 1.        ],\n",
       "       [0.7173913 , 0.2826087 ],\n",
       "       [0.85026738, 0.14973262],\n",
       "       [0.97222222, 0.02777778],\n",
       "       [0.0625    , 0.9375    ],\n",
       "       [0.        , 1.        ],\n",
       "       [0.97837838, 0.02162162],\n",
       "       [0.94642857, 0.05357143],\n",
       "       [1.        , 0.        ],\n",
       "       [0.01704545, 0.98295455],\n",
       "       [0.39473684, 0.60526316],\n",
       "       [0.88700565, 0.11299435],\n",
       "       [1.        , 0.        ],\n",
       "       [0.97790055, 0.02209945],\n",
       "       [0.        , 1.        ],\n",
       "       [0.99428571, 0.00571429],\n",
       "       [1.        , 0.        ],\n",
       "       [0.        , 1.        ],\n",
       "       [0.62569832, 0.37430168],\n",
       "       [0.        , 1.        ],\n",
       "       [1.        , 0.        ],\n",
       "       [0.        , 1.        ],\n",
       "       [0.        , 1.        ],\n",
       "       [0.13402062, 0.86597938],\n",
       "       [1.        , 0.        ],\n",
       "       [0.        , 1.        ],\n",
       "       [0.38251366, 0.61748634],\n",
       "       [0.        , 1.        ],\n",
       "       [1.        , 0.        ],\n",
       "       [0.27093596, 0.72906404],\n",
       "       [0.34146341, 0.65853659],\n",
       "       [1.        , 0.        ],\n",
       "       [1.        , 0.        ],\n",
       "       [0.        , 1.        ],\n",
       "       [1.        , 0.        ],\n",
       "       [1.        , 0.        ],\n",
       "       [0.        , 1.        ],\n",
       "       [1.        , 0.        ],\n",
       "       [0.00531915, 0.99468085],\n",
       "       [0.98843931, 0.01156069],\n",
       "       [0.91428571, 0.08571429],\n",
       "       [0.97282609, 0.02717391],\n",
       "       [0.98019802, 0.01980198],\n",
       "       [0.        , 1.        ],\n",
       "       [0.07361963, 0.92638037],\n",
       "       [0.98019802, 0.01980198],\n",
       "       [0.0052356 , 0.9947644 ],\n",
       "       [0.        , 1.        ],\n",
       "       [0.        , 1.        ],\n",
       "       [0.97790055, 0.02209945],\n",
       "       [0.8       , 0.2       ],\n",
       "       [0.42424242, 0.57575758],\n",
       "       [1.        , 0.        ],\n",
       "       [0.        , 1.        ],\n",
       "       [0.66477273, 0.33522727],\n",
       "       [1.        , 0.        ],\n",
       "       [1.        , 0.        ],\n",
       "       [0.86781609, 0.13218391],\n",
       "       [1.        , 0.        ],\n",
       "       [0.56725146, 0.43274854],\n",
       "       [0.1576087 , 0.8423913 ],\n",
       "       [0.66492147, 0.33507853],\n",
       "       [0.91709845, 0.08290155],\n",
       "       [0.        , 1.        ],\n",
       "       [0.16759777, 0.83240223],\n",
       "       [0.87434555, 0.12565445],\n",
       "       [1.        , 0.        ],\n",
       "       [0.        , 1.        ],\n",
       "       [0.995     , 0.005     ],\n",
       "       [0.        , 1.        ],\n",
       "       [0.07878788, 0.92121212],\n",
       "       [0.05418719, 0.94581281],\n",
       "       [0.29015544, 0.70984456],\n",
       "       [1.        , 0.        ],\n",
       "       [0.        , 1.        ],\n",
       "       [0.83040936, 0.16959064],\n",
       "       [0.01092896, 0.98907104],\n",
       "       [0.        , 1.        ],\n",
       "       [0.        , 1.        ],\n",
       "       [0.21465969, 0.78534031],\n",
       "       [1.        , 0.        ],\n",
       "       [0.        , 1.        ],\n",
       "       [0.        , 1.        ],\n",
       "       [0.        , 1.        ],\n",
       "       [0.94660194, 0.05339806],\n",
       "       [0.77094972, 0.22905028],\n",
       "       [0.        , 1.        ],\n",
       "       [1.        , 0.        ],\n",
       "       [0.16574586, 0.83425414],\n",
       "       [0.65306122, 0.34693878],\n",
       "       [0.        , 1.        ],\n",
       "       [0.02564103, 0.97435897],\n",
       "       [0.50555556, 0.49444444],\n",
       "       [1.        , 0.        ],\n",
       "       [0.03208556, 0.96791444],\n",
       "       [0.99435028, 0.00564972],\n",
       "       [0.23699422, 0.76300578],\n",
       "       [0.49509804, 0.50490196],\n",
       "       [0.9947644 , 0.0052356 ],\n",
       "       [0.00555556, 0.99444444],\n",
       "       [0.98963731, 0.01036269],\n",
       "       [0.26153846, 0.73846154],\n",
       "       [0.92972973, 0.07027027],\n",
       "       [1.        , 0.        ],\n",
       "       [1.        , 0.        ],\n",
       "       [0.        , 1.        ],\n",
       "       [0.        , 1.        ],\n",
       "       [0.80113636, 0.19886364],\n",
       "       [1.        , 0.        ],\n",
       "       [0.0106383 , 0.9893617 ],\n",
       "       [1.        , 0.        ],\n",
       "       [1.        , 0.        ],\n",
       "       [1.        , 0.        ],\n",
       "       [0.98181818, 0.01818182],\n",
       "       [1.        , 0.        ],\n",
       "       [0.01036269, 0.98963731],\n",
       "       [0.97752809, 0.02247191],\n",
       "       [0.99453552, 0.00546448],\n",
       "       [0.01960784, 0.98039216],\n",
       "       [0.17857143, 0.82142857],\n",
       "       [0.98387097, 0.01612903],\n",
       "       [0.29533679, 0.70466321],\n",
       "       [0.98295455, 0.01704545],\n",
       "       [0.        , 1.        ],\n",
       "       [0.00561798, 0.99438202],\n",
       "       [0.75690608, 0.24309392],\n",
       "       [0.38624339, 0.61375661],\n",
       "       [0.40625   , 0.59375   ],\n",
       "       [0.87368421, 0.12631579],\n",
       "       [0.92462312, 0.07537688],\n",
       "       [0.05181347, 0.94818653],\n",
       "       [0.82802548, 0.17197452],\n",
       "       [0.01546392, 0.98453608],\n",
       "       [0.        , 1.        ],\n",
       "       [0.02298851, 0.97701149],\n",
       "       [0.9726776 , 0.0273224 ],\n",
       "       [1.        , 0.        ],\n",
       "       [1.        , 0.        ],\n",
       "       [0.01041667, 0.98958333],\n",
       "       [0.        , 1.        ],\n",
       "       [0.03804348, 0.96195652],\n",
       "       [0.02040816, 0.97959184],\n",
       "       [1.        , 0.        ],\n",
       "       [1.        , 0.        ],\n",
       "       [0.94915254, 0.05084746],\n",
       "       [1.        , 0.        ],\n",
       "       [1.        , 0.        ],\n",
       "       [0.99462366, 0.00537634],\n",
       "       [0.        , 1.        ],\n",
       "       [0.39378238, 0.60621762],\n",
       "       [0.33152174, 0.66847826],\n",
       "       [0.00609756, 0.99390244],\n",
       "       [0.        , 1.        ],\n",
       "       [0.3172043 , 0.6827957 ],\n",
       "       [1.        , 0.        ],\n",
       "       [1.        , 0.        ],\n",
       "       [0.        , 1.        ],\n",
       "       [1.        , 0.        ],\n",
       "       [0.00588235, 0.99411765],\n",
       "       [0.        , 1.        ],\n",
       "       [0.98924731, 0.01075269],\n",
       "       [0.        , 1.        ],\n",
       "       [0.        , 1.        ],\n",
       "       [1.        , 0.        ],\n",
       "       [0.        , 1.        ],\n",
       "       [0.62893082, 0.37106918],\n",
       "       [0.92344498, 0.07655502],\n",
       "       [0.        , 1.        ],\n",
       "       [0.99526066, 0.00473934],\n",
       "       [1.        , 0.        ],\n",
       "       [0.98888889, 0.01111111],\n",
       "       [0.        , 1.        ],\n",
       "       [0.        , 1.        ],\n",
       "       [1.        , 0.        ],\n",
       "       [0.06989247, 0.93010753],\n",
       "       [1.        , 0.        ],\n",
       "       [0.03608247, 0.96391753],\n",
       "       [0.        , 1.        ],\n",
       "       [1.        , 0.        ],\n",
       "       [0.        , 1.        ],\n",
       "       [0.02185792, 0.97814208],\n",
       "       [1.        , 0.        ],\n",
       "       [0.95808383, 0.04191617],\n",
       "       [0.78362573, 0.21637427],\n",
       "       [0.56650246, 0.43349754],\n",
       "       [0.        , 1.        ],\n",
       "       [0.18023256, 0.81976744],\n",
       "       [1.        , 0.        ],\n",
       "       [0.93121693, 0.06878307],\n",
       "       [0.97175141, 0.02824859],\n",
       "       [1.        , 0.        ],\n",
       "       [0.00531915, 0.99468085],\n",
       "       [0.        , 1.        ],\n",
       "       [0.43010753, 0.56989247],\n",
       "       [0.85858586, 0.14141414],\n",
       "       [0.        , 1.        ],\n",
       "       [0.        , 1.        ],\n",
       "       [1.        , 0.        ],\n",
       "       [0.00558659, 0.99441341],\n",
       "       [0.        , 1.        ],\n",
       "       [0.96923077, 0.03076923],\n",
       "       [0.        , 1.        ],\n",
       "       [0.21649485, 0.78350515],\n",
       "       [0.        , 1.        ],\n",
       "       [1.        , 0.        ],\n",
       "       [0.        , 1.        ],\n",
       "       [0.        , 1.        ],\n",
       "       [0.98477157, 0.01522843],\n",
       "       [0.8       , 0.2       ],\n",
       "       [0.99441341, 0.00558659],\n",
       "       [0.        , 1.        ],\n",
       "       [0.09497207, 0.90502793],\n",
       "       [0.99492386, 0.00507614],\n",
       "       [0.01714286, 0.98285714],\n",
       "       [0.        , 1.        ],\n",
       "       [0.02747253, 0.97252747],\n",
       "       [1.        , 0.        ],\n",
       "       [0.77005348, 0.22994652],\n",
       "       [0.        , 1.        ],\n",
       "       [0.90229885, 0.09770115],\n",
       "       [0.98387097, 0.01612903],\n",
       "       [0.22222222, 0.77777778],\n",
       "       [0.20348837, 0.79651163],\n",
       "       [1.        , 0.        ],\n",
       "       [0.        , 1.        ],\n",
       "       [0.        , 1.        ],\n",
       "       [0.        , 1.        ],\n",
       "       [0.20338983, 0.79661017],\n",
       "       [0.98181818, 0.01818182],\n",
       "       [0.        , 1.        ],\n",
       "       [1.        , 0.        ],\n",
       "       [0.98969072, 0.01030928],\n",
       "       [0.        , 1.        ],\n",
       "       [0.48663102, 0.51336898],\n",
       "       [1.        , 0.        ],\n",
       "       [0.00529101, 0.99470899],\n",
       "       [1.        , 0.        ],\n",
       "       [0.        , 1.        ],\n",
       "       [0.        , 1.        ],\n",
       "       [0.08379888, 0.91620112],\n",
       "       [0.12352941, 0.87647059],\n",
       "       [0.99415205, 0.00584795],\n",
       "       [0.03517588, 0.96482412],\n",
       "       [1.        , 0.        ],\n",
       "       [0.39790576, 0.60209424],\n",
       "       [0.05434783, 0.94565217],\n",
       "       [0.53191489, 0.46808511],\n",
       "       [0.51898734, 0.48101266],\n",
       "       [0.        , 1.        ],\n",
       "       [1.        , 0.        ],\n",
       "       [0.        , 1.        ],\n",
       "       [0.        , 1.        ],\n",
       "       [0.60869565, 0.39130435],\n",
       "       [0.        , 1.        ],\n",
       "       [1.        , 0.        ],\n",
       "       [0.24157303, 0.75842697],\n",
       "       [0.81578947, 0.18421053],\n",
       "       [0.08717949, 0.91282051],\n",
       "       [0.99453552, 0.00546448],\n",
       "       [0.82142857, 0.17857143],\n",
       "       [0.        , 1.        ],\n",
       "       [0.        , 1.        ],\n",
       "       [0.11904762, 0.88095238],\n",
       "       [0.04188482, 0.95811518],\n",
       "       [0.        , 1.        ],\n",
       "       [1.        , 0.        ],\n",
       "       [0.89150943, 0.10849057],\n",
       "       [0.19230769, 0.80769231],\n",
       "       [0.95238095, 0.04761905],\n",
       "       [0.00515464, 0.99484536],\n",
       "       [0.59375   , 0.40625   ],\n",
       "       [0.07692308, 0.92307692],\n",
       "       [0.99484536, 0.00515464],\n",
       "       [0.83684211, 0.16315789],\n",
       "       [0.        , 1.        ],\n",
       "       [0.99484536, 0.00515464],\n",
       "       [0.95360825, 0.04639175],\n",
       "       [0.        , 1.        ],\n",
       "       [0.        , 1.        ],\n",
       "       [1.        , 0.        ],\n",
       "       [0.        , 1.        ],\n",
       "       [1.        , 0.        ],\n",
       "       [0.26395939, 0.73604061],\n",
       "       [0.98461538, 0.01538462],\n",
       "       [1.        , 0.        ],\n",
       "       [0.        , 1.        ],\n",
       "       [0.00574713, 0.99425287],\n",
       "       [0.85142857, 0.14857143],\n",
       "       [0.        , 1.        ],\n",
       "       [1.        , 0.        ],\n",
       "       [0.75301205, 0.24698795],\n",
       "       [0.8969697 , 0.1030303 ],\n",
       "       [1.        , 0.        ],\n",
       "       [0.75555556, 0.24444444],\n",
       "       [0.48863636, 0.51136364],\n",
       "       [0.        , 1.        ],\n",
       "       [0.92473118, 0.07526882],\n",
       "       [0.        , 1.        ],\n",
       "       [1.        , 0.        ],\n",
       "       [0.87709497, 0.12290503],\n",
       "       [1.        , 0.        ],\n",
       "       [1.        , 0.        ],\n",
       "       [0.74752475, 0.25247525],\n",
       "       [0.09146341, 0.90853659],\n",
       "       [0.42268041, 0.57731959],\n",
       "       [0.22395833, 0.77604167],\n",
       "       [0.        , 1.        ],\n",
       "       [0.87046632, 0.12953368],\n",
       "       [0.78212291, 0.21787709],\n",
       "       [0.00507614, 0.99492386],\n",
       "       [1.        , 0.        ],\n",
       "       [1.        , 0.        ],\n",
       "       [1.        , 0.        ],\n",
       "       [0.        , 1.        ],\n",
       "       [0.02884615, 0.97115385],\n",
       "       [0.96      , 0.04      ],\n",
       "       [0.93478261, 0.06521739],\n",
       "       [1.        , 0.        ],\n",
       "       [0.50731707, 0.49268293],\n",
       "       [1.        , 0.        ],\n",
       "       [0.        , 1.        ],\n",
       "       [1.        , 0.        ],\n",
       "       [0.01604278, 0.98395722],\n",
       "       [1.        , 0.        ],\n",
       "       [1.        , 0.        ],\n",
       "       [1.        , 0.        ],\n",
       "       [0.        , 1.        ],\n",
       "       [0.96987952, 0.03012048],\n",
       "       [0.        , 1.        ],\n",
       "       [0.05172414, 0.94827586],\n",
       "       [0.        , 1.        ],\n",
       "       [0.        , 1.        ],\n",
       "       [1.        , 0.        ],\n",
       "       [1.        , 0.        ],\n",
       "       [0.        , 1.        ],\n",
       "       [0.99494949, 0.00505051],\n",
       "       [0.01675978, 0.98324022],\n",
       "       [1.        , 0.        ],\n",
       "       [0.14583333, 0.85416667],\n",
       "       [0.        , 1.        ],\n",
       "       [0.00546448, 0.99453552],\n",
       "       [0.        , 1.        ],\n",
       "       [0.41836735, 0.58163265],\n",
       "       [0.13095238, 0.86904762],\n",
       "       [0.22110553, 0.77889447],\n",
       "       [1.        , 0.        ],\n",
       "       [0.97647059, 0.02352941],\n",
       "       [0.21195652, 0.78804348],\n",
       "       [0.98882682, 0.01117318],\n",
       "       [0.        , 1.        ],\n",
       "       [0.        , 1.        ],\n",
       "       [1.        , 0.        ],\n",
       "       [0.96428571, 0.03571429],\n",
       "       [0.34554974, 0.65445026],\n",
       "       [0.98235294, 0.01764706],\n",
       "       [1.        , 0.        ],\n",
       "       [0.        , 1.        ],\n",
       "       [0.99465241, 0.00534759],\n",
       "       [0.        , 1.        ],\n",
       "       [0.06043956, 0.93956044],\n",
       "       [0.98214286, 0.01785714],\n",
       "       [1.        , 0.        ],\n",
       "       [0.03108808, 0.96891192],\n",
       "       [0.58854167, 0.41145833]])"
      ]
     },
     "execution_count": 10,
     "metadata": {},
     "output_type": "execute_result"
    }
   ],
   "source": [
    "#oob샘플에 대한 결정함수의 값을 확인(훈련샘플에서 각 클래스의 확률을 반환)\n",
    "bag_clf.oob_decision_function_"
   ]
  },
  {
   "cell_type": "markdown",
   "id": "d44620dc",
   "metadata": {},
   "source": [
    "# 7.3 랜덤 패치와 랜덤 서브스페이스"
   ]
  },
  {
   "cell_type": "markdown",
   "id": "32a5f122",
   "metadata": {},
   "source": [
    "- BaggingClassifier는 특성 샘플링도 지원\n",
    "    - max_features, bootstrap_features 두 매개변수로 조절(특성에 대한 샘플링)\n",
    "    - 각 예측기는 무작위로 선택한 입력 특성의 일부분으로 훈련 \n",
    "--- \n",
    "- 특성 샘플링은 매우 고차원의 데이터셋을 다룰 때 유용하다.\n",
    "    - 랜덤 패치 방식(random patches method): 특성과 샘플을 모두 샘플링 하는 것\n",
    "    - 랜덤 서브스페이스 방식(random subspaces method): 훈련샘플은 모두 사용 하고, 특성은 샘플링 하는 것\n",
    "        - bootstrap=False, max_samples=1 => 훈련 샘플 모두 사용\n",
    "        - bootstrap_features=True, max_features 는 1보다 작게 => 특성 샘플링 사용\n",
    "--- \n",
    "- 특성 샘플링은 더 다양한 예측기를 만들고 편향을 늘리는 대신 분산을 낮춘다."
   ]
  },
  {
   "cell_type": "markdown",
   "id": "ae355742",
   "metadata": {},
   "source": [
    "# 7.4 랜덤 포레스트"
   ]
  },
  {
   "cell_type": "markdown",
   "id": "404b00a7",
   "metadata": {},
   "source": [
    "- 랜덤 포레스트: 배깅(또는 페이스팅)을 적용한 결정 트리의 앙상블\n",
    "    - max_sample을 훈련 세트의 크기로 지정\n",
    "    - RandomForestClassifier(또는 RandomForestRegressor) 사용"
   ]
  },
  {
   "cell_type": "code",
   "execution_count": 11,
   "id": "3e9c046b",
   "metadata": {},
   "outputs": [],
   "source": [
    "from sklearn.ensemble import RandomForestClassifier\n",
    "#500개의 결정트리로 이루어진 랜덤 포레스트\n",
    "#최대 16개의 리프노드\n",
    "rnd_clf = RandomForestClassifier(n_estimators=500, max_leaf_nodes=16, n_jobs=-1)\n",
    "#여기서 n_jobs는 컴퓨터 코어 사용을 의미한다\n",
    "     #n_jobs=-1 => 컴퓨터의 모든 코어를 사용 \n",
    "#RandomForestClassifier는 DecisionTreeClassifier의 매개변수와\n",
    "#BaggingClassifier의 매개변수를 모두 가지고 있다.\n",
    "rnd_clf.fit(X_train, y_train)\n",
    "\n",
    "y_pred_rf = rnd_clf.predict(X_test)"
   ]
  },
  {
   "cell_type": "code",
   "execution_count": 12,
   "id": "ca94f23f",
   "metadata": {},
   "outputs": [],
   "source": [
    "#BaggingClassifier를 사용하여 위 모델과 비슷하게 만들기\n",
    "bag_clf = BaggingClassifier(\n",
    "    DecisionTreeClassifier(max_features=\"sqrt\", max_leaf_nodes=16),\n",
    "    n_estimators=500, random_state=42)\n",
    "\n",
    "bag_clf.fit(X_train, y_train)\n",
    "y_pred = bag_clf.predict(X_test)"
   ]
  },
  {
   "cell_type": "code",
   "execution_count": 13,
   "id": "7c46187c",
   "metadata": {},
   "outputs": [
    {
     "data": {
      "text/plain": [
       "1.0"
      ]
     },
     "execution_count": 13,
     "metadata": {},
     "output_type": "execute_result"
    }
   ],
   "source": [
    "np.sum(y_pred == y_pred_rf) / len(y_pred)\n",
    "#예측이 거의 동일하다"
   ]
  },
  {
   "cell_type": "markdown",
   "id": "71865e2b",
   "metadata": {},
   "source": [
    "## 7.4.1 엑스트라 트리"
   ]
  },
  {
   "cell_type": "markdown",
   "id": "4b5dd53e",
   "metadata": {},
   "source": [
    "- 랜덤 포레스트 => 각 노드는 무작위로 특성의 서브셋을 만들어 분할에 사용\n",
    "    - 임계값을 찾는 것 보다, 후보 특성을 사용해 무작위로 분할 => 최상의 분할을 선택\n",
    "--- \n",
    "- 익스트림 랜덤 트리(extremely randomized trees): 극단적으로 무작위한 트리의 랜덤 포레스트\n",
    "    - 엑스트라 트리(extra-trees)라고도 한다.\n",
    "    - 편향이 늘어나지만 분산이 낮아진다.\n",
    "    - 일반적인 랜덤 포레스트보다 훨씬 빠르다.(일반 랜덤포레스트는 최적의 임계값을 찾는데 오래 걸림)"
   ]
  },
  {
   "cell_type": "markdown",
   "id": "898a2ed1",
   "metadata": {},
   "source": [
    "## 7.4.2 특성중요도"
   ]
  },
  {
   "cell_type": "markdown",
   "id": "cfd59ac4",
   "metadata": {},
   "source": [
    "- 랜덤 포레스트: 상대적 중요도를 측정하기 쉽다.\n",
    "    - 어떤 특성의 노드가 불순도를 얼마나 감소시키는지 확인 => 특성의 중요도 측정.\n",
    "    - 전체 중요도의 합이 1이 된다.\n",
    "        - feature_importances_ 변수에 저장"
   ]
  },
  {
   "cell_type": "code",
   "execution_count": 14,
   "id": "8b3efb5f",
   "metadata": {},
   "outputs": [
    {
     "name": "stdout",
     "output_type": "stream",
     "text": [
      "sepal length (cm) 0.11249225099876375\n",
      "sepal width (cm) 0.02311928828251033\n",
      "petal length (cm) 0.4410304643639577\n",
      "petal width (cm) 0.4233579963547682\n"
     ]
    }
   ],
   "source": [
    "from sklearn.datasets import load_iris\n",
    "iris = load_iris()\n",
    "rnd_clf = RandomForestClassifier(n_estimators=500, random_state=42)\n",
    "rnd_clf.fit(iris[\"data\"], iris[\"target\"])\n",
    "for name, score in zip(iris[\"feature_names\"], rnd_clf.feature_importances_):\n",
    "    print(name, score)"
   ]
  },
  {
   "cell_type": "code",
   "execution_count": 15,
   "id": "e7446771",
   "metadata": {},
   "outputs": [
    {
     "data": {
      "text/plain": [
       "array([0.11249225, 0.02311929, 0.44103046, 0.423358  ])"
      ]
     },
     "execution_count": 15,
     "metadata": {},
     "output_type": "execute_result"
    }
   ],
   "source": [
    "rnd_clf.feature_importances_ #특성의 중요도 확인"
   ]
  },
  {
   "cell_type": "markdown",
   "id": "42d41c07",
   "metadata": {},
   "source": [
    "# 7.5 부스팅"
   ]
  },
  {
   "cell_type": "markdown",
   "id": "93f62366",
   "metadata": {},
   "source": [
    "부스팅: weak learner를 여러개 연결하여 strong learner를 만드는 앙상블 방법  \n",
    "    아이디어: 앞의 모델을 보완해가면서 일련의 예측기 학습시킴  \n",
    "- AdaBoost(adaptive boosting) 과 Gradient boosting이 있다."
   ]
  },
  {
   "cell_type": "markdown",
   "id": "a906802a",
   "metadata": {},
   "source": [
    "## 7.5.1 에이다부스트"
   ]
  },
  {
   "cell_type": "markdown",
   "id": "58ba0a81",
   "metadata": {},
   "source": [
    "- 원리: 이전 모델이 과소적합했던 훈련 샘플의 가중치를 더 높이기\n",
    "    - 새로운 예측기는 학습하기 어려운 샘플에 점점 더 맞춰진다."
   ]
  },
  {
   "cell_type": "markdown",
   "id": "a3e6df22",
   "metadata": {},
   "source": [
    "- 경사하강법: 비용함수를 최소하하기 위해 한 예측기의 모델 파라미터를 조정  \n",
    "- 에이다부스트: 점차 더 좋아지도록 앙상블에 예측기를 추가  \n",
    "--- \n",
    "- 에이다부스트  \n",
    "    - 모든 예측기가 훈련을 마치면 배깅/페이스팅과 비슷한 방식으로 예측 만듦.\n",
    "    - 에러율을 사용  \n",
    "        - 에러율: 직전 예측기에서 오답(예측=/=정답레이블) 가중치를 모든 가중치로 나눈다,,,?\n",
    "        - 예측기의 가중치 $\\alpha_j = \\eta log{1-r_j \\over r_j}$  \n",
    "        - 예측기가 정확할수록 가중치가 커지고, 무작위일 때는 가중치=0, 음수도 가능  \n",
    "        <br><br>\n",
    "    - 각 샘플의 가중치($w^{(i)}$) 업데이트 방식  \n",
    "        - 정답일때는 그대로, 오답인 경우 $\\exp (\\alpha_j)$를 가중치에 곱하여 업데이트  \n",
    "        - 따라서 오답인 경우 가중치가 더 커지게 된다.\n",
    "        - 이후에 모든 샘플의 가중치($w^{(i)}$)를 정규화한다.\n",
    "        - 마지막으로 새 예측기가 업데이트된 가중치를 사용하여 훈련된다.\n",
    "        - 과정 반복(지정된 예측기 수에 도달할때까지 or 완벽한 예측기가 만들어질때까지)<br><br>\n",
    "    - 에이다부스트의 예측\n",
    "         - $\\hat y(x) = argmax\\sum ^N_{j=1}\\alpha_j$\n",
    "         - 가중치 합이 가장 큰 클래스가 예측 결과(argmax)  \n",
    "--- \n",
    "사이킷런 => SAMME(에이다부스트의 다중 클래스 버전)사용"
   ]
  },
  {
   "cell_type": "code",
   "execution_count": 23,
   "id": "c7c11261",
   "metadata": {},
   "outputs": [
    {
     "data": {
      "text/plain": [
       "AdaBoostClassifier(base_estimator=DecisionTreeClassifier(max_depth=1),\n",
       "                   learning_rate=0.5, n_estimators=200, random_state=42)"
      ]
     },
     "execution_count": 23,
     "metadata": {},
     "output_type": "execute_result"
    }
   ],
   "source": [
    "from sklearn.ensemble import AdaBoostClassifier\n",
    "\n",
    "ada_clf = AdaBoostClassifier(\n",
    "    DecisionTreeClassifier(max_depth=1), n_estimators=200, \n",
    "    algorithm=\"SAMME.R\", learning_rate=0.5, random_state=42)\n",
    "#200개의 결정트리를 앙상블\n",
    "#학습률 = 0.5, max_depth = 1(결정노드 1개, 리프노드 2개)\n",
    "ada_clf.fit(X_train, y_train)\n",
    "#에이다부스트 과대적합 => 예측기 갯수를 줄이거나, 규제를 더 강하게"
   ]
  },
  {
   "cell_type": "markdown",
   "id": "d0cfe803",
   "metadata": {},
   "source": [
    "## 7.5.2 그레이디언트 부스팅"
   ]
  },
  {
   "cell_type": "markdown",
   "id": "5042cd1f",
   "metadata": {},
   "source": [
    "- 앙상블에 이전까지의 오차를 보정하도록 예측기를 순차적으로 추가  \n",
    "    - 에이다부스트와 차이점:이전 예측기가 만든 잔여 오차에 새로운 예측기를 학습시킨다.( 샘플의 가중치 수정X)  \n",
    "- 결정트리를 사용한 회귀문제 => 그레이디언트 트리 부스팅(그레이디언트 부스티드 회귀 트리, GBRT)"
   ]
  },
  {
   "cell_type": "code",
   "execution_count": 24,
   "id": "9f334e4e",
   "metadata": {},
   "outputs": [],
   "source": [
    "np.random.seed(42)\n",
    "X = np.random.rand(100, 1) - 0.5\n",
    "y = 3*X[:, 0]**2 + 0.05 * np.random.randn(100)"
   ]
  },
  {
   "cell_type": "code",
   "execution_count": 25,
   "id": "5398881e",
   "metadata": {},
   "outputs": [
    {
     "data": {
      "text/plain": [
       "DecisionTreeRegressor(max_depth=2, random_state=42)"
      ]
     },
     "execution_count": 25,
     "metadata": {},
     "output_type": "execute_result"
    }
   ],
   "source": [
    "from sklearn.tree import DecisionTreeRegressor\n",
    "\n",
    "tree_reg1 = DecisionTreeRegressor(max_depth=2, random_state=42)\n",
    "tree_reg1.fit(X, y)"
   ]
  },
  {
   "cell_type": "code",
   "execution_count": 26,
   "id": "0efb2da3",
   "metadata": {},
   "outputs": [
    {
     "data": {
      "text/plain": [
       "DecisionTreeRegressor(max_depth=2, random_state=42)"
      ]
     },
     "execution_count": 26,
     "metadata": {},
     "output_type": "execute_result"
    }
   ],
   "source": [
    "y2 = y - tree_reg1.predict(X) #첫번째 예측기에서 생긴 잔여 오차\n",
    "tree_reg2 = DecisionTreeRegressor(max_depth=2, random_state=42)\n",
    "tree_reg2.fit(X, y2) #잔여 오차를 학습시킨다."
   ]
  },
  {
   "cell_type": "code",
   "execution_count": 30,
   "id": "80c11fc8",
   "metadata": {},
   "outputs": [
    {
     "data": {
      "text/plain": [
       "DecisionTreeRegressor(max_depth=2, random_state=42)"
      ]
     },
     "execution_count": 30,
     "metadata": {},
     "output_type": "execute_result"
    }
   ],
   "source": [
    "y3 = y2 - tree_reg2.predict(X) #두번째 예측기에서 생긴 잔여오차\n",
    "tree_reg3 = DecisionTreeRegressor(max_depth=2, random_state=42)\n",
    "tree_reg3.fit(X, y3) #잔여오차를 학습\n",
    "#3개의 트리를 포함하는 앙상블 모델 형성"
   ]
  },
  {
   "cell_type": "code",
   "execution_count": 32,
   "id": "98b37b61",
   "metadata": {},
   "outputs": [],
   "source": [
    "X_new = np.array([[0.8]])\n",
    "y_pred = sum(tree.predict(X_new) for tree in (tree_reg1, tree_reg2, tree_reg3))"
   ]
  },
  {
   "attachments": {
    "image.png": {
     "image/png": "[encoded data removed]"
    }
   },
   "cell_type": "markdown",
   "id": "23283908",
   "metadata": {},
   "source": [
    "![image.png](attachment:image.png)"
   ]
  },
  {
   "cell_type": "markdown",
   "id": "918356cd",
   "metadata": {},
   "source": [
    "- 왼쪽 열은 세 트리의 예측, 오른쪽은 앙상블의 예측\n",
    "    - 첫번째 행은 트리가 1개 이므로 완전히 같다.\n",
    "    - 트리가 앙상블에 추가될수록 예측이 점차 좋아진다.\n",
    "--- \n",
    "사이킷런의 GradientBoostingRegressor를 사용하요 GBRT 앙상블 훈련시키기"
   ]
  },
  {
   "cell_type": "code",
   "execution_count": 33,
   "id": "fca57fdb",
   "metadata": {},
   "outputs": [
    {
     "data": {
      "text/plain": [
       "GradientBoostingRegressor(learning_rate=1.0, max_depth=2, n_estimators=3,\n",
       "                          random_state=42)"
      ]
     },
     "execution_count": 33,
     "metadata": {},
     "output_type": "execute_result"
    }
   ],
   "source": [
    "from sklearn.ensemble import GradientBoostingRegressor\n",
    "\n",
    "gbrt = GradientBoostingRegressor(max_depth=2, n_estimators=3, learning_rate=1.0, random_state=42)\n",
    "#n_estimators=3 => 3개의 결정트리\n",
    "gbrt.fit(X, y)"
   ]
  },
  {
   "cell_type": "markdown",
   "id": "9997886f",
   "metadata": {},
   "source": [
    "- 축소: 학습률을 낮게 설정함으로써 앙상블 학습에 많은 트리를 사용하는것.\n",
    "    - 규제의 방법중 하나.  \n",
    "    - 작은 학습률 + 많은 트리 => 과대적합 가능성\n",
    "    - 큰 학습률 + 적은 트리 => 과소적합 가능성  \n",
    "        - 최적 트리를 찾기 위해 조기종료 사용가능!"
   ]
  },
  {
   "cell_type": "code",
   "execution_count": 34,
   "id": "af5a3730",
   "metadata": {},
   "outputs": [
    {
     "data": {
      "text/plain": [
       "GradientBoostingRegressor(max_depth=2, n_estimators=56, random_state=42)"
      ]
     },
     "execution_count": 34,
     "metadata": {},
     "output_type": "execute_result"
    }
   ],
   "source": [
    "import numpy as np\n",
    "from sklearn.model_selection import train_test_split\n",
    "from sklearn.metrics import mean_squared_error\n",
    "\n",
    "X_train, X_val, y_train, y_val = train_test_split(X, y, random_state=49)\n",
    "\n",
    "#트리 120개를 사용한 그레디언트부스팅\n",
    "gbrt = GradientBoostingRegressor(max_depth=2, n_estimators=120, random_state=42)\n",
    "gbrt.fit(X_train, y_train)\n",
    "#MSE를 오차로 사용\n",
    "errors = [mean_squared_error(y_val, y_pred)\n",
    "          for y_pred in gbrt.staged_predict(X_val)]\n",
    "bst_n_estimators = np.argmin(errors) + 1\n",
    "\n",
    "gbrt_best = GradientBoostingRegressor(max_depth=2, n_estimators=bst_n_estimators, random_state=42)\n",
    "gbrt_best.fit(X_train, y_train)"
   ]
  },
  {
   "cell_type": "code",
   "execution_count": 36,
   "id": "d4d4d758",
   "metadata": {},
   "outputs": [],
   "source": [
    "min_error = np.min(errors)\n",
    "#warm_start = True로 설정 ~ 사이킷런에서 fit() 메서드가 호출될 때 \n",
    "                    #기존 트리를 유지하고 훈련을 추가할 수 있도록 해준다.\n",
    "                            \n",
    "gbrt = GradientBoostingRegressor(max_depth=2, warm_start=True, random_state=42)\n",
    "#subsample 매개변수를 활용하여 확률적 그레이디언트 부스팅을 사용할 수 있다.\n",
    "    #예를 들어 subsample = 0.25를 설정하면\n",
    "    #각 트리는 무작위로 설정된 25%의 훈련 샘플로 학습된다. \n",
    "        #확률적 그레이디언트 부스팅: 속도 높아지고, 분산이 낮아지고, 편향이 높아짐\n",
    "\n",
    "min_val_error = float(\"inf\") #양의 무한대\n",
    "error_going_up = 0\n",
    "for n_estimators in range(1, 120):\n",
    "    gbrt.n_estimators = n_estimators\n",
    "    gbrt.fit(X_train, y_train)\n",
    "    y_pred = gbrt.predict(X_val)\n",
    "    val_error = mean_squared_error(y_val, y_pred)\n",
    "    if val_error < min_val_error:\n",
    "        min_val_error = val_error\n",
    "        error_going_up = 0\n",
    "    else:\n",
    "        error_going_up += 1\n",
    "        if error_going_up == 5:\n",
    "            break  # early stopping"
   ]
  },
  {
   "cell_type": "markdown",
   "id": "f5b35cc1",
   "metadata": {},
   "source": [
    "- XGBoost = Extreme Gradient Boosting\n",
    "    - 파이썬 라이브러리 제공  \n",
    "    - 매우 빠른 속도, 확장성, 이식성"
   ]
  },
  {
   "cell_type": "code",
   "execution_count": 39,
   "id": "7ec74720",
   "metadata": {},
   "outputs": [
    {
     "name": "stdout",
     "output_type": "stream",
     "text": [
      "Collecting xgboost\n",
      "  Downloading xgboost-1.6.1-py3-none-win_amd64.whl (125.4 MB)\n",
      "Requirement already satisfied: numpy in c:\\users\\alsrl\\anaconda3\\lib\\site-packages (from xgboost) (1.21.5)\n",
      "Requirement already satisfied: scipy in c:\\users\\alsrl\\anaconda3\\lib\\site-packages (from xgboost) (1.7.3)\n",
      "Installing collected packages: xgboost\n",
      "Successfully installed xgboost-1.6.1\n"
     ]
    }
   ],
   "source": [
    "!pip install xgboost"
   ]
  },
  {
   "cell_type": "code",
   "execution_count": 40,
   "id": "42ba67d2",
   "metadata": {},
   "outputs": [],
   "source": [
    "import xgboost\n",
    "\n",
    "xgb_reg = xgboost.XGBRegressor()\n",
    "xgb_reg.fit(X_train, y_train)\n",
    "y_pred = xgb_reg.predict(X_val)"
   ]
  },
  {
   "cell_type": "code",
   "execution_count": 41,
   "id": "607f9655",
   "metadata": {},
   "outputs": [
    {
     "name": "stdout",
     "output_type": "stream",
     "text": [
      "[0]\tvalidation_0-rmse:0.22834\n",
      "[1]\tvalidation_0-rmse:0.16224\n",
      "[2]\tvalidation_0-rmse:0.11843\n",
      "[3]\tvalidation_0-rmse:0.08760\n",
      "[4]\tvalidation_0-rmse:0.06848\n",
      "[5]\tvalidation_0-rmse:0.05709\n",
      "[6]\tvalidation_0-rmse:0.05297\n",
      "[7]\tvalidation_0-rmse:0.05129\n",
      "[8]\tvalidation_0-rmse:0.05155\n",
      "[9]\tvalidation_0-rmse:0.05211\n"
     ]
    },
    {
     "name": "stderr",
     "output_type": "stream",
     "text": [
      "C:\\Users\\alsrl\\Anaconda3\\lib\\site-packages\\xgboost\\sklearn.py:793: UserWarning: `early_stopping_rounds` in `fit` method is deprecated for better compatibility with scikit-learn, use `early_stopping_rounds` in constructor or`set_params` instead.\n",
      "  warnings.warn(\n"
     ]
    }
   ],
   "source": [
    "xgb_reg.fit(X_train, y_train, eval_set = [(X_val, y_val)], early_stopping_rounds = 2)\n",
    "y_pred = xgb_reg.predict(X_val)"
   ]
  },
  {
   "cell_type": "markdown",
   "id": "11d71e2a",
   "metadata": {},
   "source": [
    "# 7.6 스태킹"
   ]
  },
  {
   "cell_type": "markdown",
   "id": "d5c53a77",
   "metadata": {},
   "source": [
    "- 스태킹(stacking) = stacked generalization  \n",
    "    - 앙상블에 속한 모든 예측기의 예측을 취합하는 모델을 훈련시킬 수 없을까?\n",
    "    - 블렌더(blender) 사용(또는 메타 학습기,meta learner)\n",
    "--- \n",
    "- 홀드아웃(hold-out)세트를 사용.\n",
    "    - 훈련 세트를 두개의 서브셋으로 나눈다.  \n",
    "    - 첫번째 서브셋은 첫번째 레이어의 예측을 훈련시키기 위해 사용.\n",
    "    - 첫번째 레이어의 예측기를 사용하여 두번째 홀드아웃 세트에 대한 예측 생성\n",
    "    - 이 예측을 입력 특성으로 사용하는 새로운 훈련세트 만듦.\n",
    "    - 새로운 훈련세트로 블렌더를 훈련."
   ]
  }
 ],
 "metadata": {
  "kernelspec": {
   "display_name": "Python 3 (ipykernel)",
   "language": "python",
   "name": "python3"
  },
  "language_info": {
   "codemirror_mode": {
    "name": "ipython",
    "version": 3
   },
   "file_extension": ".py",
   "mimetype": "text/x-python",
   "name": "python",
   "nbconvert_exporter": "python",
   "pygments_lexer": "ipython3",
   "version": "3.9.12"
  }
 },
 "nbformat": 4,
 "nbformat_minor": 5
}
