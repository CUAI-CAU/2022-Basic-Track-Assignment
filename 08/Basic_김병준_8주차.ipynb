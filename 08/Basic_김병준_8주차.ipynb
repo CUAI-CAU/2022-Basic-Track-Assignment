{
 "cells": [
  {
   "cell_type": "markdown",
   "id": "f0478935",
   "metadata": {},
   "source": [
    "# PCA\n",
    "선형대수 수업에서 배운거처럼 데이터의 특성의 수가 많을 경우 과대적합되기 쉽다는 문제가 있고 이를 방지하기 위해 필요한 특성만 뽑아(필요한 특성이라는 의미는 이따 씀) 특성의 수를 낮추는(차원 축소) 한 방법이다."
   ]
  },
  {
   "cell_type": "markdown",
   "id": "bd4ea275",
   "metadata": {},
   "source": [
    "원래 데이터의 특성의 부분 공간(subspace)에 원래 데이터를 투영시킨다.(축소 평면에 수선의 발을 내린다)"
   ]
  },
  {
   "cell_type": "markdown",
   "id": "e55510f2",
   "metadata": {},
   "source": [
    "## PCA 를 위한 데이터셋을 만든다."
   ]
  },
  {
   "cell_type": "code",
   "execution_count": 2,
   "id": "77d79cc0",
   "metadata": {},
   "outputs": [],
   "source": [
    "import numpy as np\n",
    "np.random.seed(4)\n",
    "m = 60\n",
    "w1, w2 = 0.1, 0.3\n",
    "noise = 0.1\n",
    "\n",
    "angles = np.random.rand(m) * 3 * np.pi / 2 - 0.5\n",
    "X = np.empty((m, 3))\n",
    "X[:, 0] = np.cos(angles) + np.sin(angles)/2 + noise * np.random.randn(m) / 2\n",
    "X[:, 1] = np.sin(angles) * 0.7 + noise * np.random.randn(m) / 2\n",
    "X[:, 2] = X[:, 0] * w1 + X[:, 1] * w2 + noise * np.random.randn(m)"
   ]
  },
  {
   "cell_type": "markdown",
   "id": "2a1fd605",
   "metadata": {},
   "source": [
    "주성분을 찾는 과정은 데이터 - 평균을 한 다음 공분산 행렬을 찾아 고유치와 고유벡터를 구하는 것이다.\n",
    "SVD로도 같은 과정을 수행할 수 있고 V가 주성분이다."
   ]
  },
  {
   "cell_type": "code",
   "execution_count": 3,
   "id": "c55ebd8f",
   "metadata": {},
   "outputs": [],
   "source": [
    "X_centered = X - X.mean(axis=0)\n",
    "U, s, Vt = np.linalg.svd(X_centered)\n",
    "c1 = Vt.T[:, 0]\n",
    "c2 = Vt.T[:, 1]"
   ]
  },
  {
   "cell_type": "code",
   "execution_count": 4,
   "id": "c5851c7c",
   "metadata": {},
   "outputs": [],
   "source": [
    "m, n = X.shape\n",
    "\n",
    "S = np.zeros(X_centered.shape)\n",
    "S[:n, :n] = np.diag(s)"
   ]
  },
  {
   "cell_type": "code",
   "execution_count": 6,
   "id": "d09d4ea2",
   "metadata": {},
   "outputs": [
    {
     "data": {
      "text/plain": [
       "True"
      ]
     },
     "execution_count": 6,
     "metadata": {},
     "output_type": "execute_result"
    }
   ],
   "source": [
    "np.allclose(X_centered, U.dot(S).dot(Vt))"
   ]
  },
  {
   "cell_type": "markdown",
   "id": "68938637",
   "metadata": {},
   "source": [
    "## m -> d 차원으로 투영하기"
   ]
  },
  {
   "cell_type": "code",
   "execution_count": 7,
   "id": "2bceaaf1",
   "metadata": {},
   "outputs": [],
   "source": [
    "W2 = Vt.T[:, :2]\n",
    "X2D = X_centered.dot(W2)\n",
    "X2D_using_svd = X2D"
   ]
  },
  {
   "cell_type": "markdown",
   "id": "a550599d",
   "metadata": {},
   "source": [
    "위에서 사용한 방법은 PCA의 수학적 정의를 이용해 식을 적용한 것이고 사이킷런에서 PCA를 import하여 위 과정을 단순화 할 수 있다."
   ]
  },
  {
   "cell_type": "code",
   "execution_count": 8,
   "id": "fe07dd75",
   "metadata": {},
   "outputs": [],
   "source": [
    "from sklearn.decomposition import PCA\n",
    "\n",
    "pca = PCA(n_components=2) #n_component를 2로 적용해 2차원으로 투영시킨다.\n",
    "X2D = pca.fit_transform(X) "
   ]
  },
  {
   "cell_type": "code",
   "execution_count": 13,
   "id": "b6c5d63e",
   "metadata": {},
   "outputs": [
    {
     "data": {
      "text/plain": [
       "array([[ 1.26203346,  0.42067648],\n",
       "       [-0.08001485, -0.35272239],\n",
       "       [ 1.17545763,  0.36085729],\n",
       "       [ 0.89305601, -0.30862856],\n",
       "       [ 0.73016287, -0.25404049]])"
      ]
     },
     "execution_count": 13,
     "metadata": {},
     "output_type": "execute_result"
    }
   ],
   "source": [
    "X2D[:5] #투영된 2차원 데이터 다섯개를 뽑아오기"
   ]
  },
  {
   "cell_type": "code",
   "execution_count": 14,
   "id": "45eaab02",
   "metadata": {},
   "outputs": [
    {
     "data": {
      "text/plain": [
       "array([[-1.26203346, -0.42067648],\n",
       "       [ 0.08001485,  0.35272239],\n",
       "       [-1.17545763, -0.36085729],\n",
       "       [-0.89305601,  0.30862856],\n",
       "       [-0.73016287,  0.25404049]])"
      ]
     },
     "execution_count": 14,
     "metadata": {},
     "output_type": "execute_result"
    }
   ],
   "source": [
    "X2D_using_svd[:5]"
   ]
  },
  {
   "cell_type": "markdown",
   "id": "68035d60",
   "metadata": {},
   "source": [
    "위 두 결과가 다른 이유는 그냥 축 방향이 뒤집혀서 그런거지 사실 같은 것이다."
   ]
  },
  {
   "cell_type": "markdown",
   "id": "1ebb00b2",
   "metadata": {},
   "source": [
    "### 재구성\n",
    "일단 차원을 축소하면 축소하는 과정에서 데이터의 일부가 유실되므로 다시 원본 그대로 되돌리는 것은 불가능하다. 하지만 어느정도 되살리는 것은 가능하다. 아래 코드는 inver_transform을 사용하여 일부 데이터를 되살린 것과 원래 데이터의 오차를 확인하는 과정이다."
   ]
  },
  {
   "cell_type": "code",
   "execution_count": 15,
   "id": "0cb26ca4",
   "metadata": {},
   "outputs": [],
   "source": [
    "X3D_inv = pca.inverse_transform(X2D)"
   ]
  },
  {
   "cell_type": "code",
   "execution_count": 16,
   "id": "17d28a89",
   "metadata": {},
   "outputs": [
    {
     "data": {
      "text/plain": [
       "False"
      ]
     },
     "execution_count": 16,
     "metadata": {},
     "output_type": "execute_result"
    }
   ],
   "source": [
    "np.allclose(X3D_inv, X) #False가 나오는 이유는 바로 위에서 설명한대로 일부 데이터가 유실되었기 때문이다."
   ]
  },
  {
   "cell_type": "code",
   "execution_count": 17,
   "id": "d43bd9df",
   "metadata": {},
   "outputs": [
    {
     "data": {
      "text/plain": [
       "0.010170337792848549"
      ]
     },
     "execution_count": 17,
     "metadata": {},
     "output_type": "execute_result"
    }
   ],
   "source": [
    "np.mean(np.sum(np.square(X3D_inv - X), axis=1)) #재구성(복원) 오차를 확인"
   ]
  },
  {
   "cell_type": "markdown",
   "id": "eeeec15a",
   "metadata": {},
   "source": [
    "### SVD 방식의 역변환"
   ]
  },
  {
   "cell_type": "code",
   "execution_count": 18,
   "id": "6bdf65b3",
   "metadata": {},
   "outputs": [],
   "source": [
    "X3D_inv_using_svd = X2D_using_svd.dot(Vt[:2, :])"
   ]
  },
  {
   "cell_type": "markdown",
   "id": "47a33545",
   "metadata": {},
   "source": [
    "사이킷런의 PCA클래스는 평균을 빼서 x_centered를 구했던 과정까지 알아서 거꾸로 돌려주기 때문에 그냥 수행하면 위에서 구한 역변환과 다른 결과가 나오지만 평균을 다시 빼주면 위에서 한 것과 같은 결과를 얻을 수 있다."
   ]
  },
  {
   "cell_type": "code",
   "execution_count": 19,
   "id": "1db0a269",
   "metadata": {},
   "outputs": [
    {
     "data": {
      "text/plain": [
       "False"
      ]
     },
     "execution_count": 19,
     "metadata": {},
     "output_type": "execute_result"
    }
   ],
   "source": [
    "np.allclose(X3D_inv_using_svd, X3D_inv) #평균을 빼주지 않고 그냥 역변환 한 결과"
   ]
  },
  {
   "cell_type": "code",
   "execution_count": 20,
   "id": "d57f66b2",
   "metadata": {},
   "outputs": [
    {
     "data": {
      "text/plain": [
       "True"
      ]
     },
     "execution_count": 20,
     "metadata": {},
     "output_type": "execute_result"
    }
   ],
   "source": [
    "np.allclose(X3D_inv_using_svd, X3D_inv - pca.mean_) #역변환한 결과에서 평균을 빼준 결과"
   ]
  },
  {
   "cell_type": "markdown",
   "id": "e6de8498",
   "metadata": {},
   "source": [
    "### 분산의 비율\n",
    "차원 축소를 했을 때 분산이 어떻게 펼쳐지는지 알아야 잘 된건지 아닌지 얼만큼 차원을 더 추가해야되는지 알 수 있다."
   ]
  },
  {
   "cell_type": "code",
   "execution_count": 21,
   "id": "b4895498",
   "metadata": {},
   "outputs": [
    {
     "data": {
      "text/plain": [
       "array([0.84248607, 0.14631839])"
      ]
     },
     "execution_count": 21,
     "metadata": {},
     "output_type": "execute_result"
    }
   ],
   "source": [
    "pca.explained_variance_ratio_"
   ]
  },
  {
   "cell_type": "markdown",
   "id": "73d06baa",
   "metadata": {},
   "source": [
    "첫번째 축에는 84% 두번째 축에는 14% 즉 두 축위에 98%가 넘는 데이터들이 올라가 있으므로 오차는 1%보다 좀 더 큰 수준이다."
   ]
  },
  {
   "cell_type": "code",
   "execution_count": 22,
   "id": "fc57b0fb",
   "metadata": {},
   "outputs": [
    {
     "data": {
      "text/plain": [
       "0.011195535570688975"
      ]
     },
     "execution_count": 22,
     "metadata": {},
     "output_type": "execute_result"
    }
   ],
   "source": [
    "1 - pca.explained_variance_ratio_.sum()\n"
   ]
  },
  {
   "cell_type": "markdown",
   "id": "2a9f0275",
   "metadata": {},
   "source": [
    "## 적절한 차원 수 선택하기\n",
    "위의 경우 2차원으로 축소했을 때 98.몇%라는 높은 결과를 얻었다(원본 데이터의 차원 수 자체가 낮아서 그렇겠지만) 그렇다면 엄청 큰 차원을 가진 데이터를 차원축소하려고 할 때 어느정도의 차원을 선택해야 손실을 최소화하면서 차원도 많이 줄일 수 있을까?(둘은 Trade-off관계이므로)"
   ]
  },
  {
   "cell_type": "code",
   "execution_count": 23,
   "id": "5fa7ed0d",
   "metadata": {},
   "outputs": [],
   "source": [
    "from sklearn.datasets import fetch_openml\n",
    "\n",
    "mnist = fetch_openml('mnist_784', version=1, as_frame=False)\n",
    "mnist.target = mnist.target.astype(np.uint8)"
   ]
  },
  {
   "cell_type": "code",
   "execution_count": 24,
   "id": "d7675cfa",
   "metadata": {},
   "outputs": [],
   "source": [
    "from sklearn.model_selection import train_test_split\n",
    "\n",
    "X = mnist[\"data\"]\n",
    "y = mnist[\"target\"]\n",
    "\n",
    "X_train, X_test, y_train, y_test = train_test_split(X, y)"
   ]
  },
  {
   "cell_type": "markdown",
   "id": "18b0f51a",
   "metadata": {},
   "source": [
    "그냥 n_components를 내가 계속 조절해가며 원하는 분산이 나올 때 까지 시도할 수 있겠지만 반대로 분산을 얼마 이상이 될 때 까지 축을 알아서 선택하라고 지정해주는 방식이 존재한다."
   ]
  },
  {
   "cell_type": "code",
   "execution_count": 25,
   "id": "67ada594",
   "metadata": {},
   "outputs": [],
   "source": [
    "pca = PCA()\n",
    "pca.fit(X_train)\n",
    "cumsum = np.cumsum(pca.explained_variance_ratio_)\n",
    "d = np.argmax(cumsum >= 0.95) + 1"
   ]
  },
  {
   "cell_type": "code",
   "execution_count": 26,
   "id": "c56dc01b",
   "metadata": {},
   "outputs": [
    {
     "data": {
      "text/plain": [
       "154"
      ]
     },
     "execution_count": 26,
     "metadata": {},
     "output_type": "execute_result"
    }
   ],
   "source": [
    "d"
   ]
  },
  {
   "cell_type": "markdown",
   "id": "fd589b9e",
   "metadata": {},
   "source": [
    "154차원 정도로 축소해야 원하는 분산을 얻을 수 있다는 결과를 얻었다."
   ]
  },
  {
   "cell_type": "markdown",
   "id": "cb6ef2f4",
   "metadata": {},
   "source": [
    "## 랜덤 PCA\n",
    "svd_solver의 매개변수를 randomized로 지정하면 random PCA라 부르는 확률적 알고리즘을 사용해 처음 d개의 주성분에 대한 근삿값을 빠르게 찾는다. 복잡도가 SVD방식과 다르다. d가 n보다 많이 작을 경우 완전 SVD보다 훨씬 빠르다"
   ]
  },
  {
   "cell_type": "code",
   "execution_count": 27,
   "id": "94d984b2",
   "metadata": {},
   "outputs": [],
   "source": [
    "rnd_pca = PCA(n_components=154, svd_solver=\"randomized\", random_state=42)\n",
    "X_reduced = rnd_pca.fit_transform(X_train)"
   ]
  },
  {
   "cell_type": "markdown",
   "id": "15ef47f5",
   "metadata": {},
   "source": [
    "## 점진적 PCA\n",
    "PCA구현의 문제점은 SVD알고리즘을 실행하기 위해선 전체 훈련 세트를 메모리에 올려야하는데 데이터셋이 크다면 불가능 할 것이다. 점진적 PCA(incremental PCA:IPCA)가 이를 보완하기 위해 개발되었다. 훈련 세트를 미니배치로 나눠서 IPCA알고리즘에 하나씩 주입한다. 이런 방식은 훈련세트가 클 때 뿐 아니라 온라인학습에도 사용할 수 있다."
   ]
  },
  {
   "cell_type": "code",
   "execution_count": 28,
   "id": "3e1ca5fa",
   "metadata": {},
   "outputs": [
    {
     "name": "stdout",
     "output_type": "stream",
     "text": [
      "...................................................................................................."
     ]
    }
   ],
   "source": [
    "from sklearn.decomposition import IncrementalPCA\n",
    "\n",
    "n_batches = 100\n",
    "inc_pca = IncrementalPCA(n_components=154)\n",
    "for X_batch in np.array_split(X_train, n_batches):\n",
    "    print(\".\", end=\"\")\n",
    "    inc_pca.partial_fit(X_batch)\n",
    "\n",
    "X_reduced = inc_pca.transform(X_train)"
   ]
  },
  {
   "cell_type": "code",
   "execution_count": 34,
   "id": "1d0daeab",
   "metadata": {},
   "outputs": [],
   "source": [
    "X_reduced_inc_pca = X_reduced"
   ]
  },
  {
   "cell_type": "code",
   "execution_count": 35,
   "id": "991e987a",
   "metadata": {},
   "outputs": [
    {
     "data": {
      "text/plain": [
       "True"
      ]
     },
     "execution_count": 35,
     "metadata": {},
     "output_type": "execute_result"
    }
   ],
   "source": [
    "np.allclose(pca.mean_, inc_pca.mean_)"
   ]
  },
  {
   "cell_type": "markdown",
   "id": "63d9679d",
   "metadata": {},
   "source": [
    "## 커널 PCA\n",
    "5장에서 다뤘던 커널트릭과 유사하게 차원축소를 할 때도 비선형 투형을 수행할 수 있다. 이를 커널PCA (kPCA)라고 하고 매니폴드에 가까운 데이터셋을 펼칠 때 유용하다. 아래 코드는 사이킷런의 KernelPCA를 사용해 RBF커널로 kPCA를 적용한 것이다."
   ]
  },
  {
   "cell_type": "code",
   "execution_count": 38,
   "id": "59f8f516",
   "metadata": {},
   "outputs": [],
   "source": [
    "from sklearn.datasets import make_swiss_roll\n",
    "X, t = make_swiss_roll(n_samples=1000, noise=0.2, random_state=42)"
   ]
  },
  {
   "cell_type": "code",
   "execution_count": 39,
   "id": "9e208feb",
   "metadata": {},
   "outputs": [],
   "source": [
    "from sklearn.decomposition import KernelPCA\n",
    "\n",
    "rbf_pca = KernelPCA(n_components=2, kernel=\"rbf\", gamma=0.04)\n",
    "X_reduced = rbf_pca.fit_transform(X)"
   ]
  },
  {
   "cell_type": "markdown",
   "id": "597c5020",
   "metadata": {},
   "source": [
    "### 커널 선택과 하이퍼파라미터 튜닝\n",
    "kPCA는 비지도학습이므로 좋은 커널과 하이퍼파라미터를 선택하는 다른 방법이 없고 하나하나 넣어가며 결과를 보면서 선택해야한다. 다음 코드는 kPCA를 사용해 차원을 2차원으로 축소하고 로지스틱회귀를 적용하여 분류를 수행한다. 마지막으로 그리드서치를 사용해 가장 좋은 커널과 gamma 파라미터를 찾는 코드이다."
   ]
  },
  {
   "cell_type": "code",
   "execution_count": null,
   "id": "780ed8c7",
   "metadata": {},
   "outputs": [],
   "source": [
    "from sklearn.model_selection import GridSearchCV\n",
    "from sklearn.linear_model import LogisticRegression\n",
    "from sklearn.pipeline import Pipeline\n",
    "\n",
    "clf = Pipeline([\n",
    "        (\"kpca\", KernelPCA(n_components=2)),\n",
    "        (\"log_reg\", LogisticRegression(solver=\"lbfgs\"))\n",
    "    ])\n",
    "\n",
    "param_grid = [{\n",
    "        \"kpca__gamma\": np.linspace(0.03, 0.05, 10),\n",
    "        \"kpca__kernel\": [\"rbf\", \"sigmoid\"]\n",
    "    }]\n",
    "\n",
    "grid_search = GridSearchCV(clf, param_grid, cv=3)\n",
    "grid_search.fit(X, y)"
   ]
  },
  {
   "cell_type": "markdown",
   "id": "c1a78e96",
   "metadata": {},
   "source": [
    "오류나는데 왜 나는지 모르겠다"
   ]
  },
  {
   "cell_type": "markdown",
   "id": "1e34c789",
   "metadata": {},
   "source": [
    "## LLE (locally linear embedding)\n",
    "또다른 비선형 차원축소 기술이다. 지금까지 다뤄왔던 방법과 달리 투영에 의존하지 않는다. 각 훈련 샘플이 가장 가까운 이웃에 얼마나 선형적으로 연관되어있는지 측정하고 국부적인 관계가 가장 잘 보존되는 훈련세트의 저차원 표현을 찾는다. 이 방법은 잡음이 너무 많지 않은 경우 꼬인 매니폴드를 펼치는데 잘 작동한다."
   ]
  },
  {
   "cell_type": "code",
   "execution_count": 41,
   "id": "1cb0f537",
   "metadata": {},
   "outputs": [],
   "source": [
    "X, t = make_swiss_roll(n_samples=1000, noise=0.2, random_state=41)\n",
    "from sklearn.manifold import LocallyLinearEmbedding\n",
    "\n",
    "lle = LocallyLinearEmbedding(n_components=2, n_neighbors=10, random_state=42)\n",
    "X_reduced = lle.fit_transform(X)"
   ]
  },
  {
   "cell_type": "code",
   "execution_count": 43,
   "id": "e497765f",
   "metadata": {},
   "outputs": [
    {
     "data": {
      "image/png": "[encoded data removed]",
      "text/plain": [
       "<Figure size 432x288 with 1 Axes>"
      ]
     },
     "metadata": {
      "needs_background": "light"
     },
     "output_type": "display_data"
    }
   ],
   "source": [
    "plt.title(\"Unrolled swiss roll using LLE\", fontsize=14)\n",
    "plt.scatter(X_reduced[:, 0], X_reduced[:, 1], c=t, cmap=plt.cm.hot)\n",
    "plt.xlabel(\"$z_1$\", fontsize=18)\n",
    "plt.ylabel(\"$z_2$\", fontsize=18)\n",
    "plt.axis([-0.065, 0.055, -0.1, 0.12])\n",
    "plt.grid(True)\n",
    "\n",
    "\n",
    "plt.show()"
   ]
  },
  {
   "cell_type": "markdown",
   "id": "9d4e862d",
   "metadata": {},
   "source": [
    "왼쪽의 경우 좀 펼쳐져있고 오른쪽으로 갈수록 압축되어있긴 하지만 잘 모델링 된 것을 확인할 수 있다."
   ]
  },
  {
   "cell_type": "code",
   "execution_count": null,
   "id": "9b3c5802",
   "metadata": {},
   "outputs": [],
   "source": []
  }
 ],
 "metadata": {
  "kernelspec": {
   "display_name": "tf_py3.9",
   "language": "python",
   "name": "tf_py3.9"
  },
  "language_info": {
   "codemirror_mode": {
    "name": "ipython",
    "version": 3
   },
   "file_extension": ".py",
   "mimetype": "text/x-python",
   "name": "python",
   "nbconvert_exporter": "python",
   "pygments_lexer": "ipython3",
   "version": "3.9.10"
  }
 },
 "nbformat": 4,
 "nbformat_minor": 5
}
