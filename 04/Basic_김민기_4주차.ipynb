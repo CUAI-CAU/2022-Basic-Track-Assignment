{
 "cells": [
  {
   "cell_type": "markdown",
   "id": "e352be8c",
   "metadata": {},
   "source": [
    "# 4. 모델훈련\n"
   ]
  },
  {
   "cell_type": "markdown",
   "id": "8f752e73",
   "metadata": {},
   "source": [
    "# 4.1 선형회귀"
   ]
  },
  {
   "cell_type": "markdown",
   "id": "c5c52058",
   "metadata": {},
   "source": [
    "- 일반적으로 선형 모델은 입력 특성의 가중치 합과 편향(bias)이라는 상수를 더해서 예측을 만든다.<b_r>\n",
    "- $ \\hat y = \\theta_0 + \\theta_1x_1 + ... + \\theta_nx_n$ <br>\n",
    "--- \n",
    "- 위 식을 벡터 형태로 더 간단하게 표현하면\n",
    "    - $ \\hat y = h_{\\theta}(X)=\\theta \\circ x$<br>\n",
    "    - $\\theta$는 특성 가중치를 담은 모델의 파라미터 벡터<br>\n",
    "    - $x$는 샘플의 특성 벡터이고, $x_0$는 항상 1이다.<br>\n",
    "    "
   ]
  },
  {
   "cell_type": "markdown",
   "id": "4d491b81",
   "metadata": {},
   "source": [
    "## 4.1 정규방정식  \n",
    "- 비용함수를 최소화 하는 $\\theta$값을 찾기위한 해석적인 방법.<br><br>\n",
    "- $\\hat \\theta = (X^TX)^{-1}X^Ty$  \n",
    "    - $\\hat \\theta$는 비용 함수를 최소화하는 $\\theta$값이다.  \n",
    "    - y는 $y^{(1)}$부터 $y^{(m)}$까지 포함하는 타깃 벡터다."
   ]
  },
  {
   "cell_type": "code",
   "execution_count": 13,
   "id": "2e00d1c4",
   "metadata": {},
   "outputs": [
    {
     "data": {
      "image/png": "[encoded data removed]",
      "text/plain": [
       "<Figure size 432x288 with 1 Axes>"
      ]
     },
     "metadata": {
      "needs_background": "light"
     },
     "output_type": "display_data"
    }
   ],
   "source": [
    "import matplotlib.pyplot as plt\n",
    "import numpy as np\n",
    "\n",
    "X = 2 * np.random.rand(100, 1) #0~1 균일분포의 표준정규분포 난수를 100행 1열의 열벡터로 생성\n",
    "y = 4 + 3 * X + np.random.randn(100, 1) #평균0, 표준편차 1인 정규분포의 난수를 100행 1열의 열벡터로 생성\n",
    "plt.plot(X, y, \"b.\")\n",
    "plt.xlabel(\"$x_1$\", fontsize=18)\n",
    "plt.ylabel(\"$y$\", rotation=0, fontsize=18)\n",
    "plt.axis([0, 2, 0, 15])\n",
    "plt.show()"
   ]
  },
  {
   "cell_type": "markdown",
   "id": "7f193935",
   "metadata": {},
   "source": [
    "- 정규방정식을 활용하여 $\\theta$를 계산  \n",
    "    - $\\hat \\theta = (X^TX)^{-1}X^Ty$    "
   ]
  },
  {
   "cell_type": "code",
   "execution_count": 14,
   "id": "72a12da0",
   "metadata": {},
   "outputs": [],
   "source": [
    "X_b = np.c_[np.ones((100, 1)), X]  # 모든 샘플에 x0 = 1을 추가합니다. \n",
    "#np_c[a, b] -> 열방향으로 합친다.([]를 하지 않는다는 것에 주의! -> np.r_[]: 안에 넘파이 배열을 넣을 때 []해줘야 함)\n",
    "theta_best = np.linalg.inv(X_b.T.dot(X_b)).dot(X_b.T).dot(y)\n",
    "#np.linalg.inv는 역행렬을 계산하는 메서드이다.\n",
    "#위의 계산식과 연결지어서 생각해보면 쉽다. dot은 행렬의 곱 연산을 말한다."
   ]
  },
  {
   "cell_type": "code",
   "execution_count": 15,
   "id": "d59634dc",
   "metadata": {},
   "outputs": [
    {
     "data": {
      "text/plain": [
       "array([[4.11526928],\n",
       "       [2.94695893]])"
      ]
     },
     "execution_count": 15,
     "metadata": {},
     "output_type": "execute_result"
    }
   ],
   "source": [
    "theta_best"
   ]
  },
  {
   "cell_type": "markdown",
   "id": "ab0af177",
   "metadata": {},
   "source": [
    " - $\\hat y = X\\hat \\theta$를 사용하여 예측해보기"
   ]
  },
  {
   "cell_type": "code",
   "execution_count": 16,
   "id": "e1be69ef",
   "metadata": {},
   "outputs": [
    {
     "data": {
      "text/plain": [
       "array([[ 4.11526928],\n",
       "       [10.00918714]])"
      ]
     },
     "execution_count": 16,
     "metadata": {},
     "output_type": "execute_result"
    }
   ],
   "source": [
    "X_new = np.array([[0], [2]])\n",
    "X_new_b = np.c_[np.ones((2, 1)), X_new]  # 모든 샘플에 x0 = 1을 추가합니다.\n",
    "y_predict = X_new_b.dot(theta_best)\n",
    "y_predict"
   ]
  },
  {
   "cell_type": "code",
   "execution_count": 17,
   "id": "0f85040d",
   "metadata": {},
   "outputs": [
    {
     "data": {
      "image/png": "[encoded data removed]",
      "text/plain": [
       "<Figure size 432x288 with 1 Axes>"
      ]
     },
     "metadata": {
      "needs_background": "light"
     },
     "output_type": "display_data"
    }
   ],
   "source": [
    "plt.plot(X_new, y_predict, \"r-\")\n",
    "plt.plot(X, y, \"b.\")\n",
    "plt.axis([0, 2, 0, 15])\n",
    "plt.show()\n",
    "#선형회귀모델의 예측"
   ]
  },
  {
   "cell_type": "markdown",
   "id": "6ccb3a2f",
   "metadata": {},
   "source": [
    "### 사이킷런을 이용하여 선형 회귀를 수행"
   ]
  },
  {
   "cell_type": "code",
   "execution_count": 18,
   "id": "4f378e3f",
   "metadata": {},
   "outputs": [
    {
     "data": {
      "text/plain": [
       "(array([4.11526928]), array([[2.94695893]]))"
      ]
     },
     "execution_count": 18,
     "metadata": {},
     "output_type": "execute_result"
    }
   ],
   "source": [
    "from sklearn.linear_model import LinearRegression\n",
    "\n",
    "lin_reg = LinearRegression()\n",
    "lin_reg.fit(X, y)\n",
    "lin_reg.intercept_, lin_reg.coef_"
   ]
  },
  {
   "cell_type": "code",
   "execution_count": 19,
   "id": "027cf5c9",
   "metadata": {},
   "outputs": [
    {
     "data": {
      "text/plain": [
       "array([[ 4.11526928],\n",
       "       [10.00918714]])"
      ]
     },
     "execution_count": 19,
     "metadata": {},
     "output_type": "execute_result"
    }
   ],
   "source": [
    "lin_reg.predict(X_new)"
   ]
  },
  {
   "cell_type": "code",
   "execution_count": 20,
   "id": "43db1659",
   "metadata": {},
   "outputs": [
    {
     "data": {
      "text/plain": [
       "array([[4.11526928],\n",
       "       [2.94695893]])"
      ]
     },
     "execution_count": 20,
     "metadata": {},
     "output_type": "execute_result"
    }
   ],
   "source": [
    "# 싸이파이 lstsq() 함수를 사용하려면 scipy.linalg.lstsq(X_b, y)와 같이 씁니다.\n",
    "theta_best_svd, residuals, rank, s = np.linalg.lstsq(X_b, y, rcond=1e-6)\n",
    "theta_best_svd"
   ]
  },
  {
   "cell_type": "markdown",
   "id": "6a821439",
   "metadata": {},
   "source": [
    "- 위 함수는 X의 유사 역행렬을 계산한다.(무어-펜로즈 역행렬)  \n",
    "- np.linalg.pinv() 함수를 사용해 유사 역행렬을 직접 계산할 수 있다."
   ]
  },
  {
   "cell_type": "code",
   "execution_count": 21,
   "id": "b54e1d6f",
   "metadata": {},
   "outputs": [
    {
     "data": {
      "text/plain": [
       "array([[4.11526928],\n",
       "       [2.94695893]])"
      ]
     },
     "execution_count": 21,
     "metadata": {},
     "output_type": "execute_result"
    }
   ],
   "source": [
    "np.linalg.pinv(X_b).dot(y)"
   ]
  },
  {
   "cell_type": "markdown",
   "id": "897f4e6c",
   "metadata": {},
   "source": [
    "#### 특잇값 분해(singular value decomposition)\n",
    "\n",
    "N×M 크기의 행렬 A를 다음과 같은 3개의 행렬의 곱으로  \n",
    "나타내는 것을 특이분해(singular-decomposition) 또는 **<span style=\"color:blue\">특잇값 분해(singular value decomposition)<span>**라고 한다.\n",
    "\n",
    "- <span style=\"color:red\">A=UΣVT(3.4.1)<span><br>\n",
    "---  \n",
    "    \n",
    "여기에서 U,Σ,V는 다음 조건을 만족해야 한다.<br><br>\n",
    "\n",
    "- 대각성분이 양수인 대각행렬이어야 한다. 큰 수부터 작은 수 순서로 배열한다.\n",
    "                Σ∈RN×M\n",
    "- U는 N차원 정방행렬로 모든 열벡터가 단위벡터이고 서로 직교해야 한다.\n",
    "\n",
    "                 U∈RN×N\n",
    "- V는 M차원 정방행렬로 모든 열벡터가 단위벡터이고 서로 직교해야 한다.\n",
    "\n",
    "                 V∈RM×M \n",
    "    \n",
    "위 조건을 만족하는 행렬 Σ의 대각성분들을 **특잇값(singular value)**  \n",
    "행렬 U의 열벡터들을 **왼쪽 특이벡터(left singular vector)**  \n",
    "행렬 V의 행벡터들을 **오른쪽 특이벡터(right singular vector)**라고 부른다.  \n",
    "--- \n",
    "특이분해는 모든 행렬에 대해 가능하다. 즉 어떤 행렬이 주어지더라도 위와 같이 특이분해할 수 있다."
   ]
  },
  {
   "cell_type": "markdown",
   "id": "b7f93212",
   "metadata": {},
   "source": [
    "#### 유사역행렬을 사용하는 이유가 뭘까\n",
    "- 일반 정규방정식을 계산하는 것보다 훨씬 효율적이다.  \n",
    "- 어떤 특성이 중복되어 $X^TX$의 역행렬이 없다면 정규방정식을 계산할 수 없다. 하지만 유사역행렬은 항상 구할 수 있다."
   ]
  },
  {
   "cell_type": "markdown",
   "id": "c2811596",
   "metadata": {},
   "source": [
    "## 4.1.2 계산 복잡도"
   ]
  },
  {
   "cell_type": "markdown",
   "id": "0d34ed45",
   "metadata": {},
   "source": [
    "- 역행렬을 계산하는 계산 복잡도가, SVD방법보다 더 크다. 즉 역행렬 계산이 더 오래걸린다.\n",
    "- 특성의 수가 많아질수록 시간 차이가 명확해진다.   \n",
    "- 그렇지만 메모리 공간이 허락된다면 큰 훈련 세트도 빠르게 처리가능하다.(예측이 매우 빠름)"
   ]
  },
  {
   "cell_type": "markdown",
   "id": "1741cee7",
   "metadata": {},
   "source": [
    "# 4.2 경사 하강법(gradient descent)"
   ]
  },
  {
   "cell_type": "markdown",
   "id": "359d8ef3",
   "metadata": {},
   "source": [
    "## 4.2.1 배치 경사 하강법"
   ]
  },
  {
   "cell_type": "markdown",
   "id": "82a900be",
   "metadata": {},
   "source": [
    " - 파라미터 $\\theta_j$가 조금 변경될 때 비용함수가 얼마나 바뀌는지를 계산해야한다 => 즉, 비용함수의 편도함수를 계산<br>\n",
    "     - $\\theta_j$에 대한 비용함수의 미분값을 계산해야한다.<br>\n",
    "--- \n",
    "※추가※<br>\n",
    "- gradient vector -> 각 파라미터($\\theta_1 ,,, \\theta_j$)에 대한 비용함수의 편미분 값을 쌓은 벡터를 말한다.<br>\n",
    "---\n",
    "* 매 경사하강법 스텝에서 전체 훈련세트 X에 대해 계산하는데, 이것을 배치 경사 하강법이라고 한다.  \n",
    "* 배치 경사 하강법은 특성 수에 민감하지 않아서, 정규방정식이나 SVD분해보다 선형 회귀 훈련에 용이하다.  \n",
    "--- \n",
    "* 경사 하강법의 스텝\n",
    "    - $\\theta^{(next step)} = \\theta - \\eta \\nabla_\\theta MSE(\\theta)$  \n",
    "    - 아래는 이 알고리즘을 간단하게 구현한 것이다.  \n"
   ]
  },
  {
   "cell_type": "code",
   "execution_count": 22,
   "id": "07258719",
   "metadata": {},
   "outputs": [],
   "source": [
    "eta = 0.1  # 학습률\n",
    "n_iterations = 1000\n",
    "m = 100\n",
    "\n",
    "theta = np.random.randn(2,1)  # 랜덤 초기화\n",
    "\n",
    "for iteration in range(n_iterations):\n",
    "    gradients = 2/m * X_b.T.dot(X_b.dot(theta) - y)\n",
    "    theta = theta - eta * gradients"
   ]
  },
  {
   "cell_type": "code",
   "execution_count": 23,
   "id": "0902a8c0",
   "metadata": {},
   "outputs": [
    {
     "data": {
      "text/plain": [
       "array([[4.11526928],\n",
       "       [2.94695893]])"
      ]
     },
     "execution_count": 23,
     "metadata": {},
     "output_type": "execute_result"
    }
   ],
   "source": [
    "theta #정규방정식으로 찾으 것과 동일하다. "
   ]
  },
  {
   "cell_type": "markdown",
   "id": "00479c22",
   "metadata": {},
   "source": [
    "- 적절한 학습률을 찾기 위해 **그리드 탐색**을 사용한다.  \n",
    "- 그리드 탐색에서 수렴하는데 너무 오래 걸리는 모델을 막기 위해 **반복 횟수를 제한**해야 한다.\n",
    "    - 어떻게 제한?  \n",
    "    => 벡터의 norm이 허용오차($\\epsilon$)보다 작아지면 알고리즘을 중지하는 것이다."
   ]
  },
  {
   "cell_type": "markdown",
   "id": "44f53bd9",
   "metadata": {},
   "source": [
    "## 4.2.2 확률적 경사 하강법\n",
    "- 매 스텝에서 한 개의 샘플을 무작위로 선택하고 그 하나의 샘플에 대한 gradient를 계산한다!  \n",
    "    - 알고리즘이 빨라지고, 매우 큰 훈련세트도 훈련시킬 수 있다."
   ]
  },
  {
   "cell_type": "code",
   "execution_count": 24,
   "id": "f9265cf9",
   "metadata": {},
   "outputs": [],
   "source": [
    "n_epochs = 50\n",
    "t0, t1 = 5, 50  # 학습 스케줄 하이퍼파라미터\n",
    "\n",
    "def learning_schedule(t):\n",
    "    return t0 / (t + t1)\n",
    "\n",
    "theta = np.random.randn(2,1)  # 랜덤 초기화\n",
    "\n",
    "for epoch in range(n_epochs):\n",
    "    for i in range(m):\n",
    "        random_index = np.random.randint(m) #0~ m-1사이의 랜덤한 숫자 1개 뽑아내기\n",
    "        xi = X_b[random_index:random_index+1]\n",
    "        yi = y[random_index:random_index+1]\n",
    "        gradients = 2 * xi.T.dot(xi.dot(theta) - yi)\n",
    "        eta = learning_schedule(epoch * m + i)\n",
    "        theta = theta - eta * gradients #파라미터를 업데이트     "
   ]
  },
  {
   "cell_type": "code",
   "execution_count": 25,
   "id": "b73c3d81",
   "metadata": {},
   "outputs": [
    {
     "data": {
      "text/plain": [
       "array([[4.11079379],\n",
       "       [2.93674852]])"
      ]
     },
     "execution_count": 25,
     "metadata": {},
     "output_type": "execute_result"
    }
   ],
   "source": [
    "theta"
   ]
  },
  {
   "cell_type": "markdown",
   "id": "e75028a6",
   "metadata": {},
   "source": [
    "- SGD의 무작위성(확률성)은 local mininum에서 쉽게 탈출시켜주지만, global minimum에 다다르지 못하게 할 수 있다.  \n",
    "- 그래서 시작할 때 학습률을 크게하고, 반복이 늘어날 때마다 학습률을 줄여서 알고리즘이 global minimum에 다다르게 해야한다.  \n",
    "--- \n",
    "- 여기서 학습 스케쥴(learning schedule)은 학습률을 결정하는 함수를 말한다.  \n",
    "---\n",
    "다음은 사이킷런을 이용한 SGD이다."
   ]
  },
  {
   "cell_type": "code",
   "execution_count": 26,
   "id": "f6a029bc",
   "metadata": {},
   "outputs": [
    {
     "data": {
      "text/plain": [
       "SGDRegressor(eta0=0.1, penalty=None, random_state=42)"
      ]
     },
     "execution_count": 26,
     "metadata": {},
     "output_type": "execute_result"
    }
   ],
   "source": [
    "from sklearn.linear_model import SGDRegressor\n",
    "\n",
    "sgd_reg = SGDRegressor(max_iter=1000, tol=1e-3, penalty=None, eta0=0.1, random_state=42)\n",
    "#SGDRegressor 의 파라미터 loss의 default는 squared error이다. \n",
    "#tol -> stopping criterion을 의미한다. 즉, tol이 None이 아니라면 loss > best_loss - tol 인 경우 멈춘다. \n",
    "#eta -> 학습률의 초기값이다. default = 0.01이다\n",
    "sgd_reg.fit(X, y.ravel())"
   ]
  },
  {
   "cell_type": "code",
   "execution_count": 27,
   "id": "b975c9a8",
   "metadata": {},
   "outputs": [
    {
     "data": {
      "text/plain": [
       "(array([4.15245102]), array([3.00961785]))"
      ]
     },
     "execution_count": 27,
     "metadata": {},
     "output_type": "execute_result"
    }
   ],
   "source": [
    "sgd_reg.intercept_, sgd_reg.coef_"
   ]
  },
  {
   "cell_type": "markdown",
   "id": "65ee4678",
   "metadata": {},
   "source": [
    "## 4.2.3 미니배치 경사 하강법\n",
    "- 미니배치라 부르는 임의의 작은 샘플 세트에 대해 gradient를 계산한다. => GPU를 사용해서 얻는 성능 향상을 도모  \n",
    "- SGD보다 덜 불규칙하게 움직인다.  \n"
   ]
  },
  {
   "attachments": {
    "image.png": {
     "image/png": "[encoded data removed]"
    }
   },
   "cell_type": "markdown",
   "id": "c6d92529",
   "metadata": {},
   "source": [
    "![image.png](attachment:image.png)"
   ]
  },
  {
   "cell_type": "markdown",
   "id": "90f88f62",
   "metadata": {},
   "source": [
    "# 4.3 다항회귀\n",
    "- 각 특성의 거듭제곱을 새로운 특성으로 추가하고, 이 확장된 특성을 포함한 데이터셋에 선형 모델을 훈련  \n",
    "- 즉, 비선형 데이터를 선형 회귀 모델로 추정하는 것이다."
   ]
  },
  {
   "cell_type": "code",
   "execution_count": 28,
   "id": "8f1450d3",
   "metadata": {},
   "outputs": [],
   "source": [
    "import numpy as np\n",
    "import numpy.random as rnd\n",
    "\n",
    "np.random.seed(42)\n",
    "m = 100\n",
    "X = 6 * np.random.rand(m, 1) - 3 # np.random.rand(m, 1) -> 표준정규분포 난수를 m행 1열의 열벡터로 생성\n",
    "y = 0.5 * X**2 + X + 2 + np.random.randn(m, 1) #2차 방정식으로 비선형 데이터 생성"
   ]
  },
  {
   "cell_type": "code",
   "execution_count": 29,
   "id": "77cad69f",
   "metadata": {},
   "outputs": [
    {
     "data": {
      "text/plain": [
       "array([-0.75275929])"
      ]
     },
     "execution_count": 29,
     "metadata": {},
     "output_type": "execute_result"
    }
   ],
   "source": [
    "from sklearn.preprocessing import PolynomialFeatures\n",
    "poly_features = PolynomialFeatures(degree=2, include_bias=False) #degree -> 차수를 조정. 여기서는 2차이므로 degree = 2\n",
    "#include_bias -> 편향을 포함할지(0차 항을 포함할지)결정. 여기서 False이므로 편향은 없음.\n",
    "X_poly = poly_features.fit_transform(X) #fit_transform하여 새로운 특성을 생성\n",
    "X[0]"
   ]
  },
  {
   "cell_type": "code",
   "execution_count": 30,
   "id": "e1c73feb",
   "metadata": {},
   "outputs": [
    {
     "data": {
      "text/plain": [
       "(array([1.78134581]), array([[0.93366893, 0.56456263]]))"
      ]
     },
     "execution_count": 30,
     "metadata": {},
     "output_type": "execute_result"
    }
   ],
   "source": [
    "lin_reg = LinearRegression()\n",
    "lin_reg.fit(X_poly, y)\n",
    "lin_reg.intercept_, lin_reg.coef_"
   ]
  },
  {
   "cell_type": "code",
   "execution_count": 31,
   "id": "ae41ec09",
   "metadata": {},
   "outputs": [
    {
     "data": {
      "image/png": "[encoded data removed]",
      "text/plain": [
       "<Figure size 432x288 with 1 Axes>"
      ]
     },
     "metadata": {
      "needs_background": "light"
     },
     "output_type": "display_data"
    }
   ],
   "source": [
    "X_new=np.linspace(-3, 3, 100).reshape(100, 1)\n",
    "X_new_poly = poly_features.transform(X_new)\n",
    "y_new = lin_reg.predict(X_new_poly)\n",
    "plt.plot(X, y, \"b.\")\n",
    "plt.plot(X_new, y_new, \"r-\", linewidth=2, label=\"Predictions\")\n",
    "plt.xlabel(\"$x_1$\", fontsize=18)\n",
    "plt.ylabel(\"$y$\", rotation=0, fontsize=18)\n",
    "plt.legend(loc=\"upper left\", fontsize=14)\n",
    "plt.axis([-3, 3, 0, 10])\n",
    "plt.show()"
   ]
  },
  {
   "cell_type": "markdown",
   "id": "a8b65381",
   "metadata": {},
   "source": [
    "- 특성이 여러개일 때 다항 회귀는 이 특성 사이의 관계를 찾을 수 있다.  \n",
    "- PolynomialFeatures(degree = d)일 때, 특성이 n개인 배열을 특성이 $(n+d)! \\over d!n!$개인 배열로 변환한다."
   ]
  },
  {
   "cell_type": "markdown",
   "id": "313cedec",
   "metadata": {},
   "source": [
    "# 4.4 학습곡선"
   ]
  },
  {
   "cell_type": "markdown",
   "id": "0f51325e",
   "metadata": {},
   "source": [
    "- 어떤 함수로 데이터가 형성되어있는지 모를 때, 얼마나 고차 다항 회귀를 사용해야 하는지 알 수 있을까?  \n",
    "    - 또는 어떻게 과대적합, 과소적합을 판단할 수 있을까?  \n",
    "    - 교차검증과 학습곡선 이용.\n",
    "--- \n",
    "**학습곡선**을 이용해야한다.  \n",
    "- 이 곡선은 훈련세트와 검증세트의 모델 성능을 훈련세트의 크기(또는 훈련 반복 횟수)의 함수로 나타낸다.  \n",
    "    - 즉, x축이 훈련세트의 크기(또는 훈련 반복 횟수)이고 y축이 모델 성능"
   ]
  },
  {
   "cell_type": "code",
   "execution_count": 36,
   "id": "3a9e2493",
   "metadata": {},
   "outputs": [],
   "source": [
    "from sklearn.metrics import mean_squared_error\n",
    "from sklearn.model_selection import train_test_split\n",
    "\n",
    "def plot_learning_curves(model, X, y):\n",
    "    X_train, X_val, y_train, y_val = train_test_split(X, y, test_size=0.2, random_state=10)\n",
    "    train_errors, val_errors = [], []\n",
    "    for m in range(1, len(X_train) + 1):\n",
    "        model.fit(X_train[:m], y_train[:m])\n",
    "        y_train_predict = model.predict(X_train[:m])\n",
    "        y_val_predict = model.predict(X_val)\n",
    "        train_errors.append(mean_squared_error(y_train[:m], y_train_predict))\n",
    "        val_errors.append(mean_squared_error(y_val, y_val_predict))\n",
    "\n",
    "    plt.plot(np.sqrt(train_errors), \"r-+\", linewidth=2, label=\"train\")\n",
    "    plt.plot(np.sqrt(val_errors), \"b-\", linewidth=3, label=\"val\")\n",
    "    plt.legend(loc=\"upper right\", fontsize=14)   # 범례를 추가(plt.legend)\n",
    "    plt.xlabel(\"Training set size\", fontsize=14)\n",
    "    plt.ylabel(\"RMSE\", fontsize=14) "
   ]
  },
  {
   "cell_type": "code",
   "execution_count": 37,
   "id": "53f41c5a",
   "metadata": {},
   "outputs": [
    {
     "data": {
      "image/png": "[encoded data removed]",
      "text/plain": [
       "<Figure size 432x288 with 1 Axes>"
      ]
     },
     "metadata": {
      "needs_background": "light"
     },
     "output_type": "display_data"
    }
   ],
   "source": [
    "lin_reg = LinearRegression() #선형회귀의 학습곡선 확인\n",
    "plot_learning_curves(lin_reg, X, y)\n",
    "plt.axis([0, 80, 0, 3])                 #x축, y축의 범위 설정\n",
    "plt.show()   "
   ]
  },
  {
   "cell_type": "markdown",
   "id": "402ab62c",
   "metadata": {},
   "source": [
    "- 과소적합 모델의 전형적인 모습이다.\n",
    "    - 훈련 데이터에 비선형 데이터가 합쳐지면서, 데이터를 완벽히 학습하지 못한다.  \n",
    "    - 검증에 대해서도 선형 회귀 모델이 주어진 데이터를 잘 모델링 하지 못하여 오차의 감소가 완만해진다.  "
   ]
  },
  {
   "cell_type": "code",
   "execution_count": 38,
   "id": "86a51339",
   "metadata": {},
   "outputs": [
    {
     "data": {
      "image/png": "[encoded data removed]",
      "text/plain": [
       "<Figure size 432x288 with 1 Axes>"
      ]
     },
     "metadata": {
      "needs_background": "light"
     },
     "output_type": "display_data"
    }
   ],
   "source": [
    "#10차 다항회귀 모델의 학습곡선\n",
    "from sklearn.pipeline import Pipeline\n",
    "\n",
    "polynomial_regression = Pipeline([\n",
    "        (\"poly_features\", PolynomialFeatures(degree=10, include_bias=False)),\n",
    "        (\"lin_reg\", LinearRegression()),\n",
    "    ])\n",
    "\n",
    "plot_learning_curves(polynomial_regression, X, y)\n",
    "plt.axis([0, 80, 0, 3])           #x, y축의 범위 설정\n",
    "plt.show()        "
   ]
  },
  {
   "cell_type": "markdown",
   "id": "322d0b8f",
   "metadata": {},
   "source": [
    "**이전 학습 곡선과의 차이점**  \n",
    "- 훈련 데이터의 오차가 선형 회귀 모델보다 훨씬 낮다.  \n",
    "- 두 곡선 사이의 공간이 존재. -> 훈련 데이터에서의 모델 성능이 훨씬 좋은데 이는 과대적합 모델의 특징이다."
   ]
  },
  {
   "cell_type": "markdown",
   "id": "d7cbe252",
   "metadata": {},
   "source": [
    "# 4.5 규제가 있는 선형 모델"
   ]
  },
  {
   "cell_type": "markdown",
   "id": "a874ccaf",
   "metadata": {},
   "source": [
    "- 과대적합을 해결하는 대표적인 방법: 규제(regularization) \n",
    "    - **다항 회귀 모델**에서는 *다항식의 차수를 줄이는 것*이 규제.  \n",
    "    - **선형 회귀 모델**에서는 *모델의 가중치를 제한하는 것*이 규제.  \n",
    "        - **릿지, 라쏘, 엘라스틱넷**"
   ]
  },
  {
   "cell_type": "markdown",
   "id": "05227eaf",
   "metadata": {},
   "source": [
    "## 4.5.1 릿지 회귀(또는 티호노프 규제)\n",
    " **규제항은 훈련하는 동안에만 비용 함수에 추가**<br><br>\n",
    "- 규제항 $\\alpha \\sum_{i=1}^n \\theta_i^2$를 비용함수에 추가한다.  \n",
    "    - $\\theta_0$인 편향은 규제되지 않는다는 점!  \n",
    "    - 실제로 비용함수에 더해질 때는 $1 \\over 2$가 곱해지는데 이것은 미분 결과를 간단하게 만들기 위해서이다.\n",
    "    - 릿지 회귀는 데이터 스케일에 민감하므로, 수행 전 데이터 스케일을 맞춰야 한다.<br><br>\n",
    "\n",
    "---\n",
    "- $\\alpha$는 하이퍼파라미터로서 모델을 얼마나 많이 규제할지 조절  \n",
    "    - $\\alpha$ = 0 이면 릿지 회귀는 선형 회귀와 같아진다."
   ]
  },
  {
   "attachments": {
    "image.png": {
     "image/png": "[encoded data removed]"
    }
   },
   "cell_type": "markdown",
   "id": "e1e0db55",
   "metadata": {},
   "source": [
    "![image.png](attachment:image.png)"
   ]
  },
  {
   "cell_type": "markdown",
   "id": "a7c7479d",
   "metadata": {},
   "source": [
    "- 왼쪽은 평범한 릿지 모델을 사용하여 선형적 예측.  \n",
    "- 오른쪽은 고차 다항 회귀(10차)를 사용하여 데이터 확장 후 데이터 스케일을 조정하여 릿지 회귀를 적용.\n",
    "---\n",
    "릿지 회귀를 계산하기 위해 정규방정식을 이용하거나 SGD를 이용할 수 있다. "
   ]
  },
  {
   "cell_type": "code",
   "execution_count": 41,
   "id": "8939a4e3",
   "metadata": {},
   "outputs": [
    {
     "data": {
      "text/plain": [
       "array([[4.82497007]])"
      ]
     },
     "execution_count": 41,
     "metadata": {},
     "output_type": "execute_result"
    }
   ],
   "source": [
    "#사이킷런에서 정규방정식을 사용한 릿지 회귀를 적용\n",
    "from sklearn.linear_model import Ridge\n",
    "ridge_reg = Ridge(alpha = 1, solver = \"cholesky\")\n",
    "ridge_reg.fit(X, y)\n",
    "ridge_reg.predict([[1.5]])"
   ]
  },
  {
   "cell_type": "code",
   "execution_count": 42,
   "id": "154f2f76",
   "metadata": {},
   "outputs": [
    {
     "name": "stderr",
     "output_type": "stream",
     "text": [
      "C:\\Users\\Minki\\anaconda3\\lib\\site-packages\\sklearn\\utils\\validation.py:63: DataConversionWarning: A column-vector y was passed when a 1d array was expected. Please change the shape of y to (n_samples, ), for example using ravel().\n",
      "  return f(*args, **kwargs)\n"
     ]
    },
    {
     "data": {
      "text/plain": [
       "array([4.95896976])"
      ]
     },
     "execution_count": 42,
     "metadata": {},
     "output_type": "execute_result"
    }
   ],
   "source": [
    "#사이킷런에서 확률적 경사하강법을 사용한 릿지 회귀를 적용\n",
    "sdg_reg = SGDRegressor(penalty = \"l2\")\n",
    "#penalty 파라미터를 이용해 사용할 규제를 지정(l2 => 가중치 벡터의 l2 norm 제곱을 2로 나눈 규제항 추가) = 릿지회귀\n",
    "sgd_reg.fit(X,y)\n",
    "sgd_reg.predict([[1.5]])"
   ]
  },
  {
   "cell_type": "markdown",
   "id": "0768a5fa",
   "metadata": {},
   "source": [
    "## 4.5.2 라쏘 회귀\n",
    "- 비용 함수에 규제항 $\\alpha \\sum_{i=1}^n |\\theta_i|$를 추가한다.  \n",
    "    - 릿지와 다르게 가중치 벡터의 l1 norm을 사용!\n",
    "--- \n",
    "**중요한 특징**  \n",
    " - 덜 중요한 특성의 가중치를 제거하려고 한다. \n",
    " - 자동으로 특성 선택을 하고 희소 모델을 만든다.(0이 아닌 특성의 가중치가 적다)  \n",
    " - 라쏘의 비용함수는 가중치가 0일때 미분 불가 => subgradient vector($g$)를 사용하여 경사하강법을 적용해야 한다. "
   ]
  },
  {
   "cell_type": "code",
   "execution_count": 43,
   "id": "8e03caca",
   "metadata": {},
   "outputs": [
    {
     "data": {
      "text/plain": [
       "array([4.77621741])"
      ]
     },
     "execution_count": 43,
     "metadata": {},
     "output_type": "execute_result"
    }
   ],
   "source": [
    "#사이킷런을 이용한 Lasso 클래스 적용\n",
    "from sklearn.linear_model import Lasso\n",
    "lasso_reg = Lasso(alpha=0.1)\n",
    "lasso_reg.fit(X, y)\n",
    "lasso_reg.predict([[1.5]])\n",
    "#Lasso 클래스 대신에 SGDRegressor(penalty = \"l1\")을 이용할 수 있다."
   ]
  },
  {
   "cell_type": "markdown",
   "id": "df7e5acd",
   "metadata": {},
   "source": [
    "## 4.5.3 엘라스틱넷\n",
    "- 리짓과 라쏘를 혼합\n",
    "- 규제항: $r\\alpha \\sum_{i=1}^n |\\theta_i| + {1-r \\over 2}\\alpha \\sum_{i=1}^n \\theta_i^2$  \n",
    "    - $r = 0$이면 릿지 회귀와 같고, $r = 1$이면 라쏘 회귀와 같다."
   ]
  },
  {
   "cell_type": "code",
   "execution_count": 44,
   "id": "6b8c6751",
   "metadata": {},
   "outputs": [
    {
     "data": {
      "text/plain": [
       "array([4.78114505])"
      ]
     },
     "execution_count": 44,
     "metadata": {},
     "output_type": "execute_result"
    }
   ],
   "source": [
    "#사이킷런의 ElasticNet을 사용한 예제\n",
    "from sklearn.linear_model import ElasticNet\n",
    "elastic_net = ElasticNet(alpha=0.1, l1_ratio=0.5, random_state=42)\n",
    "elastic_net.fit(X, y)\n",
    "elastic_net.predict([[1.5]])"
   ]
  },
  {
   "cell_type": "markdown",
   "id": "78be81fe",
   "metadata": {},
   "source": [
    "## 4.5.4 조기종료\n",
    "- 검증 에러가 최솟값에 도달하면 바로 훈련을 중지시키는 것이다.  \n",
    "    - 줄어들었던 에러가 다시 늘어난다? -> 과대적합이 시작된다  \n",
    "    - 늘어나기 전 최솟값에서 멈춰버려  "
   ]
  },
  {
   "cell_type": "code",
   "execution_count": 46,
   "id": "15eb438f",
   "metadata": {},
   "outputs": [],
   "source": [
    "np.random.seed(42)\n",
    "m = 100\n",
    "X = 6 * np.random.rand(m, 1) - 3\n",
    "y = 2 + X + 0.5 * X**2 + np.random.randn(m, 1)\n",
    "\n",
    "X_train, X_val, y_train, y_val = train_test_split(X[:50], y[:50].ravel(), test_size=0.5, random_state=10)\n",
    "\n",
    "from copy import deepcopy #깊은 복사를 말한다. \n",
    "#deepcopy -> 새로운 복합 객체를 만들고,재귀적으로 원본 객체의 사본을 새로 만든 복합 객체에 삽입.\n",
    "#모든것을 복사하기 때문에 시간이 오래걸릴 수 있다. \n",
    "#깊은 복사는 list, set, dictionary와 같은 mutable 한 객체에만 적용하는게 좋다.\n",
    "#완전 다른 메모리를 할당하기 때문에, 원본을 유지함과 동시에 참조가 변할 일이 없다. \n",
    "\n",
    "\n",
    "poly_scaler = Pipeline([\n",
    "        (\"poly_features\", PolynomialFeatures(degree=90, include_bias=False)), #다항 선형 회귀, 편향은 포함하지 않는다.\n",
    "        (\"std_scaler\", StandardScaler()) #데이터의 스케일을 맞춰준다.\n",
    "    ])\n",
    "\n",
    "X_train_poly_scaled = poly_scaler.fit_transform(X_train) #poly_scaler 파이프라인을 통과한, 새롭게 스케일 된 훈련 데이터\n",
    "X_val_poly_scaled = poly_scaler.transform(X_val) #새롭게 스케일된 검증 데이터\n",
    "\n",
    "sgd_reg = SGDRegressor(max_iter=1, tol=-np.infty, warm_start=True,\n",
    "                       penalty=None, learning_rate=\"constant\", eta0=0.0005, random_state=42) #규제가 없음, 초기 학습률 = 0.0005\n",
    "#warm_start는 불리안 값을 받는다. True -> 초깃갑 설정을 위해 이전 solution을 이용한다.\n",
    "\n",
    "minimum_val_error = float(\"inf\") #양의 무한대\n",
    "best_epoch = None\n",
    "best_model = None\n",
    "for epoch in range(1000):\n",
    "    sgd_reg.fit(X_train_poly_scaled, y_train)  # 훈련을 이어서 진행한다.\n",
    "    y_val_predict = sgd_reg.predict(X_val_poly_scaled)\n",
    "    val_error = mean_squared_error(y_val, y_val_predict) #MSE를 이용.\n",
    "    if val_error < minimum_val_error: #이 부분은 잘 이해가 안감,,?\n",
    "        minimum_val_error = val_error\n",
    "        best_epoch = epoch\n",
    "        best_model = deepcopy(sgd_reg) #깊은 복사로 best model을 생성"
   ]
  },
  {
   "cell_type": "markdown",
   "id": "3d49a59c",
   "metadata": {},
   "source": [
    "# 4.6 로지스틱 회귀\n",
    "- 로지스틱 회귀는 샘플이 특정 클래스에 속할 확률을 추정  \n",
    "    - 레이블이 1인 양성 클래스와 레이블이 0인 음성 클래스.(이항 분류)"
   ]
  },
  {
   "cell_type": "markdown",
   "id": "2c5d61a6",
   "metadata": {},
   "source": [
    "## 4.6.1 확률 추정\n",
    "- 로지스틱은 0과 1사이의 값을 출력하는 시그모이드 함수(S자 형태)\n",
    "    - $\\sigma(t) = {1 \\over 1+exp(-t)}$"
   ]
  },
  {
   "cell_type": "markdown",
   "id": "8692847d",
   "metadata": {},
   "source": [
    "## 4.6.2 훈련과 비용 함수"
   ]
  },
  {
   "cell_type": "markdown",
   "id": "faefb1be",
   "metadata": {},
   "source": [
    "## 4.6.3 결정 경계"
   ]
  },
  {
   "cell_type": "code",
   "execution_count": 47,
   "id": "e3e470fc",
   "metadata": {},
   "outputs": [
    {
     "data": {
      "text/plain": [
       "['data',\n",
       " 'target',\n",
       " 'frame',\n",
       " 'target_names',\n",
       " 'DESCR',\n",
       " 'feature_names',\n",
       " 'filename']"
      ]
     },
     "execution_count": 47,
     "metadata": {},
     "output_type": "execute_result"
    }
   ],
   "source": [
    "from sklearn import datasets\n",
    "iris = datasets.load_iris()\n",
    "list(iris.keys())"
   ]
  },
  {
   "cell_type": "code",
   "execution_count": 48,
   "id": "5617b76f",
   "metadata": {},
   "outputs": [],
   "source": [
    "X = iris[\"data\"][:, 3:]  # 꽃잎 너비\n",
    "y = (iris[\"target\"] == 2).astype(int)  # Iris virginica이면 1 아니면 0"
   ]
  },
  {
   "cell_type": "code",
   "execution_count": 49,
   "id": "3b4e4dbe",
   "metadata": {},
   "outputs": [
    {
     "data": {
      "text/plain": [
       "LogisticRegression(random_state=42)"
      ]
     },
     "execution_count": 49,
     "metadata": {},
     "output_type": "execute_result"
    }
   ],
   "source": [
    "#로지스틱 회귀 모델을 훈련\n",
    "from sklearn.linear_model import LogisticRegression\n",
    "log_reg = LogisticRegression(solver=\"lbfgs\", random_state=42)\n",
    "#solver 파라미터는 어떤 optimizer를 사용할 것인가에 대한 파라미터이다.\n",
    "#어떤 solver를 선택할지는 데이터셋과, 규제항을 고려해야한다. \n",
    "log_reg.fit(X, y)"
   ]
  },
  {
   "cell_type": "code",
   "execution_count": 50,
   "id": "93e95a6f",
   "metadata": {},
   "outputs": [
    {
     "data": {
      "text/plain": [
       "[<matplotlib.lines.Line2D at 0x18051ea7af0>]"
      ]
     },
     "execution_count": 50,
     "metadata": {},
     "output_type": "execute_result"
    },
    {
     "data": {
      "image/png": "[encoded data removed]",
      "text/plain": [
       "<Figure size 432x288 with 1 Axes>"
      ]
     },
     "metadata": {
      "needs_background": "light"
     },
     "output_type": "display_data"
    }
   ],
   "source": [
    "X_new = np.linspace(0, 3, 1000).reshape(-1, 1) #reshape -> 2번째 차원을 1로 하고 나머지는 알아서. 즉 열벡터가 된다. \n",
    "#np.linspace(start, stop, num, endpoint, repstep) -> start는 시작점, stop은 끝, num은 갯수. num의 default = 50이다. \n",
    "    # endpoint는 불리안 값을 받으며 마지막 stop을 포함할지 여부를 결정한다.(defualt = True)\n",
    "    # repstep은 불리안 값을 받으며 수열의 간격을 출력한다(default = False)\n",
    "y_proba = log_reg.predict_proba(X_new)\n",
    "\n",
    "plt.plot(X_new, y_proba[:, 1], \"g-\", linewidth=2, label=\"Iris virginica\")\n",
    "plt.plot(X_new, y_proba[:, 0], \"b--\", linewidth=2, label=\"Not Iris virginica\")"
   ]
  },
  {
   "cell_type": "code",
   "execution_count": 51,
   "id": "c7b8d7f2",
   "metadata": {},
   "outputs": [
    {
     "data": {
      "text/plain": [
       "array([1, 0])"
      ]
     },
     "execution_count": 51,
     "metadata": {},
     "output_type": "execute_result"
    }
   ],
   "source": [
    "log_reg.predict([[1.7], [1.5]])\n",
    "#로지스틱 회귀 모델도 페널티 적용 가능(l1, l2)"
   ]
  },
  {
   "cell_type": "markdown",
   "id": "36e0d6df",
   "metadata": {},
   "source": [
    "## 4.6.4 소프트맥스 회귀\n",
    "- 다항 로지스틱 회귀라고도 한다.  \n",
    "- 각 클래스는 자신만의 파라미터 벡터가 있고, 이 벡터들을 파라미터 행렬에 행으로 저장한다.  \n",
    "- 각 클랫의 점수를 소프트맥스 함수에 통과시켜 클래스에 속할 확률을 추정한다.   \n",
    "---   \n",
    "**주의**  \n",
    "    - 소프트맥스 회귀 분류기는 한번에 하나의 클래스만 예측한다. -> 다중 클래스지 다중 출력이 아님!  <br>\n",
    "    - 그래서 상호 배타적인 클래스에서만 사용해야 한다."
   ]
  },
  {
   "cell_type": "code",
   "execution_count": 52,
   "id": "9eeeb8ee",
   "metadata": {},
   "outputs": [
    {
     "data": {
      "text/plain": [
       "LogisticRegression(C=10, multi_class='multinomial', random_state=42)"
      ]
     },
     "execution_count": 52,
     "metadata": {},
     "output_type": "execute_result"
    }
   ],
   "source": [
    "X = iris[\"data\"][:, (2, 3)]  # 꽃잎 길이, 꽃잎 너비\n",
    "y = iris[\"target\"]\n",
    "\n",
    "softmax_reg = LogisticRegression(multi_class=\"multinomial\",solver=\"lbfgs\", C=10, random_state=42)\n",
    "#mult_class 매개변수를 \"multinominal\"로 바꾸면 소프트맥스 회귀 사용 가능.\n",
    "softmax_reg.fit(X, y)"
   ]
  },
  {
   "cell_type": "code",
   "execution_count": 53,
   "id": "ba1fed52",
   "metadata": {},
   "outputs": [
    {
     "data": {
      "text/plain": [
       "array([2])"
      ]
     },
     "execution_count": 53,
     "metadata": {},
     "output_type": "execute_result"
    }
   ],
   "source": [
    "softmax_reg.predict([[5, 2]])"
   ]
  },
  {
   "cell_type": "code",
   "execution_count": 54,
   "id": "d371e43d",
   "metadata": {},
   "outputs": [
    {
     "data": {
      "text/plain": [
       "array([[6.38014896e-07, 5.74929995e-02, 9.42506362e-01]])"
      ]
     },
     "execution_count": 54,
     "metadata": {},
     "output_type": "execute_result"
    }
   ],
   "source": [
    "softmax_reg.predict_proba([[5, 2]])"
   ]
  }
 ],
 "metadata": {
  "kernelspec": {
   "display_name": "Python 3 (ipykernel)",
   "language": "python",
   "name": "python3"
  },
  "language_info": {
   "codemirror_mode": {
    "name": "ipython",
    "version": 3
   },
   "file_extension": ".py",
   "mimetype": "text/x-python",
   "name": "python",
   "nbconvert_exporter": "python",
   "pygments_lexer": "ipython3",
   "version": "3.9.7"
  }
 },
 "nbformat": 4,
 "nbformat_minor": 5
}
